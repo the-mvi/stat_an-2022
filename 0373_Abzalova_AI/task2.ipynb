{
 "cells": [
  {
   "cell_type": "markdown",
   "id": "fb26c50a",
   "metadata": {},
   "source": [
    "# Практическая работа №2: Корреляционный и регрессионный анализ\n",
    "Выполнила студентка гр. 0373 Абзалова Адель. Вариант №1"
   ]
  },
  {
   "cell_type": "markdown",
   "id": "a1f7368f",
   "metadata": {},
   "source": [
    "## Цель работы\n",
    "Освоение основных понятий, связанных с корреляционной зависимостью между случайными величинами, статистическими гипотезами и проверкой их «справедливости». Ознакомление с основными положениями метода наименьших квадратов (МНК), со статистическими свойствами МНК оценок, с понятием функции регрессии и роли МНК в регрессионном анализе, с корреляционным отношением, как мерой тесноты произвольной (в том числе и линейной) корреляционной связи."
   ]
  },
  {
   "cell_type": "markdown",
   "id": "d9be4a4f",
   "metadata": {},
   "source": [
    "## Основные теоретические положения\n",
    "Интервальный вариационный ряд - весь промежуток измерения значений выборки разбивают на частичные интервалы <br>\n",
    "Абсолютная частота $n_{i}$ является целым числом и показывает, сколько раз данное значение повторяется в выборке. <br>\n",
    "<i>Относительная частота $p_{i}$ </i>– это отношение абсолютной частоты к размеру выборки <br>\n",
    "Кумулятивная (накопленная) частота – сумма частот всех категорий, предшествующих определенной категории, включая ее. <br>\n",
    "<i>Формула Стерджесса:</i>$k=1+lbn$\n",
    "<i>Длина интервала h:</i> $h=\\frac{R}{k}$ , где R - размах выборки $R=x_{max}-x_{min}$ <br>\n",
    "Условными называют варианты, определяемые равенством: $u_{i}=\\frac{x_{i}-C}{h}$, где С — ложный нуль,h — шаг. <br>\n",
    "<i>Мода</i> – это то значение в анализируемой совокупности данных, которое встречается чаще других, поэтому нужно посмотреть на частоты значений и отыскать максимальное из них.\n",
    "Немного сложнее с интервальными данными, когда вместо конкретных значений имеются интервалы. В этом случае говорят о модальном интервале, то есть интервале, частота которого максимальна относительно других интервалов. Однако и здесь можно отыскать конкретное модальное значение, хотя оно будет условным и примерным, так как нет точных исходных данных.\n",
    "$M_{o}=x_{k}+\\frac{n_{k}-n_{k-1}}{2n_{k}-n_{k-1}-n_{k+1}}h$,\n",
    "\n",
    "где $x_{k}$ -нижняя граница модального интервала, $n_{k}$ -частота модального интервала, $n_{k-1}$ -частота,соответствующая предыдущему частичному интервалу, $n_{k+1}$ -частота, соответствующая следующему частичному интервалу, h- шаг\n",
    "\n",
    "<i>Медиана интервального ряда</i> – это число, прринадлежащее частичному интервалу, для которого накопленная частота составляет половину или больше половины всей суммы частот, а предыдущая накопленная частота меньше половины всей суммы частот.\n",
    "\n",
    "$M_{e}=x_{k}+\\frac{0,5n-n_{k-1}}{n_{M_{e}}}h_{M_{e}}$,\n",
    "\n",
    "где $x_{k}$-нижняя граница медианного интервала, $h_{M_{e}}$- ширина медианного интервала, $n_{k-1}$- накопленная частота интервала, предшествующего медианному, $n_{M_{e}}$- частота медианного интервала\n",
    "\n",
    "<i>Коэффициент вариации</i>, также известный как относительное стандартное отклонение — это стандартная мера дисперсии распределения вероятностей или частотного распределения. Она часто выражается в процентах и определяется как отношение стандартного отклонения к среднему.\n",
    "\n",
    "$V_{в}=\\frac{\\sigma_{в}}{\\bar{x_{в}}}100\\% $ <br>\n",
    "Коэффициент корреляции (r) характеризует величину отражающую степень взаимосвязи двух переменных между собой. Он может варьировать в пределах от -1 (отрицательная корреляция) до +1 (положительная корреляция). Если коэффициент корреляции равен 0 то, это говорит об отсутствии корреляционных связей между переменными.<br>\n",
    "$r_{v}=\\frac{\\frac{1}{n}\\sum_{i=1}^{k}\\sum_{j=1}^{k}{n_{uv}u_{i}v_{j}-\\bar{u}\\bar{v}}}{\\sigma_{u}\\sigma_{v}}$ <br>\n",
    "Построение доверительного интервала для оценки выборочного коэффициента корреляции: <br>\n",
    "Преобразование Фишера: z=arth $r_{v}$ <br>\n",
    "Доверительный интервал для случайной величины z: <br>\n",
    "$(z-\\frac{t}{\\sqrt{n-3}};z+\\frac{t}{\\sqrt{n-3}}) $ <br>\n",
    "где t:Ф(t)=$\\gamma$/2 <br>\n",
    "Для построения доверительного интервала необходимо сделать обратное преобразование: <br>\n",
    "(th $z_{l}$; th $z_{u}$) <br>\n",
    "Проверка статистической гипотезы о равенстве коэффициента корреляции нулю при заданном уровне значимости 𝛼: <br>\n",
    "1) Нулевая гипотеза $H_{0}$: $r_{g}=0$ <br>\n",
    "2) Альтернативная гипотеза $H_{1}$: $r_{g}!=0$ <br>\n",
    "$T_{obs}=r_{g}\\frac{\\sqrt{n-2}}{\\sqrt{1-r_{g}^{2}}}$ <br>\n",
    "$T_{crit}=t(\\alpha,df)$, df=n-2 <br>\n",
    "Область принятия гипотезы: $|T_{obs}|<T_{crit}$ <br>\n",
    "Уравнение регрессии: <br>\n",
    "$\\bar{y_{x}}-\\bar{y}=r_{yx}\\frac{\\sigma_{y}}{\\sigma_{x}}(x-\\bar{x})$ <br>\n",
    "$\\bar{x_{y}}-\\bar{x}=r_{xy}\\frac{\\sigma_{x}}{\\sigma_{y}}(y-\\bar{y})$ <br>\n",
    "Корреляционное отношение определяется через отношение межгрупповой дисперсии (или СКО) к общей дисперсии (СКО): <br>\n",
    "$\\eta_{yx}=\\frac{\\sigma_{inter}}{\\sigma_{com}}=\\frac{\\sigma_{\\bar{y}x}}{\\sigma_{y}}$ <br>\n",
    "где $\\sigma_{\\bar{y}x}=\\sqrt{\\sigma_{inter}^{2}}=\\sqrt{\\frac{\\sum{n_{x}(\\bar{y_{x}}-\\bar{y})^{2}}}{n}}$ <br>\n",
    "$\\sigma_{y}=\\sqrt{\\sigma_{com}^{2}}=\\sqrt{(\\sum{n_{y}}(y-\\bar{y})^{2})/n}$ <br>\n",
    "Параболическая регрессионная модель: <br>\n",
    "$y=\\beta_{0}+\\beta_{1}x+\\beta_{2}x^{2}$ <br>\n",
    "Степенная функция: $y=\\beta_{0}x^{\\beta^{1}}$ <br>\n",
    "$ln y=ln \\beta_{0} + \\beta_{1} ln x$ <br> \n",
    "Сделаем замену: <br>\n",
    "$Y=\\alpha+\\beta X , Y=ln y; \\alpha=ln \\beta_{0}; X=ln x; \\beta=\\beta_{1}$ <br>\n",
    "Обратная замена: <br>\n",
    "$\\beta_{0}=\\exp^{\\alpha}, \\beta_{1}=\\beta$ <br> \n",
    "Показатели качества регрессии: <br>\n",
    "Дисперсия результативного признака:\n",
    "$(\\delta^{*}_{y})^{2}=\\frac{1}{n}\\sum^{n}_{i=1}(y_{x_{i}}-\\bar{y})^{2}$ <br>\n",
    "Теоретический коэффициент детерминации: \n",
    "$R_{y}^{2}=(\\delta^{*}_{y})^{2}/\\sigma^{2}_{y}$ <br>\n",
    "Средняя квадратическая ошибка: \n",
    "$S_{\\epsilon_{y}}=\\sqrt{\\frac{1}{n-l}\\sum_{i=1}^{n}\\epsilon^{2}_{y_{i}}}$ <br>\n",
    "Средняя ошибка аппроксимации\n",
    "$A_{y}=\\frac{1}{n}\\sum^{n}_{i=1}|\\frac{\\epsilon_{y_{i}}}{y_{i}}|$"
   ]
  },
  {
   "cell_type": "markdown",
   "id": "b2caab1c",
   "metadata": {},
   "source": [
    "## Постановка задачи\n",
    "Из заданной генеральной совокупности сформировать выборку по второму признаку. Для системы двух случайных величин 𝑋 (первый признак) и 𝑌 (второй признак) сформировать двумерную выборку и найти статистическую оценку коэффициента корреляции, построить доверительный интервал для коэффициента корреляции и осуществить проверку статистической гипотезы о равенстве коэффициента корреляции нулю. Построить уравнения выборочных прямых среднеквадратической регрессии. Полученные линейные функции регрессии отобразить графически. Найти выборочное корреляционное отношение. Оценить адекватность моделей. Полученные результаты содержательно проинтерпретировать."
   ]
  },
  {
   "cell_type": "markdown",
   "id": "5136e763",
   "metadata": {},
   "source": [
    "## Выполнение работы"
   ]
  },
  {
   "cell_type": "markdown",
   "id": "0feb9342",
   "metadata": {},
   "source": [
    "1.Провести статистическую обработку второй выборки в объеме практической работы No1 с целью определения точечных статистических оценок параметров распределения исследуемого признака (математического ожидания, дисперсии, среднеквадратичного отклонения, асимметрии, эксцесса, моды, медианы и коэффициента вариации).Оформить результаты в виде таблиц (см. ниже), сделать выводы"
   ]
  },
  {
   "cell_type": "code",
   "execution_count": 87,
   "id": "ca921646",
   "metadata": {},
   "outputs": [],
   "source": [
    "import math\n",
    "import pandas as pd\n",
    "from prettytable import PrettyTable\n",
    "import math\n",
    "import scipy\n",
    "from scipy import stats\n",
    "import matplotlib.pyplot as plt"
   ]
  },
  {
   "cell_type": "code",
   "execution_count": 172,
   "id": "da51d731",
   "metadata": {},
   "outputs": [
    {
     "name": "stdout",
     "output_type": "stream",
     "text": [
      "+-----+--------------+--------+-----+----------------------+---------------+---------------+\n",
      "|  i  | x(i-1), x(i) | x_mean | n_i |         p_i          | n_accumulated | p_accumulated |\n",
      "+-----+--------------+--------+-----+----------------------+---------------+---------------+\n",
      "|  1  |    [0-34]    |  17.0  |  85 |  0.7391304347826086  |       85      |     0.739     |\n",
      "|  2  |   (34-68]    |  51.0  |  17 | 0.14782608695652175  |      102      |     0.887     |\n",
      "|  3  |   (68-102]   |  85.0  |  5  | 0.043478260869565216 |      107      |      0.93     |\n",
      "|  4  |  (102-136]   | 119.0  |  1  | 0.008695652173913044 |      108      |     0.939     |\n",
      "|  5  |  (136-170]   | 153.0  |  4  | 0.034782608695652174 |      112      |     0.974     |\n",
      "|  6  |  (170-204]   | 187.0  |  1  | 0.008695652173913044 |      113      |     0.983     |\n",
      "|  7  |  (204-238]   | 221.0  |  0  |         0.0          |      113      |     0.983     |\n",
      "|  8  |  (238-272]   | 255.0  |  2  | 0.017391304347826087 |      115      |      1.0      |\n",
      "| sum |              |        | 115 |         1.0          |               |               |\n",
      "+-----+--------------+--------+-----+----------------------+---------------+---------------+\n",
      "+-----+--------------------+-----------+-----+----------------------+---------------+---------------+\n",
      "|  i  |    y(i-1), y(i)    |   y_mean  | n_i |         p_i          | n_accumulated | p_accumulated |\n",
      "+-----+--------------------+-----------+-----+----------------------+---------------+---------------+\n",
      "|  1  |    [1-240.875]     |  120.9375 |  95 |  0.8260869565217391  |       95      |     0.826     |\n",
      "|  2  |  (240.875-480.75]  |  360.8125 |  12 | 0.10434782608695652  |      107      |      0.93     |\n",
      "|  3  |  (480.75-720.625]  |  600.6875 |  3  | 0.02608695652173913  |      110      |     0.956     |\n",
      "|  4  |  (720.625-960.5]   |  840.5625 |  3  | 0.02608695652173913  |      113      |     0.982     |\n",
      "|  5  |  (960.5-1200.375]  | 1080.4375 |  1  | 0.008695652173913044 |      114      |     0.991     |\n",
      "|  6  | (1200.375-1440.25] | 1320.3125 |  0  |         0.0          |      114      |     0.991     |\n",
      "|  7  | (1440.25-1680.125] | 1560.1875 |  0  |         0.0          |      114      |     0.991     |\n",
      "|  8  | (1680.125-1920.0]  | 1800.0625 |  1  | 0.008695652173913044 |      115      |      1.0      |\n",
      "| sum |                    |           | 115 |         1.0          |               |               |\n",
      "+-----+--------------------+-----------+-----+----------------------+---------------+---------------+\n"
     ]
    }
   ],
   "source": [
    "sample2=([88,152,89,65,79,278,53,91,77,271,23,8,709,60,141,8,210,271,30,111,102,55,44,526,62,5,2,380,132,105,192,31,9,40,65,807,127,86,76,17,9,33,12,80,2,62,60,33,30,81,50,1,64,5,165,32,5,93,62,311,477,104,41,70,5,138,372,177,84,24,251,167,28,28,811,82,122,56,180,28,65,91,84,144,121,36,48,202,48,356,26,1130,48,28,1920,933,168,136,310,190,12,136,4,107,242,80,51,671,138,31,57,378,97,31,51])\n",
    "sample=([14,50,13,10,12,70,6,22,12,72,6,0,153,22,55,3,45,60,1,36,9,3,5,97,18,0,0,79,15,24,37,1,1,11,37,254,33,33,32,6,1,11,3,4,0,3,4,7,2,12,8,0,14,0,10,9,1,23,12,66,118,24,14,17,1,38,74,62,14,3,60,55,0,3,142,9,14,4,25,4,10,28,10,33,26,5,10,56,10,50,5,149,4,3,272,190,30,21,64,28,2,13,1,21,47,9,11,159,21,8,4,61,17,7,5])\n",
    "def interval_ser(sample,var):\n",
    "    sorted_sample=sorted(sample)\n",
    "    k=math.ceil(1+math.log(len(sample),2))\n",
    "    R=max(sample)-min(sample)\n",
    "    h=R/k\n",
    "    intervals={}\n",
    "    mean=[]\n",
    "    interv_bound=[]\n",
    "    i=min(sample)\n",
    "    while i<max(sample):\n",
    "        sum=0\n",
    "        for j in sorted_sample:\n",
    "            if(i==min(sample) and j==min(sample)): \n",
    "                    sum+=1\n",
    "            if  (j>i and j<=i+h):   #считается сколько раз значения выборки встречаются в каждом интервале \n",
    "                sum+=1\n",
    "        if var=='x':\n",
    "            i=round(i)\n",
    "            h=round(h)\n",
    "        if i==min(sample):\n",
    "            interv_bound.append(i)\n",
    "            interv_bound.append(i+h)\n",
    "            intervals[f'[{i}-{i+h}]']=sum\n",
    "        else:\n",
    "            intervals[f'({i}-{i+h}]']=sum\n",
    "            interv_bound.append(i+h)\n",
    "        mean.append((i+h+i)/2)  #считается среднее значение в каждом интервале\n",
    "        i+=h\n",
    "    interval_series=pd.DataFrame({'intervals':intervals.keys(),'var_mean':mean,'n_i':intervals.values()})\n",
    "    sum_n=0\n",
    "    n_accumulated=[]\n",
    "    p=interval_series['n_i']/len(sample)\n",
    "    for i in interval_series['n_i']:\n",
    "        sum_n+=i\n",
    "        n_accumulated.append(sum_n) #вычисление накопленных абсолютных частот\n",
    "    p_accumulated=[]\n",
    "    sum_p=0\n",
    "    i=0\n",
    "    for i in p:\n",
    "        sum_p+=i\n",
    "        sum_p=round(sum_p,3)\n",
    "        p_accumulated.append(sum_p)  #вычисление накопленных относительных частот\n",
    "    #построение таблицы\n",
    "    mytable = PrettyTable()\n",
    "#добавление в таблицу значений по колонкам\n",
    "    mytable.add_column('i',[1,2,3,4,5,6,7,8])\n",
    "    mytable.add_column(f'{var}(i-1), {var}(i)',interval_series['intervals'])\n",
    "    mytable.add_column(f'{var}_mean',interval_series['var_mean'])\n",
    "    mytable.add_column('n_i',interval_series['n_i'])\n",
    "    mytable.add_column('p_i',p)\n",
    "    mytable.add_column('n_accumulated',n_accumulated)\n",
    "    mytable.add_column('p_accumulated',p_accumulated)\n",
    "#добавление в таблицу строчки с суммами\n",
    "    mytable.add_row(['sum','','',sum_n,sum_p,'',''])\n",
    "    print(mytable)\n",
    "    return interv_bound, list(intervals.keys()),mean\n",
    "#interval_series['intervals']\n",
    "X,intervals_x, x_mean=interval_ser(sample,'x')\n",
    "Y,intervals_y, y_mean=interval_ser(sample2,'y')\n"
   ]
  },
  {
   "cell_type": "markdown",
   "id": "220049b4",
   "metadata": {},
   "source": [
    "| Характеристика | $\\bar{y_{в}}$ | $\\sigma^{2}_{y}$ | $\\sigma_{y}$ | $s^{2}_{y}$ | $s_{y}$ | $a_{s}^{*}$ | $\\epsilon^{*}_{k}$|$M_{o}^{*}$ | $M_{e}^{*}$ | $V^{*}$ |\n",
    "|----------------|----|---------|-----|---------|-----|----|------|----|-------|-------|\n",
    "| Значение       | 200.2  | 51757.73 | 227.5  | 52211.75 | 228.5| 4.25 | 22.14   | 129.02  | 146.19      | 113.64  |"
   ]
  },
  {
   "cell_type": "markdown",
   "id": "eeb7d18e",
   "metadata": {},
   "source": [
    "наибольшая частота у первого интервала, в нем же и находятся мода и медиана.\n",
    "коэффициент вариации большой, большой разброс исследуемых значений"
   ]
  },
  {
   "cell_type": "markdown",
   "id": "2b4970a4",
   "metadata": {},
   "source": [
    "2.Построить двумерный интервальный вариационный ряд, оформить в виде таблицы:"
   ]
  },
  {
   "cell_type": "code",
   "execution_count": 173,
   "id": "ac6e43a1",
   "metadata": {},
   "outputs": [],
   "source": [
    "import numpy as np\n",
    "two_dem_freq=np.zeros([8,8], int)\n",
    "n_x=np.zeros(8,int)\n",
    "n_y=np.zeros(8, int)\n",
    "for i in range(len(sample)):\n",
    "    for j in range(len(X)-1):\n",
    "        for k in range(len(Y)-1):\n",
    "            if ((sample[i]>X[j] and sample[i]<=X[j+1] or (j==0 and sample[i]==X[j])) and (sample2[i]>Y[k] and sample2[i]<=Y[k+1] or (k==0 and sample2[i]==Y[k]))):\n",
    "                two_dem_freq[k][j]+=1\n",
    "                n_x[j]+=1\n",
    "                n_y[k]+=1"
   ]
  },
  {
   "cell_type": "code",
   "execution_count": 174,
   "id": "4369a084",
   "metadata": {},
   "outputs": [
    {
     "name": "stdout",
     "output_type": "stream",
     "text": [
      "+--------------------+--------+---------+----------+-----------+-----------+-----------+-----------+-----------+-------+\n",
      "|        Y/X         | [0-34] | (34-68] | (68-102] | (102-136] | (136-170] | (170-204] | (204-238] | (238-272] |  n_y  |\n",
      "+--------------------+--------+---------+----------+-----------+-----------+-----------+-----------+-----------+-------+\n",
      "|    [1-240.875]     |   85   |    10   |    0     |     0     |     0     |     0     |     0     |     0     |   95  |\n",
      "|  (240.875-480.75]  |   0    |    7    |    4     |     1     |     0     |     0     |     0     |     0     |   12  |\n",
      "|  (480.75-720.625]  |   0    |    0    |    1     |     0     |     2     |     0     |     0     |     0     |   3   |\n",
      "|  (720.625-960.5]   |   0    |    0    |    0     |     0     |     1     |     1     |     0     |     1     |   3   |\n",
      "|  (960.5-1200.375]  |   0    |    0    |    0     |     0     |     1     |     0     |     0     |     0     |   1   |\n",
      "| (1200.375-1440.25] |   0    |    0    |    0     |     0     |     0     |     0     |     0     |     0     |   0   |\n",
      "| (1440.25-1680.125] |   0    |    0    |    0     |     0     |     0     |     0     |     0     |     0     |   0   |\n",
      "| (1680.125-1920.0]  |   0    |    0    |    0     |     0     |     0     |     0     |     0     |     1     |   1   |\n",
      "|        n_x         |   85   |    17   |    5     |     1     |     4     |     1     |     0     |     2     | n=115 |\n",
      "+--------------------+--------+---------+----------+-----------+-----------+-----------+-----------+-----------+-------+\n"
     ]
    }
   ],
   "source": [
    "table2=PrettyTable()\n",
    "table2.add_column('Y/X', intervals_y)\n",
    "for i in range(8):\n",
    "    table2.add_column(intervals_x[i], two_dem_freq.transpose()[i])\n",
    "table2.add_column('n_y', n_y)\n",
    "table2.add_row(['n_x',n_x[0],n_x[1],n_x[2],n_x[3],n_x[4],n_x[5],n_x[6],n_x[7],f'n={n_x.sum()}'])\n",
    "print(table2)"
   ]
  },
  {
   "cell_type": "markdown",
   "id": "1d0e6255",
   "metadata": {},
   "source": [
    "3. По полученному двумерному интервальному вариационному ряду сформировать условные варианты и по полученным условным вариантам построить корреляционную таблицу, сделать выводы:"
   ]
  },
  {
   "cell_type": "code",
   "execution_count": 177,
   "id": "27f0b728",
   "metadata": {},
   "outputs": [],
   "source": [
    "u=[-3,-2,-1,0,1,2,3,4]\n",
    "v=[-4,-3,-2,-1,0,1,2,3]\n",
    "U=np.zeros(8,int)\n",
    "V=np.zeros(8,int)\n",
    "vU=[]\n",
    "uV=[]\n",
    "sumvU,sumuV=0,0\n",
    "for i in range(0,8):\n",
    "    for j in range(0,8):\n",
    "        U[i]+=two_dem_freq[i][j]*u[j]\n",
    "        V[j]+=two_dem_freq[i][j]*v[i]\n",
    "for i in range(0,8):\n",
    "    vU.append(U[i]*v[i])\n",
    "    uV.append(V[i]*u[i])\n",
    "    sumvU+=U[i]*v[i]\n",
    "    sumuV+=V[i]*u[i]\n",
    "if sumvU==sumuV:\n",
    "    control=f'{sumvU}={sumuV}'\n",
    "else:\n",
    "    control=f'{sumvU}!={sumuV}'"
   ]
  },
  {
   "cell_type": "code",
   "execution_count": 179,
   "id": "6b560d2c",
   "metadata": {},
   "outputs": [
    {
     "name": "stdout",
     "output_type": "stream",
     "text": [
      "+-----+------+-----+-----+----+----+----+---+---+------+-----------+\n",
      "| v/u |  -3  |  -2 |  -1 | 0  | 1  | 2  | 3 | 4 |  U   |     vU    |\n",
      "+-----+------+-----+-----+----+----+----+---+---+------+-----------+\n",
      "|  -4 |  85  |  10 |  0  | 0  | 0  | 0  | 0 | 0 | -275 |    1100   |\n",
      "|  -3 |  0   |  7  |  4  | 1  | 0  | 0  | 0 | 0 | -18  |     54    |\n",
      "|  -2 |  0   |  0  |  1  | 0  | 2  | 0  | 0 | 0 |  1   |     -2    |\n",
      "|  -1 |  0   |  0  |  0  | 0  | 1  | 1  | 0 | 1 |  7   |     -7    |\n",
      "|  0  |  0   |  0  |  0  | 0  | 1  | 0  | 0 | 0 |  1   |     0     |\n",
      "|  1  |  0   |  0  |  0  | 0  | 0  | 0  | 0 | 0 |  0   |     0     |\n",
      "|  2  |  0   |  0  |  0  | 0  | 0  | 0  | 0 | 0 |  0   |     0     |\n",
      "|  3  |  0   |  0  |  0  | 0  | 0  | 0  | 0 | 1 |  4   |     12    |\n",
      "|  V  | -340 | -61 | -14 | -3 | -5 | -1 | 0 | 2 |  -   |    1157   |\n",
      "|  uV | 1020 | 122 |  14 | 0  | -5 | -2 | 0 | 8 | 1157 | 1157=1157 |\n",
      "+-----+------+-----+-----+----+----+----+---+---+------+-----------+\n"
     ]
    }
   ],
   "source": [
    "table3=PrettyTable()\n",
    "table3.add_column('v/u',v )\n",
    "for i in range(8):\n",
    "    table3.add_column(f'{i-3}', two_dem_freq.transpose()[i])\n",
    "table3.add_column('U', U)\n",
    "table3.add_column('vU', vU)\n",
    "table3.add_row(['V',V[0],V[1],V[2],V[3],V[4],V[5],V[6],V[7],'-',sumvU])\n",
    "table3.add_row(['uV', uV[0],uV[1],uV[2],uV[3],uV[4],uV[5],uV[6],uV[7],sumuV,control])\n",
    "print(table3)"
   ]
  },
  {
   "cell_type": "markdown",
   "id": "3a6abdce",
   "metadata": {},
   "source": [
    "Суммы по uV и vU равны, контроль пройден."
   ]
  },
  {
   "cell_type": "markdown",
   "id": "7d6d853a",
   "metadata": {},
   "source": [
    "4. Исходя из результатов корреляционной таблицы вычислить коэффициент корреляции, сделать выводы."
   ]
  },
  {
   "cell_type": "code",
   "execution_count": 181,
   "id": "f891f304",
   "metadata": {},
   "outputs": [
    {
     "name": "stdout",
     "output_type": "stream",
     "text": [
      "Коэффициент корреляции:  0.9090216989764021\n"
     ]
    }
   ],
   "source": [
    "n=len(sample)\n",
    "U_m,V_m,U_m2,V_m2=0,0,0,0\n",
    "for i in range(0,8):\n",
    "    U_m+=n_x[i]*u[i]\n",
    "    V_m+=n_y[i]*v[i]\n",
    "    U_m2+=n_x[i]*u[i]**2\n",
    "    V_m2+=n_y[i]*v[i]**2\n",
    "U_m=U_m/n\n",
    "V_m=V_m/n\n",
    "U_m2=U_m2/n\n",
    "V_m2=V_m2/n\n",
    "Su=np.sqrt(U_m2-U_m**2)\n",
    "Sv=np.sqrt(V_m2-V_m**2)\n",
    "r=(sumvU/n-U_m*V_m)/(Su*Sv)\n",
    "print('Коэффициент корреляции: ',r)"
   ]
  },
  {
   "cell_type": "markdown",
   "id": "65243e06",
   "metadata": {},
   "source": [
    "коэффициент корреляции близок к 1, между переменными наблюдается положительная корреляция.Между переменными высокая степень связи."
   ]
  },
  {
   "cell_type": "markdown",
   "id": "3912b206",
   "metadata": {},
   "source": [
    "5. Построить доверительный интервал для коэффициента корреляции при уровне значимости 𝛾 ∈ {0.95, 0.99}, сделать выводы."
   ]
  },
  {
   "cell_type": "code",
   "execution_count": 79,
   "id": "3454b988",
   "metadata": {},
   "outputs": [
    {
     "name": "stdout",
     "output_type": "stream",
     "text": [
      "Доверительный интервал при уровне значимости 0,95:  (0.8708676790148766-0.9362864737667554)\n",
      "Доверительный интервал при уровне значимости 0,99:  (0.8559713170768186-0.9431306597190372)\n"
     ]
    }
   ],
   "source": [
    "z=math.atanh(r)\n",
    "t95=1.96\n",
    "t99=2.58\n",
    "conf_int95=f'({math.tanh(z-t95/np.sqrt(n-3))}-{math.tanh(z+t95/np.sqrt(n-3))})'\n",
    "conf_int99=f'({math.tanh(z-t99/np.sqrt(n-3))}-{math.tanh(z+t99/np.sqrt(n-3))})'\n",
    "print('Доверительный интервал при уровне значимости 0,95: ',conf_int95)\n",
    "print('Доверительный интервал при уровне значимости 0,99: ',conf_int99)"
   ]
  },
  {
   "cell_type": "markdown",
   "id": "0abe42df",
   "metadata": {},
   "source": [
    "Оба интервала покрывают коэффициент корреляции."
   ]
  },
  {
   "cell_type": "markdown",
   "id": "f00a7a13",
   "metadata": {},
   "source": [
    "6. Осуществить проверку статистической гипотезы о равенстве коэффициента корреляции нулю при заданном уровне значимости 𝛼 = 0.05, сделать выводы."
   ]
  },
  {
   "cell_type": "code",
   "execution_count": 80,
   "id": "49c817ee",
   "metadata": {},
   "outputs": [
    {
     "name": "stdout",
     "output_type": "stream",
     "text": [
      "гипотезу отвергаем\n"
     ]
    }
   ],
   "source": [
    "def t(gam,n):\n",
    "    return scipy.stats.t.ppf(gam, n)\n",
    "alpha=0.05\n",
    "T_obs=r*(np.sqrt(n-2)/np.sqrt(1-r**2))\n",
    "gam=1-alpha\n",
    "T_crit=t(gam,n-2)\n",
    "if abs(T_obs)<T_crit:\n",
    "    print('гипотезу принимаем')\n",
    "else:\n",
    "    print('гипотезу отвергаем')"
   ]
  },
  {
   "cell_type": "code",
   "execution_count": null,
   "id": "4063f96c",
   "metadata": {},
   "outputs": [],
   "source": [
    "т.к. Tнабл. не меньше Tкрит. , то гипотеза о равенстве коэффициента корреляции нулю отвергается."
   ]
  },
  {
   "cell_type": "markdown",
   "id": "098ba148",
   "metadata": {},
   "source": [
    "7. Для заданной выборки построить уравнения средней квадратичной регрессии 𝑥 на 𝑦 и 𝑦 на 𝑥 соответственно. Отобразить полученные прямые на множестве выборки. Объяснить результаты."
   ]
  },
  {
   "cell_type": "code",
   "execution_count": 186,
   "id": "af0e8bd0",
   "metadata": {},
   "outputs": [
    {
     "data": {
      "image/png": "[encoded data removed]",
      "text/plain": [
       "<Figure size 1080x720 with 1 Axes>"
      ]
     },
     "metadata": {
      "needs_background": "light"
     },
     "output_type": "display_data"
    }
   ],
   "source": [
    "x_mid=sum(sample)/n\n",
    "y_mid=sum(sample2)/n\n",
    "x_mid2=0\n",
    "y_mid2=0\n",
    "for i in range(0,n):\n",
    "    x_mid2+=sample[i]**2\n",
    "    y_mid2+=sample2[i]**2\n",
    "x_mid2/=n\n",
    "y_mid2/=n\n",
    "Sx=np.sqrt(x_mid2-x_mid**2)\n",
    "Sy=np.sqrt(y_mid2-y_mid**2)\n",
    "x=np.arange(min(sample), max(sample))\n",
    "y=np.arange(min(sample), max(sample2))\n",
    "plt.figure(figsize=(15,10))\n",
    "plt.plot(x,r*Sy/Sx*(x-x_mid)+y_mid, c='r')\n",
    "plt.plot(r*Sx/Sy*(y-y_mid)+x_mid,y, c='black')\n",
    "plt.scatter(sample,sample2)\n",
    "plt.show()"
   ]
  },
  {
   "cell_type": "markdown",
   "id": "de6a9951",
   "metadata": {},
   "source": [
    "Средняя квадратичная регрессия х на у является наилучшим приближением случайной величины Х. Аналогично для У.\n",
    "Черная линия-прямая средней квадратичной регрессии х на у, черная- у на х. Если коэффициент регрессии равен 0, то прямые перпендикулярны, если 1, то прямые совпадают. Полученный коэффициент регрессии равен 0,909, между прямыми небольшой угол."
   ]
  },
  {
   "cell_type": "markdown",
   "id": "1bffec5a",
   "metadata": {},
   "source": [
    "8. Вычислить корреляционные отношения $𝜂_{𝑦𝑥}$ и $𝜂_{𝑥𝑦}$. Убедиться, что неравенства $𝜂_{𝑦𝑥}$ >= |$𝑟_{𝑥𝑦}$| и $𝜂_{𝑥𝑦}$ >= |$𝑟_{𝑥𝑦}$| выполняются. Сделать выводы."
   ]
  },
  {
   "cell_type": "code",
   "execution_count": 187,
   "id": "fed7d559",
   "metadata": {},
   "outputs": [
    {
     "name": "stdout",
     "output_type": "stream",
     "text": [
      "eta_yx:  0.9237719610352729\n",
      "eta_xy:  0.9448802498402293\n"
     ]
    }
   ],
   "source": [
    "Yx_mid=[]\n",
    "Xy_mid=[]\n",
    "for i in range(0,8):\n",
    "    sum_yn=0\n",
    "    sum_xn=0\n",
    "    for j in range(0,8):\n",
    "        sum_yn+=y_mean[j]*two_dem_freq[j][i]\n",
    "        sum_xn+=x_mean[j]*two_dem_freq[i][j]\n",
    "    if n_x[i]!=0:\n",
    "        Yx_mid.append(sum_yn/n_x[i])\n",
    "    else:\n",
    "        Yx_mid.append(0)\n",
    "    if n_y[i]!=0:\n",
    "        Xy_mid.append(sum_xn/n_y[i])\n",
    "    else:\n",
    "        Xy_mid.append(0)\n",
    "a,b,c,d=0,0,0,0  \n",
    "for k in range (0, len(Xy_mid)):\n",
    "    a+=(y_mean[k]-y_mid)**2*n_y[k]\n",
    "    b+=(x_mean[k]-x_mid)**2*n_x[k]\n",
    "    c+=(Yx_mid[k]-y_mid)**2*n_x[k]\n",
    "    d+=(Xy_mid[k]-x_mid)**2*n_y[k]\n",
    "sigma_ycom=np.sqrt(a/n)\n",
    "sigma_xcom=np.sqrt(b/n)\n",
    "sigma_yinter=np.sqrt(c/n)\n",
    "sigma_xinter=np.sqrt(d/n)\n",
    "eta_yx=sigma_yinter/sigma_ycom\n",
    "eta_xy=sigma_xinter/sigma_xcom\n",
    "print('eta_yx: ', eta_yx)\n",
    "print('eta_xy: ', eta_xy)"
   ]
  },
  {
   "cell_type": "code",
   "execution_count": 188,
   "id": "678054a1",
   "metadata": {},
   "outputs": [
    {
     "name": "stdout",
     "output_type": "stream",
     "text": [
      "Неравенства выполняются\n"
     ]
    }
   ],
   "source": [
    "if (eta_yx>=abs(r) and eta_xy>=abs(r)):\n",
    "    print('Неравенства выполняются')\n",
    "else:\n",
    "    print('Неравенства не выполняются')"
   ]
  },
  {
   "cell_type": "markdown",
   "id": "7a2bf914",
   "metadata": {},
   "source": [
    "Были вычислены корреляционные отношения $𝜂_{𝑦𝑥}$ и $𝜂_{𝑥𝑦}$ и было установлено, что неравенства $𝜂_{𝑦𝑥}$ >= |$𝑟_{𝑥𝑦}$| и $𝜂_{𝑥𝑦}$ выполняются"
   ]
  },
  {
   "cell_type": "markdown",
   "id": "508e3609",
   "metadata": {},
   "source": [
    "9. Для заданной выборки построить корреляционную кривую параболического вида 𝑦 = 𝛽0 +𝛽1𝑥+𝛽2𝑥2. Отобразить полученную кривую\n",
    "на множестве выборки. Сделать выводы."
   ]
  },
  {
   "cell_type": "code",
   "execution_count": 190,
   "id": "99b42bcc",
   "metadata": {},
   "outputs": [
    {
     "data": {
      "image/png": "[encoded data removed]",
      "text/plain": [
       "<Figure size 432x288 with 1 Axes>"
      ]
     },
     "metadata": {
      "needs_background": "light"
     },
     "output_type": "display_data"
    }
   ],
   "source": [
    "s1,s2,s3,s4,s5,s6,s7=0,0,0,0,0,0,0\n",
    "for i in range(0, n):\n",
    "    s1+=sample[i]\n",
    "    s2+=sample[i]**2\n",
    "    s3+=sample[i]**3\n",
    "    s4+=sample[i]**4\n",
    "    s5+=sample2[i]\n",
    "    s6+=sample[i]*sample2[i]\n",
    "    s7+=sample[i]**2*sample2[i]\n",
    "det=np.linalg.det(np.matrix(f'{n} {s1} {s2}; {s1} {s2} {s3} ; {s2} {s3} {s4}'))\n",
    "det0=np.linalg.det(np.matrix(f'{s5} {s1} {s2}; {s6} {s2} {s3} ; {s7} {s3} {s4}'))\n",
    "det1=np.linalg.det(np.matrix(f'{n} {s5} {s2}; {s1} {s6} {s3} ; {s2} {s7} {s4}'))\n",
    "det2=np.linalg.det(np.matrix(f'{n} {s1} {s5}; {s1} {s2} {s6} ; {s2} {s3} {s7}'))\n",
    "b0=det0/det\n",
    "b1=det1/det\n",
    "b2=det2/det\n",
    "x=np.arange(min(sample), max(sample)+50)\n",
    "plt.plot(x, b0+b1*x+b2*x**2)\n",
    "plt.scatter(sample,sample2)\n",
    "plt.show()"
   ]
  },
  {
   "cell_type": "markdown",
   "id": "df93c87f",
   "metadata": {},
   "source": [
    "была построена корреляционная кривая параболического вида, которая является одним из видов уравнений парной регрессии, которую часто применяют для характеристики корреляционной связи"
   ]
  },
  {
   "cell_type": "markdown",
   "id": "c0d4c60c",
   "metadata": {},
   "source": [
    "10. Для заданной выборки построить нелинейные корреляционные кривые c помощью МНК в зависимости от номера варианта:\n",
    "(1) степенная функция: 𝑦 = $𝛽_{0}𝑥^{𝛽_{1}}$ ;"
   ]
  },
  {
   "cell_type": "code",
   "execution_count": 111,
   "id": "0cfb93be",
   "metadata": {},
   "outputs": [
    {
     "data": {
      "image/png": "[encoded data removed]",
      "text/plain": [
       "<Figure size 432x288 with 1 Axes>"
      ]
     },
     "metadata": {
      "needs_background": "light"
     },
     "output_type": "display_data"
    }
   ],
   "source": [
    "from math import log \n",
    "sum_X, sum_Y, sum_X2, sum_XY=0,0,0,0\n",
    "for i in range(0,n):\n",
    "    if sample[i]!=0:\n",
    "        sum_X+=math.log(sample[i])\n",
    "        sum_X2+=math.log(sample[i])**2\n",
    "        sum_XY+=math.log(sample[i])*math.log(sample2[i])\n",
    "    sum_Y+=math.log(sample2[i])\n",
    "B1=(n*sum_XY-sum_X*sum_Y)/(n*sum_X2-(sum_X)**2)\n",
    "B0=(sum_Y-B1*sum_X)/n\n",
    "b0pow=np.exp(B0)\n",
    "b1pow=B1\n",
    "plt.plot(x, b0pow*(x**b1pow))\n",
    "plt.scatter(sample,sample2)\n",
    "plt.show()"
   ]
  },
  {
   "cell_type": "markdown",
   "id": "1e84a394",
   "metadata": {},
   "source": [
    "11. Вычислить следующие показатели качества регрессии для каждого из четырёх уравнений и сделать выводы:\n",
    "• теоретический коэффициент детерминации 𝑅2;\n",
    "• средняя квадратическая ошибка 𝑆𝜀;\n",
    "• средняя ошибка аппроксимации (приближения) 𝐴."
   ]
  },
  {
   "cell_type": "code",
   "execution_count": 198,
   "id": "6fe89020",
   "metadata": {},
   "outputs": [
    {
     "name": "stdout",
     "output_type": "stream",
     "text": [
      "+---------------------------------+--------------------------+-------------------------------+------------------------------+\n",
      "|            Уравнения            | Теор. коэф. детерминации | средняя квадратическая ошибка | средняя ошибка аппроксимации |\n",
      "+---------------------------------+--------------------------+-------------------------------+------------------------------+\n",
      "| средней квадр. регрессии х на у |    0.8263204492099445    |       16.84526015550063       |      0.9761854159193804      |\n",
      "| средней квадр. регрессии у на х |    0.826320449209944     |       90.60002239502352       |      0.4378998298351868      |\n",
      "|   функция параболического вида  |    0.8856145168774723    |       87.81513799267009       |      0.7890273499536381      |\n",
      "|     функция степенного вида     |    0.5169728517870811    |       112.5219107436382       |     0.40990669850094086      |\n",
      "+---------------------------------+--------------------------+-------------------------------+------------------------------+\n"
     ]
    }
   ],
   "source": [
    "delta_xy2, delta_yx2, delta_par2, delta_pow2=0,0,0,0\n",
    "Rxy2,Ryx2,Rpar2,Rpow2=0,0,0,0\n",
    "epsilon_xy,epsilon_yx,epsilon_par,epsilon_pow=0,0,0,0\n",
    "A_xy,A_yx,A_par,A_pow=0,0,0,0\n",
    "for i in range(0,n):\n",
    "    delta_xy2+=(r*Sx/Sy*(sample2[i]-y_mid)+x_mid-x_mid)**2\n",
    "    delta_yx2+=(r*Sy/Sx*(sample[i]-x_mid)+y_mid-y_mid)**2\n",
    "    delta_par2+=(b0+b1*sample[i]+b2*sample[i]**2-y_mid)**2\n",
    "    delta_pow2+=(b0pow*(sample[i]**b1pow)-y_mid)**2\n",
    "    epsilon_xy+=(r*Sx/Sy*(sample2[i]-y_mid)+x_mid-sample[i])**2\n",
    "    epsilon_yx+=(r*Sy/Sx*(sample[i]-x_mid)+y_mid-sample2[i])**2\n",
    "    epsilon_par+=(b0+b1*sample[i]+b2*sample[i]**2-sample2[i])**2\n",
    "    epsilon_pow+=(b0pow*(sample[i]**b1pow)-sample2[i])**2 \n",
    "    if(sample[i]!=0):\n",
    "        A_xy+=abs((r*Sx/Sy*(sample2[i]-y_mid)+x_mid-sample[i])/sample[i])\n",
    "    A_yx+=abs((r*Sy/Sx*(sample[i]-x_mid)+y_mid-sample2[i])/sample2[i])\n",
    "    A_par+=abs((b0+b1*sample[i]+b2*sample[i]**2-sample2[i])/sample2[i])\n",
    "    A_pow+=abs((b0pow*(sample[i]**b1pow)-sample2[i])/sample2[i])\n",
    "delta_xy2/=n\n",
    "delta_yx2/=n\n",
    "delta_par2/=n\n",
    "delta_pow2/=n\n",
    "Rxy2=delta_xy2/Sx**2\n",
    "Ryx2=delta_yx2/Sy**2\n",
    "Rpar2=delta_par2/Sy**2\n",
    "Rpow2=delta_pow2/Sy**2\n",
    "Se_xy=np.sqrt(epsilon_xy/(n-2))\n",
    "Se_yx=np.sqrt(epsilon_yx/(n-2))\n",
    "Se_par=np.sqrt(epsilon_par/(n-3))\n",
    "Se_pow=np.sqrt(epsilon_pow/(n-2))\n",
    "A_xy/=n\n",
    "A_yx/=n\n",
    "A_par/=n\n",
    "A_pow/=n\n",
    "table4=PrettyTable()\n",
    "table4.add_column('Уравнения', ['средней квадр. регрессии х на у','средней квадр. регрессии у на х','функция параболического вида','функция степенного вида'])\n",
    "table4.add_column('Теор. коэф. детерминации',[Rxy2, Ryx2, Rpar2, Rpow2])\n",
    "table4.add_column('средняя квадратическая ошибка',[Se_xy, Se_yx, Se_par, Se_pow])\n",
    "table4.add_column('средняя ошибка аппроксимации', [A_xy, A_yx, A_par, A_pow])\n",
    "print(table4)"
   ]
  },
  {
   "cell_type": "markdown",
   "id": "93713b1e",
   "metadata": {},
   "source": [
    "Ско для 1-го уравнения=47.64, для 2,3 и 4= 256.24\n",
    "Использование всех четырех моделей целесообразно, тк средняя квадратичная ошибка меньше, чем СКО у каждого из 4-х уравнений.\n",
    "Средняя ошибка аппроксимации для всех четырех уравнений не меньше 7%, значит модели не являются моделями хорошего качества."
   ]
  },
  {
   "cell_type": "markdown",
   "id": "0f3b469b",
   "metadata": {},
   "source": [
    "## Выводы\n",
    "В ходе практической работы из заданной генеральной совокупности была сформирована выборку по второму признаку. Для системы двух случайных величин 𝑋 (первый признак) и 𝑌 (второй признак) была сформирована двумерная выборка и найдена статистическая оценка коэффициента корреляции, был построен доверительный интервал для коэффициента корреляции и осуществлена проверка статистической гипотезы о равенстве коэффициента корреляции нулю.Также были Построены уравнения выборочных прямых среднеквадратической регрессии. Полученные линейные функции регрессии отображены графически. Найдено выборочное корреляционное отношение. Оценена адекватность моделей. "
   ]
  }
 ],
 "metadata": {
  "kernelspec": {
   "display_name": "Python 3 (ipykernel)",
   "language": "python",
   "name": "python3"
  },
  "language_info": {
   "codemirror_mode": {
    "name": "ipython",
    "version": 3
   },
   "file_extension": ".py",
   "mimetype": "text/x-python",
   "name": "python",
   "nbconvert_exporter": "python",
   "pygments_lexer": "ipython3",
   "version": "3.9.12"
  }
 },
 "nbformat": 4,
 "nbformat_minor": 5
}
