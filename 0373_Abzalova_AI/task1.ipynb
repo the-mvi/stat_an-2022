{
 "cells": [
  {
   "cell_type": "markdown",
   "id": "c03635cc",
   "metadata": {},
   "source": [
    "# Практическая работа №1: Формирование и первичная обработка выборки. Нахождение и точечныхи интервальных оценок. Проверка статистических гипотез\n",
    "Выполнила студентка гр. 0373 Абзалова Адель. Вариант №1"
   ]
  },
  {
   "cell_type": "markdown",
   "id": "7edb9177",
   "metadata": {},
   "source": [
    "## Цель работы\n",
    "Ознакомление с основными правилами формирования выборки и подготовки выборочных данных к статистическому анализу. Получение практических навыков нахождения точечных статистических оценок параметров распределения, а также вычисления интервальных статистических оценок параметров распределения выборочных данных и проверки «справедливости» статистических гипотез."
   ]
  },
  {
   "cell_type": "markdown",
   "id": "4103b92e",
   "metadata": {},
   "source": [
    "## Основные теоретические положения"
   ]
  },
  {
   "cell_type": "markdown",
   "id": "8783a8fd",
   "metadata": {},
   "source": [
    "<i>Ранжированный ряд</i> распределения - расположение единиц совокупности в порядке возрастания или убывания выбранного признака.\n",
    "Ранжированный ряд распределения строится, прежде всего, по количественному признаку. Но может также строиться по качественному признаку, если он может устанавливаться в определенной последовательности."
   ]
  },
  {
   "cell_type": "markdown",
   "id": "527ab0bc",
   "metadata": {},
   "source": [
    "<i>Вариационным рядом</i> называется последовательность всех элементов выборки, расположенных в неубывающем \n",
    "порядке. Одинаковые элементы повторяются"
   ]
  },
  {
   "cell_type": "markdown",
   "id": "cebb8a6a",
   "metadata": {},
   "source": [
    "<i>Интервальный вариационный ряд</i> - весь промежуток измерения значений выборки разбивают на частичные интервалы"
   ]
  },
  {
   "cell_type": "markdown",
   "id": "aa3bd0d2",
   "metadata": {},
   "source": [
    "<i>Формула Стерджесса:</i>$k=1+lbn$\n",
    "<i>Длина интервала h:</i> $h=\\frac{R}{k}$ , где R - размах выборки $R=x_{max}-x_{min}$"
   ]
  },
  {
   "cell_type": "markdown",
   "id": "6034acc8",
   "metadata": {},
   "source": [
    "<i>Абсолютная частота $n_{i}$</i> является целым числом и показывает, сколько раз данное значение повторяется в выборке. "
   ]
  },
  {
   "cell_type": "markdown",
   "id": "ac3b8ede",
   "metadata": {},
   "source": [
    "<i>Полигон частот</i> — один из способов графического представления плотности вероятности случайной величины. Представляет собой ломаную, соединяющую точки, соответствующие срединным значениям интервалов группировки и частотам этих интервалов."
   ]
  },
  {
   "cell_type": "markdown",
   "id": "29f66938",
   "metadata": {},
   "source": [
    "<i>Гистограмма распределения частот</i> - это столбиковая диаграмма, каждый столбец которой опирается на конкретное значение признака или разрядный интервал (для сгруппированных частот). Высота столбика пропорциональна частоте встречаемости соответствующего значения."
   ]
  },
  {
   "cell_type": "markdown",
   "id": "e4be30b2",
   "metadata": {},
   "source": [
    "<i>Выборочная (эмпирическая) функция распределения</i> — это приближение теоретической функции распределения, построенное с помощью выборки из него. "
   ]
  },
  {
   "cell_type": "markdown",
   "id": "464f60b2",
   "metadata": {},
   "source": [
    "<i>Относительная частота $p_{i}$ </i>– это отношение абсолютной частоты к размеру выборки"
   ]
  },
  {
   "cell_type": "markdown",
   "id": "4cbac507",
   "metadata": {},
   "source": [
    "<i>Кумулятивная (накопленная) частота</i> – сумма частот всех категорий, предшествующих определенной категории, включая ее."
   ]
  },
  {
   "cell_type": "markdown",
   "id": "b1f9e5bc",
   "metadata": {},
   "source": [
    "Условными называют варианты, определяемые равенством: $u_{i}=\\frac{x_{i}-C}{h}$, где С — ложный нуль,h — шаг."
   ]
  },
  {
   "cell_type": "markdown",
   "id": "a60e965b",
   "metadata": {},
   "source": [
    "<i>Условным эмпирическим моментом</i> $\\nu_{r}^{*}$ порядка r  называют начальный момент порядка r, вычисленный для условных вариант:\n",
    "$\\nu_{r}^{*}=\\frac{1}{n}\\sum_{i=1}^{k}n_{i}u_{i}^r$\n",
    "<br>\n",
    "<i> Центральным эмпирическим моментом </i> $\\mu_{r}^{*}$ порядка r называют обычный момент порядка r при C=$\\bar{x_{в}}$:\n",
    "$\\mu_{r}^{*}=\\frac{1}{n}\\sum_{i=1}^{k}n_{i}(x_{i}-\\bar{x_{в}})^{r}$\n",
    "<br>\n",
    "Центральные моменты через условные:\n",
    "<br>\n",
    "$1) \\mu_{1}^{*}=0 \\\\\n",
    "2) \\mu_{2}^{*}=(\\nu_{2}^{*}-(\\nu_{1}^{*})^{2})h^{2} \\\\\n",
    "3) \\mu_{3}^{*}=(\\nu_{3}^{*}-3\\nu_{2}^{*}\\nu_{1}^{*}+2(\\nu_{1}^{*})^{3})h^{3} \\\\\n",
    "4) \\mu_{4}^{*}=(\\nu_{4}^{*}-4\\nu_{3}^{*}\\nu_{1}^{*}+6\\nu_{2}^{*}(\\nu_{1}^{*})^{2}-3(\\nu_{1}^{*})^{4})h^{4}\n",
    "$\n"
   ]
  },
  {
   "cell_type": "markdown",
   "id": "2f518d80",
   "metadata": {},
   "source": [
    "Выборочная дисперсия является смещенной оценкой генеральной дисперсии, т.е. математическое ожидание выборочной дисперсии не равно оцениваемой генеральной дисперсии, а равно:\n",
    "$ \\\\ E(\\sigma_{в}^{2})=\\frac{n-1}{n}\\sigma_{г}^{2} $ где $\\sigma_{г}^{2}$ – истинное значение дисперсии генеральной совокупности.\n",
    "\n",
    "Для исправления выборочной дисперсии достаточно умножить ее на дробь $\\frac{n}{n-1}$\n",
    "\n",
    "В качестве оценки генеральной дисперсии принимают исправленную дисперсию s², вычисляемую по формуле\n",
    "\n",
    "$s_{2}=\\frac{n}{n-1}\\sigma_{в}^{2}$\n",
    "\n",
    "Такая оценка будет являться несмещенной. Ей соответствует исправленное среднее квадратическое отклонение\n",
    "$s=\\sqrt{s^{2}}$"
   ]
  },
  {
   "cell_type": "markdown",
   "id": "0175797c",
   "metadata": {},
   "source": [
    "<i>Коэффициент асимметрии</i> — величина, характеризующая асимметрию распределения данной случайной величины. \n",
    "\n",
    "$a_{s}^{*}=\\frac{\\mu_{3}^{*}}{\\sigma_{в}^{3}}$\n",
    "\n",
    "<i>Коэффициент эксцесса (коэффициент островершинности)</i> — мера остроты пика распределения случайной величины. \n",
    "\n",
    "$\\varepsilon_{k}^{*}=\\frac{\\mu_{4}^{*}}{\\sigma_{в}^{4}}-3$\n",
    "\n",
    "Асимметрия характеризует меру скошенности графика влево / вправо, а эксцесс –  меру его высоты. "
   ]
  },
  {
   "cell_type": "markdown",
   "id": "b356a751",
   "metadata": {},
   "source": [
    "<i>Мода</i> – это то значение в анализируемой совокупности данных, которое встречается чаще других, поэтому нужно посмотреть на частоты значений и отыскать максимальное из них.\n",
    "Немного сложнее с интервальными данными, когда вместо конкретных значений имеются интервалы. В этом случае говорят о модальном интервале, то есть интервале, частота которого максимальна относительно других интервалов. Однако и здесь можно отыскать конкретное модальное значение, хотя оно будет условным и примерным, так как нет точных исходных данных.\n",
    "$M_{o}=x_{k}+\\frac{n_{k}-n_{k-1}}{2n_{k}-n_{k-1}-n_{k+1}}h$,\n",
    "\n",
    "где $x_{k}$ -нижняя граница модального интервала, $n_{k}$ -частота модального интервала, $n_{k-1}$ -частота,соответствующая предыдущему частичному интервалу, $n_{k+1}$ -частота, соответствующая следующему частичному интервалу, h- шаг\n",
    "\n",
    "<i>Медиана интервального ряда</i> – это число, прринадлежащее частичному интервалу, для которого накопленная частота составляет половину или больше половины всей суммы частот, а предыдущая накопленная частота меньше половины всей суммы частот.\n",
    "\n",
    "$M_{e}=x_{k}+\\frac{0,5n-n_{k-1}}{n_{M_{e}}}h_{M_{e}}$,\n",
    "\n",
    "где $x_{k}$-нижняя граница медианного интервала, $h_{M_{e}}$- ширина медианного интервала, $n_{k-1}$- накопленная частота интервала, предшествующего медианному, $n_{M_{e}}$- частота медианного интервала\n",
    "\n",
    "<i>Коэффициент вариации</i>, также известный как относительное стандартное отклонение — это стандартная мера дисперсии распределения вероятностей или частотного распределения. Она часто выражается в процентах и определяется как отношение стандартного отклонения к среднему.\n",
    "\n",
    "$V_{в}=\\frac{\\sigma_{в}}{\\bar{x_{в}}}100\\% $\n"
   ]
  },
  {
   "cell_type": "markdown",
   "id": "12a0711c",
   "metadata": {},
   "source": [
    "С помощью критерия Пирсона можно проверить гипотезу о различных законах распределения генеральной совокупности (равномерном, нормальном, показательном и др.) Для этого в предположении о конкретном виде распределения вычисляются теоретические частоты $n_{i}^{'}$, и в качестве критерия выбирается случайная величина \n",
    "$\\chi^{2}=\\sum_{i=1}^{k}{\\frac{(n_{i}-n_{i}^{'})^{2}}{n_{i}^{'}}}$ называемая критерий Пирсона или критерий ‘ХИ-квадрат’, имеющая закон распределения $\\chi^{2}$ с числом степеней свободы df = k-r-1, где \n",
    "k – число частичных интервалов выборки, r – число параметров предполагаемого распределения. <br>\n",
    "Критическая область выбирается правосторонней, и граница ее при заданном уровне значимости $\\alpha $  $\\chi^{2}_{crit.}=\\chi^{2}(\\alpha,df)$  находится по таблице \n",
    "критических точек распределения $\\chi^{2}$ <br>\n",
    "Теоретические частоты $n_{i}^{'}$ вычисляются для заданного закона распределения как количества элементов выборки, которые должны были попасть в каждый интервал, если бы случайная величина имела выбранный закон распределения, параметры которого совпадают с их точечными оценками по выборке. <br>\n",
    "Для проверки гипотезы о нормальном законе распределения найдем произведение $n_{i}^{'}=np_{i}$\n",
    ", где n – объем выборки,<br>\n",
    "\n",
    "$p_{i}=\\Phi(\\frac{x_{i+1}-\\bar{x_{в}}}{s})-\\Phi(\\frac{x_{i}-\\bar{x_{в}}}{s})$ ,$x_{i}$ и $x_{i+1}$ – левая и правая границы i-го интервала, $\\bar{x_{в}}$ – выборочное среднее, s – исправленное среднее квадратическое отклонение. Поскольку нормальное распределение характеризуется двумя параметрами, число степеней свободы df = k – 3."
   ]
  },
  {
   "cell_type": "markdown",
   "id": "8aaec9c4",
   "metadata": {},
   "source": [
    "## Постановка задачи\n",
    "Осуществить формирование репрезентативной выборки заданного объема из имеющейся генеральной совокупности экспериментальных данных. Осуществить последовательное преобразование полученной выборки в ранжированный, вариационный и интервальный ряды. Применительно к интервальному ряду построить и отобразить графически полигон, гистограмму и эмпирическую функцию распределения для абсолютных и относительных частот. Для заданных выборочных данных вычислить с\n",
    "использованием метода моментов и условных вариант точечные статистические оценки математического ожидания, дисперсии, среднеквадратичного отклонения, асимметрии, эксцесса, моды, медианы и коэффициента вариации исследуемой случайной величины. Для заданной надёжности определить границы доверительных интервалов для математического ожидания и среднеквадратичного отклонения случайной величины. Проверить гипотезу о нормальном распределении исследуемой случайной величины с помощью критерия Пирсона 𝜒2. Полученные результаты содержательно проинтерпретировать."
   ]
  },
  {
   "cell_type": "markdown",
   "id": "66184acb",
   "metadata": {},
   "source": [
    "<h3>Выполнение работы:</h3>"
   ]
  },
  {
   "cell_type": "markdown",
   "id": "c06998ed",
   "metadata": {},
   "source": [
    "<b>1.Из генеральной совокупности сформировать выборку объёма 115. Указать, какого вида выборка получилась.</b>"
   ]
  },
  {
   "cell_type": "code",
   "execution_count": 1,
   "id": "905badf1",
   "metadata": {},
   "outputs": [
    {
     "name": "stdout",
     "output_type": "stream",
     "text": [
      "Выборка:\n",
      "       x\n",
      "0    14\n",
      "1    50\n",
      "2    13\n",
      "3    10\n",
      "4    12\n",
      "..   ..\n",
      "110   4\n",
      "111  61\n",
      "112  17\n",
      "113   7\n",
      "114   5\n",
      "\n",
      "[115 rows x 1 columns]\n"
     ]
    }
   ],
   "source": [
    "import pandas as pd\n",
    "sample=([14,50,13,10,12,70,6,22,12,72,6,0,153,22,55,3,45,60,1,36,9,3,5,97,18,0,0,79,15,24,37,1,1,11,37,254,33,33,32,6,1,11,3,4,0,3,4,7,2,12,8,0,14,0,10,9,1,23,12,66,118,24,14,17,1,38,74,62,14,3,60,55,0,3,142,9,14,4,25,4,10,28,10,33,26,5,10,56,10,50,5,149,4,3,272,190,30,21,64,28,2,13,1,21,47,9,11,159,21,8,4,61,17,7,5])\n",
    "df=pd.DataFrame(sample, columns=['x'])\n",
    "print('Выборка:\\n',df)"
   ]
  },
  {
   "cell_type": "markdown",
   "id": "8d802714",
   "metadata": {},
   "source": [
    "Выбока была сформирована из генеральной совокупности данных о рейсах самолетов. Для обработки были выбраны отмененные рейсы. Из генеральной совокупности по переменной отмененные рейсы рандомно выбирались данные и формировалась простая выборка"
   ]
  },
  {
   "cell_type": "markdown",
   "id": "a5b84d4b",
   "metadata": {},
   "source": [
    "<b>2.Последовательно преобразовать выборку в ранжированный, вариационный и интервальный ряды. Результаты содержательно проинтерпретировать.</b>"
   ]
  },
  {
   "cell_type": "code",
   "execution_count": 2,
   "id": "abf3ff68",
   "metadata": {},
   "outputs": [
    {
     "name": "stdout",
     "output_type": "stream",
     "text": [
      "Ранжированный ряд:\n",
      "       x  n\n",
      "0     0  7\n",
      "1     1  7\n",
      "2     2  2\n",
      "3     3  7\n",
      "4     4  6\n",
      "5     5  4\n",
      "6     6  3\n",
      "7     7  2\n",
      "8     8  2\n",
      "9     9  4\n",
      "10   10  6\n",
      "11   11  3\n",
      "12   12  4\n",
      "13   13  2\n",
      "14   14  5\n",
      "15   15  1\n",
      "16   17  2\n",
      "17   18  1\n",
      "18   21  3\n",
      "19   22  2\n",
      "20   23  1\n",
      "21   24  2\n",
      "22   25  1\n",
      "23   26  1\n",
      "24   28  2\n",
      "25   30  1\n",
      "26   32  1\n",
      "27   33  3\n",
      "28   36  1\n",
      "29   37  2\n",
      "30   38  1\n",
      "31   45  1\n",
      "32   47  1\n",
      "33   50  2\n",
      "34   55  2\n",
      "35   56  1\n",
      "36   60  2\n",
      "37   61  1\n",
      "38   62  1\n",
      "39   64  1\n",
      "40   66  1\n",
      "41   70  1\n",
      "42   72  1\n",
      "43   74  1\n",
      "44   79  1\n",
      "45   97  1\n",
      "46  118  1\n",
      "47  142  1\n",
      "48  149  1\n",
      "49  153  1\n",
      "50  159  1\n",
      "51  190  1\n",
      "52  254  1\n",
      "53  272  1\n"
     ]
    }
   ],
   "source": [
    "sorted_sample=sorted(sample)\n",
    "df=pd.DataFrame({'sample':sorted_sample})\n",
    "ranged_series=df['sample'].value_counts(sort=False)\n",
    "df_ranged_series=pd.DataFrame(ranged_series)\n",
    "df_ranged_series=df_ranged_series.reset_index()\n",
    "df_ranged_series.columns=['x','n']\n",
    "print('Ранжированный ряд:\\n',df_ranged_series)\n",
    "#выборка сортируется, считается сколько раз встречается каждое значение, формируется ранжированный ряд"
   ]
  },
  {
   "cell_type": "code",
   "execution_count": 3,
   "id": "1a42bd2c",
   "metadata": {},
   "outputs": [
    {
     "name": "stdout",
     "output_type": "stream",
     "text": [
      "Вариационный ряд:\n",
      " [0, 0, 0, 0, 0, 0, 0, 1, 1, 1, 1, 1, 1, 1, 2, 2, 3, 3, 3, 3, 3, 3, 3, 4, 4, 4, 4, 4, 4, 5, 5, 5, 5, 6, 6, 6, 7, 7, 8, 8, 9, 9, 9, 9, 10, 10, 10, 10, 10, 10, 11, 11, 11, 12, 12, 12, 12, 13, 13, 14, 14, 14, 14, 14, 15, 17, 17, 18, 21, 21, 21, 22, 22, 23, 24, 24, 25, 26, 28, 28, 30, 32, 33, 33, 33, 36, 37, 37, 38, 45, 47, 50, 50, 55, 55, 56, 60, 60, 61, 62, 64, 66, 70, 72, 74, 79, 97, 118, 142, 149, 153, 159, 190, 254, 272]\n"
     ]
    }
   ],
   "source": [
    "variational_series=sorted(sample)\n",
    "print('Вариационный ряд:\\n', variational_series)\n",
    "# выборка сортируется, формируется вариационный ряд"
   ]
  },
  {
   "cell_type": "code",
   "execution_count": 4,
   "id": "34270653",
   "metadata": {},
   "outputs": [
    {
     "name": "stdout",
     "output_type": "stream",
     "text": [
      "Интервальный ряд:\n",
      "              x  x_mean  n_i\n",
      "0       0-34.0    17.0   85\n",
      "1    34.0-68.0    51.0   17\n",
      "2   68.0-102.0    85.0    5\n",
      "3  102.0-136.0   119.0    1\n",
      "4  136.0-170.0   153.0    4\n",
      "5  170.0-204.0   187.0    1\n",
      "6  204.0-238.0   221.0    0\n",
      "7  238.0-272.0   255.0    2\n"
     ]
    }
   ],
   "source": [
    "import math\n",
    "k=math.ceil(1+math.log(len(sample),2))\n",
    "R=max(sample)-min(sample)\n",
    "h=R/k\n",
    "intervals={}\n",
    "mean=[]\n",
    "i=min(sample)\n",
    "while i<max(sample):\n",
    "    sum=0\n",
    "    for j in sorted_sample:\n",
    "        if(i==min(sample) and j==min(sample)): #\n",
    "                sum+=1\n",
    "        if  (j>i and j<=i+h):   #считается сколько раз значения выборки встречаются в каждом интервале \n",
    "            sum+=1\n",
    "    intervals[f'{i}-{i+h}']=sum\n",
    "    mean.append((i+h+i)/2)  #считается среднее значение в каждом интервале\n",
    "    i+=h\n",
    "interval_series=pd.DataFrame({'x':intervals.keys(),'x_mean':mean,'n_i':intervals.values()})\n",
    "print('Интервальный ряд:\\n', interval_series)\n"
   ]
  },
  {
   "cell_type": "markdown",
   "id": "81719a1a",
   "metadata": {},
   "source": [
    "<b>3.Для интервального ряда абсолютных частот построить и отобразить графически полигон, гистограмму и эмпирическую функцию.\n",
    "Сделать выводы.</b>"
   ]
  },
  {
   "cell_type": "code",
   "execution_count": 5,
   "id": "e9d8321a",
   "metadata": {},
   "outputs": [
    {
     "name": "stdout",
     "output_type": "stream",
     "text": [
      "Полигон абсолютных частот\n"
     ]
    },
    {
     "data": {
      "image/png": "iVBORw0KGgoAAAANSUhEUgAAAX4AAAEGCAYAAABiq/5QAAAAOXRFWHRTb2Z0d2FyZQBNYXRwbG90bGliIHZlcnNpb24zLjUuMSwgaHR0cHM6Ly9tYXRwbG90bGliLm9yZy/YYfK9AAAACXBIWXMAAAsTAAALEwEAmpwYAAAeIElEQVR4nO3deXgc933f8fd3d3EQCwIEsAuSIkGCx0KyDouSqIOSANWW5DuWXNuN0tqhj0a1Hx+S3bSP0jSJ66dNbTeWrTipXVk+WMdHXUuJZNeOJTMWDx2MQJGiDloEQIknSBwkAALEjV//2AEJkAAFApyd3Z3P63n2mdnB7OL74xKfmf3NzG/MOYeIiIRHJOgCREQksxT8IiIho+AXEQkZBb+ISMgo+EVEQiYWdAEzkUgkXG1tbdBliIjklO3bt3c455JnLs+J4K+traWxsTHoMkREcoqZ7Ztqubp6RERCRsEvIhIyCn4RkZBR8IuIhIyCX0QkZBT8IiIho+AXEQmZvA7+J19t438+2Rx0GSIiWSWvg//plk6+/kQTJ4dGgi5FRCRr5HXwN6SSDI2OsW3vsaBLERHJGnkd/GtrKyiKRdi0pz3oUkREskZeB39xQZTrV1axpUnBLyIyLq+DH6AhlaClvY9DXf1BlyIikhXyP/jr0iOSblF3j4gIEILgT1WXsqismC1NHUGXIiKSFfI++M2M+lSCrc0djI65oMsREQlc3gc/QH1dku7+YXYd7Aq6FBGRwPka/Gb2OTN72cxeMrMfm1mxmVWa2RNm1uRNK/ysAeDm1QnMUHePiAg+Br+ZLQE+C6x1zl0ORIG7gPuAjc65FLDRe+6rynghVywpZ7MO8IqI+N7VEwPmmVkMKAEOA3cAG7yfbwDu9LkGIH0V744DXfQMDGfi14mIZC3fgt85dwj4K2A/0Ap0O+ceBxY651q9dVqB6qleb2Z3m1mjmTW2t899T70+lWB0zPFMS+ec30tEJJf52dVTQXrvfgVwERA3sw/N9PXOuQedc2udc2uTyeSc67lqWQXxwqi6e0Qk9Pzs6rkNeM051+6cGwYeAW4EjprZYgBv2uZjDacUxiKsW5XQAV4RCT0/g38/cIOZlZiZAbcCu4HHgPXeOuuBR32sYZKGugT7j53k9Y6+TP1KEZGsE/PrjZ1z28zsZ8DzwAiwA3gQKAV+amYfJ71x+KBfNZypPuUN39DUTm0inqlfKyKSVXwLfgDn3F8Af3HG4kHSe/8ZV1tVQk3lPDY3dfDhdbVBlCAiErhQXLk7Lj18Q5JnWjoZHh0LuhwRkUCEKvghfT5/7+AIO/Z3BV2KiEggQhf861ZVEY2YTusUkdAKXfCXzytgTc0C3ZVLREIrdMEP6e6eXYe6Od43FHQpIiIZF8rgr69L4BxsbdbFXCISPqEM/iuXLqCsOKbuHhEJpVAGfzRi3JxKsHlPB87prlwiEi6hDH5IX8V7pGeA5rbeoEsREcmoEAd/AoDNGrRNREImtMG/tKKElcm4zucXkdAJbfBD+rTOba91MjA8GnQpIiIZE+7gr0swMDzG9n3Hgy5FRCRjQh3816+ooiCq4RtEJFxCHfzxohhrl1fqAK+IhEqogx/SV/Hubu2h7cRA0KWIiGRE6IO/wbsr11bt9YtISIQ++C9dXEZVvFA3YReR0Ah98Ee84Ru2NLUzNqbhG0Qk/4U++CHd3dPRO8TuIz1BlyIi4jsFPxOGb9ij7h4RyX8KfqC6rJhLFs3XMM0iEgoKfk9DXZLG149zcmgk6FJERHyl4PfUpxIMjY6xbe+xoEsREfGVgt9zbW0lRbEIm9XdIyJ5TsHvKS6Icv3KKo3bIyJ5T8E/QUMqQUt7H4e6+oMuRUTENwr+CRrqxodv0F6/iOQvBf8EqepSFpUV63x+EclrCv4JzIz6VIKtzR2MavgGEclTCv4z1Ncl6e4f5sVD3UGXIiLiCwX/GW5encAMnd0jInlLwX+GynghVywp1/ANIpK3FPxTqE8leH5/Fz0Dw0GXIiJywSn4p1CfSjI65nimpTPoUkRELjgF/xSuXlZBvDCq7h4RyUsK/ikUxiKsW1Wl8/lFJC/5GvxmtsDMfmZmvzOz3Wa2zswqzewJM2vyphV+1jBbDXVJ9h87yb7OvqBLERG5oPze438A+Efn3CXAlcBu4D5go3MuBWz0nmed+lR6+Aad1iki+ca34DezMqAB+A6Ac27IOdcF3AFs8FbbANzpVw1zUVtVwtKKeWxuUnePiOQXP/f4VwLtwPfMbIeZPWRmcWChc64VwJtWT/ViM7vbzBrNrLG9PfN73WZGQ12SZ1o6GR4dy/jvFxHxi5/BHwOuBr7pnLsK6OM8unWccw8659Y659Ymk0m/ajynhlSC3sERduzvCuT3i4j4wc/gPwgcdM5t857/jPSG4KiZLQbwpm0+1jAn61YliEZMp3WKSF7xLfidc0eAA2Z2sbfoVuAV4DFgvbdsPfCoXzXMVfm8AtbULNABXhHJKzGf3/8zwA/NrBDYC3yU9Mbmp2b2cWA/8EGfa5iT+lSCBzY2cbxviIp4YdDliIjMma+nczrndnr99G92zt3pnDvunOt0zt3qnEt502N+1jBXDXVJnIOnWnR2j4jkB125+wbevKScsuKYuntEJG8o+N9ALBrhptUJtjR14JzuyiUiuU/BPwMNdUlauwdobusNuhQRkTlT8M9AfSoBoKt4RSQvKPhnYGlFCSuTcZ3PLyJ5QcE/Qw2pJM/u7WRgeDToUkRE5kTBP0P1qQQDw2Ns33c86FJEROZEwT9DN6ysoiBqbFZ3j4jkOAX/DMWLYlyzvEJ35RKRnKfgPw8NdUl2t/bQdmIg6FJERGZNwX8eGry7cm3VaZ0iksMU/Ofh0sVlVMUL2aLgF5EcpuA/D5GIcXMqPXzD2JiGbxCR3KTgP0/1qSQdvYPsPtITdCkiIrOi4D9PDd7wDeruEZFcpeA/T9VlxVyyaL6GaRaRnKXgn4X6VILG149zcmgk6FJERM6bgn8WGuqSDI2Ose21rL55mIjIlBT8s3BtbSVFsYi6e0QkJyn4Z6G4IMp1Kyp1gFdEcpKCf5ZuqUvS3NbL4a7+oEsRETkvCv5ZqveGb9DNWUQk1yj4Z6luYSkLy4p0O0YRyTkK/lkyM+pTSbY2dTCq4RtEJIco+OegPpWgu3+YFw91B12KiMiMKfjnoD6VxAyd1ikiOUXBPweV8UIuv6hcB3hFJKco+OeooS7B8/u7ODEwHHQpIiIzouCfo/pUktExx9MtnUGXIiIyIwr+Obp6WQXxwqi6e0QkZyj456gwFmHdqioN3yAiOUPBfwHUp5Ls6zzJvs6+oEsREXlDCv4LoKEuPXyDruIVkVyg4L8AaqtKWFoxT+fzi0hOiM1kJTMrAt4P1E58jXPui/6UlVvGh2/4+QuHGR4doyCq7amIZK+ZJtSjwB3ACNA34SGeW+oS9A6OsPNAV9CliIic04z2+IGlzrl3+FpJjlu3KkHEG77h2trKoMsREZnWTPf4nzazK3ytJMeVzytgTc0CHeAVkaw30+C/GdhuZq+a2S4ze9HMds3khWYWNbMdZvYL73mlmT1hZk3etGK2xWebhrokuw52cbxvKOhSRESmNdPgfyeQAt4G/B7wHm86E/cAuyc8vw/Y6JxLARu953mhPpXEOXiqRXv9IpK9ZhT8zrl9Uz3e6HVmthR4N/DQhMV3ABu8+Q3AnedZc9a6cmk5ZcUxtuxR8ItI9vL7vMOvA/8RGJuwbKFzrhXAm1ZP9UIzu9vMGs2ssb09N86Pj0Uj3LQ6weamdpzTXblEJDv5Fvxm9h6gzTm3fTavd8496Jxb65xbm0wmL3B1/qlPJWntHqClvTfoUkREpuTnHv9NwHvN7HXgJ8BbzezvgKNmthjAm7b5WEPG1acSAGxSd4+IZCnfgt859yfOuaXOuVrgLuCfnHMfAh4D1nurrSd9cVjeqKksYWUirmGaRSRrBTG2wJeA282sCbjde55XGuqSPLu3k8GR0aBLERE5S0aC3zn3pHPuPd58p3PuVudcypsey0QNmVSfSjAwPEbj68eDLkVE5CwaTcwHN6ysoiBqbFZ3j4hkIQW/D+JFMa5ZXsFmHeAVkSyk4PdJfSrJ7tYe2k4MBF2KiMgkCn6fNKTS1x481ay9fhHJLgp+n1x2URmV8UJ194hI1lHw+yQSMW5enWBLUwdjYxq+QUSyh4LfRw11STp6B/ndkRNBlyIicoqC30fjwzfotE4RySYKfh8tLCvm4oXzNXyDiGQVBb/PGuoSPPfacU4OjQRdiogIoOD3XX0qydDoGNtey7uRKUQkRyn4fXbdikqKYhHdlUtEsoaC32fFBVGuW1GpA7wikjUU/BnQkErS3NbL4a7+oEsREVHwZ0JDXXr4Bp3dIyLZQMGfAXULS1lYVsTmJvXzi0jwFPwZYGbUp5I81dzBqIZvEJGAKfgzpD6VoOvkMC8e6g66FBEJOQV/hty8OoEZbNmjfn4RCZaCP0OqSou4/KJyndYpIoFT8GdQfSrB8/u7ODEwHHQpIhJiCv4Mqk8lGR1zPNPSGXQpIhJiCv4MumZ5BSWFUXX3iEigFPwZVBiLsG5lFVt0Pr+IBEjBn2ENdUn2dZ5kX2df0KWISEgp+DPs9F25tNcvIsFQ8GfYikScJQvm6Xx+EQmMgj/DzIyGuiRPt3QyPDoWdDkiEkIK/gA0pBL0Do6w80BX0KWISAgp+ANw4+oEEQ3fICIBUfAHoHxeAWtqFrBJB3hFJAAK/oDUp5LsOthF18mhoEsRkZBR8AekoS6Jc7C1WXv9IpJZCv6AXLm0nPnFMbbsUfCLSGYp+AMSi0a4aVWCLU3tOKe7colI5ij4A9RQl+Rw9wAt7b1BlyIiIaLgD9Cp4RvU3SMiGeRb8JtZjZn91sx2m9nLZnaPt7zSzJ4wsyZvWuFXDdmuprKElYm4hmkWkYzyc49/BPj3zrk3ATcAnzKzS4H7gI3OuRSw0XseWvWpBM/u7WRwZDToUkQkJHwLfudcq3PueW/+BLAbWALcAWzwVtsA3OlXDbmgPpVkYHiM7a8fD7oUEQmJjPTxm1ktcBWwDVjonGuF9MYBqJ7mNXebWaOZNba3529XyLpVVRREjU3q7hGRDPE9+M2sFHgYuNc51zPT1znnHnTOrXXOrU0mk/4VGLB4UYyrl1XofH4RyRhfg9/MCkiH/g+dc494i4+a2WLv54uBNj9ryAUNdUleae2h/cRg0KWISAj4eVaPAd8Bdjvn7p/wo8eA9d78euBRv2rIFQ2p9Dearc3q7hER//m5x38T8GHgrWa203u8C/gScLuZNQG3e89D7bKLyqiMF6q7R0QyIubXGzvntgI2zY9v9ev35qJIxLh5dYLNTR2MjTkiken+2URE5k5X7maJ+lSCjt5BXmmd8fFvEZFZUfBniVsuTlIUi/DR7z/Hr15sDbocEcljCv4sUT2/mIc/eSPV84v45A+f59/9oJGjPQNBlyUieUjBn0UuX1LOo5+6ifveeQlPvtrObV/dxI+27WdsTMM2i8iFo+DPMrFohE/csopf39vA5UvK+U9//yJ/8O1n2auhm0XkAlHwZ6naRJwf/dH1fPn9V/BKaw/veGALf/vbZoZHx4IuTURynII/i5kZv3/tMjZ+/hZuvaSa//HrV3nv3zzFroNdQZcmIjlMwZ8DqsuK+eaHruFbH7qGzt5B7vzbp/hv/+8VTg6NBF2aiOQgBX8Oecfli3ji87dw13XL+PaW13j71zeztUlX+4rI+VHw55jyeQX85fuu4Cd330AsEuFD39nGH//fF+g6ORR0aSKSIxT8OeqGlVX86p56PvWWVfzDjkPcdv8mfv7CYZzTqZ8icm4K/hxWXBDlP7z9Eh779M1ctGAen/nxDv7ofzfS2t0fdGkiksUU/Hng0ovKeOSTN/Kf3/0mtjZ3cPv9m/nBs/t04ZeITEnBnydi0Qj/tn4lj997C2tqFvBn//AS/+p/PUNzmy78EpHJFPx5ZllVCT/4+HX81QevpKmtl3c9sIVvbGxiaEQXfolImoI/D5kZH7hmKb/5/C287bKFfPWJPfzeN7ayY//xoEsTkSyg4M9jyflF/M2/vpqH/nAtPQPD/MtvPs1/+fnL9A3qwi+RMFPwh8Btly7k8c818OEblvO9p17nbV/bzJOvhv4e9yKhpeAPifnFBXzxjsv52SfWUVwQ4SPfe47P/Z+dHOvThV8iYaPgD5m1tZX88p56Pntril/sOsxt92/i0Z2HdOGXSIgo+EOoKBbl87fX8YvP1LOssoR7frKTj33/OQ516cIvkTBQ8IfYxYvm8/Anb+TP33Mp2147xu33b+L7T73GqC78EslrCv6Qi0aMj928gl/f28Da2kq+8PNX+MC3nmbP0RNBlyYiPlHwCwA1lSVs+Oi1fP331/B6Rx/v/ustfO2JPQyOjAZdmohcYAp+OcXMuPOqJfzm87fw7isW88DGJt7911vZvu9Y0KWJyAWk4JezVJUW8fW7ruJ7H72W/qFRPvCtZ/jzR1+iVxd+ieQFBb9M6y0XV/P45xpYv66WHzy7j9vv38Q//e5o0GWJyBwp+OWc4kUxvvDey3j4kzcyvzjGx77fyGd/vIOO3sGgSxORWVLwy4xcvayCX3ymns/dVsevXmrltvs38dCWvbx0qJuRUY38KZJLLBeu2Fy7dq1rbGwMugzxNB09wZ888iKN+9KjfRYXRLhiSTlrahawpqaCK2vKWbJgHmYWcKUi4WZm251za89aruCX2XDOsf/YSXYe6Dr1ePlwz6lx/xOlRaypWcBVyxawpmYBVywtp6y4IOCqc8OJgWGGRx2V8cKgS5EcN13wx4IoRnKfmbG8Ks7yqjh3rFkCwNDIGLtbe3jhYBc796c3Br/ZfdRbH1YlS71vBenHxYvmUxANZ2+jc46O3iGa23ppbu+lpa2XprYTNLf1crQnffykoqSA1dWlrK4uZVWy9NT8ReXziET0bUpmT3v84qvuk8PpDcGEbwbjI4IWF0S4/KJ0F9GV3sZgaUV+dRGNjTkOdfWnA3780Z6edvcPn1ovXhhNB7wX7oXRCC3tp19z/OTpdUsKo6xMxklVz5+0UVheVRLaDalMTV09khWccxw83s+OA+PfCo7z0qQuosJT3wiurFnAm5cuoHxe9ncRDY2Msa+zj+a2XpomhPzejl4Ghk8f/K6KF54K99XJUlIL0/OLyorPucHr7B2ctNEYf7R2D5xaJxYxahNxVk/4djC+YZhXGPW1/ZKdFPyStYZGxnj1yAl2Hjie3iAc6GJve9+pn69KxllTU8GamnLW1FRwyeLguoj6Bkcm7YmPh/G+zpOTBrdbsmDepPAdD/qKC9xv3zs4QssZ3yRa2nrZd2zqelJn1LSgRMcR8pmCX3JKd/8wuyYcK9h5oItOr4uoKBbh8iWnu4iu8qGLaKo97Ja2Xg6fsYe9vKrkVIiOd72sTMYpKQz28NngyCj7Ok9O3kC19dLS3svgyOlvIInSwknHD8Yfb/QNRC485xwnBkc40j2QfvSkp++7agk1lSWzek8Fv+S08S6i8Y3ACwe6ePFQ96kQq4pP7iK6suaNu4iccxzuHpgcjF7YT7wz2byCKKuqz+5CWV4Vz7k+9dExx6Hj/TS3nzhro9AzcHpIjtKiGKuS8UndUqurS1lWWUIsx9qcDUbHHJ29gxzpGaC1e4CjXqifCnjv+cmhswdF/O5H1vLWSxbO6vcq+CXvDI+mu4h2eBuCnQe6aG7rPfXzlcn4qY3BZReV0X5iaFI3TUt776Q/tAUlBWeFe1jOonHO0e59yzmz62j8LCOAwmiEFYn4pAPRKxNxKuOFlBbHiBfGiOb5v9WZBoZHaesZpLW7/1SAH+lJh3tr9wBHuwdoOzHIyBn3uYhFjIVlxSwq9x5l3mPC8+qyIopisz8+k1XBb2bvAB4AosBDzrkvnWt9Bb/MVM/AMLsOdLPzwHF2Huhm54Gus4aXWFxefNYpkqurS6mKF6p7Ywo9A8Pe6aaTNwoHjp1kqnv2lBRGKS2KpR/FsdPzE57Hi2LMnzjv/Wzi/LyCaKCfh3OOnv6RCXvk/RzpHuRIT78X7oMc6e6fdMbVuNKiGAvLilhcPs8L9yIWlc9jUVkxi8uLWVhWTFW80PcdiqwJfjOLAnuA24GDwHPAHzjnXpnuNQp+mS3n0qdT/q71BMn5RayqLqW0SJevXAgDw6O81tHHax199PQP0zs4kn4MjJyen+b5mXu/U4kYZ20USr0NRrwwvWy+t+EY36BM/lkB8aIopcWxs/aaR8ccHb2DtI53t3T3c6Rn0NtL7+dozyBHugfoHz676yVRWnh6D92bLiwrZnH5PBaVF7GwrJj5WXKxYjZdwHUd0Oyc2wtgZj8B7gCmDX6R2TIzllaUsLRidgfHZHrFBVHetLiMNy0uO6/XOecYHBk7e6MwMELf0AgnvGV9g5Pne73nR7oHTr92aISZ7LsWRiOnNgLDI+lurTNvMVoQ9bpeyoq57KIybr2kenI3THkx1fOLKYzl/jGOIIJ/CXBgwvODwPVnrmRmdwN3AyxbtiwzlYmI78yM4oIoxQVREqVFc3qvsTFH//DoqY3CxA1E3+DU3zyiETvV3TKxT72yxP+ul2wRRPBP9S971jbbOfcg8CCku3r8LkpEck8kYsS97p6F5/fFI9SC+M5yEKiZ8HwpcDiAOkREQimI4H8OSJnZCjMrBO4CHgugDhGRUMp4V49zbsTMPg38mvTpnN91zr2c6TpERMIqkPPanHO/BH4ZxO8WEQm73D8vSUREzouCX0QkZBT8IiIho+AXEQmZnBid08zagX1B1+GzBNARdBEBUvvVfrX/wlvunEueuTAngj8MzKxxqsGUwkLtV/vV/sy1X109IiIho+AXEQkZBX/2eDDoAgKm9oeb2p9B6uMXEQkZ7fGLiISMgl9EJGQU/AExs9fN7EUz22lmjd6ySjN7wsyavGlF0HVeKGb2XTNrM7OXJiybtr1m9idm1mxmr5rZ24Op+sKZpv1fMLND3v+BnWb2rgk/y5v2m1mNmf3WzHab2ctmdo+3PBSf/znaH9zn75zTI4AH8DqQOGPZV4D7vPn7gC8HXecFbG8DcDXw0hu1F7gUeAEoAlYALUA06Db40P4vAH88xbp51X5gMXC1Nz8f2OO1MRSf/znaH9jnrz3+7HIHsMGb3wDcGVwpF5ZzbjNw7IzF07X3DuAnzrlB59xrQDNwXSbq9Ms07Z9OXrXfOdfqnHvemz8B7CZ97+1QfP7naP90fG+/gj84DnjczLZ7N5YHWOica4X0fxagOrDqMmO69i4BDkxY7yDn/kPJZZ82s11eV9B4V0fett/MaoGrgG2E8PM/o/0Q0Oev4A/OTc65q4F3Ap8ys4agC8oiNsWyfDzv+JvAKmAN0Ap81Vuel+03s1LgYeBe51zPuVadYlk+tj+wz1/BHxDn3GFv2gb8PemvckfNbDGAN20LrsKMmK69B4GaCestBQ5nuDbfOeeOOudGnXNjwLc5/XU+79pvZgWkQ++HzrlHvMWh+fynan+Qn7+CPwBmFjez+ePzwNuAl0jfdH69t9p64NFgKsyY6dr7GHCXmRWZ2QogBfxzAPX5ajz0PO8j/X8A8qz9ZmbAd4Ddzrn7J/woFJ//dO0P9PMP+oh3GB/AStJH7V8AXgb+1FteBWwEmrxpZdC1XsA2/5j019lh0ns0Hz9Xe4E/JX02w6vAO4Ou36f2/wB4Edjl/bEvzsf2AzeT7qrYBez0Hu8Ky+d/jvYH9vlryAYRkZBRV4+ISMgo+EVEQkbBLyISMgp+EZGQUfCLiISMgl9EJGQU/CIiIaPgl9Axs2u9gbGKvauoXzazy6dY71+Y2SYz+6mZ7TGzL5nZvzGzf/bupbDKWy9pZg+b2XPe4yZv+XVm9rSZ7fCmF3vLP2Jmj5jZP3pj0X8ls/8CEnaxoAsQyTTn3HNm9hjwX4F5wN85516aZvUrgTeRHlJ5L/CQc+4672YanwHuBR4Avuac22pmy4Bfe6/5HdDgnBsxs9uAvwTe773vGtKjNA4Cr5rZN5xzE0dkFPGNgl/C6ovAc8AA8NlzrPec84YONrMW4HFv+YvAW7z524BL00OyAFDmjcVUDmwwsxTpS/YLJrzvRudct/e+rwDLmTwUr4hvFPwSVpVAKekwLgb6pllvcML82ITnY5z++4kA65xz/RNfaGbfAH7rnHufNw77k9O87yj6W5QMUh+/hNWDwJ8BPwS+PMf3ehz49PgTM1vjzZYDh7z5j8zxd4hcMAp+CR0z+0NgxDn3I+BLwLVm9tY5vOVngbXeAeNXgE94y78C/HczewqIzqlokQtIo3OKiISM9vhFREJGB5Qk9MzsCtI3xZho0Dl3fRD1iPhNXT0iIiGjrh4RkZBR8IuIhIyCX0QkZBT8IiIh8/8BP1i+KASdtkAAAAAASUVORK5CYII=\n",
      "text/plain": [
       "<Figure size 432x288 with 1 Axes>"
      ]
     },
     "metadata": {
      "needs_background": "light"
     },
     "output_type": "display_data"
    }
   ],
   "source": [
    "import matplotlib.pyplot as plt\n",
    "interval_series['x_mean']\n",
    "plt.plot(interval_series['x_mean'],interval_series['n_i'])\n",
    "plt.xlabel('x_mean')\n",
    "plt.ylabel('n')\n",
    "print('Полигон абсолютных частот')\n",
    "plt.show()\n",
    "#строится полигон абсолютных частот по серединам интервала и ччастотам "
   ]
  },
  {
   "cell_type": "code",
   "execution_count": 48,
   "id": "bb3d23c4",
   "metadata": {},
   "outputs": [
    {
     "name": "stdout",
     "output_type": "stream",
     "text": [
      "Гистограмма абсолютных частот\n"
     ]
    },
    {
     "data": {
      "image/png": "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\n",
      "text/plain": [
       "<Figure size 432x288 with 1 Axes>"
      ]
     },
     "metadata": {
      "needs_background": "light"
     },
     "output_type": "display_data"
    }
   ],
   "source": [
    "print('Гистограмма абсолютных частот')\n",
    "fig, histogram = plt.subplots()\n",
    "histogram.bar(interval_series['x_mean'], interval_series['n_i']/h, width = h)\n",
    "plt.show()\n",
    "#строится гистограмма абсолютных частот "
   ]
  },
  {
   "cell_type": "code",
   "execution_count": 46,
   "id": "59298445",
   "metadata": {},
   "outputs": [
    {
     "name": "stdout",
     "output_type": "stream",
     "text": [
      "эмпирическая функция абсолютных частот:\n"
     ]
    },
    {
     "data": {
      "image/png": "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\n",
      "text/plain": [
       "<Figure size 432x288 with 1 Axes>"
      ]
     },
     "metadata": {
      "needs_background": "light"
     },
     "output_type": "display_data"
    }
   ],
   "source": [
    "import numpy as np\n",
    "hist, edges = np.histogram(sample,bins=8)\n",
    "y = hist.cumsum()\n",
    "i=0\n",
    "for i in range(len(y)):\n",
    "    plt.plot([edges[i], edges[i+1]],[y[i], y[i]], c=\"blue\")\n",
    "print('эмпирическая функция абсолютных частот:')\n",
    "plt.show()\n",
    "#строится эмпирическая функция абсолютных частот"
   ]
  },
  {
   "cell_type": "markdown",
   "id": "78d1ea7f",
   "metadata": {},
   "source": [
    "по графикам видно, что наибольшая абсолютная частота у первого интервала"
   ]
  },
  {
   "cell_type": "markdown",
   "id": "c81347aa",
   "metadata": {},
   "source": [
    "<b>4.Аналогичные действия выполнить для интервального ряда относительных частот. Сравнить результаты и сделать выводы.</b>"
   ]
  },
  {
   "cell_type": "code",
   "execution_count": 8,
   "id": "2cb5e271",
   "metadata": {},
   "outputs": [
    {
     "name": "stdout",
     "output_type": "stream",
     "text": [
      "Полигон относительных частот\n"
     ]
    },
    {
     "data": {
      "image/png": "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\n",
      "text/plain": [
       "<Figure size 432x288 with 1 Axes>"
      ]
     },
     "metadata": {
      "needs_background": "light"
     },
     "output_type": "display_data"
    }
   ],
   "source": [
    "p=interval_series['n_i']/len(sample) #вычисление относительных частот\n",
    "interval_series['x_mean']\n",
    "plt.plot(interval_series['x_mean'],p)\n",
    "plt.xlabel('x_mean')\n",
    "plt.ylabel('p')\n",
    "print('Полигон относительных частот')\n",
    "plt.show()"
   ]
  },
  {
   "cell_type": "code",
   "execution_count": 47,
   "id": "aaf1a35c",
   "metadata": {},
   "outputs": [
    {
     "name": "stdout",
     "output_type": "stream",
     "text": [
      "Гистограмма относительных частот\n"
     ]
    },
    {
     "data": {
      "image/png": "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\n",
      "text/plain": [
       "<Figure size 432x288 with 1 Axes>"
      ]
     },
     "metadata": {
      "needs_background": "light"
     },
     "output_type": "display_data"
    }
   ],
   "source": [
    "print('Гистограмма относительных частот')\n",
    "fig, histogram = plt.subplots()\n",
    "histogram.bar(interval_series['x_mean'], p/h, width = h)\n",
    "plt.show()"
   ]
  },
  {
   "cell_type": "code",
   "execution_count": 55,
   "id": "24ba95bf",
   "metadata": {},
   "outputs": [
    {
     "name": "stdout",
     "output_type": "stream",
     "text": [
      "эмпирическая функция абсолютных частот:\n"
     ]
    },
    {
     "data": {
      "image/png": "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\n",
      "text/plain": [
       "<Figure size 432x288 with 1 Axes>"
      ]
     },
     "metadata": {
      "needs_background": "light"
     },
     "output_type": "display_data"
    }
   ],
   "source": [
    "hist, edges = np.histogram(sample, bins=8, weights=np.ones_like (sample) / len (sample))\n",
    "y = hist.cumsum()\n",
    "i=0\n",
    "for i in range(len(y)):\n",
    "    plt.plot([edges[i], edges[i+1]],[y[i], y[i]], c=\"blue\")\n",
    "print('эмпирическая функция абсолютных частот:')\n",
    "plt.show()"
   ]
  },
  {
   "cell_type": "markdown",
   "id": "4e93e3f7",
   "metadata": {},
   "source": [
    "графики совпадают, значения абсолютных и относительных частот пропорциональны"
   ]
  },
  {
   "cell_type": "markdown",
   "id": "5f35314c",
   "metadata": {},
   "source": [
    "<b>5.Для интервального ряда найти середины интервалов, а также накопленные частоты. Результаты представить в виде таблицы</b>"
   ]
  },
  {
   "cell_type": "code",
   "execution_count": 11,
   "id": "8eaf6c29",
   "metadata": {},
   "outputs": [
    {
     "name": "stdout",
     "output_type": "stream",
     "text": [
      "+-----+--------------+--------+-----+----------------------+---------------+---------------+\n",
      "|  i  | x(i-1), x(i) | x_mean | n_i |         p_i          | n_accumulated | p_accumulated |\n",
      "+-----+--------------+--------+-----+----------------------+---------------+---------------+\n",
      "|  1  |    0-34.0    |  17.0  |  85 |  0.7391304347826086  |       85      |     0.739     |\n",
      "|  2  |  34.0-68.0   |  51.0  |  17 | 0.14782608695652175  |      102      |     0.887     |\n",
      "|  3  |  68.0-102.0  |  85.0  |  5  | 0.043478260869565216 |      107      |      0.93     |\n",
      "|  4  | 102.0-136.0  | 119.0  |  1  | 0.008695652173913044 |      108      |     0.939     |\n",
      "|  5  | 136.0-170.0  | 153.0  |  4  | 0.034782608695652174 |      112      |     0.974     |\n",
      "|  6  | 170.0-204.0  | 187.0  |  1  | 0.008695652173913044 |      113      |     0.983     |\n",
      "|  7  | 204.0-238.0  | 221.0  |  0  |         0.0          |      113      |     0.983     |\n",
      "|  8  | 238.0-272.0  | 255.0  |  2  | 0.017391304347826087 |      115      |      1.0      |\n",
      "| sum |              |        | 115 |         1.0          |               |               |\n",
      "+-----+--------------+--------+-----+----------------------+---------------+---------------+\n"
     ]
    }
   ],
   "source": [
    "sum_n=0\n",
    "n_accumulated=[]\n",
    "for i in interval_series['n_i']:\n",
    "    sum_n+=i\n",
    "    n_accumulated.append(sum_n) #вычисление накопленных абсолютных частот\n",
    "p_accumulated=[]\n",
    "sum_p=0\n",
    "i=0\n",
    "for i in p:\n",
    "    sum_p+=i\n",
    "    sum_p=round(sum_p,3)\n",
    "    p_accumulated.append(sum_p)  #вычисление накопленных относительных частот\n",
    "from prettytable import PrettyTable #построение таблицы\n",
    "mytable = PrettyTable()к\n",
    "#добавление в таблицу значений по колонкам\n",
    "mytable.add_column('i',[1,2,3,4,5,6,7,8])\n",
    "mytable.add_column('x(i-1), x(i)',interval_series['x'])\n",
    "mytable.add_column('x_mean',interval_series['x_mean'])\n",
    "mytable.add_column('n_i',interval_series['n_i'])\n",
    "mytable.add_column('p_i',p)\n",
    "mytable.add_column('n_accumulated',n_accumulated)\n",
    "mytable.add_column('p_accumulated',p_accumulated)\n",
    "#добавление в таблицу строчки с суммами\n",
    "mytable.add_row(['sum','','',sum_n,sum_p,'',''])\n",
    "print(mytable)"
   ]
  },
  {
   "cell_type": "markdown",
   "id": "34b2b71f",
   "metadata": {},
   "source": [
    "<b>6.Для полученных вариант вычислить условные варианты. Заполнить расчётную таблиц</b>"
   ]
  },
  {
   "cell_type": "code",
   "execution_count": 56,
   "id": "ccce39ed",
   "metadata": {},
   "outputs": [
    {
     "name": "stdout",
     "output_type": "stream",
     "text": [
      "+-----+-------+-----+------+---------+-----------+-----------+-----------+---------------+\n",
      "|  i  |  x_i  | n_i | u_i  | n_i*u_i | n_i*u_i^2 | n_i*u_i^3 | n_i*u_i^4 | n_i*(u_i+1)^4 |\n",
      "+-----+-------+-----+------+---------+-----------+-----------+-----------+---------------+\n",
      "|  1  |  17.0 |  85 | -4.0 |  -340.0 |   1360.0  |  -5440.0  |  21760.0  |     6885.0    |\n",
      "|  2  |  51.0 |  17 | -3.0 |  -51.0  |   153.0   |   -459.0  |   1377.0  |     272.0     |\n",
      "|  3  |  85.0 |  5  | -2.0 |  -10.0  |    20.0   |   -40.0   |    80.0   |      5.0      |\n",
      "|  4  | 119.0 |  1  | -1.0 |   -1.0  |    1.0    |    -1.0   |    1.0    |      0.0      |\n",
      "|  5  | 153.0 |  4  | 0.0  |   0.0   |    0.0    |    0.0    |    0.0    |      4.0      |\n",
      "|  6  | 187.0 |  1  | 1.0  |   1.0   |    1.0    |    1.0    |    1.0    |      16.0     |\n",
      "|  7  | 221.0 |  0  | 2.0  |   0.0   |    0.0    |    0.0    |    0.0    |      0.0      |\n",
      "|  8  | 255.0 |  2  | 3.0  |   6.0   |    18.0   |    54.0   |   162.0   |     512.0     |\n",
      "| sum |       | 115 |  -   |  -395.0 |   1553.0  |  -5885.0  |  23381.0  |     7694.0    |\n",
      "+-----+-------+-----+------+---------+-----------+-----------+-----------+---------------+\n"
     ]
    }
   ],
   "source": [
    "#выбор середины интервала для нахождения ложного нуля в зависимости от того, четное количество интервалов или нет\n",
    "if len(interval_series)%2==0:\n",
    "    middle=len(interval_series)/2\n",
    "else:\n",
    "    if interval_series['n_i'][len(interval_series)/2]>interval_series['n_i'][len(interval_series)/2+1]:\n",
    "        middle=len(interval_series)/2\n",
    "    else:\n",
    "        middle=len(interval_series)/2+1\n",
    "c=interval_series['x_mean'][middle]\n",
    "u=[]\n",
    "k=0\n",
    "j=0\n",
    "for k in df_ranged_series:\n",
    "    u.append((interval_series['x_mean']-c)/h) #вычисление условных вариант\n",
    "u_i=u[1]\n",
    "mytable2 = PrettyTable() #построение табблицы\n",
    "i=[]\n",
    "for j in range(len(interval_series)):\n",
    "    i.append(j+1)\n",
    "#вычисление колонок таблицы\n",
    "col5=interval_series['n_i']*u_i\n",
    "col6=interval_series['n_i']*u_i**2\n",
    "col7=interval_series['n_i']*u_i**3\n",
    "col8=interval_series['n_i']*u_i**4\n",
    "col9=interval_series['n_i']*(u_i+1)**4\n",
    "#добавление в таблицу всех значений\n",
    "mytable2.add_column('i',i)\n",
    "mytable2.add_column('x_i',interval_series['x_mean'])\n",
    "mytable2.add_column('n_i',interval_series['n_i'])\n",
    "mytable2.add_column('u_i',u_i)\n",
    "mytable2.add_column('n_i*u_i',col5)\n",
    "mytable2.add_column('n_i*u_i^2',col6)\n",
    "mytable2.add_column('n_i*u_i^3',col7)\n",
    "mytable2.add_column('n_i*u_i^4',col8)\n",
    "mytable2.add_column('n_i*(u_i+1)^4',col9)\n",
    "mytable2.add_row(['sum','',sum_n,'-',col5.sum(),col6.sum(),col7.sum(),col8.sum(),col9.sum()])\n",
    "print(mytable2)"
   ]
  },
  {
   "cell_type": "markdown",
   "id": "02fe6832",
   "metadata": {},
   "source": [
    "Контроль осуществляется по формуле : $\\\\\n",
    "\\sum_{i=1}^{k}n_{i}(u_{i}+1)^{4}=\\sum_{i=1}^{k}n_{i}u_{i}^{4}+4\\sum_{i=1}^{k}n_{i}u_{i}^{3}+6\\sum_{i=1}^{k}n_{i}u_{i}^{2}+4\\sum_{i=1}^{k}n_{i}u_{i}+n\n",
    "$"
   ]
  },
  {
   "cell_type": "code",
   "execution_count": 57,
   "id": "19d0de95",
   "metadata": {},
   "outputs": [
    {
     "name": "stdout",
     "output_type": "stream",
     "text": [
      "Вычисления корректны\n"
     ]
    }
   ],
   "source": [
    "#осуществляется контроль вычислений\n",
    "if col9.sum()==sum_n+4*col5.sum()+6*col6.sum()+4*col7.sum()+col8.sum():\n",
    "    print('Вычисления корректны')\n",
    "else:\n",
    "    print('Вычисления некорректны')"
   ]
  },
  {
   "cell_type": "markdown",
   "id": "81cea9f2",
   "metadata": {},
   "source": [
    "<b>7.Вычислить условные эмпирические моменты через условные варианты. С помощью условных эмпирических моментов вычислить центральные эмпирические моменты. Полученные результаты занести в таблицу</b>"
   ]
  },
  {
   "cell_type": "code",
   "execution_count": 14,
   "id": "87193e87",
   "metadata": {},
   "outputs": [
    {
     "name": "stdout",
     "output_type": "stream",
     "text": [
      "+---+---------------------+--------------------+\n",
      "| i |         v_i         |        m_i         |\n",
      "+---+---------------------+--------------------+\n",
      "| 1 | -3.4347826086956523 |         0          |\n",
      "| 2 |  13.504347826086956 | 1972.8483931947046 |\n",
      "| 3 |  -51.17391304347826 | 272545.63642639894 |\n",
      "| 4 |  203.31304347826088 | 51572668.40945819  |\n",
      "+---+---------------------+--------------------+\n"
     ]
    }
   ],
   "source": [
    "#нахождение условных эмпирических моментов через условные варианты, вычисленные в предыдущем пункте \n",
    "n=len(sample)\n",
    "v1=col5.sum()/n\n",
    "v2=col6.sum()/n\n",
    "v3=col7.sum()/n\n",
    "v4=col8.sum()/n\n",
    "#вычисление центральных моментов через условные эмпирические \n",
    "m1=0\n",
    "m2=(v2-v1**2)*h**2\n",
    "m3=(v3-3*v2*v1+2*v1**3)*h**3\n",
    "m4=(v4-4*v3*v1+6*v2*v1**2-3*v1**4)*h**4\n",
    "mytable3 = PrettyTable() #построение таблицы\n",
    "q=[]\n",
    "for w in range(4):\n",
    "    q.append(w+1)\n",
    "mytable3.add_column('i',q)\n",
    "mytable3.add_column('v_i',[v1,v2,v3,v4])\n",
    "mytable3.add_column('m_i',[m1,m2,m3,m4])\n",
    "\n",
    "print(mytable3)"
   ]
  },
  {
   "cell_type": "markdown",
   "id": "3b1d3976",
   "metadata": {},
   "source": [
    "<b>8.Вычислить выборочные среднее и дисперсию с помощью стандартной формулы и с помощью условных вариант. Убедиться, что результаты совпадают</b>"
   ]
  },
  {
   "cell_type": "markdown",
   "id": "70c16def",
   "metadata": {},
   "source": [
    "Стандартная формула для выборочной средней: <br>\n",
    "$\\bar{x_{в}}=\\frac{1}{n}\\sum_{i=1}^{k}x_{i}n_{i} \\\\ $\n",
    "Выборочное среднее через условные варианты:\n",
    "$ \\bar{x_{в}}=h\\nu_{1}^{*}+C \\\\ $\n",
    "Стандартная формула для дисперсии:\n",
    "$ \\sigma_{в}^{2}=\\frac{1}{n}\\sum_{i=1}^{k}n_{i}(x_{i}-\\bar{x_{в}})^{2} \\\\ $\n",
    "Дисперсия через условные варианты:\n",
    "$ \\\\ \\sigma_{в}^{2}=\\mu_{2}^{*} $"
   ]
  },
  {
   "cell_type": "code",
   "execution_count": 15,
   "id": "b2ab313b",
   "metadata": {},
   "outputs": [
    {
     "name": "stdout",
     "output_type": "stream",
     "text": [
      "Выборочное среднее с помощью стандартной формулы: 36.21739130434783\n",
      "Дисперсия с помощью стандартной формулы: 1972.8483931947071\n",
      "Выборочное среднее с помощью условных вариант:  36.217391304347814\n",
      "Дисперсия с помощью условных вариант: 1972.8483931947046\n",
      "Выборочные средние совпадают\n",
      "Дисперсии совпадают\n"
     ]
    }
   ],
   "source": [
    "xn=interval_series['x_mean']*interval_series['n_i']\n",
    "x_mean_stand=xn.sum()/n #вычисление выборочной средней с помощью стандартной формулы\n",
    "d=(interval_series['x_mean']-x_mean_stand)**2*interval_series['n_i']\n",
    "D_stand=d.sum()/n #вычисление дисперсии с помощью стандартной формулы\n",
    "print('Выборочное среднее с помощью стандартной формулы:',x_mean_stand)\n",
    "print('Дисперсия с помощью стандартной формулы:', D_stand)\n",
    "x_mean_cond=h*v1+c #вычисление выборочной средней и дисперсии с помощью условных вариант, вычисленных в предыдущем пункте \n",
    "D_cond=m2\n",
    "print('Выборочное среднее с помощью условных вариант: ',x_mean_cond)\n",
    "print('Дисперсия с помощью условных вариант:', D_cond)\n",
    "if round(x_mean_stand,3)==round(x_mean_cond,3): #сравнение получившихся выборочных средних\n",
    "    print('Выборочные средние совпадают')\n",
    "else:\n",
    "    print('Выборочные средние не совпадают')\n",
    "if round(D_stand,3)==round(D_cond,3):  #сравнение получившихся дисперсий\n",
    "    print('Дисперсии совпадают')\n",
    "else:\n",
    "    print('Дисперсии не совпадают')\n"
   ]
  },
  {
   "cell_type": "markdown",
   "id": "5b2bf4e7",
   "metadata": {},
   "source": [
    "<b>9.Вычислить исправленную выборочную дисперсию и исправленное СКО. Сравнить данные оценки с смещёнными оценками дисперсии и СКО.</b>"
   ]
  },
  {
   "cell_type": "code",
   "execution_count": 16,
   "id": "91761f72",
   "metadata": {},
   "outputs": [
    {
     "name": "stdout",
     "output_type": "stream",
     "text": [
      "Исправленная выборочная дисперсия: 1990.1540808543073\n",
      "Исправленное СКО: 44.61114301219268\n",
      "Смещенная оценка дисперсии 1972.8483931947046\n",
      "Смещенная оценка СКО 44.41675802211036\n",
      "Отношение дисперсий: 1.0087719298245614\n",
      "Отношение СКО: 1.004376388524024\n"
     ]
    }
   ],
   "source": [
    "#вычисление исправленной выбоочной дисперсии и исправленного СКО\n",
    "s2=D_cond*n/(n-1)\n",
    "s=s2**0.5\n",
    "print('Исправленная выборочная дисперсия:',s2)\n",
    "print('Исправленное СКО:',s)\n",
    "print('Смещенная оценка дисперсии',D_cond)\n",
    "print('Смещенная оценка СКО',D_cond**0.5)\n",
    "print('Отношение дисперсий:', s2/D_cond) #сравнение исправленных оценок со смещенными \n",
    "print('Отношение СКО:',s/(D_cond**0.5))"
   ]
  },
  {
   "cell_type": "markdown",
   "id": "1c4dfc30",
   "metadata": {},
   "source": [
    "исправленная выборочная дисперсия и исправленное СКО больше смещенной оценки дисперсии и СКО на n/(n-1) и sqrt(n/(n-1)) соответственно. исправленная выборочная дисперсия и СКО являются несмещенной оценкой генеральной дисперсии и СКО генеральной совокупности"
   ]
  },
  {
   "cell_type": "markdown",
   "id": "f43de286",
   "metadata": {},
   "source": [
    "<b>10.Найти статистическую оценку коэффициентов асимметрии и эксцесса. Сделать выводы.</b>"
   ]
  },
  {
   "cell_type": "code",
   "execution_count": 17,
   "id": "9d4df613",
   "metadata": {},
   "outputs": [
    {
     "name": "stdout",
     "output_type": "stream",
     "text": [
      "Коэффициент асимметрии: 3.1102741042174196\n",
      "Коэффициент эксцесса 10.250497295962427\n"
     ]
    }
   ],
   "source": [
    "#поиск коэффициентов асимметрии и эксцесса\n",
    "a_s=m3/((D_cond**0.5)**3)\n",
    "ek=m4/(D_cond**2)-3\n",
    "print('Коэффициент асимметрии:',a_s)\n",
    "print('Коэффициент эксцесса',ek)"
   ]
  },
  {
   "cell_type": "markdown",
   "id": "f8618bad",
   "metadata": {},
   "source": [
    "<b>11.Вычислить моду, медиану и коэффициент вариации для заданного распределения. Сделать выводы.</b>"
   ]
  },
  {
   "cell_type": "code",
   "execution_count": 18,
   "id": "3ec72a6e",
   "metadata": {},
   "outputs": [
    {
     "name": "stdout",
     "output_type": "stream",
     "text": [
      "Мода: 18.88888888888889\n"
     ]
    }
   ],
   "source": [
    "#вычисление моды \n",
    "l=0\n",
    "n_prev=0\n",
    "n_next=0\n",
    "n_max=0\n",
    "xk=0\n",
    "for l in range(len(interval_series['n_i'])): #поиск модального интервала \n",
    "    if interval_series['n_i'][l]>=n_max:\n",
    "        n_max=interval_series['n_i'][l]\n",
    "        if l==0: #случай, когда модальный интервал самый первый\n",
    "            n_prev=0\n",
    "            n_next=interval_series['n_i'][l+1]\n",
    "        elif l==len(interval_series['x']): #случай, когда модальный интервал последний\n",
    "            n_next=0\n",
    "            n_prev=interval_series['n_i'][l-1]\n",
    "        else: \n",
    "            n_prev=interval_series['n_i'][l-1] \n",
    "            n_next=interval_series['n_i'][l+1] \n",
    "        xk=interval_series['x'][l]\n",
    "        xk=xk.split('-')[0] #начало интервала\n",
    "        xk=float(xk)\n",
    "        \n",
    "Mo=xk+h*(n_max+n_prev)/(2*n_max-(n_prev+n_next)) #вычисление моды по формуле\n",
    "print('Мода:',Mo)"
   ]
  },
  {
   "cell_type": "code",
   "execution_count": 19,
   "id": "5583803f",
   "metadata": {},
   "outputs": [
    {
     "name": "stdout",
     "output_type": "stream",
     "text": [
      "Медиана: 23.0\n"
     ]
    }
   ],
   "source": [
    "ind=-1\n",
    "k=0\n",
    "for k in range(len(n_accumulated)): \n",
    "    if(n_accumulated[k]>n/2): #нахождение медианного интервала\n",
    "        ind=k\n",
    "        xk=interval_series['x'][k]\n",
    "        xk=xk.split('-')[0]\n",
    "        xk=float(xk)\n",
    "        if k==0:\n",
    "            nprev=0\n",
    "        else:\n",
    "            nprev=n_accumulated[k-1]\n",
    "        break\n",
    "Me=xk+((0.5*n-nprev)/interval_series['n_i'][ind]*h) #вычисление медианы по формуле\n",
    "print('Медиана:',Me)\n"
   ]
  },
  {
   "cell_type": "code",
   "execution_count": 20,
   "id": "45de993f",
   "metadata": {},
   "outputs": [
    {
     "name": "stdout",
     "output_type": "stream",
     "text": [
      "Коэффициент вариации: 122.6393078641703\n"
     ]
    }
   ],
   "source": [
    "cov=((D_cond**0.5)/x_mean_cond)*100\n",
    "print('Коэффициент вариации:',cov)\n",
    "#вычисление коэффициентов вариации"
   ]
  },
  {
   "cell_type": "markdown",
   "id": "7e47e9b6",
   "metadata": {},
   "source": [
    "коэффициент вариации большой, большой разброс исследуемых значений"
   ]
  },
  {
   "cell_type": "markdown",
   "id": "75d4886a",
   "metadata": {},
   "source": [
    "<b>12.Вычислить точность и доверительный интервал для математического ожидания при неизвестном среднеквадратичном отклонении при заданном объёме выборки для доверительной точности 𝛾 ∈ {0.95, 0.99}. Сделать выводы</b>"
   ]
  },
  {
   "cell_type": "markdown",
   "id": "389efdc9",
   "metadata": {},
   "source": [
    "Доверительный интервал для математического ожидания при неизвестном СКО:\n",
    "$(\\bar{x_{в}}-\\frac{t_{\\gamma}s}{\\sqrt{n}},\\bar{x_{в}}+\\frac{t_{\\gamma}s}{\\sqrt{n}}) $\n",
    "\n",
    "$t_{\\gamma}=t(\\gamma,n) $ - распределение Стьюдента для доверительной точности $\\gamma$\n",
    "\n",
    "Точность оценки:\n",
    "$\\delta=\\frac{t_{\\gamma}s}{\\sqrt{n}}$"
   ]
  },
  {
   "cell_type": "code",
   "execution_count": 21,
   "id": "613e7f93",
   "metadata": {},
   "outputs": [
    {
     "name": "stdout",
     "output_type": "stream",
     "text": [
      "точность оценки для доверительной точности 0.95: 6.898178683803329\n",
      "точность оценки для доверительной точности 0.99: 9.814344910060079\n",
      "Доверительный интервал для математического ожидания для доверительной точности 0.95: (29.319212620544484,43.115569988151144)\n",
      "Доверительный интервал для математического ожидания для доверительной точности 0.99: (26.403046394287735,46.03173621440789)\n"
     ]
    }
   ],
   "source": [
    "import scipy\n",
    "from scipy import stats\n",
    "def t(gam,n):\n",
    "    return scipy.stats.t.ppf(gam, n) #распределение Стьюдента\n",
    "#вычисление точности оценки \n",
    "accuracy95=t(0.95,n)*s/(n**0.5)\n",
    "accuracy99=t(0.99,n)*s/(n**0.5)\n",
    "#вычисление доверительного интервала\n",
    "interval95=f'({x_mean_cond-accuracy95},{x_mean_cond+accuracy95})'\n",
    "interval99=f'({x_mean_cond-accuracy99},{x_mean_cond+accuracy99})'\n",
    "print('точность оценки для доверительной точности 0.95:',accuracy95)\n",
    "print('точность оценки для доверительной точности 0.99:',accuracy99)\n",
    "print('Доверительный интервал для математического ожидания для доверительной точности 0.95:',interval95)\n",
    "print('Доверительный интервал для математического ожидания для доверительной точности 0.99:',interval99)"
   ]
  },
  {
   "cell_type": "markdown",
   "id": "b984802e",
   "metadata": {},
   "source": [
    "Получившиеся интервалы с вероятностью 0,95 и 0,99 соответственно накрывают истинное значение математического ожидания измеряемой величины ."
   ]
  },
  {
   "cell_type": "markdown",
   "id": "80ab12f1",
   "metadata": {},
   "source": [
    "<b>13.Для вычисления границ доверительного интервала для среднеквадратичного отклонения определить значение 𝑞 при заданных 𝛾 и 𝑛.Построить доверительные интервалы, сделать выводы.</b>"
   ]
  },
  {
   "cell_type": "markdown",
   "id": "1105464f",
   "metadata": {},
   "source": [
    "Доверительный интервал, покрывающий $\\sigma_{g}$ с заданной надежностью\n",
    "\n",
    "\n",
    "   $ s(1-q)<\\sigma_{g}<s(1+q) , \\text{if q<1 } \\\\ $\n",
    "    $ 0<\\sigma_{g}<s(1+q) , \\text{if q>1} $\n",
    "\n",
    "\n",
    "\n",
    "q=q($\\gamma$,n)"
   ]
  },
  {
   "cell_type": "code",
   "execution_count": 22,
   "id": "93ed76ef",
   "metadata": {},
   "outputs": [
    {
     "name": "stdout",
     "output_type": "stream",
     "text": [
      "Доверительный интервал с доверительной точностью 0,95:  (38.588638705546664,50.63364731883869)\n",
      "Доверительный интервал с доверительной точностью 0,99:  (36.35808155493703,52.864204469448325)\n"
     ]
    }
   ],
   "source": [
    "q95=0.135\n",
    "q99=0.185\n",
    "#вычисление доверительных интервалов\n",
    "intsko95=f'({s*(1-q95)},{s*(1+q95)})'\n",
    "intsko99=f'({s*(1-q99)},{s*(1+q99)})'\n",
    "print('Доверительный интервал с доверительной точностью 0,95: ',intsko95)\n",
    "print('Доверительный интервал с доверительной точностью 0,99: ',intsko99)"
   ]
  },
  {
   "cell_type": "markdown",
   "id": "c9cab9bb",
   "metadata": {},
   "source": [
    " Получившиеся интервалы с вероятностью 0,95 и 0,99 соответственно накрывают истинное значение $\\sigma_{г}$ измеряемой величины ."
   ]
  },
  {
   "cell_type": "markdown",
   "id": "381ca461",
   "metadata": {},
   "source": [
    "<b>14.Проверить гипотезу о нормальности заданного распределения с помощью критерия 𝜒2 (Пирсона). Для этого необходимо найти теоретические частоты и вычислить наблюдаемое значение критерия.Для удобства вычисления необходимо заполнить расчётную таблицу. Проконтролировать корректность вычисления 𝜒2набл. Далее по за-данному уровню значимости 𝛼 = 0.05 и числу степеней свободы 𝑑𝑓 найти критическую точку 𝜒2 крит и сравнить с наблюдаемым значением. Сделать выводы.</b>"
   ]
  },
  {
   "cell_type": "code",
   "execution_count": 58,
   "id": "9a4809cf",
   "metadata": {},
   "outputs": [],
   "source": [
    "k=0\n",
    "j=0\n",
    "i=[]\n",
    "xj=[]\n",
    "p_i=[]\n",
    "equaliz_n=[]\n",
    "sum_p_i=0\n",
    "sum_eq_n=0\n",
    "from scipy import integrate\n",
    "import numpy as np\n",
    "def laplace(x): #функция Лапласа\n",
    "    def f(t):\n",
    "        return np.exp(-t**2/2)\n",
    "    integr,err= integrate.quad(f, 0, x)\n",
    "    return integr/np.sqrt(2*np.pi)\n",
    "for k in range(8):\n",
    "    i.append(k+1) #формирование столбца i\n",
    "for j in range(len(interval_series['x'])):\n",
    "    x0=float(interval_series['x'][j].split('-')[0]) #начало интервала\n",
    "    x1=float(interval_series['x'][j].split('-')[1]) #конец интервала\n",
    "    F0=laplace((x0-x_mean_cond)/s)\n",
    "    F1=laplace((x1-x_mean_cond)/s)\n",
    "    if j==0: \n",
    "        x0='-∞'\n",
    "        F0=-0.5\n",
    "    if j==len(interval_series['x'])-1:\n",
    "        x1='+∞'\n",
    "        F1=0.5\n",
    "\n",
    "    p_i.append(round((F1-F0),7)) #вычисление p_i\n",
    "    sum_p_i+=F1-F0\n",
    "    xj.append(f'({x0},{x1})')\n",
    "l=0\n",
    "for l in range(len(interval_series['n_i'])): #вычисление теоретических частот\n",
    "    equaliz_n.append(round(n*p_i[l],7))\n",
    "    sum_eq_n+=n*p_i[l]"
   ]
  },
  {
   "cell_type": "code",
   "execution_count": 59,
   "id": "0d4f4bad",
   "metadata": {},
   "outputs": [],
   "source": [
    "l=0\n",
    "col_6=[]\n",
    "for l in range(len(interval_series['n_i'])): #вычисление значений для последующего заполнения таблицы\n",
    "    col_6=round(((interval_series['n_i']-equaliz_n)**2),8)\n",
    "    col_7=round((((interval_series['n_i']-equaliz_n)**2)/equaliz_n),8)\n",
    "    col_8=interval_series['n_i']**2\n",
    "    col_9=col_8/equaliz_n"
   ]
  },
  {
   "cell_type": "code",
   "execution_count": 60,
   "id": "7841f0bb",
   "metadata": {},
   "outputs": [
    {
     "name": "stdout",
     "output_type": "stream",
     "text": [
      "+-----+---------------+-----+-----------+-----------+--------------+--------------------+-------+--------------------+\n",
      "|  i  |   x_i-1,x_i   | n_i |    p_i    |    n_i'   | (n_i-n_i')^2 | (n_i-n_i')^2/n_i'  | n_i^2 |     n_i^2/n_i'     |\n",
      "+-----+---------------+-----+-----------+-----------+--------------+--------------------+-------+--------------------+\n",
      "|  1  |   (-∞,34.0)   |  85 | 0.4801788 | 55.220562 | 886.8149276  |    16.05950565     |  7225 | 130.8389436529096  |\n",
      "|  2  |  (34.0,68.0)  |  17 |  0.281724 |  32.39826 | 237.10641103 |     7.31849214     |  289  |  8.92023213592335  |\n",
      "|  3  |  (68.0,102.0) |  5  | 0.1679342 | 19.312433 | 204.84573838 |    10.60693587     |   25  | 1.2945028728384456 |\n",
      "|  4  | (102.0,136.0) |  1  | 0.0575107 | 6.6137305 | 31.51397013  |     4.7649311      |   1   | 0.1512005970004372 |\n",
      "|  5  | (136.0,170.0) |  4  | 0.0112974 |  1.299201 |  7.29431524  |     5.61446246     |   16  | 12.315261456849248 |\n",
      "|  6  | (170.0,204.0) |  1  | 0.0012703 | 0.1460845 |  0.72917168  |     4.9914377      |   1   | 6.845353203111897  |\n",
      "|  7  | (204.0,238.0) |  0  |  8.16e-05 |  0.009384 |  8.806e-05   |      0.009384      |   0   |        0.0         |\n",
      "|  8  |   (238.0,+∞)  |  2  |   3e-06   |  0.000345 |  3.99862012  |   11590.20324355   |   4   | 11594.202898550726 |\n",
      "| sum |               | 115 |    1.0    |   115.0   |      -       | 11639.568392470002 |   -   | 11754.568392469359 |\n",
      "+-----+---------------+-----+-----------+-----------+--------------+--------------------+-------+--------------------+\n"
     ]
    }
   ],
   "source": [
    "mytable4 = PrettyTable()\n",
    "#заполнение расчетной таблицы\n",
    "mytable4.add_column('i',i)\n",
    "mytable4.add_column('x_i-1,x_i',xj)\n",
    "mytable4.add_column('n_i',interval_series['n_i'])\n",
    "mytable4.add_column('p_i',p_i)\n",
    "mytable4.add_column(\"n_i\\'\",equaliz_n)\n",
    "mytable4.add_column(\"(n_i-n_i\\')^2\",col_6)\n",
    "mytable4.add_column(\"(n_i-n_i\\')^2/n_i\\'\",col_7)\n",
    "mytable4.add_column('n_i^2',col_8)\n",
    "mytable4.add_column(\"n_i^2/n_i\\'\",col_9)\n",
    "mytable4.add_row(['sum','',sum_n,sum_p_i,round(sum_eq_n,8),'-',col_7.sum(),'-',col_9.sum()])\n",
    "print(mytable4)"
   ]
  },
  {
   "cell_type": "code",
   "execution_count": 61,
   "id": "faf85c8e",
   "metadata": {},
   "outputs": [
    {
     "name": "stdout",
     "output_type": "stream",
     "text": [
      "Вычисления корректны\n"
     ]
    }
   ],
   "source": [
    "#контроль корректности вычислений\n",
    "if round(col_9.sum()-n,5)==round(col_7.sum(),5):\n",
    "    print('Вычисления корректны')\n",
    "else:\n",
    "    print('Вычисления некорректны')"
   ]
  },
  {
   "cell_type": "markdown",
   "id": "979a087f",
   "metadata": {},
   "source": [
    "Если $\\chi^{2}_{obs.}<\\chi^{2}_{crit}$ то закон теоретического распределения не противоречит опытным данным, нет основания отвергать гипотезу о выбранном законе распределения, иначе гипотеза отвергается"
   ]
  },
  {
   "cell_type": "code",
   "execution_count": 62,
   "id": "9626ebe8",
   "metadata": {},
   "outputs": [
    {
     "name": "stdout",
     "output_type": "stream",
     "text": [
      "Гипотеза о нормальном распределении не принимается\n"
     ]
    }
   ],
   "source": [
    "x_observable=col_7.sum() #нахождение хи набл. по расчетной таблице \n",
    "#нахождение по таблице критической точки распределения Пирсона с уровнем значимости 0.05 и с числом степеней свободы 5\n",
    "x_critical=11.1 \n",
    "if x_observable<x_critical:\n",
    "    print('Гипотеза о нормальном распределении принимается')\n",
    "else:\n",
    "    print('Гипотеза о нормальном распределении не принимается')"
   ]
  },
  {
   "cell_type": "markdown",
   "id": "60428e94",
   "metadata": {},
   "source": [
    "## Выводы:\n",
    "В процессе работы было осуществлено формирование репрезентативной выборки объема 115 из имеющейся генеральной совокупности экспериментальных данных. Осуществлено последовательное преобразование полученной выборки в ранжированный, вариационный и интервальный ряды. Применительно к интервальному ряду были построены и отображены графический полигон, гистограмма и эмпирическая функция распределения для абсолютных и относительных частот. Для заданных выборочных данных было вычислено с использованием метода моментов и условных вариант точечные статистические оценки математического ожидания, дисперсии, среднеквадратичного отклонения, асимметрии, эксцесса, моды, медианы и коэффициента вариации исследуемой случайной величины. Для заданной надёжности были определены границы доверительных интервалов для математического ожидания и среднеквадратичного отклонения случайной величины. Была проверена гипотеза о нормальном распределении исследуемой случайной величины с помощью критерия Пирсона 𝜒2, гипотеза не принялась."
   ]
  },
 ],
 "metadata": {
  "kernelspec": {
   "display_name": "Python 3 (ipykernel)",
   "language": "python",
   "name": "python3"
  },
  "language_info": {
   "codemirror_mode": {
    "name": "ipython",
    "version": 3
   },
   "file_extension": ".py",
   "mimetype": "text/x-python",
   "name": "python",
   "nbconvert_exporter": "python",
   "pygments_lexer": "ipython3",
   "version": "3.9.12"
  }
 },
 "nbformat": 4,
 "nbformat_minor": 5
}
