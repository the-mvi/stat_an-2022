{
 "cells": [
  {
   "cell_type": "markdown",
   "metadata": {},
   "source": [
    " # Практическая работа №1: Формирование и первичная обработка выборки. Нахождение и точечных и интервальных оценок. Проверка статистических гипотез.\n",
    "    Выполнила студентка гр. 0373 Резенькова Дарья. Вариант №17\n",
    "    "
   ]
  },
  {
   "cell_type": "markdown",
   "metadata": {},
   "source": [
    "## Цель работы\n",
    "Ознакомление с основными правилами формирования выборки и подготовки выборочных данных к статистическому анализу. Получение практических навыков нахождения точечных статистических оценок параметров распределения, а также вычисления интервальных статистических оценок параметров распределения выборочных данных и проверки\n",
    "«справедливости» статистических гипотез."
   ]
  },
  {
   "cell_type": "markdown",
   "metadata": {},
   "source": [
    "## Основные теоретические положения\n",
    "*Выборка* - совокупность случайно отобранных объектов. Объём = n. \n",
    "\n",
    "*Генеральная совокупность* - совокупность объектов, из которых производится выборка. Объём = N (n$\\leq $N)\n",
    "\n",
    "*Ранжированный ряд* - распределение элементов совокупности в порядке возрастания (или убывания).\n",
    "\n",
    "*Вариационный ряд* -  ранжированный ряд вариант с соответствующими им весами.\n",
    "\n",
    "*Интервальный вариационный ряд* - весь промежуток измерения значений выборки $[x_{min},x_{max}]$ разбивают на частичный интервал.\n",
    "\n",
    "Формула Стёрджесса: $k=1+log_{2}n$ (целое число)\n",
    "\n",
    "Длина интервала: $h=\\frac{R}{k}$, где R - размах выборки: $R=x_{max}-x_{min}$\n",
    "\n",
    "$x_{i}$ - варианты, $n_{i}$ - абсолютные частоты (веса), $p_{i}^{*}=\\frac{n_{i}}{n}$ - относительные частоты\n",
    "\n",
    "*Полигон частот* - ломаная линия, соединяющая точки дискретного ряда $(x_{1},n_{1}),(x_{2},n_{2})...(x_{k},n_{k})$.\n",
    "*Полигон относительных частот* - ломаная линия,соединяющая точки дискретного ряда $(x_{1},p_{1}^{*}),(x_{2},p_{1}^{*})... (x_{k},p_{1}^{*})$\n",
    "\n",
    "*Гистограмма частот (относительных частот)*- ступенчатая фигура, состоящая из прямоугольников, основаниями которых явялются частичные интервалы, а высота равна: $f_{i}=\\frac{n_{i}}{h}$ (для относительных частот: $f_{i}^{*}=\\frac{p_{i}^{*}}{h}$).\n",
    "\n",
    "*Эмпирическая функция распределения* - функция $F^{*}(x)$ задающая для каждого значения x относительную частоту события {X<x}: $F^{*}(x)=\\frac{n_{x}}{n} $ где $n_{x}$ - число выборочных значений величины X, меньших x.\n",
    "\n",
    "*Выборочное среднее* - среднее арифметическое значений признака выборочной совокупности: $\\overline{x_{B}}=\\frac{1}{n}\\sum_{i=1}^{n}x_{i}=\\sum_{i=1}^{k}\\frac{x_{i}n_{i}}{n}=\\sum_{i=1}^{k}x_{i}p_{i}^{*}$.\n",
    "\n",
    "*Выборочная дисперсия* - среднее арифметическое квадратов отклонени1 наблюдаемых значений признака от из средних значений $\\overline{x_{B}}$ : $\\sigma_{B}^{2}=\\frac{1}{n}\\sum_{i=1}^{n}(x_{i}-\\overline{x_{B}})^2=\\sum_{i=1}^{k}\\frac{(x_{i}-\\overline{x_{B}})^2n_{i}}{n}=\\sum_{i=1}^{k}(x_{i}-\\overline{x_{B}})^2p_{i}^{*}$\n",
    "\n",
    "*Выборочное СКО*: $\\sigma_{B}=\\sqrt{\\sigma_{B}^{2}}$\n",
    "\n",
    "*Мода вариационного ряда* - такое значение варианты, которой соответствует наибольшая частота. *Мода $M_{o}^{*}$ интервального ряда* - число, заключённое в частичном интервале, которому соответсвует наибольшая частота. $M_{o}^{*}=x_{M_{o}}^{(0)}+h\\frac{n_{M_{o}}-n_{M_{o}-1}}{(n_{M_{o}}-n_{M_{o}-1})+(n_{M_{o}}-n_{M_{o}+1})}$, где $n_{M_{o}}$ - частота, модального интервала, $n_{M_{o}-1}$ - частота, соответствующая предыдущему интервалу, $n_{M_{o}+1}$ - частота, соответствующая следующему интервалу, $x_{M_{o}}^{(0)}$ - варианта, соответствующая среднему значению интервала наибольшей частоты\n",
    "\n",
    "*Медиана вариационного ряда* - значение признака, приходящееся на середину ранжированного ряда наблюдений. *Медиана $M_{e}^{*}$интервального ряда* - число, принадлежащее частичному интервалу, для которого накопленная частота состовляет половину или больше половины всей суммы частот, а предыдущая накопленная частота меньше половины всей суммы частот. $M_{e}^{*}=x_{M_{e}}^{(0)}+\\frac{h}{p_{M_{e}}^{*}}(0,5 - p\\sum_{M_{e}-1})$, где $p_{M_{e}}^{*}$ - относительная частота медианного интервала, $p\\sum_{M_{e}-1}$ - накопленная относительная частота, соответствующая предыдущему частичному интервалу,  $x_{M_{e}}^{(0)}$ - варианта, соответствующая среднему значению интервала, для которого накопленная частота состовляет половину или больше половины всей суммы частот, а предыдущая накопленная частота меньше половины всей суммы частот.\n",
    "\n",
    "*Условные варианты* - варианты, определяемые равенством $u_{i}=\\frac{x_{i}-C}{h}$, где C - ложный нуль (середина вариационного ряда). Если вариационный ряд состоит из равноостоящих вариант с шагом h, то условные варианты $u_{i}\\in\\mathbb{Z}$\n",
    "\n",
    "*Обычный эмпирический момент порядка r* - среднее значение r-ых степеней разностей $x_{i}-C$: $\\nu_{r}^{'}=\\frac{1}{n}\\sum_{i=1}^{k}n_{i}(x_{i}-C)^r$\n",
    "\n",
    "*Начальный эмпирический момент порядка r* - обычный момент порядка r при C=0: $\\nu_{r}=\\frac{1}{n}\\sum_{i=1}^{k}n_{i}x_{i}^{r}$\n",
    "\n",
    "*Условный эмпирический момент порядка r* - начальный момент порядка r, вычисленный для условных вариант: $\\nu_{r}^{*}=\\frac{1}{n}\\sum_{i=1}^{k}n_{i}x_{i}^{r}=\\frac{1}{n}\\sum_{i=1}^{k}n_{i}(\\frac{x_{i}-C}{h})^r$\n",
    "\n",
    "*Центральный эмпирический момент порядка r* - обычный момент r при $C=\\overline{x_{B}}$: $\\mu_{r}^{*}=\\frac{1}{n}\\sum_{i=1}^{k}n_{i}(x_{i}-\\overline{x_{B}})^r$\n",
    "\n",
    "> 1) $\\mu_{1}^{*}=0$\n",
    "\n",
    "> 2) $\\mu_{2}^{*}=(\\nu_{2}^{*}-(\\nu_{1}^{*})^2)h^2$\n",
    "\n",
    "> 3) $\\mu_{3}^{*}=(\\nu_{3}^{*}-3\\nu_{2}^{*}\\nu_{1}^{*}+2(\\nu_{1}^{*})^3)h^3$\n",
    "\n",
    "> 4) $\\mu_{4}^{*}=(\\nu_{4}^{*}-4\\nu_{3}^{*}\\nu_{1}^{*}+6\\nu_{2}^{*}(\\nu_{1}^{*})^2-3(\\nu_{1}^{*})^4)h^4$\n",
    "\n",
    "$\\overline{x_{B}}=h\\nu_{1}^{*}+C$, $\\sigma_{B}^{2}=\\mu_{2}^{*}$\n",
    "\n",
    "*Исправленная выборочная дисперсия*: $s^2=\\frac{n}{n-1}\\sigma_{B}^{2}$. *Исправленное СКО*: $s=\\sqrt{s^2}$\n",
    "\n",
    "*Выборочный коэффициент ассиметрии*: $a_{s}^{*}=\\frac{\\mu_{3}^{8}}{\\sigma_{B}^{3}}$\n",
    "\n",
    "*Выборочный коэффициент экцесса*: $\\varepsilon_{k}^{*}=\\frac{\\mu_{4}^{*}}{\\sigma_{B}^{4}}-3$\n",
    "\n",
    "*Доверительный интервал* - интервал $(\\theta^{*}-\\delta;\\theta^{*}+\\delta)$, который покрывает неизвестный параметр $\\theta$ с заданной надёжностью $\\gamma$\n",
    "\n",
    "> Случай 1: \n",
    "\n",
    ">Доверительный интервал для оценки неизвестного МО при известном $\\sigma$ и доверительной надежности $\\gamma$: $(\\overline{x_{B}}-\\frac{t\\sigma}{\\sqrt{n}};\\overline{x_{B}}-\\frac{t\\sigma}{\\sqrt{n}})$, здесь $\\Phi(t)=\\frac{\\gamma}{2}$ ($\\Phi(t)$ - функция Лапласа).\n",
    "\n",
    "> Случай 2: \n",
    "\n",
    ">Доверительный интервал для оценки неизвестного МО при неизвестном $\\sigma$ и доверительной надежности $\\gamma$: $(\\overline{x_{B}}-\\frac{t_{\\gamma}s}{\\sqrt{n}};\\overline{x_{B}}+\\frac{t_{\\gamma}s}{\\sqrt{n}})$, где $t_{\\gamma}=t(\\gamma,n)$ - табулировано распределение Стьюдента.\n",
    "\n",
    "> Случай 3: \n",
    "\n",
    ">Доверительный интервал для оценки неизвестного МО при неизвестном $\\sigma$, но известном объёме генеральной совокупности N и доверительной надёжности $\\gamma$: $(\\overline{x_{B}}-\\frac{t_{\\gamma}s}{\\sqrt{n}}\\sqrt{1-\\frac{n}{N}};\\overline{x_{B}}+\\frac{t_{\\gamma}s}{\\sqrt{n}}\\sqrt{1-\\frac{n}{N}})$\n",
    "\n",
    ">Доверительный интервал для оценки генерального СКО $\\sigma$ с заданной надёжностью:\n",
    "\n",
    ">>$s(1-q)<\\sigma<s(1+q)$, если q<1\n",
    "\n",
    ">>$0<\\sigma<s(1+q)$, если q>1 \n",
    "\n",
    "> Значение q=q($\\sigma$,n) табулировано.\n",
    "\n",
    "*Статистическая гипотеза* - любое предположение о генеральной совокупности, проверяемое по выборке. \n",
    "\n",
    "Вероятность попадания в интервал $\\mathbb{P}(x_{i-1}<x<x_{i})=\\Phi(\\frac{x_{i}-a}{\\sigma})-\\Phi(\\frac{x_{i-1}-a}{\\sigma})$\n",
    "\n",
    "Критерий согласия - статистический критерий проверки гипотезы о предполагаемом законе неизвестного распределения. Критерий согласия используется для проверки согласия предполагаемого вида распределения с опытными данными на основании выборки.\n",
    "\n",
    "*Теоретические частоты* - частоты, которые находятся по формуле $n_{i}^{'}=np_{i}$, где n - объём выборки,$p_{i}$ - точечная вероятность варианты $x_{i}$ дискретной случайной величины или интервальная вероятность для варианты $x\\in(x_{i-1};x_{i}]$ непрерывной случайной величины.\n",
    "\n",
    "*Статистика*: $\\chi_{nabl}^{2}=\\sum_{i=1}^{k}\\frac{(n_{i}-n_{i}^{'})^2}{n_{i}{'}}=\\sum_{i=1}^{k}\\frac{n_{i}^{2}}{n_{i}^{'}}-n$\n",
    "\n",
    "$\\chi_{krit}^{2}=\\chi^{2}(\\alpha, df)$, где $\\alpha$ - заданный уровень значимости, $df=k-r-1$ - число степеней свободы, где k - число частичных интервалов выборки, r -  число параметров дифференциальной функции распределения.\n",
    "\n",
    "\n"
   ]
  },
  {
   "cell_type": "markdown",
   "metadata": {},
   "source": [
    "## Постановка задачи\n",
    "Осуществить формирование репрезентативной выборки заданного объема из имеющейся генеральной совокупности экспериментальных данных. Осуществить последовательное преобразование полученной выборки в ранжированный, вариационный и интервальный ряды. Применительно к интервальному ряду построить и отобразить графически полигон, гистограмму и эмпирическую функцию распределения для абсолютных и относительных частот. Для заданных выборочных данных вычислить с использованием метода моментов и условных вариант точечные статистические оценки математического ожидания, дисперсии, среднеквадратичного отклонения, асимметрии, эксцесса, моды, медианы и коэффи\u0002циента вариации исследуемой случайной величины. Для заданной надёжности определить границы доверительных интервалов для математического ожидания и среднеквадратичного отклонения случайной величины. Проверить гипотезу о нормальном распределении исследуемой случайной величины с помощью критерия Пирсона $𝜒^{2}$.Полученные результаты содержательно проинтерпретировать.\n"
   ]
  },
  {
   "cell_type": "markdown",
   "metadata": {},
   "source": [
    "## Выполнение работы"
   ]
  },
  {
   "cell_type": "markdown",
   "metadata": {},
   "source": [
    "## Пункт 1\n",
    "Из генеральной совокупности, которая была предоставлена в moodle сформирована случайная(простая) выборка."
   ]
  },
  {
   "cell_type": "code",
   "execution_count": 44,
   "metadata": {
    "execution": {
     "iopub.execute_input": "2022-10-29T20:44:29.446597Z",
     "iopub.status.busy": "2022-10-29T20:44:29.446128Z",
     "iopub.status.idle": "2022-10-29T20:44:29.460433Z",
     "shell.execute_reply": "2022-10-29T20:44:29.459359Z",
     "shell.execute_reply.started": "2022-10-29T20:44:29.446540Z"
    }
   },
   "outputs": [],
   "source": [
    "vx = [510,403,525,543,412,453,422,331,467,545,542,421,405,434,463,475,463,392,523,423,386,321,351,481,488,443,490,396,502,500,514,445,473,522,462,438,406,480,573,518,394,440,446,437,397,442,426,458,499,399,436,468,503,518,446,400,440,497,480,422,448,576,507,437,428,516,441,525,477,432,369,525,470,475,434,436,392,441,401,501,493,352,493,378,503,477,421,503,475,483,523,404,437,442,331,438,482,453,407,453,438,435,480,413,468,453,451,532,438,412,467,498,406,424,458,426,557,493,476,448]\n",
    "vy = [162.3,123.9,156.5,155.4,116.3,124.2,117.9,74.1,113.0,145.3,146.1,124.2,103.6,140.4,136.7,143.6,144.9,82.7,148.7,131.1,95.5,86.1,89.0,148.3,134.1,137.4,139.9,90.1,132.5,155.5,174.6,124.7,136.4,154.5,138.8,122.2,110.1,153.9,156.5,144.4,112.1,105.7,130.3,129.2,108.6,126.2,129.1,128.0,144.5,95.8,114.3,128.6,149.9,151.3,144.0,114.6,133.1,147.3,114.0,115.7,125.6,170.1,142.4,145.1,130.3,132.6,126.1,148.3,139.7,123.0,84.3,165.9,146.7,155.7,110.5,116.7,106.6,122.8,100.1,130.4,154.5,84.9,129.7,103.8,134.7,146.0,107.9,146.6,132.0,130.3,172.8,112.0,115.1,123.4,84.6,122.2,141.2,131.2,110.5,126.4,131.4,131.6,146.1,110.8,142.0,138.2,128.6,160.6,127.0,117.9,135.1,144.3,112.4,117.1,124.4,121.1,151.9,149.7,143.0,125.0]"
   ]
  },
  {
   "cell_type": "markdown",
   "metadata": {},
   "source": [
    "## Пункт 2"
   ]
  },
  {
   "cell_type": "code",
   "execution_count": 45,
   "metadata": {
    "execution": {
     "iopub.execute_input": "2022-10-29T20:44:29.463291Z",
     "iopub.status.busy": "2022-10-29T20:44:29.462559Z",
     "iopub.status.idle": "2022-10-29T20:44:29.502281Z",
     "shell.execute_reply": "2022-10-29T20:44:29.501433Z",
     "shell.execute_reply.started": "2022-10-29T20:44:29.463247Z"
    }
   },
   "outputs": [
    {
     "name": "stdout",
     "output_type": "stream",
     "text": [
      "Ранжированный ряд:\n",
      "321 331 331 351 352 369 378 386 392 392  \n",
      "394 396 397 399 400 401 403 404 405 406  \n",
      "406 407 412 412 413 421 421 422 422 423  \n",
      "424 426 426 428 432 434 434 435 436 436  \n",
      "437 437 437 438 438 438 438 440 440 441  \n",
      "441 442 442 443 445 446 446 448 448 451  \n",
      "453 453 453 453 458 458 462 463 463 467  \n",
      "467 468 468 470 473 475 475 475 476 477  \n",
      "477 480 480 480 481 482 483 488 490 493  \n",
      "493 493 497 498 499 500 501 502 503 503  \n",
      "503 507 510 514 516 518 518 522 523 523  \n",
      "525 525 525 532 542 543 545 557 573 576  \n"
     ]
    }
   ],
   "source": [
    "vx.sort()\n",
    "print(\"Ранжированный ряд:\")\n",
    "for i in range(len(vx)):\n",
    "    if (i+1)%10 == 0:\n",
    "        print(vx[i],' ')\n",
    "    else:\n",
    "        print(vx[i], end = ' ')\n"
   ]
  },
  {
   "cell_type": "code",
   "execution_count": 46,
   "metadata": {
    "execution": {
     "iopub.execute_input": "2022-10-29T20:44:29.504810Z",
     "iopub.status.busy": "2022-10-29T20:44:29.504068Z",
     "iopub.status.idle": "2022-10-29T20:44:29.520412Z",
     "shell.execute_reply": "2022-10-29T20:44:29.518360Z",
     "shell.execute_reply.started": "2022-10-29T20:44:29.504750Z"
    }
   },
   "outputs": [
    {
     "name": "stdout",
     "output_type": "stream",
     "text": [
      "Вариационный ряд:\n",
      "321 - 1 331 - 2 351 - 1 352 - 1 369 - 1 378 - 1\n",
      "386 - 1 392 - 2 394 - 1 396 - 1 397 - 1 399 - 1\n",
      "400 - 1 401 - 1 403 - 1 404 - 1 405 - 1 406 - 2\n",
      "407 - 1 412 - 2 413 - 1 421 - 2 422 - 2 423 - 1\n",
      "424 - 1 426 - 2 428 - 1 432 - 1 434 - 2 435 - 1\n",
      "436 - 2 437 - 3 438 - 4 440 - 2 441 - 2 442 - 2\n",
      "443 - 1 445 - 1 446 - 2 448 - 2 451 - 1 453 - 4\n",
      "458 - 2 462 - 1 463 - 2 467 - 2 468 - 2 470 - 1\n",
      "473 - 1 475 - 3 476 - 1 477 - 2 480 - 3 481 - 1\n",
      "482 - 1 483 - 1 488 - 1 490 - 1 493 - 3 497 - 1\n",
      "498 - 1 499 - 1 500 - 1 501 - 1 502 - 1 503 - 3\n",
      "507 - 1 510 - 1 514 - 1 516 - 1 518 - 2 522 - 1\n",
      "523 - 2 525 - 3 532 - 1 542 - 1 543 - 1 545 - 1\n",
      "557 - 1 573 - 1 576 - 1 "
     ]
    }
   ],
   "source": [
    "print(\"Вариационный ряд:\")\n",
    "kol=[1]*len(vx)\n",
    "for i in range(len(vx)):\n",
    "    kol[i]=vx.count(vx[i])\n",
    "kol_2=kol\n",
    "for i in range(len(vx)):\n",
    "    for j in range(i+1,len(vx)):\n",
    "        if vx[i]==vx[j]:\n",
    "            kol[j]=0\n",
    "l=0\n",
    "for i in range(len(vx)):\n",
    "    if kol[i]!=0:\n",
    "        if l!=5:\n",
    "            print(vx[i],'-',kol[i],end=' ')\n",
    "            l+=1\n",
    "        else:\n",
    "            print(vx[i],'-',kol[i])\n",
    "            l=0\n",
    "        "
   ]
  },
  {
   "cell_type": "code",
   "execution_count": 47,
   "metadata": {
    "execution": {
     "iopub.execute_input": "2022-10-29T20:44:29.524026Z",
     "iopub.status.busy": "2022-10-29T20:44:29.523001Z",
     "iopub.status.idle": "2022-10-29T20:44:29.534972Z",
     "shell.execute_reply": "2022-10-29T20:44:29.533944Z",
     "shell.execute_reply.started": "2022-10-29T20:44:29.523963Z"
    }
   },
   "outputs": [
    {
     "name": "stdout",
     "output_type": "stream",
     "text": [
      "Интервальный ряд:\n",
      "[ 321 , 352.875 ]\n",
      "( 352.875 , 384.75 ]\n",
      "( 384.75 , 416.625 ]\n",
      "( 416.625 , 448.5 ]\n",
      "( 448.5 , 480.375 ]\n",
      "( 480.375 , 512.25 ]\n",
      "( 512.25 , 544.125 ]\n",
      "( 544.125 , 576.0 ]\n"
     ]
    }
   ],
   "source": [
    "import math\n",
    "print(\"Интервальный ряд:\")\n",
    "r=vx[len(vx)-1]-vx[0]\n",
    "k=math.ceil(1+math.log2(len(vx)))\n",
    "h=r/k\n",
    "print(\"[\",vx[0],\",\",vx[0]+h,\"]\")\n",
    "y=[0]*k\n",
    "u=[0]*k\n",
    "y[0]=vx[0]\n",
    "u[0]=vx[0]+h\n",
    "for i in range(1,k):\n",
    "    y[i]= vx[0]+h*i\n",
    "    u[i]= vx[0]+h*(i+1)\n",
    "    print(\"(\",y[i],\",\",u[i],\"]\")\n"
   ]
  },
  {
   "cell_type": "markdown",
   "metadata": {},
   "source": [
    "## Пункт 3"
   ]
  },
  {
   "cell_type": "code",
   "execution_count": 48,
   "metadata": {
    "execution": {
     "iopub.execute_input": "2022-10-29T20:44:29.537309Z",
     "iopub.status.busy": "2022-10-29T20:44:29.536507Z",
     "iopub.status.idle": "2022-10-29T20:44:29.705057Z",
     "shell.execute_reply": "2022-10-29T20:44:29.703819Z",
     "shell.execute_reply.started": "2022-10-29T20:44:29.537273Z"
    }
   },
   "outputs": [
    {
     "name": "stdout",
     "output_type": "stream",
     "text": [
      "Полигон:\n"
     ]
    },
    {
     "data": {
      "text/plain": [
       "[<matplotlib.lines.Line2D at 0x7fd1a706e110>]"
      ]
     },
     "execution_count": 48,
     "metadata": {},
     "output_type": "execute_result"
    },
    {
     "data": {
      "image/png": "[encoded data removed]",
      "text/plain": [
       "<Figure size 432x288 with 1 Axes>"
      ]
     },
     "metadata": {
      "needs_background": "light"
     },
     "output_type": "display_data"
    }
   ],
   "source": [
    "import matplotlib.pyplot as plt\n",
    "import numpy as np\n",
    "kl=[0]*k\n",
    "ser=[0]*k\n",
    "kl[0]=1\n",
    "for i in range(len(y)):\n",
    "    ser[i]=(y[i]+u[i])/2\n",
    "    for j in range(len(vx)):\n",
    "        if (y[i]<vx[j]<=u[i]):\n",
    "            kl[i]+=1\n",
    "print(\"Полигон:\")\n",
    "plt.plot(ser,kl)\n"
   ]
  },
  {
   "cell_type": "code",
   "execution_count": 49,
   "metadata": {
    "execution": {
     "iopub.execute_input": "2022-10-29T20:44:29.707814Z",
     "iopub.status.busy": "2022-10-29T20:44:29.706273Z",
     "iopub.status.idle": "2022-10-29T20:44:29.857303Z",
     "shell.execute_reply": "2022-10-29T20:44:29.856146Z",
     "shell.execute_reply.started": "2022-10-29T20:44:29.707704Z"
    }
   },
   "outputs": [
    {
     "name": "stdout",
     "output_type": "stream",
     "text": [
      "Гистограмма:\n"
     ]
    },
    {
     "data": {
      "image/png": "[encoded data removed]",
      "text/plain": [
       "<Figure size 432x288 with 1 Axes>"
      ]
     },
     "metadata": {
      "needs_background": "light"
     },
     "output_type": "display_data"
    }
   ],
   "source": [
    "print(\"Гистограмма:\")\n",
    "plt.hist(vx, bins=k,edgecolor='black', color='y',weights=np.ones_like(vx) / h)\n",
    "plt.show()"
   ]
  },
  {
   "cell_type": "code",
   "execution_count": 50,
   "metadata": {
    "execution": {
     "iopub.execute_input": "2022-10-29T20:44:29.859139Z",
     "iopub.status.busy": "2022-10-29T20:44:29.858779Z",
     "iopub.status.idle": "2022-10-29T20:44:30.015190Z",
     "shell.execute_reply": "2022-10-29T20:44:30.014410Z",
     "shell.execute_reply.started": "2022-10-29T20:44:29.859109Z"
    }
   },
   "outputs": [
    {
     "name": "stdout",
     "output_type": "stream",
     "text": [
      "Эмпирическая функция:\n"
     ]
    },
    {
     "data": {
      "image/png": "[encoded data removed]",
      "text/plain": [
       "<Figure size 432x288 with 1 Axes>"
      ]
     },
     "metadata": {
      "needs_background": "light"
     },
     "output_type": "display_data"
    }
   ],
   "source": [
    "print(\"Эмпирическая функция:\")\n",
    "n=[0]*k\n",
    "n_1=0\n",
    "for i in range(len(y)):\n",
    "    n_1+=kl[i]\n",
    "    n[i]=n_1\n",
    "    plt.hlines(n[i], y[i], u[i])\n"
   ]
  },
  {
   "cell_type": "markdown",
   "metadata": {},
   "source": [
    "Вывод: по данным графикам нельзя точно сказать, какое распределение имеет выборка (если бы не второй интервал, можно было сказать, что выборка имеет нормальное распределение)"
   ]
  },
  {
   "cell_type": "markdown",
   "metadata": {},
   "source": [
    "## Пункт 4"
   ]
  },
  {
   "cell_type": "code",
   "execution_count": 51,
   "metadata": {
    "execution": {
     "iopub.execute_input": "2022-10-29T20:44:30.017443Z",
     "iopub.status.busy": "2022-10-29T20:44:30.016135Z",
     "iopub.status.idle": "2022-10-29T20:44:30.139994Z",
     "shell.execute_reply": "2022-10-29T20:44:30.139162Z",
     "shell.execute_reply.started": "2022-10-29T20:44:30.017384Z"
    }
   },
   "outputs": [
    {
     "name": "stdout",
     "output_type": "stream",
     "text": [
      "Полигон:\n"
     ]
    },
    {
     "data": {
      "image/png": "[encoded data removed]",
      "text/plain": [
       "<Figure size 432x288 with 1 Axes>"
      ]
     },
     "metadata": {
      "needs_background": "light"
     },
     "output_type": "display_data"
    }
   ],
   "source": [
    "kl_2=[0]*k\n",
    "for i in range(len(y)):\n",
    "    kl_2[i]=kl[i]/len(vx)\n",
    "print(\"Полигон:\")\n",
    "plt.plot(ser,kl_2)\n",
    "plt.show()"
   ]
  },
  {
   "cell_type": "code",
   "execution_count": 52,
   "metadata": {
    "execution": {
     "iopub.execute_input": "2022-10-29T20:44:30.142291Z",
     "iopub.status.busy": "2022-10-29T20:44:30.141185Z",
     "iopub.status.idle": "2022-10-29T20:44:30.273752Z",
     "shell.execute_reply": "2022-10-29T20:44:30.272995Z",
     "shell.execute_reply.started": "2022-10-29T20:44:30.142257Z"
    }
   },
   "outputs": [
    {
     "name": "stdout",
     "output_type": "stream",
     "text": [
      "Гистограмма:\n"
     ]
    },
    {
     "data": {
      "image/png": "[encoded data removed]",
      "text/plain": [
       "<Figure size 432x288 with 1 Axes>"
      ]
     },
     "metadata": {
      "needs_background": "light"
     },
     "output_type": "display_data"
    }
   ],
   "source": [
    "print(\"Гистограмма:\")\n",
    "plt.hist(vx, bins=k, edgecolor='black', weights=(np.ones_like(vx) / len(vx))/h)\n",
    "plt.show()"
   ]
  },
  {
   "cell_type": "code",
   "execution_count": 53,
   "metadata": {
    "execution": {
     "iopub.execute_input": "2022-10-29T20:44:30.277673Z",
     "iopub.status.busy": "2022-10-29T20:44:30.276681Z",
     "iopub.status.idle": "2022-10-29T20:44:30.573708Z",
     "shell.execute_reply": "2022-10-29T20:44:30.572395Z",
     "shell.execute_reply.started": "2022-10-29T20:44:30.277641Z"
    }
   },
   "outputs": [
    {
     "name": "stdout",
     "output_type": "stream",
     "text": [
      "Эмпирическая функция:\n"
     ]
    },
    {
     "data": {
      "image/png": "[encoded data removed]",
      "text/plain": [
       "<Figure size 432x288 with 1 Axes>"
      ]
     },
     "metadata": {
      "needs_background": "light"
     },
     "output_type": "display_data"
    }
   ],
   "source": [
    "print(\"Эмпирическая функция:\")\n",
    "p_1=[0]*k\n",
    "n_2=0\n",
    "for i in range(len(y)):\n",
    "    n_2+=kl[i]\n",
    "    p_1[i]=n_2/len(vx)\n",
    "    plt.hlines(p_1[i], y[i], u[i])"
   ]
  },
  {
   "cell_type": "markdown",
   "metadata": {},
   "source": [
    "Вывод: при наглядном рассмотрении графиков этого пункта и предыдущего, можно сказать, что их вид одинаков, отличие составляет значения по оси Y."
   ]
  },
  {
   "cell_type": "markdown",
   "metadata": {},
   "source": [
    "## Пункт 5"
   ]
  },
  {
   "cell_type": "code",
   "execution_count": 54,
   "metadata": {
    "execution": {
     "iopub.execute_input": "2022-10-29T20:44:30.576259Z",
     "iopub.status.busy": "2022-10-29T20:44:30.575550Z",
     "iopub.status.idle": "2022-10-29T20:44:30.589429Z",
     "shell.execute_reply": "2022-10-29T20:44:30.587988Z",
     "shell.execute_reply.started": "2022-10-29T20:44:30.576222Z"
    }
   },
   "outputs": [
    {
     "name": "stdout",
     "output_type": "stream",
     "text": [
      "+---+-------------------+----------+-----+-------+--------+--------+\n",
      "| i |    (x(i-1);xi]    |   xcp    |  ni |   p   | sum ni | sum pi |\n",
      "+---+-------------------+----------+-----+-------+--------+--------+\n",
      "| 1 |   [321, 352.875]  | 336.9375 |  5  | 0.042 |   5    | 0.042  |\n",
      "| 2 | [352.875, 384.75] | 368.8125 |  2  | 0.017 |   7    | 0.058  |\n",
      "| 3 | [384.75, 416.625] | 400.6875 |  18 |  0.15 |   25   | 0.208  |\n",
      "| 4 |  [416.625, 448.5] | 432.5625 |  34 | 0.283 |   59   | 0.492  |\n",
      "| 5 |  [448.5, 480.375] | 464.4375 |  25 | 0.208 |   84   |  0.7   |\n",
      "| 6 | [480.375, 512.25] | 496.3125 |  19 | 0.158 |  103   | 0.858  |\n",
      "| 7 | [512.25, 544.125] | 528.1875 |  13 | 0.108 |  116   | 0.967  |\n",
      "| 8 |  [544.125, 576.0] | 560.0625 |  4  | 0.033 |  120   |  1.0   |\n",
      "|   |                   |   Cумма  | 120 |   1   |   -    |   -    |\n",
      "+---+-------------------+----------+-----+-------+--------+--------+\n"
     ]
    }
   ],
   "source": [
    "from prettytable import PrettyTable\n",
    "p1=[0]*len(vx)\n",
    "p1_1=[0]*k\n",
    "myTable = PrettyTable([\"i\",\"(x(i-1);xi]\",\"xcp\",\"ni\",\"p\",\"sum ni\",\"sum pi\"])\n",
    "for i in range(len(vx)):\n",
    "    p1[i]+=kol[i]/len(vx)\n",
    "kl2=[0]*k\n",
    "p1_1[0]=kl_2[0]\n",
    "kl2[0]=kl[0]\n",
    "for i in range(1,len(y)):\n",
    "            p1_1[i]=p1_1[i-1]+kl_2[i]\n",
    "            kl2[i]=kl2[i-1]+kl[i]\n",
    "myTable.add_row([1,[y[0],u[0]],ser[0],kl[0],round(kl_2[0],3),kl2[0],round(p1_1[0],3)])\n",
    "for i in range(1,len(y)):\n",
    "    myTable.add_row([i+1,[y[i],u[i]],ser[i],kl[i],round(kl_2[i],3),kl2[i],round(p1_1[i],3)])\n",
    "myTable.add_row([\" \",\" \",\" Cумма\",sum(kl),round(sum(kl_2)),\"-\",\"-\"])\n",
    "print(myTable)"
   ]
  },
  {
   "cell_type": "markdown",
   "metadata": {},
   "source": [
    "## Пункт 6\n"
   ]
  },
  {
   "cell_type": "code",
   "execution_count": 55,
   "metadata": {
    "execution": {
     "iopub.execute_input": "2022-10-29T20:44:30.593195Z",
     "iopub.status.busy": "2022-10-29T20:44:30.591399Z",
     "iopub.status.idle": "2022-10-29T20:44:30.610131Z",
     "shell.execute_reply": "2022-10-29T20:44:30.608409Z",
     "shell.execute_reply.started": "2022-10-29T20:44:30.593141Z"
    }
   },
   "outputs": [
    {
     "name": "stdout",
     "output_type": "stream",
     "text": [
      "+---+----------+-----+----+-----+------+------+------+----------+\n",
      "| i |    x     |  ni | ui |  nu | nu^2 | nu^3 | nu^4 | n(u+1)^4 |\n",
      "+---+----------+-----+----+-----+------+------+------+----------+\n",
      "| 1 | 336.9375 |  5  | -3 | -15 |  45  | -135 | 405  |    80    |\n",
      "| 2 | 368.8125 |  2  | -2 |  -4 |  8   | -16  |  32  |    2     |\n",
      "| 3 | 400.6875 |  18 | -1 | -18 |  18  | -18  |  18  |    0     |\n",
      "| 4 | 432.5625 |  34 | 0  |  0  |  0   |  0   |  0   |    34    |\n",
      "| 5 | 464.4375 |  25 | 1  |  25 |  25  |  25  |  25  |   400    |\n",
      "| 6 | 496.3125 |  19 | 2  |  38 |  76  | 152  | 304  |   1539   |\n",
      "| 7 | 528.1875 |  13 | 3  |  39 | 117  | 351  | 1053 |   3328   |\n",
      "| 8 | 560.0625 |  4  | 4  |  16 |  64  | 256  | 1024 |   2500   |\n",
      "|   |  Сумма   | 120 | -  |  81 | 353  | 615  | 2861 |   7883   |\n",
      "+---+----------+-----+----+-----+------+------+------+----------+\n",
      "Проверка по формуле: 7883\n"
     ]
    }
   ],
   "source": [
    "import statistics\n",
    "sum_1=0\n",
    "ui=[0]*k\n",
    "f1,f2,f3,f4,f5=[0]*k,[0]*k,[0]*k,[0]*k,[0]*k\n",
    "for i in range(len(y)):\n",
    "    sum_1+=kl[i]\n",
    "    if sum_1>50:\n",
    "        ind=i\n",
    "        break\n",
    "for i in range(len(y)):\n",
    "        ui[i]=i-ind\n",
    "myTable_2 = PrettyTable([\"i\",\"x\",\"ni\",\"ui\",\" nu\",\"nu^2\",\"nu^3\",\"nu^4\",\"n(u+1)^4\"])   \n",
    "for i in range(len(y)):\n",
    "    f1[i]=kl[i]*ui[i]\n",
    "    f2[i]=kl[i]*(ui[i]**2)\n",
    "    f3[i]=kl[i]*(ui[i]**3)\n",
    "    f4[i]=kl[i]*(ui[i]**4)\n",
    "    f5[i]=kl[i]*((ui[i]+1)**4)\n",
    "    myTable_2.add_row([i+1,ser[i],kl[i],ui[i],f1[i],f2[i],f3[i],f4[i],f5[i]])\n",
    "myTable_2.add_row([\" \",\"Сумма\",sum(kl),\"-\",sum(f1),sum(f2),sum(f3),sum(f4),sum(f5)])\n",
    "print(myTable_2)\n",
    "f6=0\n",
    "f6=sum(f4)+4*sum(f3)+6*sum(f2)+4*sum(f1)+sum(kl)\n",
    "print(\"Проверка по формуле:\",f6)"
   ]
  },
  {
   "cell_type": "markdown",
   "metadata": {},
   "source": [
    "Формула для проверки: $\\sum_{i=1}^{k}n_{i}(u_{i}+1)^4=\\sum_{i=1}^{k}n_{i}u_{i}^4+4\\sum_{i=1}^{k}n_{i}u_{i}^3+6\\sum_{i=1}^{k}n_{i}u_{i}^2+4\\sum_{i=1}^{k}n_{i}u_{i}+n$"
   ]
  },
  {
   "cell_type": "markdown",
   "metadata": {},
   "source": [
    "## Пункт 7"
   ]
  },
  {
   "cell_type": "code",
   "execution_count": 56,
   "metadata": {
    "execution": {
     "iopub.execute_input": "2022-10-29T20:44:30.612077Z",
     "iopub.status.busy": "2022-10-29T20:44:30.611698Z",
     "iopub.status.idle": "2022-10-29T20:44:30.629564Z",
     "shell.execute_reply": "2022-10-29T20:44:30.627986Z",
     "shell.execute_reply.started": "2022-10-29T20:44:30.612046Z"
    }
   },
   "outputs": [
    {
     "name": "stdout",
     "output_type": "stream",
     "text": [
      "+---+------------------------------+----------------------------------+\n",
      "| i | условный эмпирический момент | центральные эмпирические моменты |\n",
      "+---+------------------------------+----------------------------------+\n",
      "| 1 |            0.675             |                0                 |\n",
      "| 2 |            2.942             |             2525.857             |\n",
      "| 3 |            5.125             |            -7020.569             |\n",
      "| 4 |            23.842            |           17985720.311           |\n",
      "+---+------------------------------+----------------------------------+\n"
     ]
    }
   ],
   "source": [
    "myTable_3 = PrettyTable([\"i\",\"условный эмпирический момент\",\"центральные эмпирические моменты\"]) \n",
    "myTable_3.add_row([1,sum(f1)/len(vx),0])\n",
    "myTable_3.add_row([2,round(sum(f2)/len(vx),3),round((sum(f2)/len(vx)-(sum(f1)/len(vx))**2)*h**2,3)])\n",
    "myTable_3.add_row([3,round(sum(f3)/len(vx),3),round((sum(f3)/len(vx)-3*sum(f2)/len(vx)*sum(f1)/len(vx)+2*(sum(f1)/len(vx))**3)*h**3,3)])\n",
    "myTable_3.add_row([4,round(sum(f4)/len(vx),3),round((sum(f4)/len(vx)-4*sum(f3)/len(vx)*sum(f1)/len(vx)+6*sum(f2)/len(vx)*(sum(f1)/len(vx))**2-3*(sum(f1)/len(vx))**4)*h**4,3)])\n",
    "print(myTable_3)"
   ]
  },
  {
   "cell_type": "markdown",
   "metadata": {},
   "source": [
    "## Пункт 8"
   ]
  },
  {
   "cell_type": "code",
   "execution_count": 57,
   "metadata": {
    "execution": {
     "iopub.execute_input": "2022-10-29T20:44:30.631721Z",
     "iopub.status.busy": "2022-10-29T20:44:30.631332Z",
     "iopub.status.idle": "2022-10-29T20:44:30.645438Z",
     "shell.execute_reply": "2022-10-29T20:44:30.643597Z",
     "shell.execute_reply.started": "2022-10-29T20:44:30.631683Z"
    }
   },
   "outputs": [
    {
     "name": "stdout",
     "output_type": "stream",
     "text": [
      "Выборочное среднее и дисперсия по стандартным формулам: 454.078   2525.857\n",
      "Выборочное среднее и дисперсия, посчитанные с помощью условных вариант: 454.078   2525.857\n"
     ]
    }
   ],
   "source": [
    "sre=0\n",
    "for i in range(k):\n",
    "    sre+=kl[i]*ser[i]/len(vx)\n",
    "dis=0\n",
    "c=0\n",
    "for i in range(k):\n",
    "    dis+=kl[i]*(ser[i]-sre)**2/len(vx)\n",
    "if k%2==0:\n",
    "    if kl[round(k/2)]>kl[round(k/2-1)]:\n",
    "        c=ser[round(k/2)]\n",
    "    else:\n",
    "        c=ser[round(k/2-1)]\n",
    "else:\n",
    "    c=vx[k/2-1]\n",
    "sre_2=(h*sum(f1)/len(vx))+c\n",
    "dis_2=(sum(f2)/len(vx)-(sum(f1)/len(vx))**2)*h**2\n",
    "print(\"Выборочное среднее и дисперсия по стандартным формулам:\", round(sre,3),\" \", round(dis,3))\n",
    "print(\"Выборочное среднее и дисперсия, посчитанные с помощью условных вариант:\",round(sre_2,3),\" \",round(dis_2,3))"
   ]
  },
  {
   "cell_type": "markdown",
   "metadata": {},
   "source": [
    "Вывод: результаты совпадают у выборочных средних и дисперсий, посчитанных по стандартным формулам и с помощью условных вариант."
   ]
  },
  {
   "cell_type": "markdown",
   "metadata": {},
   "source": [
    "## Пункт 9"
   ]
  },
  {
   "cell_type": "code",
   "execution_count": 58,
   "metadata": {
    "execution": {
     "iopub.execute_input": "2022-10-29T20:44:30.648071Z",
     "iopub.status.busy": "2022-10-29T20:44:30.647678Z",
     "iopub.status.idle": "2022-10-29T20:44:30.660680Z",
     "shell.execute_reply": "2022-10-29T20:44:30.659353Z",
     "shell.execute_reply.started": "2022-10-29T20:44:30.648039Z"
    }
   },
   "outputs": [
    {
     "name": "stdout",
     "output_type": "stream",
     "text": [
      "Исправленная дисперсия и СКО: 2547.1   50.5\n",
      "Дисперсия и СКО 2525.9 50.3\n"
     ]
    }
   ],
   "source": [
    "isp_dis=len(vx)/(len(vx)-1)*dis\n",
    "isp_sko=np.sqrt(isp_dis)\n",
    "sko=np.sqrt(dis)\n",
    "print(\"Исправленная дисперсия и СКО:\",round(isp_dis,1),\" \",round(isp_sko,1))\n",
    "print(\"Дисперсия и СКО\",round(dis,1),round(sko,1))"
   ]
  },
  {
   "cell_type": "markdown",
   "metadata": {},
   "source": [
    "Вывод: так как выборка не мала, то исправленные дисперсия и СКО почти не отличаются от смещённых."
   ]
  },
  {
   "cell_type": "markdown",
   "metadata": {},
   "source": [
    "## Пункт 10"
   ]
  },
  {
   "cell_type": "code",
   "execution_count": 59,
   "metadata": {
    "execution": {
     "iopub.execute_input": "2022-10-29T20:44:30.662713Z",
     "iopub.status.busy": "2022-10-29T20:44:30.662347Z",
     "iopub.status.idle": "2022-10-29T20:44:30.676570Z",
     "shell.execute_reply": "2022-10-29T20:44:30.675183Z",
     "shell.execute_reply.started": "2022-10-29T20:44:30.662679Z"
    }
   },
   "outputs": [
    {
     "name": "stdout",
     "output_type": "stream",
     "text": [
      "Коэффициент ассиметрии:  -0.055 \n",
      "Коэффициент эксцесса -0.181\n"
     ]
    }
   ],
   "source": [
    "k_a=((sum(f3)/len(vx)-3*sum(f2)/len(vx)*sum(f1)/len(vx)+2*(sum(f1)/len(vx))**3)*h**3)/sko**3\n",
    "k_e=((sum(f4)/len(vx)-4*sum(f3)/len(vx)*sum(f1)/len(vx)+6*sum(f2)/len(vx)*(sum(f1)/len(vx))**2-3*(sum(f1)/len(vx))**4)*h**4)/sko**4-3\n",
    "print(\"Коэффициент ассиметрии: \",round(k_a,3),\"\\nКоэффициент эксцесса\",round(k_e,3))"
   ]
  },
  {
   "cell_type": "markdown",
   "metadata": {},
   "source": [
    "Вывод: \n",
    "\n",
    "1) Коэффициент ассиметрии получился отрицательный, это означает, что распределение скошено влево (более длинная ветвь влево).\n",
    "\n",
    "2) Коэффициент эксцесса также получился отрицательным, что говорит о низковершинном распределении."
   ]
  },
  {
   "cell_type": "markdown",
   "metadata": {},
   "source": [
    "## Пункт 11"
   ]
  },
  {
   "cell_type": "code",
   "execution_count": 60,
   "metadata": {
    "execution": {
     "iopub.execute_input": "2022-10-29T20:44:30.679660Z",
     "iopub.status.busy": "2022-10-29T20:44:30.678438Z",
     "iopub.status.idle": "2022-10-29T20:44:30.689422Z",
     "shell.execute_reply": "2022-10-29T20:44:30.687743Z",
     "shell.execute_reply.started": "2022-10-29T20:44:30.679622Z"
    }
   },
   "outputs": [
    {
     "name": "stdout",
     "output_type": "stream",
     "text": [
      "Мода:\n",
      " 452.9625\n",
      "Медиана:\n",
      " 465.375\n",
      "Коэффициент вариации:\n",
      " 11.07\n"
     ]
    }
   ],
   "source": [
    "import pandas as pd\n",
    "k_v=sko/sre*100\n",
    "max=0;\n",
    "for i in range(k):\n",
    "    if kl[i]>max:\n",
    "        max=kl[i]\n",
    "        md=i\n",
    "moda=ser[md]+h*((kl[md]-kl[md-1])/((kl[md]-kl[md-1])+(kl[md]-kl[md+1])))\n",
    "dispersia=ser[ind]+h*(0.5-p1_1[ind-1])/(kl_2[ind])\n",
    "print(\"Мода:\\n\", moda)\n",
    "print(\"Медиана:\\n\", dispersia)\n",
    "print(\"Коэффициент вариации:\\n\", round(k_v,2))"
   ]
  },
  {
   "cell_type": "markdown",
   "metadata": {},
   "source": [
    "Вывод: По величине коэффициента вариации можно, в частности, судить о степени однородности признаков совокупности.Так как в данном случае коэффициент вариации меньше 33%, то совокупность данных является однородной. Мода представляет собой значение признака, который чаще встречается. Медиана делит выборку на 2 равновероятностные половины."
   ]
  },
  {
   "cell_type": "markdown",
   "metadata": {},
   "source": [
    "## Пункт 12"
   ]
  },
  {
   "cell_type": "code",
   "execution_count": 61,
   "metadata": {
    "execution": {
     "iopub.execute_input": "2022-10-29T20:44:30.691951Z",
     "iopub.status.busy": "2022-10-29T20:44:30.690929Z",
     "iopub.status.idle": "2022-10-29T20:44:30.703495Z",
     "shell.execute_reply": "2022-10-29T20:44:30.702441Z",
     "shell.execute_reply.started": "2022-10-29T20:44:30.691913Z"
    }
   },
   "outputs": [
    {
     "name": "stdout",
     "output_type": "stream",
     "text": [
      "Точность для надежности 0.95: 9.122\n",
      "Интервальный ряд для надёжности 0.95: ( 444.956 , 463.2 )\n",
      "Точность для надежности 0.99: 12.071\n",
      "Интервальный ряд для надёжности 0.99: ( 442.007 , 466.149 )\n"
     ]
    }
   ],
   "source": [
    "t99 = 2.62\n",
    "t95 = 1.98\n",
    "toch95 = t95*isp_sko/np.sqrt(len(vx))\n",
    "toch99 = t99*isp_sko/np.sqrt(len(vx))\n",
    "print(\"Точность для надежности 0.95:\", round(toch95,3))\n",
    "print(\"Интервальный ряд для надёжности 0.95: (\", round(sre-toch95,3),\",\", round(sre+toch95,3),\")\")\n",
    "print(\"Точность для надежности 0.99:\", round(toch99,3))\n",
    "print(\"Интервальный ряд для надёжности 0.99: (\", round(sre-toch99,3),\",\", round(sre+toch99,3),\")\")"
   ]
  },
  {
   "cell_type": "markdown",
   "metadata": {},
   "source": [
    "Вывод: для $\\gamma\\in{0,95;0,99}$ образуются интервальные ряды, в которые и попадает мат.ожидание данной выборки (454,078)"
   ]
  },
  {
   "cell_type": "markdown",
   "metadata": {},
   "source": [
    "## Пункт 13"
   ]
  },
  {
   "cell_type": "code",
   "execution_count": 62,
   "metadata": {
    "execution": {
     "iopub.execute_input": "2022-10-29T20:44:30.705198Z",
     "iopub.status.busy": "2022-10-29T20:44:30.704847Z",
     "iopub.status.idle": "2022-10-29T20:44:30.723063Z",
     "shell.execute_reply": "2022-10-29T20:44:30.721232Z",
     "shell.execute_reply.started": "2022-10-29T20:44:30.705169Z"
    }
   },
   "outputs": [
    {
     "name": "stdout",
     "output_type": "stream",
     "text": [
      "q для  0.95 : 0.14\n",
      "Доверительный интервал для 0.95 :( 43.4049 , 57.5324 )\n",
      "q для  0.99 : 0.191\n",
      "Доверительный интервал для 0.99 :( 40.8144 , 60.1228 )\n"
     ]
    }
   ],
   "source": [
    "from scipy import stats\n",
    "from scipy.stats import chi2\n",
    "a=[0.95,0.99]\n",
    "d,l,q=[0]*2,[0]*2,[0]*2\n",
    "for i in range(2):\n",
    "    d[i]=(1+a[i])/2\n",
    "    l[i]=chi2.ppf(1-d[i],len(vx))\n",
    "    q[i]=np.sqrt((len(vx)-1)/l[i])-1\n",
    "    print(\"q для \",a[i],\":\",round(q[i],3))\n",
    "    print(\"Доверительный интервал для\",a[i],\":(\",round(isp_sko*(1-q[i]),4),\",\",round(isp_sko*(1+q[i]),4),\")\")"
   ]
  },
  {
   "cell_type": "markdown",
   "metadata": {},
   "source": [
    "Вывод: для $\\gamma\\in{0,95;0,99}$ образуется доверительные интервалы, в которые и попадает СКО данной выборки (50,3)\n",
    "\n",
    "*Дополнительно:*\n",
    "\n",
    "$\\frac{(n-1)s^2}{\\chi_{\\alpha_{1},k}}<\\sigma<\\frac{(n-1)s^2}{\\chi_{\\alpha_{2},k}}$\n",
    "\n",
    "$\\alpha_{1}=\\frac{1-\\gamma}{2}$,  $\\alpha_{2}=\\frac{1+\\gamma}{2}$\n",
    "\n"
   ]
  },
  {
   "cell_type": "markdown",
   "metadata": {},
   "source": [
    "## Пункт 14"
   ]
  },
  {
   "cell_type": "code",
   "execution_count": 63,
   "metadata": {
    "execution": {
     "iopub.execute_input": "2022-10-29T20:44:30.725047Z",
     "iopub.status.busy": "2022-10-29T20:44:30.724359Z",
     "iopub.status.idle": "2022-10-29T20:44:30.748618Z",
     "shell.execute_reply": "2022-10-29T20:44:30.747340Z",
     "shell.execute_reply.started": "2022-10-29T20:44:30.724979Z"
    }
   },
   "outputs": [
    {
     "name": "stdout",
     "output_type": "stream",
     "text": [
      "+---+-------------------+-----+-------+--------+------------+------------------+--------+---------------------+\n",
      "| i |    (x(i-1);xi]    |  ni |   pi  |  ni'   | (ni-ni')^2 | ((ni-ni')^2)/ni' | (ni)^2 |      (ni)^2/ni'     |\n",
      "+---+-------------------+-----+-------+--------+------------+------------------+--------+---------------------+\n",
      "| 1 |  [-inf, 352.875]  |  5  | 0.022 | 2.643  |   5.557    |      2.103       |   25   |         9.46        |\n",
      "| 2 | [352.875, 384.75] |  2  | 0.062 | 7.423  |   29.407   |      3.962       |   4    |        0.539        |\n",
      "| 3 | [384.75, 416.625] |  18 | 0.144 | 17.303 |   0.486    |      0.028       |  324   |        18.725       |\n",
      "| 4 |  [416.625, 448.5] |  34 | 0.228 | 27.329 |   44.501   |      1.628       |  1156  |        42.299       |\n",
      "| 5 |  [448.5, 480.375] |  25 | 0.244 | 29.254 |   18.097   |      0.619       |  625   |        21.365       |\n",
      "| 6 | [480.375, 512.25] |  19 | 0.177 | 21.224 |   4.944    |      0.233       |  361   |        17.009       |\n",
      "| 7 | [512.25, 544.125] |  13 | 0.087 | 10.434 |   6.584    |      0.631       |  169   |        16.197       |\n",
      "| 8 |   [544.125, inf]  |  4  | 0.037 | 4.391  |   0.153    |      0.035       |   16   |        3.644        |\n",
      "|   |       Сумма       | 120 |  1.0  | 120.0  |     -      |      9.238       |   -    | ['Cумма-n:', 9.238] |\n",
      "+---+-------------------+-----+-------+--------+------------+------------------+--------+---------------------+\n",
      "Критическая точка: 11.07\n",
      "Статистика: 9.238\n",
      "Закон теоретического распределения не противоречит опытным данным. Нет оснований отвергнуть гипотезу.\n"
     ]
    }
   ],
   "source": [
    "from scipy.stats import norm\n",
    "myTable_4 = PrettyTable([\"i\",\"(x(i-1);xi]\",\"ni\",\"pi\",\"ni'\",\"(ni-ni')^2\",\"((ni-ni')^2)/ni'\",\"(ni)^2\",\"(ni)^2/ni'\"]) \n",
    "y[0]=-math.inf\n",
    "u[k-1]=math.inf\n",
    "pf,f_1,f_2,f_3,f_4=[0]*k,[0]*k,[0]*k,[0]*k,[0]*k\n",
    "for i in range(k):\n",
    "    pf[i]=stats.norm.cdf((u[i]-sre)/sko)-stats.norm.cdf((y[i]-sre)/sko)\n",
    "    f_1[i]=len(vx)*pf[i]\n",
    "    f_2[i]=(kl[i]-len(vx)*pf[i])**2\n",
    "    f_3[i]=((kl[i]-len(vx)*pf[i])**2)/(len(vx)*pf[i])\n",
    "    f_4[i]=kl[i]**2/(len(vx)*pf[i])\n",
    "    myTable_4.add_row([i+1,[y[i],u[i]],kl[i],round(pf[i],3),round(f_1[i],3),round(f_2[i],3),round(f_3[i],3),kl[i]**2,round(f_4[i],3)])\n",
    "myTable_4.add_row([\" \",\"Сумма\",sum(kl),sum(pf),sum(f_1),\"-\",round(sum(f_3),3),\"-\",[\"Cумма-n:\",round(sum(f_4)-len(vx),3)]])\n",
    "print(myTable_4)\n",
    "al=0.05\n",
    "krit=chi2.ppf(1-al,k-3)\n",
    "print(\"Критическая точка:\", round(krit,3))\n",
    "print(\"Статистика:\",round(sum(f_3),3))\n",
    "if sum(f_3)<krit:\n",
    "    print(\"Закон теоретического распределения не противоречит опытным данным. Нет оснований отвергнуть гипотезу.\")\n",
    "else:\n",
    "    print(\"Выдвинутая гипотеза отвергается\")\n"
   ]
  },
  {
   "cell_type": "markdown",
   "metadata": {},
   "source": [
    "## Вывод:\n",
    "\n",
    "В данной работе были выполнены поставленные цели и задачи. Отработан материал по темам практической. Но вы можете заметить в таблицах некоторые несостыковки по сумме строк, так как мне пришлось округлить значения, для того чтобы таблицы были более удобными и читабельными для наблюдателя."
   ]
  }
 ],
 "metadata": {
  "kernelspec": {
   "display_name": "Python 3 (ipykernel)",
   "language": "python",
   "name": "python3"
  },
  "language_info": {
   "codemirror_mode": {
    "name": "ipython",
    "version": 3
   },
   "file_extension": ".py",
   "mimetype": "text/x-python",
   "name": "python",
   "nbconvert_exporter": "python",
   "pygments_lexer": "ipython3",
   "version": "3.11.0"
  }
 },
 "nbformat": 4,
 "nbformat_minor": 4
}
