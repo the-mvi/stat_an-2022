{
 "cells": [
  {
   "cell_type": "markdown",
   "id": "1bdf7117",
   "metadata": {},
   "source": [
    "# Практическая работа №1: Формирование и первичная обработка выборки. Нахождение и точечных и интервальных оценок. Проверка статистических гипотез\n",
    "Выполнил студент гр. 0373 Власюк Мирослав Вариант №3"
   ]
  },
  {
   "cell_type": "markdown",
   "id": "6b67db61",
   "metadata": {},
   "source": [
    "## Цель работы\n",
    "Ознакомление с основными правилами формирования выборки и подготовки выборочных данных к статистическому анализу. Получение практических навыков нахождения точечных статистических оценок параметров распределения, а также вычисления интервальных статистических оценок параметров распределения выборочных данных и проверки\n",
    "«справедливости» статистических гипотез."
   ]
  },
  {
   "cell_type": "markdown",
   "id": "61361bff",
   "metadata": {},
   "source": [
    "## Основные теоретические положения\n",
    "Шаг:$h = \\frac{R}{k}$\n",
    "\n",
    "Размах:$R = X_{max} - X_{min}$ \n",
    "\n",
    "Для вычисления оптимального количества интервалов найдем  по формуле Стёрджесса : k = 1 + $\\lceil 3.322 \\cdots \\lg{N}\\rceil$ , где N - количество элементов в выборке \n",
    "\n",
    "Относительная частота :$p^\\cdots_i = \\frac{n_I}{n}$ \n",
    "\n",
    "среднее значение- \n",
    "Среднее выборочное: $\\bar{X_в} = \\frac{1}{n} \\sum^n_{i+1}{x_in_i}$\n",
    "\n",
    "Дисперсия: $\\sigma^2 = \\frac{\\sum{x-\\bar{X_в}}^2}{n}$\n",
    "\n",
    "СКО: $S = \\sqrt{\\sigma^2}$\n",
    "\n",
    "Значение с наибольшой частатой - \n",
    "Мода: $M_o = x_o + h \\cdots \\frac{f_{m_o} - f_{m_{o-1}}}{f_{m_o} - f_{m_{o-1}} + f_{m_o} - f_{m_{o+1}}}$, $x_0$ - начало модального ряда, h - шаг, $f_{m_o}$ - частота модального ряда $f_{m_{o-1}}$ - частота интервала, предшествующего модальному $f_{m_{o+1}}$ - частота интервала, следующего за модальным\n",
    "\n",
    "медиана: $M_e = x_e + h \\cdots \\frac{\\sum{\\frac{f_{m_o}}{2}} - S_{m_{e-1}}}{f_{m_e}}$\n",
    "\n",
    "коэффициент вариации: $V = \\frac{S}{\\bar{x}} \\cdots 100%$\n",
    "\n",
    "Условныые варианты ${u_i = \\frac{x_i - C}{h}}$\n",
    "\n",
    "Обычный эмпирический момент $M^\\cdots_k = \\frac{\\sum{n_i(x_i-C)^k}}{n}$\n",
    "\n",
    "Условный эмпирический момент $\\frac{\\sum{n_i\\cdot su_i^k}}{n}$\n",
    "\n",
    "Центральный эмпирический момен $M_k = \\frac{\\sum{n_i(x_i-\\bar{X_в})^k}}{n}$\n",
    "\n",
    "коэффициент ассиметрии = $A = \\frac{\\mu_3}{\\S^3}$\n",
    "\n",
    "коэффициент эксцесса = $E = \\frac{\\mu_4}{\\S^4}$\n",
    "\n",
    "Исправленная дисперсия $S^2 = \\frac{n}{n-1}\\cdots S^2_в$\n",
    "\n",
    "Доверительный интервал для математического ожидания\n",
    "при заданном объёме выборки: $x_{в} -\\frac{t_{\\gamma}\\sigma _{в}}{\\sqrt{n}} ; x_{в} + \\frac{t_{\\gamma}\\sigma _{в}}{\\sqrt{n}}$ \n",
    "\n",
    "доверительный интервал для СКО $S(1-q) < \\sigma < S(1+q)$ , где S это исправленное СКО, а q табулированное значение \n",
    "\n",
    "Выравнивающие частоты - $n^{'}_i = nP_i$\n",
    "\n",
    "Наблюдаемое :$\\sum{\\frac{(n_i-n^{'}_i)^2}{n^{'}_i}}$\n",
    "\n",
    "Критическое это табличное значение ХИквадрат с k - r - 1 степенями свободы (r -количество параметров в распределении)\n",
    "\n"
   ]
  },
  {
   "cell_type": "markdown",
   "id": "0df58ad3",
   "metadata": {},
   "source": [
    "## Постановка задачи\n",
    "Осуществить формирование репрезентативной выборки заданного объема из имеющейся генеральной совокупности экспериментальных данных. Осуществить последовательное преобразование полученной выборки в ранжированный, вариационный и интервальный ряды. Применительно к интервальному ряду построить и отобразить графически полигон, гистограмму и эмпирическую функцию распределения для абсолютных и относительных частот. Для заданных выборочных данных вычислить с использованием метода моментов и условных вариант точечные статистические оценки математического ожидания, дисперсии, среднеквадратичного отклонения, асимметрии, эксцесса, моды, медианы и коэффициента вариации исследуемой случайной величины. Для заданной надёжности определить границы доверительных интервалов для математического ожидания и среднеквадратичного отклонения случайной величины. Проверить гипотезу о нормальном распределении исследуемой случайной величины с помощью критерия Пирсона 𝜒2. \n",
    "Полученные результаты содержательно проинтерпретировать"
   ]
  },
  {
   "cell_type": "markdown",
   "id": "13bf2c8f",
   "metadata": {},
   "source": [
    "## Выполнение работы\n"
   ]
  },
  {
   "cell_type": "code",
   "execution_count": 1,
   "id": "c02532f9",
   "metadata": {},
   "outputs": [],
   "source": [
    "import csv\n",
    "import pandas as pd\n",
    "import numpy as np\n",
    "import math\n",
    "import copy\n",
    "import matplotlib.pyplot as plt\n",
    "import scipy.stats"
   ]
  },
  {
   "cell_type": "code",
   "execution_count": 2,
   "id": "bfd58559",
   "metadata": {},
   "outputs": [],
   "source": [
    "def sort_array(arr):\n",
    "        \n",
    "    for i in range(len(arr)):\n",
    "        cursor = arr[i]\n",
    "        pos = i\n",
    "        \n",
    "        while pos > 0 and arr[pos - 1] > cursor:\n",
    "            arr[pos] = arr[pos - 1]\n",
    "            pos = pos - 1\n",
    "        arr[pos] = cursor\n",
    "\n",
    "    return arr\n",
    "\n",
    "def between(lst, a, b):\n",
    "    count = 0\n",
    "    for i in lst: \n",
    "        if a-1 <= i <= b+1:\n",
    "            count += 1\n",
    "    return count \n",
    "\n",
    "def sum_values(arr):\n",
    "    count = 0\n",
    "    for i in arr:\n",
    "            count += i\n",
    "    return count\n",
    "\n",
    "        \n",
    "\n",
    "def func_laplass(num):\n",
    "    return (scipy.stats.norm.cdf(num) - 1/2)\n",
    "   # return  (1)/(np.sqrt(2 * np.pi)) * integrate.quad (np.exp(-(pow(num, 2))/(2)), 0"
   ]
  },
  {
   "cell_type": "markdown",
   "id": "9b18754e",
   "metadata": {},
   "source": [
    "### Пункт 1: Из генеральной совокупности Men_Shoes были выбраны столбцы How_Many_Sold и Current_Price, из них  сформирована репрезентативная выборка, механичиским способом."
   ]
  },
  {
   "cell_type": "markdown",
   "id": "45d7d09a",
   "metadata": {},
   "source": [
    "### Пункт 2: преобразовать выборку  в ранжированный, вариационный, интервальный ряд"
   ]
  },
  {
   "cell_type": "code",
   "execution_count": 3,
   "id": "219f4323",
   "metadata": {
    "scrolled": true
   },
   "outputs": [
    {
     "name": "stdout",
     "output_type": "stream",
     "text": [
      "       0\n",
      "0    309\n",
      "1   6159\n",
      "2    392\n",
      "3    317\n",
      "4    954\n",
      "..   ...\n",
      "86    49\n",
      "87    83\n",
      "88     2\n",
      "89   309\n",
      "90  6159\n",
      "\n",
      "[91 rows x 1 columns]\n"
     ]
    }
   ],
   "source": [
    "with open(\"./vMiro.csv\", encoding='utf-8') as r_file:\n",
    "     file_reader = csv.reader(r_file, delimiter = \",\")\n",
    "df = pd.read_csv(\"./vMiro.csv\", header=None)\n",
    "#asdj = [[320, 340, 340, 352, 371, 377, 379, 382, 382, 383, 391, 394, 394, 397, 397, 398, 399, 401, 403, 404, 405, 407, 408, 409, 412, 413, 413, 414, 415, 416, 417, 418, 419, 421, 421, 421, 421, 422, 422, 423, 423, 432, 433, 433, 434, 436, 436, 437, 438, 438, 438, 439, 440, 442, 442, 446, 447, 448, 448, 449, 452, 457, 457, 458, 458, 462, 463, 463, 464, 465, 466, 468, 468, 469, 472, 473, 475, 477, 477, 480, 480, 481, 482, 482, 482, 483, 484, 487, 490, 492, 493, 496, 497, 498, 498, 499, 500, 500, 503, 504, 505, 506, 507, 510, 513, 517, 518, 521, 522, 522, 523, 525, 525, 525, 545, 566]]\n",
    "#df = pd.DataFrame(asdj)\n",
    "#df = df.transpose()\n",
    "df.pop(1)\n",
    "totalElem=len(df[0])\n",
    "print(df)\n",
    "#Из генеральной совокупности была сформирована репрезентативная выборка, механичиским способом.\n"
   ]
  },
  {
   "cell_type": "code",
   "execution_count": 4,
   "id": "157a645d",
   "metadata": {},
   "outputs": [
    {
     "name": "stdout",
     "output_type": "stream",
     "text": [
      "Ранжированный ряд:\n",
      " [    2     2     2     2     7     7     7    12    12    49    60    63\n",
      "    83    83    83    84   102   102   102   112   112   116   116   135\n",
      "   146   173   173   206   206   216   240   240   240   240   240   240\n",
      "   245   277   277   307   307   307   309   309   309   317   350   392\n",
      "   392   557   557   682   812   843   843   860   954   954  1060  1060\n",
      "  1072  1072  1685  1685  1795  2144  2144  2144  2144  2242  2242  3448\n",
      "  3448  3448  4583  4583  4583  4583  4583  4992  4992  5690  6159  6159\n",
      "  6159  7712  7712 16662 18747 18747 38839]\n"
     ]
    }
   ],
   "source": [
    "df = df.sort_values(0) #ранжированный\n",
    "array_ran = df.transpose().to_numpy()\n",
    "print('Ранжированный ряд:\\n', np.array(df[0]))"
   ]
  },
  {
   "cell_type": "code",
   "execution_count": 5,
   "id": "23f7fa40",
   "metadata": {},
   "outputs": [
    {
     "name": "stdout",
     "output_type": "stream",
     "text": [
      "Вариационный ряд:\n",
      "         0  size\n",
      "0       2     4\n",
      "1       7     3\n",
      "2      12     2\n",
      "3      49     1\n",
      "4      60     1\n",
      "5      63     1\n",
      "6      83     3\n",
      "7      84     1\n",
      "8     102     3\n",
      "9     112     2\n",
      "10    116     2\n",
      "11    135     1\n",
      "12    146     1\n",
      "13    173     2\n",
      "14    206     2\n",
      "15    216     1\n",
      "16    240     6\n",
      "17    245     1\n",
      "18    277     2\n",
      "19    307     3\n",
      "20    309     3\n",
      "21    317     1\n",
      "22    350     1\n",
      "23    392     2\n",
      "24    557     2\n",
      "25    682     1\n",
      "26    812     1\n",
      "27    843     2\n",
      "28    860     1\n",
      "29    954     2\n",
      "30   1060     2\n",
      "31   1072     2\n",
      "32   1685     2\n",
      "33   1795     1\n",
      "34   2144     4\n",
      "35   2242     2\n",
      "36   3448     3\n",
      "37   4583     5\n",
      "38   4992     2\n",
      "39   5690     1\n",
      "40   6159     3\n",
      "41   7712     2\n",
      "42  16662     1\n",
      "43  18747     2\n",
      "44  38839     1\n"
     ]
    }
   ],
   "source": [
    "dup = df.groupby(df.columns.tolist(),as_index=False).size() #вариационный\n",
    "print('Вариационный ряд:\\n',dup)"
   ]
  },
  {
   "cell_type": "code",
   "execution_count": 6,
   "id": "437211e2",
   "metadata": {
    "scrolled": false
   },
   "outputs": [
    {
     "name": "stdout",
     "output_type": "stream",
     "text": [
      "Интервальный ряд:\n",
      "        xᵢ₋₁        xᵢ    nᵢ\n",
      "1      2.00   4856.62  79.0\n",
      "2   4856.62   9711.25   8.0\n",
      "3   9711.25  14565.88   0.0\n",
      "4  14565.88  19420.50   3.0\n",
      "5  19420.50  24275.12   0.0\n",
      "6  24275.12  29129.75   0.0\n",
      "7  29129.75  33984.38   0.0\n",
      "8  33984.38  38839.00   1.0\n"
     ]
    }
   ],
   "source": [
    "array_varr = dup.transpose().to_numpy()\n",
    "razmax = array_varr[0][len(array_varr[0]) - 1] - array_varr[0][0] #1. найти размах вариации\n",
    "k = 1 + round(np.log2(len(df)))\n",
    "h = razmax/k # найти шаг интервального ряда h\n",
    "a_0 = array_ran[0][0]\n",
    "i = 0\n",
    "quantity_interval = int((array_varr[0][len(array_varr[0]) - 1] - array_varr[0][0]) / h) #количество интервалов\n",
    "interval_arr = np.empty((quantity_interval,3))\n",
    "for i in range(quantity_interval):\n",
    "    for j in range(2):\n",
    "        interval_arr[i][j] = a_0 + j * h\n",
    "    #print(f'i = {i} | arr[i][0] = {arr[i][0]} | arr[i][1] = {arr[i][1]} | a_0 = {a_0}')\n",
    "    a_0 = interval_arr[i][1]\n",
    "    interval_arr[i][2] = between(array_ran[0], interval_arr[i][0], (interval_arr[i][1] + 0.1))\n",
    "    #if ()\n",
    "   # if (interval_arr[i][1]) == array_ran[0][len(array_ran[0]) - 1]:\n",
    "       # interval_arr[i][1] = array_ran[0][len(array_ran[0]) - 1]\n",
    "       # break;\n",
    "result_inter_df = round(pd.DataFrame(interval_arr, columns=['xᵢ₋₁', 'xᵢ','nᵢ']),2)\n",
    "result_inter_df.index += 1\n",
    "print('Интервальный ряд:\\n',result_inter_df)"
   ]
  },
  {
   "cell_type": "markdown",
   "id": "e05dc036",
   "metadata": {},
   "source": [
    "### Пункт 3 Для интервального ряда абсолютных частот построить полигон, гистограмму и отобразить  эмпирическую функицю"
   ]
  },
  {
   "cell_type": "code",
   "execution_count": 9,
   "id": "68bf34b7",
   "metadata": {},
   "outputs": [
    {
     "data": {
      "text/plain": [
       "[<matplotlib.lines.Line2D at 0x231cd5f9eb0>]"
      ]
     },
     "execution_count": 9,
     "metadata": {},
     "output_type": "execute_result"
    },
    {
     "data": {
      "image/png": "[encoded data removed]",
      "text/plain": [
       "<Figure size 432x288 with 1 Axes>"
      ]
     },
     "metadata": {
      "needs_background": "light"
     },
     "output_type": "display_data"
    }
   ],
   "source": [
    "result_five_df = copy.copy(result_inter_df) # копирования интервального ряда\n",
    "mid_interval = np.empty(quantity_interval)  #среднее значение интервалов\n",
    "accum_abs_freq = np.empty(quantity_interval) #накопительные абсолютные часоты\n",
    "frequen = 0   #накопительная \"переменная\" для абсолютных частот\n",
    "accum_abs_pro = np.empty(quantity_interval) #накопительные относительная частоты\n",
    "freq_probality = 0  #накопительная \"переменная\"\n",
    "result_five_df.insert(3,'p⃰ᵢ', (result_five_df['nᵢ'] / totalElem))   #относительная частота \n",
    "for i in range(quantity_interval):\n",
    "    frequen += result_five_df['nᵢ'][i + 1]   #сумма предыдущих\n",
    "    accum_abs_freq[i] = frequen  # присваивания\n",
    "    freq_probality += result_five_df['p⃰ᵢ'][i + 1]\n",
    "    accum_abs_pro[i] = freq_probality\n",
    "    mid_interval[i] = interval_arr[i][0] + (interval_arr[i][1] - interval_arr[i][0]) / 2  #не знаю зачем ты так сделал, но сумма первого + разность второго и первого деленая на 2\n",
    "    \n",
    "plt.plot(mid_interval, result_inter_df['nᵢ'])"
   ]
  },
  {
   "cell_type": "code",
   "execution_count": 10,
   "id": "47752b55",
   "metadata": {},
   "outputs": [
    {
     "data": {
      "text/plain": [
       "(array([79.,  8.,  0.,  3.,  0.,  0.,  0.,  1.]),\n",
       " array([2.00000000e+00, 4.24979750e+03, 8.49759500e+03, 1.27453925e+04,\n",
       "        1.69931900e+04, 2.12409875e+04, 2.54887850e+04, 2.97365825e+04,\n",
       "        3.39843800e+04]),\n",
       " <BarContainer object of 8 artists>)"
      ]
     },
     "execution_count": 10,
     "metadata": {},
     "output_type": "execute_result"
    },
    {
     "data": {
      "image/png": "[encoded data removed]",
      "text/plain": [
       "<Figure size 432x288 with 1 Axes>"
      ]
     },
     "metadata": {
      "needs_background": "light"
     },
     "output_type": "display_data"
    }
   ],
   "source": [
    "plt.hist(result_inter_df['xᵢ₋₁'], quantity_interval, weights=result_inter_df['nᵢ'])"
   ]
  },
  {
   "cell_type": "code",
   "execution_count": 11,
   "id": "839b99a4",
   "metadata": {},
   "outputs": [
    {
     "data": {
      "text/plain": [
       "[<matplotlib.lines.Line2D at 0x231ce4b48e0>]"
      ]
     },
     "execution_count": 11,
     "metadata": {},
     "output_type": "execute_result"
    },
    {
     "data": {
      "image/png": "[encoded data removed]",
      "text/plain": [
       "<Figure size 432x288 with 1 Axes>"
      ]
     },
     "metadata": {
      "needs_background": "light"
     },
     "output_type": "display_data"
    }
   ],
   "source": [
    "plt.step(mid_interval, accum_abs_freq)"
   ]
  },
  {
   "cell_type": "markdown",
   "id": "b89847c3",
   "metadata": {},
   "source": [
    "#### Вывод\n",
    "По графикам   видно распределение выборки, исходя из графиков   можно сказать, что у нас есть явные \"выбросы\" так как >95% значений выборки находятся в первом интервале. "
   ]
  },
  {
   "cell_type": "markdown",
   "id": "cbf9a31a",
   "metadata": {},
   "source": [
    "### Пункт 4 Аналогично 3 пункту, но для относительных частота"
   ]
  },
  {
   "cell_type": "code",
   "execution_count": 12,
   "id": "9b898714",
   "metadata": {},
   "outputs": [
    {
     "data": {
      "text/plain": [
       "[<matplotlib.lines.Line2D at 0x231ce516fa0>]"
      ]
     },
     "execution_count": 12,
     "metadata": {},
     "output_type": "execute_result"
    },
    {
     "data": {
      "image/png": "[encoded data removed]",
      "text/plain": [
       "<Figure size 432x288 with 1 Axes>"
      ]
     },
     "metadata": {
      "needs_background": "light"
     },
     "output_type": "display_data"
    }
   ],
   "source": [
    "plt.plot(mid_interval, result_five_df['p⃰ᵢ'])"
   ]
  },
  {
   "cell_type": "code",
   "execution_count": 13,
   "id": "6b4fb1fd",
   "metadata": {},
   "outputs": [
    {
     "data": {
      "text/plain": [
       "(array([0.86813187, 0.08791209, 0.        , 0.03296703, 0.        ,\n",
       "        0.        , 0.        , 0.01098901]),\n",
       " array([2.00000000e+00, 4.24979750e+03, 8.49759500e+03, 1.27453925e+04,\n",
       "        1.69931900e+04, 2.12409875e+04, 2.54887850e+04, 2.97365825e+04,\n",
       "        3.39843800e+04]),\n",
       " <BarContainer object of 8 artists>)"
      ]
     },
     "execution_count": 13,
     "metadata": {},
     "output_type": "execute_result"
    },
    {
     "data": {
      "image/png": "[encoded data removed]",
      "text/plain": [
       "<Figure size 432x288 with 1 Axes>"
      ]
     },
     "metadata": {
      "needs_background": "light"
     },
     "output_type": "display_data"
    }
   ],
   "source": [
    "plt.hist(result_inter_df['xᵢ₋₁'], quantity_interval, weights=result_five_df['p⃰ᵢ'])"
   ]
  },
  {
   "cell_type": "code",
   "execution_count": 14,
   "id": "1dcba526",
   "metadata": {},
   "outputs": [
    {
     "data": {
      "text/plain": [
       "[<matplotlib.lines.Line2D at 0x231ce5eed60>]"
      ]
     },
     "execution_count": 14,
     "metadata": {},
     "output_type": "execute_result"
    },
    {
     "data": {
      "image/png": "[encoded data removed]",
      "text/plain": [
       "<Figure size 432x288 with 1 Axes>"
      ]
     },
     "metadata": {
      "needs_background": "light"
     },
     "output_type": "display_data"
    }
   ],
   "source": [
    "plt.step(mid_interval, accum_abs_pro)"
   ]
  },
  {
   "cell_type": "markdown",
   "id": "888e7b07",
   "metadata": {},
   "source": [
    "#### Вывод\n",
    "Графики для относительных частот визуально совпадают  с графиками для абсолютных частот "
   ]
  },
  {
   "cell_type": "markdown",
   "id": "f8a0aaeb",
   "metadata": {},
   "source": [
    "### Пункт 5 Для интервального ряда найти середины интервалов, накопительные частоты, результаты предстаить  в виде таблицы"
   ]
  },
  {
   "cell_type": "code",
   "execution_count": 15,
   "id": "cdb4f7d3",
   "metadata": {},
   "outputs": [
    {
     "name": "stdout",
     "output_type": "stream",
     "text": [
      "       xᵢ₋₁        xᵢ         x~ᵢ    nᵢ   p⃰ᵢ   ∑nᵢ      ∑p⃰ᵢ\n",
      "1       2.0   4856.62   2429.3125  79.0  0.87  79.0  0.868132\n",
      "2   4856.62   9711.25   7283.9375   8.0  0.09  87.0  0.956044\n",
      "3   9711.25  14565.88  12138.5625   0.0  0.00  87.0  0.956044\n",
      "4  14565.88   19420.5  16993.1875   3.0  0.03  90.0  0.989011\n",
      "5   19420.5  24275.12  21847.8125   0.0  0.00  90.0  0.989011\n",
      "6  24275.12  29129.75  26702.4375   0.0  0.00  90.0  0.989011\n",
      "7  29129.75  33984.38  31557.0625   0.0  0.00  90.0  0.989011\n",
      "8  33984.38   38839.0  36411.6875   1.0  0.01  91.0       1.0\n",
      "∑                                  91.0  1.00   -         -  \n"
     ]
    }
   ],
   "source": [
    "result_five_df.insert(2,'x~ᵢ',mid_interval) # добавление в дф\n",
    "result_five_df.insert(5,'∑nᵢ',accum_abs_freq)\n",
    "result_five_df.insert(6,'∑p⃰ᵢ', accum_abs_pro)\n",
    "sum_df = pd.DataFrame({'xᵢ₋₁' : [' '],\n",
    "                       'xᵢ'   : [' '],\n",
    "                       'x~ᵢ'  : [' '],\n",
    "                       'nᵢ'   : [sum_values(result_five_df['nᵢ'])],\n",
    "                       'p⃰ᵢ'  : [sum_values(result_five_df['p⃰ᵢ'])],\n",
    "                       '∑nᵢ'  : ['-  '],\n",
    "                       '∑p⃰ᵢ' : ['-  ']})\n",
    "sum_df.index=['∑']\n",
    "result_five_df = round(pd.concat([result_five_df, sum_df], axis=0, ignore_index=False), 2) # объединение дфов\n",
    "print(result_five_df)"
   ]
  },
  {
   "cell_type": "markdown",
   "id": "c5b7f529",
   "metadata": {},
   "source": [
    "### Пункт 6 получить варианты, используя условные варианты"
   ]
  },
  {
   "cell_type": "code",
   "execution_count": 22,
   "id": "f98144a8",
   "metadata": {},
   "outputs": [
    {
     "name": "stdout",
     "output_type": "stream",
     "text": [
      "16993.1875\n",
      "       xᵢ₋₁        xᵢ    nᵢ  u_i  nᵢ*u^1_i  nᵢ*u^2_i  nᵢ*u^3_i  nᵢ*u^4_i  \\\n",
      "1       2.0   4856.62  79.0 -3.0    -237.0     711.0   -2133.0    6399.0   \n",
      "2   4856.62   9711.25   8.0 -2.0     -16.0      32.0     -64.0     128.0   \n",
      "3   9711.25  14565.88   0.0 -1.0      -0.0       0.0      -0.0       0.0   \n",
      "4  14565.88   19420.5   3.0  0.0       0.0       0.0       0.0       0.0   \n",
      "5   19420.5  24275.12   0.0  1.0       0.0       0.0       0.0       0.0   \n",
      "6  24275.12  29129.75   0.0  2.0       0.0       0.0       0.0       0.0   \n",
      "7  29129.75  33984.38   0.0  3.0       0.0       0.0       0.0       0.0   \n",
      "8  33984.38   38839.0   1.0  4.0       4.0      16.0      64.0     256.0   \n",
      "∑                      91.0  NaN    -249.0     759.0   -2133.0    6783.0   \n",
      "\n",
      "   nᵢ*(u_i+1)^4  \n",
      "1        1264.0  \n",
      "2           8.0  \n",
      "3           0.0  \n",
      "4           3.0  \n",
      "5           0.0  \n",
      "6           0.0  \n",
      "7           0.0  \n",
      "8         625.0  \n",
      "∑        1900.0  \n",
      "\n",
      "Control passed\n"
     ]
    }
   ],
   "source": [
    "result_six_df  = copy.copy(result_inter_df)\n",
    "conditional_option = np.empty(quantity_interval)\n",
    "fake_null = 0\n",
    "fake_null_id = 0\n",
    "if (quantity_interval % 2) == 0 :#поиск ложного нуля, если нечетные, берем серединные интервал, если четные берем интервалы по середине\n",
    "    if (result_six_df['nᵢ'][quantity_interval/2] == result_six_df['nᵢ'][quantity_interval/2 + 1]): # если интервалы равны, берем тот, который раньше\n",
    "        fake_null = mid_interval[int(quantity_interval/2)]\n",
    "        fake_null_id = int(quantity_interval/2)\n",
    "    else:\n",
    "        if (result_six_df['nᵢ'][quantity_interval/2] > result_six_df['nᵢ'][quantity_interval/2 + 1]): # если не равны, берем наименьший(по среднему значнеие в интервале) из них\n",
    "            fake_null = mid_interval[int(quantity_interval/2 - 1)]\n",
    "            fake_null_id = int(quantity_interval/2 - 1)\n",
    "        else:\n",
    "            fake_null = mid_interval[int(quantity_interval/2 )]\n",
    "            fake_null_id = int(quantity_interval/2)\n",
    "else:\n",
    "    fake_null = mid_interval[int(quantity_interval/2)] # mid_interval индексируется с нуля\n",
    "    fake_null_id = int(quantity_interval/2)\n",
    "for i in range(quantity_interval):\n",
    "    conditional_option[i] = (mid_interval[i] - fake_null) / h   #поиск условных вариант \n",
    "    #print(f' i: {i}, midI = {mid_interval[i]}, fake_null = {fake_null}, h = {h}')\n",
    "    \n",
    "multiplex = np.empty((5, quantity_interval))\n",
    "for i in range(4): #поиск произведения условных вариант и частот 1 2 3 4 порядка\n",
    "    for j in range(quantity_interval):\n",
    "        multiplex[i][j] = result_six_df['nᵢ'][j + 1] * np.power(conditional_option[j], i+ 1)\n",
    "        #print(f'i={i} j={j} result_six_df={result_six_df[\"n_i\"][j + 1]} conditional_option={conditional_option[j]}')\n",
    "result_six_df.insert(3,'u_i',conditional_option)\n",
    "\n",
    "for i in range(0, 4): # добавление в df столбцов с произведением \n",
    "    result_six_df.insert(i + 4,f'nᵢ*u^{i+1}_i',multiplex[i])\n",
    "    \n",
    "for j in range(quantity_interval): # поиск последнего произведение услвного варианта и частоты \n",
    "        multiplex[4][j] = result_six_df['nᵢ'][j + 1] * np.power((conditional_option[j] + 1),4)\n",
    "result_six_df.insert(8,'nᵢ*(u_i+1)^4',multiplex[4]) # его добавление \n",
    "sum_df = pd.DataFrame({'xᵢ₋₁' : [' '],\n",
    "                       'xᵢ'   : [' '],\n",
    "                       'nᵢ'   : [sum_values(result_six_df['nᵢ'])],\n",
    "                       'nᵢ*u^1_i'   : [sum_values(result_six_df['nᵢ*u^1_i'])],\n",
    "                       'nᵢ*u^2_i'   : [sum_values(result_six_df['nᵢ*u^2_i'])],\n",
    "                       'nᵢ*u^3_i'   : [sum_values(result_six_df['nᵢ*u^3_i'])],\n",
    "                       'nᵢ*u^4_i'   : [sum_values(result_six_df['nᵢ*u^4_i'])],\n",
    "                       'nᵢ*(u_i+1)^4'   : [sum_values(result_six_df['nᵢ*(u_i+1)^4'])]\n",
    "                      })\n",
    "sum_df.index=['∑']\n",
    "result_six_df = round(pd.concat([result_six_df, sum_df], axis=0, ignore_index=False), 2)\n",
    "print(result_six_df)\n",
    "#контроль\n",
    "if (int(4*sum_df['nᵢ*u^1_i'] + 6*sum_df['nᵢ*u^2_i'] + 4*sum_df['nᵢ*u^3_i'] + sum_df['nᵢ*u^4_i']) + totalElem) == int(sum_df['nᵢ*(u_i+1)^4']):\n",
    "    print('\\nControl passed')\n",
    "else:\n",
    "    print('\\nControl failed')"
   ]
  },
  {
   "cell_type": "code",
   "execution_count": 23,
   "id": "1fdbe854",
   "metadata": {},
   "outputs": [
    {
     "data": {
      "text/plain": [
       "3"
      ]
     },
     "execution_count": 23,
     "metadata": {},
     "output_type": "execute_result"
    }
   ],
   "source": [
    "fake_null_id"
   ]
  },
  {
   "cell_type": "markdown",
   "id": "81a82488",
   "metadata": {},
   "source": [
    "### Пункт 7 Вычислить условные эмпирические моменты и центральные эмпирические моменты"
   ]
  },
  {
   "cell_type": "code",
   "execution_count": 17,
   "id": "d4fe040a",
   "metadata": {},
   "outputs": [
    {
     "name": "stdout",
     "output_type": "stream",
     "text": [
      "[[0.00000000e+00 2.01152360e+07 1.37921062e+14 1.36108779e+16]]\n",
      "         vᵢ*           μᵢ*\n",
      "1  -2.736264  0.000000e+00\n",
      "2   8.340659  2.011524e+07\n",
      "3 -23.439560  1.379211e+14\n",
      "4  74.538462  1.361088e+16\n"
     ]
    }
   ],
   "source": [
    "conditional_emp_moment = copy.copy(multiplex)\n",
    "centered_emp_moment = np.empty((1, 4))\n",
    "sum_cond_emp = np.empty((1, 4))\n",
    "for i in range(4): # тут тоже все по формулкам (взял и пред.пункта по формулкам)\n",
    "    sum_cond_emp[0][i] = sum_values(conditional_emp_moment[i])\n",
    "sum_cond_emp /= totalElem # для центральных эмпирических все по формулкам\n",
    "centered_emp_moment[0][0] = 0 \n",
    "centered_emp_moment[0][1] = (sum_cond_emp[0][1] - pow(sum_cond_emp[0][0], 2)) * pow(h,2)\n",
    "centered_emp_moment[0][2] = (sum_cond_emp[0][2] - 3 * sum_cond_emp[0][0] * sum_cond_emp[0][1] + 2 * pow(sum_cond_emp[0][1], 3)) * pow(h, 3)\n",
    "centered_emp_moment[0][3] = (sum_cond_emp[0][3] - 4 * sum_cond_emp[0][2] * sum_cond_emp[0][0] + 6 * sum_cond_emp[0][1] * pow(sum_cond_emp[0][0], 2) - 3 * pow(sum_cond_emp[0][0], 4)) * pow(h, 4)\n",
    "print(centered_emp_moment)\n",
    "#print(f'i={i} j={j} result_six_df={result_six_df[\"n_i\"][j + 1]} conditional_option={conditional_option[j]}')\n",
    "\n",
    "result_seven_df = pd.DataFrame(index=range(1, 5))\n",
    "result_seven_df['vᵢ*'] = sum_cond_emp[0]\n",
    "result_seven_df['μᵢ*'] = centered_emp_moment[0]\n",
    "print(result_seven_df)"
   ]
  },
  {
   "cell_type": "markdown",
   "id": "4d021999",
   "metadata": {},
   "source": [
    "### Пункт 8 Вычислить выборочное среднее и дисперсию с помощью стандартной формулы  и  условных вариант"
   ]
  },
  {
   "cell_type": "code",
   "execution_count": 18,
   "id": "75eb9f35",
   "metadata": {},
   "outputs": [
    {
     "name": "stdout",
     "output_type": "stream",
     "text": [
      "Результаты выборочного среднего совпадают 3709.6531593406594 и 3709.65315934066\n",
      "Результаты дисперсии совпадают 20115236.002769895 и 20115236.002769895\n"
     ]
    }
   ],
   "source": [
    "x_vibor_std = 0\n",
    "for i in range(quantity_interval):  # сумма средних умноженная на частоту \n",
    "    x_vibor_std += mid_interval[i] * result_five_df['nᵢ'][i + 1]\n",
    "x_vibor_std /= totalElem # делить на количество элементы \n",
    "\n",
    "dispercia_std = 0\n",
    "for i in range(quantity_interval):\n",
    "    dispercia_std += ( pow(mid_interval[i] - x_vibor_std, 2) ) * result_five_df['nᵢ'][i + 1] # (средние минус х_выборочное) в квадрате умножить на частоту\n",
    "dispercia_std /= totalElem # поделить на количество элементы\n",
    "\n",
    "x_vibor = sum_cond_emp[0][0] * h + fake_null  \n",
    "dispercia = (sum_cond_emp[0][1] - pow(sum_cond_emp[0][0], 2)) * pow(h, 2)\n",
    "\n",
    "print(f'Результаты выборочного среднего совпадают {x_vibor_std} и {x_vibor}')\n",
    "print(f'Результаты дисперсии совпадают {dispercia_std} и {dispercia}')"
   ]
  },
  {
   "cell_type": "markdown",
   "id": "13c889b4",
   "metadata": {},
   "source": [
    "#### Вывод: \n",
    "результаты примерно равны"
   ]
  },
  {
   "cell_type": "markdown",
   "id": "3162079d",
   "metadata": {},
   "source": [
    "### Пункт 9 Вычислить исправленную выборочную дисперсию и СКО\\ сравнить оценки с смещенными оценками "
   ]
  },
  {
   "cell_type": "code",
   "execution_count": 19,
   "id": "b63ecf53",
   "metadata": {},
   "outputs": [
    {
     "name": "stdout",
     "output_type": "stream",
     "text": [
      "Исправленная дисперсия =20338738.625022892, Исправленное СКО =4509.84906898478\n",
      "Дисперсия: 20115236.002769895 и sko:4485.0012266185495\n"
     ]
    }
   ],
   "source": [
    "sko = np.sqrt(dispercia)\n",
    "disp_isp = dispercia * totalElem / (totalElem - 1)\n",
    "sko_isp = np.sqrt(disp_isp)\n",
    "print(f'Исправленная дисперсия ={disp_isp}, Исправленное СКО ={sko_isp}')\n",
    "print(f'Дисперсия: {dispercia} и sko:{sko}')"
   ]
  },
  {
   "cell_type": "markdown",
   "id": "82cc06dc",
   "metadata": {},
   "source": [
    "\n",
    "Можем заметить незначительные различия"
   ]
  },
  {
   "cell_type": "markdown",
   "id": "9026193d",
   "metadata": {},
   "source": [
    "### Пункт 10 Вычислить статистическую оценку коэффициентов ассимитрии  и эксцесса"
   ]
  },
  {
   "cell_type": "code",
   "execution_count": 20,
   "id": "a3f7b68a",
   "metadata": {},
   "outputs": [
    {
     "name": "stdout",
     "output_type": "stream",
     "text": [
      "Ассиметрия:1528.7726104581445, эксцесс:30.638441941152855\n"
     ]
    }
   ],
   "source": [
    "assimetr = centered_emp_moment[0][2] / pow(sko, 3)\n",
    "ecsecc = centered_emp_moment[0][3] / pow(sko, 4) - 3\n",
    "print(f'Ассиметрия:{assimetr}, эксцесс:{ecsecc}')"
   ]
  },
  {
   "cell_type": "markdown",
   "id": "9465651e",
   "metadata": {},
   "source": [
    "#### Вывод\n",
    "так как симметрия положительная, значит у нас отклонения распределения в сторону положительных значений\n",
    "Так как эксцесс положительный то распределение островершинное"
   ]
  },
  {
   "cell_type": "markdown",
   "id": "b6030c1d",
   "metadata": {},
   "source": [
    "### Пункт 11 Вычислить Моду, медиану и коэффициент вариаций"
   ]
  },
  {
   "cell_type": "code",
   "execution_count": null,
   "id": "d287638e",
   "metadata": {},
   "outputs": [],
   "source": [
    "moda = 0\n",
    "max_n = -1\n",
    "max_id = 1\n",
    "for i in range(quantity_interval):  # подсчет модального интервала\n",
    "    if result_five_df['nᵢ'][i+1] > max_n:\n",
    "        max_n = result_five_df['nᵢ'][i+1]\n",
    "        max_id = i + 1\n",
    "if (max_id == 1) or (max_id == quantity_interval): # если модальный интервал первый или последний\n",
    "    if(max_id == 1): # если первый то предыдущий мод.инт = 0\n",
    "        pred_moda = 0\n",
    "        next_moda = result_five_df['nᵢ'][max_id + 1]\n",
    "    else:\n",
    "        next_moda = 0 # если последний то следующий 0\n",
    "        pred_moda = result_five_df['nᵢ'][max_id - 1]\n",
    "else: #если не первый и не последний \n",
    "    next_moda = result_five_df['nᵢ'][max_id + 1]\n",
    "    pred_moda = result_five_df['nᵢ'][max_id - 1]\n",
    "#формула для моды\n",
    "moda = result_five_df['xᵢ₋₁'][max_id] + h * (result_five_df['nᵢ'][max_id] - pred_moda)/((result_five_df['nᵢ'][max_id] - pred_moda) + (result_five_df['nᵢ'][max_id] - next_moda))   \n",
    "\n",
    "median = 0\n",
    "\n",
    "id_median = 0\n",
    "accum_abs_freq_pred = 0\n",
    "for i in range(len(accum_abs_freq)):\n",
    "    if accum_abs_freq[i] > int(totalElem / 2): # поиск медианы\n",
    "        id_median = i\n",
    "        break;\n",
    "if (id_median > 0):\n",
    "    accum_abs_freq_pred = result_five_df['∑nᵢ'][id_median]\n",
    "median = result_five_df['xᵢ₋₁'][id_median + 1] + h * (0.5*totalElem - accum_abs_freq_pred)/(result_five_df['∑nᵢ'][id_median + 1])\n",
    "# формулка для медианы\n",
    "koeff_var = (sko / x_vibor) * 100\n",
    "#формулка\n",
    "print(f'Мода:{moda}, медиана:{median}, коэффициент вариаций:{koeff_var}')"
   ]
  },
  {
   "cell_type": "markdown",
   "id": "48c7a93e",
   "metadata": {},
   "source": [
    "#### Вывод\n",
    "Исходя из моды, можно сделать вывод, что часто встреющий интервал со средним значением 2882 (1 интервал)\n",
    "\n",
    "Так как коэфициент вариаций > 100% из этого можно сделать что сильна вариация признаков по отношению к средней величине"
   ]
  },
  {
   "cell_type": "markdown",
   "id": "41020c8f",
   "metadata": {},
   "source": [
    "### Пункт 12 Вычислить точность и доверительный интервал мат.ожидания"
   ]
  },
  {
   "cell_type": "code",
   "execution_count": null,
   "id": "12f34d68",
   "metadata": {},
   "outputs": [],
   "source": [
    "tab1 = 1.987\n",
    "tab2 = 2.633\n",
    "dov_int = np.empty((2,2))\n",
    "dov_int[0][0] = (x_vibor - tab1*sko_isp/np.sqrt(totalElem))\n",
    "dov_int[0][1] = (x_vibor + tab1*sko_isp/np.sqrt(totalElem))\n",
    "dov_int[1][0] = (x_vibor - tab2*sko_isp/np.sqrt(totalElem))\n",
    "dov_int[1][1] = (x_vibor + tab2*sko_isp/np.sqrt(totalElem))\n",
    "print(f'доверительные интервал для 0.95:{dov_int[0]}\\nдоверительный интервал для 0.99:{dov_int[1]}')\n",
    "print(f'точность для 0.95:{tab1*sko_isp/np.sqrt(totalElem)} точность для 0.99:{tab2*sko_isp/np.sqrt(totalElem)}')"
   ]
  },
  {
   "cell_type": "markdown",
   "id": "fcc0d5c5",
   "metadata": {},
   "source": [
    "#### Вывод\n",
    "Выборочно среднее попадает в оба доверительных интервала "
   ]
  },
  {
   "cell_type": "markdown",
   "id": "f1213831",
   "metadata": {},
   "source": [
    "### Пункт 13 Построить доверительные интервалы"
   ]
  },
  {
   "cell_type": "code",
   "execution_count": null,
   "id": "18e3f65b",
   "metadata": {},
   "outputs": [],
   "source": [
    "tab1 = 0.151\n",
    "tab2 = 0.211\n",
    "dov_int[0][0] = sko_isp*(1- tab1)\n",
    "dov_int[0][1] = sko_isp*(1+ tab1)\n",
    "dov_int[1][0] = sko_isp*(1- tab2)\n",
    "dov_int[1][1] = sko_isp*(1+ tab2)\n",
    "print(f'доверительные интервал для 0.95:{dov_int[0]}\\nдоверительный интервал для 0.99:{dov_int[1]}')"
   ]
  },
  {
   "cell_type": "markdown",
   "id": "9d59ae21",
   "metadata": {},
   "source": [
    "#### Вывод\n",
    "СКО попадает в оба доверительных интервала "
   ]
  },
  {
   "cell_type": "markdown",
   "id": "8be0cd37",
   "metadata": {},
   "source": [
    "### Пункт 14 Проверить гипотезу о норм. зад. распр.с помощью square(ХИ)"
   ]
  },
  {
   "cell_type": "code",
   "execution_count": null,
   "id": "74c216c3",
   "metadata": {},
   "outputs": [],
   "source": [
    "df = quantity_interval - 3\n",
    "result_fourteen_df  = copy.copy(result_inter_df)\n",
    "result_fourteen_df['xᵢ₋₁'][1] = -np.inf\n",
    "result_fourteen_df['xᵢ'][quantity_interval] = np.inf\n",
    "teor_frequence = np.empty((1, quantity_interval)) \n",
    "theor_prob = np.empty((1, quantity_interval))\n",
    "for i in range(quantity_interval): #\n",
    "    theor_prob[0][i] = -func_laplass( (result_fourteen_df['xᵢ₋₁'][i + 1] - x_vibor)/(sko) ) + func_laplass( (result_fourteen_df['xᵢ'][i + 1] - x_vibor)/(sko) )\n",
    "result_fourteen_df.insert(3, \"pᵢ\",theor_prob[0])\n",
    "teor_frequence[0] = theor_prob[0] * totalElem\n",
    "intermediate_array = np.empty((1, quantity_interval))\n",
    "for i in range(quantity_interval):\n",
    "    intermediate_array[0][i] = pow((result_fourteen_df['nᵢ'][i + 1] - teor_frequence[0][i]), 2)\n",
    "result_fourteen_df.insert(4, \"n'ᵢ\", teor_frequence[0])\n",
    "result_fourteen_df.insert(5, \"(nᵢ-n'ᵢ)²\", intermediate_array[0])\n",
    "result_fourteen_df.insert(6, \"(nᵢ-n'ᵢ)²/n'ᵢ\", intermediate_array[0] / teor_frequence[0] )\n",
    "result_fourteen_df.insert(7, \"n²ᵢ\", pow(result_fourteen_df['nᵢ'], 2))\n",
    "result_fourteen_df.insert(8, \"n²ᵢ/n'ᵢ\", result_fourteen_df['n²ᵢ']/teor_frequence[0])\n",
    "\n",
    "\n",
    "sum_df = pd.DataFrame({'xᵢ₋₁' : [' '],\n",
    "                       'xᵢ'   : [' '],\n",
    "                       'pᵢ'    : [sum_values(result_fourteen_df['pᵢ'])],\n",
    "                       'nᵢ'   : [sum_values(result_fourteen_df['nᵢ'])],\n",
    "                       \"n'ᵢ\"   : [sum_values(result_fourteen_df[\"n'ᵢ\"])],\n",
    "                       \"(nᵢ-n'ᵢ)²/n'ᵢ\"   : [sum_values(result_fourteen_df[\"(nᵢ-n'ᵢ)²/n'ᵢ\"])],\n",
    "                       \"n²ᵢ/n'ᵢ\"   : [sum_values(result_fourteen_df[\"n²ᵢ/n'ᵢ\"])],\n",
    "                      })\n",
    "sum_df.index=['∑']\n",
    "result_fourteen_df = round(pd.concat([result_fourteen_df, sum_df], axis=0, ignore_index=False), 2)\n",
    "\n",
    "x_krit = 9.48773 #вот тут число это значение из таблицы (X^2 и степени свободы) в моем случае df = n - r - 1 r(чсло параметров) то есть   7 - 3 X(4, 0.05)\n",
    "x_nabl = int(sum_df[ \"(nᵢ-n'ᵢ)²/n'ᵢ\"])\n",
    "print(f'наблюдаемое {x_nabl} критическое {x_krit}')\n",
    "if (x_nabl < x_krit):\n",
    "    print('theory access')\n",
    "else:\n",
    "    print('theory fail')\n",
    "\n",
    "print(result_fourteen_df)\n"
   ]
  },
  {
   "cell_type": "markdown",
   "id": "acd80953",
   "metadata": {},
   "source": [
    "#### Вывод\n",
    "Проверка корректности $\\chi^2_{набл}$, была пройдета, так как значения сумм совпадают\n",
    "Так как наблюдаемое значения критерия больше критического, значит гипотезу о нормальном распределении отвергаем. "
   ]
  },
  {
   "cell_type": "markdown",
   "id": "41a0025a",
   "metadata": {},
   "source": [
    "## Выводы\n",
    "В ходе практической работы была сформированна выборка из генеральной совокупности\n",
    "На её основе осуществленна первичная обработка, а именно преобразование выборки в ранжированный, вариационный и интервальынй ряд\n",
    "\n",
    "Для интервального ряда построены графический полигон, гистограмма, эмпирическая функция\n",
    "\n",
    "Найдены середины интервалов и накопленные часоты\n",
    "\n",
    "Вычислены условные варианты, эмпирический моменты через условные варианты и центральный эмпирические моменты\n",
    "\n",
    "Вычисленны выборочные среднее и дисперсия, исправленная выборочная дисперсия и исправленное СКО \n",
    "Найдена статистическая оценка коэффициентов асимметрии и эксцесса\n",
    "\n",
    "Вычислена мода, медиана и коэффициент вариации\n",
    "\n",
    "Найдены точечные и интервальные оценки\n",
    "\n",
    "Была проверена ститистическая гипотеза, которая была опровергнута. "
   ]
  },
  {
   "cell_type": "code",
   "execution_count": null,
   "id": "9de43cd6",
   "metadata": {},
   "outputs": [],
   "source": []
  }
 ],
 "metadata": {
  "kernelspec": {
   "display_name": "Python 3 (ipykernel)",
   "language": "python",
   "name": "python3"
  },
  "language_info": {
   "codemirror_mode": {
    "name": "ipython",
    "version": 3
   },
   "file_extension": ".py",
   "mimetype": "text/x-python",
   "name": "python",
   "nbconvert_exporter": "python",
   "pygments_lexer": "ipython3",
   "version": "3.9.12"
  }
 },
 "nbformat": 4,
 "nbformat_minor": 5
}
