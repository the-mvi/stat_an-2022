{
 "cells": [
  {
   "cell_type": "markdown",
   "metadata": {},
   "source": [
    "# Практическая работа №1: Формирование и первичная обработка выборки. Нахождение и точечных и интервальных оценок. Проверка статистических гипотез\n",
    "Выполнил студент гр. 0373 Мясников Юрий. Вариант №15"
   ]
  },
  {
   "cell_type": "markdown",
   "metadata": {},
   "source": [
    "## Цель работы: \n",
    "Ознакомление с основными правилами формирования выборки и подготовки выборочных данных к статистическому анализу. Получение практических навыков нахождения точечных статистических оценок параметров распределения, а также вычисления интервальных статистических оценок параметров распределения выборочных данных и проверки\n",
    "«справедливости» статистических гипотез.\n",
    "\n"
   ]
  },
  {
   "cell_type": "markdown",
   "metadata": {},
   "source": [
    "## Основные теоретические положения\n",
    "\n",
    "Выборка - совокупность n объектов из генеральной совокупности N. \n",
    "\n",
    "Генеральная совокупность - совокупность N объектов из которых воспроизводится выборка.\n",
    "\n",
    "Репрезентативная выборка - выборка, в которой вероятность попадания для всех элементов одинакова\n",
    "\n",
    "Ранжированный ряд - ряд, элементы которого упорядочены по какому-либо признаку.\n",
    "\n",
    "Вариационный ряд - ранжированный ряд распределения по величине какого-либо признака.\n",
    "\n",
    "Интервальный вариационный ряд - промежуток изменения значений выборки $(x_{min}; x_{max})$, разбитый на частичные интервалы.\n",
    "\n",
    "Для расчета количества интервалов применяется формула Стерджа: $k=1+\\log_2 n$.\n",
    "\n",
    "Размахом выборки называется величина $x_{max}-x_{min}$.\n",
    "\n",
    "Длина интервала считается по формуле: $h=\\frac{R}{k}$.\n",
    "\n",
    "Полигон частот - ломаная линия, соединяющая точки $(x_1, n_1)(x_2, n_2)..(x_k, n_k)$, где $n_i$ - абсолютная частота.\n",
    "\n",
    "Полигон относительных частот - ломаная линия,соединяющая точки $(x_1, p_1^*)(x_2, p_2^*)..(x_k, p_k^*)$, где $p_i^*$ - относительная частота.\n",
    "\n",
    "Гистограмма частот - ступенчатая фигура из прямоугольников, основаниями которых являются частотные интервалы длины $h_i$ и высоты $\\frac{n_i}{h}$.\n",
    "\n",
    "Гистограмма относительных частот - ступенчатая фигура из прямоугольников с основанием из частотных интервалов длины $h_i$ и высотой $\\frac{p_i}{h}$.\n",
    "\n",
    "Эмпирическая функция - функция, заданная для каждого значения $х_i$ относительно частоты события $(Х < x_i)$\n",
    "\n",
    "Выборочное среднее - среднее арифметическое выборочной совокупности $\\bar x_в = \\frac{1}{n}\\sum{x_i \\cdot n_i}$\n",
    "\n",
    "Выборочная дисперсия - мера разброса значений случайной величины относительно её математического ожидания \n",
    "$\\sigma^2 = \\frac{1}{n}\\sum{n_i \\cdot (x_i-\\bar x_в)^2}$.\n",
    "\n",
    "Мода интервального ряда - число в интервале с наибольшей частотой.\n",
    "$$M_o = x_{M_o}+h_{M_o} \\cdot \\frac{n_{M_o}-n_{M_o-1}}{(n_{M_o}-n_{M_o-1})+(n_{M_o}-n_{M_o+1})},$$\n",
    "где $x_{M_o}$ - левый край интервала с наибольшей частотой, $n_{M_o}$ - частота модального интервала, $n_{M_o+1}$  и $n_{M_o-1}$ - частоты двух соседних интервалов, последующего и предыдущего.\n",
    "\n",
    "Медиана интервального ряда - число в интервале, для которого накопленная частота составляет половину или больше от всей суммы частот, а предыдущая накопленная частота меньше половины от всей суммы частот. \n",
    "\n",
    "$$M_e = x_{M_e}+\\frac{h_{M_e}}{p_{M_e}^{*}}\\cdot(0.5-p_{M_e-1}^{\\sum}),$$\n",
    "где $x_{M_е}$ - левый край интервала с наибольшей частотой, $p_{M_e-1}^{\\sum}$ - накопленная относительная частота медианного интервала\n",
    "\n",
    "Коэффициент вариации(относительное отклонение) - мера колеблемости изучаемого признака относительно выборочной средней. $V^* = \\frac{\\sigma_в}{|\\bar x_в|}\\cdot 100\\%$\n",
    "\n",
    "Условные варианты - варианты, определяемые по неравенству:\n",
    "$$u_i=\\frac{x_i-C}{h},$$ где С - ложный нуль(варианта, расположенная в середине вариационного ряда). \n",
    "\n",
    "Условный эмпирический момент порядка r - начальный эмпирический момент порядка r, вычисленный с помощью условных вариант. \n",
    "$$\\nu_r^* = \\frac{1}{n}\\cdot\\sum{n_i\\cdot u_i^r},$$ \n",
    "\n",
    "При помощи условного эмпирического момента можно посчитать выборочное среднее: $x_в = h\\cdot\\nu_1^* + C$\n",
    "\n",
    "Обычный эмпирический момент порядка r: $$\\nu_r^‘ = \\frac{1}{n}\\cdot\\sum{n_i\\cdot({x_i} - C)^r},$$\n",
    "\n",
    "Центральные эмпирические моменты варажаются через обычные следующим образом:\n",
    "\n",
    "$$\\mu_1^* = 0$$\n",
    "$$\\mu_2^* = \\nu_2^‘ - {(\\nu_1^‘)^2} = {\\sigma^2}$$\n",
    "$$\\mu_3^* = \\nu_3^‘ - {3\\cdot\\nu_2^‘\\cdot\\nu_1^‘} + {2\\cdot{\\nu_1^‘}^3}$$\n",
    "$$\\mu_4^* = \\nu_4^‘ - {4\\cdot\\nu_3^‘\\cdot\\nu_1^‘} + {6\\cdot\\nu_2^‘\\cdot{\\nu_1^‘}^2} - {3\\cdot{\\nu_1^‘}^4}$$\n",
    "\n",
    "Выборочный коэффициент ассиметрии: $a_s^* = \\frac{\\mu_3^*}{\\sigma_в^3}$\n",
    "\n",
    "Выборочный коэффициент эксцесса: $\\varepsilon_k^* = \\frac{\\mu_4^*}{\\sigma_в^4} - 3$\n",
    "\n",
    "Исправленная дисперсия: $s^2 = \\frac{1}{n-1}\\sum{n_i\\cdot(x_i - \\bar x_в)^2}$\n",
    "\n",
    "Доверительный интервал для математического ожидания при неизвестном среднеквадратичном отклонении при заданном объёме выборки:\n",
    "$$(\\bar x_в - \\frac{t_\\gamma\\cdot s}{\\sqrt{n}};\\bar x_в + \\frac{t_\\gamma\\cdot s}{\\sqrt{n}}),$$ где $\\frac{t_\\gamma\\cdot s}{\\sqrt{n}}$ - точность, а \n",
    "$t_\\gamma = t(\\gamma, n)$ - табулированное значение распределения Стьюдента\n",
    "\n",
    "Доверительный интервал для СКО:\n",
    "\n",
    "$s(1-q) < \\sigma < s(1+q)$ при q<1\n",
    "\n",
    "$0 < \\sigma < s(1+q)$ при q>1\n",
    "\n",
    "Теоритические частоты: $P(x_{i-1} <x< x_i) = \\Phi(\\frac{x_i - a}{\\sigma}) - \\Phi(\\frac{x_{i-1} - a}{\\sigma})$\n",
    "\n",
    "Статистическая гипотеза - любое предположение о генеральной совокупности, проверяемое по выборке.\n",
    "\n",
    "Статистический критерий проверки основной гипотезы - правило, по которому принимается решение, принять гипотезу или нет.\n",
    "\n",
    "Статистика критерия - случайная величина для проверки гипотез.\n",
    "\n",
    "Критическая область - совокупность значений критерия, при которых основную гипотезу отвергают.\n",
    "\n",
    "Хи наблюдаемое: $\\chi_{набл}^2 = \\sum{\\frac{(n_i - n_i^‘)^2}{n_i^‘}} = \\sum{\\frac{n_i^2}{n_i^‘} - n}$\n",
    "\n",
    "Хи критическое: $\\chi_{крит}^2 = \\chi^2 (\\alpha, df), $ где $\\alpha$ - уровень значимости критерия, $df$ -  число степеней свободы, равное количеству интервалов, уменьшенному на количество параметров распределения и на 1 . \n",
    "\n",
    "Гипотеза принимается, если $\\chi_{набл}^2 < \\chi_{крит}^2$"
   ]
  },
  {
   "cell_type": "markdown",
   "metadata": {},
   "source": [
    "## Постановка задачи\n",
    "Осуществить формирование репрезентативной выборки заданного объема из имеющейся генеральной совокупности экспериментальных данных.\n",
    "Осуществить последовательное преобразование полученной выборки в\n",
    "ранжированный, вариационный и интервальный ряды. Применительно\n",
    "к интервальному ряду построить и отобразить графически полигон, гистограмму и эмпирическую функцию распределения для абсолютных и\n",
    "относительных частот. Для заданных выборочных данных вычислить с\n",
    "использованием метода моментов и условных вариант точечные статистические оценки математического ожидания, дисперсии, среднеквадратичного отклонения, асимметрии, эксцесса, моды, медианы и коэффициента вариации исследуемой случайной величины. Для заданной надёжности определить границы доверительных интервалов для математического ожидания и среднеквадратичного отклонения случайной величины. Проверить гипотезу о нормальном распределении исследуемой\n",
    "случайной величины с помощью критерия Пирсона 𝜒^2.\n",
    "Полученные результаты содержательно проинтерпретировать."
   ]
  },
  {
   "cell_type": "markdown",
   "metadata": {},
   "source": [
    "## Выполнение работы\n",
    "В представленной ниже выборке из генеральной совокупности \"2021-2022 Regular Season NBA Player Stats\" содержится процент попадания трехочковых бросков (3P%) игроков за регулярный сезон NBA 2021-2022 "
   ]
  },
  {
   "cell_type": "code",
   "execution_count": 3,
   "metadata": {},
   "outputs": [
    {
     "name": "stdout",
     "output_type": "stream",
     "text": [
      "This is the sample: \n",
      "[0.313, 0, 0, 0, 0.396, 0.375, 0.25, 0.22, 0, 0.341, 0.5, 0.489, 0, 0.167, 0.393, 0, 0.32, 0.373, 0.346, 0.5, 0, 0.375, 0.346, 0.333, 0, 0.431, 0.4, 0, 0.394, 0, 0.347, 0.429, 0.373, 0, 0.182, 0.347, 0.397, 0.4, 0, 0.338, 0, 0.5, 0, 0.429, 0.389, 0.5, 0, 0.375, 0, 0.364, 0.2, 0.391, 0.667, 0.3, 0.302, 0, 0.522, 0.397, 0.1, 0, 0, 0.417, 0.345, 0.231, 0.333, 0, 0.333, 0.404, 0, 0.212, 0.426, 1, 0, 0.364, 0.267, 0, 0.2, 0.357, 0.408, 0.205, 0.2, 0, 0.375, 0.227, 0.4, 0.368, 0.386, 0.333, 0, 0.333, 0, 0.229, 0.6]\n"
     ]
    }
   ],
   "source": [
    "import math\n",
    "from tabulate import tabulate\n",
    "from math import log2\n",
    "from math import sqrt\n",
    "import matplotlib.pyplot\n",
    "import pandas\n",
    "#1\n",
    "sample = [0.313,\n",
    "0,\n",
    "0,\n",
    "0,\n",
    "0.396,\n",
    "0.375,\n",
    "0.25,\n",
    "0.22,\n",
    "0,\n",
    "0.341,\n",
    "0.5,\n",
    "0.489,\n",
    "0,\n",
    "0.167,\n",
    "0.393,\n",
    "0,\n",
    "0.32,\n",
    "0.373,\n",
    "0.346,\n",
    "0.5,\n",
    "0,\n",
    "0.375,\n",
    "0.346,\n",
    "0.333,\n",
    "0,\n",
    "0.431,\n",
    "0.4,\n",
    "0,\n",
    "0.394,\n",
    "0,\n",
    "0.347,\n",
    "0.429,\n",
    "0.373,\n",
    "0,\n",
    "0.182,\n",
    "0.347,\n",
    "0.397,\n",
    "0.4,\n",
    "0,\n",
    "0.338,\n",
    "0,\n",
    "0.5,\n",
    "0,\n",
    "0.429,\n",
    "0.389,\n",
    "0.5,\n",
    "0,\n",
    "0.375,\n",
    "0,\n",
    "0.364,\n",
    "0.2,\n",
    "0.391,\n",
    "0.667,\n",
    "0.3,\n",
    "0.302,\n",
    "0,\n",
    "0.522,\n",
    "0.397,\n",
    "0.1,\n",
    "0,\n",
    "0,\n",
    "0.417,\n",
    "0.345,\n",
    "0.231,\n",
    "0.333,\n",
    "0,\n",
    "0.333,\n",
    "0.404,\n",
    "0,\n",
    "0.212,\n",
    "0.426,\n",
    "1,\n",
    "0,\n",
    "0.364,\n",
    "0.267,\n",
    "0,\n",
    "0.2,\n",
    "0.357,\n",
    "0.408,\n",
    "0.205,\n",
    "0.2,\n",
    "0,\n",
    "0.375,\n",
    "0.227,\n",
    "0.4,\n",
    "0.368,\n",
    "0.386,\n",
    "0.333,\n",
    "0,\n",
    "0.333,\n",
    "0,\n",
    "0.229,\n",
    "0.6\n",
    "]\n",
    "print(\"This is the sample: \")\n",
    "print(sample)"
   ]
  },
  {
   "cell_type": "markdown",
   "metadata": {},
   "source": [
    "Выборка репрезентативная, была отобрана простым способом"
   ]
  },
  {
   "cell_type": "code",
   "execution_count": 4,
   "metadata": {},
   "outputs": [
    {
     "name": "stdout",
     "output_type": "stream",
     "text": [
      "\n",
      " This is the ordered/ranked sample:\n",
      "[0, 0, 0, 0, 0, 0, 0, 0, 0, 0, 0, 0, 0, 0, 0, 0, 0, 0, 0, 0, 0, 0, 0, 0, 0, 0, 0.1, 0.167, 0.182, 0.2, 0.2, 0.2, 0.205, 0.212, 0.22, 0.227, 0.229, 0.231, 0.25, 0.267, 0.3, 0.302, 0.313, 0.32, 0.333, 0.333, 0.333, 0.333, 0.333, 0.338, 0.341, 0.345, 0.346, 0.346, 0.347, 0.347, 0.357, 0.364, 0.364, 0.368, 0.373, 0.373, 0.375, 0.375, 0.375, 0.375, 0.386, 0.389, 0.391, 0.393, 0.394, 0.396, 0.397, 0.397, 0.4, 0.4, 0.4, 0.404, 0.408, 0.417, 0.426, 0.429, 0.429, 0.431, 0.489, 0.5, 0.5, 0.5, 0.5, 0.522, 0.6, 0.667, 1]\n"
     ]
    }
   ],
   "source": [
    "#2\n",
    "sorted_sample = sample\n",
    "sorted_sample.sort()\n",
    "print(\"\\n This is the ordered/ranked sample:\")\n",
    "print(sorted_sample)\n"
   ]
  },
  {
   "cell_type": "code",
   "execution_count": 5,
   "metadata": {},
   "outputs": [
    {
     "name": "stdout",
     "output_type": "stream",
     "text": [
      "\n",
      " This is the variations row:\n",
      "-----  --\n",
      "xi     ni\n",
      "0      26\n",
      "0.1    1\n",
      "0.167  1\n",
      "0.182  1\n",
      "0.2    3\n",
      "0.205  1\n",
      "0.212  1\n",
      "0.22   1\n",
      "0.227  1\n",
      "0.229  1\n",
      "0.231  1\n",
      "0.25   1\n",
      "0.267  1\n",
      "0.3    1\n",
      "0.302  1\n",
      "0.313  1\n",
      "0.32   1\n",
      "0.333  5\n",
      "0.338  1\n",
      "0.341  1\n",
      "0.345  1\n",
      "0.346  2\n",
      "0.347  2\n",
      "0.357  1\n",
      "0.364  2\n",
      "0.368  1\n",
      "0.373  2\n",
      "0.375  4\n",
      "0.386  1\n",
      "0.389  1\n",
      "0.391  1\n",
      "0.393  1\n",
      "0.394  1\n",
      "0.396  1\n",
      "0.397  2\n",
      "0.4    3\n",
      "0.404  1\n",
      "0.408  1\n",
      "0.417  1\n",
      "0.426  1\n",
      "0.429  2\n",
      "0.431  1\n",
      "0.489  1\n",
      "0.5    4\n",
      "0.522  1\n",
      "0.6    1\n",
      "0.667  1\n",
      "1      1\n",
      "-----  --\n"
     ]
    }
   ],
   "source": [
    "variations_row = [[],  #Это вариационный ряд, который будет содержать массив элементов и массив их абсолютных частот\n",
    "                  []]\n",
    "i = 0\n",
    "individual = 0\n",
    "while i < len(sorted_sample):\n",
    "    if sorted_sample[i] not in variations_row[0]:\n",
    "        variations_row[0].append(sorted_sample[i]) #.count, .append\n",
    "        variations_row[1].append(sorted_sample.count(sorted_sample[i]))\n",
    "    i = i + 1\n",
    "print(\"\\n This is the variations row:\")\n",
    "table = [['xi', 'ni']]\n",
    "i = 0\n",
    "while i < len(variations_row[0]):\n",
    "    table.append([variations_row[0][i], variations_row[1][i]])\n",
    "    i = i + 1\n",
    "print(tabulate(table))\n"
   ]
  },
  {
   "cell_type": "code",
   "execution_count": 6,
   "metadata": {},
   "outputs": [
    {
     "name": "stdout",
     "output_type": "stream",
     "text": [
      "По формуле Стерджа:\n",
      "Всего 8 интервалов\n",
      "Длина интервала: 0.125\n",
      "-------------  --\n",
      "(x(i-1); xi]   ni\n",
      "[0; 0.125]     27\n",
      "(0.125; 0.25]  12\n",
      "(0.25; 0.375]  27\n",
      "(0.375; 0.5]   23\n",
      "(0.5; 0.625]   2\n",
      "(0.625; 0.75]  1\n",
      "(0.75; 0.875]  0\n",
      "(0.875; 1.0]   1\n",
      "-------------  --\n"
     ]
    }
   ],
   "source": [
    "\n",
    "\n",
    "\n",
    "print(\"По формуле Стерджа:\")\n",
    "k = round(1 + log2(93))\n",
    "h = (sorted_sample[len(sorted_sample)-1] - sorted_sample[0])/k\n",
    "print(f\"Всего {k} интервалов\")\n",
    "print(f\"Длина интервала: {h}\")\n",
    "table1 = [['(x(i-1); xi]', 'ni']]\n",
    "first_pos = sorted_sample[0]\n",
    "counters_array = [] #Массив, который считает вхождения элементов в определенный интервал, то есть counters_array[i] = количество элементов, попавших в i-ый интервал\n",
    "i = 0\n",
    "j = 0\n",
    "while i < k:\n",
    "    interval_counter = 0 #Подсчет элементов в рамках рассматриваемого на этой итерации инетрвала\n",
    "    j = 0\n",
    "    while j < len(variations_row[0]):\n",
    "        if j == 0:\n",
    "            if variations_row[0][j] >= first_pos and variations_row[0][j] <= first_pos + h:\n",
    "                interval_counter = interval_counter + variations_row[1][j]\n",
    "            j = j + 1\n",
    "        else: \n",
    "            if variations_row[0][j] > first_pos and variations_row[0][j] <= first_pos + h:\n",
    "                interval_counter = interval_counter + variations_row[1][j]\n",
    "            j = j + 1\n",
    "    if first_pos == sorted_sample[0]:\n",
    "        table1.append([f'[{first_pos}; {first_pos + h}]', interval_counter]) #first_pos для выведения границ интервала\n",
    "    else: \n",
    "        table1.append([f'({first_pos}; {first_pos + h}]', interval_counter])\n",
    "    counters_array.append(interval_counter)\n",
    "    i = i + 1\n",
    "    first_pos = first_pos + h\n",
    "print(tabulate(table1))\n"
   ]
  },
  {
   "cell_type": "markdown",
   "metadata": {},
   "source": [
    "Можем себя проверить, просуммировав числа в столбце абсолютных частот. Мы получим 93 - количество элементов в выборке ==> все верно"
   ]
  },
  {
   "cell_type": "code",
   "execution_count": 7,
   "metadata": {},
   "outputs": [
    {
     "name": "stdout",
     "output_type": "stream",
     "text": [
      "[0.0625, 0.1875, 0.3125, 0.4375, 0.5625, 0.6875, 0.8125, 0.9375]\n",
      "[27, 12, 27, 23, 2, 1, 0, 1]\n"
     ]
    },
    {
     "data": {
      "image/png": "[encoded data removed]",
      "text/plain": [
       "<Figure size 640x480 with 1 Axes>"
      ]
     },
     "metadata": {},
     "output_type": "display_data"
    }
   ],
   "source": [
    "#3\n",
    "#полигон (абсолютные частоты)\n",
    "first_pos = sorted_sample[0]\n",
    "points = [first_pos] #Этот массив здесь и далее будет содержать в себе границы интервалов\n",
    "x_axis = [] #Этот массив здесь и далее будет содержать в себе середины интервалов\n",
    "i = 0\n",
    "while i < k:\n",
    "    x_axis.append((first_pos + first_pos + h)/2)\n",
    "    first_pos = first_pos + h\n",
    "    points.append(first_pos)\n",
    "    i = i + 1\n",
    "print(x_axis)\n",
    "print(counters_array)\n",
    "matplotlib.pyplot.xlabel('xi')\n",
    "matplotlib.pyplot.ylabel('ni')\n",
    "matplotlib.pyplot.plot(x_axis, counters_array)\n",
    "matplotlib.pyplot.xticks(x_axis)\n",
    "matplotlib.pyplot.show() #Здесь не ругаемся, берем середины отрезков, все по-честному\n"
   ]
  },
  {
   "cell_type": "code",
   "execution_count": 24,
   "metadata": {},
   "outputs": [
    {
     "name": "stdout",
     "output_type": "stream",
     "text": [
      "[27, 12, 27, 23, 2, 1, 0, 1]\n",
      "[0, 0.125, 0.25, 0.375, 0.5, 0.625, 0.75, 0.875, 1.0]\n"
     ]
    },
    {
     "data": {
      "image/png": "[encoded data removed]",
      "text/plain": [
       "<Figure size 640x480 with 1 Axes>"
      ]
     },
     "metadata": {},
     "output_type": "display_data"
    }
   ],
   "source": [
    "#Гистограмма (абсолютные частоты)\n",
    "#здесь берем непосредственно края отрезков\n",
    "print(counters_array)\n",
    "print(points)\n",
    "i = 0\n",
    "hist_counters_array = []\n",
    "while i < len(counters_array):\n",
    "    hist_counters_array.append(counters_array[i]/h)\n",
    "    i = i + 1\n",
    "matplotlib.pyplot.bar(x_axis, hist_counters_array,width=h, edgecolor = 'black')\n",
    "matplotlib.pyplot.xticks(points)\n",
    "matplotlib.pyplot.show()"
   ]
  },
  {
   "cell_type": "code",
   "execution_count": 9,
   "metadata": {},
   "outputs": [
    {
     "data": {
      "image/png": "[encoded data removed]",
      "text/plain": [
       "<Figure size 640x480 with 1 Axes>"
      ]
     },
     "metadata": {},
     "output_type": "display_data"
    }
   ],
   "source": [
    "#Эмпирическая функция (абсолютные частоты)\n",
    "acc_counters_array = [counters_array[0]] #Этот массив будет содержать в себе накопленные абсолютные частоты\n",
    "i = 1\n",
    "while i < len(points) - 1:\n",
    "    acc_counters_array.append(acc_counters_array[i - 1] + counters_array[i])\n",
    "    i = i + 1\n",
    "i = 0\n",
    "while i < len(points) - 1:\n",
    "    matplotlib.pyplot.plot([points[i], points[i+1]], [acc_counters_array[i], acc_counters_array[i]])\n",
    "    i = i + 1\n",
    "matplotlib.pyplot.xticks(points)\n",
    "matplotlib.pyplot.show()"
   ]
  },
  {
   "cell_type": "markdown",
   "metadata": {},
   "source": [
    "Были построены полигон, гистограмма и график эмпирической функции для абсолютных частот"
   ]
  },
  {
   "cell_type": "code",
   "execution_count": 10,
   "metadata": {},
   "outputs": [
    {
     "name": "stdout",
     "output_type": "stream",
     "text": [
      "[0.0625, 0.1875, 0.3125, 0.4375, 0.5625, 0.6875, 0.8125, 0.9375]\n",
      "[27, 12, 27, 23, 2, 1, 0, 1]\n"
     ]
    },
    {
     "data": {
      "image/png": "[encoded data removed]",
      "text/plain": [
       "<Figure size 640x480 with 1 Axes>"
      ]
     },
     "metadata": {},
     "output_type": "display_data"
    }
   ],
   "source": [
    "#4\n",
    "#полигон (относительные частоты)\n",
    "first_pos = sorted_sample[0]\n",
    "points = [first_pos]\n",
    "x_axis = []\n",
    "relative_counters_array = [] #Этот массив будет содержать в себе относительные частоты\n",
    "i = 0\n",
    "while i < len(counters_array):\n",
    "    relative_counters_array.append(counters_array[i]/len(sample))\n",
    "    i = i + 1\n",
    "i = 0\n",
    "while i < k:\n",
    "    x_axis.append((first_pos + first_pos + h)/2)\n",
    "    first_pos = first_pos + h\n",
    "    points.append(first_pos)\n",
    "    i = i + 1\n",
    "print(x_axis)\n",
    "print(counters_array)\n",
    "matplotlib.pyplot.xlabel('xi')\n",
    "matplotlib.pyplot.ylabel('pi')\n",
    "matplotlib.pyplot.plot(x_axis, relative_counters_array)\n",
    "matplotlib.pyplot.xticks(x_axis)\n",
    "matplotlib.pyplot.show() #Здесь не ругаемся, берем середины отрезков, все по-честному"
   ]
  },
  {
   "cell_type": "code",
   "execution_count": 25,
   "metadata": {},
   "outputs": [
    {
     "data": {
      "image/png": "[encoded data removed]",
      "text/plain": [
       "<Figure size 640x480 with 1 Axes>"
      ]
     },
     "metadata": {},
     "output_type": "display_data"
    }
   ],
   "source": [
    "#Гистограмма (относительные частоты)\n",
    "i = 0\n",
    "hist2_counters_array = []\n",
    "while i < len(counters_array):\n",
    "    hist2_counters_array.append(relative_counters_array[i]/h)\n",
    "    i = i + 1\n",
    "matplotlib.pyplot.bar(x_axis, hist2_counters_array,width=h, edgecolor = 'black')\n",
    "matplotlib.pyplot.xticks(points)\n",
    "matplotlib.pyplot.show()"
   ]
  },
  {
   "cell_type": "code",
   "execution_count": 12,
   "metadata": {},
   "outputs": [
    {
     "data": {
      "image/png": "[encoded data removed]",
      "text/plain": [
       "<Figure size 640x480 with 1 Axes>"
      ]
     },
     "metadata": {},
     "output_type": "display_data"
    }
   ],
   "source": [
    "#Эмпирическая функция (относительные частоты)\n",
    "relative_counters_array = []\n",
    "i = 0\n",
    "while i < len(counters_array):\n",
    "    relative_counters_array.append(counters_array[i]/len(sample))\n",
    "    i = i + 1\n",
    "acc_relative_counters_array = [relative_counters_array[0]] #Этот массив будет содержать в себе накопленные относительные частоты\n",
    "i = 1\n",
    "while i < len(points) - 1:\n",
    "    acc_relative_counters_array.append(acc_relative_counters_array[i - 1] + relative_counters_array[i])\n",
    "    i = i + 1\n",
    "i = 0\n",
    "while i < len(points) - 1:\n",
    "    matplotlib.pyplot.plot([points[i], points[i+1]], [acc_relative_counters_array[i], acc_relative_counters_array[i]])\n",
    "    i = i + 1\n",
    "matplotlib.pyplot.xticks(points)\n",
    "matplotlib.pyplot.show()"
   ]
  },
  {
   "cell_type": "markdown",
   "metadata": {},
   "source": [
    "Были построены полигон, гистограмма и график эмпирической функции для относительных частот"
   ]
  },
  {
   "cell_type": "markdown",
   "metadata": {},
   "source": [
    "Несмотря на построение от разных типов частот (абсолютные и относительные), несложно заметить, что графики имеют одинаковые тенденции и схожее поведение"
   ]
  },
  {
   "cell_type": "markdown",
   "metadata": {},
   "source": [
    "Основываясь на построенных графиках, нельзя говорить о том, что исследуемая переменная имеет нормальное распределение"
   ]
  },
  {
   "cell_type": "code",
   "execution_count": 26,
   "metadata": {
    "scrolled": true
   },
   "outputs": [
    {
     "name": "stdout",
     "output_type": "stream",
     "text": [
      "-  -------------  ------  --  --------------------  ---  -------------------\n",
      "i  (xi-1; xi]     𝑥˜𝑖     ni  pi                    niΣ  piΣ\n",
      "1  [0; 0.125]     0.0625  27  0.2903225806451613    27   0.2903225806451613\n",
      "2  (0.125; 0.25]  0.1875  12  0.12903225806451613   39   0.41935483870967744\n",
      "3  (0.25; 0.375]  0.3125  27  0.2903225806451613    66   0.7096774193548387\n",
      "4  (0.375; 0.5]   0.4375  23  0.24731182795698925   89   0.956989247311828\n",
      "5  (0.5; 0.625]   0.5625  2   0.021505376344086023  91   0.978494623655914\n",
      "6  (0.625; 0.75]  0.6875  1   0.010752688172043012  92   0.989247311827957\n",
      "7  (0.75; 0.875]  0.8125  0   0.0                   92   0.989247311827957\n",
      "8  (0.875; 1.0]   0.9375  1   0.010752688172043012  93   1.0\n",
      "Σ  -              -       93  1.0                   -    -\n",
      "-  -------------  ------  --  --------------------  ---  -------------------\n"
     ]
    }
   ],
   "source": [
    "#5\n",
    "#Середины интервалов и накопленные частоты (таблица)\n",
    "from itertools import count\n",
    "\n",
    "\n",
    "table2 = [['i','(xi-1; xi]', '𝑥˜𝑖', 'ni', 'pi', 'niΣ', 'piΣ']]\n",
    "i = 0\n",
    "first_pos = sorted_sample[0]\n",
    "ni_summary = 0 \n",
    "pi_summary = 0 #Эта и предыдущая строка высчитывают суммы столбцов относительных и абсолютных частот соответственно\n",
    "while i < k:\n",
    "    if i != 0:\n",
    "        table2.append([i+1, f\"({first_pos}; {first_pos + h}]\", x_axis[i], counters_array[i], relative_counters_array[i], acc_counters_array[i], acc_relative_counters_array[i]])\n",
    "    else:\n",
    "        table2.append([i+1, f\"[{first_pos}; {first_pos + h}]\", x_axis[i], counters_array[i], relative_counters_array[i], acc_counters_array[i], acc_relative_counters_array[i]])\n",
    "    ni_summary = ni_summary + counters_array[i]\n",
    "    pi_summary = pi_summary + relative_counters_array[i]\n",
    "    first_pos = first_pos + h\n",
    "    i = i + 1\n",
    "table2.append(['Σ', '-','-',  ni_summary, pi_summary, '-', '-'])\n",
    "print(tabulate(table2))\n"
   ]
  },
  {
   "cell_type": "markdown",
   "metadata": {},
   "source": [
    "Из таблицы видим, что сумма столбца ni = 93 (наш объем выборки), а столбца pi = 1.0. Убедиться в таких равенствах - один из способов проверки вычислений"
   ]
  },
  {
   "cell_type": "code",
   "execution_count": 14,
   "metadata": {},
   "outputs": [
    {
     "name": "stdout",
     "output_type": "stream",
     "text": [
      "-  -------------  --  ----  ------  ------  ------  ------  ------------\n",
      "i  (xi-1; xi]     ni  ui    niui    niui^2  niui^3  niui^4  ni(ui + 1)^4\n",
      "0  (0; 0.125]     27  -3.0  -81.0   243.0   -729.0  2187.0  432.0\n",
      "1  (0.125; 0.25]  12  -2.0  -24.0   48.0    -96.0   192.0   12.0\n",
      "2  (0.25; 0.375]  27  -1.0  -27.0   27.0    -27.0   27.0    0.0\n",
      "3  (0.375; 0.5]   23  0.0   0.0     0.0     0.0     0.0     23.0\n",
      "4  (0.5; 0.625]   2   1.0   2.0     2.0     2.0     2.0     32.0\n",
      "5  (0.625; 0.75]  1   2.0   2.0     4.0     8.0     16.0    81.0\n",
      "6  (0.75; 0.875]  0   3.0   0.0     0.0     0.0     0.0     0.0\n",
      "7  (0.875; 1.0]   1   4.0   4.0     16.0    64.0    256.0   625.0\n",
      "Σ  -              93  -     -124.0  340.0   -778.0  2680.0  1205.0\n",
      "-  -------------  --  ----  ------  ------  ------  ------  ------------\n"
     ]
    }
   ],
   "source": [
    "table3 = [['i','(xi-1; xi]', 'ni', 'ui', 'niui', ' niui^2', ' niui^3', ' niui^4', 'ni(ui + 1)^4']]\n",
    "c = sorted_sample[0]\n",
    "if k % 2 != 0:\n",
    "    c = points[(k-1)/2]\n",
    "else:\n",
    "    i1 = int(k/2 - 1)\n",
    "    i2 = int(k/2)\n",
    "    candidate_1 = c + h*i1 + h/2\n",
    "    candidate_2 = c + h*i2 + h/2\n",
    "    if counters_array[i1] >= counters_array[i2]:\n",
    "        c = candidate_1\n",
    "    else: \n",
    "        c = candidate_2 #Определяем c, если C - середина среднего интервала (если таких два - середина интервала с наиб. частотой)\n",
    "conditional_vars = [] #Массив условных вариант\n",
    "i = 0\n",
    "while i < k:\n",
    "    conditional_vars.append((x_axis[i] - c)/h)\n",
    "    i = i + 1\n",
    "i = 0\n",
    "first_pos = sorted_sample[0]\n",
    "niui_summary, niui2_summary, niui3_summary, niui4_summary, niui14_summary = 0, 0, 0, 0, 0 #Суммы интересуюищх нас столбцов\n",
    "while i < k:\n",
    "    table3.append([i, f\"({first_pos}; {first_pos + h}]\", counters_array[i], conditional_vars[i], counters_array[i]*conditional_vars[i], counters_array[i]*conditional_vars[i]**2, counters_array[i]*conditional_vars[i]**3, counters_array[i]*conditional_vars[i]**4, counters_array[i]*(conditional_vars[i] + 1)**4])\n",
    "    first_pos = first_pos + h\n",
    "    niui_summary = niui_summary + counters_array[i]*conditional_vars[i]\n",
    "    niui2_summary = niui2_summary + counters_array[i]*conditional_vars[i]**2\n",
    "    niui3_summary = niui3_summary + counters_array[i]*conditional_vars[i]**3\n",
    "    niui4_summary = niui4_summary + counters_array[i]*conditional_vars[i]**4\n",
    "    niui14_summary = niui14_summary + counters_array[i]*(conditional_vars[i] + 1)**4\n",
    "    i = i + 1\n",
    "table3.append(['Σ', '-', ni_summary, '-', niui_summary, niui2_summary, niui3_summary, niui4_summary, niui14_summary])\n",
    "print(tabulate(table3))\n",
    "assert niui14_summary == niui4_summary + 4*niui3_summary + 6*niui2_summary + 4*niui_summary + ni_summary, \"Got some count problems\"\n"
   ]
  },
  {
   "cell_type": "markdown",
   "metadata": {},
   "source": [
    "Так как проверка \"assert\" не выдала ошибку, вычисления верны (речь идет о проверке при помощи строки суммы)"
   ]
  },
  {
   "cell_type": "code",
   "execution_count": 15,
   "metadata": {},
   "outputs": [
    {
     "name": "stdout",
     "output_type": "stream",
     "text": [
      "-  -------------------  ---------------------\n",
      "i  𝜈*i                  𝜇*i\n",
      "1  -1.3333333333333333  0\n",
      "2  3.6559139784946235   0.029345878136200716\n",
      "3  -8.365591397849462   0.002963522998805255\n",
      "4  28.817204301075268   0.0033485476403823165\n",
      "-  -------------------  ---------------------\n"
     ]
    }
   ],
   "source": [
    "#7Условные эмпирические моменты через условные варианты\n",
    "#Затем центральные эмпирические моменты через условные\n",
    "table4 = [['i', '𝜈*i', '𝜇*i']]\n",
    "#Создадим массивы для условных, обычных и центральных эмпирических моментов\n",
    "condit_emp_moments = [niui_summary/len(sorted_sample), niui2_summary/len(sorted_sample), niui3_summary/len(sorted_sample), niui4_summary/len(sorted_sample)]\n",
    "common_emp_moments = []\n",
    "center_emp_moments = [0 ,0, 0, 0] \n",
    "i = 0 \n",
    "while i < 4:\n",
    "    common_emp_moments.append(condit_emp_moments[i]*h**(i+1))\n",
    "    i = i + 1\n",
    "center_emp_moments[0] = 0\n",
    "center_emp_moments[1] = common_emp_moments[1] - (common_emp_moments[0])**2\n",
    "center_emp_moments[2] = common_emp_moments[2] - 3*common_emp_moments[1]*common_emp_moments[0] + 2*common_emp_moments[0]**3\n",
    "center_emp_moments[3] = common_emp_moments[3] - 4*common_emp_moments[2]*common_emp_moments[0] + 6*common_emp_moments[1]*common_emp_moments[0]**2 - 3*common_emp_moments[0]**4\n",
    "i = 0\n",
    "while i < 4:\n",
    "    #table4.append([i + 1, condit_emp_moments[i], condit_emp_moments[i]*h**(i+1)])\n",
    "    table4.append([i + 1, condit_emp_moments[i], center_emp_moments[i]])\n",
    "    i = i + 1\n",
    "print(tabulate(table4))\n"
   ]
  },
  {
   "cell_type": "markdown",
   "metadata": {},
   "source": [
    "Были посчитаны условные и центральные моменты"
   ]
  },
  {
   "cell_type": "code",
   "execution_count": 27,
   "metadata": {},
   "outputs": [
    {
     "name": "stdout",
     "output_type": "stream",
     "text": [
      "Average x:  0.2708333333333333\n",
      "Dispersion:  0.02934587813620072\n",
      "Average x (the other way):  0.27083333333333337\n",
      "Dispersion (the other way):  0.029345878136200716\n"
     ]
    }
   ],
   "source": [
    "#8 Выборочное среднее и дисперсия с помощью стандартных формул\n",
    "#Затем через условные варианты. Убедиться в том, что результаты совпадают\n",
    "x_avg = 0\n",
    "i = 0\n",
    "while i < k: #не len(sample), а k\n",
    "    x_avg = x_avg + x_axis[i]*counters_array[i] #добавляем середины интервалов, умноженные на количество\n",
    "    i = i + 1\n",
    "x_avg = x_avg/len(sample) #тут оставляем len_sample\n",
    "print(\"Average x: \", x_avg)\n",
    "x_disp = 0\n",
    "i = 0 #МЫ РАБОТАЕМ С ИНТЕРВАЛЬНЫМ РЯДОМ\n",
    "while i < k:\n",
    "    x_disp = x_disp + counters_array[i]*(x_axis[i] - x_avg)**2 #Здесь в скобке x_axis[i] - середина интервала с номером i\n",
    "    i = i + 1\n",
    "x_disp = x_disp/len(sample)\n",
    "print(\"Dispersion: \", x_disp)\n",
    "x_avg_2 = h*condit_emp_moments[0] + c\n",
    "print(\"Average x (the other way): \", x_avg_2)\n",
    "x_disp_2 = condit_emp_moments[1]*h**2 - (condit_emp_moments[0]*h)**2\n",
    "print(\"Dispersion (the other way): \", x_disp_2)\n",
    "\n",
    "\n"
   ]
  },
  {
   "cell_type": "markdown",
   "metadata": {},
   "source": [
    "Посчитав среднее и дисперсию двумя разными способами (через стандартные формулы и через моменты), видим, что они совпадают.\n",
    "Следовательно, вычисления верны "
   ]
  },
  {
   "cell_type": "code",
   "execution_count": 17,
   "metadata": {},
   "outputs": [
    {
     "name": "stdout",
     "output_type": "stream",
     "text": [
      "Dispersion:  0.02934587813620072\n",
      "Standard deviation:  0.17130638673499807\n",
      "Corrected dispersion:  0.02966485507246377\n",
      "Corrected standard deviation:  0.17223488343672944\n",
      "Corrected dispersion divided by dispersion:  1.0108695652173914\n",
      "Corrected st. dev. divided by st. dev.:  1.0054200938997546\n"
     ]
    }
   ],
   "source": [
    "#9 Исправленные выборочные дисперсия и СКО\n",
    "#Сравнить оценки со смещенными оценками дисперсии и СКО\n",
    "st_dev = sqrt(x_disp)\n",
    "print(\"Dispersion: \", x_disp)\n",
    "print(\"Standard deviation: \", st_dev)\n",
    "#corrected_disp = k/(k-1)*x_disp интервалы..?\n",
    "corrected_disp = len(sample)/(len(sample)-1)*x_disp\n",
    "corrected_st_dev = sqrt(corrected_disp)\n",
    "print(\"Corrected dispersion: \", corrected_disp)\n",
    "print(\"Corrected standard deviation: \", corrected_st_dev)\n",
    "fraction1 = corrected_disp/x_disp\n",
    "fraction2 = corrected_st_dev/st_dev\n",
    "print(\"Corrected dispersion divided by dispersion: \", fraction1)\n",
    "print(\"Corrected st. dev. divided by st. dev.: \", fraction2)"
   ]
  },
  {
   "cell_type": "markdown",
   "metadata": {},
   "source": [
    "Были посчитаны дисперсия, ско, а также исправленные дисперсия и ско. Согласно утверждению \"при достаточно больших n выборочная и исправленная дисперсии мало отличаются\", взглянув на указанные отношения величин к их исправленному аналогу, можно заявить, что выборка имеет достаточно большой объем"
   ]
  },
  {
   "cell_type": "code",
   "execution_count": 28,
   "metadata": {},
   "outputs": [
    {
     "name": "stdout",
     "output_type": "stream",
     "text": [
      "Asymmetry coefficient:  0.589505196004621\n",
      "Excess coefficient:  0.8883223588368949\n"
     ]
    }
   ],
   "source": [
    "#10 Ассимметрия и эксцесс\n",
    "asym_coef = center_emp_moments[2]/st_dev**3\n",
    "excess_coef = center_emp_moments[3]/st_dev**4 - 3\n",
    "print(\"Asymmetry coefficient: \", asym_coef)\n",
    "print(\"Excess coefficient: \", excess_coef)"
   ]
  },
  {
   "cell_type": "markdown",
   "metadata": {},
   "source": [
    "Коэффициент асимметрии > 0, следовательно на графике распределения будет виден 'сдвиг картинки влево'\n",
    "\n",
    "Коэффициент эксцесса > 0, следовательно это случай острой вершины, когда пик выше чем пик нормального распределения."
   ]
  },
  {
   "cell_type": "code",
   "execution_count": 29,
   "metadata": {},
   "outputs": [
    {
     "name": "stdout",
     "output_type": "stream",
     "text": [
      "The first seen moda:  0.0625\n",
      "If the bi-moda wanted:  [0.0625, 0.1875]\n",
      "Median:  0.26420454545454547\n",
      "Variation coefficient:  63.25158894830698 %\n"
     ]
    }
   ],
   "source": [
    "#11 Moda, median, coef. of variation\n",
    "i = 0\n",
    "comparable_freq = counters_array[0]\n",
    "comparable_freq_index = [0]\n",
    "while i < len(counters_array):\n",
    "    if counters_array[i] > comparable_freq:\n",
    "        comparable_freq = counters_array[i] #находим самую высокую частоту\n",
    "        comparable_freq_index[0] = i \n",
    "    i = i + 1\n",
    "i = 0\n",
    "while i < len(counters_array):\n",
    "    if counters_array[i] == comparable_freq: \n",
    "        if i not in comparable_freq_index:\n",
    "            comparable_freq_index.append(i) #Находим номера интервалов с такой частотой\n",
    "    i = i + 1\n",
    "Moda = []\n",
    "i = 0\n",
    "while i < len(comparable_freq_index):\n",
    "    if comparable_freq_index[i] == 0:\n",
    "        Moda.append(points[0] + h*(counters_array[0]/(counters_array[0]+counters_array[0])))\n",
    "    elif comparable_freq_index[i] == k - 1:\n",
    "        Moda.append(points[k - 1] + h*(counters_array[k - 1]/(counters_array[k - 1]+counters_array[k - 1])))\n",
    "    else:\n",
    "        Moda.append(points[i] + h*((counters_array[i] - counters_array[i - 1])/(counters_array[i] - counters_array[i-1] + counters_array[i] - counters_array[i + 1])))\n",
    "    i = i + 1\n",
    "print(\"The first seen moda: \", Moda[0])\n",
    "print(\"If the bi-moda wanted: \", Moda)\n",
    "i = 0\n",
    "while i < k:\n",
    "    if acc_relative_counters_array[i] >= 0.5:\n",
    "        med_index = i\n",
    "        break\n",
    "    i = i + 1\n",
    "Median = points[med_index] + h/acc_relative_counters_array[med_index]*(0.5-acc_relative_counters_array[med_index - 1])\n",
    "print(\"Median: \", Median)\n",
    "variation_coef = st_dev/abs(x_avg)*100\n",
    "print(\"Variation coefficient: \", variation_coef, \"%\")\n",
    "\n",
    "\n",
    "    \n"
   ]
  },
  {
   "cell_type": "markdown",
   "metadata": {},
   "source": [
    "Были найдены мода - 0.0625 и медиана - 0.26420454545454547\n",
    "По коэффициенту вариации, который равен 63.25158894830698 % видно, что, так как его значение больше 33%, выборку можно считать неоднородной."
   ]
  },
  {
   "cell_type": "code",
   "execution_count": 30,
   "metadata": {},
   "outputs": [
    {
     "name": "stdout",
     "output_type": "stream",
     "text": [
      "Accuracy for 0.95 confidence level:  0.03546981189830279\n",
      "Accuracy for 0.99 confidence level:  0.04697160387338184\n",
      "Confidence interval for the first accuracy: (0.23536352143503053; 0.3063031452316361)\n",
      "Confidence interval for the second accuracy: (0.22386172945995148; 0.31780493720671515)\n"
     ]
    }
   ],
   "source": [
    "#12Точность и доверительный интервал для мо при неизвестном ско при заданном объеме выборки (n = 93)\n",
    "t1 = 1.986 #для доверительной вероятности 0.95\n",
    "t2 = 2.63 #для доверительной вероятности 0.99\n",
    "accuracy1 = t1*corrected_st_dev/sqrt(len(sample)) #для доверительной вероятности 0.95\n",
    "accuracy2 = t2*corrected_st_dev/sqrt(len(sample)) #для доверительной вероятности 0.99\n",
    "print(\"Accuracy for 0.95 confidence level: \", accuracy1)\n",
    "print(\"Accuracy for 0.99 confidence level: \", accuracy2)\n",
    "print(f\"Confidence interval for the first accuracy: ({x_avg - accuracy1}; {x_avg + accuracy1})\")\n",
    "print(f\"Confidence interval for the second accuracy: ({x_avg - accuracy2}; {x_avg + accuracy2})\")\n"
   ]
  },
  {
   "cell_type": "markdown",
   "metadata": {},
   "source": [
    "Так как выборочное среднее равно 0.2708333333333333, можно заявить, что оба посчитанных доверительных интервала покрывают значение выборочного среднего"
   ]
  },
  {
   "cell_type": "code",
   "execution_count": 31,
   "metadata": {},
   "outputs": [
    {
     "name": "stdout",
     "output_type": "stream",
     "text": [
      "Confidence interval for the first confidence level : (0.14622741603778328; 0.1982423508356756)\n",
      "Confidence interval for the second confidence level : (0.13589332303157953; 0.20857644384187937)\n"
     ]
    }
   ],
   "source": [
    "#13 для вычисления границ для доверительного интервала для ско найти 𝑞 при заданных 𝛾 и n\n",
    "q1 = 0.151\n",
    "q2 = 0.211\n",
    "print(f\"Confidence interval for the first confidence level : ({corrected_st_dev*(1 - q1)}; {corrected_st_dev*(1 + q1)})\")\n",
    "print(f\"Confidence interval for the second confidence level : ({corrected_st_dev*(1 - q2)}; {corrected_st_dev*(1 + q2)})\")\n"
   ]
  },
  {
   "cell_type": "markdown",
   "metadata": {},
   "source": [
    "Так как среднеквадратичное отклонение равно 0.17130638673499807, можно заявить, что оба посчитанных доверительных интервала покрывают значение среднеквадратичного отклонения"
   ]
  },
  {
   "cell_type": "code",
   "execution_count": 22,
   "metadata": {},
   "outputs": [
    {
     "name": "stdout",
     "output_type": "stream",
     "text": [
      "Pairs of arguments for theoretical frequencies:  [[-0.851301204309036, -inf], [-0.12161445775843362, -0.851301204309036], [0.6080722887921687, -0.12161445775843362], [1.337759035342771, 0.6080722887921687], [2.0674457818933734, 1.337759035342771], [2.7971325284439756, 2.0674457818933734], [3.5268192749945784, 2.7971325284439756], [inf, 3.5268192749945784]]\n",
      "-  -------------  --  ----------------------  --------------------  --------------------  -------------------  ----  ------------------\n",
      "i  (xi-1; xi]     ni  pi                      ni'                   (ni - ni')^2          (ni - ni')^2/ni'     ni^2  ni^2/ni'\n",
      "1  (-inf; 0.125]  27  0.1977                  18.3861               74.19927321000002     4.03561784228303     729   39.64951784228303\n",
      "2  (0.125; 0.25]  12  0.2545                  23.6685               136.15389225000004    5.752535743709996    144   6.084035743709994\n",
      "3  (0.25; 0.375]  27  0.2769                  25.7517               1.558252890000001     0.06051068045993084  729   28.30881068045993\n",
      "4  (0.375; 0.5]   23  0.1808                  16.8144               38.26164736000001     2.275528556475403    529   31.461128556475405\n",
      "5  (0.5; 0.625]   2   0.07040000000000002     6.547200000000002     20.67702784000002     3.1581481915933547   4     0.6109481915933527\n",
      "6  (0.625; 0.75]  1   0.017100000000000004    1.5903000000000005    0.3484540900000006    0.21911217380368514  1     0.6288121738036846\n",
      "7  (0.75; 0.875]  0   0.0024399999999999977   0.2269199999999998    0.051492686399999904  0.2269199999999998   0     0.0\n",
      "8  (0.875; inf]   1   0.00015999999999999348  0.014879999999999394  0.9704614144000013    65.21918107527156    1     67.20430107527156\n",
      "Σ  -              93  1.0                     93.0                  -                     80.94755426359697    -     173.94755426359694\n",
      "-  -------------  --  ----------------------  --------------------  --------------------  -------------------  ----  ------------------\n",
      "df =  5\n",
      "Significance level = 0.05\n",
      "Comparing hi_observed and hi_krit:\n",
      "hi_observed:  80.94755426359697\n",
      "hi_krit:  11.0705\n",
      "Гипотеза противоречит, отвергаем\n"
     ]
    }
   ],
   "source": [
    "#14 проверка гипотезы\n",
    "from json.encoder import INFINITY\n",
    "import scipy\n",
    "from scipy import stats\n",
    "table5 = [['i','(xi-1; xi]', 'ni', 'pi', \"ni'\", \"(ni - ni')^2\",  \"(ni - ni')^2/ni'\", 'ni^2', \"ni^2/ni'\"]]\n",
    "i = 0\n",
    "first_pos = sorted_sample[0]\n",
    "arguments = []\n",
    "while i < k:\n",
    "    if i == 0:\n",
    "        arguments.append([(points[i + 1] - x_avg)/st_dev, -INFINITY])\n",
    "        #print(f\"[({points[i + 1]} - {x_avg})/{st_dev}, -INFINITY]\")\n",
    "    elif i == k - 1:\n",
    "        arguments.append([INFINITY, (points[i] - x_avg)/st_dev])\n",
    "        #print(f\"[INFINITY, ({points[i]} - {x_avg})/{st_dev}]\")\n",
    "    else:\n",
    "        arguments.append([(points[i + 1] - x_avg)/st_dev, (points[i] - x_avg)/st_dev])\n",
    "        #print(f\"[({points[i + 1]} - {x_avg})/{st_dev}, ({points[i]} - {x_avg})/{st_dev}]\")\n",
    "    i = i + 1\n",
    "print(\"Pairs of arguments for theoretical frequencies: \", arguments) #Получены пары аргументов (над таблицей), от которых надо считать функцию Лапласа для каждого интервала, значения берутся из таблицы\n",
    "theor_prob_array = [0, 0, 0, 0, 0, 0, 0, 0]\n",
    "theor_prob_array[0] = -0.3023 + 0.5\n",
    "theor_prob_array[1] = -0.0478 + 0.3023\n",
    "theor_prob_array[2] = 0.2291 + 0.0478\n",
    "theor_prob_array[3] = 0.4099 - 0.2291\n",
    "theor_prob_array[4] = 0.4803 - 0.4099\n",
    "theor_prob_array[5] = 0.4974 - 0.4803\n",
    "theor_prob_array[6] = 0.49984 - 0.4974\n",
    "theor_prob_array[7] = 0.5 - 0.49984 #Заполнены теоретические частоты\n",
    "i = 0 \n",
    "theor_prob_summary = 0 \n",
    "while i < k:\n",
    "    theor_prob_summary = theor_prob_summary + theor_prob_array[i]\n",
    "    i = i + 1\n",
    "aligned_prob_array = []\n",
    "i = 0\n",
    "while i < k:\n",
    "    aligned_prob_array.append(theor_prob_array[i]*len(sample))\n",
    "    i = i + 1 #Заполнены выравнивающие частоты\n",
    "i = 0\n",
    "aligned_prob_summary = 0\n",
    "while i < k:\n",
    "    aligned_prob_summary = aligned_prob_summary + aligned_prob_array[i]\n",
    "    i = i + 1\n",
    "ni_aligned_2_fraction_summary = 0\n",
    "ni_2_fraction_summary = 0\n",
    "i = 0\n",
    "while i < k:\n",
    "    if i == 0:\n",
    "        table5.append([i+1, f\"({-INFINITY}; {first_pos + h}]\", counters_array[i], theor_prob_array[i], aligned_prob_array[i],  (counters_array[i] - aligned_prob_array[i])**2, (counters_array[i] - aligned_prob_array[i])**2/aligned_prob_array[i], counters_array[i]**2, counters_array[i]**2/aligned_prob_array[i]])\n",
    "    elif i == k - 1:\n",
    "        table5.append([i+1, f\"({first_pos}; {INFINITY}]\", counters_array[i], theor_prob_array[i], aligned_prob_array[i],  (counters_array[i] - aligned_prob_array[i])**2, (counters_array[i] - aligned_prob_array[i])**2/aligned_prob_array[i], counters_array[i]**2, counters_array[i]**2/aligned_prob_array[i]])\n",
    "    else:\n",
    "        table5.append([i+1, f\"({first_pos}; {first_pos + h}]\", counters_array[i], theor_prob_array[i], aligned_prob_array[i],  (counters_array[i] - aligned_prob_array[i])**2, (counters_array[i] - aligned_prob_array[i])**2/aligned_prob_array[i], counters_array[i]**2, counters_array[i]**2/aligned_prob_array[i]])\n",
    "    ni_aligned_2_fraction_summary = ni_aligned_2_fraction_summary + (counters_array[i] - aligned_prob_array[i])**2/aligned_prob_array[i]\n",
    "    ni_2_fraction_summary = ni_2_fraction_summary + counters_array[i]**2/aligned_prob_array[i]\n",
    "    i = i + 1\n",
    "    first_pos = first_pos + h\n",
    "table5.append(['Σ', '-', ni_summary, theor_prob_summary, aligned_prob_summary, '-', ni_aligned_2_fraction_summary, '-', ni_2_fraction_summary])\n",
    "print(tabulate(table5))\n",
    "hi_observed = ni_aligned_2_fraction_summary\n",
    "print(\"df = \", k - 2 - 1)\n",
    "print(\"Significance level = 0.05\")\n",
    "hi_krit = 11.0705\n",
    "print(\"Comparing hi_observed and hi_krit:\")\n",
    "print(\"hi_observed: \", hi_observed)\n",
    "print(\"hi_krit: \", hi_krit)\n",
    "if hi_krit >= hi_observed:\n",
    "    print(\"Гипотеза не противоречит, принимаем\")\n",
    "else:\n",
    "    print(\"Гипотеза противоречит, отвергаем\")"
   ]
  },
  {
   "cell_type": "markdown",
   "metadata": {},
   "source": [
    "Так как полученное наблюдаемое значение больше критического, гипотеза отвергается"
   ]
  },
  {
   "cell_type": "markdown",
   "metadata": {},
   "source": [
    "## Выводы\n",
    "В ходе выполнения данной работы:\n",
    "\n",
    "$\\cdot$Было выполнено формирование выборки заданного объема на основе генеральной совокупности\n",
    "\n",
    "$\\cdot$Были рассмотрены следующие типы рядов: интервальный, вариационный, ранжированный (упорядоченный)\n",
    "\n",
    "$\\cdot$Были построены разнообразные отображения данных: гистограмма, полигон частот, эмпирическая функция\n",
    "\n",
    "$\\cdot$Вычислялись центральные, условные и обычные эмпирические моменты. Далее они применялись для нахождения ввыборочного среднего и дисперсии\n",
    "\n",
    "$\\cdot$Вычислялись коэффициенты асимметрии и эксцесса\n",
    "\n",
    "$\\cdot$Для интервального ряда были посчитаны мода, медиана и коэффициент вариации\n",
    "\n",
    "$\\cdot$Выполнялось построение доверительных интервалов для математического ожидания и среднеквадратичного отклонения\n",
    "\n",
    "$\\cdot$Было выдвинуто решение относительно гипотезы о нормальном распределении\n",
    "\n"
   ]
  }
 ],
 "metadata": {
  "kernelspec": {
   "display_name": "Python 3 (ipykernel)",
   "language": "python",
   "name": "python3"
  },
  "language_info": {
   "codemirror_mode": {
    "name": "ipython",
    "version": 3
   },
   "file_extension": ".py",
   "mimetype": "text/x-python",
   "name": "python",
   "nbconvert_exporter": "python",
   "pygments_lexer": "ipython3",
   "version": "3.9.7"
  },
  "vscode": {
   "interpreter": {
    "hash": "45beb057ebe845c6a5c2127f9f935cf9aabd045d8bdb12e640538eb4647b6b5d"
   }
  }
 },
 "nbformat": 4,
 "nbformat_minor": 4
}
