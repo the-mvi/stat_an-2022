{
 "cells": [
  {
   "cell_type": "markdown",
   "metadata": {},
   "source": [
    "# Практическая работа №1: Формирование и первичная обработка выборки. Нахождение и точечных и интервальных оценок. Проверка статистических гипотез.\n",
    "Выполнила студентка группы 0373: Казанова Анастасия. Вариант 9."
   ]
  },
  {
   "cell_type": "markdown",
   "metadata": {},
   "source": [
    "## Цель работы\n",
    "Ознакомление с основными правилами формирования выборки и подготовки выборочных данных к статистическому анализу. Получение практических навыков нахождения точечных статистических оценок параметров распределения, а также вычисления интервальных статистических оценок параметров распределения выборочных данных и проверки «справедливости» статистических гипотез."
   ]
  },
  {
   "cell_type": "markdown",
   "metadata": {},
   "source": [
    "## Постановка задачи\n",
    "* Осуществить формирование репрезентативной выборки заданного объема из имеющейся генеральной совокупности экспериментальных данных.\n",
    "* Осуществить последовательное преобразование полученной выборки в ранжированный, вариационный и интервальный ряды. \n",
    "* Применительно к интервальному ряду построить и отобразить графически полигон, гистограмму и эмпирическую функцию распределения для абсолютных и относительных частот. \n",
    "* Для заданных выборочных данных вычислить с использованием метода моментов и условных вариант точечные статистические оценки математического ожидания, дисперсии, среднеквадратичного отклонения, асимметрии, эксцесса, моды, медианы и коэффициента вариации исследуемой случайной величины. \n",
    "* Для заданной надёжности определить границы доверительных интервалов для математического ожидания и среднеквадратичного отклонения случайной величины. \n",
    "* Проверить гипотезу о нормальном распределении исследуемой случайной величины с помощью критерия Пирсона. Полученные результаты содержательно проинтерпретировать."
   ]
  },
  {
   "cell_type": "markdown",
   "metadata": {},
   "source": [
    "## Основные теоретические положения"
   ]
  },
  {
   "cell_type": "markdown",
   "metadata": {},
   "source": [
    "*Выборочная совокупность* — совокупность случайно отобранных объектов. Объем = n.    \n",
    "*Ряд распределения* — упорядоченное распределение единиц совокупности на группы по определенному варьирующему признаку.   \n",
    "*Вариационный ряд* — последовательность всех элементов выборки, расположенных в неубывающем порядке.  \n",
    "*Полигон частот* — ломаная линия, соединяющая точки дискретного ряда $((x_{1}, n_{1}), (x_{2}, n_{2}) ... (x_{k}, n_{k}))$.  \n",
    "*Полигон относительных частот* — ломаная линия, соединяющая точки дискретного ряда \n",
    "$((x_{1}, p_{1}^{*}), (x_{2}, p_{2}^{*}) ... (x_{k}, p_{k}^{*}))$.  \n",
    "*Гистограмма* — статистический аналог функции плотности распределения случайной величины.  \n",
    "*Гистограмма частот* — ступенчатая фигура, состоящая из прямоугольников, основаниями которых являются частичные интервалы, а высоты равны    \n",
    "$f_{i} = \\frac{n_{i}}{h}$  \n",
    "*Гистограмма относительных частот* — ступенчатая фигура, состоящая из прямоугольников, основаниями которых являются частичные интервалы, а высоты равны $f_{i}^{*} = \\frac{p_{i}^{*}}{h}$  \n",
    "*Абсолютная частота* — значение, показывающее, сколько раз данное значение повторяется в выборке.    \n",
    "*Формула Стёрджеса для задания интервального ряда:*  \n",
    "$k = 1 + 3.32 \\cdot log(n)$ - количество групп;   \n",
    "$h = \\frac{x_{max} - x_{min}}{k}$ - длина интервала или шаг.  \n",
    "*Выборочное среднее* — среднее арифметическое значений признака выборочной совокупности   \n",
    "$\\overline{x} = \\frac{1}{n}\\sum_{i = 1}^{n}x_{i}$. Для интервального ряда берется середина каждого интервала.  \n",
    "*Выборочная дисперсия* — среднее арифметическое квадратов отклонений значений признака выборочной совокупности от их среднего значения:\n",
    "$\\sigma^{2} = \\frac{1}{n}\\sum_{i = 1}^{n}(x_{i}-\\overline{x})^{2}$  \n",
    "*Среднекрадритичное отклонение* - квадратный корень из дисперсии.   \n",
    "*Мода интервального ряда* — число, заключенное в частичный интервал, которому соответствует наибольшая частота.  \n",
    "Истинное значение моды $M^{*}_o \\in (x^{o}_{M_o},x^{'}_{M_o});$   \n",
    "$M^{*}_o=x^{o}_{M_o}+h\\frac{n_{M_o}-n_{M_o-1}}{(n_{M_o}-n_{M_o-1})+(n_{M_o}-n_{M_o+1})}$  \n",
    "*Медиана* — значение признака, приходящееся на середину ранжированного ряда.  \n",
    "*Медиана интервального  ряда* — число, принадлежащее частичному интервалу, для которого накопленная частота составляет половину всей суммы частот, а накопленная частота предыдущего интервала меньше половины всей суммы частот.  \n",
    "$M^{*}_e\\in (x^{o}_{M_e},x^{'}_{M_e})$;   \n",
    "$M^{*}_e=x^{o}_{M_e} +\\frac{h}{p^{*}_{M_e}}(0.5-p^{\\sum}_{M_e-1})$  \n",
    "*Коэффициент вариации*(относительное стандартное отклонение) — мера колеблемости изучаемого признака относительно выборочной средней:\n",
    "$v^{*} = \\frac{\\sigma_B}{\\left|\\overline{X}_B \\right|} \\cdot 100$%  \n",
    "*Условные варианты* — определенные:  \n",
    "$\\mu_i=\\frac{x_i-c}{h}$, где с - ложный нуль, середина ряда.  \n",
    "*Центральный эмпирический момент порядка r* — среднее значений степеней разности $(x_i-c)$:  \n",
    "$\\mu^{*}_r=\\frac{1}{n} \\sum_{i=1}^{k}n_i(x_i-\\overline{x})^r$  \n",
    "$\\mu_1^*=0$;  \n",
    "$\\mu_2^*=(\\nu_2^*-(\\nu_1^*)^2)h^2$;  \n",
    "$\\mu_3^*=(\\nu_3^*-3\\nu_2^*\\nu_1^*+2(\\nu_1^*)^3)h^3$;  \n",
    "$\\mu_4^*=\\nu_4^*-4\\nu_3^*\\nu_1^*+6\\nu_2^*(\\nu_1^*)$.    \n",
    "*Выборочное среднее через условный эмпирический момент:*  \n",
    "$\\overline{x}=h\\cdot\\mu_1^*+c$      \n",
    "*Исправленная дисперсия*:   \n",
    "$s^{2} = \\frac{n}{n-1}\\cdot\\sigma^{2}$          \n",
    "*Коэффициент ассиметрии:*   \n",
    "$a_s^*=\\frac{\\mu_3^*}{\\sigma^3}$        \n",
    "*Коэффициент эксцесса:*   \n",
    "$e_k^*=\\frac{\\mu_4^*}{\\sigma^4}-3$        \n",
    "*Функция Лапласа:*   \n",
    "$\\Phi(x) = \\frac{1}{\\sqrt{2\\pi }}\\int_{0}^{x}e^{-\\frac{t^2}{2}}dt$        \n",
    "*Критерий Пирсона проверки гипотезы:*          \n",
    "$\\chi^{2}=\\sum_{i=1}^{k}{\\frac{(n_{i}-n_{i}^{'})^{2}}{n_{i}^{'}}}$    \n",
    "\n",
    "\n"
   ]
  },
  {
   "cell_type": "markdown",
   "metadata": {},
   "source": [
    "## Выполнение работы"
   ]
  },
  {
   "cell_type": "code",
   "execution_count": 85,
   "metadata": {},
   "outputs": [],
   "source": [
    "import numpy as np\n",
    "import pandas as pd\n",
    "import math\n",
    "import matplotlib.pyplot as plt\n",
    "from matplotlib.pyplot import legend\n",
    "import scipy.stats"
   ]
  },
  {
   "cell_type": "markdown",
   "metadata": {},
   "source": [
    "### **Задание №1.** Сформированная выборка объема 115. "
   ]
  },
  {
   "cell_type": "markdown",
   "metadata": {},
   "source": [
    "Выборка взята: https://archive.ics.uci.edu/ml/datasets/Forest+Fires  \n",
    "Способ формирования механический: последовательно выбирались два элемента из девяти. "
   ]
  },
  {
   "cell_type": "code",
   "execution_count": 86,
   "metadata": {},
   "outputs": [
    {
     "data": {
      "text/html": [
       "<div>\n",
       "<style scoped>\n",
       "    .dataframe tbody tr th:only-of-type {\n",
       "        vertical-align: middle;\n",
       "    }\n",
       "\n",
       "    .dataframe tbody tr th {\n",
       "        vertical-align: top;\n",
       "    }\n",
       "\n",
       "    .dataframe thead th {\n",
       "        text-align: right;\n",
       "    }\n",
       "</style>\n",
       "<table border=\"1\" class=\"dataframe\">\n",
       "  <thead>\n",
       "    <tr style=\"text-align: right;\">\n",
       "      <th></th>\n",
       "      <th>temp</th>\n",
       "    </tr>\n",
       "  </thead>\n",
       "  <tbody>\n",
       "    <tr>\n",
       "      <th>0</th>\n",
       "      <td>14.6</td>\n",
       "    </tr>\n",
       "    <tr>\n",
       "      <th>1</th>\n",
       "      <td>24.1</td>\n",
       "    </tr>\n",
       "    <tr>\n",
       "      <th>2</th>\n",
       "      <td>19.3</td>\n",
       "    </tr>\n",
       "    <tr>\n",
       "      <th>3</th>\n",
       "      <td>22.9</td>\n",
       "    </tr>\n",
       "    <tr>\n",
       "      <th>4</th>\n",
       "      <td>18.3</td>\n",
       "    </tr>\n",
       "    <tr>\n",
       "      <th>...</th>\n",
       "      <td>...</td>\n",
       "    </tr>\n",
       "    <tr>\n",
       "      <th>110</th>\n",
       "      <td>32.6</td>\n",
       "    </tr>\n",
       "    <tr>\n",
       "      <th>111</th>\n",
       "      <td>21.6</td>\n",
       "    </tr>\n",
       "    <tr>\n",
       "      <th>112</th>\n",
       "      <td>26.7</td>\n",
       "    </tr>\n",
       "    <tr>\n",
       "      <th>113</th>\n",
       "      <td>18.2</td>\n",
       "    </tr>\n",
       "    <tr>\n",
       "      <th>114</th>\n",
       "      <td>21.2</td>\n",
       "    </tr>\n",
       "  </tbody>\n",
       "</table>\n",
       "<p>115 rows × 1 columns</p>\n",
       "</div>"
      ],
      "text/plain": [
       "     temp\n",
       "0    14.6\n",
       "1    24.1\n",
       "2    19.3\n",
       "3    22.9\n",
       "4    18.3\n",
       "..    ...\n",
       "110  32.6\n",
       "111  21.6\n",
       "112  26.7\n",
       "113  18.2\n",
       "114  21.2\n",
       "\n",
       "[115 rows x 1 columns]"
      ]
     },
     "execution_count": 86,
     "metadata": {},
     "output_type": "execute_result"
    }
   ],
   "source": [
    "bivariate_sampling = pd.read_csv(\"forestfires.csv\") \n",
    "n = 115\n",
    "selection = bivariate_sampling[[\"temp\"]]\n",
    "selection"
   ]
  },
  {
   "cell_type": "markdown",
   "metadata": {},
   "source": [
    "### **Задание №2.** Последовательно преобразовать выборку в ранжированный, вариационный и интервальный ряды. "
   ]
  },
  {
   "cell_type": "markdown",
   "metadata": {},
   "source": [
    "*Ранжированный ряд:*"
   ]
  },
  {
   "cell_type": "code",
   "execution_count": 87,
   "metadata": {},
   "outputs": [
    {
     "data": {
      "text/html": [
       "<div>\n",
       "<style scoped>\n",
       "    .dataframe tbody tr th:only-of-type {\n",
       "        vertical-align: middle;\n",
       "    }\n",
       "\n",
       "    .dataframe tbody tr th {\n",
       "        vertical-align: top;\n",
       "    }\n",
       "\n",
       "    .dataframe thead th {\n",
       "        text-align: right;\n",
       "    }\n",
       "</style>\n",
       "<table border=\"1\" class=\"dataframe\">\n",
       "  <thead>\n",
       "    <tr style=\"text-align: right;\">\n",
       "      <th></th>\n",
       "      <th>temp</th>\n",
       "    </tr>\n",
       "  </thead>\n",
       "  <tbody>\n",
       "    <tr>\n",
       "      <th>0</th>\n",
       "      <td>4.6</td>\n",
       "    </tr>\n",
       "    <tr>\n",
       "      <th>1</th>\n",
       "      <td>4.6</td>\n",
       "    </tr>\n",
       "    <tr>\n",
       "      <th>2</th>\n",
       "      <td>5.1</td>\n",
       "    </tr>\n",
       "    <tr>\n",
       "      <th>3</th>\n",
       "      <td>5.2</td>\n",
       "    </tr>\n",
       "    <tr>\n",
       "      <th>4</th>\n",
       "      <td>8.2</td>\n",
       "    </tr>\n",
       "    <tr>\n",
       "      <th>...</th>\n",
       "      <td>...</td>\n",
       "    </tr>\n",
       "    <tr>\n",
       "      <th>110</th>\n",
       "      <td>27.6</td>\n",
       "    </tr>\n",
       "    <tr>\n",
       "      <th>111</th>\n",
       "      <td>27.8</td>\n",
       "    </tr>\n",
       "    <tr>\n",
       "      <th>112</th>\n",
       "      <td>31.0</td>\n",
       "    </tr>\n",
       "    <tr>\n",
       "      <th>113</th>\n",
       "      <td>32.4</td>\n",
       "    </tr>\n",
       "    <tr>\n",
       "      <th>114</th>\n",
       "      <td>32.6</td>\n",
       "    </tr>\n",
       "  </tbody>\n",
       "</table>\n",
       "<p>115 rows × 1 columns</p>\n",
       "</div>"
      ],
      "text/plain": [
       "     temp\n",
       "0     4.6\n",
       "1     4.6\n",
       "2     5.1\n",
       "3     5.2\n",
       "4     8.2\n",
       "..    ...\n",
       "110  27.6\n",
       "111  27.8\n",
       "112  31.0\n",
       "113  32.4\n",
       "114  32.6\n",
       "\n",
       "[115 rows x 1 columns]"
      ]
     },
     "execution_count": 87,
     "metadata": {},
     "output_type": "execute_result"
    }
   ],
   "source": [
    "selection_ranked = selection.sort_values(by=\"temp\").reset_index(drop=True)\n",
    "selection_ranked"
   ]
  },
  {
   "cell_type": "markdown",
   "metadata": {},
   "source": [
    "*Вариационный ряд:*"
   ]
  },
  {
   "cell_type": "code",
   "execution_count": 88,
   "metadata": {},
   "outputs": [
    {
     "data": {
      "text/html": [
       "<div>\n",
       "<style scoped>\n",
       "    .dataframe tbody tr th:only-of-type {\n",
       "        vertical-align: middle;\n",
       "    }\n",
       "\n",
       "    .dataframe tbody tr th {\n",
       "        vertical-align: top;\n",
       "    }\n",
       "\n",
       "    .dataframe thead th {\n",
       "        text-align: right;\n",
       "    }\n",
       "</style>\n",
       "<table border=\"1\" class=\"dataframe\">\n",
       "  <thead>\n",
       "    <tr style=\"text-align: right;\">\n",
       "      <th></th>\n",
       "      <th>variation</th>\n",
       "      <th>frequency</th>\n",
       "    </tr>\n",
       "  </thead>\n",
       "  <tbody>\n",
       "    <tr>\n",
       "      <th>0</th>\n",
       "      <td>4.6</td>\n",
       "      <td>2</td>\n",
       "    </tr>\n",
       "    <tr>\n",
       "      <th>1</th>\n",
       "      <td>5.1</td>\n",
       "      <td>1</td>\n",
       "    </tr>\n",
       "    <tr>\n",
       "      <th>2</th>\n",
       "      <td>5.2</td>\n",
       "      <td>1</td>\n",
       "    </tr>\n",
       "    <tr>\n",
       "      <th>3</th>\n",
       "      <td>8.2</td>\n",
       "      <td>1</td>\n",
       "    </tr>\n",
       "    <tr>\n",
       "      <th>4</th>\n",
       "      <td>8.9</td>\n",
       "      <td>1</td>\n",
       "    </tr>\n",
       "    <tr>\n",
       "      <th>...</th>\n",
       "      <td>...</td>\n",
       "      <td>...</td>\n",
       "    </tr>\n",
       "    <tr>\n",
       "      <th>80</th>\n",
       "      <td>27.6</td>\n",
       "      <td>1</td>\n",
       "    </tr>\n",
       "    <tr>\n",
       "      <th>81</th>\n",
       "      <td>27.8</td>\n",
       "      <td>1</td>\n",
       "    </tr>\n",
       "    <tr>\n",
       "      <th>82</th>\n",
       "      <td>31.0</td>\n",
       "      <td>1</td>\n",
       "    </tr>\n",
       "    <tr>\n",
       "      <th>83</th>\n",
       "      <td>32.4</td>\n",
       "      <td>1</td>\n",
       "    </tr>\n",
       "    <tr>\n",
       "      <th>84</th>\n",
       "      <td>32.6</td>\n",
       "      <td>1</td>\n",
       "    </tr>\n",
       "  </tbody>\n",
       "</table>\n",
       "<p>85 rows × 2 columns</p>\n",
       "</div>"
      ],
      "text/plain": [
       "    variation  frequency\n",
       "0         4.6          2\n",
       "1         5.1          1\n",
       "2         5.2          1\n",
       "3         8.2          1\n",
       "4         8.9          1\n",
       "..        ...        ...\n",
       "80       27.6          1\n",
       "81       27.8          1\n",
       "82       31.0          1\n",
       "83       32.4          1\n",
       "84       32.6          1\n",
       "\n",
       "[85 rows x 2 columns]"
      ]
     },
     "execution_count": 88,
     "metadata": {},
     "output_type": "execute_result"
    }
   ],
   "source": [
    "selection_variation = selection_ranked.value_counts(sort=False).reset_index()\n",
    "selection_variation.columns=[\"variation\", \"frequency\"]\n",
    "selection_variation"
   ]
  },
  {
   "cell_type": "markdown",
   "metadata": {},
   "source": [
    "*Интервальный ряд:*"
   ]
  },
  {
   "cell_type": "code",
   "execution_count": 89,
   "metadata": {},
   "outputs": [
    {
     "data": {
      "text/html": [
       "<div>\n",
       "<style scoped>\n",
       "    .dataframe tbody tr th:only-of-type {\n",
       "        vertical-align: middle;\n",
       "    }\n",
       "\n",
       "    .dataframe tbody tr th {\n",
       "        vertical-align: top;\n",
       "    }\n",
       "\n",
       "    .dataframe thead th {\n",
       "        text-align: right;\n",
       "    }\n",
       "</style>\n",
       "<table border=\"1\" class=\"dataframe\">\n",
       "  <thead>\n",
       "    <tr style=\"text-align: right;\">\n",
       "      <th></th>\n",
       "      <th>interval</th>\n",
       "      <th>frequency</th>\n",
       "    </tr>\n",
       "  </thead>\n",
       "  <tbody>\n",
       "    <tr>\n",
       "      <th>0</th>\n",
       "      <td>(4.6, 8.6]</td>\n",
       "      <td>5</td>\n",
       "    </tr>\n",
       "    <tr>\n",
       "      <th>1</th>\n",
       "      <td>(8.6, 12.6]</td>\n",
       "      <td>13</td>\n",
       "    </tr>\n",
       "    <tr>\n",
       "      <th>2</th>\n",
       "      <td>(12.6, 16.6]</td>\n",
       "      <td>24</td>\n",
       "    </tr>\n",
       "    <tr>\n",
       "      <th>3</th>\n",
       "      <td>(16.6, 20.6]</td>\n",
       "      <td>33</td>\n",
       "    </tr>\n",
       "    <tr>\n",
       "      <th>4</th>\n",
       "      <td>(20.6, 24.6]</td>\n",
       "      <td>27</td>\n",
       "    </tr>\n",
       "    <tr>\n",
       "      <th>5</th>\n",
       "      <td>(24.6, 28.6]</td>\n",
       "      <td>10</td>\n",
       "    </tr>\n",
       "    <tr>\n",
       "      <th>6</th>\n",
       "      <td>(28.6, 32.6]</td>\n",
       "      <td>3</td>\n",
       "    </tr>\n",
       "  </tbody>\n",
       "</table>\n",
       "</div>"
      ],
      "text/plain": [
       "       interval  frequency\n",
       "0    (4.6, 8.6]          5\n",
       "1   (8.6, 12.6]         13\n",
       "2  (12.6, 16.6]         24\n",
       "3  (16.6, 20.6]         33\n",
       "4  (20.6, 24.6]         27\n",
       "5  (24.6, 28.6]         10\n",
       "6  (28.6, 32.6]          3"
      ]
     },
     "execution_count": 89,
     "metadata": {},
     "output_type": "execute_result"
    }
   ],
   "source": [
    "k = int(1+3.322*math.log10(n)) #используется формула стерджеса для нахождения оптимального количества интервалов\n",
    "min = selection_variation[\"variation\"][0]\n",
    "max = selection_variation[\"variation\"][len(selection_variation) - 1]\n",
    "h = (max - min)/k\n",
    "selection_interval = selection_ranked.squeeze().value_counts(bins = k).to_frame().reset_index()\n",
    "selection_interval.columns=[\"interval\", \"frequency\"]\n",
    "selection_interval = selection_interval.sort_values(\"interval\").reset_index(drop=True)\n",
    "selection_interval[\"interval\"][0] = pd.Interval(left = selection_ranked[\"temp\"][0], right = selection_interval[\"interval\"][0].right)\n",
    "selection_interval\n"
   ]
  },
  {
   "cell_type": "markdown",
   "metadata": {},
   "source": [
    "### **Задание №3.** Для интервального ряда абсолютных частот построить и отобразить графически полигон, гистограмму и эмпирическую функцию. Сделать выводы.\n"
   ]
  },
  {
   "cell_type": "code",
   "execution_count": 90,
   "metadata": {},
   "outputs": [
    {
     "data": {
      "image/png": "[encoded data removed]",
      "text/plain": [
       "<Figure size 720x432 with 1 Axes>"
      ]
     },
     "metadata": {
      "needs_background": "light"
     },
     "output_type": "display_data"
    }
   ],
   "source": [
    "right_values = []\n",
    "for i in range(len(selection_interval)):\n",
    "    right_values.append(selection_interval[\"interval\"][i].right) #используются правые границы интервалов \n",
    "fig, ax = plt.subplots(figsize=(10, 6))\n",
    "ax.scatter(right_values, selection_interval[\"frequency\"], color=\"purple\")\n",
    "plt.plot(right_values, selection_interval[\"frequency\"], color=\"purple\")\n",
    "plt.xticks(right_values)\n",
    "plt.title(\"Полигон абсолютных частот\")\n",
    "plt.xlabel(\"VALUES\")\n",
    "plt.ylabel(\"FREQUENCY\")\n",
    "plt.show()\n"
   ]
  },
  {
   "cell_type": "code",
   "execution_count": 91,
   "metadata": {},
   "outputs": [
    {
     "data": {
      "image/png": "[encoded data removed]",
      "text/plain": [
       "<Figure size 720x432 with 1 Axes>"
      ]
     },
     "metadata": {
      "needs_background": "light"
     },
     "output_type": "display_data"
    }
   ],
   "source": [
    "left_values = []\n",
    "for i in range(len(selection_interval)):\n",
    "    left_values.append(selection_interval[\"interval\"][i].left)\n",
    "fig, ax = plt.subplots(figsize=(10, 6))\n",
    "plt.xticks(left_values)\n",
    "plt.title(\"Гистограмма абсолютных частот\")\n",
    "plt.xlabel(\"VALUES\")\n",
    "plt.ylabel(\"FREQUENCY\")\n",
    "plt.bar(left_values, selection_interval[\"frequency\"], width=h, align='edge', edgecolor='purple', color='pink')\n",
    "plt.show()\n"
   ]
  },
  {
   "cell_type": "code",
   "execution_count": 92,
   "metadata": {},
   "outputs": [
    {
     "data": {
      "image/png": "[encoded data removed]",
      "text/plain": [
       "<Figure size 720x432 with 1 Axes>"
      ]
     },
     "metadata": {
      "needs_background": "light"
     },
     "output_type": "display_data"
    }
   ],
   "source": [
    "accumulated_freq = [0]\n",
    "fig, ax = plt.subplots(figsize=(10, 6))\n",
    "for i in range(len(selection_interval)):\n",
    "    accumulated_freq.append(accumulated_freq[-1] + selection_interval[\"frequency\"][i])\n",
    "    plt.plot([selection_interval[\"interval\"][i].left, selection_interval[\"interval\"][i].right], [accumulated_freq[-1], accumulated_freq[-1]], color=\"purple\")\n",
    "accumulated_freq.pop(0)\n",
    "plt.title(\"Эмпирическая функция абсолютных частот\")\n",
    "plt.xlabel(\"INTERVALS\")\n",
    "plt.ylabel(\"FREQUENCY\")\n",
    "plt.show()\n",
    "\n"
   ]
  },
  {
   "cell_type": "markdown",
   "metadata": {},
   "source": [
    "### **Задание №4.** Для интервального ряда относительных частот построить и отобразить графически полигон, гистограмму и эмпирическую функцию. Сравнить результаты и сделать выводы."
   ]
  },
  {
   "cell_type": "code",
   "execution_count": 93,
   "metadata": {},
   "outputs": [
    {
     "data": {
      "image/png": "[encoded data removed]",
      "text/plain": [
       "<Figure size 720x432 with 1 Axes>"
      ]
     },
     "metadata": {
      "needs_background": "light"
     },
     "output_type": "display_data"
    }
   ],
   "source": [
    "selection_interval[\"relative_freq\"] = selection_interval[\"frequency\"]/accumulated_freq[-1]\n",
    "accumulated_relative_freq = [0]\n",
    "fig, ax = plt.subplots(figsize=(10, 6))\n",
    "for i in range(len(selection_interval)):\n",
    "    accumulated_relative_freq.append(accumulated_relative_freq[-1] + selection_interval[\"relative_freq\"][i])\n",
    "    plt.plot([selection_interval[\"interval\"][i].left, selection_interval[\"interval\"][i].right], [accumulated_relative_freq[-1], accumulated_relative_freq[-1]], color=\"purple\")\n",
    "accumulated_relative_freq.pop(0)\n",
    "plt.title(\"Эмпирическая функция относительных частот\")\n",
    "plt.xlabel(\"INTERVALS\")\n",
    "plt.ylabel(\"FREQUENCY\")\n",
    "plt.show()\n"
   ]
  },
  {
   "cell_type": "code",
   "execution_count": 94,
   "metadata": {},
   "outputs": [
    {
     "data": {
      "image/png": "[encoded data removed]",
      "text/plain": [
       "<Figure size 720x432 with 1 Axes>"
      ]
     },
     "metadata": {
      "needs_background": "light"
     },
     "output_type": "display_data"
    }
   ],
   "source": [
    "left_values = []\n",
    "for i in range(len(selection_interval)):\n",
    "    left_values.append(selection_interval[\"interval\"][i].left)\n",
    "left_values.append(selection_interval[\"interval\"][i].right)\n",
    "fig, ax = plt.subplots(figsize=(10, 6))\n",
    "plt.xticks(left_values)\n",
    "plt.title(\"Гистограмма относительных частот\")\n",
    "plt.xlabel(\"VALUES\")\n",
    "plt.ylabel(\"FREQUENCY\")\n",
    "plt.bar(left_values[:-1], selection_interval[\"relative_freq\"], width=h, align='edge', edgecolor='purple', color='pink')\n",
    "plt.show()"
   ]
  },
  {
   "cell_type": "code",
   "execution_count": 95,
   "metadata": {},
   "outputs": [
    {
     "data": {
      "image/png": "[encoded data removed]",
      "text/plain": [
       "<Figure size 720x432 with 1 Axes>"
      ]
     },
     "metadata": {
      "needs_background": "light"
     },
     "output_type": "display_data"
    }
   ],
   "source": [
    "right_values = []\n",
    "for i in range(len(selection_interval)):\n",
    "    right_values.append(selection_interval[\"interval\"][i].right)\n",
    "fig, ax = plt.subplots(figsize=(10, 6))\n",
    "ax.scatter(right_values, selection_interval[\"relative_freq\"], color=\"purple\")\n",
    "plt.plot(right_values, selection_interval[\"relative_freq\"], color=\"purple\")\n",
    "plt.xticks(right_values)\n",
    "plt.title(\"Полигон относительных частот\")\n",
    "plt.xlabel(\"VALUES\")\n",
    "plt.ylabel(\"FREQUENCY\")\n",
    "plt.show()"
   ]
  },
  {
   "cell_type": "markdown",
   "metadata": {},
   "source": [
    "Графики абсолютных и относительных частот совпадают, значит пропорции сохранены. Получили нормированные значения частот, которые в сумме дают единицу. Следовательно, вычисления корректны."
   ]
  },
  {
   "cell_type": "markdown",
   "metadata": {},
   "source": [
    "### **Задание №5.** Для интервального ряда найти середины интервалов, а также накопленные частоты. Результаты представить в виде таблицы (в последней строке Σ необходимо записать сумму столбца):"
   ]
  },
  {
   "cell_type": "markdown",
   "metadata": {},
   "source": []
  },
  {
   "cell_type": "code",
   "execution_count": 96,
   "metadata": {},
   "outputs": [
    {
     "data": {
      "text/html": [
       "<div>\n",
       "<style scoped>\n",
       "    .dataframe tbody tr th:only-of-type {\n",
       "        vertical-align: middle;\n",
       "    }\n",
       "\n",
       "    .dataframe tbody tr th {\n",
       "        vertical-align: top;\n",
       "    }\n",
       "\n",
       "    .dataframe thead th {\n",
       "        text-align: right;\n",
       "    }\n",
       "</style>\n",
       "<table border=\"1\" class=\"dataframe\">\n",
       "  <thead>\n",
       "    <tr style=\"text-align: right;\">\n",
       "      <th></th>\n",
       "      <th>(x(i-1), x(i)]</th>\n",
       "      <th>x(i)</th>\n",
       "      <th>n(i)</th>\n",
       "      <th>p*(i)</th>\n",
       "      <th>sum(n(i))</th>\n",
       "      <th>sum(p(i))</th>\n",
       "    </tr>\n",
       "  </thead>\n",
       "  <tbody>\n",
       "    <tr>\n",
       "      <th>0</th>\n",
       "      <td>(4.6, 8.6]</td>\n",
       "      <td>6.6</td>\n",
       "      <td>5</td>\n",
       "      <td>0.043478</td>\n",
       "      <td>5</td>\n",
       "      <td>0.043478</td>\n",
       "    </tr>\n",
       "    <tr>\n",
       "      <th>1</th>\n",
       "      <td>(8.6, 12.6]</td>\n",
       "      <td>10.6</td>\n",
       "      <td>13</td>\n",
       "      <td>0.113043</td>\n",
       "      <td>18</td>\n",
       "      <td>0.156522</td>\n",
       "    </tr>\n",
       "    <tr>\n",
       "      <th>2</th>\n",
       "      <td>(12.6, 16.6]</td>\n",
       "      <td>14.6</td>\n",
       "      <td>24</td>\n",
       "      <td>0.208696</td>\n",
       "      <td>42</td>\n",
       "      <td>0.365217</td>\n",
       "    </tr>\n",
       "    <tr>\n",
       "      <th>3</th>\n",
       "      <td>(16.6, 20.6]</td>\n",
       "      <td>18.6</td>\n",
       "      <td>33</td>\n",
       "      <td>0.286957</td>\n",
       "      <td>75</td>\n",
       "      <td>0.652174</td>\n",
       "    </tr>\n",
       "    <tr>\n",
       "      <th>4</th>\n",
       "      <td>(20.6, 24.6]</td>\n",
       "      <td>22.6</td>\n",
       "      <td>27</td>\n",
       "      <td>0.234783</td>\n",
       "      <td>102</td>\n",
       "      <td>0.886957</td>\n",
       "    </tr>\n",
       "    <tr>\n",
       "      <th>5</th>\n",
       "      <td>(24.6, 28.6]</td>\n",
       "      <td>26.6</td>\n",
       "      <td>10</td>\n",
       "      <td>0.086957</td>\n",
       "      <td>112</td>\n",
       "      <td>0.973913</td>\n",
       "    </tr>\n",
       "    <tr>\n",
       "      <th>6</th>\n",
       "      <td>(28.6, 32.6]</td>\n",
       "      <td>30.6</td>\n",
       "      <td>3</td>\n",
       "      <td>0.026087</td>\n",
       "      <td>115</td>\n",
       "      <td>1.0</td>\n",
       "    </tr>\n",
       "    <tr>\n",
       "      <th>sum</th>\n",
       "      <td>-</td>\n",
       "      <td>-</td>\n",
       "      <td>115</td>\n",
       "      <td>1.000000</td>\n",
       "      <td>-</td>\n",
       "      <td>-</td>\n",
       "    </tr>\n",
       "  </tbody>\n",
       "</table>\n",
       "</div>"
      ],
      "text/plain": [
       "    (x(i-1), x(i)]  x(i)  n(i)     p*(i) sum(n(i)) sum(p(i))\n",
       "0       (4.6, 8.6]   6.6     5  0.043478         5  0.043478\n",
       "1      (8.6, 12.6]  10.6    13  0.113043        18  0.156522\n",
       "2     (12.6, 16.6]  14.6    24  0.208696        42  0.365217\n",
       "3     (16.6, 20.6]  18.6    33  0.286957        75  0.652174\n",
       "4     (20.6, 24.6]  22.6    27  0.234783       102  0.886957\n",
       "5     (24.6, 28.6]  26.6    10  0.086957       112  0.973913\n",
       "6     (28.6, 32.6]  30.6     3  0.026087       115       1.0\n",
       "sum              -     -   115  1.000000         -         -"
      ]
     },
     "execution_count": 96,
     "metadata": {},
     "output_type": "execute_result"
    }
   ],
   "source": [
    "middles = []\n",
    "for i in range(len(selection_interval)):\n",
    "    middles.append(selection_interval[\"interval\"][i].mid)\n",
    "table = pd.DataFrame(columns=[\"(x(i-1), x(i)]\", \"x(i)\", \"n(i)\", \"p*(i)\", \"sum(n(i))\", \"sum(p(i))\"], index=list(range(1, len(selection_interval) + 1)).append(\"sum\"))\n",
    "table[\"(x(i-1), x(i)]\"] = selection_interval[\"interval\"]\n",
    "table[\"x(i)\"] = middles \n",
    "table[\"n(i)\"] = selection_interval[\"frequency\"]\n",
    "table[\"p*(i)\"] = selection_interval[\"relative_freq\"]\n",
    "table[\"sum(n(i))\"] = accumulated_freq \n",
    "table[\"sum(p(i))\"] = accumulated_relative_freq\n",
    "table.loc[\"sum\"] = [\"-\", \"-\", np.sum(table[\"n(i)\"]), np.sum(table[\"p*(i)\"]), \"-\", \"-\"]\n",
    "table"
   ]
  },
  {
   "cell_type": "markdown",
   "metadata": {},
   "source": [
    "В сумме абсолютных частот получили объем выборки, в сумме относительных - единицу. Вычисления корректны. "
   ]
  },
  {
   "cell_type": "markdown",
   "metadata": {},
   "source": [
    "### **Задание №6.** Для полученных вариант вычислить условные варианты. Заполнить расчётную таблицу (в последней строке Σ необходимо записать сумму столбца):\n"
   ]
  },
  {
   "cell_type": "code",
   "execution_count": 97,
   "metadata": {},
   "outputs": [
    {
     "data": {
      "text/html": [
       "<div>\n",
       "<style scoped>\n",
       "    .dataframe tbody tr th:only-of-type {\n",
       "        vertical-align: middle;\n",
       "    }\n",
       "\n",
       "    .dataframe tbody tr th {\n",
       "        vertical-align: top;\n",
       "    }\n",
       "\n",
       "    .dataframe thead th {\n",
       "        text-align: right;\n",
       "    }\n",
       "</style>\n",
       "<table border=\"1\" class=\"dataframe\">\n",
       "  <thead>\n",
       "    <tr style=\"text-align: right;\">\n",
       "      <th></th>\n",
       "      <th>x(i)</th>\n",
       "      <th>n(i)</th>\n",
       "      <th>u(i)</th>\n",
       "      <th>n(i)u(i)</th>\n",
       "      <th>n(i)u^2(i)</th>\n",
       "      <th>n(i)u^3(i)</th>\n",
       "      <th>n(i)u^4(i)</th>\n",
       "      <th>n(i)(u(i) + 1)^4</th>\n",
       "    </tr>\n",
       "  </thead>\n",
       "  <tbody>\n",
       "    <tr>\n",
       "      <th>0</th>\n",
       "      <td>6.6</td>\n",
       "      <td>5</td>\n",
       "      <td>-3.0</td>\n",
       "      <td>-15.0</td>\n",
       "      <td>45.0</td>\n",
       "      <td>-135.0</td>\n",
       "      <td>405.0</td>\n",
       "      <td>80.0</td>\n",
       "    </tr>\n",
       "    <tr>\n",
       "      <th>1</th>\n",
       "      <td>10.6</td>\n",
       "      <td>13</td>\n",
       "      <td>-2.0</td>\n",
       "      <td>-26.0</td>\n",
       "      <td>52.0</td>\n",
       "      <td>-104.0</td>\n",
       "      <td>208.0</td>\n",
       "      <td>13.0</td>\n",
       "    </tr>\n",
       "    <tr>\n",
       "      <th>2</th>\n",
       "      <td>14.6</td>\n",
       "      <td>24</td>\n",
       "      <td>-1.0</td>\n",
       "      <td>-24.0</td>\n",
       "      <td>24.0</td>\n",
       "      <td>-24.0</td>\n",
       "      <td>24.0</td>\n",
       "      <td>0.0</td>\n",
       "    </tr>\n",
       "    <tr>\n",
       "      <th>3</th>\n",
       "      <td>18.6</td>\n",
       "      <td>33</td>\n",
       "      <td>0.0</td>\n",
       "      <td>0.0</td>\n",
       "      <td>0.0</td>\n",
       "      <td>0.0</td>\n",
       "      <td>0.0</td>\n",
       "      <td>33.0</td>\n",
       "    </tr>\n",
       "    <tr>\n",
       "      <th>4</th>\n",
       "      <td>22.6</td>\n",
       "      <td>27</td>\n",
       "      <td>1.0</td>\n",
       "      <td>27.0</td>\n",
       "      <td>27.0</td>\n",
       "      <td>27.0</td>\n",
       "      <td>27.0</td>\n",
       "      <td>432.0</td>\n",
       "    </tr>\n",
       "    <tr>\n",
       "      <th>5</th>\n",
       "      <td>26.6</td>\n",
       "      <td>10</td>\n",
       "      <td>2.0</td>\n",
       "      <td>20.0</td>\n",
       "      <td>40.0</td>\n",
       "      <td>80.0</td>\n",
       "      <td>160.0</td>\n",
       "      <td>810.0</td>\n",
       "    </tr>\n",
       "    <tr>\n",
       "      <th>6</th>\n",
       "      <td>30.6</td>\n",
       "      <td>3</td>\n",
       "      <td>3.0</td>\n",
       "      <td>9.0</td>\n",
       "      <td>27.0</td>\n",
       "      <td>81.0</td>\n",
       "      <td>243.0</td>\n",
       "      <td>768.0</td>\n",
       "    </tr>\n",
       "    <tr>\n",
       "      <th>sum</th>\n",
       "      <td>-</td>\n",
       "      <td>115</td>\n",
       "      <td>-</td>\n",
       "      <td>-9.0</td>\n",
       "      <td>215.0</td>\n",
       "      <td>-75.0</td>\n",
       "      <td>1067.0</td>\n",
       "      <td>2136.0</td>\n",
       "    </tr>\n",
       "  </tbody>\n",
       "</table>\n",
       "</div>"
      ],
      "text/plain": [
       "     x(i)  n(i) u(i)  n(i)u(i)  n(i)u^2(i)  n(i)u^3(i)  n(i)u^4(i)  \\\n",
       "0     6.6     5 -3.0     -15.0        45.0      -135.0       405.0   \n",
       "1    10.6    13 -2.0     -26.0        52.0      -104.0       208.0   \n",
       "2    14.6    24 -1.0     -24.0        24.0       -24.0        24.0   \n",
       "3    18.6    33  0.0       0.0         0.0         0.0         0.0   \n",
       "4    22.6    27  1.0      27.0        27.0        27.0        27.0   \n",
       "5    26.6    10  2.0      20.0        40.0        80.0       160.0   \n",
       "6    30.6     3  3.0       9.0        27.0        81.0       243.0   \n",
       "sum     -   115    -      -9.0       215.0       -75.0      1067.0   \n",
       "\n",
       "     n(i)(u(i) + 1)^4  \n",
       "0                80.0  \n",
       "1                13.0  \n",
       "2                 0.0  \n",
       "3                33.0  \n",
       "4               432.0  \n",
       "5               810.0  \n",
       "6               768.0  \n",
       "sum            2136.0  "
      ]
     },
     "execution_count": 97,
     "metadata": {},
     "output_type": "execute_result"
    }
   ],
   "source": [
    "table_2 = pd.DataFrame(columns=[\"x(i)\", \"n(i)\", \"u(i)\", \"n(i)u(i)\", \"n(i)u^2(i)\", \"n(i)u^3(i)\", \"n(i)u^4(i)\", \"n(i)(u(i) + 1)^4\"].append(\"sum\"))\n",
    "if len(selection_interval) % 2 == 0:\n",
    "    false_zero = ((len(selection_interval) - 1)/2)  #поиск ложного нуля в зависимости от четности/нечетности количества интервалов\n",
    "    if selection_interval[\"frequency\"][math.floor(false_zero)] > selection_interval[\"frequency\"][math.ceil(false_zero)]:\n",
    "        false_zero = table[\"x(i)\"][math.floor(false_zero)]\n",
    "    else:\n",
    "        false_zero = table[\"x(i)\"][math.ceil(false_zero)]\n",
    "else:\n",
    "    false_zero = table[\"x(i)\"][math.floor((len(table) - 1)/2)]\n",
    "u = []\n",
    "for i in range (len(table) - 1):\n",
    "    u.append((table[\"x(i)\"][i] - false_zero)/h)\n",
    "n_u_1 = []\n",
    "n_u_2 = []\n",
    "n_u_3 = []\n",
    "n_u_4 = []\n",
    "n_u_plus = []\n",
    "for i in range(len(u)):\n",
    "    n_u_1.append(table[\"n(i)\"][i]*u[i])\n",
    "    n_u_2.append(table[\"n(i)\"][i]*(u[i])**2)\n",
    "    n_u_3.append(table[\"n(i)\"][i]*(u[i])**3)\n",
    "    n_u_4.append(table[\"n(i)\"][i]*(u[i])**4)\n",
    "    n_u_plus.append(round(table[\"n(i)\"][i]*(u[i] + 1)**4, 1))\n",
    "table_2[\"x(i)\"] = table[\"x(i)\"][:len(table) - 1]\n",
    "table_2[\"n(i)\"] = table[\"n(i)\"]\n",
    "table_2[\"u(i)\"] = u\n",
    "table_2[\"n(i)u(i)\"] = n_u_1\n",
    "table_2[\"n(i)u^2(i)\"] = n_u_2\n",
    "table_2[\"n(i)u^3(i)\"] = n_u_3\n",
    "table_2[\"n(i)u^4(i)\"] = n_u_4\n",
    "table_2[\"n(i)(u(i) + 1)^4\"] = n_u_plus\n",
    "table_2.loc[\"sum\"] = [\"-\", np.sum(table_2[\"n(i)\"]), \"-\", np.sum(n_u_1), np.sum(n_u_2), np.sum(n_u_3), np.sum(n_u_4), np.sum(n_u_plus)]\n",
    "table_2\n",
    "\n",
    "\n"
   ]
  },
  {
   "cell_type": "markdown",
   "metadata": {},
   "source": [
    "### **Задание №7.**  Вычислить условные эмпирические моменты 𝜈_𝑖 через условные варианты. С помощью условных эмпирических моментов вычислить центральные эмпирические моменты 𝜇_𝑖."
   ]
  },
  {
   "cell_type": "code",
   "execution_count": 98,
   "metadata": {},
   "outputs": [
    {
     "data": {
      "text/html": [
       "<div>\n",
       "<style scoped>\n",
       "    .dataframe tbody tr th:only-of-type {\n",
       "        vertical-align: middle;\n",
       "    }\n",
       "\n",
       "    .dataframe tbody tr th {\n",
       "        vertical-align: top;\n",
       "    }\n",
       "\n",
       "    .dataframe thead th {\n",
       "        text-align: right;\n",
       "    }\n",
       "</style>\n",
       "<table border=\"1\" class=\"dataframe\">\n",
       "  <thead>\n",
       "    <tr style=\"text-align: right;\">\n",
       "      <th></th>\n",
       "      <th>v*(i)</th>\n",
       "      <th>m*(i)</th>\n",
       "    </tr>\n",
       "  </thead>\n",
       "  <tbody>\n",
       "    <tr>\n",
       "      <th>1</th>\n",
       "      <td>-0.078261</td>\n",
       "      <td>0.000000</td>\n",
       "    </tr>\n",
       "    <tr>\n",
       "      <th>2</th>\n",
       "      <td>1.869565</td>\n",
       "      <td>29.815047</td>\n",
       "    </tr>\n",
       "    <tr>\n",
       "      <th>3</th>\n",
       "      <td>-0.652174</td>\n",
       "      <td>-13.708235</td>\n",
       "    </tr>\n",
       "    <tr>\n",
       "      <th>4</th>\n",
       "      <td>9.278261</td>\n",
       "      <td>2340.529514</td>\n",
       "    </tr>\n",
       "  </tbody>\n",
       "</table>\n",
       "</div>"
      ],
      "text/plain": [
       "      v*(i)        m*(i)\n",
       "1 -0.078261     0.000000\n",
       "2  1.869565    29.815047\n",
       "3 -0.652174   -13.708235\n",
       "4  9.278261  2340.529514"
      ]
     },
     "execution_count": 98,
     "metadata": {},
     "output_type": "execute_result"
    }
   ],
   "source": [
    "v = []\n",
    "r = 4\n",
    "for i in range(r):\n",
    "    v.append(1/n*table_2.loc[\"sum\"][i+3])\n",
    "m = np.zeros(4)\n",
    "m[1] = (v[1]-v[0]**2)*h**2\n",
    "m[2] = (v[2] - 3*v[1]*v[0] + 2*v[0]**3)*h**3\n",
    "m[3] = (v[3] - 4*v[2]*v[0] + 6*v[1]*v[0]**2 - 3*v[0]**4)*h**4\n",
    "table_3 = pd.DataFrame(columns=[\"v*(i)\", \"m*(i)\"], index=range(1, r + 1))\n",
    "table_3[\"v*(i)\"] = v\n",
    "table_3[\"m*(i)\"] = m\n",
    "table_3\n"
   ]
  },
  {
   "cell_type": "markdown",
   "metadata": {},
   "source": [
    "### **Задание №8.** Вычислить выборочные среднее и дисперсию с помощью стандартной формулы и с помощью условных вариант. Убедиться, что результаты совпадают."
   ]
  },
  {
   "cell_type": "code",
   "execution_count": 99,
   "metadata": {},
   "outputs": [
    {
     "name": "stdout",
     "output_type": "stream",
     "text": [
      "Выборочное среднее через стандартную формулу:  18.49913043478261\n",
      "Выборочное среднее через условные варианты:  18.286956521739132\n",
      "Дисперсия через стандартную формулу:  32.37052098298676\n",
      "Дисперсия через условные варианты:  29.81504725897921\n"
     ]
    }
   ],
   "source": [
    "x_v = np.sum(selection_ranked[\"temp\"])/n\n",
    "D = 0\n",
    "for i in range(n):\n",
    "    D +=(selection_ranked[\"temp\"][i] - x_v)**2/n\n",
    "x_v_2 = v[0]*h + false_zero\n",
    "D_2 = m[1]\n",
    "print(\"Выборочное среднее через стандартную формулу: \", x_v)\n",
    "print(\"Выборочное среднее через условные варианты: \", x_v_2)\n",
    "print(\"Дисперсия через стандартную формулу: \", D)\n",
    "print(\"Дисперсия через условные варианты: \", D_2)"
   ]
  },
  {
   "cell_type": "markdown",
   "metadata": {},
   "source": [
    "Результаты совпадают с минимальной погрешностью, которая появляется вследствие того, что при подсчете условных вариант брались середины интервального ряда. "
   ]
  },
  {
   "cell_type": "markdown",
   "metadata": {},
   "source": [
    "### **Задание №9.** Вычислить исправленную выборочную дисперсию и исправленное СКО. Сравнить данные оценки с смещёнными оценками дисперсиии СКО."
   ]
  },
  {
   "cell_type": "code",
   "execution_count": 100,
   "metadata": {},
   "outputs": [
    {
     "name": "stdout",
     "output_type": "stream",
     "text": [
      "Исправленная выборочная дисперсия:  32.654472921434014\n",
      "Смещенное СКО:  5.689509731337733\n",
      "Исправленное СКО:  5.714409236433283\n"
     ]
    }
   ],
   "source": [
    "sigma = math.sqrt(D)\n",
    "D_s = n/(n - 1)*D\n",
    "sigma_s = math.sqrt(D_s)\n",
    "print(\"Исправленная выборочная дисперсия: \", D_s)\n",
    "print(\"Смещенное СКО: \", sigma)\n",
    "print(\"Исправленное СКО: \", sigma_s)"
   ]
  },
  {
   "cell_type": "markdown",
   "metadata": {},
   "source": [
    "Исправленная выборочная дисперсия больше смещенной (стандартной) оценки дисперсии на $\\frac{n}{n-1}$  \n",
    "Исправленное СКО больше смещенной оценки СКО на $\\sqrt{\\frac{n}{n-1}}$  \n"
   ]
  },
  {
   "cell_type": "markdown",
   "metadata": {},
   "source": [
    "### **Задание №10.** Найти статистическую оценку коэффициентов асимметрии и эксцесса. Сделать выводы.\n"
   ]
  },
  {
   "cell_type": "code",
   "execution_count": 101,
   "metadata": {},
   "outputs": [
    {
     "name": "stdout",
     "output_type": "stream",
     "text": [
      "Коэффициент ассиметрии : -0.07443154076362414\n",
      "Эксцесс равен : -0.7663519499548666\n"
     ]
    }
   ],
   "source": [
    "a = m[2]/sigma**3\n",
    "excess = m[3]/sigma**4 - 3\n",
    "print(\"Коэффициент ассиметрии :\", a)\n",
    "print(\"Эксцесс равен :\", excess)"
   ]
  },
  {
   "cell_type": "markdown",
   "metadata": {},
   "source": [
    "Коэффициент асимметрии характеризует скошенность распределения относительно самого высокого участка по отношению к математическому ожиданию. Получили отрицательную ассиметрию, значит большая часть кривой расположена слева от математического ожидания.  \n",
    "Эксцесс характеризует подъем кривой теоретического распределения по сравнению с нормальной кривой. \n",
    "Получили отрицательный эксцесс, значит кривая более плосковершинная. "
   ]
  },
  {
   "cell_type": "markdown",
   "metadata": {},
   "source": [
    "### **Задание №11.** Вычислить моду, медиану и коэффициент вариации для заданного распределения. Сделать выводы."
   ]
  },
  {
   "cell_type": "code",
   "execution_count": 102,
   "metadata": {},
   "outputs": [
    {
     "name": "stdout",
     "output_type": "stream",
     "text": [
      "Мода интервального ряда:  19.0\n",
      "Медиана:  18.47878787878788\n",
      "Коэффициент вариации:  30.755552275258026 %\n"
     ]
    }
   ],
   "source": [
    "#считаем для интервального ряда \n",
    "max_freq = np.max(selection_interval[\"frequency\"])\n",
    "moda_x = 0\n",
    "index_x = 0\n",
    "for i in range(len(selection_interval)):\n",
    "    if (selection_interval[\"frequency\"][i] == max_freq):\n",
    "        moda_x = selection_interval[\"interval\"][i].left #нашли левую границу интервала\n",
    "        index_x = i #нашли индекс интервального ряда, чтобы потом обращаться к частотам пред. и след. интервалов \n",
    "moda = moda_x + h*((max_freq - selection_interval[\"frequency\"][index_x - 1])/(max_freq*2 - selection_interval[\"frequency\"][index_x - 1] - selection_interval[\"frequency\"][index_x + 1]))\n",
    "print(\"Мода интервального ряда: \", moda)\n",
    "mediana = 0 \n",
    "index = 0\n",
    "while (table[\"sum(n(i))\"][index] < table[\"sum(n(i))\"][len(selection_interval)-1]/2):\n",
    "    index += 1\n",
    "mediana_x = selection_interval[\"interval\"][index].left\n",
    "mediana = mediana_x + h/(table[\"p*(i)\"][index])*(0.5 - table[\"sum(p(i))\"][index-1])\n",
    "print(\"Медиана: \", mediana)\n",
    "k_var = sigma/abs(x_v)*100\n",
    "print(\"Коэффициент вариации: \", k_var, \"%\")"
   ]
  },
  {
   "cell_type": "markdown",
   "metadata": {},
   "source": [
    "Посчитав моду, получили значение локального максимума распределения.  \n",
    "Медиана показывает на точку, делящую распределение на две равновероятностные половины.    \n",
    "Коэффициент вариации показывает степень изменчивости по отношению к среднему показателю.  \n",
    "Получили коэффициент вариации менее 33%, значит выборочная совокупность однородная. "
   ]
  },
  {
   "cell_type": "markdown",
   "metadata": {},
   "source": []
  },
  {
   "cell_type": "markdown",
   "metadata": {},
   "source": [
    "### **Задание №12.** Вычислить точность и доверительный интервал для математического ожидания при неизвестном среднеквадратичном отклонении при заданном объёме выборки для доверительной точности 𝛾 ∈ {0.95, 0.99}. Сделать выводы."
   ]
  },
  {
   "cell_type": "code",
   "execution_count": 103,
   "metadata": {},
   "outputs": [
    {
     "name": "stdout",
     "output_type": "stream",
     "text": [
      "Доверительный интервал для мат.ожидания с надежностью 0.96: ( 17.444045045115686 , 19.554215824449535 )\n",
      "Доверительный интервал для мат.ожидания с надежностью 0.99: ( 17.103007343405164 , 19.895253526160058 )\n",
      "Точность первого интервала:  1.0550853896669254\n",
      "Точность второго интервала:  1.396123091377447\n"
     ]
    }
   ],
   "source": [
    "#Посмотрели табличное значение t\n",
    "gamma_1 = 0.95 \n",
    "gamma_2 = 0.99 \n",
    "t_1 = 1.98\n",
    "t_2 = 2.62\n",
    "accuracy_1 = (t_1 * sigma_s)/math.sqrt(n)\n",
    "accuracy_2 = (t_2 * sigma_s)/math.sqrt(n)\n",
    "print(\"Доверительный интервал для мат.ожидания с надежностью 0.96: (\", x_v - accuracy_1, \",\", x_v + accuracy_1, \")\")\n",
    "print(\"Доверительный интервал для мат.ожидания с надежностью 0.99: (\", x_v - accuracy_2, \",\", x_v + accuracy_2, \")\")\n",
    "print(\"Точность первого интервала: \", accuracy_1)\n",
    "print(\"Точность второго интервала: \", accuracy_2)\n",
    "\n"
   ]
  },
  {
   "cell_type": "markdown",
   "metadata": {},
   "source": [
    "Точность второго доверительного интервала выше, так как выше доверительная надежность. \n",
    "Оба доверительных интервала принимают в себя значение мат. ожидания выборочной совокупности. "
   ]
  },
  {
   "cell_type": "markdown",
   "metadata": {},
   "source": [
    "### **Задание №13.** Для вычисления границ доверительного интервала для среднеквадратичного отклонения определить значение 𝑞 при заданных 𝛾 и 𝑛. Построить доверительные интервалы, сделать выводы."
   ]
  },
  {
   "cell_type": "markdown",
   "metadata": {},
   "source": []
  },
  {
   "cell_type": "code",
   "execution_count": 104,
   "metadata": {},
   "outputs": [
    {
     "name": "stdout",
     "output_type": "stream",
     "text": [
      "Доверительный интервал для СКО при надежности 0.95:  -1.714322770929985 < CKO <  13.14314124379655\n",
      "Доверительный интервал для СКО при надежности 0.99:  -4.857247850968291 < CKO <  16.286066323834856\n"
     ]
    }
   ],
   "source": [
    "#Значения q взяли примерное по таблице \n",
    "q_1 = 1.3\n",
    "q_2 = 1.85 \n",
    "print(\"Доверительный интервал для СКО при надежности 0.95: \", sigma_s*(1-q_1), \"< CKO < \", sigma_s*(1+q_1))\n",
    "print(\"Доверительный интервал для СКО при надежности 0.99: \", sigma_s*(1-q_2), \"< CKO < \", sigma_s*(1+q_2))\n"
   ]
  },
  {
   "cell_type": "markdown",
   "metadata": {},
   "source": [
    "Оба доверительных интервала принимают в себя значение СКО выборочной совокупности. "
   ]
  },
  {
   "cell_type": "markdown",
   "metadata": {},
   "source": [
    "### **Задание №14.** Проверить гипотезу о нормальности заданного распределения с помощью критерия 𝜒2(Пирсона). Для этого найти теоретические частоты и вычислить наблюдаемое значение критерия. Проконтролировать корректность вычисления 𝜒2 набл. Далее по заданному уровню значимости 𝛼 = 0.05 и числу степеней свободы 𝑑𝑓 найти критическую точку 𝜒2 крит. и сравнить с наблюдаемым значением. Сделать выводы."
   ]
  },
  {
   "cell_type": "code",
   "execution_count": 105,
   "metadata": {},
   "outputs": [
    {
     "name": "stdout",
     "output_type": "stream",
     "text": [
      "Хи наблюдаемый меньше Хи критического, значит не опровергаем гипотезу. Распределение нормальное.\n"
     ]
    },
    {
     "data": {
      "text/html": [
       "<div>\n",
       "<style scoped>\n",
       "    .dataframe tbody tr th:only-of-type {\n",
       "        vertical-align: middle;\n",
       "    }\n",
       "\n",
       "    .dataframe tbody tr th {\n",
       "        vertical-align: top;\n",
       "    }\n",
       "\n",
       "    .dataframe thead th {\n",
       "        text-align: right;\n",
       "    }\n",
       "</style>\n",
       "<table border=\"1\" class=\"dataframe\">\n",
       "  <thead>\n",
       "    <tr style=\"text-align: right;\">\n",
       "      <th></th>\n",
       "      <th>(x(i-1);x(i)]</th>\n",
       "      <th>n(i)</th>\n",
       "      <th>p(i)</th>\n",
       "      <th>n'(i)</th>\n",
       "      <th>(n(i) - n'(i))^2</th>\n",
       "      <th>(n(i) - n'(i))^2/n'(i)</th>\n",
       "      <th>n(i)^2</th>\n",
       "      <th>n(i)^2/n'(i)</th>\n",
       "    </tr>\n",
       "  </thead>\n",
       "  <tbody>\n",
       "    <tr>\n",
       "      <th>1</th>\n",
       "      <td>(4.6, 8.6]</td>\n",
       "      <td>5</td>\n",
       "      <td>0.040939</td>\n",
       "      <td>4.707988</td>\n",
       "      <td>0.085271</td>\n",
       "      <td>0.018112</td>\n",
       "      <td>25</td>\n",
       "      <td>5.310124</td>\n",
       "    </tr>\n",
       "    <tr>\n",
       "      <th>2</th>\n",
       "      <td>(8.6, 12.6]</td>\n",
       "      <td>13</td>\n",
       "      <td>0.108965</td>\n",
       "      <td>12.531022</td>\n",
       "      <td>0.219941</td>\n",
       "      <td>0.017552</td>\n",
       "      <td>169</td>\n",
       "      <td>13.486530</td>\n",
       "    </tr>\n",
       "    <tr>\n",
       "      <th>3</th>\n",
       "      <td>(12.6, 16.6]</td>\n",
       "      <td>24</td>\n",
       "      <td>0.219363</td>\n",
       "      <td>25.226706</td>\n",
       "      <td>1.504808</td>\n",
       "      <td>0.059651</td>\n",
       "      <td>576</td>\n",
       "      <td>22.832945</td>\n",
       "    </tr>\n",
       "    <tr>\n",
       "      <th>4</th>\n",
       "      <td>(16.6, 20.6]</td>\n",
       "      <td>33</td>\n",
       "      <td>0.274763</td>\n",
       "      <td>31.597791</td>\n",
       "      <td>1.966191</td>\n",
       "      <td>0.062226</td>\n",
       "      <td>1089</td>\n",
       "      <td>34.464435</td>\n",
       "    </tr>\n",
       "    <tr>\n",
       "      <th>5</th>\n",
       "      <td>(20.6, 24.6]</td>\n",
       "      <td>27</td>\n",
       "      <td>0.214177</td>\n",
       "      <td>24.630376</td>\n",
       "      <td>5.615118</td>\n",
       "      <td>0.227975</td>\n",
       "      <td>729</td>\n",
       "      <td>29.597599</td>\n",
       "    </tr>\n",
       "    <tr>\n",
       "      <th>6</th>\n",
       "      <td>(24.6, 28.6]</td>\n",
       "      <td>10</td>\n",
       "      <td>0.103872</td>\n",
       "      <td>11.945308</td>\n",
       "      <td>3.784225</td>\n",
       "      <td>0.316796</td>\n",
       "      <td>100</td>\n",
       "      <td>8.371487</td>\n",
       "    </tr>\n",
       "    <tr>\n",
       "      <th>7</th>\n",
       "      <td>(28.6, 32.6]</td>\n",
       "      <td>3</td>\n",
       "      <td>0.037920</td>\n",
       "      <td>4.360809</td>\n",
       "      <td>1.851802</td>\n",
       "      <td>0.424646</td>\n",
       "      <td>9</td>\n",
       "      <td>2.063837</td>\n",
       "    </tr>\n",
       "    <tr>\n",
       "      <th>Sum</th>\n",
       "      <td>-</td>\n",
       "      <td>115</td>\n",
       "      <td>1.000000</td>\n",
       "      <td>115.000000</td>\n",
       "      <td>-</td>\n",
       "      <td>1.126958</td>\n",
       "      <td>-</td>\n",
       "      <td>116.126958</td>\n",
       "    </tr>\n",
       "  </tbody>\n",
       "</table>\n",
       "</div>"
      ],
      "text/plain": [
       "    (x(i-1);x(i)]  n(i)      p(i)       n'(i) (n(i) - n'(i))^2  \\\n",
       "1      (4.6, 8.6]     5  0.040939    4.707988         0.085271   \n",
       "2     (8.6, 12.6]    13  0.108965   12.531022         0.219941   \n",
       "3    (12.6, 16.6]    24  0.219363   25.226706         1.504808   \n",
       "4    (16.6, 20.6]    33  0.274763   31.597791         1.966191   \n",
       "5    (20.6, 24.6]    27  0.214177   24.630376         5.615118   \n",
       "6    (24.6, 28.6]    10  0.103872   11.945308         3.784225   \n",
       "7    (28.6, 32.6]     3  0.037920    4.360809         1.851802   \n",
       "Sum             -   115  1.000000  115.000000                -   \n",
       "\n",
       "     (n(i) - n'(i))^2/n'(i) n(i)^2  n(i)^2/n'(i)  \n",
       "1                  0.018112     25      5.310124  \n",
       "2                  0.017552    169     13.486530  \n",
       "3                  0.059651    576     22.832945  \n",
       "4                  0.062226   1089     34.464435  \n",
       "5                  0.227975    729     29.597599  \n",
       "6                  0.316796    100      8.371487  \n",
       "7                  0.424646      9      2.063837  \n",
       "Sum                1.126958      -    116.126958  "
      ]
     },
     "execution_count": 105,
     "metadata": {},
     "output_type": "execute_result"
    }
   ],
   "source": [
    "p_i = []\n",
    "cor_n = []\n",
    "diff_n = []\n",
    "n_sq = []\n",
    "p_i.append(scipy.stats.norm.cdf((selection_interval[\"interval\"][0].right - x_v)/sigma)) \n",
    "for i in range(1, len(selection_interval)-1):\n",
    "    p_i.append(scipy.stats.norm.cdf((selection_interval[\"interval\"][i].right - x_v)/sigma) - scipy.stats.norm.cdf((selection_interval[\"interval\"][i].left - x_v)/sigma))\n",
    "p_i.append(1 - scipy.stats.norm.cdf((selection_interval[\"interval\"][len(selection_interval) - 1].left - x_v)/sigma))\n",
    "for i in range(len(selection_interval)):\n",
    "    cor_n.append(n*p_i[i])\n",
    "for i in range(len(selection_interval)):\n",
    "    diff_n.append((selection_interval[\"frequency\"][i] - cor_n[i])**2)\n",
    "n_i_minus_n_corr_devided = []\n",
    "for i in range(len(selection_interval)):\n",
    "    n_i_minus_n_corr_devided.append(diff_n[i]/cor_n[i])\n",
    "for i in range(len(selection_interval)):\n",
    "    n_sq.append(selection_interval[\"frequency\"][i]**2)\n",
    "n_i_square_devided = []\n",
    "for i in range(len(selection_interval)):\n",
    "    n_i_square_devided.append(n_sq[i]/cor_n[i])\n",
    "\n",
    "table_4 = pd.DataFrame(columns=['(x(i-1);x(i)]', 'n(i)', 'p(i)', 'n\\'(i)', '(n(i) - n\\'(i))^2', '(n(i) - n\\'(i))^2/n\\'(i)', 'n(i)^2', 'n(i)^2/n\\'(i)'])\n",
    "for i in range(len(selection_interval)):\n",
    "    table_4.loc[i+1] = [table[\"(x(i-1), x(i)]\"][i], selection_interval[\"frequency\"][i], p_i[i], cor_n[i], diff_n[i], n_i_minus_n_corr_devided[i], n_sq[i], n_i_square_devided[i]]\n",
    "table_4.loc['Sum'] = ['-', np.sum(table_4['n(i)']), np.sum(table_4['p(i)']), np.sum(table_4['n\\'(i)']), '-', np.sum(table_4['(n(i) - n\\'(i))^2/n\\'(i)']), '-', np.sum(table_4['n(i)^2/n\\'(i)'])]\n",
    "hi_square = table_4['(n(i) - n\\'(i))^2/n\\'(i)']['Sum']\n",
    "hi_square_crit = scipy.stats.chi2.ppf(1 - 0.05, df=n-1)\n",
    "if hi_square < hi_square_crit:\n",
    "    print(\"Хи наблюдаемый меньше Хи критического, значит не опровергаем гипотезу. Распределение нормальное.\")\n",
    "else:\n",
    "    print(\"Хи наблюдаемый больше Хи критического, значит опровергаем гипотезу.\")\n",
    "table_4\n",
    "    "
   ]
  },
  {
   "cell_type": "markdown",
   "metadata": {},
   "source": [
    "## Выводы"
   ]
  },
  {
   "cell_type": "markdown",
   "metadata": {},
   "source": [
    "* В ходе работы было осуществлено формирование репрезентативной выборки объема 115 из генеральной совокупности.\n",
    "\n",
    "* Полученная выборка была преобразована в ранжированный, вариационный и интервальный ряды. \n",
    "\n",
    "* По интервальному ряду построены полигоны частот, гистограммы и эмпирические функции распределения для абсолютных и относительных частот. Убедились, что пропорции частот совпадают. \n",
    "\n",
    "* С помощью метода моментов и условных вариант были вычислены точечные статистические оценки математического ожидания, дисперсии, СКО. Сравнили с вычисленными по стандартным формулам значениям, получили разницу с небольшой погрешностью. Погрешность получилась вследствие использования середин интервального ряда. \n",
    "\n",
    "* Для заданной надёжности определены границы доверительных интервалов для математического ожидания и среднеквадратичного отклонения случайной величины. Значения попадают в доверительные интервалы. \n",
    "\n",
    "* Была проверена гипотеза о нормальном распределении исследуемой случайной величины с помощью критерия Пирсона 𝜒2. Гипотеза о нормальности заданного распределения была принята, т.к. χ^2 наблюдаемое < χ^2 критическое."
   ]
  }
 ],
 "metadata": {
  "kernelspec": {
   "display_name": "Python 3.9.12 ('base')",
   "language": "python",
   "name": "python3"
  },
  "language_info": {
   "codemirror_mode": {
    "name": "ipython",
    "version": 3
   },
   "file_extension": ".py",
   "mimetype": "text/x-python",
   "name": "python",
   "nbconvert_exporter": "python",
   "pygments_lexer": "ipython3",
   "version": "3.9.12"
  },
  "orig_nbformat": 4,
  "vscode": {
   "interpreter": {
    "hash": "5f4921821889612bcd231efccfb84b92d00175fd051a5654604e2d0253aa7b76"
   }
  }
 },
 "nbformat": 4,
 "nbformat_minor": 2
}
