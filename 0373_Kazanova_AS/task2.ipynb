{
 "cells": [
  {
   "cell_type": "markdown",
   "metadata": {},
   "source": [
    "# Практическая работа №2: Корреляционный и регрессионный анализ.  \n",
    "Выполнила студентка группы 0373: Казанова Анастасия. Вариант 9."
   ]
  },
  {
   "cell_type": "markdown",
   "metadata": {},
   "source": [
    "## Цель работы\n",
    "Освоение основных понятий, связанных с корреляционной зависимостью между случайными величинами, статистическими гипотезами и проверкой их «справедливости». Ознакомление с основными положениями метода наименьших квадратов (МНК), со статистическими свойствами МНК оценок, с понятием функции регрессии и роли МНК в регрессионном анализе, с корреляционным отношением, как мерой тесноты произвольной\n",
    "(в том числе и линейной) корреляционной связи."
   ]
  },
  {
   "cell_type": "markdown",
   "metadata": {},
   "source": [
    "## Постановка задачи\n",
    "* Из заданной генеральной совокупности сформировать выборку по второму признаку.  \n",
    "* Для системы двух случайных величин 𝑋 (первый признак) и 𝑌 (второй признак) сформировать двумерную выборку и найти\n",
    "статистическую оценку коэффициента корреляции, построить доверительный интервал для коэффициента корреляции и осуществить проверку статистической гипотезы о равенстве коэффициента корреляции нулю.   \n",
    "* Построить уравнения выборочных прямых среднеквадратической регрессии. Полученные линейные функции регрессии отобразить графически.   \n",
    "* Найти выборочное корреляционное отношение. Оценить адекватность моделей. Полученные результаты содержательно проинтерпретировать.\n"
   ]
  },
  {
   "cell_type": "markdown",
   "metadata": {},
   "source": [
    "## Основные теоретические положения"
   ]
  },
  {
   "cell_type": "markdown",
   "metadata": {},
   "source": [
    "*Функциональная зависимость* - зависимость, когда каждому значению одной переменной соответствует определённое единственное значение другой.  \n",
    "\n",
    "*Статистическая зависимость* - зависимость, при которой изменение одной из величин влечёт изменение распределения другой.  \n",
    "\n",
    "*Корреляционная зависимость* - статистическая зависимость, при которой изменение одной величины приводит к изменению среднего значения другой.  \n",
    "\n",
    "*Корреляционная таблица* – таблица, содержимым которой является частоты $n_{uv}$ значений соотвествующих пар чисел. \n",
    "\n",
    "Основание таблицы: $u_i=\\frac{x_i-C_x}{h_x}$, $v_j=\\frac{y_j-C_y}{h_y}$, где $C_x$, $C_y$ – ложный нуль, $h_x$, $h_y$ – интервальный шаг. \n",
    "\n",
    "*Коэффициент корреляции Пирсона* $r_v$ – параметр оценки силы линейной связи между переменными. Знак $r_\\beta$ означает, увеличивается ли одна переменная по мере того, как увеличивается другая (если положительный).\n",
    "$\\mid r_v\\mid \\leq 1$\n",
    "Величина $r_v$ обоснована только в диапазоне значений х и у в выборке.  \n",
    "Корреляция между х и у не обязательно означает соотношение причины и следствия. \n",
    "    \n",
    "Вычисление коэффициента корреляции с помощью условных вариант:  \n",
    "$r_v=\\frac{1}{n}\\sum_{i=1}^{k_u}\\sum_{j=1}^{k_v}{n_{uv}u_iv_j}-\\bar u\\cdot\\bar v$  \n",
    "\n",
    "*Корреляционное отношение:*  \n",
    "\n",
    "$\\eta_{yx}=\\frac{\\sigma_{\\bar y_x}}{\\sigma_y}=\\frac{\\sqrt{\\sum_{n_x(\\bar y_x-\\bar y)^2}}}{\\sqrt{\\sum_{n_y(y-\\bar y)^2}}}$,  \n",
    "\n",
    "$\\eta_{xy}=\\frac{\\sigma_{\\bar x_y}}{\\sigma_x}=\\frac{\\sqrt{\\sum_{n_y(\\bar x_y-\\bar x)^2}}}{\\sqrt{\\sum_{n_x(x-\\bar x)^2}}}$    \n",
    "$\\eta \\in [0, 1]$\n",
    "Если $\\eta = 0$, то признаки не связаны корреляционной зависимостью.  \n",
    "Если $\\eta = r_v$, то имеет место быть точная линейная корреляционная зависимость.  \n",
    "*Доверительный интервал для с. в. z:* $\\Biggl(z-\\frac{t}{\\sqrt{n-3}};z+\\frac{t}{\\sqrt{n-3}}\\Biggl)$,\n",
    "где $z=arcth(r_v)$, $\\Phi(t)= \\frac{\\gamma}{2}$.  \n",
    "       \n",
    "*Проверка статистической гипотезы о равенстве коэффициента корреляции нулю:*  \n",
    "\n",
    "$Tнабл = r_\\beta\\frac{\\sqrt{n-2}}{\\sqrt{1-r_\\beta^2}}$  \n",
    "$Tкрит = t(\\alpha, df), df = n-2$.    \n",
    "    \n",
    "*Область принятия гипотезы:* $|Tнабл| \\lt Tкрит.$\n",
    "    \n",
    "*Уравнения средней квадратичной регрессии:*  \n",
    "$\\bar y_x-\\bar y=r_{xy}\\frac{\\sigma_y}{\\sigma_x}(x-\\bar x)$,  \n",
    "\n",
    "$\\bar x_y-\\bar x=r_{xy}\\frac{\\sigma_x}{\\sigma_y}(y-\\bar y)$.\n",
    "    \n",
    "\n",
    "*Теоретический коэффициент детерминации* $R^2$ – показатель качества регрессии, который показывает долю дисперсии, объяснённую моделью регрессии.  \n",
    "$R_y^2=\\frac{(\\delta_y^*)^2}{\\sigma_y^2}=\\frac{\\sum_{i=1}^n{(y_{x_i}-\\bar y)^2}}{n\\sigma_y^2}, R_x^2=\\frac{(\\delta_x^*)^2}{\\sigma_x^2}=\\frac{\\sum_{i=1}^n{(x_{y_i}-\\bar x)^2}}{n\\sigma_x^2}$\n",
    "    \n",
    "*Средняя квадратическая ошибка* $S_\\varepsilon$ – показатель качества регрессии. Величину средней квадратической ошибки можно сравнить со средним квадратическим отклонением результативного признака. Средняя квадратическая ошибка, меньшая чем $\\sigma$, говорит о целесообразности использования модели регрессии.  \n",
    "$S_{\\varepsilon y}=\\sqrt{\\frac{\\sum_{i=1}^n\\varepsilon_{y_i}^2}{n-l}}, S_{\\varepsilon x}=\\sqrt{\\frac{\\sum_{i=1}^n\\varepsilon_{x_i}^2}{n-l}}$, где   \n",
    "$l$ – число параметров в модели регрессии, $\\varepsilon {y_i}=y_i-y_{x_i}$, $\\varepsilon {x_i}=x_i-x_{y_i}$   \n",
    "\n",
    "*Средняя ошибка аппроксимации (приближения)* $A$ – показатель качества регрессии. $A \\lt 7\\\\%$ свидетельствует о хорошем выборе модели.  \n",
    "$A_y=\\frac{1}{n}\\sum_{i=1}^n\\Big|\\frac{\\varepsilon {y_i}}{y_i}\\Big|$,   \n",
    "$A_x=\\frac{1}{n}\\sum_{i=1}^n\\Big|\\frac{\\varepsilon {x_i}}{x_i}\\Big|$\n",
    "\n",
    "\n"
   ]
  },
  {
   "cell_type": "markdown",
   "metadata": {},
   "source": [
    "## Выполнение работы"
   ]
  },
  {
   "cell_type": "code",
   "execution_count": 29,
   "metadata": {},
   "outputs": [],
   "source": [
    "import numpy as np\n",
    "import pandas as pd\n",
    "import math\n",
    "import matplotlib.pyplot as plt\n",
    "from matplotlib.pyplot import legend\n",
    "import scipy.stats\n",
    "import seaborn as sns\n",
    "from math import atanh, tanh"
   ]
  },
  {
   "cell_type": "code",
   "execution_count": 30,
   "metadata": {},
   "outputs": [],
   "source": [
    "bivariate_sampling = pd.read_csv(\"forestfires.csv\") \n",
    "n = 115\n",
    "selection_X = bivariate_sampling[[\"temp\"]]\n",
    "selection_Y = bivariate_sampling[[\"wind\"]]\n",
    "selection_X_ranked = selection_X.sort_values(by=\"temp\").reset_index(drop=True)\n",
    "selection_X_variation = selection_X_ranked.value_counts(sort=False).reset_index()\n",
    "selection_X_variation.columns=[\"variation\", \"frequency\"]\n",
    "selection_Y_ranked = selection_Y.sort_values(by=\"wind\").reset_index(drop=True)\n",
    "selection_Y_variation = selection_Y_ranked.value_counts(sort=False).reset_index()\n",
    "selection_Y_variation.columns=[\"variation\", \"frequency\"]\n",
    "selection_Y_variation\n",
    "data_frequency_y = bivariate_sampling['temp'].value_counts().sort_index().to_frame()\n",
    "data_frequency_y.reset_index(inplace=True)"
   ]
  },
  {
   "cell_type": "code",
   "execution_count": 31,
   "metadata": {},
   "outputs": [
    {
     "data": {
      "text/html": [
       "<div>\n",
       "<style scoped>\n",
       "    .dataframe tbody tr th:only-of-type {\n",
       "        vertical-align: middle;\n",
       "    }\n",
       "\n",
       "    .dataframe tbody tr th {\n",
       "        vertical-align: top;\n",
       "    }\n",
       "\n",
       "    .dataframe thead th {\n",
       "        text-align: right;\n",
       "    }\n",
       "</style>\n",
       "<table border=\"1\" class=\"dataframe\">\n",
       "  <thead>\n",
       "    <tr style=\"text-align: right;\">\n",
       "      <th></th>\n",
       "      <th>interval</th>\n",
       "      <th>frequency</th>\n",
       "      <th>mid_of_interval</th>\n",
       "    </tr>\n",
       "  </thead>\n",
       "  <tbody>\n",
       "    <tr>\n",
       "      <th>0</th>\n",
       "      <td>(4.6, 8.6]</td>\n",
       "      <td>5</td>\n",
       "      <td>6.6</td>\n",
       "    </tr>\n",
       "    <tr>\n",
       "      <th>1</th>\n",
       "      <td>(8.6, 12.6]</td>\n",
       "      <td>13</td>\n",
       "      <td>10.6</td>\n",
       "    </tr>\n",
       "    <tr>\n",
       "      <th>2</th>\n",
       "      <td>(12.6, 16.6]</td>\n",
       "      <td>24</td>\n",
       "      <td>14.6</td>\n",
       "    </tr>\n",
       "    <tr>\n",
       "      <th>3</th>\n",
       "      <td>(16.6, 20.6]</td>\n",
       "      <td>33</td>\n",
       "      <td>18.6</td>\n",
       "    </tr>\n",
       "    <tr>\n",
       "      <th>4</th>\n",
       "      <td>(20.6, 24.6]</td>\n",
       "      <td>27</td>\n",
       "      <td>22.6</td>\n",
       "    </tr>\n",
       "    <tr>\n",
       "      <th>5</th>\n",
       "      <td>(24.6, 28.6]</td>\n",
       "      <td>10</td>\n",
       "      <td>26.6</td>\n",
       "    </tr>\n",
       "    <tr>\n",
       "      <th>6</th>\n",
       "      <td>(28.6, 32.6]</td>\n",
       "      <td>3</td>\n",
       "      <td>30.6</td>\n",
       "    </tr>\n",
       "  </tbody>\n",
       "</table>\n",
       "</div>"
      ],
      "text/plain": [
       "       interval  frequency  mid_of_interval\n",
       "0    (4.6, 8.6]          5              6.6\n",
       "1   (8.6, 12.6]         13             10.6\n",
       "2  (12.6, 16.6]         24             14.6\n",
       "3  (16.6, 20.6]         33             18.6\n",
       "4  (20.6, 24.6]         27             22.6\n",
       "5  (24.6, 28.6]         10             26.6\n",
       "6  (28.6, 32.6]          3             30.6"
      ]
     },
     "execution_count": 31,
     "metadata": {},
     "output_type": "execute_result"
    }
   ],
   "source": [
    "k = int(1+3.322*math.log10(n))\n",
    "min_x = selection_X_variation[\"variation\"][0]\n",
    "max_x = selection_X_variation[\"variation\"][len(selection_X_variation) - 1]\n",
    "h_x = (max_x - min_x)/k\n",
    "selection_X_interval = selection_X_ranked.squeeze().value_counts(bins = k).to_frame().reset_index()\n",
    "selection_X_interval.columns=[\"interval\", \"frequency\"]\n",
    "selection_X_interval = selection_X_interval.sort_values(\"interval\").reset_index(drop=True)\n",
    "selection_X_interval[\"interval\"][0] = pd.Interval(left = selection_X_ranked[\"temp\"][0], right = selection_X_interval[\"interval\"][0].right)\n",
    "middles = []\n",
    "for i in range(k):\n",
    "    middles.append(selection_X_interval[\"interval\"][i].mid)\n",
    "selection_X_interval[\"mid_of_interval\"]=middles\n",
    "selection_X_interval"
   ]
  },
  {
   "cell_type": "code",
   "execution_count": 32,
   "metadata": {},
   "outputs": [
    {
     "data": {
      "text/html": [
       "<div>\n",
       "<style scoped>\n",
       "    .dataframe tbody tr th:only-of-type {\n",
       "        vertical-align: middle;\n",
       "    }\n",
       "\n",
       "    .dataframe tbody tr th {\n",
       "        vertical-align: top;\n",
       "    }\n",
       "\n",
       "    .dataframe thead th {\n",
       "        text-align: right;\n",
       "    }\n",
       "</style>\n",
       "<table border=\"1\" class=\"dataframe\">\n",
       "  <thead>\n",
       "    <tr style=\"text-align: right;\">\n",
       "      <th></th>\n",
       "      <th>interval</th>\n",
       "      <th>frequency</th>\n",
       "      <th>mid_of_interval</th>\n",
       "    </tr>\n",
       "  </thead>\n",
       "  <tbody>\n",
       "    <tr>\n",
       "      <th>0</th>\n",
       "      <td>(0.4, 1.686]</td>\n",
       "      <td>9</td>\n",
       "      <td>1.0430</td>\n",
       "    </tr>\n",
       "    <tr>\n",
       "      <th>1</th>\n",
       "      <td>(1.686, 2.971]</td>\n",
       "      <td>22</td>\n",
       "      <td>2.3285</td>\n",
       "    </tr>\n",
       "    <tr>\n",
       "      <th>2</th>\n",
       "      <td>(2.971, 4.257]</td>\n",
       "      <td>32</td>\n",
       "      <td>3.6140</td>\n",
       "    </tr>\n",
       "    <tr>\n",
       "      <th>3</th>\n",
       "      <td>(4.257, 5.543]</td>\n",
       "      <td>30</td>\n",
       "      <td>4.9000</td>\n",
       "    </tr>\n",
       "    <tr>\n",
       "      <th>4</th>\n",
       "      <td>(5.543, 6.829]</td>\n",
       "      <td>13</td>\n",
       "      <td>6.1860</td>\n",
       "    </tr>\n",
       "    <tr>\n",
       "      <th>5</th>\n",
       "      <td>(6.829, 8.114]</td>\n",
       "      <td>4</td>\n",
       "      <td>7.4715</td>\n",
       "    </tr>\n",
       "    <tr>\n",
       "      <th>6</th>\n",
       "      <td>(8.114, 9.4]</td>\n",
       "      <td>5</td>\n",
       "      <td>8.7570</td>\n",
       "    </tr>\n",
       "  </tbody>\n",
       "</table>\n",
       "</div>"
      ],
      "text/plain": [
       "         interval  frequency  mid_of_interval\n",
       "0    (0.4, 1.686]          9           1.0430\n",
       "1  (1.686, 2.971]         22           2.3285\n",
       "2  (2.971, 4.257]         32           3.6140\n",
       "3  (4.257, 5.543]         30           4.9000\n",
       "4  (5.543, 6.829]         13           6.1860\n",
       "5  (6.829, 8.114]          4           7.4715\n",
       "6    (8.114, 9.4]          5           8.7570"
      ]
     },
     "execution_count": 32,
     "metadata": {},
     "output_type": "execute_result"
    }
   ],
   "source": [
    "k = int(1+3.322*math.log10(n))\n",
    "min_y = selection_Y_variation[\"variation\"][0]\n",
    "max_y = selection_Y_variation[\"variation\"][len(selection_Y_variation) - 1]\n",
    "h_y = (max_y - min_y)/k\n",
    "selection_Y_interval = selection_Y_ranked.squeeze().value_counts(bins = k).to_frame().reset_index()\n",
    "selection_Y_interval.columns=[\"interval\", \"frequency\"]\n",
    "selection_Y_interval = selection_Y_interval.sort_values(\"interval\").reset_index(drop=True)\n",
    "selection_Y_interval[\"interval\"][0] = pd.Interval(left = selection_Y_ranked[\"wind\"][0], right = selection_Y_interval[\"interval\"][0].right)\n",
    "middles_y = []\n",
    "for i in range(k):\n",
    "    middles_y.append(selection_Y_interval[\"interval\"][i].mid)\n",
    "selection_Y_interval[\"mid_of_interval\"]=middles_y\n",
    "selection_Y_interval"
   ]
  },
  {
   "cell_type": "code",
   "execution_count": 33,
   "metadata": {},
   "outputs": [],
   "source": [
    "right_values = [] \n",
    "for i in range(len(selection_X_interval)):\n",
    "    right_values.append(selection_X_interval[\"interval\"][i].right)  \n",
    "left_values = []\n",
    "for i in range(len(selection_X_interval)):\n",
    "    left_values.append(selection_X_interval[\"interval\"][i].left)\n",
    "accumulated_freq = [0]\n",
    "\n",
    "for i in range(len(selection_X_interval)):\n",
    "    accumulated_freq.append(accumulated_freq[-1] + selection_X_interval[\"frequency\"][i])\n",
    "\n",
    "accumulated_freq.pop(0)\n",
    "selection_X_interval[\"relative_freq\"] = selection_X_interval[\"frequency\"]/accumulated_freq[-1]\n",
    "accumulated_relative_freq = [0]\n",
    "for i in range(len(selection_X_interval)):\n",
    "    accumulated_relative_freq.append(accumulated_relative_freq[-1] + selection_X_interval[\"relative_freq\"][i])\n",
    "  \n",
    "accumulated_relative_freq.pop(0)\n",
    "\n",
    "middles = []\n",
    "for i in range(len(selection_X_interval)):\n",
    "    middles.append(selection_X_interval[\"interval\"][i].mid)\n",
    "table = pd.DataFrame(columns=[\"(x(i-1), x(i)]\", \"x(i)\", \"n(i)\", \"p*(i)\", \"sum(n(i))\", \"sum(p(i))\"], index=list(range(1, len(selection_X_interval) + 1)).append(\"sum\"))\n",
    "table[\"(x(i-1), x(i)]\"] = selection_X_interval[\"interval\"]\n",
    "table[\"x(i)\"] = middles \n",
    "table[\"n(i)\"] = selection_X_interval[\"frequency\"]\n",
    "table[\"p*(i)\"] = selection_X_interval[\"relative_freq\"]\n",
    "table[\"sum(n(i))\"] = accumulated_freq \n",
    "table[\"sum(p(i))\"] = accumulated_relative_freq\n",
    "table.loc[\"sum\"] = [\"   \", \"    \", np.sum(table[\"n(i)\"]), np.sum(table[\"p*(i)\"]), \" \", \"    \"]\n",
    "\n",
    "\n",
    "\n",
    "\n",
    "\n"
   ]
  },
  {
   "cell_type": "code",
   "execution_count": 34,
   "metadata": {},
   "outputs": [],
   "source": [
    "right_values = [] \n",
    "for i in range(len(selection_Y_interval)):\n",
    "    right_values.append(selection_Y_interval[\"interval\"][i].right)  \n",
    "left_values = []\n",
    "for i in range(len(selection_Y_interval)):\n",
    "    left_values.append(selection_Y_interval[\"interval\"][i].left)\n",
    "accumulated_freq_y = [0]\n",
    "\n",
    "for i in range(len(selection_Y_interval)):\n",
    "    accumulated_freq_y.append(accumulated_freq_y[-1] + selection_Y_interval[\"frequency\"][i])\n",
    "\n",
    "accumulated_freq_y.pop(0)\n",
    "selection_Y_interval[\"relative_freq\"] = selection_Y_interval[\"frequency\"]/accumulated_freq_y[-1]\n",
    "accumulated_relative_freq_y = [0]\n",
    "for i in range(len(selection_Y_interval)):\n",
    "    accumulated_relative_freq_y.append(accumulated_relative_freq_y[-1] + selection_Y_interval[\"relative_freq\"][i])\n",
    "  \n",
    "accumulated_relative_freq_y.pop(0)\n",
    "\n",
    "middles_y = []\n",
    "for i in range(len(selection_Y_interval)):\n",
    "    middles_y.append(selection_Y_interval[\"interval\"][i].mid)\n",
    "tabley = pd.DataFrame(columns=[\"(y(i-1), y(i)]\", \"y(i)\", \"n(i)\", \"p*(i)\", \"sum(n(i))\", \"sum(p(i))\"], index=list(range(1, len(selection_Y_interval) + 1)).append(\"sum\"))\n",
    "tabley[\"(y(i-1), y(i)]\"] = selection_Y_interval[\"interval\"]\n",
    "tabley[\"y(i)\"] = middles_y \n",
    "tabley[\"n(i)\"] = selection_Y_interval[\"frequency\"]\n",
    "tabley[\"p*(i)\"] = selection_Y_interval[\"relative_freq\"]\n",
    "tabley[\"sum(n(i))\"] = accumulated_freq_y \n",
    "tabley[\"sum(p(i))\"] = accumulated_relative_freq_y\n",
    "tabley.loc[\"sum\"] = [\"  \", \"    \", np.sum(tabley[\"n(i)\"]), np.sum(tabley[\"p*(i)\"]), \"   \", \"    \"]"
   ]
  },
  {
   "cell_type": "code",
   "execution_count": 35,
   "metadata": {},
   "outputs": [],
   "source": [
    "table_nu_y = pd.DataFrame(columns=[\"y(i)\", \"n(i)\", \"u(i)\", \"n(i)u(i)\", \"n(i)u^2(i)\", \"n(i)u^3(i)\", \"n(i)u^4(i)\", \"n(i)(u(i) + 1)^4\"].append(\"sum\"))\n",
    "if len(selection_Y_interval) % 2 == 0:\n",
    "    false_zero = ((len(selection_Y_interval) - 1)/2)\n",
    "    if selection_Y_interval[\"frequency\"][math.floor(false_zero)] > selection_Y_interval[\"frequency\"][math.ceil(false_zero)]:\n",
    "        false_zero = tabley[\"y(i)\"][math.floor(false_zero)]\n",
    "    else:\n",
    "        false_zero = tabley[\"y(i)\"][math.ceil(false_zero)]\n",
    "else:\n",
    "    false_zero = tabley[\"y(i)\"][math.floor((len(tabley) - 1)/2)]\n",
    "u = []\n",
    "for i in range (len(tabley) - 1):\n",
    "    u.append(round((tabley[\"y(i)\"][i] - false_zero)/h_y))\n",
    "n_u_1 = []\n",
    "n_u_2 = []\n",
    "n_u_3 = []\n",
    "n_u_4 = []\n",
    "n_u_plus = []\n",
    "for i in range(len(u)):\n",
    "    n_u_1.append(tabley[\"n(i)\"][i]*u[i])\n",
    "    n_u_2.append(tabley[\"n(i)\"][i]*(u[i])**2)\n",
    "    n_u_3.append(tabley[\"n(i)\"][i]*(u[i])**3)\n",
    "    n_u_4.append(tabley[\"n(i)\"][i]*(u[i])**4)\n",
    "    n_u_plus.append(round(tabley[\"n(i)\"][i]*(u[i] + 1)**4, 1))\n",
    "table_nu_y[\"y(i)\"] = tabley[\"y(i)\"][:len(tabley) - 1]\n",
    "table_nu_y[\"n(i)\"] = tabley[\"n(i)\"]\n",
    "table_nu_y[\"u(i)\"] = u\n",
    "table_nu_y[\"n(i)u(i)\"] = n_u_1\n",
    "table_nu_y[\"n(i)u^2(i)\"] = n_u_2\n",
    "table_nu_y[\"n(i)u^3(i)\"] = n_u_3\n",
    "table_nu_y[\"n(i)u^4(i)\"] = n_u_4\n",
    "table_nu_y[\"n(i)(u(i) + 1)^4\"] = n_u_plus\n",
    "table_nu_y.loc[\"sum\"] = [\"-\", np.sum(table_nu_y[\"n(i)\"]), \"-\", np.sum(n_u_1), np.sum(n_u_2), np.sum(n_u_3), np.sum(n_u_4), np.sum(n_u_plus)]\n",
    "\n"
   ]
  },
  {
   "cell_type": "code",
   "execution_count": 36,
   "metadata": {},
   "outputs": [],
   "source": [
    "v = []\n",
    "r = 4\n",
    "for i in range(r):\n",
    "    v.append(1/n*table_nu_y.loc[\"sum\"][i+3])\n",
    "m = np.zeros(4)\n",
    "m[1] = (v[1]-v[0]**2)*h_y**2\n",
    "m[2] = (v[2] - 3*v[1]*v[0] + 2*v[0]**3)*h_y**3\n",
    "m[3] = (v[3] - 4*v[2]*v[0] + 6*v[1]*v[0]**2 - 3*v[0]**4)*h_y**4\n",
    "table_vm_y = pd.DataFrame(columns=[\"v*(i)\", \"m*(i)\"], index=range(1, r + 1))\n",
    "table_vm_y[\"v*(i)\"] = v\n",
    "table_vm_y[\"m*(i)\"] = m"
   ]
  },
  {
   "cell_type": "code",
   "execution_count": 37,
   "metadata": {},
   "outputs": [
    {
     "name": "stdout",
     "output_type": "stream",
     "text": [
      "Мода интервального ряда:  4.042428571428571\n",
      "Медиана:  4.860896103896104\n"
     ]
    }
   ],
   "source": [
    "#считаем для интервального ряда \n",
    "max_freq = np.max(selection_Y_interval[\"frequency\"])\n",
    "moda_y = 0\n",
    "index_y = 0\n",
    "for i in range(len(selection_Y_interval)):\n",
    "    if (selection_Y_interval[\"frequency\"][i] == max_freq):\n",
    "        moda_y = selection_Y_interval[\"interval\"][i].left #нашли левую границу интервала\n",
    "        index_y = i #нашли индекс интервального ряда, чтобы потом обращаться к частотам пред. и след. интервалов \n",
    "moda = moda_y + h_y*((max_freq - selection_Y_interval[\"frequency\"][index_y - 1])/(max_freq*2 - selection_Y_interval[\"frequency\"][index_y - 1] - selection_Y_interval[\"frequency\"][index_y + 1]))\n",
    "print(\"Мода интервального ряда: \", moda)\n",
    "mediana = 0 \n",
    "index = 0\n",
    "while (table[\"sum(n(i))\"][index] < table[\"sum(n(i))\"][len(selection_Y_interval)-1]/2):\n",
    "    index += 1\n",
    "mediana_x = selection_Y_interval[\"interval\"][index].left\n",
    "mediana = mediana_x + h_y/(table[\"p*(i)\"][index])*(0.5 - table[\"sum(p(i))\"][index-1])\n",
    "print(\"Медиана: \", mediana)\n"
   ]
  },
  {
   "cell_type": "markdown",
   "metadata": {},
   "source": [
    "### **Задание №1.** Провести статистическую обработку второй выборки с целью определения точечных статистических оценок параметров распределения исследуемого признака (математического ожидания, дисперсии, среднеквадратичного отклонения, асимметрии, эксцесса, моды, медианы и коэффициента вариации).  \n"
   ]
  },
  {
   "cell_type": "code",
   "execution_count": 38,
   "metadata": {},
   "outputs": [
    {
     "data": {
      "text/html": [
       "<div>\n",
       "<style scoped>\n",
       "    .dataframe tbody tr th:only-of-type {\n",
       "        vertical-align: middle;\n",
       "    }\n",
       "\n",
       "    .dataframe tbody tr th {\n",
       "        vertical-align: top;\n",
       "    }\n",
       "\n",
       "    .dataframe thead th {\n",
       "        text-align: right;\n",
       "    }\n",
       "</style>\n",
       "<table border=\"1\" class=\"dataframe\">\n",
       "  <thead>\n",
       "    <tr style=\"text-align: right;\">\n",
       "      <th></th>\n",
       "      <th>(y(i-1), y(i)]</th>\n",
       "      <th>y(i)</th>\n",
       "      <th>n(i)</th>\n",
       "      <th>p*(i)</th>\n",
       "      <th>sum(n(i))</th>\n",
       "      <th>sum(p(i))</th>\n",
       "    </tr>\n",
       "  </thead>\n",
       "  <tbody>\n",
       "    <tr>\n",
       "      <th>0</th>\n",
       "      <td>(0.4, 1.686]</td>\n",
       "      <td>1.043</td>\n",
       "      <td>9</td>\n",
       "      <td>0.078261</td>\n",
       "      <td>9</td>\n",
       "      <td>0.078261</td>\n",
       "    </tr>\n",
       "    <tr>\n",
       "      <th>1</th>\n",
       "      <td>(1.686, 2.971]</td>\n",
       "      <td>2.3285</td>\n",
       "      <td>22</td>\n",
       "      <td>0.191304</td>\n",
       "      <td>31</td>\n",
       "      <td>0.269565</td>\n",
       "    </tr>\n",
       "    <tr>\n",
       "      <th>2</th>\n",
       "      <td>(2.971, 4.257]</td>\n",
       "      <td>3.614</td>\n",
       "      <td>32</td>\n",
       "      <td>0.278261</td>\n",
       "      <td>63</td>\n",
       "      <td>0.547826</td>\n",
       "    </tr>\n",
       "    <tr>\n",
       "      <th>3</th>\n",
       "      <td>(4.257, 5.543]</td>\n",
       "      <td>4.9</td>\n",
       "      <td>30</td>\n",
       "      <td>0.260870</td>\n",
       "      <td>93</td>\n",
       "      <td>0.808696</td>\n",
       "    </tr>\n",
       "    <tr>\n",
       "      <th>4</th>\n",
       "      <td>(5.543, 6.829]</td>\n",
       "      <td>6.186</td>\n",
       "      <td>13</td>\n",
       "      <td>0.113043</td>\n",
       "      <td>106</td>\n",
       "      <td>0.921739</td>\n",
       "    </tr>\n",
       "    <tr>\n",
       "      <th>5</th>\n",
       "      <td>(6.829, 8.114]</td>\n",
       "      <td>7.4715</td>\n",
       "      <td>4</td>\n",
       "      <td>0.034783</td>\n",
       "      <td>110</td>\n",
       "      <td>0.956522</td>\n",
       "    </tr>\n",
       "    <tr>\n",
       "      <th>6</th>\n",
       "      <td>(8.114, 9.4]</td>\n",
       "      <td>8.757</td>\n",
       "      <td>5</td>\n",
       "      <td>0.043478</td>\n",
       "      <td>115</td>\n",
       "      <td>1.0</td>\n",
       "    </tr>\n",
       "    <tr>\n",
       "      <th>sum</th>\n",
       "      <td></td>\n",
       "      <td></td>\n",
       "      <td>115</td>\n",
       "      <td>1.000000</td>\n",
       "      <td></td>\n",
       "      <td></td>\n",
       "    </tr>\n",
       "  </tbody>\n",
       "</table>\n",
       "</div>"
      ],
      "text/plain": [
       "     (y(i-1), y(i)]    y(i)  n(i)     p*(i) sum(n(i)) sum(p(i))\n",
       "0      (0.4, 1.686]   1.043     9  0.078261         9  0.078261\n",
       "1    (1.686, 2.971]  2.3285    22  0.191304        31  0.269565\n",
       "2    (2.971, 4.257]   3.614    32  0.278261        63  0.547826\n",
       "3    (4.257, 5.543]     4.9    30  0.260870        93  0.808696\n",
       "4    (5.543, 6.829]   6.186    13  0.113043       106  0.921739\n",
       "5    (6.829, 8.114]  7.4715     4  0.034783       110  0.956522\n",
       "6      (8.114, 9.4]   8.757     5  0.043478       115       1.0\n",
       "sum                           115  1.000000                    "
      ]
     },
     "execution_count": 38,
     "metadata": {},
     "output_type": "execute_result"
    }
   ],
   "source": [
    "tabley"
   ]
  },
  {
   "cell_type": "markdown",
   "metadata": {},
   "source": [
    "В сумме n(i) получили объем выборки, в сумме p(i) - единицу, вычисления выполнены верно."
   ]
  },
  {
   "cell_type": "code",
   "execution_count": 39,
   "metadata": {},
   "outputs": [
    {
     "data": {
      "text/html": [
       "<style type=\"text/css\">\n",
       "</style>\n",
       "<table id=\"T_b0e59\">\n",
       "  <thead>\n",
       "    <tr>\n",
       "      <th id=\"T_b0e59_level0_col0\" class=\"col_heading level0 col0\" >Характеристика</th>\n",
       "      <th id=\"T_b0e59_level0_col1\" class=\"col_heading level0 col1\" >Выбор. сред.</th>\n",
       "      <th id=\"T_b0e59_level0_col2\" class=\"col_heading level0 col2\" >Дисперсия</th>\n",
       "      <th id=\"T_b0e59_level0_col3\" class=\"col_heading level0 col3\" >Испр. дисперсия</th>\n",
       "      <th id=\"T_b0e59_level0_col4\" class=\"col_heading level0 col4\" >СКО</th>\n",
       "      <th id=\"T_b0e59_level0_col5\" class=\"col_heading level0 col5\" >Испр. СКО</th>\n",
       "      <th id=\"T_b0e59_level0_col6\" class=\"col_heading level0 col6\" >Коэф. ассиметрии</th>\n",
       "      <th id=\"T_b0e59_level0_col7\" class=\"col_heading level0 col7\" >Коэф. эксцесса</th>\n",
       "      <th id=\"T_b0e59_level0_col8\" class=\"col_heading level0 col8\" >Мода</th>\n",
       "      <th id=\"T_b0e59_level0_col9\" class=\"col_heading level0 col9\" >Медиана</th>\n",
       "      <th id=\"T_b0e59_level0_col10\" class=\"col_heading level0 col10\" >Коэф. вариации</th>\n",
       "    </tr>\n",
       "  </thead>\n",
       "  <tbody>\n",
       "    <tr>\n",
       "      <td id=\"T_b0e59_row0_col0\" class=\"data row0 col0\" >Значение</td>\n",
       "      <td id=\"T_b0e59_row0_col1\" class=\"data row0 col1\" >4.120000</td>\n",
       "      <td id=\"T_b0e59_row0_col2\" class=\"data row0 col2\" >3.739165</td>\n",
       "      <td id=\"T_b0e59_row0_col3\" class=\"data row0 col3\" >3.391869</td>\n",
       "      <td id=\"T_b0e59_row0_col4\" class=\"data row0 col4\" >1.933692</td>\n",
       "      <td id=\"T_b0e59_row0_col5\" class=\"data row0 col5\" >1.841703</td>\n",
       "      <td id=\"T_b0e59_row0_col6\" class=\"data row0 col6\" >0.419626</td>\n",
       "      <td id=\"T_b0e59_row0_col7\" class=\"data row0 col7\" >-0.478282</td>\n",
       "      <td id=\"T_b0e59_row0_col8\" class=\"data row0 col8\" >2.971000</td>\n",
       "      <td id=\"T_b0e59_row0_col9\" class=\"data row0 col9\" >4.860896</td>\n",
       "      <td id=\"T_b0e59_row0_col10\" class=\"data row0 col10\" >46.934275</td>\n",
       "    </tr>\n",
       "  </tbody>\n",
       "</table>\n"
      ],
      "text/plain": [
       "<pandas.io.formats.style.Styler at 0x1d698a67550>"
      ]
     },
     "execution_count": 39,
     "metadata": {},
     "output_type": "execute_result"
    }
   ],
   "source": [
    "table_y = pd.DataFrame(columns=[\"Характеристика\", \"Выбор. сред.\", \"Дисперсия\", \"Испр. дисперсия\", \"СКО\", \"Испр. СКО\", \"Коэф. ассиметрии\", \"Коэф. эксцесса\", \"Мода\", \"Медиана\", \"Коэф. вариации\"])\n",
    "y_v = np.sum(selection_Y_ranked[\"wind\"])/n\n",
    "D_Y = 0\n",
    "for i in range(n):\n",
    "    D_Y +=(selection_Y_ranked[\"wind\"][i] - y_v)**2/n\n",
    "D_Y_2 = m[1]\n",
    "sigma_Y = math.sqrt(D_Y)\n",
    "sigma_Y_s = math.sqrt(D_Y_2)\n",
    "m[2] = (v[2] - 3*v[1]*v[0] + 2*v[0]**3)*h_y**3\n",
    "m[3] = (v[3] - 4*v[2]*v[0] + 6*v[1]*v[0]**2 - 3*v[0]**4)*h_y**4\n",
    "a = m[2]/sigma_Y**3\n",
    "excess = m[3]/sigma_Y**4 - 3\n",
    "k_var_Y = sigma_Y/abs(y_v)*100\n",
    "table_y.loc[0] = [\"Значение\", y_v, D_Y, D_Y_2, sigma_Y, sigma_Y_s, a, excess, moda_y, mediana, k_var_Y]\n",
    "table_y = table_y.style.hide()\n",
    "\n",
    "table_y"
   ]
  },
  {
   "cell_type": "markdown",
   "metadata": {},
   "source": [
    "Дисперсия и исправленная дисперсия, так же как СКО и исправленное СКО незначительно отличаются друг от друга.\n",
    "\n",
    "Коэффициент асимметрии характеризует скошенность распределения относительно самого высокого участка по отношению к математическому ожиданию. Получили положительную ассиметрию, значит большая часть кривой расположена справа от математического ожидания.    \n",
    "\n",
    "Эксцесс характеризует подъем кривой теоретического распределения по сравнению с нормальной кривой. Получили отрицательный эксцесс, значит кривая более плосковершинная.  \n",
    "\n",
    "Посчитав моду, получили значение локального максимума распределения.\n",
    "\n",
    "Медиана показывает на точку, делящую распределение на две равновероятностные половины.  \n",
    "\n",
    "Коэффициент вариации показывает степень изменчивости по отношению к среднему показателю\n",
    "Получили коэффициент вариации более 33%, значит выборочная совокупность неоднородная. \n",
    " "
   ]
  },
  {
   "cell_type": "markdown",
   "metadata": {},
   "source": [
    "### **Задание №2.** Построить двумерный интервальный вариационный ряд, оформить в виде таблицы."
   ]
  },
  {
   "cell_type": "code",
   "execution_count": 40,
   "metadata": {},
   "outputs": [
    {
     "name": "stdout",
     "output_type": "stream",
     "text": [
      "[[ 2  0  3  2  1  1  0]\n",
      " [ 0  3  5  7  4  2  1]\n",
      " [ 0  1  4 12 10  4  1]\n",
      " [ 0  3  5 11  8  2  1]\n",
      " [ 0  5  2  1  4  1  0]\n",
      " [ 0  1  3  0  0  0  0]\n",
      " [ 3  0  2  0  0  0  0]]\n",
      "Общая сумма для проверки правильности подсчета частот по интервалам:  115\n"
     ]
    }
   ],
   "source": [
    "bivariate_sampling = bivariate_sampling.sort_values(by='temp').reset_index(drop=True) #сортировка двумерной выборки по первому признаку\n",
    "j=0\n",
    "array_n = np.zeros((k, k), dtype=int) #создание двумерного массива, где k - количество интервалов\n",
    "for i in range(n):\n",
    "    while bivariate_sampling['temp'][i] > selection_X_interval['interval'][j].right: \n",
    "        j+=1\n",
    "    for l in range(k):\n",
    "        if bivariate_sampling['wind'][i] >= selection_Y_interval['interval'][l].left:\n",
    "            if bivariate_sampling['wind'][i] <= selection_Y_interval['interval'][l].right:\n",
    "                array_n[j][l]+=1\n",
    "                break\n",
    "array_n = array_n.T\n",
    "print(array_n) \n",
    "\n",
    "print(\"Общая сумма для проверки правильности подсчета частот по интервалам: \", np.sum(array_n))"
   ]
  },
  {
   "cell_type": "code",
   "execution_count": 41,
   "metadata": {},
   "outputs": [
    {
     "name": "stdout",
     "output_type": "stream",
     "text": [
      "[9, 22, 32, 30, 13, 4, 5] [5, 13, 24, 33, 27, 10, 3]\n"
     ]
    }
   ],
   "source": [
    "n_y = []\n",
    "n_x = []\n",
    "\n",
    "for i in range(len(array_n)):\n",
    "    sum=0\n",
    "    for j in range(len(array_n[0])):\n",
    "        sum+=array_n[i][j] #сумма отдельной строки \n",
    "    n_x.append(sum) #занесение суммы в массив \n",
    "\n",
    "for i in range(len(array_n[0])):\n",
    "    sum=0\n",
    "    for j in range(len(array_n)):\n",
    "        sum+=array_n[j][i] #сумма отдельного столбца\n",
    "    n_y.append(sum) #занесение суммы в массив \n",
    "print(n_x, n_y)"
   ]
  },
  {
   "cell_type": "code",
   "execution_count": 42,
   "metadata": {},
   "outputs": [
    {
     "data": {
      "text/html": [
       "<style type=\"text/css\">\n",
       "</style>\n",
       "<table id=\"T_464e9\">\n",
       "  <thead>\n",
       "    <tr>\n",
       "      <th id=\"T_464e9_level0_col0\" class=\"col_heading level0 col0\" >Y/X</th>\n",
       "      <th id=\"T_464e9_level0_col1\" class=\"col_heading level0 col1\" >(4.6; 8.6]</th>\n",
       "      <th id=\"T_464e9_level0_col2\" class=\"col_heading level0 col2\" >(8.6; 12.6]</th>\n",
       "      <th id=\"T_464e9_level0_col3\" class=\"col_heading level0 col3\" >(12.6; 16.6]</th>\n",
       "      <th id=\"T_464e9_level0_col4\" class=\"col_heading level0 col4\" >(16.6; 20.6]</th>\n",
       "      <th id=\"T_464e9_level0_col5\" class=\"col_heading level0 col5\" >(20.6; 24.6]</th>\n",
       "      <th id=\"T_464e9_level0_col6\" class=\"col_heading level0 col6\" >(24.6; 28.6]</th>\n",
       "      <th id=\"T_464e9_level0_col7\" class=\"col_heading level0 col7\" >(28.6; 32.6]</th>\n",
       "      <th id=\"T_464e9_level0_col8\" class=\"col_heading level0 col8\" >n(y)</th>\n",
       "    </tr>\n",
       "  </thead>\n",
       "  <tbody>\n",
       "    <tr>\n",
       "      <td id=\"T_464e9_row0_col0\" class=\"data row0 col0\" >(0.4; 1.686]</td>\n",
       "      <td id=\"T_464e9_row0_col1\" class=\"data row0 col1\" >2</td>\n",
       "      <td id=\"T_464e9_row0_col2\" class=\"data row0 col2\" >0</td>\n",
       "      <td id=\"T_464e9_row0_col3\" class=\"data row0 col3\" >3</td>\n",
       "      <td id=\"T_464e9_row0_col4\" class=\"data row0 col4\" >2</td>\n",
       "      <td id=\"T_464e9_row0_col5\" class=\"data row0 col5\" >1</td>\n",
       "      <td id=\"T_464e9_row0_col6\" class=\"data row0 col6\" >1</td>\n",
       "      <td id=\"T_464e9_row0_col7\" class=\"data row0 col7\" >0</td>\n",
       "      <td id=\"T_464e9_row0_col8\" class=\"data row0 col8\" >5</td>\n",
       "    </tr>\n",
       "    <tr>\n",
       "      <td id=\"T_464e9_row1_col0\" class=\"data row1 col0\" >(1.686; 2.971]</td>\n",
       "      <td id=\"T_464e9_row1_col1\" class=\"data row1 col1\" >0</td>\n",
       "      <td id=\"T_464e9_row1_col2\" class=\"data row1 col2\" >3</td>\n",
       "      <td id=\"T_464e9_row1_col3\" class=\"data row1 col3\" >5</td>\n",
       "      <td id=\"T_464e9_row1_col4\" class=\"data row1 col4\" >7</td>\n",
       "      <td id=\"T_464e9_row1_col5\" class=\"data row1 col5\" >4</td>\n",
       "      <td id=\"T_464e9_row1_col6\" class=\"data row1 col6\" >2</td>\n",
       "      <td id=\"T_464e9_row1_col7\" class=\"data row1 col7\" >1</td>\n",
       "      <td id=\"T_464e9_row1_col8\" class=\"data row1 col8\" >13</td>\n",
       "    </tr>\n",
       "    <tr>\n",
       "      <td id=\"T_464e9_row2_col0\" class=\"data row2 col0\" >(2.971; 4.257]</td>\n",
       "      <td id=\"T_464e9_row2_col1\" class=\"data row2 col1\" >0</td>\n",
       "      <td id=\"T_464e9_row2_col2\" class=\"data row2 col2\" >1</td>\n",
       "      <td id=\"T_464e9_row2_col3\" class=\"data row2 col3\" >4</td>\n",
       "      <td id=\"T_464e9_row2_col4\" class=\"data row2 col4\" >12</td>\n",
       "      <td id=\"T_464e9_row2_col5\" class=\"data row2 col5\" >10</td>\n",
       "      <td id=\"T_464e9_row2_col6\" class=\"data row2 col6\" >4</td>\n",
       "      <td id=\"T_464e9_row2_col7\" class=\"data row2 col7\" >1</td>\n",
       "      <td id=\"T_464e9_row2_col8\" class=\"data row2 col8\" >24</td>\n",
       "    </tr>\n",
       "    <tr>\n",
       "      <td id=\"T_464e9_row3_col0\" class=\"data row3 col0\" >(4.257; 5.543]</td>\n",
       "      <td id=\"T_464e9_row3_col1\" class=\"data row3 col1\" >0</td>\n",
       "      <td id=\"T_464e9_row3_col2\" class=\"data row3 col2\" >3</td>\n",
       "      <td id=\"T_464e9_row3_col3\" class=\"data row3 col3\" >5</td>\n",
       "      <td id=\"T_464e9_row3_col4\" class=\"data row3 col4\" >11</td>\n",
       "      <td id=\"T_464e9_row3_col5\" class=\"data row3 col5\" >8</td>\n",
       "      <td id=\"T_464e9_row3_col6\" class=\"data row3 col6\" >2</td>\n",
       "      <td id=\"T_464e9_row3_col7\" class=\"data row3 col7\" >1</td>\n",
       "      <td id=\"T_464e9_row3_col8\" class=\"data row3 col8\" >33</td>\n",
       "    </tr>\n",
       "    <tr>\n",
       "      <td id=\"T_464e9_row4_col0\" class=\"data row4 col0\" >(5.543; 6.829]</td>\n",
       "      <td id=\"T_464e9_row4_col1\" class=\"data row4 col1\" >0</td>\n",
       "      <td id=\"T_464e9_row4_col2\" class=\"data row4 col2\" >5</td>\n",
       "      <td id=\"T_464e9_row4_col3\" class=\"data row4 col3\" >2</td>\n",
       "      <td id=\"T_464e9_row4_col4\" class=\"data row4 col4\" >1</td>\n",
       "      <td id=\"T_464e9_row4_col5\" class=\"data row4 col5\" >4</td>\n",
       "      <td id=\"T_464e9_row4_col6\" class=\"data row4 col6\" >1</td>\n",
       "      <td id=\"T_464e9_row4_col7\" class=\"data row4 col7\" >0</td>\n",
       "      <td id=\"T_464e9_row4_col8\" class=\"data row4 col8\" >27</td>\n",
       "    </tr>\n",
       "    <tr>\n",
       "      <td id=\"T_464e9_row5_col0\" class=\"data row5 col0\" >(6.829; 8.114]</td>\n",
       "      <td id=\"T_464e9_row5_col1\" class=\"data row5 col1\" >0</td>\n",
       "      <td id=\"T_464e9_row5_col2\" class=\"data row5 col2\" >1</td>\n",
       "      <td id=\"T_464e9_row5_col3\" class=\"data row5 col3\" >3</td>\n",
       "      <td id=\"T_464e9_row5_col4\" class=\"data row5 col4\" >0</td>\n",
       "      <td id=\"T_464e9_row5_col5\" class=\"data row5 col5\" >0</td>\n",
       "      <td id=\"T_464e9_row5_col6\" class=\"data row5 col6\" >0</td>\n",
       "      <td id=\"T_464e9_row5_col7\" class=\"data row5 col7\" >0</td>\n",
       "      <td id=\"T_464e9_row5_col8\" class=\"data row5 col8\" >10</td>\n",
       "    </tr>\n",
       "    <tr>\n",
       "      <td id=\"T_464e9_row6_col0\" class=\"data row6 col0\" >(8.114; 9.4]</td>\n",
       "      <td id=\"T_464e9_row6_col1\" class=\"data row6 col1\" >3</td>\n",
       "      <td id=\"T_464e9_row6_col2\" class=\"data row6 col2\" >0</td>\n",
       "      <td id=\"T_464e9_row6_col3\" class=\"data row6 col3\" >2</td>\n",
       "      <td id=\"T_464e9_row6_col4\" class=\"data row6 col4\" >0</td>\n",
       "      <td id=\"T_464e9_row6_col5\" class=\"data row6 col5\" >0</td>\n",
       "      <td id=\"T_464e9_row6_col6\" class=\"data row6 col6\" >0</td>\n",
       "      <td id=\"T_464e9_row6_col7\" class=\"data row6 col7\" >0</td>\n",
       "      <td id=\"T_464e9_row6_col8\" class=\"data row6 col8\" >3</td>\n",
       "    </tr>\n",
       "    <tr>\n",
       "      <td id=\"T_464e9_row7_col0\" class=\"data row7 col0\" >n(x)</td>\n",
       "      <td id=\"T_464e9_row7_col1\" class=\"data row7 col1\" >9</td>\n",
       "      <td id=\"T_464e9_row7_col2\" class=\"data row7 col2\" >22</td>\n",
       "      <td id=\"T_464e9_row7_col3\" class=\"data row7 col3\" >32</td>\n",
       "      <td id=\"T_464e9_row7_col4\" class=\"data row7 col4\" >30</td>\n",
       "      <td id=\"T_464e9_row7_col5\" class=\"data row7 col5\" >13</td>\n",
       "      <td id=\"T_464e9_row7_col6\" class=\"data row7 col6\" >4</td>\n",
       "      <td id=\"T_464e9_row7_col7\" class=\"data row7 col7\" >5</td>\n",
       "      <td id=\"T_464e9_row7_col8\" class=\"data row7 col8\" >115</td>\n",
       "    </tr>\n",
       "  </tbody>\n",
       "</table>\n"
      ],
      "text/plain": [
       "<pandas.io.formats.style.Styler at 0x1d698a8a190>"
      ]
     },
     "execution_count": 42,
     "metadata": {},
     "output_type": "execute_result"
    }
   ],
   "source": [
    "columns_names = [\"Y/X\"]\n",
    "index_names = []\n",
    "for i in range(k):\n",
    "    columns_names.append(f\"({selection_X_interval['interval'][i].left}; {selection_X_interval['interval'][i].right}]\")\n",
    "    index_names.append(f\"({selection_Y_interval['interval'][i].left}; {selection_Y_interval['interval'][i].right}]\")\n",
    "table2 = pd.DataFrame(columns=columns_names)\n",
    "table2[\"Y/X\"]=index_names\n",
    "for i in range(len(array_n)):\n",
    "    for j in range(len(array_n[i])):\n",
    "        table2.loc[i][j+1] = array_n[i][j]\n",
    "table2[\"n(y)\"] = n_y\n",
    "table2.loc[\"n(x)\"] = [\"n(x)\", 9, 22, 32, 30, 13, 4, 5, np.sum(array_n)]\n",
    "table2 = table2.style.hide()\n",
    "\n",
    "table2"
   ]
  },
  {
   "cell_type": "markdown",
   "metadata": {},
   "source": [
    "### **Задание №3.**  По полученному двумерному интервальному вариационному ряду сформировать условные варианты и по полученным условным вариантам построить корреляционную таблицу, сделать выводы.\n"
   ]
  },
  {
   "cell_type": "code",
   "execution_count": 43,
   "metadata": {},
   "outputs": [
    {
     "name": "stdout",
     "output_type": "stream",
     "text": [
      "[-3, -2, -1, 0, 1, 2, 3]\n"
     ]
    }
   ],
   "source": [
    "if (k % 2 == 0):\n",
    "    false_zero = ((k - 1)/2)\n",
    "    if selection_X_interval[\"frequency\"][math.floor(false_zero)] > selection_X_interval[\"frequency\"][math.ceil(false_zero)]:\n",
    "        false_zero = selection_X_interval[\"mid_of_interval\"][math.floor(false_zero)]\n",
    "    else:\n",
    "        false_zero = selection_X_interval[\"mid_of_interval\"][math.ceil(false_zero)]\n",
    "else:\n",
    "    false_zero = selection_X_interval[\"mid_of_interval\"][math.floor(k/2)]\n",
    "u_x = []\n",
    "for i in range (k):\n",
    "    u_x.append(int((selection_X_interval[\"mid_of_interval\"][i] - false_zero)/h_x))\n",
    "print(u_x)\n"
   ]
  },
  {
   "cell_type": "code",
   "execution_count": 44,
   "metadata": {},
   "outputs": [
    {
     "name": "stdout",
     "output_type": "stream",
     "text": [
      "[-3, -2, -1, 0, 1, 2, 3]\n"
     ]
    }
   ],
   "source": [
    "false_zero=0\n",
    "if (k % 2 == 0):\n",
    "    false_zero = ((k - 1)/2)\n",
    "    if selection_Y_interval[\"frequency\"][math.floor(false_zero)] > selection_Y_interval[\"frequency\"][math.ceil(false_zero)]:\n",
    "        false_zero = selection_Y_interval[\"mid_of_interval\"][math.floor(false_zero)]\n",
    "    else:\n",
    "        false_zero = selection_Y_interval[\"mid_of_interval\"][math.ceil(false_zero)]\n",
    "else:\n",
    "    false_zero = selection_Y_interval[\"mid_of_interval\"][math.floor(k/2)]\n",
    "u_y = []\n",
    "for i in range (k):\n",
    "    u_y.append(round((selection_Y_interval[\"mid_of_interval\"][i] - false_zero)/h_y))\n",
    "print(u_y)"
   ]
  },
  {
   "cell_type": "code",
   "execution_count": 45,
   "metadata": {},
   "outputs": [
    {
     "data": {
      "text/html": [
       "<style type=\"text/css\">\n",
       "</style>\n",
       "<table id=\"T_d5edc\">\n",
       "  <thead>\n",
       "    <tr>\n",
       "      <th id=\"T_d5edc_level0_col0\" class=\"col_heading level0 col0\" >v/u</th>\n",
       "      <th id=\"T_d5edc_level0_col1\" class=\"col_heading level0 col1\" >-3</th>\n",
       "      <th id=\"T_d5edc_level0_col2\" class=\"col_heading level0 col2\" >-2</th>\n",
       "      <th id=\"T_d5edc_level0_col3\" class=\"col_heading level0 col3\" >-1</th>\n",
       "      <th id=\"T_d5edc_level0_col4\" class=\"col_heading level0 col4\" >0</th>\n",
       "      <th id=\"T_d5edc_level0_col5\" class=\"col_heading level0 col5\" >1</th>\n",
       "      <th id=\"T_d5edc_level0_col6\" class=\"col_heading level0 col6\" >2</th>\n",
       "      <th id=\"T_d5edc_level0_col7\" class=\"col_heading level0 col7\" >3</th>\n",
       "      <th id=\"T_d5edc_level0_col8\" class=\"col_heading level0 col8\" >U</th>\n",
       "      <th id=\"T_d5edc_level0_col9\" class=\"col_heading level0 col9\" >vU</th>\n",
       "    </tr>\n",
       "  </thead>\n",
       "  <tbody>\n",
       "    <tr>\n",
       "      <td id=\"T_d5edc_row0_col0\" class=\"data row0 col0\" >-3</td>\n",
       "      <td id=\"T_d5edc_row0_col1\" class=\"data row0 col1\" >2</td>\n",
       "      <td id=\"T_d5edc_row0_col2\" class=\"data row0 col2\" >0</td>\n",
       "      <td id=\"T_d5edc_row0_col3\" class=\"data row0 col3\" >3</td>\n",
       "      <td id=\"T_d5edc_row0_col4\" class=\"data row0 col4\" >2</td>\n",
       "      <td id=\"T_d5edc_row0_col5\" class=\"data row0 col5\" >1</td>\n",
       "      <td id=\"T_d5edc_row0_col6\" class=\"data row0 col6\" >1</td>\n",
       "      <td id=\"T_d5edc_row0_col7\" class=\"data row0 col7\" >0</td>\n",
       "      <td id=\"T_d5edc_row0_col8\" class=\"data row0 col8\" >-6</td>\n",
       "      <td id=\"T_d5edc_row0_col9\" class=\"data row0 col9\" >18</td>\n",
       "    </tr>\n",
       "    <tr>\n",
       "      <td id=\"T_d5edc_row1_col0\" class=\"data row1 col0\" >-2</td>\n",
       "      <td id=\"T_d5edc_row1_col1\" class=\"data row1 col1\" >0</td>\n",
       "      <td id=\"T_d5edc_row1_col2\" class=\"data row1 col2\" >3</td>\n",
       "      <td id=\"T_d5edc_row1_col3\" class=\"data row1 col3\" >5</td>\n",
       "      <td id=\"T_d5edc_row1_col4\" class=\"data row1 col4\" >7</td>\n",
       "      <td id=\"T_d5edc_row1_col5\" class=\"data row1 col5\" >4</td>\n",
       "      <td id=\"T_d5edc_row1_col6\" class=\"data row1 col6\" >2</td>\n",
       "      <td id=\"T_d5edc_row1_col7\" class=\"data row1 col7\" >1</td>\n",
       "      <td id=\"T_d5edc_row1_col8\" class=\"data row1 col8\" >0</td>\n",
       "      <td id=\"T_d5edc_row1_col9\" class=\"data row1 col9\" >0</td>\n",
       "    </tr>\n",
       "    <tr>\n",
       "      <td id=\"T_d5edc_row2_col0\" class=\"data row2 col0\" >-1</td>\n",
       "      <td id=\"T_d5edc_row2_col1\" class=\"data row2 col1\" >0</td>\n",
       "      <td id=\"T_d5edc_row2_col2\" class=\"data row2 col2\" >1</td>\n",
       "      <td id=\"T_d5edc_row2_col3\" class=\"data row2 col3\" >4</td>\n",
       "      <td id=\"T_d5edc_row2_col4\" class=\"data row2 col4\" >12</td>\n",
       "      <td id=\"T_d5edc_row2_col5\" class=\"data row2 col5\" >10</td>\n",
       "      <td id=\"T_d5edc_row2_col6\" class=\"data row2 col6\" >4</td>\n",
       "      <td id=\"T_d5edc_row2_col7\" class=\"data row2 col7\" >1</td>\n",
       "      <td id=\"T_d5edc_row2_col8\" class=\"data row2 col8\" >15</td>\n",
       "      <td id=\"T_d5edc_row2_col9\" class=\"data row2 col9\" >-15</td>\n",
       "    </tr>\n",
       "    <tr>\n",
       "      <td id=\"T_d5edc_row3_col0\" class=\"data row3 col0\" >0</td>\n",
       "      <td id=\"T_d5edc_row3_col1\" class=\"data row3 col1\" >0</td>\n",
       "      <td id=\"T_d5edc_row3_col2\" class=\"data row3 col2\" >3</td>\n",
       "      <td id=\"T_d5edc_row3_col3\" class=\"data row3 col3\" >5</td>\n",
       "      <td id=\"T_d5edc_row3_col4\" class=\"data row3 col4\" >11</td>\n",
       "      <td id=\"T_d5edc_row3_col5\" class=\"data row3 col5\" >8</td>\n",
       "      <td id=\"T_d5edc_row3_col6\" class=\"data row3 col6\" >2</td>\n",
       "      <td id=\"T_d5edc_row3_col7\" class=\"data row3 col7\" >1</td>\n",
       "      <td id=\"T_d5edc_row3_col8\" class=\"data row3 col8\" >4</td>\n",
       "      <td id=\"T_d5edc_row3_col9\" class=\"data row3 col9\" >0</td>\n",
       "    </tr>\n",
       "    <tr>\n",
       "      <td id=\"T_d5edc_row4_col0\" class=\"data row4 col0\" >1</td>\n",
       "      <td id=\"T_d5edc_row4_col1\" class=\"data row4 col1\" >0</td>\n",
       "      <td id=\"T_d5edc_row4_col2\" class=\"data row4 col2\" >5</td>\n",
       "      <td id=\"T_d5edc_row4_col3\" class=\"data row4 col3\" >2</td>\n",
       "      <td id=\"T_d5edc_row4_col4\" class=\"data row4 col4\" >1</td>\n",
       "      <td id=\"T_d5edc_row4_col5\" class=\"data row4 col5\" >4</td>\n",
       "      <td id=\"T_d5edc_row4_col6\" class=\"data row4 col6\" >1</td>\n",
       "      <td id=\"T_d5edc_row4_col7\" class=\"data row4 col7\" >0</td>\n",
       "      <td id=\"T_d5edc_row4_col8\" class=\"data row4 col8\" >-6</td>\n",
       "      <td id=\"T_d5edc_row4_col9\" class=\"data row4 col9\" >-6</td>\n",
       "    </tr>\n",
       "    <tr>\n",
       "      <td id=\"T_d5edc_row5_col0\" class=\"data row5 col0\" >2</td>\n",
       "      <td id=\"T_d5edc_row5_col1\" class=\"data row5 col1\" >0</td>\n",
       "      <td id=\"T_d5edc_row5_col2\" class=\"data row5 col2\" >1</td>\n",
       "      <td id=\"T_d5edc_row5_col3\" class=\"data row5 col3\" >3</td>\n",
       "      <td id=\"T_d5edc_row5_col4\" class=\"data row5 col4\" >0</td>\n",
       "      <td id=\"T_d5edc_row5_col5\" class=\"data row5 col5\" >0</td>\n",
       "      <td id=\"T_d5edc_row5_col6\" class=\"data row5 col6\" >0</td>\n",
       "      <td id=\"T_d5edc_row5_col7\" class=\"data row5 col7\" >0</td>\n",
       "      <td id=\"T_d5edc_row5_col8\" class=\"data row5 col8\" >-5</td>\n",
       "      <td id=\"T_d5edc_row5_col9\" class=\"data row5 col9\" >-10</td>\n",
       "    </tr>\n",
       "    <tr>\n",
       "      <td id=\"T_d5edc_row6_col0\" class=\"data row6 col0\" >3</td>\n",
       "      <td id=\"T_d5edc_row6_col1\" class=\"data row6 col1\" >3</td>\n",
       "      <td id=\"T_d5edc_row6_col2\" class=\"data row6 col2\" >0</td>\n",
       "      <td id=\"T_d5edc_row6_col3\" class=\"data row6 col3\" >2</td>\n",
       "      <td id=\"T_d5edc_row6_col4\" class=\"data row6 col4\" >0</td>\n",
       "      <td id=\"T_d5edc_row6_col5\" class=\"data row6 col5\" >0</td>\n",
       "      <td id=\"T_d5edc_row6_col6\" class=\"data row6 col6\" >0</td>\n",
       "      <td id=\"T_d5edc_row6_col7\" class=\"data row6 col7\" >0</td>\n",
       "      <td id=\"T_d5edc_row6_col8\" class=\"data row6 col8\" >-11</td>\n",
       "      <td id=\"T_d5edc_row6_col9\" class=\"data row6 col9\" >-33</td>\n",
       "    </tr>\n",
       "    <tr>\n",
       "      <td id=\"T_d5edc_row7_col0\" class=\"data row7 col0\" >V</td>\n",
       "      <td id=\"T_d5edc_row7_col1\" class=\"data row7 col1\" >3</td>\n",
       "      <td id=\"T_d5edc_row7_col2\" class=\"data row7 col2\" >0</td>\n",
       "      <td id=\"T_d5edc_row7_col3\" class=\"data row7 col3\" >-9</td>\n",
       "      <td id=\"T_d5edc_row7_col4\" class=\"data row7 col4\" >-31</td>\n",
       "      <td id=\"T_d5edc_row7_col5\" class=\"data row7 col5\" >-17</td>\n",
       "      <td id=\"T_d5edc_row7_col6\" class=\"data row7 col6\" >-10</td>\n",
       "      <td id=\"T_d5edc_row7_col7\" class=\"data row7 col7\" >-3</td>\n",
       "      <td id=\"T_d5edc_row7_col8\" class=\"data row7 col8\" >-</td>\n",
       "      <td id=\"T_d5edc_row7_col9\" class=\"data row7 col9\" >-46</td>\n",
       "    </tr>\n",
       "    <tr>\n",
       "      <td id=\"T_d5edc_row8_col0\" class=\"data row8 col0\" >uV</td>\n",
       "      <td id=\"T_d5edc_row8_col1\" class=\"data row8 col1\" >-9</td>\n",
       "      <td id=\"T_d5edc_row8_col2\" class=\"data row8 col2\" >0</td>\n",
       "      <td id=\"T_d5edc_row8_col3\" class=\"data row8 col3\" >9</td>\n",
       "      <td id=\"T_d5edc_row8_col4\" class=\"data row8 col4\" >0</td>\n",
       "      <td id=\"T_d5edc_row8_col5\" class=\"data row8 col5\" >-17</td>\n",
       "      <td id=\"T_d5edc_row8_col6\" class=\"data row8 col6\" >-20</td>\n",
       "      <td id=\"T_d5edc_row8_col7\" class=\"data row8 col7\" >-9</td>\n",
       "      <td id=\"T_d5edc_row8_col8\" class=\"data row8 col8\" >-46</td>\n",
       "      <td id=\"T_d5edc_row8_col9\" class=\"data row8 col9\" >True</td>\n",
       "    </tr>\n",
       "  </tbody>\n",
       "</table>\n"
      ],
      "text/plain": [
       "<pandas.io.formats.style.Styler at 0x1d6989f9040>"
      ]
     },
     "execution_count": 45,
     "metadata": {},
     "output_type": "execute_result"
    }
   ],
   "source": [
    "columns_names = ['v/u']\n",
    "indexes_names = []\n",
    "columns_names+=u_x + ['U', 'vU']\n",
    "indexes_names+=u_y + ['V', 'uV']\n",
    "table3 = pd.DataFrame(columns=columns_names)\n",
    "table3['v/u'] = indexes_names\n",
    "for i in range(len(array_n)):\n",
    "    for j in range(len(array_n[i])):\n",
    "        table3.loc[i, columns_names[j+1]] = array_n[i][j]\n",
    "U_big = []\n",
    "V_big = []\n",
    "vU = []\n",
    "uV = []\n",
    "for i in range(len(array_n)):\n",
    "    u_sum = 0\n",
    "    v_sum = 0\n",
    "    for j in range(len(array_n[i])):\n",
    "        u_sum+= u_x[j] * array_n[i][j]\n",
    "        v_sum+= u_y[j] * array_n[j][i]\n",
    "    U_big.append(u_sum)\n",
    "    V_big.append(v_sum)\n",
    "    vU.append(u_y[i] * U_big[-1])\n",
    "    uV.append(u_x[i] * V_big[-1])\n",
    "    table3.loc[i, 'U'] = U_big[-1]\n",
    "    table3.loc[i, 'vU'] = vU[-1]\n",
    "    table3.loc[j+1, columns_names[i+1]] = V_big[-1]\n",
    "    table3.loc[j+2, columns_names[i+1]] = uV[-1]\n",
    "table3.loc[i+1, 'U'] = '-'\n",
    "table3.loc[i+1, 'vU'] = np.sum(vU)\n",
    "table3.loc[j+2, columns_names[i+2]] = np.sum(vU)\n",
    "table3.loc[j+2, 'vU'] = True if table3['U'][len(table3)-1] == table3['vU'][len(table3)-2] else False\n",
    "table3 = table3.style.hide()\n",
    "table3"
   ]
  },
  {
   "cell_type": "markdown",
   "metadata": {},
   "source": [
    "Контрольные суммы совпадают, условные варианты - целые числа, получили корреляционную таблицу. Значит, вычисления выполнены верно. "
   ]
  },
  {
   "cell_type": "markdown",
   "metadata": {},
   "source": [
    "### **Задание№4.** Исходя из результатов корреляционной таблицы вычислить коэффициент корреляции, сделать выводы."
   ]
  },
  {
   "cell_type": "code",
   "execution_count": 46,
   "metadata": {},
   "outputs": [
    {
     "name": "stdout",
     "output_type": "stream",
     "text": [
      "Коэффицент корреляции равен:  -0.22788089986453208\n"
     ]
    }
   ],
   "source": [
    "v_mid = 0\n",
    "u_mid = 0\n",
    "for i in range(len(u_y)):\n",
    "    v_mid += u_y[i]*n_y[i]\n",
    "    u_mid += u_x[i]*n_x[i]\n",
    "v_mid=v_mid/n\n",
    "u_mid=u_mid/n\n",
    "sko_v = 0\n",
    "sko_u = 0\n",
    "for i in range(len(u_y)):\n",
    "    sko_v += n_y[i]*(u_y[i] - v_mid)**2/n\n",
    "    sko_u += n_x[i]*(u_x[i] - u_mid)**2/n\n",
    "sko_v = math.sqrt(sko_v)\n",
    "sko_u = math.sqrt(sko_u)\n",
    "r_v = (np.sum(vU)/n - v_mid*u_mid)/(sko_v*sko_u)\n",
    "print(\"Коэффицент корреляции равен: \", r_v)"
   ]
  },
  {
   "cell_type": "markdown",
   "metadata": {},
   "source": [
    "Значение коэффициента корреляции ближе к нулю, что говорит о слабой степени взаимосвязи двух переменных между собой.  \n",
    "Также переменные отрицательно коррелированы, следовательно, увеличение значений одной переменной ведет к уменьшению значений другой. Так, высоким значениям температуры (выборка temp) будут соответствовать низкие показатели ветра (выборка wind)."
   ]
  },
  {
   "cell_type": "markdown",
   "metadata": {},
   "source": [
    "### **Задание №5.** Построить доверительный интервал для коэффициента корреляции при уровне значимости $\\gamma \\in  {0.95, 0.99}$, сделать выводы."
   ]
  },
  {
   "cell_type": "code",
   "execution_count": 47,
   "metadata": {},
   "outputs": [
    {
     "name": "stdout",
     "output_type": "stream",
     "text": [
      "Доверительный интервал при при уровне значимости 99%: ( -0.3849003884718928 ; -0.07900591553812342 )\n",
      "Доверительный интервал при при уровне значимости 95%: ( -0.36491394106919584 ; -0.09899236294082034 )\n"
     ]
    }
   ],
   "source": [
    "t_2 = 1.98 #коэффициент при уровне значимости 95%\n",
    "t_1 = 2.62 #коэффициент при уровне значимости 99%\n",
    "z = math.atanh(r_v)\n",
    "z_left = z - math.sqrt(t_1/(n-3))\n",
    "z_right = z + math.sqrt(t_1/(n-3))\n",
    "z_left_2 = z - math.sqrt(t_2/(n-3))\n",
    "z_right_2 = z + math.sqrt(t_2/(n-3))\n",
    "print(\"Доверительный интервал при при уровне значимости 99%:\" , \"(\", z_left, \";\", z_right, \")\")\n",
    "print(\"Доверительный интервал при при уровне значимости 95%:\" ,\"(\", z_left_2, \";\", z_right_2, \")\")"
   ]
  },
  {
   "cell_type": "markdown",
   "metadata": {},
   "source": [
    "При уровне значимости 99% доверительный интервал с большей вероятностью покроет искомую величину.  \n",
    "Значение коэффициента корреляции $r_v = -0.22788$ попадает в доверительные интервалы $(-0.3849, -0.079)$, $(-0.3649, -0.0989)$, значит вычисления выполнены верно. "
   ]
  },
  {
   "cell_type": "markdown",
   "metadata": {},
   "source": [
    "### **Задание №6.** Осуществить проверку статистической гипотезы о равенстве коэффициента корреляции нулю при заданном уровне значимости 𝛼 = 0.05, сделать выводы."
   ]
  },
  {
   "cell_type": "code",
   "execution_count": 48,
   "metadata": {},
   "outputs": [
    {
     "name": "stdout",
     "output_type": "stream",
     "text": [
      "Гипотеза отвергается. Коэффициент корреляции не равен нулю.\n"
     ]
    }
   ],
   "source": [
    "T_observable = r_v*math.sqrt(n-2)/math.sqrt(1-r_v**2)\n",
    "T_crit = 1.98118 #значение коэффциента Стьюдента при df=n-2=113 и уровне значимости 0.05\n",
    "if abs(T_observable) < T_crit:\n",
    "    print(\"Гипотеза о равенстве коэффициента корреляции нулю принимается.\")\n",
    "else:\n",
    "    print(\"Гипотеза отвергается. Коэффициент корреляции не равен нулю.\")\n"
   ]
  },
  {
   "cell_type": "markdown",
   "metadata": {},
   "source": [
    "Гипотеза не подтвердилась."
   ]
  },
  {
   "cell_type": "markdown",
   "metadata": {},
   "source": [
    "### **Задание №7.** Для заданной выборки построить уравнения средней квадратичной регрессии 𝑥 на 𝑦 и 𝑦 на 𝑥 соответственно. Отобразить полученные прямые на множестве выборки. Объяснить результаты."
   ]
  },
  {
   "cell_type": "code",
   "execution_count": 49,
   "metadata": {},
   "outputs": [
    {
     "data": {
      "image/png": "[encoded data removed]",
      "text/plain": [
       "<Figure size 720x576 with 1 Axes>"
      ]
     },
     "metadata": {
      "needs_background": "light"
     },
     "output_type": "display_data"
    }
   ],
   "source": [
    "mid_x=np.sum(selection_X_ranked[\"temp\"])/n\n",
    "mid_y=np.sum(selection_Y_ranked[\"wind\"])/n\n",
    "D_x = 0\n",
    "D_y = 0\n",
    "for i in range(n):\n",
    "    D_x +=(bivariate_sampling[\"temp\"][i] - mid_x)**2/n\n",
    "    D_y +=(bivariate_sampling[\"wind\"][i] - mid_y)**2/n\n",
    "sigma_x = math.sqrt(D_x)\n",
    "sigma_y = math.sqrt(D_y)\n",
    "plt.figure(figsize=(10, 8))\n",
    "plt.title(\"Уравнения средней квадратичной регрессии\")\n",
    "plt.xlabel(\"X\")\n",
    "plt.ylabel(\"Y\")\n",
    "x = np.arange(selection_X_variation[\"variation\"][0], selection_X_variation[\"variation\"][len(selection_X_variation)-1])\n",
    "plt.plot(x, r_v*sigma_y/sigma_x*(x-mid_x)+mid_y, color=\"red\")\n",
    "y = np.arange(selection_Y_variation[\"variation\"][0], selection_Y_variation[\"variation\"][len(selection_Y_variation)-1])\n",
    "plt.plot(r_v*sigma_x/sigma_y*(y-mid_y)+mid_x, y, color=\"purple\")\n",
    "plt.scatter(bivariate_sampling[\"temp\"], bivariate_sampling[\"wind\"], color=\"blue\")\n",
    "plt.show()"
   ]
  },
  {
   "cell_type": "markdown",
   "metadata": {},
   "source": [
    "### **Задание №8.** Вычислить корреляционные отношения 𝜂𝑦𝑥 и 𝜂𝑥𝑦. Убедиться, что неравенства $\\eta_yx \\geq \\mid r_v\\mid$ $\\eta_xy \\geq \\mid r_v\\mid$  выполняются. Сделать выводы."
   ]
  },
  {
   "cell_type": "code",
   "execution_count": 50,
   "metadata": {},
   "outputs": [
    {
     "name": "stdout",
     "output_type": "stream",
     "text": [
      "0.4242379544708892 0.27915819592451024\n"
     ]
    }
   ],
   "source": [
    "mid_yx = [np.sum(middles_y*array_n[i])/n_x[i] for i in range(k)] #условные средние\n",
    "mid_xy = [np.sum(middles*array_n[:,i])/n_y[i] for i in range(k)]\n",
    "sko_yx = math.sqrt(np.var(mid_yx))\n",
    "sko_xy = math.sqrt(np.var(mid_xy))\n",
    "sko_y = math.sqrt(np.var(middles_y))\n",
    "sko_x = math.sqrt(np.var(middles))\n",
    "corr_ratio_yx = sko_yx/sko_y\n",
    "corr_ratio_xy = sko_xy/sko_x\n",
    "print(corr_ratio_yx, corr_ratio_xy)"
   ]
  },
  {
   "cell_type": "markdown",
   "metadata": {},
   "source": [
    "$\\eta_{xy} = 0.27915819592451024$  \n",
    "$\\eta_{yx} = 0.4242379544708892$  \n",
    "$r_v = -0.22788089986453208$    \n",
    "Должны выполняться следующие неравенства:  \n",
    "$\\eta_yx \\geq \\mid r_v\\mid$  \n",
    "$\\eta_xy \\geq \\mid r_v\\mid$  \n",
    "$0.4242379544708892 >  \\mid -0.22788089986453208\\mid$  \n",
    "$0.27915819592451024 >  \\mid -0.22788089986453208\\mid$  \n",
    "Неравенства выполняются, $\\eta\\in[0, 1]$, вычисления выполнены верно. Ни одно из отношений не равно коэффициенту корреляции, что объясняет отсутствие точной корреляционной зависимости. \n",
    "\n"
   ]
  },
  {
   "cell_type": "markdown",
   "metadata": {},
   "source": [
    "### **Задание №9.** Для заданной выборки построить корреляционную кривую параболического вида $𝑦 = \\beta_0+\\beta_1𝑥+\\beta_2𝑥^2$. Отобразить полученную кривую на множестве выборки. Сделать выводы."
   ]
  },
  {
   "cell_type": "code",
   "execution_count": 51,
   "metadata": {},
   "outputs": [
    {
     "data": {
      "image/png": "[encoded data removed]",
      "text/plain": [
       "<Figure size 720x576 with 1 Axes>"
      ]
     },
     "metadata": {
      "needs_background": "light"
     },
     "output_type": "display_data"
    }
   ],
   "source": [
    "sum_x = np.sum(bivariate_sampling[\"temp\"])\n",
    "sum_y = np.sum(bivariate_sampling[\"wind\"])\n",
    "sum_xy = np.sum(np.array(bivariate_sampling[\"wind\"])*np.array(bivariate_sampling[\"temp\"]))\n",
    "sum_x2 = np.sum(np.array(bivariate_sampling[\"temp\"])**2)\n",
    "sum_x2y = np.sum(np.array(bivariate_sampling[\"temp\"])**2*np.array(bivariate_sampling[\"wind\"]))\n",
    "sum_x3 = np.sum(np.array(bivariate_sampling[\"temp\"])**3)\n",
    "sum_x4 = np.sum(np.array(bivariate_sampling[\"temp\"])**4)\n",
    "\n",
    "betta0 = [sum_x2, sum_x, n]\n",
    "betta1 = [sum_x3, sum_x2, sum_x]\n",
    "betta2 = [sum_x4, sum_x3, sum_x2]\n",
    "betta_all = np.linalg.solve(np.array([betta2, betta1, betta0]), np.array([sum_x2y, sum_xy, sum_y]))\n",
    "\n",
    "fig, ax = plt.subplots(figsize=(10, 8))\n",
    "plt.title(\"Корреляционная параболическая кривая\")\n",
    "ax.scatter(bivariate_sampling[\"temp\"], bivariate_sampling[\"wind\"], s=30, color=\"blue\")\n",
    "ax.plot(bivariate_sampling[\"temp\"], betta_all[0] * bivariate_sampling[\"temp\"]**2 + betta_all[1] * bivariate_sampling[\"temp\"] + betta_all[2], color=\"red\")\n",
    "\n",
    "plt.show()\n",
    "\n"
   ]
  },
  {
   "cell_type": "markdown",
   "metadata": {},
   "source": [
    "Парабола отображает общее распределение данных двумерной выборки. "
   ]
  },
  {
   "cell_type": "markdown",
   "metadata": {},
   "source": [
    "### **Задание №10.** Для заданной выборки построить нелинейные корреляционные кривые c помощью МНК:\n",
    "(3) дробно-линейная функция: $y = \\frac{1}{\\beta_0 + \\beta_1x}$\n"
   ]
  },
  {
   "cell_type": "code",
   "execution_count": 52,
   "metadata": {},
   "outputs": [
    {
     "data": {
      "image/png": "[encoded data removed]",
      "text/plain": [
       "<Figure size 720x576 with 1 Axes>"
      ]
     },
     "metadata": {
      "needs_background": "light"
     },
     "output_type": "display_data"
    }
   ],
   "source": [
    "sum_y = np.sum(1/np.array(bivariate_sampling[\"wind\"]))\n",
    "sum_xy= np.sum(1/((np.array(bivariate_sampling[\"wind\"])*np.array(bivariate_sampling[\"temp\"])))) #sum_x и sum_x2 уже посчитаны\n",
    " \n",
    "betta1 = [sum_x, sum_x2]\n",
    "betta0 = [n, sum_x]\n",
    "betta_all = np.linalg.solve(np.array([betta1, betta0]), np.array([sum_y, sum_xy]))\n",
    "fig, ax = plt.subplots(figsize=(10, 8))\n",
    "ax.scatter(bivariate_sampling[\"temp\"], bivariate_sampling[\"wind\"], s=30, color = \"blue\")\n",
    "ax.plot(bivariate_sampling[\"temp\"], 1/(betta_all[0]*bivariate_sampling[\"temp\"] + betta_all[1]), color = \"red\")\n",
    "plt.show()"
   ]
  },
  {
   "cell_type": "markdown",
   "metadata": {},
   "source": [
    "### **Задание №11.** Вычислить следующие показатели качества регрессии для каждого из четырёх уравнений и сделать выводы: \n",
    "### • теоретический коэффициент детерминации 𝑅2;   \n",
    "### • средняя квадратическая ошибка 𝑆𝜀; \n",
    "### • средняя ошибка аппроксимации (приближения) 𝐴."
   ]
  },
  {
   "cell_type": "markdown",
   "metadata": {},
   "source": [
    "Уравнение №1: средняя квадратическая регрессия х на у"
   ]
  },
  {
   "cell_type": "code",
   "execution_count": 53,
   "metadata": {},
   "outputs": [
    {
     "name": "stdout",
     "output_type": "stream",
     "text": [
      "Теоретический коэффициент детерминации: 0.04431237569702228\n",
      "Средняя квадратичная ошибка: 2.197976900204199\n",
      "Средняя ошибка аппроксимации: 0.12597920542774807\n",
      "8.0\n",
      "2.5714285773809524\n"
     ]
    }
   ],
   "source": [
    "#выразим коэффициенты k и b из уравнения регрессии\n",
    "k = r_v*sigma_y/sigma_x\n",
    "b = -r_v*sigma_y/sigma_x*mid_y + mid_y\n",
    "D_resalt_x = np.sum((k * bivariate_sampling[\"temp\"] + b - mid_y)**2/n)\n",
    "R = D_resalt_x/D_x\n",
    "E = k*bivariate_sampling[\"temp\"] + b - bivariate_sampling[\"wind\"]\n",
    "S = math.sqrt(np.sum(E**2)/(n-2))\n",
    "A = np.sum(abs(E/bivariate_sampling[\"temp\"]))/n\n",
    "print(\"Теоретический коэффициент детерминации:\", R)\n",
    "print(\"Средняя квадратичная ошибка:\", S)\n",
    "print(\"Средняя ошибка аппроксимации:\", A)\n",
    "print(sko_x)\n",
    "print(sko_y)"
   ]
  },
  {
   "cell_type": "markdown",
   "metadata": {},
   "source": [
    "$R_{x}^2 = 0.04431237569702228$.   \n",
    "$S_{\\varepsilon x} = 2.197976900204199$  \n",
    "$A_{x} = 12.58$%\n",
    "\n",
    "Полученная модель объясняет 4.4% дисперсии. \n",
    "\n",
    "Так как $S_{\\varepsilon x} < \\sigma$, использование модели регрессии является целесообразным.  \n",
    "\n",
    "$A_{x} > 7$%, что говорит о плохом качестве модели. \n",
    "\n"
   ]
  },
  {
   "cell_type": "markdown",
   "metadata": {},
   "source": [
    "Уравнение №2: средняя квадратическая регрессия у на х"
   ]
  },
  {
   "cell_type": "code",
   "execution_count": 54,
   "metadata": {},
   "outputs": [
    {
     "name": "stdout",
     "output_type": "stream",
     "text": [
      "Теоретический коэффициент детерминации:  0.4495633362456971\n",
      "Средняя квадратичная ошибка:  5.55847089565592\n",
      "Средняя ошибка аппроксимации:  1.516348721088676\n"
     ]
    }
   ],
   "source": [
    "k = r_v*sigma_x/sigma_y\n",
    "b = -r_v*sigma_x/sigma_y*mid_y + mid_x\n",
    "D_resalt_y = np.sum((k * bivariate_sampling[\"wind\"] + b - mid_x)**2/n)\n",
    "R_2 = D_resalt_y/D_y\n",
    "E_2 = k*bivariate_sampling[\"wind\"] + b - bivariate_sampling[\"temp\"]\n",
    "S_2 = math.sqrt(np.sum(E_2**2)/(n-2))\n",
    "A_2 = np.sum(abs(E_2/bivariate_sampling[\"wind\"]))/n\n",
    "print(\"Теоретический коэффициент детерминации: \", R_2)\n",
    "print(\"Средняя квадратичная ошибка: \", S_2)\n",
    "print(\"Средняя ошибка аппроксимации: \", A_2)"
   ]
  },
  {
   "cell_type": "markdown",
   "metadata": {},
   "source": [
    "$R_{x}^2 = 0.4495633362456971$.   \n",
    "$S_{\\varepsilon x} = 5.55847089565592$  \n",
    "$A_{x} = 15.16$%\n",
    "\n",
    "Полученная модель объясняет 44.9% дисперсии. \n",
    "\n",
    "Так как $S_{\\varepsilon x} < \\sigma$, использование модели регрессии является целесообразным.  \n",
    "\n",
    "$A_{x} > 7$%, что говорит о плохом качестве модели. \n",
    "\n"
   ]
  },
  {
   "cell_type": "markdown",
   "metadata": {},
   "source": [
    "Уравнение №3: $y=\\beta_0x^2+\\beta_1x+\\beta_2$. Всего 3 параметра"
   ]
  },
  {
   "cell_type": "code",
   "execution_count": 55,
   "metadata": {},
   "outputs": [
    {
     "name": "stdout",
     "output_type": "stream",
     "text": [
      "Теоретический коэффициент детерминации:  0.044627945478499874\n",
      "Средняя квадратичная ошибка:  0.5105999618821724\n",
      "Средняя ошибка аппроксимации:  0.13569116084255708\n"
     ]
    }
   ],
   "source": [
    "stack = np.vstack((bivariate_sampling[\"temp\"]**2, bivariate_sampling[\"temp\"],np.ones(n))).T\n",
    "coeffs = scipy.linalg.lstsq(stack, bivariate_sampling[\"wind\"])[0]\n",
    "\n",
    "parab_d = np.sum((coeffs[0]*bivariate_sampling[\"temp\"]**2 + coeffs[1] * bivariate_sampling[\"temp\"] + coeffs[2] - mid_y)**2/n)\n",
    "R_3 = parab_d/sigma_x\n",
    "E_3 = coeffs[0] * bivariate_sampling[\"temp\"]**2 + coeffs[1] * bivariate_sampling[\"temp\"] + coeffs[2] - mid_y\n",
    "S_3 = math.sqrt(np.sum(E_3**2)/(n-3))\n",
    "A_3 = np.sum(abs(E_3/bivariate_sampling[\"wind\"]))/n\n",
    "print(\"Теоретический коэффициент детерминации: \", R_3)\n",
    "print(\"Средняя квадратичная ошибка: \", S_3)\n",
    "print(\"Средняя ошибка аппроксимации: \", A_3)"
   ]
  },
  {
   "cell_type": "markdown",
   "metadata": {},
   "source": [
    "$R_{x}^2 = 0.044627945478499874$.   \n",
    "$S_{\\varepsilon x} = 0.5105999618821724$  \n",
    "$A_{x} = 13.57$%\n",
    "\n",
    "Полученная модель объясняет 4.5% дисперсии. \n",
    "\n",
    "Так как $S_{\\varepsilon x} < \\sigma$, использование модели регрессии является целесообразным.  \n",
    "\n",
    "$A_{x} > 7$%, что говорит о плохом качестве модели. \n"
   ]
  },
  {
   "cell_type": "markdown",
   "metadata": {},
   "source": [
    "Уравнение №4: $y = \\frac{1}{\\beta_0 + \\beta_1x}$. Всего 2 параметра. "
   ]
  },
  {
   "cell_type": "code",
   "execution_count": 56,
   "metadata": {},
   "outputs": [
    {
     "name": "stdout",
     "output_type": "stream",
     "text": [
      "Теоретический коэффициент детерминации:  0.016905654173240667\n",
      "Средняя квадратичная ошибка:  3.515424433384164\n",
      "Средняя ошибка аппроксимации:  0.217245848306613\n"
     ]
    }
   ],
   "source": [
    "def func(x, b0, b1):\n",
    "    return (1/(b1 + b0*x))\n",
    "coeffs2 = scipy.optimize.curve_fit(func, bivariate_sampling[\"temp\"], bivariate_sampling[\"wind\"])[0]\n",
    "d = np.sum((1/(coeffs2[0] * bivariate_sampling[\"temp\"] + coeffs2[1] - mid_y))**2/n)\n",
    "R_4 = d/sigma_x\n",
    "E_4 = 1/(coeffs2[0] * bivariate_sampling[\"temp\"] + coeffs2[1]) - mid_y\n",
    "S_4 = math.sqrt(np.sum(E_4**2)/(n-2))\n",
    "A_4 = np.sum(abs(E_4/bivariate_sampling[\"temp\"]))/n\n",
    "print(\"Теоретический коэффициент детерминации: \", R_4)\n",
    "print(\"Средняя квадратичная ошибка: \", S_4)\n",
    "print(\"Средняя ошибка аппроксимации: \", A_4)"
   ]
  },
  {
   "cell_type": "markdown",
   "metadata": {},
   "source": [
    "$R_{x}^2 = 0.016905654173240667$.   \n",
    "$S_{\\varepsilon x} = 3.515424433384164$  \n",
    "$A_{x} = 21.72$%\n",
    "\n",
    "Полученная модель объясняет 1.7% дисперсии. \n",
    "\n",
    "Так как $S_{\\varepsilon x} < \\sigma$, использование модели регрессии является целесообразным.  \n",
    "\n",
    "$A_{x} > 7$%, что говорит о плохом качестве модели. \n"
   ]
  },
  {
   "cell_type": "markdown",
   "metadata": {},
   "source": [
    "## Выводы"
   ]
  },
  {
   "cell_type": "markdown",
   "metadata": {},
   "source": [
    "* В ходе выполения практической работы была проведена обработка второй выборки, были определены точечные статистические оценки параметров распределения исследуемого признака. \n",
    "\n",
    "* Был построен двумерный интервальный вариационный ряд путем создания матрицы с частотами попадания пар чисел в интервал и занесения ее значений в наглядную таблицу. После подсчета сумм частот по строкам и столбцам, получили значение объема выборки. Убедились, что вычисления были выполнены верно.  \n",
    "\n",
    "* Были сформированы условные варианты и по ним построена корреляционная таблица. Контроль сумм был пройден, значит, выполнили верно.   \n",
    "\n",
    "* По результатам корреляционной таблицы был вычислен коэффициент корреляции. Сделали вывод о том, что признаки имеют слабую корреляционную связь между собой, а также выяснили, что они отрицательно коррелированы. \n",
    "\n",
    "* Построили доверительный интервал для коэффициента корреляции при более высоком уровне значимости, так как он с большей вероятностью покроет значение. Убедились, что так оно и есть. \n",
    "\n",
    "* Осуществили проверку статистической гипотезы о равенстве коэффициента корреляции нулю. Гипотеза не подтвердилась, что соответствует значению коэффициента корреляции (не нулевому). \n",
    "\n",
    "* Были построены уравнения средней квадратичной регрессии на всем множестве выборки, а так же параболические кривые. \n",
    "\n",
    "* Были вычислены корреляционные отношения. Убедились, что коэффициент корреляции не превышает по модулю их значения, в очередной раз убеждаемся в правильности вычислений. \n",
    "\n",
    "* Для всех четырех уравнений вычислили показатели качества регрессии: теоретический коэффициент детерминации, среднюю квадратическую ошибку, среднюю ошибку аппроксимации. "
   ]
  }
 ],
 "metadata": {
  "kernelspec": {
   "display_name": "Python 3.9.12 ('base')",
   "language": "python",
   "name": "python3"
  },
  "language_info": {
   "codemirror_mode": {
    "name": "ipython",
    "version": 3
   },
   "file_extension": ".py",
   "mimetype": "text/x-python",
   "name": "python",
   "nbconvert_exporter": "python",
   "pygments_lexer": "ipython3",
   "version": "3.9.12"
  },
  "orig_nbformat": 4,
  "vscode": {
   "interpreter": {
    "hash": "5f4921821889612bcd231efccfb84b92d00175fd051a5654604e2d0253aa7b76"
   }
  }
 },
 "nbformat": 4,
 "nbformat_minor": 2
}
