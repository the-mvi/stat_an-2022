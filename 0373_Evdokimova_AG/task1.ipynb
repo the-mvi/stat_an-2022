{
 "cells": [
  {
   "cell_type": "markdown",
   "id": "e375bacb",
   "metadata": {},
   "source": [
    "# Практическая работа №1: Формирование и первичная обработка выборки. Нахождение и точечных и интервальных оценок. Проверка статистических гипотез.\n",
    "Выполнила студентка гр. 0373 Евдокимова Анна. Вариант №8 \n"
   ]
  },
  {
   "cell_type": "markdown",
   "id": "cfb94134",
   "metadata": {},
   "source": [
    "## Цель работы\n",
    "Ознакомление с основными правилами формирования выборки и подготовки выборочных данных к статистическому анализу. Получение практических навыков нахождения точечных статистических оценок параметров распределения, а также вычисления интервальных статистических оценок параметров распределения выборочных данных и проверки\n",
    "«справедливости» статистических гипотез.\n",
    "\n"
   ]
  },
  {
   "cell_type": "markdown",
   "id": "b965d80b",
   "metadata": {},
   "source": [
    "## Основные теоретические положения\n",
    "Выборка — совокупность случайно отобранных объектов. Объем n\n",
    "\n",
    "Генеральная совокупность - совокупность объектов, из которых была произведена выборка. Объем N\n",
    "\n",
    "Интервальный вариационный ряд - весь промежуток измерения значений выборки $[x_{min},x_{max}]$ разбивают на частичные интервалы\n",
    "\n",
    "Формула Стерджеса для определения количества интервалов: $k=1+log_{2}n$\n",
    "\n",
    "Формула для нахождения длины интервала: $h=\\frac{R}{k}$, где R - размах выборки: $R=x_{max}-x_{min}$\n",
    "\n",
    "Ранжированный ряд - расположение единиц совокупности в порядке возрастания или убывания выбранного признака.\n",
    "\n",
    "Вариационный ряд - ранжированный в порядке возрастания или убывания ряд вариант с соответствующими им весами\n",
    "\n",
    "Варианты - элементы выборки - $x_{i}$\n",
    "\n",
    "Абсолютные частоты - это количество раз, когда каждый элемент статистического обзора встречается - $n_{i}$\n",
    "\n",
    "Относительные частоты - отношение числа испытаний, в которых событие появилось, к общему числу фактически произведенных испытаний - $p_{i}^{*}=\\frac{n_{i}}{n}$\n",
    "\n",
    "Полигон частот - ломанная линия, соединяющая точки дискретного ряда\n",
    "\n",
    "Полигон относительных частот - ломаная линия,соединяющая точки дискретного ряда $(x_{1},p_{1}^{*}),(x_{2},p_{1}^{*})... (x_{k},p_{1}^{*})$\n",
    "\n",
    "Гистограмма частот - ступенчатая фигура, состоящая из прямоугольников, основанием которых является частичные интервалы, а высоты равны $f_{i}^{*}=\\frac{n_{i}^{*}}{h}$\n",
    "\n",
    "Гистограмма относительных частот - ступенчатая фигура, состоящая из прямоугольников, основанием которых является частичные интервалы, а высоты равны $f_{i}^{*}=\\frac{p_{i}^{*}}{h}$\n",
    "\n",
    "Эмпирическая функция распределения - Функция $F^{*}(x)$, задающая для каждого значения х относительную частоту события ${X<x}$: $F^{*}(x)=\\frac{n_{x}}{n} $ где $n_{x}$ - число выборочных значений величины X, меньших x. \n",
    "\n",
    "Накопленная абсолютная частота - число наблюдений, при которых наблюдалось значение признака, меньшее $х_{i}$\n",
    "\n",
    "Накопленные относительные частоты - отношениче накопленной частоты к общему чисоу наблюдений: $p_{i}^{\\sum}= \\frac{n_{i}^{\\sum}}{n}$\n",
    "\n",
    "Условные варианты - варианты, определяемые равенством $u_{i}=\\frac{x_{i}-C}{h}$Б где С - ложный ноль, h - шаг\n",
    "\n",
    "Формула контроля: $\\sum_{i=1}^{k}n_{i}(u_{i}+1)^4=\\sum_{i=1}^{k}n_{i}u_{i}^4+4\\sum_{i=1}^{k}n_{i}u_{i}^3+6\\sum_{i=1}^{k}n_{i}u_{i}^2+4\\sum_{i=1}^{k}n_{i}u_{i}+n$\n",
    "\n",
    "Обычный эмпирический момент порядка r* - среднее значение r-ых степеней разностей $x_{i}-C$: $\\nu_{r}^{'}=\\frac{1}{n}\\sum_{i=1}^{k}n_{i}(x_{i}-C)^r$\n",
    "\n",
    "Начальный эмпирический момент порядка r - обычный момент порядка r при C=0: $\\nu_{r}=\\frac{1}{n}\\sum_{i=1}^{k}n_{i}x_{i}^{r}$\n",
    "Начальный эмпирический момент 1 порядка - выборочное среднее\n",
    "\n",
    "Центральный эмпирический момент порядка r - обычный момент r при $C=\\overline{x_{B}}$: $\\mu_{r}^{*}=\\frac{1}{n}\\sum_{i=1}^{k}n_{i}(x_{i}-\\overline{x_{B}})^r$\n",
    "\n",
    "1) $\\mu_{1}^{*}=0$\n",
    "\n",
    "2) $\\mu_{2}^{*}=(\\nu_{2}^{*}-(\\nu_{1}^{*})^2)h^2$\n",
    "\n",
    "3) $\\mu_{3}^{*}=(\\nu_{3}^{*}-3\\nu_{2}^{*}\\nu_{1}^{*}+2(\\nu_{1}^{*})^3)h^3$\n",
    "\n",
    "4) $\\mu_{4}^{*}=(\\nu_{4}^{*}-4\\nu_{3}^{*}\\nu_{1}^{*}+6\\nu_{2}^{*}(\\nu_{1}^{*})^2-3(\\nu_{1}^{*})^4)h^4$\n",
    "\n",
    "Условный эмпирический момент порядка r - начальный момент порядка r, вычисленный для условных вариант: $\\nu_{r}^{*}=\\frac{1}{n}\\sum_{i=1}^{k}n_{i}x_{i}^{r}=\\frac{1}{n}\\sum_{i=1}^{k}n_{i}(\\frac{x_{i}-C}{h})^r$\n",
    "\n",
    "Выборочное среднее - среднее арифметическое значений признака выборочной совокупности: $\\overline{x_{B}}=\\frac{1}{n}\\sum_{i=1}^{n}x_{i}=\\sum_{i=1}^{k}\\frac{x_{i}n_{i}}{n}=\\sum_{i=1}^{k}x_{i}p_{i}^{*}$\n",
    "\n",
    "Выборочная дисперсия - среднее арифметическое квадратов отклонений наблюдаемых значений признака от из средних значений $\\overline{x_{B}}$ : $\\sigma_{B}^{2}=\\frac{1}{n}\\sum_{i=1}^{n}(x_{i}-\\overline{x_{B}})^2=\\sum_{i=1}^{k}\\frac{(x_{i}-\\overline{x_{B}})^2n_{i}}{n}=\\sum_{i=1}^{k}(x_{i}-\\overline{x_{B}})^2p_{i}^{*}$\n",
    "    \n",
    "Выборочное СКО*: $\\sigma_{B}=\\sqrt{\\sigma_{B}^{2}}$\n",
    "\n",
    "Исправленная выборочная дисперсия: $s^2=\\frac{n}{n-1}\\sigma_{B}^{2}$. \n",
    "\n",
    "Исправленное СКО: $s=\\sqrt{s^2}$\n",
    "\n",
    "Коэффициент ассиметрии: $a_{s}^{*}=\\frac{\\mu_{3}^{8}}{\\sigma_{B}^{3}}$\n",
    "\n",
    "Коэффициент экцесса: $\\varepsilon_{k}^{*}=\\frac{\\mu_{4}^{*}}{\\sigma_{B}^{4}}-3$\n",
    "\n",
    "Мода вариационного ряда - такое значение варианты, которой соответствует наибольшая частота. \n",
    "\n",
    "Мода $M_{o}^{*}$ интервального ряда - число, заключённое в частичном интервале, которому соответсвует наибольшая частота. $M_{o}^{*}=x_{M_{o}}^{(0)}+h\\frac{n_{M_{o}}-n_{M_{o}-1}}{(n_{M_{o}}-n_{M_{o}-1})+(n_{M_{o}}-n_{M_{o}+1})}$, где $n_{M_{o}}$ - частота, модального интервала, $n_{M_{o}-1}$ - частота, соответствующая предыдущему интервалу, $n_{M_{o}+1}$ - частота, соответствующая следующему интервалу, $x_{M_{o}}^{(0)}$ - варианта, соответствующая среднему значению интервала наибольшей частоты\n",
    "    \n",
    "Медиана вариационного ряда - значение признака, приходящееся на середину ранжированного ряда наблюдений. \n",
    "\n",
    "Медиана $M_{e}^{*}$интервального ряд - число, принадлежащее частичному интервалу, для которого накопленная частота состовляет половину или больше половины всей суммы частот, а предыдущая накопленная частота меньше половины всей суммы частот. $M_{e}^{*}=x_{M_{e}}^{(0)}+\\frac{h}{p_{M_{e}}^{*}}(0,5 - p\\sum_{M_{e}-1})$, где $p_{M_{e}}^{*}$ - относительная частота медианного интервала, $p\\sum_{M_{e}-1}$ - накопленная относительная частота, соответствующая предыдущему частичному интервалу,  $x_{M_{e}}^{(0)}$ - варианта, соответствующая среднему значению интервала, для которого накопленная частота состовляет половину или больше половины всей суммы частот, а предыдущая накопленная частота меньше половины всей суммы частот\n",
    "\n",
    "Доверительный интервал для оценки неизвестного МО при неизвестном $\\sigma$, но известном объёме генеральной совокупности N и доверительной надёжности $\\gamma$: $(\\overline{x_{B}}-\\frac{t_{\\gamma}s}{\\sqrt{n}}\\sqrt{1-\\frac{n}{N}};\\overline{x_{B}}+\\frac{t_{\\gamma}s}{\\sqrt{n}}\\sqrt{1-\\frac{n}{N}})$\n",
    "    \n",
    "Доверительный интервал для оценки генерального СКО $\\sigma$ с заданной надёжностью:\n",
    "$s(1-q)<\\sigma<s(1+q)$, если q<1,\n",
    "$0<\\sigma<s(1+q)$, если q>1     \n",
    "\n",
    "Статистическая гипотеза - любое предположение о генеральной совокупности, проверяемое по выборке.\n",
    "\n",
    "Теоретические частоты - частоты, которые находятся по формуле $n_{i}^{'}=np_{i}$, где n - объём выборки,$p_{i}$ - точечная вероятность варианты $x_{i}$ дискретной случайной величины или интервальная вероятность для варианты $x\\in(x_{i-1};x_{i})$ непрерывной случайной величины.\n",
    "\n",
    "$\\chi_{nab}^{2}=\\sum_{i=1}^{k}\\frac{(n_{i}-n_{i}^{'})^2}{n_{i}{'}}=\\sum_{i=1}^{k}\\frac{n_{i}^{2}}{n_{i}^{'}}-n$\n",
    "\n",
    "$\\chi_{kr}^{2}=\\chi^{2}(\\alpha, df)$, где $\\alpha$ - заданный уровень значимости, $df=k-r-1$ - число степеней свободы, где k - число частичных интервалов выборки, r -  число параметров дифференциальной функции распределения.\n",
    "    "
   ]
  },
  {
   "cell_type": "markdown",
   "id": "fc6682f6",
   "metadata": {},
   "source": [
    "## Постановка задачи\n",
    "Осуществить формирование репрезентативной выборки заданного объема из имеющейся генеральной совокупности экспериментальных данных.\n",
    "Осуществить последовательное преобразование полученной выборки в\n",
    "ранжированный, вариационный и интервальный ряды. Применительно\n",
    "к интервальному ряду построить и отобразить графически полигон, гистограмму и эмпирическую функцию распределения для абсолютных и\n",
    "относительных частот. Для заданных выборочных данных вычислить с\n",
    "использованием метода моментов и условных вариант точечные статистические оценки математического ожидания, дисперсии, среднеквадратичного отклонения, асимметрии, эксцесса, моды, медианы и коэффициента вариации исследуемой случайной величины. Для заданной надёжности определить границы доверительных интервалов для матема1\n",
    "тического ожидания и среднеквадратичного отклонения случайной величины. Проверить гипотезу о нормальном распределении исследуемой\n",
    "случайной величины с помощью критерия Пирсона 𝜒\n",
    "2\n",
    ". Полученные результаты содержательно проинтерпретировать.\n"
   ]
  },
  {
   "cell_type": "markdown",
   "id": "b0aaf788",
   "metadata": {},
   "source": [
    "## Выполнение работы"
   ]
  },
  {
   "cell_type": "markdown",
   "id": "73c5dffd",
   "metadata": {},
   "source": [
    "## Задание 1\n",
    "Из генеральной совокупности сформировать выборку заданного объёма в соответствии с полученным от преподавателя номером. Указать, какого вида выборка получилась.\n"
   ]
  },
  {
   "cell_type": "code",
   "execution_count": 1,
   "id": "b36fcfeb",
   "metadata": {},
   "outputs": [
    {
     "name": "stdout",
     "output_type": "stream",
     "text": [
      "Из генеральной совкупности (прогнозирование сердечной недостаточнности) сформирована выборка двумерная с заданным объемом (101 элемент), выборка серийная. Использоваться будет один столбец выборки (Процент крови, покидающей сердце при каждом сокращении\n"
     ]
    }
   ],
   "source": [
    "import numpy as np\n",
    "import matplotlib.pyplot as plt\n",
    "from scipy.stats import laplace\n",
    "import pandas as pd\n",
    "from sympy import *\n",
    "import math\n",
    "import seaborn as sns\n",
    "\n",
    "\n",
    "\n",
    "X = [75,55,65,50,90,75,60,65,80,75,62,45,50,49,82,87,45,70,48,65,65,68,53,75,80,95,70,58,82,94,85,50,50,65,69,90,60,60,70,72,51,80,57,68,53,60,70,95,70,60,49,72,45,50,55,45,45,60,42,72,41,58,85,69,70,42,55,70,67,60,79,59,51,65,44,57,60,42,58,63,63,55,53,52,45,53,55,62,65,61,56,40,44,51,67,42,70,55,65,90,60]\n",
    "print(\"Из генеральной совкупности (прогнозирование сердечной недостаточнности) сформирована выборка двумерная с заданным объемом (101 элемент), выборка серийная. Использоваться будет один столбец выборки (Процент крови, покидающей сердце при каждом сокращении\")\n"
   ]
  },
  {
   "cell_type": "markdown",
   "id": "1893bec3",
   "metadata": {},
   "source": [
    "## Задание 2\n",
    "Последовательно преобразовать выборку в ранжированный, вариационный и интервальный ряды. Результаты содержательно проинтерпретировать.\n"
   ]
  },
  {
   "cell_type": "code",
   "execution_count": 2,
   "id": "77cfe2ba",
   "metadata": {},
   "outputs": [
    {
     "name": "stdout",
     "output_type": "stream",
     "text": [
      "Ранжированный ряд [40, 41, 42, 42, 42, 42, 44, 44, 45, 45, 45, 45, 45, 45, 48, 49, 49, 50, 50, 50, 50, 50, 51, 51, 51, 52, 53, 53, 53, 53, 55, 55, 55, 55, 55, 55, 56, 57, 57, 58, 58, 58, 59, 60, 60, 60, 60, 60, 60, 60, 60, 60, 61, 62, 62, 63, 63, 65, 65, 65, 65, 65, 65, 65, 65, 67, 67, 68, 68, 69, 69, 70, 70, 70, 70, 70, 70, 70, 70, 72, 72, 72, 75, 75, 75, 75, 79, 80, 80, 80, 82, 82, 85, 85, 87, 90, 90, 90, 94, 95, 95]\n",
      "Вариационный ряд {40: 1, 41: 1, 42: 4, 44: 2, 45: 6, 48: 1, 49: 2, 50: 5, 51: 3, 52: 1, 53: 4, 55: 6, 56: 1, 57: 2, 58: 3, 59: 1, 60: 9, 61: 1, 62: 2, 63: 2, 65: 8, 67: 2, 68: 2, 69: 2, 70: 8, 72: 3, 75: 4, 79: 1, 80: 3, 82: 2, 85: 2, 87: 1, 90: 3, 94: 1, 95: 2}\n",
      "           x_inter  n_i    x_i       p_i\n",
      "0  (39.999, 47.86]   14  43.93  0.138614\n",
      "1   (47.86, 55.72]   22  51.79  0.217822\n",
      "2   (55.72, 63.58]   21  59.65  0.207921\n",
      "3   (63.58, 71.44]   22  67.51  0.217822\n",
      "4    (71.44, 79.3]    8  75.37  0.079208\n",
      "5    (79.3, 87.16]    8  83.23  0.079208\n",
      "6    (87.16, 95.0]    6  91.08  0.059406\n"
     ]
    }
   ],
   "source": [
    "\n",
    "x_ran = sorted(X)\n",
    "print('Ранжированный ряд', x_ran)\n",
    "\n",
    "x_var = {}\n",
    "for i in x_ran:\n",
    "    if i not in x_var:\n",
    "        x_var[i] = 1\n",
    "    else:\n",
    "        x_var[i] += 1\n",
    "print(\"Вариационный ряд\", x_var)\n",
    "\n",
    "R = max(X) - min(X)\n",
    "k = round(1 + math.log2(R))\n",
    "h = round(R/k, 2)\n",
    "s = pd.Series(x_ran)\n",
    "bins = np.concatenate(( np.arange(40, 95, h), [95]))\n",
    "count = pd.cut(x_ran, bins, include_lowest = True).value_counts().rename_axis('x_inter').reset_index(name='n_i')\n",
    "g = np.array(bins)\n",
    "Y = []\n",
    "for i in range(1, len(g)):\n",
    "    Y = [g[i] - ((g[i]-g[i-1])/2) for i in range(1, len(g))]\n",
    "count['x_i'] = Y\n",
    "\n",
    "count['p_i'] = count.n_i/101\n",
    "\n",
    "\n",
    "print(count)"
   ]
  },
  {
   "cell_type": "markdown",
   "id": "cb42297b",
   "metadata": {},
   "source": [
    "## Задание 3\n",
    "Для интервального ряда абсолютных частот построить и отобразить графически полигон, гистограмму и эмпирическую функцию.\n",
    "Сделать выводы."
   ]
  },
  {
   "cell_type": "code",
   "execution_count": 3,
   "id": "170633ec",
   "metadata": {},
   "outputs": [
    {
     "name": "stderr",
     "output_type": "stream",
     "text": [
      "C:\\Users\\Admin\\anaconda3\\lib\\site-packages\\seaborn\\distributions.py:2619: FutureWarning: `distplot` is a deprecated function and will be removed in a future version. Please adapt your code to use either `displot` (a figure-level function with similar flexibility) or `histplot` (an axes-level function for histograms).\n",
      "  warnings.warn(msg, FutureWarning)\n"
     ]
    },
    {
     "data": {
      "image/png": "[encoded data removed]",
      "text/plain": [
       "<Figure size 432x288 with 1 Axes>"
      ]
     },
     "metadata": {
      "needs_background": "light"
     },
     "output_type": "display_data"
    },
    {
     "data": {
      "image/png": "[encoded data removed]",
      "text/plain": [
       "<Figure size 432x288 with 1 Axes>"
      ]
     },
     "metadata": {
      "needs_background": "light"
     },
     "output_type": "display_data"
    },
    {
     "data": {
      "image/png": "[encoded data removed]",
      "text/plain": [
       "<Figure size 432x288 with 1 Axes>"
      ]
     },
     "metadata": {
      "needs_background": "light"
     },
     "output_type": "display_data"
    }
   ],
   "source": [
    "\n",
    "sns.distplot(X, kde = False, bins = 7)\n",
    "plt.title('Гистограмма абсолютных частот')\n",
    "plt.xlabel('Интервал')\n",
    "plt.ylabel('n_i')\n",
    "plt.grid(True)\n",
    "plt.show()\n",
    "\n",
    "sns.lineplot(data = count, x='x_i', y='n_i')\n",
    "plt.title('Полигон абсолютных частот')\n",
    "plt.xlabel('x_i')\n",
    "plt.ylabel('n_i')\n",
    "plt.grid(True)\n",
    "plt.show()\n",
    "\n",
    "hist, p = np.histogram(X, bins=7)\n",
    "X = hist.cumsum()\n",
    "for i in range(len(X)):\n",
    "    plt.plot([p[i], p[i+1]],[X[i], X[i]])\n",
    "plt.title('Абсолютная Эмпирическая функция распредления')\n",
    "plt.xlabel('Интервалы')\n",
    "plt.grid(True)\n",
    "plt.show()"
   ]
  },
  {
   "cell_type": "markdown",
   "id": "4e443562",
   "metadata": {},
   "source": [
    "Вывод: по графикам нельзя судить о распределении выборки"
   ]
  },
  {
   "cell_type": "markdown",
   "id": "1398ebb9",
   "metadata": {},
   "source": [
    "## Задание 4\n",
    "Аналогичные действия выполнить для интервального ряда относительных частот. Сравнить результаты и сделать выводы.\n"
   ]
  },
  {
   "cell_type": "code",
   "execution_count": 4,
   "id": "582d2f29",
   "metadata": {
    "scrolled": true
   },
   "outputs": [
    {
     "name": "stderr",
     "output_type": "stream",
     "text": [
      "C:\\Users\\Admin\\anaconda3\\lib\\site-packages\\seaborn\\distributions.py:2619: FutureWarning: `distplot` is a deprecated function and will be removed in a future version. Please adapt your code to use either `displot` (a figure-level function with similar flexibility) or `histplot` (an axes-level function for histograms).\n",
      "  warnings.warn(msg, FutureWarning)\n"
     ]
    },
    {
     "data": {
      "image/png": "[encoded data removed]",
      "text/plain": [
       "<Figure size 432x288 with 1 Axes>"
      ]
     },
     "metadata": {
      "needs_background": "light"
     },
     "output_type": "display_data"
    },
    {
     "data": {
      "image/png": "[encoded data removed]",
      "text/plain": [
       "<Figure size 432x288 with 1 Axes>"
      ]
     },
     "metadata": {
      "needs_background": "light"
     },
     "output_type": "display_data"
    },
    {
     "data": {
      "image/png": "[encoded data removed]",
      "text/plain": [
       "<Figure size 432x288 with 1 Axes>"
      ]
     },
     "metadata": {
      "needs_background": "light"
     },
     "output_type": "display_data"
    }
   ],
   "source": [
    "\n",
    "sns.distplot(X, kde=False, norm_hist=True, bins = 7)\n",
    "plt.title('Гистограмма относительных частот')\n",
    "plt.xlabel('Интервалы')\n",
    "plt.ylabel('p_i')\n",
    "plt.grid(True)\n",
    "plt.show()\n",
    "\n",
    "sns.lineplot(data = count, x='x_i', y='p_i')\n",
    "plt.title('Полигон относительных частот')\n",
    "plt.xlabel('x_i')\n",
    "plt.ylabel('p_i')\n",
    "plt.grid(True)\n",
    "plt.show()\n",
    "\n",
    "\n",
    "\n",
    "\n",
    "\n",
    "\n",
    "\n",
    "hist, p = np.histogram(X, bins=7, weights=np.ones_like(X)/len(X))\n",
    "X = hist.cumsum()\n",
    "for i in range(len(X)):\n",
    "    plt.plot([p[i], p[i+1]],[X[i], X[i]])\n",
    "plt.title('Относительная Эмпирическая функция распред ')\n",
    "plt.xlabel('интервалы')\n",
    "plt.grid(True)\n",
    "plt.show()"
   ]
  },
  {
   "cell_type": "markdown",
   "id": "4da2e70a",
   "metadata": {},
   "source": [
    "Вывод: При сравнении графиков из 3 и 4 пунктов( для относитлельных и абсолютных частот), можно заметить, что графики практически не отличаются друг от друга. Различия лишь в том, какие значения идут по оси у."
   ]
  },
  {
   "cell_type": "markdown",
   "id": "70feda29",
   "metadata": {},
   "source": [
    "## Задание 5\n",
    "Для интервального ряда найти середины интервалов, а также накопленные частоты. Результаты представить в виде таблицы (в последней строке Σ необходимо записать сумму столбца):"
   ]
  },
  {
   "cell_type": "code",
   "execution_count": 5,
   "id": "4d35708e",
   "metadata": {},
   "outputs": [
    {
     "name": "stdout",
     "output_type": "stream",
     "text": [
      "           x_inter  n_i    x_i   p_i  n_nak  p_nak\n",
      "0  (39.999, 47.86]   14  43.93  0.14     14   0.14\n",
      "1   (47.86, 55.72]   22  51.79  0.22     36   0.36\n",
      "2   (55.72, 63.58]   21  59.65  0.21     57   0.56\n",
      "3   (63.58, 71.44]   22  67.51  0.22     79   0.78\n",
      "4    (71.44, 79.3]    8  75.37  0.08     87   0.86\n",
      "5    (79.3, 87.16]    8  83.23  0.08     95   0.94\n",
      "6    (87.16, 95.0]    6  91.08  0.06    101   1.00\n",
      "Sum:                101         1.0\n"
     ]
    }
   ],
   "source": [
    "X = [75,55,65,50,90,75,60,65,80,75,62,45,50,49,82,87,45,70,48,65,65,68,53,75,80,95,70,58,82,94,85,50,50,65,69,90,60,60,70,72,51,80,57,68,53,60,70,95,70,60,49,72,45,50,55,45,45,60,42,72,41,58,85,69,70,42,55,70,67,60,79,59,51,65,44,57,60,42,58,63,63,55,53,52,45,53,55,62,65,61,56,40,44,51,67,42,70,55,65,90,60]\n",
    "\n",
    "N = []\n",
    "n0 = count.n_i[0]\n",
    "n1 = n0 + count.n_i[1]\n",
    "n2 = n1 + count.n_i[2]\n",
    "n3 = n2 + count.n_i[3]\n",
    "n4 = n3 + count.n_i[4]\n",
    "n5 = n4 + count.n_i[5]\n",
    "n6 = n5 + count.n_i[6]\n",
    "N = [n0, n1, n2, n3, n4, n5, n6]\n",
    "count['n_nak'] = N\n",
    "P = []\n",
    "p0 = count.p_i[0]\n",
    "p1 = p0 + count.p_i[1]\n",
    "p2 = p1 + count.p_i[2]\n",
    "p3 = p2 + count.p_i[3]\n",
    "p4 = p3 + count.p_i[4]\n",
    "p5 = p4 + count.p_i[5]\n",
    "p6 = p5 + count.p_i[6]\n",
    "P = [p0, p1, p2, p3, p4, p5, p6]\n",
    "count['p_nak'] = P\n",
    "count = np.round(count, 2)\n",
    "print(count)\n",
    "print('Sum:               ', sum(count.n_i), '       ', round(p6, 2))"
   ]
  },
  {
   "cell_type": "markdown",
   "id": "8f9d20c7",
   "metadata": {},
   "source": [
    "## Задание 6\n",
    "Для полученных вариант вычислить условные варианты. Заполнить расчётную таблицу (в последней строке Σ необходимо записать сумму столбца). Проконтролировать корректность вычислений."
   ]
  },
  {
   "cell_type": "code",
   "execution_count": 6,
   "id": "441d86fd",
   "metadata": {},
   "outputs": [
    {
     "name": "stdout",
     "output_type": "stream",
     "text": [
      "     x_i  n_i  u_i    un    u2n    u3n     u4n    nu14\n",
      "0  43.93   14 -3.0 -42.0  126.0 -378.0  1134.0   224.0\n",
      "1  51.79   22 -2.0 -44.0   88.0 -176.0   352.0    22.0\n",
      "2  59.65   21 -1.0 -21.0   21.0  -21.0    21.0     0.0\n",
      "3  67.51   22  0.0   0.0    0.0    0.0     0.0    22.0\n",
      "4  75.37    8  1.0   8.0    8.0    8.0     8.0   128.0\n",
      "5  83.23    8  2.0  16.0   32.0   64.0   128.0   648.0\n",
      "6  91.08    6  3.0  18.0   54.0  162.0   486.0  1536.0\n",
      "7      -  101    - -65.0  329.0 -341.0  2129.0  2580.0\n",
      "При проверке по по вормуле контроля получилось равенство, вычисления корректны\n",
      "67.51\n"
     ]
    }
   ],
   "source": [
    "\n",
    "if (k % 2) == 0:\n",
    "    if count.n_i[k/2] > count.n_i[k/2+1]:\n",
    "        c = count.x_i[k/2]\n",
    "    else:\n",
    "        c = count.x_i[k/2+1]\n",
    "else:\n",
    "    c = count.x_i[k//2]\n",
    "count['u_i'] = np.round((count.x_i - c)/h, 1)\n",
    "count['un'] = np.round(count.u_i * count.n_i, 1)\n",
    "count['u2n'] = np.round(((count.u_i)**2) * count.n_i, 1)\n",
    "count['u3n'] = np.round(((count.u_i)**3) * count.n_i, 1)\n",
    "count['u4n'] = np.round(((count.u_i)**4) * count.n_i, 1)\n",
    "count['nu14'] = count.n_i*(count.u_i+1)**4\n",
    "v='-'\n",
    "count.loc[len(count.index)]=[v, sum(count.n_i), v, round(p6, 2), v, v, v, sum(count.un), sum(count.u2n), sum(count.u3n), sum(count.u4n), sum(count.nu14)]\n",
    "\n",
    "print(count[['x_i', 'n_i', 'u_i', 'un', 'u2n', 'u3n', 'u4n', 'nu14']])\n",
    "\n",
    "if (count.nu14[7] == count.u4n[7] + 4*count.u3n[7] + 6*count.u2n[7] + 4*count.un[7] + (len(X))):\n",
    "     print('При проверке по по вормуле контроля получилось равенство, вычисления корректны')\n",
    "else:\n",
    "    print(\"Неверно, вычисления не корректны\")\n",
    "print(c)"
   ]
  },
  {
   "cell_type": "markdown",
   "id": "c4948eaa",
   "metadata": {},
   "source": [
    "При проверке корректности вычислений по формуле контроля значения совпали. Вычисления корректны"
   ]
  },
  {
   "cell_type": "markdown",
   "id": "5eb67852",
   "metadata": {},
   "source": [
    "## Задание 7\n",
    "Вычислить условные эмпирические моменты 𝜈*i через условные варианты. С помощью условных эмпирических моментов вычислить\n",
    "центральные эмпирические моменты 𝜇*𝑖. Полученные результаты занести в таблицу"
   ]
  },
  {
   "cell_type": "code",
   "execution_count": 7,
   "id": "24accf42",
   "metadata": {},
   "outputs": [
    {
     "name": "stdout",
     "output_type": "stream",
     "text": [
      "21.07\n",
      "     v_i      m_i\n",
      "0  -0.64     0.00\n",
      "1   3.26   176.10\n",
      "2  -3.38  1143.52\n",
      "3  21.07 -1900.59\n"
     ]
    }
   ],
   "source": [
    "\n",
    "v = 0\n",
    "for i in range(7):\n",
    "    v += count.n_i[i] * ((count.x_i[i] -c)/h)\n",
    "v1 = np.round((v / len(X)), 2)\n",
    "v=0\n",
    "for i in range(7):\n",
    "    v += count.n_i[i] * (((count.x_i[i] -c)/h)**2)\n",
    "v2 = np.round(v / len(X), 2)\n",
    "v=0\n",
    "for i in range(7):\n",
    "    v += count.n_i[i] * (((count.x_i[i] -c)/h)**3)\n",
    "v3 = np.round(v / len(X), 2)\n",
    "v=0\n",
    "for i in range(7):\n",
    "    v += count.n_i[i] * (((count.x_i[i] -c)/h)**4)\n",
    "v4 = np.round(v / len(X), 2)\n",
    "print(v4)\n",
    "m1 = 0\n",
    "m2 = np.round((v2 - (v1**2)) * h**2, 2)\n",
    "m3 = np.round((v3 - 3*v2*v1 + 2*((v1)**3))*h**3, 2)\n",
    "m4 = np.round((v4 - 4*v3*v1 + 6*v2*((v1)**2))-3*((v1)**4)*h**4, 2)\n",
    "count2 = pd.DataFrame({'v_i': [v1, v2, v3, v4], 'm_i': [m1, m2, m3, m4]})\n",
    "print(count2)"
   ]
  },
  {
   "cell_type": "markdown",
   "id": "a51a4913",
   "metadata": {},
   "source": [
    "## Задание 8\n",
    "Вычислить выборочные среднее и дисперсию с помощью стандартной формулы и с помощью условных вариант. Убедиться, что результаты совпадают."
   ]
  },
  {
   "cell_type": "code",
   "execution_count": 8,
   "id": "7ce128f6",
   "metadata": {},
   "outputs": [
    {
     "name": "stdout",
     "output_type": "stream",
     "text": [
      "Выборочное среднее с помощью стандартной формулы 63.0\n",
      "Выборочное среднее с помощью условных вариант 63\n",
      "Выборочная дисперсия с помощью стандартной формулы 176.0\n",
      "Выборочная дисперсия с помощью условынх вариант 176.0\n"
     ]
    }
   ],
   "source": [
    "\n",
    "x_v_sr2 = h * v1 +c\n",
    "x_v_sr = 0\n",
    "for i  in range(7):\n",
    "    x_v_sr += count.x_i[i] * count.p_i[i]\n",
    "x_v_sr1 = np.round(x_v_sr, 0)\n",
    "print('Выборочное среднее с помощью стандартной формулы', x_v_sr1)\n",
    "print('Выборочное среднее с помощью условных вариант', math.ceil(x_v_sr2))\n",
    "d = 0\n",
    "for i in range(7):\n",
    "    d += count.n_i[i] * ((count.x_i[i]-x_v_sr2)**2)\n",
    "disp1 = np.round(d/len(X), 0)\n",
    "disp2 = np.round(m2)\n",
    "print('Выборочная дисперсия с помощью стандартной формулы', disp1)\n",
    "print('Выборочная дисперсия с помощью условынх вариант', disp2)"
   ]
  },
  {
   "cell_type": "markdown",
   "id": "ea81c0a3",
   "metadata": {},
   "source": [
    "При сравнении полученные с помощью стандартных формул и с помощью условных вариант выборочное среднее и дисперсию. Результаты совпали, вычисления корректны "
   ]
  },
  {
   "cell_type": "markdown",
   "id": "f9b56a87",
   "metadata": {},
   "source": [
    "## Задание 9\n",
    "Вычислить исправленную выборочную дисперсию и исправленное СКО. Сравнить данные оценки с смещёнными оценками дисперсии и СКО."
   ]
  },
  {
   "cell_type": "code",
   "execution_count": 9,
   "id": "25adee0b",
   "metadata": {},
   "outputs": [
    {
     "name": "stdout",
     "output_type": "stream",
     "text": [
      "Выборочное SKO: 13.27\n",
      "Исправленное ско: 13.33\n",
      "Выборочная дисперсия 176.0\n",
      "Исправленная дисперсия: 177.76\n"
     ]
    }
   ],
   "source": [
    "\n",
    "isp_disp = (len(X)/(len(X)-1))*disp2\n",
    "isp_sko = np.round(math.sqrt(isp_disp), 2)\n",
    "v_sko = np.round(math.sqrt(disp1), 2)\n",
    "print('Выборочное SKO:', v_sko)\n",
    "print('Исправленное ско:', isp_sko)\n",
    "print('Выборочная дисперсия', disp1)\n",
    "print('Исправленная дисперсия:',isp_disp)\n"
   ]
  },
  {
   "cell_type": "markdown",
   "id": "8881b832",
   "metadata": {},
   "source": [
    "Показатели выборочного ско и дисперсии практически равны показателям исправленного ско и дисперсии, т.к. выборка имеет большой объем"
   ]
  },
  {
   "cell_type": "markdown",
   "id": "bdb0bb1a",
   "metadata": {},
   "source": [
    "## Задание 10\n",
    "Найти статистическую оценку коэффициентов асимметрии и эксцесса. Сделать выводы"
   ]
  },
  {
   "cell_type": "code",
   "execution_count": 10,
   "id": "63584f0c",
   "metadata": {},
   "outputs": [
    {
     "name": "stdout",
     "output_type": "stream",
     "text": [
      "Коэффициент ассиметрии 0.489\n",
      "Коэффициент эксцесса -0.061\n"
     ]
    }
   ],
   "source": [
    "\n",
    "a_s = np.round(m3/(v_sko**3), 3)\n",
    "e_k = np.round(m4/(v_sko**4), 3)\n",
    "print('Коэффициент ассиметрии', a_s)\n",
    "print('Коэффициент эксцесса', e_k)\n"
   ]
  },
  {
   "cell_type": "markdown",
   "id": "889e32b1",
   "metadata": {},
   "source": [
    "Вывод:Коэф ассиметрии больше 0, занчит кривая распределения более полога справа. Коэф эксцесса отрицательный, значит кривая распределения плосковершинна"
   ]
  },
  {
   "cell_type": "markdown",
   "id": "9d4858f7",
   "metadata": {},
   "source": [
    "## Задание 11\n",
    "Вычислить моду, медиану и коэффициент вариации для заданного\n",
    "распределения. Сделать выводы."
   ]
  },
  {
   "cell_type": "code",
   "execution_count": 11,
   "id": "d7395b4c",
   "metadata": {},
   "outputs": [
    {
     "name": "stdout",
     "output_type": "stream",
     "text": [
      "Moda: 64.104\n",
      "Mediana: 60.96\n",
      "Кoэффициент вариации: 21.06 %\n"
     ]
    }
   ],
   "source": [
    "\n",
    "c = 0\n",
    "for i in range(6):\n",
    "    if count.n_i[i]>=c:\n",
    "        c = count.n_i[i]\n",
    "        b = i\n",
    "Moda = g[b] + h*((count.n_i[b]-count.n_i[b-1])/((count.n_i[b]-count.n_i[b-1])+(count.n_i[b]-count.n_i[b+1])))\n",
    "print(\"Moda:\", Moda)\n",
    "c = 0\n",
    "for i in range(6):\n",
    "    c += count.p_i[i]\n",
    "    if c >= ((sum(count.p_i))/4):\n",
    "        b = i\n",
    "        break\n",
    "Med = g[b] + (h/count.p_i[b])*(0.5 - count.p_nak[b-1])\n",
    "Med = round(Med, 2)\n",
    "print('Mediana:', Med)\n",
    "k_var = (math.sqrt(disp1)/abs(x_v_sr1)) *100\n",
    "k_var = np.round(k_var, 2)\n",
    "print('Кoэффициент вариации:', k_var, \"%\")"
   ]
  },
  {
   "cell_type": "markdown",
   "id": "f9d8a8e0",
   "metadata": {},
   "source": [
    "Вывод: Мода в интервальном ряду - центральное значение модального интервала (имеющего наибольшую частоту)\n",
    "По обе стороны от медианы находится одинаковое количество единиц совокупности.\n",
    "Коэффициент вариации - стандартная мера дисперсии распределения вероятностей или частотного распределения. Позволяет сравнивать вариабельность признаков, имеющих разные единицы измерения. Позволяет судить об однородности совокупности. В данном случаей он равен 21,06%, находиться в диапазоне 17-33%, значит совокупность достаточно однородная."
   ]
  },
  {
   "cell_type": "markdown",
   "id": "8f40b6e7",
   "metadata": {},
   "source": [
    "## Задание 12\n",
    "Вычислить точность и доверительный интервал для математического ожидания при неизвестном среднеквадратичном отклонении\n",
    "при заданном объёме выборки для доверительной точности 𝛾 ∈ {0.95, 0.99}. Сделать выводы."
   ]
  },
  {
   "cell_type": "code",
   "execution_count": 12,
   "id": "86cee9a4",
   "metadata": {},
   "outputs": [
    {
     "name": "stdout",
     "output_type": "stream",
     "text": [
      "Доверительный интервал для мат ожидания при надежности 0,95: (60.374; 65.626)\n",
      "Доверительный интервал для мат ожидания при надежности 0,99: (59.512; 66.488)\n"
     ]
    }
   ],
   "source": [
    "\n",
    "l1 = 0.95\n",
    "l2 = 0.99\n",
    "t_l1 = 1.98\n",
    "t_l2 = 2.63\n",
    "d_i_1_0 = np.round(x_v_sr1 - ((t_l1*isp_sko)/math.sqrt(len(X))), 3)\n",
    "d_i_1_1 = np.round(x_v_sr1 + ((t_l1*isp_sko)/math.sqrt(len(X))), 3)\n",
    "d_i_2_0 = np.round(x_v_sr1 - ((t_l2*isp_sko)/math.sqrt(len(X))), 3)\n",
    "d_i_2_1 = np.round(x_v_sr1 + ((t_l2*isp_sko)/math.sqrt(len(X))), 3)\n",
    "print('Доверительный интервал для мат ожидания при надежности 0,95: (', d_i_1_0, '; ', d_i_1_1, ')', sep=\"\")\n",
    "print('Доверительный интервал для мат ожидания при надежности 0,99: (', d_i_2_0, '; ', d_i_2_1, ')', sep=\"\")"
   ]
  },
  {
   "cell_type": "markdown",
   "id": "0854207a",
   "metadata": {},
   "source": [
    "Вывод:При заданных значениях доверительной точности найдены два доверительных интервала для мат ожидания, в которые и будет попадат значение мат ожидания"
   ]
  },
  {
   "cell_type": "markdown",
   "id": "b0f4d221",
   "metadata": {},
   "source": [
    "## Задание 13\n",
    "Для вычисления границ доверительного интервала для среднеквадратичного отклонения определить значение 𝑞 при заданных 𝛾 и 𝑛.\n",
    "Построить доверительные интервалы, сделать выводы."
   ]
  },
  {
   "cell_type": "code",
   "execution_count": 13,
   "id": "840becb5",
   "metadata": {},
   "outputs": [
    {
     "name": "stdout",
     "output_type": "stream",
     "text": [
      "Доверительный интервал для SKO при надежности 0,95: (11.424; 15.236)\n",
      "Доверительный интервал для SKO при надежности 0,99: (10.691; 15.969)\n"
     ]
    }
   ],
   "source": [
    "\n",
    "q1 = 0.143\n",
    "q2 = 0.198\n",
    "di3_0 = np.round(isp_sko*(1-q1), 3)\n",
    "di3_1 = np.round(isp_sko*(1+q1), 3)\n",
    "di4_0 = np.round(isp_sko*(1-q2), 3)\n",
    "di4_1 = np.round(isp_sko*(1+q2), 3)\n",
    "print('Доверительный интервал для SKO при надежности 0,95: (', di3_0, '; ', di3_1, ')', sep=\"\")\n",
    "print('Доверительный интервал для SKO при надежности 0,99: (', di4_0, '; ', di4_1, ')', sep=\"\")"
   ]
  },
  {
   "cell_type": "markdown",
   "id": "66234f17",
   "metadata": {},
   "source": [
    "Вывод: При заданных значениях доверительной точности найдены два доверительных интервала для ско, в которые и будет попадат значение ско"
   ]
  },
  {
   "cell_type": "markdown",
   "id": "3e54b3a6",
   "metadata": {},
   "source": [
    "## Задание 14\n",
    " Проверить гипотезу о нормальности заданного распределения с помощью критерия 𝜒2 (Пирсона). Для этого необходимо найти теоретические частоты и вычислить наблюдаемое значение критерия. Для удобства вычисления необходимо заполнить расчётную таблицу (в последней строке Σ необходимо записать сумму столбца).Проконтролировать корректность вычисления 𝜒2 набл. Далее по заданному уровню значимости 𝛼 = 0.05 и числу степеней свободы 𝑑𝑓 найти критическую точку 𝜒2крит и сравнить с наблюдаемым значением. Сделать выводы."
   ]
  },
  {
   "cell_type": "code",
   "execution_count": 14,
   "id": "c1945829",
   "metadata": {},
   "outputs": [
    {
     "name": "stdout",
     "output_type": "stream",
     "text": [
      "           x_inter    n    p_i       ni  (n-ni)**2  ((n-ni)**2/ni) n**2  \\\n",
      "0  (39.999, 47.86]   14  0.166   16.766   7.650756           0.456  196   \n",
      "1   (47.86, 55.72]   22  0.134   13.534  71.673156           5.296  484   \n",
      "2   (55.72, 63.58]   21  0.239   24.139   9.853321           0.408  441   \n",
      "3   (63.58, 71.44]   22  0.206   20.806   1.425636           0.069  484   \n",
      "4    (71.44, 79.3]    8  0.114   11.514  12.348196           1.072   64   \n",
      "5    (79.3, 87.16]    8  0.063    6.363   2.679769           0.421   64   \n",
      "6    (87.16, 95.0]    6  0.078    7.878   3.526884           0.448   36   \n",
      "7            сумма  101  1.000  101.000          -           8.170    -   \n",
      "\n",
      "   ((n)**2/ni)  \n",
      "0       11.690  \n",
      "1       35.762  \n",
      "2       18.269  \n",
      "3       23.263  \n",
      "4        5.558  \n",
      "5       10.058  \n",
      "6        4.570  \n",
      "7      109.170  \n",
      "X**2 критическое: 9.49\n",
      "Х**2 наблюдаемое: 8.17\n",
      "При Втором способе нахождения Х**2 наблюдаемое получилось =  8.17 значения совпали\n"
     ]
    }
   ],
   "source": [
    "\n",
    "s = pd.Series(x_ran)\n",
    "bins = np.concatenate(( np.arange(40, 95, h), [95]))\n",
    "tab = pd.cut(x_ran, bins, include_lowest = True).value_counts().rename_axis('x_inter').reset_index(name='n')\n",
    "g = np.array(bins)\n",
    "p_i1 = np.round(laplace.cdf((g[1]-x_v_sr2)/v_sko)-0, 3)\n",
    "p_i2 = np.round(laplace.cdf((g[2]-x_v_sr2)/v_sko)-laplace.cdf((g[1]-x_v_sr2)/v_sko), 3)\n",
    "p_i3 = np.round(laplace.cdf((g[3]-x_v_sr2)/v_sko)-laplace.cdf((g[2]-x_v_sr2)/v_sko), 3)\n",
    "p_i4 = np.round(laplace.cdf((g[4]-x_v_sr2)/v_sko)-laplace.cdf((g[3]-x_v_sr2)/v_sko), 3)\n",
    "p_i5 = np.round(laplace.cdf((g[5]-x_v_sr2)/v_sko)-laplace.cdf((g[4]-x_v_sr2)/v_sko), 3)\n",
    "p_i6 = np.round(laplace.cdf((g[6]-x_v_sr2)/v_sko)-laplace.cdf((g[5]-x_v_sr2)/v_sko), 3)\n",
    "p_i7 = np.round(1-laplace.cdf((g[6]-x_v_sr2)/v_sko), 3)\n",
    "P_i = [p_i1, p_i2, p_i3, p_i4, p_i5, p_i6, p_i7]\n",
    "tab['p_i'] = P_i\n",
    "tab['ni'] = tab['p_i'] * len(X)\n",
    "tab['(n-ni)**2'] = (tab['n'] - tab['ni'])**2\n",
    "tab['((n-ni)**2/ni)'] = tab['(n-ni)**2']/tab['ni']\n",
    "tab['n**2'] = tab['n']**2\n",
    "tab['((n)**2/ni)'] = tab['n**2']/tab['ni']\n",
    "z = '-'\n",
    "tab.loc[len(tab.index)] = ['сумма', sum(tab.n), sum(tab.p_i), sum(tab.ni), z, sum(tab['((n-ni)**2/ni)']), z, sum(tab['((n)**2/ni)'])]\n",
    "tab = np.round(tab, 3)\n",
    "print(tab)\n",
    "df = 7 - 2 - 1\n",
    "a = 0.05\n",
    "X2_kr = 9.49\n",
    "print('X**2 критическое:', X2_kr)\n",
    "print('Х**2 наблюдаемое:', tab['((n-ni)**2/ni)'][7])\n",
    "print('При Втором способе нахождения Х**2 наблюдаемое получилось = ', np.round(tab['((n)**2/ni)'][7] - 101, 2), 'значения совпали')\n",
    "\n",
    "\n",
    "\n"
   ]
  },
  {
   "cell_type": "markdown",
   "id": "408b5604",
   "metadata": {},
   "source": [
    "Вывод: Наблюдаемое Х меньше, чем критическое Х, значит мы можем принять данную гипотезу о нормальном законе"
   ]
  },
  {
   "cell_type": "markdown",
   "id": "00e373cf",
   "metadata": {},
   "source": [
    "## Выводы\n",
    "В ходе практической работы мы ознакомились с основными правилами формирования выборки и подготовки выборочных данных к статистическому анализу. Получили практические навыки нахождения точечных статистических оценок параметров распределения, а также вычисления интервальных статистических оценок параметров распределения выборочных данных и проверки «справедливости» статистических гипотез."
   ]
  },
  {
   "cell_type": "code",
   "execution_count": null,
   "id": "0f9b1edd",
   "metadata": {},
   "outputs": [],
   "source": []
  }
 ],
 "metadata": {
  "kernelspec": {
   "display_name": "Python 3 (ipykernel)",
   "language": "python",
   "name": "python3"
  },
  "language_info": {
   "codemirror_mode": {
    "name": "ipython",
    "version": 3
   },
   "file_extension": ".py",
   "mimetype": "text/x-python",
   "name": "python",
   "nbconvert_exporter": "python",
   "pygments_lexer": "ipython3",
   "version": "3.9.12"
  }
 },
 "nbformat": 4,
 "nbformat_minor": 5
}
