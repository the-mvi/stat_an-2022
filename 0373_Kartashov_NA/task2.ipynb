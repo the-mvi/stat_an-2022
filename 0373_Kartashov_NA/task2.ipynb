{
 "cells": [
  {
   "cell_type": "markdown",
   "metadata": {},
   "source": [
    "# Практическая работа №2: Корреляционный и регрессионный анализ\n",
    "Выполнил студент гр. 0373 Карташов Никита. Вариант №10."
   ]
  },
  {
   "cell_type": "markdown",
   "metadata": {},
   "source": [
    "## Цель работы\n",
    "Освоение основных понятий, связанных с корреляционной зависимостью между случайными величинами, статистическими гипотезами и проверкой их «справедливости». Ознакомление с основными положениями метода наименьших квадратов (МНК), со статистическими свойствами МНК оценок, с понятием функции регрессии и роли МНК в регрессионном анализе, с корреляционным отношением, как мерой тесноты произвольной (в том числе и линейной) корреляционной связи."
   ]
  },
  {
   "cell_type": "markdown",
   "metadata": {},
   "source": [
    "## Основные теоретические положения\n",
    "Генеральная совокупность - множество реально или гипотетически существующих объектов или явлений, из которых тем или иным способом\n",
    "формируется совокупность выборочная.    \n",
    "Выборочная совокупность - множество объектов, выбранных из генеральной совокупности.    \n",
    "Ранжированный ряд - последовательность всех элементов выборки, расположенных в неубывающем порядке.     \n",
    "Абсолютная частота - значение, показывающее, сколько раз данное значение повторяется в выборке.     \n",
    "Относительная частота - отношение абсолютной частоты значения к объёму выборки.     \n",
    "Вариационный ряд - ранжированный ряд, в котором перечислены величины и их частоты, то есть сколько раз они встречаются в выборке.   \n",
    "Интервальный ряд - вариационный ряд, который разбит на интервалы. Частотой интервала является сумма частот всех попавших в него значений.   \n",
    "Полигон частот - ломаная, которая соединяет точки дискретного ряда $((x_{1}, n_{1}), (x_{2}, n_{2}) ... (x_{k}, n_{k}))$.   \n",
    "Гистограмма частот - ступенчатая фигура, состоящая из прямоугольников, основаниями которых являются частичные интервалы, а высоты равны частотам принадлежащим этим интервалам, делённым на длину интервала.         \n",
    "\n",
    "Формула Стёрджеса:   \n",
    "$n = {1 + 3.322 \\cdot lg(N)}$ - количество групп   \n",
    "$h = \\lceil\\frac{x_{max} - x_{min}}{k}\\rceil$ - длина интервала(шаг)  \n",
    "\n",
    "Выборочное среднее - среднее арифметическое значений признака выборки   \n",
    "$\\overline{x} = \\frac{1}{n}\\sum_{i = 1}^{n}x_{i}$  \n",
    "\n",
    "Выборочная дисперсия - среднее арифметическое квадратов отклонений значений признака выборочной совокупности от их среднего значения    \n",
    "$\\sigma^{2} = \\frac{1}{n}\\sum_{i = 1}^{n}(x_{i}-\\overline{x})^{2}$  \n",
    "\n",
    "Среднекрадритичное отклонение - квадратный корень из дисперсии.   \n",
    "$\\sigma = \\sqrt{\\sigma^{2}}$    \n",
    "\n",
    "Условные варианты - варианты, определённые равенством:  \n",
    "$u_{i}=\\frac{x_{i}-C}{h}$, где C - ложный нуль(середина ряда)      \n",
    "\n",
    "Исправленная дисперсия: $s^2 = \\frac{n}{n-1}\\cdot\\sigma^2$  \n",
    "\n",
    "Мода интервального ряда — число, заключенное в частичный интервал, которому соответствует наибольшая частота:    \n",
    "$M_o^*=x^o_{M_o}+h\\frac{n_{M_o}-n_{M_o-1}}{(n_{M_o}-n_{M_o-1})+(n_{M_o}-n_{M_o+1})}$  \n",
    "\n",
    "Медиана интервального  ряда - число, принадлежащее частичному интервалу, для которого накопленная частота составляет половину всей суммы частот, а накопленная частота предыдущего интервала меньше половины всей суммы частот.  \n",
    "$M^*_e=x^o_{M_e} +\\frac{h}{p^*_{M_e}}(0.5-p^{\\sum}_{M_e-1})$  \n",
    "\n",
    "Коэффициент вариации - мера колеблемости изучаемого признака относительно выборочной средней:   \n",
    "$v^* = \\frac{\\sigma_B}{\\left|\\overline{X}_B \\right|} \\cdot 100$%  \n",
    "\n",
    "Коэффициент ассиметрии: $a_s^*=\\frac{\\mu_3^*}{\\sigma^3}$  \n",
    "Коэффициент эксцесса: $e_k^*=\\frac{\\mu_4^*}{\\sigma^4}-3$  \n",
    "\n",
    "Функциональная зависимость - каждому значению одной переменной соответствует единственное значение другой пременной.     \n",
    "Статистическая зависимость - изменение одной из величин влечет изменение распределения другой.   \n",
    "Корреляционная зависимость - изменение одной величины приводит к изменению среднего значения другой.     \n",
    "Условное среднее - среднее арифметическое значение X(Y), которое соответствует значению Y = y(X = x):         \n",
    "$\\overline{x_{y}} = \\frac{\\Sigma x_{i}n_{x_{i}y}}{\\Sigma n_{x_{i}y}}$   \n",
    "$\\overline{y_{x}} = \\frac{\\Sigma y_{i}n_{y_{i}x}}{\\Sigma n_{y_{i}x}}$   \n",
    "\n",
    "Межгрупповое среднее:   \n",
    "$\\overline{xy} = \\frac{1}{n}\\Sigma \\Sigma n_{xy}x_{i}y_{j}$\n",
    "\n",
    "Уравнения регресии:     \n",
    "$E(Y|x) = f(x), E(X|y) = \\varphi(y)$    \n",
    "\n",
    "Выборочные уравнения регресии:  \n",
    "$\\overline{y_{x}} = f^{*}(x), \\overline{x_{y}} = \\varphi^{*}(y)$    \n",
    "\n",
    "Уравнения средней квадратичной регресии:    \n",
    "$\\overline{y_{x}} - \\overline{y} = r_{yx}\\frac{\\sigma_{y}}{\\sigma_{x}}(x - \\overline{x})$   \n",
    "$\\overline{x_{y}} - \\overline{x} = r_{xy}\\frac{\\sigma_{x}}{\\sigma_{y}}(y - \\overline{y})$   \n",
    "\n",
    "Статистическая оценка коэффициента корреляции:  \n",
    "$r_{в} = \\frac{\\mu_{xy}}{s_{x}s_{y}}$   \n",
    "\n",
    "Статистическая оценка корреляционного момента:  \n",
    "$\\mu_{xy} = \\overline{xy} - \\overline{x} \\cdot \\overline{y}$\n",
    "\n",
    "Доверительный интервал для коэффициента корреляции:     \n",
    "$z = arth(r_{в})$ - преобразование Фишера   \n",
    "$(z - \\frac{t}{\\sqrt{n-3}} ; z + \\frac{t}{\\sqrt{n-3}})$ - искомый доверительный интервал      \n",
    "\n",
    "Проверка гипотезы:  \n",
    "$H_{0}: r_{в} = 0$  \n",
    "$H_{1}: r_{в} ≠ 0$      \n",
    "$T_{набл} = r_{в}\\frac{\\sqrt{n-2}}{\\sqrt{1-r_{в}^{2}}}, T_{крит} = t(\\alpha, df), df = n-2$     \n",
    "Область принятия гипотезы: $|T_{набл}| < T_{крит}$\n",
    "\n",
    "Выборочное коррреляционное отношение:   \n",
    "$\\eta_{y_{x}} = \\frac{\\sigma_{межгр}}{\\sigma_{общ}} = \\frac{\\sigma_{\\overline{y_{x}}}}{\\sigma_{y}}$     \n",
    "$\\sigma_{\\overline{y_{x}}} = \\sqrt{\\sigma_{межгр}^{2}} = \\sqrt{\\frac{\\Sigma n_{x}(\\overline{y_{x}} - \\overline{y})^{2}}{n}}$    \n",
    "\n",
    "Свойства коэффициента выборочного корреляционного отношения:\n",
    "1. $\\eta$ принадлежит $[0;1]$\n",
    "2. Если $\\eta = 0$, признак Y с признаком X не связаны корреляционной зависимостью      \n",
    "3. Если $\\eta = 1$, признак Y с признаком X связаны функциональной зависимостью     \n",
    "4.  $\\eta >= |r_{в}|$   \n",
    "5. Если $\\eta = r_{в}$, то это точная линейная корреляционная зависимость   \n",
    "\n",
    "Метод наименьших квадратов:     \n",
    "Суть этого метода заключается в минимизации СКО некоторой функции, зависящей от исходных переменных     \n",
    "$F(a_{1} ... a_{n}) = \\sigma (y_{x_{i}} - y_{i})^{2} = \\sigma (kx_{i} + b - y_{i})^{2}$ -> min   \n",
    "Необходимое условие - равенство нулю всех частных производных функции $F$.    \n",
    "\n",
    "Теоретический коэффициент детерминации - основной показатель, отражающий меру качества регрессионной модели, описывающей связь между зависимой и независимыми переменными модели:    \n",
    "$R_{y}^{2} = \\frac{(\\delta_{y}^{*})^{2}}{\\sigma_{y}}, \\delta_{y}^{*} = \\frac{1}{n}\\Sigma (y_{x_{i}} - \\overline{y})^{2}$    \n",
    "$R_{y}^{2} = 1 - \\frac{\\Sigma(y_{i} - y_{x_{i}})^{2}}{\\sigma_{y}}$  \n",
    "\n",
    "Средняя квадратичная ошибка - среднее квадратичное значение из суммы квадратов ошибок отдельных измерений. Использование модели регрессии является целесообразным, если средняя квадратичная ошибка меньше, чем СКО:    \n",
    "$S_{ey} = \\sqrt{\\frac{1}{n-l} \\sigma \\epsilon_{y}^{2}}, \\epsilon_{y}^{2} = (y_{i} - y_{x_{i}})^{2}$   \n",
    "  \n",
    "Средняя ошибка аппроксимации показывает отклонение рассчетных значений от фактических. Если она меньше 7%, модель считается моделью хорошего качества:  \n",
    "$A_{y} = \\frac{1}{n} \\Sigma |\\frac{\\epsilon_{y_{i}}}{y_{i}}| \\cdot 100$%"
   ]
  },
  {
   "cell_type": "markdown",
   "metadata": {},
   "source": [
    "## Постановка задачи.\n",
    "Из заданной генеральной совокупности сформировать выборку по второму признаку. Для системы двух случайных величин 𝑋 (первый признак) и 𝑌 (второй признак) сформировать двумерную выборку и найти статистическую оценку коэффициента корреляции, построить доверительный интервал для коэффициента корреляции и осуществить проверку статистической гипотезы о равенстве коэффициента корреляции нулю. Построить уравнения выборочных прямых среднеквадратической регрессии. Полученные линейные функции регрессии отобразить графически. Найти выборочное корреляционное отношение. Оценить адекватность моделей. Полученные результаты содержательно проинтерпретировать."
   ]
  },
  {
   "cell_type": "markdown",
   "metadata": {},
   "source": [
    "## Выполнение работы"
   ]
  },
  {
   "cell_type": "code",
   "execution_count": 81,
   "metadata": {},
   "outputs": [],
   "source": [
    "import numpy as np\n",
    "import pandas as pd\n",
    "import math\n",
    "from matplotlib import pyplot as plt\n",
    "import scipy.stats\n",
    "import scipy.linalg\n",
    "import scipy.optimize"
   ]
  },
  {
   "cell_type": "markdown",
   "metadata": {},
   "source": [
    "https://archive.ics.uci.edu/ml/datasets/Rice+%28Cammeo+and+Osmancik%29 - генеральная совокупность.\n",
    "Из генеральной совокупности была сформирована выборка заданного объёма в соответствии с полученным от преподавателя номером. Получилась механическая выборка."
   ]
  },
  {
   "cell_type": "markdown",
   "metadata": {},
   "source": [
    "### Задание 1.\n",
    "Провести статистическую обработку второй выборки в объеме практической работы №1 с целью определения точечных статистических оценок параметров распределения исследуемого признака (математического ожидания, дисперсии, среднеквадратичного отклонения, асимметрии, эксцесса, моды, медианы и коэффициента вариации). Оформить результаты в виде таблиц, сделать выводы:"
   ]
  },
  {
   "cell_type": "code",
   "execution_count": 82,
   "metadata": {},
   "outputs": [
    {
     "data": {
      "text/html": [
       "<div>\n",
       "<style scoped>\n",
       "    .dataframe tbody tr th:only-of-type {\n",
       "        vertical-align: middle;\n",
       "    }\n",
       "\n",
       "    .dataframe tbody tr th {\n",
       "        vertical-align: top;\n",
       "    }\n",
       "\n",
       "    .dataframe thead th {\n",
       "        text-align: right;\n",
       "    }\n",
       "</style>\n",
       "<table border=\"1\" class=\"dataframe\">\n",
       "  <thead>\n",
       "    <tr style=\"text-align: right;\">\n",
       "      <th></th>\n",
       "      <th>(y(i); y(i+1)]</th>\n",
       "      <th>Interval_mid</th>\n",
       "      <th>Frequency</th>\n",
       "      <th>Relative_freq</th>\n",
       "      <th>Cumulative_freq</th>\n",
       "      <th>Cumulative_rel_freq</th>\n",
       "    </tr>\n",
       "  </thead>\n",
       "  <tbody>\n",
       "    <tr>\n",
       "      <th>0</th>\n",
       "      <td>(143.0, 177.223]</td>\n",
       "      <td>160.1115</td>\n",
       "      <td>4</td>\n",
       "      <td>0.043478</td>\n",
       "      <td>4</td>\n",
       "      <td>0.043478</td>\n",
       "    </tr>\n",
       "    <tr>\n",
       "      <th>1</th>\n",
       "      <td>(177.223, 210.736]</td>\n",
       "      <td>193.9795</td>\n",
       "      <td>10</td>\n",
       "      <td>0.108696</td>\n",
       "      <td>14</td>\n",
       "      <td>0.152174</td>\n",
       "    </tr>\n",
       "    <tr>\n",
       "      <th>2</th>\n",
       "      <td>(210.736, 244.248]</td>\n",
       "      <td>227.492</td>\n",
       "      <td>28</td>\n",
       "      <td>0.304348</td>\n",
       "      <td>42</td>\n",
       "      <td>0.456522</td>\n",
       "    </tr>\n",
       "    <tr>\n",
       "      <th>3</th>\n",
       "      <td>(244.248, 277.761]</td>\n",
       "      <td>261.0045</td>\n",
       "      <td>24</td>\n",
       "      <td>0.260870</td>\n",
       "      <td>66</td>\n",
       "      <td>0.717391</td>\n",
       "    </tr>\n",
       "    <tr>\n",
       "      <th>4</th>\n",
       "      <td>(277.761, 311.273]</td>\n",
       "      <td>294.517</td>\n",
       "      <td>14</td>\n",
       "      <td>0.152174</td>\n",
       "      <td>80</td>\n",
       "      <td>0.869565</td>\n",
       "    </tr>\n",
       "    <tr>\n",
       "      <th>5</th>\n",
       "      <td>(311.273, 344.785]</td>\n",
       "      <td>328.029</td>\n",
       "      <td>10</td>\n",
       "      <td>0.108696</td>\n",
       "      <td>90</td>\n",
       "      <td>0.978261</td>\n",
       "    </tr>\n",
       "    <tr>\n",
       "      <th>6</th>\n",
       "      <td>(344.785, 378.298]</td>\n",
       "      <td>361.5415</td>\n",
       "      <td>1</td>\n",
       "      <td>0.010870</td>\n",
       "      <td>91</td>\n",
       "      <td>0.98913</td>\n",
       "    </tr>\n",
       "    <tr>\n",
       "      <th>7</th>\n",
       "      <td>(378.298, 412.0]</td>\n",
       "      <td>395.149</td>\n",
       "      <td>1</td>\n",
       "      <td>0.010870</td>\n",
       "      <td>92</td>\n",
       "      <td>1.0</td>\n",
       "    </tr>\n",
       "    <tr>\n",
       "      <th>8</th>\n",
       "      <td>Sum</td>\n",
       "      <td>-</td>\n",
       "      <td>92</td>\n",
       "      <td>1.000000</td>\n",
       "      <td>-</td>\n",
       "      <td>-</td>\n",
       "    </tr>\n",
       "  </tbody>\n",
       "</table>\n",
       "</div>"
      ],
      "text/plain": [
       "       (y(i); y(i+1)] Interval_mid  Frequency  Relative_freq Cumulative_freq  \\\n",
       "0    (143.0, 177.223]     160.1115          4       0.043478               4   \n",
       "1  (177.223, 210.736]     193.9795         10       0.108696              14   \n",
       "2  (210.736, 244.248]      227.492         28       0.304348              42   \n",
       "3  (244.248, 277.761]     261.0045         24       0.260870              66   \n",
       "4  (277.761, 311.273]      294.517         14       0.152174              80   \n",
       "5  (311.273, 344.785]      328.029         10       0.108696              90   \n",
       "6  (344.785, 378.298]     361.5415          1       0.010870              91   \n",
       "7    (378.298, 412.0]      395.149          1       0.010870              92   \n",
       "8                 Sum            -         92       1.000000               -   \n",
       "\n",
       "  Cumulative_rel_freq  \n",
       "0            0.043478  \n",
       "1            0.152174  \n",
       "2            0.456522  \n",
       "3            0.717391  \n",
       "4            0.869565  \n",
       "5            0.978261  \n",
       "6             0.98913  \n",
       "7                 1.0  \n",
       "8                   -  "
      ]
     },
     "execution_count": 82,
     "metadata": {},
     "output_type": "execute_result"
    }
   ],
   "source": [
    "full_data = pd.read_csv('data.csv', delimiter=',')\n",
    "data_frequency_y = full_data['MinorAxisLength'].value_counts().sort_index().to_frame()\n",
    "data_frequency_y.reset_index(inplace=True)\n",
    "data_frequency_y.columns = ['MinorAxisLength', 'Frequency']\n",
    "min_x = math.floor(data_frequency_y['MinorAxisLength'][0])\n",
    "max_x = math.ceil(data_frequency_y['MinorAxisLength'][len(data_frequency_y) - 1])\n",
    "group_count = math.ceil(1+3.322*math.log(len(full_data), 10))\n",
    "step = math.ceil((max_x - min_x)/group_count)\n",
    "data_interval = data_frequency_y['MinorAxisLength'].squeeze().value_counts(bins= group_count).to_frame().reset_index()\n",
    "data_interval.columns=[\"(y(i); y(i+1)]\", \"Frequency\"]\n",
    "data_interval = data_interval.sort_values(\"(y(i); y(i+1)]\").reset_index(drop=True)\n",
    "data_interval[\"(y(i); y(i+1)]\"][0] = pd.Interval(left = math.floor(data_frequency_y[\"MinorAxisLength\"][0]), right = data_interval[\"(y(i); y(i+1)]\"][0].right)\n",
    "data_interval[\"(y(i); y(i+1)]\"][len(data_interval) - 1] = pd.Interval(left = data_interval[\"(y(i); y(i+1)]\"][len(data_interval) - 1].left, right = math.ceil(data_interval[\"(y(i); y(i+1)]\"][len(data_interval) - 1].right))\n",
    "mid_of_intervals = []\n",
    "for i in range(len(data_interval)):\n",
    "    mid_of_intervals.append(data_interval[\"(y(i); y(i+1)]\"][i].mid)\n",
    "data_interval['Interval_mid'] = mid_of_intervals\n",
    "data_interval['Interval_mid'], data_interval['Frequency'] = data_interval['Frequency'], data_interval['Interval_mid']\n",
    "data_interval.columns=[\"(y(i); y(i+1)]\", \"Interval_mid\", \"Frequency\"]\n",
    "count_sum = [0]\n",
    "for i in range(len(data_interval)):\n",
    "    count_sum.append(count_sum[-1] + data_interval['Frequency'][i])\n",
    "count_sum.pop(0)\n",
    "data_interval['Relative_freq'] = data_interval['Frequency'] / count_sum[-1]\n",
    "relative_freq_sum = [0]\n",
    "for i in range(len(data_interval)):\n",
    "    relative_freq_sum.append(relative_freq_sum[-1] + data_interval['Relative_freq'][i])\n",
    "relative_freq_sum.pop(0)\n",
    "data_interval['Cumulative_freq'] = count_sum\n",
    "data_interval['Cumulative_rel_freq'] = relative_freq_sum\n",
    "data_interval.loc[len(data_interval)] = ['Sum', '-', np.sum(data_interval['Frequency']), np.sum(data_interval['Relative_freq']), '-', '-']\n",
    "data_interval"
   ]
  },
  {
   "cell_type": "code",
   "execution_count": 83,
   "metadata": {},
   "outputs": [
    {
     "data": {
      "text/html": [
       "<style type=\"text/css\">\n",
       "</style>\n",
       "<table id=\"T_dadeb\">\n",
       "  <thead>\n",
       "    <tr>\n",
       "      <th id=\"T_dadeb_level0_col0\" class=\"col_heading level0 col0\" >Характеристика</th>\n",
       "      <th id=\"T_dadeb_level0_col1\" class=\"col_heading level0 col1\" >Y_B</th>\n",
       "      <th id=\"T_dadeb_level0_col2\" class=\"col_heading level0 col2\" >sigma^2</th>\n",
       "      <th id=\"T_dadeb_level0_col3\" class=\"col_heading level0 col3\" >sigma</th>\n",
       "      <th id=\"T_dadeb_level0_col4\" class=\"col_heading level0 col4\" >s^2</th>\n",
       "      <th id=\"T_dadeb_level0_col5\" class=\"col_heading level0 col5\" >s</th>\n",
       "      <th id=\"T_dadeb_level0_col6\" class=\"col_heading level0 col6\" >a*_s</th>\n",
       "      <th id=\"T_dadeb_level0_col7\" class=\"col_heading level0 col7\" >E*_k</th>\n",
       "      <th id=\"T_dadeb_level0_col8\" class=\"col_heading level0 col8\" >M*_o</th>\n",
       "      <th id=\"T_dadeb_level0_col9\" class=\"col_heading level0 col9\" >M*_e</th>\n",
       "      <th id=\"T_dadeb_level0_col10\" class=\"col_heading level0 col10\" >V*</th>\n",
       "    </tr>\n",
       "  </thead>\n",
       "  <tbody>\n",
       "    <tr>\n",
       "      <td id=\"T_dadeb_row0_col0\" class=\"data row0 col0\" >Значение</td>\n",
       "      <td id=\"T_dadeb_row0_col1\" class=\"data row0 col1\" >253.651411</td>\n",
       "      <td id=\"T_dadeb_row0_col2\" class=\"data row0 col2\" >2255.900910</td>\n",
       "      <td id=\"T_dadeb_row0_col3\" class=\"data row0 col3\" >47.496325</td>\n",
       "      <td id=\"T_dadeb_row0_col4\" class=\"data row0 col4\" >2280.691030</td>\n",
       "      <td id=\"T_dadeb_row0_col5\" class=\"data row0 col5\" >47.756581</td>\n",
       "      <td id=\"T_dadeb_row0_col6\" class=\"data row0 col6\" >0.323245</td>\n",
       "      <td id=\"T_dadeb_row0_col7\" class=\"data row0 col7\" >-0.005690</td>\n",
       "      <td id=\"T_dadeb_row0_col8\" class=\"data row0 col8\" >238.310364</td>\n",
       "      <td id=\"T_dadeb_row0_col9\" class=\"data row0 col9\" >229.615286</td>\n",
       "      <td id=\"T_dadeb_row0_col10\" class=\"data row0 col10\" >18.014929</td>\n",
       "    </tr>\n",
       "  </tbody>\n",
       "</table>\n"
      ],
      "text/plain": [
       "<pandas.io.formats.style.Styler at 0x1d7fcf0ffd0>"
      ]
     },
     "execution_count": 83,
     "metadata": {},
     "output_type": "execute_result"
    }
   ],
   "source": [
    "characteristics_y = pd.DataFrame(columns=['Характеристика', 'Y_B', 'sigma^2', 'sigma', 's^2', 's', 'a*_s', 'E*_k', 'M*_o', 'M*_e', 'V*'])\n",
    "n = len(full_data['MinorAxisLength'])\n",
    "h = data_interval['(y(i); y(i+1)]'][group_count - 1].right - data_interval['(y(i); y(i+1)]'][group_count - 1].left\n",
    "C = (group_count - 1)/2\n",
    "C = data_interval['Interval_mid'][math.floor(C) if data_interval['Frequency'][math.floor(C)] > data_interval['Frequency'][math.ceil(C)] else math.ceil(C)]\n",
    "u_1 = []\n",
    "for i in range(group_count):\n",
    "    u_1.append(round((data_interval['Interval_mid'][i] - C)/h))\n",
    "n_u_1 = []\n",
    "n_u_2 = []\n",
    "n_u_3 = []\n",
    "n_u_4 = []\n",
    "n_u_4_1 = []\n",
    "for i in range(group_count):\n",
    "    n_u_1.append(data_interval['Frequency'][i] * u_1[i])\n",
    "    n_u_2.append(data_interval['Frequency'][i] * u_1[i]**2)\n",
    "    n_u_3.append(data_interval['Frequency'][i] * u_1[i]**3)\n",
    "    n_u_4.append(data_interval['Frequency'][i] * u_1[i]**4)\n",
    "    n_u_4_1.append(data_interval['Frequency'][i] * (u_1[i] + 1)**4)\n",
    "v_i = [np.sum(n_u_1)/count_sum[-1], np.sum(n_u_2)/count_sum[-1], np.sum(n_u_3)/count_sum[-1], np.sum(n_u_4)/count_sum[-1]]\n",
    "mu_i = [0, (v_i[1] - v_i[0]**2)*h**2, (v_i[2] - 3*v_i[1]*v_i[0] + 2*v_i[0]**3)*h**3, (v_i[3] - 4*v_i[2]*v_i[0] + 6*v_i[1]*v_i[0]**2 - 3*v_i[0]**4)*h**4]\n",
    "mid_x_standard = np.sum(full_data['MinorAxisLength'])/n\n",
    "mid_x_mu = mu_i[0]*h + C\n",
    "sigma_square_standard = 0\n",
    "for i in range(len(full_data['MinorAxisLength'])):\n",
    "    sigma_square_standard += (data_frequency_y['Frequency'][i]*(data_frequency_y['MinorAxisLength'][i] - mid_x_standard)**2)/n\n",
    "sigma = sigma_square_standard**0.5\n",
    "sigma_square_fixed = sigma_square_standard*n/(n-1)\n",
    "sigma_fixed = sigma_square_fixed**0.5\n",
    "assymetry = mu_i[2]/(mu_i[1]**(3/2))\n",
    "excess = mu_i[3]/(mu_i[1]**2) - 3\n",
    "max_frequency = data_interval['Frequency'][0]\n",
    "max_frequency_index = 0\n",
    "for i in range(1, group_count):\n",
    "    if data_interval['Frequency'][i] > max_frequency:\n",
    "        max_frequency = data_interval['Frequency'][i]\n",
    "        max_frequency_index = i\n",
    "if max_frequency_index - 1 == -1:\n",
    "    n_m0_minus = 0\n",
    "else:\n",
    "    n_m0_minus = data_interval['Frequency'][max_frequency_index-1]\n",
    "if max_frequency_index + 1 == group_count:\n",
    "    n_m0_plus = 0\n",
    "else:\n",
    "    n_m0_plus = data_interval['Frequency'][max_frequency_index+1]\n",
    "n_m0 = data_interval['Frequency'][max_frequency_index]\n",
    "mode_0 = data_interval['(y(i); y(i+1)]'][max_frequency_index].left + h*((n_m0 - n_m0_minus)/((n_m0 - n_m0_minus)+(n_m0 - n_m0_plus)))\n",
    "i = 0\n",
    "while data_interval['Cumulative_freq'][i] <= n/2:\n",
    "    i = i + 1\n",
    "i = i + 1 if i != 0 else 0\n",
    "median_0 = data_interval['(y(i); y(i+1)]'][i].left + h*(0.5 - data_interval['Cumulative_rel_freq'][i-1])/data_interval['Relative_freq'][i]\n",
    "variation_k = (mu_i[1]**0.5)*100/mid_x_mu\n",
    "characteristics_y.loc[0] = ['Значение', mid_x_standard, sigma_square_standard, sigma, sigma_square_fixed, sigma_fixed, assymetry, excess, mode_0, median_0, variation_k]\n",
    "characteristics_y = characteristics_y.style.hide(axis='index')\n",
    "characteristics_y"
   ]
  },
  {
   "cell_type": "markdown",
   "metadata": {},
   "source": [
    "Коэффициент вариации меньше 33%, следовательно, выборка однородная.     \n",
    "Дисперсия в несколько раз меньше, чем у значений по другой оси.     \n",
    "Коэффициент ассимметрии больше 0, значит чаще в распределении встречаются значения меньше среднего.     \n",
    "Коэффициент эксцесса отрицательный - распределение плосковершинное."
   ]
  },
  {
   "cell_type": "markdown",
   "metadata": {},
   "source": [
    "Для значений на оси X:"
   ]
  },
  {
   "cell_type": "code",
   "execution_count": 84,
   "metadata": {},
   "outputs": [],
   "source": [
    "data_frequency_x = full_data['MajorAxisLength'].value_counts().sort_index().to_frame()\n",
    "data_frequency_x.reset_index(inplace=True)\n",
    "data_frequency_x.columns = ['MajorAxisLength', 'Frequency']\n",
    "min_x_x = math.floor(data_frequency_x['MajorAxisLength'][0])\n",
    "max_x_x = math.ceil(data_frequency_x['MajorAxisLength'][len(data_frequency_x) - 1])\n",
    "group_count_x = math.ceil(1+3.322*math.log(len(full_data), 10))\n",
    "step_x = math.ceil((max_x_x - min_x_x)/group_count_x)\n",
    "data_interval_x = data_frequency_x['MajorAxisLength'].squeeze().value_counts(bins= group_count_x).to_frame().reset_index()\n",
    "data_interval_x.columns=[\"(x(i); x(i+1)]\", \"Frequency\"]\n",
    "i = 0\n",
    "data_interval_x = data_interval_x.sort_values(\"(x(i); x(i+1)]\").reset_index(drop=True)\n",
    "data_interval_x[\"(x(i); x(i+1)]\"][0] = pd.Interval(left = math.floor(data_frequency_x[\"MajorAxisLength\"][0]), right = data_interval_x[\"(x(i); x(i+1)]\"][0].right)\n",
    "data_interval_x[\"(x(i); x(i+1)]\"][len(data_interval_x) - 1] = pd.Interval(left = data_interval_x[\"(x(i); x(i+1)]\"][len(data_interval_x) - 1].left, right = math.ceil(data_interval_x[\"(x(i); x(i+1)]\"][len(data_interval_x) - 1].right))\n",
    "mid_of_intervals = []\n",
    "for i in range(group_count):\n",
    "    mid_of_intervals.append(data_interval_x[\"(x(i); x(i+1)]\"][i].mid)\n",
    "data_interval_x['Interval_mid'] = mid_of_intervals\n",
    "h = data_interval_x['(x(i); x(i+1)]'][len(data_interval_x) - 1].right - data_interval_x['(x(i); x(i+1)]'][len(data_interval_x) - 1].left\n",
    "C = (len(data_interval_x) - 1)/2\n",
    "C = data_interval_x['Interval_mid'][math.floor(C) if data_interval_x['Frequency'][math.floor(C)] > data_interval_x['Frequency'][math.ceil(C)] else math.ceil(C)]\n",
    "u_1_x = []\n",
    "for i in range(len(data_interval_x)):\n",
    "    u_1_x.append(round((data_interval_x['Interval_mid'][i] - C)/h))\n",
    "mid_x_standard_x = np.sum(full_data['MajorAxisLength'])/n\n",
    "sigma_square_standard_x = 0\n",
    "for i in range(n):\n",
    "    sigma_square_standard_x += (data_frequency_x['Frequency'][i]*(data_frequency_x['MajorAxisLength'][i] - mid_x_standard_x)**2)/n\n",
    "sigma_x = sigma_square_standard_x**0.5"
   ]
  },
  {
   "cell_type": "markdown",
   "metadata": {},
   "source": [
    "### Задание 2.\n",
    "Построить двумерный интервальный вариационный ряд, оформить в виде таблицы:"
   ]
  },
  {
   "cell_type": "code",
   "execution_count": 85,
   "metadata": {},
   "outputs": [],
   "source": [
    "twodimensional = full_data.sort_values(by='MajorAxisLength').reset_index(drop=True)\n",
    "j=0\n",
    "twodimensional_array = np.zeros((len(data_interval_x), len(data_interval_x)), dtype=int)\n",
    "for i in range(len(twodimensional)):\n",
    "    while twodimensional['MajorAxisLength'][i] > data_interval_x['(x(i); x(i+1)]'][j].right:\n",
    "        j+=1\n",
    "    for k in range(len(data_interval_x)):\n",
    "        if twodimensional['MinorAxisLength'][i] >= data_interval['(y(i); y(i+1)]'][k].left and twodimensional['MinorAxisLength'][i] < data_interval['(y(i); y(i+1)]'][k].right:\n",
    "            twodimensional_array[k][j]+=1\n",
    "            break"
   ]
  },
  {
   "cell_type": "code",
   "execution_count": 86,
   "metadata": {},
   "outputs": [],
   "source": [
    "sum_v = []\n",
    "sum_u = []\n",
    "for i in range(len(twodimensional_array)):\n",
    "    sum_v.append(sum(twodimensional_array[i]))\n",
    "    temp_sum = 0\n",
    "    for j in range(len(twodimensional_array[i])):\n",
    "        temp_sum+=twodimensional_array[j][i]\n",
    "    sum_u.append(temp_sum)"
   ]
  },
  {
   "cell_type": "code",
   "execution_count": 87,
   "metadata": {},
   "outputs": [
    {
     "data": {
      "text/html": [
       "<style type=\"text/css\">\n",
       "</style>\n",
       "<table id=\"T_2c217\">\n",
       "  <thead>\n",
       "    <tr>\n",
       "      <th id=\"T_2c217_level0_col0\" class=\"col_heading level0 col0\" >Y/X</th>\n",
       "      <th id=\"T_2c217_level0_col1\" class=\"col_heading level0 col1\" >(245.0; 317.627]</th>\n",
       "      <th id=\"T_2c217_level0_col2\" class=\"col_heading level0 col2\" >(317.627; 389.498]</th>\n",
       "      <th id=\"T_2c217_level0_col3\" class=\"col_heading level0 col3\" >(389.498; 461.369]</th>\n",
       "      <th id=\"T_2c217_level0_col4\" class=\"col_heading level0 col4\" >(461.369; 533.24]</th>\n",
       "      <th id=\"T_2c217_level0_col5\" class=\"col_heading level0 col5\" >(533.24; 605.111]</th>\n",
       "      <th id=\"T_2c217_level0_col6\" class=\"col_heading level0 col6\" >(605.111; 676.982]</th>\n",
       "      <th id=\"T_2c217_level0_col7\" class=\"col_heading level0 col7\" >(676.982; 748.853]</th>\n",
       "      <th id=\"T_2c217_level0_col8\" class=\"col_heading level0 col8\" >(748.853; 821.0]</th>\n",
       "      <th id=\"T_2c217_level0_col9\" class=\"col_heading level0 col9\" >n_y</th>\n",
       "    </tr>\n",
       "  </thead>\n",
       "  <tbody>\n",
       "    <tr>\n",
       "      <td id=\"T_2c217_row0_col0\" class=\"data row0 col0\" >(143.0; 177.223]</td>\n",
       "      <td id=\"T_2c217_row0_col1\" class=\"data row0 col1\" >1</td>\n",
       "      <td id=\"T_2c217_row0_col2\" class=\"data row0 col2\" >3</td>\n",
       "      <td id=\"T_2c217_row0_col3\" class=\"data row0 col3\" >0</td>\n",
       "      <td id=\"T_2c217_row0_col4\" class=\"data row0 col4\" >0</td>\n",
       "      <td id=\"T_2c217_row0_col5\" class=\"data row0 col5\" >0</td>\n",
       "      <td id=\"T_2c217_row0_col6\" class=\"data row0 col6\" >0</td>\n",
       "      <td id=\"T_2c217_row0_col7\" class=\"data row0 col7\" >0</td>\n",
       "      <td id=\"T_2c217_row0_col8\" class=\"data row0 col8\" >0</td>\n",
       "      <td id=\"T_2c217_row0_col9\" class=\"data row0 col9\" >4</td>\n",
       "    </tr>\n",
       "    <tr>\n",
       "      <td id=\"T_2c217_row1_col0\" class=\"data row1 col0\" >(177.223; 210.736]</td>\n",
       "      <td id=\"T_2c217_row1_col1\" class=\"data row1 col1\" >3</td>\n",
       "      <td id=\"T_2c217_row1_col2\" class=\"data row1 col2\" >6</td>\n",
       "      <td id=\"T_2c217_row1_col3\" class=\"data row1 col3\" >0</td>\n",
       "      <td id=\"T_2c217_row1_col4\" class=\"data row1 col4\" >1</td>\n",
       "      <td id=\"T_2c217_row1_col5\" class=\"data row1 col5\" >0</td>\n",
       "      <td id=\"T_2c217_row1_col6\" class=\"data row1 col6\" >0</td>\n",
       "      <td id=\"T_2c217_row1_col7\" class=\"data row1 col7\" >0</td>\n",
       "      <td id=\"T_2c217_row1_col8\" class=\"data row1 col8\" >0</td>\n",
       "      <td id=\"T_2c217_row1_col9\" class=\"data row1 col9\" >10</td>\n",
       "    </tr>\n",
       "    <tr>\n",
       "      <td id=\"T_2c217_row2_col0\" class=\"data row2 col0\" >(210.736; 244.248]</td>\n",
       "      <td id=\"T_2c217_row2_col1\" class=\"data row2 col1\" >8</td>\n",
       "      <td id=\"T_2c217_row2_col2\" class=\"data row2 col2\" >10</td>\n",
       "      <td id=\"T_2c217_row2_col3\" class=\"data row2 col3\" >7</td>\n",
       "      <td id=\"T_2c217_row2_col4\" class=\"data row2 col4\" >3</td>\n",
       "      <td id=\"T_2c217_row2_col5\" class=\"data row2 col5\" >0</td>\n",
       "      <td id=\"T_2c217_row2_col6\" class=\"data row2 col6\" >0</td>\n",
       "      <td id=\"T_2c217_row2_col7\" class=\"data row2 col7\" >0</td>\n",
       "      <td id=\"T_2c217_row2_col8\" class=\"data row2 col8\" >0</td>\n",
       "      <td id=\"T_2c217_row2_col9\" class=\"data row2 col9\" >28</td>\n",
       "    </tr>\n",
       "    <tr>\n",
       "      <td id=\"T_2c217_row3_col0\" class=\"data row3 col0\" >(244.248; 277.761]</td>\n",
       "      <td id=\"T_2c217_row3_col1\" class=\"data row3 col1\" >0</td>\n",
       "      <td id=\"T_2c217_row3_col2\" class=\"data row3 col2\" >5</td>\n",
       "      <td id=\"T_2c217_row3_col3\" class=\"data row3 col3\" >12</td>\n",
       "      <td id=\"T_2c217_row3_col4\" class=\"data row3 col4\" >4</td>\n",
       "      <td id=\"T_2c217_row3_col5\" class=\"data row3 col5\" >2</td>\n",
       "      <td id=\"T_2c217_row3_col6\" class=\"data row3 col6\" >1</td>\n",
       "      <td id=\"T_2c217_row3_col7\" class=\"data row3 col7\" >0</td>\n",
       "      <td id=\"T_2c217_row3_col8\" class=\"data row3 col8\" >0</td>\n",
       "      <td id=\"T_2c217_row3_col9\" class=\"data row3 col9\" >24</td>\n",
       "    </tr>\n",
       "    <tr>\n",
       "      <td id=\"T_2c217_row4_col0\" class=\"data row4 col0\" >(277.761; 311.273]</td>\n",
       "      <td id=\"T_2c217_row4_col1\" class=\"data row4 col1\" >0</td>\n",
       "      <td id=\"T_2c217_row4_col2\" class=\"data row4 col2\" >2</td>\n",
       "      <td id=\"T_2c217_row4_col3\" class=\"data row4 col3\" >2</td>\n",
       "      <td id=\"T_2c217_row4_col4\" class=\"data row4 col4\" >7</td>\n",
       "      <td id=\"T_2c217_row4_col5\" class=\"data row4 col5\" >1</td>\n",
       "      <td id=\"T_2c217_row4_col6\" class=\"data row4 col6\" >1</td>\n",
       "      <td id=\"T_2c217_row4_col7\" class=\"data row4 col7\" >1</td>\n",
       "      <td id=\"T_2c217_row4_col8\" class=\"data row4 col8\" >0</td>\n",
       "      <td id=\"T_2c217_row4_col9\" class=\"data row4 col9\" >14</td>\n",
       "    </tr>\n",
       "    <tr>\n",
       "      <td id=\"T_2c217_row5_col0\" class=\"data row5 col0\" >(311.273; 344.785]</td>\n",
       "      <td id=\"T_2c217_row5_col1\" class=\"data row5 col1\" >0</td>\n",
       "      <td id=\"T_2c217_row5_col2\" class=\"data row5 col2\" >1</td>\n",
       "      <td id=\"T_2c217_row5_col3\" class=\"data row5 col3\" >0</td>\n",
       "      <td id=\"T_2c217_row5_col4\" class=\"data row5 col4\" >4</td>\n",
       "      <td id=\"T_2c217_row5_col5\" class=\"data row5 col5\" >2</td>\n",
       "      <td id=\"T_2c217_row5_col6\" class=\"data row5 col6\" >2</td>\n",
       "      <td id=\"T_2c217_row5_col7\" class=\"data row5 col7\" >1</td>\n",
       "      <td id=\"T_2c217_row5_col8\" class=\"data row5 col8\" >0</td>\n",
       "      <td id=\"T_2c217_row5_col9\" class=\"data row5 col9\" >10</td>\n",
       "    </tr>\n",
       "    <tr>\n",
       "      <td id=\"T_2c217_row6_col0\" class=\"data row6 col0\" >(344.785; 378.298]</td>\n",
       "      <td id=\"T_2c217_row6_col1\" class=\"data row6 col1\" >0</td>\n",
       "      <td id=\"T_2c217_row6_col2\" class=\"data row6 col2\" >0</td>\n",
       "      <td id=\"T_2c217_row6_col3\" class=\"data row6 col3\" >0</td>\n",
       "      <td id=\"T_2c217_row6_col4\" class=\"data row6 col4\" >0</td>\n",
       "      <td id=\"T_2c217_row6_col5\" class=\"data row6 col5\" >0</td>\n",
       "      <td id=\"T_2c217_row6_col6\" class=\"data row6 col6\" >0</td>\n",
       "      <td id=\"T_2c217_row6_col7\" class=\"data row6 col7\" >0</td>\n",
       "      <td id=\"T_2c217_row6_col8\" class=\"data row6 col8\" >1</td>\n",
       "      <td id=\"T_2c217_row6_col9\" class=\"data row6 col9\" >1</td>\n",
       "    </tr>\n",
       "    <tr>\n",
       "      <td id=\"T_2c217_row7_col0\" class=\"data row7 col0\" >(378.298; 412.0]</td>\n",
       "      <td id=\"T_2c217_row7_col1\" class=\"data row7 col1\" >0</td>\n",
       "      <td id=\"T_2c217_row7_col2\" class=\"data row7 col2\" >0</td>\n",
       "      <td id=\"T_2c217_row7_col3\" class=\"data row7 col3\" >0</td>\n",
       "      <td id=\"T_2c217_row7_col4\" class=\"data row7 col4\" >0</td>\n",
       "      <td id=\"T_2c217_row7_col5\" class=\"data row7 col5\" >0</td>\n",
       "      <td id=\"T_2c217_row7_col6\" class=\"data row7 col6\" >0</td>\n",
       "      <td id=\"T_2c217_row7_col7\" class=\"data row7 col7\" >1</td>\n",
       "      <td id=\"T_2c217_row7_col8\" class=\"data row7 col8\" >0</td>\n",
       "      <td id=\"T_2c217_row7_col9\" class=\"data row7 col9\" >1</td>\n",
       "    </tr>\n",
       "    <tr>\n",
       "      <td id=\"T_2c217_row8_col0\" class=\"data row8 col0\" >n_x</td>\n",
       "      <td id=\"T_2c217_row8_col1\" class=\"data row8 col1\" >12</td>\n",
       "      <td id=\"T_2c217_row8_col2\" class=\"data row8 col2\" >27</td>\n",
       "      <td id=\"T_2c217_row8_col3\" class=\"data row8 col3\" >21</td>\n",
       "      <td id=\"T_2c217_row8_col4\" class=\"data row8 col4\" >19</td>\n",
       "      <td id=\"T_2c217_row8_col5\" class=\"data row8 col5\" >5</td>\n",
       "      <td id=\"T_2c217_row8_col6\" class=\"data row8 col6\" >4</td>\n",
       "      <td id=\"T_2c217_row8_col7\" class=\"data row8 col7\" >3</td>\n",
       "      <td id=\"T_2c217_row8_col8\" class=\"data row8 col8\" >1</td>\n",
       "      <td id=\"T_2c217_row8_col9\" class=\"data row8 col9\" >92</td>\n",
       "    </tr>\n",
       "  </tbody>\n",
       "</table>\n"
      ],
      "text/plain": [
       "<pandas.io.formats.style.Styler at 0x1d7fd0f8dc0>"
      ]
     },
     "execution_count": 87,
     "metadata": {},
     "output_type": "execute_result"
    }
   ],
   "source": [
    "columns_names = ['Y/X']\n",
    "indexes_names = []\n",
    "for i in range(len(data_interval_x['(x(i); x(i+1)]'])):\n",
    "    columns_names.append(f\"({data_interval_x['(x(i); x(i+1)]'][i].left}; {data_interval_x['(x(i); x(i+1)]'][i].right}]\")\n",
    "    indexes_names.append(f\"({data_interval['(y(i); y(i+1)]'][i].left}; {data_interval['(y(i); y(i+1)]'][i].right}]\")\n",
    "double_table = pd.DataFrame(columns=columns_names)\n",
    "double_table['Y/X'] = indexes_names\n",
    "for i in range(len(twodimensional_array)):\n",
    "    for j in range(len(twodimensional_array[i])):\n",
    "        double_table.loc[i][j+1] = twodimensional_array[i][j]\n",
    "n_sum_x = [sum(twodimensional_array[:,i]) for i in range(len(twodimensional_array))]\n",
    "n_sum_y = [sum(twodimensional_array[i]) for i in range(len(twodimensional_array))]\n",
    "double_table['n_y'] = n_sum_y\n",
    "double_table.loc[len(double_table)] = ['n_x', *n_sum_x, sum(n_sum_y) if sum(n_sum_y) == sum(n_sum_x) else False]\n",
    "double_table = double_table.style.hide(axis='index')\n",
    "double_table"
   ]
  },
  {
   "cell_type": "markdown",
   "metadata": {},
   "source": [
    "Частота сошлась и совпадает с длиной выборки - значит данные утеряны не были."
   ]
  },
  {
   "cell_type": "markdown",
   "metadata": {},
   "source": [
    "### Задание 3.\n",
    "По полученному двумерному интервальному вариационному ряду сформировать условные варианты и по полученным условным вариантам построить корреляционную таблицу, сделать выводы:"
   ]
  },
  {
   "cell_type": "code",
   "execution_count": 88,
   "metadata": {},
   "outputs": [
    {
     "data": {
      "text/html": [
       "<div>\n",
       "<style scoped>\n",
       "    .dataframe tbody tr th:only-of-type {\n",
       "        vertical-align: middle;\n",
       "    }\n",
       "\n",
       "    .dataframe tbody tr th {\n",
       "        vertical-align: top;\n",
       "    }\n",
       "\n",
       "    .dataframe thead th {\n",
       "        text-align: right;\n",
       "    }\n",
       "</style>\n",
       "<table border=\"1\" class=\"dataframe\">\n",
       "  <thead>\n",
       "    <tr style=\"text-align: right;\">\n",
       "      <th></th>\n",
       "      <th>v/u</th>\n",
       "      <th>-3</th>\n",
       "      <th>-2</th>\n",
       "      <th>-1</th>\n",
       "      <th>0</th>\n",
       "      <th>1</th>\n",
       "      <th>2</th>\n",
       "      <th>3</th>\n",
       "      <th>4</th>\n",
       "      <th>U</th>\n",
       "      <th>vU</th>\n",
       "    </tr>\n",
       "  </thead>\n",
       "  <tbody>\n",
       "    <tr>\n",
       "      <th>0</th>\n",
       "      <td>-3</td>\n",
       "      <td>1</td>\n",
       "      <td>3</td>\n",
       "      <td>0</td>\n",
       "      <td>0</td>\n",
       "      <td>0</td>\n",
       "      <td>0</td>\n",
       "      <td>0</td>\n",
       "      <td>0</td>\n",
       "      <td>-9</td>\n",
       "      <td>27</td>\n",
       "    </tr>\n",
       "    <tr>\n",
       "      <th>1</th>\n",
       "      <td>-2</td>\n",
       "      <td>3</td>\n",
       "      <td>6</td>\n",
       "      <td>0</td>\n",
       "      <td>1</td>\n",
       "      <td>0</td>\n",
       "      <td>0</td>\n",
       "      <td>0</td>\n",
       "      <td>0</td>\n",
       "      <td>-21</td>\n",
       "      <td>42</td>\n",
       "    </tr>\n",
       "    <tr>\n",
       "      <th>2</th>\n",
       "      <td>-1</td>\n",
       "      <td>8</td>\n",
       "      <td>10</td>\n",
       "      <td>7</td>\n",
       "      <td>3</td>\n",
       "      <td>0</td>\n",
       "      <td>0</td>\n",
       "      <td>0</td>\n",
       "      <td>0</td>\n",
       "      <td>-51</td>\n",
       "      <td>51</td>\n",
       "    </tr>\n",
       "    <tr>\n",
       "      <th>3</th>\n",
       "      <td>0</td>\n",
       "      <td>0</td>\n",
       "      <td>5</td>\n",
       "      <td>12</td>\n",
       "      <td>4</td>\n",
       "      <td>2</td>\n",
       "      <td>1</td>\n",
       "      <td>0</td>\n",
       "      <td>0</td>\n",
       "      <td>-18</td>\n",
       "      <td>0</td>\n",
       "    </tr>\n",
       "    <tr>\n",
       "      <th>4</th>\n",
       "      <td>1</td>\n",
       "      <td>0</td>\n",
       "      <td>2</td>\n",
       "      <td>2</td>\n",
       "      <td>7</td>\n",
       "      <td>1</td>\n",
       "      <td>1</td>\n",
       "      <td>1</td>\n",
       "      <td>0</td>\n",
       "      <td>0</td>\n",
       "      <td>0</td>\n",
       "    </tr>\n",
       "    <tr>\n",
       "      <th>5</th>\n",
       "      <td>2</td>\n",
       "      <td>0</td>\n",
       "      <td>1</td>\n",
       "      <td>0</td>\n",
       "      <td>4</td>\n",
       "      <td>2</td>\n",
       "      <td>2</td>\n",
       "      <td>1</td>\n",
       "      <td>0</td>\n",
       "      <td>7</td>\n",
       "      <td>14</td>\n",
       "    </tr>\n",
       "    <tr>\n",
       "      <th>6</th>\n",
       "      <td>3</td>\n",
       "      <td>0</td>\n",
       "      <td>0</td>\n",
       "      <td>0</td>\n",
       "      <td>0</td>\n",
       "      <td>0</td>\n",
       "      <td>0</td>\n",
       "      <td>0</td>\n",
       "      <td>1</td>\n",
       "      <td>4</td>\n",
       "      <td>12</td>\n",
       "    </tr>\n",
       "    <tr>\n",
       "      <th>7</th>\n",
       "      <td>4</td>\n",
       "      <td>0</td>\n",
       "      <td>0</td>\n",
       "      <td>0</td>\n",
       "      <td>0</td>\n",
       "      <td>0</td>\n",
       "      <td>0</td>\n",
       "      <td>1</td>\n",
       "      <td>0</td>\n",
       "      <td>3</td>\n",
       "      <td>12</td>\n",
       "    </tr>\n",
       "    <tr>\n",
       "      <th>8</th>\n",
       "      <td>V</td>\n",
       "      <td>-17</td>\n",
       "      <td>-27</td>\n",
       "      <td>-5</td>\n",
       "      <td>10</td>\n",
       "      <td>5</td>\n",
       "      <td>5</td>\n",
       "      <td>7</td>\n",
       "      <td>3</td>\n",
       "      <td>-</td>\n",
       "      <td>158</td>\n",
       "    </tr>\n",
       "    <tr>\n",
       "      <th>9</th>\n",
       "      <td>uV</td>\n",
       "      <td>51</td>\n",
       "      <td>54</td>\n",
       "      <td>5</td>\n",
       "      <td>0</td>\n",
       "      <td>5</td>\n",
       "      <td>10</td>\n",
       "      <td>21</td>\n",
       "      <td>12</td>\n",
       "      <td>158</td>\n",
       "      <td>True</td>\n",
       "    </tr>\n",
       "  </tbody>\n",
       "</table>\n",
       "</div>"
      ],
      "text/plain": [
       "  v/u   -3   -2  -1   0  1   2   3   4    U    vU\n",
       "0  -3    1    3   0   0  0   0   0   0   -9    27\n",
       "1  -2    3    6   0   1  0   0   0   0  -21    42\n",
       "2  -1    8   10   7   3  0   0   0   0  -51    51\n",
       "3   0    0    5  12   4  2   1   0   0  -18     0\n",
       "4   1    0    2   2   7  1   1   1   0    0     0\n",
       "5   2    0    1   0   4  2   2   1   0    7    14\n",
       "6   3    0    0   0   0  0   0   0   1    4    12\n",
       "7   4    0    0   0   0  0   0   1   0    3    12\n",
       "8   V  -17  -27  -5  10  5   5   7   3    -   158\n",
       "9  uV   51   54   5   0  5  10  21  12  158  True"
      ]
     },
     "execution_count": 88,
     "metadata": {},
     "output_type": "execute_result"
    }
   ],
   "source": [
    "columns_names = ['v/u']\n",
    "indexes_names = []\n",
    "columns_names+=u_1_x + ['U', 'vU']\n",
    "indexes_names+=u_1 + ['V', 'uV']\n",
    "table_3 = pd.DataFrame(columns=columns_names)\n",
    "table_3['v/u'] = indexes_names\n",
    "for i in range(len(twodimensional_array)):\n",
    "    for j in range(len(twodimensional_array[i])):\n",
    "        table_3.loc[i, columns_names[j+1]] = twodimensional_array[i][j]\n",
    "U_big = []\n",
    "V_big = []\n",
    "vU = []\n",
    "uV = []\n",
    "for i in range(len(twodimensional_array)):\n",
    "    u_sum = 0\n",
    "    v_sum = 0\n",
    "    for j in range(len(twodimensional_array[i])):\n",
    "        u_sum+= u_1_x[j] * twodimensional_array[i][j]\n",
    "        v_sum+= u_1[j] * twodimensional_array[j][i]\n",
    "    U_big.append(u_sum)\n",
    "    V_big.append(v_sum)\n",
    "    vU.append(u_1[i] * U_big[-1])\n",
    "    uV.append(u_1_x[i] * V_big[-1])\n",
    "    table_3.loc[i, 'U'] = U_big[-1]\n",
    "    table_3.loc[i, 'vU'] = vU[-1]\n",
    "    table_3.loc[j+1, columns_names[i+1]] = V_big[-1]\n",
    "    table_3.loc[j+2, columns_names[i+1]] = uV[-1]\n",
    "table_3.loc[i+1, 'U'] = '-'\n",
    "table_3.loc[i+1, 'vU'] = np.sum(vU)\n",
    "table_3.loc[j+2, columns_names[i+2]] = np.sum(vU)\n",
    "table_3.loc[j+2, 'vU'] = True if table_3['U'][len(table_3)-1] == table_3['vU'][len(table_3)-2] else False\n",
    "table_3"
   ]
  },
  {
   "cell_type": "markdown",
   "metadata": {},
   "source": [
    "В результате построения корреляционной таблицы итоговые данные по осям X и Y совпали - это свидетельствует о верности вычислений. "
   ]
  },
  {
   "cell_type": "markdown",
   "metadata": {},
   "source": [
    "### Задание 4.\n",
    "Исходя из результатов корреляционной таблицы вычислить коэффициент корреляции, сделать выводы:"
   ]
  },
  {
   "cell_type": "code",
   "execution_count": 89,
   "metadata": {},
   "outputs": [
    {
     "name": "stdout",
     "output_type": "stream",
     "text": [
      "Коэффициент корреляции: 0.7036493973850408\n"
     ]
    }
   ],
   "source": [
    "v_mid = 0\n",
    "u_mid = 0\n",
    "for i in range(len(u_1)):\n",
    "    v_mid += u_1[i]*sum_v[i]/n\n",
    "    u_mid += u_1_x[i]*sum_u[i]/n\n",
    "sko_v = 0\n",
    "sko_u = 0\n",
    "for i in range(len(u_1)):\n",
    "    sko_v += (u_1[i] - v_mid)**2*sum_v[i]/n\n",
    "    sko_u += (u_1_x[i] - u_mid)**2*sum_u[i]/n\n",
    "sko_v = sko_v**0.5\n",
    "sko_u = sko_u**0.5\n",
    "rv = (sum(vU)/n - v_mid*u_mid)/(sko_v*sko_u)\n",
    "print(f'Коэффициент корреляции: {rv}')"
   ]
  },
  {
   "cell_type": "markdown",
   "metadata": {},
   "source": [
    "Коэффициент корреляции по модулю меньше единицы, что соответствует свойствам коэффициента корреляции.   \n",
    "Знак коэффициента корреляции положительный. Следовательно, при увеличении одной из переменных возрастает и другая."
   ]
  },
  {
   "cell_type": "markdown",
   "metadata": {},
   "source": [
    "### Задание 5.\n",
    "Построить доверительный интервал для коэффициента корреляции при уровне значимости $\\gamma \\in {0.95, 0.99}$, сделать выводы:"
   ]
  },
  {
   "cell_type": "code",
   "execution_count": 90,
   "metadata": {},
   "outputs": [
    {
     "name": "stdout",
     "output_type": "stream",
     "text": [
      "Доверительный интервал для коэффициента корреляции: (0.6031328986295001; 1.1458518131927564).\n"
     ]
    }
   ],
   "source": [
    "f_t_1 = 2.56 # при 0.99\n",
    "f_t_2 = 1.96 # при 0.95\n",
    "z = math.atanh(rv)\n",
    "z_left = z - max(f_t_1, f_t_2)/(n-3)**0.5\n",
    "z_right = z + max(f_t_1, f_t_2)/(n-3)**0.5\n",
    "print(f\"Доверительный интервал для коэффициента корреляции: ({z_left}; {z_right}).\")"
   ]
  },
  {
   "cell_type": "markdown",
   "metadata": {},
   "source": [
    "Правую границу получили больше единицы. А поскольку коэффициент корреляции всегда по модулю меньше единицы, то он точно никогда не переступит правую границу. При желании границу можно уменьшить до 1 включительно и коэффициент корреляции всё равно справа всегда будет попадать в доверительный интервал."
   ]
  },
  {
   "cell_type": "markdown",
   "metadata": {},
   "source": [
    "### Задание 6.\n",
    "Осуществить проверку статистической гипотезы о равенстве коэффициента корреляции нулю при заданном уровне значимости $\\alpha = 0.05$, сделать выводы:"
   ]
  },
  {
   "cell_type": "code",
   "execution_count": 91,
   "metadata": {},
   "outputs": [
    {
     "name": "stdout",
     "output_type": "stream",
     "text": [
      "T_наблюдаемое: 9.394735456769936, T_критическое: 1.99\n",
      "Отвергаем гипотезу. Коэффициент корреляции не равен нулю.\n"
     ]
    }
   ],
   "source": [
    "T_see = rv*(n-2)**0.5/(1-rv**2)**0.5\n",
    "T_crit = 1.99\n",
    "print(f'T_наблюдаемое: {T_see}, T_критическое: {T_crit}')\n",
    "print('Принимаем гипотезу. Коэффициент корреляции равен нулю.' if abs(T_see) < T_crit else 'Отвергаем гипотезу. Коэффициент корреляции не равен нулю.')"
   ]
  },
  {
   "cell_type": "markdown",
   "metadata": {},
   "source": [
    "### Задание 7.\n",
    "Для заданной выборки построить уравнения средней квадратичной регрессии $x$ на $y$ и $y$ на $x$ соответственно. Отобразить полученные прямые на множестве выборки. Объяснить результаты:"
   ]
  },
  {
   "cell_type": "code",
   "execution_count": 92,
   "metadata": {},
   "outputs": [
    {
     "data": {
      "image/png": "[encoded data removed]",
      "text/plain": [
       "<Figure size 800x800 with 1 Axes>"
      ]
     },
     "metadata": {},
     "output_type": "display_data"
    }
   ],
   "source": [
    "plt.figure(figsize=(8, 8))\n",
    "x = np.arange(data_frequency_x['MajorAxisLength'][0], data_frequency_x['MajorAxisLength'][len(data_frequency_x) - 1])\n",
    "plt.plot(x, rv*sigma/sigma_x*(x-mid_x_standard_x)+mid_x_standard, 'orange')\n",
    "y = np.arange(data_frequency_y['MinorAxisLength'][0], data_frequency_y['MinorAxisLength'][len(data_frequency_y) - 1])\n",
    "plt.plot(rv*sigma_x/sigma*(y-mid_x_standard)+mid_x_standard_x, y, 'red')\n",
    "plt.scatter(full_data['MajorAxisLength'], full_data['MinorAxisLength'])\n",
    "plt.show()"
   ]
  },
  {
   "cell_type": "markdown",
   "metadata": {},
   "source": [
    "Оранжевая прямая является графиком средней квадратичной регрессии $x$ на $y$.   \n",
    "Красная прямая является графиком средней квадратичной регрессии $y$ на $x$.     \n",
    "Прямые успешно показывают общее направление распределения данных."
   ]
  },
  {
   "cell_type": "markdown",
   "metadata": {},
   "source": [
    "### Задание 8.\n",
    "Вычислить корреляционные отношения $\\eta_{yx}$ и $\\eta_{xy}$. Убедиться, что неравенства $\\eta_{yx}$ > |$r_{yx}$| и $\\eta_{xy}$ > |$r_{xy}$| выполняются. Сделать выводы:"
   ]
  },
  {
   "cell_type": "code",
   "execution_count": 93,
   "metadata": {},
   "outputs": [
    {
     "name": "stdout",
     "output_type": "stream",
     "text": [
      "Неравенства 𝜂_yx >= |r_xy| и 𝜂_xy >= |r_xy| выполняются.\n"
     ]
    }
   ],
   "source": [
    "x_mean_group = [data_interval_x['Interval_mid'][i] for i in range(len(data_interval_x) - 1)]\n",
    "y_mean_group = [data_interval['Interval_mid'][i] for i in range(len(data_interval_x) - 1)]\n",
    "sigma_2_y_x = 0\n",
    "sigma_2_x_y = 0\n",
    "for i in range(len(x_mean_group)):\n",
    "    sigma_2_y_x += (y_mean_group[i]-mid_x_standard)**2*data_interval['Frequency'][i]/n\n",
    "    sigma_2_x_y += (x_mean_group[i]-mid_x_standard_x)**2*data_interval['Frequency'][i]/n\n",
    "n_yx = sigma_2_y_x**0.5/sigma\n",
    "n_xy = sigma_2_x_y**0.5/sigma_x\n",
    "print(f'Неравенства 𝜂_yx >= |r_xy| и 𝜂_xy >= |r_xy| {\"выполняются\" if n_yx >= rv and n_xy >= rv else \"не выполняются\"}.')"
   ]
  },
  {
   "cell_type": "markdown",
   "metadata": {},
   "source": [
    "Оба неравенства успешно выполнились - всё соответствует свойствам."
   ]
  },
  {
   "cell_type": "markdown",
   "metadata": {},
   "source": [
    "### Задание 9.\n",
    "Для заданной выборки построить корреляционную кривую параболического вида $y=\\beta_0+\\beta_1x+\\beta_2x^2$. Отобразить полученную кривую на множестве выборки. Сделать выводы:"
   ]
  },
  {
   "cell_type": "code",
   "execution_count": 94,
   "metadata": {},
   "outputs": [
    {
     "data": {
      "image/png": "[encoded data removed]",
      "text/plain": [
       "<Figure size 800x800 with 1 Axes>"
      ]
     },
     "metadata": {},
     "output_type": "display_data"
    },
    {
     "name": "stdout",
     "output_type": "stream",
     "text": [
      "Получили параболу -0.0001709001238332532x^2+0.47530577072301483x+82.81104719487996\n"
     ]
    }
   ],
   "source": [
    "stack = np.vstack((full_data['MajorAxisLength']**2,full_data['MajorAxisLength'],np.ones(len(full_data)))).T\n",
    "coefficients = scipy.linalg.lstsq(stack, full_data['MinorAxisLength'])[0]\n",
    "x_coord=np.linspace(data_frequency_x['MajorAxisLength'][0], data_frequency_x['MajorAxisLength'][len(data_frequency_x) - 1], round(data_frequency_x['MajorAxisLength'][len(data_frequency_x) - 1]))\n",
    "plt.figure(figsize=(8, 8))\n",
    "plt.plot(x_coord, coefficients[0]*x_coord**2+coefficients[1]*x_coord+coefficients[2], 'green')\n",
    "plt.scatter(full_data['MajorAxisLength'], full_data['MinorAxisLength'])\n",
    "plt.show()\n",
    "print(f'Получили параболу {coefficients[0]}x^2+{coefficients[1]}x+{coefficients[2]}')"
   ]
  },
  {
   "cell_type": "markdown",
   "metadata": {},
   "source": [
    "Парабола успешно отображает распределение данных выборки."
   ]
  },
  {
   "cell_type": "markdown",
   "metadata": {},
   "source": [
    "### Задание 10.\n",
    "С помощью МНК построить нелинейную корреляционную прямую вида $y=\\beta_0+\\beta_1ln(x)$ :"
   ]
  },
  {
   "cell_type": "code",
   "execution_count": 95,
   "metadata": {},
   "outputs": [
    {
     "data": {
      "image/png": "[encoded data removed]",
      "text/plain": [
       "<Figure size 800x800 with 1 Axes>"
      ]
     },
     "metadata": {},
     "output_type": "display_data"
    },
    {
     "name": "stdout",
     "output_type": "stream",
     "text": [
      "Получили график 139.1872877760179ln(x) + (-586.1245426126477)\n"
     ]
    }
   ],
   "source": [
    "def func(x, b0, b1):\n",
    "    return b0 * np.log(x) + b1\n",
    "x_coord=np.linspace(data_frequency_x['MajorAxisLength'][0], data_frequency_x['MajorAxisLength'][len(data_frequency_x) - 1], round(data_frequency_x['MajorAxisLength'][len(data_frequency_x) - 1]))\n",
    "coefficients_2 = scipy.optimize.curve_fit(func, full_data['MajorAxisLength'], full_data['MinorAxisLength'])[0]\n",
    "plt.figure(figsize=(8, 8))\n",
    "plt.plot(x_coord, func(x_coord, *coefficients_2), 'purple')\n",
    "plt.scatter(full_data['MajorAxisLength'], full_data['MinorAxisLength'])\n",
    "plt.show()\n",
    "print(f'Получили график {coefficients_2[0]}ln(x) + ({coefficients_2[1]})')"
   ]
  },
  {
   "cell_type": "markdown",
   "metadata": {},
   "source": [
    "График успешно отображает распределение данных выборки."
   ]
  },
  {
   "cell_type": "markdown",
   "metadata": {},
   "source": [
    "### Задание 11.\n",
    "Вычислить следующие показатели качества регрессии для каждого из четырёх уравнений и сделать выводы:    \n",
    "• теоретический коэффициент детерминации $R^2$  \n",
    "• средняя квадратическая ошибка $S_\\epsilon$    \n",
    "• средняя ошибка аппроксимации (приближения) A  "
   ]
  },
  {
   "cell_type": "markdown",
   "metadata": {},
   "source": [
    "Уравнения:\n",
    "1. Прямая средней квадратичной регрессии $x$ на $y$.\n",
    "2. Прямая средней квадратичной регрессии $y$ на $x$.\n",
    "3. Парабола $y=\\beta_0x^2+\\beta_1x+\\beta_2$.\n",
    "4. Функция $y=\\beta_0+\\beta_1ln(x)$."
   ]
  },
  {
   "cell_type": "code",
   "execution_count": 96,
   "metadata": {},
   "outputs": [
    {
     "data": {
      "text/html": [
       "<div>\n",
       "<style scoped>\n",
       "    .dataframe tbody tr th:only-of-type {\n",
       "        vertical-align: middle;\n",
       "    }\n",
       "\n",
       "    .dataframe tbody tr th {\n",
       "        vertical-align: top;\n",
       "    }\n",
       "\n",
       "    .dataframe thead th {\n",
       "        text-align: right;\n",
       "    }\n",
       "</style>\n",
       "<table border=\"1\" class=\"dataframe\">\n",
       "  <thead>\n",
       "    <tr style=\"text-align: right;\">\n",
       "      <th></th>\n",
       "      <th>R²</th>\n",
       "      <th>Sₑ</th>\n",
       "      <th>A</th>\n",
       "    </tr>\n",
       "  </thead>\n",
       "  <tbody>\n",
       "    <tr>\n",
       "      <th>1</th>\n",
       "      <td>0.315865</td>\n",
       "      <td>62.848376</td>\n",
       "      <td>13.698586</td>\n",
       "    </tr>\n",
       "    <tr>\n",
       "      <th>2</th>\n",
       "      <td>0.495122</td>\n",
       "      <td>77.031395</td>\n",
       "      <td>23.170866</td>\n",
       "    </tr>\n",
       "    <tr>\n",
       "      <th>3</th>\n",
       "      <td>0.097634</td>\n",
       "      <td>35.426761</td>\n",
       "      <td>11.542209</td>\n",
       "    </tr>\n",
       "    <tr>\n",
       "      <th>4</th>\n",
       "      <td>0.097061</td>\n",
       "      <td>35.125822</td>\n",
       "      <td>11.761985</td>\n",
       "    </tr>\n",
       "  </tbody>\n",
       "</table>\n",
       "</div>"
      ],
      "text/plain": [
       "         R²         Sₑ          A\n",
       "1  0.315865  62.848376  13.698586\n",
       "2  0.495122  77.031395  23.170866\n",
       "3  0.097634  35.426761  11.542209\n",
       "4  0.097061  35.125822  11.761985"
      ]
     },
     "execution_count": 96,
     "metadata": {},
     "output_type": "execute_result"
    }
   ],
   "source": [
    "regression = pd.DataFrame(columns=['R²', 'Sₑ', 'A'], index=[1, 2, 3, 4])\n",
    "k1 = rv*sigma/sigma_x\n",
    "b1 = -rv*sigma/sigma_x*mid_x_standard+mid_x_standard\n",
    "delta_x_sq = sum((k1*full_data['MajorAxisLength']+b1-mid_x_standard)**2/n)\n",
    "R2_1 = delta_x_sq/sigma_square_standard_x\n",
    "E_y_i = k1*full_data['MajorAxisLength']+b1-full_data['MinorAxisLength']\n",
    "S_e_1 = (sum(E_y_i**2)/(n-2))**0.5 #число параметров: 2\n",
    "A_1 = sum(abs(E_y_i/full_data['MajorAxisLength']))/n*100\n",
    "regression.loc[1] = [R2_1, S_e_1, A_1]\n",
    "\n",
    "k2 = rv*sigma_x/sigma\n",
    "b2 = -rv*sigma_x/sigma*mid_x_standard+mid_x_standard_x\n",
    "delta_y_sq = sum((k2*full_data['MinorAxisLength']+b2-mid_x_standard_x)**2/n)\n",
    "R2_2 = delta_y_sq/sigma_square_standard_x\n",
    "E_x_i = k2*full_data['MinorAxisLength']+b2-full_data['MajorAxisLength']\n",
    "S_e_2 = (sum(E_x_i**2)/(n-2))**0.5 #число параметров: 2\n",
    "A_2 = sum(abs(E_x_i/full_data['MinorAxisLength']))/n*100\n",
    "regression.loc[2] = [R2_2, S_e_2, A_2]\n",
    "\n",
    "delta_parab_sq = sum((coefficients[0]*full_data['MajorAxisLength']**2+coefficients[1]*full_data['MajorAxisLength']+coefficients[2] - mid_x_standard)**2/n)\n",
    "R2_3 = delta_parab_sq/sigma_square_standard_x\n",
    "E_i_1 = coefficients[0]*full_data['MajorAxisLength']**2+coefficients[1]*full_data['MajorAxisLength']+coefficients[2] - mid_x_standard\n",
    "S_e_3 = (sum(E_i_1**2)/(n-3))**0.5 #число параметров: 3\n",
    "A_3 = sum(abs(E_i_1/full_data['MinorAxisLength']))/n*100\n",
    "regression.loc[3] = [R2_3, S_e_3, A_3]\n",
    "\n",
    "delta_log_sq = sum((coefficients_2[0]*np.log(full_data['MajorAxisLength'])+coefficients_2[1] - mid_x_standard)**2/n)\n",
    "R2_4 = delta_log_sq/sigma_square_standard_x\n",
    "E_i_2 = coefficients_2[0]*np.log(full_data['MajorAxisLength'])+coefficients_2[1] - mid_x_standard\n",
    "S_e_4 = (sum(E_i_2**2)/(n-2))**0.5 #число параметров: 2\n",
    "A_4 = sum(abs(E_i_2/full_data['MinorAxisLength']))/n*100\n",
    "regression.loc[4] = [R2_4, S_e_4, A_4]\n",
    "regression"
   ]
  },
  {
   "cell_type": "markdown",
   "metadata": {},
   "source": [
    "Теоретический коэффициент детерминации указывает на тесноту связи между признаками. Лучшие коэффициенты детерминации у третьего и четвертого графиков.  \n",
    "Наименьшая среднеквадратичная ошибка также у графиков под номерами 3 и 4. Она меньше СКО, следовательно, использование модели регрессии является целесообразной.    \n",
    "Если средняя ошибка аппроксимации меньше 7%, то модель хорошего качества. Следовательно, ни одна из четырёх моделей не является моделью хорошего качества, но значения не далеки от 7%."
   ]
  },
  {
   "cell_type": "markdown",
   "metadata": {},
   "source": [
    "## Выводы\n",
    "При выполнении данной практической работы из генеральной совокупности была сформирована выборка по второму признаку. Для системы двух случайных величин из первого признака X и второго признака Y сформирована двумерная выборка, построен двумерный интервальный вариационный ряд, сформированы условные варианты и по полученным условным вариантам пострена корреляционную таблица, вычислен коэффициент корреляции, построен доверительный интервал для коэффициента корреляции, осуществлена проверка статистической гипотезы о равенстве коэффициента корреляции нулю, построены уравнения средней квадратичной регрессии. Также были построены две корреляционные прямые. Найдено выборочное корреляционное отношение и рассмотрены показатели качества регрессии для полученных уравнений."
   ]
  }
 ],
 "metadata": {
  "kernelspec": {
   "display_name": "Python 3.9.2 64-bit",
   "language": "python",
   "name": "python3"
  },
  "language_info": {
   "codemirror_mode": {
    "name": "ipython",
    "version": 3
   },
   "file_extension": ".py",
   "mimetype": "text/x-python",
   "name": "python",
   "nbconvert_exporter": "python",
   "pygments_lexer": "ipython3",
   "version": "3.9.2"
  },
  "orig_nbformat": 4,
  "vscode": {
   "interpreter": {
    "hash": "a944d71d29fdfcfa9d506fe72f2cd7e81abb795d8f0d7d3eaae4b1e228701223"
   }
  }
 },
 "nbformat": 4,
 "nbformat_minor": 2
}
