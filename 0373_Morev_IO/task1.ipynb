{
 "cells": [
  {
   "cell_type": "markdown",
   "id": "f0ede3c2",
   "metadata": {},
   "source": [
    "# Практическая работа №1: Формирование и первичная обработка выборки. Нахождение и точечных и интервальных оценок. Проверка статистических гипотез.\n",
    "Выполнил студент гр. 0373 Морев Иван. Вариант №13"
   ]
  },
  {
   "cell_type": "markdown",
   "id": "36d43271",
   "metadata": {},
   "source": [
    "## Цель работы"
   ]
  },
  {
   "cell_type": "markdown",
   "id": "35a65d12",
   "metadata": {},
   "source": [
    "Ознакомление с основными правилами формирования выборки и подготовки выборочных данных к статистическому анализу. Получение практических навыков нахождения точечных статистических оценок параметров распределения, а также вычисления интервальных статистических оценок параметров распределения выборочных данных и проверки\n",
    "«справедливости» статистических гипотез.\n"
   ]
  },
  {
   "cell_type": "markdown",
   "id": "9bfaed9d",
   "metadata": {},
   "source": [
    "## Основные теоретические положения\n"
   ]
  },
  {
   "cell_type": "markdown",
   "id": "eb578380",
   "metadata": {},
   "source": [
    "**Генеральная совокупность** - совокупность объектов, из которых произведена выборка. (Объем N) \n",
    "  \n",
    "**Выборочная совокупность (Выборка)** - совокупнсть случайно отобранных объектов. (Объем n)  \n",
    "  \n",
    "**Ранжированный ряд** - расположение единиц совокупности в порядке возрастания или убывания выбранного признака.\n",
    "  \n",
    "**Вариационный ряд** - ранжированный ряд распределения по величине какого-либо признака.  \n",
    "  \n",
    "**Интервальный вариационный ряд** - вариационный ряд, в котором весь промежуток измерения значений выборки разбивают на частичные интервалы.  \n",
    "  \n",
    "**Формула Стерджесса (для определения количества интервалов)**: $ n = 1 + log _{2}N $  \n",
    "  \n",
    "**Длинна интервала h**: $ h=\\frac{R}{k} \\ ,где \\ R=x_{max}-x_{min} $\n",
    "  \n",
    "**Абсолютная частота** - это число, показывающее, сколько раз данное значение повторяется в выборке\n",
    "  \n",
    "**Полигон частот** - ломаная линяя, соединяющеая точки дискретного ряда $ (x_{1}; p_{1}^{*}) $ \\; $ (x_{2}; p_{2}^{*}) $ \\; $ (x_{k}; p_{k}^{*}) $ \n",
    "  \n",
    "**Гистограмма частот** - ступенчатая фигура, состоящая из прямоугольников, основаниями которых являются частичные интервалы, а высоты равны $ f_{i}=\\frac{n_{i}}{h} $  \n",
    "  \n",
    "**Эмпирическая функция распределения** - это функция $ F^{*}(x) $, задающая для каждого значения x относительную частоту события  \n",
    "  \n",
    "**Относительная частота события** - это отношение числа испытаний , в которых данное событие появилось, к общему числу фактически проведённых испытаний  \n",
    "  \n",
    "**Условные варианты** - это варианты определяемые равенством $ u_{i}=\\frac{n_{i}-c}{h}  \\ ,где \\ c - ложный \\ нуль, h - шаг $  \n",
    "  \n",
    "**Обычный эмпирический момент порядка r** - это среднее значение r-ых степеней разностей $ x_{i}-c $  \n",
    "### $v_{r}'=\\frac{1}{n}\\sum_{i=1}^k n_{i}(x_{i}-c)^r$  \n",
    "  \n",
    "**Начальный эмпирический момент порядка r** - обычный момент порядка r, при c=0\n",
    "### $v_{r}=\\frac{1}{n}\\sum_{i=1}^k n_{i}x_{i}^r$  \n",
    "  \n",
    "**Центральный эмпирический момент порядка r** - обычный момент порядка r, при $c=\\bar{x}_в$\n",
    "### $\\mu_{r}^*=\\frac{1}{n}\\sum_{i=1}^k n_{i}(x_{i}-\\bar{x}_в)^2$ \n",
    "\n",
    "**Условный эмпирический момент порядка r** - это начальный момент порядка r, вычисленный для условных вариант.\n",
    "### $v_{r}=\\frac{1}{n}\\sum_{i=1}^k n_{i}u_{i}^r=\\frac{1}{n}\\sum_{i=1}^k n_{i}(\\frac{x_i-c}{h})^2$  \n",
    "  \n",
    "**Выборочное среднее** - среднее арифметическое значение признака выборочной совокупности.\n",
    "### $ \\bar{x}_в=\\frac{1}{n}\\sum_{i=1}^n x_i = \\frac{1}{n}\\sum_{i=1}^k x_i n_i = \\sum_{i=1}^k x_i p_i ^*$\n",
    "\n",
    "**Дисперсия** - мера разброса значений случайной величины относительно её математического ожидания  \n",
    "### $D = \\frac{1}{n}\\sum_{i=1}^{k}n_{i}(x_{i} - x_{в})^{2}$\n",
    "\n",
    "**Выборочная дисперсия** - среднее арифметическое квадратов отклонений наблюдаемых значений признака от из средних значений $\\overline{x_{B}}$ : $\\sigma_{B}^{2}=\\frac{1}{n}\\sum_{i=1}^{n}(x_{i}-\\overline{x_{B}})^2=\\sum_{i=1}^{k}\\frac{(x_{i}-\\overline{x_{B}})^2n_{i}}{n}=\\sum_{i=1}^{k}(x_{i}-\\overline{x_{B}})^2p_{i}^{*}$\n",
    "\n",
    "**Выборочное СКО**: $\\sigma_{B}=\\sqrt{\\sigma_{B}^{2}}$\n",
    "\n",
    "**Мода вариационного ряда** - такое значение варианты, которой соответствует наибольшая частота. \n",
    "\n",
    "**Мода $M_{o}^{*}$ интервального ряда** - число, заключённое в частичном интервале, которому соответсвует наибольшая частота.   ### $M_{o}^{*}=x_{M_{o}}^{(0)}+h\\frac{n_{M_{o}}-n_{M_{o}-1}}{(n_{M_{o}}-n_{M_{o}-1})+(n_{M_{o}}-n_{M_{o}+1})}$, где $n_{M_{o}}$ - частота, модального интервала, $n_{M_{o}-1}$ - частота, соответствующая предыдущему интервалу, $n_{M_{o}+1}$ - частота, соответствующая следующему интервалу, $x_{M_{o}}^{(0)}$ - варианта, соответствующая среднему значению интервала наибольшей частоты\n",
    "\n",
    "**Медиана вариационного ряда** - значение признака, приходящееся на середину ранжированного ряда наблюдений. \n",
    "\n",
    "**Медиана $M_{e}^{*}$интервального ряда** - число, принадлежащее частичному интервалу, для которого накопленная частота состовляет половину или больше половины всей суммы частот, а предыдущая накопленная частота меньше половины всей суммы частот. \n",
    "$M_{e}^{*}=x_{M_{e}}^{(0)}+\\frac{h}{p_{M_{e}}^{*}}(0,5 - p\\sum_{M_{e}-1})$, где $p_{M_{e}}^{*}$ - относительная частота медианного интервала, $p\\sum_{M_{e}-1}$ - накопленная относительная частота, соответствующая предыдущему частичному интервалу,  $x_{M_{e}}^{(0)}$ - варианта, соответствующая среднему значению интервала, для которого накопленная частота состовляет половину или больше половины всей суммы частот, а предыдущая накопленная частота меньше половины всей суммы частот.\n",
    "\n",
    "\n",
    "**Исправленная выборочная дисперсия**:   \n",
    "### $s^2=\\frac{n}{n-1}\\sigma_{B}^{2}$. \n",
    "**Исправленное СКО**:   \n",
    "### $s=\\sqrt{s^2}$\n",
    "\n",
    "**Выборочный коэффициент ассиметрии**:\n",
    "### $a_{s}^{*}=\\frac{\\mu_{3}^{8}}{\\sigma_{B}^{3}}$\n",
    "\n",
    "**Выборочный коэффициент экцесса**:   \n",
    "### $\\varepsilon_{k}^{*}=\\frac{\\mu_{4}^{*}}{\\sigma_{B}^{4}}-3$\n",
    "\n",
    "**Доверительный интервал** - интервал $(\\theta^{*}-\\delta;\\theta^{*}+\\delta)$, который покрывает неизвестный параметр $\\theta$ с заданной надёжностью $\\gamma$\n",
    "\n",
    "**Вероятность попадания в интервал**  \n",
    "### $\\mathbb{P}(x_{i-1}<x<x_{i})=\\Phi(\\frac{x_{i}-a}{\\sigma})-\\Phi(\\frac{x_{i-1}-a}{\\sigma})$\n",
    "\n",
    "**Статистическая гипотеза** - любое предположение о генеральной совокупности, проверяемое по выборке  \n",
    "\n",
    "**Нулевая(основная) гипотеза** - предположение, которое выдвигается изначально, пока наблюдения не застявят принять обратное  \n",
    "\n",
    "\n",
    "**Альтернативная (конкурирующая) гипотеза** - гипотеза, противоречащая основной и которую принимают, если отвергнута основная гипотеза  \n",
    "\n",
    "**Статистический критерий проверки гипотезы** - правило, по которому принимается решение принят или отклонить $ H_{0} $  \n",
    "\n",
    "**Статистика (тест) критерия** - случайная величина, которая служит для проверки стат. гипотез\n",
    "\n",
    "**Критическая область** - совокупность значений критерия , при которой нулевую гипотезу отвергают  \n",
    "\n",
    "**Область принятия гипотезы** - область, при которой нулевую гипотезу принимают  \n",
    "\n",
    "**Критические точки (границы)** - точки, отделяющиие критическую область от области принятия гипотезы"
   ]
  },
  {
   "cell_type": "markdown",
   "id": "61de4911",
   "metadata": {},
   "source": [
    "## Постановка задачи\n",
    "Осуществить формирование репрезентативной выборки заданного объема из имеющейся генеральной совокупности экспериментальных данных.\n",
    "Осуществить последовательное преобразование полученной выборки в\n",
    "ранжированный, вариационный и интервальный ряды. Применительно\n",
    "к интервальному ряду построить и отобразить графически полигон, гистограмму и эмпирическую функцию распределения для абсолютных и\n",
    "относительных частот. Для заданных выборочных данных вычислить с\n",
    "использованием метода моментов и условных вариант точечные статистические оценки математического ожидания, дисперсии, среднеквадратичного отклонения, асимметрии, эксцесса, моды, медианы и коэффициента вариации исследуемой случайной величины. Для заданной надёжности определить границы доверительных интервалов для матема1\n",
    "тического ожидания и среднеквадратичного отклонения случайной величины. Проверить гипотезу о нормальном распределении исследуемой\n",
    "случайной величины с помощью критерия Пирсона 𝜒\n",
    "2\n",
    ". Полученные результаты содержательно проинтерпретировать.\n"
   ]
  },
  {
   "cell_type": "markdown",
   "id": "e5a22ffd",
   "metadata": {},
   "source": [
    "## Выполнение работы"
   ]
  },
  {
   "cell_type": "code",
   "execution_count": 24,
   "id": "f792f0c2",
   "metadata": {},
   "outputs": [],
   "source": [
    "import matplotlib.pyplot as plt\n",
    "import numpy as np\n",
    "import math\n",
    "from prettytable import PrettyTable\n",
    "import statistics\n",
    "import statistics as st\n",
    "import pandas as pd\n",
    "from scipy import stats\n",
    "from scipy.stats import norm\n",
    "from scipy.stats import chi2\n",
    "#подключаю нужные библиотеки"
   ]
  },
  {
   "cell_type": "markdown",
   "id": "8f297f3b",
   "metadata": {},
   "source": [
    "## 1. Из генеральной совокупности сформировать выборку заданного объёма в соответствии с полученным от преподавателя номером. Указать, какого вида выборка получилась."
   ]
  },
  {
   "cell_type": "code",
   "execution_count": 25,
   "id": "0027bbe8",
   "metadata": {},
   "outputs": [
    {
     "name": "stdout",
     "output_type": "stream",
     "text": [
      "[1.94, 1.68, 1.15, 6.08, 2.69, 6.23, 2.43, 2.77, 4.06, 1.93, 3.45, 1.28, 1.45, 4.17, 2.08, 2.9, 1.88, 6.29, 4.13, 2.47, 1.62, 5.4, 5.39, 6.23, 5.69, 6.3, 1.57, 1.48, 2.81, 1.27, 6.06, 2.95, 2.63, 1.97, 5.82, 1.51, 1.15, 3.28, 3.08, 2.62, 3.29, 2.96, 6.23, 2.1, 3.64, 2.4, 3.17, 5.98, 3.13, 5.55, 3.77, 1.23, 4.27, 3.23, 1.67, 9.94, 2.05, 2.89, 5.5, 14.65, 2.62, 1.8, 2.56, 2.99, 2.49, 1.79, 3.24, 2.57, 2.76, 1.73, 2.88, 3.29, 6.48, 1.53, 9.43, 1.96, 3.09, 3.34, 0, 2.82, 4.15, 1.66, 2.62, 2.45, 2.81, 1.98, 2.57, 1.66, 2.98, 7.16, 2.9, 2, 1.84, 1.7, 3.46, 2.02, 4.18, 4.95, 2.72, 2.98, 4.53, 4.5, 1.48, 12, 5.06, 4.66, 5.24, 3.54]\n"
     ]
    }
   ],
   "source": [
    "\n",
    "\n",
    "x_main = [\n",
    "1.94,\n",
    "1.68,\n",
    "1.15,\n",
    "6.08,\n",
    "2.69,\n",
    "6.23,\n",
    "2.43,\n",
    "2.77,\n",
    "4.06,\n",
    "1.93,\n",
    "3.45,\n",
    "1.28,\n",
    "1.45,\n",
    "4.17,\n",
    "2.08,\n",
    "2.9,\n",
    "1.88,\n",
    "6.29,\n",
    "4.13,\n",
    "2.47,\n",
    "1.62,\n",
    "5.4,\n",
    "5.39,\n",
    "6.23,\n",
    "5.69,\n",
    "6.3,\n",
    "1.57,\n",
    "1.48,\n",
    "2.81,\n",
    "1.27,\n",
    "6.06,\n",
    "2.95,\n",
    "2.63,\n",
    "1.97,\n",
    "5.82,\n",
    "1.51,\n",
    "1.15,\n",
    "3.28,\n",
    "3.08,\n",
    "2.62,\n",
    "3.29,\n",
    "2.96,\n",
    "6.23,\n",
    "2.1,\n",
    "3.64,\n",
    "2.4,\n",
    "3.17,\n",
    "5.98,\n",
    "3.13,\n",
    "5.55,\n",
    "3.77,\n",
    "1.23,\n",
    "4.27,\n",
    "3.23,\n",
    "1.67,\n",
    "9.94,\n",
    "2.05,\n",
    "2.89,\n",
    "5.5,\n",
    "14.65,\n",
    "2.62,\n",
    "1.8,\n",
    "2.56,\n",
    "2.99,\n",
    "2.49,\n",
    "1.79,\n",
    "3.24,\n",
    "2.57,\n",
    "2.76,\n",
    "1.73,\n",
    "2.88,\n",
    "3.29,\n",
    "6.48,\n",
    "1.53,\n",
    "9.43,\n",
    "1.96,\n",
    "3.09,\n",
    "3.34,\n",
    "0,\n",
    "2.82,\n",
    "4.15,\n",
    "1.66,\n",
    "2.62,\n",
    "2.45,\n",
    "2.81,\n",
    "1.98,\n",
    "2.57,\n",
    "1.66,\n",
    "2.98,\n",
    "7.16,\n",
    "2.9,\n",
    "2,\n",
    "1.84,\n",
    "1.7,\n",
    "3.46,\n",
    "2.02,\n",
    "4.18,\n",
    "4.95,\n",
    "2.72,\n",
    "2.98,\n",
    "4.53,\n",
    "4.5,\n",
    "1.48,\n",
    "12,\n",
    "5.06,\n",
    "4.66,\n",
    "5.24,\n",
    "3.54,\n",
    "]\n",
    "y_main = [\n",
    "3.33,\n",
    "4.06,\n",
    "10.35,\n",
    "1.41,\n",
    "2.71,\n",
    "1.44,\n",
    "3.32,\n",
    "2.49,\n",
    "1.94,\n",
    "3.33,\n",
    "2.5,\n",
    "9.04,\n",
    "5.29,\n",
    "1.59,\n",
    "2.95,\n",
    "2.47,\n",
    "3.22,\n",
    "1.35,\n",
    "1.67,\n",
    "2.53,\n",
    "3.92,\n",
    "1.44,\n",
    "1.52,\n",
    "1.34,\n",
    "1.36,\n",
    "1.41,\n",
    "4.07,\n",
    "5,\n",
    "2.06,\n",
    "6.65,\n",
    "1.35,\n",
    "2.08,\n",
    "2.45,\n",
    "3.14,\n",
    "1.4,\n",
    "4.78,\n",
    "10.75,\n",
    "1.85,\n",
    "2.35,\n",
    "2.45,\n",
    "1.8,\n",
    "2.45,\n",
    "1.38,\n",
    "3,\n",
    "1.77,\n",
    "3.11,\n",
    "1.93,\n",
    "1.36,\n",
    "2.38,\n",
    "1.47,\n",
    "1.78,\n",
    "8.13,\n",
    "1.53,\n",
    "2.5,\n",
    "5.17,\n",
    "1.19,\n",
    "2.73,\n",
    "2.09,\n",
    "1.4,\n",
    "1.15,\n",
    "2.57,\n",
    "3.43,\n",
    "2.44,\n",
    "2.05,\n",
    "2.71,\n",
    "3.56,\n",
    "1.86,\n",
    "2.57,\n",
    "2.58,\n",
    "3.21,\n",
    "2.54,\n",
    "1.94,\n",
    "1.41,\n",
    "4.5,\n",
    "1.2,\n",
    "3.18,\n",
    "1.99,\n",
    "1.78,\n",
    "15.6,\n",
    "2.1,\n",
    "1.61,\n",
    "3.71,\n",
    "2.39,\n",
    "2.59,\n",
    "2.39,\n",
    "3.52,\n",
    "2.79,\n",
    "3.84,\n",
    "2,\n",
    "1.29,\n",
    "2.42,\n",
    "3.15,\n",
    "3.42,\n",
    "3.76,\n",
    "1.83,\n",
    "3.14,\n",
    "1.6,\n",
    "1.5,\n",
    "2.53,\n",
    "2.08,\n",
    "1.58,\n",
    "1.61,\n",
    "4.97,\n",
    "1.16,\n",
    "1.48,\n",
    "1.57,\n",
    "1.46,\n",
    "1.84,\n",
    "]\n",
    "print(x_main)"
   ]
  },
  {
   "cell_type": "markdown",
   "id": "7dcf9c0f",
   "metadata": {},
   "source": [
    "## 2. Последовательно преобразовать выборку в ранжированный, вариационный и интервальный ряды. Результаты содержательно проинтерпретировать."
   ]
  },
  {
   "cell_type": "code",
   "execution_count": 26,
   "id": "d2fd37ab",
   "metadata": {},
   "outputs": [
    {
     "name": "stdout",
     "output_type": "stream",
     "text": [
      "Вывод ранжированного ряда: \n",
      "0 1.15 1.15 1.23 1.27 1.28 1.45 1.48 1.48 1.51  \n",
      "1.53 1.57 1.62 1.66 1.66 1.67 1.68 1.7 1.73 1.79  \n",
      "1.8 1.84 1.88 1.93 1.94 1.96 1.97 1.98 2 2.02  \n",
      "2.05 2.08 2.1 2.4 2.43 2.45 2.47 2.49 2.56 2.57  \n",
      "2.57 2.62 2.62 2.62 2.63 2.69 2.72 2.76 2.77 2.81  \n",
      "2.81 2.82 2.88 2.89 2.9 2.9 2.95 2.96 2.98 2.98  \n",
      "2.99 3.08 3.09 3.13 3.17 3.23 3.24 3.28 3.29 3.29  \n",
      "3.34 3.45 3.46 3.54 3.64 3.77 4.06 4.13 4.15 4.17  \n",
      "4.18 4.27 4.5 4.53 4.66 4.95 5.06 5.24 5.39 5.4  \n",
      "5.5 5.55 5.69 5.82 5.98 6.06 6.08 6.23 6.23 6.23  \n",
      "6.29 6.3 6.48 7.16 9.43 9.94 12 14.65 \n",
      "\n",
      "Вывод вариационного ряда:\n",
      "0 - 1 1.15 - 2 1.23 - 1 1.27 - 1 1.28 - 1 1.45 - 1\n",
      "1.48 - 2 1.51 - 1 1.53 - 1 1.57 - 1 1.62 - 1 1.66 - 2\n",
      "1.67 - 1 1.68 - 1 1.7 - 1 1.73 - 1 1.79 - 1 1.8 - 1\n",
      "1.84 - 1 1.88 - 1 1.93 - 1 1.94 - 1 1.96 - 1 1.97 - 1\n",
      "1.98 - 1 2 - 1 2.02 - 1 2.05 - 1 2.08 - 1 2.1 - 1\n",
      "2.4 - 1 2.43 - 1 2.45 - 1 2.47 - 1 2.49 - 1 2.56 - 1\n",
      "2.57 - 2 2.62 - 3 2.63 - 1 2.69 - 1 2.72 - 1 2.76 - 1\n",
      "2.77 - 1 2.81 - 2 2.82 - 1 2.88 - 1 2.89 - 1 2.9 - 2\n",
      "2.95 - 1 2.96 - 1 2.98 - 2 2.99 - 1 3.08 - 1 3.09 - 1\n",
      "3.13 - 1 3.17 - 1 3.23 - 1 3.24 - 1 3.28 - 1 3.29 - 2\n",
      "3.34 - 1 3.45 - 1 3.46 - 1 3.54 - 1 3.64 - 1 3.77 - 1\n",
      "4.06 - 1 4.13 - 1 4.15 - 1 4.17 - 1 4.18 - 1 4.27 - 1\n",
      "4.5 - 1 4.53 - 1 4.66 - 1 4.95 - 1 5.06 - 1 5.24 - 1\n",
      "5.39 - 1 5.4 - 1 5.5 - 1 5.55 - 1 5.69 - 1 5.82 - 1\n",
      "5.98 - 1 6.06 - 1 6.08 - 1 6.23 - 3 6.29 - 1 6.3 - 1\n",
      "6.48 - 1 7.16 - 1 9.43 - 1 9.94 - 1 12 - 1 14.65 - 1\n",
      "\n",
      "\n",
      "Вывод интервального ряда:\n",
      "[ 0 , 1.83125 ]\n",
      "( 1.83125 , 3.6625 ]\n",
      "( 3.6625 , 5.49375 ]\n",
      "( 5.49375 , 7.325 ]\n",
      "( 7.325 , 9.15625 ]\n",
      "( 9.15625 , 10.9875 ]\n",
      "( 10.9875 , 12.81875 ]\n",
      "( 12.81875 , 14.65 ]\n"
     ]
    }
   ],
   "source": [
    "\n",
    "\n",
    "\n",
    "x_main.sort() #сортируем через функцию в порядке неубывания\n",
    "print(\"Вывод ранжированного ряда: \")\n",
    "for i in range(108):\n",
    "    if (i+1)%10 == 0:\n",
    "        print(x_main[i], ' ' )\n",
    "    else:\n",
    "        print(x_main[i], end = ' ')   \n",
    "print('\\n')\n",
    "\n",
    "print(\"Вывод вариационного ряда:\")\n",
    "length=[1]*len(x_main)\n",
    "for i in range(len(x_main)):\n",
    "    length[i]=x_main.count(x_main[i])\n",
    "length_2=length\n",
    "for i in range(len(x_main)):\n",
    "    for j in range(i+1,len(x_main)):\n",
    "        if x_main[i]==x_main[j]:\n",
    "            length[j]=0\n",
    "l=0\n",
    "for i in range(len(x_main)):\n",
    "    if length[i]!=0:\n",
    "        if l!=5:\n",
    "            print(x_main[i],'-',length[i],end=' ')\n",
    "            l+=1\n",
    "        else:\n",
    "            print(x_main[i],'-',length[i])\n",
    "            l=0\n",
    "print('\\n')     \n",
    "print(\"Вывод интервального ряда:\")\n",
    "r=x_main[len(x_main)-1]-x_main[0]\n",
    "ster=math.ceil(1+math.log2(len(x_main)))\n",
    "h=r/ster\n",
    "print(\"[\",x_main[0],\",\",x_main[0]+h,\"]\")\n",
    "a=[0]*ster\n",
    "b=[0]*ster\n",
    "a[0]=x_main[0]\n",
    "b[0]=x_main[0]+h\n",
    "for i in range(1,ster):\n",
    "    a[i]= x_main[0]+h*i\n",
    "    b[i]= x_main[0]+h*(i+1)\n",
    "    print(\"(\",a[i],\",\",b[i],\"]\")"
   ]
  },
  {
   "cell_type": "markdown",
   "id": "dfdaa26a",
   "metadata": {},
   "source": [
    "## 3. Для интервального ряда абсолютных частот построить и отобразить графически полигон, гистограмму и эмпирическую функцию."
   ]
  },
  {
   "cell_type": "code",
   "execution_count": 27,
   "id": "d5ee55dd",
   "metadata": {},
   "outputs": [
    {
     "name": "stdout",
     "output_type": "stream",
     "text": [
      "Построение полигона частот:\n"
     ]
    },
    {
     "data": {
      "text/plain": [
       "[<matplotlib.lines.Line2D at 0x7f5e9725df40>]"
      ]
     },
     "execution_count": 27,
     "metadata": {},
     "output_type": "execute_result"
    },
    {
     "data": {
      "image/png": "[encoded data removed]",
      "text/plain": [
       "<Figure size 640x480 with 1 Axes>"
      ]
     },
     "metadata": {},
     "output_type": "display_data"
    }
   ],
   "source": [
    "print(\"Построение полигона частот:\")\n",
    "k=[0]*ster\n",
    "ser=[0]*ster\n",
    "k[0]=1\n",
    "for i in range(len(a)):\n",
    "    ser[i]=(a[i]+b[i])/2\n",
    "    for j in range(108):\n",
    "        if (a[i]<x_main[j]<=b[i]):\n",
    "            k[i]+=1\n",
    "plt.plot(ser,k)\n",
    "#все функции взяты с интернета"
   ]
  },
  {
   "cell_type": "code",
   "execution_count": 28,
   "id": "fc25e5cc",
   "metadata": {},
   "outputs": [
    {
     "name": "stdout",
     "output_type": "stream",
     "text": [
      "Построение гистограммы частот:\n"
     ]
    },
    {
     "data": {
      "image/png": "[encoded data removed]",
      "text/plain": [
       "<Figure size 640x480 with 1 Axes>"
      ]
     },
     "metadata": {},
     "output_type": "display_data"
    }
   ],
   "source": [
    "print(\"Построение гистограммы частот:\")\n",
    "plt.hist(x_main, bins=ster,edgecolor='black', color='b',weights=np.ones_like(x_main) / h)\n",
    "plt.show()"
   ]
  },
  {
   "cell_type": "code",
   "execution_count": 29,
   "id": "7b827cc8",
   "metadata": {},
   "outputs": [
    {
     "name": "stdout",
     "output_type": "stream",
     "text": [
      "Построение эмперической функции:\n"
     ]
    },
    {
     "data": {
      "image/png": "[encoded data removed]",
      "text/plain": [
       "<Figure size 640x480 with 1 Axes>"
      ]
     },
     "metadata": {},
     "output_type": "display_data"
    }
   ],
   "source": [
    "print(\"Построение эмперической функции:\")\n",
    "n=[0]*ster\n",
    "n_1=0\n",
    "for i in range(len(a)):\n",
    "    n_1+=k[i]\n",
    "    n[i]=n_1\n",
    "    plt.hlines(n[i], a[i], b[i])"
   ]
  },
  {
   "cell_type": "markdown",
   "id": "bce0a9eb",
   "metadata": {},
   "source": [
    "### Вывод \n",
    "В результате выполнения данного пунткта были построенны гистограмма, полигон и эмпирическая функция для интервального ряда абсолютных частот"
   ]
  },
  {
   "cell_type": "markdown",
   "id": "24a6a90d",
   "metadata": {},
   "source": [
    "## 4. Аналогичные действия выполнить для интервального ряда относительных частот. Сравнить результаты и сделать выводы."
   ]
  },
  {
   "cell_type": "code",
   "execution_count": 30,
   "id": "8719d11e",
   "metadata": {},
   "outputs": [
    {
     "name": "stdout",
     "output_type": "stream",
     "text": [
      "Построение полигона частот:\n"
     ]
    },
    {
     "data": {
      "image/png": "[encoded data removed]",
      "text/plain": [
       "<Figure size 640x480 with 1 Axes>"
      ]
     },
     "metadata": {},
     "output_type": "display_data"
    }
   ],
   "source": [
    "print(\"Построение полигона частот:\")\n",
    "k2=[0]*ster\n",
    "for i in range(len(a)):\n",
    "    k2[i]=k[i]/108\n",
    "plt.plot(ser,k2)\n",
    "plt.show()"
   ]
  },
  {
   "cell_type": "code",
   "execution_count": 31,
   "id": "e1f436fd",
   "metadata": {},
   "outputs": [
    {
     "name": "stdout",
     "output_type": "stream",
     "text": [
      "Построение гистограммы частот:\n"
     ]
    },
    {
     "data": {
      "image/png": "[encoded data removed]",
      "text/plain": [
       "<Figure size 640x480 with 1 Axes>"
      ]
     },
     "metadata": {},
     "output_type": "display_data"
    }
   ],
   "source": [
    "print(\"Построение гистограммы частот:\")\n",
    "plt.hist(x_main, bins=ster, edgecolor='black', weights=(np.ones_like(x_main) / len(x_main))/h)\n",
    "plt.show()\n",
    "\n"
   ]
  },
  {
   "cell_type": "code",
   "execution_count": 32,
   "id": "5689570e",
   "metadata": {},
   "outputs": [
    {
     "name": "stdout",
     "output_type": "stream",
     "text": [
      "Построение эмперической функции:\n"
     ]
    },
    {
     "data": {
      "image/png": "[encoded data removed]",
      "text/plain": [
       "<Figure size 640x480 with 1 Axes>"
      ]
     },
     "metadata": {},
     "output_type": "display_data"
    }
   ],
   "source": [
    "print(\"Построение эмперической функции:\")\n",
    "p_1=[0]*ster\n",
    "n_2=0\n",
    "for i in range(len(a)):\n",
    "    n_2+=k[i]\n",
    "    p_1[i]=n_2/108\n",
    "    plt.hlines(p_1[i], a[i], b[i])"
   ]
  },
  {
   "cell_type": "markdown",
   "id": "433d33ae",
   "metadata": {},
   "source": [
    "### Вывод\n",
    "В результате выполнения данного пунткта были построенны гистограмма, полигон и эмпирическая функция для интервального ряда относительных частот"
   ]
  },
  {
   "cell_type": "markdown",
   "id": "eedf5350",
   "metadata": {},
   "source": [
    "## 5. Для интервального ряда найти середины интервалов, а также накопленные частоты. Результаты представить в виде таблицы"
   ]
  },
  {
   "cell_type": "code",
   "execution_count": 33,
   "id": "8ca04d86",
   "metadata": {},
   "outputs": [
    {
     "name": "stdout",
     "output_type": "stream",
     "text": [
      "+---+---------------------+-------------------+-----+-------+--------+--------+\n",
      "| i |     (x(i-1);xi]     |        xcp        |  ni |   p   | sum ni | sum pi |\n",
      "+---+---------------------+-------------------+-----+-------+--------+--------+\n",
      "| 1 |     [0, 1.83125]    |      0.915625     |  21 | 0.194 |   21   | 0.194  |\n",
      "| 2 |  [1.83125, 3.6625]  |      2.746875     |  54 |  0.5  |   75   | 0.694  |\n",
      "| 3 |  [3.6625, 5.49375]  |      4.578125     |  15 | 0.139 |   90   | 0.833  |\n",
      "| 4 |   [5.49375, 7.325]  | 6.409375000000001 |  14 |  0.13 |  104   | 0.963  |\n",
      "| 5 |   [7.325, 9.15625]  |      8.240625     |  0  |  0.0  |  104   | 0.963  |\n",
      "| 6 |  [9.15625, 10.9875] |     10.071875     |  2  | 0.019 |  106   | 0.981  |\n",
      "| 7 | [10.9875, 12.81875] |     11.903125     |  1  | 0.009 |  107   | 0.991  |\n",
      "| 8 |  [12.81875, 14.65]  |     13.734375     |  1  | 0.009 |  108   |  1.0   |\n",
      "|   |                     |        Cумма      | 108 |   1   |   -    |   -    |\n",
      "+---+---------------------+-------------------+-----+-------+--------+--------+\n"
     ]
    }
   ],
   "source": [
    "p1=[0]*108\n",
    "p1_1=[0]*ster\n",
    "table = PrettyTable([\"i\",\"(x(i-1);xi]\",\"xcp\",\"ni\",\"p\",\"sum ni\",\"sum pi\"])\n",
    "for i in range(108):\n",
    "    p1[i]+=length[i]/108\n",
    "k_2=[0]*ster\n",
    "p1_1[0]=k2[0]\n",
    "k_2[0]=k[0]\n",
    "for i in range(1,len(a)):\n",
    "            p1_1[i]=p1_1[i-1]+k2[i]\n",
    "            k_2[i]=k_2[i-1]+k[i]\n",
    "table.add_row([1,[a[0],b[0]],ser[0],k[0],round(k2[0],3),k_2[0],round(p1_1[0],3)])\n",
    "for i in range(1,len(a)):\n",
    "    table.add_row([i+1,[a[i],b[i]],ser[i],k[i],round(k2[i],3),k_2[i],round(p1_1[i],3)])\n",
    "table.add_row([\" \",\" \",\" Cумма\",sum(k),round(sum(k2)),\"-\",\"-\"])\n",
    "print(table)"
   ]
  },
  {
   "cell_type": "markdown",
   "id": "121f2556",
   "metadata": {},
   "source": [
    " ## 6. Для полученных вариант вычислить условные варианты. Заполнить расчётную таблицу"
   ]
  },
  {
   "cell_type": "code",
   "execution_count": 34,
   "id": "ab68dd8f",
   "metadata": {},
   "outputs": [
    {
     "name": "stdout",
     "output_type": "stream",
     "text": [
      "Построение рассчетной таблицы:\n",
      "+---+-------------------+------+------+-------+--------+--------+--------+------------+\n",
      "| i |         x         | n(i) | u(i) |  n(u) | n(u^2) | n(u^3) | n(u^4) | n((u+1)^4) |\n",
      "+---+-------------------+------+------+-------+--------+--------+--------+------------+\n",
      "| 1 |      0.915625     |  21  |  -1  |  -21  |   21   |  -21   |   21   |     0      |\n",
      "| 2 |      2.746875     |  54  |  0   |   0   |   0    |   0    |   0    |     54     |\n",
      "| 3 |      4.578125     |  15  |  1   |   15  |   15   |   15   |   15   |    240     |\n",
      "| 4 | 6.409375000000001 |  14  |  2   |   28  |   56   |  112   |  224   |    1134    |\n",
      "| 5 |      8.240625     |  0   |  3   |   0   |   0    |   0    |   0    |     0      |\n",
      "| 6 |     10.071875     |  2   |  4   |   8   |   32   |  128   |  512   |    1250    |\n",
      "| 7 |     11.903125     |  1   |  5   |   5   |   25   |  125   |  625   |    1296    |\n",
      "| 8 |     13.734375     |  1   |  6   |   6   |   36   |  216   |  1296  |    2401    |\n",
      "|   |         E         | 108  |  -   |   41  |  185   |  575   |  2693  |    6375    |\n",
      "+---+-------------------+------+------+-------+--------+--------+--------+------------+\n",
      "Выполнение проверки по формуле: 6375\n"
     ]
    }
   ],
   "source": [
    "sum_1=0\n",
    "ui=[0]*ster\n",
    "l_1,l_2,l_3,l_4,l_5=[0]*ster,[0]*ster,[0]*ster,[0]*ster,[0]*ster\n",
    "for i in range(len(a)):\n",
    "    sum_1+=k[i]\n",
    "    if sum_1>50:\n",
    "        ind=i\n",
    "        break\n",
    "for i in range(len(a)):\n",
    "        ui[i]=i-ind\n",
    "table2 = PrettyTable([\"i\",\"x\",\"n(i)\",\"u(i)\",\" n(u)\",\"n(u^2)\",\"n(u^3)\",\"n(u^4)\",\"n((u+1)^4)\"])   \n",
    "for i in range(len(a)):\n",
    "    l_1[i]=k[i]*ui[i]\n",
    "    l_2[i]=k[i]*(ui[i]**2)\n",
    "    l_3[i]=k[i]*(ui[i]**3)\n",
    "    l_4[i]=k[i]*(ui[i]**4)\n",
    "    l_5[i]=k[i]*((ui[i]+1)**4)\n",
    "    table2.add_row([i+1,ser[i],k[i],ui[i],l_1[i],l_2[i],l_3[i],l_4[i],l_5[i]])\n",
    "table2.add_row([\" \",\"E\",sum(k),\"-\",sum(l_1),sum(l_2),sum(l_3),sum(l_4),sum(l_5)])\n",
    "print (\"Построение рассчетной таблицы:\")\n",
    "print(table2)\n",
    "l_6=0\n",
    "l_6=sum(l_4)+4*sum(l_3)+6*sum(l_2)+4*sum(l_1)+sum(k)\n",
    "print(\"Выполнение проверки по формуле:\",l_6)"
   ]
  },
  {
   "cell_type": "markdown",
   "id": "eabf67d4",
   "metadata": {},
   "source": [
    "## 7. Вычислить условные эмпирические моменты через условные варианты. С помощью условных эмпирических моментов вычислить центральные эмпирические моменты"
   ]
  },
  {
   "cell_type": "code",
   "execution_count": 35,
   "id": "78f0c7ce",
   "metadata": {},
   "outputs": [
    {
     "name": "stdout",
     "output_type": "stream",
     "text": [
      "Построение таблицы:\n",
      "+---+------------------------------+----------------------------------+\n",
      "| i | условный эмпирический момент | центральные эмпирические моменты |\n",
      "+---+------------------------------+----------------------------------+\n",
      "| 1 |     0.37962962962962965      |                0                 |\n",
      "| 2 |            1.713             |              5.261               |\n",
      "| 3 |            5.324             |              21.387              |\n",
      "| 4 |            24.935            |             205.454              |\n",
      "+---+------------------------------+----------------------------------+\n"
     ]
    }
   ],
   "source": [
    "table3 = PrettyTable([\"i\",\"условный эмпирический момент\",\"центральные эмпирические моменты\"]) \n",
    "table3.add_row([1,sum(l_1)/108,0])\n",
    "table3.add_row([2,round(sum(l_2)/108,3),round((sum(l_2)/108-(sum(l_1)/108)**2)*h**2,3)])\n",
    "table3.add_row([3,round(sum(l_3)/108,3),round((sum(l_3)/108-3*sum(l_2)/108*sum(l_1)/108+2*(sum(l_1)/108)**3)*h**3,3)])\n",
    "table3.add_row([4,round(sum(l_4)/108,3),round((sum(l_4)/108-4*sum(l_3)/108*sum(l_1)/108+6*sum(l_2)/108*(sum(l_1)/108)**2-3*(sum(l_1)/108)**4)*h**4,3)])\n",
    "print (\"Построение таблицы:\")\n",
    "print(table3)"
   ]
  },
  {
   "cell_type": "markdown",
   "id": "8e571a9f",
   "metadata": {},
   "source": [
    "## 8. Вычислить выборочные среднее и дисперсию с помощью стандартной формулы и с помощью условных вариант"
   ]
  },
  {
   "cell_type": "code",
   "execution_count": 36,
   "id": "c01ab8e8",
   "metadata": {},
   "outputs": [
    {
     "name": "stdout",
     "output_type": "stream",
     "text": [
      "Выборочное среднее и дисперсия через стандартные формулы:  3.442   5.261\n",
      "Выборочное среднее и дисперсия через условные варианты: 7.105   5.261\n"
     ]
    }
   ],
   "source": [
    "mod=0\n",
    "for i in range(ster):\n",
    "    mod+=k[i]*ser[i]/108\n",
    "dis=0\n",
    "c=0\n",
    "for i in range(ster):\n",
    "    dis+=k[i]*(ser[i]-mod)**2/108\n",
    "if ster%2==0:\n",
    "    if k[round(ster/2)]>k[round(ster/2-1)]:\n",
    "        c=ser[round(ster/2)]\n",
    "    else:\n",
    "        c=ser[round(ster/2-1)]\n",
    "else:\n",
    "    c=x<-main[ster/2-1]\n",
    "mod_2=(h*sum(l_1)/108)+c\n",
    "dis_2=(sum(l_2)/108-(sum(l_1)/108)**2)*h**2\n",
    "print(\"Выборочное среднее и дисперсия через стандартные формулы: \", round(mod,3),\" \", round(dis,3))\n",
    "print(\"Выборочное среднее и дисперсия через условные варианты:\",round(mod_2,3),\" \",round(dis_2,3))"
   ]
  },
  {
   "cell_type": "markdown",
   "id": "3417d0b8",
   "metadata": {},
   "source": [
    "## 9. Вычислить исправленную выборочную дисперсию и исправленное СКО. Сравнить данные оценки с смещёнными оценками дисперсии и СКО."
   ]
  },
  {
   "cell_type": "code",
   "execution_count": 41,
   "id": "c929c6ea",
   "metadata": {},
   "outputs": [
    {
     "name": "stdout",
     "output_type": "stream",
     "text": [
      "Неисправленная дисперсия  4.954135436137071 |  Несмещенная (исправленная) дисперсия:  4.908263811728395\n",
      "\n",
      "СКО:  2.2937049973007158 |  Исправленная СКО:  2.215460180578382\n"
     ]
    }
   ],
   "source": [
    "sko=np.sqrt(dis)\n",
    "print('Неисправленная дисперсия ', st.variance(x_main), '| ' ,\n",
    "      'Несмещенная (исправленная) дисперсия: ', np.var(x_main))\n",
    "\n",
    "print('\\nСКО: ', sko, '| ',\n",
    "      'Исправленная СКО: ', np.sqrt(np.var(x_main)))"
   ]
  },
  {
   "cell_type": "markdown",
   "id": "a7f8d5fd",
   "metadata": {},
   "source": [
    "## 10. Найти статистическую оценку коэффициентов асимметрии и эксцесса"
   ]
  },
  {
   "cell_type": "code",
   "execution_count": 42,
   "id": "b4310586",
   "metadata": {},
   "outputs": [
    {
     "name": "stdout",
     "output_type": "stream",
     "text": [
      "Коэффициент ассиметрии:  -6.957 Коэффициент эксцесса 5.371\n"
     ]
    }
   ],
   "source": [
    "\n",
    "ka=((sum(l_3)/108-3*sum(l_2)/108*sum(x_main)/108+2*(sum(l_1)/108)**3)*h**3)/np.sqrt(st.variance(x_main))**3\n",
    "ke=((sum(l_4)/108-4*sum(l_3)/108*sum(l_1)/108+6*sum(l_2)/108*(sum(l_1)/108)**2-3*(sum(l_1)/108)**4)*h**4)/np.sqrt(st.variance(x_main))**4-3\n",
    "print(\"Коэффициент ассиметрии: \",round(ka,3),\"Коэффициент эксцесса\",round(ke,3))"
   ]
  },
  {
   "cell_type": "markdown",
   "id": "12e0cff8",
   "metadata": {},
   "source": [
    "### Вывод\n",
    "Коэффициент асимметрии =(приблизительно) -6.957. Он характеризует скошенность распределения по отношению к математическому ожиданию. Асимметрия положительна, если «длинная часть» кривой распределения расположена справа от математического ожидания; асимметрия отрицательна, если «длинная часть» кривой расположена слева от математического ожидания. Ассиметрия отрицательна $\\Rightarrow$ более длинная часть кривой расположенна слева от мат.ожидания\n",
    "\n",
    "Эксцесс =(приблизительно) 5.371. Данный коэффициент нужен для оценки «крутости», т. е. большего или меньшего подъема кривой теоретического распределения по сравнению с нормальной кривой. В моем случае эксцесс < 0 $\\Rightarrow$ имеет меньший подьем кривой в сравнении с нормальной кривой"
   ]
  },
  {
   "cell_type": "markdown",
   "id": "c14c202a",
   "metadata": {},
   "source": [
    "## 11. Вычислить моду, медиану и коэффициент вариации для заданного распределения."
   ]
  },
  {
   "cell_type": "code",
   "execution_count": 43,
   "id": "07233d73",
   "metadata": {},
   "outputs": [
    {
     "name": "stdout",
     "output_type": "stream",
     "text": [
      "Мода:  2.670572916666667\n",
      "Медиана:  2.9503472222222227\n",
      "Коэффициент вариации:  66.64\n"
     ]
    }
   ],
   "source": [
    "kv=sko/mod*100\n",
    "max=0;\n",
    "for i in range(ster):\n",
    "    if k[i]>max:\n",
    "        max=k[i]\n",
    "        d=i\n",
    "moda=a[d]+h*((k[d]-k[d-1])/((k[d]-k[d-1])+(k[d]-k[d+1])))\n",
    "mediana=a[ind]+h*(0.5-p1_1[ind-1])/(k2[ind])\n",
    "print(\"Мода: \", moda)\n",
    "print(\"Медиана: \", mediana)\n",
    "print(\"Коэффициент вариации: \", round(kv,2))\n",
    "\n"
   ]
  },
  {
   "cell_type": "markdown",
   "id": "56f47133",
   "metadata": {},
   "source": [
    "### Вывод\n",
    "По произведенным расчетам можно сделать такие выводы: \n",
    "1. Серединный элемент ранжированного ряда(медиана) = 3\n",
    "2. Значение с наибольшей частотой (мода) = 4 - наиболее встречающееся значение нарушений за одну игру\n",
    "3. Коэффициент вариации  = 66.64 показывает отношение среднеквадратического отклонения к среднему арифметическому значению n результатов измерений"
   ]
  },
  {
   "cell_type": "markdown",
   "id": "65a2e199",
   "metadata": {},
   "source": [
    "## 12. Вычислить точность и доверительный интервал для математического ожидания при неизвестном среднеквадратичном отклонении при заданном объёме выборки для доверительной точности 𝛾 ∈ {0.95, 0.99}."
   ]
  },
  {
   "cell_type": "code",
   "execution_count": 44,
   "id": "2ef5334a",
   "metadata": {},
   "outputs": [
    {
     "name": "stdout",
     "output_type": "stream",
     "text": [
      "Найденная точность для надежности 0.95: 0.4226555468473864\n",
      "Найденный интервальный ряд для надёжности 0.95: ( 3.019 , 3.865 )\n",
      "Найденная точность для надежности 0.99: 0.5591801601205996\n",
      "Найденный интервальный ряд для надёжности 0.99: ( 2.883 , 4.001 )\n"
     ]
    }
   ],
   "source": [
    "t095 = 1.9825972617102907 #табличные значения\n",
    "t099 = 2.6230084108138523\n",
    "tochnost095 = (t095*(np.sqrt(np.var(x_main))/(math.sqrt(108))))\n",
    "tochnost099 = (t099*(np.sqrt(np.var(x_main))/(math.sqrt(108))))\n",
    "print(\"Найденная точность для надежности 0.95:\", tochnost095) #решил не округлять\n",
    "print(\"Найденный интервальный ряд для надёжности 0.95: (\", round(mod-tochnost095,3),\",\", round(mod+tochnost095,3),\")\")\n",
    "print(\"Найденная точность для надежности 0.99:\", tochnost099,) #решил не округлять\n",
    "print(\"Найденный интервальный ряд для надёжности 0.99: (\", round(mod-tochnost099,3),\",\", round(mod+tochnost099,3),\")\")\n"
   ]
  },
  {
   "cell_type": "markdown",
   "id": "eab8e4de",
   "metadata": {},
   "source": [
    "### Вывод\n",
    "Вычисленна точность и доверительный интервал для математического ожидания при неизвестном среднеквадратичном отклонении при заданном объёме выборки для доверительной точности $\\gamma \\in \\{0.95, 0.99\\}$.   \n",
    "\n",
    "Точность при $\\gamma = 0.95$ = 0.4226555468473864, Доверительный интервал при $\\gamma = 0.95$: 3.019 < $\\alpha$ < 3.865 - данный интервал с вероятностью $\\gamma = 0.95$ накрывает истинное значение $\\alpha$ измеряемой величины\n",
    "\n",
    "точность при $\\gamma = 0.99$ = 0.5591801601205996, Доверительный интервал при $\\gamma = 0.99$:  2.883 < $\\alpha$ < 4.001 - данный интервал с вероятностью $\\gamma = 0.99$ накрывает истинное значение $\\alpha$ измеряемой величины"
   ]
  },
  {
   "cell_type": "markdown",
   "id": "55110a2c",
   "metadata": {},
   "source": [
    "## 13. Для вычисления границ доверительного интервала для среднеквадратичного отклонения определить значение 𝑞 при заданных 𝛾 и 𝑛. Построить доверительные интервалы, сделать выводы."
   ]
  },
  {
   "cell_type": "code",
   "execution_count": 45,
   "id": "311930a2",
   "metadata": {},
   "outputs": [
    {
     "name": "stdout",
     "output_type": "stream",
     "text": [
      "q для  0.95 : 0.148\n",
      "Доверительный интервал для 0.95 :( 1.8867 , 2.5442 )\n",
      "q для  0.99 : 0.203\n",
      "Доверительный интервал для 0.99 :( 1.7651 , 2.6659 )\n"
     ]
    }
   ],
   "source": [
    "z=[0.95,0.99]\n",
    "w,e,r=[0]*2,[0]*2,[0]*2\n",
    "for i in range(2):\n",
    "    w[i]=(1+z[i])/2\n",
    "    e[i]=chi2.ppf(1-w[i],108)\n",
    "    r[i]=np.sqrt((108-1)/e[i])-1\n",
    "    print(\"q для \", z[i],\":\",round(r[i],3))\n",
    "    print(\"Доверительный интервал для\",z[i],\":(\",round(2.215460180578382*(1-r[i]),4),\",\",round(2.215460180578382*(1+r[i]),4),\")\")"
   ]
  },
  {
   "cell_type": "markdown",
   "id": "e07907e3",
   "metadata": {},
   "source": [
    "## Вывод\n",
    "\n",
    "Определено значение q. Построены доверительные интервалы.  \n",
    "1.8867 < СКО < 2.5442 - с вероятностью $\\gamma = 0,95$ можно утверждать, что данный интервал накроет СКО.  \n",
    "1.7651 < СКО < 2.6659 - с вероятностью $\\gamma = 0,99$ можно утверждать, что данный интервал накроет СКО."
   ]
  },
  {
   "cell_type": "markdown",
   "id": "88a5f827",
   "metadata": {},
   "source": [
    "## 14. Проверить гипотезу о нормальности заданного распределения с помощью критерия 𝜒2 (Пирсона). Для этого необходимо найти теоретические частоты и вычислить наблюдаемое значение критерия."
   ]
  },
  {
   "cell_type": "code",
   "execution_count": 46,
   "id": "5f5dd152",
   "metadata": {},
   "outputs": [
    {
     "name": "stdout",
     "output_type": "stream",
     "text": [
      "+---+---------------------+------+-------+--------------------+----------------+------------------------+----------+-----------------------+\n",
      "| i |     (x(i-1);xi]     | n(i) |  p(i) |       n(i)'        | (n(i)-n(i)')^2 | ((n(i)-n(i)')^2)/n(i)' | (n(i))^2 |     (n(i))^2/n(i)'    |\n",
      "+---+---------------------+------+-------+--------------------+----------------+------------------------+----------+-----------------------+\n",
      "| 1 |   [-inf, 1.83125]   |  21  | 0.241 |       26.055       |     25.556     |         0.981          |   441    |         16.926        |\n",
      "| 2 |  [1.83125, 3.6625]  |  54  | 0.297 |       32.079       |    480.532     |         14.98          |   2916   |         90.901        |\n",
      "| 3 |  [3.6625, 5.49375]  |  15  | 0.276 |       29.828       |    219.879     |         7.371          |   225    |         7.543         |\n",
      "| 4 |   [5.49375, 7.325]  |  14  |  0.14 |       15.151       |     1.326      |         0.088          |   196    |         12.936        |\n",
      "| 5 |   [7.325, 9.15625]  |  0   | 0.039 |       4.199        |     17.628     |         4.199          |    0     |          0.0          |\n",
      "| 6 |  [9.15625, 10.9875] |  2   | 0.006 |       0.633        |     1.868      |          2.95          |    4     |         6.317         |\n",
      "| 7 | [10.9875, 12.81875] |  1   |  0.0  |       0.052        |     0.899      |         17.348         |    1     |         19.296        |\n",
      "| 8 |   [12.81875, inf]   |  1   |  0.0  |       0.002        |     0.995      |        423.619         |    1     |        425.617        |\n",
      "|   |        Сумма        | 108  |  1.0  | 107.99999999999999 |       -        |        471.535         |    -     | ['Cумма-n:', 471.535] |\n",
      "+---+---------------------+------+-------+--------------------+----------------+------------------------+----------+-----------------------+\n",
      "Рассчитанная критическая точка: 11.07\n",
      "Рассчитанная статистика: 471.535\n",
      "Вывод: Выдвинутая гипотеза отвергается\n"
     ]
    }
   ],
   "source": [
    "table4 = PrettyTable([\"i\",\"(x(i-1);xi]\",\"n(i)\",\"p(i)\",\"n(i)'\",\"(n(i)-n(i)')^2\",\"((n(i)-n(i)')^2)/n(i)'\",\"(n(i))^2\",\"(n(i))^2/n(i)'\"]) \n",
    "a[0]=-math.inf\n",
    "b[ster-1]=math.inf\n",
    "pupupu_l,l1,l2,l3,l4=[0]*ster,[0]*ster,[0]*ster,[0]*ster,[0]*ster\n",
    "for i in range(ster):\n",
    "    pupupu_l[i]=stats.norm.cdf((b[i]-mod)/sko)-stats.norm.cdf((a[i]-mod)/sko)\n",
    "    l1[i]=108*pupupu_l[i]\n",
    "    l2[i]=(k[i]-108*pupupu_l[i])**2\n",
    "    l3[i]=((k[i]-108*pupupu_l[i])**2)/(108*pupupu_l[i])\n",
    "    l4[i]=k[i]**2/(108*pupupu_l[i])\n",
    "    table4.add_row([i+1,[a[i],b[i]],k[i],round(pupupu_l[i],3),round(l1[i],3),round(l2[i],3),round(l3[i],3),k[i]**2,round(l4[i],3)])\n",
    "table4.add_row([\" \",\"Сумма\",sum(k),sum(pupupu_l),sum(l1),\"-\",round(sum(l3),3),\"-\",[\"Cумма-n:\",round(sum(l4)-108,3)]])\n",
    "print(table4)\n",
    "al=0.05\n",
    "krit=chi2.ppf(1-al,ster-3)\n",
    "print(\"Рассчитанная критическая точка:\", round(krit,3)) #с округлением\n",
    "print(\"Рассчитанная статистика:\",round(sum(l3),3))\n",
    "if sum(l3)<krit:\n",
    "    print(\"Вывод: Опытные данные подтверждают закон теоретического распределения. Гипотеза принимается.\")\n",
    "else:\n",
    "    print(\"Вывод: Выдвинутая гипотеза отвергается\")"
   ]
  },
  {
   "cell_type": "markdown",
   "id": "da2d1b03",
   "metadata": {},
   "source": [
    "### Вывод\n",
    "Можно заметить, что $\\chi_{набл}^2 > \\chi_{крит}^2$ $\\Rightarrow$ нулевая гипотеза отвергается. Эмпирические и теоретические частоты отличаются значимо, и это различие вряд ли случайно."
   ]
  },
  {
   "cell_type": "markdown",
   "id": "ab27e16d",
   "metadata": {},
   "source": [
    "## Выводы\n",
    "В процессе выполнения практической работы проведено ознакомление с основными правилами формирования выборки и подготовки выборочных данных к статистическому анализу. Получены практические навыки нахождения точечных статистических оценок параметров распределения, а также вычисления интервальных статистических оценок параметров распределения выборочных данных и проверки «справедливости» статистических гипотез."
   ]
  },
  {
   "cell_type": "code",
   "execution_count": null,
   "id": "10cfff2f",
   "metadata": {},
   "outputs": [],
   "source": []
  }
 ],
 "metadata": {
  "kernelspec": {
   "display_name": "Python 3 (ipykernel)",
   "language": "python",
   "name": "python3"
  },
  "language_info": {
   "codemirror_mode": {
    "name": "ipython",
    "version": 3
   },
   "file_extension": ".py",
   "mimetype": "text/x-python",
   "name": "python",
   "nbconvert_exporter": "python",
   "pygments_lexer": "ipython3",
   "version": "3.8.5"
  }
 },
 "nbformat": 4,
 "nbformat_minor": 5
}
