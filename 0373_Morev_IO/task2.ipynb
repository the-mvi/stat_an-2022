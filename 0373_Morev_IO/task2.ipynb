{
 "cells": [
  {
   "cell_type": "markdown",
   "id": "6e5f29d7",
   "metadata": {},
   "source": [
    "# Практическая работа №2: Корреляционный и регрессионный анализ"
   ]
  },
  {
   "cell_type": "markdown",
   "id": "9a5fa4c4",
   "metadata": {},
   "source": [
    "Выполнил студент гр. 0373 Морев Иван. Вариант №13"
   ]
  },
  {
   "cell_type": "markdown",
   "id": "89f08bf6",
   "metadata": {},
   "source": [
    "## Цель работы\n",
    "Освоение основных понятий, связанных с корреляционной зависимостью между случайными величинами, статистическими гипотезами и проверкой их «справедливости». Ознакомление с основными положениями метода наименьших квадратов (МНК), со статистическими свойствами МНК оценок, с понятием функции регрессии и роли МНК в регрессионном анализе, с корреляционным отношением, как мерой тесноты произвольной (в том числе и линейной) корреляционной связи."
   ]
  },
  {
   "cell_type": "markdown",
   "id": "c8c43ae3",
   "metadata": {},
   "source": [
    "## Основные теоретические положения"
   ]
  },
  {
   "cell_type": "markdown",
   "id": "3e7f623e",
   "metadata": {},
   "source": [
    "*Функциональная зависимость* - каждому значению переменной соответствует определенное значение другой переменной.    \n",
    "*Статистическая зависимость* - Изменение величины влечет изменение распределения другой величины.  \n",
    "\n",
    "*Вычисление коэффициента корреляции с помощью условных вариант:*\n",
    "\\begin{equation}r_\\beta=\\frac{1}{n}\\sum_{i=1}^{k_u}\\sum_{j=1}^{k_v}{n_{uv}u_iv_j}-\\bar u\\cdot\\bar v\\end{equation}\n",
    "\n",
    "*Коэффициент корреляции Пирсона* $r_\\beta$ – параметр, который служит для оценки силы линейной связи между $x$ и $y$. Знак $r_\\beta$ означает, увеличивается величина или уменьшается.\n",
    "\n",
    "*Доверительный интервал для с. в. z:* \\begin{equation}\\Biggl(z-\\frac{t}{\\sqrt{n-3}};z+\\frac{t}{\\sqrt{n-3}}\\Biggl),\\end{equation} где $z=arcth(r_\\beta)$, $t$ получают из равенства $\\Phi(t)= \\frac{\\gamma}{2}$.\n",
    "\n",
    "*Доверительный интервал для коэффициента корреляции:*\n",
    "$\\bigl(th(z_l);th(z_u)\\bigl)$\n",
    "\n",
    "*Теоретический коэффициент детерминации* $R^2$ – показатель качества регрессии, который показывает долю дисперсии, объяснённую моделью регрессии.\n",
    "\\begin{equation}R_y^2=\\frac{(\\delta_y^*)^2}{\\sigma_y^2}=\\frac{\\sum_{i=1}^n{(y_{x_i}-\\bar y)^2}}{n\\sigma_y^2}, R_x^2=\\frac{(\\delta_x^*)^2}{\\sigma_x^2}=\\frac{\\sum_{i=1}^n{(x_{y_i}-\\bar x)^2}}{n\\sigma_x^2}\\end{equation}  \n",
    "\n",
    "*Наблюдаемое значение с. в. для проверки статистической гипотезы о равенстве коэффициента корреляции нулю:* $T$набл = \\begin{equation}r_\\beta\\frac{\\sqrt{n-2}}{\\sqrt{1-r_\\beta^2}}\\end{equation}\n",
    "*Критическое значение с. в. для проверки статистической гипотезы о равенстве коэффициента корреляции нулю:* $T$крит$ = t(\\alpha, df), df = n-2$.\n",
    "\n",
    "*Средняя ошибка аппроксимации (приближения)* $A$ – показатель качества регрессии. $A \\lt 7\\%$ свидетельствует о хорошем выборе модели.\n",
    "\\begin{equation}A_y=\\frac{1}{n}\\sum_{i=1}^n\\Big|\\frac{\\varepsilon {y_i}}{y_i}\\Big|, A_x=\\frac{1}{n}\\sum_{i=1}^n\\Big|\\frac{\\varepsilon {x_i}}{x_i}\\Big|\\end{equation}\n",
    "\n",
    "*Уравнения средней квадратичной регрессии:*\n",
    "\\begin{equation}\\bar y_x-\\bar y=r_{xy}\\frac{\\sigma_y}{\\sigma_x}(x-\\bar x), \\bar x_y-\\bar x=r_{xy}\\frac{\\sigma_x}{\\sigma_y}(y-\\bar y)\\end{equation}\n",
    "\n",
    "*Корреляционные отношения:* \n",
    "\\begin{equation}\\eta_{yx}=\\frac{\\sigma_{\\bar y_x}}{\\sigma_y}=\\frac{\\sqrt{\\sum_{n_x(\\bar y_x-\\bar y)^2}}}{\\sqrt{\\sum_{n_y(y-\\bar y)^2}}}, \\eta_{xy}=\\frac{\\sigma_{\\bar x_y}}{\\sigma_x}=\\frac{\\sqrt{\\sum_{n_y(\\bar x_y-\\bar x)^2}}}{\\sqrt{\\sum_{n_x(x-\\bar x)^2}}}\\end{equation}\n",
    "\n",
    "*Средняя квадратическая ошибка* $S_\\varepsilon$ – показатель качества регрессии. Величину средней квадратической ошибки можно сравнить со средним квадратическим отклонением результативного признака. Средняя квадратическая ошибка, меньшая чем $\\sigma$, говорит о целесообразности использования модели регрессии.\n",
    "\\begin{equation}S_{\\varepsilon y}=\\sqrt{\\frac{\\sum_{i=1}^n\\varepsilon_{y_i}^2}{n-l}}, S_{\\varepsilon x}=\\sqrt{\\frac{\\sum_{i=1}^n\\varepsilon_{x_i}^2}{n-l}},\\end{equation}\n",
    "где $\\varepsilon {y_i}=y_i-y_{x_i}$, $\\varepsilon {x_i}=x_i-x_{y_i}$\n",
    "\n"
   ]
  },
  {
   "cell_type": "markdown",
   "id": "d49bed24",
   "metadata": {},
   "source": [
    "## Постановка задачи"
   ]
  },
  {
   "cell_type": "markdown",
   "id": "0e9445c9",
   "metadata": {},
   "source": [
    "Из заданной генеральной совокупности сформировать выборку по второму признаку. Для системы двух случайных величин 𝑋 (первый признак) и 𝑌 (второй признак) сформировать двумерную выборку и найти статистическую оценку коэффициента корреляции, построить доверительный интервал для коэффициента корреляции и осуществить проверку статистической гипотезы о равенстве коэффициента корреляции нулю. Построить уравнения выборочных прямых среднеквадратической регрессии. Полученные линейные функции регрессии отобразить графически. Найти выборочное корреляционное отношение. Оценить адекватность моделей. Полученные результаты содержательно проинтерпретировать."
   ]
  },
  {
   "cell_type": "markdown",
   "id": "58868c0e",
   "metadata": {},
   "source": [
    "## Выполнение работы"
   ]
  },
  {
   "cell_type": "code",
   "execution_count": 1,
   "id": "3463e909",
   "metadata": {},
   "outputs": [],
   "source": [
    "import numpy as np\n",
    "import math\n",
    "from prettytable import PrettyTable\n",
    "import matplotlib.pyplot as plt\n",
    "from sympy import diff, symbols\n",
    "from math import log \n",
    "from numpy import nan"
   ]
  },
  {
   "cell_type": "code",
   "execution_count": 2,
   "id": "338601c4",
   "metadata": {},
   "outputs": [
    {
     "name": "stdout",
     "output_type": "stream",
     "text": [
      "[3.33, 4.06, 10.35, 1.41, 2.71, 1.44, 3.32, 2.49, 1.94, 3.33, 2.5, 9.04, 5.29, 1.59, 2.95, 2.47, 3.22, 1.35, 1.67, 2.53, 3.92, 1.44, 1.52, 1.34, 1.36, 1.41, 4.07, 5, 2.06, 6.65, 1.35, 2.08, 2.45, 3.14, 1.4, 4.78, 10.75, 1.85, 2.35, 2.45, 1.8, 2.45, 1.38, 3, 1.77, 3.11, 1.93, 1.36, 2.38, 1.47, 1.78, 8.13, 1.53, 2.5, 5.17, 1.19, 2.73, 2.09, 1.4, 1.15, 2.57, 3.43, 2.44, 2.05, 2.71, 3.56, 1.86, 2.57, 2.58, 3.21, 2.54, 1.94, 1.41, 4.5, 1.2, 3.18, 1.99, 1.78, 15.6, 2.1, 1.61, 3.71, 2.39, 2.59, 2.39, 3.52, 2.79, 3.84, 2, 1.29, 2.42, 3.15, 3.42, 3.76, 1.83, 3.14, 1.6, 1.5, 2.53, 2.08, 1.58, 1.61, 4.97, 1.16, 1.48, 1.57, 1.46, 1.84]\n"
     ]
    }
   ],
   "source": [
    "x_main = [\n",
    "1.94,\n",
    "1.68,\n",
    "1.15,\n",
    "6.08,\n",
    "2.69,\n",
    "6.23,\n",
    "2.43,\n",
    "2.77,\n",
    "4.06,\n",
    "1.93,\n",
    "3.45,\n",
    "1.28,\n",
    "1.45,\n",
    "4.17,\n",
    "2.08,\n",
    "2.9,\n",
    "1.88,\n",
    "6.29,\n",
    "4.13,\n",
    "2.47,\n",
    "1.62,\n",
    "5.4,\n",
    "5.39,\n",
    "6.23,\n",
    "5.69,\n",
    "6.3,\n",
    "1.57,\n",
    "1.48,\n",
    "2.81,\n",
    "1.27,\n",
    "6.06,\n",
    "2.95,\n",
    "2.63,\n",
    "1.97,\n",
    "5.82,\n",
    "1.51,\n",
    "1.15,\n",
    "3.28,\n",
    "3.08,\n",
    "2.62,\n",
    "3.29,\n",
    "2.96,\n",
    "6.23,\n",
    "2.1,\n",
    "3.64,\n",
    "2.4,\n",
    "3.17,\n",
    "5.98,\n",
    "3.13,\n",
    "5.55,\n",
    "3.77,\n",
    "1.23,\n",
    "4.27,\n",
    "3.23,\n",
    "1.67,\n",
    "9.94,\n",
    "2.05,\n",
    "2.89,\n",
    "5.5,\n",
    "14.65,\n",
    "2.62,\n",
    "1.8,\n",
    "2.56,\n",
    "2.99,\n",
    "2.49,\n",
    "1.79,\n",
    "3.24,\n",
    "2.57,\n",
    "2.76,\n",
    "1.73,\n",
    "2.88,\n",
    "3.29,\n",
    "6.48,\n",
    "1.53,\n",
    "9.43,\n",
    "1.96,\n",
    "3.09,\n",
    "3.34,\n",
    "0,\n",
    "2.82,\n",
    "4.15,\n",
    "1.66,\n",
    "2.62,\n",
    "2.45,\n",
    "2.81,\n",
    "1.98,\n",
    "2.57,\n",
    "1.66,\n",
    "2.98,\n",
    "7.16,\n",
    "2.9,\n",
    "2,\n",
    "1.84,\n",
    "1.7,\n",
    "3.46,\n",
    "2.02,\n",
    "4.18,\n",
    "4.95,\n",
    "2.72,\n",
    "2.98,\n",
    "4.53,\n",
    "4.5,\n",
    "1.48,\n",
    "12,\n",
    "5.06,\n",
    "4.66,\n",
    "5.24,\n",
    "3.54,\n",
    "]\n",
    "y_main = [\n",
    "3.33,\n",
    "4.06,\n",
    "10.35,\n",
    "1.41,\n",
    "2.71,\n",
    "1.44,\n",
    "3.32,\n",
    "2.49,\n",
    "1.94,\n",
    "3.33,\n",
    "2.5,\n",
    "9.04,\n",
    "5.29,\n",
    "1.59,\n",
    "2.95,\n",
    "2.47,\n",
    "3.22,\n",
    "1.35,\n",
    "1.67,\n",
    "2.53,\n",
    "3.92,\n",
    "1.44,\n",
    "1.52,\n",
    "1.34,\n",
    "1.36,\n",
    "1.41,\n",
    "4.07,\n",
    "5,\n",
    "2.06,\n",
    "6.65,\n",
    "1.35,\n",
    "2.08,\n",
    "2.45,\n",
    "3.14,\n",
    "1.4,\n",
    "4.78,\n",
    "10.75,\n",
    "1.85,\n",
    "2.35,\n",
    "2.45,\n",
    "1.8,\n",
    "2.45,\n",
    "1.38,\n",
    "3,\n",
    "1.77,\n",
    "3.11,\n",
    "1.93,\n",
    "1.36,\n",
    "2.38,\n",
    "1.47,\n",
    "1.78,\n",
    "8.13,\n",
    "1.53,\n",
    "2.5,\n",
    "5.17,\n",
    "1.19,\n",
    "2.73,\n",
    "2.09,\n",
    "1.4,\n",
    "1.15,\n",
    "2.57,\n",
    "3.43,\n",
    "2.44,\n",
    "2.05,\n",
    "2.71,\n",
    "3.56,\n",
    "1.86,\n",
    "2.57,\n",
    "2.58,\n",
    "3.21,\n",
    "2.54,\n",
    "1.94,\n",
    "1.41,\n",
    "4.5,\n",
    "1.2,\n",
    "3.18,\n",
    "1.99,\n",
    "1.78,\n",
    "15.6,\n",
    "2.1,\n",
    "1.61,\n",
    "3.71,\n",
    "2.39,\n",
    "2.59,\n",
    "2.39,\n",
    "3.52,\n",
    "2.79,\n",
    "3.84,\n",
    "2,\n",
    "1.29,\n",
    "2.42,\n",
    "3.15,\n",
    "3.42,\n",
    "3.76,\n",
    "1.83,\n",
    "3.14,\n",
    "1.6,\n",
    "1.5,\n",
    "2.53,\n",
    "2.08,\n",
    "1.58,\n",
    "1.61,\n",
    "4.97,\n",
    "1.16,\n",
    "1.48,\n",
    "1.57,\n",
    "1.46,\n",
    "1.84,\n",
    "]\n",
    "print(y_main)"
   ]
  },
  {
   "cell_type": "code",
   "execution_count": 3,
   "id": "d47f52c2",
   "metadata": {},
   "outputs": [],
   "source": [
    "x_main.sort()\n",
    "length=[1]*108\n",
    "for i in range(108):\n",
    "    length[i]=x_main.count(x_main[i])\n",
    "for i in range(108):\n",
    "    for j in range(i+1,108):\n",
    "        if x_main[i]==x_main[j]:\n",
    "            length[j]=0\n",
    "r=x_main[108-1]-x_main[0]\n",
    "ster=math.ceil(1+math.log2(108))\n",
    "h=r/ster\n",
    "y1=[0]*ster\n",
    "u=[0]*ster\n",
    "y1[0]=x_main[0]\n",
    "u[0]=x_main[0]+h\n",
    "for i in range(1,ster):\n",
    "    y1[i]= x_main[0]+h*i\n",
    "    u[i]= x_main[0]+h*(i+1)\n",
    "k=[0]*ster\n",
    "ser=[0]*ster\n",
    "k[0]=1\n",
    "for i in range(len(y1)):\n",
    "    ser[i]=(y1[i]+u[i])/2\n",
    "    for j in range(108):\n",
    "        if (y1[i]<x_main[j]<=u[i]):\n",
    "            k[i]+=1\n",
    "mod=0\n",
    "for i in range(ster):\n",
    "    mod+=k[i]*ser[i]/108\n",
    "dis=0\n",
    "for i in range(ster):\n",
    "    dis+=k[i]*(ser[i]-mod)**2/108\n",
    "sko=np.sqrt(dis)"
   ]
  },
  {
   "cell_type": "markdown",
   "id": "f6f27afe",
   "metadata": {},
   "source": [
    "### 1. Провести статистическую обработку второй выборки в объеме практической работы №1 с целью определения точечных статистических оценок параметров распределения исследуемого признака (математического ожидания, дисперсии, среднеквадратичного отклонения, асимметрии, эксцесса, моды, медианы и коэффициента вариации). Оформить результаты в виде таблиц, сделать выводы"
   ]
  },
  {
   "cell_type": "code",
   "execution_count": 4,
   "id": "37d07ec1",
   "metadata": {},
   "outputs": [
    {
     "name": "stdout",
     "output_type": "stream",
     "text": [
      "+---+--------------------------------+--------------------+------+-------+----------+----------+\n",
      "| i |         (y(i-1);y(i)]          |       y(cp)        | n(i) |   p   | sum n(i) | sum p(i) |\n",
      "+---+--------------------------------+--------------------+------+-------+----------+----------+\n",
      "| 1 |        [1.15, 2.95625]         | 2.0531249999999996 |  75  | 0.694 |    75    |  0.694   |\n",
      "| 2 |  [2.95625, 4.762499999999999]  | 3.8593749999999996 |  22  | 0.204 |    97    |  0.898   |\n",
      "| 3 |  [4.762499999999999, 6.56875]  | 5.6656249999999995 |  5   | 0.046 |   102    |  0.944   |\n",
      "| 4 |        [6.56875, 8.375]        |      7.471875      |  2   | 0.019 |   104    |  0.963   |\n",
      "| 5 |       [8.375, 10.18125]        |      9.278125      |  1   | 0.009 |   105    |  0.972   |\n",
      "| 6 | [10.18125, 11.987499999999999] |     11.084375      |  2   | 0.019 |   107    |  0.991   |\n",
      "| 7 | [11.987499999999999, 13.79375] |     12.890625      |  0   |  0.0  |   107    |  0.991   |\n",
      "| 8 |        [13.79375, 15.6]        | 14.696874999999999 |  1   | 0.009 |   108    |   1.0    |\n",
      "|   |                                |        Cумма       | 108  |   1   |    -     |    -     |\n",
      "+---+--------------------------------+--------------------+------+-------+----------+----------+\n",
      "+----------+--------+-------+------------+----------+------------+---------------+---------+-------+-------------+\n",
      "| Выб. ср. | Дис-ия |  СКО  | Исп.дис-ия | Исп. СКО | Коэф.ас-ии | Коэф.эксцесса | Медиана |  Мода | Коэф.вар-ии |\n",
      "+----------+--------+-------+------------+----------+------------+---------------+---------+-------+-------------+\n",
      "|   3.04   |  4.31  | 2.077 |   4.353    |  2.086   |   3.1765   |    11.6577    |  -0.151 | 2.202 |    68.317   |\n",
      "+----------+--------+-------+------------+----------+------------+---------------+---------+-------+-------------+\n"
     ]
    }
   ],
   "source": [
    "y_main.sort()\n",
    "length2=[1]*108\n",
    "for i in range(108):\n",
    "    length2[i]=y_main.count(y_main[i])\n",
    "for i in range(108):\n",
    "    for j in range(i+1,108):\n",
    "        if y_main[i]==y_main[j]:\n",
    "            length2[j]=0\n",
    "r2=y_main[108-1]-y_main[0]\n",
    "ster2=math.ceil(1+math.log2(108))\n",
    "h2=r2/ster2\n",
    "y2=[0]*ster2\n",
    "u2=[0]*ster2\n",
    "y2[0]=y_main[0]\n",
    "u2[0]=y_main[0]+h2\n",
    "for i in range(1,ster2):\n",
    "    y2[i]= y_main[0]+h2*i\n",
    "    u2[i]= y_main[0]+h2*(i+1)\n",
    "k2=[0]*ster2\n",
    "ser2=[0]*ster2\n",
    "k2[0]=1\n",
    "for i in range(len(y2)):\n",
    "    ser2[i]=(y2[i]+u2[i])/2\n",
    "    for j in range(108):\n",
    "        if (y2[i]<y_main[j]<=u2[i]):\n",
    "            k2[i]+=1\n",
    "p12=[0]*108\n",
    "p1_12=[0]*ster2\n",
    "kl_22=[0]*ster2\n",
    "for i in range(len(y2)):\n",
    "    kl_22[i]=k2[i]/108\n",
    "for i in range(108):\n",
    "    p12[i]+=length2[i]/108\n",
    "kl22=[0]*ster2\n",
    "p1_12[0]=kl_22[0]\n",
    "kl22[0]=k2[0]\n",
    "for i in range(1,len(y2)):\n",
    "            p1_12[i]=p1_12[i-1]+kl_22[i]\n",
    "            kl22[i]=kl22[i-1]+k2[i]\n",
    "table = PrettyTable([\"i\",\"(y(i-1);y(i)]\",\"y(cp)\",\"n(i)\",\"p\",\"sum n(i)\",\"sum p(i)\"])\n",
    "table.add_row([1,[y2[0],u2[0]],ser2[0],k2[0],round(kl_22[0],3),kl22[0],round(p1_12[0],3)])\n",
    "for i in range(1,len(y2)):\n",
    "    table.add_row([i+1,[y2[i],u2[i]],ser2[i],k2[i],round(kl_22[i],3),kl22[i],round(p1_12[i],3)])\n",
    "table.add_row([\" \",\" \",\" Cумма\",sum(k2),round(sum(kl_22)),\"-\",\"-\"])\n",
    "print(table)\n",
    "\n",
    "\n",
    "mod2=0\n",
    "for i in range(ster2):\n",
    "    mod2+=k2[i]*ser2[i]/108\n",
    "dis2=0\n",
    "for i in range(ster2):\n",
    "    dis2+=k2[i]*(ser2[i]-mod2)**2/108\n",
    "sko2=np.sqrt(dis2)\n",
    "isp_dis2=108/(108-1)*dis2\n",
    "isp_sko2=np.sqrt(isp_dis2)\n",
    "sum_12=0\n",
    "ui2=[0]*ster2\n",
    "l12,l22,l32,l42,l52=[0]*ster2,[0]*ster2,[0]*ster2,[0]*ster2,[0]*ster2\n",
    "for i in range(len(y2)):\n",
    "    sum_12+=k2[i]\n",
    "    if sum_12>50:\n",
    "        ind2=i\n",
    "        break\n",
    "for i in range(len(y2)):\n",
    "        ui2[i]=i-ind2\n",
    "for i in range(len(y2)):\n",
    "    l12[i]=k2[i]*ui2[i]\n",
    "    l22[i]=k2[i]*(ui2[i]**2)\n",
    "    l32[i]=k2[i]*(ui2[i]**3)\n",
    "    l42[i]=k2[i]*(ui2[i]**4)\n",
    "    l52[i]=k2[i]*((ui2[i]+1)**4)\n",
    "k_a2=((sum(l32)/108-3*sum(l22)/108*sum(l12)/108+2*(sum(l12)/108)**3)*h2**3)/sko2**3\n",
    "k_e2=((sum(l42)/108-4*sum(l32)/108*sum(l12)/108+6*sum(l22)/108*(sum(l12)/108)**2-3*(sum(l12)/108)**4)*h2**4)/sko2**4-3\n",
    "k_v2=sko2/mod2*100\n",
    "max2=0;\n",
    "for i in range(ster2):\n",
    "    if k2[i]>max2:\n",
    "        max2=k2[i]\n",
    "        md2=i\n",
    "moda2=y2[md2]+h2*((k2[md2]-k2[md2-1])/((k2[md2]-k2[md2-1])+(k2[md2]-k2[md2+1])))\n",
    "dispersia2=y2[ind2]+h2*(0.5-p1_12[ind2-1])/(kl_22[ind2])\n",
    "table2 = PrettyTable([\"Выб. ср.\",\"Дис-ия\",\"СКО\",\"Исп.дис-ия\",\"Исп. СКО\",\"Коэф.ас-ии\",\"Коэф.эксцесса\",\"Медиана\",\"Мода\",\"Коэф.вар-ии\"])\n",
    "table2.add_row([round(mod2,3),round(dis2,2),round(sko2,3),round(isp_dis2,3),round(isp_sko2,3),round(k_a2,4),round(k_e2,4),round(dispersia2,3),round(moda2,3),round(k_v2,3)])\n",
    "print(table2)"
   ]
  },
  {
   "cell_type": "markdown",
   "id": "d1fbeaf0",
   "metadata": {},
   "source": [
    "Выводы: Произведена статистическая обработка второй выборки. Определены точечные статистические оценки параметров распределения исследуемого признака (математического ожидания, дисперсии, среднеквадратичного отклонения, асимметрии, эксцесса, моды, медианы и коэффициента вариации). Коэф. эксцесса > 0, следовательно можно сказать, что острая вершина, пик выше, чем пик нормального распределения. Коэф. вариации > 33, следовательно выборка неоднородна"
   ]
  },
  {
   "cell_type": "markdown",
   "id": "6e6ad243",
   "metadata": {},
   "source": [
    "### 2. Построить двумерный интервальный вариационный ряд, оформить в виде таблицы"
   ]
  },
  {
   "cell_type": "code",
   "execution_count": 163,
   "id": "42e596e6",
   "metadata": {},
   "outputs": [
    {
     "name": "stdout",
     "output_type": "stream",
     "text": [
      "+------------+---------------+--------------------+--------------------+-------------------+-------------------+---------------------+----------------------+--------------------+---+\n",
      "|    Y|X     |[ 0 , 1.83125 ]|( 1.83125 , 3.6625 ]|( 3.6625 , 5.49375 ]|( 5.49375 , 7.325 ]|( 7.325 , 9.15625 ]|( 9.15625 , 10.9875 ]|( 10.9875 , 12.81875 ]|( 12.81875 , 14.65 ]| ny|\n",
      "+------------+---------------+--------------------+--------------------+-------------------+-------------------+---------------------+----------------------+--------------------+---+\n",
      "| (1.1, 3.0) |       22      |         54         |         0          |         0         |         0         |          0          |          0           |         0          | 76|\n",
      "| (3.0, 4.8) |       0       |         0          |         15         |         7         |         0         |          0          |          0           |         0          | 22|\n",
      "| (4.8, 6.6) |       0       |         0          |         0          |         5         |         0         |          0          |          0           |         0          | 5 |\n",
      "| (6.6, 8.4) |       0       |         0          |         0          |         2         |         0         |          0          |          0           |         0          | 2 |\n",
      "|(8.4, 10.2) |       0       |         0          |         0          |         0         |         0         |          1          |          0           |         0          | 1 |\n",
      "|(10.2, 12.0)|       0       |         0          |         0          |         0         |         0         |          1          |          1           |         0          | 2 |\n",
      "|(12.0, 13.8)|       0       |         0          |         0          |         0         |         0         |          0          |          0           |         0          | 0 |\n",
      "|(13.8, 15.6)|       0       |         0          |         0          |         0         |         0         |          0          |          0           |         1          | 1 |\n",
      "|     nx     |       22      |         54         |         15         |         14        |         0         |          2          |          1           |         1          |109|\n",
      "+------------+---------------+--------------------+--------------------+-------------------+-------------------+---------------------+----------------------+--------------------+---+\n"
     ]
    }
   ],
   "source": [
    "zer= np.zeros((ster2, ster2))\n",
    "zer[0][0]=2\n",
    "table3 = PrettyTable([\"Y|X\",\"[ 0 , 1.83125 ]\",\"( 1.83125 , 3.6625 ]\",\"( 3.6625 , 5.49375 ]\",\"( 5.49375 , 7.325 ]\",\"( 7.325 , 9.15625 ]\",\"( 9.15625 , 10.9875 ]\",\"( 10.9875 , 12.81875 ]\",\"( 12.81875 , 14.65 ]\",\"ny\"])\n",
    "table3._max_width = {\"Y|X\":17}\n",
    "table3.padding_width = 0\n",
    "x_m=x_main.copy()\n",
    "y_m=y_main.copy()\n",
    "for i in range(ster2):\n",
    "    for j in range(ster):\n",
    "        for l in range(108):\n",
    "            if (y2[i]<y_m[l]<=u2[i])&(y1[j]<x_m[l]<=u[j]):\n",
    "                zer[i][j]+=1\n",
    "for i in range(ster):\n",
    "    table3.add_row([(round(y2[i],1),round(u2[i],1)),round(zer[i][0]),round(zer[i][1]),round(zer[i][2]),round(zer[i][3]),round(zer[i][4]),round(zer[i][5]),round(zer[i][6]),round(zer[i][7]),round(sum(zer[i]))])\n",
    "rex=[0]*ster\n",
    "for i in range(ster):\n",
    "    for j in range(ster2):\n",
    "        rex[i]+=zer[j][i]\n",
    "table3.add_row([\"nx\",round(rex[0]),round(rex[1]),round(rex[2]),round(rex[3]),round(rex[4]),round(rex[5]),round(rex[6]),round(rex[7]),round(sum(rex))])\n",
    "print(table3)"
   ]
  },
  {
   "cell_type": "markdown",
   "id": "acb2387a",
   "metadata": {},
   "source": [
    "### 3. По полученному двумерному интервальному вариационному ряду сформировать условные варианты и по полученным условным вариантам построить корреляционную таблицу, сделать выводы"
   ]
  },
  {
   "cell_type": "code",
   "execution_count": 164,
   "id": "9ea5f62c",
   "metadata": {},
   "outputs": [
    {
     "name": "stdout",
     "output_type": "stream",
     "text": [
      "+------+------+------+------+------+-----+------+------+------+-------+-------+\n",
      "| v|u  |  -1  |  0   |  1   |  2   |  3  |  4   |  5   |  6   |   Ui  |   vU  |\n",
      "+------+------+------+------+------+-----+------+------+------+-------+-------+\n",
      "|  0   | 22.0 | 54.0 | 0.0  | 0.0  | 0.0 | 0.0  | 0.0  | 0.0  | -22.0 |  -0.0 |\n",
      "|  1   | 0.0  | 0.0  | 15.0 | 7.0  | 0.0 | 0.0  | 0.0  | 0.0  |  29.0 |  29.0 |\n",
      "|  2   | 0.0  | 0.0  | 0.0  | 5.0  | 0.0 | 0.0  | 0.0  | 0.0  |  10.0 |  20.0 |\n",
      "|  3   | 0.0  | 0.0  | 0.0  | 2.0  | 0.0 | 0.0  | 0.0  | 0.0  |  4.0  |  12.0 |\n",
      "|  4   | 0.0  | 0.0  | 0.0  | 0.0  | 0.0 | 1.0  | 0.0  | 0.0  |  4.0  |  16.0 |\n",
      "|  5   | 0.0  | 0.0  | 0.0  | 0.0  | 0.0 | 1.0  | 1.0  | 0.0  |  9.0  |  45.0 |\n",
      "|  6   | 0.0  | 0.0  | 0.0  | 0.0  | 0.0 | 0.0  | 0.0  | 0.0  |  0.0  |  0.0  |\n",
      "|  7   | 0.0  | 0.0  | 0.0  | 0.0  | 0.0 | 0.0  | 0.0  | 1.0  |  6.0  |  42.0 |\n",
      "|  Vj  | 0.0  | 0.0  | 15.0 | 23.0 | 0.0 | 9.0  | 5.0  | 7.0  |   -   | 164.0 |\n",
      "|  Vu  | -0.0 | 0.0  | 15.0 | 46.0 | 0.0 | 36.0 | 25.0 | 42.0 | 164.0 | 164.0 |\n",
      "+------+------+------+------+------+-----+------+------+------+-------+-------+\n"
     ]
    }
   ],
   "source": [
    "max1=0\n",
    "max2=0\n",
    "for i in range(ster):\n",
    "    if sum(zer[i])>max2:\n",
    "        max2=sum(zer[i])\n",
    "        g2=i\n",
    "    if rex[i]>max1:\n",
    "        max1=rex[i]\n",
    "        g1=i\n",
    "vj=[0]*ster\n",
    "for i in range(ster):\n",
    "    vj[i]=i-g2\n",
    "table4 = PrettyTable([\"v|u \",-g1,1-g1,2-g1,3-g1,4-g1,5-g1,6-g1,7-g1,\"Ui\",\"vU\"])\n",
    "usi,vu=[0]*ster,[0]*ster\n",
    "usi2,vu2=[0]*ster,[0]*ster\n",
    "for i in range(ster):\n",
    "    usi[i]=zer[i][0]*(-g1)+zer[i][1]*(1-g1)+zer[i][2]*(2-g1)+zer[i][3]*(3-g1)+zer[i][4]*(4-g1)+zer[i][5]*(5-g1)+zer[i][6]*(6-g1)+zer[i][7]*(7-g1)\n",
    "    vu[i]=usi[i]*vj[i] \n",
    "    table4.add_row([vj[i],zer[i][0],zer[i][1],zer[i][2],zer[i][3],zer[i][4],zer[i][5],zer[i][6],zer[i][7],usi[i],vu[i]])  \n",
    "for i in range(ster):\n",
    "    usi2[i]=zer[0][i]*vj[0]+zer[1][i]*vj[1]+zer[2][i]*vj[2]+zer[3][i]*vj[3]+zer[4][i]*vj[4]+zer[5][i]*vj[5]+zer[6][i]*vj[6]+zer[7][i]*vj[7]\n",
    "    vu2[i]=usi2[i]*(i-g1)\n",
    "if sum(vu)==sum(vu2):\n",
    "    pr=sum(vu)\n",
    "else:\n",
    "    pr='Суммы отличны'\n",
    "table4.add_row([\"Vj\",usi2[0],usi2[1],usi2[2],usi2[3],usi2[4],usi2[5],usi2[6],usi2[7],\"-\",sum(vu)]) \n",
    "table4.add_row([\"Vu\",vu2[0],vu2[1],vu2[2],vu2[3],vu2[4],vu2[5],vu2[6],vu2[7],sum(vu2),pr]) \n",
    "print(table4)"
   ]
  },
  {
   "cell_type": "markdown",
   "id": "8323909b",
   "metadata": {},
   "source": [
    "Вывод: суммы равны => проверка пройдена"
   ]
  },
  {
   "cell_type": "markdown",
   "id": "4b3a7a05",
   "metadata": {},
   "source": [
    "### 4. Исходя из результатов корреляционной таблицы вычислить коэффициент корреляции, сделать выводы"
   ]
  },
  {
   "cell_type": "code",
   "execution_count": 165,
   "id": "eba1fd30",
   "metadata": {},
   "outputs": [
    {
     "name": "stdout",
     "output_type": "stream",
     "text": [
      "Коэффициент корреляции =  0.9093\n"
     ]
    }
   ],
   "source": [
    "modu=0\n",
    "modv=0\n",
    "modu2=0\n",
    "modv2=0\n",
    "for i in range(ster):\n",
    "    modu+=rex[i]*(i-g1)/108\n",
    "    modv+=sum(zer[i])*vj[i]/108\n",
    "    modu2+=rex[i]*(i-g1)**2/108\n",
    "    modv2+=sum(zer[i])*vj[i]**2/108\n",
    "kf1=modu2-(modu)**2\n",
    "kf2=modv2-(modv)**2\n",
    "kk=(sum(vu)-108*modu*modv)/(108*np.sqrt(kf1)*np.sqrt(kf2))\n",
    "print(\"Коэффициент корреляции = \", round(kk,4))\n"
   ]
  },
  {
   "cell_type": "markdown",
   "id": "fa4340c6",
   "metadata": {},
   "source": [
    "Знак к.к. влияет на изменение величин после увеличения или уменьшения, к.к. > 0 => увеличение/уменьшение одной величины влечет увеличение/уменьшение соответственно другой величины"
   ]
  },
  {
   "cell_type": "markdown",
   "id": "049aaba9",
   "metadata": {},
   "source": [
    "### 5. Построить доверительный интервал для коэффициента корреляции при уровне значимости 𝛾 ∈ {0.95, 0.99}, сделать выводы"
   ]
  },
  {
   "cell_type": "code",
   "execution_count": 166,
   "id": "6495c3b6",
   "metadata": {},
   "outputs": [
    {
     "name": "stdout",
     "output_type": "stream",
     "text": [
      "Доверительный интервал с надёжностью 0.95: ( 0.87 ; 0.937 )\n",
      "Доверительный интервал с надёжностью 0.99: ( 0.854 ; 0.944 )\n"
     ]
    }
   ],
   "source": [
    "ten=math.atanh(kk)\n",
    "t11=math.tanh(ten-1.96/(np.sqrt(108-3)))\n",
    "t12=math.tanh(ten+1.96/(np.sqrt(108-3)))\n",
    "t21=math.tanh(ten-2.58/(np.sqrt(108-3)))\n",
    "t22=math.tanh(ten+2.58/(np.sqrt(108-3)))\n",
    "print(\"Доверительный интервал с надёжностью 0.95: (\",round(t11,3),\";\",round(t12,3),\")\")\n",
    "print(\"Доверительный интервал с надёжностью 0.99: (\",round(t21,3),\";\",round(t22,3),\")\")"
   ]
  },
  {
   "cell_type": "markdown",
   "id": "ab06406c",
   "metadata": {},
   "source": [
    "Вывод: Коэф. корреляции попадает в построенные доверительные интервалы"
   ]
  },
  {
   "cell_type": "markdown",
   "id": "2138a6f5",
   "metadata": {},
   "source": [
    "### 6. Осуществить проверку статистической гипотезы о равенстве коэффициента корреляции нулю при заданном уровне значимости 𝛼 = 0.05, сделать выводы"
   ]
  },
  {
   "cell_type": "code",
   "execution_count": 167,
   "id": "c7db589c",
   "metadata": {},
   "outputs": [
    {
     "name": "stdout",
     "output_type": "stream",
     "text": [
      "Гипотеза К.К.=0 не принимается\n"
     ]
    }
   ],
   "source": [
    "nabl=kk*(np.sqrt(108-2))/(np.sqrt(1-kk**2))\n",
    "krit=1.9802722\n",
    "if abs(nabl)<krit:\n",
    "    print(\"Гипотеза К.К.=0 принимается\")\n",
    "else:\n",
    "    print(\"Гипотеза К.К.=0 не принимается\")"
   ]
  },
  {
   "cell_type": "markdown",
   "id": "a12f4fa0",
   "metadata": {},
   "source": [
    "Вывод: гипотеза $H_{0}$ отвергается, принимается гипотеза $H_{1}$, о том, что К.К. не равен нулю"
   ]
  },
  {
   "cell_type": "markdown",
   "id": "a82409c5",
   "metadata": {},
   "source": [
    "### 7. Для заданной выборки построить уравнения средней квадратичной регрессии 𝑥 на 𝑦 и 𝑦 на 𝑥 соответственно. Отобразить полученные прямые на множестве выборки. Объяснить результаты"
   ]
  },
  {
   "cell_type": "code",
   "execution_count": 168,
   "id": "d51f221d",
   "metadata": {},
   "outputs": [
    {
     "data": {
      "image/png": "[encoded data removed]",
      "text/plain": [
       "<Figure size 640x480 with 1 Axes>"
      ]
     },
     "metadata": {},
     "output_type": "display_data"
    }
   ],
   "source": [
    "for i in range(108):\n",
    "    plt.plot(x_m[i],y_m[i],'ko')\n",
    "l=int(u[7]-y1[0])\n",
    "gr_y=[0]*l\n",
    "ln=[0]*l\n",
    "for i in range(l):\n",
    "    ln[i]=i+y1[0]\n",
    "    gr_y[i]=(kk*sko2*((i+y1[0])-mod))/sko+mod2  \n",
    "plt.plot(ln,gr_y,'b')\n",
    "l2=int(u2[7]-y2[0])\n",
    "gr_x=[0]*l2\n",
    "ln2=[0]*l2\n",
    "for i in range(l2):\n",
    "    ln2[i]=i+y2[0]\n",
    "    gr_x[i]=(kk*sko*((i+y2[0])-mod2))/sko2+mod\n",
    "plt.plot(gr_x,ln2,'g')\n",
    "plt.xlabel(\"X\")\n",
    "plt.ylabel(\"Y\")\n",
    "plt.grid()\n",
    "plt.show()"
   ]
  },
  {
   "cell_type": "markdown",
   "id": "6e676103",
   "metadata": {},
   "source": [
    "Вывод: с увеличением одной величины следует увеличение другой => положительность К.К. подтверждается"
   ]
  },
  {
   "cell_type": "markdown",
   "id": "058ae24c",
   "metadata": {},
   "source": [
    "### 8. Вычислить корреляционные отношения 𝜂𝑦𝑥 и 𝜂𝑥𝑦. Убедиться, что неравенства 𝜂𝑦𝑥 > |𝑟𝑥𝑦| и 𝜂𝑥𝑦 > |𝑟𝑥𝑦| выполняются. Сделать выводы"
   ]
  },
  {
   "cell_type": "code",
   "execution_count": 169,
   "id": "5ebdec92",
   "metadata": {},
   "outputs": [
    {
     "name": "stdout",
     "output_type": "stream",
     "text": [
      "Выборочное корреляционное отношение YX:  0.9726705901978173\n",
      "Выборочное корреляционное отношение XY:  0.937\n",
      "Нер-ва выполняются\n",
      "Коэффициент корреляции: 0.909\n"
     ]
    },
    {
     "name": "stderr",
     "output_type": "stream",
     "text": [
      "/tmp/ipykernel_5040/2453548282.py:13: RuntimeWarning: invalid value encountered in double_scalars\n",
      "  nyx[i]+=ser2[j]*zer[j][i]/rex[i]\n",
      "/tmp/ipykernel_5040/2453548282.py:14: RuntimeWarning: invalid value encountered in double_scalars\n",
      "  nxy[i]+=(ser[j])*zer[i][j]/(sum(zer[i]))\n"
     ]
    }
   ],
   "source": [
    "disyx=0\n",
    "disy=0\n",
    "disxy=0\n",
    "disx=0\n",
    "ymod=0\n",
    "xmod=0\n",
    "nxy=[0]*ster\n",
    "nyx=[0]*ster\n",
    "for i in range(ster):\n",
    "    ymod+=sum(zer[i])*ser2[i]/108\n",
    "    xmod+=rex[i]*ser[i]/108\n",
    "    for j in range(ster):\n",
    "        nyx[i]+=ser2[j]*zer[j][i]/rex[i]\n",
    "        nxy[i]+=(ser[j])*zer[i][j]/(sum(zer[i]))\n",
    "\n",
    "for i in range (ster):\n",
    "    if (math.isnan(nyx[i])):\n",
    "        nyx[i]=1\n",
    "    if (math.isnan(nxy[i])):\n",
    "        nxy[i]=1\n",
    "for i in range(ster):\n",
    "    disyx+=rex[i]*(nyx[i]-ymod)**2/108\n",
    "    disxy+=sum(zer[i])*(nxy[i]-xmod)**2/108\n",
    "    disy+=sum(zer[i])*(ser2[i]-ymod)**2/108\n",
    "    disx+=rex[i]*(ser[i]-xmod)**2/108\n",
    "    \n",
    "n1=np.sqrt(disyx)/np.sqrt(disy)\n",
    "n2=np.sqrt(disxy)/np.sqrt(disx)\n",
    "print(\"Выборочное корреляционное отношение YX: \", n1)\n",
    "print(\"Выборочное корреляционное отношение XY: \", round(n2,4))\n",
    "if (n1>=kk)&(n2>=kk):\n",
    "    print(\"Нер-ва выполняются\")\n",
    "else:\n",
    "    print(\"Нер-ва не выполняются\")\n",
    "print(\"Коэффициент корреляции:\", round(kk,3))"
   ]
  },
  {
   "cell_type": "markdown",
   "id": "ad5d4349",
   "metadata": {},
   "source": [
    "Вывод: Неравенства выполняются, значит рассчеты проведены верно"
   ]
  },
  {
   "cell_type": "markdown",
   "id": "8fdeb9f7",
   "metadata": {},
   "source": [
    "### 9. Для заданной выборки построить корреляционную кривую параболического вида 𝑦 = 𝛽0+𝛽1𝑥+𝛽2𝑥^2. Отобразить полученную кривую на множестве выборки. Сделать выводы"
   ]
  },
  {
   "cell_type": "markdown",
   "id": "bd3b2cbd",
   "metadata": {},
   "source": [
    "$ 2x^2(ax^2+bx+c-y) $  \n",
    "$ 2x(ax^2+bx+c-y) $  \n",
    "$ 2ax^2+2bx+2c-2y $  \n",
    "$\\begin{cases}\n",
    " & nc+b\\sum_{i=1}^{n}x_{i}+a\\sum_{i=1}^{n}x_{i}^{2}=\\sum_{i=1}^{n}y_{i}\\\\\n",
    " & c\\sum_{i=1}^{n}x_{i}+b\\sum_{i=1}^{n}x_{i}^{2}+\\sum_{i=1}^{n}x_{i}^{3}=\\sum_{i=1}^{n}y_{i}x_{i}\\\\\n",
    " & c\\sum_{i=1}^{n}x_{i}^{2}+b\\sum_{i=1}^{n}x_{i}^{3}+\\sum_{i=1}^{n}x_{i}^{4}=\\sum_{i=1}^{n}y_{i}x_{i}^{2}\n",
    "\\end{cases}$"
   ]
  },
  {
   "cell_type": "code",
   "execution_count": 170,
   "id": "2e2e0a42",
   "metadata": {},
   "outputs": [
    {
     "name": "stdout",
     "output_type": "stream",
     "text": [
      "[0.6176412  0.43803932 0.04089359]\n"
     ]
    },
    {
     "data": {
      "image/png": "[encoded data removed]",
      "text/plain": [
       "<Figure size 640x480 with 1 Axes>"
      ]
     },
     "metadata": {},
     "output_type": "display_data"
    }
   ],
   "source": [
    "sx=0\n",
    "sx_2=0\n",
    "sx_3=0\n",
    "sx_4=0\n",
    "sy=0\n",
    "sxy=0\n",
    "sxxy=0\n",
    "for i in range(108):\n",
    "    sx+=x_main[i]\n",
    "    sx_2+=x_main[i]**2\n",
    "    sx_3+=x_main[i]**3\n",
    "    sx_4+=x_main[i]**4\n",
    "    sy+=y_main[i]\n",
    "    sxy+=x_main[i]*y_main[i]\n",
    "    sxxy+=x_main[i]**2*y_main[i]\n",
    "leftside=np.array([[108,sx,sx_2],[sx,sx_2,sx_3],[sx_2,sx_3,sx_4]])\n",
    "rightside=np.array([sy,sxy,sxxy])\n",
    "o=np.linalg.inv(leftside).dot(rightside)\n",
    "print(o)\n",
    "for i in range(108):\n",
    "    plt.plot(x_m[i],y_m[i],'ko')\n",
    "l3=[0]*l\n",
    "p_y=[0]*l\n",
    "for i in range(l):\n",
    "    l3[i]=i+y1[0]\n",
    "    p_y[i]=o[0]+o[1]*(i+y1[0])+o[2]*(i+y1[0])**2\n",
    "plt.plot(l3,p_y)\n",
    "plt.grid()\n",
    "plt.show()"
   ]
  },
  {
   "cell_type": "markdown",
   "id": "7801acb1",
   "metadata": {},
   "source": [
    "Вывод: Построена корреляционная кривая параболического вида $y=0.00010556467x^{2}-0.176854163x+721.007261$"
   ]
  },
  {
   "cell_type": "markdown",
   "id": "f9bcc8e8",
   "metadata": {},
   "source": [
    "### 10. Для заданной выборки построить нелинейные корреляционные кривые c помощью МНК в зависимости от номера варианта\n",
    "**степенная функция: 𝑦 = 𝛽0𝑥𝛽1**"
   ]
  },
  {
   "cell_type": "code",
   "execution_count": 171,
   "id": "b3b7843d",
   "metadata": {},
   "outputs": [
    {
     "data": {
      "image/png": "[encoded data removed]",
      "text/plain": [
       "<Figure size 640x480 with 1 Axes>"
      ]
     },
     "metadata": {},
     "output_type": "display_data"
    }
   ],
   "source": [
    "sum_x=0\n",
    "sum_y=0\n",
    "sum_x2=0\n",
    "sum_xy=0\n",
    "for i in range(0,108):\n",
    "    if x_main[i]!=0:\n",
    "        sum_x+=math.log(x_main[i])\n",
    "        sum_x2+=math.log(x_main[i])**2\n",
    "        sum_xy+=math.log(x_main[i])*math.log(y_main[i])\n",
    "    sum_y+=math.log(y_main[i])\n",
    "b=(sum_y-B1*sum_x)/108\n",
    "v=(108*sum_xy-sum_x*sum_y)/(108*sum_x2-(sum_x)**2)\n",
    "b_pow=np.exp(b)\n",
    "v_pow=v\n",
    "x = np.sort(x_main)\n",
    "plt.plot(x, v_pow*(x**b_pow), 'k')\n",
    "plt.scatter(x_main,y_main)\n",
    "plt.show()"
   ]
  },
  {
   "cell_type": "markdown",
   "id": "9a0f5f6b",
   "metadata": {},
   "source": [
    "### 11. Вычислить следующие показатели качества регрессии для каждого из четырёх уравнений и сделать выводы: \n",
    "### • теоретический коэффициент детерминации 𝑅2\n",
    "### • средняя квадратическая ошибка 𝑆𝜀;\n",
    "### • средняя ошибка аппроксимации (приближения) 𝐴."
   ]
  },
  {
   "cell_type": "code",
   "execution_count": 184,
   "id": "9fcb0807",
   "metadata": {},
   "outputs": [
    {
     "name": "stdout",
     "output_type": "stream",
     "text": [
      "[2, 1.15, 1.15, 1.23, 1.27, 1.28, 1.45, 1.48, 1.48, 1.51, 1.53, 1.57, 1.62, 1.66, 1.66, 1.67, 1.68, 1.7, 1.73, 1.79, 1.8, 1.84, 1.88, 1.93, 1.94, 1.96, 1.97, 1.98, 2, 2.02, 2.05, 2.08, 2.1, 2.4, 2.43, 2.45, 2.47, 2.49, 2.56, 2.57, 2.57, 2.62, 2.62, 2.62, 2.63, 2.69, 2.72, 2.76, 2.77, 2.81, 2.81, 2.82, 2.88, 2.89, 2.9, 2.9, 2.95, 2.96, 2.98, 2.98, 2.99, 3.08, 3.09, 3.13, 3.17, 3.23, 3.24, 3.28, 3.29, 3.29, 3.34, 3.45, 3.46, 3.54, 3.64, 3.77, 4.06, 4.13, 4.15, 4.17, 4.18, 4.27, 4.5, 4.53, 4.66, 4.95, 5.06, 5.24, 5.39, 5.4, 5.5, 5.55, 5.69, 5.82, 5.98, 6.06, 6.08, 6.23, 6.23, 6.23, 6.29, 6.3, 6.48, 7.16, 9.43, 9.94, 12, 14.65]\n",
      "+---+------------------+----------------+------------------+\n",
      "| № | Теор. коэф. дет. | Ср. кв. ошибка | Ср. ош. аппрокс. |\n",
      "+---+------------------+----------------+------------------+\n",
      "| 1 |      0.7574      |     0.642      |      14.731      |\n",
      "| 2 |      0.8609      |     0.6218     |      11.745      |\n",
      "| 3 |      0.9985      |     0.3894     |      6.013       |\n",
      "| 4 |      0.4264      |     1.5731     |      31.933      |\n",
      "+---+------------------+----------------+------------------+\n"
     ]
    }
   ],
   "source": [
    "pol,pol2,pol3,pol4=[0]*108,[0]*108,[0]*108,[0]*108\n",
    "odis,odis2,odis3,odis4=[0]*108,[0]*108,[0]*108,[0]*108\n",
    "dr=0\n",
    "dr2=0\n",
    "dr3=0\n",
    "dr4=0\n",
    "ar=0\n",
    "ar2=0\n",
    "ar3=0\n",
    "ar4=0\n",
    "x_m[0]=2\n",
    "for i in range(108):\n",
    "    pol[i]=(kk*sko2*(x_m[i]-mod))/sko+mod2\n",
    "    pol2[i]=(kk*sko*(y_m[i]-mod2))/sko2+mod\n",
    "    pol3[i]=o[0]+o[1]*x_m[i]+o[2]*x_m[i]**2\n",
    "    pol4[i]=o2[0]+o2[1]/x_m[i]\n",
    "    dr+=(pol[i]-mod2)**2/108\n",
    "    dr2+=(pol2[i]-mod)**2/108\n",
    "    dr3+=(pol3[i]-mod2)**2/108\n",
    "    dr4+=(pol4[i]-mod2)**2/108\n",
    "    ar+=abs((y_m[i]-pol[i])/y_m[i])/108\n",
    "    ar2+=abs((x_m[i]-pol2[i])/x_m[i])/108\n",
    "    ar3+=abs((y_m[i]-pol3[i])/y_m[i])/108\n",
    "    ar4+=abs((y_m[i]-pol4[i])/y_m[i])/108\n",
    "    odis[i]=(y_m[i]-pol[i])**2\n",
    "    odis2[i]=(x_m[i]-pol2[i])**2\n",
    "    odis3[i]=(y_m[i]-pol3[i])**2\n",
    "    odis4[i]=(y_m[i]-pol4[i])**2\n",
    "table5 = PrettyTable([\"№\",\"Теор. коэф. дет.\",\"Ср. кв. ошибка\",\"Ср. ош. аппрокс.\"])\n",
    "table5.add_row([1,round(dr/dis2,4),round(np.sqrt(sum(odis)/(108-2)),4),round(ar*100,3)])\n",
    "table5.add_row([2,round(dr2/dis,4),round(np.sqrt(sum(odis2)/(108-2)),4),round(ar2*100,3)])\n",
    "table5.add_row([3,round(dr3/dis2,4),round(np.sqrt(sum(odis3)/(108-3)),4),round(ar3*100,3)])\n",
    "table5.add_row([4,round(dr4/dis2,4),round(np.sqrt(sum(odis4)/(108-2)),4),round(ar4*100,3)])\n",
    "print(table5)\n"
   ]
  },
  {
   "cell_type": "markdown",
   "id": "a69f72ed",
   "metadata": {},
   "source": [
    "Вывод: Если посмотреть на теоретический коэффициент детерминации, то можно сказать, что в третьем урванении наилучшая связь (>0.9). Качество моделей не очень хорошее во всех уравнениях, кроме третьего (6.013%<7%) "
   ]
  },
  {
   "cell_type": "markdown",
   "id": "18f879c0",
   "metadata": {},
   "source": [
    "## Выводы:"
   ]
  },
  {
   "cell_type": "markdown",
   "id": "eb380b72",
   "metadata": {},
   "source": [
    "В данной работе были выполнены поставленные цели и задачи. Были освоены основные понятия материала к практической работе, такие как МНК, функция регрессии, корреляционное отношение и т.д. Найден коэф. корреляции (0.9093(округлен для удобства до 4го знака)). Построены доверительные интервалы для коэффициента корреляции при уровне значимости $\\gamma\\in$ { ${0.95;0.99}$}, а так же построенны 4 регрессионные модели."
   ]
  }
 ],
 "metadata": {
  "kernelspec": {
   "display_name": "Python 3 (ipykernel)",
   "language": "python",
   "name": "python3"
  },
  "language_info": {
   "codemirror_mode": {
    "name": "ipython",
    "version": 3
   },
   "file_extension": ".py",
   "mimetype": "text/x-python",
   "name": "python",
   "nbconvert_exporter": "python",
   "pygments_lexer": "ipython3",
   "version": "3.8.5"
  }
 },
 "nbformat": 4,
 "nbformat_minor": 5
}
