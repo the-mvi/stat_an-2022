{
  "metadata": {
    "kernelspec": {
      "language": "python",
      "display_name": "Python 3",
      "name": "python3"
    },
    "language_info": {
      "name": "python",
      "version": "3.7.12",
      "mimetype": "text/x-python",
      "codemirror_mode": {
        "name": "ipython",
        "version": 3
      },
      "pygments_lexer": "ipython3",
      "nbconvert_exporter": "python",
      "file_extension": ".py"
    },
    "colab": {
      "provenance": []
    }
  },
  "nbformat_minor": 0,
  "nbformat": 4,
  "cells": [
    {
      "cell_type": "markdown",
      "source": [
        "# Практическая работа №1: Формирование и первичная обработка выборки. Нахождение и точечных и интервальных оценок. Проверка статистических гипотез.\n",
        "Выполнил студент группы 0373 Курилов Артём. Вариант 11."
      ],
      "metadata": {
        "id": "Wkf3OaoBwhDJ"
      }
    },
    {
      "cell_type": "markdown",
      "source": [
        "## Цель работы\n",
        "Ознакомление с основными правилами формирования выборки и подготовки выборочных данных к статистическому анализу. Получение практических навыков нахождения точечных статистических оценок параметров распределения, а также вычисления интервальных статистических оценок параметров распределения выборочных данных и проверки\n",
        "«справедливости» статистических гипотез."
      ],
      "metadata": {
        "id": "wjRmu17VwhDL"
      }
    },
    {
      "cell_type": "markdown",
      "source": [
        "## Основные теоретические положения"
      ],
      "metadata": {
        "id": "e14W-WlJwhDM"
      }
    },
    {
      "cell_type": "markdown",
      "source": [
        "Генеральная совокупность - совокупность объектов, из которых производится выборка. Объём = N.\n",
        "\n",
        "Выборочная совокупность(выборка) - совокупность случайно отобранных объектов. Объём = n.\n",
        "\n",
        "Повторная выборка- отобранный объект (перед выбором следующего) возвращается в генеральную совокупность.\n",
        "\n",
        "Бесповторная выборка- отобранный объект не возвращается в генеральную совокупность\n",
        "\n",
        "Ранжированный ряд - расположение единиц совокупности в порядке возрастания или убывания выбранного признака.\n",
        "\n",
        "Интервальный вариационный ряд - весь промежуток измерения значений выборки $[x_{min},x_{max}]$ разбивают на частичные интервалы.\n",
        "\n",
        "Выборочное СКО: $\\sigma_{B}=\\sqrt{\\sigma_{B}^{2}}$\n",
        "\n",
        "Условные варианты - варианты, определяемые равенством $u_{i}=\\frac{x_{i}-C}{h}$, где C - ложный нуль (середина вариационного ряда). Если вариационный ряд состоит из равноостоящих вариант с шагом h, то условные варианты $u_{i}\\in\\mathbb{Z}$\n",
        "\n",
        "Мода вариационного ряда - такое значение варианты, которой соответствует наибольшая частота. \n",
        "\n",
        "Мода $M_{o}^{*}$ интервального ряда - число, заключённое в частичном интервале, которому соответсвует наибольшая частота. $M_{o}^{*}=x_{M_{o}}^{(0)}+h\\frac{n_{M_{o}}-n_{M_{o}-1}}{(n_{M_{o}}-n_{M_{o}-1})+(n_{M_{o}}-n_{M_{o}+1})}$, где $n_{M_{o}}$ - частота, модального интервала, $n_{M_{o}-1}$ - частота, соответствующая предыдущему интервалу, $n_{M_{o}+1}$ - частота, соответствующая следующему интервалу, $x_{M_{o}}^{(0)}$ - варианта, соответствующая среднему значению интервала наибольшей частоты\n",
        "\n",
        "Медиана вариационного ряда - значение признака, приходящееся на середину ранжированного ряда наблюдений. \n",
        "\n",
        "Медиана $M_{e}^{*}$интервального ряда - число, принадлежащее частичному интервалу, для которого накопленная частота состовляет половину или больше половины всей суммы частот, а предыдущая накопленная частота меньше половины всей суммы частот. $M_{e}^{*}=x_{M_{e}}^{(0)}+\\frac{h}{p_{M_{e}}^{*}}(0,5 - p\\sum_{M_{e}-1})$, где $p_{M_{e}}^{*}$ - относительная частота медианного интервала, $p\\sum_{M_{e}-1}$ - накопленная относительная частота, соответствующая предыдущему частичному интервалу,  $x_{M_{e}}^{(0)}$ - варианта, соответствующая среднему значению интервала, для которого накопленная частота состовляет половину или больше половины всей суммы частот, а предыдущая накопленная частота меньше половины всей суммы частот.\n",
        "\n",
        "Выборочный коэффициент ассиметрии: $a_{s}^{*}=\\frac{\\mu_{3}^{8}}{\\sigma_{B}^{3}}$\n",
        "\n",
        "Выборочный коэффициент экцесса: $\\varepsilon_{k}^{*}=\\frac{\\mu_{4}^{*}}{\\sigma_{B}^{4}}-3$\n",
        "\n",
        "Статистический критерий проверки основной гипотезы - правило, по которому принимается решение принять или отклонить гипотезу.\n",
        "\n",
        "Статистика критерия - случайная величина, служащая для проверки относительных гипотез.\n",
        "\n",
        "Критическая область - совокупность значений критерия, при которых основную гипотезу отвергают.\n",
        "\n",
        "Статистика: $\\chi_{nabl}^{2}=\\sum_{i=1}^{k}\\frac{(n_{i}-n_{i}^{'})^2}{n_{i}{'}}=\\sum_{i=1}^{k}\\frac{n_{i}^{2}}{n_{i}^{'}}-n$\n",
        "\n",
        "$\\chi_{krit}^{2}=\\chi^{2}(\\alpha, df)$, где $\\alpha$ - заданный уровень значимости, $df=k-r-1$ - число степеней свободы, где k - число частичных интервалов выборки, r -  число параметров дифференциальной функции распределения.\n",
        "\n",
        "$x_{i}$ - варианты, $n_{i}$ - абсолютные частоты (веса), $p_{i}^{*}=\\frac{n_{i}}{n}$ - относительные частоты.\n",
        "\n",
        "Доверительный интервал - интервал $(\\theta^{*}-\\delta;\\theta^{*}+\\delta)$, который покрывает неизвестный параметр $\\theta$ с заданной надёжностью $\\gamma$\n",
        "\n",
        "Теоретические частоты - частоты, которые находятся по формуле $n_{i}^{'}=np_{i}$, где n - объём выборки,$p_{i}$ - точечная вероятность варианты $x_{i}$ дискретной случайной величины или интервальная вероятность для варианты $x\\in(x_{i-1};x_{i}]$ непрерывной случайной величины.\n",
        "\n",
        "$\\chi_{krit}^{2}=\\chi^{2}(\\alpha, df)$, где $\\alpha$ - заданный уровень значимости, $df=k-r-1$ - число степеней свободы, где k - число частичных интервалов выборки, r -  число параметров дифференциальной функции распределения.\n",
        "\n",
        "Обычный эмпирический момент порядка r - среднее значение r-ых степеней разностей $x_{i}-C$: $\\nu_{r}^{'}=\\frac{1}{n}\\sum_{i=1}^{k}n_{i}(x_{i}-C)^r$\n",
        "\n",
        "Начальный эмпирический момент порядка r - обычный момент порядка r при C=0: $\\nu_{r}=\\frac{1}{n}\\sum_{i=1}^{k}n_{i}x_{i}^{r}$\n",
        "\n",
        "Условный эмпирический момент порядка r - начальный момент порядка r, вычисленный для условных вариант: $\\nu_{r}^{*}=\\frac{1}{n}\\sum_{i=1}^{k}n_{i}x_{i}^{r}=\\frac{1}{n}\\sum_{i=1}^{k}n_{i}(\\frac{x_{i}-C}{h})^r$\n",
        "\n",
        "Центральный эмпирический момент порядка r - обычный момент r при $C=\\overline{x_{B}}$: $\\mu_{r}^{*}=\\frac{1}{n}\\sum_{i=1}^{k}n_{i}(x_{i}-\\overline{x_{B}})^r$\n",
        "\n",
        "$\\overline{x_{B}}=h\\nu_{1}^{*}+C$, $\\sigma_{B}^{2}=\\mu_{2}^{*}$\n",
        "\n",
        "Исправленная выборочная дисперсия: $s^2=\\frac{n}{n-1}\\sigma_{B}^{2}$. *Исправленное СКО*: $s=\\sqrt{s^2}$"
      ],
      "metadata": {
        "id": "9LKbzZ4ZwhDM"
      }
    },
    {
      "cell_type": "markdown",
      "source": [
        "## Постановка задачи\n",
        "Осуществить формирование репрезентативной выборки заданного объема из имеющейся генеральной совокупности экспериментальных данных. Осуществить последовательное преобразование полученной выборки в ранжированный, вариационный и интервальный ряды. Применительно к интервальному ряду построить и отобразить графически полигон, гистограмму и эмпирическую функцию распределения для абсолютных и относительных частот. Для заданных выборочных данных вычислить с использованием метода моментов и условных вариант точечные статистические оценки математического ожидания, дисперсии, среднеквадратичного отклонения, асимметрии, эксцесса, моды, медианы и коэффициента вариации исследуемой случайной величины. Для заданной надёжности определить границы доверительных интервалов для математического ожидания и среднеквадратичного отклонения случайной величины. Проверить гипотезу о нормальном распределении исследуемой случайной величины с помощью критерия Пирсона $𝜒^{2}$.Полученные результаты содержательно проинтерпретировать."
      ],
      "metadata": {
        "id": "mN3ejaEEwhDO"
      }
    },
    {
      "cell_type": "markdown",
      "source": [
        "# Решение"
      ],
      "metadata": {
        "id": "TBm3240rwhDO"
      }
    },
    {
      "cell_type": "markdown",
      "source": [
        "## Используемые бибилиотеки:"
      ],
      "metadata": {
        "id": "-k8H7nQjwhDO"
      }
    },
    {
      "cell_type": "code",
      "source": [
        "import pandas as pd\n",
        "import numpy as np\n",
        "import matplotlib.pyplot as plt\n",
        "import math\n",
        "import matplotlib.pyplot as plt\n",
        "from prettytable import PrettyTable"
      ],
      "metadata": {
        "execution": {
          "iopub.status.busy": "2022-10-30T20:26:39.764262Z",
          "iopub.execute_input": "2022-10-30T20:26:39.764599Z",
          "iopub.status.idle": "2022-10-30T20:26:39.769460Z",
          "shell.execute_reply.started": "2022-10-30T20:26:39.764574Z",
          "shell.execute_reply": "2022-10-30T20:26:39.768527Z"
        },
        "trusted": true,
        "id": "9akeGsniwhDP"
      },
      "execution_count": null,
      "outputs": []
    },
    {
      "cell_type": "markdown",
      "source": [
        "## 1"
      ],
      "metadata": {
        "id": "OQn68aaLwhDQ"
      }
    },
    {
      "cell_type": "markdown",
      "source": [
        " Из генеральной совокупности сформировать выборку:"
      ],
      "metadata": {
        "id": "zqLsEODDwhDR"
      }
    },
    {
      "cell_type": "code",
      "source": [
        "samplex = [63.05, 60.99, 56.54, 57.9, 53.57, 57.45, 57.53, 58.77, 56.34, 59.73, 60.95, 61.03, 64.02,\n",
        "           64.72, 62.71, 64.67, 64.81, 67.99, 67.60, 68.7, 68.88, 70.83, 69.27, 68.72, 69.6, 70.77,\n",
        "           72.05, 72.04, 71.9, 72.33, 72.25, 73.4, 72.72, 71.24, 73, 72.4, 73.8, 72.14, 69.78,\n",
        "           72.15, 75.33, 75.29, 77.19, 76.15, 75.93, 78.51, 78.5, 75.88, 76.32, 76.89, 74.52, 74.12,\n",
        "           75.84, 75.5, 76.86, 76.28, 78.68, 79.89, 80.58, 82.75, 82.4, 86.66, 82.26, 78.45, 78.76,\n",
        "           77.98, 75.41, 72.42, 73.83, 74.952, 74.41, 73.45, 75.83, 79.5, 78.76, 79.41, 80.94, 82.12,\n",
        "           80.34, 79.69, 83.04, 88.57, 88.62, 88.15, 88.41, 89.95, 88.67, 88.7, 88.58, 90.2, 91.24, \n",
        "           92.36, 91.62, 91.71, 89.22, 88.57, 88.59, 87.04]\n",
        "sampley = [59.803501, 55.857151, 52.800499, 53.005402, 50.676800, 54.300499, 55.295502, 56.907001, 54.820000, 56.547001, 59.408001, 59.379902,\n",
        "           62.020000, 63.561501, 60.485500, 63.283501, 63.450001, 66.266998, 65.550003, 66.873001, 67.763496, 68.857597, 66.419998, 66.949997, \n",
        "           68.674248, 69.672501, 70.606499, 69.800003, 70.900002, 71.488853, 70.300003, 72.160500, 70.099998, 69.396004, 71.569000, 71.067497, 72.262001,\n",
        "           71.000000, 67.350502, 70.490997, 73.642998, 74.281502, 74.827003, 74.175003, 74.315498, 75.180000, 77.305000, 74.419998, 74.883003, 74.611000,\n",
        "           73.281998, 73.172997, 74.082001, 73.900002, 75.400253, 75.398499, 77.197502, 78.400253, 79.103500, 81.287498, 81.515503, 83.316498, 77.380653,\n",
        "           76.802551, 74.867996, 76.591751, 73.500000, 70.327499, 72.940247, 73.960503, 73.213501, 71.800003, 74.472504, 78.160004, 77.251503, 76.400002,\n",
        "           78.581497, 81.025497, 79.139000, 76.112000, 80.801498, 85.301498, 87.017502, 85.864998, 87.279999, 88.384499, 87.306999, 87.093002, 86.384499,\n",
        "           88.622002, 88.468498, 91.132500, 90.289001, 88.390503, 88.000000, 87.497498, 86.932999, 84.949997]\n",
        "   \n",
        " "
      ],
      "metadata": {
        "execution": {
          "iopub.status.busy": "2022-10-30T20:26:39.797341Z",
          "iopub.execute_input": "2022-10-30T20:26:39.797809Z",
          "iopub.status.idle": "2022-10-30T20:26:39.809518Z",
          "shell.execute_reply.started": "2022-10-30T20:26:39.797773Z",
          "shell.execute_reply": "2022-10-30T20:26:39.808433Z"
        },
        "trusted": true,
        "id": "zL6bwp8mwhDR"
      },
      "execution_count": null,
      "outputs": []
    },
    {
      "cell_type": "markdown",
      "source": [
        "Выборка механическая."
      ],
      "metadata": {
        "id": "yefKUvQewhDR"
      }
    },
    {
      "cell_type": "markdown",
      "source": [
        "## 2"
      ],
      "metadata": {
        "id": "-7Z2F9SwwhDS"
      }
    },
    {
      "cell_type": "code",
      "source": [
        "print(\"Ранжированный ряд:\")\n",
        "samplex = np.sort(samplex)\n",
        "print(samplex)"
      ],
      "metadata": {
        "_uuid": "8f2839f25d086af736a60e9eeb907d3b93b6e0e5",
        "_cell_guid": "b1076dfc-b9ad-4769-8c92-a6c4dae69d19",
        "execution": {
          "iopub.status.busy": "2022-10-30T20:26:39.827995Z",
          "iopub.execute_input": "2022-10-30T20:26:39.828360Z",
          "iopub.status.idle": "2022-10-30T20:26:39.834745Z",
          "shell.execute_reply.started": "2022-10-30T20:26:39.828328Z",
          "shell.execute_reply": "2022-10-30T20:26:39.833730Z"
        },
        "trusted": true,
        "id": "8qjmnvkiwhDS",
        "outputId": "c886d6c8-0dcc-4387-f09d-594d35bff8e5"
      },
      "execution_count": null,
      "outputs": [
        {
          "name": "stdout",
          "text": "Ранжированный ряд:\n[53.57  56.34  56.54  57.45  57.53  57.9   58.77  59.73  60.95  60.99\n 61.03  62.71  63.05  64.02  64.67  64.72  64.81  67.6   67.99  68.7\n 68.72  68.88  69.27  69.6   69.78  70.77  70.83  71.24  71.9   72.04\n 72.05  72.14  72.15  72.25  72.33  72.4   72.42  72.72  73.    73.4\n 73.45  73.8   73.83  74.12  74.41  74.52  74.952 75.29  75.33  75.41\n 75.5   75.83  75.84  75.88  75.93  76.15  76.28  76.32  76.86  76.89\n 77.19  77.98  78.45  78.5   78.51  78.68  78.76  78.76  79.41  79.5\n 79.69  79.89  80.34  80.58  80.94  82.12  82.26  82.4   82.75  83.04\n 86.66  87.04  88.15  88.41  88.57  88.57  88.58  88.59  88.62  88.67\n 88.7   89.22  89.95  90.2   91.24  91.62  91.71  92.36 ]\n",
          "output_type": "stream"
        }
      ]
    },
    {
      "cell_type": "code",
      "source": [
        "print(\"Вариационный ряд:\")\n",
        "first, second=np.unique(samplex, return_counts=True)\n",
        "var=np.column_stack((unique, counts)) \n",
        "print(var)"
      ],
      "metadata": {
        "execution": {
          "iopub.status.busy": "2022-10-30T20:26:39.857727Z",
          "iopub.execute_input": "2022-10-30T20:26:39.858242Z",
          "iopub.status.idle": "2022-10-30T20:26:39.866447Z",
          "shell.execute_reply.started": "2022-10-30T20:26:39.858212Z",
          "shell.execute_reply": "2022-10-30T20:26:39.865273Z"
        },
        "trusted": true,
        "id": "psLODRHYwhDT",
        "outputId": "c1ae676b-f584-4f6c-bf1c-8a98a1ea416c"
      },
      "execution_count": null,
      "outputs": [
        {
          "name": "stdout",
          "text": "Вариационный ряд:\n[[53.57      1.      ]\n [56.342999  1.      ]\n [56.54      1.      ]\n [57.45      1.      ]\n [57.533501  1.      ]\n [57.9       1.      ]\n [58.765499  1.      ]\n [59.733002  1.      ]\n [60.953499  1.      ]\n [60.99      1.      ]\n [61.025501  1.      ]\n [62.713501  1.      ]\n [63.05      1.      ]\n [64.023003  1.      ]\n [64.665497  1.      ]\n [64.721497  1.      ]\n [64.807503  1.      ]\n [67.6035    1.      ]\n [67.999496  1.      ]\n [68.696999  1.      ]\n [68.723999  1.      ]\n [68.879997  1.      ]\n [69.274101  1.      ]\n [69.599998  1.      ]\n [69.779999  1.      ]\n [70.774498  1.      ]\n [70.8265    1.      ]\n [71.239998  1.      ]\n [71.898003  1.      ]\n [72.042     1.      ]\n [72.050003  1.      ]\n [72.144997  1.      ]\n [72.150002  1.      ]\n [72.252502  1.      ]\n [72.327599  1.      ]\n [72.389999  1.      ]\n [72.417999  1.      ]\n [72.723747  1.      ]\n [73.        1.      ]\n [73.400002  1.      ]\n [73.447998  1.      ]\n [73.79705   1.      ]\n [73.833153  1.      ]\n [74.120499  1.      ]\n [74.4105    1.      ]\n [74.523499  1.      ]\n [74.952003  1.      ]\n [75.293999  1.      ]\n [75.329498  1.      ]\n [75.414902  1.      ]\n [75.5       1.      ]\n [75.825996  1.      ]\n [75.842247  1.      ]\n [75.881798  1.      ]\n [75.934502  1.      ]\n [76.147499  1.      ]\n [76.280502  1.      ]\n [76.323997  1.      ]\n [76.862503  1.      ]\n [76.893501  1.      ]\n [77.191498  1.      ]\n [77.9785    1.      ]\n [78.449997  1.      ]\n [78.5       1.      ]\n [78.514503  1.      ]\n [78.683998  1.      ]\n [78.755249  1.      ]\n [78.760002  1.      ]\n [79.407501  1.      ]\n [79.5       1.      ]\n [79.685501  1.      ]\n [79.886002  1.      ]\n [80.342247  1.      ]\n [80.581001  1.      ]\n [80.936501  1.      ]\n [82.117996  1.      ]\n [82.255501  1.      ]\n [82.398247  1.      ]\n [82.75      1.      ]\n [83.038498  1.      ]\n [86.658997  1.      ]\n [87.042503  1.      ]\n [88.150002  1.      ]\n [88.413498  1.      ]\n [88.568253  1.      ]\n [88.570999  1.      ]\n [88.580002  1.      ]\n [88.589203  1.      ]\n [88.621498  1.      ]\n [88.6735    1.      ]\n [88.699997  1.      ]\n [89.222504  1.      ]\n [89.953499  1.      ]\n [90.199997  1.      ]\n [91.241501  1.      ]\n [91.6185    1.      ]\n [91.713501  1.      ]\n [92.360001  1.      ]]\n",
          "output_type": "stream"
        }
      ]
    },
    {
      "cell_type": "code",
      "source": [
        "a=samplex[len(samplex)-1]-samplex[0]\n",
        "b=math.ceil(1+math.log2(len(samplex)))\n",
        "c=a/b\n",
        "d=[0]*b\n",
        "e=[0]*b\n",
        "d[0]=samplex[0]\n",
        "e[0]=samplex[0]+c\n",
        "print(\"Интервальный ряд:\")\n",
        "print(\"[\",samplex[0],\",\",samplex[0]+c,\"]\")\n",
        "for i in range(1,b):\n",
        "    d[i]= samplex[0]+c*i\n",
        "    e[i]= samplex[0]+c*(i+1)\n",
        "    print(\"[\",d[i],\",\",e[i],\"]\")"
      ],
      "metadata": {
        "execution": {
          "iopub.status.busy": "2022-10-30T20:26:39.890227Z",
          "iopub.execute_input": "2022-10-30T20:26:39.890565Z",
          "iopub.status.idle": "2022-10-30T20:26:39.897449Z",
          "shell.execute_reply.started": "2022-10-30T20:26:39.890541Z",
          "shell.execute_reply": "2022-10-30T20:26:39.896869Z"
        },
        "trusted": true,
        "id": "uLD8PG84whDT",
        "outputId": "30815216-5478-4fc3-ecb7-9c986f8ae899"
      },
      "execution_count": null,
      "outputs": [
        {
          "name": "stdout",
          "text": "Интервальный ряд:\n[ 53.57 , 58.41875 ]\n[ 58.41875 , 63.2675 ]\n[ 63.2675 , 68.11625000000001 ]\n[ 68.11625000000001 , 72.965 ]\n[ 72.965 , 77.81375 ]\n[ 77.81375 , 82.6625 ]\n[ 82.6625 , 87.51124999999999 ]\n[ 87.51124999999999 , 92.36 ]\n",
          "output_type": "stream"
        }
      ]
    },
    {
      "cell_type": "markdown",
      "source": [
        "## 3"
      ],
      "metadata": {
        "id": "pdj2IZjKwhDT"
      }
    },
    {
      "cell_type": "code",
      "source": [
        "novitr=[0]*b\n",
        "novitr3 = 98\n",
        "mid=[0]*b\n",
        "novitr[0]=1\n",
        "print(\"Полигон частот:\")\n",
        "for i in range(len(d)):\n",
        "    mid[i]=(d[i]+e[i])/2\n",
        "    for j in range(len(samplex)):\n",
        "        if (d[i]<samplex[j]<=e[i]):\n",
        "            novitr[i]=kol[i]+1\n",
        "plt.plot(mid,novitr,color='g')\n",
        "plt.show()"
      ],
      "metadata": {
        "execution": {
          "iopub.status.busy": "2022-10-30T20:26:39.915714Z",
          "iopub.execute_input": "2022-10-30T20:26:39.916023Z",
          "iopub.status.idle": "2022-10-30T20:26:40.063059Z",
          "shell.execute_reply.started": "2022-10-30T20:26:39.915998Z",
          "shell.execute_reply": "2022-10-30T20:26:40.062339Z"
        },
        "trusted": true,
        "id": "eXDCU81DwhDU",
        "outputId": "45e412cb-4094-4256-b88e-08f17fefff0b"
      },
      "execution_count": null,
      "outputs": [
        {
          "name": "stdout",
          "text": "Полигон частот:\n",
          "output_type": "stream"
        },
        {
          "output_type": "display_data",
          "data": {
            "text/plain": "<Figure size 432x288 with 1 Axes>",
            "image/png": "[encoded data removed]"
          },
          "metadata": {
            "needs_background": "light"
          }
        }
      ]
    },
    {
      "cell_type": "code",
      "source": [
        "print(\"Гистограмма частот:\")\n",
        "plt.hist(samplex, bins=b, color='g', weights=np.ones_like(samplex)/c, edgecolor='black')\n",
        "plt.show()"
      ],
      "metadata": {
        "execution": {
          "iopub.status.busy": "2022-10-30T20:26:40.064420Z",
          "iopub.execute_input": "2022-10-30T20:26:40.064681Z",
          "iopub.status.idle": "2022-10-30T20:26:40.204979Z",
          "shell.execute_reply.started": "2022-10-30T20:26:40.064657Z",
          "shell.execute_reply": "2022-10-30T20:26:40.203971Z"
        },
        "trusted": true,
        "id": "D8UAH3iOwhDU",
        "outputId": "2434d718-3866-494b-be54-1d09ad73e8ce"
      },
      "execution_count": null,
      "outputs": [
        {
          "name": "stdout",
          "text": "Гистограмма частот:\n",
          "output_type": "stream"
        },
        {
          "output_type": "display_data",
          "data": {
            "text/plain": "<Figure size 432x288 with 1 Axes>",
            "image/png": "[encoded data removed]"
          },
          "metadata": {
            "needs_background": "light"
          }
        }
      ]
    },
    {
      "cell_type": "code",
      "source": [
        "h=[0]*b\n",
        "print(\"Эмпирическая функция:\")\n",
        "for i in range(len(d)):\n",
        "    h[i]=h[i-1]+novitr[i]\n",
        "    plt.hlines(h[i], d[i], e[i], color='g')"
      ],
      "metadata": {
        "execution": {
          "iopub.status.busy": "2022-10-30T20:26:40.206415Z",
          "iopub.execute_input": "2022-10-30T20:26:40.207283Z",
          "iopub.status.idle": "2022-10-30T20:26:40.360987Z",
          "shell.execute_reply.started": "2022-10-30T20:26:40.207227Z",
          "shell.execute_reply": "2022-10-30T20:26:40.359975Z"
        },
        "trusted": true,
        "id": "EJdDomlIwhDU",
        "outputId": "ec3e1044-8713-443d-bc51-2f134bf80eea"
      },
      "execution_count": null,
      "outputs": [
        {
          "name": "stdout",
          "text": "Эмпирическая функция:\n",
          "output_type": "stream"
        },
        {
          "output_type": "display_data",
          "data": {
            "text/plain": "<Figure size 432x288 with 1 Axes>",
            "image/png": "[encoded data removed]"
          },
          "metadata": {
            "needs_background": "light"
          }
        }
      ]
    },
    {
      "cell_type": "markdown",
      "source": [
        "Исходя из графиков, можно сделать вывод, что у выборки нет закономерности."
      ],
      "metadata": {
        "id": "OO8WN-pEwhDV"
      }
    },
    {
      "cell_type": "markdown",
      "source": [
        "## 4"
      ],
      "metadata": {
        "id": "LRjRfoOewhDV"
      }
    },
    {
      "cell_type": "code",
      "source": [
        "print(\"Полигон частот:\")\n",
        "novitr2=[0]*b\n",
        "for i in range(len(d)):\n",
        "    novitr2[i]=novitr[i]/len(samplex)\n",
        "plt.plot(mid,novitr2, color = \"g\")\n",
        "plt.show()"
      ],
      "metadata": {
        "execution": {
          "iopub.status.busy": "2022-10-30T20:26:40.362706Z",
          "iopub.execute_input": "2022-10-30T20:26:40.363475Z",
          "iopub.status.idle": "2022-10-30T20:26:40.500870Z",
          "shell.execute_reply.started": "2022-10-30T20:26:40.363448Z",
          "shell.execute_reply": "2022-10-30T20:26:40.499806Z"
        },
        "trusted": true,
        "id": "o0ZimlMLwhDV",
        "outputId": "f4ee723c-1f5f-47bb-d279-ef732bc35288"
      },
      "execution_count": null,
      "outputs": [
        {
          "name": "stdout",
          "text": "Полигон частот:\n",
          "output_type": "stream"
        },
        {
          "output_type": "display_data",
          "data": {
            "text/plain": "<Figure size 432x288 with 1 Axes>",
            "image/png": "[encoded data removed]"
          },
          "metadata": {
            "needs_background": "light"
          }
        }
      ]
    },
    {
      "cell_type": "code",
      "source": [
        "print(\"Гистограмма частот:\")\n",
        "plt.hist(samplex, bins=b, color = \"g\" , weights=(np.ones_like(samplex) / len(samplex))/c, edgecolor='black')\n",
        "plt.show()"
      ],
      "metadata": {
        "execution": {
          "iopub.status.busy": "2022-10-30T20:26:40.502116Z",
          "iopub.execute_input": "2022-10-30T20:26:40.502760Z",
          "iopub.status.idle": "2022-10-30T20:26:40.639635Z",
          "shell.execute_reply.started": "2022-10-30T20:26:40.502733Z",
          "shell.execute_reply": "2022-10-30T20:26:40.638581Z"
        },
        "trusted": true,
        "id": "9qWZaBxdwhDW",
        "outputId": "a32843d5-8b5c-44ff-d23f-32452bbb36f9"
      },
      "execution_count": null,
      "outputs": [
        {
          "name": "stdout",
          "text": "Гистограмма частот:\n",
          "output_type": "stream"
        },
        {
          "output_type": "display_data",
          "data": {
            "text/plain": "<Figure size 432x288 with 1 Axes>",
            "image/png": "[encoded data removed]"
          },
          "metadata": {
            "needs_background": "light"
          }
        }
      ]
    },
    {
      "cell_type": "code",
      "source": [
        "h2=[0]*b\n",
        "print(\"Эмпирическая функция:\")\n",
        "for i in range(len(d)):\n",
        "    h2[i]=h2[i-1]+novitr[i]\n",
        "    plt.hlines(h2[i], d[i], e[i], color='g')"
      ],
      "metadata": {
        "execution": {
          "iopub.status.busy": "2022-10-30T20:26:40.641322Z",
          "iopub.execute_input": "2022-10-30T20:26:40.641792Z",
          "iopub.status.idle": "2022-10-30T20:26:40.793493Z",
          "shell.execute_reply.started": "2022-10-30T20:26:40.641764Z",
          "shell.execute_reply": "2022-10-30T20:26:40.792755Z"
        },
        "trusted": true,
        "id": "440ZNOrUwhDW",
        "outputId": "b6cbf55c-d53c-446b-d1f3-e8d2e27af2c0"
      },
      "execution_count": null,
      "outputs": [
        {
          "name": "stdout",
          "text": "Эмпирическая функция:\n",
          "output_type": "stream"
        },
        {
          "output_type": "display_data",
          "data": {
            "text/plain": "<Figure size 432x288 with 1 Axes>",
            "image/png": "[encoded data removed]"
          },
          "metadata": {
            "needs_background": "light"
          }
        }
      ]
    },
    {
      "cell_type": "markdown",
      "source": [
        "Для относительных частот так же нет закономерностей, как и для абсолютных."
      ],
      "metadata": {
        "id": "td1BSOLnwhDX"
      }
    },
    {
      "cell_type": "markdown",
      "source": [
        "## 5"
      ],
      "metadata": {
        "id": "nYYeLonOwhDX"
      }
    },
    {
      "cell_type": "code",
      "source": [
        "psum=[0]*b\n",
        "nsum=[0]*b\n",
        "table = PrettyTable([\"№\",\"[x(i-1);xi]\",\"cpеднее\",\"ni\",\"p*i\",\"сумма ni\",\"сумма pi\"])\n",
        "nsum[0]=novitr[0]\n",
        "psum[0]=novitr2[0]\n",
        "for i in range(1,len(d)):\n",
        "    psum[i]=psum[i-1]+novitr2[i]\n",
        "    nsum[i]=nsum[i-1]+novitr[i]\n",
        "table.add_row([1,[round(d[0],5),round(e[0],5)],round(mid[0],5),novitr[0],round(novitr2[0],5),nsum[0],round(psum[0],5)])\n",
        "for i in range(1,len(d)):\n",
        "    table.add_row([i+1,[round(d[i],5),round(e[i],5)],round(mid[i],5),novitr[i],round(novitr2[i],5),nsum[i],round(psum[i],5)])\n",
        "table.add_row([\" \",\" \",\"Cумма\",novitr3,round(sum(novitr2)),\" \",\" \"])\n",
        "print(table)"
      ],
      "metadata": {
        "execution": {
          "iopub.status.busy": "2022-10-30T20:26:40.794420Z",
          "iopub.execute_input": "2022-10-30T20:26:40.795314Z",
          "iopub.status.idle": "2022-10-30T20:26:40.807138Z",
          "shell.execute_reply.started": "2022-10-30T20:26:40.795285Z",
          "shell.execute_reply": "2022-10-30T20:26:40.806049Z"
        },
        "trusted": true,
        "id": "t_MtcGQmwhDX",
        "outputId": "d30c9129-5b54-4396-a7ac-8de9387f96e9"
      },
      "execution_count": null,
      "outputs": [
        {
          "name": "stdout",
          "text": "+---+---------------------+----------+----+---------+----------+----------+\n| № |     [x(i-1);xi]     | cpеднее  | ni |   p*i   | сумма ni | сумма pi |\n+---+---------------------+----------+----+---------+----------+----------+\n| 1 |  [53.57, 58.41875]  | 55.99438 | 7  | 0.07143 |    7     | 0.07143  |\n| 2 | [58.41875, 63.2675] | 60.84312 | 8  | 0.08163 |    15    | 0.15306  |\n| 3 | [63.2675, 68.11625] | 65.69188 | 7  | 0.07143 |    22    | 0.22449  |\n| 4 |  [68.11625, 72.965] | 70.54063 | 20 | 0.20408 |    42    | 0.42857  |\n| 5 |  [72.965, 77.81375] | 75.38938 | 24 |  0.2449 |    66    | 0.67347  |\n| 6 | [77.81375, 82.6625] | 80.23812 | 18 | 0.18367 |    84    | 0.85714  |\n| 7 | [82.6625, 87.51125] | 85.08688 | 5  | 0.05102 |    89    | 0.90816  |\n| 8 |  [87.51125, 92.36]  | 89.93562 | 17 | 0.17347 |   106    | 1.08163  |\n|   |                     |  Cумма   | 98 |    1    |          |          |\n+---+---------------------+----------+----+---------+----------+----------+\n",
          "output_type": "stream"
        }
      ]
    },
    {
      "cell_type": "markdown",
      "source": [
        "## 6"
      ],
      "metadata": {
        "id": "0H2nx-uNwhDX"
      }
    },
    {
      "cell_type": "code",
      "source": [
        "ui=[0]*b\n",
        "ui1,ui2,ui3,ui4,ui5=[0]*b,[0]*b,[0]*b,[0]*b,[0]*b\n",
        "ms=0\n",
        "for i in range(len(d)):\n",
        "    ui[i]=i\n",
        "for i in range(len(d)):\n",
        "    ms=ms+novitr[i]\n",
        "    if ms>50:\n",
        "        break\n",
        "for j in range(len(d)):\n",
        "        ui[j]=ui[j]-i\n",
        "table2 = PrettyTable([\"№\",\"xi\",\"ni\",\"ui\",\" ui_ni\",\"ui^2_ni\",\"ui^3_ni\",\"ui^4_ni\",\"(ui+1)^4_ni\"])   \n",
        "for i in range(len(d)):\n",
        "    ui1[i]=novitr[i]*ui[i]\n",
        "    ui2[i]=ui1[i]*ui[i]\n",
        "    ui3[i]=ui2[i]*ui[i]\n",
        "    ui4[i]=ui3[i]*ui[i]\n",
        "    ui5[i]=novitr[i]*((ui[i]+1)**4)\n",
        "    table2.add_row([i+1,round(mid[i],5),novitr[i],ui[i],ui1[i],ui2[i],ui3[i],ui4[i],ui5[i]])\n",
        "table2.add_row([\" \",\"Сумма\",novitr3,\" \",sum(ui1),sum(ui2),sum(ui3),sum(ui4),sum(ui5)])\n",
        "print(table2)\n",
        "print('Проверка корректности:')\n",
        "proof=sum(ui4)+4*sum(ui3)+6*sum(ui2)+4*sum(ui1)+sum(novitr)\n",
        "print(proof)"
      ],
      "metadata": {
        "execution": {
          "iopub.status.busy": "2022-10-30T20:26:40.808445Z",
          "iopub.execute_input": "2022-10-30T20:26:40.809027Z",
          "iopub.status.idle": "2022-10-30T20:26:40.825367Z",
          "shell.execute_reply.started": "2022-10-30T20:26:40.809001Z",
          "shell.execute_reply": "2022-10-30T20:26:40.823922Z"
        },
        "trusted": true,
        "id": "FTCrT5j7whDY",
        "outputId": "7fa7cb8b-5dcc-452f-d513-f53f63833196"
      },
      "execution_count": null,
      "outputs": [
        {
          "name": "stdout",
          "text": "+---+----------+----+----+--------+---------+---------+---------+-------------+\n| № |    xi    | ni | ui |  ui_ni | ui^2_ni | ui^3_ni | ui^4_ni | (ui+1)^4_ni |\n+---+----------+----+----+--------+---------+---------+---------+-------------+\n| 1 | 55.99438 | 7  | -4 |  -28   |   112   |   -448  |   1792  |     567     |\n| 2 | 60.84312 | 8  | -3 |  -24   |    72   |   -216  |   648   |     128     |\n| 3 | 65.69188 | 7  | -2 |  -14   |    28   |   -56   |   112   |      7      |\n| 4 | 70.54063 | 20 | -1 |  -20   |    20   |   -20   |    20   |      0      |\n| 5 | 75.38938 | 24 | 0  |   0    |    0    |    0    |    0    |      24     |\n| 6 | 80.23812 | 18 | 1  |   18   |    18   |    18   |    18   |     288     |\n| 7 | 85.08688 | 5  | 2  |   10   |    20   |    40   |    80   |     405     |\n| 8 | 89.93562 | 17 | 3  |   51   |   153   |   459   |   1377  |     4352    |\n|   |  Сумма   | 98 |    |   -7   |   423   |   -223  |   4047  |     5771    |\n+---+----------+----+----+--------+---------+---------+---------+-------------+\nПроверка корректности:\n5771\n",
          "output_type": "stream"
        }
      ]
    },
    {
      "cell_type": "markdown",
      "source": [
        "## 7"
      ],
      "metadata": {
        "id": "aCcpHsdOwhDY"
      }
    },
    {
      "cell_type": "code",
      "source": [
        "table3 = PrettyTable([\"№\",\"Условный эмпирический момент\",\"Центральные эмпирические моменты\"]) \n",
        "table3.add_row([1,sum(ui1)/len(samplex),0])\n",
        "table3.add_row([2,round(sum(ui2)/len(samplex),3),round((sum(ui2)/len(samplex)-(sum(ui1)/len(samplex))**2)*c**2,3)])\n",
        "table3.add_row([3,round(sum(ui3)/len(samplex),3),round((sum(ui3)/len(samplex)-3*sum(ui2)/len(samplex)*sum(ui1)/len(samplex)+2*(sum(ui1)/len(samplex))**3)*c**3,3)])\n",
        "table3.add_row([4,round(sum(ui4)/len(samplex),3),round((sum(ui4)/len(samplex)-4*sum(ui3)/len(samplex)*sum(ui1)/len(samplex)+6*sum(ui2)/len(samplex)*(sum(ui1)/len(samplex))**2-3*(sum(ui1)/len(samplex))**4)*c**4,3)])\n",
        "print(table3)"
      ],
      "metadata": {
        "execution": {
          "iopub.status.busy": "2022-10-30T20:26:40.826775Z",
          "iopub.execute_input": "2022-10-30T20:26:40.827118Z",
          "iopub.status.idle": "2022-10-30T20:26:40.839671Z",
          "shell.execute_reply.started": "2022-10-30T20:26:40.827088Z",
          "shell.execute_reply": "2022-10-30T20:26:40.838686Z"
        },
        "trusted": true,
        "id": "bFqEe_COwhDY",
        "outputId": "5f44d545-f6bd-46c9-e2c7-b6ba9a3f8844"
      },
      "execution_count": null,
      "outputs": [
        {
          "name": "stdout",
          "text": "+---+------------------------------+----------------------------------+\n| № | Условный эмпирический момент | Центральные эмпирические моменты |\n+---+------------------------------+----------------------------------+\n| 1 |     -0.07142857142857142     |                0                 |\n| 2 |            4.316             |             101.359              |\n| 3 |            -2.276            |             -154.044             |\n| 4 |            41.296            |            22539.447             |\n+---+------------------------------+----------------------------------+\n",
          "output_type": "stream"
        }
      ]
    },
    {
      "cell_type": "markdown",
      "source": [
        "## 8"
      ],
      "metadata": {
        "id": "5xL3ikftwhDZ"
      }
    },
    {
      "cell_type": "code",
      "source": [
        "l=0\n",
        "vc=0\n",
        "disp=0\n",
        "for i in range(b):\n",
        "    vc=vc+(novitr[i]*mid[i]/len(samplex))\n",
        "for i in range(b):\n",
        "    disp=disp+(novitr[i]*(mid[i]-vc)**2/len(samplex))\n",
        "if b%2==0:\n",
        "    if novitr[round(b/2-2)]>novitr[round(b/2-2)]:\n",
        "        l=mid[round(b/2-2)]\n",
        "    else:\n",
        "        l=mid[round(b/2-1)]\n",
        "uuc=(c*sum(ui1)/len(samplex))+l\n",
        "udisp=(sum(ui2)/len(samplex)-(sum(ui1)/len(samplex))**2)*c**2\n",
        "print(\"выборочное среднее и дисперсия:\", round(vc,5), round(disp,5))\n",
        "print(\"выборочное среднее и дисперсия:\", round(uuc,5),round(udisp,5))"
      ],
      "metadata": {
        "execution": {
          "iopub.status.busy": "2022-10-30T20:26:40.842840Z",
          "iopub.execute_input": "2022-10-30T20:26:40.843610Z",
          "iopub.status.idle": "2022-10-30T20:26:40.857718Z",
          "shell.execute_reply.started": "2022-10-30T20:26:40.843583Z",
          "shell.execute_reply": "2022-10-30T20:26:40.855916Z"
        },
        "trusted": true,
        "id": "z-cuYxvBwhDZ",
        "outputId": "3883a3b1-8b9d-414a-9101-c88d56a695c5"
      },
      "execution_count": null,
      "outputs": [
        {
          "name": "stdout",
          "text": "выборочное среднее и дисперсия: 81.19727 141.98672\nвыборочное среднее и дисперсия: 70.19429 101.35851\n",
          "output_type": "stream"
        }
      ]
    },
    {
      "cell_type": "markdown",
      "source": [
        "У выборочных средних и дисперсий, вычисленных по стандартным формулам, и у выборочных средних и дисперсий, вычисленных с помощью условных вариант, результаты значительно разнятся."
      ],
      "metadata": {
        "id": "H5BMXruEwhDZ"
      }
    },
    {
      "cell_type": "markdown",
      "source": [
        "## 9"
      ],
      "metadata": {
        "id": "pjxDD0FZwhDZ"
      }
    },
    {
      "cell_type": "code",
      "source": [
        "corr_disp=(len(samplex)/(len(samplex)-1))*disp\n",
        "corr_sko=np.sqrt(corr_disp)\n",
        "sko=np.sqrt(disp)\n",
        "print(\"Исправленная выборочная дисперсия и исправленное ско:\",round(corr_disp,5),round(corr_sko,5))\n",
        "print(\"Смещённые оценки дисперсии и ско\",round(disp,5),round(sko,5))"
      ],
      "metadata": {
        "execution": {
          "iopub.status.busy": "2022-10-30T20:26:40.860065Z",
          "iopub.execute_input": "2022-10-30T20:26:40.861219Z",
          "iopub.status.idle": "2022-10-30T20:26:40.870243Z",
          "shell.execute_reply.started": "2022-10-30T20:26:40.861170Z",
          "shell.execute_reply": "2022-10-30T20:26:40.868566Z"
        },
        "trusted": true,
        "id": "Me6tnYLHwhDa",
        "outputId": "19d38108-be16-46ec-fbaa-ab4c2afac40e"
      },
      "execution_count": null,
      "outputs": [
        {
          "name": "stdout",
          "text": "Исправленная выборочная дисперсия и исправленное ско: 143.4505 11.97708\nСмещённые оценки дисперсии и ско 141.98672 11.91582\n",
          "output_type": "stream"
        }
      ]
    },
    {
      "cell_type": "markdown",
      "source": [
        "Раазница исправленной выборочной дисперсия и исправленного со смещёнными оценками дисперсии и ско незначительна."
      ],
      "metadata": {
        "id": "TeuaxBuNwhDa"
      }
    },
    {
      "cell_type": "markdown",
      "source": [
        "## 10"
      ],
      "metadata": {
        "id": "i0ma1cFJwhDa"
      }
    },
    {
      "cell_type": "code",
      "source": [
        "k_ass=((sum(ui3)/len(samplex)-3*sum(ui2)/len(samplex)*sum(ui1)/len(samplex)+2*(sum(ui1)/len(samplex))**3)*c**3)/sko**3\n",
        "k_eff=((sum(ui4)/len(samplex)-4*sum(ui3)/len(samplex)*sum(ui1)/len(samplex)+6*sum(ui2)/len(samplex)*(sum(ui2)/len(samplex))**2-3*(sum(ui1)/len(samplex))**4)*c**4)/sko**4-3\n",
        "print(\"Коэффициент ассиметрии:\",round(k_ass,5))\n",
        "print(\"коэффициент эксцесса:\", round(k_eff,5))"
      ],
      "metadata": {
        "execution": {
          "iopub.status.busy": "2022-10-30T20:37:39.353332Z",
          "iopub.execute_input": "2022-10-30T20:37:39.354411Z",
          "iopub.status.idle": "2022-10-30T20:37:39.362988Z",
          "shell.execute_reply.started": "2022-10-30T20:37:39.354361Z",
          "shell.execute_reply": "2022-10-30T20:37:39.361578Z"
        },
        "trusted": true,
        "id": "dAKYDm1lwhDa",
        "outputId": "6c0a9f39-71e8-4a72-9001-e6c4b94307e0"
      },
      "execution_count": null,
      "outputs": [
        {
          "name": "stdout",
          "text": "Коэффициент ассиметрии: -0.09105\nкоэффициент эксцесса: 11.34311\n",
          "output_type": "stream"
        }
      ]
    },
    {
      "cell_type": "markdown",
      "source": [
        "Коэффициент асимметрии больше нуля, следовательно, правый хвост распределения длиннее левого.\n",
        "\n",
        "Коэффициент эксцесса больше нуля, следовательно, распределение относительно остроконечное."
      ],
      "metadata": {
        "id": "ejgxDBvWwhDb"
      }
    },
    {
      "cell_type": "markdown",
      "source": [
        "## 11"
      ],
      "metadata": {
        "id": "6qOkfbtjwhDb"
      }
    },
    {
      "cell_type": "code",
      "source": [
        "m_s=0\n",
        "for i in range(len(d)):\n",
        "    m_s=m_s+novitr[i]\n",
        "    if m_s>50:\n",
        "        break\n",
        "moda=mid[i]+c*((novitr[i]-novitr[i-1])/((novitr[i]-novitr[i-1])+(novitr[i]-novitr[i+1])))\n",
        "mediana=mid[i]+c*(0.5-psum[i-1])/(novitr2[i])\n",
        "k_var=sko/vc*100\n",
        "print(\"Мода:\", round(moda,5))\n",
        "print(\"Медиана:\", round(mediana,5))\n",
        "print(\"Коэффициент вариации:\", round(k_var,5))"
      ],
      "metadata": {
        "execution": {
          "iopub.status.busy": "2022-10-30T20:31:49.934064Z",
          "iopub.execute_input": "2022-10-30T20:31:49.934465Z",
          "iopub.status.idle": "2022-10-30T20:31:49.943305Z",
          "shell.execute_reply.started": "2022-10-30T20:31:49.934430Z",
          "shell.execute_reply": "2022-10-30T20:31:49.942491Z"
        },
        "trusted": true,
        "id": "fRNhOTfVwhDb",
        "outputId": "edfefb75-2f81-419b-c553-ea14dded7f73"
      },
      "execution_count": null,
      "outputs": [
        {
          "name": "stdout",
          "text": "Мода: 77.32888\nМедиана: 76.80359\nКоэффициент вариации: 14.67515\n",
          "output_type": "stream"
        }
      ]
    },
    {
      "cell_type": "markdown",
      "source": [
        "Медиана находится в середине упорядоченной совокупности, мода показывает наиболее часто встречающиеся элементы, но из-за того, что в представленной выборке почти отсутствуют повторяющиеся значения, медиана и мода практически равны.\n",
        "\n",
        "Судя по коэффициенту вариации можно сказать, что совокупность недостаточно однородная."
      ],
      "metadata": {
        "id": "Ae2ccSuOwhDb"
      }
    },
    {
      "cell_type": "markdown",
      "source": [
        "## 12"
      ],
      "metadata": {
        "id": "W4AFshXBwhDc"
      }
    },
    {
      "cell_type": "code",
      "source": [
        "a95 = 4.00*corr_sko/np.sqrt(len(samplex))\n",
        "a99 = 4.40*corr_sko/np.sqrt(len(samplex))\n",
        "print(\"Точность для 0.95:\", round(a95,5))\n",
        "print(\"Интервальный ряд для 0.95:\", \"(\", round(vc-a95,5),\",\", round(vc+a95,5),\")\")\n",
        "print(\"Точность для 0.99:\", round(a99,5))\n",
        "print(\"Интервальный ряд для 0.99:\", \"(\", round(vc-a99,5),\",\", round(vc+a99,5),\")\")"
      ],
      "metadata": {
        "execution": {
          "iopub.status.busy": "2022-10-30T20:45:11.292598Z",
          "iopub.execute_input": "2022-10-30T20:45:11.293142Z",
          "iopub.status.idle": "2022-10-30T20:45:11.301592Z",
          "shell.execute_reply.started": "2022-10-30T20:45:11.293076Z",
          "shell.execute_reply": "2022-10-30T20:45:11.299859Z"
        },
        "trusted": true,
        "id": "jIqzSVszwhDc",
        "outputId": "a2dce7c0-0f21-4cbb-d64b-e8bb3ddae105"
      },
      "execution_count": null,
      "outputs": [
        {
          "name": "stdout",
          "text": "Точность для 0.95: 4.83947\nИнтервальный ряд для 0.95: ( 76.3578 , 86.03674 )\nТочность для 0.99: 5.32342\nИнтервальный ряд для 0.99: ( 75.87385 , 86.52069 )\n",
          "output_type": "stream"
        }
      ]
    },
    {
      "cell_type": "markdown",
      "source": [
        "В получившиеся интервалы попадает выборочное среднее выборки."
      ],
      "metadata": {
        "id": "911EE6cEwhDc"
      }
    },
    {
      "cell_type": "markdown",
      "source": [
        "## 13"
      ],
      "metadata": {
        "id": "iOj5L9NmwhDc"
      }
    },
    {
      "cell_type": "code",
      "source": [
        "q1=np.sqrt((len(samplex)-1)/33.789)-1 \n",
        "q2=np.sqrt((len(samplex)-1)/48.456)-1\n",
        "print(\"Найденая q для 0.95 равняется:\",round(q1,5))\n",
        "print(\"Найденая q для 0.99 равняется:\",round(q2,5))\n",
        "print(\"Доверительный интервал для 0.95:\",\"(\",round(corr_sko*(1-q1),5),\",\",round(corr_sko*(1+q1),5),\")\")\n",
        "print(\"Доверительный интервал для 0.95:\", \"(\",round(corr_sko*(1-q2),5),\",\",round(corr_sko*(1+q2),5),\")\")"
      ],
      "metadata": {
        "execution": {
          "iopub.status.busy": "2022-10-30T20:44:53.065535Z",
          "iopub.execute_input": "2022-10-30T20:44:53.065918Z",
          "iopub.status.idle": "2022-10-30T20:44:53.075305Z",
          "shell.execute_reply.started": "2022-10-30T20:44:53.065889Z",
          "shell.execute_reply": "2022-10-30T20:44:53.073737Z"
        },
        "trusted": true,
        "id": "5PU6MwlGwhDd",
        "outputId": "1c3e4186-98fb-4682-9bbc-f2462cd14628"
      },
      "execution_count": null,
      "outputs": [
        {
          "name": "stdout",
          "text": "Найденая q для 0.95 равняется: 0.69433\nНайденая q для 0.99 равняется: 0.41486\nДоверительный интервал для 0.95: ( 3.66103 , 20.29314 )\nДоверительный интервал для 0.95: ( 7.00832 , 16.94584 )\n",
          "output_type": "stream"
        }
      ]
    },
    {
      "cell_type": "markdown",
      "source": [
        "В получившиеся доверительные интервалы попадает ско выборки."
      ],
      "metadata": {
        "id": "O7mVVdmbwhDd"
      }
    },
    {
      "cell_type": "markdown",
      "source": [
        "## 14"
      ],
      "metadata": {
        "id": "EUMpzDHrwhDd"
      }
    },
    {
      "cell_type": "code",
      "source": [
        "table4 = PrettyTable([\"№\",\"[xi-1;xi]\",\"ni\",\"pi\",\"n'i\",\"(ni-ni')^2\",\"((ni-ni')^2)/ni'\",\"ni^2\",\"ni^2/ni'\"]) \n",
        "d[0]=-math.inf\n",
        "e[b-1]=math.inf\n",
        "pi,ni1,ni2,ni3,ni4=[0]*b,[0]*b,[0]*b,[0]*b,[0]*b\n",
        "pi[0]=0.12673\n",
        "pi[1]=0.18432\n",
        "pi[2]=0.25341\n",
        "pi[3]=0.24234\n",
        "pi[4]=0.1421\n",
        "pi[5]=0.0312\n",
        "pi[6]=0.0243\n",
        "pi[7]=0.00134\n",
        "for i in range(b):\n",
        "    ni1[i]=len(samplex)*pi[i]\n",
        "    ni2[i]=(novitr[i]-len(samplex)*pi[i])**2\n",
        "    ni3[i]=((novitr[i]-len(samplex)*pi[i])**2)/(len(samplex)*pi[i])\n",
        "    ni4[i]=novitr[i]**2/(len(samplex)*pi[i])\n",
        "    table4.add_row([i+1,[round(d[i],5),round(e[i],5)],novitr[i],round(pi[i],5),round(ni1[i],5),round(ni2[i],5),round(ni3[i],5),novitr[i]**2,round(ni4[i],5)])\n",
        "table4.add_row([\" \",\"Сумма\",novitr3,sum(pi),sum(ni1),\" \",round(sum(ni3),5),\"-\",round(sum(ni4)-len(samplex),5)])\n",
        "print(table4)\n",
        "krit=15.07\n",
        "if sum(ni3)<krit:\n",
        "    print(\"Нет оснований отвергать гипотезу.\")\n",
        "else:\n",
        "    print(\"Избавляемся от выдвинутой гипотезы.\")"
      ],
      "metadata": {
        "execution": {
          "iopub.status.busy": "2022-10-30T20:44:11.847577Z",
          "iopub.execute_input": "2022-10-30T20:44:11.847911Z",
          "iopub.status.idle": "2022-10-30T20:44:11.865509Z",
          "shell.execute_reply.started": "2022-10-30T20:44:11.847885Z",
          "shell.execute_reply": "2022-10-30T20:44:11.864179Z"
        },
        "trusted": true,
        "id": "_gG3BP0SwhDd",
        "outputId": "79c78dec-f917-4715-f1cc-78f41915e50c"
      },
      "execution_count": null,
      "outputs": [
        {
          "name": "stdout",
          "text": "+---+---------------------+----+---------+-------------------+------------+------------------+------+------------+\n| № |      [xi-1;xi]      | ni |    pi   |        n'i        | (ni-ni')^2 | ((ni-ni')^2)/ni' | ni^2 |  ni^2/ni'  |\n+---+---------------------+----+---------+-------------------+------------+------------------+------+------------+\n| 1 |   [-inf, 58.41875]  | 7  | 0.12673 |      12.41954     |  29.37141  |     2.36494      |  49  |   3.9454   |\n| 2 | [58.41875, 63.2675] | 8  | 0.18432 |      18.06336     | 101.27121  |     5.60644      |  64  |  3.54308   |\n| 3 | [63.2675, 68.11625] | 7  | 0.25341 |      24.83418     | 318.05798  |     12.80727     |  49  |  1.97309   |\n| 4 |  [68.11625, 72.965] | 20 | 0.24234 |      23.74932     |  14.0574   |     0.59191      | 400  |  16.84259  |\n| 5 |  [72.965, 77.81375] | 24 |  0.1421 |      13.9258      | 101.48951  |     7.28788      | 576  |  41.36208  |\n| 6 | [77.81375, 82.6625] | 18 |  0.0312 |       3.0576      | 223.27532  |     73.02306     | 324  | 105.96546  |\n| 7 | [82.6625, 87.51125] | 5  |  0.0243 |       2.3814      |  6.85707   |     2.87943      |  25  |  10.49803  |\n| 8 |   [87.51125, inf]   | 17 | 0.00134 |      0.13132      | 284.55236  |    2166.86236    | 289  | 2200.73104 |\n|   |        Сумма        | 98 | 1.00574 | 98.56251999999999 |            |    2271.42328    |  -   | 2286.86076 |\n+---+---------------------+----+---------+-------------------+------------+------------------+------+------------+\nИзбавляемся от выдвинутой гипотезы.\n",
          "output_type": "stream"
        }
      ]
    },
    {
      "cell_type": "markdown",
      "source": [
        "В данной практической работе были выполнены все задания, проанализированна данная выборка, закреплён материал, который был дан на практических занятиях."
      ],
      "metadata": {
        "id": "DucvIxZWwhDe"
      }
    }
  ]
}