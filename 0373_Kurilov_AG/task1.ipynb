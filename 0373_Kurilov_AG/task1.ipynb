{
  "metadata": {
    "kernelspec": {
      "language": "python",
      "display_name": "Python 3",
      "name": "python3"
    },
    "language_info": {
      "name": "python",
      "version": "3.7.12",
      "mimetype": "text/x-python",
      "codemirror_mode": {
        "name": "ipython",
        "version": 3
      },
      "pygments_lexer": "ipython3",
      "nbconvert_exporter": "python",
      "file_extension": ".py"
    },
    "colab": {
      "provenance": []
    }
  },
  "nbformat_minor": 0,
  "nbformat": 4,
  "cells": [
    {
      "cell_type": "markdown",
      "source": [
        "# Практическая работа №1: Формирование и первичная обработка выборки. Нахождение и точечных и интервальных оценок. Проверка статистических гипотез.\n",
        "Выполнил студент группы 0373 Курилов Артём. Вариант 11."
      ],
      "metadata": {
        "id": "Wkf3OaoBwhDJ"
      }
    },
    {
      "cell_type": "markdown",
      "source": [
        "## Цель работы\n",
        "Ознакомление с основными правилами формирования выборки и подготовки выборочных данных к статистическому анализу. Получение практических навыков нахождения точечных статистических оценок параметров распределения, а также вычисления интервальных статистических оценок параметров распределения выборочных данных и проверки\n",
        "«справедливости» статистических гипотез."
      ],
      "metadata": {
        "id": "wjRmu17VwhDL"
      }
    },
    {
      "cell_type": "markdown",
      "source": [
        "## Основные теоретические положения"
      ],
      "metadata": {
        "id": "e14W-WlJwhDM"
      }
    },
    {
      "cell_type": "markdown",
      "source": [
        "Генеральная совокупность - совокупность объектов, из которых производится выборка. Объём = N.\n",
        "\n",
        "Выборочная совокупность(выборка) - совокупность случайно отобранных объектов. Объём = n.\n",
        "\n",
        "Повторная выборка- отобранный объект (перед выбором следующего) возвращается в генеральную совокупность.\n",
        "\n",
        "Бесповторная выборка- отобранный объект не возвращается в генеральную совокупность\n",
        "\n",
        "Ранжированный ряд - расположение единиц совокупности в порядке возрастания или убывания выбранного признака.\n",
        "\n",
        "Интервальный вариационный ряд - весь промежуток измерения значений выборки $[x_{min},x_{max}]$ разбивают на частичные интервалы.\n",
        "\n",
        "Выборочное СКО: $\\sigma_{B}=\\sqrt{\\sigma_{B}^{2}}$\n",
        "\n",
        "Условные варианты - варианты, определяемые равенством $u_{i}=\\frac{x_{i}-C}{h}$, где C - ложный нуль (середина вариационного ряда). Если вариационный ряд состоит из равноостоящих вариант с шагом h, то условные варианты $u_{i}\\in\\mathbb{Z}$\n",
        "\n",
        "Мода вариационного ряда - такое значение варианты, которой соответствует наибольшая частота. \n",
        "\n",
        "Мода $M_{o}^{*}$ интервального ряда - число, заключённое в частичном интервале, которому соответсвует наибольшая частота. $M_{o}^{*}=x_{M_{o}}^{(0)}+h\\frac{n_{M_{o}}-n_{M_{o}-1}}{(n_{M_{o}}-n_{M_{o}-1})+(n_{M_{o}}-n_{M_{o}+1})}$, где $n_{M_{o}}$ - частота, модального интервала, $n_{M_{o}-1}$ - частота, соответствующая предыдущему интервалу, $n_{M_{o}+1}$ - частота, соответствующая следующему интервалу, $x_{M_{o}}^{(0)}$ - варианта, соответствующая среднему значению интервала наибольшей частоты\n",
        "\n",
        "Медиана вариационного ряда - значение признака, приходящееся на середину ранжированного ряда наблюдений. \n",
        "\n",
        "Медиана $M_{e}^{*}$интервального ряда - число, принадлежащее частичному интервалу, для которого накопленная частота состовляет половину или больше половины всей суммы частот, а предыдущая накопленная частота меньше половины всей суммы частот. $M_{e}^{*}=x_{M_{e}}^{(0)}+\\frac{h}{p_{M_{e}}^{*}}(0,5 - p\\sum_{M_{e}-1})$, где $p_{M_{e}}^{*}$ - относительная частота медианного интервала, $p\\sum_{M_{e}-1}$ - накопленная относительная частота, соответствующая предыдущему частичному интервалу,  $x_{M_{e}}^{(0)}$ - варианта, соответствующая среднему значению интервала, для которого накопленная частота состовляет половину или больше половины всей суммы частот, а предыдущая накопленная частота меньше половины всей суммы частот.\n",
        "\n",
        "Выборочный коэффициент ассиметрии: $a_{s}^{*}=\\frac{\\mu_{3}^{8}}{\\sigma_{B}^{3}}$\n",
        "\n",
        "Выборочный коэффициент экцесса: $\\varepsilon_{k}^{*}=\\frac{\\mu_{4}^{*}}{\\sigma_{B}^{4}}-3$\n",
        "\n",
        "Статистический критерий проверки основной гипотезы - правило, по которому принимается решение принять или отклонить гипотезу.\n",
        "\n",
        "Статистика критерия - случайная величина, служащая для проверки относительных гипотез.\n",
        "\n",
        "Критическая область - совокупность значений критерия, при которых основную гипотезу отвергают.\n",
        "\n",
        "Статистика: $\\chi_{nabl}^{2}=\\sum_{i=1}^{k}\\frac{(n_{i}-n_{i}^{'})^2}{n_{i}{'}}=\\sum_{i=1}^{k}\\frac{n_{i}^{2}}{n_{i}^{'}}-n$\n",
        "\n",
        "$\\chi_{krit}^{2}=\\chi^{2}(\\alpha, df)$, где $\\alpha$ - заданный уровень значимости, $df=k-r-1$ - число степеней свободы, где k - число частичных интервалов выборки, r -  число параметров дифференциальной функции распределения.\n",
        "\n",
        "$x_{i}$ - варианты, $n_{i}$ - абсолютные частоты (веса), $p_{i}^{*}=\\frac{n_{i}}{n}$ - относительные частоты.\n",
        "\n",
        "Доверительный интервал - интервал $(\\theta^{*}-\\delta;\\theta^{*}+\\delta)$, который покрывает неизвестный параметр $\\theta$ с заданной надёжностью $\\gamma$\n",
        "\n",
        "Теоретические частоты - частоты, которые находятся по формуле $n_{i}^{'}=np_{i}$, где n - объём выборки,$p_{i}$ - точечная вероятность варианты $x_{i}$ дискретной случайной величины или интервальная вероятность для варианты $x\\in(x_{i-1};x_{i}]$ непрерывной случайной величины.\n",
        "\n",
        "$\\chi_{krit}^{2}=\\chi^{2}(\\alpha, df)$, где $\\alpha$ - заданный уровень значимости, $df=k-r-1$ - число степеней свободы, где k - число частичных интервалов выборки, r -  число параметров дифференциальной функции распределения.\n",
        "\n",
        "Обычный эмпирический момент порядка r - среднее значение r-ых степеней разностей $x_{i}-C$: $\\nu_{r}^{'}=\\frac{1}{n}\\sum_{i=1}^{k}n_{i}(x_{i}-C)^r$\n",
        "\n",
        "Начальный эмпирический момент порядка r - обычный момент порядка r при C=0: $\\nu_{r}=\\frac{1}{n}\\sum_{i=1}^{k}n_{i}x_{i}^{r}$\n",
        "\n",
        "Условный эмпирический момент порядка r - начальный момент порядка r, вычисленный для условных вариант: $\\nu_{r}^{*}=\\frac{1}{n}\\sum_{i=1}^{k}n_{i}x_{i}^{r}=\\frac{1}{n}\\sum_{i=1}^{k}n_{i}(\\frac{x_{i}-C}{h})^r$\n",
        "\n",
        "Центральный эмпирический момент порядка r - обычный момент r при $C=\\overline{x_{B}}$: $\\mu_{r}^{*}=\\frac{1}{n}\\sum_{i=1}^{k}n_{i}(x_{i}-\\overline{x_{B}})^r$\n",
        "\n",
        "$\\overline{x_{B}}=h\\nu_{1}^{*}+C$, $\\sigma_{B}^{2}=\\mu_{2}^{*}$\n",
        "\n",
        "Исправленная выборочная дисперсия: $s^2=\\frac{n}{n-1}\\sigma_{B}^{2}$. *Исправленное СКО*: $s=\\sqrt{s^2}$"
      ],
      "metadata": {
        "id": "9LKbzZ4ZwhDM"
      }
    },
    {
      "cell_type": "markdown",
      "source": [
        "## Постановка задачи\n",
        "Осуществить формирование репрезентативной выборки заданного объема из имеющейся генеральной совокупности экспериментальных данных. Осуществить последовательное преобразование полученной выборки в ранжированный, вариационный и интервальный ряды. Применительно к интервальному ряду построить и отобразить графически полигон, гистограмму и эмпирическую функцию распределения для абсолютных и относительных частот. Для заданных выборочных данных вычислить с использованием метода моментов и условных вариант точечные статистические оценки математического ожидания, дисперсии, среднеквадратичного отклонения, асимметрии, эксцесса, моды, медианы и коэффициента вариации исследуемой случайной величины. Для заданной надёжности определить границы доверительных интервалов для математического ожидания и среднеквадратичного отклонения случайной величины. Проверить гипотезу о нормальном распределении исследуемой случайной величины с помощью критерия Пирсона $𝜒^{2}$.Полученные результаты содержательно проинтерпретировать."
      ],
      "metadata": {
        "id": "mN3ejaEEwhDO"
      }
    },
    {
      "cell_type": "markdown",
      "source": [
        "## Выполнение работы"
      ],
      "metadata": {
        "id": "TBm3240rwhDO"
      }
    },
    {
      "cell_type": "markdown",
      "source": [
        "### Используемые бибилиотеки:"
      ],
      "metadata": {
        "id": "-k8H7nQjwhDO"
      }
    },
    {
      "cell_type": "code",
      "source": [
        "import pandas as pd\n",
        "import numpy as np\n",
        "import matplotlib.pyplot as plt\n",
        "import math\n",
        "import matplotlib.pyplot as plt\n",
        "from prettytable import PrettyTable"
      ],
      "metadata": {
        "id": "9akeGsniwhDP",
        "execution": {
          "iopub.status.busy": "2022-12-06T16:29:09.616927Z",
          "iopub.execute_input": "2022-12-06T16:29:09.619281Z",
          "iopub.status.idle": "2022-12-06T16:29:09.631239Z",
          "shell.execute_reply.started": "2022-12-06T16:29:09.619202Z",
          "shell.execute_reply": "2022-12-06T16:29:09.629643Z"
        },
        "trusted": true
      },
      "execution_count": null,
      "outputs": []
    },
    {
      "cell_type": "markdown",
      "source": [
        "### 1"
      ],
      "metadata": {
        "id": "OQn68aaLwhDQ"
      }
    },
    {
      "cell_type": "markdown",
      "source": [
        " Из генеральной совокупности сформировать выборку:"
      ],
      "metadata": {
        "id": "zqLsEODDwhDR"
      }
    },
    {
      "cell_type": "code",
      "source": [
        "samplex = [63.05, 60.99, 56.54, 57.9, 53.57, 57.45, 57.53, 58.77, 56.34, 59.73, 60.95, 61.03, 64.02,\n",
        "           64.72, 62.71, 64.67, 64.81, 67.99, 67.60, 68.7, 68.88, 70.83, 69.27, 68.72, 69.6, 70.77,\n",
        "           72.05, 72.04, 71.9, 72.33, 72.25, 73.4, 72.72, 71.24, 73, 72.4, 73.8, 72.14, 69.78,\n",
        "           72.15, 75.33, 75.29, 77.19, 76.15, 75.93, 78.51, 78.5, 75.88, 76.32, 76.89, 74.52, 74.12,\n",
        "           75.84, 75.5, 76.86, 76.28, 78.68, 79.89, 80.58, 82.75, 82.4, 86.66, 82.26, 78.45, 78.76,\n",
        "           77.98, 75.41, 72.42, 73.83, 74.952, 74.41, 73.45, 75.83, 79.5, 78.76, 79.41, 80.94, 82.12,\n",
        "           80.34, 79.69, 83.04, 88.57, 88.62, 88.15, 88.41, 89.95, 88.67, 88.7, 88.58, 90.2, 91.24, \n",
        "           92.36, 91.62, 91.71, 89.22, 88.57, 88.59, 87.04]\n",
        "sampley = [59.804, 55.857, 52.8, 53.005, 50.677, 54.3, 55.295, 56.907, 54.82, 56.547, 59.408, 59.38,\n",
        "           62.02, 63.562, 60.486, 63.284, 63.45, 66.267, 65.55, 66.873, 67.764, 68.858, 66.42, 66.95, \n",
        "           68.674, 69.673, 70.606, 69.8, 70.9, 71.489, 70.3, 72.161, 70.1, 69.396, 71.569, 71.068, 72.262,\n",
        "           71, 67.351, 70.491, 73.643, 74.282, 74.827, 74.175, 74.315, 75.18, 77.305, 74.42, 74.883, 74.611,\n",
        "           73.283, 73.173, 74.082, 73.9, 75.4, 75.398, 77.198, 78.4, 79.104, 81.287, 81.516, 83.316, 77.381,\n",
        "           76.803, 74.868, 76.592, 73.5, 70.327, 72.94, 73.961, 73.214, 71.8, 74.473, 78.16, 77.25, 76.4,\n",
        "           78.581, 81.026, 79.139, 76.112, 80.801, 85.301, 87.018, 85.865, 87.28, 88.385, 87.307, 87.093, 86.384,\n",
        "           88.622, 88.468, 91.133, 90.289, 88.391, 88, 87.497, 86.933, 84.95]\n",
        "\n",
        "print(\"Элементы первой выборки:\")\n",
        "print(samplex)\n",
        "print(\"Элементы второй выборки:\")\n",
        "print(sampley)"
      ],
      "metadata": {
        "id": "zL6bwp8mwhDR",
        "outputId": "4649eaff-4f56-40a9-d1fb-eb6bba71092a",
        "execution": {
          "iopub.status.busy": "2022-12-06T16:29:09.634416Z",
          "iopub.execute_input": "2022-12-06T16:29:09.635353Z",
          "iopub.status.idle": "2022-12-06T16:29:09.657897Z",
          "shell.execute_reply.started": "2022-12-06T16:29:09.635302Z",
          "shell.execute_reply": "2022-12-06T16:29:09.656435Z"
        },
        "trusted": true
      },
      "execution_count": null,
      "outputs": [
        {
          "name": "stdout",
          "text": "Элементы первой выборки:\n[63.05, 60.99, 56.54, 57.9, 53.57, 57.45, 57.53, 58.77, 56.34, 59.73, 60.95, 61.03, 64.02, 64.72, 62.71, 64.67, 64.81, 67.99, 67.6, 68.7, 68.88, 70.83, 69.27, 68.72, 69.6, 70.77, 72.05, 72.04, 71.9, 72.33, 72.25, 73.4, 72.72, 71.24, 73, 72.4, 73.8, 72.14, 69.78, 72.15, 75.33, 75.29, 77.19, 76.15, 75.93, 78.51, 78.5, 75.88, 76.32, 76.89, 74.52, 74.12, 75.84, 75.5, 76.86, 76.28, 78.68, 79.89, 80.58, 82.75, 82.4, 86.66, 82.26, 78.45, 78.76, 77.98, 75.41, 72.42, 73.83, 74.952, 74.41, 73.45, 75.83, 79.5, 78.76, 79.41, 80.94, 82.12, 80.34, 79.69, 83.04, 88.57, 88.62, 88.15, 88.41, 89.95, 88.67, 88.7, 88.58, 90.2, 91.24, 92.36, 91.62, 91.71, 89.22, 88.57, 88.59, 87.04]\nЭлементы второй выборки:\n[59.804, 55.857, 52.8, 53.005, 50.677, 54.3, 55.295, 56.907, 54.82, 56.547, 59.408, 59.38, 62.02, 63.562, 60.486, 63.284, 63.45, 66.267, 65.55, 66.873, 67.764, 68.858, 66.42, 66.95, 68.674, 69.673, 70.606, 69.8, 70.9, 71.489, 70.3, 72.161, 70.1, 69.396, 71.569, 71.068, 72.262, 71, 67.351, 70.491, 73.643, 74.282, 74.827, 74.175, 74.315, 75.18, 77.305, 74.42, 74.883, 74.611, 73.283, 73.173, 74.082, 73.9, 75.4, 75.398, 77.198, 78.4, 79.104, 81.287, 81.516, 83.316, 77.381, 76.803, 74.868, 76.592, 73.5, 70.327, 72.94, 73.961, 73.214, 71.8, 74.473, 78.16, 77.25, 76.4, 78.581, 81.026, 79.139, 76.112, 80.801, 85.301, 87.018, 85.865, 87.28, 88.385, 87.307, 87.093, 86.384, 88.622, 88.468, 91.133, 90.289, 88.391, 88, 87.497, 86.933, 84.95]\n",
          "output_type": "stream"
        }
      ]
    },
    {
      "cell_type": "markdown",
      "source": [
        "Выборка механическая."
      ],
      "metadata": {
        "id": "yefKUvQewhDR"
      }
    },
    {
      "cell_type": "markdown",
      "source": [
        "### 2"
      ],
      "metadata": {
        "id": "-7Z2F9SwwhDS"
      }
    },
    {
      "cell_type": "code",
      "source": [
        "print(\"Ранжированный ряд:\")\n",
        "samplex = np.sort(samplex)\n",
        "print(samplex)"
      ],
      "metadata": {
        "_uuid": "8f2839f25d086af736a60e9eeb907d3b93b6e0e5",
        "_cell_guid": "b1076dfc-b9ad-4769-8c92-a6c4dae69d19",
        "id": "8qjmnvkiwhDS",
        "outputId": "c886d6c8-0dcc-4387-f09d-594d35bff8e5",
        "execution": {
          "iopub.status.busy": "2022-12-06T16:29:09.660704Z",
          "iopub.execute_input": "2022-12-06T16:29:09.661630Z",
          "iopub.status.idle": "2022-12-06T16:29:09.678111Z",
          "shell.execute_reply.started": "2022-12-06T16:29:09.661557Z",
          "shell.execute_reply": "2022-12-06T16:29:09.676519Z"
        },
        "trusted": true
      },
      "execution_count": null,
      "outputs": [
        {
          "name": "stdout",
          "text": "Ранжированный ряд:\n[53.57  56.34  56.54  57.45  57.53  57.9   58.77  59.73  60.95  60.99\n 61.03  62.71  63.05  64.02  64.67  64.72  64.81  67.6   67.99  68.7\n 68.72  68.88  69.27  69.6   69.78  70.77  70.83  71.24  71.9   72.04\n 72.05  72.14  72.15  72.25  72.33  72.4   72.42  72.72  73.    73.4\n 73.45  73.8   73.83  74.12  74.41  74.52  74.952 75.29  75.33  75.41\n 75.5   75.83  75.84  75.88  75.93  76.15  76.28  76.32  76.86  76.89\n 77.19  77.98  78.45  78.5   78.51  78.68  78.76  78.76  79.41  79.5\n 79.69  79.89  80.34  80.58  80.94  82.12  82.26  82.4   82.75  83.04\n 86.66  87.04  88.15  88.41  88.57  88.57  88.58  88.59  88.62  88.67\n 88.7   89.22  89.95  90.2   91.24  91.62  91.71  92.36 ]\n",
          "output_type": "stream"
        }
      ]
    },
    {
      "cell_type": "code",
      "source": [
        "print(\"Вариационный ряд:\")\n",
        "first, second=np.unique(samplex, return_counts=True)\n",
        "var=np.column_stack((first, second)) \n",
        "print(var)"
      ],
      "metadata": {
        "id": "psLODRHYwhDT",
        "outputId": "c1ae676b-f584-4f6c-bf1c-8a98a1ea416c",
        "execution": {
          "iopub.status.busy": "2022-12-06T16:29:09.680471Z",
          "iopub.execute_input": "2022-12-06T16:29:09.681554Z",
          "iopub.status.idle": "2022-12-06T16:29:09.693638Z",
          "shell.execute_reply.started": "2022-12-06T16:29:09.681503Z",
          "shell.execute_reply": "2022-12-06T16:29:09.692302Z"
        },
        "trusted": true
      },
      "execution_count": null,
      "outputs": [
        {
          "name": "stdout",
          "text": "Вариационный ряд:\n[[53.57   1.   ]\n [56.34   1.   ]\n [56.54   1.   ]\n [57.45   1.   ]\n [57.53   1.   ]\n [57.9    1.   ]\n [58.77   1.   ]\n [59.73   1.   ]\n [60.95   1.   ]\n [60.99   1.   ]\n [61.03   1.   ]\n [62.71   1.   ]\n [63.05   1.   ]\n [64.02   1.   ]\n [64.67   1.   ]\n [64.72   1.   ]\n [64.81   1.   ]\n [67.6    1.   ]\n [67.99   1.   ]\n [68.7    1.   ]\n [68.72   1.   ]\n [68.88   1.   ]\n [69.27   1.   ]\n [69.6    1.   ]\n [69.78   1.   ]\n [70.77   1.   ]\n [70.83   1.   ]\n [71.24   1.   ]\n [71.9    1.   ]\n [72.04   1.   ]\n [72.05   1.   ]\n [72.14   1.   ]\n [72.15   1.   ]\n [72.25   1.   ]\n [72.33   1.   ]\n [72.4    1.   ]\n [72.42   1.   ]\n [72.72   1.   ]\n [73.     1.   ]\n [73.4    1.   ]\n [73.45   1.   ]\n [73.8    1.   ]\n [73.83   1.   ]\n [74.12   1.   ]\n [74.41   1.   ]\n [74.52   1.   ]\n [74.952  1.   ]\n [75.29   1.   ]\n [75.33   1.   ]\n [75.41   1.   ]\n [75.5    1.   ]\n [75.83   1.   ]\n [75.84   1.   ]\n [75.88   1.   ]\n [75.93   1.   ]\n [76.15   1.   ]\n [76.28   1.   ]\n [76.32   1.   ]\n [76.86   1.   ]\n [76.89   1.   ]\n [77.19   1.   ]\n [77.98   1.   ]\n [78.45   1.   ]\n [78.5    1.   ]\n [78.51   1.   ]\n [78.68   1.   ]\n [78.76   2.   ]\n [79.41   1.   ]\n [79.5    1.   ]\n [79.69   1.   ]\n [79.89   1.   ]\n [80.34   1.   ]\n [80.58   1.   ]\n [80.94   1.   ]\n [82.12   1.   ]\n [82.26   1.   ]\n [82.4    1.   ]\n [82.75   1.   ]\n [83.04   1.   ]\n [86.66   1.   ]\n [87.04   1.   ]\n [88.15   1.   ]\n [88.41   1.   ]\n [88.57   2.   ]\n [88.58   1.   ]\n [88.59   1.   ]\n [88.62   1.   ]\n [88.67   1.   ]\n [88.7    1.   ]\n [89.22   1.   ]\n [89.95   1.   ]\n [90.2    1.   ]\n [91.24   1.   ]\n [91.62   1.   ]\n [91.71   1.   ]\n [92.36   1.   ]]\n",
          "output_type": "stream"
        }
      ]
    },
    {
      "cell_type": "code",
      "source": [
        "a=samplex[len(samplex)-1]-samplex[0]\n",
        "b=math.ceil(1+math.log2(len(samplex)))\n",
        "c=a/b\n",
        "d=[0]*b\n",
        "e=[0]*b\n",
        "d[0]=samplex[0]\n",
        "e[0]=samplex[0]+c\n",
        "mid=[0]*b\n",
        "novitr=[0]*b\n",
        "novitr[0]=1\n",
        "for i in range(1,b):\n",
        "    d[i]= samplex[0]+c*i\n",
        "    e[i]= samplex[0]+c*(i+1)\n",
        "for i in range(8):\n",
        "    mid[i]=(d[i]+e[i])/2\n",
        "    for j in range(len(samplex)):\n",
        "        if (d[i]<samplex[j]<=e[i]):\n",
        "            novitr[i]=novitr[i]+1\n",
        "print(\"Интервальный ряд:\")\n",
        "print(\"[\",samplex[0],\",\",round(samplex[0]+c, 3),\"]\", \"ni:\", novitr[0])\n",
        "for i in range(1,b):\n",
        "    print(\"[\",round(d[i], 3),\",\",round(e[i], 3),\"]\", \"ni:\", novitr[i])"
      ],
      "metadata": {
        "id": "uLD8PG84whDT",
        "outputId": "30815216-5478-4fc3-ecb7-9c986f8ae899",
        "execution": {
          "iopub.status.busy": "2022-12-06T16:29:09.697165Z",
          "iopub.execute_input": "2022-12-06T16:29:09.698507Z",
          "iopub.status.idle": "2022-12-06T16:29:09.747814Z",
          "shell.execute_reply.started": "2022-12-06T16:29:09.698363Z",
          "shell.execute_reply": "2022-12-06T16:29:09.746464Z"
        },
        "trusted": true
      },
      "execution_count": null,
      "outputs": [
        {
          "name": "stdout",
          "text": "Интервальный ряд:\n[ 53.57 , 58.419 ] ni: 6\n[ 58.419 , 63.268 ] ni: 7\n[ 63.268 , 68.116 ] ni: 6\n[ 68.116 , 72.965 ] ni: 19\n[ 72.965 , 77.814 ] ni: 23\n[ 77.814 , 82.662 ] ni: 17\n[ 82.662 , 87.511 ] ni: 4\n[ 87.511 , 92.36 ] ni: 16\n",
          "output_type": "stream"
        }
      ]
    },
    {
      "cell_type": "markdown",
      "source": [
        "### 3"
      ],
      "metadata": {
        "id": "pdj2IZjKwhDT"
      }
    },
    {
      "cell_type": "code",
      "source": [
        "novitr3 = 98\n",
        "print(\"Полигон частот:\")\n",
        "plt.plot(mid,novitr,color='g')\n",
        "plt.show()"
      ],
      "metadata": {
        "id": "eXDCU81DwhDU",
        "outputId": "45e412cb-4094-4256-b88e-08f17fefff0b",
        "execution": {
          "iopub.status.busy": "2022-12-06T16:29:09.749881Z",
          "iopub.execute_input": "2022-12-06T16:29:09.750943Z",
          "iopub.status.idle": "2022-12-06T16:29:10.046149Z",
          "shell.execute_reply.started": "2022-12-06T16:29:09.750887Z",
          "shell.execute_reply": "2022-12-06T16:29:10.044885Z"
        },
        "trusted": true
      },
      "execution_count": null,
      "outputs": [
        {
          "name": "stdout",
          "text": "Полигон частот:\n",
          "output_type": "stream"
        },
        {
          "output_type": "display_data",
          "data": {
            "text/plain": "<Figure size 432x288 with 1 Axes>",
            "image/png": "[encoded data removed]"
          },
          "metadata": {
            "needs_background": "light"
          }
        }
      ]
    },
    {
      "cell_type": "code",
      "source": [
        "print(\"Гистограмма частот:\")\n",
        "plt.hist(samplex, bins=b, color='g', weights=np.ones_like(samplex)/c, edgecolor='black')\n",
        "plt.show()"
      ],
      "metadata": {
        "id": "D8UAH3iOwhDU",
        "outputId": "2434d718-3866-494b-be54-1d09ad73e8ce",
        "execution": {
          "iopub.status.busy": "2022-12-06T16:29:10.049083Z",
          "iopub.execute_input": "2022-12-06T16:29:10.049945Z",
          "iopub.status.idle": "2022-12-06T16:29:10.318365Z",
          "shell.execute_reply.started": "2022-12-06T16:29:10.049893Z",
          "shell.execute_reply": "2022-12-06T16:29:10.317462Z"
        },
        "trusted": true
      },
      "execution_count": null,
      "outputs": [
        {
          "name": "stdout",
          "text": "Гистограмма частот:\n",
          "output_type": "stream"
        },
        {
          "output_type": "display_data",
          "data": {
            "text/plain": "<Figure size 432x288 with 1 Axes>",
            "image/png": "[encoded data removed]"
          },
          "metadata": {
            "needs_background": "light"
          }
        }
      ]
    },
    {
      "cell_type": "code",
      "source": [
        "h=[0]*b\n",
        "print(\"Эмпирическая функция:\")\n",
        "for i in range(len(d)):\n",
        "    h[i]=h[i-1]+novitr[i]\n",
        "    plt.hlines(h[i], d[i], e[i], color='g')"
      ],
      "metadata": {
        "id": "EJdDomlIwhDU",
        "outputId": "ec3e1044-8713-443d-bc51-2f134bf80eea",
        "execution": {
          "iopub.status.busy": "2022-12-06T16:29:10.322292Z",
          "iopub.execute_input": "2022-12-06T16:29:10.322737Z",
          "iopub.status.idle": "2022-12-06T16:29:10.643536Z",
          "shell.execute_reply.started": "2022-12-06T16:29:10.322699Z",
          "shell.execute_reply": "2022-12-06T16:29:10.642490Z"
        },
        "trusted": true
      },
      "execution_count": null,
      "outputs": [
        {
          "name": "stdout",
          "text": "Эмпирическая функция:\n",
          "output_type": "stream"
        },
        {
          "output_type": "display_data",
          "data": {
            "text/plain": "<Figure size 432x288 with 1 Axes>",
            "image/png": "[encoded data removed]"
          },
          "metadata": {
            "needs_background": "light"
          }
        }
      ]
    },
    {
      "cell_type": "markdown",
      "source": [
        "Исходя из графиков, можно сделать вывод, что у выборки нет закономерности."
      ],
      "metadata": {
        "id": "OO8WN-pEwhDV"
      }
    },
    {
      "cell_type": "markdown",
      "source": [
        "### 4"
      ],
      "metadata": {
        "id": "LRjRfoOewhDV"
      }
    },
    {
      "cell_type": "code",
      "source": [
        "print(\"Полигон частот:\")\n",
        "novitr2=[0]*b\n",
        "for i in range(len(d)):\n",
        "    novitr2[i]=novitr[i]/len(samplex)\n",
        "plt.plot(mid,novitr2, color = \"g\")\n",
        "plt.show()"
      ],
      "metadata": {
        "id": "o0ZimlMLwhDV",
        "outputId": "f4ee723c-1f5f-47bb-d279-ef732bc35288",
        "execution": {
          "iopub.status.busy": "2022-12-06T16:29:10.648018Z",
          "iopub.execute_input": "2022-12-06T16:29:10.648854Z",
          "iopub.status.idle": "2022-12-06T16:29:10.931204Z",
          "shell.execute_reply.started": "2022-12-06T16:29:10.648801Z",
          "shell.execute_reply": "2022-12-06T16:29:10.930218Z"
        },
        "trusted": true
      },
      "execution_count": null,
      "outputs": [
        {
          "name": "stdout",
          "text": "Полигон частот:\n",
          "output_type": "stream"
        },
        {
          "output_type": "display_data",
          "data": {
            "text/plain": "<Figure size 432x288 with 1 Axes>",
            "image/png": "[encoded data removed]"
          },
          "metadata": {
            "needs_background": "light"
          }
        }
      ]
    },
    {
      "cell_type": "code",
      "source": [
        "print(\"Гистограмма частот:\")\n",
        "plt.hist(samplex, bins=b, color = \"g\" , weights=(np.ones_like(samplex) / len(samplex))/c, edgecolor='black')\n",
        "plt.show()"
      ],
      "metadata": {
        "id": "9qWZaBxdwhDW",
        "outputId": "a32843d5-8b5c-44ff-d23f-32452bbb36f9",
        "execution": {
          "iopub.status.busy": "2022-12-06T16:29:10.933482Z",
          "iopub.execute_input": "2022-12-06T16:29:10.942267Z",
          "iopub.status.idle": "2022-12-06T16:29:11.223364Z",
          "shell.execute_reply.started": "2022-12-06T16:29:10.942200Z",
          "shell.execute_reply": "2022-12-06T16:29:11.221979Z"
        },
        "trusted": true
      },
      "execution_count": null,
      "outputs": [
        {
          "name": "stdout",
          "text": "Гистограмма частот:\n",
          "output_type": "stream"
        },
        {
          "output_type": "display_data",
          "data": {
            "text/plain": "<Figure size 432x288 with 1 Axes>",
            "image/png": "[encoded data removed]"
          },
          "metadata": {
            "needs_background": "light"
          }
        }
      ]
    },
    {
      "cell_type": "code",
      "source": [
        "psum=[0]*b\n",
        "nsum=[0]*b\n",
        "nsum[0]=novitr[0]\n",
        "psum[0]=novitr2[0]\n",
        "for i in range(1,len(d)):\n",
        "    psum[i]=psum[i-1]+novitr2[i]\n",
        "    nsum[i]=nsum[i-1]+novitr[i]\n",
        "h2=[0]*b\n",
        "print(\"Эмпирическая функция:\")\n",
        "for i in range(8):\n",
        "    h2[i]=psum[i]\n",
        "    plt.hlines(h2[i], d[i], e[i], color='g')\n"
      ],
      "metadata": {
        "id": "440ZNOrUwhDW",
        "outputId": "b6cbf55c-d53c-446b-d1f3-e8d2e27af2c0",
        "execution": {
          "iopub.status.busy": "2022-12-06T16:29:11.227609Z",
          "iopub.execute_input": "2022-12-06T16:29:11.228012Z",
          "iopub.status.idle": "2022-12-06T16:29:11.551939Z",
          "shell.execute_reply.started": "2022-12-06T16:29:11.227978Z",
          "shell.execute_reply": "2022-12-06T16:29:11.550646Z"
        },
        "trusted": true
      },
      "execution_count": null,
      "outputs": [
        {
          "name": "stdout",
          "text": "Эмпирическая функция:\n",
          "output_type": "stream"
        },
        {
          "output_type": "display_data",
          "data": {
            "text/plain": "<Figure size 432x288 with 1 Axes>",
            "image/png": "[encoded data removed]"
          },
          "metadata": {
            "needs_background": "light"
          }
        }
      ]
    },
    {
      "cell_type": "markdown",
      "source": [
        "Для относительных частот так же нет закономерностей, как и для абсолютных. Графики схожи. Отличие лишь в координатах на оси Y."
      ],
      "metadata": {
        "id": "td1BSOLnwhDX"
      }
    },
    {
      "cell_type": "markdown",
      "source": [
        "### 5"
      ],
      "metadata": {
        "id": "nYYeLonOwhDX"
      }
    },
    {
      "cell_type": "code",
      "source": [
        "table = PrettyTable([\"№\",\"[x(i-1);xi]\",\"cpеднее\",\"ni\",\"p*i\",\"сумма ni\",\"сумма pi\"])\n",
        "table.add_row([1,[round(d[0],3),round(e[0],3)],round(mid[0],3),novitr[0],round(novitr2[0],3),nsum[0],round(psum[0],3)])\n",
        "for i in range(1,len(d)):\n",
        "    table.add_row([i+1,[round(d[i],3),round(e[i],3)],round(mid[i],3),novitr[i],round(novitr2[i],3),nsum[i],round(psum[i],3)])\n",
        "table.add_row([\" \",\" \",\"Cумма\",novitr3,round(sum(novitr2)),\" \",\" \"])\n",
        "print(table)"
      ],
      "metadata": {
        "id": "t_MtcGQmwhDX",
        "outputId": "d30c9129-5b54-4396-a7ac-8de9387f96e9",
        "execution": {
          "iopub.status.busy": "2022-12-06T16:29:11.554976Z",
          "iopub.execute_input": "2022-12-06T16:29:11.555842Z",
          "iopub.status.idle": "2022-12-06T16:29:11.571453Z",
          "shell.execute_reply.started": "2022-12-06T16:29:11.555789Z",
          "shell.execute_reply": "2022-12-06T16:29:11.569960Z"
        },
        "trusted": true
      },
      "execution_count": null,
      "outputs": [
        {
          "name": "stdout",
          "text": "+---+------------------+---------+----+-------+----------+----------+\n| № |   [x(i-1);xi]    | cpеднее | ni |  p*i  | сумма ni | сумма pi |\n+---+------------------+---------+----+-------+----------+----------+\n| 1 | [53.57, 58.419]  |  55.994 | 6  | 0.061 |    6     |  0.061   |\n| 2 | [58.419, 63.268] |  60.843 | 7  | 0.071 |    13    |  0.133   |\n| 3 | [63.268, 68.116] |  65.692 | 6  | 0.061 |    19    |  0.194   |\n| 4 | [68.116, 72.965] |  70.541 | 19 | 0.194 |    38    |  0.388   |\n| 5 | [72.965, 77.814] |  75.389 | 23 | 0.235 |    61    |  0.622   |\n| 6 | [77.814, 82.662] |  80.238 | 17 | 0.173 |    78    |  0.796   |\n| 7 | [82.662, 87.511] |  85.087 | 4  | 0.041 |    82    |  0.837   |\n| 8 | [87.511, 92.36]  |  89.936 | 16 | 0.163 |    98    |   1.0    |\n|   |                  |  Cумма  | 98 |   1   |          |          |\n+---+------------------+---------+----+-------+----------+----------+\n",
          "output_type": "stream"
        }
      ]
    },
    {
      "cell_type": "markdown",
      "source": [
        "### 6"
      ],
      "metadata": {
        "id": "0H2nx-uNwhDX"
      }
    },
    {
      "cell_type": "code",
      "source": [
        "ui=[0]*b\n",
        "ui1,ui2,ui3,ui4,ui5=[0]*b,[0]*b,[0]*b,[0]*b,[0]*b\n",
        "ms=0\n",
        "for i in range(len(d)):\n",
        "    ui[i]=i\n",
        "for i in range(len(d)):\n",
        "    ms=ms+novitr[i]\n",
        "    if ms>50:\n",
        "        break\n",
        "for j in range(len(d)):\n",
        "        ui[j]=ui[j]-i\n",
        "table2 = PrettyTable([\"№\",\"xi\",\"ni\",\"ui\",\" ui_ni\",\"ui^2_ni\",\"ui^3_ni\",\"ui^4_ni\",\"(ui+1)^4_ni\"])   \n",
        "for i in range(len(d)):\n",
        "    ui1[i]=novitr[i]*ui[i]\n",
        "    ui2[i]=ui1[i]*ui[i]\n",
        "    ui3[i]=ui2[i]*ui[i]\n",
        "    ui4[i]=ui3[i]*ui[i]\n",
        "    ui5[i]=novitr[i]*((ui[i]+1)**4)\n",
        "    table2.add_row([i+1,round(mid[i],3),novitr[i],ui[i],ui1[i],ui2[i],ui3[i],ui4[i],ui5[i]])\n",
        "table2.add_row([\" \",\"Сумма\",novitr3,\" \",sum(ui1),sum(ui2),sum(ui3),sum(ui4),sum(ui5)])\n",
        "print(table2)\n",
        "print('Проверка корректности:')\n",
        "proof=sum(ui4)+4*sum(ui3)+6*sum(ui2)+4*sum(ui1)+sum(novitr)\n",
        "print(proof)"
      ],
      "metadata": {
        "id": "FTCrT5j7whDY",
        "outputId": "7fa7cb8b-5dcc-452f-d513-f53f63833196",
        "execution": {
          "iopub.status.busy": "2022-12-06T16:29:11.573312Z",
          "iopub.execute_input": "2022-12-06T16:29:11.574352Z",
          "iopub.status.idle": "2022-12-06T16:29:11.595502Z",
          "shell.execute_reply.started": "2022-12-06T16:29:11.574300Z",
          "shell.execute_reply": "2022-12-06T16:29:11.593984Z"
        },
        "trusted": true
      },
      "execution_count": null,
      "outputs": [
        {
          "name": "stdout",
          "text": "+---+--------+----+----+--------+---------+---------+---------+-------------+\n| № |   xi   | ni | ui |  ui_ni | ui^2_ni | ui^3_ni | ui^4_ni | (ui+1)^4_ni |\n+---+--------+----+----+--------+---------+---------+---------+-------------+\n| 1 | 55.994 | 6  | -4 |  -24   |    96   |   -384  |   1536  |     486     |\n| 2 | 60.843 | 7  | -3 |  -21   |    63   |   -189  |   567   |     112     |\n| 3 | 65.692 | 6  | -2 |  -12   |    24   |   -48   |    96   |      6      |\n| 4 | 70.541 | 19 | -1 |  -19   |    19   |   -19   |    19   |      0      |\n| 5 | 75.389 | 23 | 0  |   0    |    0    |    0    |    0    |      23     |\n| 6 | 80.238 | 17 | 1  |   17   |    17   |    17   |    17   |     272     |\n| 7 | 85.087 | 4  | 2  |   8    |    16   |    32   |    64   |     324     |\n| 8 | 89.936 | 16 | 3  |   48   |   144   |   432   |   1296  |     4096    |\n|   | Сумма  | 98 |    |   -3   |   379   |   -159  |   3595  |     5319    |\n+---+--------+----+----+--------+---------+---------+---------+-------------+\nПроверка корректности:\n5319\n",
          "output_type": "stream"
        }
      ]
    },
    {
      "cell_type": "markdown",
      "source": [
        "Проверка пройдена, следовательно все вычисления верны."
      ],
      "metadata": {
        "id": "JcdJexUMoilM"
      }
    },
    {
      "cell_type": "markdown",
      "source": [
        "### 7"
      ],
      "metadata": {
        "id": "aCcpHsdOwhDY"
      }
    },
    {
      "cell_type": "code",
      "source": [
        "table3 = PrettyTable([\"№\",\"Условный эмпирический момент\",\"Центральные эмпирические моменты\"]) \n",
        "table3.add_row([1,round(sum(ui1)/len(samplex), 3),0])\n",
        "table3.add_row([2,round(sum(ui2)/len(samplex),3),round((sum(ui2)/len(samplex)-(sum(ui1)/len(samplex))**2)*c**2,3)])\n",
        "table3.add_row([3,round(sum(ui3)/len(samplex),3),round((sum(ui3)/len(samplex)-3*sum(ui2)/len(samplex)*sum(ui1)/len(samplex)+2*(sum(ui1)/len(samplex))**3)*c**3,3)])\n",
        "table3.add_row([4,round(sum(ui4)/len(samplex),3),round((sum(ui4)/len(samplex)-4*sum(ui3)/len(samplex)*sum(ui1)/len(samplex)+6*sum(ui2)/len(samplex)*(sum(ui1)/len(samplex))**2-3*(sum(ui1)/len(samplex))**4)*c**4,3)])\n",
        "print(table3)"
      ],
      "metadata": {
        "id": "bFqEe_COwhDY",
        "outputId": "5f44d545-f6bd-46c9-e2c7-b6ba9a3f8844",
        "execution": {
          "iopub.status.busy": "2022-12-06T16:29:11.598153Z",
          "iopub.execute_input": "2022-12-06T16:29:11.598799Z",
          "iopub.status.idle": "2022-12-06T16:29:11.645872Z",
          "shell.execute_reply.started": "2022-12-06T16:29:11.598748Z",
          "shell.execute_reply": "2022-12-06T16:29:11.644209Z"
        },
        "trusted": true
      },
      "execution_count": null,
      "outputs": [
        {
          "name": "stdout",
          "text": "+---+------------------------------+----------------------------------+\n| № | Условный эмпирический момент | Центральные эмпирические моменты |\n+---+------------------------------+----------------------------------+\n| 1 |            -0.031            |                0                 |\n| 2 |            3.867             |              90.901              |\n| 3 |            -1.622            |             -144.472             |\n| 4 |            36.684            |             20178.66             |\n+---+------------------------------+----------------------------------+\n",
          "output_type": "stream"
        }
      ]
    },
    {
      "cell_type": "markdown",
      "source": [
        "### 8"
      ],
      "metadata": {
        "id": "5xL3ikftwhDZ"
      }
    },
    {
      "cell_type": "code",
      "source": [
        "l=0\n",
        "vc=0\n",
        "disp=0\n",
        "for i in range(b):\n",
        "    vc=vc+(novitr[i]*mid[i]/len(samplex))\n",
        "for i in range(b):\n",
        "    disp=disp+(novitr[i]*(mid[i]-vc)**2/len(samplex))\n",
        "if b%2==0:\n",
        "    if novitr[round(b/2-2)]>novitr[round(b/2-2)]:\n",
        "        l=mid[round(b/2-2)]\n",
        "    else:\n",
        "        l=mid[round(b/2-1)]\n",
        "uuc=(c*sum(ui1)/len(samplex))+l\n",
        "udisp=(sum(ui2)/len(samplex)-(sum(ui1)/len(samplex))**2)*c**2\n",
        "print(\"выборочное среднее и дисперсия:\", round(vc,5), round(disp,5))\n",
        "print(\"выборочное среднее и дисперсия:\", round(uuc,5),round(udisp,5))"
      ],
      "metadata": {
        "id": "z-cuYxvBwhDZ",
        "outputId": "3883a3b1-8b9d-414a-9101-c88d56a695c5",
        "execution": {
          "iopub.status.busy": "2022-12-06T16:29:11.648899Z",
          "iopub.execute_input": "2022-12-06T16:29:11.650757Z",
          "iopub.status.idle": "2022-12-06T16:29:11.664998Z",
          "shell.execute_reply.started": "2022-12-06T16:29:11.650694Z",
          "shell.execute_reply": "2022-12-06T16:29:11.663551Z"
        },
        "trusted": true
      },
      "execution_count": null,
      "outputs": [
        {
          "name": "stdout",
          "text": "выборочное среднее и дисперсия: 75.24094 90.90075\nвыборочное среднее и дисперсия: 70.39219 90.90075\n",
          "output_type": "stream"
        }
      ]
    },
    {
      "cell_type": "markdown",
      "source": [
        "У выборочных средних и дисперсий, вычисленных по стандартным формулам, и у выборочных средних и дисперсий, вычисленных с помощью условных вариант, результаты дисперсий равны, а результаты среднего значения разняться."
      ],
      "metadata": {
        "id": "H5BMXruEwhDZ"
      }
    },
    {
      "cell_type": "markdown",
      "source": [
        "### 9"
      ],
      "metadata": {
        "id": "pjxDD0FZwhDZ"
      }
    },
    {
      "cell_type": "code",
      "source": [
        "corr_disp=(len(samplex)/(len(samplex)-1))*disp\n",
        "corr_sko=np.sqrt(corr_disp)\n",
        "sko=np.sqrt(disp)\n",
        "print(\"Исправленная выборочная дисперсия и исправленное ско:\",round(corr_disp,5),round(corr_sko,5))\n",
        "print(\"Смещённые оценки дисперсии и ско\",round(disp,5),round(sko,5))"
      ],
      "metadata": {
        "id": "Me6tnYLHwhDa",
        "outputId": "19d38108-be16-46ec-fbaa-ab4c2afac40e",
        "execution": {
          "iopub.status.busy": "2022-12-06T16:29:11.667023Z",
          "iopub.execute_input": "2022-12-06T16:29:11.668035Z",
          "iopub.status.idle": "2022-12-06T16:29:11.682303Z",
          "shell.execute_reply.started": "2022-12-06T16:29:11.667969Z",
          "shell.execute_reply": "2022-12-06T16:29:11.680946Z"
        },
        "trusted": true
      },
      "execution_count": null,
      "outputs": [
        {
          "name": "stdout",
          "text": "Исправленная выборочная дисперсия и исправленное ско: 91.83787 9.58321\nСмещённые оценки дисперсии и ско 90.90075 9.53419\n",
          "output_type": "stream"
        }
      ]
    },
    {
      "cell_type": "markdown",
      "source": [
        "Раазница исправленной выборочной дисперсия и исправленного со смещёнными оценками дисперсии и ско есть, но она незначительная."
      ],
      "metadata": {
        "id": "TeuaxBuNwhDa"
      }
    },
    {
      "cell_type": "markdown",
      "source": [
        "### 10"
      ],
      "metadata": {
        "id": "i0ma1cFJwhDa"
      }
    },
    {
      "cell_type": "code",
      "source": [
        "k_ass=((sum(ui3)/len(samplex)-3*sum(ui2)/len(samplex)*sum(ui1)/len(samplex)+2*(sum(ui1)/len(samplex))**3)*c**3)/sko**3\n",
        "M4 = 0\n",
        "Dx = 0\n",
        "MOx = (sum(samplex)/novitr3)\n",
        "for i in range(98):\n",
        "    Dx = Dx + (samplex[i] - MOx)**2\n",
        "Dx /= novitr3\n",
        "for i in range(novitr3):\n",
        "    M4 = M4 + (samplex[i]-73.43)**4\n",
        "M4 /= novitr3\n",
        "E = M4/(math.sqrt(Dx))**4 - 3\n",
        "print(\"Коэффициент ассиметрии:\",round(k_ass,5))\n",
        "print(\"коэффициент эксцесса:\", round(E,5))"
      ],
      "metadata": {
        "id": "dAKYDm1lwhDa",
        "outputId": "6c0a9f39-71e8-4a72-9001-e6c4b94307e0",
        "execution": {
          "iopub.status.busy": "2022-12-06T16:29:11.684345Z",
          "iopub.execute_input": "2022-12-06T16:29:11.685540Z",
          "iopub.status.idle": "2022-12-06T16:29:11.699041Z",
          "shell.execute_reply.started": "2022-12-06T16:29:11.685429Z",
          "shell.execute_reply": "2022-12-06T16:29:11.697694Z"
        },
        "trusted": true
      },
      "execution_count": null,
      "outputs": [
        {
          "name": "stdout",
          "text": "Коэффициент ассиметрии: -0.1667\nкоэффициент эксцесса: -0.3844\n",
          "output_type": "stream"
        }
      ]
    },
    {
      "cell_type": "markdown",
      "source": [
        "Коэффициент асимметрии меньше нуля, следовательно, правый хвост распределения короче левого.\n",
        "\n",
        "Коэффициент эксцесса меньше нуля, следовательно, распределение низковершинное."
      ],
      "metadata": {
        "id": "ejgxDBvWwhDb"
      }
    },
    {
      "cell_type": "markdown",
      "source": [
        "### 11"
      ],
      "metadata": {
        "id": "6qOkfbtjwhDb"
      }
    },
    {
      "cell_type": "code",
      "source": [
        "m_s=0\n",
        "for i in range(len(d)):\n",
        "    m_s=m_s+novitr[i]\n",
        "    if m_s>50:\n",
        "        break\n",
        "moda=mid[i]+c*((novitr[i]-novitr[i-1])/((novitr[i]-novitr[i-1])+(novitr[i]-novitr[i+1])))\n",
        "mediana=mid[i]+c*(0.5-psum[i-1])/(novitr2[i])\n",
        "k_var=sko/vc*100\n",
        "print(\"Мода:\", round(moda,5))\n",
        "print(\"Медиана:\", round(mediana,5))\n",
        "print(\"Коэффициент вариации:\", round(k_var,3), \"%\")"
      ],
      "metadata": {
        "id": "fRNhOTfVwhDb",
        "outputId": "edfefb75-2f81-419b-c553-ea14dded7f73",
        "execution": {
          "iopub.status.busy": "2022-12-06T16:29:11.701022Z",
          "iopub.execute_input": "2022-12-06T16:29:11.701848Z",
          "iopub.status.idle": "2022-12-06T16:29:11.752669Z",
          "shell.execute_reply.started": "2022-12-06T16:29:11.701786Z",
          "shell.execute_reply": "2022-12-06T16:29:11.751025Z"
        },
        "trusted": true
      },
      "execution_count": null,
      "outputs": [
        {
          "name": "stdout",
          "text": "Мода: 77.32888\nМедиана: 77.70834\nКоэффициент вариации: 12.672 %\n",
          "output_type": "stream"
        }
      ]
    },
    {
      "cell_type": "markdown",
      "source": [
        "Медиана находится в середине упорядоченной совокупности, мода показывает наиболее часто встречающиеся элемент, но из-за того, что в представленной выборке почти отсутствуют повторяющиеся элементы, медиана и мода практически равны.\n",
        "\n",
        "Благодаря коэффициенту вариации можно судить о том, что совокупность достаточно однородная."
      ],
      "metadata": {
        "id": "Ae2ccSuOwhDb"
      }
    },
    {
      "cell_type": "markdown",
      "source": [
        "### 12"
      ],
      "metadata": {
        "id": "W4AFshXBwhDc"
      }
    },
    {
      "cell_type": "code",
      "source": [
        "a95 = 1.986*corr_sko/np.sqrt(len(samplex))\n",
        "a99 = 2.597*corr_sko/np.sqrt(len(samplex))\n",
        "print(\"Точность для 0.95:\", round(a95,5))\n",
        "print(\"Интервальный ряд для 0.95:\", \"(\", round(vc-a95,5),\",\", round(vc+a95,5),\")\")\n",
        "print(\"Точность для 0.99:\", round(a99,5))\n",
        "print(\"Интервальный ряд для 0.99:\", \"(\", round(vc-a99,5),\",\", round(vc+a99,5),\")\")"
      ],
      "metadata": {
        "id": "jIqzSVszwhDc",
        "outputId": "a2dce7c0-0f21-4cbb-d64b-e8bb3ddae105",
        "execution": {
          "iopub.status.busy": "2022-12-06T16:29:11.754691Z",
          "iopub.execute_input": "2022-12-06T16:29:11.755493Z",
          "iopub.status.idle": "2022-12-06T16:29:11.767242Z",
          "shell.execute_reply.started": "2022-12-06T16:29:11.755443Z",
          "shell.execute_reply": "2022-12-06T16:29:11.765863Z"
        },
        "trusted": true
      },
      "execution_count": null,
      "outputs": [
        {
          "name": "stdout",
          "text": "Точность для 0.95: 1.92255\nИнтервальный ряд для 0.95: ( 73.3184 , 77.16349 )\nТочность для 0.99: 2.51403\nИнтервальный ряд для 0.99: ( 72.72692 , 77.75497 )\n",
          "output_type": "stream"
        }
      ]
    },
    {
      "cell_type": "markdown",
      "source": [
        "В получившиеся интервалы попадает выборочное среднее выборки."
      ],
      "metadata": {
        "id": "911EE6cEwhDc"
      }
    },
    {
      "cell_type": "markdown",
      "source": [
        "### 13"
      ],
      "metadata": {
        "id": "iOj5L9NmwhDc"
      }
    },
    {
      "cell_type": "code",
      "source": [
        "q1=np.sqrt((len(samplex)-1)/73.789)-1 \n",
        "q2=np.sqrt((len(samplex)-1)/24.456)-1\n",
        "print(\"Найденая q для 0.95 равняется:\",round(q1,5))\n",
        "print(\"Найденая q для 0.99 равняется:\",round(q2,5))\n",
        "print(\"Доверительный интервал для 0.95:\",\"(\",round(corr_sko*(1-q1),5),\",\",round(corr_sko*(1+q1),5),\")\")\n",
        "print(\"Доверительный интервал для 0.95:\", \"(\",round(corr_sko*(1-q2),5),\",\",round(corr_sko*(1+q2),5),\")\")"
      ],
      "metadata": {
        "id": "5PU6MwlGwhDd",
        "outputId": "1c3e4186-98fb-4682-9bbc-f2462cd14628",
        "execution": {
          "iopub.status.busy": "2022-12-06T16:29:11.773632Z",
          "iopub.execute_input": "2022-12-06T16:29:11.774868Z",
          "iopub.status.idle": "2022-12-06T16:29:11.786489Z",
          "shell.execute_reply.started": "2022-12-06T16:29:11.774800Z",
          "shell.execute_reply": "2022-12-06T16:29:11.785063Z"
        },
        "trusted": true
      },
      "execution_count": null,
      "outputs": [
        {
          "name": "stdout",
          "text": "Найденая q для 0.95 равняется: 0.14654\nНайденая q для 0.99 равняется: 0.99156\nДоверительный интервал для 0.95: ( 8.17886 , 10.98755 )\nДоверительный интервал для 0.95: ( 0.08089 , 19.08552 )\n",
          "output_type": "stream"
        }
      ]
    },
    {
      "cell_type": "markdown",
      "source": [
        "В получившиеся доверительные интервалы попадает ско выборки."
      ],
      "metadata": {
        "id": "O7mVVdmbwhDd"
      }
    },
    {
      "cell_type": "markdown",
      "source": [
        "### 14"
      ],
      "metadata": {
        "id": "EUMpzDHrwhDd"
      }
    },
    {
      "cell_type": "code",
      "source": [
        "table4 = PrettyTable([\"№\",\"[xi-1;xi]\",\"ni\",\"pi\",\"n'i\",\"(ni-ni')^2\",\"((ni-ni')^2)/ni'\",\"ni^2\",\"ni^2/ni'\"]) \n",
        "d[0]=-math.inf\n",
        "e[b-1]=math.inf\n",
        "pi,ni1,ni2,ni3,ni4=[0]*b,[0]*b,[0]*b,[0]*b,[0]*b\n",
        "pi[0]=0.12673\n",
        "pi[1]=0.18432\n",
        "pi[2]=0.25341\n",
        "pi[3]=0.24234\n",
        "pi[4]=0.1621\n",
        "pi[5]=0.0812\n",
        "pi[6]=0.0279\n",
        "pi[7]=0.012\n",
        "for i in range(b):\n",
        "    ni1[i]=len(samplex)*pi[i]\n",
        "    ni2[i]=(novitr[i]-len(samplex)*pi[i])**2\n",
        "    ni3[i]=((novitr[i]-len(samplex)*pi[i])**2)/(len(samplex)*pi[i])\n",
        "    ni4[i]=novitr[i]**2/(len(samplex)*pi[i])\n",
        "    table4.add_row([i+1,[round(d[i],3),round(e[i],3)],novitr[i],round(pi[i],3),round(ni1[i],3),round(ni2[i],3),round(ni3[i],3),novitr[i]**2,round(ni4[i],3)])\n",
        "table4.add_row([\" \",\"Сумма\",novitr3,round(sum(pi)),round(sum(ni1)),\" \",round(sum(ni3)),\"-\",round(sum(ni4)-len(samplex))])\n",
        "print(table4)\n",
        "krit = 10.86\n",
        "print(\"Критическая точка: \", krit)\n",
        "print(\"Набляюдаемое значение: \", round(sum(ni3)))\n",
        "if sum(ni3)<krit:\n",
        "    print(\"Принимаем выдвенутую гипотезу.\")\n",
        "else:\n",
        "    print(\"Отвергаем выдвинутую гипотезу.\")"
      ],
      "metadata": {
        "id": "_gG3BP0SwhDd",
        "outputId": "79c78dec-f917-4715-f1cc-78f41915e50c",
        "execution": {
          "iopub.status.busy": "2022-12-06T16:29:11.788809Z",
          "iopub.execute_input": "2022-12-06T16:29:11.789849Z",
          "iopub.status.idle": "2022-12-06T16:29:11.848909Z",
          "shell.execute_reply.started": "2022-12-06T16:29:11.789798Z",
          "shell.execute_reply": "2022-12-06T16:29:11.847390Z"
        },
        "trusted": true
      },
      "execution_count": null,
      "outputs": [
        {
          "name": "stdout",
          "text": "+---+------------------+----+-------+--------+------------+------------------+------+----------+\n| № |    [xi-1;xi]     | ni |   pi  |  n'i   | (ni-ni')^2 | ((ni-ni')^2)/ni' | ni^2 | ni^2/ni' |\n+---+------------------+----+-------+--------+------------+------------------+------+----------+\n| 1 |  [-inf, 58.419]  | 6  | 0.127 | 12.42  |   41.21    |      3.318       |  36  |  2.899   |\n| 2 | [58.419, 63.268] | 7  | 0.184 | 18.063 |  122.398   |      6.776       |  49  |  2.713   |\n| 3 | [63.268, 68.116] | 6  | 0.253 | 24.834 |  354.726   |      14.284      |  36  |   1.45   |\n| 4 | [68.116, 72.965] | 19 | 0.242 | 23.749 |   22.556   |       0.95       | 361  |   15.2   |\n| 5 | [72.965, 77.814] | 23 | 0.162 | 15.886 |   50.612   |      3.186       | 529  |   33.3   |\n| 6 | [77.814, 82.662] | 17 | 0.081 | 7.958  |   81.765   |      10.275      | 289  |  36.317  |\n| 7 | [82.662, 87.511] | 4  | 0.028 | 2.734  |   1.602    |      0.586       |  16  |  5.852   |\n| 8 |  [87.511, inf]   | 16 | 0.012 | 1.176  |  219.751   |     186.863      | 256  | 217.687  |\n|   |      Сумма       | 98 |   1   |  107   |            |       226        |  -   |   217    |\n+---+------------------+----+-------+--------+------------+------------------+------+----------+\nКритическая точка:  10.86\nНабляюдаемое значение:  226\nОтвергаем выдвинутую гипотезу.\n",
          "output_type": "stream"
        }
      ]
    },
    {
      "cell_type": "markdown",
      "source": [
        "## Выводы\n",
        "В данной практической работе были выполнены все задания, проанализированна данная выборка, закреплён материал, который был дан на практических занятиях. Найдены все основные характеристики выборки."
      ],
      "metadata": {
        "id": "La65Rs6cyJpb"
      }
    }
  ]
}