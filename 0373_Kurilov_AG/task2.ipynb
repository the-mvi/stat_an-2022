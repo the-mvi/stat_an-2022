{
  "metadata": {
    "kernelspec": {
      "language": "python",
      "display_name": "Python 3",
      "name": "python3"
    },
    "language_info": {
      "name": "python",
      "version": "3.7.12",
      "mimetype": "text/x-python",
      "codemirror_mode": {
        "name": "ipython",
        "version": 3
      },
      "pygments_lexer": "ipython3",
      "nbconvert_exporter": "python",
      "file_extension": ".py"
    },
    "colab": {
      "provenance": []
    }
  },
  "nbformat_minor": 0,
  "nbformat": 4,
  "cells": [
    {
      "cell_type": "markdown",
      "source": [
        "# Практическая работа №2: Корреляционный и регрессионный анализ.\n",
        "Выполнил студент группы 0373 Курилов Артём. Вариант 11."
      ],
      "metadata": {
        "id": "iERtA1EhgCw6"
      }
    },
    {
      "cell_type": "markdown",
      "source": [
        "## Цель работы\n",
        "Освоение основных понятий, связанных с корреляционной зависимостью\n",
        "между случайными величинами, статистическими гипотезами и проверкой их «справедливости». Ознакомление с основными положениями метода наименьших квадратов (МНК), со статистическими свойствами МНК\n",
        "оценок, с понятием функции регрессии и роли МНК в регрессионном анализе, с корреляционным отношением, как мерой тесноты произвольной\n",
        "(в том числе и линейной) корреляционной связи."
      ],
      "metadata": {
        "id": "m4L8E6n4gCw-"
      }
    },
    {
      "cell_type": "markdown",
      "source": [
        "## Основные теоретические положения"
      ],
      "metadata": {
        "id": "lCpJZflSgCw_"
      }
    },
    {
      "cell_type": "markdown",
      "source": [
        "МНК - основан на минимализации суммы квадратов отклонений некоторых функций от искомых переменных.\n",
        "\n",
        "*Исправленное СКО*: $s=\\sqrt{s^2}$\n",
        "\n",
        "Функциональная зависимость - когда каждому значению одной переменной соответствует вполне опредлённое единственное значение другой.\n",
        "Статистическая зависимость - при которой изменение одной из величин влечёт изменение распределения другого.\n",
        "Корреляционная зависимость - статистическая зависимость, при которой изменение одной величины приводит к изменению среднего значения другой.\n",
        "\n",
        "Доверительный интервал - интервал $(\\theta^{*}-\\delta;\\theta^{*}+\\delta)$, который покрывает неизвестный параметр $\\theta$ с заданной надёжностью $\\gamma$\n",
        "\n",
        "Выборочное СКО: $\\sigma_{B}=\\sqrt{\\sigma_{B}^{2}}$\n",
        "\n",
        "Условные варианты - варианты, определяемые равенством $u_{i}=\\frac{x_{i}-C}{h}$, где C - ложный нуль (середина вариационного ряда). Если вариационный ряд состоит из равноостоящих вариант с шагом h, то условные варианты $u_{i}\\in\\mathbb{Z}$\n",
        "\n",
        "Выборочный коэффициент ассиметрии: $a_{s}^{*}=\\frac{\\mu_{3}^{8}}{\\sigma_{B}^{3}}$\n",
        "\n",
        "Выборочный коэффициент экцесса: $\\varepsilon_{k}^{*}=\\frac{\\mu_{4}^{*}}{\\sigma_{B}^{4}}-3$\n",
        "\n",
        "Услвоное(группового) среднее - среднее арифмитическое тех значений случайной величины Х(Y), которые соотвествует значению случайной величины Y=y(X=x).\n",
        "\n",
        "Преобразование Фишера:\n",
        "\n",
        "$z=arth(r_{B}) $ \n",
        "\n",
        "$T_{nabl}=r_{B}\\frac{\\sqrt{n-2}}{\\sqrt{1-r_{B}^{2}}}$\n",
        "\n",
        "$T_{krit}=t(\\alpha,df)$, где $df=n-2$\n",
        "\n",
        "Теоретический коэффициент детерминации: \n",
        "\n",
        "$R_{y}^{2}=\\frac{(\\delta_{y}^{*})^{2}}{\\sigma_{y}^{2}}, R_{x}^{2}=\\frac{(\\delta_{x}^{*})^{2}}{\\sigma_{x}^{2}} $\n",
        "\n",
        "Средняя квадратичная ошибка уравнения регрессии - среднее квадратичное отклонение наблюдаемых значений результативного признака от теоритических значений, рассчитанных по модели:\n",
        "\n",
        "$S_{\\varepsilon_{y}}=\\sqrt{\\frac{1}{n-l}\\sum_{i=1}^{n}\\varepsilon_{y_{i}}^{2}}, S_{\\varepsilon_{x}}=\\sqrt{\\frac{1}{n-l}\\sum_{i=1}^{n}\\varepsilon_{x_{i}}^{2}}$, где l - количество параметров в модели регрессии\n",
        "\n",
        "Средняя ошибка аппроксимации:\n",
        "\n",
        "$A_{y}=\\frac{1}{n}\\sum_{i=1}^{n}|\\frac{\\varepsilon_{y_{i}}}{y_{i}}|, A_{x}=\\frac{1}{n}\\sum_{i=1}^{n}|\\frac{\\varepsilon_{x_{i}}}{x_{i}}|$\n",
        "\n",
        "Выборочное корреляционное отношение Y к X - отношение межгруппового СКО к общему СКО признака Y: \n",
        "\n",
        "$\\eta_{yx}=\\frac{\\sigma_{megr}}{\\sigma_{ob}}$. Другое обозначение: $\\eta_{yx}=\\frac{\\sigma_{\\overline{y_{x}}}}{\\sigma_{y}}$, где $\\sigma_{\\overline{y_{x}}}=\\sqrt{\\sigma_{mezhgr}^{2}}=\\sqrt{\\frac{(\\sum{n_{x}(\\overline{y_{x}}-\\overline{y})^{2}})}{n}}, \\sigma_{\\overline{y}}=\\sqrt{\\sigma_{obsch}^{2}}=\\sqrt{\\frac{(\\sum{n_{y}(\\overline{y_{x}}-\\overline{y})^{2}})}{n}}$\n",
        "\n",
        "Условное (групповое) среднее - среднее арифметическое тех значений случайной величины X(Y), которые соответствуют значению случайной величины Y=y (X=x): \n",
        "\n",
        "$\\overline{x_{y}}=\\frac{\\sum_{i=1}^{k_{x}}x_{i}n_{x_{i}y}}{\\sum_{i=1}^{k_{x}}n_{x_{i}y}}, \\overline{y_{x}}=\\frac{\\sum_{j=1}^{k_{y}}y_{j}n_{xy_{j}}}{\\sum_{j=1}^{k_{y}}n_{xy_{j}}}$\n",
        "\n",
        "Межгрупповое среднее:  \n",
        "\n",
        "$\\overline{xy}=\\frac{1}{n}\\sum_{i=1}^{k_{x}}\\sum_{j=1}^{k_{y}}n_{x_{i}y_{j}}x_{i}y_{j}$\n",
        "\n",
        "Уравнение регрессии : $\\overline{y_{x}}-\\overline{y}=r_{yx}\\frac{\\sigma_{y}}{\\sigma_{x}}(x-\\overline{x}), \\overline{x_{y}}-\\overline{x}=r_{xy}\\frac{\\sigma_{x}}{\\sigma_{y}}(y-\\overline{y})$\n",
        "\n",
        "Метод наименьших квадратов: \n",
        "\n",
        "1) основан на минимизации суммы квадратов отклонений некоторых функций от искомых переменных\n",
        "\n",
        "2) Минимизирующая функция: $F(a_{1}\\cdots{a_{m}})=\\sum_{i=1}^{n}(y_{i}-f(x_{i};a_{1}\\cdots{a_{m}})^{2}\\rightarrow{min}$\n",
        "\n",
        "3) Необходимое условие экстремума функции многих переменных - равенство нулю всех частных производных функции F\n",
        "\n",
        "Свойства корреляционного отношения:\n",
        "\n",
        "1) $\\eta\\in[0,1] $\n",
        "\n",
        "2) Если $\\eta=0$, то признак Y с признаком X корреляционной зависимостью не связан (справедливо и обратное)\n",
        "\n",
        "3) Если $\\eta=1$, то признак Y связан с признаком X функциональной зависимостью (справедливо и обратное)\n",
        "\n",
        "4) $\\eta\\geq|r_{B}| $\n",
        "\n",
        "5) Если $\\eta=r_{B}$, то имеет место быть точная линейная корреляционная зависимость\n",
        "\n",
        "Доверительный интервал для оценки выборочного коэффициента корреляции:\n",
        "\n",
        "$(th(z-\\frac{t}{\\sqrt{n-3}});th(z+\\frac{t}{\\sqrt{n-3}}))$, где t определяется как $\\Phi(t)=\\frac{\\gamma}{2}$\n",
        "\n",
        "Дисперсия результативного признака: \n",
        "\n",
        "$(\\delta_{y}^{*})^{2}=\\frac{1}{n}\\sum_{i=1}^{n}(y_{x_{i}}-\\overline{y})^{2}, (\\delta_{x}^{*})^{2}=\\frac{1}{n}\\sum_{i=1}^{n}(x_{y_{i}}-\\overline{x})^{2} $\n"
      ],
      "metadata": {
        "id": "3HV0efE9gCw_"
      }
    },
    {
      "cell_type": "markdown",
      "source": [
        "## Постановка задачи\n",
        "Из заданной генеральной совокупности сформировать выборку по второму признаку. Для системы двух случайных величин 𝑋 (первый признак) и 𝑌 (второй признак) сформировать двумерную выборку и найти\n",
        "статистическую оценку коэффициента корреляции, построить доверительный интервал для коэффициента корреляции и осуществить проверку статистической гипотезы о равенстве коэффициента корреляции\n",
        "нулю. Построить уравнения выборочных прямых среднеквадратической\n",
        "регрессии. Полученные линейные функции регрессии отобразить графически. Найти выборочное корреляционное отношение. Оценить адекватность моделей. Полученные результаты содержательно проинтерпретировать.\n"
      ],
      "metadata": {
        "id": "pacPVg4igCxB"
      }
    },
    {
      "cell_type": "markdown",
      "source": [
        "## Выполнение работы"
      ],
      "metadata": {
        "id": "bi2XcD7cgCxC"
      }
    },
    {
      "cell_type": "markdown",
      "source": [
        "### Используемые бибилиотеки:"
      ],
      "metadata": {
        "id": "bzL6ACGugCxC"
      }
    },
    {
      "cell_type": "code",
      "source": [
        "import pandas as pd\n",
        "import numpy as np\n",
        "import matplotlib.pyplot as plt\n",
        "import math\n",
        "import matplotlib.pyplot as plt\n",
        "from prettytable import PrettyTable"
      ],
      "metadata": {
        "execution": {
          "iopub.status.busy": "2022-12-01T20:51:07.209552Z",
          "iopub.execute_input": "2022-12-01T20:51:07.210012Z",
          "iopub.status.idle": "2022-12-01T20:51:07.216589Z",
          "shell.execute_reply.started": "2022-12-01T20:51:07.209972Z",
          "shell.execute_reply": "2022-12-01T20:51:07.215240Z"
        },
        "id": "TdR7cuNcgCxD",
        "trusted": true
      },
      "execution_count": null,
      "outputs": []
    },
    {
      "cell_type": "markdown",
      "source": [
        "### Выборка"
      ],
      "metadata": {
        "id": "KTJnBWCygCxE"
      }
    },
    {
      "cell_type": "code",
      "source": [
        "samplex = [63.05, 60.99, 56.54, 57.9, 53.57, 57.45, 57.53, 58.77, 56.34, 59.73, 60.95, 61.03, 64.02,\n",
        "           64.72, 62.71, 64.67, 64.81, 67.99, 67.60, 68.7, 68.88, 70.83, 69.27, 68.72, 69.6, 70.77,\n",
        "           72.05, 72.04, 71.9, 72.33, 72.25, 73.4, 72.72, 71.24, 73, 72.4, 73.8, 72.14, 69.78,\n",
        "           72.15, 75.33, 75.29, 77.19, 76.15, 75.93, 78.51, 78.5, 75.88, 76.32, 76.89, 74.52, 74.12,\n",
        "           75.84, 75.5, 76.86, 76.28, 78.68, 79.89, 80.58, 82.75, 82.4, 86.66, 82.26, 78.45, 78.76,\n",
        "           77.98, 75.41, 72.42, 73.83, 74.952, 74.41, 73.45, 75.83, 79.5, 78.76, 79.41, 80.94, 82.12,\n",
        "           80.34, 79.69, 83.04, 88.57, 88.62, 88.15, 88.41, 89.95, 88.67, 88.7, 88.58, 90.2, 91.24, \n",
        "           92.36, 91.62, 91.71, 89.22, 88.57, 88.59, 87.04]\n",
        "sampley = [59.804, 55.857, 52.8, 53.005, 50.677, 54.3, 55.295, 56.907, 54.82, 56.547, 59.408, 59.38,\n",
        "           62.02, 63.562, 60.486, 63.284, 63.45, 66.267, 65.55, 66.873, 67.764, 68.858, 66.42, 66.95, \n",
        "           68.674, 69.673, 70.606, 69.8, 70.9, 71.489, 70.3, 72.161, 70.1, 69.396, 71.569, 71.068, 72.262,\n",
        "           71, 67.351, 70.491, 73.643, 74.282, 74.827, 74.175, 74.315, 75.18, 77.305, 74.42, 74.883, 74.611,\n",
        "           73.283, 73.173, 74.082, 73.9, 75.4, 75.398, 77.198, 78.4, 79.104, 81.287, 81.516, 83.316, 77.381,\n",
        "           76.803, 74.868, 76.592, 73.5, 70.327, 72.94, 73.961, 73.214, 71.8, 74.473, 78.16, 77.25, 76.4,\n",
        "           78.581, 81.026, 79.139, 76.112, 80.801, 85.301, 87.018, 85.865, 87.28, 88.385, 87.307, 87.093, 86.384,\n",
        "           88.622, 88.468, 91.133, 90.289, 88.391, 88, 87.497, 86.933, 84.95]"
      ],
      "metadata": {
        "execution": {
          "iopub.status.busy": "2022-12-01T20:51:07.248070Z",
          "iopub.execute_input": "2022-12-01T20:51:07.248519Z",
          "iopub.status.idle": "2022-12-01T20:51:07.261861Z",
          "shell.execute_reply.started": "2022-12-01T20:51:07.248479Z",
          "shell.execute_reply": "2022-12-01T20:51:07.260431Z"
        },
        "id": "gDnqVgszgCxF",
        "trusted": true
      },
      "execution_count": null,
      "outputs": []
    },
    {
      "cell_type": "markdown",
      "source": [
        "### Сортировка выборок"
      ],
      "metadata": {
        "id": "0ZhIqsnqgCxF"
      }
    },
    {
      "cell_type": "code",
      "source": [
        "samplex2 = [0] * 98\n",
        "sampley2 = [0] * 98\n",
        "for i in range(98):\n",
        "    samplex2[i] = samplex[i]\n",
        "for i in range(98):\n",
        "    sampley2[i] = sampley[i]"
      ],
      "metadata": {
        "execution": {
          "iopub.status.busy": "2022-12-01T20:51:07.272605Z",
          "iopub.execute_input": "2022-12-01T20:51:07.275047Z",
          "iopub.status.idle": "2022-12-01T20:51:07.282039Z",
          "shell.execute_reply.started": "2022-12-01T20:51:07.274995Z",
          "shell.execute_reply": "2022-12-01T20:51:07.281105Z"
        },
        "id": "BoF86ae2gCxG",
        "trusted": true
      },
      "execution_count": null,
      "outputs": []
    },
    {
      "cell_type": "code",
      "source": [
        "print(\"Ранжированный ряд для первой выборки:\")\n",
        "samplex = np.sort(samplex)\n",
        "print(samplex)"
      ],
      "metadata": {
        "execution": {
          "iopub.status.busy": "2022-12-01T20:51:07.300145Z",
          "iopub.execute_input": "2022-12-01T20:51:07.300977Z",
          "iopub.status.idle": "2022-12-01T20:51:07.310072Z",
          "shell.execute_reply.started": "2022-12-01T20:51:07.300931Z",
          "shell.execute_reply": "2022-12-01T20:51:07.308798Z"
        },
        "id": "el_FK0a-gCxG",
        "outputId": "48e74ee7-f699-4b74-ee85-e1ea55c9ce0f",
        "trusted": true
      },
      "execution_count": null,
      "outputs": [
        {
          "name": "stdout",
          "text": "Ранжированный ряд для первой выборки:\n[53.57  56.34  56.54  57.45  57.53  57.9   58.77  59.73  60.95  60.99\n 61.03  62.71  63.05  64.02  64.67  64.72  64.81  67.6   67.99  68.7\n 68.72  68.88  69.27  69.6   69.78  70.77  70.83  71.24  71.9   72.04\n 72.05  72.14  72.15  72.25  72.33  72.4   72.42  72.72  73.    73.4\n 73.45  73.8   73.83  74.12  74.41  74.52  74.952 75.29  75.33  75.41\n 75.5   75.83  75.84  75.88  75.93  76.15  76.28  76.32  76.86  76.89\n 77.19  77.98  78.45  78.5   78.51  78.68  78.76  78.76  79.41  79.5\n 79.69  79.89  80.34  80.58  80.94  82.12  82.26  82.4   82.75  83.04\n 86.66  87.04  88.15  88.41  88.57  88.57  88.58  88.59  88.62  88.67\n 88.7   89.22  89.95  90.2   91.24  91.62  91.71  92.36 ]\n",
          "output_type": "stream"
        }
      ]
    },
    {
      "cell_type": "code",
      "source": [
        "print(\"Вариационный ряд для первой выборки:\")\n",
        "first, second=np.unique(samplex, return_counts=True)\n",
        "var=np.column_stack((first, second)) \n",
        "print(var)"
      ],
      "metadata": {
        "execution": {
          "iopub.status.busy": "2022-12-01T20:51:07.341790Z",
          "iopub.execute_input": "2022-12-01T20:51:07.342593Z",
          "iopub.status.idle": "2022-12-01T20:51:07.352874Z",
          "shell.execute_reply.started": "2022-12-01T20:51:07.342545Z",
          "shell.execute_reply": "2022-12-01T20:51:07.351403Z"
        },
        "id": "khQbf4cCgCxH",
        "outputId": "3fcf2103-943c-4a9a-fd64-a6cd15ed33b4",
        "trusted": true
      },
      "execution_count": null,
      "outputs": [
        {
          "name": "stdout",
          "text": "Вариационный ряд для первой выборки:\n[[53.57   1.   ]\n [56.34   1.   ]\n [56.54   1.   ]\n [57.45   1.   ]\n [57.53   1.   ]\n [57.9    1.   ]\n [58.77   1.   ]\n [59.73   1.   ]\n [60.95   1.   ]\n [60.99   1.   ]\n [61.03   1.   ]\n [62.71   1.   ]\n [63.05   1.   ]\n [64.02   1.   ]\n [64.67   1.   ]\n [64.72   1.   ]\n [64.81   1.   ]\n [67.6    1.   ]\n [67.99   1.   ]\n [68.7    1.   ]\n [68.72   1.   ]\n [68.88   1.   ]\n [69.27   1.   ]\n [69.6    1.   ]\n [69.78   1.   ]\n [70.77   1.   ]\n [70.83   1.   ]\n [71.24   1.   ]\n [71.9    1.   ]\n [72.04   1.   ]\n [72.05   1.   ]\n [72.14   1.   ]\n [72.15   1.   ]\n [72.25   1.   ]\n [72.33   1.   ]\n [72.4    1.   ]\n [72.42   1.   ]\n [72.72   1.   ]\n [73.     1.   ]\n [73.4    1.   ]\n [73.45   1.   ]\n [73.8    1.   ]\n [73.83   1.   ]\n [74.12   1.   ]\n [74.41   1.   ]\n [74.52   1.   ]\n [74.952  1.   ]\n [75.29   1.   ]\n [75.33   1.   ]\n [75.41   1.   ]\n [75.5    1.   ]\n [75.83   1.   ]\n [75.84   1.   ]\n [75.88   1.   ]\n [75.93   1.   ]\n [76.15   1.   ]\n [76.28   1.   ]\n [76.32   1.   ]\n [76.86   1.   ]\n [76.89   1.   ]\n [77.19   1.   ]\n [77.98   1.   ]\n [78.45   1.   ]\n [78.5    1.   ]\n [78.51   1.   ]\n [78.68   1.   ]\n [78.76   2.   ]\n [79.41   1.   ]\n [79.5    1.   ]\n [79.69   1.   ]\n [79.89   1.   ]\n [80.34   1.   ]\n [80.58   1.   ]\n [80.94   1.   ]\n [82.12   1.   ]\n [82.26   1.   ]\n [82.4    1.   ]\n [82.75   1.   ]\n [83.04   1.   ]\n [86.66   1.   ]\n [87.04   1.   ]\n [88.15   1.   ]\n [88.41   1.   ]\n [88.57   2.   ]\n [88.58   1.   ]\n [88.59   1.   ]\n [88.62   1.   ]\n [88.67   1.   ]\n [88.7    1.   ]\n [89.22   1.   ]\n [89.95   1.   ]\n [90.2    1.   ]\n [91.24   1.   ]\n [91.62   1.   ]\n [91.71   1.   ]\n [92.36   1.   ]]\n",
          "output_type": "stream"
        }
      ]
    },
    {
      "cell_type": "code",
      "source": [
        "a1=samplex[len(samplex)-1]-samplex[0]\n",
        "b1=math.ceil(1+math.log2(len(samplex)))\n",
        "c1=a1/b1\n",
        "d1=[0]*b1\n",
        "e1=[0]*b1\n",
        "d1[0]=samplex[0]\n",
        "e1[0]=samplex[0]+c1\n",
        "print(\"Интервальный ряд первой выборки:\")\n",
        "print(\"[\",samplex[0],\",\",samplex[0]+c1,\"]\")\n",
        "for i in range(1,b1):\n",
        "    d1[i]= samplex[0]+c1*i\n",
        "    e1[i]= samplex[0]+c1*(i+1)\n",
        "    print(\"[\",round(d1[i], 4),\",\",round(e1[i], 4),\"]\")"
      ],
      "metadata": {
        "execution": {
          "iopub.status.busy": "2022-12-01T20:51:07.378816Z",
          "iopub.execute_input": "2022-12-01T20:51:07.379667Z",
          "iopub.status.idle": "2022-12-01T20:51:07.390656Z",
          "shell.execute_reply.started": "2022-12-01T20:51:07.379617Z",
          "shell.execute_reply": "2022-12-01T20:51:07.389404Z"
        },
        "id": "PxbxqJvIgCxH",
        "outputId": "3e164b5d-a32b-4ca4-d1fb-f99fd8a51b97",
        "trusted": true
      },
      "execution_count": null,
      "outputs": [
        {
          "name": "stdout",
          "text": "Интервальный ряд первой выборки:\n[ 53.57 , 58.41875 ]\n[ 58.4188 , 63.2675 ]\n[ 63.2675 , 68.1163 ]\n[ 68.1163 , 72.965 ]\n[ 72.965 , 77.8138 ]\n[ 77.8138 , 82.6625 ]\n[ 82.6625 , 87.5112 ]\n[ 87.5112 , 92.36 ]\n",
          "output_type": "stream"
        }
      ]
    },
    {
      "cell_type": "code",
      "source": [
        "print(\"Ранжированный ряд для второй выборки:\")\n",
        "Me = np.sort(sampley)\n",
        "sampley = np.sort(sampley)\n",
        "print(sampley)"
      ],
      "metadata": {
        "execution": {
          "iopub.status.busy": "2022-12-01T20:51:07.509631Z",
          "iopub.execute_input": "2022-12-01T20:51:07.510504Z",
          "iopub.status.idle": "2022-12-01T20:51:07.520805Z",
          "shell.execute_reply.started": "2022-12-01T20:51:07.510452Z",
          "shell.execute_reply": "2022-12-01T20:51:07.519473Z"
        },
        "id": "X4XWkBo2gCxH",
        "outputId": "8adc2bb3-599d-41fe-a5cf-d7787e1f1cbd",
        "trusted": true
      },
      "execution_count": null,
      "outputs": [
        {
          "name": "stdout",
          "text": "Ранжированный ряд для второй выборки:\n[50.677 52.8   53.005 54.3   54.82  55.295 55.857 56.547 56.907 59.38\n 59.408 59.804 60.486 62.02  63.284 63.45  63.562 65.55  66.267 66.42\n 66.873 66.95  67.351 67.764 68.674 68.858 69.396 69.673 69.8   70.1\n 70.3   70.327 70.491 70.606 70.9   71.    71.068 71.489 71.569 71.8\n 72.161 72.262 72.94  73.173 73.214 73.283 73.5   73.643 73.9   73.961\n 74.082 74.175 74.282 74.315 74.42  74.473 74.611 74.827 74.868 74.883\n 75.18  75.398 75.4   76.112 76.4   76.592 76.803 77.198 77.25  77.305\n 77.381 78.16  78.4   78.581 79.104 79.139 80.801 81.026 81.287 81.516\n 83.316 84.95  85.301 85.865 86.384 86.933 87.018 87.093 87.28  87.307\n 87.497 88.    88.385 88.391 88.468 88.622 90.289 91.133]\n",
          "output_type": "stream"
        }
      ]
    },
    {
      "cell_type": "code",
      "source": [
        "print(\"Вариационный ряд для второй выборки:\")\n",
        "first1, second1=np.unique(sampley, return_counts=True)\n",
        "var=np.column_stack((first1, second1)) \n",
        "print(var)"
      ],
      "metadata": {
        "execution": {
          "iopub.status.busy": "2022-12-01T20:51:07.553564Z",
          "iopub.execute_input": "2022-12-01T20:51:07.554392Z",
          "iopub.status.idle": "2022-12-01T20:51:07.565039Z",
          "shell.execute_reply.started": "2022-12-01T20:51:07.554339Z",
          "shell.execute_reply": "2022-12-01T20:51:07.563413Z"
        },
        "id": "YVwMvTqtgCxI",
        "outputId": "bdcf81f9-255c-41ec-cfeb-452bec4e78a9",
        "trusted": true
      },
      "execution_count": null,
      "outputs": [
        {
          "name": "stdout",
          "text": "Вариационный ряд для второй выборки:\n[[50.677  1.   ]\n [52.8    1.   ]\n [53.005  1.   ]\n [54.3    1.   ]\n [54.82   1.   ]\n [55.295  1.   ]\n [55.857  1.   ]\n [56.547  1.   ]\n [56.907  1.   ]\n [59.38   1.   ]\n [59.408  1.   ]\n [59.804  1.   ]\n [60.486  1.   ]\n [62.02   1.   ]\n [63.284  1.   ]\n [63.45   1.   ]\n [63.562  1.   ]\n [65.55   1.   ]\n [66.267  1.   ]\n [66.42   1.   ]\n [66.873  1.   ]\n [66.95   1.   ]\n [67.351  1.   ]\n [67.764  1.   ]\n [68.674  1.   ]\n [68.858  1.   ]\n [69.396  1.   ]\n [69.673  1.   ]\n [69.8    1.   ]\n [70.1    1.   ]\n [70.3    1.   ]\n [70.327  1.   ]\n [70.491  1.   ]\n [70.606  1.   ]\n [70.9    1.   ]\n [71.     1.   ]\n [71.068  1.   ]\n [71.489  1.   ]\n [71.569  1.   ]\n [71.8    1.   ]\n [72.161  1.   ]\n [72.262  1.   ]\n [72.94   1.   ]\n [73.173  1.   ]\n [73.214  1.   ]\n [73.283  1.   ]\n [73.5    1.   ]\n [73.643  1.   ]\n [73.9    1.   ]\n [73.961  1.   ]\n [74.082  1.   ]\n [74.175  1.   ]\n [74.282  1.   ]\n [74.315  1.   ]\n [74.42   1.   ]\n [74.473  1.   ]\n [74.611  1.   ]\n [74.827  1.   ]\n [74.868  1.   ]\n [74.883  1.   ]\n [75.18   1.   ]\n [75.398  1.   ]\n [75.4    1.   ]\n [76.112  1.   ]\n [76.4    1.   ]\n [76.592  1.   ]\n [76.803  1.   ]\n [77.198  1.   ]\n [77.25   1.   ]\n [77.305  1.   ]\n [77.381  1.   ]\n [78.16   1.   ]\n [78.4    1.   ]\n [78.581  1.   ]\n [79.104  1.   ]\n [79.139  1.   ]\n [80.801  1.   ]\n [81.026  1.   ]\n [81.287  1.   ]\n [81.516  1.   ]\n [83.316  1.   ]\n [84.95   1.   ]\n [85.301  1.   ]\n [85.865  1.   ]\n [86.384  1.   ]\n [86.933  1.   ]\n [87.018  1.   ]\n [87.093  1.   ]\n [87.28   1.   ]\n [87.307  1.   ]\n [87.497  1.   ]\n [88.     1.   ]\n [88.385  1.   ]\n [88.391  1.   ]\n [88.468  1.   ]\n [88.622  1.   ]\n [90.289  1.   ]\n [91.133  1.   ]]\n",
          "output_type": "stream"
        }
      ]
    },
    {
      "cell_type": "code",
      "source": [
        "sampley = np.sort(sampley)\n",
        "a=sampley[len(sampley)-1]-sampley[0]\n",
        "b=math.ceil(1+math.log2(len(sampley)))\n",
        "c=a/b\n",
        "d=[0]*b\n",
        "e=[0]*b\n",
        "d[0]=sampley[0]\n",
        "e[0]=sampley[0]+c\n",
        "print(\"Интервальный ряд для второй выборки:\")\n",
        "print(\"[\",sampley[0],\",\",sampley[0]+c,\")\")\n",
        "for i in range(1,b):\n",
        "    d[i]= sampley[0]+c*i\n",
        "    e[i]= sampley[0]+c*(i+1)\n",
        "    print(\"[\",round(d[i], 4),\",\",round(e[i], 4),\"]\")\n",
        "midx=[0]*b\n",
        "for i in range(len(d)):\n",
        "    midx[i]=(d[i]+e[i])/2"
      ],
      "metadata": {
        "execution": {
          "iopub.status.busy": "2022-12-01T20:51:07.595003Z",
          "iopub.execute_input": "2022-12-01T20:51:07.595448Z",
          "iopub.status.idle": "2022-12-01T20:51:07.608206Z",
          "shell.execute_reply.started": "2022-12-01T20:51:07.595409Z",
          "shell.execute_reply": "2022-12-01T20:51:07.606478Z"
        },
        "id": "iCHZYz8WgCxI",
        "outputId": "16386251-2386-4826-c3ac-fb20779c6219",
        "trusted": true
      },
      "execution_count": null,
      "outputs": [
        {
          "name": "stdout",
          "text": "Интервальный ряд для второй выборки:\n[ 50.677 , 55.734 )\n[ 55.734 , 60.791 ]\n[ 60.791 , 65.848 ]\n[ 65.848 , 70.905 ]\n[ 70.905 , 75.962 ]\n[ 75.962 , 81.019 ]\n[ 81.019 , 86.076 ]\n[ 86.076 , 91.133 ]\n",
          "output_type": "stream"
        }
      ]
    },
    {
      "cell_type": "markdown",
      "source": [
        "## 1"
      ],
      "metadata": {
        "id": "FPRVIO7SgCxJ"
      }
    },
    {
      "cell_type": "code",
      "source": [
        "novitr=[0]*b\n",
        "novitr2=[0]*b\n",
        "novitr3 = 98\n",
        "midy=[0]*b\n",
        "novitr[0]=1\n",
        "for i in range(len(d)):\n",
        "    midy[i]=(d[i]+e[i])/2\n",
        "    for j in range(len(sampley)):\n",
        "        if (d[i]<sampley[j]<=e[i]):\n",
        "            novitr[i]+=1\n",
        "for i in range(len(d)):\n",
        "    novitr2[i]=novitr[i]/len(sampley)\n",
        "psum=[0]*b\n",
        "nsum=[0]*b\n",
        "table = PrettyTable([\"№\",\"[y(i-1);yi]\",\"cpеднее\",\"ni\",\"p*i\",\"сумма ni\",\"сумма pi\"])\n",
        "nsum[0]=novitr[0]\n",
        "psum[0]=novitr2[0]\n",
        "for i in range(1,len(d)):\n",
        "    psum[i]=psum[i-1]+novitr2[i]\n",
        "    nsum[i]=nsum[i-1]+novitr[i]\n",
        "table.add_row([1,[round(d[0],5),round(e[0],5)],round(midy[0],5),novitr[0],round(novitr2[0],5),nsum[0],round(psum[0],5)])\n",
        "for i in range(1,len(d)):\n",
        "    table.add_row([i+1,[round(d[i],5),round(e[i],5)],round(midy[i],5),novitr[i],round(novitr2[i],5),nsum[i],round(psum[i],5)])\n",
        "table.add_row([\" \",\" \",\"Cумма\",novitr3,round(sum(novitr2)),\" \",\" \"])\n",
        "print(table)"
      ],
      "metadata": {
        "execution": {
          "iopub.status.busy": "2022-12-01T20:51:07.643256Z",
          "iopub.execute_input": "2022-12-01T20:51:07.644675Z",
          "iopub.status.idle": "2022-12-01T20:51:07.663316Z",
          "shell.execute_reply.started": "2022-12-01T20:51:07.644622Z",
          "shell.execute_reply": "2022-12-01T20:51:07.662024Z"
        },
        "id": "KxontUnEgCxJ",
        "outputId": "12b18223-e567-421f-e41b-076fccb71260",
        "trusted": true
      },
      "execution_count": null,
      "outputs": [
        {
          "name": "stdout",
          "text": "+---+------------------+---------+----+---------+----------+----------+\n| № |   [y(i-1);yi]    | cpеднее | ni |   p*i   | сумма ni | сумма pi |\n+---+------------------+---------+----+---------+----------+----------+\n| 1 | [50.677, 55.734] | 53.2055 | 6  | 0.06122 |    6     | 0.06122  |\n| 2 | [55.734, 60.791] | 58.2625 | 7  | 0.07143 |    13    | 0.13265  |\n| 3 | [60.791, 65.848] | 63.3195 | 5  | 0.05102 |    18    | 0.18367  |\n| 4 | [65.848, 70.905] | 68.3765 | 17 | 0.17347 |    35    | 0.35714  |\n| 5 | [70.905, 75.962] | 73.4335 | 28 | 0.28571 |    63    | 0.64286  |\n| 6 | [75.962, 81.019] | 78.4905 | 14 | 0.14286 |    77    | 0.78571  |\n| 7 | [81.019, 86.076] | 83.5475 | 7  | 0.07143 |    84    | 0.85714  |\n| 8 | [86.076, 91.133] | 88.6045 | 14 | 0.14286 |    98    |   1.0    |\n|   |                  |  Cумма  | 98 |    1    |          |          |\n+---+------------------+---------+----+---------+----------+----------+\n",
          "output_type": "stream"
        }
      ]
    },
    {
      "cell_type": "code",
      "source": [
        "table2 = PrettyTable([\"Характеристика:\",\"выб. среднее\",\"дисперсия\",\"ср. кв. откл.\",\"S^2(y)\",\"S(y)\",\"a*(s)\", \"E*(k)\", \"Mода\", \"Mедиана\", \"V*, %\"])\n",
        "MOy = (sum(sampley)/novitr3)\n",
        "Dy = 0\n",
        "As = 0\n",
        "E = 0\n",
        "for i in range(98):\n",
        "    Dy = Dy + (sampley[i] - MOy)**2\n",
        "Dy = Dy/novitr3\n",
        "S = Dy*novitr3/(novitr3-1)\n",
        "M3 = 0\n",
        "for i in range(novitr3):\n",
        "    M3 = M3 + (sampley[i]-73.43)**3\n",
        "M3 /= novitr3\n",
        "As = M3/(math.sqrt(Dy))**3\n",
        "M4 = 0\n",
        "for i in range(novitr3):\n",
        "    M4 = M4 + (sampley[i]-73.43)**4\n",
        "M4 /= novitr3\n",
        "E = M4/(math.sqrt(Dy))**4 - 3\n",
        "Me = (Me[48] + Me[49])/2\n",
        "V = (math.sqrt(Dy)/abs(MOy)) * 100\n",
        "table2.add_row([\"Значение:\",round(MOy, 5), round(Dy, 5), round(math.sqrt(Dy), 5), round(S,5), round(math.sqrt(S), 5), round(As, 5), round(E, 5), \"Моды нет\", Me, round(V)])\n",
        "print(table2)"
      ],
      "metadata": {
        "execution": {
          "iopub.status.busy": "2022-12-01T20:51:07.683179Z",
          "iopub.execute_input": "2022-12-01T20:51:07.683941Z",
          "iopub.status.idle": "2022-12-01T20:51:07.699779Z",
          "shell.execute_reply.started": "2022-12-01T20:51:07.683899Z",
          "shell.execute_reply": "2022-12-01T20:51:07.698417Z"
        },
        "id": "P7HTBpwUgCxJ",
        "outputId": "86cfa56a-f9cc-4ad4-9df0-8caaa8eeb792",
        "trusted": true
      },
      "execution_count": null,
      "outputs": [
        {
          "name": "stdout",
          "text": "+-----------------+--------------+-----------+---------------+----------+---------+----------+----------+----------+---------+-------+\n| Характеристика: | выб. среднее | дисперсия | ср. кв. откл. |  S^2(y)  |   S(y)  |  a*(s)   |  E*(k)   |   Mода   | Mедиана | V*, % |\n+-----------------+--------------+-----------+---------------+----------+---------+----------+----------+----------+---------+-------+\n|    Значение:    |   73.29659   |  91.50879 |    9.56602    | 92.45218 | 9.61521 | -0.31238 | -0.31544 | Моды нет | 73.9305 |   13  |\n+-----------------+--------------+-----------+---------------+----------+---------+----------+----------+----------+---------+-------+\n",
          "output_type": "stream"
        }
      ]
    },
    {
      "cell_type": "markdown",
      "source": [
        "Вывод:\n",
        "\n",
        "Разница исправленной выборочной дисперсии и исправленного ско со смещёнными оценками дисперсии и ско незначительно мала(разница в сотые).\n",
        "\n",
        "Коэффициент асимметрии меньше нуля, следовательно, левый хвост распределения длиннее правого.\n",
        "\n",
        "Коэффициент эксцесса меньше нуля, следовательно, распределение не остроконечное.\n",
        "\n",
        "Медиана находится в середине упорядоченной совокупности, мода отсутсвует, все элементы в выборке предоставлены в единичном экземпляре. \n",
        "\n",
        "Благодаря коэффициенту вариации можно судить о том, что совокупность достаточно однородная."
      ],
      "metadata": {
        "id": "nZIO4BTNgCxK"
      }
    },
    {
      "cell_type": "markdown",
      "source": [
        "## 2"
      ],
      "metadata": {
        "id": "G_Gns0FNgCxK"
      }
    },
    {
      "cell_type": "code",
      "source": [
        "o = [0] * 64\n",
        "nx = [0] * 8\n",
        "ny = [0] * 8\n",
        "khelp = 0\n",
        "for i in range(98):\n",
        "    if samplex[i] < 55.734:\n",
        "        o[0] += 1\n",
        "    if samplex[i] > 55.7341 and samplex[i] < 60.791 and samplex[i] <= 58.41875:\n",
        "        o[1] += 1\n",
        "    if samplex[i] > 60.791 and samplex[i] < 65.848 and samplex[i] <= 58.41875:\n",
        "        o[2] += 1\n",
        "    if samplex[i] > 65.848 and samplex[i] < 70.905 and samplex[i] <= 58.41875:\n",
        "        o[3] += 1\n",
        "    if samplex[i] > 70.905 and samplex[i] < 75.962 and samplex[i] <= 58.41875:\n",
        "        o[4] += 1\n",
        "    if samplex[i] > 75.962 and samplex[i] < 81.019 and samplex[i] <= 58.41875:\n",
        "        o[5] += 1\n",
        "    if samplex[i] > 81.019 and samplex[i] < 86.076 and samplex[i] <= 58.41875:\n",
        "        o[6] += 1\n",
        "    if samplex[i] > 86.076 and samplex[i] <= 58.41875:\n",
        "        o[7] += 1\n",
        "for i in range(98):\n",
        "    if samplex[i] < 55.734 and samplex[i] > 58.41875 and samplex[i] <= 63.2675:\n",
        "        o[8] += 1\n",
        "    if samplex[i] > 55.7341 and samplex[i] < 60.791 and samplex[i] > 58.41875 and samplex[i] <= 63.2675:\n",
        "        o[9] += 1\n",
        "    if samplex[i] > 60.791 and samplex[i] < 65.848 and samplex[i] > 58.41875 and samplex[i] <= 63.2675:\n",
        "        o[10] += 1\n",
        "    if samplex[i] > 65.848 and samplex[i] < 70.905 and samplex[i] > 58.41875 and samplex[i] <= 63.2675:\n",
        "        o[11] += 1\n",
        "    if samplex[i] > 70.905 and samplex[i] < 75.962 and samplex[i] > 58.41875 and samplex[i] <= 63.2675:\n",
        "        o[12] += 1\n",
        "    if samplex[i] > 75.962 and samplex[i] < 81.019 and samplex[i] > 58.41875 and samplex[i] <= 63.2675:\n",
        "        o[13] += 1\n",
        "    if samplex[i] > 81.019 and samplex[i] < 86.076 and samplex[i] > 58.41875 and samplex[i] <= 63.2675:\n",
        "        o[14] += 1\n",
        "    if samplex[i] > 86.076 and samplex[i] >= 58.41875 and samplex[i] <= 63.2675:\n",
        "        o[15] += 1\n",
        "for i in range(98):\n",
        "    if samplex[i] < 55.734 and samplex[i] > 58.41875 and samplex[i] <= 63.2675:\n",
        "        o[16] += 1\n",
        "    if samplex[i] > 55.7341 and samplex[i] < 60.791 and samplex[i] >= 63.2675 and samplex[i] < 68.11625:\n",
        "        o[17] += 1\n",
        "    if samplex[i] > 60.791 and samplex[i] < 65.848 and samplex[i] < 68.11625 and samplex[i] >= 63.2675:\n",
        "        o[18] += 1\n",
        "    if samplex[i] > 65.848 and samplex[i] < 70.905 and samplex[i] < 68.11625 and samplex[i] >= 63.2675:\n",
        "        o[19] += 1\n",
        "    if samplex[i] > 70.905 and samplex[i] < 75.962 and samplex[i] < 68.11625 and samplex[i] >= 63.2675:\n",
        "        o[20] += 1\n",
        "    if samplex[i] > 75.962 and samplex[i] < 81.019 and samplex[i] < 68.11625 and samplex[i] >= 63.2675:\n",
        "        o[21] += 1\n",
        "    if samplex[i] > 81.019 and samplex[i] < 86.076 and samplex[i] < 68.11625 and samplex[i] >= 63.2675:\n",
        "        o[22] += 1\n",
        "    if samplex[i] > 86.076 and samplex[i] >= 63.2675 and samplex[i] < 68.11625:\n",
        "        o[23] += 1\n",
        "for i in range(98):\n",
        "    if samplex[i] < 55.734 and samplex[i] > 58.41875 and samplex[i] <= 68.11625:\n",
        "        o[24] += 1\n",
        "    if samplex[i] > 55.7341 and samplex[i] < 60.791 and samplex[i] > 68.11625 and samplex[i] <= 72.965:\n",
        "        o[25] += 1\n",
        "    if samplex[i] > 60.791 and samplex[i] < 65.848 and samplex[i] > 68.11625 and samplex[i] <= 72.965:\n",
        "        o[26] += 1\n",
        "    if samplex[i] > 65.848 and samplex[i] < 70.905 and samplex[i] > 68.11625 and samplex[i] <= 72.965:\n",
        "        o[27] += 1\n",
        "    if samplex[i] > 70.905 and samplex[i] < 75.962 and samplex[i] > 68.11625 and samplex[i] <= 72.965:\n",
        "        o[28] += 1\n",
        "    if samplex[i] > 75.962 and samplex[i] < 81.019 and samplex[i] > 68.11625 and samplex[i] <= 72.965:\n",
        "        o[29] += 1\n",
        "    if samplex[i] > 81.019 and samplex[i] < 86.076 and samplex[i] > 68.11625 and samplex[i] <= 72.965:\n",
        "        o[30] += 1\n",
        "    if samplex[i] > 86.076 and samplex[i] > 58.41875 and samplex[i] <= 72.965:\n",
        "        o[31] += 1\n",
        "for i in range(98):\n",
        "    if samplex[i] < 55.734 and samplex[i] > 58.41875 and samplex[i] < 72.965:\n",
        "        o[32] += 1\n",
        "    if samplex[i] > 55.7341 and samplex[i] < 60.791 and samplex[i] > 72.965 and samplex[i] <= 77.81375:\n",
        "        o[33] += 1\n",
        "    if samplex[i] > 60.791 and samplex[i] < 65.848 and samplex[i] > 72.965 and samplex[i] <= 77.81375:\n",
        "        o[34] += 1\n",
        "    if samplex[i] > 65.848 and samplex[i] < 70.905 and samplex[i] > 72.965 and samplex[i] <= 77.81375:\n",
        "        o[35] += 1\n",
        "    if samplex[i] > 70.905 and samplex[i] < 75.962 and samplex[i] > 72.965 and samplex[i] <= 77.81375:\n",
        "        o[36] += 1\n",
        "    if samplex[i] > 75.962 and samplex[i] < 81.019 and samplex[i] > 72.965 and samplex[i] <= 77.81375:\n",
        "        o[37] += 1\n",
        "    if samplex[i] > 81.019 and samplex[i] < 86.076 and samplex[i] > 72.965 and samplex[i] <= 77.81375:\n",
        "        o[38] += 1\n",
        "    if samplex[i] > 86.076 and samplex[i] > 72.965 and samplex[i] <= 77.81375:\n",
        "        o[39] += 1\n",
        "for i in range(98):\n",
        "    if samplex[i] < 55.734 and samplex[i] > 58.41875 and samplex[i] < 77.81375:\n",
        "        o[40] += 1\n",
        "    if samplex[i] > 55.7341 and samplex[i] < 60.791 and samplex[i] > 77.81375 and samplex[i] <= 82.6625:\n",
        "        o[41] += 1\n",
        "    if samplex[i] > 60.791 and samplex[i] < 65.848 and samplex[i] > 77.81375 and samplex[i] <= 82.6625:\n",
        "        o[42] += 1\n",
        "    if samplex[i] > 65.848 and samplex[i] < 70.905 and samplex[i] > 77.81375 and samplex[i] <= 82.6625:\n",
        "        o[43] += 1\n",
        "    if samplex[i] > 70.905 and samplex[i] < 75.962 and samplex[i] > 77.81375 and samplex[i] <= 82.6625:\n",
        "        o[44] += 1\n",
        "    if samplex[i] > 75.962 and samplex[i] < 81.019 and samplex[i] > 77.81375 and samplex[i] <= 82.6625:\n",
        "        o[45] += 1\n",
        "    if samplex[i] > 81.019 and samplex[i] < 86.076 and samplex[i] > 77.81375 and samplex[i] <= 82.6625:\n",
        "        o[46] += 1\n",
        "    if samplex[i] > 86.076 and samplex[i] > 77.81375 and samplex[i] <= 82.6625:\n",
        "        o[47] += 1\n",
        "for i in range(98):\n",
        "    if samplex[i] < 55.734 and samplex[i] > 58.41875 and samplex[i] < 82.6625:\n",
        "        o[48] += 1\n",
        "    if samplex[i] > 55.7341 and samplex[i] < 60.791 and samplex[i] > 82.6625 and samplex[i] <= 87.51125:\n",
        "        o[49] += 1\n",
        "    if samplex[i] > 60.791 and samplex[i] < 65.848 and samplex[i] > 82.6625 and samplex[i] <= 87.51125:\n",
        "        o[50] += 1\n",
        "    if samplex[i] > 65.848 and samplex[i] < 70.905 and samplex[i] > 82.6625 and samplex[i] <= 87.51125:\n",
        "        o[51] += 1\n",
        "    if samplex[i] > 70.905 and samplex[i] < 75.962 and samplex[i] > 82.6625 and samplex[i] <= 87.51125:\n",
        "        o[52] += 1\n",
        "    if samplex[i] > 75.962 and samplex[i] < 81.019 and samplex[i] > 82.6625 and samplex[i] <= 87.51125:\n",
        "        o[53] += 1\n",
        "    if samplex[i] > 81.019 and samplex[i] < 86.076 and samplex[i] > 82.6625 and samplex[i] <= 87.51125:\n",
        "        o[54] += 1\n",
        "    if samplex[i] > 86.076 and samplex[i] > 82.6625 and samplex[i] <= 87.51125:\n",
        "        o[55] += 1\n",
        "for i in range(98):\n",
        "    if samplex[i] < 55.734 and samplex[i] > 58.41875 and samplex[i] < 87.51125:\n",
        "        o[56] += 1\n",
        "    if samplex[i] > 55.7341 and samplex[i] < 60.791 and samplex[i] > 87.51125 and samplex[i] <= 92.36:\n",
        "        o[57] += 1\n",
        "    if samplex[i] > 60.791 and samplex[i] < 65.848 and samplex[i] > 87.51125 and samplex[i] <= 92.36:\n",
        "        o[58] += 1\n",
        "    if samplex[i] > 65.848 and samplex[i] < 70.905 and samplex[i] > 87.51125 and samplex[i] <= 92.36:\n",
        "        o[59] += 1\n",
        "    if samplex[i] > 70.905 and samplex[i] < 75.962 and samplex[i] > 87.51125 and samplex[i] <= 92.36:\n",
        "        o[60] += 1\n",
        "    if samplex[i] > 75.962 and samplex[i] < 81.019 and samplex[i] > 87.51125 and samplex[i] <= 92.36:\n",
        "        o[61] += 1\n",
        "    if samplex[i] > 81.019 and samplex[i] < 86.076 and samplex[i] > 87.51125 and samplex[i] <= 92.36:\n",
        "        o[62] += 1\n",
        "    if samplex[i] > 86.076 and samplex[i] > 87.51125 and samplex[i] <= 92.36:\n",
        "        o[63] += 1\n",
        "for i in range(8):\n",
        "    ny[i] = o[i] + o[i+8] + o[i+16] + o[i+24] + o[i+32] + o[i+40] + o[i+48] + o[i+56]\n",
        "for i in range(8):\n",
        "    if khelp < 1:\n",
        "        k = i\n",
        "        khelp += 1\n",
        "    nx[i] = o[k] + o[k+1] + o[k+2] + o[k+3] + o[k+4] + o[k+5] + o[k+6] + o[k+7]\n",
        "    k += 8\n",
        "table3 = PrettyTable([\"y/x\",[round(d1[0],2),round(e1[0],2)], [round(d1[1],2),round(e1[1],2)],[round(d1[2],2),round(e1[2],2)],[round(d1[3],2),round(e1[3],2)],[round(d1[4],2),round(e1[4],2)],[round(d1[5],2),round(e1[5],2)], [round(d1[6],2),round(e1[6],2)], [round(d1[7],2),round(e1[7],2)], \"ny\"])\n",
        "table3.add_row([[round(d[0],2),round(e[0],5)],o[0], o[8],o[16],o[24],o[32], o[40], o[48], o[56], ny[0]])\n",
        "table3.add_row([[round(d[1],2),round(e[1],5)],o[1], o[9],o[17],o[25],o[33], o[41], o[49], o[57], ny[1]])\n",
        "table3.add_row([[round(d[2],2),round(e[2],5)],o[2], o[10],o[18],o[26],o[34],o[42], o[50], o[58], ny[2]])\n",
        "table3.add_row([[round(d[3],2),round(e[3],5)],o[3], o[11],o[19],o[27],o[35],o[43], o[51], o[59], ny[3]])\n",
        "table3.add_row([[round(d[4],2),round(e[4],5)],o[4], o[12],o[20],o[28],o[36],o[44], o[52], o[60], ny[4]])\n",
        "table3.add_row([[round(d[5],2),round(e[5],5)],o[5], o[13],o[21],o[29],o[37],o[45], o[53], o[61], ny[5]])\n",
        "table3.add_row([[round(d[6],2),round(e[6],5)],o[6], o[14],o[22],o[30],o[38],o[46], o[54], o[62], ny[6]])\n",
        "table3.add_row([[round(d[7],2),round(e[7],5)],o[7], o[15],o[23],o[31],o[39],o[47], o[55], o[63], ny[7]])\n",
        "table3.add_row([\"nx\",nx[0], nx[1],nx[2],nx[3],nx[4],nx[5], nx[6], nx[7], sum(nx)])\n",
        "print(table3)"
      ],
      "metadata": {
        "execution": {
          "iopub.status.busy": "2022-12-01T20:51:07.767883Z",
          "iopub.execute_input": "2022-12-01T20:51:07.768305Z",
          "iopub.status.idle": "2022-12-01T20:51:07.849349Z",
          "shell.execute_reply.started": "2022-12-01T20:51:07.768265Z",
          "shell.execute_reply": "2022-12-01T20:51:07.847788Z"
        },
        "id": "7dhiGOlZgCxK",
        "outputId": "41e473cc-26dd-4ae8-ea09-e7d150b991a8",
        "trusted": true
      },
      "execution_count": null,
      "outputs": [
        {
          "name": "stdout",
          "text": "+-----------------+----------------+----------------+----------------+----------------+----------------+----------------+----------------+----------------+----+\n|       y/x       | [53.57, 58.42] | [58.42, 63.27] | [63.27, 68.12] | [68.12, 72.96] | [72.96, 77.81] | [77.81, 82.66] | [82.66, 87.51] | [87.51, 92.36] | ny |\n+-----------------+----------------+----------------+----------------+----------------+----------------+----------------+----------------+----------------+----+\n| [50.68, 55.734] |       1        |       0        |       0        |       0        |       0        |       0        |       0        |       0        | 1  |\n| [55.73, 60.791] |       5        |       2        |       0        |       0        |       0        |       0        |       0        |       0        | 7  |\n| [60.79, 65.848] |       0        |       5        |       4        |       0        |       0        |       0        |       0        |       0        | 9  |\n| [65.85, 70.905] |       0        |       0        |       2        |       8        |       0        |       0        |       0        |       0        | 10 |\n|  [70.9, 75.962] |       0        |       0        |       0        |       11       |       17       |       0        |       0        |       0        | 28 |\n| [75.96, 81.019] |       0        |       0        |       0        |       0        |       6        |       14       |       0        |       0        | 20 |\n| [81.02, 86.076] |       0        |       0        |       0        |       0        |       0        |       3        |       2        |       0        | 5  |\n| [86.08, 91.133] |       0        |       0        |       0        |       0        |       0        |       0        |       2        |       16       | 18 |\n|        nx       |       6        |       7        |       6        |       19       |       23       |       17       |       4        |       16       | 98 |\n+-----------------+----------------+----------------+----------------+----------------+----------------+----------------+----------------+----------------+----+\n",
          "output_type": "stream"
        }
      ]
    },
    {
      "cell_type": "markdown",
      "source": [
        "Вывод: сумма частот появления значения х и сумма частот появления значения у совпадает, следовательно, вычисления проведены успешно."
      ],
      "metadata": {
        "id": "AymdC9jpgCxM"
      }
    },
    {
      "cell_type": "markdown",
      "source": [
        "## 3"
      ],
      "metadata": {
        "id": "ztSMkXY1gCxM"
      }
    },
    {
      "cell_type": "code",
      "source": [
        "x = [0]*8\n",
        "y = [0]*8\n",
        "x1 = [0]*8\n",
        "y1 = [0]*8\n",
        "vU = [0]*8\n",
        "uV = [0]*8\n",
        "v = [0]*8\n",
        "u = [0]*8\n",
        "k = 0\n",
        "khelp = 0\n",
        "hx = e1[0] - d1[0]\n",
        "hy = e[0] - d[0]\n",
        "for i in range(8):\n",
        "    x[i] = (e1[i] + d1[i])/2\n",
        "for i in range(8):\n",
        "    y[i] = (e[i] + d[i])/2\n",
        "for i in range(8):\n",
        "    x1[i] = round((x[i] - x[3])/hx)\n",
        "for i in range(8):\n",
        "    y1[i] = round((y[i] - y[4])/hy)\n",
        "for i in range(8):\n",
        "    u[i] = x1[0]*o[i] + x1[1]*o[i+8] + x1[2]*o[i+16] + x1[3]*o[i+24] + x1[4]*o[i+32] + x1[5]*o[i+40] + x1[6]*o[i+48] + x1[7]*o[i+56]\n",
        "for i in range(8):\n",
        "    vU[i] = y1[i]*u[i]\n",
        "for i in range(8):\n",
        "    if khelp < 1:\n",
        "        k = i\n",
        "        khelp += 1\n",
        "    v[i] = y1[0]*o[k] + y1[1]*o[k+1] + y1[2]*o[k+2] + y1[3]*o[k+3] + y1[4]*o[k+4] + y1[5]*o[k+5] + y1[6]*o[k+6] + y1[7]*o[k+7]\n",
        "    k += 8\n",
        "for i in range(8):\n",
        "    uV[i] = x1[i]*v[i]\n",
        "table4 = PrettyTable([ \"v/u\", x1[0], x1[1],x1[2],x1[3],x1[4],x1[5],x1[6],x1[7], \"Sum(n(uv)*u)\", \"vU\"])\n",
        "table4.add_row([y1[0],o[0], o[8],o[16],o[24],o[32], o[40], o[48], o[56], u[0], vU[0]])\n",
        "table4.add_row([y1[1],o[1], o[9],o[17],o[25],o[33], o[41], o[49], o[57], u[1], vU[1]])\n",
        "table4.add_row([y1[2],o[2], o[10],o[18],o[26],o[34],o[42], o[50], o[58], u[2], vU[2]])\n",
        "table4.add_row([y1[3],o[3], o[11],o[19],o[27],o[35],o[43], o[51], o[59], u[3], vU[3]])\n",
        "table4.add_row([y1[4],o[4], o[12],o[20],o[28],o[36],o[44], o[52], o[60], u[4], vU[4]])\n",
        "table4.add_row([y1[5],o[5], o[13],o[21],o[29],o[37],o[45], o[53], o[61], u[5], vU[5]])\n",
        "table4.add_row([y1[6],o[6], o[14],o[22],o[30],o[38],o[46], o[54], o[62], u[6], vU[6]])\n",
        "table4.add_row([y1[7],o[7], o[15],o[23],o[31],o[39],o[47], o[55], o[63], u[7], vU[7]])\n",
        "table4.add_row([\"Sum(n(uv)*v)\",v[0], v[1],v[2],v[3],v[4],v[5], v[6], v[7],\"-\", sum(vU)])\n",
        "table4.add_row([\"uV\",uV[0], uV[1],uV[2],uV[3],uV[4],uV[5], uV[6], uV[7], sum(uV), \"vU = uV\"])\n",
        "print(table4)"
      ],
      "metadata": {
        "execution": {
          "iopub.status.busy": "2022-12-01T20:51:07.852847Z",
          "iopub.execute_input": "2022-12-01T20:51:07.853740Z",
          "iopub.status.idle": "2022-12-01T20:51:07.886563Z",
          "shell.execute_reply.started": "2022-12-01T20:51:07.853689Z",
          "shell.execute_reply": "2022-12-01T20:51:07.885068Z"
        },
        "id": "Z2C8mriCgCxM",
        "outputId": "fc7e94cf-ff88-4706-ef2e-22f99a8769f2",
        "trusted": true
      },
      "execution_count": null,
      "outputs": [
        {
          "name": "stdout",
          "text": "+--------------+-----+-----+-----+----+----+----+----+-----+--------------+---------+\n|     v/u      |  -3 |  -2 |  -1 | 0  | 1  | 2  | 3  |  4  | Sum(n(uv)*u) |    vU   |\n+--------------+-----+-----+-----+----+----+----+----+-----+--------------+---------+\n|      -4      |  1  |  0  |  0  | 0  | 0  | 0  | 0  |  0  |      -3      |    12   |\n|      -3      |  5  |  2  |  0  | 0  | 0  | 0  | 0  |  0  |     -19      |    57   |\n|      -2      |  0  |  5  |  4  | 0  | 0  | 0  | 0  |  0  |     -14      |    28   |\n|      -1      |  0  |  0  |  2  | 8  | 0  | 0  | 0  |  0  |      -2      |    2    |\n|      0       |  0  |  0  |  0  | 11 | 17 | 0  | 0  |  0  |      17      |    0    |\n|      1       |  0  |  0  |  0  | 0  | 6  | 14 | 0  |  0  |      34      |    34   |\n|      2       |  0  |  0  |  0  | 0  | 0  | 3  | 2  |  0  |      12      |    24   |\n|      3       |  0  |  0  |  0  | 0  | 0  | 0  | 2  |  16 |      70      |   210   |\n| Sum(n(uv)*v) | -19 | -16 | -10 | -8 | 6  | 20 | 10 |  48 |      -       |   367   |\n|      uV      |  57 |  32 |  10 | 0  | 6  | 40 | 30 | 192 |     367      | vU = uV |\n+--------------+-----+-----+-----+----+----+----+----+-----+--------------+---------+\n",
          "output_type": "stream"
        }
      ]
    },
    {
      "cell_type": "markdown",
      "source": [
        "Вывод: суммы vU и uV равны, следовательно, вычесления проведены успешно."
      ],
      "metadata": {
        "id": "eliuGUFSgCxM"
      }
    },
    {
      "cell_type": "markdown",
      "source": [
        "## 4"
      ],
      "metadata": {
        "id": "50JIuGy4gCxN"
      }
    },
    {
      "cell_type": "code",
      "source": [
        "MOu=0\n",
        "MOv=0\n",
        "MOu2=0\n",
        "MOv2=0\n",
        "for i in range(8):\n",
        "    MOu= MOu+nx[i]*u[i]/novitr3\n",
        "    MOv=MOv+ny[i]*u[i]/novitr3\n",
        "    MOu2=MOu2+nx[i]*u[i]**2/novitr3\n",
        "    MOv2=MOv2+ny[i]*u[i]**2/novitr3\n",
        "Du=MOu2-(MOu)**2\n",
        "Dv=MOv2-(MOv)**2\n",
        "r=(sum(vU)-novitr3*MOu*MOv)/(novitr3*np.sqrt(Du)*np.sqrt(Dv))\n",
        "print(\"Коэффициент корреляции = \", round(r, 5))"
      ],
      "metadata": {
        "execution": {
          "iopub.status.busy": "2022-12-01T20:51:07.889893Z",
          "iopub.execute_input": "2022-12-01T20:51:07.890653Z",
          "iopub.status.idle": "2022-12-01T20:51:07.902383Z",
          "shell.execute_reply.started": "2022-12-01T20:51:07.890606Z",
          "shell.execute_reply": "2022-12-01T20:51:07.900864Z"
        },
        "id": "9jKRyRxFgCxN",
        "outputId": "dfa0a810-dc57-422d-cb4e-788652b06571",
        "trusted": true
      },
      "execution_count": null,
      "outputs": [
        {
          "name": "stdout",
          "text": "Коэффициент корреляции =  -0.55523\n",
          "output_type": "stream"
        }
      ]
    },
    {
      "cell_type": "markdown",
      "source": [
        "Вывод: Модуль коэффиициента корреляции принадлежит $\\eta\\in[0,1]$, значит вычесления верны. С увеличением x уменьшается y, так как коэффициент корреляции отрицательный."
      ],
      "metadata": {
        "id": "kBxmN8cbgCxN"
      }
    },
    {
      "cell_type": "markdown",
      "source": [
        "## 5"
      ],
      "metadata": {
        "id": "OfdCEtizgCxN"
      }
    },
    {
      "cell_type": "code",
      "source": [
        "z=math.atanh(r)\n",
        "t95 = 1.97\n",
        "t99 = 2.58\n",
        "print(\"Доверительный интервал при уровне значимости 0.95: (\", round(math.tanh(z-t95/math.sqrt(novitr3-3)), 5), \";\", round(math.tanh(z+t95/math.sqrt(novitr3-3)), 5), \")\")\n",
        "print(\"Доверительный интервал при уровне значимости 0.99: (\", round(math.tanh(z-t99/math.sqrt(novitr3-3)), 5), \";\", round(math.tanh(z+t99/math.sqrt(novitr3-3)), 5), \")\")"
      ],
      "metadata": {
        "execution": {
          "iopub.status.busy": "2022-12-01T20:51:07.904463Z",
          "iopub.execute_input": "2022-12-01T20:51:07.905231Z",
          "iopub.status.idle": "2022-12-01T20:51:07.940264Z",
          "shell.execute_reply.started": "2022-12-01T20:51:07.905184Z",
          "shell.execute_reply": "2022-12-01T20:51:07.914068Z"
        },
        "id": "RniMuWpTgCxN",
        "outputId": "4f610ece-ec65-4b28-f051-12c1b7104325",
        "trusted": true
      },
      "execution_count": null,
      "outputs": [
        {
          "name": "stdout",
          "text": "Доверительный интервал при уровне значимости 0.95: ( -0.67941 ; -0.40012 )\nДоверительный интервал при уровне значимости 0.99: ( -0.71169 ; -0.34627 )\n",
          "output_type": "stream"
        }
      ]
    },
    {
      "cell_type": "markdown",
      "source": [
        "Вывод: Коэффициент корреляции попадает в полученные доверительные интервалы."
      ],
      "metadata": {
        "id": "sYyM6l4xgCxO"
      }
    },
    {
      "cell_type": "markdown",
      "source": [
        "## 6"
      ],
      "metadata": {
        "id": "EXdnSdTLgCxO"
      }
    },
    {
      "cell_type": "code",
      "source": [
        "Tkrit = 1.985 #табличное значение для n = 98\n",
        "Tnabl = r*(math.sqrt(novitr3-2)/math.sqrt(1-r**2))\n",
        "if abs(Tnabl) < Tkrit:\n",
        "    print(\"Гипотеза о том, что коэффициент корреляции равен нулю принимается.\")\n",
        "else:\n",
        "    print(\"Гипотеза о том, что коэффициент корреляции равен нулю не принимается.\")"
      ],
      "metadata": {
        "execution": {
          "iopub.status.busy": "2022-12-01T20:51:07.944251Z",
          "iopub.execute_input": "2022-12-01T20:51:07.945214Z",
          "iopub.status.idle": "2022-12-01T20:51:07.954067Z",
          "shell.execute_reply.started": "2022-12-01T20:51:07.945162Z",
          "shell.execute_reply": "2022-12-01T20:51:07.952913Z"
        },
        "id": "bPzpe3CkgCxO",
        "outputId": "dfc858e6-a7cb-4acf-fd44-2a19f6724868",
        "trusted": true
      },
      "execution_count": null,
      "outputs": [
        {
          "name": "stdout",
          "text": "Гипотеза о том, что коэффициент корреляции равен нулю не принимается.\n",
          "output_type": "stream"
        }
      ]
    },
    {
      "cell_type": "markdown",
      "source": [
        "Вывод: Так как Tнабл > Tкрит, мы отвергает выдвенутую гипотезу."
      ],
      "metadata": {
        "id": "TboP22FRgCxO"
      }
    },
    {
      "cell_type": "markdown",
      "source": [
        "## 7"
      ],
      "metadata": {
        "id": "eJIDKnYpgCxO"
      }
    },
    {
      "cell_type": "code",
      "source": [
        "Dx = 0\n",
        "MOx = (sum(samplex)/novitr3)\n",
        "for i in range(98):\n",
        "    Dx = Dx + (samplex[i] - MOx)**2\n",
        "Dx /= novitr3\n",
        "l=round(e1[7]-d1[0])\n",
        "dify = [0]*l\n",
        "koordx = [0]*l\n",
        "for i in range(l):\n",
        "    koordx[i]=i+d1[0]\n",
        "    dify[i] = (r*math.sqrt(Dy)*(koordx[i]-MOx))/math.sqrt(Dx)+MOy \n",
        "print(\"График уравнения средней квадратичной регрессии х на у\")\n",
        "plt.xlabel(\"x\")\n",
        "plt.ylabel(\"y\")\n",
        "plt.grid()\n",
        "for i in range(98):\n",
        "    plt.plot(samplex[i],sampley[i],'b*')\n",
        "plt.plot(koordx,dify)\n",
        "plt.show()\n",
        "\n",
        "l2 = round(e[7]-d[0])\n",
        "difx = [0]*l2\n",
        "koordy = [0]*l2\n",
        "for i in range(l2):\n",
        "    koordy[i]=i+d[0]\n",
        "    difx[i] = (r*math.sqrt(Dx)*(koordy[i]-MOy))/math.sqrt(Dy)+MOx \n",
        "print(\"График уравнения средней квадратичной регрессии х на у\")\n",
        "plt.xlabel(\"x\")\n",
        "plt.ylabel(\"y\")\n",
        "plt.grid()\n",
        "for i in range(98):\n",
        "    plt.plot(samplex[i],sampley[i],'b*')\n",
        "plt.plot(koordy,difx)\n",
        "plt.show()"
      ],
      "metadata": {
        "execution": {
          "iopub.status.busy": "2022-12-01T20:51:07.955730Z",
          "iopub.execute_input": "2022-12-01T20:51:07.956864Z",
          "iopub.status.idle": "2022-12-01T20:51:08.894452Z",
          "shell.execute_reply.started": "2022-12-01T20:51:07.956051Z",
          "shell.execute_reply": "2022-12-01T20:51:08.893409Z"
        },
        "id": "leYOn8CvgCxP",
        "outputId": "510f689a-a1ab-4c38-b5a6-2b7d749c1ecd",
        "trusted": true
      },
      "execution_count": null,
      "outputs": [
        {
          "name": "stdout",
          "text": "График уравнения средней квадратичной регрессии х на у\n",
          "output_type": "stream"
        },
        {
          "output_type": "display_data",
          "data": {
            "text/plain": "<Figure size 432x288 with 1 Axes>",
            "image/png": "[encoded data removed]"
          },
          "metadata": {
            "needs_background": "light"
          }
        },
        {
          "name": "stdout",
          "text": "График уравнения средней квадратичной регрессии х на у\n",
          "output_type": "stream"
        },
        {
          "output_type": "display_data",
          "data": {
            "text/plain": "<Figure size 432x288 with 1 Axes>",
            "image/png": "[encoded data removed]"
          },
          "metadata": {
            "needs_background": "light"
          }
        }
      ]
    },
    {
      "cell_type": "markdown",
      "source": [
        "Вывод: полученные прямые показывают основное направление корреляционной связи - отрицательное(убывающее). C ростом одной последовательности убывает другая."
      ],
      "metadata": {
        "id": "NA_8MHnzgCxP"
      }
    },
    {
      "cell_type": "markdown",
      "source": [
        "## 8"
      ],
      "metadata": {
        "id": "ATkNOuvRgCxP"
      }
    },
    {
      "cell_type": "code",
      "source": [
        "_xy = [0]*8\n",
        "_yx = [0]*8\n",
        "for i in range(8):\n",
        "    _yx[i] = v[i]/nx[i]\n",
        "for i in range(8):\n",
        "    _xy[i] = u[i]/ny[i]\n",
        "Sgenx = 0\n",
        "Sgeny = 0\n",
        "Sintgr_yx = 0\n",
        "Sintgr_xy = 0\n",
        "MOu = sum(x1)/8\n",
        "MOv = sum(y1)/8\n",
        "for i in range(8):\n",
        "    Sgenx += (x1[0] - MOu)**2*nx[i]\n",
        "Sgenx /= novitr3\n",
        "Sgenx = math.sqrt(Sgenx)\n",
        "for i in range(8):\n",
        "    Sgeny += (y1[0] - MOv)**2*ny[i]\n",
        "Sgeny /= novitr3\n",
        "Sgeny = math.sqrt(Sgeny)\n",
        "for i in range(8):\n",
        "    Sintgr_yx += nx[i] * (_yx[i] - MOv)**2\n",
        "Sintgr_yx /= novitr3\n",
        "Sintgr_yx = math.sqrt(Sintgr_yx)\n",
        "for i in range(8):\n",
        "    Sintgr_xy += ny[i] * (_xy[i] - MOu)**2\n",
        "Sintgr_xy /= novitr3\n",
        "Sintgr_xy = math.sqrt(Sintgr_xy)\n",
        "nyx = Sintgr_yx/Sgeny\n",
        "nxy = Sintgr_xy/Sgenx\n",
        "print(\"nyx =\", round(nyx, 2))\n",
        "print(\"nxy =\",round(nxy, 2))"
      ],
      "metadata": {
        "execution": {
          "iopub.status.busy": "2022-12-01T20:51:08.898826Z",
          "iopub.execute_input": "2022-12-01T20:51:08.899181Z",
          "iopub.status.idle": "2022-12-01T20:51:08.912383Z",
          "shell.execute_reply.started": "2022-12-01T20:51:08.899148Z",
          "shell.execute_reply": "2022-12-01T20:51:08.910922Z"
        },
        "id": "HRVUK4BhgCxP",
        "outputId": "fdbb15bb-c4f2-4dab-a79f-06b358fad178",
        "trusted": true
      },
      "execution_count": null,
      "outputs": [
        {
          "name": "stdout",
          "text": "nyx = 0.55\nnxy = 0.56\n",
          "output_type": "stream"
        }
      ]
    },
    {
      "cell_type": "markdown",
      "source": [
        "Вывод: условие $\\eta\\in[0,1]$ и неравенство $\\eta\\geq|r_{B}| $ выполняются, следовательно, вычисления верны. Корреляционные отношения примерно находятся по середине диапазона $\\eta\\in[0,1]$, что показывает о частичной связи признака Y с признаком X функциональной зависимостью и наоборот."
      ],
      "metadata": {
        "id": "GOCzkVxAgCxP"
      }
    },
    {
      "cell_type": "markdown",
      "source": [
        "## 9"
      ],
      "metadata": {
        "id": "xWwR0CCCgCxQ"
      }
    },
    {
      "cell_type": "markdown",
      "source": [
        "Берутся производные от $(c+bx+ax^{2}-y)^{2}$:\n",
        "$ 2x^{2}(ax^{2}+bx+c-y)\\\\\n",
        "2x(ax^{2}+bx+c-y)\\\\\n",
        "2ax^{2} + 2bx + 2c - 2y $\n",
        "Приравнниваются к нулю и составляем систему:\n",
        "\n",
        "$\\begin{cases}\n",
        " & nc+b\\sum_{i=1}^{n}x_{i}+a\\sum_{i=1}^{n}x_{i}^{2}=\\sum_{i=1}^{n}y_{i}\\\\\n",
        " & c\\sum_{i=1}^{n}x_{i}+b\\sum_{i=1}^{n}x_{i}^{2}+\\sum_{i=1}^{n}x_{i}^{3}=\\sum_{i=1}^{n}y_{i}x_{i}\\\\\n",
        " & c\\sum_{i=1}^{n}x_{i}^{2}+b\\sum_{i=1}^{n}x_{i}^{3}+\\sum_{i=1}^{n}x_{i}^{4}=\\sum_{i=1}^{n}y_{i}x_{i}^{2}\n",
        "\\end{cases}$"
      ],
      "metadata": {
        "id": "WvABwxr7gCxQ"
      }
    },
    {
      "cell_type": "code",
      "source": [
        "sumx=0\n",
        "sumx2=0\n",
        "sumx3=0\n",
        "sumx4=0\n",
        "sumy=0\n",
        "sumxy=0\n",
        "sumx2y=0\n",
        "koordx2 = [0]*l\n",
        "lefttoright = [0]*l\n",
        "for i in range(98):\n",
        "    sumx = sumx+samplex[i]\n",
        "    sumx2 = sumx2+samplex[i]**2\n",
        "    sumx3 = sumx3+samplex[i]**3\n",
        "    sumx4 = sumx4+samplex[i]**4\n",
        "    sumy = sumy+sampley[i]\n",
        "    sumxy = sumxy+(samplex[i]*sampley[i])\n",
        "    sumx2y=sumx2y+(samplex[i]**2*sampley[i])\n",
        "left = np.array([[98,sumx,sumx2],[sumx,sumx2,sumx3],[sumx2,sumx3,sumx4]])\n",
        "right = np.array([sumy,sumxy,sumx2y])\n",
        "helplandr = np.linalg.inv(left).dot(right)\n",
        "for i in range(98):\n",
        "    plt.plot(samplex[i],sampley[i],'b*')\n",
        "for i in range(l):\n",
        "    koordx2[i]=i+d1[0]\n",
        "    lefttoright[i]=helplandr[0]+helplandr[1]*(i+d1[0])+helplandr[2]*(i+d1[0])**2\n",
        "plt.plot(koordx2,lefttoright)\n",
        "plt.grid()\n",
        "plt.show()\n",
        "print(helplandr)"
      ],
      "metadata": {
        "execution": {
          "iopub.status.busy": "2022-12-01T20:51:08.914612Z",
          "iopub.execute_input": "2022-12-01T20:51:08.915653Z",
          "iopub.status.idle": "2022-12-01T20:51:09.373426Z",
          "shell.execute_reply.started": "2022-12-01T20:51:08.915607Z",
          "shell.execute_reply": "2022-12-01T20:51:09.372117Z"
        },
        "id": "iXnJqip4gCxQ",
        "outputId": "c4fb79c2-1c70-47b6-d855-0f6bbdf0324b",
        "trusted": true
      },
      "execution_count": null,
      "outputs": [
        {
          "output_type": "display_data",
          "data": {
            "text/plain": "<Figure size 432x288 with 1 Axes>",
            "image/png": "[encoded data removed]"
          },
          "metadata": {
            "needs_background": "light"
          }
        },
        {
          "name": "stdout",
          "text": "[-1.82193108e+01  1.42466527e+00 -2.72078639e-03]\n",
          "output_type": "stream"
        }
      ]
    },
    {
      "cell_type": "markdown",
      "source": [
        "Вывод: уравнение параболической регрессии имеет вид: $y = -0.00272x^{2} + 1.425x - 18.22$. Данный график отображает средние значения на множестве выборки."
      ],
      "metadata": {
        "id": "iq2meu32gCxQ"
      }
    },
    {
      "cell_type": "markdown",
      "source": [
        "## 10"
      ],
      "metadata": {
        "id": "C76Jd7ZRgCxQ"
      }
    },
    {
      "cell_type": "markdown",
      "source": [
        "Производная по a: \n",
        "\n",
        "$2a + \\frac{2b}{x} - 2y$\n",
        "\n",
        "Производная по b:\n",
        "\n",
        "$\\frac{2(a+\\frac{b}{x}-y)}{x}$"
      ],
      "metadata": {
        "id": "OoVtq5cMgCxR"
      }
    },
    {
      "cell_type": "markdown",
      "source": [
        "$\\begin{cases}\n",
        " & na+b\\sum{i=1}^{n}\\frac{1}{x{i}}=\\sum{i=1}^{n}y{i}\\\\\n",
        " & a\\sum{i=1}^{n}\\frac{1}{x{i}}+b\\sum{i=1}^{n}\\frac{1}{x{i}^{2}}=\\sum{i=1}^{n}\\frac{y{i}}{x_{i}^{2}}\n",
        "\\end{cases}$"
      ],
      "metadata": {
        "id": "h_ps1YFkgCxR"
      }
    },
    {
      "cell_type": "code",
      "source": [
        "ox,ox2,raz=0,0,0\n",
        "for i in range(8):\n",
        "    ox+=1/samplex2[i]\n",
        "    ox2+=1/samplex2[i]**2\n",
        "    raz+=sampley[i]/samplex2[i]\n",
        "left2=np.array([[novitr3,ox],[ox,ox2]])\n",
        "right2=np.array([sum(sampley2),raz])\n",
        "helplandr2=np.linalg.inv(left2).dot(right2)\n",
        "for i in range(98):\n",
        "    plt.plot(samplex2[i],samplex2[i],'g*')\n",
        "koordx3,lefttoright2=[0]*l,[0]*l\n",
        "for i in range(l):\n",
        "    koordx3[i]=i+sampley2[0]\n",
        "    lefttoright2[i]=helplandr2[0]+helplandr2[1]/(i+sampley2[0])\n",
        "plt.plot(koordx3,lefttoright2)\n",
        "plt.grid()\n",
        "plt.show()\n",
        "print(helplandr2)"
      ],
      "metadata": {
        "execution": {
          "iopub.status.busy": "2022-12-01T20:51:09.375261Z",
          "iopub.execute_input": "2022-12-01T20:51:09.375719Z",
          "iopub.status.idle": "2022-12-01T20:51:09.857012Z",
          "shell.execute_reply.started": "2022-12-01T20:51:09.375676Z",
          "shell.execute_reply": "2022-12-01T20:51:09.855762Z"
        },
        "id": "y5tx1qvAgCxR",
        "outputId": "e1ba231a-9da9-4b20-8335-77361c1779b6",
        "trusted": true
      },
      "execution_count": null,
      "outputs": [
        {
          "output_type": "display_data",
          "data": {
            "text/plain": "<Figure size 432x288 with 1 Axes>",
            "image/png": "[encoded data removed]"
          },
          "metadata": {
            "needs_background": "light"
          }
        },
        {
          "name": "stdout",
          "text": "[   74.98948976 -1204.94776643]\n",
          "output_type": "stream"
        }
      ]
    },
    {
      "cell_type": "markdown",
      "source": [
        "Вывод: на графике изображена обратно пропорциональная функция: $y = 74.99+\\frac{1204.95}{x}$"
      ],
      "metadata": {
        "id": "yDPryM0ngCxR"
      }
    },
    {
      "cell_type": "markdown",
      "source": [
        "## 11"
      ],
      "metadata": {
        "id": "Y93Ie_MsgCxR"
      }
    },
    {
      "cell_type": "code",
      "source": [
        "gry, gry2, gry3, gry4=[0]*novitr3, [0]*novitr3, [0]*novitr3, [0]*novitr3\n",
        "dstar, dstar2, dstar3, dstar4 = 0, 0, 0, 0\n",
        "aprox, aprox2, aprox3, aprox4 = 0, 0, 0, 0\n",
        "ostat, ostat2, ostat3, ostat4=[0]*novitr3, [0]*novitr3, [0]*novitr3, [0]*novitr3\n",
        "for i in range(novitr3):\n",
        "    gry[i]=(r*math.sqrt(Dy)*(samplex[i]-MOx))/math.sqrt(Dx)+MOy\n",
        "    gry2[i]=(r*math.sqrt(Dx)*(sampley[i]-MOy))/math.sqrt(Dy)+MOx\n",
        "    gry3[i]=helplandr[0]+helplandr[1]*samplex[i]+helplandr[2]*samplex[i]**2\n",
        "    gry4[i]=helplandr2[0]+helplandr2[1]/samplex[i]\n",
        "    dstar=dstar+((gry[i]-MOy)**2/novitr3)\n",
        "    dstar2=dstar2+((gry2[i]-MOx)**2/novitr3)\n",
        "    dstar3=dstar3+((gry3[i]-MOy)**2/novitr3)\n",
        "    dstar4=dstar4+((gry4[i]-MOy)**2/novitr3)\n",
        "    aprox=aprox+(abs((sampley[i]-gry[i])/sampley[i])/novitr3)\n",
        "    aprox2=aprox2+(abs((sampley[i]-gry2[i])/samplex[i])/novitr3)\n",
        "    aprox3=aprox3+(abs((sampley[i]-gry3[i])/sampley[i])/novitr3)\n",
        "    aprox4=aprox4+(abs((sampley[i]-gry4[i])/sampley[i])/novitr3)\n",
        "    ostat[i]=(sampley[i]-gry[i])**2\n",
        "    ostat2[i]=(samplex[i]-gry2[i])**2\n",
        "    ostat3[i]=(sampley[i]-gry3[i])**2\n",
        "    ostat4[i]=(sampley[i]-gry4[i])**2\n",
        "    \n",
        "table5 = PrettyTable([\" \",\"R^2\",\"Se\",\"A\"])\n",
        "table5.add_row([1,round(dstar/Dy,5),round(np.sqrt(sum(ostat)/(novitr3-2)),5),round(aprox*100,5)])    \n",
        "table5.add_row([2,round(dstar2/Dx,5),round(np.sqrt(sum(ostat2)/(novitr3-2)),5),round(aprox2*100,5)])  \n",
        "table5.add_row([3,round(dstar3/Dy,5),round(np.sqrt(sum(ostat3)/(novitr3-3)),5),round(aprox3*100,5)]) \n",
        "table5.add_row([4,round(Dy/dstar4,5),round(np.sqrt(sum(ostat4)/(novitr3-2)),5),round(aprox4*100,5)]) \n",
        "print(table5)"
      ],
      "metadata": {
        "execution": {
          "iopub.status.busy": "2022-12-01T20:51:09.858861Z",
          "iopub.execute_input": "2022-12-01T20:51:09.859601Z",
          "iopub.status.idle": "2022-12-01T20:51:09.885758Z",
          "shell.execute_reply.started": "2022-12-01T20:51:09.859553Z",
          "shell.execute_reply": "2022-12-01T20:51:09.884027Z"
        },
        "id": "7w6yjF9ggCxS",
        "outputId": "87c657cc-131c-4592-ef64-d2288da33f2d",
        "trusted": true
      },
      "execution_count": null,
      "outputs": [
        {
          "name": "stdout",
          "text": "+---+---------+----------+----------+\n|   |   R^2   |    Se    |    A     |\n+---+---------+----------+----------+\n| 1 | 0.30828 | 15.0245  | 16.46819 |\n| 2 | 0.30828 | 14.70788 | 16.01494 |\n| 3 | 0.99686 | 0.54401  | 0.57824  |\n| 4 | 0.42058 | 16.5521  | 18.9771  |\n+---+---------+----------+----------+\n",
          "output_type": "stream"
        }
      ]
    },
    {
      "cell_type": "markdown",
      "source": [
        "Вывод: Коэффициенту детерминации для 1 и 2 - слабая, для 3 - весьма высокая, а для 4 - умеренная сила связи.\n",
        "\n",
        "Средняя квадратическая ошибка демонстрирует среднеквадратическое отклонение наблюдаемых значений от теоритических. Нас устраивает, что ско > Se.\n",
        "\n",
        "Ошибка аппроксимации у всех моделей, кроме третьей, больше 7%, что показывает плохое качество модели."
      ],
      "metadata": {
        "id": "7ET5nCo1gCxS"
      }
    },
    {
      "cell_type": "markdown",
      "source": [
        "## Вывод:\n",
        "Были решены все задания, которые предоставлены. Изучена корреляционная зависимость между случайными веречинами, найден доверительный интервал, была проверка статистической гипотезы на их справедливость. Изучен метод наименьших квадратов, статистические свойства МНК оценок, функции регрессии и роли МНК в регрессионном анализе. Был найден коэффициент детерминации, средняя квадратическая ошибка и средняя ошибка апроксимации для 4-ёх моделей."
      ],
      "metadata": {
        "id": "iU-_KxzAgCxS"
      }
    }
  ]
}