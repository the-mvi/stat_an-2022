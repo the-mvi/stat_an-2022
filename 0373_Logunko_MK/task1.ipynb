{
 "cells": [
  {
   "cell_type": "markdown",
   "id": "936eac26",
   "metadata": {},
   "source": [
    "# Практическая работа №1: Формирование и первичная обработка выборки. Нахождение и точечных и интервальных оценок. Проверка статистических гипотез\"\n",
    "Выполнил студент гр. 0373 Логунко Матвей. Вариант №12\n",
    "\n"
   ]
  },
  {
   "cell_type": "markdown",
   "id": "19676ba1",
   "metadata": {},
   "source": [
    "## Цель работы : \n",
    "Ознакомление с основными правилами формирования выборки и подготовки выборочных данных к статистическому анализу. Получение практических навыков нахождения точечных статистических оценок параметров распределения, а также вычисления интервальных статистических оценок параметров распределения выборочных данных и проверки «справедливости» статистических гипотез"
   ]
  },
  {
   "cell_type": "markdown",
   "id": "fbca84af",
   "metadata": {},
   "source": [
    "## Основные теоретические положения \n",
    "### Теория \n",
    "Ранжированный ряд - ряд упорядоченный по возростанию  \n",
    "Вариационный ряд - ряд в котором вместе с вариантами учитываются их частота  \n",
    "Интервальный ряд - весь промежуток значений выборки разбивают на частичные интервалы  \n",
    "h - длина интервала  \n",
    "R - размах выборки  \n",
    "Полигон частот - ломанная линия соединяющая точки дискретного ряда (xi,ni)  \n",
    "Гистограмма частот - ступенчатая фигура, состоящая из прямоугольников, основанием которых является частичный интервал, а высота равна отношению ni/h  \n",
    "Эмпирическая функция распределения - функция задающая для каждого значения x относительную частоту события\n",
    "Выборочное среднее - среднее арифмитическое значение признака выборки  \n",
    "Дисперсия - среднее арифмитическое квадратов отношений значений от их среднего\n",
    "СКО - квадратный модуль из дисперсии  \n",
    "Мода интервального ряда - число заключенное в частичном интервале у которого наибольшая частота  \n",
    "Медиана интервального ряда - число принадлежащее частичному интервалу, для которого накопленная частота составит половину или больше половины всей суммы частот, а предыдущая накопленная частота меньше половины  \n",
    "Коэффициент вариации - мера колебания изученного признака относительно выборочного среднего\n",
    "С - ложный нуль (для условных вариант )  \n",
    "Обычный эмпирический момент порядка r - среднее значение r-ых степеней разностей xi-C  \n",
    "Центральный эмпирический момент порядка r - обычный эмпирический момент при C = среднему выборочному  \n",
    "Доверительный интервал - интервал, который покрывает неизвестный параметр с заданной надежностью  \n",
    "\n",
    "### Формулы  \n",
    "Формула Стёрджа:\n",
    "$ k = 1 + log_2 n $ ;\n",
    "$R = Xmax - Xmin$ ; $h =\\frac{R}{k}$  \n",
    "Относительные частоты:  \n",
    "$ p^{*}_i = \\frac{n_i}{n}$   \n",
    "Сумма абсолютных частот  \n",
    "$\\sum^{k}_{i=1} n_i = n$   \n",
    "Сумма относительных частот  \n",
    "$\\sum^{k}_{i=1} p^{*}_i = 1$   \n",
    "Среднее выборочное  \n",
    "$\\overline{X}_B=\\frac{1}{n}\\sum^{n}_{i+1}x_in_i=\\sum^{k}_{i+1}x_ip^{*}_i$  \n",
    "Дисперсия:  \n",
    "$\\sigma^{2}_B=\\frac{1}{n}\\sum_{i=1}^{n}(x_i-\\overline{x}_B)^{2}=\\frac{1}{n}\\sum_{i=1}^{k}n_i(x_i-\\overline{x}_B)^{2}=\\sum_{i=1}^{k}p^{*}_i(x_i-\\overline{x}_B)^{2}$   \n",
    "Мода:  \n",
    "$M^{*}_o\\in (x^{o}_{M_o},x^{'}_{M_o}); M^{*}_o=x^{o}_{M_o}+h\\frac{n_{M_o}-n_{M_o-1}}{(n_{M_o}-n_{M_o-1})+(n_{M_o}-n_\n",
    "{M_o+1})}$    \n",
    "Медиана:  \n",
    "$M^{*}_e\\in (x^{o}_{M_e},x^{'}_{M_e}); M^{*}_e=x^{o}_{M_e} +\\frac{h}{p^{*}_{M_e}}(0.5-p^{\\sum}_{M_e-1})$  \n",
    "Коэффициент вариации:  \n",
    "$v^{*} = \\frac{\\sigma_B}{\\left|\\overline{X}_B \\right|}*100% $   \n",
    "Условные варианты:  \n",
    "$u_i=\\frac{x_i-C}{h}$ ,где $ C $ - ложный нуль, $ h $ - шаг    \n",
    "Обычный эмпирический момент:    \n",
    "$\\nu^{T}_r=\\frac{1}{n} \\sum_{i=1}^{k}(x_i-C)^r $   \n",
    "Условный эмпирический момент:  \n",
    "$\\nu^{*}_r=\\frac{1}{n} \\sum_{i=1}^{k}n_iu_i^{r} = \\frac{1}{n} \\sum_{i=1}^{k}n_i(\\frac{x_i-C}{h})^r$  \n",
    "Центральный эмпирический момент:    \n",
    "$\\mu^{*}_r=\\frac{1}{n} \\sum_{i=1}^{k}n_i(x_i-\\overline{x}_B)^r$   \n",
    "Нахождение выборочного среднего через условный эмпирический момент:  \n",
    "$\\overline{X}_B=h\\nu_1^*+C $  \n",
    "Значения первых четырех центральных эмпирических моментов:  \n",
    "$\\mu_1^*=0;\\mu_2^*=(\\nu_2^*-(\\nu_1^*)^2)h^2;\\mu_3^*=(\\nu_3^*-3\\nu_2^*\\nu_1^*+2(\\nu_1^*)^3)h^3;\\mu_4^*=(\\nu_4^*-4\\nu_3^*\\nu_1^*+6\\nu_2^*(\\nu_1^*)^2-3(\\nu_1^*)^4)h^4$   \n",
    "Коэффициент асимметрии:    \n",
    "$a_s^*=\\frac{\\mu_3^*}{\\sigma_B^3} $  \n",
    "Коэффициент эксцесса:        \n",
    "$\\varepsilon_k^*=\\frac{\\mu_4^*}{\\sigma_B^4}-3$       \n",
    "Исправленная дисперсия :    \n",
    "$s^2=\\frac{n}{n-1}\\sigma_B^2=\\frac{1}{n-1}\\sum_{i=1}^{k}n_i(x_i-\\overline{x}_B^2$  \n",
    "Функция Лапласа:  \n",
    "$\\Phi(x) = \\frac{1}{\\sqrt{2\\pi }}\\int_{0}^{x}e^{-\\frac{t^2}{2}}dt$  \n",
    "Критерий Пирсона проверки гипотезы:     \n",
    "$\\chi^{2}=\\sum_{i=1}^{k}{\\frac{(n_{i}-n_{i}^{'})^{2}}{n_{i}^{'}}}$\n",
    "\n",
    "\n",
    "   \n"
   ]
  },
  {
   "cell_type": "markdown",
   "id": "164c5abb",
   "metadata": {},
   "source": [
    "## Постановка задачи\n",
    "Осуществить формирование репрезентативной выборки заданного объема из имеющейся генеральной совокупности экспериментальных данных.  \n",
    "Осуществить последовательное преобразование полученной выборки в ранжированный, вариационный и интервальный ряды.  \n",
    "Применительно к интервальному ряду построить и отобразить графически полигон, гистограмму и эмпирическую функцию распределения для абсолютных и относительных частот.  \n",
    "Для заданных выборочных данных вычислить с использованием метода моментов и условных вариант точечные статистические оценки математического ожидания, дисперсии, среднеквадратичного отклонения, асимметрии, эксцесса, моды, медианы и коэффициента вариации исследуемой случайной величины.  \n",
    "Для заданной надёжности определить границы доверительных интервалов для математического ожидания и среднеквадратичного отклонения случайной величины.  \n",
    "Проверить гипотезу о нормальном распределении исследуемой случайной величины с помощью критерия Пирсона $\\chi^{2}$\n",
    "Полученные результаты содержательно проинтерпретировать."
   ]
  },
  {
   "cell_type": "markdown",
   "id": "f7cce305",
   "metadata": {},
   "source": [
    "## Выполнение работы"
   ]
  },
  {
   "cell_type": "markdown",
   "id": "05a9c670",
   "metadata": {},
   "source": [
    "# Задание 1\n",
    "Для выборочной совокупности я использовал данные из генеральной выборки по курсу биткоина, тип выборки - механический "
   ]
  },
  {
   "cell_type": "code",
   "execution_count": 238,
   "id": "cd1801e0",
   "metadata": {},
   "outputs": [
    {
     "name": "stdout",
     "output_type": "stream",
     "text": [
      "Выборка\n",
      "0      124.75166\n",
      "1      118.67500\n",
      "2      121.99166\n",
      "3      128.01683\n",
      "4      126.89650\n",
      "         ...    \n",
      "97     628.54499\n",
      "98     622.20624\n",
      "99     618.26374\n",
      "100    595.87875\n",
      "101    581.28125\n",
      "Length: 102, dtype: float64\n"
     ]
    }
   ],
   "source": [
    "## объем выборки\n",
    "n=102\n",
    "# s - выборка\n",
    "s = pd.Series([124.75166,\n",
    "118.675,\n",
    "121.99166,\n",
    "128.01683,\n",
    "126.8965,\n",
    "143.60483,\n",
    "152.6685,\n",
    "177.71166,\n",
    "201.33316,\n",
    "188.3985,\n",
    "198.79333,\n",
    "201.24116,\n",
    "248.32116,\n",
    "343.67975,\n",
    "339.795,\n",
    "415.93975,\n",
    "512.16999,\n",
    "580.11375,\n",
    "823.41525,\n",
    "904.585,\n",
    "1157.49894,\n",
    "1049.67916,\n",
    "1144.36916,\n",
    "845.85092,\n",
    "975.62383,\n",
    "897.30915,\n",
    "757.02366,\n",
    "733.23666,\n",
    "685.3675,\n",
    "780.93666,\n",
    "759.6362,\n",
    "774.26333,\n",
    "873.98,\n",
    "970.22516,\n",
    "902.035,\n",
    "873.27168,\n",
    "879.62999,\n",
    "885.16166,\n",
    "874.13266,\n",
    "876.24165,\n",
    "860.24269,\n",
    "852.3975,\n",
    "856.03366,\n",
    "815.79724,\n",
    "711.97109,\n",
    "671.9975,\n",
    "657.99749,\n",
    "641.37249,\n",
    "581.24,\n",
    "583.135,\n",
    "583.7825,\n",
    "568.275,\n",
    "666.3275,\n",
    "626.25,\n",
    "645.75,\n",
    "636.75668,\n",
    "630.77666,\n",
    "604.52831,\n",
    "570.33081,\n",
    "589.95497,\n",
    "504.21231,\n",
    "500.64066,\n",
    "455.99333,\n",
    "458.925,\n",
    "427.5385,\n",
    "425.68516,\n",
    "543.31749,\n",
    "511.76836,\n",
    "498.59166,\n",
    "472.48499,\n",
    "445.73085,\n",
    "459.42666,\n",
    "438.44883,\n",
    "446.35999,\n",
    "453.54333,\n",
    "439.51833,\n",
    "447.15166,\n",
    "458.23333,\n",
    "535.09,\n",
    "589.945,\n",
    "576.55666,\n",
    "638.94666,\n",
    "675.73833,\n",
    "657.94166,\n",
    "653.34666,\n",
    "633.66166,\n",
    "593.54833,\n",
    "612.85666,\n",
    "603.205,\n",
    "588.78,\n",
    "600.72,\n",
    "647.12249,\n",
    "646.88375,\n",
    "632.575,\n",
    "624.01,\n",
    "635.04625,\n",
    "622.46124,\n",
    "628.54499,\n",
    "622.20624,\n",
    "618.26374,\n",
    "595.87875,\n",
    "581.28125])\n",
    "print(\"Выборка\")\n",
    "print(s)"
   ]
  },
  {
   "cell_type": "markdown",
   "id": "6ec72522",
   "metadata": {},
   "source": [
    "# Задание 2\n",
    "## Последовательно преобразовать выборку в ранжированный, вариационный и интервальный ряды. Результаты содержательно проинтерпретировать.\n",
    "\n"
   ]
  },
  {
   "cell_type": "code",
   "execution_count": 239,
   "id": "5499f291",
   "metadata": {},
   "outputs": [
    {
     "name": "stdout",
     "output_type": "stream",
     "text": [
      "Вывод ранжированного ряда\n",
      "0       118.67500\n",
      "1       121.99166\n",
      "2       124.75166\n",
      "3       126.89650\n",
      "4       128.01683\n",
      "          ...    \n",
      "97      970.22516\n",
      "98      975.62383\n",
      "99     1049.67916\n",
      "100    1144.36916\n",
      "101    1157.49894\n",
      "Length: 102, dtype: float64\n"
     ]
    }
   ],
   "source": [
    "import pandas as pd\n",
    "import numpy as np\n",
    "import math as math\n",
    "## ранжированный ряд  \n",
    "\n",
    "print(\"Вывод ранжированного ряда\")\n",
    "print(s.sort_values(ascending=True,ignore_index=True))"
   ]
  },
  {
   "cell_type": "code",
   "execution_count": 240,
   "id": "4621f444",
   "metadata": {},
   "outputs": [
    {
     "name": "stdout",
     "output_type": "stream",
     "text": [
      "Вывод вариационного ряда\n",
      "         number  frequency\n",
      "0     118.67500          1\n",
      "1     121.99166          1\n",
      "2     124.75166          1\n",
      "3     126.89650          1\n",
      "4     128.01683          1\n",
      "..          ...        ...\n",
      "97    970.22516          1\n",
      "98    975.62383          1\n",
      "99   1049.67916          1\n",
      "100  1144.36916          1\n",
      "101  1157.49894          1\n",
      "\n",
      "[102 rows x 2 columns]\n"
     ]
    }
   ],
   "source": [
    "# x - вариационный ряд  \n",
    "x=s.value_counts().reset_index()\n",
    "x.columns=[\"number\",\"frequency\"]\n",
    "x=x.sort_values(by=['number']).reset_index(drop=True)\n",
    "print(\"Вывод вариационного ряда\")\n",
    "print(x)"
   ]
  },
  {
   "cell_type": "code",
   "execution_count": 241,
   "id": "36b231f1",
   "metadata": {},
   "outputs": [
    {
     "name": "stdout",
     "output_type": "stream",
     "text": [
      "Вывод интервального ряда\n",
      "                             int  freq\n",
      "0  (117.63499999999999, 248.528]    13\n",
      "1             (248.528, 378.381]     2\n",
      "2             (378.381, 508.234]    17\n",
      "3             (508.234, 638.087]    32\n",
      "4              (638.087, 767.94]    16\n",
      "5              (767.94, 897.793]    15\n",
      "6            (897.793, 1027.646]     4\n",
      "7           (1027.646, 1157.499]     3\n"
     ]
    }
   ],
   "source": [
    "from math import ceil\n",
    "from math import floor\n",
    "from math import log2\n",
    "## формула Стёрджеса  \n",
    "k = ceil(1+log2(n))\n",
    "## интервальный ряд \n",
    "s1=s.value_counts(normalize=False,bins=k,sort=False).to_frame().reset_index()\n",
    "s1.columns=[\"int\",\"freq\"]\n",
    "print(\"Вывод интервального ряда\")\n",
    "print(s1)\n"
   ]
  },
  {
   "cell_type": "markdown",
   "id": "2bd3e12c",
   "metadata": {},
   "source": [
    "# Задание 3\n",
    "## Для интервального ряда абсолютных частот построить и отобразить графически полигон, гистограмму и эмпирическую функцию.Сделать выводы."
   ]
  },
  {
   "cell_type": "code",
   "execution_count": 242,
   "id": "03dfb0fb",
   "metadata": {},
   "outputs": [],
   "source": [
    "## разница между макс и мин значениями выборки\n",
    "r=s.max()-s.min()\n",
    "## длина интервала(шаг) \n",
    "h=r/k\n",
    "##абс частота интервалов \n",
    "c = [0]*k\n",
    "## отн частота интервалов \n",
    "c1 = [0]*k\n",
    "j = 0\n",
    "for i in s.value_counts(bins=8,sort=False):\n",
    "    c[j] = i\n",
    "    c1[j] = i/n\n",
    "    j += 1"
   ]
  },
  {
   "cell_type": "code",
   "execution_count": 243,
   "id": "b29ae63c",
   "metadata": {},
   "outputs": [],
   "source": [
    "## концы интервалов\n",
    "start= [0]*(k+1)\n",
    "start[0]=s.min()\n",
    "for i in range(1,k+1):\n",
    "    start[i]=start[i-1]+h\n",
    "## среднее значение интервала\n",
    "mid_range=[0]*(k)\n",
    "for i in range(1,k+1):\n",
    "    mid_range[i-1]=start[i]-h/2"
   ]
  },
  {
   "cell_type": "code",
   "execution_count": 244,
   "id": "74eb25d4",
   "metadata": {
    "scrolled": true
   },
   "outputs": [
    {
     "name": "stdout",
     "output_type": "stream",
     "text": [
      "Полигон по средним интервальным значениям и абсолютным частотам\n"
     ]
    },
    {
     "data": {
      "image/png": "[encoded data removed]",
      "text/plain": [
       "<Figure size 432x288 with 1 Axes>"
      ]
     },
     "metadata": {
      "needs_background": "light"
     },
     "output_type": "display_data"
    }
   ],
   "source": [
    "import matplotlib.pyplot as plt\n",
    "plt.plot(mid_range,c)\n",
    "plt.xlabel('value')\n",
    "plt.ylabel('frequency')\n",
    "print('Полигон по средним интервальным значениям и абсолютным частотам')"
   ]
  },
  {
   "cell_type": "code",
   "execution_count": 245,
   "id": "81e47fd0",
   "metadata": {
    "scrolled": true
   },
   "outputs": [
    {
     "name": "stdout",
     "output_type": "stream",
     "text": [
      "Гистограмма по средним интервальным значениям и абсолютным частотам\n"
     ]
    },
    {
     "data": {
      "image/png": "[encoded data removed]",
      "text/plain": [
       "<Figure size 432x288 with 1 Axes>"
      ]
     },
     "metadata": {
      "needs_background": "light"
     },
     "output_type": "display_data"
    }
   ],
   "source": [
    "plt.hist(mid_range,weights=c/h,bins=k) \n",
    "plt.xlabel('intervals')\n",
    "plt.ylabel('frequency')\n",
    "print('Гистограмма по средним интервальным значениям и абсолютным частотам')"
   ]
  },
  {
   "cell_type": "code",
   "execution_count": 246,
   "id": "c09e5094",
   "metadata": {},
   "outputs": [
    {
     "name": "stdout",
     "output_type": "stream",
     "text": [
      "Эмпирическая функция по абсолютным частотам\n"
     ]
    },
    {
     "data": {
      "image/png": "[encoded data removed]",
      "text/plain": [
       "<Figure size 432x288 with 1 Axes>"
      ]
     },
     "metadata": {
      "needs_background": "light"
     },
     "output_type": "display_data"
    }
   ],
   "source": [
    "## накопленные абсолютные частоты \n",
    "m=[0]*(k)\n",
    "for i in range(0,k):\n",
    "    m[i]=(m[i-1]+c[i])\n",
    "bin_dt, bin_gr = np.histogram(start, bins=len(c))\n",
    "Y = m\n",
    "for i in range(len(Y)):\n",
    "    plt.plot([bin_gr[i], bin_gr[i+1]],[Y[i], Y[i]],color='green')\n",
    "plt.xlabel('intervals')\n",
    "plt.ylabel('frequency')\n",
    "print('Эмпирическая функция по абсолютным частотам')"
   ]
  },
  {
   "cell_type": "markdown",
   "id": "fca37cb1",
   "metadata": {},
   "source": [
    "# Вывод:\n",
    "по полученной гистограмме и полигону частот, можно увидеть что выборка имеет нормальное распределение  \n"
   ]
  },
  {
   "cell_type": "markdown",
   "id": "6caad590",
   "metadata": {},
   "source": [
    "# Задание 4\n",
    "##  Аналогичные действия выполнить для интервального ряда относительных частот. Сравнить результаты и сделать выводы."
   ]
  },
  {
   "cell_type": "code",
   "execution_count": 247,
   "id": "4586ad6d",
   "metadata": {},
   "outputs": [
    {
     "name": "stdout",
     "output_type": "stream",
     "text": [
      "Полигон по средним интервальным значениям и относительным частотам\n"
     ]
    },
    {
     "data": {
      "image/png": "[encoded data removed]",
      "text/plain": [
       "<Figure size 432x288 with 1 Axes>"
      ]
     },
     "metadata": {
      "needs_background": "light"
     },
     "output_type": "display_data"
    }
   ],
   "source": [
    "import matplotlib.pyplot as plt\n",
    "plt.plot(mid_range,c1)\n",
    "plt.xlabel('intervals')\n",
    "plt.ylabel('frequency')\n",
    "print('Полигон по средним интервальным значениям и относительным частотам')"
   ]
  },
  {
   "cell_type": "code",
   "execution_count": 248,
   "id": "c827727b",
   "metadata": {},
   "outputs": [
    {
     "name": "stdout",
     "output_type": "stream",
     "text": [
      "Гистограмма по средним интервальным значениям и относительным частотам\n"
     ]
    },
    {
     "data": {
      "image/png": "[encoded data removed]",
      "text/plain": [
       "<Figure size 432x288 with 1 Axes>"
      ]
     },
     "metadata": {
      "needs_background": "light"
     },
     "output_type": "display_data"
    }
   ],
   "source": [
    "plt.hist(mid_range,weights=c1/h,bins=k) \n",
    "plt.xlabel('intervals')\n",
    "plt.ylabel('frequency')\n",
    "print('Гистограмма по средним интервальным значениям и относительным частотам')"
   ]
  },
  {
   "cell_type": "code",
   "execution_count": 249,
   "id": "6a434cb6",
   "metadata": {},
   "outputs": [
    {
     "name": "stdout",
     "output_type": "stream",
     "text": [
      "Эмпирическая функция по относительным частотам\n"
     ]
    },
    {
     "data": {
      "image/png": "[encoded data removed]",
      "text/plain": [
       "<Figure size 432x288 with 1 Axes>"
      ]
     },
     "metadata": {
      "needs_background": "light"
     },
     "output_type": "display_data"
    }
   ],
   "source": [
    "## накопленные отностельные частоты \n",
    "m1=[0]*(k)\n",
    "for i in range(0,k):\n",
    "    m1[i]=(m1[i-1]+c[i]) \n",
    "for i in range(0,k):\n",
    "    m1[i]=m1[i]/n \n",
    "bin_dt, bin_gr = np.histogram(start, bins=len(c))\n",
    "Y = m1\n",
    "for i in range(len(Y)):\n",
    "    \n",
    "    plt.plot([bin_gr[i], bin_gr[i+1]],[Y[i], Y[i]],color='green')\n",
    "plt.xlabel('intervals')\n",
    "plt.ylabel('frequency')\n",
    "print('Эмпирическая функция по относительным частотам')"
   ]
  },
  {
   "cell_type": "markdown",
   "id": "cb8b6f46",
   "metadata": {},
   "source": [
    "# Выводы:\n",
    "Cравнивая полученные графики, можно заметить что высота отличается ровно в n раз, также эмпирическая функция соблюдает ограничениям в высоте от [0,1]\n",
    "\n"
   ]
  },
  {
   "cell_type": "markdown",
   "id": "33cd1a60",
   "metadata": {},
   "source": [
    "# Задание 5\n",
    "## Для интервального ряда найти середины интервалов, а также накопленные частоты. Результаты представить в виде таблицы (в последней строке Σ необходимо записать сумму столбца):"
   ]
  },
  {
   "cell_type": "code",
   "execution_count": 250,
   "id": "e5c5dd72",
   "metadata": {},
   "outputs": [
    {
     "data": {
      "text/html": [
       "<div>\n",
       "<style scoped>\n",
       "    .dataframe tbody tr th:only-of-type {\n",
       "        vertical-align: middle;\n",
       "    }\n",
       "\n",
       "    .dataframe tbody tr th {\n",
       "        vertical-align: top;\n",
       "    }\n",
       "\n",
       "    .dataframe thead th {\n",
       "        text-align: right;\n",
       "    }\n",
       "</style>\n",
       "<table border=\"1\" class=\"dataframe\">\n",
       "  <thead>\n",
       "    <tr style=\"text-align: right;\">\n",
       "      <th></th>\n",
       "      <th>(x(i-1);x(i)]</th>\n",
       "      <th>xср(i)</th>\n",
       "      <th>n(i)</th>\n",
       "      <th>p*(i)</th>\n",
       "      <th>sum(n(i))</th>\n",
       "      <th>sum(p*(i))</th>\n",
       "    </tr>\n",
       "  </thead>\n",
       "  <tbody>\n",
       "    <tr>\n",
       "      <th>0</th>\n",
       "      <td>(117.63499999999999, 248.528]</td>\n",
       "      <td>183.601496</td>\n",
       "      <td>13</td>\n",
       "      <td>0.127451</td>\n",
       "      <td>13</td>\n",
       "      <td>0.127451</td>\n",
       "    </tr>\n",
       "    <tr>\n",
       "      <th>1</th>\n",
       "      <td>(248.528, 378.381]</td>\n",
       "      <td>313.454489</td>\n",
       "      <td>2</td>\n",
       "      <td>0.019608</td>\n",
       "      <td>15</td>\n",
       "      <td>0.147059</td>\n",
       "    </tr>\n",
       "    <tr>\n",
       "      <th>2</th>\n",
       "      <td>(378.381, 508.234]</td>\n",
       "      <td>443.307481</td>\n",
       "      <td>17</td>\n",
       "      <td>0.166667</td>\n",
       "      <td>32</td>\n",
       "      <td>0.313725</td>\n",
       "    </tr>\n",
       "    <tr>\n",
       "      <th>3</th>\n",
       "      <td>(508.234, 638.087]</td>\n",
       "      <td>573.160474</td>\n",
       "      <td>32</td>\n",
       "      <td>0.313725</td>\n",
       "      <td>64</td>\n",
       "      <td>0.627451</td>\n",
       "    </tr>\n",
       "    <tr>\n",
       "      <th>4</th>\n",
       "      <td>(638.087, 767.94]</td>\n",
       "      <td>703.013466</td>\n",
       "      <td>16</td>\n",
       "      <td>0.156863</td>\n",
       "      <td>80</td>\n",
       "      <td>0.784314</td>\n",
       "    </tr>\n",
       "    <tr>\n",
       "      <th>5</th>\n",
       "      <td>(767.94, 897.793]</td>\n",
       "      <td>832.866459</td>\n",
       "      <td>15</td>\n",
       "      <td>0.147059</td>\n",
       "      <td>95</td>\n",
       "      <td>0.931373</td>\n",
       "    </tr>\n",
       "    <tr>\n",
       "      <th>6</th>\n",
       "      <td>(897.793, 1027.646]</td>\n",
       "      <td>962.719451</td>\n",
       "      <td>4</td>\n",
       "      <td>0.039216</td>\n",
       "      <td>99</td>\n",
       "      <td>0.970588</td>\n",
       "    </tr>\n",
       "    <tr>\n",
       "      <th>7</th>\n",
       "      <td>(1027.646, 1157.499]</td>\n",
       "      <td>1092.572444</td>\n",
       "      <td>3</td>\n",
       "      <td>0.029412</td>\n",
       "      <td>102</td>\n",
       "      <td>1.0</td>\n",
       "    </tr>\n",
       "    <tr>\n",
       "      <th>sum</th>\n",
       "      <td>-</td>\n",
       "      <td>-</td>\n",
       "      <td>102</td>\n",
       "      <td>1.000000</td>\n",
       "      <td>-</td>\n",
       "      <td>-</td>\n",
       "    </tr>\n",
       "  </tbody>\n",
       "</table>\n",
       "</div>"
      ],
      "text/plain": [
       "                     (x(i-1);x(i)]       xср(i)  n(i)     p*(i) sum(n(i))  \\\n",
       "0    (117.63499999999999, 248.528]   183.601496    13  0.127451        13   \n",
       "1               (248.528, 378.381]   313.454489     2  0.019608        15   \n",
       "2               (378.381, 508.234]   443.307481    17  0.166667        32   \n",
       "3               (508.234, 638.087]   573.160474    32  0.313725        64   \n",
       "4                (638.087, 767.94]   703.013466    16  0.156863        80   \n",
       "5                (767.94, 897.793]   832.866459    15  0.147059        95   \n",
       "6              (897.793, 1027.646]   962.719451     4  0.039216        99   \n",
       "7             (1027.646, 1157.499]  1092.572444     3  0.029412       102   \n",
       "sum                              -            -   102  1.000000         -   \n",
       "\n",
       "    sum(p*(i))  \n",
       "0     0.127451  \n",
       "1     0.147059  \n",
       "2     0.313725  \n",
       "3     0.627451  \n",
       "4     0.784314  \n",
       "5     0.931373  \n",
       "6     0.970588  \n",
       "7          1.0  \n",
       "sum          -  "
      ]
     },
     "execution_count": 250,
     "metadata": {},
     "output_type": "execute_result"
    }
   ],
   "source": [
    "t = pd.DataFrame(columns=[\"(x(i-1);x(i)]\",\"xср(i)\",\"n(i)\",\"p*(i)\",\"sum(n(i))\",\"sum(p*(i))\"])\n",
    "t[\"(x(i-1);x(i)]\"]=s1[\"int\"]\n",
    "t[\"xср(i)\"]=mid_range\n",
    "t[\"n(i)\"]=s1[\"freq\"]\n",
    "t[\"p*(i)\"]=c1\n",
    "t[\"sum(n(i))\"]=m\n",
    "t[\"sum(p*(i))\"]=m1\n",
    "t.loc[\"sum\"]=[\"-\",\"-\",np.sum(t[\"n(i)\"]),np.sum(t[\"p*(i)\"]),\"-\",\"-\"]\n",
    "t"
   ]
  },
  {
   "cell_type": "markdown",
   "id": "be663935",
   "metadata": {},
   "source": [
    "# Задание 6\n",
    "## Для полученных вариант вычислить условные варианты. Заполнить расчётную таблицу (в последней строке Σ необходимо записать сумму столбца):"
   ]
  },
  {
   "cell_type": "code",
   "execution_count": 251,
   "id": "934a64bd",
   "metadata": {},
   "outputs": [
    {
     "data": {
      "text/html": [
       "<div>\n",
       "<style scoped>\n",
       "    .dataframe tbody tr th:only-of-type {\n",
       "        vertical-align: middle;\n",
       "    }\n",
       "\n",
       "    .dataframe tbody tr th {\n",
       "        vertical-align: top;\n",
       "    }\n",
       "\n",
       "    .dataframe thead th {\n",
       "        text-align: right;\n",
       "    }\n",
       "</style>\n",
       "<table border=\"1\" class=\"dataframe\">\n",
       "  <thead>\n",
       "    <tr style=\"text-align: right;\">\n",
       "      <th></th>\n",
       "      <th>x(i)</th>\n",
       "      <th>n(i)</th>\n",
       "      <th>u(i)</th>\n",
       "      <th>n(i)u(i)</th>\n",
       "      <th>n(i)u^2(i)</th>\n",
       "      <th>n(i)u^3(i)</th>\n",
       "      <th>n(i)u^4(i)</th>\n",
       "      <th>n(i)(u(i)+1)^4</th>\n",
       "    </tr>\n",
       "  </thead>\n",
       "  <tbody>\n",
       "    <tr>\n",
       "      <th>0</th>\n",
       "      <td>183.601496</td>\n",
       "      <td>13</td>\n",
       "      <td>-3.0</td>\n",
       "      <td>-39.0</td>\n",
       "      <td>117.0</td>\n",
       "      <td>-351.0</td>\n",
       "      <td>1053.0</td>\n",
       "      <td>208.0</td>\n",
       "    </tr>\n",
       "    <tr>\n",
       "      <th>1</th>\n",
       "      <td>313.454489</td>\n",
       "      <td>2</td>\n",
       "      <td>-2.0</td>\n",
       "      <td>-4.0</td>\n",
       "      <td>8.0</td>\n",
       "      <td>-16.0</td>\n",
       "      <td>32.0</td>\n",
       "      <td>2.0</td>\n",
       "    </tr>\n",
       "    <tr>\n",
       "      <th>2</th>\n",
       "      <td>443.307481</td>\n",
       "      <td>17</td>\n",
       "      <td>-1.0</td>\n",
       "      <td>-17.0</td>\n",
       "      <td>17.0</td>\n",
       "      <td>-17.0</td>\n",
       "      <td>17.0</td>\n",
       "      <td>0.0</td>\n",
       "    </tr>\n",
       "    <tr>\n",
       "      <th>3</th>\n",
       "      <td>573.160474</td>\n",
       "      <td>32</td>\n",
       "      <td>0.0</td>\n",
       "      <td>0.0</td>\n",
       "      <td>0.0</td>\n",
       "      <td>0.0</td>\n",
       "      <td>0.0</td>\n",
       "      <td>32.0</td>\n",
       "    </tr>\n",
       "    <tr>\n",
       "      <th>4</th>\n",
       "      <td>703.013466</td>\n",
       "      <td>16</td>\n",
       "      <td>1.0</td>\n",
       "      <td>16.0</td>\n",
       "      <td>16.0</td>\n",
       "      <td>16.0</td>\n",
       "      <td>16.0</td>\n",
       "      <td>256.0</td>\n",
       "    </tr>\n",
       "    <tr>\n",
       "      <th>5</th>\n",
       "      <td>832.866459</td>\n",
       "      <td>15</td>\n",
       "      <td>2.0</td>\n",
       "      <td>30.0</td>\n",
       "      <td>60.0</td>\n",
       "      <td>120.0</td>\n",
       "      <td>240.0</td>\n",
       "      <td>1215.0</td>\n",
       "    </tr>\n",
       "    <tr>\n",
       "      <th>6</th>\n",
       "      <td>962.719451</td>\n",
       "      <td>4</td>\n",
       "      <td>3.0</td>\n",
       "      <td>12.0</td>\n",
       "      <td>36.0</td>\n",
       "      <td>108.0</td>\n",
       "      <td>324.0</td>\n",
       "      <td>1024.0</td>\n",
       "    </tr>\n",
       "    <tr>\n",
       "      <th>7</th>\n",
       "      <td>1092.572444</td>\n",
       "      <td>3</td>\n",
       "      <td>4.0</td>\n",
       "      <td>12.0</td>\n",
       "      <td>48.0</td>\n",
       "      <td>192.0</td>\n",
       "      <td>768.0</td>\n",
       "      <td>1875.0</td>\n",
       "    </tr>\n",
       "    <tr>\n",
       "      <th>sum</th>\n",
       "      <td>-</td>\n",
       "      <td>102</td>\n",
       "      <td>-</td>\n",
       "      <td>10.0</td>\n",
       "      <td>302.0</td>\n",
       "      <td>52.0</td>\n",
       "      <td>2450.0</td>\n",
       "      <td>4612.0</td>\n",
       "    </tr>\n",
       "  </tbody>\n",
       "</table>\n",
       "</div>"
      ],
      "text/plain": [
       "            x(i)  n(i) u(i)  n(i)u(i)  n(i)u^2(i)  n(i)u^3(i)  n(i)u^4(i)  \\\n",
       "0     183.601496    13 -3.0     -39.0       117.0      -351.0      1053.0   \n",
       "1     313.454489     2 -2.0      -4.0         8.0       -16.0        32.0   \n",
       "2     443.307481    17 -1.0     -17.0        17.0       -17.0        17.0   \n",
       "3     573.160474    32  0.0       0.0         0.0         0.0         0.0   \n",
       "4     703.013466    16  1.0      16.0        16.0        16.0        16.0   \n",
       "5     832.866459    15  2.0      30.0        60.0       120.0       240.0   \n",
       "6     962.719451     4  3.0      12.0        36.0       108.0       324.0   \n",
       "7    1092.572444     3  4.0      12.0        48.0       192.0       768.0   \n",
       "sum            -   102    -      10.0       302.0        52.0      2450.0   \n",
       "\n",
       "     n(i)(u(i)+1)^4  \n",
       "0             208.0  \n",
       "1               2.0  \n",
       "2               0.0  \n",
       "3              32.0  \n",
       "4             256.0  \n",
       "5            1215.0  \n",
       "6            1024.0  \n",
       "7            1875.0  \n",
       "sum          4612.0  "
      ]
     },
     "execution_count": 251,
     "metadata": {},
     "output_type": "execute_result"
    }
   ],
   "source": [
    "## номер ложного нуля\n",
    "C=((len(c)-1)/2)\n",
    "C=math.floor(C) if s1[\"freq\"][math.floor(C)] > s1[\"freq\"][math.ceil(C)] else math.ceil(C)\n",
    "## условные варианты \n",
    "U =[]\n",
    "t2 = pd.DataFrame(columns=[\"x(i)\",\"n(i)\",\"u(i)\",\"n(i)u(i)\",\"n(i)u^2(i)\",\"n(i)u^3(i)\",\"n(i)u^4(i)\",\"n(i)(u(i)+1)^4\"])\n",
    "for i in range (len(c)):\n",
    "    U.append((t[\"xср(i)\"][i]-t[\"xср(i)\"][C])/h)\n",
    "n_u_1 = []\n",
    "n_u_2 = []\n",
    "n_u_3 = []\n",
    "n_u_4 = []\n",
    "n_u_plus = []\n",
    "for i in range(len(U)):\n",
    "    n_u_1.append(t[\"n(i)\"][i]*U[i])\n",
    "    n_u_2.append(t[\"n(i)\"][i]*U[i]**2)\n",
    "    n_u_3.append(t[\"n(i)\"][i]*U[i]**3)\n",
    "    n_u_4.append(t[\"n(i)\"][i]*U[i]**4)\n",
    "    n_u_plus.append(round(t[\"n(i)\"][i]*(U[i]+1)**4,1))\n",
    "t2[\"x(i)\"]=t[\"xср(i)\"][:len(t)-1]                     \n",
    "t2[\"n(i)\"]=t[\"n(i)\"]    \n",
    "t2[\"u(i)\"]=U \n",
    "t2[\"n(i)u(i)\"]=n_u_1 \n",
    "t2[\"n(i)u^2(i)\"]=n_u_2 \n",
    "t2[\"n(i)u^3(i)\"]=n_u_3  \n",
    "t2[\"n(i)u^4(i)\"]=n_u_4  \n",
    "t2[\"n(i)(u(i)+1)^4\"]=n_u_plus \n",
    "t2.loc[\"sum\"]=[\"-\",np.sum(t2[\"n(i)\"]),\"-\",np.sum(t2[\"n(i)u(i)\"]),np.sum(t2[\"n(i)u^2(i)\"]),np.sum(t2[\"n(i)u^3(i)\"]),np.sum(t2[\"n(i)u^4(i)\"]),np.sum(t2[\"n(i)(u(i)+1)^4\"])]\n",
    "t2\n",
    " "
   ]
  },
  {
   "cell_type": "markdown",
   "id": "e98a5a34",
   "metadata": {},
   "source": [
    "## Проверка\n"
   ]
  },
  {
   "cell_type": "code",
   "execution_count": 252,
   "id": "c3dcc17e",
   "metadata": {},
   "outputs": [
    {
     "name": "stdout",
     "output_type": "stream",
     "text": [
      "4612.000000000004\n",
      "4612.0\n",
      "Проверка пройдена\n"
     ]
    }
   ],
   "source": [
    "proverka=t2.loc[\"sum\"][1]+4*t2.loc[\"sum\"][3]+6*t2.loc[\"sum\"][4]+t2.loc[\"sum\"][5]*4+t2.loc[\"sum\"][6]\n",
    "print(proverka)\n",
    "print(t2.loc[\"sum\"][7])\n",
    "print(\"Проверка пройдена\")\n"
   ]
  },
  {
   "cell_type": "markdown",
   "id": "d5222bd6",
   "metadata": {},
   "source": [
    "# Задание 7.\n",
    "## Вычислить условные эмпирические моменты 𝜈*𝑖 через условные варианты. С помощью условных эмпирических моментов вычислить центральные эмпирические моменты 𝜇*𝑖. Полученные результаты занести в таблицу"
   ]
  },
  {
   "cell_type": "code",
   "execution_count": 253,
   "id": "c7287cbc",
   "metadata": {},
   "outputs": [
    {
     "data": {
      "text/html": [
       "<div>\n",
       "<style scoped>\n",
       "    .dataframe tbody tr th:only-of-type {\n",
       "        vertical-align: middle;\n",
       "    }\n",
       "\n",
       "    .dataframe tbody tr th {\n",
       "        vertical-align: top;\n",
       "    }\n",
       "\n",
       "    .dataframe thead th {\n",
       "        text-align: right;\n",
       "    }\n",
       "</style>\n",
       "<table border=\"1\" class=\"dataframe\">\n",
       "  <thead>\n",
       "    <tr style=\"text-align: right;\">\n",
       "      <th></th>\n",
       "      <th>v*(i)</th>\n",
       "      <th>и*(i)</th>\n",
       "    </tr>\n",
       "  </thead>\n",
       "  <tbody>\n",
       "    <tr>\n",
       "      <th>1</th>\n",
       "      <td>0.098039</td>\n",
       "      <td>0.000000e+00</td>\n",
       "    </tr>\n",
       "    <tr>\n",
       "      <th>2</th>\n",
       "      <td>2.960784</td>\n",
       "      <td>4.976208e+04</td>\n",
       "    </tr>\n",
       "    <tr>\n",
       "      <th>3</th>\n",
       "      <td>0.509804</td>\n",
       "      <td>-7.863357e+05</td>\n",
       "    </tr>\n",
       "    <tr>\n",
       "      <th>4</th>\n",
       "      <td>24.019608</td>\n",
       "      <td>7.267524e+09</td>\n",
       "    </tr>\n",
       "  </tbody>\n",
       "</table>\n",
       "</div>"
      ],
      "text/plain": [
       "       v*(i)         и*(i)\n",
       "1   0.098039  0.000000e+00\n",
       "2   2.960784  4.976208e+04\n",
       "3   0.509804 -7.863357e+05\n",
       "4  24.019608  7.267524e+09"
      ]
     },
     "execution_count": 253,
     "metadata": {},
     "output_type": "execute_result"
    }
   ],
   "source": [
    "## условные эмпирические моменты\n",
    "V = []\n",
    "## порядок\n",
    "r = 4\n",
    "for i in range(r):\n",
    "    V.append(1/n*t2.loc[\"sum\"][i+3])\n",
    "## центральные эмпирические моменты\n",
    "V1 =[0]*(r)\n",
    "V1[0]=0\n",
    "V1[1]=((V[1]-V[0]**2)*h**2)\n",
    "V1[2]=(V[2]-3*V[1]*V[0]+2*V[0]**3)*h**3\n",
    "V1[3]=(V[3]-4*V[2]*V[0]+6*V[1]*V[0]-3*V[0]**4)*h**4\n",
    "t3=pd.DataFrame(columns=[\"v*(i)\",\"и*(i)\"], index=range(1,r+1))\n",
    "t3[\"v*(i)\"]=V\n",
    "t3[\"и*(i)\"]=V1\n",
    "t3"
   ]
  },
  {
   "cell_type": "markdown",
   "id": "7ffd02da",
   "metadata": {},
   "source": [
    "# Задание 8 \n",
    "## Вычислить выборочные среднее и дисперсию с помощью стандартной формулы и с помощью условных вариант. Убедиться, что результаты совпадают"
   ]
  },
  {
   "cell_type": "code",
   "execution_count": 254,
   "id": "43102e39",
   "metadata": {},
   "outputs": [
    {
     "name": "stdout",
     "output_type": "stream",
     "text": [
      "Дисперсия по стандартным формулам 591.2222868627451\n",
      "Cреднее выборочное  по условным  585.8911592892158\n"
     ]
    }
   ],
   "source": [
    "## среднее выборочное \n",
    "xB= np.sum(s)/n\n",
    "## среднее выборочное  по условным \n",
    "xB_=h*t3[\"v*(i)\"][1]+t[\"xср(i)\"][C]\n",
    "print(\"Дисперсия по стандартным формулам\",xB)\n",
    "print(\"Cреднее выборочное  по условным \",xB_)"
   ]
  },
  {
   "cell_type": "code",
   "execution_count": 255,
   "id": "41df7acf",
   "metadata": {},
   "outputs": [
    {
     "name": "stdout",
     "output_type": "stream",
     "text": [
      "Дисперсия по стандартным формулам= 52723.19108575234\n",
      "Дисперсия по условным вариантам = 49762.081583779334\n"
     ]
    }
   ],
   "source": [
    "## диспересия \n",
    "d=0\n",
    "for i in range (n):\n",
    "    d=d+(s[i]-xB)**2\n",
    "d=d/n\n",
    "## диспересия по условным \n",
    "D_=t3[\"и*(i)\"][2]\n",
    "print(\"Дисперсия по стандартным формулам=\",d)\n",
    "print(\"Дисперсия по условным вариантам =\",D_)"
   ]
  },
  {
   "cell_type": "markdown",
   "id": "30a8ea0f",
   "metadata": {},
   "source": [
    "## Вывод\n",
    "Результаты совпадают с погрешностью, которая появляется из за того , что при подсчете условных вариант брались середины интервального ряда."
   ]
  },
  {
   "cell_type": "markdown",
   "id": "10139c8c",
   "metadata": {},
   "source": [
    "# Задание 9\n",
    "## Вычислить исправленную выборочную дисперсию и исправленное СКО. Сравнить данные оценки с смещёнными оценками дисперсиии СКО."
   ]
  },
  {
   "cell_type": "code",
   "execution_count": 256,
   "id": "05498557",
   "metadata": {},
   "outputs": [
    {
     "name": "stdout",
     "output_type": "stream",
     "text": [
      "Дисперсия = 52723.19108575234\n",
      "Исправленная выборочная дисперсия= 53245.20287868058\n",
      "Отношение дисперсий = 1.00990099009901\n",
      "СКО = 229.61531108737574\n",
      "Исправленное СКО 230.7492207542218\n",
      "Отношение CKO = 1.0049383016379712\n"
     ]
    }
   ],
   "source": [
    "sko=math.sqrt(d)\n",
    "d_new=n/(n-1)*d\n",
    "sko_new=math.sqrt(d_new)\n",
    "print(\"Дисперсия =\",d)\n",
    "print(\"Исправленная выборочная дисперсия=\",d_new)\n",
    "print(\"Отношение дисперсий =\",d_new/d)\n",
    "print(\"СКО =\",sko)\n",
    "print(\"Исправленное СКО\",sko_new)\n",
    "print(\"Отношение CKO =\",sko_new/sko)"
   ]
  },
  {
   "cell_type": "markdown",
   "id": "dbff9fdd",
   "metadata": {},
   "source": [
    "# Выводы:\n",
    "Значения отношений малы так как выборка достаточно большая"
   ]
  },
  {
   "cell_type": "markdown",
   "id": "121f4620",
   "metadata": {},
   "source": [
    "# Задание 10\n",
    "## Найти статистическую оценку коэффициентов асимметрии и эксцесса. Сделать выводы."
   ]
  },
  {
   "cell_type": "code",
   "execution_count": 257,
   "id": "1c3e639e",
   "metadata": {},
   "outputs": [
    {
     "name": "stdout",
     "output_type": "stream",
     "text": [
      "коэффициент асимметрии -0.0649539345787877\n",
      "коэффициент эксцесса -0.38553347445042085\n"
     ]
    }
   ],
   "source": [
    "asymmetry=t3[\"и*(i)\"][3]/(sko)**3\n",
    "excess=t3[\"и*(i)\"][4]/(sko)**4-3\n",
    "print(\"коэффициент асимметрии\",asymmetry)\n",
    "print(\"коэффициент эксцесса\",excess)"
   ]
  },
  {
   "cell_type": "markdown",
   "id": "cdaa227d",
   "metadata": {},
   "source": [
    "# Задание 11 \n",
    "## Вычислить моду, медиану и коэффициент вариации для заданного распределения. Сделать выводы.\n",
    "\n"
   ]
  },
  {
   "cell_type": "code",
   "execution_count": 258,
   "id": "7ff2a54c",
   "metadata": {},
   "outputs": [
    {
     "name": "stdout",
     "output_type": "stream",
     "text": [
      "Мода =  571.0660931451613\n",
      "Медиана =  585.334214296875\n",
      "Коэффициент вариации =  38.83739097621026 %\n"
     ]
    }
   ],
   "source": [
    "max_frequency=np.max(s1[\"freq\"])\n",
    "moda_=[]\n",
    "index=[]\n",
    "mediana=0\n",
    "index1 = 0\n",
    "for i in range(len(s1)):\n",
    "    if (s1[\"freq\"][i] ==max_frequency):\n",
    "        moda_=s1[\"int\"][i].left\n",
    "        index=i\n",
    "##мода показывает на локальный максимум распределения\n",
    "moda=moda_+h*((s1[\"freq\"][index]-s1[\"freq\"][index-1]))/((s1[\"freq\"][index]-s1[\"freq\"][index-1])+(s1[\"freq\"][index]-s1[\"freq\"][index+1]))\n",
    "while (t[\"sum(n(i))\"][index1] < t[\"sum(n(i))\"][len(s1)-1]/2):\n",
    "    index1 += 1\n",
    "mediana_ = s1[\"int\"][index1].left\n",
    "##медиана показывает на точку делящую распределение на две равновероятностные половины\n",
    "mediana = mediana_ + h/(t[\"p*(i)\"])[index1]*(0.5 - t[\"sum(p*(i))\"][index1-1])\n",
    "## коэффициент вариации показывает степень изменчивости по отношению к среднему показателю\n",
    "kf_var =sko/abs(xB)*100\n",
    "print(\"Мода = \", moda)\n",
    "print(\"Медиана = \" , mediana)\n",
    "print(\"Коэффициент вариации = \" , kf_var,\"%\")\n"
   ]
  },
  {
   "cell_type": "markdown",
   "id": "7a01e462",
   "metadata": {},
   "source": [
    "## Выводы\n",
    "по полученному коэффициенту вариации можно сказать что выборка неоднородная \n"
   ]
  },
  {
   "cell_type": "markdown",
   "id": "fc0365d9",
   "metadata": {},
   "source": [
    "# Задание 12 \n",
    "Вычислить точность и доверительный интервал для математического ожидания при неизвестном среднеквадратичном отклонении\n",
    "при заданном объёме выборки для доверительной точности 𝛾 ∈\n",
    "∈ {0.95, 0.99}. Сделать выводы."
   ]
  },
  {
   "cell_type": "code",
   "execution_count": 259,
   "id": "0b3f9400",
   "metadata": {},
   "outputs": [
    {
     "name": "stdout",
     "output_type": "stream",
     "text": [
      "Доверительный интервал при y = 0.95: (531.3616340816685, 651.0829396438218) точность δ =  59.86065278107664\n",
      "Доверительный интервал при y = 0.99: (545.9840836159773, 636.460490109513) точность δ =  45.23820324676784\n",
      "Выводы при обоих случаях гаммы образуется небольшой Доверительный интервал в который попадает мат ожидание\n"
     ]
    }
   ],
   "source": [
    "# Из таблицы значений берем два критерия t при n =102 и gamma1=0.95 gamma2=0.99\n",
    "gamma1=0.95\n",
    "gamma2=0.99\n",
    "t1=1.98\n",
    "t2=2.62\n",
    "print(\"Доверительный интервал при y = 0.95:\", (xB-t2*sko_new/math.sqrt(n),xB+t2*sko_new/math.sqrt(n)), \"точность δ = \",t2*sko_new/math.sqrt(n))\n",
    "print(\"Доверительный интервал при y = 0.99:\", (xB-t1*sko_new/math.sqrt(n),xB+t1*sko_new/math.sqrt(n)), \"точность δ = \",t1*sko_new/math.sqrt(n))\n",
    "print(\"Выводы при обоих случаях гаммы образуется небольшой Доверительный интервал в который попадает мат ожидание\")"
   ]
  },
  {
   "cell_type": "markdown",
   "id": "7ada4c56",
   "metadata": {},
   "source": [
    "# Задание 13\n",
    "Для вычисления границ доверительного интервала для среднеквадратичного отклонения определить значение 𝑞 при заданных 𝛾 и 𝑛.\n",
    "Построить доверительные интервалы, сделать выводы."
   ]
  },
  {
   "cell_type": "code",
   "execution_count": 260,
   "id": "53c221e8",
   "metadata": {},
   "outputs": [
    {
     "name": "stdout",
     "output_type": "stream",
     "text": [
      "Доверительный интервал для СКО при y = 0.95: (184.59937660337744, 276.89906490506615)\n",
      "Доверительный интервал для СКО при y = 0.99: (197.9828314071223, 263.5156101013213)\n"
     ]
    }
   ],
   "source": [
    "q1=0.142\n",
    "q2=0.2\n",
    "print(\"Доверительный интервал для СКО при y = 0.95:\", ((1-q2)*sko_new,(1+q2)*sko_new))\n",
    "print(\"Доверительный интервал для СКО при y = 0.99:\", ((1-q1)*sko_new,(1+q1)*sko_new))\n"
   ]
  },
  {
   "cell_type": "markdown",
   "id": "7b1c8179",
   "metadata": {},
   "source": [
    "## Выводы: \n",
    "В обоих случаях гаммы образуется небольшой доверительный интервал в который попадает СКО и исправленное СКО"
   ]
  },
  {
   "cell_type": "markdown",
   "id": "769cadfc",
   "metadata": {},
   "source": [
    "# Задание 14\n",
    "1)Проверить гипотезу о нормальности заданного распределения с помощью критерия 𝜒2\n",
    "(Пирсона). Для этого необходимо найти теоретические частоты и вычислить наблюдаемое значение критерия.\n",
    "Для удобства вычисления необходимо заполнить расчётную таблицу (в последней строке Σ необходимо записать сумму столбца)  \n",
    "2)Проконтролировать корректность вычисления 𝜒2\n",
    "набл. Далее по заданному уровню значимости 𝛼 = 0.05 и числу степеней свободы 𝑑𝑓\n",
    "найти критическую точку 𝜒2крит и сравнить с наблюдаемым значением. Сделать выводы."
   ]
  },
  {
   "cell_type": "code",
   "execution_count": 261,
   "id": "aa05ebf6",
   "metadata": {},
   "outputs": [
    {
     "data": {
      "text/html": [
       "<div>\n",
       "<style scoped>\n",
       "    .dataframe tbody tr th:only-of-type {\n",
       "        vertical-align: middle;\n",
       "    }\n",
       "\n",
       "    .dataframe tbody tr th {\n",
       "        vertical-align: top;\n",
       "    }\n",
       "\n",
       "    .dataframe thead th {\n",
       "        text-align: right;\n",
       "    }\n",
       "</style>\n",
       "<table border=\"1\" class=\"dataframe\">\n",
       "  <thead>\n",
       "    <tr style=\"text-align: right;\">\n",
       "      <th></th>\n",
       "      <th>(x(i-1);x(i)]</th>\n",
       "      <th>n(i)</th>\n",
       "      <th>p(i)</th>\n",
       "      <th>n'(i)</th>\n",
       "      <th>(n(i) - n'(i))^2</th>\n",
       "      <th>(n(i) - n'(i))^2/n'(i)</th>\n",
       "      <th>n(i)^2</th>\n",
       "      <th>n(i)^2/n'(i)</th>\n",
       "    </tr>\n",
       "  </thead>\n",
       "  <tbody>\n",
       "    <tr>\n",
       "      <th>0</th>\n",
       "      <td>(117.63499999999999, 248.528]</td>\n",
       "      <td>13</td>\n",
       "      <td>0.047320</td>\n",
       "      <td>4.826676</td>\n",
       "      <td>66.803226</td>\n",
       "      <td>13.840421</td>\n",
       "      <td>169</td>\n",
       "      <td>35.013745</td>\n",
       "    </tr>\n",
       "    <tr>\n",
       "      <th>1</th>\n",
       "      <td>(248.528, 378.381]</td>\n",
       "      <td>2</td>\n",
       "      <td>0.110902</td>\n",
       "      <td>11.312002</td>\n",
       "      <td>86.713384</td>\n",
       "      <td>7.665609</td>\n",
       "      <td>4</td>\n",
       "      <td>0.353607</td>\n",
       "    </tr>\n",
       "    <tr>\n",
       "      <th>2</th>\n",
       "      <td>(378.381, 508.234]</td>\n",
       "      <td>17</td>\n",
       "      <td>0.187748</td>\n",
       "      <td>19.150287</td>\n",
       "      <td>4.623733</td>\n",
       "      <td>0.241445</td>\n",
       "      <td>289</td>\n",
       "      <td>15.091158</td>\n",
       "    </tr>\n",
       "    <tr>\n",
       "      <th>3</th>\n",
       "      <td>(508.234, 638.087]</td>\n",
       "      <td>32</td>\n",
       "      <td>0.228627</td>\n",
       "      <td>23.319989</td>\n",
       "      <td>75.342588</td>\n",
       "      <td>3.230816</td>\n",
       "      <td>1024</td>\n",
       "      <td>43.910827</td>\n",
       "    </tr>\n",
       "    <tr>\n",
       "      <th>4</th>\n",
       "      <td>(638.087, 767.94]</td>\n",
       "      <td>16</td>\n",
       "      <td>0.200275</td>\n",
       "      <td>20.428008</td>\n",
       "      <td>19.607256</td>\n",
       "      <td>0.959822</td>\n",
       "      <td>256</td>\n",
       "      <td>12.531814</td>\n",
       "    </tr>\n",
       "    <tr>\n",
       "      <th>5</th>\n",
       "      <td>(767.94, 897.793]</td>\n",
       "      <td>15</td>\n",
       "      <td>0.126197</td>\n",
       "      <td>12.872114</td>\n",
       "      <td>4.527897</td>\n",
       "      <td>0.351760</td>\n",
       "      <td>225</td>\n",
       "      <td>17.479646</td>\n",
       "    </tr>\n",
       "    <tr>\n",
       "      <th>6</th>\n",
       "      <td>(897.793, 1027.646]</td>\n",
       "      <td>4</td>\n",
       "      <td>0.057192</td>\n",
       "      <td>5.833601</td>\n",
       "      <td>3.362094</td>\n",
       "      <td>0.576332</td>\n",
       "      <td>16</td>\n",
       "      <td>2.742731</td>\n",
       "    </tr>\n",
       "    <tr>\n",
       "      <th>7</th>\n",
       "      <td>(1027.646, 1157.499]</td>\n",
       "      <td>3</td>\n",
       "      <td>0.018637</td>\n",
       "      <td>1.900999</td>\n",
       "      <td>1.207804</td>\n",
       "      <td>0.635352</td>\n",
       "      <td>9</td>\n",
       "      <td>4.734354</td>\n",
       "    </tr>\n",
       "    <tr>\n",
       "      <th>sum</th>\n",
       "      <td>-</td>\n",
       "      <td>102</td>\n",
       "      <td>0.976899</td>\n",
       "      <td>99.643677</td>\n",
       "      <td>-</td>\n",
       "      <td>27.501557</td>\n",
       "      <td>-</td>\n",
       "      <td>131.857880</td>\n",
       "    </tr>\n",
       "  </tbody>\n",
       "</table>\n",
       "</div>"
      ],
      "text/plain": [
       "                     (x(i-1);x(i)]  n(i)      p(i)      n'(i)  \\\n",
       "0    (117.63499999999999, 248.528]    13  0.047320   4.826676   \n",
       "1               (248.528, 378.381]     2  0.110902  11.312002   \n",
       "2               (378.381, 508.234]    17  0.187748  19.150287   \n",
       "3               (508.234, 638.087]    32  0.228627  23.319989   \n",
       "4                (638.087, 767.94]    16  0.200275  20.428008   \n",
       "5                (767.94, 897.793]    15  0.126197  12.872114   \n",
       "6              (897.793, 1027.646]     4  0.057192   5.833601   \n",
       "7             (1027.646, 1157.499]     3  0.018637   1.900999   \n",
       "sum                              -   102  0.976899  99.643677   \n",
       "\n",
       "    (n(i) - n'(i))^2  (n(i) - n'(i))^2/n'(i) n(i)^2  n(i)^2/n'(i)  \n",
       "0          66.803226               13.840421    169     35.013745  \n",
       "1          86.713384                7.665609      4      0.353607  \n",
       "2           4.623733                0.241445    289     15.091158  \n",
       "3          75.342588                3.230816   1024     43.910827  \n",
       "4          19.607256                0.959822    256     12.531814  \n",
       "5           4.527897                0.351760    225     17.479646  \n",
       "6           3.362094                0.576332     16      2.742731  \n",
       "7           1.207804                0.635352      9      4.734354  \n",
       "sum                -               27.501557      -    131.857880  "
      ]
     },
     "execution_count": 261,
     "metadata": {},
     "output_type": "execute_result"
    }
   ],
   "source": [
    "import scipy\n",
    "p_i = []\n",
    "for i in range(len(s1)):\n",
    "    p_i.append(scipy.stats.norm.cdf((s1[\"int\"][i].right - xB_)/t3[\"и*(i)\"][2]**0.5) - scipy.stats.norm.cdf((s1[\"int\"][i].left - xB_)/t3[\"и*(i)\"][2]**0.5))\n",
    "n_corr = []\n",
    "for i in range(len(s1)):\n",
    "    n_corr.append(n*p_i[i])\n",
    "n_corr_1 = []\n",
    "for i in range(len(s1)):\n",
    "    n_corr_1.append((c[i]-n_corr[i])**2)\n",
    "n_corr_2 = []\n",
    "for i in range(len(s1)):\n",
    "    n_corr_2.append(((c[i]-n_corr[i])**2)/n_corr[i])\n",
    "n_corr_3 = []\n",
    "t4 = pd.DataFrame(columns=['(x(i-1);x(i)]', 'n(i)', 'p(i)', 'n\\'(i)', '(n(i) - n\\'(i))^2', '(n(i) - n\\'(i))^2/n\\'(i)', 'n(i)^2', 'n(i)^2/n\\'(i)'])\n",
    "t4[\"(x(i-1);x(i)]\"]=s1[\"int\"]\n",
    "t4['n(i)']=c\n",
    "t4[\"p(i)\"]=p_i\n",
    "t4['n\\'(i)']=n_corr\n",
    "t4['(n(i) - n\\'(i))^2']=n_corr_1\n",
    "t4['(n(i) - n\\'(i))^2/n\\'(i)']=n_corr_2\n",
    "t4['n(i)^2']=t4['n(i)']**2\n",
    "t4['n(i)^2/n\\'(i)']=t4['n(i)^2']/t4['n\\'(i)']\n",
    "t4.loc['sum'] = ['-', np.sum(t4['n(i)']), np.sum(t4['p(i)']), np.sum(t4['n\\'(i)']), '-', np.sum(t4['(n(i) - n\\'(i))^2/n\\'(i)']), '-', np.sum(t4['n(i)^2/n\\'(i)'])]\n",
    "t4"
   ]
  },
  {
   "cell_type": "code",
   "execution_count": 262,
   "id": "38c15104",
   "metadata": {},
   "outputs": [
    {
     "name": "stdout",
     "output_type": "stream",
     "text": [
      "𝜒2 наблюдаемый меньше критического.\n"
     ]
    }
   ],
   "source": [
    "Xi_square = t4['(n(i) - n\\'(i))^2/n\\'(i)']['sum']\n",
    "Xi_square_critical = scipy.stats.chi2.ppf(1 - 0.05, df=n-1)\n",
    "if Xi_square < Xi_square_critical:\n",
    "    print('𝜒2 наблюдаемый меньше критического.')\n",
    "else:\n",
    "    print('𝜒2 наблюдаемый больше критического.')"
   ]
  },
  {
   "cell_type": "markdown",
   "id": "7ff324f5",
   "metadata": {},
   "source": [
    "## Выводы:\n",
    "Поскольку 𝜒2 наблюдаемый < 𝜒2 критического тогда ,гипотезу принимаем"
   ]
  },
  {
   "cell_type": "markdown",
   "id": "6c226d58",
   "metadata": {},
   "source": [
    "## Выводы  \n",
    "В ходе проделанной лабораторной работы из генеральной совокупности была сформированна выборочная совокупность, на основе ее был построен ранжированный, вариационный и интервальный ряды, построен полин, гистограмма и эмпирическую функцая для абсолютных и относительных погрешностей, с помощью использования условных вариант, найдены условные эпмирические моменты и условные центральные моменты, было найдено выборочное среднее и дисперсия двумя способами. А также ,найдено исправленное СКО, коэффициент асимметрии и эксцесса, мода, медиана и коэффициент вариации. Найдены доверительные интервалы для математического ожидания и среднеквадратичного отклонения. Проверили гипотезу о нормальном распределении"
   ]
  },
  {
   "cell_type": "code",
   "execution_count": null,
   "id": "243bef60",
   "metadata": {},
   "outputs": [],
   "source": []
  }
 ],
 "metadata": {
  "kernelspec": {
   "display_name": "Python 3 (ipykernel)",
   "language": "python",
   "name": "python3"
  },
  "language_info": {
   "codemirror_mode": {
    "name": "ipython",
    "version": 3
   },
   "file_extension": ".py",
   "mimetype": "text/x-python",
   "name": "python",
   "nbconvert_exporter": "python",
   "pygments_lexer": "ipython3",
   "version": "3.10.1"
  }
 },
 "nbformat": 4,
 "nbformat_minor": 5
}
