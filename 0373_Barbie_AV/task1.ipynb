{
  "cells": [
    {
      "cell_type": "markdown",
      "id": "e375bacb",
      "metadata": {
        "id": "e375bacb"
      },
      "source": [
        "# Практическая работа №1: Формирование и первичная обработка выборки. Нахождение и точечных и интервальных оценок. Проверка статистических гипотез.\n",
        "Выполнил студент гр. 0373 Барбие Анастасия. Вариант №2 \n"
      ]
    },
    {
      "cell_type": "markdown",
      "id": "cfb94134",
      "metadata": {
        "id": "cfb94134"
      },
      "source": [
        "## Цель работы\n",
        "Ознакомление с основными правилами формирования выборки и подготовки выборочных данных к статистическому анализу. Получение практических навыков нахождения точечных статистических оценок параметров распределения, а также вычисления интервальных статистических оценок параметров распределения выборочных данных и проверки\n",
        "«справедливости» статистических гипотез.\n",
        "\n"
      ]
    },
    {
      "cell_type": "markdown",
      "id": "b965d80b",
      "metadata": {
        "id": "b965d80b"
      },
      "source": [
        "## Основные теоретические положения\n",
        "Выборка — совокупность случайно отобранных объектов. Объем = n.\n",
        "\n",
        "$x_{i}$ - варианты, $n_{i}$ - абсолютные частоты (веса), $p_{i}^{*}$ - относительные частоты.\n",
        "\n",
        "Генеральная совокупность - совокупность объектов, из которых была произведена выборка. Объем N\n",
        "\n",
        "Ранжированный ряд - расположение единиц совокупности в порядке возрастания или убывания выбранного признака.\n",
        "\n",
        "Вариационный ряд -  ранжированный ряд распределения по величине какого-либо признака.\n",
        "\n",
        "Интервальный вариационный ряд - весь промежуток измерения значений выборки $[x_{min},x_{max}]$ разбивают на частичные интервалы\n",
        "\n",
        "Выборочное среднее - среднее арифметическое значений признака выборочной совокупности: $\\overline{x_{B}}=\\frac{1}{n}\\sum_{i=1}^{n}x_{i}=\\sum_{i=1}^{k}\\frac{x_{i}n_{i}}{n}=\\sum_{i=1}^{k}x_{i}p_{i}^{*}$\n",
        "\n",
        "Формула Стерджеса для определения количества интервалов: $k=1+log_{2}n$\n",
        "\n",
        "Нахождение длины интервала: $h=\\frac{R}{k}$\n",
        "\n",
        "R - размах выборки: $R=x_{max}-x_{min}$\n",
        "\n",
        "Абсолютные частоты - это количество раз, когда каждый элемент статистического обзора встречается - $n_{i}$\n",
        "\n",
        "Относительные частоты - отношение числа испытаний, в которых событие появилось, к общему числу фактически произведенных испытаний - $p_{i}^{*}=\\frac{n_{i}}{n}$\n",
        "\n",
        "Полигон частот - ломанная линия, соединяющая точки дискретного ряда\n",
        "\n",
        "Полигон относительных частот - ломаная линия,соединяющая точки дискретного ряда $(x_{1},p_{1}^{*}),(x_{2},p_{1}^{*})... (x_{k},p_{1}^{*})$\n",
        "\n",
        "Гистограмма частот - ступенчатая фигура, состоящая из прямоугольников, основанием которых является частичные интервалы, а высоты равны $f_{i}^{*}=\\frac{n_{i}^{*}}{h}$\n",
        "\n",
        "Гистограмма относительных частот - ступенчатая фигура, состоящая из прямоугольников, основанием которых является частичные интервалы, а высоты равны $f_{i}^{*}=\\frac{p_{i}^{*}}{h}$\n",
        "\n",
        "Эмпирическая функция распределения - Функция $F^{*}(x)$, задающая для каждого значения х относительную частоту события ${X<x}$: $F^{*}(x)=\\frac{n_{x}}{n} $ где $n_{x}$ - число выборочных значений величины X, меньших x. \n",
        "\n",
        "Накопленная абсолютная частота - число наблюдений, при которых наблюдалось значение признака, меньшее $х_{i}$\n",
        "\n",
        "Накопленные относительные частоты - отношениче накопленной частоты к общему чисоу наблюдений: $p_{i}^{\\sum}= \\frac{n_{i}^{\\sum}}{n}$\n",
        "\n",
        "Условные варианты - варианты, определяемые равенством $u_{i}=\\frac{x_{i}-C}{h}$Б где С - ложный ноль, h - шаг\n",
        "\n",
        "Формула контроля: $\\sum_{i=1}^{k}n_{i}(u_{i}+1)^4=\\sum_{i=1}^{k}n_{i}u_{i}^4+4\\sum_{i=1}^{k}n_{i}u_{i}^3+6\\sum_{i=1}^{k}n_{i}u_{i}^2+4\\sum_{i=1}^{k}n_{i}u_{i}+n$\n",
        "\n",
        "Обычный эмпирический момент порядка r* - среднее значение r-ых степеней разностей $x_{i}-C$: $\\nu_{r}^{'}=\\frac{1}{n}\\sum_{i=1}^{k}n_{i}(x_{i}-C)^r$\n",
        "\n",
        "Начальный эмпирический момент порядка r - обычный момент порядка r при C=0: $\\nu_{r}=\\frac{1}{n}\\sum_{i=1}^{k}n_{i}x_{i}^{r}$\n",
        "Начальный эмпирический момент 1 порядка - выборочное среднее\n",
        "\n",
        "Центральный эмпирический момент порядка r - обычный момент r при $C=\\overline{x_{B}}$: $\\mu_{r}^{*}=\\frac{1}{n}\\sum_{i=1}^{k}n_{i}(x_{i}-\\overline{x_{B}})^r$\n",
        "\n",
        "$\\mu_{1}^{*}=0$\n",
        "\n",
        "$\\mu_{2}^{*}=(\\nu_{2}^{*}-(\\nu_{1}^{*})^2)h^2$\n",
        "\n",
        "$\\mu_{3}^{*}=(\\nu_{3}^{*}-3\\nu_{2}^{*}\\nu_{1}^{*}+2(\\nu_{1}^{*})^3)h^3$\n",
        "\n",
        "$\\mu_{4}^{*}=(\\nu_{4}^{*}-4\\nu_{3}^{*}\\nu_{1}^{*}+6\\nu_{2}^{*}(\\nu_{1}^{*})^2-3(\\nu_{1}^{*})^4)h^4$\n",
        "\n",
        "Условный эмпирический момент порядка r - начальный момент порядка r, вычисленный для условных вариант: $\\nu_{r}^{*}=\\frac{1}{n}\\sum_{i=1}^{k}n_{i}x_{i}^{r}=\\frac{1}{n}\\sum_{i=1}^{k}n_{i}(\\frac{x_{i}-C}{h})^r$\n",
        "\n",
        "Выборочная дисперсия - среднее арифметическое квадратов отклонений наблюдаемых значений признака от из средних значений $\\overline{x_{B}}$ : $\\sigma_{B}^{2}=\\frac{1}{n}\\sum_{i=1}^{n}(x_{i}-\\overline{x_{B}})^2=\\sum_{i=1}^{k}\\frac{(x_{i}-\\overline{x_{B}})^2n_{i}}{n}=\\sum_{i=1}^{k}(x_{i}-\\overline{x_{B}})^2p_{i}^{*}$\n",
        "    \n",
        "Выборочное СКО*: $\\sigma_{B}=\\sqrt{\\sigma_{B}^{2}}$\n",
        "\n",
        "Исправленная выборочная дисперсия: $s^2=\\frac{n}{n-1}\\sigma_{B}^{2}$. \n",
        "\n",
        "Исправленное СКО: $s=\\sqrt{s^2}$\n",
        "\n",
        "Коэффициент ассиметрии: $a_{s}^{*}=\\frac{\\mu_{3}^{8}}{\\sigma_{B}^{3}}$\n",
        "\n",
        "Коэффициент экцесса: $\\varepsilon_{k}^{*}=\\frac{\\mu_{4}^{*}}{\\sigma_{B}^{4}}-3$\n",
        "\n",
        "Мода вариационного ряда - такое значение варианты, которой соответствует наибольшая частота. \n",
        "\n",
        "Мода $M_{o}^{*}$ интервального ряда - число, заключённое в частичном интервале, которому соответсвует наибольшая частота. $M_{o}^{*}=x_{M_{o}}^{(0)}+h\\frac{n_{M_{o}}-n_{M_{o}-1}}{(n_{M_{o}}-n_{M_{o}-1})+(n_{M_{o}}-n_{M_{o}+1})}$, где $n_{M_{o}}$ - частота, модального интервала, $n_{M_{o}-1}$ - частота, соответствующая предыдущему интервалу, $n_{M_{o}+1}$ - частота, соответствующая следующему интервалу, $x_{M_{o}}^{(0)}$ - варианта, соответствующая среднему значению интервала наибольшей частоты\n",
        "    \n",
        "Медиана вариационного ряда - значение признака, приходящееся на середину ранжированного ряда наблюдений. \n",
        "\n",
        "Медиана $M_{e}^{*}$интервального ряд - число, принадлежащее частичному интервалу, для которого накопленная частота состовляет половину или больше половины всей суммы частот, а предыдущая накопленная частота меньше половины всей суммы частот. $M_{e}^{*}=x_{M_{e}}^{(0)}+\\frac{h}{p_{M_{e}}^{*}}(0,5 - p\\sum_{M_{e}-1})$, где $p_{M_{e}}^{*}$ - относительная частота медианного интервала, $p\\sum_{M_{e}-1}$ - накопленная относительная частота, соответствующая предыдущему частичному интервалу,  $x_{M_{e}}^{(0)}$ - варианта, соответствующая среднему значению интервала, для которого накопленная частота состовляет половину или больше половины всей суммы частот, а предыдущая накопленная частота меньше половины всей суммы частот\n",
        "\n",
        "Доверительный интервал для оценки неизвестного МО при неизвестном $\\sigma$, но известном объёме генеральной совокупности N и доверительной надёжности $\\gamma$: $(\\overline{x_{B}}-\\frac{t_{\\gamma}s}{\\sqrt{n}}\\sqrt{1-\\frac{n}{N}};\\overline{x_{B}}+\\frac{t_{\\gamma}s}{\\sqrt{n}}\\sqrt{1-\\frac{n}{N}})$\n",
        "    \n",
        "Доверительный интервал для оценки генерального СКО:\n",
        "\n",
        "$(s(1-q);s(1+q))$, если q<1; \n",
        "\n",
        "$(0;s(1+q))$, если q>1    \n",
        "\n",
        "Статистическая гипотеза - любое предположение о генеральной совокупности, проверяемое по выборке.\n",
        "\n",
        "Статистический критерий проверки основной гипотезы - правило, по которому принимается решение принять или отклонить гипотезу.\n",
        "\n",
        "Теоретические частоты - частоты, которые находятся по формуле $n_{i}^{'}=np_{i}$, где n - объём выборки,$p_{i}$ - точечная вероятность варианты $x_{i}$ дискретной случайной величины или интервальная вероятность для варианты $x\\in(x_{i-1};x_{i})$ непрерывной случайной величины.\n",
        "\n",
        "$\\chi_{nab}^{2}=\\sum_{i=1}^{k}\\frac{(n_{i}-n_{i}^{'})^2}{n_{i}{'}}=\\sum_{i=1}^{k}\\frac{n_{i}^{2}}{n_{i}^{'}}-n$\n",
        "\n",
        "$\\chi_{kr}^{2}=\\chi^{2}(\\alpha, df)$, где $\\alpha$ - заданный уровень значимости, $df=k-r-1$ - число степеней свободы, где k - число частичных интервалов выборки, r -  число параметров дифференциальной функции распределения.\n",
        "    "
      ]
    },
    {
      "cell_type": "markdown",
      "id": "fc6682f6",
      "metadata": {
        "id": "fc6682f6"
      },
      "source": [
        "## Постановка задачи\n",
        "Осуществить формирование репрезентативной выборки заданного объема из имеющейся генеральной совокупности экспериментальных данных.\n",
        "Осуществить последовательное преобразование полученной выборки в\n",
        "ранжированный, вариационный и интервальный ряды. Применительно\n",
        "к интервальному ряду построить и отобразить графически полигон, гистограмму и эмпирическую функцию распределения для абсолютных и\n",
        "относительных частот. Для заданных выборочных данных вычислить с\n",
        "использованием метода моментов и условных вариант точечные статистические оценки математического ожидания, дисперсии, среднеквадратичного отклонения, асимметрии, эксцесса, моды, медианы и коэффициента вариации исследуемой случайной величины. Для заданной надёжности определить границы доверительных интервалов для матема1\n",
        "тического ожидания и среднеквадратичного отклонения случайной величины. Проверить гипотезу о нормальном распределении исследуемой\n",
        "случайной величины с помощью критерия Пирсона 𝜒\n",
        "2\n",
        ". Полученные результаты содержательно проинтерпретировать.\n"
      ]
    },
    {
      "cell_type": "markdown",
      "id": "b0aaf788",
      "metadata": {
        "id": "b0aaf788"
      },
      "source": [
        "## Выполнение работы"
      ]
    },
    {
      "cell_type": "markdown",
      "id": "73c5dffd",
      "metadata": {
        "id": "73c5dffd"
      },
      "source": [
        "## Задание 1\n",
        "Из генеральной совокупности сформировать выборку заданного объёма в соответствии с полученным от преподавателя номером. Указать, какого вида выборка получилась.\n"
      ]
    },
    {
      "cell_type": "code",
      "execution_count": 1,
      "id": "b36fcfeb",
      "metadata": {
        "id": "b36fcfeb",
        "colab": {
          "base_uri": "https://localhost:8080/"
        },
        "outputId": "1d4464cd-79a3-4bcc-b8e9-03080e2f97ac"
      },
      "outputs": [
        {
          "output_type": "stream",
          "name": "stdout",
          "text": [
            "[480, 510, 411, 449, 453, 331, 503, 386, 486, 419, 344, 392, 340, 440, 351, 468, 474, 418, 421, 465, 593, 522, 437, 458, 394, 541, 441, 397, 458, 422, 421, 576, 446, 597, 514, 376, 371, 480, 429, 481, 576, 431, 423, 544, 448, 382, 430, 434, 464, 591, 434, 436, 447, 501, 352, 377, 353, 382, 475, 408, 340, 437, 388, 517, 453, 453, 438, 453, 451, 458, 437, 461, 493, 460, 479, 457, 465, 390, 454, 464, 448, 510, 403, 514, 482, 320, 545, 542, 418, 496, 440, 463, 504] \n",
            "Была осуществлена механическая выборка\n"
          ]
        }
      ],
      "source": [
        "from collections import Counter\n",
        "from collections import defaultdict\n",
        "import math\n",
        "import numpy as np\n",
        "import seaborn as sns\n",
        "from prettytable import PrettyTable\n",
        "import matplotlib.pyplot as plt\n",
        "import scipy.stats\n",
        "\n",
        "sel1 = [480, 510, 411, 449, 453, 331, 503, 386, 486, 419, 344, 392, 340, 440, 351, 468, 474, 418, 421, 465, 593, \n",
        "522, 437, 458, 394, 541, 441, 397, 458, 422, 421, 576, 446, 597, 514, 376, 371, 480, 429, 481, 576, 431, 423, 544, 448, \n",
        "382, 430, 434, 464, 591, 434, 436, 447, 501, 352, 377, 353, 382, 475, 408, 340, 437, 388, 517, 453, 453, 438, 453, 451, \n",
        "458, 437, 461, 493, 460, 479, 457, 465, 390, 454, 464, 448, 510, 403, 514, 482, 320, 545, 542, 418, 496, 440, 463, 504]\n",
        "print(sel1, '\\nБыла осуществлена механическая выборка')"
      ]
    },
    {
      "cell_type": "markdown",
      "id": "9b6532c3",
      "metadata": {
        "id": "9b6532c3"
      },
      "source": [
        "Из генеральной совокупности, предоставленной в moodle была реализована механическая выборка. Для дальнейшей работы выбран столбец \"вес\"."
      ]
    },
    {
      "cell_type": "markdown",
      "id": "1893bec3",
      "metadata": {
        "id": "1893bec3"
      },
      "source": [
        "## Задание 2\n",
        "Последовательно преобразовать выборку в ранжированный, вариационный и интервальный ряды. Результаты содержательно проинтерпретировать.\n"
      ]
    },
    {
      "cell_type": "code",
      "execution_count": 2,
      "id": "77cfe2ba",
      "metadata": {
        "id": "77cfe2ba",
        "colab": {
          "base_uri": "https://localhost:8080/"
        },
        "outputId": "6c50063d-b999-4d54-ab2f-cba0c1d10419"
      },
      "outputs": [
        {
          "output_type": "stream",
          "name": "stdout",
          "text": [
            "\n",
            "Ранжированный ряд:\n",
            " [320, 331, 340, 340, 344, 351, 352, 353, 371, 376, 377, 382, 382, 386, 388, 390, 392, 394, 397, 403, 408, 411, 418, 418, 419, 421, 421, 422, 423, 429, 430, 431, 434, 434, 436, 437, 437, 437, 438, 440, 440, 441, 446, 447, 448, 448, 449, 451, 453, 453, 453, 453, 454, 457, 458, 458, 458, 460, 461, 463, 464, 464, 465, 465, 468, 474, 475, 479, 480, 480, 481, 482, 486, 493, 496, 501, 503, 504, 510, 510, 514, 514, 517, 522, 541, 542, 544, 545, 576, 576, 591, 593, 597]\n",
            "\n",
            "Вариационный ряд:\n",
            "320 : 1\n",
            "331 : 1\n",
            "340 : 2\n",
            "344 : 1\n",
            "351 : 1\n",
            "352 : 1\n",
            "353 : 1\n",
            "371 : 1\n",
            "376 : 1\n",
            "377 : 1\n",
            "382 : 2\n",
            "386 : 1\n",
            "388 : 1\n",
            "390 : 1\n",
            "392 : 1\n",
            "394 : 1\n",
            "397 : 1\n",
            "403 : 1\n",
            "408 : 1\n",
            "411 : 1\n",
            "418 : 2\n",
            "419 : 1\n",
            "421 : 2\n",
            "422 : 1\n",
            "423 : 1\n",
            "429 : 1\n",
            "430 : 1\n",
            "431 : 1\n",
            "434 : 2\n",
            "436 : 1\n",
            "437 : 3\n",
            "438 : 1\n",
            "440 : 2\n",
            "441 : 1\n",
            "446 : 1\n",
            "447 : 1\n",
            "448 : 2\n",
            "449 : 1\n",
            "451 : 1\n",
            "453 : 4\n",
            "453 : 4\n",
            "454 : 1\n",
            "457 : 1\n",
            "458 : 3\n",
            "460 : 1\n",
            "461 : 1\n",
            "463 : 1\n",
            "464 : 2\n",
            "465 : 2\n",
            "468 : 1\n",
            "474 : 1\n",
            "475 : 1\n",
            "479 : 1\n",
            "480 : 2\n",
            "481 : 1\n",
            "482 : 1\n",
            "486 : 1\n",
            "493 : 1\n",
            "496 : 1\n",
            "501 : 1\n",
            "503 : 1\n",
            "504 : 1\n",
            "510 : 2\n",
            "514 : 2\n",
            "517 : 1\n",
            "522 : 1\n",
            "541 : 1\n",
            "542 : 1\n",
            "544 : 1\n",
            "545 : 1\n",
            "576 : 2\n",
            "591 : 1\n",
            "593 : 1\n",
            "597 : 1\n",
            "\n",
            "Интервальный ряд:\n",
            "[[320, 354.625], [354.625, 389.25], [389.25, 423.875], [423.875, 458.5], [458.5, 493.125], [493.125, 527.75], [527.75, 562.375], [562.375, 597.0]] \n",
            " [8, 7, 14, 28, 17, 10, 4, 5]\n"
          ]
        }
      ],
      "source": [
        "sel = sorted(sel1)\n",
        "print('\\nРанжированный ряд:\\n', sel) #записывает выборку в порядке неубывания\n",
        "\n",
        "counter = defaultdict(int)\n",
        "for elem in sel:\n",
        "    counter[elem] += 1\n",
        "for elem in sel:\n",
        "    if counter[elem]>1: sel.remove(elem)\n",
        "        \n",
        "print('\\nВариационный ряд:')\n",
        "for elem in sel: print(elem, ':', counter[elem])\n",
        "\n",
        "F= max(sel1)-min(sel1)\n",
        "k=round(1+math.log2(len(sel1)))\n",
        "h=F/k\n",
        "ni=0\n",
        "x0=min(sel1)\n",
        "print('\\nИнтервальный ряд:')\n",
        "\n",
        "nk=[]\n",
        "g=0\n",
        "sel2=[]\n",
        "xv0=[]\n",
        "xvi=[]\n",
        "sr=[] #среднее знач\n",
        "while x0<max(sel1):\n",
        "    xi=x0+h\n",
        "    xv0.append(x0)\n",
        "    xvi.append(xi)\n",
        "    sr.append((xi+x0)/2) #среднее значение интервального ряда\n",
        "    sel2.append([x0, xi])\n",
        "    x0+=h\n",
        "x0=320\n",
        "xi=x0+h\n",
        "w=[]\n",
        "while xi<=597:\n",
        "    for elem in sel1: \n",
        "        if (elem<=xi)&(elem>=x0): g += 1\n",
        "    x0+=h\n",
        "    xi+=h \n",
        "    nk.append(g)\n",
        "    w.append(g/93) #относительная частота\n",
        "    g=0\n",
        "    \n",
        "print(sel2, '\\n', nk)"
      ]
    },
    {
      "cell_type": "markdown",
      "id": "cb42297b",
      "metadata": {
        "id": "cb42297b"
      },
      "source": [
        "## Задание 3\n",
        "Для интервального ряда абсолютных частот построить и отобразить графически полигон, гистограмму и эмпирическую функцию.\n",
        "Сделать выводы."
      ]
    },
    {
      "cell_type": "code",
      "execution_count": 3,
      "id": "170633ec",
      "metadata": {
        "id": "170633ec",
        "colab": {
          "base_uri": "https://localhost:8080/",
          "height": 941
        },
        "outputId": "9e909a44-9c38-4ba2-a2a9-d49a9d47bbe5"
      },
      "outputs": [
        {
          "output_type": "display_data",
          "data": {
            "text/plain": [
              "<Figure size 432x288 with 1 Axes>"
            ],
            "image/png": "[encoded data removed]"
          },
          "metadata": {
            "needs_background": "light"
          }
        },
        {
          "output_type": "display_data",
          "data": {
            "text/plain": [
              "<Figure size 360x360 with 1 Axes>"
            ],
            "image/png": "[encoded data removed]"
          },
          "metadata": {
            "needs_background": "light"
          }
        },
        {
          "output_type": "display_data",
          "data": {
            "text/plain": [
              "<Figure size 432x288 with 1 Axes>"
            ],
            "image/png": "[encoded data removed]"
          },
          "metadata": {
            "needs_background": "light"
          }
        }
      ],
      "source": [
        "plt.figure()\n",
        "plt.plot(sr, nk) \n",
        "plt.title('Полигон абсолютных частот')\n",
        "plt.xlabel('Интервал')\n",
        "plt.ylabel('Частота')\n",
        "plt.grid()\n",
        "plt.show()\n",
        "\n",
        "sns.displot(sel1, kde = False, bins = 8)\n",
        "plt.title('Гисторгамма абсолютных частот')\n",
        "plt.ylabel('Частота')\n",
        "plt.xlabel('Элементы')\n",
        "plt.grid()\n",
        "plt.show()\n",
        "\n",
        "\n",
        "hi=[0]*k\n",
        "for i in range(8):\n",
        "    hi[i]=hi[i-1]+nk[i]\n",
        "    plt.hlines(hi[i], xv0[i], xvi[i])\n",
        "plt.title('Эмпирическая функция')\n",
        "plt.grid()\n",
        "plt.show()"
      ]
    },
    {
      "cell_type": "markdown",
      "id": "4e443562",
      "metadata": {
        "id": "4e443562"
      },
      "source": [
        "Вывод: при помощи полигона можно определить, что элемент с наибольшей частотой находится в промежутке [423.875, 458.5]. По графикам невозможно определить распределение выборки."
      ]
    },
    {
      "cell_type": "markdown",
      "id": "1398ebb9",
      "metadata": {
        "id": "1398ebb9"
      },
      "source": [
        "## Задание 4\n",
        "Аналогичные действия выполнить для интервального ряда относительных частот. Сравнить результаты и сделать выводы.\n"
      ]
    },
    {
      "cell_type": "code",
      "execution_count": 9,
      "id": "582d2f29",
      "metadata": {
        "id": "582d2f29",
        "scrolled": true,
        "colab": {
          "base_uri": "https://localhost:8080/",
          "height": 837
        },
        "outputId": "9b320c6d-4ebd-4e4e-bf7b-1213b8948523"
      },
      "outputs": [
        {
          "output_type": "display_data",
          "data": {
            "text/plain": [
              "<Figure size 432x288 with 1 Axes>"
            ],
            "image/png": "[encoded data removed]"
          },
          "metadata": {
            "needs_background": "light"
          }
        },
        {
          "output_type": "display_data",
          "data": {
            "text/plain": [
              "<Figure size 432x288 with 1 Axes>"
            ],
            "image/png": "[encoded data removed]"
          },
          "metadata": {
            "needs_background": "light"
          }
        },
        {
          "output_type": "display_data",
          "data": {
            "text/plain": [
              "<Figure size 432x288 with 1 Axes>"
            ],
            "image/png": "[encoded data removed]"
          },
          "metadata": {
            "needs_background": "light"
          }
        }
      ],
      "source": [
        "plt.figure()\n",
        "plt.plot(sr,w) \n",
        "plt.title('Полигон относительных частот')\n",
        "plt.xlabel('Интервал')\n",
        "plt.ylabel('Частота')\n",
        "plt.grid()\n",
        "plt.show()\n",
        "\n",
        "hi=[0]*k\n",
        "for i in range(8):\n",
        "    hi[i]=hi[i-1]+nk[i]/93\n",
        "    plt.hlines(hi[i], xv0[i], xvi[i])\n",
        "plt.title('Эмпирическая функция')\n",
        "plt.grid()\n",
        "plt.show()\n",
        "\n",
        "sns.distplot(sel1, kde=False, norm_hist=True, bins = 8)\n",
        "plt.title('Гистограмма относительных частот')\n",
        "plt.xlabel('Интервал')\n",
        "plt.ylabel('Частоты')\n",
        "plt.grid()\n",
        "plt.show()"
      ]
    },
    {
      "cell_type": "markdown",
      "id": "4da2e70a",
      "metadata": {
        "id": "4da2e70a"
      },
      "source": [
        "Вывод: графики относительных частот визуально идентичны графикам из пункта №3. "
      ]
    },
    {
      "cell_type": "markdown",
      "id": "70feda29",
      "metadata": {
        "id": "70feda29"
      },
      "source": [
        "## Задание 5\n",
        "Для интервального ряда найти середины интервалов, а также накопленные частоты. Результаты представить в виде таблицы (в последней строке Σ необходимо записать сумму столбца):"
      ]
    },
    {
      "cell_type": "code",
      "execution_count": 10,
      "id": "4d35708e",
      "metadata": {
        "id": "4d35708e",
        "colab": {
          "base_uri": "https://localhost:8080/"
        },
        "outputId": "dd47a059-abe7-41b4-aba4-8808062e7ba7"
      },
      "outputs": [
        {
          "output_type": "stream",
          "name": "stdout",
          "text": [
            "+---+-------------------+----------+------+--------+------------+-------------+\n",
            "| i |   [x(i-1);x(i)]   |  x(ср)   | n(i) | p*(i)  | Сумма n(i) | Сумма p*(i) |\n",
            "+---+-------------------+----------+------+--------+------------+-------------+\n",
            "| 1 |   [320, 354.625]  | 337.3125 |  8   | 0.086  |     8      |    0.086    |\n",
            "| 2 | [354.625, 389.25] | 371.9375 |  7   | 0.0753 |     15     |    0.1613   |\n",
            "| 3 | [389.25, 423.875] | 406.5625 |  14  | 0.1505 |     29     |    0.3118   |\n",
            "| 4 |  [423.875, 458.5] | 441.1875 |  28  | 0.3011 |     57     |    0.6129   |\n",
            "| 5 |  [458.5, 493.125] | 475.8125 |  17  | 0.1828 |     74     |    0.7957   |\n",
            "| 6 | [493.125, 527.75] | 510.4375 |  10  | 0.1075 |     84     |    0.9032   |\n",
            "| 7 | [527.75, 562.375] | 545.0625 |  4   | 0.043  |     88     |    0.9462   |\n",
            "| 8 |  [562.375, 597.0] | 579.6875 |  5   | 0.0537 |     93     |    0.9999   |\n",
            "|   |       СУММА       |          |  93  | 0.9999 |            |             |\n",
            "+---+-------------------+----------+------+--------+------------+-------------+ \n",
            "\n",
            "\n"
          ]
        }
      ],
      "source": [
        "from prettytable import PrettyTable\n",
        "t = PrettyTable(['i', '[x(i-1);x(i)]', 'x(ср)', 'n(i)', 'p*(i)', 'Сумма n(i)', 'Сумма p*(i)'])\n",
        "snk=0\n",
        "sw=0\n",
        "w[7]=0.0537\n",
        "sump=[0, 0, 0, 0, 0, 0, 0, 0]\n",
        "for k in range(0, 8):\n",
        "    sump[k]=sump[k-1]+w[k]\n",
        "    snk+=nk[k]\n",
        "    t.add_rows([[k+1, sel2[k], sr[k], nk[k], round(w[k], 4), snk, round(sump[k],4)]])\n",
        "    sw+=w[k]\n",
        "t.add_rows([ ['', 'СУММА', '', snk, round(sw,4), '', '']])\n",
        "print(t, '\\n\\n')"
      ]
    },
    {
      "cell_type": "markdown",
      "id": "8f9d20c7",
      "metadata": {
        "id": "8f9d20c7"
      },
      "source": [
        "## Задание 6\n",
        "Для полученных вариант вычислить условные варианты. Заполнить расчётную таблицу (в последней строке Σ необходимо записать сумму столбца). Проконтролировать корректность вычислений."
      ]
    },
    {
      "cell_type": "code",
      "execution_count": 11,
      "id": "441d86fd",
      "metadata": {
        "id": "441d86fd",
        "colab": {
          "base_uri": "https://localhost:8080/"
        },
        "outputId": "1b90300c-95db-4451-f325-61c30569eb0e"
      },
      "outputs": [
        {
          "output_type": "stream",
          "name": "stdout",
          "text": [
            "+---+----------+------+------+-----+------+------+------+----------+\n",
            "| i |  x(ср)   | n(i) | u(i) |  un | u^2n | u^3n | u^4n | n(u+1)^4 |\n",
            "+---+----------+------+------+-----+------+------+------+----------+\n",
            "| 1 | 337.3125 |  8   |  -3  | -24 |  72  | -216 | 648  |   128    |\n",
            "| 2 | 371.9375 |  7   |  -2  | -14 |  28  | -56  | 112  |    7     |\n",
            "| 3 | 406.5625 |  14  |  -1  | -14 |  14  | -14  |  14  |    0     |\n",
            "| 4 | 441.1875 |  28  |  0   |  0  |  0   |  0   |  0   |    28    |\n",
            "| 5 | 475.8125 |  17  |  1   |  17 |  17  |  17  |  17  |   272    |\n",
            "| 6 | 510.4375 |  10  |  2   |  20 |  40  |  80  | 160  |   810    |\n",
            "| 7 | 545.0625 |  4   |  3   |  12 |  36  | 108  | 324  |   1024   |\n",
            "| 8 | 579.6875 |  5   |  4   |  20 |  80  | 320  | 1280 |   3125   |\n",
            "|   |  СУММА   |  93  |  -   |  17 | 287  | 239  | 2555 |   5394   |\n",
            "+---+----------+------+------+-----+------+------+------+----------+\n",
            "Проверка:\n",
            "5394\n"
          ]
        }
      ],
      "source": [
        "p = PrettyTable(['i', 'x(ср)', 'n(i)', 'u(i)', 'un', 'u^2n', 'u^3n', 'u^4n', 'n(u+1)^4'])\n",
        "u=[0, 0, 0, 0, 0, 0, 0, 0]\n",
        "u[3]=0\n",
        "su1=0\n",
        "su2=0\n",
        "su3=0\n",
        "su4=0\n",
        "su5=0\n",
        "\n",
        "for k in range(0, 8):\n",
        "    if k<3: u[k]=k-3\n",
        "    if k>3: u[k]=k-3\n",
        "    su1+=u[k]*nk[k]\n",
        "    su2+=(u[k]**2)*nk[k]\n",
        "    su3+=(u[k]**3)*nk[k]\n",
        "    su4+=(u[k]**4)*nk[k]\n",
        "    su5+=((u[k]+1)**4)*nk[k]\n",
        "    p.add_rows([ [k+1, sr[k], nk[k], u[k], u[k]*nk[k], (u[k]**2)*nk[k], (u[k]**3)*nk[k], (u[k]**4)*nk[k], ((u[k]+1)**4)*nk[k]]])\n",
        "p.add_rows([ ['', 'СУММА', snk, '-', su1, su2, su3, su4, su5]])\n",
        "print(p)\n",
        "\n",
        "print('Проверка:')\n",
        "check=0\n",
        "for k in range(0, 8):\n",
        "    check+=((u[k]+1)**4)*nk[k]\n",
        "print(check)"
      ]
    },
    {
      "cell_type": "markdown",
      "id": "e3f3d0bb",
      "metadata": {
        "id": "e3f3d0bb"
      },
      "source": [
        "Вывод: результат проверки совпал со значением суммы всех (ui+1)^4_ni. Вычисления выполнены без ошибок."
      ]
    },
    {
      "cell_type": "markdown",
      "id": "5eb67852",
      "metadata": {
        "id": "5eb67852"
      },
      "source": [
        "## Задание 7\n",
        "Вычислить условные эмпирические моменты 𝜈*i через условные варианты. С помощью условных эмпирических моментов вычислить\n",
        "центральные эмпирические моменты 𝜇*𝑖. Полученные результаты занести в таблицу"
      ]
    },
    {
      "cell_type": "code",
      "execution_count": 12,
      "id": "24accf42",
      "metadata": {
        "id": "24accf42",
        "colab": {
          "base_uri": "https://localhost:8080/"
        },
        "outputId": "191755e4-c81f-4db4-d43d-9a484784c830"
      },
      "outputs": [
        {
          "output_type": "stream",
          "name": "stdout",
          "text": [
            "-3.0012707581227183\n",
            "+---+-----------------------+-------------------------+\n",
            "| i | Усл. эмпирич. моменты | Центр. эмпирич. моменты |\n",
            "+---+-----------------------+-------------------------+\n",
            "| 1 |   0.1827956989247312  |            0            |\n",
            "| 2 |   3.086021505376344   |    3659.742199242687    |\n",
            "| 3 |   2.5698924731182795  |    36935.93442584418    |\n",
            "| 4 |   27.473118279569892  |    37671800.77192142    |\n",
            "+---+-----------------------+-------------------------+\n"
          ]
        }
      ],
      "source": [
        "\n",
        "moment = PrettyTable(['i', 'Усл. эмпирич. моменты', 'Центр. эмпирич. моменты'])\n",
        "cond=[0, 0, 0, 0]\n",
        "centr=[0, 0, 0, 0]\n",
        "\n",
        "v=0\n",
        "for i in range(7):\n",
        "    v += nk[i] * ((sr[i] -441.188)/h)\n",
        "print(v)\n",
        "           \n",
        "cond[0]=su1/93\n",
        "cond[1]=su2/93\n",
        "cond[2]=su3/93\n",
        "cond[3]=su4/93\n",
        "centr[0]=0\n",
        "centr[1]=(cond[1] - (cond[0]**2)) * h**2\n",
        "centr[2]=(cond[2] - 3*cond[1]*cond[0] + 2*((cond[0])**3))*h**3\n",
        "centr[3]=((cond[3] - 4*cond[2]*cond[0] + 6*cond[1]*(cond[0])**2)-3*((cond[0])**4))*h**4\n",
        "for k in range(0, 4):\n",
        "    moment.add_rows([[k+1, cond[k], centr[k]]])\n",
        "print(moment)"
      ]
    },
    {
      "cell_type": "markdown",
      "id": "a51a4913",
      "metadata": {
        "id": "a51a4913"
      },
      "source": [
        "## Задание 8\n",
        "Вычислить выборочные среднее и дисперсию с помощью стандартной формулы и с помощью условных вариант. Убедиться, что результаты совпадают."
      ]
    },
    {
      "cell_type": "code",
      "execution_count": 13,
      "id": "7ce128f6",
      "metadata": {
        "id": "7ce128f6",
        "colab": {
          "base_uri": "https://localhost:8080/"
        },
        "outputId": "7492531a-ce3f-4e3d-e9e5-56ad678d0c06"
      },
      "outputs": [
        {
          "output_type": "stream",
          "name": "stdout",
          "text": [
            "0.0537\n",
            "Выборочное ср. с помощью стандартной формулы :  447.5168010752688 \n",
            "Выборочное ср. с помощью условных вариант:  447.5168010752688\n",
            "\n",
            "Дисперсия с помощью стандартной формулы :  3659.7421992426875 \n",
            "Дисперсия с помощью условных вариант:  3659.742199242687\n"
          ]
        }
      ],
      "source": [
        "\n",
        "print(w[7])\n",
        "sr1=0\n",
        "for i in range(8):\n",
        "    sr1+=(sr[i]*nk[i])/93\n",
        "sr2=(h * cond[0] +(sr[3]))\n",
        "print('Выборочное ср. с помощью стандартной формулы : ', (sr1), '\\nВыборочное ср. с помощью условных вариант: ', (sr2))\n",
        "\n",
        "disp1=0\n",
        "for i in range(8):\n",
        "    disp1+=nk[i]*(sr[i]-sr1)**2/93\n",
        "disp2=centr[1]\n",
        "print('\\nДисперсия с помощью стандартной формулы : ', disp1, '\\nДисперсия с помощью условных вариант: ', disp2)"
      ]
    },
    {
      "cell_type": "markdown",
      "id": "ea81c0a3",
      "metadata": {
        "id": "ea81c0a3"
      },
      "source": [
        "Вывод: результаты вычислений при помощи стандартных формул и при помощи условных вариант совпадают. Вычисления корректны."
      ]
    },
    {
      "cell_type": "markdown",
      "id": "f9b56a87",
      "metadata": {
        "id": "f9b56a87"
      },
      "source": [
        "## Задание 9\n",
        "Вычислить исправленную выборочную дисперсию и исправленное СКО. Сравнить данные оценки с смещёнными оценками дисперсии и СКО."
      ]
    },
    {
      "cell_type": "code",
      "execution_count": 14,
      "id": "25adee0b",
      "metadata": {
        "id": "25adee0b",
        "colab": {
          "base_uri": "https://localhost:8080/"
        },
        "outputId": "35fa3cfc-59a4-4309-f70e-9c0cde792ca1"
      },
      "outputs": [
        {
          "output_type": "stream",
          "name": "stdout",
          "text": [
            "Исправленная выборочная дисперсия: 3699.522005756195 \n",
            "Исправленное СКО: 60.82369608759562 \n",
            "Смещенная оценка дисперсии: 3659.7421992426875 \n",
            "Смещенная оценка СКО: 60.49580315396009\n"
          ]
        }
      ],
      "source": [
        "\n",
        "sko=np.sqrt(disp1)\n",
        "isp_disp=(93/(93-1))*disp1\n",
        "isp_sko=np.sqrt(isp_disp)\n",
        "print('Исправленная выборочная дисперсия:', isp_disp, '\\nИсправленное СКО:', isp_sko, '\\nСмещенная оценка дисперсии:', disp1, '\\nСмещенная оценка СКО:', sko)"
      ]
    },
    {
      "cell_type": "markdown",
      "id": "8881b832",
      "metadata": {
        "id": "8881b832"
      },
      "source": [
        "Вывод: вследствие того, что выборка имеет большой объём, исправленные СКО и дисперсия несильно отличаются от смещенных."
      ]
    },
    {
      "cell_type": "markdown",
      "id": "bdb0bb1a",
      "metadata": {
        "id": "bdb0bb1a"
      },
      "source": [
        "## Задание 10\n",
        "Найти статистическую оценку коэффициентов асимметрии и эксцесса. Сделать выводы"
      ]
    },
    {
      "cell_type": "code",
      "execution_count": 15,
      "id": "63584f0c",
      "metadata": {
        "id": "63584f0c",
        "colab": {
          "base_uri": "https://localhost:8080/"
        },
        "outputId": "25ede9e0-cc7e-4859-8ebc-57643dc1fe2d"
      },
      "outputs": [
        {
          "output_type": "stream",
          "name": "stdout",
          "text": [
            "Коэффициент асимметрии: 0.16682969272122047 \n",
            "Коэффициент эксцесса: -0.18735194112375142\n"
          ]
        }
      ],
      "source": [
        "asim=centr[2]/sko**3\n",
        "eks=centr[3]/sko**4-3\n",
        "print(\"Коэффициент асимметрии:\", asim, \"\\nКоэффициент эксцесса:\", eks)"
      ]
    },
    {
      "cell_type": "markdown",
      "id": "889e32b1",
      "metadata": {
        "id": "889e32b1"
      },
      "source": [
        "Вывод: коэффициент асимметрии получился положительный, следовательно, кривая распределения справа длиннее. Коэффициент эксцесса принимает отрицательное значение: распределение является низковершинным."
      ]
    },
    {
      "cell_type": "markdown",
      "id": "9d4858f7",
      "metadata": {
        "id": "9d4858f7"
      },
      "source": [
        "## Задание 11\n",
        "Вычислить моду, медиану и коэффициент вариации для заданного\n",
        "распределения. Сделать выводы."
      ]
    },
    {
      "cell_type": "code",
      "execution_count": 16,
      "id": "d7395b4c",
      "metadata": {
        "id": "d7395b4c",
        "colab": {
          "base_uri": "https://localhost:8080/"
        },
        "outputId": "de241525-3889-4d63-c552-2857be0f7052"
      },
      "outputs": [
        {
          "output_type": "stream",
          "name": "stdout",
          "text": [
            "Мода: 460.5775 \n",
            "Медиана: 462.828125 \n",
            "Коэффициент вариации: 13.518107702013443\n"
          ]
        }
      ],
      "source": [
        "n = 0\n",
        "for i in range(8):\n",
        "    if nk[i]>=n:\n",
        "        n = nk[i]\n",
        "        ind = i\n",
        "moda=sr[ind]+h*((nk[ind]-nk[ind-1])/((nk[ind]-nk[ind-1])+(nk[ind]-nk[ind+1])))\n",
        "mediana=sr[3]+h*(0.5-sump[3-1])/(w[3])\n",
        "koeff=sko/sr1*100\n",
        "print('Мода:', moda, '\\nМедиана:', mediana, '\\nКоэффициент вариации:', koeff)"
      ]
    },
    {
      "cell_type": "markdown",
      "id": "f9d8a8e0",
      "metadata": {
        "id": "f9d8a8e0"
      },
      "source": [
        "Вывод: мода демонстрирует наиболее часто встречающееся в выборке значение и равна всех 460.6. Медиана равна 462.83 и является серединным элементом в выборке.  Коэффициент вариации - стандартная мера дисперсии распределения вероятностей или частотного распределения. Коэффициент вариации равен 13.52, что говорит о том, что совокупность однородная."
      ]
    },
    {
      "cell_type": "markdown",
      "id": "8f40b6e7",
      "metadata": {
        "id": "8f40b6e7"
      },
      "source": [
        "## Задание 12\n",
        "Вычислить точность и доверительный интервал для математического ожидания при неизвестном среднеквадратичном отклонении\n",
        "при заданном объёме выборки для доверительной точности 𝛾 ∈ {0.95, 0.99}. Сделать выводы."
      ]
    },
    {
      "cell_type": "code",
      "execution_count": 17,
      "id": "86cee9a4",
      "metadata": {
        "id": "86cee9a4",
        "colab": {
          "base_uri": "https://localhost:8080/"
        },
        "outputId": "7347b251-9a9c-473f-a988-85749ef3d3c7"
      },
      "outputs": [
        {
          "output_type": "stream",
          "name": "stdout",
          "text": [
            "Точность для 0.95: 12.614246947560124 \n",
            "Точность для 0.99: 16.39852103182816 \n",
            "Доверительный интервал при 0,95: ( 434.9025541277087 ; 460.1310480228289 )\n",
            "Доверительный интервал при 0,99: ( 431.1182800434406 ; 463.915322107097 )\n"
          ]
        }
      ],
      "source": [
        "ac1 = 2.00*isp_sko/np.sqrt(93)\n",
        "ac2 = 2.60*isp_sko/np.sqrt(93) \n",
        "print(\"Точность для 0.95:\", ac1, \"\\nТочность для 0.99:\", ac2, '\\nДоверительный интервал при 0,95: (',  sr1-ac1, ';', sr1+ac1, ')\\nДоверительный интервал при 0,99: (', sr1-ac2, ';', sr1+ac2, ')')"
      ]
    },
    {
      "cell_type": "markdown",
      "id": "0854207a",
      "metadata": {
        "id": "0854207a"
      },
      "source": [
        "Вывод: Точность второго доверительного интервала выше, так как выше доверительная надежность. В доверительные интервалы попадает мат.ожидание выборочной совокупности (447.5168)."
      ]
    },
    {
      "cell_type": "markdown",
      "id": "b0f4d221",
      "metadata": {
        "id": "b0f4d221"
      },
      "source": [
        "## Задание 13\n",
        "Для вычисления границ доверительного интервала для среднеквадратичного отклонения определить значение 𝑞 при заданных 𝛾 и 𝑛.\n",
        "Построить доверительные интервалы, сделать выводы."
      ]
    },
    {
      "cell_type": "code",
      "execution_count": 18,
      "id": "840becb5",
      "metadata": {
        "id": "840becb5",
        "colab": {
          "base_uri": "https://localhost:8080/"
        },
        "outputId": "d4646292-4b47-457c-fb7e-9f750e10c4bc"
      },
      "outputs": [
        {
          "output_type": "stream",
          "name": "stdout",
          "text": [
            "Доверительный интервал для SKO при 0,95: ( 51.63931797836868 ; 70.00807419682256 )\n",
            "Доверительный интервал для SKO при 0,99: ( 47.98989621311295 ; 73.6574959620783 )\n"
          ]
        }
      ],
      "source": [
        "q1 = 0.151\n",
        "q2 = 0.211\n",
        "print('Доверительный интервал для SKO при 0,95: (', isp_sko*(1-q1), ';', isp_sko*(1+q1), ')\\nДоверительный интервал для SKO при 0,99: (', isp_sko*(1-q2), ';', isp_sko*(1+q2), ')')"
      ]
    },
    {
      "cell_type": "markdown",
      "id": "66234f17",
      "metadata": {
        "id": "66234f17"
      },
      "source": [
        "Вывод: В оба доверительных интервала попадает СКО выборочной совокупности (60.4958)."
      ]
    },
    {
      "cell_type": "markdown",
      "id": "3e54b3a6",
      "metadata": {
        "id": "3e54b3a6"
      },
      "source": [
        "## Задание 14\n",
        " Проверить гипотезу о нормальности заданного распределения с помощью критерия 𝜒2 (Пирсона). Для этого необходимо найти теоретические частоты и вычислить наблюдаемое значение критерия. Для удобства вычисления необходимо заполнить расчётную таблицу (в последней строке Σ необходимо записать сумму столбца).Проконтролировать корректность вычисления 𝜒2 набл. Далее по заданному уровню значимости 𝛼 = 0.05 и числу степеней свободы 𝑑𝑓 найти критическую точку 𝜒2крит и сравнить с наблюдаемым значением. Сделать выводы."
      ]
    },
    {
      "cell_type": "code",
      "execution_count": 19,
      "id": "c1945829",
      "metadata": {
        "id": "c1945829",
        "colab": {
          "base_uri": "https://localhost:8080/"
        },
        "outputId": "e8630880-33f0-4ab7-91a6-3fcb4b3b9ade"
      },
      "outputs": [
        {
          "output_type": "stream",
          "name": "stdout",
          "text": [
            "+---+-------------------+------+-------+--------+------------+------------------+------+----------+\n",
            "| i |   [x(i-1);x(i)]   | n(i) |  p(i) |  nii   | (ni-n\"i)^2 | ((ni-n\"i)^2)/n\"i | ni^2 | ni^2/n\"i |\n",
            "+---+-------------------+------+-------+--------+------------+------------------+------+----------+\n",
            "| 1 |   [320, 354.625]  |  8   | 0.063 | 5.892  |   4.445    |      0.754       |  64  |  10.863  |\n",
            "| 2 | [354.625, 389.25] |  7   | 0.106 | 9.829  |   8.004    |      0.814       |  49  |  4.985   |\n",
            "| 3 | [389.25, 423.875] |  14  |  0.18 | 16.713 |   7.361    |       0.44       | 196  |  11.727  |\n",
            "| 4 |  [423.875, 458.5] |  28  | 0.223 | 20.73  |   52.86    |       2.55       | 784  |  37.82   |\n",
            "| 5 |  [458.5, 493.125] |  17  | 0.202 | 18.756 |   3.083    |      0.164       | 289  |  15.409  |\n",
            "| 6 | [493.125, 527.75] |  10  | 0.133 | 12.379 |    5.66    |      0.457       | 100  |  8.078   |\n",
            "| 7 | [527.75, 562.375] |  4   | 0.064 | 5.959  |   3.839    |      0.644       |  16  |  2.685   |\n",
            "| 8 |  [562.375, 597.0] |  5   | 0.029 | 2.742  |   5.097    |      1.859       |  25  |  9.116   |\n",
            "|   |       СУММА       |  93  |  1.0  |  93.0  |            |      7.684       |      | 100.684  |\n",
            "+---+-------------------+------+-------+--------+------------+------------------+------+----------+\n",
            "x^2 наблюдаемое: 7.68 \n",
            "x^2 критическое: 11.07\n"
          ]
        }
      ],
      "source": [
        "def Laplace(t): return scipy.stats.norm.cdf(t) - 0.5\n",
        "table = PrettyTable(['i', '[x(i-1);x(i)]', 'n(i)', 'p(i)', 'nii', '(ni-n\"i)^2', '((ni-n\"i)^2)/n\"i', 'ni^2', 'ni^2/n\"i'])\n",
        "pi=[0,0,0,0,0,0,0,0]\n",
        "x0=320+h\n",
        "for i in range(1,7):\n",
        "    pi[i]=Laplace((x0+h - sr1) / isp_sko) - Laplace((x0-sr1)/isp_sko)\n",
        "    x0+=h\n",
        "pi[0]=Laplace((320+h - sr1) / isp_sko)+0.5\n",
        "pi[7]=0.5-Laplace((597-h - sr1) / isp_sko)\n",
        "\n",
        "sum5=0\n",
        "sum6=0\n",
        "for k in range(0, 8):\n",
        "    table.add_rows([[k+1, sel2[k], nk[k], round(pi[k],3), round(93*pi[k],3), round((nk[k]-93*pi[k])**2,3), round(((nk[k]-93*pi[k])**2)/(93*pi[k]),3), (nk[k])**2, round(((nk[k])**2)/(93*pi[k]),3)]])\n",
        "    sum5+=((nk[k]-93*pi[k])**2)/(93*pi[k])\n",
        "    sum6+=((nk[k])**2)/(93*pi[k])\n",
        "table.add_rows([['', 'СУММА', sum(nk), sum(pi), 93*sum(pi), '', round(sum5,3), '', round(sum6,3)]])\n",
        "print(table)\n",
        "\n",
        "a=0.05\n",
        "df=8-3\n",
        "xkr=11.07\n",
        "print('x^2 наблюдаемое:', round(sum5,2), '\\nx^2 критическое:', xkr)"
      ]
    },
    {
      "cell_type": "markdown",
      "id": "408b5604",
      "metadata": {
        "id": "408b5604"
      },
      "source": [
        "Вывод: наблюдаемое значение 𝜒2 меньше, чем критическое, следовательно, нет оснований отвергать гипотезу."
      ]
    },
    {
      "cell_type": "markdown",
      "id": "55cf4563",
      "metadata": {
        "id": "55cf4563"
      },
      "source": [
        "## Выводы\n",
        "При выполнении работы были закреплены на практике основные правила формирования выборки, подготовки выборки к проведению статистического анализа. Были найдены точеченые статистические оценки параметров распределения и произведены расчеты интервальных статистических оценок параметров распределения выборочных данных."
      ]
    }
  ],
  "metadata": {
    "colab": {
      "provenance": []
    },
    "kernelspec": {
      "display_name": "Python 3.9.13 64-bit",
      "language": "python",
      "name": "python3"
    },
    "language_info": {
      "codemirror_mode": {
        "name": "ipython",
        "version": 3
      },
      "file_extension": ".py",
      "mimetype": "text/x-python",
      "name": "python",
      "nbconvert_exporter": "python",
      "pygments_lexer": "ipython3",
      "version": "3.9.13"
    },
    "vscode": {
      "interpreter": {
        "hash": "c2be35e5ae2427c6b0f8cdf473140a818ba6eb1b879444689ce3a6b3c197d5c9"
      }
    }
  },
  "nbformat": 4,
  "nbformat_minor": 5
}
