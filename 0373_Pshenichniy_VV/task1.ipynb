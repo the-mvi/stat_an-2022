{
 "cells": [
  {
   "cell_type": "markdown",
   "id": "2810e17e",
   "metadata": {},
   "source": [
    "# Практическая работа №1: Формирование и первичная обработка выборки. Нахождение и точечных и интервальных оценок. Проверка статистических гипотез\n",
    "Выполнил студент гр. 0373 Пшеничный Владимир. Вариант №16"
   ]
  },
  {
   "cell_type": "markdown",
   "id": "68d926bc",
   "metadata": {},
   "source": [
    "## Цель работы\n",
    "Ознакомление с основными правилами формирования выборки и подготовки выборочных данных к статистическому анализу. Получение практических навыков нахождения точечных статистических оценок параметров распределения, а также вычисления интервальных статистических оценок параметров распределения выборочных данных и проверки\n",
    "«справедливости» статистических гипотез."
   ]
  },
  {
   "cell_type": "markdown",
   "id": "8dc7c345",
   "metadata": {},
   "source": [
    "## Основные теоретические положения\n",
    "Генеральная совокупность - совокупность объектов из которых производится выборка.  \n",
    "Выборка - совокупность случайно отобранных объектов. \n",
    "\n",
    "Объем выбоки - количество элементов в выборке.\n",
    "\n",
    "Интервальный вариационный ряд - весь промежуток измерения значений выборки $[x_{min} ; x_{max}]$ разбивают на частичные интервалы.  \n",
    "Формула Стерджеса: $$k = 1 + lb(n)$$  \n",
    "длина интервала: $$h = \\frac{R}{k}$$, где R(размах выборки) $$R = x_{max} - x_{min}$$.  \n",
    "Абсоюткая частота: $$n_i$$  \n",
    "Относительные частоты: $$p_i =\\frac{n_i}{n}$$  \n",
    "Середина интервала: $$\\tilde{x_i} = x_i - x_{i-1}$$  \n",
    "Накопленные результаты - сумма результатов предыдущих отрезков.  \n",
    "\n",
    "Условная варианта: $$u_i = \\frac{x_i - C}{h}$$, где C - ложный нуль(середина среднего интервала(если их два, то смотрим на частоту))  \n",
    "$$Σ(n_i \\cdot (u_i + 1)^4) = Σ(n_i\\cdot u_i^4) + 4\\cdot Σ(n_i\\cdot u_i^3) + 6\\cdot Σ(n_i\\cdot u_i^2) + 4\\cdot Σ(n_i\\cdot u_i) + Σn$$\n",
    "\n",
    "Условные эмпирические моменты: $$𝜈^*_r = \\frac{1}{n}\\cdot Σ^k_{i=1} n_i(\\frac{x_i-C}{h})^r = \\frac{1}{n}\\cdot Σ^k_{i=1} n_i\\cdot u^r_i$$  \n",
    "Центральные моменты:  \n",
    "$$𝜇^*_1 =0$$  \n",
    "$$𝜇^*_2 = (𝜈^*_2 - (𝜈^*_1)^2)\\cdot h^2 = σ^2_{межгр}$$  \n",
    "$$𝜇^*_3 = (𝜈^*_3 - 3𝜈^*_2𝜈^*_1+2(𝜈^*_1)^3)\\cdot h^3$$  \n",
    "$$𝜇^*_4 = (𝜈^*_4 -4𝜈^*_3𝜈^*_1+6𝜈^*_2(𝜈^*_1)^2-3(𝜈^*_1)^4)\\cdot h^4$$  \n",
    "\n",
    "Выборочное среднее - среднее арифметическое значерие признака выборочной совокупности:  \n",
    "$$\\overline{x_в} = \\frac{1}{n}\\cdot Σ^n_{i=1}\\cdot x_i = \\frac{1}{n}\\cdot Σ^k_{i=1}\\tilde{x_i}n_i = Σ^k_{i=1}\\tilde{x_i}p_i$$  \n",
    "Межгрупповой дисперсией называется дисперсия групп средины относительно общей средней: $$σ^2_{межгр} = \\frac{1}{n}\\cdot Σ^k_{i=1} n_i\\cdot (\\overline{x_i} - \\overline{x_в})^2$$  \n",
    "Исправленная выборочная дисперсия: $$S = σ^2\\cdot\\frac{n}{n-1}$$  \n",
    "Средне-квадратичное отклонение(СКО): $$σ = (σ^2)^\\frac{1}{2}$$  \n",
    "Исправленное СКО: $$s = σ\\cdot(\\frac{n}{n-1})^\\frac{1}{2}$$  \n",
    "\n",
    "Выброчный коэффициент асимметрии: $$a^*_3 = \\frac{\\mu_3^*}{\\sigma_B^3}$$  \n",
    "Выборочный коэффициент эксцесса:$$\\xi_k^* = \\frac{\\mu_4^*}{\\sigma_B^4}$$  \n",
    "\n",
    "Модой интервального ряда называется число заключенное в частичном интервале, который соответствует наибольшей частоте:  \n",
    "$$M_0^* = x^{0}_{M_0} + h \\cdot \\frac{n_{M_0} - n_{M_0 -1}}{(n_{M_0} - n_{M_0 - 1}) + (n_{M_0} - n_{M_0 + 1})}$$  \n",
    "Медианой интервального ряда называется число, принадлежащее частичному интервалу для которого накопленная частота составляет половину или больше половины всей всей суммы частот в предыдущая накопленная частота меньше всей суммы$M_e^* \\in (x_{M_e}^{(0)}, x_{M_e}^{(1)})$:  \n",
    "$$M_e^* = x^{0}_{M_e} + \\frac{h}{p_{M_e}^*} \\cdot (0.5 - p_{M_e}^\\Sigma - 1)$$  \n",
    "Коэффициент вариацации(относительное стандартное отклонение) - мера колеблемости изучаемого признака относительно выборочной средней:  $$\\nu^* = \\frac{\\sigma_B}{|\\overline{x_B}|}\\cdot 100\\%$$\n",
    "\n",
    "Доверительным интервалом называется $(\\Theta^* - \\delta ;\\Theta^* + \\delta)$, который покрывает неизвестный параметр $\\Theta$ с заданой надежностью $\\gamma$.  \n",
    "Доверительный интервал для М.О.: $$\\overline{x_B} - \\frac{t_\\gamma s}{\\sqrt{n}} \\cdot \\sqrt{1- \\frac{n}{N}} < \\sigma < \\overline{x_B} + \\frac{t_\\gamma s}{\\sqrt{n}} \\cdot \\sqrt{1- \\frac{n}{N}}$$  \n",
    "При больших объмах генеральной выборки можно использовать:  \n",
    "$$\\overline{x_B} - \\frac{t_\\gamma s}{\\sqrt{n}} < \\sigma < \\overline{x_B} + \\frac{t_\\gamma s}{\\sqrt{n}}$$  \n",
    "Доверительный интервал для СКО:  \n",
    "$$\\frac{\\sqrt{n-1}}{1+q} < \\chi < \\frac{\\sqrt{n-1}}{1-q}$$  \n",
    "$$ \\int_{\\frac{\\sqrt{n-1}}{1 + q}}^{\\frac{\\sqrt{n-1}}{1 - q}} R(\\chi, n) d\\chi = \\gamma$$  \n",
    "$$s(1 -q) < \\sigma < s(1 +q)$$  \n",
    "Теоретические частоты для интервалов:  \n",
    "$$p_i = \\Phi\\left(\\frac{x_i - a}{\\sigma}\\right) - \\Phi\\left(\\frac{x_{i-1} - a}{\\sigma}\\right)$$"
   ]
  },
  {
   "cell_type": "markdown",
   "id": "27e213ef",
   "metadata": {},
   "source": [
    "## Постановка задачи\n",
    "Осуществить формирование репрезентативной выборки заданного объема из имеющейся генеральной совокупности экспериментальных данных. Осуществить последовательное преобразование полученной выборки в ранжированный, вариационный и интервальный ряды. Применительно к интервальному ряду построить и отобразить графически полигон, гистограмму и эмпирическую функцию распределения для абсолютных и относительных частот. Для заданных выборочных данных вычислить с использованием метода моментов и условных вариант точечные статистические оценки математического ожидания, дисперсии, среднеквадратичного отклонения, асимметрии, эксцесса, моды, медианы и коэффициента вариации исследуемой случайной величины. Для заданной надёжности определить границы доверительных интервалов для математического ожидания и среднеквадратичного отклонения случайной величины. Проверить гипотезу о нормальном распределении исследуемой случайной величины с помощью критерия Пирсона 𝜒2. Полученные результаты содержательно проинтерпретировать."
   ]
  },
  {
   "cell_type": "markdown",
   "id": "91568bc7",
   "metadata": {},
   "source": [
    "## Выполнение работы"
   ]
  },
  {
   "cell_type": "markdown",
   "id": "93476c82",
   "metadata": {},
   "source": [
    "### Первый пункт"
   ]
  },
  {
   "cell_type": "code",
   "execution_count": 2,
   "id": "0ce7812d",
   "metadata": {},
   "outputs": [],
   "source": [
    "import pandas as pd\n",
    "import matplotlib.mlab as mlab\n",
    "import matplotlib.pyplot as plt\n",
    "import numpy as np\n",
    "from tabulate import tabulate\n",
    "X = (480, 482, 403, 442, 525, 449, 484, 422, 408, 545, 503, 437, 434, 399, 496, 419, 405, 415, 463, 504, 340, 416, 423, \n",
    "     433, 465, 468, 505, 490, 566, 500, 421, 320, 487, 438, 518, 522, 412, 462,413, 480, 394, 452, 446, 440, 397, 397, \n",
    "     442, 463, 499, 436, 421, 473, 448, 398, 457, 497, 457, 472, 498, 377, 371, 439,469, 498, 422, 481, 418, 507, 414, \n",
    "     513, 423, 458, 391, 522, 383, 382, 525, 477, 432, 421, 464, 525, 447, 475, 482, 436, 394, 521, 401, 468, 352, 493, \n",
    "     433, 510, 477, 382, 417, 483, 523, 404, 340, 409, 492, 506, 421, 517, 379, 466, 407, 448, 438, 413, 482, 500, 438, 458)\n",
    "Y = (153.3, 139.9, 123.9, 115.4, 156.5, 124.5, 147.5, 117.9, 110.0, 145.3, 148.5, 124.3, 122.3, 100.0, 143.1, 105.3, 103.6, \n",
    "     119.7, 144.9, 143.8, 85.1, 120.5, 131.1, 131.5, 127.7, 128.9, 155.8, 139.9, 175.7, 155.5, 118.0, 72.6, 146.0, 134.1, \n",
    "     154.0, 154.5, 127.8, 138.8, 106.7, 153.9, 112.1, 131.0, 130.3, 126.7, 106.8, 108.6, 126.2, 125.0, 144.5, 114.3, 115.1, \n",
    "     137.9, 125.9, 109.0, 126.4, 147.3, 103.6, 146.3, 144.5, 97.8, 91.9, 119.2, 131.5, 145.5, 115.7, 135.2, 125.7, 142.4, \n",
    "     113.5, 163.6, 130.8, 130.7, 98.2, 143.8, 109.7, 98.1, 148.3, 139.7, 123.0, 126.9, 131.3, 165.9, 117.5, 155.7, 150.1, \n",
    "     116.7, 117.7, 139.6, 100.1, 141.2, 84.9, 129.7, 130.0, 153.9, 146.0, 113.9, 124.3, 130.3, 172.8, 112.0, 93.5, 116.7, \n",
    "     137.5, 153.5, 117.8, 151.1, 94.6, 137.9, 110.5, 123.3, 131.4, 110.8, 148.2, 136.6, 127.0, 104.7)"
   ]
  },
  {
   "cell_type": "markdown",
   "id": "9dc5092b",
   "metadata": {},
   "source": [
    "#### Механическим способом была получена репрезентативная, дискретная, неранжированная выборка"
   ]
  },
  {
   "cell_type": "markdown",
   "id": "b6a798c9",
   "metadata": {},
   "source": [
    "### Второй пункт"
   ]
  },
  {
   "cell_type": "code",
   "execution_count": 3,
   "id": "9f43a12d",
   "metadata": {},
   "outputs": [
    {
     "name": "stdout",
     "output_type": "stream",
     "text": [
      "Ранжированный ряд:\n",
      "320, 340, 340, 352, 371, 377, 379, 382, 382, 383, 391, 394, 394, 397, 397, 398, 399, 401, 403, 404, 405, 407, 408, 409, 412, 413, 413, 414, 415, 416, 417, 418, 419, 421, 421, 421, 421, 422, 422, 423, 423, 432, 433, 433, 434, 436, 436, 437, 438, 438, 438, 439, 440, 442, 442, 446, 447, 448, 448, 449, 452, 457, 457, 458, 458, 462, 463, 463, 464, 465, 466, 468, 468, 469, 472, 473, 475, 477, 477, 480, 480, 481, 482, 482, 482, 483, 484, 487, 490, 492, 493, 496, 497, 498, 498, 499, 500, 500, 503, 504, 505, 506, 507, 510, 513, 517, 518, 521, 522, 522, 523, 525, 525, 525, 545, 566\n"
     ]
    }
   ],
   "source": [
    "print('Ранжированный ряд:')\n",
    "print(*(X_rank := sorted(X)), sep = ', ')\n",
    "n = len(X)  # Кол-во элементов выборки\n",
    "x_mid = sum(X)/n  # Выборочное среднее"
   ]
  },
  {
   "cell_type": "code",
   "execution_count": 4,
   "id": "95c39f89",
   "metadata": {},
   "outputs": [
    {
     "name": "stdout",
     "output_type": "stream",
     "text": [
      "Вариационный ряд:\n",
      "320: 1, 340: 2, 352: 1, 371: 1, 377: 1, 379: 1, 382: 2, 383: 1, 391: 1, 394: 2, 397: 2, 398: 1, 399: 1, 401: 1, 403: 1, 404: 1, 405: 1, 407: 1, 408: 1, 409: 1, 412: 1, 413: 2, 414: 1, 415: 1, 416: 1, 417: 1, 418: 1, 419: 1, 421: 4, 422: 2, 423: 2, 432: 1, 433: 2, 434: 1, 436: 2, 437: 1, 438: 3, 439: 1, 440: 1, 442: 2, 446: 1, 447: 1, 448: 2, 449: 1, 452: 1, 457: 2, 458: 2, 462: 1, 463: 2, 464: 1, 465: 1, 466: 1, 468: 2, 469: 1, 472: 1, 473: 1, 475: 1, 477: 2, 480: 2, 481: 1, 482: 3, 483: 1, 484: 1, 487: 1, 490: 1, 492: 1, 493: 1, 496: 1, 497: 1, 498: 2, 499: 1, 500: 2, 503: 1, 504: 1, 505: 1, 506: 1, 507: 1, 510: 1, 513: 1, 517: 1, 518: 1, 521: 1, 522: 2, 523: 1, 525: 3, 545: 1, 566: 1\n"
     ]
    }
   ],
   "source": [
    "# Заполняем вариационный ряд и частоту каждого элемента\n",
    "X_var, frequency_var = [] ,[]\n",
    "for empty in sorted(set(X_rank)):\n",
    "    X_var.append(empty)\n",
    "    frequency_var.append(X_rank.count(empty))\n",
    "    \n",
    "print('Вариационный ряд:')    \n",
    "for i in range(len(X_var)-1):\n",
    "    print(f'{X_var[i]}: {frequency_var[i]}', end = ', ')\n",
    "print(f'{X_var[-1]}: {frequency_var[-1]}')"
   ]
  },
  {
   "cell_type": "code",
   "execution_count": 5,
   "id": "fbed34ac",
   "metadata": {},
   "outputs": [
    {
     "name": "stdout",
     "output_type": "stream",
     "text": [
      "По формуле Стержеса k = 8\n",
      "Длина интервала h = 30.75\n",
      "Интервальный ряд:\n",
      "(320.0 - 350.75]: 3\n",
      "(350.75 - 381.5]: 4\n",
      "(381.5 - 412.25]: 18\n",
      "(412.25 - 443.0]: 30\n",
      "(443.0 - 473.75]: 21\n",
      "(473.75 - 504.5]: 24\n",
      "(504.5 - 535.25]: 14\n",
      "(535.25 - 566.0]: 2\n"
     ]
    }
   ],
   "source": [
    "# Заполняем интервальный ряд и кол-во элементов в интервале\n",
    "\n",
    "print('По формуле Стержеса k =', k := 1 + round(np.log2(n)))\n",
    "print('Длина интервала h =', h := (X_rank[-1] - X_rank[0])/k)\n",
    "\n",
    "start_point = [empty for empty in np.arange(X_rank[0], X_rank[-1], h)]    # Начальные точки интервалов\n",
    "frequency = [0]*k       # Частота попадания в интервал\n",
    "for i in np.arange(X_rank[0], X_rank[-1]+1, h):\n",
    "    for j in X_rank:\n",
    "        if i < j <= i+h:\n",
    "            frequency[round((i-X_rank[0])/h)] += 1   \n",
    "frequency[0] += frequency_var[0]\n",
    "start_point = [empty for empty in np.arange(X_rank[0], X_rank[-1], h)]\n",
    "\n",
    "frequency_relativ = []       # Относительные частоты\n",
    "x_mid_range = []      # Средне-интервальные значения\n",
    "for i in range(k):\n",
    "    frequency_relativ.append(frequency[i]/n)\n",
    "    x_mid_range.append(start_point[i] + h/2)\n",
    "\n",
    "print('Интервальный ряд:')\n",
    "for i in range(k-1):\n",
    "    print(f'({start_point[i]} - {start_point[i+1]}]: {frequency[i]}')\n",
    "print(f'({start_point[-1]} - {start_point[-1]+h}]: {frequency[-1]}')"
   ]
  },
  {
   "cell_type": "markdown",
   "id": "19f18f17",
   "metadata": {},
   "source": [
    "### Третий пункт"
   ]
  },
  {
   "cell_type": "code",
   "execution_count": 6,
   "id": "a173165d",
   "metadata": {},
   "outputs": [
    {
     "name": "stdout",
     "output_type": "stream",
     "text": [
      "Полигон частот по средне-интервальным значеним и абсолютным частотам\n"
     ]
    },
    {
     "data": {
      "image/png": "[encoded data removed]",
      "text/plain": [
       "<Figure size 640x480 with 1 Axes>"
      ]
     },
     "metadata": {},
     "output_type": "display_data"
    }
   ],
   "source": [
    "plt.plot(x_mid_range, frequency)\n",
    "plt.xlabel('value')\n",
    "plt.ylabel('frequency')\n",
    "print('Полигон частот по средне-интервальным значеним и абсолютным частотам')"
   ]
  },
  {
   "cell_type": "code",
   "execution_count": 7,
   "id": "1953af8d",
   "metadata": {},
   "outputs": [
    {
     "name": "stdout",
     "output_type": "stream",
     "text": [
      "Гистограмма для интервалов по абсолютным частотам\n"
     ]
    },
    {
     "data": {
      "image/png": "[encoded data removed]",
      "text/plain": [
       "<Figure size 640x480 with 1 Axes>"
      ]
     },
     "metadata": {},
     "output_type": "display_data"
    }
   ],
   "source": [
    "plt.hist(start_point, k, weights = frequency)\n",
    "plt.xlabel('value')\n",
    "plt.ylabel('frequency')\n",
    "print('Гистограмма для интервалов по абсолютным частотам')"
   ]
  },
  {
   "cell_type": "code",
   "execution_count": 8,
   "id": "c8c208e2",
   "metadata": {},
   "outputs": [
    {
     "name": "stdout",
     "output_type": "stream",
     "text": [
      "Эмпирическая функция для интервалов по абсолютным частотам\n"
     ]
    },
    {
     "data": {
      "image/png": "[encoded data removed]",
      "text/plain": [
       "<Figure size 640x480 with 1 Axes>"
      ]
     },
     "metadata": {},
     "output_type": "display_data"
    }
   ],
   "source": [
    "for i in range(k):\n",
    "    plt.plot([start_point[i],start_point[i]+h], [sum(frequency[:i+1]), sum(frequency[:i+1])])  \n",
    "plt.xlabel('value')\n",
    "plt.ylabel('frequency')\n",
    "print('Эмпирическая функция для интервалов по абсолютным частотам')"
   ]
  },
  {
   "cell_type": "markdown",
   "id": "aa594b65",
   "metadata": {},
   "source": [
    "#### Распределение было бы нормальным, есди бы не 6-й интервал"
   ]
  },
  {
   "cell_type": "markdown",
   "id": "bcf59ce8",
   "metadata": {},
   "source": [
    "### Четверый пункт"
   ]
  },
  {
   "cell_type": "code",
   "execution_count": 9,
   "id": "4b37b742",
   "metadata": {},
   "outputs": [
    {
     "name": "stdout",
     "output_type": "stream",
     "text": [
      "Полигон частот по средне-интервальным значеним по относительным частотам\n"
     ]
    },
    {
     "data": {
      "image/png": "[encoded data removed]",
      "text/plain": [
       "<Figure size 640x480 with 1 Axes>"
      ]
     },
     "metadata": {},
     "output_type": "display_data"
    }
   ],
   "source": [
    "plt.plot(x_mid_range, frequency_relativ)\n",
    "plt.xlabel('value')\n",
    "plt.ylabel('frequencyv relativ')\n",
    "print('Полигон частот по средне-интервальным значеним по относительным частотам')"
   ]
  },
  {
   "cell_type": "code",
   "execution_count": 10,
   "id": "a4708124",
   "metadata": {},
   "outputs": [
    {
     "name": "stdout",
     "output_type": "stream",
     "text": [
      "Гистограмма для интервалов по относительным частотам\n"
     ]
    },
    {
     "data": {
      "image/png": "[encoded data removed]",
      "text/plain": [
       "<Figure size 640x480 with 1 Axes>"
      ]
     },
     "metadata": {},
     "output_type": "display_data"
    }
   ],
   "source": [
    "plt.hist(start_point, k, weights = frequency_relativ)\n",
    "plt.xlabel('value')\n",
    "plt.ylabel('frequency relativ')\n",
    "print('Гистограмма для интервалов по относительным частотам')"
   ]
  },
  {
   "cell_type": "code",
   "execution_count": 11,
   "id": "d07e0a0f",
   "metadata": {
    "scrolled": false
   },
   "outputs": [
    {
     "name": "stdout",
     "output_type": "stream",
     "text": [
      "Эмпирическая функция для интервалов по относительным частотам\n"
     ]
    },
    {
     "data": {
      "image/png": "[encoded data removed]",
      "text/plain": [
       "<Figure size 640x480 with 1 Axes>"
      ]
     },
     "metadata": {},
     "output_type": "display_data"
    }
   ],
   "source": [
    "for i in range(k):\n",
    "    plt.plot([start_point[i],start_point[i]+h], [sum(frequency_relativ[:i+1]), sum(frequency_relativ[:i+1])])\n",
    "plt.xlabel('value')\n",
    "plt.ylabel('frequency relativ')\n",
    "print('Эмпирическая функция для интервалов по относительным частотам')"
   ]
  },
  {
   "cell_type": "markdown",
   "id": "8c5639f6",
   "metadata": {},
   "source": [
    "#### Распределение не отличается от предыдущего, за исключение частоты"
   ]
  },
  {
   "cell_type": "markdown",
   "id": "3971db99",
   "metadata": {},
   "source": [
    "### Пятый пункт"
   ]
  },
  {
   "cell_type": "code",
   "execution_count": 77,
   "id": "469ddd70",
   "metadata": {},
   "outputs": [
    {
     "name": "stdout",
     "output_type": "stream",
     "text": [
      "╒═══╤══════════════════╤══════════╤══════╤══════════════════════╤════════╤═════════════════════╕\n",
      "│ i │ (x[i-1], x[i]]   │ x_mid[i] │ n[i] │ p*[i]                │ Σn_[i] │ Σp_[i]              │\n",
      "├───┼──────────────────┼──────────┼──────┼──────────────────────┼────────┼─────────────────────┤\n",
      "│ 1 │ (320.0 ; 350.75] │ 335.375  │ 3    │ 0.02586206896551724  │ 3      │ 0.02586206896551724 │\n",
      "├───┼──────────────────┼──────────┼──────┼──────────────────────┼────────┼─────────────────────┤\n",
      "│ 2 │ (350.75 ; 381.5] │ 366.125  │ 4    │ 0.034482758620689655 │ 7      │ 0.06034482758620689 │\n",
      "├───┼──────────────────┼──────────┼──────┼──────────────────────┼────────┼─────────────────────┤\n",
      "│ 3 │ (381.5 ; 412.25] │ 396.875  │ 18   │ 0.15517241379310345  │ 25     │ 0.21551724137931033 │\n",
      "├───┼──────────────────┼──────────┼──────┼──────────────────────┼────────┼─────────────────────┤\n",
      "│ 4 │ (412.25 ; 443.0] │ 427.625  │ 30   │ 0.25862068965517243  │ 55     │ 0.47413793103448276 │\n",
      "├───┼──────────────────┼──────────┼──────┼──────────────────────┼────────┼─────────────────────┤\n",
      "│ 5 │ (443.0 ; 473.75] │ 458.375  │ 21   │ 0.1810344827586207   │ 76     │ 0.6551724137931034  │\n",
      "├───┼──────────────────┼──────────┼──────┼──────────────────────┼────────┼─────────────────────┤\n",
      "│ 6 │ (473.75 ; 504.5] │ 489.125  │ 24   │ 0.20689655172413793  │ 100    │ 0.8620689655172413  │\n",
      "├───┼──────────────────┼──────────┼──────┼──────────────────────┼────────┼─────────────────────┤\n",
      "│ 7 │ (504.5 ; 535.25] │ 519.875  │ 14   │ 0.1206896551724138   │ 114    │ 0.9827586206896551  │\n",
      "├───┼──────────────────┼──────────┼──────┼──────────────────────┼────────┼─────────────────────┤\n",
      "│ 8 │ (535.25 ; 566.0] │ 550.625  │ 2    │ 0.017241379310344827 │ 116    │ 1.0                 │\n",
      "├───┼──────────────────┼──────────┼──────┼──────────────────────┼────────┼─────────────────────┤\n",
      "│ Σ │ -                │ -        │ 116  │ 1.0                  │ -      │ -                   │\n",
      "╘═══╧══════════════════╧══════════╧══════╧══════════════════════╧════════╧═════════════════════╛\n"
     ]
    }
   ],
   "source": [
    "table1 = [['i', '(x[i-1], x[i]]', 'x_mid[i]', 'n[i]', 'p*[i]', 'Σn_[i]', ' Σp_[i]']]\n",
    "for i in range(k):\n",
    "    table1.append([i+1,f'({start_point[i]} ; {start_point[i] + h}]', x_mid_range[i], frequency[i], frequency_relativ[i], sum(frequency[:i+1]), sum(frequency_relativ[:i+1])])\n",
    "table1.append(['Σ', '-', '-', sum(frequency), sum(frequency_relativ),'-', '-'])\n",
    "print(tabulate(table1, tablefmt='fancy_grid'))"
   ]
  },
  {
   "cell_type": "markdown",
   "id": "a739f513",
   "metadata": {},
   "source": [
    "### Шестой пункт"
   ]
  },
  {
   "cell_type": "code",
   "execution_count": 13,
   "id": "d5d8b923",
   "metadata": {},
   "outputs": [
    {
     "name": "stdout",
     "output_type": "stream",
     "text": [
      "╒═══╤═════════╤══════╤══════╤══════════╤════════════╤════════════╤════════════╤════════════════╕\n",
      "│ i │ ~x[i]   │ n[i] │ u[i] │ n[i]u[i] │ n[i]u^2[i] │ n[i]u^3[i] │ n[i]u^4[i] │ n[i](u[i]+1)^4 │\n",
      "├───┼─────────┼──────┼──────┼──────────┼────────────┼────────────┼────────────┼────────────────┤\n",
      "│ 1 │ 335.375 │ 3    │ -3   │ -9       │ 27         │ -81        │ 243        │ 48             │\n",
      "├───┼─────────┼──────┼──────┼──────────┼────────────┼────────────┼────────────┼────────────────┤\n",
      "│ 2 │ 366.125 │ 4    │ -2   │ -8       │ 16         │ -32        │ 64         │ 4              │\n",
      "├───┼─────────┼──────┼──────┼──────────┼────────────┼────────────┼────────────┼────────────────┤\n",
      "│ 3 │ 396.875 │ 18   │ -1   │ -18      │ 18         │ -18        │ 18         │ 0              │\n",
      "├───┼─────────┼──────┼──────┼──────────┼────────────┼────────────┼────────────┼────────────────┤\n",
      "│ 4 │ 427.625 │ 30   │ 0    │ 0        │ 0          │ 0          │ 0          │ 30             │\n",
      "├───┼─────────┼──────┼──────┼──────────┼────────────┼────────────┼────────────┼────────────────┤\n",
      "│ 5 │ 458.375 │ 21   │ 1    │ 21       │ 21         │ 21         │ 21         │ 336            │\n",
      "├───┼─────────┼──────┼──────┼──────────┼────────────┼────────────┼────────────┼────────────────┤\n",
      "│ 6 │ 489.125 │ 24   │ 2    │ 48       │ 96         │ 192        │ 384        │ 1944           │\n",
      "├───┼─────────┼──────┼──────┼──────────┼────────────┼────────────┼────────────┼────────────────┤\n",
      "│ 7 │ 519.875 │ 14   │ 3    │ 42       │ 126        │ 378        │ 1134       │ 3584           │\n",
      "├───┼─────────┼──────┼──────┼──────────┼────────────┼────────────┼────────────┼────────────────┤\n",
      "│ 8 │ 550.625 │ 2    │ 4    │ 8        │ 32         │ 128        │ 512        │ 1250           │\n",
      "├───┼─────────┼──────┼──────┼──────────┼────────────┼────────────┼────────────┼────────────────┤\n",
      "│ Σ │ 116     │ -    │ -    │ 84       │ 336        │ 588        │ 2376       │ 7196           │\n",
      "╘═══╧═════════╧══════╧══════╧══════════╧════════════╧════════════╧════════════╧════════════════╛\n",
      "All is good\n"
     ]
    }
   ],
   "source": [
    "if not k % 2:\n",
    "    if frequency[k//2] <= frequency[k//2-1]:\n",
    "        false_nul = x_mid_range[k//2-1]\n",
    "    else:\n",
    "        false_nul = x_mid_range[k//2]\n",
    "else:\n",
    "    false_nul = x_mid_range[k//2+1]\n",
    "    \n",
    "cond_op, n_u_1, n_u_2, n_u_3, n_u_4, nu_4 = [], [], [], [], [], []\n",
    "for i in range(k):\n",
    "    cond_op.append(round((x_mid_range[i] - false_nul)/h))\n",
    "    n_u_1.append(frequency[i] * cond_op[i])\n",
    "    n_u_2.append(n_u_1[i] * cond_op[i])\n",
    "    n_u_3.append(n_u_2[i] * cond_op[i])\n",
    "    n_u_4.append(n_u_3[i] * cond_op[i])\n",
    "    nu_4.append(frequency[i] * ((cond_op[i] + 1)**4))\n",
    "    \n",
    "table2 = [['i', '~x[i]', 'n[i]', 'u[i]', 'n[i]u[i]', 'n[i]u^2[i]', 'n[i]u^3[i]', 'n[i]u^4[i]', 'n[i](u[i]+1)^4']]\n",
    "for i in range(k):\n",
    "    table2.append([i+1, x_mid_range[i], frequency[i], cond_op[i], n_u_1[i], n_u_2[i], n_u_3[i], n_u_4[i], nu_4[i]])\n",
    "table2.append(['Σ', sum(frequency), '-', '-', sum(n_u_1), sum(n_u_2), sum(n_u_3), sum(n_u_4), sum(nu_4)])\n",
    "print(tabulate(table2, tablefmt='fancy_grid'))\n",
    "print('All is good' if sum(nu_4) == sum(n_u_4) + 4*sum(n_u_3) + 6*sum(n_u_2) + 4*sum(n_u_1) + sum(frequency) else 'Have a problem')"
   ]
  },
  {
   "cell_type": "markdown",
   "id": "e3bb47c3",
   "metadata": {},
   "source": [
    "#### Формула для проверки: $Σ(n_i \\cdot (u_i + 1)^4) = Σ(n_i\\cdot u_i^4) + 4\\cdot Σ(n_i\\cdot u_i^3) + 6\\cdot Σ(n_i\\cdot u_i^2) + 4\\cdot Σ(n_i\\cdot u_i) + Σn$"
   ]
  },
  {
   "cell_type": "markdown",
   "id": "af893fd2",
   "metadata": {},
   "source": [
    "### Седьмой пункт"
   ]
  },
  {
   "cell_type": "code",
   "execution_count": 14,
   "id": "b618ee6f",
   "metadata": {},
   "outputs": [
    {
     "name": "stdout",
     "output_type": "stream",
     "text": [
      "╒═══╤════════════════════╤════════════════════╕\n",
      "│ i │ 𝜈*[i]              │ 𝜇[i]               │\n",
      "├───┼────────────────────┼────────────────────┤\n",
      "│ 1 │ 0.7241379310344828 │ 0                  │\n",
      "├───┼────────────────────┼────────────────────┤\n",
      "│ 2 │ 2.896551724137931  │ 2243.040651010702  │\n",
      "├───┼────────────────────┼────────────────────┤\n",
      "│ 3 │ 5.068965517241379  │ -13494.27096552238 │\n",
      "├───┼────────────────────┼────────────────────┤\n",
      "│ 4 │ 20.482758620689655 │ 12596469.462928561 │\n",
      "╘═══╧════════════════════╧════════════════════╛\n"
     ]
    }
   ],
   "source": [
    "#Вычисление условных эмпирических моментов и центральных эмпирических моментов\n",
    "cond_emp_m = [sum(n_u_1)/n, sum(n_u_2)/n, sum(n_u_3)/n, sum(n_u_4)/n]\n",
    "mu = [0, (cond_emp_m[1] * h**2 - (cond_emp_m[0] * h)**2)]\n",
    "mu.append((cond_emp_m[2] - 3 * cond_emp_m[1] * cond_emp_m[0] + 2 * cond_emp_m[0]**3) * h**3)\n",
    "mu.append((cond_emp_m[3] - 4 * cond_emp_m[2] * cond_emp_m[0] + 6 * cond_emp_m[1]* cond_emp_m[0]**2 - 3 * cond_emp_m[0]**4) * h**4)\n",
    "\n",
    "table3 = [['i', '𝜈*[i]', '𝜇[i]']]\n",
    "for i in range(4):\n",
    "    table3.append([i+1, cond_emp_m[i], mu[i]])\n",
    "print(tabulate(table3, tablefmt='fancy_grid'))"
   ]
  },
  {
   "cell_type": "markdown",
   "id": "5a395e96",
   "metadata": {},
   "source": [
    "### Восьмой пункт"
   ]
  },
  {
   "cell_type": "code",
   "execution_count": 43,
   "id": "479b9980",
   "metadata": {},
   "outputs": [
    {
     "name": "stdout",
     "output_type": "stream",
     "text": [
      "σ = 449.89224137931035\n",
      "σ = 450.0431034482759\n",
      "All is good\n",
      "σ^2 = 2243.063410374554\n",
      "𝜇_2 = 2243.040651010702\n",
      "All is good\n"
     ]
    }
   ],
   "source": [
    "\n",
    "disp = 0\n",
    "for i in range(k):\n",
    "    disp += frequency_relativ[i] * ((x_mid_range[i] - x_mid)**2)\n",
    "\n",
    "x_middle = 0\n",
    "for i in range(k):\n",
    "    x_middle += frequency_relativ[i] * x_mid_range[i]\n",
    "\n",
    "print(f'σ = {x_middle}\\nσ = {x_mid}')\n",
    "print('All is good' if not round(x_middle - x_mid) else 'Have a problem')\n",
    "\n",
    "print(f'σ^2 = {disp}\\n𝜇_2 = {mu[1]}')\n",
    "print(f'All is good' if abs(disp - mu[1]) < 0.1 else 'Have a problem')"
   ]
  },
  {
   "cell_type": "markdown",
   "id": "94b2c146",
   "metadata": {},
   "source": [
    "### Девятый пункт"
   ]
  },
  {
   "cell_type": "code",
   "execution_count": 40,
   "id": "f908127e",
   "metadata": {},
   "outputs": [
    {
     "name": "stdout",
     "output_type": "stream",
     "text": [
      "σ^2 = 2243.063410374554\n",
      "S = 2262.5683095952027\n",
      "σ = 47.3609903863354\n",
      "s = 47.5664620252043\n"
     ]
    }
   ],
   "source": [
    "correct_disp = disp*n/(n-1)\n",
    "correct_sko = correct_disp**0.5\n",
    "sko = disp**0.5\n",
    "print(f'σ^2 = {disp}\\nS = {correct_disp}\\nσ = {sko}\\ns = {correct_sko}')"
   ]
  },
  {
   "cell_type": "markdown",
   "id": "9ca5e5a5",
   "metadata": {},
   "source": [
    "### Десятый пункт"
   ]
  },
  {
   "cell_type": "code",
   "execution_count": 45,
   "id": "dae9f592",
   "metadata": {},
   "outputs": [
    {
     "name": "stdout",
     "output_type": "stream",
     "text": [
      "a*_3 = -0.1270243847229667\n",
      "ξ*_k = -0.49639542764174616\n"
     ]
    }
   ],
   "source": [
    "asymm = mu[2]/sko**3\n",
    "excess = mu[3]/sko**4-3\n",
    "print(f'a*_3 = {asymm}\\nξ*_k = {excess}')"
   ]
  },
  {
   "cell_type": "markdown",
   "id": "1a879851",
   "metadata": {},
   "source": [
    "#### Распраделение немного смещено вправо и меньше нормального распределения"
   ]
  },
  {
   "cell_type": "markdown",
   "id": "6e9b9908",
   "metadata": {},
   "source": [
    "### Одиннадцатый пункт"
   ]
  },
  {
   "cell_type": "code",
   "execution_count": 20,
   "id": "49bf9277",
   "metadata": {},
   "outputs": [
    {
     "name": "stdout",
     "output_type": "stream",
     "text": [
      "429.82142857142856 447.39285714285717 10.523656517220394\n"
     ]
    }
   ],
   "source": [
    "mod = [frequency[frequency.index(max(frequency)) - 1], max(frequency), frequency[frequency.index(max(frequency)) + 1]]\n",
    "moda = start_point[cond_op.index(0)] + h*(mod[1]-mod[0])/(2 * mod[1] - mod[0] - mod[2])\n",
    "\n",
    "counter = 0\n",
    "while sum(frequency_relativ[ : counter + 1]) < 0.5: counter += 1\n",
    "\n",
    "mediana = start_point[counter] + (h/frequency_relativ[counter])*(0.5-sum(frequency_relativ[:counter]))\n",
    "\n",
    "coeff_var = sko/x_mid*100\n",
    "\n",
    "print(moda, mediana, coeff_var)"
   ]
  },
  {
   "cell_type": "markdown",
   "id": "256eae55",
   "metadata": {},
   "source": [
    "#### Коэффициент меньше 33% => совокупность однородна."
   ]
  },
  {
   "cell_type": "markdown",
   "id": "0499259a",
   "metadata": {},
   "source": [
    "### Двенадцатый пункт"
   ]
  },
  {
   "cell_type": "code",
   "execution_count": 19,
   "id": "518fb156",
   "metadata": {},
   "outputs": [
    {
     "name": "stdout",
     "output_type": "stream",
     "text": [
      "441.29856189913625 < σ < 458.7876449974155\n",
      "438.47204341860623 < σ < 461.6141634779455\n",
      "σ = 450.0431034482759 попало в оба доверительных интервала\n"
     ]
    }
   ],
   "source": [
    "t1, t2 = 1.98, 2.62\n",
    "\n",
    "print(x_mid - t1 * correct_sko / n**0.5, '< σ <', x_mid + t1 * correct_sko / n**0.5)\n",
    "print(x_mid - t2 * correct_sko / n**0.5, '< σ <', x_mid + t2 * correct_sko / n**0.5)\n",
    "print(f'σ = {x_mid} попало в оба доверительных интервала')"
   ]
  },
  {
   "cell_type": "markdown",
   "id": "6a34f2cd",
   "metadata": {},
   "source": [
    "#### Выборочное среднее попало в оба доверительных интервала"
   ]
  },
  {
   "cell_type": "markdown",
   "id": "315d9d25",
   "metadata": {},
   "source": [
    "### Тринадцатый пункт"
   ]
  },
  {
   "cell_type": "code",
   "execution_count": 22,
   "id": "0f3f95f0",
   "metadata": {},
   "outputs": [
    {
     "name": "stdout",
     "output_type": "stream",
     "text": [
      "42.154046413306666 < σ < 52.97887763710194\n",
      "40.63146621762199 < σ < 54.50145783278661\n",
      "σ = 47.3609903863354 попало в оба доверительных интервала\n"
     ]
    }
   ],
   "source": [
    "hi1, hi2 = 147.7002228, 158.9771475\n",
    "q1 = 1-n**0.5/hi1**0.5\n",
    "q2 = 1-n**0.5/hi2**0.5\n",
    "\n",
    "print((1-q1)*correct_sko, '< σ <', (1+q1)*correct_sko)\n",
    "print((1-q2)*correct_sko, '< σ <', (1+q2)*correct_sko)\n",
    "print(f'σ = {sko} попало в оба доверительных интервала')"
   ]
  },
  {
   "cell_type": "markdown",
   "id": "59ee4856",
   "metadata": {},
   "source": [
    "#### СКО попало в оба доверительных интервала"
   ]
  },
  {
   "cell_type": "markdown",
   "id": "1ca795b8",
   "metadata": {},
   "source": [
    "### Четырнадцатый пункт"
   ]
  },
  {
   "cell_type": "code",
   "execution_count": 76,
   "id": "0b84e3f0",
   "metadata": {},
   "outputs": [
    {
     "name": "stdout",
     "output_type": "stream",
     "text": [
      "Аргументы для функции Лапласа: [-inf, -2.1, -1.45, -0.8, -0.15, 0.5, 1.15, 1.8, inf]\n",
      "Значения функции для соответствующих аргументов: [-0.5, -0.48214, -0.42647, -0.28814, -0.05962, 0.19146, 0.37493, 0.46407, 0.5]\n",
      "╒═══╤══════════════════╤══════╤═════════╤══════════╤════════════════╤══════════════════════╤════════╤════════════════════╕\n",
      "│ i │ (x[i-1], x[i]]   │ n[i] │ p[i]    │ n'[i]    │ (n[i]-n'[i])^2 │ (n[i]-n'[i])^2/n'[i] │ n[i]^2 │ n[i]^2/n'[i]       │\n",
      "├───┼──────────────────┼──────┼─────────┼──────────┼────────────────┼──────────────────────┼────────┼────────────────────┤\n",
      "│ 1 │ (-inf ; 350.75]  │ 3    │ 0.01786 │ 2.07176  │ 0.861629       │ 0.41589252500289775  │ 9      │ 4.344132525002899  │\n",
      "├───┼──────────────────┼──────┼─────────┼──────────┼────────────────┼──────────────────────┼────────┼────────────────────┤\n",
      "│ 2 │ (350.75 ; 381.5] │ 4    │ 0.05567 │ 6.45772  │ 6.040388       │ 0.9353746521063162   │ 16     │ 2.4776546521063163 │\n",
      "├───┼──────────────────┼──────┼─────────┼──────────┼────────────────┼──────────────────────┼────────┼────────────────────┤\n",
      "│ 3 │ (381.5 ; 412.25] │ 18   │ 0.13833 │ 16.04628 │ 3.817022       │ 0.23787580912211442  │ 324    │ 20.191595809122116 │\n",
      "├───┼──────────────────┼──────┼─────────┼──────────┼────────────────┼──────────────────────┼────────┼────────────────────┤\n",
      "│ 4 │ (412.25 ; 443.0] │ 30   │ 0.22852 │ 26.50832 │ 12.191829      │ 0.4599246282827426   │ 900    │ 33.951604628282745 │\n",
      "├───┼──────────────────┼──────┼─────────┼──────────┼────────────────┼──────────────────────┼────────┼────────────────────┤\n",
      "│ 5 │ (443.0 ; 473.75] │ 21   │ 0.25108 │ 29.12528 │ 66.020175      │ 2.2667653350766055   │ 441    │ 15.14148533507661  │\n",
      "├───┼──────────────────┼──────┼─────────┼──────────┼────────────────┼──────────────────────┼────────┼────────────────────┤\n",
      "│ 6 │ (473.75 ; 504.5] │ 24   │ 0.18347 │ 21.28252 │ 7.384698       │ 0.3469841705963397   │ 576    │ 27.06446417059634  │\n",
      "├───┼──────────────────┼──────┼─────────┼──────────┼────────────────┼──────────────────────┼────────┼────────────────────┤\n",
      "│ 7 │ (504.5 ; 535.25] │ 14   │ 0.08914 │ 10.34024 │ 13.393843      │ 1.2953126095332412   │ 196    │ 18.955072609533243 │\n",
      "├───┼──────────────────┼──────┼─────────┼──────────┼────────────────┼──────────────────────┼────────┼────────────────────┤\n",
      "│ 8 │ (535.25 ; inf]   │ 2    │ 0.03593 │ 4.16788  │ 4.699704       │ 1.1276005293818456   │ 4      │ 0.9597205293818435 │\n",
      "├───┼──────────────────┼──────┼─────────┼──────────┼────────────────┼──────────────────────┼────────┼────────────────────┤\n",
      "│ Σ │ -                │ 116  │ 1.0     │ 116.0    │ -              │ 7.085730259102103    │ -      │ 123.0857302591021  │\n",
      "╘═══╧══════════════════╧══════╧═════════╧══════════╧════════════════╧══════════════════════╧════════╧════════════════════╛\n",
      "𝜒^2_наблюдаемое меньше 𝜒^2_критичекого, следовательно не противоречит гипотезе о нормальном распределении\n"
     ]
    }
   ],
   "source": [
    "argument = [float('-inf'), ]\n",
    "for i in range(1, k):\n",
    "    argument.append(round((start_point[i] - x_mid) / sko, 2))\n",
    "argument.append(float('inf'))\n",
    "print(f'Аргументы для функции Лапласа: {argument}')\n",
    "    \n",
    "phi = [-0.5, -0.48214, -0.42647, -0.28814, -0.05962, 0.19146, 0.37493, 0.46407, 0.5]\n",
    "print(f'Значения функции для соответствующих аргументов: {phi}')\n",
    "\n",
    "teoretic_frequency = []\n",
    "for i in range(k):\n",
    "    teoretic_frequency.append(phi[i+1] - phi[i])\n",
    "\n",
    "stp = ('-inf', *start_point[1:k+1], 'inf')\n",
    "\n",
    "frequency_emp = []\n",
    "sqrt_def_freq = []\n",
    "hi_observable = []\n",
    "frqnc_emp = []\n",
    "\n",
    "table4 = [['i', '(x[i-1], x[i]]', 'n[i]', 'p[i]', 'n\\'[i]', '(n[i]-n\\'[i])^2', '(n[i]-n\\'[i])^2/n\\'[i]', 'n[i]^2', 'n[i]^2/n\\'[i]']]\n",
    "for i in range(k):\n",
    "    frequency_emp.append(n * teoretic_frequency[i])\n",
    "    sqrt_def_freq.append((frequency[i]-frequency_emp[i])**2)\n",
    "    hi_observable.append(sqrt_def_freq[i]/frequency_emp[i])\n",
    "    frqnc_emp.append(frequency[i]**2 / frequency_emp[i])\n",
    "    \n",
    "    table4.append([i+1,f'({stp[i]} ; {stp[i+1]}]', frequency[i], round(teoretic_frequency[i],5), round(frequency_emp[i], 6), round(sqrt_def_freq[i],6), hi_observable[i], frequency[i]**2, frqnc_emp[i]])\n",
    "table4.append(['Σ', '-', sum(frequency), sum(teoretic_frequency), sum(frequency_emp), '-', sum(hi_observable), '-', sum(frqnc_emp)])\n",
    "print(tabulate(table4, tablefmt='fancy_grid'))\n",
    "print('𝜒^2_наблюдаемое меньше 𝜒^2_критичекого, следовательно не противоречит гипотезе о нормальном распределении')"
   ]
  },
  {
   "cell_type": "markdown",
   "id": "20a363ea",
   "metadata": {},
   "source": [
    "## Вывод"
   ]
  },
  {
   "cell_type": "markdown",
   "id": "9987bfbb",
   "metadata": {},
   "source": [
    "Были выполнены все задания, проанализированна выборка, изучен материал, данный на практических занятиях."
   ]
  }
 ],
 "metadata": {
  "kernelspec": {
   "display_name": "Python 3 (ipykernel)",
   "language": "python",
   "name": "python3"
  },
  "language_info": {
   "codemirror_mode": {
    "name": "ipython",
    "version": 3
   },
   "file_extension": ".py",
   "mimetype": "text/x-python",
   "name": "python",
   "nbconvert_exporter": "python",
   "pygments_lexer": "ipython3",
   "version": "3.10.8"
  }
 },
 "nbformat": 4,
 "nbformat_minor": 5
}
