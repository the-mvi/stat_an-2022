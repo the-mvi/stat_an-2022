{
 "cells": [
  {
   "cell_type": "markdown",
   "metadata": {},
   "source": [
    "## Практическая работа №2: Корреляционный и регрессионный анализ\n",
    "Выполнил студент гр. 0373 Пшеничный Владимир. Вариант №16"
   ]
  },
  {
   "cell_type": "markdown",
   "metadata": {},
   "source": [
    "## Цель работы\n",
    "Освоение основных понятий, связанных с корреляционной зависимостью между случайными величинами, статистическими гипотезами и проверкой их «справедливости». Ознакомление с основными положениями метода наименьших квадратов (МНК), со статистическими свойствами МНК оценок, с понятием функции регрессии и роли МНК в регрессионном анализе, с корреляционным отношением, как мерой тесноты произвольной(в том числе и линейной) корреляционной связи."
   ]
  },
  {
   "cell_type": "markdown",
   "metadata": {},
   "source": [
    "## Основные теоретические положения\n",
    "Интервальный вариационный ряд - весь промежуток измерения значений выборки $[x_{min} ; x_{max}]$ разбивают на частичные интервалы.  \n",
    "Формула Стерджеса: $$k = 1 + lb(n) ,$$  \n",
    "длина интервала: $$h = \\frac{R}{k} ,$$ где R(размах выборки) $$R = x_{max} - x_{min} .$$  \n",
    "Абсоюткая частота: $$n_i$$  \n",
    "Относительные частоты: $$p_i =\\frac{n_i}{n}$$  \n",
    "Середина интервала: $$\\tilde{x_i} = \\frac{x_i + x_{i-1}}{2}$$  \n",
    "Накопленные результаты - сумма результатов предыдущих отрезков.  \n",
    "Условная варианта: $$u_i = \\frac{x_i - C}{h} ,$$ где C - ложный нуль(середина среднего интервала(если их два, то смотрим на частоту))  \n",
    "Выборочное среднее - среднее арифметическое значерие признака выборочной совокупности:  \n",
    "$$\\overline{x_в} = \\frac{1}{n}\\cdot \\sum^n_{i=1}\\cdot x_i = \\frac{1}{n}\\cdot \\sum^k_{i=1}\\tilde{x_i}n_i = \\sum^k_{i=1}\\tilde{x_i}p_i$$  \n",
    "Межгрупповой дисперсией называется дисперсия групп средины относительно общей средней: $$σ^2_{межгр} = \\frac{1}{n}\\cdot \\sum^k_{i=1} n_i\\cdot (\\overline{x_i} - \\overline{x_в})^2$$   \n",
    "Средне-квадратичное отклонение(СКО): $$σ = \\sqrt{σ^2}$$\n",
    "\n",
    "Двумерная интервальная вариационная таблица, строется по следующим пунктам:  \n",
    "1) Первый столбец - интервалы $Y$, первая строка - интервалы $X$;  \n",
    "2) Ячейки интервалов заполняются частотой появления точки в интервале $n_{xy}$;  \n",
    "3) Последний столбец заполняется суммой строк, а последняя строка суммой столбцов.  \n",
    "\n",
    "Корреляционная таблица построенная на основе двумерной интервальной вариационной таблицы, строется по следующим пунктам:  \n",
    "1) Первый столбец - $v_j=\\frac{y_j-C_y}{h_y}$, первая строка - $u_i=\\frac{x_i-C_x}{h_x}$, где $C_y$, $C_x$ – ложные нули, $h_x$, $h_y$ – длины интервалов;  \n",
    "2) Ячейки заполняются также как и в двумерной интервальной вариационной таблицы $n_{uv}$;  \n",
    "3) В предпоследней строке - $V=\\sum{n_{uv}v}.$, в предпоследнем столбце - $U=\\sum{n_{uv}u}$;  \n",
    "4) В последней строке -  $Vu$, в последнем столбце - $Uv$, в последней ячейке контроль(суммы соседних ячеек должны быть равны).   \n",
    "Статистическа оценка коэффициент корреляции $r_\\beta = \\frac{\\mu_{xy}}{S_xS_y}$, где $\\mu_{xy} = \\bar{xy}-\\bar{x}\\cdot\\bar{y}$ - статистическая оценка кореляционного момента: $$\\frac{\\bar{y_x} - \\bar{y}}{\\sigma_y} = r_\\beta\\cdot\\frac{\\bar{x_y} - \\bar{x}}{\\sigma_x}$$  \n",
    "\n",
    "$|r_{xy}| \\leq 1$ Знак $r_{xy}$ означает, увеличивается(или уменьшается) ли одна переменная поо ере того, как увеличивается(или уменьшается) другая. $r_{xy} = r_{yx}$\n",
    "\n",
    "Вычисление коэффициента корреляции с помощью условных вариант:\n",
    "$$r_\\beta=\\frac{1}{n}\\sum_{i=1}^{k_u}\\sum_{j=1}^{k_v}{n_{uv}u_iv_j}-\\bar u\\cdot\\bar v$$  \n",
    "\n",
    "Поскольку распределение коэффициента корреляции сложное, то зачастую пользуются преобразованием Фишера := $z=arcth(r_\\beta)$.  \n",
    "Доверительный интервал для случайной величины z: $$\\Biggl(z-\\frac{t}{\\sqrt{n-3}};z+\\frac{t}{\\sqrt{n-3}}\\Biggl),$$  \n",
    "где $t$ определяется как $\\Phi(t)= \\frac{\\gamma}{2}$.  \n",
    "ДЛя постоения довенрительного интервала для коэффициента корреляции необходимо сделать обратное преобразование\n",
    "$\\bigl(th(z_l);th(z_u)\\bigl)$.  \n",
    "\n",
    "Распределение $r_\\beta$ сложное, поэтому применяется преобразование: $$T_{набл} = r_\\beta\\frac{\\sqrt{n - 2}}{\\sqrt{1-r_\\beta^2}}$$  \n",
    "\n",
    "Выборочное распределение данной статистики есть распределение Стьюдента при $df = n-2.$ поэтому: $$T_{крит} = t(\\alpha, df)$$  \n",
    "\n",
    "Область принятия гипотезы: $$|T_{набл}| \\lt T_{крит}.$$  \n",
    "Уравнения средней квадратичной регрессии:\n",
    "$$\\bar y_x-\\bar y=r_{xy}\\frac{\\sigma_y}{\\sigma_x}(x-\\bar x), \\bar x_y-\\bar x=r_{xy}\\frac{\\sigma_x}{\\sigma_y}(y-\\bar y)$$\n",
    "\n",
    "Корреляционные отношения: \n",
    "$$\\eta_{yx}=\\frac{\\sigma_{\\bar y_x}}{\\sigma_y}=\\frac{\\sqrt{\\sum_{n_x(\\bar y_x-\\bar y)^2}}}{\\sqrt{\\sum_{n_y(y-\\bar y)^2}}}, \\eta_{xy}=\\frac{\\sigma_{\\bar x_y}}{\\sigma_x}=\\frac{\\sqrt{\\sum_{n_y(\\bar x_y-\\bar x)^2}}}{\\sqrt{\\sum_{n_x(x-\\bar x)^2}}}$$  \n",
    "\n",
    "Теоретический коэффициент детерминации представляет мобой отношение объясненной(уравнением) дисперсии призака - результата к общей дисперсии результата признака.\n",
    "$$R_y^2=\\frac{(\\delta_y^*)^2}{\\sigma_y^2}=\\frac{\\sum_{i=1}^n{(y_{x_i}-\\bar y)^2}}{n\\sigma_y^2}, R_x^2=\\frac{(\\delta_x^*)^2}{\\sigma_x^2}=\\frac{\\sum_{i=1}^n{(x_{y_i}-\\bar x)^2}}{n\\sigma_x^2}$$  \n",
    "\n",
    "Средняя квадратическая ошибка уравнения регрессии $S_\\varepsilon$ представляет собой СКО наблюдаемого значение результата признака от теоретический значений рассчитанныз по модели:\n",
    "$$S_{\\varepsilon y} = \\sqrt{\\frac{\\sum_{i=1}^n\\varepsilon_{y_i}^2}{n - l}}, S_{\\varepsilon x} = \\sqrt{\\frac{\\sum_{i=1}^n\\varepsilon_{x_i}^2}{n - l}},$$  \n",
    "\n",
    "\n",
    "где $l$ – число параметров в модели регрессии, $\\varepsilon {y_i}=y_i-y_{x_i}$, $\\varepsilon {x_i}=x_i-x_{y_i}$  \n",
    "\n",
    "Величину средне квадратической ошибки $S_\\varepsilon$ можно сравнить с СКО результата признака {\\sigma}. Если $S_\\varepsilon$ окажется меньше {\\sigma} , использование модели регрессии является целесообразным.  \n",
    "\n",
    "Средняя ошибка аппроксимации  $A$ равна:  \n",
    "$$A_y=\\frac{1}{n}\\sum_{i=1}^n\\Big|\\frac{\\varepsilon_{y_i}}{y_i}\\Big|, A_x=\\frac{1}{n}\\sum_{i=1}^n\\Big|\\frac{\\varepsilon_{x_i}}{x_i}\\Big|$$\n",
    "Чем меньше рассеяние эмпирических точек вокруг теоретической линии регрессии, тем меньше средняя ошибка аппроксимации. $A \\lt 7\\%$ свидетельствует о хорошем выборе модели."
   ]
  },
  {
   "cell_type": "markdown",
   "metadata": {},
   "source": [
    "## Постановка задачи\n",
    "Из заданной генеральной совокупности сформировать выборку по второму признаку. Для системы двух случайных величин 𝑋 (первый признак) и 𝑌 (второй признак) сформировать двумерную выборку и найти\n",
    "статистическую оценку коэффициента корреляции, построить доверительный интервал для коэффициента корреляции и осуществить проверку статистической гипотезы о равенстве коэффициента корреляции\n",
    "нулю. Построить уравнения выборочных прямых среднеквадратической\n",
    "регрессии. Полученные линейные функции регрессии отобразить графически. Найти выборочное корреляционное отношение. Оценить адекватность моделей. Полученные результаты содержательно проинтерпретировать."
   ]
  },
  {
   "cell_type": "markdown",
   "metadata": {},
   "source": [
    "## Выполнение работы"
   ]
  },
  {
   "cell_type": "markdown",
   "metadata": {},
   "source": [
    "### Первый пункт: Провести статистическую обработку второй выборки в объеме практической работы №1 с целью определения точечных статистических оценок параметров распределения исследуемого признака (математического ожидания, дисперсии, среднеквадратичного отклонения, асимметрии, эксцесса, моды, медианы и коэффициента вариации)."
   ]
  },
  {
   "cell_type": "code",
   "execution_count": 1,
   "metadata": {},
   "outputs": [],
   "source": [
    "import pandas as pd\n",
    "import matplotlib.mlab as mlab\n",
    "import matplotlib.pyplot as plt\n",
    "import numpy as np\n",
    "import math\n",
    "from tabulate import tabulate\n",
    "X = [480, 482, 403, 442, 525, 449, 484, 422, 408, 545, 503, 437, 434, 399, 496, 419, 405, 415, 463, 504, 340, 416, 423, \n",
    "     433, 465, 468, 505, 490, 566, 500, 421, 320, 487, 438, 518, 522, 412, 462,413, 480, 394, 452, 446, 440, 397, 397, \n",
    "     442, 463, 499, 436, 421, 473, 448, 398, 457, 497, 457, 472, 498, 377, 371, 439,469, 498, 422, 481, 418, 507, 414, \n",
    "     513, 423, 458, 391, 522, 383, 382, 525, 477, 432, 421, 464, 525, 447, 475, 482, 436, 394, 521, 401, 468, 352, 493, \n",
    "     433, 510, 477, 382, 417, 483, 523, 404, 340, 409, 492, 506, 421, 517, 379, 466, 407, 448, 438, 413, 482, 500, 438, 458]\n",
    "Y = [153.3, 139.9, 123.9, 115.4, 156.5, 124.5, 147.5, 117.9, 110.0, 145.3, 148.5, 124.3, 122.3, 100.0, 143.1, 105.3, 103.6, \n",
    "     119.7, 144.9, 143.8, 85.1, 120.5, 131.1, 131.5, 127.7, 128.9, 155.8, 139.9, 175.7, 155.5, 118.0, 72.6, 146.0, 134.1, \n",
    "     154.0, 154.5, 127.8, 138.8, 106.7, 153.9, 112.1, 131.0, 130.3, 126.7, 106.8, 108.6, 126.2, 125.0, 144.5, 114.3, 115.1,\n",
    "     137.9, 125.9, 109.0, 126.4, 147.3, 103.6, 146.3, 144.5, 97.8, 91.9, 119.2, 131.5, 145.5, 115.7, 135.2, 125.7, 142.4, \n",
    "     113.5, 163.6, 130.8, 130.7, 98.2, 143.8, 109.7, 98.1, 148.3, 139.7, 123.0, 126.9, 131.3, 165.9, 117.5, 155.7, 150.1, \n",
    "     116.7, 117.7, 139.6, 100.1, 141.2, 84.9, 129.7, 130.0, 153.9, 146.0, 113.9, 124.3, 130.3, 172.8, 112.0, 93.5, 116.7, \n",
    "     137.5, 153.5, 117.8, 151.1, 94.6, 137.9, 110.5, 123.3, 131.4, 110.8, 148.2, 136.6, 127.0, 104.7]"
   ]
  },
  {
   "cell_type": "code",
   "execution_count": 2,
   "metadata": {},
   "outputs": [],
   "source": [
    "# Создаем ранжированный ряд\n",
    "\n",
    "def rank(X):\n",
    "    X_rank = sorted(X)\n",
    "    n = len(X)  # Кол-во элементов выборки\n",
    "    x_mid = sum(X)/n  # Выборочное среднее\n",
    "    return X_rank, n, x_mid"
   ]
  },
  {
   "cell_type": "code",
   "execution_count": 3,
   "metadata": {},
   "outputs": [],
   "source": [
    "# Заполняем вариационный ряд и частоту каждого элемента\n",
    "\n",
    "def var(X, X_rank):\n",
    "    X_var, frequency_var = [] ,[]\n",
    "    for empty in sorted(set(X_rank)):\n",
    "        X_var.append(empty)   # Вариационный ряд\n",
    "        frequency_var.append(X_rank.count(empty))   # Частота вариационного ряда\n",
    "    return X_var, frequency_var"
   ]
  },
  {
   "cell_type": "code",
   "execution_count": 4,
   "metadata": {},
   "outputs": [],
   "source": [
    "# Заполняем интервальный ряд и кол-во элементов в интервале\n",
    "\n",
    "def start_point(X_rank, n, frequency_var):\n",
    "    k = 1 + round(np.log2(n))\n",
    "    h = (X_rank[-1] - X_rank[0])/k\n",
    "\n",
    "    start_point = [empty for empty in np.arange(X_rank[0], X_rank[-1], h)]    # Начальные точки интервалов\n",
    "    frequency = [0]*k       # Частота попадания в интервал\n",
    "    for i in np.arange(X_rank[0], X_rank[-1]+1, h):\n",
    "        for j in X_rank:\n",
    "            if i < j <= i+h:\n",
    "                frequency[round((i-X_rank[0])/h)] += 1   \n",
    "    frequency[0] += frequency_var[0]   # Дополняем частоту первого элемента в первый интервал\n",
    "    start_point = [empty for empty in np.arange(X_rank[0], X_rank[-1], h)]  # Заполняем список начала интервалов\n",
    "\n",
    "    frequency_relativ = []       # Относительные частоты\n",
    "    x_mid_range = []      # Средне-интервальные значения\n",
    "    for i in range(k):\n",
    "        frequency_relativ.append(frequency[i]/n)   # Считаем относительную частоту для каждого интервала\n",
    "        x_mid_range.append(start_point[i] + h/2)   # Считаем средину каждого интервала\n",
    "\n",
    "    return k, h, start_point, x_mid_range, frequency, frequency_relativ "
   ]
  },
  {
   "cell_type": "code",
   "execution_count": 5,
   "metadata": {},
   "outputs": [],
   "source": [
    "# Вычисление выборочного среднего и дисперсии\n",
    "\n",
    "def disp(frequency_relativ, x_mid_range, x_mid, k):\n",
    "    disp = 0    # Считаем дисперсию\n",
    "    for i in range(k):\n",
    "        disp += frequency_relativ[i] * ((x_mid_range[i] - x_mid)**2)\n",
    "\n",
    "    x_middle = 0   # Считаем выборочные среднее\n",
    "    for i in range(k):\n",
    "        x_middle += frequency_relativ[i] * x_mid_range[i]\n",
    "    return disp, x_middle"
   ]
  },
  {
   "cell_type": "code",
   "execution_count": 6,
   "metadata": {},
   "outputs": [],
   "source": [
    "# Вычисление исправленную дисперсию и СКО\n",
    "\n",
    "def SK(disp, n):\n",
    "    correct_disp = disp*n/(n-1)    # Исправленная дисперсия\n",
    "    correct_sko = correct_disp**0.5   # Исправленная СКО\n",
    "    sko = disp**0.5   # СКО\n",
    "    return sko, correct_sko, correct_disp"
   ]
  },
  {
   "cell_type": "code",
   "execution_count": 7,
   "metadata": {},
   "outputs": [],
   "source": [
    "# Вычисление условных вариант\n",
    "\n",
    "def conditional_options(k, frequency, x_mid_range, h):\n",
    "    if not k % 2:   # Ищем средний интервал для нахождения ложного нуля\n",
    "        if frequency[k//2] <= frequency[k//2-1]:   # Сравниваем для четного числа интервалов частоту средних\n",
    "            false_nul = x_mid_range[k//2-1]\n",
    "        else:\n",
    "            false_nul = x_mid_range[k//2]\n",
    "    else:\n",
    "        false_nul = x_mid_range[k//2]\n",
    "\n",
    "    cond_op, n_u_1, n_u_2, n_u_3, n_u_4, nu_4 = [], [], [], [], [], []\n",
    "    for i in range(k):\n",
    "        cond_op.append(round((x_mid_range[i] - false_nul)/h))   # Считаем условные варианты\n",
    "        n_u_1.append(frequency[i] * cond_op[i])   \n",
    "        n_u_2.append(n_u_1[i] * cond_op[i])\n",
    "        n_u_3.append(n_u_2[i] * cond_op[i])\n",
    "        n_u_4.append(n_u_3[i] * cond_op[i])\n",
    "        nu_4.append(frequency[i] * ((cond_op[i] + 1)**4))\n",
    "    return cond_op, n_u_1, n_u_2, n_u_3, n_u_4, nu_4"
   ]
  },
  {
   "cell_type": "code",
   "execution_count": 8,
   "metadata": {},
   "outputs": [],
   "source": [
    "#Вычисление условных эмпирических моментов и центральных эмпирических моментов\n",
    "\n",
    "def cond_option_m(n_u_1, n_u_2, n_u_3, n_u_4, n, h):\n",
    "    cond_emp_m = [sum(n_u_1)/n, sum(n_u_2)/n, sum(n_u_3)/n, sum(n_u_4)/n]   # Считаем условные варианты\n",
    "    mu = [0, (cond_emp_m[1] * h**2 - (cond_emp_m[0] * h)**2)]   # Считаем центральные эмпирические моменты\n",
    "    mu.append((cond_emp_m[2] - 3 * cond_emp_m[1] * cond_emp_m[0] + 2 * cond_emp_m[0]**3) * h**3)\n",
    "    mu.append((cond_emp_m[3] - 4 * cond_emp_m[2] * cond_emp_m[0] + 6 * cond_emp_m[1]* cond_emp_m[0]**2 - 3 * cond_emp_m[0]**4) * h**4)\n",
    "    return cond_emp_m, mu"
   ]
  },
  {
   "cell_type": "code",
   "execution_count": 9,
   "metadata": {},
   "outputs": [],
   "source": [
    "# Нахождение статистической оценки, коэффициентов асимметрии и эксцесса\n",
    "\n",
    "def asymm(mu, sko):\n",
    "    asymm = mu[2]/sko**3   # Ассиметрия\n",
    "    excess = mu[3]/sko**4-3    # Эксесс\n",
    "    return asymm, excess"
   ]
  },
  {
   "cell_type": "code",
   "execution_count": 10,
   "metadata": {},
   "outputs": [],
   "source": [
    "# Вычисление моды, медианы и коэффициентов вариации\n",
    "\n",
    "def mode(frequency, start_point, h, frequency_relativ, sko, x_mid, cond_op):\n",
    "    mod = [frequency[frequency.index(max(frequency)) - 1], max(frequency), frequency[frequency.index(max(frequency)) + 1]]\n",
    "    moda = start_point[cond_op.index(0)] + h*(mod[1]-mod[0])/(2 * mod[1] - mod[0] - mod[2])   # Мода\n",
    "\n",
    "    counter = 0\n",
    "    while sum(frequency_relativ[ : counter + 1]) < 0.5: counter += 1\n",
    "\n",
    "    mediana = start_point[counter] + (h/frequency_relativ[counter])*(0.5-sum(frequency_relativ[:counter]))   # Медиана\n",
    "\n",
    "    coeff_var = sko/x_mid*100    # Коэффициент вариации\n",
    "    return moda, mediana, coeff_var"
   ]
  },
  {
   "cell_type": "code",
   "execution_count": 11,
   "metadata": {},
   "outputs": [],
   "source": [
    "# Создаем ранжированный ряд\n",
    "X_rank, n, x_mid = rank(X) # Для X\n",
    "Y_rank, n, y_mid = rank(Y) # Для Y\n",
    "\n",
    "# Заполняем вариационный ряд и частоту каждого элемента\n",
    "X_var, x_frequency_var = var(X, X_rank) # Для X\n",
    "Y_var, y_frequency_var = var(Y, Y_rank) # Для Y\n",
    "\n",
    "# Заполняем интервальный ряд и кол-во элементов в интервале\n",
    "k, h_x, start_point_x, x_mid_range, frequency_x, frequency_relativ_x = start_point(X_rank, n, x_frequency_var) # Для X\n",
    "k, h_y, start_point_y, y_mid_range, frequency_y, frequency_relativ_y = start_point(Y_rank, n, y_frequency_var) # Для Y\n",
    "\n",
    "# Вычисление выборочного среднего и дисперсии\n",
    "disp_x, x_middle = disp(frequency_relativ_x, x_mid_range, x_mid, k) # Для X\n",
    "disp_y, y_middle = disp(frequency_relativ_y, y_mid_range, y_mid, k) # Для Y\n",
    "\n",
    "# Вычисление исправленную дисперсию и СКО\n",
    "sko_x, correct_sko_x, correct_disp_x = SK(disp_x, n) # Для X\n",
    "sko_y, correct_sko_y, correct_disp_y = SK(disp_y, n) # Для Y\n",
    "\n",
    "# Вычисление условных вариант\n",
    "cond_op_x, n_u_1_x, n_u_2_x, n_u_3_x, n_u_4_x, nu_4_x = conditional_options(k, frequency_x, x_mid_range, h_x) # Для X\n",
    "cond_op_y, n_u_1_y, n_u_2_y, n_u_3_y, n_u_4_y, nu_4_y = conditional_options(k, frequency_y, y_mid_range, h_y) # Для Y\n",
    "\n",
    "#Вычисление условных эмпирических моментов и центральных эмпирических моментов\n",
    "cond_emp_m_x, mu_x = cond_option_m(n_u_1_x, n_u_2_x, n_u_3_x, n_u_4_x, n, h_x) # Для X\n",
    "cond_emp_m_y, mu_y = cond_option_m(n_u_1_y, n_u_2_y, n_u_3_y, n_u_4_y, n, h_y) # Для Y\n",
    "\n",
    "# Нахождение статистической оценки, коэффициентов асимметрии и эксцесса\n",
    "asymm_x, excess_x = asymm(mu_x, sko_x) # Для X\n",
    "asymm_y, excess_y = asymm(mu_y, sko_y) # Для Y\n",
    "\n",
    "# Вычисление моды, медианы и коэффициентов вариации\n",
    "moda_x, mediana_x, coeff_var_x = mode(frequency_x, start_point_x, h_x, frequency_relativ_x, sko_x, x_mid, cond_op_x) # Для X\n",
    "moda_y, mediana_y, coeff_var_y = mode(frequency_y, start_point_y, h_y, frequency_relativ_y, sko_y, y_mid, cond_op_y) # Для Y"
   ]
  },
  {
   "cell_type": "code",
   "execution_count": 12,
   "metadata": {},
   "outputs": [
    {
     "name": "stdout",
     "output_type": "stream",
     "text": [
      "╒═══╤════════════════════════════════╤════════════════════╤══════╤══════════════════════╤════════╤═════════════════════╕\n",
      "│ i │ (y[i-1], y[i]]                 │ y_mid[i]           │ n[i] │ p*[i]                │ Σn_[i] │ Σp_[i]              │\n",
      "├───┼────────────────────────────────┼────────────────────┼──────┼──────────────────────┼────────┼─────────────────────┤\n",
      "│ 1 │ (72.6 ; 85.4875]               │ 79.04374999999999  │ 3    │ 0.02586206896551724  │ 3      │ 0.02586206896551724 │\n",
      "├───┼────────────────────────────────┼────────────────────┼──────┼──────────────────────┼────────┼─────────────────────┤\n",
      "│ 2 │ (85.4875 ; 98.375]             │ 91.93124999999999  │ 6    │ 0.05172413793103448  │ 9      │ 0.07758620689655173 │\n",
      "├───┼────────────────────────────────┼────────────────────┼──────┼──────────────────────┼────────┼─────────────────────┤\n",
      "│ 3 │ (98.375 ; 111.2625]            │ 104.81875          │ 14   │ 0.1206896551724138   │ 23     │ 0.19827586206896552 │\n",
      "├───┼────────────────────────────────┼────────────────────┼──────┼──────────────────────┼────────┼─────────────────────┤\n",
      "│ 4 │ (111.2625 ; 124.15]            │ 117.70625          │ 22   │ 0.1896551724137931   │ 45     │ 0.3879310344827586  │\n",
      "├───┼────────────────────────────────┼────────────────────┼──────┼──────────────────────┼────────┼─────────────────────┤\n",
      "│ 5 │ (124.15 ; 137.0375]            │ 130.59375          │ 29   │ 0.25                 │ 74     │ 0.6379310344827587  │\n",
      "├───┼────────────────────────────────┼────────────────────┼──────┼──────────────────────┼────────┼─────────────────────┤\n",
      "│ 6 │ (137.03750000000002 ; 149.925] │ 143.48125000000002 │ 26   │ 0.22413793103448276  │ 100    │ 0.8620689655172414  │\n",
      "├───┼────────────────────────────────┼────────────────────┼──────┼──────────────────────┼────────┼─────────────────────┤\n",
      "│ 7 │ (149.925 ; 162.8125]           │ 156.36875          │ 12   │ 0.10344827586206896  │ 112    │ 0.9655172413793104  │\n",
      "├───┼────────────────────────────────┼────────────────────┼──────┼──────────────────────┼────────┼─────────────────────┤\n",
      "│ 8 │ (162.8125 ; 175.7]             │ 169.25625          │ 4    │ 0.034482758620689655 │ 116    │ 1.0                 │\n",
      "├───┼────────────────────────────────┼────────────────────┼──────┼──────────────────────┼────────┼─────────────────────┤\n",
      "│ Σ │ -                              │ -                  │ 116  │ 1.0                  │ -      │ -                   │\n",
      "╘═══╧════════════════════════════════╧════════════════════╧══════╧══════════════════════╧════════╧═════════════════════╛\n",
      "╒════════════════╤═════════╤═════════╤═══════╤═══════════════╤══════════════╤════════╤════════╤═════════╤═════════╤═══════════╕\n",
      "│ Характеристика │ y_mid   │ disp_y  │ sko_y │ corect_dist_y │ corect_sko_y │ assymm │ excess │ moda    │ mediana │ coeff_var │\n",
      "├────────────────┼─────────┼─────────┼───────┼───────────────┼──────────────┼────────┼────────┼─────────┼─────────┼───────────┤\n",
      "│ Значение       │ 128.355 │ 411.277 │ 20.28 │ 414.853       │ 20.368       │ -0.274 │ -0.296 │ 133.171 │ 129.927 │ 15.8      │\n",
      "╘════════════════╧═════════╧═════════╧═══════╧═══════════════╧══════════════╧════════╧════════╧═════════╧═════════╧═══════════╛\n"
     ]
    }
   ],
   "source": [
    "# Вывод результатов в таблице\n",
    "\n",
    "table1 = [['i', '(y[i-1], y[i]]', 'y_mid[i]', 'n[i]', 'p*[i]', 'Σn_[i]', ' Σp_[i]']]\n",
    "for i in range(k):\n",
    "    table1.append([i+1,f'({start_point_y[i]} ; {start_point_y[i] + h_y}]', y_mid_range[i], frequency_y[i], frequency_relativ_y[i], sum(frequency_y[:i+1]), sum(frequency_relativ_y[:i+1])])\n",
    "table1.append(['Σ', '-', '-', sum(frequency_y), sum(frequency_relativ_y),'-', '-'])\n",
    "print(tabulate(table1, tablefmt='fancy_grid'))\n",
    "\n",
    "table2 = [['Характеристика', 'y_mid','disp_y', 'sko_y', 'corect_dist_y', 'corect_sko_y', 'assymm', 'excess', 'moda', 'mediana', 'coeff_var']]\n",
    "table2.append(['Значение', round(y_mid, 3), round(disp_y, 3), round(sko_y, 3), round(correct_disp_y, 3), round(correct_sko_y, 3), round(asymm_y, 3), round(excess_y, 3), round(moda_y, 3), round(mediana_y, 3), round(coeff_var_y, 3)])\n",
    "print(tabulate(table2, tablefmt='fancy_grid'))"
   ]
  },
  {
   "cell_type": "markdown",
   "metadata": {},
   "source": [
    "#### Выводы: распределение близко к нормальному, но имеет отклонение в право. Выборка является репрезентотивной. Совокупность однородна."
   ]
  },
  {
   "cell_type": "markdown",
   "metadata": {},
   "source": [
    "### Второй пункт: Построить двумерный интервальный вариационный ряд."
   ]
  },
  {
   "cell_type": "code",
   "execution_count": 13,
   "metadata": {},
   "outputs": [
    {
     "name": "stdout",
     "output_type": "stream",
     "text": [
      "╒════════════╤════════════╤════════════╤════════════╤════════════╤════════════╤════════════╤════════════╤════════════╤═════╕\n",
      "│ y\\x        │ (320; 351] │ (351; 382] │ (382; 412] │ (412; 443] │ (443; 474] │ (474; 504] │ (504; 535] │ (535; 566] │ n_y │\n",
      "├────────────┼────────────┼────────────┼────────────┼────────────┼────────────┼────────────┼────────────┼────────────┼─────┤\n",
      "│ (73; 85]   │ 2          │ 1          │ 0          │ 0          │ 0          │ 0          │ 0          │ 0          │ 3   │\n",
      "├────────────┼────────────┼────────────┼────────────┼────────────┼────────────┼────────────┼────────────┼────────────┼─────┤\n",
      "│ (85; 98]   │ 1          │ 3          │ 2          │ 0          │ 0          │ 0          │ 0          │ 0          │ 6   │\n",
      "├────────────┼────────────┼────────────┼────────────┼────────────┼────────────┼────────────┼────────────┼────────────┼─────┤\n",
      "│ (98; 111]  │ 0          │ 0          │ 9          │ 3          │ 2          │ 0          │ 0          │ 0          │ 14  │\n",
      "├────────────┼────────────┼────────────┼────────────┼────────────┼────────────┼────────────┼────────────┼────────────┼─────┤\n",
      "│ (111; 124] │ 0          │ 0          │ 6          │ 14         │ 2          │ 0          │ 0          │ 0          │ 22  │\n",
      "├────────────┼────────────┼────────────┼────────────┼────────────┼────────────┼────────────┼────────────┼────────────┼─────┤\n",
      "│ (124; 137] │ 0          │ 0          │ 1          │ 13         │ 11         │ 4          │ 0          │ 0          │ 29  │\n",
      "├────────────┼────────────┼────────────┼────────────┼────────────┼────────────┼────────────┼────────────┼────────────┼─────┤\n",
      "│ (137; 150] │ 0          │ 0          │ 0          │ 0          │ 6          │ 15         │ 4          │ 1          │ 26  │\n",
      "├────────────┼────────────┼────────────┼────────────┼────────────┼────────────┼────────────┼────────────┼────────────┼─────┤\n",
      "│ (150; 163] │ 0          │ 0          │ 0          │ 0          │ 0          │ 5          │ 7          │ 0          │ 12  │\n",
      "├────────────┼────────────┼────────────┼────────────┼────────────┼────────────┼────────────┼────────────┼────────────┼─────┤\n",
      "│ (163; 176] │ 0          │ 0          │ 0          │ 0          │ 0          │ 0          │ 3          │ 1          │ 4   │\n",
      "├────────────┼────────────┼────────────┼────────────┼────────────┼────────────┼────────────┼────────────┼────────────┼─────┤\n",
      "│ n_x        │ 3          │ 4          │ 18         │ 30         │ 21         │ 24         │ 14         │ 2          │ 116 │\n",
      "╘════════════╧════════════╧════════════╧════════════╧════════════╧════════════╧════════════╧════════════╧════════════╧═════╛\n"
     ]
    }
   ],
   "source": [
    "# Вывод двумерного интервального вариационного ряда в таблице\n",
    "\n",
    "# создание n_yx матрицы\n",
    "frequency_var = [[0]*k for i in range(k)]\n",
    "for i in range(k):\n",
    "    for j in range(k):\n",
    "        for t in range(n):\n",
    "            if start_point_x[i] <= X[t] <= start_point_x[i] + h_x and start_point_y[j] <= Y[t] <= start_point_y[j] + h_y:\n",
    "                frequency_var[j][i] += 1\n",
    "\n",
    "table3 = [['y\\\\x']]\n",
    "for i in range(k):\n",
    "    table3[0].append(f'({round(start_point_x[i])}; {round(start_point_x[i]+h_x)}]')\n",
    "table3[0].append('n_y')\n",
    "for i in range(k):\n",
    "    table3.append([f'({round(start_point_y[i])}; {round(start_point_y[i]+h_y)}]', *frequency_var[i], sum(frequency_var[i])])\n",
    "table3.append(['n_x', *frequency_x , sum(frequency_x)])\n",
    "print(tabulate(table3, tablefmt='fancy_grid'))"
   ]
  },
  {
   "cell_type": "markdown",
   "metadata": {},
   "source": [
    " ### Третий пункт:  По полученному двумерному интервальному вариационному ряду сформировать условные варианты и по полученным условным вариантам построить корреляционную таблицу."
   ]
  },
  {
   "cell_type": "code",
   "execution_count": 14,
   "metadata": {
    "scrolled": false
   },
   "outputs": [
    {
     "name": "stdout",
     "output_type": "stream",
     "text": [
      "╒═════════════╤═════╤═════╤═════╤═════╤════╤════╤════╤════╤═════════════╤══════╕\n",
      "│ v\\u         │  -3 │  -2 │  -1 │   0 │  1 │  2 │  3 │  4 │ U = ∑n_uv*u │ vU   │\n",
      "├─────────────┼─────┼─────┼─────┼─────┼────┼────┼────┼────┼─────────────┼──────┤\n",
      "│ -4          │   2 │   1 │   0 │   0 │  0 │  0 │  0 │  0 │ -8          │ 32   │\n",
      "├─────────────┼─────┼─────┼─────┼─────┼────┼────┼────┼────┼─────────────┼──────┤\n",
      "│ -3          │   1 │   3 │   2 │   0 │  0 │  0 │  0 │  0 │ -11         │ 33   │\n",
      "├─────────────┼─────┼─────┼─────┼─────┼────┼────┼────┼────┼─────────────┼──────┤\n",
      "│ -2          │   0 │   0 │   9 │   3 │  2 │  0 │  0 │  0 │ -7          │ 14   │\n",
      "├─────────────┼─────┼─────┼─────┼─────┼────┼────┼────┼────┼─────────────┼──────┤\n",
      "│ -1          │   0 │   0 │   6 │  14 │  2 │  0 │  0 │  0 │ -4          │ 4    │\n",
      "├─────────────┼─────┼─────┼─────┼─────┼────┼────┼────┼────┼─────────────┼──────┤\n",
      "│ 0           │   0 │   0 │   1 │  13 │ 11 │  4 │  0 │  0 │ 18          │ 0    │\n",
      "├─────────────┼─────┼─────┼─────┼─────┼────┼────┼────┼────┼─────────────┼──────┤\n",
      "│ 1           │   0 │   0 │   0 │   0 │  6 │ 15 │  4 │  1 │ 52          │ 52   │\n",
      "├─────────────┼─────┼─────┼─────┼─────┼────┼────┼────┼────┼─────────────┼──────┤\n",
      "│ 2           │   0 │   0 │   0 │   0 │  0 │  5 │  7 │  0 │ 31          │ 62   │\n",
      "├─────────────┼─────┼─────┼─────┼─────┼────┼────┼────┼────┼─────────────┼──────┤\n",
      "│ 3           │   0 │   0 │   0 │   0 │  0 │  0 │  3 │  1 │ 13          │ 39   │\n",
      "├─────────────┼─────┼─────┼─────┼─────┼────┼────┼────┼────┼─────────────┼──────┤\n",
      "│ V = ∑n_uv*v │ -11 │ -13 │ -30 │ -20 │  0 │ 25 │ 27 │  4 │ -           │ 236  │\n",
      "├─────────────┼─────┼─────┼─────┼─────┼────┼────┼────┼────┼─────────────┼──────┤\n",
      "│ uV          │  33 │  26 │  30 │   0 │  0 │ 50 │ 81 │ 16 │ 236         │ good │\n",
      "╘═════════════╧═════╧═════╧═════╧═════╧════╧════╧════╧════╧═════════════╧══════╛\n"
     ]
    }
   ],
   "source": [
    "# Вывод двумерного интервального вариационного ряда в таблице\n",
    "\n",
    "U, V =  [0]*k ,  [0]*k \n",
    "for i in range(k):\n",
    "    for j in range(k):\n",
    "        U[i] += frequency_var[i][j] * cond_op_x[j]\n",
    "        V[i] += frequency_var[j][i] * cond_op_y[j]\n",
    "\n",
    "table3 = [['v\\\\u', *cond_op_x, 'U = ∑n_uv*u', 'vU']]\n",
    "for i in range(k):\n",
    "    table3.append([cond_op_y[i], *frequency_var[i], U[i], U[i] * cond_op_y[i]])\n",
    "table3.append(['V = ∑n_uv*v', *V , '-', sum([U[i] * cond_op_y[i] for i in range(k)])])\n",
    "table3.append(['uV', *[V[i] * cond_op_x[i] for i in range(k)] , sum([V[i] * cond_op_x[i] for i in range(k)]), ''])\n",
    "table3[-1][-1] = 'good' if table3[-2][-1] == table3[-1][-2] else 'bad' # Контроль\n",
    "print(tabulate(table3, tablefmt='fancy_grid'))"
   ]
  },
  {
   "cell_type": "markdown",
   "metadata": {},
   "source": [
    "#### Выводы: контроль вычисления корреляциоонной таблицы через условный варианты пройден, значения посчитанны правильно."
   ]
  },
  {
   "cell_type": "markdown",
   "metadata": {},
   "source": [
    "### Четверый пункт:  Исходя из результатов корреляционной таблицы вычислить коэффициент корреляции."
   ]
  },
  {
   "cell_type": "code",
   "execution_count": 15,
   "metadata": {},
   "outputs": [
    {
     "name": "stdout",
     "output_type": "stream",
     "text": [
      "Коэффициент корреляции = 0.885848812592836\n"
     ]
    }
   ],
   "source": [
    "# Вычисление коэффициентов корреляции\n",
    "\n",
    "mid_u, mid_v = 0, 0\n",
    "sko_u, sko_v = 0, 0\n",
    "corr_coeff = 0\n",
    "\n",
    "for i in range(k):\n",
    "    for j in range(k):\n",
    "        corr_coeff += frequency_var[j][i] * cond_op_y[j] * cond_op_x[i]\n",
    "\n",
    "for i in range(k):\n",
    "    mid_v += cond_op_y[i] * frequency_relativ_y[i]\n",
    "    mid_u += cond_op_x[i] * frequency_relativ_x[i]\n",
    "\n",
    "for i in range(k):\n",
    "    sko_u +=  frequency_relativ_x[i] * cond_op_x[i]**2\n",
    "    sko_v +=  frequency_relativ_y[i] * cond_op_y[i]**2\n",
    "\n",
    "sko_u = (sko_u - mid_u**2)**(0.5)\n",
    "sko_v = (sko_v - mid_v**2)**(0.5)\n",
    "\n",
    "corr_coeff -= (n * mid_v * mid_u)\n",
    "corr_coeff /= (n * sko_v * sko_u)\n",
    "print(f'Коэффициент корреляции = {corr_coeff}')"
   ]
  },
  {
   "cell_type": "markdown",
   "metadata": {},
   "source": [
    "#### Выводы: корреляция положительна, значит для этой выборки с увеличением одного параметра, увеличивается другой, но связь слабая."
   ]
  },
  {
   "cell_type": "markdown",
   "metadata": {},
   "source": [
    "### Пятый пункт: Построить доверительный интервал для коэффициента корреляции при уровне значимости 𝛾 ∈ {0.95, 0.99}"
   ]
  },
  {
   "cell_type": "code",
   "execution_count": 16,
   "metadata": {},
   "outputs": [
    {
     "name": "stdout",
     "output_type": "stream",
     "text": [
      "Доверительный интервал для 𝛾 = 0.95:\n",
      "(0.8384827630767839; 0.9199294029028927)\n",
      "Доверительный интервал для 𝛾 = 0.99:\n",
      "(0.8196781783617263; 0.9286891426032166)\n"
     ]
    }
   ],
   "source": [
    "# Вычисление точности и доверительного интервала для математического ожидания\n",
    "\n",
    "t1, t2 = 1.98, 2.62   # Табулированыe значения\n",
    "print('Доверительный интервал для 𝛾 = 0.95:')\n",
    "print(f'({np.tanh(np.arctanh(corr_coeff) - t1 / (n-3)**0.5)}; {np.tanh(np.arctanh(corr_coeff) + t1  / (n-3)**0.5)})')\n",
    "print('Доверительный интервал для 𝛾 = 0.99:')\n",
    "print(f'({np.tanh(np.arctanh(corr_coeff) - t2 / (n-3)**0.5)}; {np.tanh(np.arctanh(corr_coeff) + t2  / (n-3)**0.5)})')"
   ]
  },
  {
   "cell_type": "markdown",
   "metadata": {},
   "source": [
    "#### Выводы: Оба получившихся доверительных интервала покрывают коэффициент корреляции."
   ]
  },
  {
   "cell_type": "markdown",
   "metadata": {},
   "source": [
    "### Шестой пункт: Осуществить проверку статистической гипотезы о равенстве коэффициента корреляции нулю при заданном уровне значимости 𝛼 = 0.05."
   ]
  },
  {
   "cell_type": "code",
   "execution_count": 17,
   "metadata": {},
   "outputs": [
    {
     "data": {
      "text/plain": [
       "20.385359747859987"
      ]
     },
     "execution_count": 17,
     "metadata": {},
     "output_type": "execute_result"
    }
   ],
   "source": [
    "t3 = 1.98\n",
    "corr_coeff *(n-2)**0.5/((1-corr_coeff**2)**0.5)"
   ]
  },
  {
   "cell_type": "markdown",
   "metadata": {},
   "source": [
    "#### Выводы: Тнабл не попадает в область принятия гипотезы H0, значит принимаем гипотезу H1 о том, что r  !=  0."
   ]
  },
  {
   "cell_type": "markdown",
   "metadata": {},
   "source": [
    "### Седьмой пункт: Для заданной выборки построить уравнения средней квадратичной регрессии 𝑥 на 𝑦 и 𝑦 на 𝑥 соответственно. Отобразить полученные прямые на множестве выборки."
   ]
  },
  {
   "cell_type": "code",
   "execution_count": 18,
   "metadata": {},
   "outputs": [
    {
     "data": {
      "image/png": "[encoded data removed]",
      "text/plain": [
       "<Figure size 640x480 with 1 Axes>"
      ]
     },
     "metadata": {},
     "output_type": "display_data"
    }
   ],
   "source": [
    "# Построение уравнений средней квадратичной регрессии\n",
    "\n",
    "mid_y_x, mid_x_y = [0]*n, [0]*n\n",
    "\n",
    "for i in range(n):\n",
    "    mid_y_x[i] = corr_coeff * sko_y / sko_x * (X[i] - x_mid) + y_mid\n",
    "    mid_x_y[i] = corr_coeff * sko_x / sko_y * (Y[i] - y_mid) + x_mid\n",
    "\n",
    "for i in range(n):\n",
    "    plt.xlabel(\"X\")\n",
    "    plt.ylabel(\"Y\")\n",
    "    plt.plot(X, mid_y_x, color = 'r')\n",
    "    plt.plot(mid_x_y, Y, color = 'b')\n",
    "    plt.plot(X, Y, '.', color = 'g')"
   ]
  },
  {
   "cell_type": "markdown",
   "metadata": {},
   "source": [
    "#### Выводы: Эти прямые позволяют отобразить признаки  𝑥 и 𝑦 с минимальными потерями."
   ]
  },
  {
   "cell_type": "markdown",
   "metadata": {},
   "source": [
    "### Восьмой пункт: Вычислить корреляционные отношения 𝜂_𝑦𝑥 и 𝜂_𝑥𝑦. Убедиться, что неравенства \n",
    "### 𝜂_𝑦𝑥 > |𝑟_𝑥𝑦| и 𝜂_𝑥𝑦 > |𝑟_𝑥𝑦| выполняются. "
   ]
  },
  {
   "cell_type": "code",
   "execution_count": 19,
   "metadata": {},
   "outputs": [
    {
     "name": "stdout",
     "output_type": "stream",
     "text": [
      "nu_yx = 0.8940576680386547\n",
      "nu_xy = 0.899672486855151\n"
     ]
    }
   ],
   "source": [
    "# Вычисление корреляционных отношений 𝜂_𝑦𝑥 и 𝜂_𝑥𝑦\n",
    "\n",
    "midY_x, midX_y = [0]*k, [0]*k\n",
    "midX, midY = 0, 0\n",
    "sko_midY_x, sko_midX_y = 0, 0\n",
    "sko_midY, sko_midX = 0, 0\n",
    "\n",
    "for i in range(k):\n",
    "    for j in range(k):\n",
    "        midY_x[i] += frequency_var[j][i] * y_mid_range[j]\n",
    "        midX_y[i] += frequency_var[i][j] * x_mid_range[j]\n",
    "        \n",
    "    midY_x[i] /= frequency_x[i]\n",
    "    midX_y[i] /= frequency_y[i]\n",
    "\n",
    "    midY += y_mid_range[i] * frequency_relativ_x[i]\n",
    "    midX += x_mid_range[i] * frequency_relativ_y[i]\n",
    "\n",
    "for i in range(k):\n",
    "    sko_midX += (x_mid_range[i] - midX)**2 * frequency_x[i]\n",
    "    sko_midY += (y_mid_range[i] - midY)**2 * frequency_y[i]\n",
    "    \n",
    "    sko_midY_x += (midY_x[i] - midY)**2 * frequency_x[i]\n",
    "    sko_midX_y += (midX_y[i] - midX)**2 * frequency_y[i]\n",
    "    \n",
    "sko_midX = (sko_midX / n)**(0.5)\n",
    "sko_midY = (sko_midY / n)**(0.5)\n",
    "sko_midY_x = (sko_midY_x / n)**(0.5)\n",
    "sko_midX_y = (sko_midX_y / n)**(0.5)\n",
    "nu_yx = sko_midY_x / sko_midY\n",
    "nu_xy = sko_midX_y / sko_midX\n",
    "print(f'nu_yx = {nu_yx}')\n",
    "print(f'nu_xy = {nu_xy}')"
   ]
  },
  {
   "cell_type": "markdown",
   "metadata": {},
   "source": [
    "#### Выводы: значения  лежат на промежутке [0; 1]. Так как ни одно из отношений не равно выборочному коэффициенту корреляции, то между значениями выборки нет точной линейной корреляционной зависимости. Проверка пройдена, значения больше выборочного коэффициента по модулю."
   ]
  },
  {
   "cell_type": "markdown",
   "metadata": {},
   "source": [
    "### Девятый пункт: Для заданной выборки построить корреляционную кривую параболического вида \n",
    "### 𝑦 = 𝛽_0+𝛽_1 𝑥+𝛽_2 𝑥^2. Отобразить полученную кривую на множестве выборки."
   ]
  },
  {
   "cell_type": "markdown",
   "metadata": {},
   "source": [
    "Для нахождения коэффициентов, применим МНК.\n",
    "$F(\\beta_2,\\beta_1,\\beta_0) = \\sum_{i=1}^n(ax_i^2 + bx_i + c - y_i)^2$\n",
    "\n",
    "$\\begin{cases}\n",
    "\\frac{\\partial F}{\\partial \\beta_2} = 0\n",
    "\\\\\n",
    "\\frac{\\partial F}{\\partial \\beta_1} = 0\n",
    "\\\\\n",
    "\\frac{\\partial F}{\\partial \\beta_0} = 0\n",
    "\\end{cases}$\n",
    "\n",
    "$\\begin{cases}\n",
    "\\sum^n_{i=1}(2\\beta_2x_i^4) + \\sum^n_{i=1}(2\\beta_1x_i^3) + \\sum^n_{i=1}(2\\beta_0x_i^2) - \\sum^n_{i=1}(2y_ix_i^2) = 0\n",
    "\\\\\n",
    "\\sum^n_{i=1}(2\\beta_2x_i^3) + \\sum^n_{i=1}(2\\beta_1x_i^2) + \\sum^n_{i=1}(2\\beta_0x_i)-\\sum^n_{i=1}(2y_ix_i) = 0\n",
    "\\\\\n",
    "\\sum^n_{i=1}(2\\beta_2x_i^2) + \\sum^n_{i=1}(2\\beta_1x_i)+\\sum^n_{i=1}(2\\beta_0)-\\sum^n_{i=1}(2y_i) = 0\n",
    "\\end{cases}$\n",
    "\n",
    "$\\begin{cases}\n",
    "\\beta_2\\sum^n_{i=1}(x_i^4) + \\beta_1\\sum^n_{i=1}(x_i^3)+\\beta_0\\sum^n_{i=1}(x_i^2) = \\sum^n_{i=1}(y_ix_i^2)\n",
    "\\\\\n",
    "\\beta_2\\sum^n_{i=1}(x_i^3) + \\beta_1\\sum^n_{i=1}(x_i^2)+\\beta_0\\sum^n_{i=1}(x_i) = \\sum^n_{i=1}(y_ix_i)\n",
    "\\\\\n",
    "\\beta_2\\sum^n_{i=1}(x_i^2) + \\beta_1\\sum^n_{i=1}(x_i)+n\\beta_0 = \\sum^n_{i=1}(y_i)\n",
    "\\end{cases}$"
   ]
  },
  {
   "cell_type": "code",
   "execution_count": 20,
   "metadata": {},
   "outputs": [
    {
     "data": {
      "text/plain": [
       "[<matplotlib.lines.Line2D at 0x22cf349e560>]"
      ]
     },
     "execution_count": 20,
     "metadata": {},
     "output_type": "execute_result"
    },
    {
     "data": {
      "image/png": "[encoded data removed]",
      "text/plain": [
       "<Figure size 640x480 with 1 Axes>"
      ]
     },
     "metadata": {},
     "output_type": "display_data"
    }
   ],
   "source": [
    "# Построение корреляционной кривой параболического вида\n",
    "\n",
    "sugma_x_2, sugma_x_3, sugma_x_4, sugma_xy, sugma_xxy = 0, 0, 0, 0, 0\n",
    "p_x_1, p_y_1 = [0] * (max(X) - min(X) + 1), [0] * (max(X) - min(X) + 1)\n",
    "\n",
    "for i in range(n):\n",
    "    sugma_x_2 += X[i]**2\n",
    "    sugma_x_3 += X[i]**3\n",
    "    sugma_x_4 += X[i]**4\n",
    "    sugma_xy += X[i] * Y[i]\n",
    "    sugma_xxy += X[i]**2 * Y[i]\n",
    "    \n",
    "left = np.array([[n, sum(X), sugma_x_2], [sum(X), sugma_x_2, sugma_x_3], [sugma_x_2, sugma_x_3 , sugma_x_4]])\n",
    "right = np.array([sum(Y), sugma_xy, sugma_xxy])\n",
    "result = np.linalg.inv(left).dot(right)\n",
    "\n",
    "for i in range(max(X) - min(X) + 1):\n",
    "    p_x_1[i] = i + min(X)\n",
    "    p_y_1[i] = result[0] + result[1] * (i + min(X)) + result[2] * (i + min(X))**2\n",
    "\n",
    "plt.plot(p_x_1, p_y_1)\n",
    "plt.xlabel(\"X\")\n",
    "plt.ylabel(\"Y\")\n",
    "plt.plot(X, Y, '.', color = 'g')"
   ]
  },
  {
   "cell_type": "markdown",
   "metadata": {},
   "source": [
    "#### Выводы: уравнение параболической регрессии $y = -0.00027 \\cdot x^2 + 0.61385 \\cdot x - 92.43157$ . На графике показана минимизатция суммы квадратов отклонений точек выборки."
   ]
  },
  {
   "cell_type": "markdown",
   "metadata": {},
   "source": [
    "### Десятый пункт: Для заданной выборки построить нелинейные корреляционные кривые c помощью МНК."
   ]
  },
  {
   "cell_type": "code",
   "execution_count": 21,
   "metadata": {},
   "outputs": [
    {
     "data": {
      "text/plain": [
       "[<matplotlib.lines.Line2D at 0x22cf3516cb0>]"
      ]
     },
     "execution_count": 21,
     "metadata": {},
     "output_type": "execute_result"
    },
    {
     "data": {
      "image/png": "[encoded data removed]",
      "text/plain": [
       "<Figure size 640x480 with 1 Axes>"
      ]
     },
     "metadata": {},
     "output_type": "display_data"
    }
   ],
   "source": [
    "# Построение корреляционной кривой  логарифмического вида\n",
    "\n",
    "sugma_log_x, sugma_log_x_2, sugma_y_log_x = 0, 0, 0\n",
    "p_x_2, p_y_2 = [0] * (max(X) - min(X) + 1), [0] * (max(X) - min(X) + 1)\n",
    "\n",
    "for i in range(n):\n",
    "    sugma_log_x += math.log(X[i])\n",
    "    sugma_log_x_2 += math.log(X[i])**2\n",
    "    sugma_y_log_x += Y[i] * math.log(X[i])\n",
    "\n",
    "left_2 = np.array([[n, sugma_log_x], [sugma_log_x, sugma_log_x_2]])\n",
    "right_2 = np.array([sum(Y), sugma_y_log_x])\n",
    "result_2 = np.linalg.inv(left_2).dot(right_2)\n",
    "\n",
    "for i in range(max(X) - min(X) + 1):\n",
    "    p_x_2[i] = i + min(X)\n",
    "    p_y_2[i] = result_2[0] + result_2[1] * math.log(i + min(X))\n",
    "\n",
    "plt.plot(p_x_2, p_y_2)\n",
    "plt.xlabel(\"X\")\n",
    "plt.ylabel(\"Y\")\n",
    "plt.plot(X, Y, '.', color = 'g')"
   ]
  },
  {
   "cell_type": "markdown",
   "metadata": {},
   "source": [
    "### Одиннадцатый пункт:  Вычислить следующие показатели качества регрессии для каждого из четырёх уравнений: теоретический коэффициент детерминации 𝑅^2, средняя квадратическая ошибка 𝑆_𝜀, средняя ошибка аппроксимации (приближения) 𝐴."
   ]
  },
  {
   "cell_type": "code",
   "execution_count": 22,
   "metadata": {},
   "outputs": [],
   "source": [
    "def r_s_a(equation, s_mid, n, disp, sample, deg_free):\n",
    "    determ, approx, error = 0, 0, 0\n",
    "    \n",
    "    for i in range(n):\n",
    "        determ += ((equation[i] - s_mid)**2 / n / disp)\n",
    "        error += (sample[i] - equation[i])**2 / deg_free\n",
    "        approx += (abs((sample[i] - equation[i]) / sample[i]) * 100 / n)\n",
    "    \n",
    "    return determ, error, approx"
   ]
  },
  {
   "cell_type": "code",
   "execution_count": 23,
   "metadata": {},
   "outputs": [
    {
     "name": "stdout",
     "output_type": "stream",
     "text": [
      "╒═══╤════════════════════════════════════════╤═══════════════════════════════╤══════════════════════════════╕\n",
      "│ i │ Теоретический коэффициент детерминации │ Средняя квадратическая ошибка │ Средняя ошибка аппроксимации │\n",
      "├───┼────────────────────────────────────────┼───────────────────────────────┼──────────────────────────────┤\n",
      "│ 1 │ 0.13862                                │ 8.28858                       │ 5.02188                      │\n",
      "├───┼────────────────────────────────────────┼───────────────────────────────┼──────────────────────────────┤\n",
      "│ 2 │ 0.13854                                │ 8.26364                       │ 5.02196                      │\n",
      "├───┼────────────────────────────────────────┼───────────────────────────────┼──────────────────────────────┤\n",
      "│ 3 │ 0.14388                                │ 8.2972                        │ 5.07875                      │\n",
      "├───┼────────────────────────────────────────┼───────────────────────────────┼──────────────────────────────┤\n",
      "│ 4 │ 0.7191                                 │ 20.42452                      │ 3.54706                      │\n",
      "╘═══╧════════════════════════════════════════╧═══════════════════════════════╧══════════════════════════════╛\n"
     ]
    }
   ],
   "source": [
    "equation = [[0] * n for i in range(2)]\n",
    "determ, approx, error = [0] * 4, [0] * 4, [0] * 4\n",
    "\n",
    "for i in range(n):\n",
    "    equation[0][i] = result[0] + result[1] * X[i] + result[2] * X[i]**2   # Функция параболического вида\n",
    "    equation[1][i] = result_2[0] + result_2[1] * math.log(X[i])           # Функция логарифмического вида\n",
    "    \n",
    "determ[0], error[0], approx[0] = r_s_a(equation[0], np.mean(Y), n, np.var(X), Y, n-3)\n",
    "determ[1], error[1], approx[1] = r_s_a(equation[1], np.mean(Y), n, np.var(X), Y, n-2)\n",
    "determ[2], error[2], approx[2] = r_s_a(mid_y_x, np.mean(Y), n, np.var(X), Y, n-2)\n",
    "determ[3], error[3], approx[3] = r_s_a(mid_x_y, np.mean(X), n, np.var(X), X, n-2)\n",
    "\n",
    "table4 = [['i', 'Теоретический коэффициент детерминации', 'Средняя квадратическая ошибка', 'Средняя ошибка аппроксимации']]\n",
    "for i in range(4):\n",
    "    table4.append([i + 1, round(determ[i], 5), round(np.sqrt(error[i]), 5), round(approx[i], 5)])\n",
    "print(tabulate(table4, tablefmt='fancy_grid'))"
   ]
  },
  {
   "cell_type": "markdown",
   "metadata": {},
   "source": [
    "#### Выводы: коэффициент детерминации показывает, что связьт лучше у уравнения среднеквадратичной регрессии y на x .  Использование 1 по 3 моделей целесообразно, так как все $S_\\varepsilon$  меньше СКО. По ошибке аппроксимации можно сказать о хорошем качестве моделей, так как у всех моделей меньше 7%."
   ]
  },
  {
   "cell_type": "markdown",
   "metadata": {},
   "source": [
    "## Выводы\n",
    "В ходе выполнения практической работы была сделана обработка 2й выборки.  \n",
    "На основе выборки был построен двумерный интервальный вариационный ряд и на его основе сформированы условные варианты и по полученным условным вариантам для построения корреляционной таблицы.  \n",
    "Получен коэффициент корреляции, постороен для него доверительный интеврвал и проверено удовлетворяет ли он гипотезе о равенстве его нулю.  \n",
    "Пострены уравнения средней квадратичной регрессии.  \n",
    "Найдены корреляционные отношения.  \n",
    "Построенна корреляционная кривая параболического вида и логарифмическая функция.  \n",
    "И в конце вычислены показатели качества регрессии для каждого  уравнения."
   ]
  }
 ],
 "metadata": {
  "kernelspec": {
   "display_name": "Python 3 (ipykernel)",
   "language": "python",
   "name": "python3"
  },
  "language_info": {
   "codemirror_mode": {
    "name": "ipython",
    "version": 3
   },
   "file_extension": ".py",
   "mimetype": "text/x-python",
   "name": "python",
   "nbconvert_exporter": "python",
   "pygments_lexer": "ipython3",
   "version": "3.10.8"
  }
 },
 "nbformat": 4,
 "nbformat_minor": 4
}
