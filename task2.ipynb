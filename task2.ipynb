{
  "metadata": {
    "kernelspec": {
      "language": "python",
      "display_name": "Python 3",
      "name": "python3"
    },
    "language_info": {
      "name": "python",
      "version": "3.7.12",
      "mimetype": "text/x-python",
      "codemirror_mode": {
        "name": "ipython",
        "version": 3
      },
      "pygments_lexer": "ipython3",
      "nbconvert_exporter": "python",
      "file_extension": ".py"
    },
    "colab": {
      "provenance": []
    }
  },
  "nbformat_minor": 0,
  "nbformat": 4,
  "cells": [
    {
      "cell_type": "markdown",
      "source": [
        " # Практическая работа №2: Корреляционный и регрессионный анализ.\n",
        "    Выполнила студентка гр. 0373 Резенькова Дарья. Вариант №17\n",
        "    "
      ],
      "metadata": {
        "id": "gv5x6X3nhRka"
      }
    },
    {
      "cell_type": "markdown",
      "source": [
        "## Цель работы\n",
        "Освоение основных понятий, связанных с корреляционной зависимостью\n",
        "между случайными величинами, статистическими гипотезами и проверкой их «справедливости». Ознакомление с основными положениями метода наименьших квадратов (МНК), со статистическими свойствами МНК\n",
        "оценок, с понятием функции регрессии и роли МНК в регрессионном анализе, с корреляционным отношением, как мерой тесноты произвольной\n",
        "(в том числе и линейной) корреляционной связи.\n"
      ],
      "metadata": {
        "id": "PoYixzyfhRkh"
      }
    },
    {
      "cell_type": "markdown",
      "source": [
        "## Основные теоретические положения\n",
        "*Функциональная зависимость* - зависимость, когда каждому значению одной переменной соответствует вполне определённое единственное значение другой.\n",
        "\n",
        "*Статистическая зависимость* - зависимость, при которой изменение одной из величин влечёт изменение распределения другой.\n",
        "\n",
        "*Корреляционная зависимость* - статистическая зависимость, при которой изменение одной величины приводит к изменению среднего значения другой.\n",
        "\n",
        "*Условное (групповое) среднее* - среднее арифметическое тех значений случайной величины X(Y), которые соответствуют значению случайной величины Y=y (X=x):  $\\overline{x_{y}}=\\frac{\\sum_{i=1}^{k_{x}}x_{i}n_{x_{i}y}}{\\sum_{i=1}^{k_{x}}n_{x_{i}y}}, \\overline{y_{x}}=\\frac{\\sum_{j=1}^{k_{y}}y_{j}n_{xy_{j}}}{\\sum_{j=1}^{k_{y}}n_{xy_{j}}}$\n",
        "\n",
        "*Межгрупповое среднее*:  $\\overline{xy}=\\frac{1}{n}\\sum_{i=1}^{k_{x}}\\sum_{j=1}^{k_{y}}n_{x_{i}y_{j}}x_{i}y_{j}$\n",
        "\n",
        "*Уравнение регрессии* : $\\overline{y_{x}}-\\overline{y}=r_{yx}\\frac{\\sigma_{y}}{\\sigma_{x}}(x-\\overline{x}), \\overline{x_{y}}-\\overline{x}=r_{xy}\\frac{\\sigma_{x}}{\\sigma_{y}}(y-\\overline{y})$\n",
        "\n",
        "*Статистическая оценка коэффициента корреляции*: $r_{B}=\\frac{\\mu_{xy}}{s_{x}s_{y}}$, где $\\mu_{xy}=\\overline{xy}-\\overline{x}\\overline{y}$\n",
        "\n",
        "Свойства коэффициента корреляции:\n",
        "> 1. $|(r_{xy})|\\leq{1}$\n",
        "> 2. Знак $r_{xy}$ показывает: увеличивается ли одна переменная по мере того, как увеличивается другая, или уменьшается ли одна переменная по мере того, как увеливается другая\n",
        "> 3. $[r_{xy}]=1$\n",
        "> 4. Величина $r_{xy}$ обоснована только в диапазоне x и y в выборке\n",
        "> 5. $r_{xy}=r_{yx}$\n",
        "> 6. Корреляция между x и y не обязательно означает соотношение причины и следствия\n",
        "> 7. $r_{xy}=0$: линейной зависимости нет\n",
        "\n",
        "Через условные варианты: $r_{B}=\\frac{\\frac{1}{n}\\sum_{i=1}^{k_{u}}\\sum_{j=1}^{k_{v}}n_{uv}u_{i}v_{j}-\\overline{u} \\overline{v}}{\\sigma_{u}\\sigma_{v}}$, где $u_{i}=\\frac{x_{i}-C_{x}}{h_{x}}, v_{j}=\\frac{y_{j}-C_{y}}{h_{y}}$\n",
        "\n",
        "*Выборочное корреляционное отношение Y и X* - отношение межгруппового СКО к общему СКО признака Y: $\\eta_{xy}=\\frac{\\sigma_{megr}}{\\sigma_{ob}}$. Другое обозначение: $\\eta_{yx}=\\frac{\\sigma_{\\overline{y_{x}}}}{\\sigma_{y}}$, где $\\sigma_{\\overline{y_{x}}}=\\sqrt{\\sigma_{megr}^{2}}=\\sqrt{\\frac{(\\sum{n_{x}(\\overline{y_{x}}-\\overline{x})^{2}})}{n}}, \\sigma_{\\overline{y}}=\\sqrt{\\sigma_{ob}^{2}}=\\sqrt{\\frac{(\\sum{n_{y}(\\overline{y_{x}}-\\overline{x})^{2}})}{n}}$\n",
        "\n",
        "Свойства:\n",
        "> 1. $\\eta\\in[0,1] $\n",
        "> 2. Если $\\eta=0$, то признак Y с признаком X корреляционной зависимостью не связан (справедливо и обратное)\n",
        "> 3. Если $\\eta=1$, то признак Y связан с признаком X функциональной зависимостью (справедливо и обратное)\n",
        "> 4. $\\eta\\geq|r_{B}| $\n",
        "> 5. Если $\\eta=r_{B}$, то имеет место быть точная линейная корреляционная зависимость\n",
        "\n",
        "Доверительный интервал для оценки выборочного коэффициента корреляции: $(th(z-\\frac{t}{\\sqrt{n-3}});th(z+\\frac{t}{\\sqrt{n-3}}))$, где t определяется: $\\Phi(t)=\\frac{\\gamma}{2}, z=arth(r_{B}) $ \n",
        "\n",
        "*Теорема о разложении дисперсии:* $\\sigma^{2}=\\delta^{*^{2}}+\\varepsilon^{*^{2}} $\n",
        "\n",
        "*Дисперсия результативного признака*: $\\delta_{y}^{*^{2}}=\\frac{1}{n}\\sum_{i=1}^{n}(y_{x_{i}}-\\overline{y})^{2}, \\delta_{x}^{*^{2}}=\\frac{1}{n}\\sum_{i=1}^{n}(x_{y_{i}}-\\overline{x})^{2} $\n",
        "\n",
        "*Остаточная дисперсия результативного признака:* $\\varepsilon_{y}^{*^{2}}=\\frac{1}{n}\\sum_{i=1}^{n}\\varepsilon_{y_{i}}^{2},  \\varepsilon_{x}^{*^{2}}=\\frac{1}{n}\\sum_{i=1}^{n}\\varepsilon_{x_{i}}^{2}$\n",
        "\n",
        "*Теоретический коэффициент детерминации* представляет собой отношение оъясненной (уравнением) дисперсии признака-результата к общей дисперсии результативного признака: $R_{y}^{2}=\\frac{\\delta_{y}^{*^{2}}}{\\sigma_{y}^{2}}, R_{x}^{2}=\\frac{\\delta_{x}^{*^{2}}}{\\sigma_{x}^{2}} $\n",
        "\n",
        "*Средняя квадратичная ошибка*: $S_{\\varepsilon_{y}}=\\sqrt{\\frac{1}{n-l}\\sum_{i=1}^{n}\\varepsilon_{y_{i}}^{2}}, S_{\\varepsilon_{x}}=\\sqrt{\\frac{1}{n-l}\\sum_{i=1}^{n}\\varepsilon_{x_{i}}^{2}}$, где l - количество параметров в модели регрессии\n",
        "\n",
        "*Средняя ошибка аппроксинации*: $A_{y}=\\frac{1}{n}\\sum_{i=1}^{n}|\\frac{\\varepsilon_{y_{i}}}{y_{i}}|, A_{x}=\\frac{1}{n}\\sum_{i=1}^{n}|\\frac{\\varepsilon_{x_{i}}}{x_{i}}|$\n",
        "\n",
        "МНК: \n",
        "> $\\bullet$ основан на минимизации суммы квадратов отклонений некоторых функций от искомых переменных\n",
        "\n",
        "> $\\bullet$ Минимизирующая функция: $F(a_{1}\\cdots{a_{n}})=\\sum_{i=1}^{n}(y_{i}-f(x_{i};a_{1}\\cdots{a_{n}})^{2}\\rightarrow{min}$\n",
        "\n",
        "> $\\bullet$ Необходимое условие экстремума функции многих переменных - равенство нулю всех частных производных функции F"
      ],
      "metadata": {
        "id": "zHe7QdAGhRkj"
      }
    },
    {
      "cell_type": "markdown",
      "source": [
        "## Постановка задачи\n",
        "Из заданной генеральной совокупности сформировать выборку по второму признаку. Для системы двух случайных величин 𝑋 (первый признак) и 𝑌 (второй признак) сформировать двумерную выборку и найти\n",
        "статистическую оценку коэффициента корреляции, построить доверительный интервал для коэффициента корреляции и осуществить проверку статистической гипотезы о равенстве коэффициента корреляции\n",
        "нулю. Построить уравнения выборочных прямых среднеквадратической\n",
        "регрессии. Полученные линейные функции регрессии отобразить графически. Найти выборочное корреляционное отношение. Оценить адекватность моделей. Полученные результаты содержательно проинтерпретировать.\n"
      ],
      "metadata": {
        "id": "lhTU1OTzhRkm"
      }
    },
    {
      "cell_type": "markdown",
      "source": [
        "## Выполнение работы"
      ],
      "metadata": {
        "id": "w2zY32uRhRkn"
      }
    },
    {
      "cell_type": "code",
      "source": [
        "vx = [510,403,525,543,412,453,422,331,467,545,542,421,405,434,463,475,463,392,523,423,386,321,351,481,488,443,490,396,502,500,514,445,473,522,462,438,406,480,573,518,394,440,446,437,397,442,426,458,499,399,436,468,503,518,446,400,440,497,480,422,448,576,507,437,428,516,441,525,477,432,369,525,470,475,434,436,392,441,401,501,493,352,493,378,503,477,421,503,475,483,523,404,437,442,331,438,482,453,407,453,438,435,480,413,468,453,451,532,438,412,467,498,406,424,458,426,557,493,476,448]\n",
        "vy = [162.3,123.9,156.5,155.4,116.3,124.2,117.9,74.1,113.0,145.3,146.1,124.2,103.6,140.4,136.7,143.6,144.9,82.7,148.7,131.1,95.5,86.1,89.0,148.3,134.1,137.4,139.9,90.1,132.5,155.5,174.6,124.7,136.4,154.5,138.8,122.2,110.1,153.9,156.5,144.4,112.1,105.7,130.3,129.2,108.6,126.2,129.1,128.0,144.5,95.8,114.3,128.6,149.9,151.3,144.0,114.6,133.1,147.3,114.0,115.7,125.6,170.1,142.4,145.1,130.3,132.6,126.1,148.3,139.7,123.0,84.3,165.9,146.7,155.7,110.5,116.7,106.6,122.8,100.1,130.4,154.5,84.9,129.7,103.8,134.7,146.0,107.9,146.6,132.0,130.3,172.8,112.0,115.1,123.4,84.6,122.2,141.2,131.2,110.5,126.4,131.4,131.6,146.1,110.8,142.0,138.2,128.6,160.6,127.0,117.9,135.1,144.3,112.4,117.1,124.4,121.1,151.9,149.7,143.0,125.0]"
      ],
      "metadata": {
        "execution": {
          "iopub.status.busy": "2022-11-27T13:26:09.420923Z",
          "iopub.execute_input": "2022-11-27T13:26:09.422222Z",
          "iopub.status.idle": "2022-11-27T13:26:09.436433Z",
          "shell.execute_reply.started": "2022-11-27T13:26:09.422170Z",
          "shell.execute_reply": "2022-11-27T13:26:09.435499Z"
        },
        "trusted": true,
        "id": "m_Otf2QAhRkn"
      },
      "execution_count": 2,
      "outputs": []
    },
    {
      "cell_type": "code",
      "source": [
        "import numpy as np\n",
        "vx.sort()\n",
        "kol=[1]*len(vx)\n",
        "for i in range(len(vx)):\n",
        "    kol[i]=vx.count(vx[i])\n",
        "for i in range(len(vx)):\n",
        "    for j in range(i+1,len(vx)):\n",
        "        if vx[i]==vx[j]:\n",
        "            kol[j]=0\n",
        "import math\n",
        "r=vx[len(vx)-1]-vx[0]\n",
        "k=math.ceil(1+math.log2(len(vx)))\n",
        "h=r/k\n",
        "y1=[0]*k\n",
        "u=[0]*k\n",
        "y1[0]=vx[0]\n",
        "u[0]=vx[0]+h\n",
        "for i in range(1,k):\n",
        "    y1[i]= vx[0]+h*i\n",
        "    u[i]= vx[0]+h*(i+1)\n",
        "kl=[0]*k\n",
        "ser=[0]*k\n",
        "kl[0]=1\n",
        "for i in range(len(y1)):\n",
        "    ser[i]=(y1[i]+u[i])/2\n",
        "    for j in range(len(vx)):\n",
        "        if (y1[i]<vx[j]<=u[i]):\n",
        "            kl[i]+=1\n",
        "sre=0\n",
        "for i in range(k):\n",
        "    sre+=kl[i]*ser[i]/len(vx)\n",
        "dis=0\n",
        "for i in range(k):\n",
        "    dis+=kl[i]*(ser[i]-sre)**2/len(vx)\n",
        "sko=np.sqrt(dis)"
      ],
      "metadata": {
        "execution": {
          "iopub.status.busy": "2022-11-27T13:26:09.441730Z",
          "iopub.execute_input": "2022-11-27T13:26:09.442224Z",
          "iopub.status.idle": "2022-11-27T13:26:09.457644Z",
          "shell.execute_reply.started": "2022-11-27T13:26:09.442186Z",
          "shell.execute_reply": "2022-11-27T13:26:09.456449Z"
        },
        "trusted": true,
        "id": "DJRjRJ0AhRkp"
      },
      "execution_count": 3,
      "outputs": []
    },
    {
      "cell_type": "markdown",
      "source": [
        "## Пункт 1"
      ],
      "metadata": {
        "id": "EbIB4ToVhRkq"
      }
    },
    {
      "cell_type": "code",
      "source": [
        "vy.sort()\n",
        "kol2=[1]*len(vy)\n",
        "for i in range(len(vy)):\n",
        "    kol2[i]=vy.count(vy[i])\n",
        "for i in range(len(vy)):\n",
        "    for j in range(i+1,len(vy)):\n",
        "        if vy[i]==vy[j]:\n",
        "            kol2[j]=0\n",
        "r2=vy[len(vy)-1]-vy[0]\n",
        "k2=math.ceil(1+math.log2(len(vy)))\n",
        "h2=r2/k2\n",
        "y2=[0]*k2\n",
        "u2=[0]*k2\n",
        "y2[0]=vy[0]\n",
        "u2[0]=vy[0]+h2\n",
        "for i in range(1,k2):\n",
        "    y2[i]= vy[0]+h2*i\n",
        "    u2[i]= vy[0]+h2*(i+1)\n",
        "kl2=[0]*k2\n",
        "ser2=[0]*k2\n",
        "kl2[0]=1\n",
        "for i in range(len(y2)):\n",
        "    ser2[i]=(y2[i]+u2[i])/2\n",
        "    for j in range(len(vy)):\n",
        "        if (y2[i]<vy[j]<=u2[i]):\n",
        "            kl2[i]+=1\n",
        "from prettytable import PrettyTable\n",
        "p12=[0]*len(vy)\n",
        "p1_12=[0]*k2\n",
        "kl_22=[0]*k2\n",
        "for i in range(len(y2)):\n",
        "    kl_22[i]=kl2[i]/len(vy)\n",
        "myTable = PrettyTable([\"i\",\"(y(i-1);yi]\",\"ycp\",\"ni\",\"p\",\"sum ni\",\"sum pi\"])\n",
        "for i in range(len(vy)):\n",
        "    p12[i]+=kol2[i]/len(vy)\n",
        "kl22=[0]*k2\n",
        "p1_12[0]=kl_22[0]\n",
        "kl22[0]=kl2[0]\n",
        "for i in range(1,len(y2)):\n",
        "            p1_12[i]=p1_12[i-1]+kl_22[i]\n",
        "            kl22[i]=kl22[i-1]+kl2[i]\n",
        "myTable.add_row([1,[y2[0],u2[0]],ser2[0],kl2[0],round(kl_22[0],3),kl22[0],round(p1_12[0],3)])\n",
        "for i in range(1,len(y2)):\n",
        "    myTable.add_row([i+1,[y2[i],u2[i]],ser2[i],kl2[i],round(kl_22[i],3),kl22[i],round(p1_12[i],3)])\n",
        "myTable.add_row([\" \",\" \",\" Cумма\",sum(kl2),round(sum(kl_22)),\"-\",\"-\"])\n",
        "print(myTable)"
      ],
      "metadata": {
        "execution": {
          "iopub.status.busy": "2022-11-27T13:26:09.478755Z",
          "iopub.execute_input": "2022-11-27T13:26:09.479137Z",
          "iopub.status.idle": "2022-11-27T13:26:09.500452Z",
          "shell.execute_reply.started": "2022-11-27T13:26:09.479105Z",
          "shell.execute_reply": "2022-11-27T13:26:09.499549Z"
        },
        "trusted": true,
        "colab": {
          "base_uri": "https://localhost:8080/"
        },
        "id": "DGWhsXEfhRkq",
        "outputId": "65cac7d6-cd5a-4f75-9d26-89f195bd9811"
      },
      "execution_count": 4,
      "outputs": [
        {
          "output_type": "stream",
          "name": "stdout",
          "text": [
            "+---+---------------------+-----------+-----+-------+--------+--------+\n",
            "| i |     (y(i-1);yi]     |    ycp    |  ni |   p   | sum ni | sum pi |\n",
            "+---+---------------------+-----------+-----+-------+--------+--------+\n",
            "| 1 |   [74.1, 86.6625]   |  80.38125 |  6  |  0.05 |   6    |  0.05  |\n",
            "| 2 |  [86.6625, 99.225]  |  92.94375 |  4  | 0.033 |   10   | 0.083  |\n",
            "| 3 |  [99.225, 111.7875] | 105.50625 |  11 | 0.092 |   21   | 0.175  |\n",
            "| 4 |  [111.7875, 124.35] | 118.06875 |  23 | 0.192 |   44   | 0.367  |\n",
            "| 5 |  [124.35, 136.9125] | 130.63125 |  31 | 0.258 |   75   | 0.625  |\n",
            "| 6 | [136.9125, 149.475] | 143.19375 |  27 | 0.225 |  102   |  0.85  |\n",
            "| 7 | [149.475, 162.0375] | 155.75625 |  13 | 0.108 |  115   | 0.958  |\n",
            "| 8 |  [162.0375, 174.6]  | 168.31875 |  5  | 0.042 |  120   |  1.0   |\n",
            "|   |                     |    Cумма  | 120 |   1   |   -    |   -    |\n",
            "+---+---------------------+-----------+-----+-------+--------+--------+\n"
          ]
        }
      ]
    },
    {
      "cell_type": "code",
      "source": [
        "myTable2 = PrettyTable([\"Выборочное среднее\",\"Дисперсия\",\"СКО\",\"Испр.дисперсия\",\"Испр.СКО\",\"Коэф. асимметрии\",\"Коэф.экцесса\",\"Медиана\",\"Мода\",\"Коэф.вариации\"])\n",
        "sre2=0\n",
        "for i in range(k2):\n",
        "    sre2+=kl2[i]*ser2[i]/len(vy)\n",
        "dis2=0\n",
        "for i in range(k2):\n",
        "    dis2+=kl2[i]*(ser2[i]-sre2)**2/len(vy)\n",
        "sko2=np.sqrt(dis2)\n",
        "isp_dis2=len(vy)/(len(vy)-1)*dis2\n",
        "isp_sko2=np.sqrt(isp_dis2)\n",
        "sum_12=0\n",
        "ui2=[0]*k2\n",
        "f12,f22,f32,f42,f52=[0]*k2,[0]*k2,[0]*k2,[0]*k2,[0]*k2\n",
        "for i in range(len(y2)):\n",
        "    sum_12+=kl2[i]\n",
        "    if sum_12>50:\n",
        "        ind2=i\n",
        "        break\n",
        "for i in range(len(y2)):\n",
        "        ui2[i]=i-ind2\n",
        "for i in range(len(y2)):\n",
        "    f12[i]=kl2[i]*ui2[i]\n",
        "    f22[i]=kl2[i]*(ui2[i]**2)\n",
        "    f32[i]=kl2[i]*(ui2[i]**3)\n",
        "    f42[i]=kl2[i]*(ui2[i]**4)\n",
        "    f52[i]=kl2[i]*((ui2[i]+1)**4)\n",
        "k_a2=((sum(f32)/len(vy)-3*sum(f22)/len(vy)*sum(f12)/len(vy)+2*(sum(f12)/len(vy))**3)*h2**3)/sko2**3\n",
        "k_e2=((sum(f42)/len(vy)-4*sum(f32)/len(vy)*sum(f12)/len(vy)+6*sum(f22)/len(vy)*(sum(f12)/len(vy))**2-3*(sum(f12)/len(vy))**4)*h2**4)/sko2**4-3\n",
        "k_v2=sko2/sre2*100\n",
        "max2=0;\n",
        "for i in range(k2):\n",
        "    if kl2[i]>max2:\n",
        "        max2=kl2[i]\n",
        "        md2=i\n",
        "moda2=y2[md2]+h2*((kl2[md2]-kl2[md2-1])/((kl2[md2]-kl2[md2-1])+(kl2[md2]-kl2[md2+1])))\n",
        "dispersia2=y2[ind2]+h2*(0.5-p1_12[ind2-1])/(kl_22[ind2])\n",
        "myTable2.add_row([round(sre2,3),round(dis2,2),round(sko2,3),round(isp_dis2,3),round(isp_sko2,3),round(k_a2,4),round(k_e2,4),round(dispersia2,3),round(moda2,3),round(k_v2,3)])\n",
        "print(myTable2)"
      ],
      "metadata": {
        "execution": {
          "iopub.status.busy": "2022-11-27T13:26:09.507717Z",
          "iopub.execute_input": "2022-11-27T13:26:09.508349Z",
          "iopub.status.idle": "2022-11-27T13:26:09.529049Z",
          "shell.execute_reply.started": "2022-11-27T13:26:09.508312Z",
          "shell.execute_reply": "2022-11-27T13:26:09.528009Z"
        },
        "trusted": true,
        "colab": {
          "base_uri": "https://localhost:8080/"
        },
        "id": "4GMDqltrhRks",
        "outputId": "1ab2448f-0f02-46d3-a8e8-3e24a87638a1"
      },
      "execution_count": 5,
      "outputs": [
        {
          "output_type": "stream",
          "name": "stdout",
          "text": [
            "+--------------------+-----------+--------+----------------+----------+------------------+--------------+---------+---------+---------------+\n",
            "| Выборочное среднее | Дисперсия |  СКО   | Испр.дисперсия | Испр.СКО | Коэф. асимметрии | Коэф.экцесса | Медиана |   Мода  | Коэф.вариации |\n",
            "+--------------------+-----------+--------+----------------+----------+------------------+--------------+---------+---------+---------------+\n",
            "|       129.27       |   422.94  | 20.565 |    426.491     |  20.652  |     -0.4413      |   -0.0115    | 130.834 | 132.725 |     15.909    |\n",
            "+--------------------+-----------+--------+----------------+----------+------------------+--------------+---------+---------+---------------+\n"
          ]
        }
      ]
    },
    {
      "cell_type": "markdown",
      "source": [
        "Вывод: была произведена обработка второй выборки. Было получено: так как выборка не мала, то её исправленная дисперсия и СКО почти не отличаются от смещённых; по коэффициентам асимметрии и экцесса можно сказать, что распределение низковершинно и скошено влево; так как коэффициент вариации меньше 33%, то совокупность данных является однородной."
      ],
      "metadata": {
        "id": "9NCqZxDXhRks"
      }
    },
    {
      "cell_type": "markdown",
      "source": [
        "## Пункт 2\n"
      ],
      "metadata": {
        "id": "gERnnKZfhRkt"
      }
    },
    {
      "cell_type": "code",
      "source": [
        "vx_1 = [510,403,525,543,412,453,422,331,467,545,542,421,405,434,463,475,463,392,523,423,386,321,351,481,488,443,490,396,502,500,514,445,473,522,462,438,406,480,573,518,394,440,446,437,397,442,426,458,499,399,436,468,503,518,446,400,440,497,480,422,448,576,507,437,428,516,441,525,477,432,369,525,470,475,434,436,392,441,401,501,493,352,493,378,503,477,421,503,475,483,523,404,437,442,331,438,482,453,407,453,438,435,480,413,468,453,451,532,438,412,467,498,406,424,458,426,557,493,476,448]\n",
        "vy_1 = [162.3,123.9,156.5,155.4,116.3,124.2,117.9,74.1,113.0,145.3,146.1,124.2,103.6,140.4,136.7,143.6,144.9,82.7,148.7,131.1,95.5,86.1,89.0,148.3,134.1,137.4,139.9,90.1,132.5,155.5,174.6,124.7,136.4,154.5,138.8,122.2,110.1,153.9,156.5,144.4,112.1,105.7,130.3,129.2,108.6,126.2,129.1,128.0,144.5,95.8,114.3,128.6,149.9,151.3,144.0,114.6,133.1,147.3,114.0,115.7,125.6,170.1,142.4,145.1,130.3,132.6,126.1,148.3,139.7,123.0,84.3,165.9,146.7,155.7,110.5,116.7,106.6,122.8,100.1,130.4,154.5,84.9,129.7,103.8,134.7,146.0,107.9,146.6,132.0,130.3,172.8,112.0,115.1,123.4,84.6,122.2,141.2,131.2,110.5,126.4,131.4,131.6,146.1,110.8,142.0,138.2,128.6,160.6,127.0,117.9,135.1,144.3,112.4,117.1,124.4,121.1,151.9,149.7,143.0,125.0]\n",
        "z= np.zeros((k2, k2))\n",
        "z[0][0]=2\n",
        "myTable3 = PrettyTable([\"Y|X\",\"(321,352.875)\",\"(352.875,384.75)\",\"(384.75,416.625)\",\"(416.625,448.5)\",\"(448.5,480.375)\",\"(480.375,512.25)\",\"(512.25,544.125)\",\"(544.125,576)\",\"ny\"])\n",
        "myTable3._max_width = {\"Y|X\":17}\n",
        "myTable3.padding_width = 0\n",
        "for i in range(k2):\n",
        "    for j in range(k):\n",
        "        for l in range(len(vx)):\n",
        "            if (y2[i]<vy_1[l]<=u2[i])&(y1[j]<vx_1[l]<=u[j]):\n",
        "                z[i][j]+=1\n",
        "for i in range(k):\n",
        "    myTable3.add_row([(round(y2[i],1),round(u2[i],1)),round(z[i][0]),round(z[i][1]),round(z[i][2]),round(z[i][3]),round(z[i][4]),round(z[i][5]),round(z[i][6]),round(z[i][7]),round(sum(z[i]))])\n",
        "rex=[0]*k\n",
        "for i in range(k):\n",
        "    for j in range(k2):\n",
        "        rex[i]+=z[j][i]\n",
        "myTable3.add_row([\"nx\",round(rex[0]),round(rex[1]),round(rex[2]),round(rex[3]),round(rex[4]),round(rex[5]),round(rex[6]),round(rex[7]),round(sum(rex))])\n",
        "print(myTable3)"
      ],
      "metadata": {
        "execution": {
          "iopub.status.busy": "2022-11-27T13:26:09.539311Z",
          "iopub.execute_input": "2022-11-27T13:26:09.540131Z",
          "iopub.status.idle": "2022-11-27T13:26:09.570122Z",
          "shell.execute_reply.started": "2022-11-27T13:26:09.540091Z",
          "shell.execute_reply": "2022-11-27T13:26:09.569167Z"
        },
        "trusted": true,
        "colab": {
          "base_uri": "https://localhost:8080/"
        },
        "id": "u4vtkT9ehRkt",
        "outputId": "db3fc14a-d0f6-4871-9754-dbe894ec61f2"
      },
      "execution_count": 31,
      "outputs": [
        {
          "output_type": "stream",
          "name": "stdout",
          "text": [
            "+--------------+-------------+----------------+----------------+---------------+---------------+----------------+----------------+-------------+---+\n",
            "|     Y|X      |(321,352.875)|(352.875,384.75)|(384.75,416.625)|(416.625,448.5)|(448.5,480.375)|(480.375,512.25)|(512.25,544.125)|(544.125,576)| ny|\n",
            "+--------------+-------------+----------------+----------------+---------------+---------------+----------------+----------------+-------------+---+\n",
            "| (74.1, 86.7) |      4      |       1        |       1        |       0       |       0       |       0        |       0        |      0      | 6 |\n",
            "| (86.7, 99.2) |      1      |       0        |       3        |       0       |       0       |       0        |       0        |      0      | 4 |\n",
            "|(99.2, 111.8) |      0      |       1        |       7        |       3       |       0       |       0        |       0        |      0      | 11|\n",
            "|(111.8, 124.3)|      0      |       0        |       7        |       13      |       3       |       0        |       0        |      0      | 23|\n",
            "|(124.3, 136.9)|      0      |       0        |       0        |       14      |       10      |       6        |       1        |      0      | 31|\n",
            "|(136.9, 149.5)|      0      |       0        |       0        |       4       |       10      |       8        |       4        |      1      | 27|\n",
            "|(149.5, 162.0)|      0      |       0        |       0        |       0       |       2       |       4        |       5        |      2      | 13|\n",
            "|(162.0, 174.6)|      0      |       0        |       0        |       0       |       0       |       1        |       3        |      1      | 5 |\n",
            "|      nx      |      5      |       2        |       18       |       34      |       25      |       19       |       13       |      4      |120|\n",
            "+--------------+-------------+----------------+----------------+---------------+---------------+----------------+----------------+-------------+---+\n"
          ]
        }
      ]
    },
    {
      "cell_type": "markdown",
      "source": [
        "Пояснение: для того, чтобы таблица отображалась нормально, были округлены значения в интервалах."
      ],
      "metadata": {
        "id": "ku25N6OfkyJw"
      }
    },
    {
      "cell_type": "markdown",
      "source": [
        "## Пункт 3"
      ],
      "metadata": {
        "id": "gJmf2cJXhRku"
      }
    },
    {
      "cell_type": "code",
      "source": [
        "maxim1=0\n",
        "maxim2=0\n",
        "for i in range(k):\n",
        "    if sum(z[i])>maxim2:\n",
        "        maxim2=sum(z[i])\n",
        "        g2=i\n",
        "    if rex[i]>maxim1:\n",
        "        maxim1=rex[i]\n",
        "        g1=i\n",
        "vj=[0]*k\n",
        "for i in range(k):\n",
        "    vj[i]=i-g2\n",
        "myTable4 = PrettyTable([\"v|u \",-g1,1-g1,2-g1,3-g1,4-g1,5-g1,6-g1,7-g1,\"Ui\",\"vU\"])\n",
        "usi,vu=[0]*k,[0]*k\n",
        "usi2,vu2=[0]*k,[0]*k\n",
        "for i in range(k):\n",
        "    usi[i]=z[i][0]*(-g1)+z[i][1]*(1-g1)+z[i][2]*(2-g1)+z[i][3]*(3-g1)+z[i][4]*(4-g1)+z[i][5]*(5-g1)+z[i][6]*(6-g1)+z[i][7]*(7-g1)\n",
        "    vu[i]=usi[i]*vj[i] \n",
        "    myTable4.add_row([vj[i],z[i][0],z[i][1],z[i][2],z[i][3],z[i][4],z[i][5],z[i][6],z[i][7],usi[i],vu[i]])  \n",
        "for i in range(k):\n",
        "    usi2[i]=z[0][i]*vj[0]+z[1][i]*vj[1]+z[2][i]*vj[2]+z[3][i]*vj[3]+z[4][i]*vj[4]+z[5][i]*vj[5]+z[6][i]*vj[6]+z[7][i]*vj[7]\n",
        "    vu2[i]=usi2[i]*(i-g1)\n",
        "if sum(vu)==sum(vu2):\n",
        "    pr='Суммы vU и Uv равны'\n",
        "else:\n",
        "    pr='Суммы vU и Uv не равны'\n",
        "myTable4.add_row([\"Vj\",usi2[0],usi2[1],usi2[2],usi2[3],usi2[4],usi2[5],usi2[6],usi2[7],\"-\",sum(vu)]) \n",
        "myTable4.add_row([\"Vu\",vu2[0],vu2[1],vu2[2],vu2[3],vu2[4],vu2[5],vu2[6],vu2[7],sum(vu2),pr]) \n",
        "print(myTable4)\n",
        "    "
      ],
      "metadata": {
        "execution": {
          "iopub.status.busy": "2022-11-27T13:26:09.587311Z",
          "iopub.execute_input": "2022-11-27T13:26:09.588326Z",
          "iopub.status.idle": "2022-11-27T13:26:09.609593Z",
          "shell.execute_reply.started": "2022-11-27T13:26:09.588273Z",
          "shell.execute_reply": "2022-11-27T13:26:09.608394Z"
        },
        "trusted": true,
        "colab": {
          "base_uri": "https://localhost:8080/"
        },
        "id": "uBBD20IFhRku",
        "outputId": "a475af50-0847-459d-8c39-58b50c00ad1f"
      },
      "execution_count": 7,
      "outputs": [
        {
          "output_type": "stream",
          "name": "stdout",
          "text": [
            "+------+-------+------+-------+-------+------+------+------+------+-------+---------------------+\n",
            "| v|u  |   -3  |  -2  |   -1  |   0   |  1   |  2   |  3   |  4   |   Ui  |          vU         |\n",
            "+------+-------+------+-------+-------+------+------+------+------+-------+---------------------+\n",
            "|  -4  |  4.0  | 1.0  |  1.0  |  0.0  | 0.0  | 0.0  | 0.0  | 0.0  | -15.0 |         60.0        |\n",
            "|  -3  |  1.0  | 0.0  |  3.0  |  0.0  | 0.0  | 0.0  | 0.0  | 0.0  |  -6.0 |         18.0        |\n",
            "|  -2  |  0.0  | 1.0  |  7.0  |  3.0  | 0.0  | 0.0  | 0.0  | 0.0  |  -9.0 |         18.0        |\n",
            "|  -1  |  0.0  | 0.0  |  7.0  |  13.0 | 3.0  | 0.0  | 0.0  | 0.0  |  -4.0 |         4.0         |\n",
            "|  0   |  0.0  | 0.0  |  0.0  |  14.0 | 10.0 | 6.0  | 1.0  | 0.0  |  25.0 |         0.0         |\n",
            "|  1   |  0.0  | 0.0  |  0.0  |  4.0  | 10.0 | 8.0  | 4.0  | 1.0  |  42.0 |         42.0        |\n",
            "|  2   |  0.0  | 0.0  |  0.0  |  0.0  | 2.0  | 4.0  | 5.0  | 2.0  |  33.0 |         66.0        |\n",
            "|  3   |  0.0  | 0.0  |  0.0  |  0.0  | 0.0  | 1.0  | 3.0  | 1.0  |  15.0 |         45.0        |\n",
            "|  Vj  | -19.0 | -6.0 | -34.0 | -15.0 | 11.0 | 19.0 | 23.0 | 8.0  |   -   |        253.0        |\n",
            "|  Vu  |  57.0 | 12.0 |  34.0 |  -0.0 | 11.0 | 38.0 | 69.0 | 32.0 | 253.0 | Суммы vU и Uv равны |\n",
            "+------+-------+------+-------+-------+------+------+------+------+-------+---------------------+\n"
          ]
        }
      ]
    },
    {
      "cell_type": "markdown",
      "source": [
        "Вывод: была построена корреляционная таблица; так как суммы vU и Uv равны, то можно говорить о правильности вычислений (проверка прошла)."
      ],
      "metadata": {
        "id": "yR82JSiehRkv"
      }
    },
    {
      "cell_type": "markdown",
      "source": [
        "## Пункт 4"
      ],
      "metadata": {
        "id": "iXdrUfLxhRkv"
      }
    },
    {
      "cell_type": "code",
      "source": [
        "sreu,srev,sreu2,srev2=0,0,0,0\n",
        "for i in range(k):\n",
        "    sreu+=rex[i]*(i-g1)/len(vx)\n",
        "    srev+=sum(z[i])*vj[i]/len(vx)\n",
        "    sreu2+=rex[i]*(i-g1)**2/len(vx)\n",
        "    srev2+=sum(z[i])*vj[i]**2/len(vx)\n",
        "kof1=sreu2-(sreu)**2\n",
        "kof2=srev2-(srev)**2\n",
        "k_r=(sum(vu)-len(vx)*sreu*srev)/(len(vx)*np.sqrt(kof1)*np.sqrt(kof2))\n",
        "print(\"Коэффициент корреляции: \", round(k_r,4))\n"
      ],
      "metadata": {
        "execution": {
          "iopub.status.busy": "2022-11-27T13:26:09.627574Z",
          "iopub.execute_input": "2022-11-27T13:26:09.628744Z",
          "iopub.status.idle": "2022-11-27T13:26:09.638815Z",
          "shell.execute_reply.started": "2022-11-27T13:26:09.628696Z",
          "shell.execute_reply": "2022-11-27T13:26:09.637514Z"
        },
        "trusted": true,
        "colab": {
          "base_uri": "https://localhost:8080/"
        },
        "id": "ZhaOk6LDhRkv",
        "outputId": "467b7c6a-3a81-450c-d422-3fa8751e99d3"
      },
      "execution_count": 8,
      "outputs": [
        {
          "output_type": "stream",
          "name": "stdout",
          "text": [
            "Коэффициент корреляции:  0.8451\n"
          ]
        }
      ]
    },
    {
      "cell_type": "markdown",
      "source": [
        "Вывод: полученный результат коэффициента является положительным, поэтому можно говорить, что при увеличении одной переменной, увеличивается и другая."
      ],
      "metadata": {
        "id": "sZYHK-99hRkw"
      }
    },
    {
      "cell_type": "markdown",
      "source": [
        "## Пункт 5"
      ],
      "metadata": {
        "id": "iJbzGEzGhRkw"
      }
    },
    {
      "cell_type": "code",
      "source": [
        "zn=math.atanh(k_r)\n",
        "tl95=1.96\n",
        "tl99=2.58\n",
        "th1_1=math.tanh(zn-tl95/(np.sqrt(len(vx)-3)))\n",
        "th1_2=math.tanh(zn+tl95/(np.sqrt(len(vx)-3)))\n",
        "th2_1=math.tanh(zn-tl99/(np.sqrt(len(vx)-3)))\n",
        "th2_2=math.tanh(zn+tl99/(np.sqrt(len(vx)-3)))\n",
        "print(\"Доверительный интервал с надёжностью 0.95: (\",round(th1_1,4),\";\",round(th1_2,4),\")\")\n",
        "print(\"Доверительный интервал с надёжностью 0.99: (\",round(th2_1,4),\";\",round(th2_2,4),\")\")"
      ],
      "metadata": {
        "execution": {
          "iopub.status.busy": "2022-11-27T13:26:09.641171Z",
          "iopub.execute_input": "2022-11-27T13:26:09.641813Z",
          "iopub.status.idle": "2022-11-27T13:26:09.651871Z",
          "shell.execute_reply.started": "2022-11-27T13:26:09.641766Z",
          "shell.execute_reply": "2022-11-27T13:26:09.650682Z"
        },
        "trusted": true,
        "colab": {
          "base_uri": "https://localhost:8080/"
        },
        "id": "4Z5KYVWkhRkw",
        "outputId": "47a0960b-69eb-455d-a431-24d47bd62da9"
      },
      "execution_count": 9,
      "outputs": [
        {
          "output_type": "stream",
          "name": "stdout",
          "text": [
            "Доверительный интервал с надёжностью 0.95: ( 0.7848 ; 0.8896 )\n",
            "Доверительный интервал с надёжностью 0.99: ( 0.7618 ; 0.901 )\n"
          ]
        }
      ]
    },
    {
      "cell_type": "markdown",
      "source": [
        "Вывод: для $\\gamma\\in${${0,95;0,99}$} образуются интервальные ряды, в которые и попадает полученное значение коэффициента корреляции (0.8451)"
      ],
      "metadata": {
        "id": "oeNwy2AihRkx"
      }
    },
    {
      "cell_type": "markdown",
      "source": [
        "## Пункт 6"
      ],
      "metadata": {
        "id": "IHw3KsdrhRkx"
      }
    },
    {
      "cell_type": "code",
      "source": [
        "tnab=k_r*(np.sqrt(len(vx)-2))/(np.sqrt(1-k_r**2))\n",
        "tkrit=1.9802722\n",
        "if abs(tnab)<tkrit:\n",
        "    print(\"Принимается гипотеза о равенстве коэффициента корреляции нулю\")\n",
        "else:\n",
        "    print(\"Не принимается гипотеза о равенстве коэффициента корреляции нулю\")"
      ],
      "metadata": {
        "execution": {
          "iopub.status.busy": "2022-11-27T13:26:09.659142Z",
          "iopub.execute_input": "2022-11-27T13:26:09.659684Z",
          "iopub.status.idle": "2022-11-27T13:26:09.666344Z",
          "shell.execute_reply.started": "2022-11-27T13:26:09.659648Z",
          "shell.execute_reply": "2022-11-27T13:26:09.665127Z"
        },
        "trusted": true,
        "colab": {
          "base_uri": "https://localhost:8080/"
        },
        "id": "2mvtZym-hRky",
        "outputId": "af2d5e66-8b4e-45ce-a78f-dd71a59ffea9"
      },
      "execution_count": 10,
      "outputs": [
        {
          "output_type": "stream",
          "name": "stdout",
          "text": [
            "Не принимается гипотеза о равенстве коэффициента корреляции нулю\n"
          ]
        }
      ]
    },
    {
      "cell_type": "markdown",
      "source": [
        "Вывод: гипотеза $H_{0}$ отвергается, принимается гипотеза $H_{1}$(о неравенстве коэффициента корреляции 0)"
      ],
      "metadata": {
        "id": "WQkfGUrkhRky"
      }
    },
    {
      "cell_type": "markdown",
      "source": [
        "## Пункт 7"
      ],
      "metadata": {
        "id": "kf70KQqxhRky"
      }
    },
    {
      "cell_type": "markdown",
      "source": [
        "На графике:  уравнения средней квадратичной\n",
        "регрессии y на x - чёрная прямая;  уравнения средней квадратичной\n",
        "регрессии x на y - синяя прямая"
      ],
      "metadata": {
        "id": "ITyCgyT_hRkz"
      }
    },
    {
      "cell_type": "code",
      "source": [
        "import matplotlib.pyplot as plt\n",
        "for i in range(len(vx)):\n",
        "    plt.plot(vx_1[i],vy_1[i],'ro')\n",
        "dlina=int(u[7]-y1[0])\n",
        "gr_y=[0]*dlina\n",
        "l=[0]*dlina\n",
        "for i in range(dlina):\n",
        "    l[i]=i+y1[0]\n",
        "    gr_y[i]=(k_r*sko2*((i+y1[0])-sre))/sko+sre2  \n",
        "plt.plot(l,gr_y,'k')\n",
        "dlina2=int(u2[7]-y2[0])\n",
        "gr_x=[0]*dlina2\n",
        "l2=[0]*dlina2\n",
        "for i in range(dlina2):\n",
        "    l2[i]=i+y2[0]\n",
        "    gr_x[i]=(k_r*sko*((i+y2[0])-sre2))/sko2+sre\n",
        "plt.plot(gr_x,l2,'b')\n",
        "plt.xlabel(\"X\")\n",
        "plt.ylabel(\"Y\")\n",
        "plt.grid()\n",
        "plt.show()"
      ],
      "metadata": {
        "execution": {
          "iopub.status.busy": "2022-11-27T13:26:09.687224Z",
          "iopub.execute_input": "2022-11-27T13:26:09.687959Z",
          "iopub.status.idle": "2022-11-27T13:26:09.996832Z",
          "shell.execute_reply.started": "2022-11-27T13:26:09.687917Z",
          "shell.execute_reply": "2022-11-27T13:26:09.995669Z"
        },
        "trusted": true,
        "colab": {
          "base_uri": "https://localhost:8080/",
          "height": 279
        },
        "id": "YJPpXOSfhRkz",
        "outputId": "2d493536-5bc5-4272-8ca8-3435ffcb987f"
      },
      "execution_count": 11,
      "outputs": [
        {
          "output_type": "display_data",
          "data": {
            "text/plain": [
              "<Figure size 432x288 with 1 Axes>"
            ],
            "image/png": "[encoded data removed]"
          },
          "metadata": {
            "needs_background": "light"
          }
        }
      ]
    },
    {
      "cell_type": "markdown",
      "source": [
        "Вывод: полученные прямые показывают основное направление корреляционной связи - положительное: более высоким значениям одной выборки соответствуют более высокие значения другой (то есть данным графиком был наглядно доказан вывод в 4 пункте)."
      ],
      "metadata": {
        "id": "sbKXfOn9hRk0"
      }
    },
    {
      "cell_type": "markdown",
      "source": [
        "## Пункт 8\n"
      ],
      "metadata": {
        "id": "_TQskcAchRk0"
      }
    },
    {
      "cell_type": "code",
      "source": [
        "disyx,disy,disxy,disx=0,0,0,0\n",
        "ysre,xsre=0,0\n",
        "yx,xy=[0]*k,[0]*k\n",
        "for i in range(k):\n",
        "    ysre+=sum(z[i])*ser2[i]/len(vy)\n",
        "    xsre+=rex[i]*ser[i]/len(vx)\n",
        "    for j in range(k):\n",
        "        yx[i]+=ser2[j]*z[j][i]/rex[i]\n",
        "        xy[i]+=(ser[j])*z[i][j]/(sum(z[i]))\n",
        "for i in range(k):\n",
        "    disyx+=rex[i]*(yx[i]-ysre)**2/len(vx)\n",
        "    disxy+=sum(z[i])*(xy[i]-xsre)**2/len(vx)\n",
        "    disy+=sum(z[i])*(ser2[i]-ysre)**2/len(vx)\n",
        "    disx+=rex[i]*(ser[i]-xsre)**2/len(vx)\n",
        "nu1=np.sqrt(disyx)/np.sqrt(disy)\n",
        "nu2=np.sqrt(disxy)/np.sqrt(disx)\n",
        "print(\"Выборочное корреляционное отношение Y и X: \", round(nu1,4))\n",
        "print(\"Выборочное корреляционное отношение X и Y: \", round(nu2,4))\n",
        "if (nu1>=k_r)&(nu2>=k_r):\n",
        "    print(\"Неравенства выполняются\")\n",
        "else:\n",
        "    print(\"Неравенства не выполняются\")\n",
        "print(\"Коэффициент корреляции:\", round(k_r,4))"
      ],
      "metadata": {
        "execution": {
          "iopub.status.busy": "2022-11-27T13:26:09.998716Z",
          "iopub.execute_input": "2022-11-27T13:26:09.999068Z",
          "iopub.status.idle": "2022-11-27T13:26:10.011281Z",
          "shell.execute_reply.started": "2022-11-27T13:26:09.999036Z",
          "shell.execute_reply": "2022-11-27T13:26:10.010519Z"
        },
        "trusted": true,
        "colab": {
          "base_uri": "https://localhost:8080/"
        },
        "id": "06vTm6N8hRk0",
        "outputId": "90f09350-3b4d-473c-ecde-131c3dda929c"
      },
      "execution_count": 12,
      "outputs": [
        {
          "output_type": "stream",
          "name": "stdout",
          "text": [
            "Выборочное корреляционное отношение Y и X:  0.8642\n",
            "Выборочное корреляционное отношение X и Y:  0.8473\n",
            "Неравенства выполняются\n",
            "Коэффициент корреляции: 0.8451\n"
          ]
        }
      ]
    },
    {
      "cell_type": "markdown",
      "source": [
        "Вывод: так как неравентсва $\\eta_{yx}\\geq|r_{yx}|, \\eta_{xy}\\geq|r_{xy}| $ выполняются, то  $\\eta_{yx}$ и $\\eta_{xy}$ подсчитаны верно. Нет линейной корреляционной зависимости, так $\\eta_{yx}\\neq{r_{yx}} $ и $\\eta_{xy}\\neq{r_{xy}}$"
      ],
      "metadata": {
        "id": "yTD8ip58hRk1"
      }
    },
    {
      "cell_type": "markdown",
      "source": [
        "## Пункт 9"
      ],
      "metadata": {
        "id": "u4vM9MqKhRk1"
      }
    },
    {
      "cell_type": "code",
      "source": [
        "from sympy import diff, symbols\n",
        "a, b, y, x, c = symbols('a b y x c')\n",
        "diff((c+b*x+a*x**2-y)**2,a)"
      ],
      "metadata": {
        "execution": {
          "iopub.status.busy": "2022-11-27T13:26:10.012573Z",
          "iopub.execute_input": "2022-11-27T13:26:10.012891Z",
          "iopub.status.idle": "2022-11-27T13:26:10.028679Z",
          "shell.execute_reply.started": "2022-11-27T13:26:10.012862Z",
          "shell.execute_reply": "2022-11-27T13:26:10.027397Z"
        },
        "trusted": true,
        "colab": {
          "base_uri": "https://localhost:8080/",
          "height": 39
        },
        "id": "Pgym611BhRk1",
        "outputId": "f88a4770-b6ee-4aa6-a781-16861e97cf2c"
      },
      "execution_count": 13,
      "outputs": [
        {
          "output_type": "execute_result",
          "data": {
            "text/plain": [
              "2*x**2*(a*x**2 + b*x + c - y)"
            ],
            "text/latex": "$\\displaystyle 2 x^{2} \\left(a x^{2} + b x + c - y\\right)$"
          },
          "metadata": {},
          "execution_count": 13
        }
      ]
    },
    {
      "cell_type": "code",
      "source": [
        "diff((c+b*x+a*x**2-y)**2,b)"
      ],
      "metadata": {
        "execution": {
          "iopub.status.busy": "2022-11-27T13:26:10.031327Z",
          "iopub.execute_input": "2022-11-27T13:26:10.032046Z",
          "iopub.status.idle": "2022-11-27T13:26:10.042585Z",
          "shell.execute_reply.started": "2022-11-27T13:26:10.032010Z",
          "shell.execute_reply": "2022-11-27T13:26:10.041689Z"
        },
        "trusted": true,
        "colab": {
          "base_uri": "https://localhost:8080/",
          "height": 39
        },
        "id": "bWp1zTYvhRk2",
        "outputId": "d70cd30c-9978-4a78-8f5d-1579b7379dd7"
      },
      "execution_count": 14,
      "outputs": [
        {
          "output_type": "execute_result",
          "data": {
            "text/plain": [
              "2*x*(a*x**2 + b*x + c - y)"
            ],
            "text/latex": "$\\displaystyle 2 x \\left(a x^{2} + b x + c - y\\right)$"
          },
          "metadata": {},
          "execution_count": 14
        }
      ]
    },
    {
      "cell_type": "code",
      "source": [
        "diff((c+b*x+a*x**2-y)**2,c)"
      ],
      "metadata": {
        "execution": {
          "iopub.status.busy": "2022-11-27T13:26:10.043887Z",
          "iopub.execute_input": "2022-11-27T13:26:10.044494Z",
          "iopub.status.idle": "2022-11-27T13:26:10.057317Z",
          "shell.execute_reply.started": "2022-11-27T13:26:10.044437Z",
          "shell.execute_reply": "2022-11-27T13:26:10.056292Z"
        },
        "trusted": true,
        "colab": {
          "base_uri": "https://localhost:8080/",
          "height": 39
        },
        "id": "Hvl0NOwghRk3",
        "outputId": "f5a2cb47-f5ef-439c-ca6d-515d935c8c2e"
      },
      "execution_count": 15,
      "outputs": [
        {
          "output_type": "execute_result",
          "data": {
            "text/plain": [
              "2*a*x**2 + 2*b*x + 2*c - 2*y"
            ],
            "text/latex": "$\\displaystyle 2 a x^{2} + 2 b x + 2 c - 2 y$"
          },
          "metadata": {},
          "execution_count": 15
        }
      ]
    },
    {
      "cell_type": "markdown",
      "source": [
        "Полученные выше производные приравниваем к нулю и составляем систему уравнений (учитывая, что вместо x и y элементы выборки, поэтому у каждого слагаемого сумма по элементам):\n",
        "$\\begin{cases}\n",
        " & nc+b\\sum_{i=1}^{n}x_{i}+a\\sum_{i=1}^{n}x_{i}^{2}=\\sum_{i=1}^{n}y_{i}\\\\\n",
        " & c\\sum_{i=1}^{n}x_{i}+b\\sum_{i=1}^{n}x_{i}^{2}+\\sum_{i=1}^{n}x_{i}^{3}=\\sum_{i=1}^{n}y_{i}x_{i}\\\\\n",
        " & c\\sum_{i=1}^{n}x_{i}^{2}+b\\sum_{i=1}^{n}x_{i}^{3}+\\sum_{i=1}^{n}x_{i}^{4}=\\sum_{i=1}^{n}y_{i}x_{i}^{2}\n",
        "\\end{cases}$"
      ],
      "metadata": {
        "id": "-oEfdh8nhRk3"
      }
    },
    {
      "cell_type": "code",
      "source": [
        "sx,sx_2,sx_3,sx_4,sy,sxy,sxxy=0,0,0,0,0,0,0\n",
        "for i in range(len(vx)):\n",
        "    sx+=vx[i]\n",
        "    sx_2+=vx[i]**2\n",
        "    sx_3+=vx[i]**3\n",
        "    sx_4+=vx[i]**4\n",
        "    sy+=vy[i]\n",
        "    sxy+=vx[i]*vy[i]\n",
        "    sxxy+=vx[i]**2*vy[i]\n",
        "leftside=np.array([[len(vx),sx,sx_2],[sx,sx_2,sx_3],[sx_2,sx_3,sx_4]])\n",
        "rightside=np.array([sy,sxy,sxxy])\n",
        "o=np.linalg.inv(leftside).dot(rightside)\n",
        "for i in range(len(vx)):\n",
        "    plt.plot(vx_1[i],vy_1[i],'ro')\n",
        "l3,p_y=[0]*dlina,[0]*dlina\n",
        "for i in range(dlina):\n",
        "    l3[i]=i+y1[0]\n",
        "    p_y[i]=o[0]+o[1]*(i+y1[0])+o[2]*(i+y1[0])**2\n",
        "plt.plot(l3,p_y)\n",
        "plt.grid()\n",
        "plt.show()"
      ],
      "metadata": {
        "execution": {
          "iopub.status.busy": "2022-11-27T13:26:10.058974Z",
          "iopub.execute_input": "2022-11-27T13:26:10.059289Z",
          "iopub.status.idle": "2022-11-27T13:26:10.412898Z",
          "shell.execute_reply.started": "2022-11-27T13:26:10.059261Z",
          "shell.execute_reply": "2022-11-27T13:26:10.411607Z"
        },
        "trusted": true,
        "colab": {
          "base_uri": "https://localhost:8080/",
          "height": 265
        },
        "id": "udIRWFWghRk4",
        "outputId": "45d3c87b-c169-4769-f9f2-6ff57749be38"
      },
      "execution_count": 16,
      "outputs": [
        {
          "output_type": "display_data",
          "data": {
            "text/plain": [
              "<Figure size 432x288 with 1 Axes>"
            ],
            "image/png": "[encoded data removed]"
          },
          "metadata": {
            "needs_background": "light"
          }
        }
      ]
    },
    {
      "cell_type": "markdown",
      "source": [
        "Вывод: на графике изображена корреляционная кривая параболического вида $y=-0.000306x^{2}+0.68x-116$"
      ],
      "metadata": {
        "id": "N-xbZ5IxhRk4"
      }
    },
    {
      "cell_type": "markdown",
      "source": [
        "## Пункт 10"
      ],
      "metadata": {
        "id": "j3UYd-3BhRk4"
      }
    },
    {
      "cell_type": "code",
      "source": [
        "from sympy import diff, symbols\n",
        "a, b, y, x = symbols('a b y x')\n",
        "diff((a+b/x-y)**2,a)"
      ],
      "metadata": {
        "execution": {
          "iopub.status.busy": "2022-11-27T13:26:10.414318Z",
          "iopub.execute_input": "2022-11-27T13:26:10.414686Z",
          "iopub.status.idle": "2022-11-27T13:26:10.425490Z",
          "shell.execute_reply.started": "2022-11-27T13:26:10.414651Z",
          "shell.execute_reply": "2022-11-27T13:26:10.424326Z"
        },
        "trusted": true,
        "colab": {
          "base_uri": "https://localhost:8080/",
          "height": 52
        },
        "id": "sUaFSuW7hRk5",
        "outputId": "0b4d94cc-e453-4200-abc7-150b3680439d"
      },
      "execution_count": 17,
      "outputs": [
        {
          "output_type": "execute_result",
          "data": {
            "text/plain": [
              "2*a + 2*b/x - 2*y"
            ],
            "text/latex": "$\\displaystyle 2 a + \\frac{2 b}{x} - 2 y$"
          },
          "metadata": {},
          "execution_count": 17
        }
      ]
    },
    {
      "cell_type": "code",
      "source": [
        "diff((a+b/x-y)**2,b)"
      ],
      "metadata": {
        "execution": {
          "iopub.status.busy": "2022-11-27T13:26:10.427232Z",
          "iopub.execute_input": "2022-11-27T13:26:10.428456Z",
          "iopub.status.idle": "2022-11-27T13:26:10.441095Z",
          "shell.execute_reply.started": "2022-11-27T13:26:10.428377Z",
          "shell.execute_reply": "2022-11-27T13:26:10.439996Z"
        },
        "trusted": true,
        "colab": {
          "base_uri": "https://localhost:8080/",
          "height": 56
        },
        "id": "PIA9aLpAhRk5",
        "outputId": "1f3eb892-698c-444b-d1d6-54fe9778bc6a"
      },
      "execution_count": 18,
      "outputs": [
        {
          "output_type": "execute_result",
          "data": {
            "text/plain": [
              "2*(a + b/x - y)/x"
            ],
            "text/latex": "$\\displaystyle \\frac{2 \\left(a + \\frac{b}{x} - y\\right)}{x}$"
          },
          "metadata": {},
          "execution_count": 18
        }
      ]
    },
    {
      "cell_type": "markdown",
      "source": [
        "Полученные выше производные приравниваем к нулю и составляем систему уравнений (учитывая, что вместо x и y элементы выборки, поэтому у каждого слагаемого сумма по элементам):\n",
        "$\\begin{cases}\n",
        " & na+b\\sum_{i=1}^{n}\\frac{1}{x_{i}}=\\sum_{i=1}^{n}y_{i}\\\\\n",
        " & a\\sum_{i=1}^{n}\\frac{1}{x_{i}}+b\\sum_{i=1}^{n}\\frac{1}{x_{i}^{2}}=\\sum_{i=1}^{n}\\frac{y_{i}}{x_{i}^{2}}\n",
        "\\end{cases}$"
      ],
      "metadata": {
        "id": "40ODKwXThRk5"
      }
    },
    {
      "cell_type": "code",
      "source": [
        "ox,ox2,raz=0,0,0\n",
        "for i in range(len(vx)):\n",
        "    ox+=1/vx[i]\n",
        "    ox2+=1/vx[i]**2\n",
        "    raz+=vy[i]/vx[i]\n",
        "left=np.array([[len(vx),ox],[ox,ox2]])\n",
        "right=np.array([sy,raz])\n",
        "o2=np.linalg.inv(left).dot(right)\n",
        "for i in range(len(vx)):\n",
        "    plt.plot(vx_1[i],vy_1[i],'ro')\n",
        "l4,p_y2=[0]*dlina,[0]*dlina\n",
        "for i in range(dlina):\n",
        "    l4[i]=i+y1[0]\n",
        "    p_y2[i]=o2[0]+o2[1]/(i+y1[0])\n",
        "plt.plot(l4,p_y2)\n",
        "plt.grid()\n",
        "plt.show()\n"
      ],
      "metadata": {
        "execution": {
          "iopub.status.busy": "2022-11-27T13:26:10.443997Z",
          "iopub.execute_input": "2022-11-27T13:26:10.444388Z",
          "iopub.status.idle": "2022-11-27T13:26:10.760873Z",
          "shell.execute_reply.started": "2022-11-27T13:26:10.444355Z",
          "shell.execute_reply": "2022-11-27T13:26:10.759918Z"
        },
        "trusted": true,
        "colab": {
          "base_uri": "https://localhost:8080/",
          "height": 269
        },
        "id": "w1M14GKehRk6",
        "outputId": "94d6534b-0732-4b41-a097-28f6758b5ebc"
      },
      "execution_count": 19,
      "outputs": [
        {
          "output_type": "display_data",
          "data": {
            "text/plain": [
              "<Figure size 432x288 with 1 Axes>"
            ],
            "image/png": "[encoded data removed]"
          },
          "metadata": {
            "needs_background": "light"
          }
        }
      ]
    },
    {
      "cell_type": "markdown",
      "source": [
        "Вывод: на графике изображена обратно пропорциональная функция $y=302.18-\\frac{77676.87}{x}$"
      ],
      "metadata": {
        "id": "QNpv7s4QhRk6"
      }
    },
    {
      "cell_type": "markdown",
      "source": [
        "## Пункт 11"
      ],
      "metadata": {
        "id": "f3m21xv1hRk6"
      }
    },
    {
      "cell_type": "code",
      "source": [
        "poly,poly2,poly3,poly4,disrez,disrez2,disrez3,disrez4=[0]*len(vx),[0]*len(vx),[0]*len(vx),[0]*len(vx),0,0,0,0\n",
        "apr,apr2,apr3,apr4=0,0,0,0\n",
        "ostdis,ostdis2,ostdis3,ostdis4=[0]*len(vx),[0]*len(vx),[0]*len(vx),[0]*len(vx)\n",
        "for i in range(len(vx)):\n",
        "    poly[i]=(k_r*sko2*(vx_1[i]-sre))/sko+sre2\n",
        "    poly2[i]=(k_r*sko*(vy_1[i]-sre2))/sko2+sre\n",
        "    poly3[i]=o[0]+o[1]*vx_1[i]+o[2]*vx_1[i]**2\n",
        "    poly4[i]=o2[0]+o2[1]/vx_1[i]\n",
        "    disrez+=(poly[i]-sre2)**2/len(vx)\n",
        "    disrez2+=(poly2[i]-sre)**2/len(vx)\n",
        "    disrez3+=(poly3[i]-sre2)**2/len(vx)\n",
        "    disrez4+=(poly4[i]-sre2)**2/len(vx)\n",
        "    apr+=abs((vy_1[i]-poly[i])/vy_1[i])/len(vx)\n",
        "    apr2+=abs((vx_1[i]-poly2[i])/vx_1[i])/len(vx)\n",
        "    apr3+=abs((vy_1[i]-poly3[i])/vy_1[i])/len(vx)\n",
        "    apr4+=abs((vy_1[i]-poly4[i])/vy_1[i])/len(vx)\n",
        "    ostdis[i]=(vy_1[i]-poly[i])**2\n",
        "    ostdis2[i]=(vx_1[i]-poly2[i])**2\n",
        "    ostdis3[i]=(vy_1[i]-poly3[i])**2\n",
        "    ostdis4[i]=(vy_1[i]-poly4[i])**2\n",
        "myTable5 = PrettyTable([\"№\",\"Теоретический коэф. детерминации \",\"Средняя квадратическая ошибка\",\"Средняя ошибка аппроксимации\"])\n",
        "myTable5.add_row([1,round(disrez/dis2,4),round(np.sqrt(sum(ostdis)/(len(vx)-2)),4),round(apr*100,4)])\n",
        "myTable5.add_row([2,round(disrez2/dis,4),round(np.sqrt(sum(ostdis2)/(len(vx)-2)),4),round(apr2*100,4)])\n",
        "myTable5.add_row([3,round(disrez3/dis2,4),round(np.sqrt(sum(ostdis3)/(len(vx)-3)),4),round(apr3*100,4)])\n",
        "myTable5.add_row([4,round(disrez4/dis2,4),round(np.sqrt(sum(ostdis4)/(len(vx)-2)),4),round(apr4*100,4)])\n",
        "print(myTable5)"
      ],
      "metadata": {
        "execution": {
          "iopub.status.busy": "2022-11-27T13:26:10.761959Z",
          "iopub.execute_input": "2022-11-27T13:26:10.762839Z",
          "iopub.status.idle": "2022-11-27T13:26:10.784014Z",
          "shell.execute_reply.started": "2022-11-27T13:26:10.762806Z",
          "shell.execute_reply": "2022-11-27T13:26:10.782770Z"
        },
        "trusted": true,
        "colab": {
          "base_uri": "https://localhost:8080/"
        },
        "id": "JIjF1y_MhRk6",
        "outputId": "948ac3cf-64b5-4ec4-cd07-895599c1f770"
      },
      "execution_count": 20,
      "outputs": [
        {
          "output_type": "stream",
          "name": "stdout",
          "text": [
            "+---+-----------------------------------+-------------------------------+------------------------------+\n",
            "| № | Теоретический коэф. детерминации  | Средняя квадратическая ошибка | Средняя ошибка аппроксимации |\n",
            "+---+-----------------------------------+-------------------------------+------------------------------+\n",
            "| 1 |               0.7134              |             9.8074            |            5.9788            |\n",
            "| 2 |               0.7031              |            24.1869            |            4.1071            |\n",
            "| 3 |               0.969               |             9.8786            |            5.9835            |\n",
            "| 4 |               0.954               |             9.7934            |            6.0958            |\n",
            "+---+-----------------------------------+-------------------------------+------------------------------+\n"
          ]
        }
      ]
    },
    {
      "cell_type": "markdown",
      "source": [
        "Вывод:\n",
        "> 1. Коэффициент детерминации характеризует долю дисперсии результативного признака, объясняемую регрессией, в общей дисперсии результативного признака:\n",
        "\n",
        ">> 1) уравнение средней квадратичной регрессии y на x: объясняется 71.34% дисперсии\n",
        " \n",
        ">> 2) уравнение средней квадратичной регрессии x на y: объясняется 70.31% дисперсии\n",
        " \n",
        ">> 3) модель параболического вида: объясняется 96.9% дисперсии\n",
        "\n",
        ">> 4) модель гиперболического вида: объясняется 95.4% дисперсии\n",
        "\n",
        "> 2. Использование модели регрессии является целесообразным, если средняя квадратическая ошибка меньше СКО: так как во всех случаях это неравенство выполняется, значит, использование любой модели является целесообразным.\n",
        "\n",
        "> 3. Так как средняя ошибка аппроксимации у всех моделей меньше 7%, то у всех моделей хорошее качество"
      ],
      "metadata": {
        "id": "TjkXr7bYhRk7"
      }
    },
    {
      "cell_type": "markdown",
      "source": [
        "## Выводы:\n",
        "\n",
        "В данной работе были выполнены поставленные цели и задачи: oтработан материал по темам практической; найден коэффициент корреляции $r_{B}=0.8451$; построены доверительные интервалы для коэффициента корреляции при уровне значимости $\\gamma\\in$ { ${0.95;0.99}$}; проверена гипотеза о равенстве коэффициента корреляции нулю; на графиках были построены 4 регрессионные модели, по ним были проанализированы их показатели качества."
      ],
      "metadata": {
        "id": "_rwCTta3hRk7"
      }
    }
  ]
}