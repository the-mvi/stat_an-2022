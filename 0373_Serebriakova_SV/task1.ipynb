{
 "cells": [
  {
   "cell_type": "markdown",
   "id": "a47b2b5a",
   "metadata": {},
   "source": [
    "# Практическая работа №1: Формирование и первичная обработка выборки. Нахождение и точечных и интервальных оценок. Проверка статистических гипотез.\n",
    "\n",
    "Выполнила студентка гр. 0373 Серебрякова Софья. Вариант 19"
   ]
  },
  {
   "cell_type": "markdown",
   "id": "8514d096",
   "metadata": {},
   "source": [
    "## Цель работы\n",
    "\n",
    "Ознакомление с основными правилами формирования выборки и подготовки выборочных данных к статистическому анализу. Получение практических навыков нахождения точечных статистических оценок параметров распределения, а также вычисления интервальных статистических оценок параметров распределения выборочных данных и проверки\n",
    "«справедливости» статистических гипотез."
   ]
  },
  {
   "cell_type": "markdown",
   "id": "24c0fb9d",
   "metadata": {},
   "source": [
    "## Основные теоретические положения\n",
    "\n",
    "__Генеральная совокупность__ - совокупность всех объектов (единиц), относительно которых предполагается делать выводы при изучении конкретной задачи. <br>\n",
    "__Выбока__ - часть генеральной совокупности<br>\n",
    "__Объем выборки__ - количество элементов выборки<br>\n",
    "__Ранжированный ряд__ -расположение единиц совокупности в порядке возрастания или убывания выбранного признака<br>\n",
    "__Вариационный ряд__ - ранжированный в порядке возрастания или убывания ряд вариант с соответствующими им весами<br>\n",
    "__Интервальный ряд__ -  соответствие между интервалом изменения признака и числом объектов, попадающих в данный интервал<br>\n",
    "__Полигон частот__ - ломаная, соединяющая трочки дискретного ряда $(x_{1}, n_{1}) ... (x_{k}, n_{k})$<br>\n",
    "__Полигон относительных частот__ - ломаная, соединяющая трочки дискретного ряда $(x_{1}, p_{1}^{*}) ... (x_{k}, p_{k}^{*})$<br>\n",
    "__Гистограмма частот__ - ступенчатая фигура из прямоугольников с основанием из частотных интервалов длины $h_{i}$ и высотой $f_{i} = \\frac{n_{i}}{h}$<br>\n",
    "__Гистограмма относительных частот__ - ступенчатая фигура из прямоугольников с основанием из частотных интервалов длины $h_{i}$ и высотой $f_{i}^{*} = \\frac{p_{i}^{*}}{h}$<br>\n",
    "__Эмпирическая функция__ - функция, заданная для каждого значения х относительно часттоты события (Х < x)<br>\n",
    "__Накопленная частота__ - сумма частот<br>\n",
    "__Условные варианты__ - варианты, определяемые формулой:<br>\n",
    "$\\mu _{i} = \\frac{x_{i} - c}{h}$, где c - ложный нуль(варианта с наибольшей частотой), h - шаг<br>\n",
    "__Условные эмпирический момент порядка r__ - начальный эмпирический момент порядка r, вычисленный с помощью условных вариант<br>\n",
    "$\\nu _{r} ^{*} = \\frac{1}{n}\\displaystyle\\sum_{i=1}^{k}ni({\\frac{xi - c}{h}})^{r} $<br>\n",
    "$\\mu _{1} ^{*} = 0$<br>\n",
    "$\\mu _{2} ^{*} = (\\nu _{2} ^{*} - (\\nu _{1} ^{*})^{2})h^{2}$<br>\n",
    "$\\mu _{3} ^{*} = (\\nu _{3} ^{*}- 3(\\nu _{2} ^{*} \\nu _{1} ^{*}) + 2(\\nu _{1} ^{*})^{3})h^{3}$<br>\n",
    "$\\mu _{4} ^{*} = (\\nu _{3} ^{*}- 4(\\nu _{3} ^{*} \\nu _{1} ^{*}) + 6(\\nu _{2} ^{*} (\\nu _{1} ^{*})^{2}) - 3(\\nu _{1} ^{*})^{4})h^{4}$<br>\n",
    "__Выборочное среднее__ - это приближение теоретического среднего распределения, основанное на выборке из него<br>\n",
    "$x_{в} = \\frac{1}{n}\\displaystyle\\sum_{i=1}^{k}n_{i}x_{i}$<br>\n",
    "__Дисперсия__ - мера разброса значений случайной величины относительно её математического ожидания<br>\n",
    "$D = \\frac{1}{n}\\displaystyle\\sum_{i=1}^{k}n_{i}(x_{i} - x_{в})^{2}$<br>\n",
    "С помощью условных вариант: <br>\n",
    "$D = \\mu _{2}$, $x_{в} = h\\nu _{1} ^{*} + c$<br>\n",
    "Исправленная дисперсия: $D\\frac{n}{n-1}$<br>\n",
    "Исправленное СКО: $\\sqrt{D\\frac{n}{n-1}}$<br>\n",
    "Коэффициент асимметрии: <br>\n",
    "$a _{s}^{*} = \\frac{\\mu _{3} ^{*}}{\\sigma _{в}^{3}}$<br>\n",
    "Коэффициент эксцесса:<br>\n",
    "$e _{k}^{*} = \\frac{\\mu _{4} ^{*}}{\\sigma _{в}^{4}} - 3 $<br>\n",
    "__Мода__ -  значение во множестве наблюдений, которое встречается наиболее часто<br>\n",
    "$Mo^{*} = x _{Mo}^{(0)} + h _{Mo}\\frac{n _{Mo} - n _{Mo-1}}{(n _{Mo} - n _{Mo-1}) + (n _{Mo} - n _{Mo+1})} $<br>\n",
    "__Медиана__ -  число, которое находится в середине этого набора<br>\n",
    "$Me^{*} = x _{Me}^{(0)} + h _{Me}\\frac{\\frac{N+1}{2} - p^{\\Sigma}_{Me-1}}{p^{*}_{Me}}$<br>\n",
    "__Коэффициент вариации__ - это статистическая мера дисперсии (разброса) данных вокруг некоторого среднего значения<br>\n",
    "$V = \\frac{\\sigma _{в}}{|x_{в}|}100$%<br>\n",
    "Доверительный интервал для математического ожидания при неизвестном среднеквадратичном отклонении\n",
    "при заданном объёме выборки:<br>\n",
    "$(x_{в} - \\frac{t_{\\gamma}\\sigma _{в}}{\\sqrt{n}} ; x_{в} + \\frac{t_{\\gamma}\\sigma _{в}}{\\sqrt{n}})$<br>\n",
    "Точность: <br>\n",
    "$\\frac{t_{\\gamma}\\sigma _{в}}{\\sqrt{n}}$<br>\n",
    "Доверительный интервал для среднеквадратичного отклонения:<br>\n",
    "$(s(1-q);s(1+q))$ при q<1<br>\n",
    "$(0;s(1+q))$ при q>1<br>\n",
    "Теоритические частоты: <br>\n",
    "$P(x_{i-1} < x < x_{i}) = \\Phi(\\frac{ x_{i} - a}{\\sigma}) - \\Phi(\\frac{ x_{i-1} - a}{\\sigma})$<br>\n",
    "Хи наблюдаемое:<br>\n",
    "$X_{набл}^{2} = \\displaystyle\\sum_{i=1}^{k}\\frac{(n_{i} - n_{i}^{'})^{2}}{n_{i}^{'}} = \\displaystyle\\sum_{i=1}^{k}\\frac{n_{i}^{2}}{n_{i}^{'}}-n$<br>\n",
    "Хи критическое: <br>\n",
    "$X_{крит}^{2} = X^{2}(\\alpha, df), df = k-r-1 $<br>\n",
    "Условие принятия гипотезы: <br>\n",
    "$X_{набл}^{2} < X_{крит}^{2}$ <br>"
   ]
  },
  {
   "cell_type": "markdown",
   "id": "b1d3122f",
   "metadata": {},
   "source": [
    "## Постановка задачи\n",
    "\n",
    "Осуществить формирование репрезентативной выборки заданного объема из имеющейся генеральной совокупности экспериментальных данных.\n",
    "Осуществить последовательное преобразование полученной выборки в ранжированный, вариационный и интервальный ряды. Применительно\n",
    "к интервальному ряду построить и отобразить графически полигон, гистограмму и эмпирическую функцию распределения для абсолютных и относительных частот. Для заданных выборочных данных вычислить с\n",
    "использованием метода моментов и условных вариант точечные статистические оценки математического ожидания, дисперсии, среднеквадратичного отклонения, асимметрии, эксцесса, моды, медианы и коэффициента вариации исследуемой случайной величины. Для заданной надёжности определить границы доверительных интервалов для математического ожидания и среднеквадратичного отклонения случайной величины. Проверить гипотезу о нормальном распределении исследуемой\n",
    "случайной величины с помощью критерия Пирсона 𝜒2. Полученные результаты содержательно проинтерпретировать."
   ]
  },
  {
   "cell_type": "markdown",
   "id": "cf2928e4",
   "metadata": {},
   "source": [
    "## Выполнение работы\n",
    "\n",
    "Каждый пункт выполняется с помощью кода на языке Python."
   ]
  },
  {
   "cell_type": "code",
   "execution_count": 38,
   "id": "4695a13a",
   "metadata": {},
   "outputs": [],
   "source": [
    "import pandas as pd\n",
    "import numpy as np\n",
    "import matplotlib.pyplot as plt"
   ]
  },
  {
   "cell_type": "markdown",
   "id": "4ecded09",
   "metadata": {},
   "source": [
    "### Задание 1\n",
    "Сформировать выборку из 101 элемента\n",
    "Выборка была сгенерирована простым способом (генератор чисел выбирал номер студента)"
   ]
  },
  {
   "cell_type": "code",
   "execution_count": 2,
   "id": "670239c0",
   "metadata": {},
   "outputs": [],
   "source": [
    "math = [44, 78, 52, 44, 35, 56, 67, 54, 60, 73, 71, 61, 74, 79, 84, 58, 67, 85, 68, 65, 68, 59, 90, 82, 59, 85, 66, 48, 70, 35, 54, 71, 77, 63, 58, 82, 92, 55, 70, 69, 57, 67, 89, 81, 57, 56, 71, 68, 61, 88, 65, 38, 67, 71, 72, 74, 68, 57, 48, 35, 65, 69, 63, 67, 66, 74, 64, 40, 53, 57, 82, 88, 59, 76, 80, 68, 61, 47, 32, 87, 69, 72, 35, 68, 55, 88, 91, 73, 70, 51, 68, 69, 74, 58, 83, 54, 50, 63, 59, 79, 34]\n",
    "n = len(math)"
   ]
  },
  {
   "cell_type": "markdown",
   "id": "97d14d78",
   "metadata": {},
   "source": [
    "### Задание 2\n",
    "Последовательно преобразовать выборку в ранжированный, вариационный и интервальный ряды."
   ]
  },
  {
   "cell_type": "code",
   "execution_count": 3,
   "id": "a5f52986",
   "metadata": {},
   "outputs": [
    {
     "name": "stdout",
     "output_type": "stream",
     "text": [
      "ранжированный список:\n",
      "[32 34 35 35 35 35 38 40 44 44 47 48 48 50 51 52 53 54 54 54 55 55 56 56\n",
      " 57 57 57 57 58 58 58 59 59 59 59 60 61 61 61 63 63 63 64 65 65 65 66 66\n",
      " 67 67 67 67 67 68 68 68 68 68 68 68 69 69 69 69 70 70 70 71 71 71 71 72\n",
      " 72 73 73 74 74 74 74 76 77 78 79 79 80 81 82 82 82 83 84 85 85 87 88 88\n",
      " 88 89 90 91 92]\n",
      "вариационный ряд:\n",
      "xi ni pi\n",
      "32 1 0.009901\n",
      "34 1 0.009901\n",
      "35 4 0.039604\n",
      "38 1 0.009901\n",
      "40 1 0.009901\n",
      "44 2 0.019802\n",
      "47 1 0.009901\n",
      "48 2 0.019802\n",
      "50 1 0.009901\n",
      "51 1 0.009901\n",
      "52 1 0.009901\n",
      "53 1 0.009901\n",
      "54 3 0.029703\n",
      "55 2 0.019802\n",
      "56 2 0.019802\n",
      "57 4 0.039604\n",
      "58 3 0.029703\n",
      "59 4 0.039604\n",
      "60 1 0.009901\n",
      "61 3 0.029703\n",
      "63 3 0.029703\n",
      "64 1 0.009901\n",
      "65 3 0.029703\n",
      "66 2 0.019802\n",
      "67 5 0.049505\n",
      "68 7 0.069307\n",
      "69 4 0.039604\n",
      "70 3 0.029703\n",
      "71 4 0.039604\n",
      "72 2 0.019802\n",
      "73 2 0.019802\n",
      "74 4 0.039604\n",
      "76 1 0.009901\n",
      "77 1 0.009901\n",
      "78 1 0.009901\n",
      "79 2 0.019802\n",
      "80 1 0.009901\n",
      "81 1 0.009901\n",
      "82 3 0.029703\n",
      "83 1 0.009901\n",
      "84 1 0.009901\n",
      "85 2 0.019802\n",
      "87 1 0.009901\n",
      "88 3 0.029703\n",
      "89 1 0.009901\n",
      "90 1 0.009901\n",
      "91 1 0.009901\n",
      "92 1 0.009901\n",
      "интервальный ряд:\n",
      "i   (xi;xi-1]        av(xi)   ni     pi\n",
      "1 ( 32.0 ; 39.5 ]    35.75     7    0.069307\n",
      "2 ( 39.5 ; 47.0 ]    43.25     4    0.039604\n",
      "3 ( 47.0 ; 54.5 ]    50.75     9    0.089109\n",
      "4 ( 54.5 ; 62.0 ]    58.25    19    0.188119\n",
      "5 ( 62.0 ; 69.5 ]    65.75    25    0.247525\n",
      "6 ( 69.5 ; 77.0 ]    73.25    17    0.168317\n",
      "7 ( 77.0 ; 84.5 ]    80.75    10    0.099010\n",
      "8 ( 84.5 ; 92.0 ]    88.25    10    0.099010\n"
     ]
    }
   ],
   "source": [
    "print(\"ранжированный список:\")\n",
    "math = np.sort(math)\n",
    "print(math)\n",
    "\n",
    "print(\"вариационный ряд:\")\n",
    "print(\"xi ni pi\")\n",
    "ni = 1\n",
    "p = ni/n\n",
    "for i in range (n-1):\n",
    "    if (math[i] == math[i-1]): ni+=1;\n",
    "    if (math[i] != math[i+1]):\n",
    "        p = ni/n\n",
    "        print(math[i], ni, round(p, 6))\n",
    "        ni = 1\n",
    "print(math[n-1], ni, round(ni/n, 6))\n",
    "\n",
    "print(\"интервальный ряд:\")\n",
    "print(\"i   (xi;xi-1]        av(xi)   ni     pi\")\n",
    "k = np.ceil(1 + np.log2(n)) \n",
    "h = (math[n-1]-math[0])/k\n",
    "quan = round(n/h, 0)+1\n",
    "x0 = math[0]\n",
    "xi = float(x0)\n",
    "i = 1\n",
    "ni = 0\n",
    "j = 0;\n",
    "while (xi != math[n-1]):\n",
    "    while ((math[j] >= xi) and (math[j] <= xi+h)): \n",
    "        ni+=1\n",
    "        if (j == n-1): break\n",
    "        j+=1\n",
    "    print(i, \"(\", xi, \";\", xi+h, \"]\", \"  \",(xi+h/2),\"  \", '%2d'%ni,\"  \", '%.6f'%round(ni/n, 6))\n",
    "    ni = 0\n",
    "    xi = xi+h\n",
    "    i+=1"
   ]
  },
  {
   "cell_type": "markdown",
   "id": "fb4f16d9",
   "metadata": {},
   "source": [
    "### Задание 3\n",
    "Для интервального ряда абсолютных частот построить и отобразить графически полигон, гистограмму и эмпирическую функцию."
   ]
  },
  {
   "cell_type": "code",
   "execution_count": 122,
   "id": "06210861",
   "metadata": {},
   "outputs": [
    {
     "data": {
      "text/plain": [
       "[<matplotlib.lines.Line2D at 0x10f51032c10>]"
      ]
     },
     "execution_count": 122,
     "metadata": {},
     "output_type": "execute_result"
    },
    {
     "data": {
      "image/png": "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\n",
      "text/plain": [
       "<Figure size 432x288 with 1 Axes>"
      ]
     },
     "metadata": {
      "needs_background": "light"
     },
     "output_type": "display_data"
    },
    {
     "data": {
      "image/png": "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\n",
      "text/plain": [
       "<Figure size 432x288 with 1 Axes>"
      ]
     },
     "metadata": {
      "needs_background": "light"
     },
     "output_type": "display_data"
    },
    {
     "data": {
      "image/png": "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\n",
      "text/plain": [
       "<Figure size 432x288 with 1 Axes>"
      ]
     },
     "metadata": {
      "needs_background": "light"
     },
     "output_type": "display_data"
    }
   ],
   "source": [
    "df = pd.DataFrame({\n",
    "    'xi_av': [35.75, 43.25, 50.75, 58.25, 65.75, 73.25, 80.75, 88.25],\n",
    "    'ni': [7, 4, 9, 19, 25, 17, 10, 10]})\n",
    "plt.title('Полигон абсолютных частот:')\n",
    "plt.plot(df['xi_av'], df['ni'])\n",
    "fig, histogram = plt.subplots()\n",
    "plt.title('Гистограмма абсолютных частот:')\n",
    "histogram.bar(df['xi_av'], df['ni']/h, width = h)\n",
    "fig, func = plt.subplots()\n",
    "plt.title('Эмпиричесткая функция абсолютных частот:')\n",
    "func.step(df['xi_av'], [sum(df['ni'][:i+1]) for i in range (len(df['ni']))])"
   ]
  },
  {
   "cell_type": "markdown",
   "id": "a566f956",
   "metadata": {},
   "source": [
    "##### Вывод:\n",
    "Полигон абсолютных частот позваляет увидеть распределение выборки, графики полигона и гистограммы показывают аналогичные значения, эмпирическая функция имеет ступенчатый вид."
   ]
  },
  {
   "cell_type": "markdown",
   "id": "3b18b7d7",
   "metadata": {},
   "source": [
    "### Задание 4\n",
    "Для интервального ряда относительных частот построить и отобразить графически полигон, гистограмму и эмпирическую функцию."
   ]
  },
  {
   "cell_type": "code",
   "execution_count": 123,
   "id": "033a75fa",
   "metadata": {},
   "outputs": [
    {
     "data": {
      "text/plain": [
       "[<matplotlib.lines.Line2D at 0x10f52751460>]"
      ]
     },
     "execution_count": 123,
     "metadata": {},
     "output_type": "execute_result"
    },
    {
     "data": {
      "image/png": "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\n",
      "text/plain": [
       "<Figure size 432x288 with 1 Axes>"
      ]
     },
     "metadata": {
      "needs_background": "light"
     },
     "output_type": "display_data"
    },
    {
     "data": {
      "image/png": "iVBORw0KGgoAAAANSUhEUgAAAYAAAAEICAYAAABWJCMKAAAAOXRFWHRTb2Z0d2FyZQBNYXRwbG90bGliIHZlcnNpb24zLjUuMSwgaHR0cHM6Ly9tYXRwbG90bGliLm9yZy/YYfK9AAAACXBIWXMAAAsTAAALEwEAmpwYAAAZlUlEQVR4nO3df5RdZX3v8feHCSkKahIysEISCOLUNrUmxKw0lVsuFe1KgjroKm3SStIUjFklS2htb9NWr+ClNrJEW1qayI9IUi00UCtTGMU0LbVWIxloDAkhl2mMZJIxGUECylUI+d4/9jO6PT0zZ8+PMjl5Pq+1zjpnP/t59nm+Z0725+x9fkQRgZmZ5eeksZ6AmZmNDQeAmVmmHABmZplyAJiZZcoBYGaWKQeAmVmmHABmZplyAIwRSfsk/T9J3ytdPjTW8zKzfIwb6wlk7h0R8U9jPQkzy5OPAI5Dku6QdH1puVNSSBqXlidJ+rSkg5K+K+nzqf2ZdCTxA0kvlY4sfjOtf6ekXanfg5J+tnQftUckX03t10q6R9LfSXpO0iOSZpXGrZb0n2ndY5LeVVr3W2nev1tqW5Tark/LF6Xlvyj1mZnaPlNqu1vStyUdkfRlST83yON3lqQOSU9L6pb03tT+i6X6XpT0Qmn57DTfr9Rsq0fSRen2T0n68/S4H0y3f6rUt13SdknPpsdkQWp/UNKV6fZJkh6V1JOW/6o0h5D0/XT7C2n9ayTdLqlX0gFJ10tqKd3nRZKOlbZxTNJb6z2Pauq6tubxHZfuf8ZgYyVdKenBdPvNkr4jaXpanpWeWz9TZ9xF/TUPsDzg8yitf6+k3aX1cyo8dsN6HtR7vE5UDoDjXNr5vLGm+W+AVwI/B5wBfBIgIiZExGnASuBrEXFaunxW0k8DdwLXAK1AJ/CPksaXtvuO0pg3l9rbgbuBScDfAp+XdHJa95/ALwGvAa4DPiNpSmlsN7CstHwlsLumnj5gYWlnWq/PF4C2VO8jwGcZ2J1AD3AW8KvARyVdHBE/ekzS+BtK9T45yPb6/QkwH5gNzALmAR8EkDQP2Aj8ATABuBDYV2cby4CJ/QsRsao0J4BZaXlhWt4AHAVeB5wP/ArF49PvJOBAaRtV6hgVEfFV4FPABkmvoHhefjAiHq/T/RiD728GfB5Jugy4FlgKvBp4J/BUhcduWM+D9GLgmRzCwAFwHJMk4Abgf5fapgALgZUR8d2IeDEi/rXC5n4duD8iNkfEi8DHgVcAbx58GAAPR8Q9adwngFModoRExN0RcTAijkXE3wFPUOwY+x0C9qVXXWcA5wAP1Wz/BYpAencKpIXA58sdImJ9RDwXET+k2BnMkvSa2ommV6P/A/jDiPhBRGwHbgMur1BnI78JfCQiDkdEH8WOqn+7VwDr0+N7LCIO1O4IJZ0CfAj4P1XuTNKZFI/FNRHx/Yg4TBH2i0vdxlM8fmPlWoqd9kPAQeDmAfrtB85Q6eixrMHz6EqKnfS2KHRHxLcGm9RIngcR8WR6MfWyhelYcQAc334NeAr451LbdODpiPjuELd1FvCjfzQRcYziH+XUCmP314zrf1WFpKXptMczkp4B3gBMrhl/G8U/4t+ieJVcz20UO9FLgS9S2qlJapG0Jp0ieJYfv7KuvZ/+Op+OiOdKbd+iWp0A8/trSfWcVbPt8o7nW6X10ylexQ7mauABYE/FuZwDnAz0lubzKYqjoH6TgMGeC7+fxh6S9DlJp5fW/Vppu98Z4lgA0ouCOyj+7jfGAL8uGRHfBD4CbE73d195fYPnUZXHttZInwdZcAAcv06meKX4hzXt+4FJkiYMcXsHKXYowI+OLqYDByqMnV4adxIwDTgo6RzgVmAVcHpETAB2AqoZ/wXgAorTH39T7w4iYifFaa0PUoRB2W9QnIZ6K8WrzRn906mzqYMUj8+rSm1nU61OgK3p1d+EVM/Bmm2fU1o+u7R+P3DeINudRPE4XVdxHv3b/CEwuTSnV0dE+f2Pnwb+7yDb+Hiq47UUj+8flNZtKtVZL0wHGwuApKnAh4FPAzeWTuP9FxHxkYg4I23z7aVtNHoeNXps6xnp8yALDoDj1+XAVyNiR7kxInopdqh/LWmipJMlXVhhe5uASyRdnM7ff4Bi5/LVCmPfJOndKt6EviaN2wqcCgTFOXwkLad45fYTIuIl4GPAZyLi6UHu56PAP0XErpr2V6X7fIpiR/TRgTYQEftTTX8m6RRJb6Q4shjsPYOq7gQ+KKlV0mSKU3P9b6TeDixPj+9JkqbWvBl6DXB7RHy76p2lv/WXKHasr07bPU/S/4TizXLgt6k5XTaAHwDPM7x/83XHphcRd1DUfgXQS8XTWzUaPY9uozgaeZMKr0uhMaD/5ufBCcMBcPyaSHG+uJ7LgReBx4HDFDuXQUXEHuA9wF9SHO6/g+JN3yrnj++leA/hu+m+353ee3gMuBH4GsW5/p8H/n2A+/90RPxZgzneFxG/V2fVRorD9wPAYxThM5glFEcJB4F/AD4cEZsbjKnieqAL2AE8SvFm9PVp7g8ByynO0R8B/pWfPFpooXjfZaiWUpznf4zi8b8HmCLpVIpw+FREbBpk/PtVfNrmSYr3boYyh0Zj3w+cCXwonfpZThGCvzSE+6DR8ygi7gb+lOIDCM9RBN6kCpse1vMgvQmcxSeCNMApOzOg+Lgg8LqIeM9Yz8XMRpePAMzMMuUAMDPLlE8BmZllykcAZmaZaqofg5s8eXLMmDFjrKdhZtZUHn744e9ERGtte1MFwIwZM+jq6hrraZiZNRVJdX86w6eAzMwy5QAwM8uUA8DMLFMOADOzTDkAzMwy5QAwM8uUA8DMLFMOADOzTDkAzMwy1VTfBDY7Xs1Yff9YT6GufWsuGesp2HHMRwBmZplyAJiZZcoBYGaWKQeAmVmmHABmZplyAJiZZcoBYGaWKQeAmVmmHABmZplyAJiZZcoBYGaWKQeAmVmmHABmZplyAJiZZapSAEhaIGmPpG5Jq+usl6Sb0vodkuak9lMkPSTpG5J2SbquNGaSpM2SnkjXE0evLDMza6RhAEhqAW4GFgIzgSWSZtZ0Wwi0pcsKYG1q/yHwloiYBcwGFkian9atBrZERBuwJS2bmdnLpMoRwDygOyL2RsQLwF1Ae02fdmBjFLYCEyRNScvfS31OTpcojdmQbm8ALh1BHWZmNkRVAmAqsL+03JPaKvWR1CJpO3AY2BwRX099zoyIXoB0fcaQZ29mZsNWJQBUpy2q9omIlyJiNjANmCfpDUOZoKQVkrokdfX19Q1lqJmZDaJKAPQA00vL04CDQ+0TEc8ADwILUtMhSVMA0vXhenceEbdExNyImNva2lphumZmVkWVANgGtEk6V9J4YDHQUdOnA1iaPg00HzgSEb2SWiVNAJD0CuCtwOOlMcvS7WXAvSMrxczMhmJcow4RcVTSKuABoAVYHxG7JK1M69cBncAioBt4Hliehk8BNqRPEp0EbIqI+9K6NcAmSVcATwKXjV5ZZmbWSMMAAIiIToqdfLltXel2AFfVGbcDOH+AbT4FXDyUyZqZ2ejxN4HNzDLlADAzy5QDwMwsUw4AM7NMOQDMzDLlADAzy5QDwMwsUw4AM7NMOQDMzDLlADAzy5QDwMwsUw4AM7NMOQDMzDLlADAzy5QDwMwsUw4AM7NMOQDMzDLlADAzy5QDwMwsUw4AM7NMOQDMzDLlADAzy5QDwMwsU5UCQNICSXskdUtaXWe9JN2U1u+QNCe1T5f0L5J2S9ol6erSmGslHZC0PV0WjV5ZZmbWyLhGHSS1ADcDbwN6gG2SOiLisVK3hUBbuvwCsDZdHwU+EBGPSHoV8LCkzaWxn4yIj49eOWZmVlXDAADmAd0RsRdA0l1AO1AOgHZgY0QEsFXSBElTIqIX6AWIiOck7Qam1ow1q2zG6vvHegpmJ4wqp4CmAvtLyz2pbUh9JM0Azge+XmpelU4ZrZc0sd6dS1ohqUtSV19fX4XpmplZFVUCQHXaYih9JJ0G/D1wTUQ8m5rXAucBsymOEm6sd+cRcUtEzI2Iua2trRWma2ZmVVQJgB5geml5GnCwah9JJ1Ps/D8bEZ/r7xARhyLipYg4BtxKcarJzMxeJlUCYBvQJulcSeOBxUBHTZ8OYGn6NNB84EhE9EoScDuwOyI+UR4gaUpp8V3AzmFXYWZmQ9bwTeCIOCppFfAA0AKsj4hdklam9euATmAR0A08DyxPwy8ALgcelbQ9tf1xRHQCN0iaTXGqaB/wvlGqyczMKqjyKSDSDruzpm1d6XYAV9UZ9xXqvz9ARFw+pJmamdmo8jeBzcwy5QAwM8uUA8DMLFMOADOzTDkAzMwy5QAwM8uUA8DMLFMOADOzTDkAzMwy5QAwM8tUpZ+CMLPmdLz+Bzr71lwy1lMwfARgZpYtB4CZWaYcAGZmmXIAmJllygFgZpYpB4CZWaYcAGZmmXIAmJllygFgZpYpB4CZWaYcAGZmmaoUAJIWSNojqVvS6jrrJemmtH6HpDmpfbqkf5G0W9IuSVeXxkyStFnSE+l64uiVZWZmjTQMAEktwM3AQmAmsETSzJpuC4G2dFkBrE3tR4EPRMTPAvOBq0pjVwNbIqIN2JKWzczsZVLlCGAe0B0ReyPiBeAuoL2mTzuwMQpbgQmSpkREb0Q8AhARzwG7gamlMRvS7Q3ApSMrxczMhqJKAEwF9peWe/jxTrxyH0kzgPOBr6emMyOiFyBdn1HvziWtkNQlqauvr6/CdM3MrIoqAaA6bTGUPpJOA/4euCYinq0+PYiIWyJibkTMbW1tHcpQMzMbRJUA6AGml5anAQer9pF0MsXO/7MR8blSn0OSpqQ+U4DDQ5u6mZmNRJUA2Aa0STpX0nhgMdBR06cDWJo+DTQfOBIRvZIE3A7sjohP1BmzLN1eBtw77CrMzGzIGv6XkBFxVNIq4AGgBVgfEbskrUzr1wGdwCKgG3geWJ6GXwBcDjwqaXtq++OI6ATWAJskXQE8CVw2alWZmVlDlf5P4LTD7qxpW1e6HcBVdcZ9hfrvDxARTwEXD2WyZmY2evxNYDOzTDkAzMwy5QAwM8uUA8DMLFMOADOzTDkAzMwy5QAwM8uUA8DMLFMOADOzTDkAzMwy5QAwM8uUA8DMLFMOADOzTDkAzMwy5QAwM8uUA8DMLFMOADOzTDkAzMwy5QAwM8uUA8DMLFMOADOzTDkAzMwy5QAwM8tUpQCQtEDSHkndklbXWS9JN6X1OyTNKa1bL+mwpJ01Y66VdEDS9nRZNPJyzMysqoYBIKkFuBlYCMwElkiaWdNtIdCWLiuAtaV1dwALBtj8JyNidrp0DnHuZmY2AlWOAOYB3RGxNyJeAO4C2mv6tAMbo7AVmCBpCkBEfBl4ejQnbWZmI1clAKYC+0vLPaltqH3qWZVOGa2XNLFeB0krJHVJ6urr66uwSTMzq6JKAKhOWwyjT621wHnAbKAXuLFep4i4JSLmRsTc1tbWBps0M7OqqgRADzC9tDwNODiMPj8hIg5FxEsRcQy4leJUk5mZvUyqBMA2oE3SuZLGA4uBjpo+HcDS9Gmg+cCRiOgdbKP97xEk7wJ2DtTXzMxG37hGHSLiqKRVwANAC7A+InZJWpnWrwM6gUVAN/A8sLx/vKQ7gYuAyZJ6gA9HxO3ADZJmU5wq2ge8b/TKMjOzRhoGAED6iGZnTdu60u0Arhpg7JIB2i+vPk0zMxtt/iawmVmmHABmZplyAJiZZcoBYGaWKQeAmVmmKn0KyMxsNM1Yff9YT6Hp7Ftzyahv00cAZmaZcgCYmWXKAWBmlikHgJlZphwAZmaZcgCYmWXKAWBmlil/D8Dq8ue0zU58PgIwM8uUA8DMLFMOADOzTDkAzMwy5QAwM8uUA8DMLFMOADOzTDkAzMwyVSkAJC2QtEdSt6TVddZL0k1p/Q5Jc0rr1ks6LGlnzZhJkjZLeiJdTxx5OWZmVlXDAJDUAtwMLARmAkskzazpthBoS5cVwNrSujuABXU2vRrYEhFtwJa0bGZmL5MqRwDzgO6I2BsRLwB3Ae01fdqBjVHYCkyQNAUgIr4MPF1nu+3AhnR7A3DpMOZvZmbDVCUApgL7S8s9qW2ofWqdGRG9AOn6jHqdJK2Q1CWpq6+vr8J0zcysiioBoDptMYw+wxIRt0TE3IiY29raOhqbNDMzqgVADzC9tDwNODiMPrUO9Z8mSteHK8zFzMxGSZUA2Aa0STpX0nhgMdBR06cDWJo+DTQfONJ/emcQHcCydHsZcO8Q5m1mZiPUMAAi4iiwCngA2A1siohdklZKWpm6dQJ7gW7gVuB3+sdLuhP4GvB6ST2Srkir1gBvk/QE8La0bGZmL5NK/yFMRHRS7OTLbetKtwO4aoCxSwZofwq4uPJMR+h4/Q9O9q25ZKynYGaZ8jeBzcwy5QAwM8uUA8DMLFMOADOzTDkAzMwy5QAwM8uUA8DMLFMOADOzTDkAzMwy5QAwM8uUA8DMLFMOADOzTDkAzMwy5QAwM8uUA8DMLFMOADOzTDkAzMwy5QAwM8uUA8DMLFMOADOzTDkAzMwy5QAwM8tUpQCQtEDSHkndklbXWS9JN6X1OyTNaTRW0rWSDkjani6LRqckMzOromEASGoBbgYWAjOBJZJm1nRbCLSlywpgbcWxn4yI2enSOdJizMysunEV+swDuiNiL4Cku4B24LFSn3ZgY0QEsFXSBElTgBkVxmZtxur7x3oKZpapKqeApgL7S8s9qa1Kn0ZjV6VTRuslTax355JWSOqS1NXX11dhumZmVkWVAFCdtqjYZ7Cxa4HzgNlAL3BjvTuPiFsiYm5EzG1tba0wXTMzq6LKKaAeYHppeRpwsGKf8QONjYhD/Y2SbgXuqzxrMzMbsSpHANuANknnShoPLAY6avp0AEvTp4HmA0cionewsek9gn7vAnaOsBYzMxuChkcAEXFU0irgAaAFWB8RuyStTOvXAZ3AIqAbeB5YPtjYtOkbJM2mOCW0D3jfKNZlZmYNVDkFRPqIZmdN27rS7QCuqjo2tV8+pJmamdmo8jeBzcwy5QAwM8uUA8DMLFMOADOzTDkAzMwy5QAwM8uUA8DMLFMOADOzTDkAzMwy5QAwM8uUA8DMLFMOADOzTDkAzMwy5QAwM8uUA8DMLFMOADOzTDkAzMwy5QAwM8uUA8DMLFMOADOzTDkAzMwy5QAwM8uUA8DMLFOVAkDSAkl7JHVLWl1nvSTdlNbvkDSn0VhJkyRtlvREup44OiWZmVkVDQNAUgtwM7AQmAkskTSzpttCoC1dVgBrK4xdDWyJiDZgS1o2M7OXSZUjgHlAd0TsjYgXgLuA9po+7cDGKGwFJkia0mBsO7Ah3d4AXDqyUszMbCjGVegzFdhfWu4BfqFCn6kNxp4ZEb0AEdEr6Yx6dy5pBcVRBcD3JO2p6TIZ+E6FOprBiVLLiVIHuJbj1YlSS+U69LER3c859RqrBIDqtEXFPlXGDioibgFuGWi9pK6ImDuUbR6vTpRaTpQ6wLUcr06UWsa6jiqngHqA6aXlacDBin0GG3sonSYiXR+uPm0zMxupKgGwDWiTdK6k8cBioKOmTwewNH0aaD5wJJ3eGWxsB7As3V4G3DvCWszMbAgangKKiKOSVgEPAC3A+ojYJWllWr8O6AQWAd3A88DywcamTa8BNkm6AngSuGyYNQx4eqgJnSi1nCh1gGs5Xp0otYxpHYoY0il5MzM7QfibwGZmmXIAmJllqmkCQNIpkh6S9A1JuyRdl9qb9iclJLVI+g9J96XlpqxF0j5Jj0raLqkrtTVrLRMk3SPpcUm7Jf1is9Ui6fXpb9F/eVbSNc1WRz9Jv5v+ze+UdGfaFzRrLVenOnZJuia1jVktTRMAwA+Bt0TELGA2sCB94qiZf1LiamB3abmZa/nliJhd+kxzs9byF8AXI+JngFkUf5+mqiUi9qS/xWzgTRQfzPgHmqwOAElTgfcDcyPiDRQfJllMc9byBuC9FL+QMAt4u6Q2xrKWiGi6C/BK4BGKbxXvAaak9inAnrGeX8UapqU/9luA+1Jbs9ayD5hc09Z0tQCvBr5J+nBEM9dSmvuvAP/erHXw418TmETxqcX7Uk3NWMtlwG2l5Q8B/2ssa2mmI4D+UybbKb40tjkivk7NT0oAdX9S4jj05xR//GOltmatJYAvSXo4/XQHNGctrwX6gE+nU3O3STqV5qyl32LgznS76eqIiAPAxyk+Kt5L8R2jL9GEtQA7gQslnS7plRQfnZ/OGNbSVAEQES9FcVg7DZiXDqmajqS3A4cj4uGxnssouSAi5lD86utVki4c6wkN0zhgDrA2Is4Hvk8TnFoYSPry5TuBu8d6LsOVzoe3A+cCZwGnSnrP2M5qeCJiN/AxYDPwReAbwNGxnFNTBUC/iHgGeBBYQHP+pMQFwDsl7aP4hdS3SPoMzVkLEXEwXR+mONc8j+aspQfoSUeWAPdQBEIz1gJFID8SEYfScjPW8VbgmxHRFxEvAp8D3kxz1kJE3B4RcyLiQuBp4AnGsJamCQBJrZImpNuvoHhiPE4T/qRERPxRREyLiBkUh+j/HBHvoQlrkXSqpFf136Y4P7uTJqwlIr4N7Jf0+tR0MfAYTVhLsoQfn/6B5qzjSWC+pFdKEsXfZDfNWQtKv3os6Wzg3RR/nzGrpWm+CSzpjRT/b0ALRXBtioiPSDod2AScTfpJiYh4euxmOjSSLgJ+PyLe3oy1SHotxat+KE6h/G1E/Gkz1gIgaTZwGzAe2EvxsyYn0WS1pHPM+4HXRsSR1Nasf5PrgF+nOF3yH8CVwGk0Zy3/BpwOvAj8XkRsGcu/S9MEgJmZja6mOQVkZmajywFgZpYpB4CZWaYcAGZmmXIAmJllygFgZpYpB4CZWab+P9boGTB66q9NAAAAAElFTkSuQmCC\n",
      "text/plain": [
       "<Figure size 432x288 with 1 Axes>"
      ]
     },
     "metadata": {
      "needs_background": "light"
     },
     "output_type": "display_data"
    },
    {
     "data": {
      "image/png": "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\n",
      "text/plain": [
       "<Figure size 432x288 with 1 Axes>"
      ]
     },
     "metadata": {
      "needs_background": "light"
     },
     "output_type": "display_data"
    }
   ],
   "source": [
    "df = pd.DataFrame({\n",
    "    'xi_av': [35.75, 43.25, 50.75, 58.25, 65.75, 73.25, 80.75, 88.25],\n",
    "    'pi': [0.069307, 0.039604, 0.089109, 0.188119, 0.247525, 0.168317, 0.09901, 0.09901]})\n",
    "plt.title('Полигон относительных частот:')\n",
    "plt.plot(df['xi_av'], df['pi'])\n",
    "fig, histogram = plt.subplots()\n",
    "plt.title('Гистограмма относительных частот:')\n",
    "histogram.bar(df['xi_av'], df['pi']/h, width = h)\n",
    "fig, func = plt.subplots()\n",
    "plt.title('Эмпиричесткая функция относительных частот:')\n",
    "func.step(df['xi_av'], [sum(df['pi'][:i+1]) for i in range (len(df['pi']))])"
   ]
  },
  {
   "cell_type": "markdown",
   "id": "c37720f4",
   "metadata": {},
   "source": [
    "##### Вывод: \n",
    "Графики для относительных частот показывают те же зависимости, отличаются от графиков абсолютных частот на константное значение."
   ]
  },
  {
   "cell_type": "markdown",
   "id": "4da0cbbf",
   "metadata": {},
   "source": [
    "### Задание 5\n",
    "Для интервального ряда найти середины интервалов, а также накопленные частоты."
   ]
  },
  {
   "cell_type": "code",
   "execution_count": 6,
   "id": "de50f4d0",
   "metadata": {},
   "outputs": [
    {
     "name": "stdout",
     "output_type": "stream",
     "text": [
      "i (xi;xi-1]      av(xi)  ni    pi       ni_sum   pi_sum\n",
      "1 ( 32.0 ; 39.5 ] 35.75   7   0.069307   007   0.069307\n",
      "2 ( 39.5 ; 47.0 ] 43.25   4   0.039604   011   0.108911\n",
      "3 ( 47.0 ; 54.5 ] 50.75   9   0.089109   020   0.198020\n",
      "4 ( 54.5 ; 62.0 ] 58.25  19   0.188119   039   0.386139\n",
      "5 ( 62.0 ; 69.5 ] 65.75  25   0.247525   064   0.633664\n",
      "6 ( 69.5 ; 77.0 ] 73.25  17   0.168317   081   0.801981\n",
      "7 ( 77.0 ; 84.5 ] 80.75  10   0.099010   091   0.900991\n",
      "8 ( 84.5 ; 92.0 ] 88.25  10   0.099010   101   1.000001\n",
      "sum:                    101   1.000001\n"
     ]
    }
   ],
   "source": [
    "print(\"i (xi;xi-1]      av(xi)  ni    pi       ni_sum   pi_sum\")\n",
    "k = np.ceil(1 + np.log2(n))\n",
    "h = (math[n-1]-math[0])/k\n",
    "quan = round(n/h, 0)+1\n",
    "x0 = math[0]\n",
    "xi = float(x0)\n",
    "i = 1\n",
    "ni = 0\n",
    "j = 0;\n",
    "ni_sum = 0;\n",
    "pi_sum = 0;\n",
    "while (xi != math[n-1]):\n",
    "    while ((math[j] >= xi) and (math[j] <= xi+h)): \n",
    "        ni+=1\n",
    "        if (j == n-1): break\n",
    "        j+=1\n",
    "    ni_sum +=ni\n",
    "    pi = round(ni/n, 6)\n",
    "    pi_sum =round(pi_sum+ pi, 6)\n",
    "    print(i, \"(\", xi, \";\", xi+h, \"]\", (xi+h/2), '%3d' %ni, \" \", '%.6f' %pi, \" \", '%.3d' %ni_sum, \" \", '%.6f' %pi_sum)\n",
    "    ni = 0\n",
    "    xi = xi+h\n",
    "    i+=1\n",
    "print(\"sum:                   \", ni_sum, \" \", pi_sum)"
   ]
  },
  {
   "cell_type": "markdown",
   "id": "63ca052c",
   "metadata": {},
   "source": [
    "### Задание 6\n",
    "Для полученных вариант вычислить условные варианты. "
   ]
  },
  {
   "cell_type": "code",
   "execution_count": 14,
   "id": "1e53faa4",
   "metadata": {},
   "outputs": [
    {
     "name": "stdout",
     "output_type": "stream",
     "text": [
      "i    xi     ni      ui      ni*ui    ni*ui^2     ni*ui^3     ni*ui^4     ni*(ui+1)^4 \n",
      "1   35.75    7    -4.50    -31.50     141.75       -637        2870.44        1050.44\n",
      "2   43.25    4    -3.50    -14.00     49.00       -171        600.25        156.25\n",
      "3   50.75    9    -2.50    -22.50     56.25       -140        351.56        45.56\n",
      "4   58.25   19    -1.50    -28.50     42.75        -64        96.19        1.19\n",
      "5   65.75   25    -0.50    -12.50     6.25         -3        1.56        1.56\n",
      "6   73.25   17    0.50    8.50     4.25          2        1.06        86.06\n",
      "7   80.75   10    1.50    15.00     22.50         33        50.62        390.62\n",
      "8   88.25   10    2.50    25.00     62.50        156        390.62        1500.62\n",
      "sum:       101          -60.50     385.25       -825.12        4362.31        3232.31\n",
      "проверка: 3232.31\n"
     ]
    }
   ],
   "source": [
    "print(\"i    xi     ni      ui      ni*ui    ni*ui^2     ni*ui^3     ni*ui^4     ni*(ui+1)^4 \")\n",
    "k = np.ceil(1 + np.log2(n)) \n",
    "h = (math[n-1]-math[0])/k\n",
    "quan = round(n/h, 0)+1\n",
    "x0 = math[0]\n",
    "xi = float(x0)\n",
    "i = 1\n",
    "ni = 0\n",
    "j = 0;\n",
    "ui = 0;\n",
    "c = 65.75;\n",
    "sum1=0;\n",
    "sum2=0;\n",
    "sum3=0;\n",
    "sum4=0;\n",
    "sum_check1=0;\n",
    "sum_check2=0;\n",
    "ni_sum = 0;\n",
    "while (xi != math[n-1]):\n",
    "    while ((math[j] >= xi) and (math[j] <= xi+h)): \n",
    "        ni+=1\n",
    "        if (j == n-1): break\n",
    "        j+=1\n",
    "    ui = ((xi-c)/h)\n",
    "    print(i, \" \", (xi+h/2), \" \", '%2d' %ni, \"  \",'%.2f' %ui,\"  \", '%.2f' %(ni*ui),\"   \", '%.2f' %(ni*(ui**2)),\"     \", '%4d' %(ni*(ui**3)), \"      \",'%.2f' %(ni*(ui**4)),\"      \", '%.2f' %(ni*((ui+1)**4)))\n",
    "    sum1 += ni*ui;\n",
    "    sum2 +=  ni*(ui**2);\n",
    "    sum3 +=  ni*(ui**3);\n",
    "    sum4 +=  ni*(ui**4);\n",
    "    sum_check1 += ni*((ui+1)**4)\n",
    "    ni_sum += ni;\n",
    "    ni = 0\n",
    "    xi = xi+h\n",
    "    i+=1\n",
    "print(\"sum:      \", ni_sum, \"        \", '%.2f' %sum1, \"   \", '%.2f' %sum2, \"     \",'%.2f' %sum3, \"      \",'%.2f' %sum4, \"      \", '%.2f' %sum_check1)\n",
    "sum_check2 = sum4 + 4*sum3 + 6*sum2 +4*sum1 +n\n",
    "print(\"проверка:\",'%.2f' %sum_check2)"
   ]
  },
  {
   "cell_type": "markdown",
   "id": "4ff43d4b",
   "metadata": {},
   "source": [
    "Проверка прошла успешно."
   ]
  },
  {
   "cell_type": "markdown",
   "id": "27d2089f",
   "metadata": {},
   "source": [
    "### Задание 7\n",
    "Вычислить условные эмпирические моменты через условные варианты. С помощью условных эмпирических моментов вычислить\n",
    "центральные эмпирические моменты. "
   ]
  },
  {
   "cell_type": "code",
   "execution_count": 15,
   "id": "cf375840",
   "metadata": {},
   "outputs": [
    {
     "name": "stdout",
     "output_type": "stream",
     "text": [
      "i     nu      mu\n",
      "1    -0.10    0.00\n",
      "2    3.47    194.37\n",
      "3    -2.77    -736.13\n",
      "4    32.34    99485.21\n"
     ]
    }
   ],
   "source": [
    "nu1 = 0;\n",
    "nu2 = 0;\n",
    "nu3 = 0;\n",
    "nu4 = 0;\n",
    "h = (math[n-1]-math[0])/k\n",
    "c = 65.75;\n",
    "ni = [7, 4, 9, 19, 25, 17, 10, 10]\n",
    "xi = [35.75, 43.25, 50.75, 58.25, 65.75, 73.25, 80.75, 88.25]\n",
    "for i in range(len(xi)):\n",
    "    nu1 += ni[i]*(((xi[i] - c)/h)**1)\n",
    "nu1 = nu1/n\n",
    "for i in range(len(xi)):\n",
    "    nu2 += ni[i]*(((xi[i] - c)/h)**2)\n",
    "nu2 = nu2/n\n",
    "for i in range(len(xi)):\n",
    "    nu3 += ni[i]*(((xi[i] - c)/h)**3)\n",
    "nu3 = nu3/n\n",
    "for i in range(len(xi)):\n",
    "    nu4 += ni[i]*(((xi[i] - c)/h)**4)\n",
    "nu4 = nu4/n\n",
    "\n",
    "mu1 = 0;\n",
    "mu2 = (nu2-(nu1**2))*(h**2);\n",
    "mu3 = (nu3-3*nu2*nu1+2*(nu1**3))*(h**3);\n",
    "mu4 = (nu4-4*nu3*nu1+6*nu2*(nu1**2)-3*(nu1**4))*(h**4);\n",
    "\n",
    "print(\"i     nu      mu\")\n",
    "print(1, \"  \", '%.2f' %nu1,  \"  \", '%.2f' %mu1)\n",
    "print(2,  \"  \", '%.2f' %nu2, \"  \",  '%.2f' %mu2)\n",
    "print(3,  \"  \", '%.2f' %nu3,  \"  \", '%.2f' %mu3)\n",
    "print(4,   \"  \",'%.2f' %nu4,  \"  \", '%.2f' %mu4)"
   ]
  },
  {
   "cell_type": "markdown",
   "id": "a644c891",
   "metadata": {},
   "source": [
    "### Задание 8\n",
    "Вычислить выборочные среднее и дисперсию с помощью стандартной формулы и с помощью условных вариант. "
   ]
  },
  {
   "cell_type": "code",
   "execution_count": 16,
   "id": "25dea90e",
   "metadata": {},
   "outputs": [
    {
     "name": "stdout",
     "output_type": "stream",
     "text": [
      "65.00742574257426 -выборочное среднее через стандартную формулу\n",
      "194.37432604646605 -дисперсия через стандартную формулу\n",
      "65.00742574257426 -выборочное среднее через условные варианты\n",
      "194.37432604646602 -дисперсия через условные варианты\n"
     ]
    }
   ],
   "source": [
    "x_smean = 0;\n",
    "D = 0;\n",
    "ni = [7, 4, 9, 19, 25, 17, 10, 10]\n",
    "xi = [35.75, 43.25, 50.75, 58.25, 65.75, 73.25, 80.75, 88.25]\n",
    "for i in range(len(xi)):\n",
    "    x_smean += xi[i]*ni[i]\n",
    "x_smean = x_smean/n\n",
    "print(x_smean, \"-выборочное среднее через стандартную формулу\")\n",
    "for i in range(len(xi)):\n",
    "    D += ni[i]*(xi[i]-x_smean)**2\n",
    "D = D/n\n",
    "print(D, \"-дисперсия через стандартную формулу\")\n",
    "x_smean_cond = h*nu1+c\n",
    "print(x_smean_cond, \"-выборочное среднее через условные варианты\")\n",
    "D_cond = mu2\n",
    "print(D_cond, \"-дисперсия через условные варианты\")"
   ]
  },
  {
   "cell_type": "markdown",
   "id": "dac9b9cb",
   "metadata": {},
   "source": [
    "#### Вывод: \n",
    "Результаты совпадают."
   ]
  },
  {
   "cell_type": "markdown",
   "id": "1a56e771",
   "metadata": {},
   "source": [
    "### Задание 9\n",
    "Вычислить исправленную выборочную дисперсию и исправленное СКО. "
   ]
  },
  {
   "cell_type": "code",
   "execution_count": 125,
   "id": "d400016f",
   "metadata": {},
   "outputs": [
    {
     "name": "stdout",
     "output_type": "stream",
     "text": [
      "196.3180693069307 -исправленная дисперсия через стандартную формулу\n",
      "14.011355013235898 -исправленное СКО через стандартную формулу\n",
      "194.37432604646605 - смещенная дисперсия\n",
      "13.941819323404893 - смещенное СКО\n"
     ]
    }
   ],
   "source": [
    "D_cor = D*(n/(n-1))\n",
    "s = (D*(n/(n-1)))**0.5\n",
    "print(D_cor, \"-исправленная дисперсия через стандартную формулу\")\n",
    "print(s, \"-исправленное СКО через стандартную формулу\")\n",
    "print (D, \"- смещенная дисперсия\") \n",
    "print (D**0.5, \"- смещенное СКО\")"
   ]
  },
  {
   "cell_type": "markdown",
   "id": "c257455e",
   "metadata": {},
   "source": [
    "##### Сравнение:\n",
    "Исправленные дисперсия и СКО незначительно отличаются в большую сторону от смещенных значений."
   ]
  },
  {
   "cell_type": "markdown",
   "id": "37217b7c",
   "metadata": {},
   "source": [
    "### Задание 10\n",
    "Найти статистическую оценку коэффициентов асимметрии и эксцесса."
   ]
  },
  {
   "cell_type": "code",
   "execution_count": 109,
   "id": "135a2eca",
   "metadata": {},
   "outputs": [
    {
     "name": "stdout",
     "output_type": "stream",
     "text": [
      "-0.27164259002572655 коэффициент асимметрии\n",
      "-0.36681908073034597 коэффициент эксцесса\n"
     ]
    }
   ],
   "source": [
    "s = D**0.5\n",
    "a_s = mu3/(s**3)\n",
    "e_k = mu4/(D**2)-3\n",
    "print(a_s, \"коэффициент асимметрии\")\n",
    "print(e_k, \"коэффициент эксцесса\")"
   ]
  },
  {
   "cell_type": "markdown",
   "id": "c55b34d5",
   "metadata": {},
   "source": [
    "##### Вывод:\n",
    "Коэффициент асимметрии меньше нуля, что означает, что график левоасимметричен относительно графика нормального распределения, а коэффициент эксцесса меньше нуля, что означает, что график сжат вниз относительно графика нормального распределени"
   ]
  },
  {
   "cell_type": "markdown",
   "id": "7bee1e3d",
   "metadata": {},
   "source": [
    "### Задание 11\n",
    "Вычислить моду, медиану и коэффициент вариации для заданного распределения."
   ]
  },
  {
   "cell_type": "code",
   "execution_count": 110,
   "id": "c79f9bef",
   "metadata": {},
   "outputs": [
    {
     "name": "stdout",
     "output_type": "stream",
     "text": [
      "58.785714285714285 - мода\n",
      "58.4 - медиана\n",
      "21.446502709726904 % - коэффициент вариации\n"
     ]
    }
   ],
   "source": [
    "Mo = 62.0 - h*((25-19)/((25-19)+(25-17)))\n",
    "print(Mo, \"- мода\")\n",
    "Me = 62.0 - h*(((ni_sum+1)/2 - 39)/25)\n",
    "print(Me, \"- медиана\")\n",
    "V = (s/x_smean)*100\n",
    "print(V, \"% - коэффициент вариации\")"
   ]
  },
  {
   "cell_type": "markdown",
   "id": "fbd75032",
   "metadata": {},
   "source": [
    "##### Вывод:\n",
    "Так как коэффициент вариации меньше 33%, колеблемость умеренная"
   ]
  },
  {
   "cell_type": "markdown",
   "id": "eaf8a20a",
   "metadata": {},
   "source": [
    "### Задание 12\n",
    "Вычислить точность и доверительный интервал для математического ожидания при неизвестном среднеквадратичном отклонении\n",
    "при заданном объёме выборки для доверительной точности 𝛾 ∈ {0.95, 0.99}."
   ]
  },
  {
   "cell_type": "code",
   "execution_count": 23,
   "id": "f1c8ae55",
   "metadata": {},
   "outputs": [
    {
     "name": "stdout",
     "output_type": "stream",
     "text": [
      "( 62.25509620334059 ; 67.75975528180793 ) - для 0.95\n",
      "с точностью:  2.7523295392336657\n",
      "( 61.36461216542018 ; 68.65023931972833 ) - для 0.99\n",
      "с точностью:  3.6428135771540737\n"
     ]
    }
   ],
   "source": [
    "print(\"(\", (x_smean - (1.9840*s)/(n**0.5)), \";\", (x_smean + (1.9840*s)/(n**0.5)), \")\",  \"- для 0.95\")\n",
    "print(\"с точностью: \", (1.9840*s)/(n**0.5))\n",
    "print(\"(\", (x_smean - (2.6259*s)/(n**0.5)), \";\", (x_smean + (2.6259*s)/(n**0.5)),\")\",  \"- для 0.99\")\n",
    "print(\"с точностью: \", (2.6259*s)/(n**0.5))"
   ]
  },
  {
   "cell_type": "markdown",
   "id": "5ba130a0",
   "metadata": {},
   "source": [
    "##### Вывод:\n",
    "В обоих случаях мат ожидание = 65.00742574257426 попадает в интервал"
   ]
  },
  {
   "cell_type": "markdown",
   "id": "51658060",
   "metadata": {},
   "source": [
    "### Задание 13\n",
    "Для вычисления границ доверительного интервала для среднеквадратичного отклонения определить значение 𝑞 при заданных 𝛾 и 𝑛.\n",
    "Построить доверительные интервалы."
   ]
  },
  {
   "cell_type": "code",
   "execution_count": 108,
   "id": "4be08428",
   "metadata": {},
   "outputs": [
    {
     "name": "stdout",
     "output_type": "stream",
     "text": [
      "( 11.948139160157993 ; 15.935499486651793 ) - для 0.95\n",
      "( 11.181339097370724 ; 16.70229954943906 ) - для 0.99\n"
     ]
    }
   ],
   "source": [
    "q95 = 0.143\n",
    "q99 = 0.198\n",
    "print(\"(\", (s*(1-q95)), \";\", (s*(1+q95)), \")\",  \"- для 0.95\")\n",
    "print(\"(\", (s*(1-q99)), \";\", (s*(1+q99)), \")\",  \"- для 0.99\")"
   ]
  },
  {
   "cell_type": "markdown",
   "id": "24bef26a",
   "metadata": {},
   "source": [
    "##### Вывод: \n ",
    "В обоих случаях CКО = 13.941819323404893 попадает в интервал"
   ]
  },
  {
   "cell_type": "markdown",
   "id": "8cc59a06",
   "metadata": {},
   "source": [
    "### Задание 14\n",
    "Проверить гипотезу о нормальности заданного распределения с помощью критерия 𝜒2(Пирсона). "
   ]
  },
  {
   "cell_type": "code",
   "execution_count": 50,
   "id": "77da45e5",
   "metadata": {},
   "outputs": [
    {
     "name": "stdout",
     "output_type": "stream",
     "text": [
      "Requirement already satisfied: scipy in c:\\users\\sonya\\anaconda3\\lib\\site-packages (1.7.3)\n",
      "Requirement already satisfied: numpy<1.23.0,>=1.16.5 in c:\\users\\sonya\\anaconda3\\lib\\site-packages (from scipy) (1.21.5)\n"
     ]
    }
   ],
   "source": [
    "!pip install scipy\n",
    "import scipy as sp\n",
    "from scipy.stats import norm"
   ]
  },
  {
   "cell_type": "code",
   "execution_count": 130,
   "id": "ab9d1dfe",
   "metadata": {},
   "outputs": [
    {
     "name": "stdout",
     "output_type": "stream",
     "text": [
      "i (xi;xi-1]        ni       pi         ni'     (ni - ni')^2     ((ni-ni')^2/ni')      ni^2       ni^2/ni' \n",
      "1 ( -inf ; 39.5 ]   7   0.034343   3.468643     12.470482         3.595205           49        14.126562\n",
      "2 ( 39.5 ; 47.0 ]   4   0.065018   6.566818     6.588555         1.003310           16        2.436492\n",
      "3 ( 47.0 ; 54.5 ]   9   0.127290   12.856290     14.870973         1.156708           81        6.300418\n",
      "4 ( 54.5 ; 62.0 ]  19   0.188372   19.025572     0.000654         0.000034           361        18.974462\n",
      "5 ( 62.0 ; 69.5 ]  25   0.210734   21.284134     13.807660         0.648730           625        29.364596\n",
      "6 ( 69.5 ; 77.0 ]  17   0.178221   18.000321     1.000642         0.055590           289        16.055269\n",
      "7 ( 77.0 ; 84.5 ]  10   0.113939   11.507839     2.273578         0.197568           100        8.689729\n",
      "8 ( 84.5 ; inf  ]  10   0.082083    8.290383     2.922790        0.352552            100        12.062169\n",
      "sum:              101     1.0      101.0                         7.009697                       7.009697\n",
      "Гипотеза принята,  7.009697378697606\n"
     ]
    }
   ],
   "source": [
    "alpha = 0.05\n",
    "print(\"i (xi;xi-1]        ni       pi         ni'     (ni - ni')^2     ((ni-ni')^2/ni')      ni^2       ni^2/ni' \")\n",
    "k = np.ceil(1 + np.log2(n))\n",
    "h = (math[n-1]-math[0])/k\n",
    "quan = round(n/h, 0)+1\n",
    "x0 = math[0]\n",
    "xi = float(x0)\n",
    "i = 1\n",
    "ni = 0\n",
    "j = 0;\n",
    "ni_h_sum = 0\n",
    "ni_sum = 0;\n",
    "pi_sum = 0;\n",
    "sum_hi = 0;\n",
    "sum_check = 0;\n",
    "#первая строка\n",
    "ni = 7\n",
    "tmp = (xi+h-x_smean)/s\n",
    "pi = round(sp.stats.norm.cdf(tmp),6)\n",
    "ni_sum +=ni\n",
    "pi_sum += pi\n",
    "ni_h = n*pi\n",
    "ni_h_sum += ni_h\n",
    "sum_hi += ((ni-ni_h)**2/ni_h)\n",
    "sum_check += (ni**2/ni_h)\n",
    "print(i, \"(\", \"-inf\", \";\", xi+h, \"]\", '%3d' %ni, \" \", '%.6f' %pi, \" \", '%.6f' %ni_h, \"   \",'%.6f' %(ni-ni_h)**2, \"       \", '%.6f' %((ni-ni_h)**2/ni_h), \"         \", ni**2, \"      \", '%.6f' %(ni**2/ni_h))\n",
    "ni = 0\n",
    "xi = xi+h\n",
    "i+=1\n",
    "j = 7\n",
    "#основной кусок\n",
    "while (xi != 84.5):\n",
    "    while ((math[j] >= xi) and (math[j] <= xi+h)): \n",
    "        ni+=1\n",
    "        if (j == n-1): break\n",
    "        j+=1\n",
    "    ni_sum +=ni\n",
    "    tmp = (xi+h-x_smean)/s\n",
    "    tmp_h = (xi-x_smean)/s\n",
    "    pi = round((sp.stats.norm.cdf(tmp) - sp.stats.norm.cdf(tmp_h)),6)\n",
    "    pi_sum += pi\n",
    "    ni_h = n*pi\n",
    "    ni_h_sum += ni_h\n",
    "    sum_hi += ((ni-ni_h)**2/ni_h)\n",
    "    sum_check += (ni**2/ni_h)\n",
    "    print(i, \"(\", xi, \";\", xi+h, \"]\", '%3d' %ni, \" \", '%.6f' %pi, \" \", '%.6f' %ni_h, \"   \",'%.6f' %(ni-ni_h)**2, \"       \", '%.6f' %((ni-ni_h)**2/ni_h), \"         \", ni**2, \"      \", '%.6f' %(ni**2/ni_h))\n",
    "    ni = 0\n",
    "    xi = xi+h\n",
    "    i+=1\n",
    "#последняя строчка\n",
    "ni = 10\n",
    "tmp_h = (xi-x_smean)/s\n",
    "pi = round(1-sp.stats.norm.cdf(tmp_h),6)\n",
    "ni_sum +=ni\n",
    "pi_sum += pi\n",
    "ni_h = n*pi\n",
    "ni_h_sum += ni_h\n",
    "sum_hi += ((ni-ni_h)**2/ni_h)\n",
    "sum_check += (ni**2/ni_h)\n",
    "print(i, \"(\", xi, \";\", \"inf \", \"]\", '%3d' %ni, \" \", '%.6f' %pi, \"  \", '%.6f' %ni_h, \"   \",'%.6f' %(ni-ni_h)**2, \"      \", '%.6f' %((ni-ni_h)**2/ni_h), \"          \", ni**2, \"      \", '%.6f' %(ni**2/ni_h))\n",
    "\n",
    "print(\"sum:             \", ni_sum, \"   \", round(pi_sum, 6), \"    \", round(ni_h_sum, 6), \"                       \", '%.6f' %sum_hi, \"                     \", '%.6f' %(sum_check-n))\n",
    "\n",
    "X_check = 11.07\n",
    "if (sum_hi < X_check): print(\"Гипотеза принята, \", sum_hi)\n",
    "else: print(\"Гипотеза отклонена, \", sum_hi)"
   ]
  },
  {
   "cell_type": "markdown",
   "id": "ce13b877",
   "metadata": {},
   "source": [
    "##### Вывод:\n",
    "Гипотеза принята со значением Хи наблюдаемого:  7.009697378697606, так же проверка на Хи была пройдена (значания сумм совпадают)."
   ]
  },
  {
   "cell_type": "markdown",
   "id": "ccc4f69a",
   "metadata": {},
   "source": [
    "## Выводы: \n"
    "В процессе работы было проведено ознакомление с с основными правилами формирования выборки и подготовки выборочных данных к статистическому анализу - был выбран простой способ и сгенерирована выборка объемом 101. Так же были получены практические навыки нахождения точечных статистических оценок параметров распределения, а также вычислены интервальные статистические оценки параметров распределения выборочных данных (все значения к каждому заданию выводятся в колонках) и проверена «справедливость» статистической гипотезы - гипотеза о том, что выборка распределена нормально была подтверждена с наблюдаемым значением хи равным  7.009697378697606. Некоторые значения немного отличаются от того, что должно было получиться, но это результат округлений. Так же все проверки значений с помощью дополнительных формул были пройдены."
   ]
  },
  {
   "cell_type": "code",
   "execution_count": null,
   "id": "03ba53a2",
   "metadata": {},
   "outputs": [],
   "source": []
  }
 ],
 "metadata": {
  "kernelspec": {
   "display_name": "Python 3 (ipykernel)",
   "language": "python",
   "name": "python3"
  },
  "language_info": {
   "codemirror_mode": {
    "name": "ipython",
    "version": 3
   },
   "file_extension": ".py",
   "mimetype": "text/x-python",
   "name": "python",
   "nbconvert_exporter": "python",
   "pygments_lexer": "ipython3",
   "version": "3.9.12"
  }
 },
 "nbformat": 4,
 "nbformat_minor": 5
}
