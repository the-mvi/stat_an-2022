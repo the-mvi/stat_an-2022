{
 "cells": [
  {
   "cell_type": "markdown",
   "id": "0a317492",
   "metadata": {},
   "source": [
    "# Практическая работа №2: Корреляционный и регрессионный анализ\n",
    "\n",
    "Выполнила студентка гр. 0373 Серебрякова Софья. Вариант 19"
   ]
  },
  {
   "cell_type": "markdown",
   "id": "8ef36238",
   "metadata": {},
   "source": [
    "## Цель работы\n",
    "\n",
    "Освоение основных понятий, связанных с корреляционной зависимостью между случайными величинами, статистическими гипотезами и проверкой их «справедливости». Ознакомление с основными положениями метода наименьших квадратов (МНК), со статистическими свойствами МНК оценок, с понятием функции регрессии и роли МНК в регрессионном анализе, с корреляционным отношением, как мерой тесноты произвольной (в том числе и линейной) корреляционной связи."
   ]
  },
  {
   "cell_type": "markdown",
   "id": "3cff0554",
   "metadata": {},
   "source": [
    "## Основные теоретические положения\n",
    "__Интервальный ряд__ -  соответствие между интервалом изменения признака и числом объектов, попадающих в данный интервал<br>\n",
    "__Выборочное среднее__ - это приближение теоретического среднего распределения, основанное на выборке из него<br>\n",
    "$x_{в} = \\frac{1}{n}\\displaystyle\\sum_{i=1}^{k}n_{i}x_{i}$<br>\n",
    "__Дисперсия__ - мера разброса значений случайной величины относительно её математического ожидания<br>\n",
    "$D = \\frac{1}{n}\\displaystyle\\sum_{i=1}^{k}n_{i}(x_{i} - x_{в})^{2}$<br>\n",
    "__Исправленная дисперсия:__ $D\\frac{n}{n-1}$<br>\n",
    "__Исправленное СКО:__ $\\sqrt{D\\frac{n}{n-1}}$<br>\n",
    "__Условные эмпирический момент порядка r__ - начальный эмпирический момент порядка r, вычисленный с помощью условных вариант<br>\n",
    "$\\nu _{r} ^{*} = \\frac{1}{n}\\displaystyle\\sum_{i=1}^{k}ni({\\frac{xi - c}{h}})^{r} $<br>\n",
    "$\\mu _{1} ^{*} = 0$<br>\n",
    "$\\mu _{2} ^{*} = (\\nu _{2} ^{*} - (\\nu _{1} ^{*})^{2})h^{2}$<br>\n",
    "$\\mu _{3} ^{*} = (\\nu _{3} ^{*}- 3(\\nu _{2} ^{*} \\nu _{1} ^{*}) + 2(\\nu _{1} ^{*})^{3})h^{3}$<br>\n",
    "$\\mu _{4} ^{*} = (\\nu _{3} ^{*}- 4(\\nu _{3} ^{*} \\nu _{1} ^{*}) + 6(\\nu _{2} ^{*} (\\nu _{1} ^{*})^{2}) - 3(\\nu _{1} ^{*})^{4})h^{4}$<br>\n",
    "__Коэффициент асимметрии:__ <br>\n",
    "$a _{s}^{*} = \\frac{\\mu _{3} ^{*}}{\\sigma _{в}^{3}}$<br>\n",
    "__Коэффициент эксцесса:__<br>\n",
    "$e _{k}^{*} = \\frac{\\mu _{4} ^{*}}{\\sigma _{в}^{4}} - 3 $<br>\n",
    "__Мода__ -  значение во множестве наблюдений, которое встречается наиболее часто<br>\n",
    "$Mo^{*} = x _{Mo}^{(0)} + h _{Mo}\\frac{n _{Mo} - n _{Mo-1}}{(n _{Mo} - n _{Mo-1}) + (n _{Mo} - n _{Mo+1})} $<br>\n",
    "__Медиана__ -  число, которое находится в середине этого набора<br>\n",
    "$Me^{*} = x _{Me}^{(0)} + h _{Me}\\frac{\\frac{N+1}{2} - p^{\\Sigma}_{Me-1}}{p^{*}_{Me}}$<br>\n",
    "__Коэффициент вариации__ - это статистическая мера дисперсии (разброса) данных вокруг некоторого среднего значения<br>\n",
    "$V = \\frac{\\sigma _{в}}{|x_{в}|}100$%<br>\n",
    "\n",
    "__Функциональная зависимость__ - каждому значению одной переменной соответствует единственное значение другой пременной<br>\n",
    "__Статистическая зависимость__ - изменение одной из величин влечет изменение распределения другой<br>\n",
    "__Корреляционная зависимость__ - изменение одной величины приводит к изменению среднего значения другой<br>\n",
    "__Условное среднее__ - среднее арифметическое значение СВ X(Y), которое соответствует значению СВ Y = y(X = x):<br>\n",
    "$\\overline{x_{y}} = \\frac{\\Sigma x_{i}n_{x_{i}y}}{\\Sigma n_{x_{i}y}}$\n",
    "$\\overline{y_{x}} = \\frac{\\Sigma y_{i}n_{y_{i}x}}{\\Sigma n_{y_{i}x}}$<br>\n",
    "__Межгрупповое среднее__:<br>\n",
    "$\\overline{xy} = \\frac{1}{n}\\Sigma \\Sigma n_{xy}x_{i}y_{j}$<br>\n",
    "__Уравнения регресии__:<br>\n",
    "$E(Y|x) = f(x), E(X|y) = \\varphi(y)$<br>\n",
    "__Выборочные равнения регресии__:<br>\n",
    "$\\overline{y_{x}} = f^{*}(x), \\overline{x_{y}} = \\varphi^{*}(y)$<br>\n",
    "__Уравнения средней квадратичной регресии__:<br>\n",
    "$\\overline{y_{x}} - \\overline{y} = r_{yx}\\frac{\\sigma_{y}}{\\sigma_{x}}(x - \\overline{x})$<br>\n",
    "$\\overline{x_{y}} - \\overline{x} = r_{xy}\\frac{\\sigma_{x}}{\\sigma_{y}}(y - \\overline{y})$<br>\n",
    "__Статистическая оценка коэффициента корреляции__:\n",
    "$r_{в} = \\frac{\\mu_{xy}}{s_{x}s_{y}} $<br>\n",
    "__Статистическая оценка корреляционного момента__:\n",
    "$\\mu_{xy} = \\overline{xy} - \\overline{x} \\cdot \\overline{y}$<br>\n",
    "__Свойства коэффициента корреляции__:<br>\n",
    "1. $|r_{xy}| <= 1$<br>\n",
    "2. $r_{xy} > 0$ при увеличении первой варианты увеличится и вторая<br>\n",
    "   $r_{xy} < 0$ при увеличении первой варианты вторая уменьшится<br>\n",
    "3. $[r_{xy}] = 1$<br>\n",
    "4. $r_{xy} = r_{yx}$<br>\n",
    "5. Корреляция означает причины и следствия<br>\n",
    "6. Если  $[r_{xy}] = 0$, значит нет линейной зависимости<br>\n",
    "\n",
    "__Условные варианты__ - варианты, определяемые формулой:<br>\n",
    "$u_{i} = \\frac{x_{i} - c_{x}}{h_{x}}$, где c - ложный нуль(варианта с наибольшей частотой), h - шаг<br>\n",
    "$v_{i} = \\frac{y_{i} - c_{y}}{h_{y}}$<br>\n",
    "__Статистическая оценка коэффициента корреляции по условным вариантам__:<br>\n",
    "$r_{в} = \\frac{\\frac{1}{n} \\Sigma \\Sigma n_{uv}u_{i}v_{i} - \\overline{u} \\cdot \\overline{v}}{\\sigma_{u} \\sigma_{v}} $<br>\n",
    "$\\Sigma \\Sigma n_{uv}u_{i}v_{i} = \\Sigma v_{j}U_{j} = \\Sigma u_{i}V_{i}$<br>\n",
    "$U_{j} = \\Sigma n_{uv}u_{i}$<br>\n",
    "$V_{i} = \\Sigma n_{uv}v_{j}$<br>\n",
    "__Доверительный интервал для коэффициента корреляции__:<br>\n",
    "$z = arth(r_{в})$ - преобразование Фишера<br>\n",
    "$(z - \\frac{t}{\\sqrt{n-3}} ; z + \\frac{t}{\\sqrt{n-3}})$<br>\n",
    "$(th(z_{-}) ; th(z_{+})$ - искомый доверительный интервал<br>\n",
    "__Проверка гипотезы:__<br>\n",
    "$H_{0}: r_{в} = 0$<br>\n",
    "$H_{1}: r_{в} != 0$<br>\n",
    "$T_{набл} = r_{в}\\frac{\\sqrt{n-2}}{\\sqrt{1-r_{в}^{2}}}, T_{крит} = t(\\alpha, df), df = n-2$<br>\n",
    "Область принятия гипотезы: $|T_{набл}| < T_{крит}$<br>\n",
    "\n",
    "__Выборочное коррреляционное отношение__:<br>\n",
    "$\\eta_{y_{x}} = \\frac{\\sigma_{межгр}}{\\sigma_{общ}} = \\frac{\\sigma_{\\overline{y_{x}}}}{\\sigma_{y}}$<br>\n",
    "$\\sigma_{\\overline{y_{x}}} = \\sqrt{\\sigma_{межгр}^{2}} = \\sqrt{\\frac{\\Sigma n_{x}(\\overline{y_{x}} - \\overline{y})^{2}}{n}}$<br>\n",
    "__Свойства коэффициента выборочного корреляционного отношения__:<br>\n",
    "1. $0 <= \\eta <= 1$<br>\n",
    "2. Если $\\eta = 0$, признак Y с признаком X не связаны корреляционной зависимостью<br>\n",
    "3. Если $\\eta = 1$, признак Y с признаком X связаны функциональной зависимостью<br>\n",
    "4.  $\\eta >= |r_{в}|$<br>\n",
    "5. Если $\\eta = r_{в}$, то это точная линейная корреляционная зависимость<br>\n",
    "\n",
    "__МНК__:<br>\n",
    "Заключается в минимизации СКО некоторой функции, зависящей от исходных переменных<br>\n",
    "$F(a_{1} ... a_{n}) = \\Sigma (y_{x_{i}} - y_{i})^{2} = \\Sigma (kx_{i} + b - y_{i})^{2} -> min$<br>\n",
    "Необходимое условие - равенство нулю всех частных производных функции F.<br>\n",
    "$\\underline{Использование \\ МНК \\ для \\ поиска \\ коэффициентов \\ функции \\ параболического \\ вида:}$<br>\n",
    "Функция: $F(a, b, c) = \\Sigma ((y_{x_{i}} - y_{i})^{2}) = \\Sigma (ax_{i}^{2} + bx_{i} + c - y_{i})^{2} -> min$<br>\n",
    "Находим частные производные:<br>\n",
    "$\\frac{\\delta F}{\\delta a} = -2 \\cdot \\Sigma(y_{i} - c - bx_{i} - ax_{i}^{2}) \\cdot x^{2} = 0$<br>\n",
    "$\\frac{\\delta F}{\\delta b} = -2 \\cdot \\Sigma(y_{i} - c - bx_{i} - ax_{i}^{2}) \\cdot x = 0$<br>\n",
    "$\\frac{\\delta F}{\\delta c} = -2 \\cdot \\Sigma(y_{i} - c - bx_{i} - ax_{i}^{2}) \\cdot 1 = 0$<br>\n",
    "Составляем систему уравнений:<br>\n",
    "$\\begin{cases}\n",
    "cn + b\\Sigma x_{i} + a\\Sigma x_{i}^{2} = \\Sigma y_{i}\\\\\n",
    "c\\Sigma x_{i} + b\\Sigma x_{i}^{2} + c\\Sigma x_{i}^{3} = \\Sigma (x_{i} \\cdot y_{i})\\\\\n",
    "c\\Sigma x_{i}^{2} + b\\Sigma x_{i}^{3} + c\\Sigma x_{i}^{4} = \\Sigma (x_{i}^{2} \\cdot y_{i})\\\\\n",
    "\\end{cases}$<br>\n",
    "Решив систему, однозначно находятся коэффициенты a, b и c. Их нужно подставить в уравнение функции параболического вида.<br>\n",
    "$\\underline{Использование \\ МНК \\ для \\ поиска \\ коэффициентов \\ функции \\ степенного \\ вида:}$<br>\n",
    "Функция имеет вид: $y = ax^{b}$<br>\n",
    "Логарифмируя уравнение, получим: $lny = lna + blnx$<br>\n",
    "Проведем замену: $Y = lny, A = lna, B = b, X = lnx$, получим линейный полином первой степени: $Y = A + BX$<br>\n",
    "Найдем коэффициенты:<br>\n",
    "$B = \\frac{n \\Sigma(X_{i}Y_{i} - \\Sigma X_{i} \\cdot  \\Sigma Y_{i})}{n \\Sigma X_{i}^{2} - (\\Sigma(X_{i})^{2}}$<br>\n",
    "$A = \\frac{\\Sigma Y_{i} - B\\Sigma X_{i}}{n}$<br>\n",
    "Проведем обратную замену $a = e^{A}, b = B$ и получим итоговые коэффициенты, которые нужно подставить в исходное уравнение.<br>\n",
    "\n",
    "__Теоретический коэффициент детерминации__ - основной показатель, отражающий меру качества регрессионной модели, описывающей связь между зависимой и независимыми переменными модели<br>\n",
    "$R_{y}^{2} = \\frac{(\\delta_{y}^{*})^{2}}{\\sigma_{y}}, \\delta_{y}^{*} = \\frac{1}{n}\\Sigma (y_{x_{i}} - \\overline{y})^{2}$<br>\n",
    "$R_{y}^{2} = 1 - \\frac{\\Sigma(y_{i} - y_{x_{i}})^{2}}{\\sigma_{y}}$<br>\n",
    "__Средняя квадратичная ошибка__ - среднее квадратичное значение из суммы квадратов ошибок отдельных измерений. Использование модели регрессии является целесообразным, если средняя квадратичная ошибка меньше, чем СКО<br>\n",
    "$S_{ey} = \\sqrt{\\frac{1}{n-l} \\Sigma \\epsilon_{y}^{2}}, \\epsilon_{y}^{2} = (y_{i} - y_{x_{i}})^{2}$<br>\n",
    "__Средняя ошибка аппроксимации__ показывает отклонение рассчетных значений от фактических, если она меньше 7%, модель считается моделью хорошего качества<br>\n",
    "$A_{y} = \\frac{1}{n} \\Sigma |\\frac{\\epsilon_{y_{i}}}{y_{i}}| \\cdot 100$%"
   ]
  },
  {
   "cell_type": "markdown",
   "id": "6b68bb24",
   "metadata": {},
   "source": [
    "## Постановка задачи\n",
    "\n",
    "Из заданной генеральной совокупности сформировать выборку по второму признаку. Для системы двух случайных величин 𝑋 (первый признак) и 𝑌 (второй признак) сформировать двумерную выборку и найти статистическую оценку коэффициента корреляции, построить доверительный интервал для коэффициента корреляции и осуществить проверку статистической гипотезы о равенстве коэффициента корреляции нулю. Построить уравнения выборочных прямых среднеквадратической регрессии. Полученные линейные функции регрессии отобразить графически. Найти выборочное корреляционное отношение. Оценить адекватность моделей. Полученные результаты содержательно проинтерпретировать."
   ]
  },
  {
   "cell_type": "markdown",
   "id": "7302ab02",
   "metadata": {},
   "source": [
    "## Выполнение работы\n",
    "\n",
    "Каждый пункт выполняется с помощью кода на языке Python."
   ]
  },
  {
   "cell_type": "code",
   "execution_count": 1,
   "id": "d9c10c87",
   "metadata": {},
   "outputs": [],
   "source": [
    "import pandas as pd\n",
    "import numpy as np\n",
    "import matplotlib.pyplot as plt\n",
    "import math as mth"
   ]
  },
  {
   "cell_type": "markdown",
   "id": "4b13d16d",
   "metadata": {},
   "source": [
    "### Задание 1\n",
    "Провести статистическую обработку второй выборки в объеме практической работы №1 с целью определения точечных статистических\n",
    "оценок параметров распределения исследуемого признака (математического ожидания, дисперсии, среднеквадратичного отклонения,\n",
    "асимметрии, эксцесса, моды, медианы и коэффициента вариации).\n",
    "Оформить результаты в виде таблиц, сделать выводы:"
   ]
  },
  {
   "cell_type": "code",
   "execution_count": 2,
   "id": "2855635e",
   "metadata": {
    "scrolled": true
   },
   "outputs": [
    {
     "name": "stdout",
     "output_type": "stream",
     "text": [
      "Таблица 1\n",
      "i (yi;yi-1]           av(yi)   ni      pi    ni_sum   pi_sum\n",
      "1 ( 38.000 ; 45.625 ] 41.8125   7   0.069307   007   0.069307\n",
      "2 ( 45.625 ; 53.250 ] 49.4375   7   0.069307   014   0.138614\n",
      "3 ( 53.250 ; 60.875 ] 57.0625  14   0.138614   028   0.277228\n",
      "4 ( 60.875 ; 68.500 ] 64.6875  21   0.207921   049   0.485149\n",
      "5 ( 68.500 ; 76.125 ] 72.3125  22   0.217822   071   0.702971\n",
      "6 ( 76.125 ; 83.750 ] 79.9375  17   0.168317   088   0.871288\n",
      "7 ( 83.750 ; 91.375 ] 87.5625   2   0.019802   090   0.891090\n",
      "8 ( 91.375 ; 99.000 ] 95.1875  11   0.108911   101   1.000001\n",
      "sum:                          101   1.000001\n",
      "Таблица 2\n",
      "характеристика     yв         D        СКО      испр D    испр СКО    as        ek        Mo        Me        V\n",
      "значение         65.178    219.945    14.831    222.145    14.905    0.047    -0.790    67.229    67.980    22.754\n"
     ]
    }
   ],
   "source": [
    "write = [44, 93, 72, 58, 60, 64, 81, 61, 74, 76, 67, 70, 80, 92, 80, 54, 79, 95, 66, 77, 74, 61, 69, 93, 64, 92, 52, 52, 51, 46, 65, 74, 64, 80, 59, 77, 99, 54, 70, 78, 47, 81, 82, 96, 79, 55, 67, 76, 73, 92, 77, 43, 70, 68, 65, 67, 69, 54, 54, 54, 76, 71, 80, 81, 68, 78, 75, 50, 40, 76, 94, 77, 72, 73, 66, 67, 66, 42, 38, 95, 55, 72, 60, 61, 70, 94, 85, 68, 58, 44, 64, 71, 73, 58, 84, 52, 59, 67, 61, 80, 39]\n",
    "n = len(write)\n",
    "write = np.sort(write)\n",
    "y_smean = 0;\n",
    "D_y = 0;\n",
    "D_x = 194.37432604646605\n",
    "x_smean = 65.00742574257426\n",
    "#таблица 1\n",
    "print(\"Таблица 1\")\n",
    "print(\"i (yi;yi-1]           av(yi)   ni      pi    ni_sum   pi_sum\")\n",
    "k = np.ceil(1 + np.log2(n))\n",
    "h_y = (write[n-1]-write[0])/k\n",
    "quan = round(n/h_y, 0)+1\n",
    "y0 = write[0]\n",
    "yi = float(y0)\n",
    "i = 1\n",
    "nyi = 0\n",
    "j = 0;\n",
    "nyi_sum = 0;\n",
    "pyi_sum = 0;\n",
    "while (yi != write[n-1]):\n",
    "    while ((write[j] >= yi) and (write[j] <= yi+h_y)): \n",
    "        nyi+=1\n",
    "        if (j == n-1): break\n",
    "        j+=1\n",
    "    nyi_sum +=nyi\n",
    "    pyi = round(nyi/n, 6)\n",
    "    pyi_sum =round(pyi_sum+ pyi, 6)\n",
    "    y_smean += yi*nyi\n",
    "    print(i, \"(\", '%.3f' %yi, \";\",  '%.3f' %(yi+h_y), \"]\",  '%.4f' %(yi+h_y/2), '%3d' %nyi, \" \", '%.6f' %pyi, \" \", '%.3d' %nyi_sum, \" \", '%.6f' %pyi_sum)\n",
    "    nyi = 0\n",
    "    yi = yi+h_y\n",
    "    i+=1\n",
    "print(\"sum:                         \", nyi_sum, \" \", pyi_sum)\n",
    "#таблица 2\n",
    "yi = [41.8125, 49.4375, 57.0625, 64.6875, 72.3125, 79.9375, 87.5625, 95.1875]\n",
    "nyi = [7, 7, 14, 21, 22, 17, 2, 11]\n",
    "y_smean /= n\n",
    "for i in range(len(yi)):\n",
    "    D_y += nyi[i]*(yi[i]-y_smean)**2\n",
    "D_y = D_y/n\n",
    "sko_y = D_y**0.5\n",
    "D_y_cor = D_y*(n/(n-1))\n",
    "s_y = (D_y*(n/(n-1)))**0.5\n",
    "nu1 = 0\n",
    "nu2 = 0\n",
    "nu3 = 0\n",
    "nu4 = 0\n",
    "c_y = 72.3125\n",
    "for i in range(len(yi)):\n",
    "    nu1 += nyi[i]*(((yi[i] - c_y)/h_y)**1)\n",
    "nu1 = nu1/n\n",
    "for i in range(len(yi)):\n",
    "    nu2 += nyi[i]*(((yi[i] - c_y)/h_y)**2)\n",
    "nu2 = nu2/n\n",
    "for i in range(len(yi)):\n",
    "    nu3 += nyi[i]*(((yi[i] - c_y)/h_y)**3)\n",
    "nu3 = nu3/n\n",
    "for i in range(len(yi)):\n",
    "    nu4 += nyi[i]*(((yi[i] - c_y)/h_y)**4)\n",
    "nu4 = nu4/n\n",
    "mu1 = 0;\n",
    "mu2 = (nu2-(nu1**2))*(h_y**2);\n",
    "mu3 = (nu3-3*nu2*nu1+2*(nu1**3))*(h_y**3);\n",
    "mu4 = (nu4-4*nu3*nu1+6*nu2*(nu1**2)-3*(nu1**4))*(h_y**4);\n",
    "a_s = mu3/(sko_y**3)\n",
    "e_k = mu4/(D_y**2)-3\n",
    "Mo = 68.5 - h_y*((22-21)/((22-21)+(22-17)))\n",
    "Me = 68.5 - h_y*((0.5 - 0.485149)/0.217822)\n",
    "V = (sko_y/y_smean)*100\n",
    "print(\"Таблица 2\")\n",
    "print(\"характеристика     yв         D        СКО      испр D    испр СКО    as        ek        Mo        Me        V\")\n",
    "print(\"значение        \", '%.3f' %y_smean, \"  \", '%.3f' %D_y,\"  \", '%.3f' %sko_y,\"  \", '%.3f' %D_y_cor,\"  \", '%.3f' %s_y, \"  \",'%.3f' %a_s,\"  \", '%.3f' %e_k,\"  \", '%.3f' %Mo,\"  \", '%.3f' %Me,\"  \", '%.3f' %V)"
   ]
  },
  {
   "cell_type": "markdown",
   "id": "cb921923",
   "metadata": {},
   "source": [
    "##### Вывод: \n",
    "Исправленные дисперсия и СКО незначительно отличаюся от смещенных в большую сторону.<br>\n",
    "Коэффициент ассиметрии больше нуля, что показывает правоассиметричный сдвиг относительно графика нормального распределения.<br>\n",
    "Коэффициент эксцесса меньше нуля, что означает, что график сжат вниз относительно графика нормального распределения.<br>\n",
    "Коэффициент вариации меньше 33%, значит колеблемость умеренная.<br>"
   ]
  },
  {
   "cell_type": "markdown",
   "id": "30c5a1a1",
   "metadata": {},
   "source": [
    "### Задание 2\n",
    "Построить двумерный интервальный вариационный ряд, оформить в виде таблицы:"
   ]
  },
  {
   "cell_type": "code",
   "execution_count": 3,
   "id": "fb258eb7",
   "metadata": {},
   "outputs": [
    {
     "name": "stdout",
     "output_type": "stream",
     "text": [
      "         Y/X        [32;39.5] (39.5;47] (47;54.5] (54.5;62] (62;69.5] (69.5;77] (77;84.5] (84.5;92]   ny\n",
      "( 38.000 ; 45.625 ]     3         2         2         0         0         0         0         0        7\n",
      "( 45.625 ; 53.250 ]     1         1         2         1         1         1         0         0        7\n",
      "( 53.250 ; 60.875 ]     3         1         2         6         1         1         0         0       14\n",
      "( 60.875 ; 68.500 ]     0         0         2         5         6         7         1         0       21\n",
      "( 68.500 ; 76.125 ]     0         0         1         6         8         6         0         1       22\n",
      "( 76.125 ; 83.750 ]     0         0         0         1         9         2         3         2       17\n",
      "( 83.750 ; 91.375 ]     0         0         0         0         0         0         1         1        2\n",
      "( 91.375 ; 99.000 ]     0         0         0         0         0         0         5         6       11\n",
      "          nx            7         4         9        19        25        17        10        10      101\n"
     ]
    }
   ],
   "source": [
    "math = [44, 78, 52, 44, 35, 56, 67, 54, 60, 73, 71, 61, 74, 79, 84, 58, 67, 85, 68, 65, 68, 59, 90, 82, 59, 85, 66, 48, 70, 35, 54, 71, 77, 63, 58, 82, 92, 55, 70, 69, 57, 67, 89, 81, 57, 56, 71, 68, 61, 88, 65, 38, 67, 71, 72, 74, 68, 57, 48, 35, 65, 69, 63, 67, 66, 74, 64, 40, 53, 57, 82, 88, 59, 76, 80, 68, 61, 47, 32, 87, 69, 72, 35, 68, 55, 88, 91, 73, 70, 51, 68, 69, 74, 58, 83, 54, 50, 63, 59, 79, 34]\n",
    "write = [44, 93, 72, 58, 60, 64, 81, 61, 74, 76, 67, 70, 80, 92, 80, 54, 79, 95, 66, 77, 74, 61, 69, 93, 64, 92, 52, 52, 51, 46, 65, 74, 64, 80, 59, 77, 99, 54, 70, 78, 47, 81, 82, 96, 79, 55, 67, 76, 73, 92, 77, 43, 70, 68, 65, 67, 69, 54, 54, 54, 76, 71, 80, 81, 68, 78, 75, 50, 40, 76, 94, 77, 72, 73, 66, 67, 66, 42, 38, 95, 55, 72, 60, 61, 70, 94, 85, 68, 58, 44, 64, 71, 73, 58, 84, 52, 59, 67, 61, 80, 39]\n",
    "\n",
    "h_x = 7.5\n",
    "nix = [7, 4, 9, 19, 25, 17, 10, 10]\n",
    "niy = [7, 7, 14, 21, 22, 17, 2, 11]\n",
    "inys = [38, 45.625, 53.25, 60.875, 68.5, 76.125, 83.75, 91.375]\n",
    "inxs = [32, 39.5, 47, 54.5, 62, 69.5, 77, 84.5]\n",
    "inyf = [45.625, 53.25, 60.875, 68.5, 76.125, 83.75, 91.375, 99]\n",
    "inxf = [39.5, 47, 54.5, 62, 69.5, 77, 84.5, 92]\n",
    "y_av = [41.8125, 49.4375, 57.0625, 64.6875, 72.3125, 79.9375, 87.5625, 95.1875]\n",
    "x_av = [35.75, 43.25, 50.75, 58.25, 65.75, 73.25, 80.75, 88.25]\n",
    "tab = np.zeros((len(inxs), len(inxs)))\n",
    "tab[0][0] = 1\n",
    "for i in range(len(inxs)):\n",
    "    for j in range(len(inys)):\n",
    "        for k in range(len(math)):\n",
    "            if ((inys[i] < write[k] <= inyf[i]) and (inxs[j] < math[k] <= inxf[j])):\n",
    "                tab[i][j]+=1\n",
    "\n",
    "print(\"        \", \"Y/X\",\"      \", \"[32;39.5]\", \"(39.5;47]\", \"(47;54.5]\", \"(54.5;62]\", \"(62;69.5]\", \"(69.5;77]\", \"(77;84.5]\", \"(84.5;92]\",  \" \", \"ny\")\n",
    "for i in range(8):   \n",
    "    print(\"(\", '%.3f' %inys[i], \";\", '%.3f' %inyf[i], \"]\", \"  \", '%2d' %tab[i][0], \"      \", '%2d' %tab[i][1],  \"      \", '%2d' %tab[i][2],  \"      \", '%2d' %tab[i][3], \"      \", '%2d' %tab[i][4], \"      \", '%2d' %tab[i][5], \"      \", '%2d' %tab[i][6], \"      \", '%2d' %tab[i][7], \"     \", '%2d' %niy[i])\n",
    "print(\"         \", \"nx\",\"          \", nix[0], \"       \", nix[1], \"       \", nix[2], \"      \", nix[3], \"      \", nix[4], \"      \", nix[5], \"      \",nix[6], \"      \", nix[7], \"    \", len(math))"
   ]
  },
  {
   "cell_type": "markdown",
   "id": "41edafc9",
   "metadata": {},
   "source": [
    "### Задание 3\n",
    "По полученному двумерному интервальному вариационному ряду\n",
    "сформировать условные варианты и по полученным условным вариантам построить корреляционную таблицу, сделать выводы:"
   ]
  },
  {
   "cell_type": "code",
   "execution_count": 36,
   "id": "15b08c78",
   "metadata": {},
   "outputs": [
    {
     "name": "stdout",
     "output_type": "stream",
     "text": [
      "  vj/ui -4    -3    -2    -1     0     1     2     3    ny     Ui     vU\n",
      "  -4     3     2     2     0     0     0     0     0     7    -22     88\n",
      "  -3     1     1     2     1     1     1     0     0     7    -11     33\n",
      "  -2     3     1     2     6     1     1     0     0    14    -24     48\n",
      "  -1     0     0     2     5     6     7     1     0    21      0      0\n",
      "   0     0     0     1     6     8     6     0     1    22      1      0\n",
      "   1     0     0     0     1     9     2     3     2    17     13     13\n",
      "   2     0     0     0     0     0     0     1     1     2      5     10\n",
      "   3     0     0     0     0     0     0     5     6    11     28     84\n",
      "  nx     7     4     9    19    25    17    10    10   101\n",
      "  Vj   -21   -13   -20   -19    -2   -10    19    22\n",
      "  uV    84    39    40    19     0   -10    38    66          Сумма: 276\n",
      "\n",
      "\n",
      "Проверка прошла успешно, суммы равны\n"
     ]
    }
   ],
   "source": [
    "ui = np.zeros(8)\n",
    "vi = np.zeros(8)\n",
    "cy = 72.3125\n",
    "cx = 65.75\n",
    "xi = [35.75, 43.25, 50.75, 58.25, 65.75, 73.25, 80.75, 88.25]\n",
    "Vi = np.zeros(8)\n",
    "Ui = np.zeros(8)\n",
    "uV = np.zeros(8)\n",
    "vU = np.zeros(8)\n",
    "uV_sum = 0\n",
    "vU_sum = 0\n",
    "\n",
    "for i in range(8):\n",
    "    ui[i] = ((xi[i]-cx)/h_x)\n",
    "for i in range(8):\n",
    "    vi[i] = ((yi[i]-cy)/h_y)\n",
    "\n",
    "for i in range(8):\n",
    "    for j in range(8):\n",
    "        Ui[i] += ui[j]*(tab[i][j])        \n",
    "for i in range(8):\n",
    "    for j in range(8):\n",
    "        Vi[i] += vi[j]*(tab[j][i])\n",
    "\n",
    "for i in range(8):\n",
    "    uV[i] = ui[i]*Vi[i]\n",
    "    vU[i] = vi[i]*Ui[i]\n",
    "    \n",
    "for i in range(8):\n",
    "    uV_sum += uV[i]\n",
    "    vU_sum += vU[i]\n",
    "    \n",
    "print(\" \", \"vj/ui\", '%2d' %ui[0], \"  \", '%2d' %ui[1], \"  \", '%2d' %ui[2], \"  \", '%2d' %ui[3], \"  \", '%2d' %ui[4], \"  \", '%2d' %ui[5], \"  \", '%2d' %ui[6], \"  \", '%2d' %ui[7],  \"  \", \"ny\", \"   \", \"Ui\", \"   \", \"vU\")\n",
    "for i in range(8):   \n",
    "    print(\" \",'%2d' %vi[i], \"  \", '%2d' %tab[i][0], \"  \", '%2d' %tab[i][1],  \"  \", '%2d' %tab[i][2],  \"  \", '%2d' %tab[i][3], \"  \", '%2d' %tab[i][4], \"  \", '%2d' %tab[i][5], \"  \", '%2d' %tab[i][6], \"  \", '%2d' %tab[i][7], \"  \", '%2d' %niy[i],  \"  \", '%3d' %Ui[i], \"  \", '%3d' %vU[i])\n",
    "print(\" \", \"nx\",\"   \", nix[0], \"   \", nix[1], \"   \", nix[2], \"  \", nix[3], \"  \", nix[4], \"  \", nix[5], \"  \",nix[6], \"  \", nix[7], \" \", len(math))\n",
    "print(\" \", \"Vj\",\" \", '%2d' %Vi[0], \" \", '%2d' %Vi[1], \" \", '%2d' %Vi[2], \" \", '%2d' %Vi[3], \"  \", '%2d' %Vi[4], \" \", '%2d' %Vi[5], \"  \",'%2d' %Vi[6], \"  \", '%2d' %Vi[7])\n",
    "print(\" \", \"uV\",\" \", '%3d' %uV[0], \" \", '%3d' %uV[1], \" \", '%3d' %uV[2], \" \", '%3d' %uV[3], \" \", '%3d' %uV[4], \" \", '%3d' %uV[5], \" \",'%3d' %uV[6], \" \", '%3d' %uV[7], \"         Сумма:\", '%3d' %uV_sum)\n",
    "print(\"\\n\")\n",
    "if (vU_sum == uV_sum): print(\"Проверка прошла успешно, суммы равны\")"
   ]
  },
  {
   "cell_type": "markdown",
   "id": "d88e442e",
   "metadata": {},
   "source": [
    "##### Вывод: \n",
    "После построения корреляционной таблицы была проведена проверка на суммы ujVj и viUi, обе суммы равны 276, значит, проверка прошла."
   ]
  },
  {
   "cell_type": "markdown",
   "id": "dde6a41a",
   "metadata": {},
   "source": [
    "### Задание 4\n",
    "Исходя из результатов корреляционной таблицы вычислить коэффициент корреляции, сделать выводы."
   ]
  },
  {
   "cell_type": "code",
   "execution_count": 5,
   "id": "174d5359",
   "metadata": {},
   "outputs": [
    {
     "name": "stdout",
     "output_type": "stream",
     "text": [
      "0.7697484842216425\n"
     ]
    }
   ],
   "source": [
    "u_mean = 0\n",
    "v_mean = 0\n",
    "u_mean_s = 0\n",
    "v_mean_s = 0\n",
    "for i in range(8):\n",
    "    u_mean += ui[i]*niy[i]\n",
    "    v_mean += vi[i]*nix[i]\n",
    "    u_mean_s += (ui[i]**2)*niy[i]\n",
    "    v_mean_s += (vi[i]**2)*nix[i]\n",
    "u_mean = u_mean/n\n",
    "v_mean = v_mean/n\n",
    "u_mean_s = u_mean_s/n\n",
    "v_mean_s = v_mean_s/n\n",
    "u_sko = (u_mean_s - u_mean**2)**0.5\n",
    "v_sko = (v_mean_s - v_mean**2)**0.5\n",
    "r = ((1/n)*uV_sum - u_mean * v_mean)/(u_sko * v_sko)\n",
    "print(r)"
   ]
  },
  {
   "cell_type": "markdown",
   "id": "f7e6185a",
   "metadata": {},
   "source": [
    "##### Вывод: \n",
    "Коэффициент корреляции по модулю меньше единицы, значит, подсчеты верны. Коэффициент близок к единице, что означает наличие высокой сильной связи."
   ]
  },
  {
   "cell_type": "markdown",
   "id": "9493bc17",
   "metadata": {},
   "source": [
    "### Задание 5\n",
    "Построить доверительный интервал для коэффициента корреляции при уровне значимости 𝛾 ∈ {0.95, 0.99}, сделать выводы."
   ]
  },
  {
   "cell_type": "code",
   "execution_count": 6,
   "id": "0f8dd656",
   "metadata": {},
   "outputs": [
    {
     "name": "stdout",
     "output_type": "stream",
     "text": [
      "( 0.6746864995622908 ; 0.8396908950959169 ) при уровне значимости 0.95\n",
      "( 0.6377987937413601 ; 0.8578024591747435 ) при уровне значимости 0.99\n"
     ]
    }
   ],
   "source": [
    "t_95 = 1.9840\n",
    "t_99 = 2.6259\n",
    "z = mth.atanh(r)\n",
    "lin_95 = z - t_95/(n-3)**0.5\n",
    "lin_99 = z - t_99/(n-3)**0.5\n",
    "rin_95 = z + t_95/(n-3)**0.5\n",
    "rin_99 = z + t_99/(n-3)**0.5\n",
    "print(\"(\", mth.tanh(lin_95), \";\", mth.tanh(rin_95), \")\", \"при уровне значимости 0.95\")\n",
    "print(\"(\", mth.tanh(lin_99), \";\", mth.tanh(rin_99), \")\", \"при уровне значимости 0.99\")"
   ]
  },
  {
   "cell_type": "markdown",
   "id": "cc45d512",
   "metadata": {},
   "source": [
    "##### Вывод: \n",
    "Оба получившихся доверительных интервала покрывают коэффициент корреляции."
   ]
  },
  {
   "cell_type": "markdown",
   "id": "2fd263b2",
   "metadata": {},
   "source": [
    "### Задание 6\n",
    "Осуществить проверку статистической гипотезы о равенстве коэффициента корреляции нулю при заданном уровне значимости\n",
    "𝛼 = 0.05, сделать выводы."
   ]
  },
  {
   "cell_type": "code",
   "execution_count": 37,
   "id": "1622f4db",
   "metadata": {},
   "outputs": [
    {
     "name": "stdout",
     "output_type": "stream",
     "text": [
      "| 11.998015432155446 | <  1.984217 не выполняется\n"
     ]
    }
   ],
   "source": [
    "Tsup = r*((n-2)**0.5)/((1-r**2)**0.5)\n",
    "Tcr = 1.9842170\n",
    "\n",
    "if (Tsup > Tcr):\n",
    "    print(\"|\",Tsup,\"| < \", Tcr, \"не выполняется\")\n",
    "else: print(\"|\",Tsup,\"| < \", Tcr, \"выполняется\")"
   ]
  },
  {
   "cell_type": "markdown",
   "id": "49c1517a",
   "metadata": {},
   "source": [
    "##### Вывод: \n",
    "Тнабл не попадает в область принятия гипотезы H0, значит принимаем гипотезу H1 о том, что r != 0."
   ]
  },
  {
   "cell_type": "markdown",
   "id": "4e1c25c2",
   "metadata": {},
   "source": [
    "### Задание 7\n",
    "Для заданной выборки построить уравнения средней квадратичной регрессии 𝑥 на 𝑦 и 𝑦 на 𝑥 соответственно. Отобразить полученные\n",
    "прямые на множестве выборки. Объяснить результаты."
   ]
  },
  {
   "cell_type": "code",
   "execution_count": 32,
   "id": "bdbfaebc",
   "metadata": {},
   "outputs": [
    {
     "data": {
      "text/plain": [
       "[<matplotlib.lines.Line2D at 0x19f86d45e50>]"
      ]
     },
     "execution_count": 32,
     "metadata": {},
     "output_type": "execute_result"
    },
    {
     "data": {
      "image/png": "[encoded data removed]",
      "text/plain": [
       "<Figure size 432x288 with 1 Axes>"
      ]
     },
     "metadata": {
      "needs_background": "light"
     },
     "output_type": "display_data"
    }
   ],
   "source": [
    "yx = np.zeros(101)\n",
    "xy = np.zeros(101)\n",
    "plt.grid(True)\n",
    "plt.title(\"Графики уравнений квадратичной регрессии\")\n",
    "plt.plot(math, write, \"g.\")\n",
    "plt.xlabel(\"x\")\n",
    "plt.ylabel(\"y\")\n",
    "for i in range(101):\n",
    "    yx[i] = r*(D_y**0.5/D_x**0.5)*(math[i] - x_smean) + y_smean\n",
    "    xy[i] = r*(D_x**0.5/D_y**0.5)*(write[i] - y_smean) + x_smean\n",
    "    \n",
    "plt.plot(math, yx, 'b')\n",
    "plt.plot(xy, write, 'r')"
   ]
  },
  {
   "cell_type": "markdown",
   "id": "ad6dca8a",
   "metadata": {},
   "source": [
    "Синяя прямая является графиком уравнения средней квадратичной регрессии y на x. <br>\n",
    "Красная прямая является графиком уравнения средней квадратичной регрессии x на y. <br>\n",
    "Оба уравнения регресси характеризуются прямыми. Из графика видно, что они не описывают положение каждой точки, но дают общую характеристику положениям значиний выборки в пространстве."
   ]
  },
  {
   "cell_type": "markdown",
   "id": "a07ebf28",
   "metadata": {},
   "source": [
    "### Задание 8\n",
    "Вычислить корреляционные отношения 𝜂𝑦𝑥 и 𝜂𝑥𝑦. Убедиться, что неравенства 𝜂𝑦𝑥 > |𝑟𝑥𝑦| и 𝜂𝑥𝑦 > |𝑟𝑥𝑦| выполняются. Сделать выводы."
   ]
  },
  {
   "cell_type": "code",
   "execution_count": 9,
   "id": "5b3e7959",
   "metadata": {},
   "outputs": [
    {
     "name": "stdout",
     "output_type": "stream",
     "text": [
      "0.7926645990182892 - для корреляционного отношения y на x\n",
      "0.7945632543656211 - для корреляционного отношения x на y\n",
      "Неравенства выполняются\n"
     ]
    }
   ],
   "source": [
    "yi_smean = np.zeros(8)\n",
    "xi_smean = np.zeros(8)\n",
    "yy_smean = 0\n",
    "xx_smean = 0\n",
    "yx_d_fact = 0\n",
    "xy_d_fact = 0\n",
    "relat_y = 0\n",
    "relat_x = 0\n",
    "\n",
    "for j in range(8):\n",
    "    for i in range(8):\n",
    "        yi_smean[j] += tab[i][j]*y_av[i]\n",
    "        xi_smean[j] += tab[j][i]*x_av[i]\n",
    "    \n",
    "for i in range(8):\n",
    "    yi_smean[i] /= nix[i]\n",
    "    xi_smean[i] /= niy[i]\n",
    "    yy_smean += nix[i]*yi_smean[i]\n",
    "    xx_smean += niy[i]*xi_smean[i]\n",
    "yy_smean /= n\n",
    "xx_smean /= n\n",
    "\n",
    "for i in range(8):\n",
    "    yx_d_fact += nix[i]*((yi_smean[i] - yy_smean)**2)\n",
    "    xy_d_fact += niy[i]*((xi_smean[i] - xx_smean)**2)\n",
    "yx_d_fact /= n\n",
    "xy_d_fact /= n\n",
    "\n",
    "relat_y = (yx_d_fact/D_y)**0.5\n",
    "relat_x = (xy_d_fact/D_x)**0.5\n",
    "\n",
    "print(relat_y, \"- для корреляционного отношения y на x\")\n",
    "print(relat_x, \"- для корреляционного отношения x на y\")\n",
    "if ((relat_y > r) and (relat_x > r)): print(\"Неравенства выполняются\")"
   ]
  },
  {
   "cell_type": "markdown",
   "id": "337ba866",
   "metadata": {},
   "source": [
    "#### Вывод: \n",
    "Коэффициенты отношений лежат в промежутке от 0 до 1, а так же они больше коэффициента корреляции, значит подсчеты верны. Так же близость корреляционных отношений к единице показывает сильную связь признака y с признаком x и признака x с признаком y."
   ]
  },
  {
   "cell_type": "markdown",
   "id": "7c61ed1d",
   "metadata": {},
   "source": [
    "### Задание 9\n",
    "Для заданной выборки построить корреляционную кривую параболического вида $𝑦 = 𝛽_{0}+𝛽_{1}𝑥+𝛽_{2}𝑥^{2}$. Отобразить полученную кривую на множестве выборки. Сделать выводы."
   ]
  },
  {
   "cell_type": "code",
   "execution_count": 11,
   "id": "aa73ce73",
   "metadata": {},
   "outputs": [],
   "source": [
    "from sympy import *"
   ]
  },
  {
   "cell_type": "code",
   "execution_count": 30,
   "id": "b7ee3e16",
   "metadata": {},
   "outputs": [
    {
     "name": "stdout",
     "output_type": "stream",
     "text": [
      "1 x x**2\n",
      "[2.85236691e+01 4.30784130e-01 2.74356640e-03]\n"
     ]
    },
    {
     "data": {
      "text/plain": [
       "[<matplotlib.lines.Line2D at 0x19f83084520>]"
      ]
     },
     "execution_count": 30,
     "metadata": {},
     "output_type": "execute_result"
    },
    {
     "data": {
      "image/png": "[encoded data removed]",
      "text/plain": [
       "<Figure size 432x288 with 1 Axes>"
      ]
     },
     "metadata": {
      "needs_background": "light"
     },
     "output_type": "display_data"
    }
   ],
   "source": [
    "sx1 = 0; sx2 = 0; sx3 = 0; sx4 = 0; sy = 0; sxy = 0; sx2y = 0;\n",
    "c, b, a, x, y = symbols('c b a x y')\n",
    "diff0 = diff(c + b*x + a * x**2 - y, c)\n",
    "diff1 = diff(c + b*x + a * x**2 - y, b)\n",
    "diff2 = diff(c + b*x + a * x**2 - y, a)\n",
    "print(diff0, diff1, diff2)\n",
    "\n",
    "for i in range(len(math)):\n",
    "    sx1 += math[i]\n",
    "    sx2 += (math[i])**2\n",
    "    sx3 += (math[i])**3\n",
    "    sx4 += (math[i])**4\n",
    "    sy += write[i]\n",
    "    sxy += write[i]*math[i]\n",
    "    sx2y += write[i]*(math[i])**2\n",
    "\n",
    "left = np.array([[n, sx1, sx2], [sx1, sx2, sx3], [sx2, sx3, sx4]])\n",
    "rigth = np.array([sy, sxy, sx2y])\n",
    "beta = np.linalg.solve(left, rigth)\n",
    "print(beta)\n",
    "\n",
    "plt.grid(True)\n",
    "plt.title(\"График корреляционной кривой параболического вида\")\n",
    "plt.plot(math, write, \"g.\")\n",
    "plt.xlabel(\"x\")\n",
    "plt.ylabel(\"y\")\n",
    "x = np.sort(math)\n",
    "parab = beta[2]*(x**2) + beta[1]*x + beta[0]\n",
    "plt.plot(x, parab, \"r\")"
   ]
  },
  {
   "cell_type": "markdown",
   "id": "ef6b9ef6",
   "metadata": {},
   "source": [
    "##### Вывод:\n",
    "Таким образом, уравнение параболической регрессии, имеет следующий вид: $y = 0.0027x^{2}+0.43x+28.5$<br>\n",
    "На графике можно увидеть параболу, отоброжающую средние значения по выборке."
   ]
  },
  {
   "cell_type": "markdown",
   "id": "ff96a27d",
   "metadata": {},
   "source": [
    "### Задание 10\n",
    "Для заданной выборки построить нелинейные корреляционные кривые c помощью МНК для $𝑦 = 𝛽_{0}𝑥^{𝛽_{1}}$\n"
   ]
  },
  {
   "cell_type": "code",
   "execution_count": 29,
   "id": "78c66ac9",
   "metadata": {},
   "outputs": [
    {
     "name": "stdout",
     "output_type": "stream",
     "text": [
      "1.0198987948847358 0.9746510640658175\n"
     ]
    },
    {
     "data": {
      "text/plain": [
       "[<matplotlib.lines.Line2D at 0x19f83045f10>]"
      ]
     },
     "execution_count": 29,
     "metadata": {},
     "output_type": "execute_result"
    },
    {
     "data": {
      "image/png": "[encoded data removed]",
      "text/plain": [
       "<Figure size 432x288 with 1 Axes>"
      ]
     },
     "metadata": {
      "needs_background": "light"
     },
     "output_type": "display_data"
    }
   ],
   "source": [
    "s_Yi = 0; s_Xi = 0; s_X2i = 0; s_YiXi = 0;\n",
    "for i in range (101):\n",
    "    s_Yi += mth.log1p(write[i])\n",
    "    s_Xi += mth.log1p(math[i])\n",
    "    s_X2i += mth.log1p(math[i]**2)\n",
    "    s_YiXi += mth.log1p(write[i]*math[i])\n",
    "\n",
    "b1 = (n*s_YiXi - (s_Yi*s_Xi))/(n*s_X2i - s_Xi**2) \n",
    "b0 = (s_Yi - b1*s_Xi)/n\n",
    "b0 = mth.exp(b0)\n",
    "print(b1, b0)\n",
    "\n",
    "plt.grid(True)\n",
    "plt.title(\"График нелинейной корреляционной кривой степенного вида\")\n",
    "plt.plot(math, write, \"g.\")\n",
    "plt.xlabel(\"x\")\n",
    "plt.ylabel(\"y\")\n",
    "x = np.sort(math)\n",
    "power = b0*(x**b1)\n",
    "plt.plot(x, power, \"r\")"
   ]
  },
  {
   "cell_type": "markdown",
   "id": "09bc75f2",
   "metadata": {},
   "source": [
    "##### Вывод: \n",
    "Таким образом, уравнение кривой спепенного вида имеет вид  $y = 0.97x^{1.02}$<br>\n",
    "На графике представлена кривая, которая отображает средние значения по выборке."
   ]
  },
  {
   "cell_type": "markdown",
   "id": "84dff500",
   "metadata": {},
   "source": [
    "### Задание 11\n",
    "Вычислить следующие показатели качества регрессии для каждого\n",
    "из четырёх уравнений и сделать выводы:<br>\n",
    "• теоретический коэффициент детерминации 𝑅2<br>\n",
    "• средняя квадратическая ошибка 𝑆𝜀<br>\n",
    "• средняя ошибка аппроксимации (приближения) 𝐴.<br>"
   ]
  },
  {
   "cell_type": "code",
   "execution_count": 26,
   "id": "345d5e50",
   "metadata": {},
   "outputs": [
    {
     "name": "stdout",
     "output_type": "stream",
     "text": [
      "Для функции степенного вида:\n",
      "Теоретический коэффициент детерминации:  0.549794\n",
      "Средняя квадратичная ошибка:  10.050927\n",
      "Средняя ошибка аппроксимации: 12.405705\n",
      "\n",
      "\n",
      "Для функции параболического вида:\n",
      "Теоретический коэффициент детерминации:  0.635348\n",
      "Средняя квадратичная ошибка:  9.091681\n",
      "Средняя ошибка аппроксимации: 11.451288\n",
      "\n",
      "\n",
      "Для функции средней квадратичной регрессии y на x:\n",
      "Теоретический коэффициент детерминации:  0.576127\n",
      "Средняя квадратичная ошибка:  9.752551\n",
      "Средняя ошибка аппроксимации: 11.445302\n",
      "\n",
      "\n",
      "Для функции средней квадратичной регрессии x на y:\n",
      "Теоретический коэффициент детерминации:  0.605758\n",
      "Средняя квадратичная ошибка:  9.405501\n",
      "Средняя ошибка аппроксимации: 11.411532\n"
     ]
    }
   ],
   "source": [
    "eps_power_sum_s = 0; eps_parab_sum_s = 0; eps_yx_sum_s = 0; eps_xy_sum_s = 0;\n",
    "S_power = 0; S_parab = 0; S_yx = 0 ; S_xy = 0;\n",
    "delt_power = 0; delt_parab = 0; delt_yx = 0; delt_xy = 0;\n",
    "R_power = 0; R_parab = 0; R_yx = 0 ; R_xy = 0;\n",
    "A_power = 0; A_parab = 0; A_yx = 0 ; A_xy = 0;\n",
    "\n",
    "for i in range(len(math)):                      \n",
    "    delt_power += (write[i] - b0*(math[i]**b1))**2\n",
    "    delt_parab += (write[i] - (beta[2]*(math[i]**2) + beta[1]*math[i] + beta[0]))**2\n",
    "    delt_yx += (write[i] - (r*(D_y**0.5/D_x**0.5)*(math[i] - x_smean) + y_smean))**2\n",
    "    delt_xy += (math[i] - (r*(D_x**0.5/D_y**0.5)*(write[i] - y_smean) + x_smean))**2\n",
    "delt_power /= n\n",
    "delt_parab /= n\n",
    "delt_yx /= n\n",
    "delt_xy /= n\n",
    "\n",
    "R_power = delt_power/D_y\n",
    "R_parab = delt_parab/D_y  \n",
    "R_yx = delt_yx/D_y  \n",
    "R_xy = delt_xy/D_y      \n",
    "\n",
    "for i in range(len(math)):\n",
    "    eps_power_sum_s += (b0*(math[i]**b1) - write[i])**2\n",
    "    eps_parab_sum_s += ((beta[2]*(math[i]**2) + beta[1]*math[i] + beta[0]) - write[i])**2\n",
    "    eps_yx_sum_s += ((r*(D_y**0.5/D_x**0.5)*(math[i] - x_smean) + y_smean) - write[i])**2\n",
    "    eps_xy_sum_s += ((r*(D_x**0.5/D_y**0.5)*(write[i] - y_smean) + x_smean) - math[i])**2\n",
    "\n",
    "S_power = ((1/(n - 2)) * eps_power_sum_s)**0.5\n",
    "S_parab = ((1/(n - 3)) * eps_parab_sum_s)**0.5\n",
    "S_yx = ((1/(n - 2)) * eps_yx_sum_s)**0.5\n",
    "S_xy = ((1/(n - 2)) * eps_xy_sum_s)**0.5\n",
    "\n",
    "for i in range(len(math)):\n",
    "    A_power += abs((b0*(math[i]**b1) - write[i])/write[i])*100\n",
    "    A_parab += abs(((beta[2]*(math[i]**2) + beta[1]*math[i] + beta[0]) - write[i])/write[i])*100\n",
    "    A_yx += abs(((r*(D_y**0.5/D_x**0.5)*(math[i] - x_smean) + y_smean) - write[i])/write[i])*100\n",
    "    A_xy += abs(((r*(D_x**0.5/D_y**0.5)*(write[i] - y_smean) + x_smean) - math[i])/write[i])*100\n",
    "A_power /= n\n",
    "A_parab /= n\n",
    "A_yx /= n\n",
    "A_xy /= n\n",
    "\n",
    "print(\"Для функции степенного вида:\")\n",
    "print(\"Теоретический коэффициент детерминации: \", round(1 - R_power, 6))\n",
    "print(\"Средняя квадратичная ошибка: \", round(S_power, 6))\n",
    "print(\"Средняя ошибка аппроксимации:\", round(A_power, 6))\n",
    "print(\"\\n\")\n",
    "print(\"Для функции параболического вида:\")\n",
    "print(\"Теоретический коэффициент детерминации: \", round(1 - R_parab, 6))\n",
    "print(\"Средняя квадратичная ошибка: \", round(S_parab, 6))\n",
    "print(\"Средняя ошибка аппроксимации:\", round(A_parab, 6))\n",
    "print(\"\\n\")\n",
    "print(\"Для функции средней квадратичной регрессии y на x:\")\n",
    "print(\"Теоретический коэффициент детерминации: \", round(1 - R_yx, 6))\n",
    "print(\"Средняя квадратичная ошибка: \", round(S_yx, 6))\n",
    "print(\"Средняя ошибка аппроксимации:\", round(A_yx, 6))\n",
    "print(\"\\n\")\n",
    "print(\"Для функции средней квадратичной регрессии x на y:\")\n",
    "print(\"Теоретический коэффициент детерминации: \", round(1 - R_xy, 6))\n",
    "print(\"Средняя квадратичная ошибка: \", round(S_xy, 6))\n",
    "print(\"Средняя ошибка аппроксимации:\", round(A_xy, 6))"
   ]
  },
  {
   "cell_type": "markdown",
   "id": "7b33f517",
   "metadata": {},
   "source": [
    "##### Вывод: \n",
    "Коэффициент детерминации показывает тесноту связи между признаками, можно заметить, что лучшие показатели у модели параболического вида. <br>\n",
    "Средняя квадратичная ошибка показывает среднеквадратичную разницу между оцененными данными и фактическими значениями. Меньше всего разница так же у модели параболического вида. Использование модели регрессии является целесообразным, если коэффициент Se меньше СКО, значит, опираясь на данные об СКО выборок, можно сказать, что использование всех моделей целесообразно.<br>\n",
    "Ошибка аппроксимации оценивает адекватность регрессивной модели и измеряется в процентах. Если A меньше 7%, модель хорошего качества. Оценив 4 модели, можно сделать вывод, что ни одна из них не является моделью хорошего качества, хоть и все ошибки аппроксимации близки к необходимому значению в 7% с разницей примерно в 4.4-5.4%. "
   ]
  },
  {
   "cell_type": "markdown",
   "id": "9e61e8c4",
   "metadata": {},
   "source": [
    "## Выводы: \n",
    "В ходе работы были освоены основные понятия, связанные с корреляционной зависимостью между случайными величинами - был найден коэффициент корреляции между двумя выборками объемом 101, а так же доверительные интервалы для этого коэффициента корреляции при уровне значимости 𝛾 ∈ {0.95, 0.99}, статистическими гипотезами и проверкой их «справедливости». <br>\n",
    "Было проведено ознакомление с основными положениями метода наименьших квадратов (МНК), со статистическими свойствами МНК оценок, с понятием функции регрессии и роли МНК в регрессионном анализе, с корреляционным отношением, как мерой тесноты произвольной (в том числе и линейной) корреляционной связи. Были построены 4 корреляционные кривые - уравнения средней квадратичной регрессии 𝑥 на 𝑦 и 𝑦 на 𝑥, парабалического вида и степенного вида, для каждой из них был построен и проанализирован график, а так же посчитаны теоретический коэффициент детерминации, средняя квадратичная ошибка и средняя ошибка аппроксимации."
   ]
  }
 ],
 "metadata": {
  "kernelspec": {
   "display_name": "Python 3 (ipykernel)",
   "language": "python",
   "name": "python3"
  },
  "language_info": {
   "codemirror_mode": {
    "name": "ipython",
    "version": 3
   },
   "file_extension": ".py",
   "mimetype": "text/x-python",
   "name": "python",
   "nbconvert_exporter": "python",
   "pygments_lexer": "ipython3",
   "version": "3.9.12"
  }
 },
 "nbformat": 4,
 "nbformat_minor": 5
}
