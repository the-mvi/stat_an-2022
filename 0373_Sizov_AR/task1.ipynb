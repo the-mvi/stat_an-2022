{
  "metadata": {
    "kernelspec": {
      "name": "python3",
      "display_name": "Python 3",
      "language": "python"
    },
    "language_info": {
      "name": "python",
      "version": "3.7.12",
      "mimetype": "text/x-python",
      "codemirror_mode": {
        "name": "ipython",
        "version": 3
      },
      "pygments_lexer": "ipython3",
      "nbconvert_exporter": "python",
      "file_extension": ".py"
    },
    "colab": {
      "provenance": []
    }
  },
  "nbformat_minor": 0,
  "nbformat": 4,
  "cells": [
    {
      "cell_type": "markdown",
      "source": [
        "# Практическая работа №1: Формирование и первичная обработка выборки. Нахождение и точечных и интервальных оценок. Проверка статистических гипотез.\n",
        "Выполнил студент гр. 0373 Сизов Артём. Вариант №20\n",
        "    "
      ],
      "metadata": {
        "id": "_jgIv7Ud1DJT"
      }
    },
    {
      "cell_type": "markdown",
      "source": [
        "## Цель работы\n",
        "Ознакомление с основными правилами формирования выборки и подготовки выборочных данных к статистическому анализу. Получение практических навыков нахождения точечных статистических оценок параметров распределения, а также вычисления интервальных статистических оценок параметров распределения выборочных данных и проверки\n",
        "«справедливости» статистических гипотез."
      ],
      "metadata": {
        "id": "lHzHKTNn1DJX"
      }
    },
    {
      "cell_type": "markdown",
      "source": [
        "## Основные теоретические положения\n",
        "__Выборка__ - совокупность случайно отобранных объектов. \n",
        "\n",
        "__Объем выборки__ - количество элементов выборки\n",
        "\n",
        "$x_{i}$ - варианты\n",
        "\n",
        "$n_{i}$ - абсолютные частоты (веса)\n",
        "\n",
        "$p_{i}^{*}=\\frac{n_{i}}{n}$ - относительные частоты\n",
        "\n",
        "__Генеральная совокупность__ - совокупность объектов, из которых производится выборка. Объём = N.\n",
        "\n",
        "__Ранжированный ряд__ - расположение единиц совокупности в порядке возрастания или убывания выбранного признака.\n",
        "\n",
        "__Вариационный ряд__ -  ранжированный ряд распределения по величине какого-либо признака.\n",
        "\n",
        "__Интервальный вариационный ряд__ - весь промежуток измерения значений выборки $[x_{min},x_{max}]$ разбивают на частичные интервалы.\n",
        "\n",
        "__Полигон частот__ - ломаная линия, соединяющая точки дискретного ряда $(x_{1},n_{1}),(x_{2},n_{2})...(x_{k},n_{k})$.\n",
        "\n",
        "__Полигон относительных частот__ - ломаная линия,соединяющая точки дискретного ряда $(x_{1},p_{1}^{*}),(x_{2},p_{1}^{*})... (x_{k},p_{1}^{*})$\n",
        "\n",
        "__Гистограмма__- статистический аналог функции плотности распределения случайной величины.\n",
        "\n",
        "__Гистограмма частот__- ступенчатая фигура, состоящая из прямоугольников, основаниями которых явялются частичные интервалы, а высота равна: $f_{i}=\\frac{n_{i}}{h}$.\n",
        "\n",
        "__Кумулянта__- кривая накопленных частот, представляющая собой ломаную линию, соединяющую точки, координатами которых являются варианты и суммы абсолютных/относительных частот.\n",
        "\n",
        "__Эмпирическая функция распределения__ - функция $F^{*}(x)$ задающая для каждого значения x относительную частоту события {X<x}: $F^{*}(x)=\\frac{n_{x}}{n} $ где $n_{x}$ - число выборочных значений величины X, меньших x.\n",
        "\n",
        "__Условные варианты:__ $\\mu _{i} = \\frac{x_{i} - c}{h}$, где c - ложный нуль(варианта с наибольшей частотой), h - шаг\n",
        "\n",
        "__Выборочное среднее__ - среднее арифметическое значений признака выборочной совокупности: $\\overline{x_{B}}=\\frac{1}{n}\\sum_{i=1}^{n}x_{i}=\\sum_{i=1}^{k}\\frac{x_{i}n_{i}}{n}=\\sum_{i=1}^{k}x_{i}p_{i}^{*}$.\n",
        "\n",
        "__Выборочная дисперсия__ - среднее арифметическое квадратов отклонений наблюдаемых значений признака от из средних значений $\\overline{x_{B}}$ : $\\sigma_{B}^{2}=\\frac{1}{n}\\sum_{i=1}^{n}(x_{i}-\\overline{x_{B}})^2=\\sum_{i=1}^{k}\\frac{(x_{i}-\\overline{x_{B}})^2n_{i}}{n}=\\sum_{i=1}^{k}(x_{i}-\\overline{x_{B}})^2p_{i}^{*}$\n",
        "\n",
        "__Выборочное СКО:__ $\\sigma_{B}=\\sqrt{\\sigma_{B}^{2}}$\n",
        "\n",
        "__Мода__ - значение во множестве наблюдений, которое встречается наиболее часто. \n",
        "\n",
        "$Mo^{*} = x _{Mo}^{(0)} + h _{Mo}\\frac{n _{Mo} - n _{Mo-1}}{(n _{Mo} - n _{Mo-1}) + (n _{Mo} - n _{Mo+1})} $\n",
        "\n",
        "__Медиана__ - число, которое находится в середине набора. \n",
        "\n",
        "$Me^{*} = x _{Me}^{(0)} + h _{Me}\\frac{\\frac{N+1}{2} - p^{\\Sigma}_{Me-1}}{p^{*}_{Me}}$\n",
        "\n",
        "__Условные варианты__ - варианты, определяемые равенством $u_{i}=\\frac{x_{i}-C}{h}$, где C - ложный нуль (середина вариационного ряда). Если вариационный ряд состоит из равноостоящих вариант с шагом h, то условные варианты $u_{i}\\in\\mathbb{Z}$\n",
        "\n",
        "__Обычный эмпирический момент порядка r__ - среднее значение r-ых степеней разностей $x_{i}-C$: $\\nu_{r}^{'}=\\frac{1}{n}\\sum_{i=1}^{k}n_{i}(x_{i}-C)^r$\n",
        "\n",
        "__Начальный эмпирический момент порядка r__ - обычный момент порядка r при C=0: $\\nu_{r}=\\frac{1}{n}\\sum_{i=1}^{k}n_{i}x_{i}^{r}$\n",
        "\n",
        "__Условный эмпирический момент порядка r__ - начальный момент порядка r, вычисленный для условных вариант: $\\nu_{r}^{*}=\\frac{1}{n}\\sum_{i=1}^{k}n_{i}x_{i}^{r}=\\frac{1}{n}\\sum_{i=1}^{k}n_{i}(\\frac{x_{i}-C}{h})^r$\n",
        "\n",
        "__Центральный эмпирический момент порядка r__ - обычный момент r при $C=\\overline{x_{B}}$: $\\mu_{r}^{*}=\\frac{1}{n}\\sum_{i=1}^{k}n_{i}(x_{i}-\\overline{x_{B}})^r$\n",
        "\n",
        "$\\overline{x_{B}}=h\\nu_{1}^{*}+C$, $\\sigma_{B}^{2}=\\mu_{2}^{*}$\n",
        "\n",
        "__Исправленная выборочная дисперсия:__ $s^2=\\frac{n}{n-1}\\sigma_{B}^{2}$. \n",
        "\n",
        "__Исправленное СКО__: $s=\\sqrt{s^2}$\n",
        "\n",
        "__Коэффициент ассиметрии:__ $a_{s}^{*}=\\frac{\\mu_{3}^{8}}{\\sigma_{B}^{3}}$\n",
        "\n",
        "__Коэффициент экцесса:__ $\\varepsilon_{k}^{*}=\\frac{\\mu_{4}^{*}}{\\sigma_{B}^{4}}-3$\n",
        "\n",
        "__Коэффициент вариации__ - это статистическая мера дисперсии (разброса) данных вокруг некоторого среднего значения.\n",
        "\n",
        "$V = \\frac{\\sigma _{B}}{|x_{B}|}100$%\n",
        "\n",
        "__Точность:__ $\\frac{t_{\\gamma}\\sigma _{B}}{\\sqrt{n}}$\n",
        "\n",
        "__Доверительный интервал__ - интервал $(\\theta^{*}-\\delta;\\theta^{*}+\\delta)$, покрывающий неизвестный параметр $\\theta$ с заданной надёжностью $\\gamma$\n",
        "\n",
        "__Статистическая гипотеза__ - любое предположение о генеральной совокупности, проверяемое по выборке. \n",
        "\n",
        "__Статистический критерий проверки основной гипотезы__ - правило, по которому принимается решение принять или отклонить гипотезу.\n",
        "\n",
        "__Статистика критерия__ - случайная величина, служащая для проверки относительных гипотез.\n",
        "\n",
        "__Критическая область__ - совокупность значений критерия, при которых основную гипотезу отвергают.\n",
        "\n",
        "__Теоретические частоты:__ $P(x_{i-1} < x < x_{i}) = \\Phi(\\frac{ x_{i} - a}{\\sigma}) - \\Phi(\\frac{ x_{i-1} - a}{\\sigma})$\n",
        "\n",
        "__Статистика:__ $\\chi_{nabl}^{2}=\\sum_{i=1}^{k}\\frac{(n_{i}-n_{i}^{'})^2}{n_{i}{'}}=\\sum_{i=1}^{k}\\frac{n_{i}^{2}}{n_{i}^{'}}-n$\n",
        "\n",
        "Условие принятия гипотезы: \n",
        "\n",
        "$X_{nabl}^{2} < X_{krit}^{2}$\n",
        "\n",
        "$X_{nabl}^{2} = \\displaystyle\\sum_{i=1}^{k}\\frac{(n_{i} - n_{i}^{'})^{2}}{n_{i}^{'}} = \\displaystyle\\sum_{i=1}^{k}\\frac{n_{i}^{2}}{n_{i}^{'}}-n$\n",
        "\n",
        "$X_{krit}^{2} = X^{2}(\\alpha, df), df = k-r-1 $\n"
      ],
      "metadata": {
        "id": "RbEogVW21DJY"
      }
    },
    {
      "cell_type": "markdown",
      "source": [
        "## Постановка задачи\n",
        "Осуществить формирование репрезентативной выборки заданного объема из имеющейся генеральной совокупности экспериментальных данных. Осуществить последовательное преобразование полученной выборки в ранжированный, вариационный и интервальный ряды. Применительно к интервальному ряду построить и отобразить графически полигон, гистограмму и эмпирическую функцию распределения для абсолютных и относительных частот. Для заданных выборочных данных вычислить с использованием метода моментов и условных вариант точечные статистические оценки математического ожидания, дисперсии, среднеквадратичного отклонения, асимметрии, эксцесса, моды, медианы и коэффициента вариации исследуемой случайной величины. Для заданной надёжности определить границы доверительных интервалов для математического ожидания и среднеквадратичного отклонения случайной величины. Проверить гипотезу о нормальном распределении исследуемой случайной величины с помощью критерия Пирсона $𝜒^{2}$.Полученные результаты содержательно проинтерпретировать.\n"
      ],
      "metadata": {
        "id": "ksLwCx771DJZ"
      }
    },
    {
      "cell_type": "markdown",
      "source": [
        "## Выполнение работы\n"
      ],
      "metadata": {
        "id": "-xGq58Uw1DJb"
      }
    },
    {
      "cell_type": "markdown",
      "source": [
        "### Задача 1\n",
        "Из генеральной совокупности сформирована Типическая выборка."
      ],
      "metadata": {
        "id": "QKHJ--Rt1DJc"
      }
    },
    {
      "cell_type": "code",
      "source": [
        "import pandas as pd\n",
        "import numpy as np\n",
        "import math\n",
        "import matplotlib.pyplot as plt\n",
        "\n",
        "from prettytable import PrettyTable\n",
        "\n",
        "columns = ['Data','unnecessary']\n",
        "df = pd.read_csv('../input/steam-ds/convertcsv (4).csv', header = None, names = columns)\n",
        "df.pop('unnecessary')\n",
        "df['Data']=df['Data'].str.replace(',','')\n",
        "df['Data']=df['Data'].astype('float64')\n",
        "print(df)"
      ],
      "metadata": {
        "execution": {
          "iopub.status.busy": "2022-12-11T15:26:42.743208Z",
          "iopub.execute_input": "2022-12-11T15:26:42.743667Z",
          "iopub.status.idle": "2022-12-11T15:26:42.763142Z",
          "shell.execute_reply.started": "2022-12-11T15:26:42.743632Z",
          "shell.execute_reply": "2022-12-11T15:26:42.761182Z"
        },
        "trusted": true,
        "id": "WhV8BHjZ1DJc",
        "outputId": "cb70713b-6fd3-4b34-805a-f7d1289d742f"
      },
      "execution_count": null,
      "outputs": [
        {
          "name": "stdout",
          "text": "       Data\n0     708.0\n1     888.7\n2     689.3\n3     619.9\n4     670.3\n..      ...\n100   696.6\n101   703.8\n102   804.3\n103  1232.0\n104   987.4\n\n[105 rows x 1 columns]\n",
          "output_type": "stream"
        }
      ]
    },
    {
      "cell_type": "markdown",
      "source": [
        "### Задача 2\n",
        "#### Ранжированный ряд (упорядоченный по убыванию) :"
      ],
      "metadata": {
        "id": "xkNzSIqK1DJg"
      }
    },
    {
      "cell_type": "code",
      "source": [
        "sorted_df = df.sort_values(by = \"Data\",ascending = False)\n",
        "print(sorted_df)"
      ],
      "metadata": {
        "execution": {
          "iopub.status.busy": "2022-12-11T15:26:42.765407Z",
          "iopub.execute_input": "2022-12-11T15:26:42.766613Z",
          "iopub.status.idle": "2022-12-11T15:26:42.778057Z",
          "shell.execute_reply.started": "2022-12-11T15:26:42.766556Z",
          "shell.execute_reply": "2022-12-11T15:26:42.776462Z"
        },
        "trusted": true,
        "id": "PJEpvsJn1DJg",
        "outputId": "e96e9de5-2f6b-48e4-94d7-a644cfd21a74"
      },
      "execution_count": null,
      "outputs": [
        {
          "name": "stdout",
          "text": "      Data\n29  2400.3\n28  1884.0\n31  1760.4\n30  1620.7\n55  1305.6\n..     ...\n35   548.1\n70   545.7\n63   527.2\n40   509.3\n39   501.4\n\n[105 rows x 1 columns]\n",
          "output_type": "stream"
        }
      ]
    },
    {
      "cell_type": "markdown",
      "source": [
        "#### Вариационный ряд:"
      ],
      "metadata": {
        "id": "_jom0xdW1DJh"
      }
    },
    {
      "cell_type": "code",
      "source": [
        "count = df['Data'].value_counts()\n",
        "with pd.option_context('display.max_rows', None, 'display.max_columns', None):  \n",
        "    print(count)"
      ],
      "metadata": {
        "execution": {
          "iopub.status.busy": "2022-12-11T15:26:42.780530Z",
          "iopub.execute_input": "2022-12-11T15:26:42.781016Z",
          "iopub.status.idle": "2022-12-11T15:26:42.794620Z",
          "shell.execute_reply.started": "2022-12-11T15:26:42.780981Z",
          "shell.execute_reply": "2022-12-11T15:26:42.793602Z"
        },
        "trusted": true,
        "id": "1gYB6mZQ1DJh",
        "outputId": "c9d24715-3304-46de-bde0-5a82231d5e63"
      },
      "execution_count": null,
      "outputs": [
        {
          "name": "stdout",
          "text": "708.0     1\n813.5     1\n703.0     1\n593.6     1\n583.3     1\n772.4     1\n891.5     1\n647.4     1\n555.7     1\n545.7     1\n651.9     1\n849.4     1\n947.6     1\n703.3     1\n616.2     1\n572.0     1\n527.2     1\n953.9     1\n1270.4    1\n777.8     1\n757.5     1\n615.4     1\n807.6     1\n1277.6    1\n1305.6    1\n895.4     1\n1051.1    1\n1027.2    1\n756.4     1\n1232.0    1\n804.3     1\n703.8     1\n696.6     1\n687.0     1\n960.1     1\n845.9     1\n792.3     1\n820.5     1\n883.2     1\n991.5     1\n860.0     1\n1025.3    1\n816.0     1\n801.7     1\n711.2     1\n654.1     1\n1006.3    1\n761.9     1\n659.7     1\n554.6     1\n571.7     1\n985.7     1\n639.0     1\n888.7     1\n594.4     1\n711.1     1\n612.0     1\n649.9     1\n901.3     1\n1008.6    1\n1071.7    1\n829.1     1\n745.5     1\n696.4     1\n677.4     1\n700.9     1\n945.6     1\n846.2     1\n624.2     1\n575.4     1\n671.4     1\n864.7     1\n1018.4    1\n896.5     1\n715.8     1\n670.3     1\n619.9     1\n689.3     1\n1012.3    1\n772.7     1\n977.2     1\n509.3     1\n813.8     1\n994.6     1\n652.4     1\n554.9     1\n549.6     1\n631.4     1\n834.6     1\n847.2     1\n723.4     1\n603.0     1\n501.4     1\n1884.0    1\n674.3     1\n999.5     1\n611.2     1\n548.1     1\n586.5     1\n936.0     1\n1250.8    1\n1760.4    1\n1620.7    1\n2400.3    1\n987.4     1\nName: Data, dtype: int64\n",
          "output_type": "stream"
        }
      ]
    },
    {
      "cell_type": "markdown",
      "source": [
        "#### Интервальный ряд:"
      ],
      "metadata": {
        "id": "3v-RGafr1DJi"
      }
    },
    {
      "cell_type": "markdown",
      "source": [
        "R - Размах выборки\n",
        "\n",
        "n - Длинна выборки\n",
        "\n",
        "k - Формула Стёрджесса\n",
        "\n",
        "h - длинна интервала "
      ],
      "metadata": {
        "id": "okg95OUb1DJi"
      }
    },
    {
      "cell_type": "code",
      "source": [
        "print('min = ',df['Data'].min(),'max =', df['Data'].max())\n",
        "R = df['Data'].max() - df['Data'].min()\n",
        "print('R =', R,'\\n','-'*10)\n",
        "n = len(df[\"Data\"])\n",
        "print('n =', n,'\\n','-'*10)\n",
        "k = math.ceil(1 + math.log2(n))\n",
        "print('k =',k,'\\n','-'*10)\n",
        "h = R/k\n",
        "print('h =', h,'\\n','-'*10)\n",
        "\n",
        "x0 = df['Data'].min()\n",
        "bins_1 = [[x0,x0+h]]*k\n",
        "print(bins_1[0])\n",
        "x0=x0+h\n",
        "for i in range(1,k):\n",
        "    bins_1[i] = [round(x0,4),round(x0+h,4)]\n",
        "    #print('(',round(x0,4),round(x0+h,4),']')\n",
        "    print(bins_1[i])\n",
        "    x0=x0+h\n",
        "\n",
        "\n",
        "# используем интервальную функцию из библиотеки numpy для проверки интервалов:\n",
        "print('\\nИспользуем интервальную функцию из библиотеки numpy для проверки интервалов:\\n')\n",
        "bins = np.linspace(df['Data'].min(), df['Data'].max(),k+1)\n",
        "for i in range(0,len(bins)):\n",
        "    print(round(bins[i],4))"
      ],
      "metadata": {
        "execution": {
          "iopub.status.busy": "2022-12-11T15:26:42.796316Z",
          "iopub.execute_input": "2022-12-11T15:26:42.796631Z",
          "iopub.status.idle": "2022-12-11T15:26:42.813238Z",
          "shell.execute_reply.started": "2022-12-11T15:26:42.796604Z",
          "shell.execute_reply": "2022-12-11T15:26:42.812248Z"
        },
        "trusted": true,
        "id": "xdGr2GFh1DJi",
        "outputId": "265bbb8e-6e83-400d-e332-7241f5c3b0b5"
      },
      "execution_count": null,
      "outputs": [
        {
          "name": "stdout",
          "text": "min =  501.4 max = 2400.3\nR = 1898.9 \n ----------\nn = 105 \n ----------\nk = 8 \n ----------\nh = 237.3625 \n ----------\n[501.4, 738.7625]\n[738.7625, 976.125]\n[976.125, 1213.4875]\n[1213.4875, 1450.85]\n[1450.85, 1688.2125]\n[1688.2125, 1925.575]\n[1925.575, 2162.9375]\n[2162.9375, 2400.3]\n\nИспользуем интервальную функцию из библиотеки numpy для проверки интервалов:\n\n501.4\n738.7625\n976.125\n1213.4875\n1450.85\n1688.2125\n1925.575\n2162.9375\n2400.3\n",
          "output_type": "stream"
        }
      ]
    },
    {
      "cell_type": "markdown",
      "source": [
        "### Задача 3 :"
      ],
      "metadata": {
        "id": "_vUdRGmJ1DJj"
      }
    },
    {
      "cell_type": "markdown",
      "source": [
        "#### Полигон  для абсолютных частот :"
      ],
      "metadata": {
        "id": "XvVfAcrA1DJj"
      }
    },
    {
      "cell_type": "code",
      "source": [
        "bins[0]=bins[0]-0.000001\n",
        "ch_abs = df['Data'].groupby(pd.cut(df['Data'], bins=bins)).count()\n",
        "\n",
        "print(ch_abs)\n",
        "mean_1 = [0]*(len(bins)-1)\n",
        "for i in range(0,len(bins)-1):\n",
        "    mean_1[i] = (bins[i] + bins[i+1])/2\n",
        "plt.grid()\n",
        "plt.plot(mean_1,ch_abs)"
      ],
      "metadata": {
        "execution": {
          "iopub.status.busy": "2022-12-11T15:26:42.815400Z",
          "iopub.execute_input": "2022-12-11T15:26:42.816035Z",
          "iopub.status.idle": "2022-12-11T15:26:43.019473Z",
          "shell.execute_reply.started": "2022-12-11T15:26:42.816001Z",
          "shell.execute_reply": "2022-12-11T15:26:43.018540Z"
        },
        "trusted": true,
        "id": "miXbqzA61DJj",
        "outputId": "0acef4fd-94af-4518-ec6e-4a7b5829605c"
      },
      "execution_count": null,
      "outputs": [
        {
          "name": "stdout",
          "text": "Data\n(501.4, 738.762]        48\n(738.762, 976.125]      34\n(976.125, 1213.488]     14\n(1213.488, 1450.85]      5\n(1450.85, 1688.212]      1\n(1688.212, 1925.575]     2\n(1925.575, 2162.938]     0\n(2162.938, 2400.3]       1\nName: Data, dtype: int64\n",
          "output_type": "stream"
        },
        {
          "execution_count": 87,
          "output_type": "execute_result",
          "data": {
            "text/plain": "[<matplotlib.lines.Line2D at 0x7f8da93d8e50>]"
          },
          "metadata": {}
        },
        {
          "output_type": "display_data",
          "data": {
            "text/plain": "<Figure size 432x288 with 1 Axes>",
            "image/png": "[encoded data removed]"
          },
          "metadata": {
            "needs_background": "light"
          }
        }
      ]
    },
    {
      "cell_type": "markdown",
      "source": [
        "#### Гистограмма абсолютных частот:"
      ],
      "metadata": {
        "id": "qjDjxhVU1DJk"
      }
    },
    {
      "cell_type": "code",
      "source": [
        "print(\"Гистограмма частот:\")\n",
        "plt.hist(df['Data'], bins=k, edgecolor='red', color='black', weights=np.ones_like(df['Data'])/h)\n",
        "plt.show()"
      ],
      "metadata": {
        "execution": {
          "iopub.status.busy": "2022-12-11T15:26:43.021140Z",
          "iopub.execute_input": "2022-12-11T15:26:43.022363Z",
          "iopub.status.idle": "2022-12-11T15:26:43.303408Z",
          "shell.execute_reply.started": "2022-12-11T15:26:43.022334Z",
          "shell.execute_reply": "2022-12-11T15:26:43.300359Z"
        },
        "trusted": true,
        "id": "ayvtWMuD1DJk",
        "outputId": "4d398c57-26a2-42ad-a847-2feb3c5ffdf1"
      },
      "execution_count": null,
      "outputs": [
        {
          "name": "stdout",
          "text": "Гистограмма частот:\n",
          "output_type": "stream"
        },
        {
          "output_type": "display_data",
          "data": {
            "text/plain": "<Figure size 432x288 with 1 Axes>",
            "image/png": "[encoded data removed]"
          },
          "metadata": {
            "needs_background": "light"
          }
        }
      ]
    },
    {
      "cell_type": "markdown",
      "source": [
        "#### Эмпирическая функция абсолютных частот:"
      ],
      "metadata": {
        "id": "kihKshj41DJl"
      }
    },
    {
      "cell_type": "code",
      "source": [
        "print(\"Эмпирическая функция:\")\n",
        "plt.grid()\n",
        "high=[0]*k\n",
        "for i in range(len(bins)-1):\n",
        "    high[i]=high[i-1]+ch_abs[i]\n",
        "    plt.hlines(high[i], bins[i], bins[i+1], color='b')"
      ],
      "metadata": {
        "execution": {
          "iopub.status.busy": "2022-12-11T15:26:43.306873Z",
          "iopub.execute_input": "2022-12-11T15:26:43.307339Z",
          "iopub.status.idle": "2022-12-11T15:26:43.550111Z",
          "shell.execute_reply.started": "2022-12-11T15:26:43.307304Z",
          "shell.execute_reply": "2022-12-11T15:26:43.549360Z"
        },
        "trusted": true,
        "id": "jMFxNM2d1DJl",
        "outputId": "bd61d163-28d9-4ce6-ff2e-0961020df26b"
      },
      "execution_count": null,
      "outputs": [
        {
          "name": "stdout",
          "text": "Эмпирическая функция:\n",
          "output_type": "stream"
        },
        {
          "output_type": "display_data",
          "data": {
            "text/plain": "<Figure size 432x288 with 1 Axes>",
            "image/png": "[encoded data removed]"
          },
          "metadata": {
            "needs_background": "light"
          }
        }
      ]
    },
    {
      "cell_type": "markdown",
      "source": [
        "### Задача 4:"
      ],
      "metadata": {
        "id": "gtuDsify1DJl"
      }
    },
    {
      "cell_type": "markdown",
      "source": [
        "#### Полигон относительных частот:"
      ],
      "metadata": {
        "id": "LsYDFF-S1DJm"
      }
    },
    {
      "cell_type": "code",
      "source": [
        "ch_otn = round(ch_abs/n,4)\n",
        "\n",
        "print(ch_otn)\n",
        "\n",
        "mean_2 = [0]*(len(bins)-1)\n",
        "for i in range(0,len(bins)-1):\n",
        "    mean_2[i] = round((bins[i] + bins[i+1])/2,4)\n",
        "print(mean_2)\n",
        "plt.grid()\n",
        "plt.plot(mean_2,ch_otn)"
      ],
      "metadata": {
        "execution": {
          "iopub.status.busy": "2022-12-11T15:26:43.552091Z",
          "iopub.execute_input": "2022-12-11T15:26:43.553249Z",
          "iopub.status.idle": "2022-12-11T15:26:43.722295Z",
          "shell.execute_reply.started": "2022-12-11T15:26:43.553220Z",
          "shell.execute_reply": "2022-12-11T15:26:43.720807Z"
        },
        "trusted": true,
        "id": "JgpkAZ0w1DJm",
        "outputId": "58098ba1-8845-47b6-be64-4c251fdb9743"
      },
      "execution_count": null,
      "outputs": [
        {
          "name": "stdout",
          "text": "Data\n(501.4, 738.762]        0.4571\n(738.762, 976.125]      0.3238\n(976.125, 1213.488]     0.1333\n(1213.488, 1450.85]     0.0476\n(1450.85, 1688.212]     0.0095\n(1688.212, 1925.575]    0.0190\n(1925.575, 2162.938]    0.0000\n(2162.938, 2400.3]      0.0095\nName: Data, dtype: float64\n[620.0812, 857.4438, 1094.8062, 1332.1688, 1569.5312, 1806.8938, 2044.2562, 2281.6188]\n",
          "output_type": "stream"
        },
        {
          "execution_count": 90,
          "output_type": "execute_result",
          "data": {
            "text/plain": "[<matplotlib.lines.Line2D at 0x7f8da9862210>]"
          },
          "metadata": {}
        },
        {
          "output_type": "display_data",
          "data": {
            "text/plain": "<Figure size 432x288 with 1 Axes>",
            "image/png": "[encoded data removed]"
          },
          "metadata": {
            "needs_background": "light"
          }
        }
      ]
    },
    {
      "cell_type": "markdown",
      "source": [
        "#### Гистограмма частот:"
      ],
      "metadata": {
        "id": "ds-_GK-v1DJn"
      }
    },
    {
      "cell_type": "code",
      "source": [
        "plt.hist(df['Data'], bins=k, edgecolor='red', color='black', weights=np.ones_like(df['Data'])/n/h)\n",
        "plt.show()"
      ],
      "metadata": {
        "execution": {
          "iopub.status.busy": "2022-12-11T15:26:43.724264Z",
          "iopub.execute_input": "2022-12-11T15:26:43.724658Z",
          "iopub.status.idle": "2022-12-11T15:26:43.939193Z",
          "shell.execute_reply.started": "2022-12-11T15:26:43.724622Z",
          "shell.execute_reply": "2022-12-11T15:26:43.937438Z"
        },
        "trusted": true,
        "id": "TWGFxqgc1DJn",
        "outputId": "6089da0f-367a-4463-a395-fecbddfc05fb"
      },
      "execution_count": null,
      "outputs": [
        {
          "output_type": "display_data",
          "data": {
            "text/plain": "<Figure size 432x288 with 1 Axes>",
            "image/png": "[encoded data removed]"
          },
          "metadata": {
            "needs_background": "light"
          }
        }
      ]
    },
    {
      "cell_type": "markdown",
      "source": [
        "#### Эмпирическая функция:"
      ],
      "metadata": {
        "id": "GPd4HWnk1DJn"
      }
    },
    {
      "cell_type": "code",
      "source": [
        "plt.grid()\n",
        "high=[0]*k\n",
        "for i in range(len(bins)-1):\n",
        "    high[i]=high[i-1]+ch_otn[i]\n",
        "    plt.hlines(high[i], bins[i], bins[i+1], color='b')"
      ],
      "metadata": {
        "execution": {
          "iopub.status.busy": "2022-12-11T15:26:43.941116Z",
          "iopub.execute_input": "2022-12-11T15:26:43.941498Z",
          "iopub.status.idle": "2022-12-11T15:26:44.212589Z",
          "shell.execute_reply.started": "2022-12-11T15:26:43.941465Z",
          "shell.execute_reply": "2022-12-11T15:26:44.210208Z"
        },
        "trusted": true,
        "id": "xxVeVEIF1DJo",
        "outputId": "a719dddc-4094-4e8b-837e-9212db0a9dd3"
      },
      "execution_count": null,
      "outputs": [
        {
          "output_type": "display_data",
          "data": {
            "text/plain": "<Figure size 432x288 with 1 Axes>",
            "image/png": "[encoded data removed]"
          },
          "metadata": {
            "needs_background": "light"
          }
        }
      ]
    },
    {
      "cell_type": "markdown",
      "source": [
        "#### Вывод: \n",
        "По полученным графикам можно сделать вывод о там, как распределены элементы выборки - начиная с первого интервала(промежутка), количество членов на промежутке уменьшается"
      ],
      "metadata": {
        "id": "WTk-uK-L1DJo"
      }
    },
    {
      "cell_type": "markdown",
      "source": [
        "### Задача 5"
      ],
      "metadata": {
        "id": "ZWBVNowo1DJp"
      }
    },
    {
      "cell_type": "code",
      "source": [
        "s_n = [0]*k\n",
        "s_p = [0]*k\n",
        "s_h_1 = 0\n",
        "s_h_2 = 0\n",
        "helper = [0]* k\n",
        "\n",
        "for i in range(0,k):\n",
        "    s_h_1 = s_h_1 + ch_abs[i]\n",
        "    s_h_2 = s_h_2 + ch_otn[i]\n",
        "    \n",
        "    s_n[i]= round(s_h_1,4)\n",
        "    s_p[i]= round(s_h_2,4)\n",
        "    helper[i] = i+1\n",
        "\n",
        "table = PrettyTable()\n",
        "table.add_column('i',helper)\n",
        "table.add_column('Интервал',bins_1)\n",
        "table.add_column('x среднее',mean_1)\n",
        "table.add_column('ni',ch_abs)\n",
        "table.add_column('pi',ch_otn)\n",
        "\n",
        "table.add_column('Sn',s_n)\n",
        "table.add_column('Sp',s_p)\n",
        "table.add_row(['','СУММА:','',round(sum(ch_abs),4),round(sum(ch_otn),4),'-','-'])\n",
        "\n",
        "print(table)"
      ],
      "metadata": {
        "execution": {
          "iopub.status.busy": "2022-12-11T15:26:44.215795Z",
          "iopub.execute_input": "2022-12-11T15:26:44.216452Z",
          "iopub.status.idle": "2022-12-11T15:26:44.231475Z",
          "shell.execute_reply.started": "2022-12-11T15:26:44.216408Z",
          "shell.execute_reply": "2022-12-11T15:26:44.229085Z"
        },
        "trusted": true,
        "id": "oRWDBgBu1DJp",
        "outputId": "75026464-4b90-47d0-f898-1729716e22ab"
      },
      "execution_count": null,
      "outputs": [
        {
          "name": "stdout",
          "text": "+---+-----------------------+--------------------+-----+--------+-----+--------+\n| i |        Интервал       |     x среднее      |  ni |   pi   |  Sn |   Sp   |\n+---+-----------------------+--------------------+-----+--------+-----+--------+\n| 1 |   [501.4, 738.7625]   |    620.0812495     |  48 | 0.4571 |  48 | 0.4571 |\n| 2 |  [738.7625, 976.125]  |     857.44375      |  34 | 0.3238 |  82 | 0.7809 |\n| 3 |  [976.125, 1213.4875] |     1094.80625     |  14 | 0.1333 |  96 | 0.9142 |\n| 4 |  [1213.4875, 1450.85] |     1332.16875     |  5  | 0.0476 | 101 | 0.9618 |\n| 5 |  [1450.85, 1688.2125] |     1569.53125     |  1  | 0.0095 | 102 | 0.9713 |\n| 6 | [1688.2125, 1925.575] | 1806.8937500000002 |  2  | 0.019  | 104 | 0.9903 |\n| 7 | [1925.575, 2162.9375] | 2044.2562500000001 |  0  |  0.0   | 104 | 0.9903 |\n| 8 |  [2162.9375, 2400.3]  |     2281.61875     |  1  | 0.0095 | 105 | 0.9998 |\n|   |         СУММА:        |                    | 105 | 0.9998 |  -  |   -    |\n+---+-----------------------+--------------------+-----+--------+-----+--------+\n",
          "output_type": "stream"
        }
      ]
    },
    {
      "cell_type": "markdown",
      "source": [
        "### Задача 6"
      ],
      "metadata": {
        "id": "DGGK825Y1DJp"
      }
    },
    {
      "cell_type": "code",
      "source": [
        "table = PrettyTable()\n",
        "table.add_column('i',helper)\n",
        "table.add_column('x',mean_1)\n",
        "table.add_column('ni',ch_abs)\n",
        "\n",
        "u=[0]*k\n",
        "max_ni = 0\n",
        "max_ni_id = 0\n",
        "for i in range(0,k):\n",
        "    if (ch_abs[i]>max_ni):\n",
        "        max_ni = ch_abs[i]\n",
        "        max_ni_id = i\n",
        "for i in range(0,k):\n",
        "    u[i] = - (max_ni_id - i)\n",
        "table.add_column('ui',u)\n",
        "\n",
        "\n",
        "ui_ = [[0] * k for i in range(4)]\n",
        "ui_5 = [0]*k\n",
        "for i in range(k):\n",
        "    for j in range(0,4):\n",
        "        ui_[j][i] = ch_abs[i]*u[i]**(j+1)\n",
        "    ui_5[i] = ch_abs[i]*((u[i]+1)**4)\n",
        "for i in range(0,4):\n",
        "    table.add_column(f'ni*ui^{i+1}',ui_[i])\n",
        "table.add_column(f'ni*ui+1^4',ui_5)\n",
        "\n",
        "\n",
        "sum_ui = [0]*4\n",
        "for i in range(0,4):\n",
        "    sum_ui[i] = sum(ui_[i])\n",
        "\n",
        "table.add_row(['','СУММА:',sum(ch_abs),'-',sum_ui[0],sum_ui[1],sum_ui[2],sum_ui[3],sum(ui_5)])\n",
        "\n",
        "check= sum(ch_abs)+4*sum(ui_[0])+6*sum(ui_[1])+4*sum(ui_[2])+sum(ui_[3])\n",
        "\n",
        "print(table)\n",
        "print('Проверка:', check)"
      ],
      "metadata": {
        "execution": {
          "iopub.status.busy": "2022-12-11T15:26:44.234394Z",
          "iopub.execute_input": "2022-12-11T15:26:44.234920Z",
          "iopub.status.idle": "2022-12-11T15:26:44.256208Z",
          "shell.execute_reply.started": "2022-12-11T15:26:44.234889Z",
          "shell.execute_reply": "2022-12-11T15:26:44.254121Z"
        },
        "trusted": true,
        "id": "xH8LDEg_1DJq",
        "outputId": "2314b751-a97d-49a1-88da-08a372ab023d"
      },
      "execution_count": null,
      "outputs": [
        {
          "name": "stdout",
          "text": "+---+--------------------+-----+----+---------+---------+---------+---------+-----------+\n| i |         x          |  ni | ui | ni*ui^1 | ni*ui^2 | ni*ui^3 | ni*ui^4 | ni*ui+1^4 |\n+---+--------------------+-----+----+---------+---------+---------+---------+-----------+\n| 1 |    620.0812495     |  48 | 0  |    0    |    0    |    0    |    0    |     48    |\n| 2 |     857.44375      |  34 | 1  |    34   |    34   |    34   |    34   |    544    |\n| 3 |     1094.80625     |  14 | 2  |    28   |    56   |   112   |   224   |    1134   |\n| 4 |     1332.16875     |  5  | 3  |    15   |    45   |   135   |   405   |    1280   |\n| 5 |     1569.53125     |  1  | 4  |    4    |    16   |    64   |   256   |    625    |\n| 6 | 1806.8937500000002 |  2  | 5  |    10   |    50   |   250   |   1250  |    2592   |\n| 7 | 2044.2562500000001 |  0  | 6  |    0    |    0    |    0    |    0    |     0     |\n| 8 |     2281.61875     |  1  | 7  |    7    |    49   |   343   |   2401  |    4096   |\n|   |       СУММА:       | 105 | -  |    98   |   250   |   938   |   4570  |   10319   |\n+---+--------------------+-----+----+---------+---------+---------+---------+-----------+\nПроверка: 10319\n",
          "output_type": "stream"
        }
      ]
    },
    {
      "cell_type": "markdown",
      "source": [
        "### Задача 7"
      ],
      "metadata": {
        "id": "__8esduo1DJq"
      }
    },
    {
      "cell_type": "code",
      "source": [
        "table = PrettyTable()\n",
        "helper_1 = [0]*4\n",
        "for i in range(0,4):\n",
        "    helper_1[i] = i+1\n",
        "\n",
        "table.add_column('i',helper_1)\n",
        "\n",
        "\n",
        "V = [0]*4\n",
        "for i in range(0,4):\n",
        "    V[i] = round(sum_ui[i]/n,4)\n",
        "print(V)\n",
        "table.add_column('условный эмпирический момент',V)\n",
        "\n",
        "\n",
        "\n",
        "My = [0]*4\n",
        "My[0] = 0\n",
        "My[1] = round((V[1]-(V[0])**2)*h**2,4)\n",
        "My[2] = round((V[2]-(3*V[1]*V[0])+2*(V[0]**3))*h**3,4)\n",
        "My[3] = round((V[3]-(4*V[2]*V[0])+(6*V[1]*(V[0])**2)-(3*(V[0])**4))*h**4,4)\n",
        "\n",
        "\n",
        "table.add_column('центральные эмпирические моменты',My)\n",
        "print(table)"
      ],
      "metadata": {
        "execution": {
          "iopub.status.busy": "2022-12-11T15:26:44.258809Z",
          "iopub.execute_input": "2022-12-11T15:26:44.260513Z",
          "iopub.status.idle": "2022-12-11T15:26:44.284643Z",
          "shell.execute_reply.started": "2022-12-11T15:26:44.260468Z",
          "shell.execute_reply": "2022-12-11T15:26:44.277069Z"
        },
        "trusted": true,
        "id": "WV1CB23P1DJq",
        "outputId": "d27fa465-ef6b-4346-f308-9393313b8af6"
      },
      "execution_count": null,
      "outputs": [
        {
          "name": "stdout",
          "text": "[0.9333, 2.381, 8.9333, 43.5238]\n+---+------------------------------+----------------------------------+\n| i | условный эмпирический момент | центральные эмпирические моменты |\n+---+------------------------------+----------------------------------+\n| 1 |            0.9333            |                0                 |\n| 2 |            2.381             |            85072.0897            |\n| 3 |            8.9333            |          52057143.7515           |\n| 4 |           43.5238            |         64570505829.5585         |\n+---+------------------------------+----------------------------------+\n",
          "output_type": "stream"
        }
      ]
    },
    {
      "cell_type": "markdown",
      "source": [
        "### Задача 8"
      ],
      "metadata": {
        "id": "g8yUTiF51DJr"
      }
    },
    {
      "cell_type": "code",
      "source": [
        "X_mid=0\n",
        "Disp=0\n",
        "c=0\n",
        "\n",
        "for i in range(k):\n",
        "    X_mid=X_mid+(ch_abs[i]*mean_1[i]/n)\n",
        "for i in range(k):\n",
        "    Disp=Disp+(ch_abs[i]*(mean_1[i]-X_mid)**2/n)\n",
        "\n",
        "if (mean_1[max_ni_id] > mean_1[max_ni_id+1]):\n",
        "    c = mean_1[max_ni_id+1]\n",
        "else:    \n",
        "    c = mean_1[max_ni_id]\n",
        "\n",
        "\n",
        "X_mid_u=(h*V[0])+c\n",
        "Disp_u=My[1]\n",
        "\n",
        "print('Вычисления с помощью условных вариант:\\n',f\"выборочное среднее: {round(X_mid_u,4)}\\tдисперсия: {round(Disp_u,4)}\\n\")\n",
        "print('Вычисленния по стандартным формулам:\\n',f\"выборочное среднее: {round(X_mid,4)}\\tдисперсия: {round(Disp,4)}\\n\")\n"
      ],
      "metadata": {
        "execution": {
          "iopub.status.busy": "2022-12-11T15:26:44.290960Z",
          "iopub.execute_input": "2022-12-11T15:26:44.291392Z",
          "iopub.status.idle": "2022-12-11T15:26:44.319671Z",
          "shell.execute_reply.started": "2022-12-11T15:26:44.291358Z",
          "shell.execute_reply": "2022-12-11T15:26:44.316962Z"
        },
        "trusted": true,
        "id": "Hy2s6M611DJs",
        "outputId": "bc22f2f1-499a-479d-9bd9-92c2b99bedb0"
      },
      "execution_count": null,
      "outputs": [
        {
          "name": "stdout",
          "text": "Вычисления с помощью условных вариант:\n выборочное среднее: 841.6117\tдисперсия: 85072.0897\n\nВычисленния по стандартным формулам:\n выборочное среднее: 841.6196\tдисперсия: 85065.9013\n\n",
          "output_type": "stream"
        }
      ]
    },
    {
      "cell_type": "markdown",
      "source": [
        "#### Вывод: \n",
        "Значения вычесленных с помощью условных вариант выборочного среднего и дисперсии совпадают с вычисленными по стандартным формулам выборочным средним и дисперсией с незначительной разницей\n"
      ],
      "metadata": {
        "id": "ScFuqdGM1DJs"
      }
    },
    {
      "cell_type": "markdown",
      "source": [
        "### Задача 9"
      ],
      "metadata": {
        "id": "Qe0o4vTq1DJs"
      }
    },
    {
      "cell_type": "code",
      "source": [
        "Disp_fix = (n/(n-1))*Disp\n",
        "sko_fix = np.sqrt(Disp_fix)\n",
        "\n",
        "sko = np.sqrt(Disp)\n",
        "print(f\"смещённые оценки дисперсии:\\t\\t{round(Disp,4)}\\nско:\\t\\t\\t\\t\\t{round(sko,4)}\")\n",
        "print(f\"исправленная выборочная дисперсия:\\t{round(Disp_fix,4)}\\nисправленное ско:\\t\\t\\t{round(sko_fix,4)}\\n\")"
      ],
      "metadata": {
        "execution": {
          "iopub.status.busy": "2022-12-11T15:26:44.320962Z",
          "iopub.execute_input": "2022-12-11T15:26:44.321345Z",
          "iopub.status.idle": "2022-12-11T15:26:44.348383Z",
          "shell.execute_reply.started": "2022-12-11T15:26:44.321306Z",
          "shell.execute_reply": "2022-12-11T15:26:44.347408Z"
        },
        "trusted": true,
        "id": "pWGp4jyR1DJt",
        "outputId": "321bf785-5a4b-4412-84de-1a76ac4c9ff8"
      },
      "execution_count": null,
      "outputs": [
        {
          "name": "stdout",
          "text": "смещённые оценки дисперсии:\t\t85065.9013\nско:\t\t\t\t\t291.6606\nисправленная выборочная дисперсия:\t85883.8426\nисправленное ско:\t\t\t293.0595\n\n",
          "output_type": "stream"
        }
      ]
    },
    {
      "cell_type": "markdown",
      "source": [
        "#### Вывод: \n",
        "Разница исправленной выборочной дисперсии и исправленного ско со смещёнными оценками дисперсии и ско незначительно мала"
      ],
      "metadata": {
        "id": "sFkW9ni31DJu"
      }
    },
    {
      "cell_type": "markdown",
      "source": [
        "### Задача 10"
      ],
      "metadata": {
        "id": "XgeNpSQ21DJu"
      }
    },
    {
      "cell_type": "code",
      "source": [
        "cof_A=My[2]/sko**3\n",
        "cof_E=My[3]/sko**4-3\n",
        "\n",
        "print(\"коэффициент асимметрии:\",\"\\t\",round(cof_A,4))\n",
        "print(\"коэффициент эксцесса:\",\"\\t\\t\",round(cof_E,4))"
      ],
      "metadata": {
        "execution": {
          "iopub.status.busy": "2022-12-11T15:26:44.349314Z",
          "iopub.execute_input": "2022-12-11T15:26:44.349575Z",
          "iopub.status.idle": "2022-12-11T15:26:44.362597Z",
          "shell.execute_reply.started": "2022-12-11T15:26:44.349551Z",
          "shell.execute_reply": "2022-12-11T15:26:44.361137Z"
        },
        "trusted": true,
        "id": "yOu0nqlP1DJv",
        "outputId": "018233f1-5b9b-420f-db10-a493f764ee97"
      },
      "execution_count": null,
      "outputs": [
        {
          "name": "stdout",
          "text": "коэффициент асимметрии: \t 2.0982\nкоэффициент эксцесса: \t\t 5.9233\n",
          "output_type": "stream"
        }
      ]
    },
    {
      "cell_type": "markdown",
      "source": [
        "#### Вывод:\n",
        "Полученные коэффициенты асимметрии и эксцесса положительные => вершина распределения располагается ближе к оси ординат, а так же является остроконечной."
      ],
      "metadata": {
        "id": "oZsXx2wZ1DJw"
      }
    },
    {
      "cell_type": "markdown",
      "source": [
        "### Задача 11"
      ],
      "metadata": {
        "id": "dxpGEfax1DJw"
      }
    },
    {
      "cell_type": "code",
      "source": [
        "mode=mean_1[max_ni_id]+h*((ch_abs[max_ni_id]-ch_abs[max_ni_id-1])/((ch_abs[max_ni_id]-ch_abs[max_ni_id-1])+(ch_abs[max_ni_id]-ch_abs[max_ni_id+1])))\n",
        "print(\"мода:\\t\\t\\t\", round(mode,4))\n",
        "med=mean_1[max_ni_id]+h*(0.5-s_p[max_ni_id-1])/(ch_otn[max_ni_id])\n",
        "print(\"медиана:\\t\\t\", round(med,4))\n",
        "k_V=sko/X_mid*100\n",
        "print(\"коэффициент вариации:\\t\", round(k_V,4))"
      ],
      "metadata": {
        "execution": {
          "iopub.status.busy": "2022-12-11T15:26:44.364991Z",
          "iopub.execute_input": "2022-12-11T15:26:44.366006Z",
          "iopub.status.idle": "2022-12-11T15:26:44.380395Z",
          "shell.execute_reply.started": "2022-12-11T15:26:44.365939Z",
          "shell.execute_reply": "2022-12-11T15:26:44.378735Z"
        },
        "trusted": true,
        "id": "4IK7tQtK1DJx",
        "outputId": "29a19301-583a-4d45-e83d-277477e6cae1"
      },
      "execution_count": null,
      "outputs": [
        {
          "name": "stdout",
          "text": "мода:\t\t\t 802.9671\nмедиана:\t\t 360.5455\nкоэффициент вариации:\t 34.6547\n",
          "output_type": "stream"
        }
      ]
    },
    {
      "cell_type": "markdown",
      "source": [
        "#### Вывод\n",
        "В связи с отсутствием повторяющихся значений в выборке - мода и медиана не совпадают. Коэффициент вариации говорит о недостаточной однородности совокупности."
      ],
      "metadata": {
        "id": "J7h3tE1J1DJx"
      }
    },
    {
      "cell_type": "markdown",
      "source": [
        "### Задача 12"
      ],
      "metadata": {
        "id": "PUgO168N1DJx"
      }
    },
    {
      "cell_type": "code",
      "source": [
        "acc95 = 2.00*sko_fix/np.sqrt(n)\n",
        "acc99 = 2.60*sko_fix/np.sqrt(n)\n",
        "print(\"точность для 0.95:\\t\", round(acc95,5))\n",
        "print(\"точность для 0.99:\\t\", round(acc99,5))\n",
        "print(f\"интервальный ряд для 0.95:\\t({round(X_mid-acc95,5)} ; {round(X_mid+acc95,5)})\")\n",
        "print(f\"интервальный ряд для 0.99:\\t({round(X_mid-acc99,5)} ; {round(X_mid+acc99,5)})\")"
      ],
      "metadata": {
        "execution": {
          "iopub.status.busy": "2022-12-11T15:26:44.381971Z",
          "iopub.execute_input": "2022-12-11T15:26:44.382373Z",
          "iopub.status.idle": "2022-12-11T15:26:44.394350Z",
          "shell.execute_reply.started": "2022-12-11T15:26:44.382339Z",
          "shell.execute_reply": "2022-12-11T15:26:44.393255Z"
        },
        "trusted": true,
        "id": "kEqHOLCc1DJx",
        "outputId": "035fbf02-2470-4508-d722-99ddb79ca18f"
      },
      "execution_count": null,
      "outputs": [
        {
          "name": "stdout",
          "text": "точность для 0.95:\t 57.19935\nточность для 0.99:\t 74.35915\nинтервальный ряд для 0.95:\t(784.42023 ; 898.81893)\nинтервальный ряд для 0.99:\t(767.26043 ; 915.97874)\n",
          "output_type": "stream"
        }
      ]
    },
    {
      "cell_type": "markdown",
      "source": [
        "#### Вывод:\n",
        "В полученные интервалы попадает выборочное среднее значение выборки."
      ],
      "metadata": {
        "id": "T2MbeNUM1DJy"
      }
    },
    {
      "cell_type": "markdown",
      "source": [
        "### Задача 13"
      ],
      "metadata": {
        "id": "knPSmygS1DJy"
      }
    },
    {
      "cell_type": "code",
      "source": [
        "q1=np.sqrt((n-1)/82.357)-1\n",
        "q2=np.sqrt((n-1)/74.265)-1\n",
        "\n",
        "print(\"q для 0.95:\\t\",round(q1,5))\n",
        "print(\"q для 0.99:\\t\",round(q2,5))\n",
        "\n",
        "print(f\"\\nдоверительный интервал для 0.95:\\t({round(sko_fix*(1-q1),5)} ; {round(sko_fix*(1+q1),5)})\")\n",
        "print(f\"доверительный интервал для 0.99:\\t({round(sko_fix*(1-q2),5)} ; {round(sko_fix*(1+q2),5)})\")"
      ],
      "metadata": {
        "execution": {
          "iopub.status.busy": "2022-12-11T15:26:44.396168Z",
          "iopub.execute_input": "2022-12-11T15:26:44.396615Z",
          "iopub.status.idle": "2022-12-11T15:26:44.409937Z",
          "shell.execute_reply.started": "2022-12-11T15:26:44.396581Z",
          "shell.execute_reply": "2022-12-11T15:26:44.408064Z"
        },
        "trusted": true,
        "id": "EwytDxXy1DJy",
        "outputId": "55a9ef80-5e20-4c1f-8ca4-014aa16bdb13"
      },
      "execution_count": null,
      "outputs": [
        {
          "name": "stdout",
          "text": "q для 0.95:\t 0.12374\nq для 0.99:\t 0.18338\n\nдоверительный интервал для 0.95:\t(256.79584 ; 329.32306)\nдоверительный интервал для 0.99:\t(239.31793 ; 346.80098)\n",
          "output_type": "stream"
        }
      ]
    },
    {
      "cell_type": "markdown",
      "source": [
        "#### Вывод:\n",
        "ско:\n",
        "\n",
        "\n",
        "291.6606 $\\in$ 0.95:(256.79584 ; 329.32306)  \n",
        "\n",
        "\n",
        "291.6606 $\\in$ 0.99: (239.31793 ; 346.80098)\n",
        "     \n",
        "     \n",
        "Исправленное ско: \n",
        "\n",
        "\n",
        "293.0595 $\\in$ 0.95:(256.79584 ; 329.32306)\n",
        "\n",
        "\n",
        "293.0595 $\\in$ 0.99: (239.31793 ; 346.80098)\n",
        "\n",
        "\n",
        "Видим, что исправленное и смещённое CКО попадают в оба доверительных интервала $\\Rightarrow$ Значит вычисления сделаны верно."
      ],
      "metadata": {
        "id": "Sgx0rKm-1DJz"
      }
    },
    {
      "cell_type": "markdown",
      "source": [
        "### Задача 14"
      ],
      "metadata": {
        "id": "K7tSirsf1DJz"
      }
    },
    {
      "cell_type": "code",
      "source": [
        "bins_1[0][0] = -math.inf\n",
        "bins_1[k-1][1] = math.inf\n",
        "P = [0.3700875, 0.3143963, 0.2173671, 0.0804628, 0.0159134, 0.0016764, 9.37e-05, 2.8e-06]\n",
        "\n",
        "ni = [[0] * k for i in range(5)]\n",
        "\n",
        "for i in range(k):\n",
        "    ni[0][i]= round(n*P[i],4)\n",
        "    ni[1][i]= round((ch_abs[i]-n*P[i])**2,4)\n",
        "    ni[2][i]= round(((ch_abs[i]-n*P[i])**2)/(n*P[i]),4)\n",
        "    ni[4][i]= round(ch_abs[i]**2/(n*P[i]),4)\n",
        "ni[3] = ch_abs**2\n",
        "\n",
        "table = PrettyTable()\n",
        "table.add_column('i',helper)\n",
        "table.add_column('Интервал',bins_1)\n",
        "table.add_column('ni',ch_abs)\n",
        "table.add_column('Pi',P)\n",
        "\n",
        "Column_name =[\"n'i\",\"(ni-ni')^2\",\"((ni-ni')^2)/ni'\",\"ni^2\",\"ni^2/ni'\"]\n",
        "\n",
        "for i in range(5):\n",
        "    table.add_column(Column_name[i],ni[i])\n",
        "\n",
        "X_check = 11.07\n",
        "\n",
        "print('X наблюдаемое = ',sum(ni[2]),'\\nX критическое = ', X_check)\n",
        "\n",
        "    \n",
        "table.add_row(['','СУММА:',sum(ch_abs),round(sum(P),7),round(sum(ni[0])),'-',round(sum(ni[2]),4),'-',sum(ni[4])])\n",
        "print(table)"
      ],
      "metadata": {
        "execution": {
          "iopub.status.busy": "2022-12-11T15:26:44.411837Z",
          "iopub.execute_input": "2022-12-11T15:26:44.412324Z",
          "iopub.status.idle": "2022-12-11T15:26:44.432423Z",
          "shell.execute_reply.started": "2022-12-11T15:26:44.412232Z",
          "shell.execute_reply": "2022-12-11T15:26:44.431313Z"
        },
        "trusted": true,
        "id": "VFdu8ReF1DJz",
        "outputId": "8bf53d47-4bd1-4f0f-add0-12bf24b46e64"
      },
      "execution_count": null,
      "outputs": [
        {
          "name": "stdout",
          "text": "X наблюдаемое =  3425.5391999999997 \nX критическое =  11.07\n+---+-----------------------+-----+-----------+---------+------------+------------------+------+-----------+\n| i |        Интервал       |  ni |     Pi    |   n'i   | (ni-ni')^2 | ((ni-ni')^2)/ni' | ni^2 |  ni^2/ni' |\n+---+-----------------------+-----+-----------+---------+------------+------------------+------+-----------+\n| 1 |    [-inf, 738.7625]   |  48 | 0.3700875 | 38.8592 |  83.5545   |      2.1502      | 2304 |   59.291  |\n| 2 |  [738.7625, 976.125]  |  34 | 0.3143963 | 33.0116 |   0.9769   |      0.0296      | 1156 |   35.018  |\n| 3 |  [976.125, 1213.4875] |  14 | 0.2173671 | 22.8235 |   77.855   |      3.4112      | 196  |   8.5876  |\n| 4 |  [1213.4875, 1450.85] |  5  | 0.0804628 |  8.4486 |  11.8928   |      1.4077      |  25  |   2.9591  |\n| 5 |  [1450.85, 1688.2125] |  1  | 0.0159134 |  1.6709 |   0.4501   |      0.2694      |  1   |   0.5985  |\n| 6 | [1688.2125, 1925.575] |  2  | 0.0016764 |  0.176  |   3.3269   |     18.9005      |  4   |  22.7244  |\n| 7 | [1925.575, 2162.9375] |  0  |  9.37e-05 |  0.0098 |   0.0001   |      0.0098      |  0   |    0.0    |\n| 8 |    [2162.9375, inf]   |  1  |  2.8e-06  |  0.0003 |   0.9994   |    3399.3608     |  1   | 3401.3605 |\n|   |         СУММА:        | 105 |    1.0    |   105   |     -      |    3425.5392     |  -   | 3530.5391 |\n+---+-----------------------+-----+-----------+---------+------------+------------------+------+-----------+\n",
          "output_type": "stream"
        }
      ]
    },
    {
      "cell_type": "markdown",
      "source": [
        "#### Вывод:\n",
        "Отвергаем гипотезу, так как условие $X_{nabl}^{2} < X_{krit}^{2}$ не соблюдается. (3425.5 > 11.07) "
      ],
      "metadata": {
        "id": "E_MHTNS31DJ0"
      }
    },
    {
      "cell_type": "markdown",
      "source": [
        "### Выводы\n",
        "В данной работе было осуществилено формирование репрезентативной выборки объема 105.\n",
        "Осуществлено последовательное преобразование полученной выборки в ранжированный, вариационный и интервальный ряды.\n",
        "По интервальному ряду построенны и отображены графически полигон, гистограмма и эмпирическуая функция распределения для абсолютных и относительных частот.\n",
        "Вычисленны с использованием метода моментов и условных вариант точечные статистические оценки математического ожидания, дисперсии, среднеквадратичного отклонения, асимметрии, эксцесса, моды, медианы и коэффициента вариации исследуемой случайной величины.\n",
        "Определены границы доверительных интервалов для математического ожидания и среднеквадратичного отклонения случайной величины. \n",
        "Была проверена гипотеза о нормальном распределении исследуемой случайной величины с помощью критерия Пирсона $𝜒^{2}$.\n",
        "\n",
        "#### Судя по проведённому анализу присутствуют основания отвергнуть гипотезу."
      ],
      "metadata": {
        "id": "Z3gbprzh1DJ0"
      }
    }
  ]
}