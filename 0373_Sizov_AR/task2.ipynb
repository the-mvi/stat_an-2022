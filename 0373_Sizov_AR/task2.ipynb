{
  "metadata": {
    "kernelspec": {
      "language": "python",
      "display_name": "Python 3",
      "name": "python3"
    },
    "language_info": {
      "name": "python",
      "version": "3.7.12",
      "mimetype": "text/x-python",
      "codemirror_mode": {
        "name": "ipython",
        "version": 3
      },
      "pygments_lexer": "ipython3",
      "nbconvert_exporter": "python",
      "file_extension": ".py"
    },
    "colab": {
      "provenance": []
    }
  },
  "nbformat_minor": 0,
  "nbformat": 4,
  "cells": [
    {
      "cell_type": "markdown",
      "source": [
        " # Практическая работа №2: Корреляционный и регрессионный анализ.\n",
        " Выполнил студент гр. 0373 Сизов Артём. Вариант №20"
      ],
      "metadata": {
        "id": "smlwhKqi4svc"
      }
    },
    {
      "cell_type": "markdown",
      "source": [
        "## Цель работы\n",
        "Освоение основных понятий, связанных с корреляционной зависимостью\n",
        "между случайными величинами, статистическими гипотезами и проверкой их «справедливости». Ознакомление с основными положениями метода наименьших квадратов (МНК), со статистическими свойствами МНК\n",
        "оценок, с понятием функции регрессии и роли МНК в регрессионном анализе, с корреляционным отношением, как мерой тесноты произвольной\n",
        "(в том числе и линейной) корреляционной связи."
      ],
      "metadata": {
        "id": "frlxqakw43kW"
      }
    },
    {
      "cell_type": "markdown",
      "source": [
        "## Основные теоретические положения\n",
        "__Статистическая зависимость__ - зависимость, при которой изменение одной из величин влечёт изменение распределения другой.\n",
        "\n",
        "__Функциональная зависимость__ - зависимость, когда каждому значению одной переменной соответствует вполне определённое единственное значение другой.\n",
        "\n",
        "__Корреляционная зависимость__ - статистическая зависимость, при которой изменение одной величины приводит к изменению среднего значения другой.\n",
        "\n",
        "__Условное среднее__ - среднее арифметическое тех значений случайной величины X(Y), которые соответствуют значению случайной величины Y=y (X=x): \n",
        "\n",
        "$\\overline{x_{y}}=\\frac{\\sum_{i=1}^{k_{x}}x_{i}n_{x_{i}y}}{\\sum_{i=1}^{k_{x}}n_{x_{i}y}}, \\overline{y_{x}}=\\frac{\\sum_{j=1}^{k_{y}}y_{j}n_{xy_{j}}}{\\sum_{j=1}^{k_{y}}n_{xy_{j}}}$\n",
        "\n",
        "__Межгрупповое среднее:__  \n",
        "\n",
        "$\\overline{xy}=\\frac{1}{n}\\sum_{i=1}^{k_{x}}\\sum_{j=1}^{k_{y}}n_{x_{i}y_{j}}x_{i}y_{j}$\n",
        "\n",
        "__Уравнение регрессии :__ \n",
        "\n",
        "$\\overline{y_{x}}-\\overline{y}=r_{yx}\\frac{\\sigma_{y}}{\\sigma_{x}}(x-\\overline{x})$\n",
        "\n",
        "$ \\overline{x_{y}}-\\overline{x}=r_{xy}\\frac{\\sigma_{x}}{\\sigma_{y}}(y-\\overline{y})$\n",
        "\n",
        "\n",
        "__Коэффициент корреляции:__\n",
        "\n",
        "$r_{B}=\\frac{\\mu_{xy}}{s_{x}s_{y}}$, где $\\mu_{xy}=\\overline{xy}-\\overline{x} \\overline{y}$\n",
        "\n",
        "__Свойства коэффициента корреляции:__\n",
        "\n",
        "1) $|r_{xy}|\\leq{1}$\n",
        "\n",
        "2) Знак $r_{xy}$ означает, увеличивается ли одна переменная по мере увеличения другой или уменьшается ли одна переменная по мере увеличения другой\n",
        "\n",
        "3) $[r_{xy}]=1$\n",
        "\n",
        "4) Величина $r_{xy}$ обоснована только в диапазоне значений x и y в выборке\n",
        "\n",
        "5) $r_{xy}=r_{yx}$\n",
        "\n",
        "6) Корреляция между x и y не обязательно означает соотношение причины и следствия\n",
        "\n",
        "7) $r_{xy}=0$: нет линейной зависимости зависимости у переменных\n",
        "\n",
        "\n",
        "__Через условные варианты:__\n",
        "\n",
        "$r_{B}=\\frac{\\frac{1}{n}\\sum_{i=1}^{k_{u}}\\sum_{j=1}^{k_{v}}n_{uv}u_{i}v_{j}-\\overline{u} \\overline{v}}{\\sigma_{u}\\sigma_{v}}$, где $u_{i}=\\frac{x_{i}-C_{x}}{h_{x}}, v_{j}=\\frac{y_{j}-C_{y}}{h_{y}}$\n",
        "\n",
        "__Выборочное корреляционное отношение Y к X:__ \n",
        "\n",
        "$\\eta_{yx}=\\frac{\\sigma_{megr}}{\\sigma_{ob}}$. Другое обозначение: $\\eta_{yx}=\\frac{\\sigma_{\\overline{y_{x}}}}{\\sigma_{y}}$, где $\\sigma_{\\overline{y_{x}}}=\\sqrt{\\sigma_{mezhgr}^{2}}=\\sqrt{\\frac{(\\sum{n_{x}(\\overline{y_{x}}-\\overline{y})^{2}})}{n}}, \\sigma_{\\overline{y}}=\\sqrt{\\sigma_{obsch}^{2}}=\\sqrt{\\frac{(\\sum{n_{y}(\\overline{y_{x}}-\\overline{y})^{2}})}{n}}$\n",
        "\n",
        "__Свойства корреляционного отношения:__\n",
        "\n",
        "1) $\\eta\\in[0,1] $\n",
        "\n",
        "2) Если $\\eta=0$, то признак Y с признаком X корреляционной зависимостью не связан (и наоборот)\n",
        "\n",
        "3) Если $\\eta=1$, то признак Y связан с признаком X функциональной зависимостью (и наоборот)\n",
        "\n",
        "4) $\\eta\\geq|r_{B}| $\n",
        "\n",
        "5) Если $\\eta=r_{B}$, то имеет место быть точная линейная корреляционная зависимость\n",
        "\n",
        "\n",
        "__Доверительный интервал для оценки выборочного коэффициента корреляции:__\n",
        "\n",
        "$(th(z-\\frac{t}{\\sqrt{n-3}});th(z+\\frac{t}{\\sqrt{n-3}}))$, где t определяется как $\\Phi(t)=\\frac{\\gamma}{2}$\n",
        "\n",
        "__Теорема о разложении дисперсии:__\n",
        "\n",
        "$\\sigma^{2}=(\\delta^{*})^{2}+(\\varepsilon^{*})^{2} $\n",
        "\n",
        "__Дисперсия результативного признака:__\n",
        "\n",
        "$(\\delta_{y}^{*})^{2}=\\frac{1}{n}\\sum_{i=1}^{n}(y_{x_{i}}-\\overline{y})^{2}, (\\delta_{x}^{*})^{2}=\\frac{1}{n}\\sum_{i=1}^{n}(x_{y_{i}}-\\overline{x})^{2} $\n",
        "\n",
        "__Необъяснённая уравнением регрессии дисперсия результативного признака:__\n",
        "\n",
        "$(\\varepsilon_{y}^{*})^{2}=\\frac{1}{n}\\sum_{i=1}^{n}\\varepsilon_{y_{i}}^{2},  (\\varepsilon_{x}^{*})^{2}=\\frac{1}{n}\\sum_{i=1}^{n}\\varepsilon_{x_{i}}^{2}$\n",
        "\n",
        "__Преобразование Фишера:__\n",
        "\n",
        "$z=arth(r_{B}) $ \n",
        "\n",
        "$T_{nabl}=r_{B}\\frac{\\sqrt{n-2}}{\\sqrt{1-r_{B}^{2}}}$\n",
        "\n",
        "$T_{krit}=t(\\alpha,df)$, где $df=n-2$\n",
        "\n",
        "__МНК:__\n",
        "\n",
        "1) основан на минимизации суммы квадратов отклонений некоторых функций от искомых переменных\n",
        "\n",
        "2) Минимизирующая функция: $F(a_{1}\\cdots{a_{m}})=\\sum_{i=1}^{n}(y_{i}-f(x_{i};a_{1}\\cdots{a_{m}})^{2}\\rightarrow{min}$\n",
        "\n",
        "3) Необходимое условие экстремума функции многих переменных - равенство нулю всех частных производных функции F\n",
        "\n",
        "__Теоретический коэффициент детерминации:__ \n",
        "\n",
        "$R_{y}^{2}=\\frac{(\\delta_{y}^{*})^{2}}{\\sigma_{y}^{2}}, R_{x}^{2}=\\frac{(\\delta_{x}^{*})^{2}}{\\sigma_{x}^{2}} $\n",
        "\n",
        "__Средняя квадратичная ошибка уравнения регрессии:__\n",
        "\n",
        "$S_{\\varepsilon_{y}}=\\sqrt{\\frac{1}{n-l}\\sum_{i=1}^{n}\\varepsilon_{y_{i}}^{2}}, S_{\\varepsilon_{x}}=\\sqrt{\\frac{1}{n-l}\\sum_{i=1}^{n}\\varepsilon_{x_{i}}^{2}}$, где l - количество параметров в модели регрессии\n",
        "\n",
        "__Средняя ошибка аппроксимации:__\n",
        "\n",
        "$A_{y}=\\frac{1}{n}\\sum_{i=1}^{n}|\\frac{\\varepsilon_{y_{i}}}{y_{i}}|, A_{x}=\\frac{1}{n}\\sum_{i=1}^{n}|\\frac{\\varepsilon_{x_{i}}}{x_{i}}|$"
      ],
      "metadata": {
        "id": "Dpbf1HMl4rmB"
      }
    },
    {
      "cell_type": "code",
      "source": [
        "import pandas as pd\n",
        "import numpy as np\n",
        "import math\n",
        "import matplotlib.pyplot as plt\n",
        "\n",
        "from prettytable import PrettyTable\n",
        "\n",
        "columns = ['Data_1','Data_2']\n",
        "df = pd.read_csv('../input/steam-ds/convertcsv (4).csv', header = None, names = columns)\n",
        "df['Data_1']=df['Data_1'].str.replace(',','')\n",
        "df['Data_2']=df['Data_2'].str.replace(',','')\n",
        "df['Data_1']=df['Data_1'].astype('float64')\n",
        "df['Data_2']=df['Data_2'].astype('float64')\n",
        "print(df)"
      ],
      "metadata": {
        "_uuid": "8f2839f25d086af736a60e9eeb907d3b93b6e0e5",
        "_cell_guid": "b1076dfc-b9ad-4769-8c92-a6c4dae69d19",
        "execution": {
          "iopub.status.busy": "2022-11-27T19:52:43.792506Z",
          "iopub.status.idle": "2022-11-27T19:52:43.793690Z",
          "shell.execute_reply.started": "2022-11-27T19:52:43.793461Z",
          "shell.execute_reply": "2022-11-27T19:52:43.793485Z"
        },
        "trusted": true,
        "id": "zaCGPin_4rmM"
      },
      "execution_count": null,
      "outputs": []
    },
    {
      "cell_type": "code",
      "source": [
        "def get_Rnkh(Data):\n",
        "    \n",
        "    Rnkh = {}\n",
        "    Rnkh['R'] = Data.max() - Data.min()                #R\n",
        "    Rnkh['n'] = len(Data)                              #n\n",
        "    Rnkh['k'] = math.ceil(1 + math.log2(Rnkh['n']))    #k\n",
        "    Rnkh['h'] = Rnkh['R']/Rnkh['k']                    #h\n",
        "    return Rnkh\n",
        "\n",
        "Rnkh_1 = get_Rnkh(df['Data_1'])\n",
        "Rnkh_2 = get_Rnkh(df['Data_2'])\n",
        "\n",
        "# ---------------------------#\n",
        "print('Data_1:\\t\\tData_2:\\n')\n",
        "print('min = ',df['Data_1'].min(),'\\tmin = ',df['Data_2'].min(),'\\nmax =', df['Data_1'].max(),'\\tmax =', df['Data_2'].max(),'\\n','-'*30, )\n",
        "print('R =', Rnkh_1['R'],'\\tR =', Rnkh_2['R'],'\\n','-'*30)\n",
        "print('n =', Rnkh_1['n'],'\\tn =', Rnkh_2['n'],'\\n','-'*30)\n",
        "print('k =',Rnkh_1['k'],'\\t\\tk =',Rnkh_2['k'],'\\n','-'*30)\n",
        "print('h =', Rnkh_1['h'],'\\th =', Rnkh_2['h'])"
      ],
      "metadata": {
        "execution": {
          "iopub.status.busy": "2022-11-27T19:52:43.795064Z",
          "iopub.status.idle": "2022-11-27T19:52:43.795487Z",
          "shell.execute_reply.started": "2022-11-27T19:52:43.795286Z",
          "shell.execute_reply": "2022-11-27T19:52:43.795305Z"
        },
        "trusted": true,
        "id": "zEw_EXIW4rmP"
      },
      "execution_count": null,
      "outputs": []
    },
    {
      "cell_type": "code",
      "source": [
        "def get_bins(Data, Rnkh):\n",
        "    x0 = Data.min()\n",
        "    bins = [[x0,x0+Rnkh['h']]]*Rnkh['k']\n",
        "    x0=x0+Rnkh['h']\n",
        "    for i in range(1,Rnkh['k']):\n",
        "        bins[i] = [round(x0,4),round(x0+Rnkh['h'],4)]\n",
        "        x0=x0+Rnkh['h']\n",
        "    return bins\n",
        "bins_1 = get_bins(df['Data_1'],Rnkh_1)\n",
        "bins_2 = get_bins(df['Data_2'],Rnkh_2)\n",
        "\n",
        "print('Data_1:\\n')\n",
        "for i in bins_1:\n",
        "    print(i)\n",
        "print('\\n\\nData_2:\\n')\n",
        "for i in bins_2:\n",
        "    print(i)\n",
        "    \n",
        "print('\\nИспользуем интервальную функцию из библиотеки numpy для проверки интервалов:\\n')\n",
        "bins_h_1 = np.linspace(df['Data_1'].min(), df['Data_1'].max(),Rnkh_1['k']+1)\n",
        "bins_h_2 = np.linspace(df['Data_2'].min(), df['Data_2'].max(),Rnkh_2['k']+1)\n",
        "\n",
        "print('Data_1:\\n')\n",
        "for i in range(0,len(bins_h_1)):\n",
        "    print(round(bins_h_1[i],4))\n",
        "print('\\n\\nData_2:\\n')\n",
        "for i in range(0,len(bins_h_2)):\n",
        "    print(round(bins_h_2[i],4))"
      ],
      "metadata": {
        "execution": {
          "iopub.status.busy": "2022-11-27T19:52:43.796714Z",
          "iopub.status.idle": "2022-11-27T19:52:43.797576Z",
          "shell.execute_reply.started": "2022-11-27T19:52:43.797357Z",
          "shell.execute_reply": "2022-11-27T19:52:43.797384Z"
        },
        "trusted": true,
        "id": "MO23CnwK4rmQ"
      },
      "execution_count": null,
      "outputs": []
    },
    {
      "cell_type": "code",
      "source": [
        "def get_mean(bins_h):\n",
        "    mean = [0]*(len(bins_h)-1)\n",
        "    for i in range(0,len(bins_h)-1):\n",
        "        mean[i] = (bins_h[i] + bins_h[i+1])/2\n",
        "    return mean\n",
        "\n",
        "bins_h_1[0]=bins_h_1[0]-0.000001\n",
        "ch_abs_1 = df['Data_1'].groupby(pd.cut(df['Data_1'], bins=bins_h_1)).count()\n",
        "bins_h_2[0]=bins_h_2[0]-0.000001\n",
        "ch_abs_2 = df['Data_2'].groupby(pd.cut(df['Data_2'], bins=bins_h_2)).count()\n",
        "\n",
        "mean_1 = get_mean(bins_h_1)\n",
        "mean_2 = get_mean(bins_h_2)\n",
        "print(ch_abs_1,'\\n')\n",
        "print(ch_abs_2)\n",
        "\n",
        "ch_otn_1 = round(ch_abs_1/Rnkh_1['n'],4)\n",
        "ch_otn_2 = round(ch_abs_2/Rnkh_2['n'],4)"
      ],
      "metadata": {
        "execution": {
          "iopub.status.busy": "2022-11-27T19:52:43.799598Z",
          "iopub.status.idle": "2022-11-27T19:52:43.800712Z",
          "shell.execute_reply.started": "2022-11-27T19:52:43.800398Z",
          "shell.execute_reply": "2022-11-27T19:52:43.800439Z"
        },
        "trusted": true,
        "id": "Ix4JG7lv4rmR"
      },
      "execution_count": null,
      "outputs": []
    },
    {
      "cell_type": "code",
      "source": [
        "def get_S_p(Rnkh,ch_otn):\n",
        "    s_p = [0]*Rnkh['k']\n",
        "    s_h_2 = 0\n",
        "    \n",
        "    for i in range(0,Rnkh['k']):\n",
        "        s_h_2 = s_h_2 + ch_otn[i]\n",
        "        s_p[i]= round(s_h_2,4)\n",
        "    return s_p\n",
        "\n",
        "def get_S_n(Rnkh,ch_abs):\n",
        "    s_n = [0]*Rnkh['k']\n",
        "    s_h_1 = 0\n",
        "    for i in range(0,Rnkh['k']):\n",
        "        s_h_1 = s_h_1 + ch_abs[i]\n",
        "        s_n[i]= round(s_h_1,4)\n",
        "    return s_n\n",
        "\n",
        "s_p_1 = get_S_p(Rnkh_1,ch_otn_1)    \n",
        "s_p_2 = get_S_p(Rnkh_2,ch_otn_2)\n",
        "\n",
        "s_n_1 = get_S_n(Rnkh_1,ch_abs_1)\n",
        "s_n_2 = get_S_n(Rnkh_2,ch_abs_2)\n",
        "\n",
        "def get_table(Rnkh,bins,mean,ch_abs,ch_otn,s_p,s_n):\n",
        "    helper = [0]*Rnkh['k']\n",
        "    for i in range(0,Rnkh['k']):\n",
        "        helper[i] = i+1\n",
        "    \n",
        "    table = PrettyTable()\n",
        "    table.add_column('i',helper)\n",
        "    table.add_column('Интервал',bins)\n",
        "    table.add_column('x среднее',mean)\n",
        "    table.add_column('ni',ch_abs)\n",
        "    table.add_column('pi',ch_otn)\n",
        "    table.add_column('Sn',s_n)\n",
        "    table.add_column('Sp',s_p)\n",
        "    table.add_row(['','СУММА:','',round(sum(ch_abs),4),round(sum(ch_otn),4),'-','-'])\n",
        "    return table\n",
        "\n",
        "table_1 = get_table(Rnkh_1,bins_1,mean_1,ch_abs_1,ch_otn_1,s_p_1,s_n_1)\n",
        "table_2 = get_table(Rnkh_2,bins_2,mean_2,ch_abs_2,ch_otn_2,s_p_2,s_n_2)\n",
        "print('\\t\\tDATA_1:\\n\\n',table_1,'\\n\\n\\t\\tDATA_2:\\n\\n',table_2,sep='')"
      ],
      "metadata": {
        "execution": {
          "iopub.status.busy": "2022-11-27T19:52:43.808411Z",
          "iopub.execute_input": "2022-11-27T19:52:43.809366Z",
          "iopub.status.idle": "2022-11-27T19:52:43.828663Z",
          "shell.execute_reply.started": "2022-11-27T19:52:43.809312Z",
          "shell.execute_reply": "2022-11-27T19:52:43.827375Z"
        },
        "trusted": true,
        "id": "Da84aQUX4rmS",
        "outputId": "c4e9cec1-618e-4ba9-9db3-742cd1d19b40"
      },
      "execution_count": null,
      "outputs": [
        {
          "name": "stdout",
          "text": "\t\tDATA_1:\n\n+---+-----------------------+--------------------+-----+--------+-----+--------+\n| i |        Интервал       |     x среднее      |  ni |   pi   |  Sn |   Sp   |\n+---+-----------------------+--------------------+-----+--------+-----+--------+\n| 1 |   [501.4, 738.7625]   |    620.0812495     |  48 | 0.4571 |  48 | 0.4571 |\n| 2 |  [738.7625, 976.125]  |     857.44375      |  34 | 0.3238 |  82 | 0.7809 |\n| 3 |  [976.125, 1213.4875] |     1094.80625     |  14 | 0.1333 |  96 | 0.9142 |\n| 4 |  [1213.4875, 1450.85] |     1332.16875     |  5  | 0.0476 | 101 | 0.9618 |\n| 5 |  [1450.85, 1688.2125] |     1569.53125     |  1  | 0.0095 | 102 | 0.9713 |\n| 6 | [1688.2125, 1925.575] | 1806.8937500000002 |  2  | 0.019  | 104 | 0.9903 |\n| 7 | [1925.575, 2162.9375] | 2044.2562500000001 |  0  |  0.0   | 104 | 0.9903 |\n| 8 |  [2162.9375, 2400.3]  |     2281.61875     |  1  | 0.0095 | 105 | 0.9998 |\n|   |         СУММА:        |                    | 105 | 0.9998 |  -  |   -    |\n+---+-----------------------+--------------------+-----+--------+-----+--------+\n\n\t\tDATA_2:\n\n+---+-----------------------+--------------+-----+--------+-----+--------+\n| i |        Интервал       |  x среднее   |  ni |   pi   |  Sn |   Sp   |\n+---+-----------------------+--------------+-----+--------+-----+--------+\n| 1 |   [969.0, 2645.125]   | 1807.0624995 |  91 | 0.8667 |  91 | 0.8667 |\n| 2 |  [2645.125, 4321.25]  |  3483.1875   |  11 | 0.1048 | 102 | 0.9715 |\n| 3 |  [4321.25, 5997.375]  |  5159.3125   |  0  |  0.0   | 102 | 0.9715 |\n| 4 |   [5997.375, 7673.5]  |  6835.4375   |  2  | 0.019  | 104 | 0.9905 |\n| 5 |   [7673.5, 9349.625]  |  8511.5625   |  0  |  0.0   | 104 | 0.9905 |\n| 6 |  [9349.625, 11025.75] |  10187.6875  |  0  |  0.0   | 104 | 0.9905 |\n| 7 | [11025.75, 12701.875] |  11863.8125  |  0  |  0.0   | 104 | 0.9905 |\n| 8 |  [12701.875, 14378.0] |  13539.9375  |  1  | 0.0095 | 105 |  1.0   |\n|   |         СУММА:        |              | 105 |  1.0   |  -  |   -    |\n+---+-----------------------+--------------+-----+--------+-----+--------+\n",
          "output_type": "stream"
        }
      ]
    },
    {
      "cell_type": "code",
      "source": [
        "def get_mid(Rnkh,ch_abs,mean):\n",
        "    mid=0\n",
        "    for i in range(Rnkh['k']):\n",
        "        mid=mid+(ch_abs[i]*mean[i]/Rnkh['n'])\n",
        "    return mid\n",
        "\n",
        "mid_1 = get_mid(Rnkh_1,ch_abs_1,mean_1)\n",
        "mid_2 = get_mid(Rnkh_2,ch_abs_2,mean_2)\n",
        "\n",
        "print(f'Выборочное среднее:\\n Data_1: {round(mid_1,4)}\\tData_2: {round(mid_2,4)}')"
      ],
      "metadata": {
        "execution": {
          "iopub.status.busy": "2022-11-27T19:52:43.854138Z",
          "iopub.execute_input": "2022-11-27T19:52:43.854548Z",
          "iopub.status.idle": "2022-11-27T19:52:43.861508Z",
          "shell.execute_reply.started": "2022-11-27T19:52:43.854515Z",
          "shell.execute_reply": "2022-11-27T19:52:43.860565Z"
        },
        "trusted": true,
        "id": "gPsgK32T4rmU",
        "outputId": "1d5cb392-39b6-4caf-b28a-80bf27fe6b77"
      },
      "execution_count": null,
      "outputs": [
        {
          "name": "stdout",
          "text": "Выборочное среднее:\n Data_1: 841.6196\tData_2: 2190.1768\n",
          "output_type": "stream"
        }
      ]
    },
    {
      "cell_type": "code",
      "source": [
        "def get_disp(Rnkh,ch_abs,mean,mid):\n",
        "    Disp=0\n",
        "    for i in range(Rnkh['k']):\n",
        "        Disp=Disp+(ch_abs[i]*(mean[i]-mid)**2/Rnkh['n'])\n",
        "    return(Disp)\n",
        "Disp_1=get_disp(Rnkh_1,ch_abs_1,mean_1,mid_1)\n",
        "Disp_2=get_disp(Rnkh_2,ch_abs_2,mean_2,mid_2)\n",
        "print(f'Дисперсия:\\n Data_1: {round(Disp_1,4)}\\tData_2: {round(Disp_2,4)}')"
      ],
      "metadata": {
        "execution": {
          "iopub.status.busy": "2022-11-27T19:52:43.898065Z",
          "iopub.execute_input": "2022-11-27T19:52:43.898486Z",
          "iopub.status.idle": "2022-11-27T19:52:43.907404Z",
          "shell.execute_reply.started": "2022-11-27T19:52:43.898449Z",
          "shell.execute_reply": "2022-11-27T19:52:43.906010Z"
        },
        "trusted": true,
        "id": "hg0pQ2X54rmU",
        "outputId": "5bb87ac2-c81f-4dfc-924f-93f9cab7f02e"
      },
      "execution_count": null,
      "outputs": [
        {
          "name": "stdout",
          "text": "Дисперсия:\n Data_1: 85065.9013\tData_2: 1940202.5989\n",
          "output_type": "stream"
        }
      ]
    },
    {
      "cell_type": "code",
      "source": [
        "sko_1 = np.sqrt(Disp_1)\n",
        "Disp_fix_1 = (Rnkh_1['n']/(Rnkh_1['n']-1))*Disp_1\n",
        "sko_fix_1 = np.sqrt(Disp_fix_1)\n",
        "\n",
        "sko_2 = np.sqrt(Disp_2)\n",
        "Disp_fix_2 = (Rnkh_2['n']/(Rnkh_2['n']-1))*Disp_2\n",
        "sko_fix_2 = np.sqrt(Disp_fix_2)\n",
        "\n",
        "print(f\"\\nско:\\t\\t\\t\\t\\t{round(sko_1,4)}\")\n",
        "print(f\"исправленная выборочная дисперсия:\\t{round(Disp_fix_1,4)}\\nисправленное ско:\\t\\t\\t{round(sko_fix_1,4)}\\n\")\n",
        "\n",
        "print(f\"\\nско:\\t\\t\\t\\t\\t{round(sko_2,4)}\")\n",
        "print(f\"исправленная выборочная дисперсия:\\t{round(Disp_fix_2,4)}\\nисправленное ско:\\t\\t\\t{round(sko_fix_2,4)}\\n\")"
      ],
      "metadata": {
        "execution": {
          "iopub.status.busy": "2022-11-27T19:52:43.947016Z",
          "iopub.execute_input": "2022-11-27T19:52:43.947436Z",
          "iopub.status.idle": "2022-11-27T19:52:43.955591Z",
          "shell.execute_reply.started": "2022-11-27T19:52:43.947401Z",
          "shell.execute_reply": "2022-11-27T19:52:43.954342Z"
        },
        "trusted": true,
        "id": "zu-ywQLa4rmV",
        "outputId": "dba7e4ee-b795-4b7d-fa3a-e195008c060b"
      },
      "execution_count": null,
      "outputs": [
        {
          "name": "stdout",
          "text": "\nско:\t\t\t\t\t291.6606\nисправленная выборочная дисперсия:\t85883.8426\nисправленное ско:\t\t\t293.0595\n\n\nско:\t\t\t\t\t1392.9116\nисправленная выборочная дисперсия:\t1958858.3931\nисправленное ско:\t\t\t1399.5922\n\n",
          "output_type": "stream"
        }
      ]
    },
    {
      "cell_type": "code",
      "source": [
        "def get_max_ni_id(Rnkh,ch_abs):\n",
        "    max_ni = 0\n",
        "    max_ni_id = 0\n",
        "    for i in range(0,Rnkh['k']):\n",
        "        if (ch_abs[i]>max_ni):\n",
        "            max_ni = ch_abs[i]\n",
        "            max_ni_id = i\n",
        "    return max_ni_id\n",
        "\n",
        "def get_ui(Rnkh,max_ni_id):\n",
        "    u=[0]*Rnkh['k']\n",
        "    for i in range(0,Rnkh['k']):\n",
        "        u[i] = - (max_ni_id - i)\n",
        "    return u\n",
        "def get_My(max_ni_id,Rnkh,ch_abs,u):\n",
        "    ui_ = [[0] * Rnkh['k'] for i in range(4)]\n",
        "    for i in range(Rnkh['k']):\n",
        "        for j in range(0,4):\n",
        "            ui_[j][i] = ch_abs[i]*u[i]**(j+1)\n",
        "    sum_ui = [0]*4\n",
        "    for i in range(0,4):\n",
        "        sum_ui[i] = sum(ui_[i])\n",
        "    V = [0]*4\n",
        "    for i in range(0,4):\n",
        "        V[i] = round(sum_ui[i]/Rnkh['n'],4)\n",
        "    My = [0]*4\n",
        "    My[0] = 0\n",
        "    My[1] = round((V[1]-(V[0])**2)*Rnkh['h']**2,4)\n",
        "    My[2] = round((V[2]-(3*V[1]*V[0])+2*(V[0]**3))*Rnkh['h']**3,4)\n",
        "    My[3] = round((V[3]-(4*V[2]*V[0])+(6*V[1]*(V[0])**2)-(3*(V[0])**4))*Rnkh['h']**4,4)\n",
        "    return My\n",
        "\n",
        "max_ni_id_1 = get_max_ni_id(Rnkh_1,ch_abs_1)\n",
        "max_ni_id_2 = get_max_ni_id(Rnkh_2,ch_abs_2)\n",
        "\n",
        "ui_1 = get_ui(Rnkh_1,max_ni_id_1)\n",
        "ui_2 = get_ui(Rnkh_1,max_ni_id_1)\n",
        "\n",
        "My_1 = get_My(max_ni_id_1,Rnkh_1,ch_abs_1,ui_1)\n",
        "My_2 = get_My(max_ni_id_2,Rnkh_2,ch_abs_2,ui_2)"
      ],
      "metadata": {
        "execution": {
          "iopub.status.busy": "2022-11-27T19:52:43.995338Z",
          "iopub.execute_input": "2022-11-27T19:52:43.995744Z",
          "iopub.status.idle": "2022-11-27T19:52:44.012116Z",
          "shell.execute_reply.started": "2022-11-27T19:52:43.995714Z",
          "shell.execute_reply": "2022-11-27T19:52:44.010700Z"
        },
        "trusted": true,
        "id": "Ay2ZDATA4rmX"
      },
      "execution_count": null,
      "outputs": []
    },
    {
      "cell_type": "code",
      "source": [
        "def get_cof(My,sko):\n",
        "    cof = {}\n",
        "    cof['A'] = My[2]/sko**3\n",
        "    cof['E'] = My[3]/sko**4-3\n",
        "    return cof\n",
        "cof_1 = get_cof(My_1,sko_1)\n",
        "cof_2 = get_cof(My_2,sko_2)\n",
        "print(\"коэффициент асимметрии:\",\"\\t\",round(cof_1['A'],4))\n",
        "print(\"коэффициент эксцесса:\",\"\\t\\t\",round(cof_1['E'],4),'\\n')\n",
        "\n",
        "print(\"коэффициент асимметрии:\",\"\\t\",round(cof_2['A'],4))\n",
        "print(\"коэффициент эксцесса:\",\"\\t\\t\",round(cof_2['E'],4))"
      ],
      "metadata": {
        "execution": {
          "iopub.status.busy": "2022-11-27T19:52:44.033941Z",
          "iopub.execute_input": "2022-11-27T19:52:44.034684Z",
          "iopub.status.idle": "2022-11-27T19:52:44.043917Z",
          "shell.execute_reply.started": "2022-11-27T19:52:44.034645Z",
          "shell.execute_reply": "2022-11-27T19:52:44.042355Z"
        },
        "trusted": true,
        "id": "7Ekh9mk64rmY",
        "outputId": "dfc71d44-f092-4ba6-e10a-f07c80d03729"
      },
      "execution_count": null,
      "outputs": [
        {
          "name": "stdout",
          "text": "коэффициент асимметрии: \t 2.0982\nкоэффициент эксцесса: \t\t 5.9233 \n\nкоэффициент асимметрии: \t 5.9244\nкоэффициент эксцесса: \t\t 41.4201\n",
          "output_type": "stream"
        }
      ]
    },
    {
      "cell_type": "code",
      "source": [
        "def get_MMKV(mean,Rnkh,ch_abs,max_ni_id,ch_otn,sko,mid,s_p):\n",
        "    MMKV = {}\n",
        "    MMKV['Мода']=mean[max_ni_id]+Rnkh['h']*((ch_abs[max_ni_id]-ch_abs[max_ni_id-1])/((ch_abs[max_ni_id]-ch_abs[max_ni_id-1])+(ch_abs[max_ni_id]-ch_abs[max_ni_id+1])))\n",
        "    MMKV['Медиана']=mean[max_ni_id]+Rnkh['h']*(0.5-s_p[max_ni_id-1])/(ch_otn[max_ni_id])\n",
        "    MMKV['k_V']=sko/mid*100\n",
        "    return MMKV\n",
        "MMKV_1 = get_MMKV(mean_1,Rnkh_1,ch_abs_1,max_ni_id_1,ch_otn_1,sko_1,mid_1,s_p_1)\n",
        "MMKV_2 = get_MMKV(mean_2,Rnkh_2,ch_abs_2,max_ni_id_2,ch_otn_2,sko_2,mid_2,s_p_2)\n",
        "print(MMKV_1)\n",
        "print(MMKV_2)"
      ],
      "metadata": {
        "execution": {
          "iopub.status.busy": "2022-11-27T19:52:44.081213Z",
          "iopub.execute_input": "2022-11-27T19:52:44.082035Z",
          "iopub.status.idle": "2022-11-27T19:52:44.091994Z",
          "shell.execute_reply.started": "2022-11-27T19:52:44.081994Z",
          "shell.execute_reply": "2022-11-27T19:52:44.090608Z"
        },
        "trusted": true,
        "id": "_Dl3lY5H4rmZ",
        "outputId": "cdcfa19d-580b-4573-c950-6801681d6395"
      },
      "execution_count": null,
      "outputs": [
        {
          "name": "stdout",
          "text": "{'Мода': 802.9671101557377, 'Медиана': 360.545529745023, 'k_V': 34.65468228613094}\n{'Мода': 2694.422793617647, 'Медиана': 840.1044978846776, 'k_V': 63.59813344472541}\n",
          "output_type": "stream"
        }
      ]
    },
    {
      "cell_type": "code",
      "source": [
        "def get_table_2(mid,Disp,sko,Disp_fix,sko_fix,cof,MMKV):\n",
        "    table = PrettyTable([\"Выборочное среднее\",\"Дисперсия\",\"СКО\",\"Испр.дисперсия\",\"Испр.СКО\",\"Коэф. асимметрии\",\"Коэф.экцесса\",\"Медиана\",\"Мода\",\"Коэф.вариации\"])\n",
        "    table.add_row([mid,Disp,sko,Disp_fix,sko_fix,cof['A'],cof['E'],MMKV['Медиана'],MMKV['Мода'],MMKV['k_V']])\n",
        "    return table\n",
        "\n",
        "#-------------------------------------------------------------------------#\n",
        "\n",
        "table_1 = get_table(Rnkh_1,bins_1,mean_1,ch_abs_1,ch_otn_1,s_p_1,s_n_1)\n",
        "table_2 = get_table(Rnkh_2,bins_2,mean_2,ch_abs_2,ch_otn_2,s_p_2,s_n_2)\n",
        "print('\\t\\tDATA_1:\\n\\n',table_1,'\\n\\n\\t\\tDATA_2:\\n\\n',table_2,sep='')\n",
        "\n",
        "# ------------------------------------------------------------------------#\n",
        "table2_1 = get_table_2(mid_1,Disp_1,sko_1,Disp_fix_1,sko_fix_1,cof_1,MMKV_1)\n",
        "table2_2 = get_table_2(mid_2,Disp_2,sko_2,Disp_fix_2,sko_fix_2,cof_2,MMKV_2)  \n",
        "print('\\t\\tData_1:\\n\\n',table2_1,'\\n\\n\\n',sep ='')\n",
        "\n",
        "print('\\t\\tData_2:\\n\\n',table2_2,sep ='')\n"
      ],
      "metadata": {
        "execution": {
          "iopub.status.busy": "2022-11-27T19:52:44.129646Z",
          "iopub.execute_input": "2022-11-27T19:52:44.130060Z",
          "iopub.status.idle": "2022-11-27T19:52:44.146656Z",
          "shell.execute_reply.started": "2022-11-27T19:52:44.130024Z",
          "shell.execute_reply": "2022-11-27T19:52:44.145594Z"
        },
        "trusted": true,
        "id": "7Xj9vvr34rma",
        "outputId": "f4cb265d-76e9-4f7c-fbe0-3a5a32ed4632"
      },
      "execution_count": null,
      "outputs": [
        {
          "name": "stdout",
          "text": "\t\tDATA_1:\n\n+---+-----------------------+--------------------+-----+--------+-----+--------+\n| i |        Интервал       |     x среднее      |  ni |   pi   |  Sn |   Sp   |\n+---+-----------------------+--------------------+-----+--------+-----+--------+\n| 1 |   [501.4, 738.7625]   |    620.0812495     |  48 | 0.4571 |  48 | 0.4571 |\n| 2 |  [738.7625, 976.125]  |     857.44375      |  34 | 0.3238 |  82 | 0.7809 |\n| 3 |  [976.125, 1213.4875] |     1094.80625     |  14 | 0.1333 |  96 | 0.9142 |\n| 4 |  [1213.4875, 1450.85] |     1332.16875     |  5  | 0.0476 | 101 | 0.9618 |\n| 5 |  [1450.85, 1688.2125] |     1569.53125     |  1  | 0.0095 | 102 | 0.9713 |\n| 6 | [1688.2125, 1925.575] | 1806.8937500000002 |  2  | 0.019  | 104 | 0.9903 |\n| 7 | [1925.575, 2162.9375] | 2044.2562500000001 |  0  |  0.0   | 104 | 0.9903 |\n| 8 |  [2162.9375, 2400.3]  |     2281.61875     |  1  | 0.0095 | 105 | 0.9998 |\n|   |         СУММА:        |                    | 105 | 0.9998 |  -  |   -    |\n+---+-----------------------+--------------------+-----+--------+-----+--------+\n\n\t\tDATA_2:\n\n+---+-----------------------+--------------+-----+--------+-----+--------+\n| i |        Интервал       |  x среднее   |  ni |   pi   |  Sn |   Sp   |\n+---+-----------------------+--------------+-----+--------+-----+--------+\n| 1 |   [969.0, 2645.125]   | 1807.0624995 |  91 | 0.8667 |  91 | 0.8667 |\n| 2 |  [2645.125, 4321.25]  |  3483.1875   |  11 | 0.1048 | 102 | 0.9715 |\n| 3 |  [4321.25, 5997.375]  |  5159.3125   |  0  |  0.0   | 102 | 0.9715 |\n| 4 |   [5997.375, 7673.5]  |  6835.4375   |  2  | 0.019  | 104 | 0.9905 |\n| 5 |   [7673.5, 9349.625]  |  8511.5625   |  0  |  0.0   | 104 | 0.9905 |\n| 6 |  [9349.625, 11025.75] |  10187.6875  |  0  |  0.0   | 104 | 0.9905 |\n| 7 | [11025.75, 12701.875] |  11863.8125  |  0  |  0.0   | 104 | 0.9905 |\n| 8 |  [12701.875, 14378.0] |  13539.9375  |  1  | 0.0095 | 105 |  1.0   |\n|   |         СУММА:        |              | 105 |  1.0   |  -  |   -    |\n+---+-----------------------+--------------+-----+--------+-----+--------+\n\t\tData_1:\n\n+--------------------+------------------+------------------+-------------------+--------------------+--------------------+-------------------+------------------+-------------------+-------------------+\n| Выборочное среднее |    Дисперсия     |       СКО        |   Испр.дисперсия  |      Испр.СКО      |  Коэф. асимметрии  |    Коэф.экцесса   |     Медиана      |        Мода       |   Коэф.вариации   |\n+--------------------+------------------+------------------+-------------------+--------------------+--------------------+-------------------+------------------+-------------------+-------------------+\n| 841.6195831047619  | 85065.9012657588 | 291.660592582815 | 85883.84262408341 | 293.05945237115867 | 2.0982009253754357 | 5.923252312847495 | 360.545529745023 | 802.9671101557377 | 34.65468228613094 |\n+--------------------+------------------+------------------+-------------------+--------------------+--------------------+-------------------+------------------+-------------------+-------------------+\n\n\n\n\t\tData_2:\n\n+--------------------+-------------------+-------------------+--------------------+--------------------+-------------------+--------------------+-------------------+-------------------+-------------------+\n| Выборочное среднее |     Дисперсия     |        СКО        |   Испр.дисперсия   |      Испр.СКО      |  Коэф. асимметрии |    Коэф.экцесса    |      Медиана      |        Мода       |   Коэф.вариации   |\n+--------------------+-------------------+-------------------+--------------------+--------------------+-------------------+--------------------+-------------------+-------------------+-------------------+\n| 2190.176785280952  | 1940202.598877951 | 1392.911554578377 | 1958858.3930979313 | 1399.5922238630549 | 5.924364214441646 | 41.420102407123544 | 840.1044978846776 | 2694.422793617647 | 63.59813344472541 |\n+--------------------+-------------------+-------------------+--------------------+--------------------+-------------------+--------------------+-------------------+-------------------+-------------------+\n",
          "output_type": "stream"
        }
      ]
    },
    {
      "cell_type": "markdown",
      "source": [
        "Вывод: значения исправленной дисперсии и исправленного ско незначительно отличаются от значений смещённых оценок дисперсии и ско. Полученные коэффициенты асимметрии и эксцесса положительные => вершина распределения располагается ближе к оси ординат, а так же является остроконечной.\n",
        "В связи с отсутствием повторяющихся значений в выборке - мода и медиана не совпадают. Коэффициент вариации говорит о недостаточной однородности совокупности."
      ],
      "metadata": {
        "id": "WZeZMwh14rmb"
      }
    },
    {
      "cell_type": "markdown",
      "source": [
        "# Задача 2\n",
        "Построить двумерный интервальный вариационный ряд, оформить\n",
        "в виде таблицы:"
      ],
      "metadata": {
        "id": "6mvt7BUq4rmc"
      }
    },
    {
      "cell_type": "code",
      "source": [
        "# core items - элементы корреляционной таблицы \n",
        "Ci = [[0] * Rnkh_1['k'] for i in range(Rnkh_2['k'])]\n",
        "for i_1 in range(0, len(bins_1)):\n",
        "        for i in range(0,Rnkh_1['n']):\n",
        "            if df['Data_1'][i] > (bins_1[i_1][0]- 0.000001) and df['Data_1'][i]<= bins_1[i_1][1]:\n",
        "                for i_2 in range(0, len(bins_2)):\n",
        "                    if (df['Data_2'][i] > (bins_2[i_2][0]- 0.000001) and df['Data_2'][i]<= bins_2[i_2][1]):\n",
        "                        Ci[i_1][i_2]+=1\n",
        "\n",
        "\n",
        "Cx = [0]*(Rnkh_1['k'])\n",
        "j = 0\n",
        "for i in Ci:\n",
        "    Cx[j] = sum(i)\n",
        "    j+=1\n",
        "    i.append(sum(i))\n",
        "    \n",
        "first_column = [0]*(Rnkh_1['k']+1)\n",
        "for i in range(0,Rnkh_1['k']):\n",
        "    first_column[i] = bins_1[i]\n",
        "first_column[-1] = 'Sum X:'\n",
        "print(first_column, len (first_column))\n",
        "\n",
        "Cy = [0]*(Rnkh_1['k']+1)\n",
        "for i in range(0,Rnkh_1['k']):\n",
        "    for j in range(0,Rnkh_1['k']):\n",
        "        Cy[i]+= Ci[j][i]\n",
        "Cy[-1] = sum(Cy)\n",
        "table = PrettyTable()\n",
        "table.add_column('Y\\X',first_column)\n",
        "for i in range(0,Rnkh_1['k']):\n",
        "    table.add_column(str(bins_1[i]),Ci[i])\n",
        "table.add_column('Sum Y: ',Cy)\n",
        "print(table)\n"
      ],
      "metadata": {
        "execution": {
          "iopub.status.busy": "2022-11-27T19:52:44.171831Z",
          "iopub.execute_input": "2022-11-27T19:52:44.172236Z",
          "iopub.status.idle": "2022-11-27T19:52:44.204528Z",
          "shell.execute_reply.started": "2022-11-27T19:52:44.172200Z",
          "shell.execute_reply": "2022-11-27T19:52:44.203162Z"
        },
        "trusted": true,
        "id": "9bsnEKnU4rmc",
        "outputId": "24be88e3-d0c8-467b-fc38-264907e5142e"
      },
      "execution_count": null,
      "outputs": [
        {
          "name": "stdout",
          "text": "[[501.4, 738.7625], [738.7625, 976.125], [976.125, 1213.4875], [1213.4875, 1450.85], [1450.85, 1688.2125], [1688.2125, 1925.575], [1925.575, 2162.9375], [2162.9375, 2400.3], 'Sum X:'] 9\n+-----------------------+-------------------+---------------------+----------------------+----------------------+----------------------+-----------------------+-----------------------+---------------------+---------+\n|          Y\\X          | [501.4, 738.7625] | [738.7625, 976.125] | [976.125, 1213.4875] | [1213.4875, 1450.85] | [1450.85, 1688.2125] | [1688.2125, 1925.575] | [1925.575, 2162.9375] | [2162.9375, 2400.3] | Sum Y:  |\n+-----------------------+-------------------+---------------------+----------------------+----------------------+----------------------+-----------------------+-----------------------+---------------------+---------+\n|   [501.4, 738.7625]   |         48        |          29         |          14          |          0           |          0           |           0           |           0           |          0          |    91   |\n|  [738.7625, 976.125]  |         0         |          4          |          0           |          5           |          1           |           1           |           0           |          0          |    11   |\n|  [976.125, 1213.4875] |         0         |          0          |          0           |          0           |          0           |           0           |           0           |          0          |    0    |\n|  [1213.4875, 1450.85] |         0         |          0          |          0           |          0           |          0           |           1           |           0           |          1          |    2    |\n|  [1450.85, 1688.2125] |         0         |          0          |          0           |          0           |          0           |           0           |           0           |          0          |    0    |\n| [1688.2125, 1925.575] |         0         |          0          |          0           |          0           |          0           |           0           |           0           |          0          |    0    |\n| [1925.575, 2162.9375] |         0         |          0          |          0           |          0           |          0           |           0           |           0           |          0          |    0    |\n|  [2162.9375, 2400.3]  |         0         |          1          |          0           |          0           |          0           |           0           |           0           |          0          |    1    |\n|         Sum X:        |         48        |          34         |          14          |          5           |          1           |           2           |           0           |          1          |   105   |\n+-----------------------+-------------------+---------------------+----------------------+----------------------+----------------------+-----------------------+-----------------------+---------------------+---------+\n",
          "output_type": "stream"
        }
      ]
    },
    {
      "cell_type": "markdown",
      "source": [
        "Сумма частот х и сумма частот у совпадает, значит, подсчёты верны."
      ],
      "metadata": {
        "id": "xU6zDz_T4rmd"
      }
    },
    {
      "cell_type": "markdown",
      "source": [
        "# Задача 3\n",
        "По полученному двумерному интервальному вариационному ряду\n",
        "сформировать условные варианты и по полученным условным вариантам построить корреляционную таблицу, сделать выводы:"
      ],
      "metadata": {
        "id": "lAkj6iBy4rme"
      }
    },
    {
      "cell_type": "code",
      "source": [
        "Cy.pop(-1)\n",
        "for i in Ci:\n",
        "    i.pop(-1)"
      ],
      "metadata": {
        "execution": {
          "iopub.status.busy": "2022-11-27T19:52:44.215615Z",
          "iopub.execute_input": "2022-11-27T19:52:44.216888Z",
          "iopub.status.idle": "2022-11-27T19:52:44.221916Z",
          "shell.execute_reply.started": "2022-11-27T19:52:44.216844Z",
          "shell.execute_reply": "2022-11-27T19:52:44.220574Z"
        },
        "trusted": true,
        "id": "mPhlNLbC4rme"
      },
      "execution_count": null,
      "outputs": []
    },
    {
      "cell_type": "code",
      "source": [
        "U = ['-']*(Rnkh_1['k']+2)\n",
        "V = [0]*(Rnkh_1['k'])\n",
        "vU = [0]*(Rnkh_1['k']+2)\n",
        "uV = [0]*(Rnkh_1['k'])\n",
        "\n",
        "\n",
        "for i in range(Rnkh_1['k']):\n",
        "    Us = 0\n",
        "    Vs = 0 \n",
        "    for j in range(Rnkh_1['k']):\n",
        "        Us+= ui_2[j]*Ci[j][i]\n",
        "        Vs+= ui_1[j]*Ci[i][j]\n",
        "        #print(f'{i}|{j}:\\t{ui_1[j]} * {Ci[i][j]} = {ui_1[j]*Ci[i][j]}', f'\\t\\t{j}|{i}:\\t{ui_2[j]} * {Ci[j][i]} = {ui_2[j]*Ci[j][i]}')\n",
        "    U[i] = Us\n",
        "    V[i] = Vs\n",
        "    vU[i] = Us * ui_1[i]\n",
        "    uV[i] = Vs * ui_1[i]\n",
        "    Us = 0\n",
        "    Vs = 0\n",
        "\n",
        "tab_Ci = [[0] * (Rnkh_1['k']+2) for i in range(Rnkh_2['k'])]\n",
        "tab_ui_2 = [0] * (Rnkh_1['k']+2)\n",
        "for i in range(0,Rnkh_1['k']):\n",
        "    for j in range(0,Rnkh_1['k']):\n",
        "        tab_Ci[i][j] = Ci[i][j]\n",
        "    tab_ui_2[i] = ui_2[i]\n",
        "tab_ui_2[-1] = 'uV'\n",
        "tab_ui_2[-2] = 'V'\n",
        "for j in range(Rnkh_1['k']):\n",
        "    tab_Ci[j][8] = V[j]\n",
        "    tab_Ci[j][9] = uV[j]\n",
        "    \n",
        "U[-1] = sum(uV)\n",
        "SvU = sum(vU)\n",
        "vU[-2] = SvU\n",
        "if (SvU == sum(uV)):\n",
        "    vU[-1] = f'{SvU} == {sum(uV)}'\n",
        "else:\n",
        "    vU[-1] = f'{SvU} != {sum(uV)}'\n",
        "table = PrettyTable()\n",
        "table.add_column('Y\\X',tab_ui_2)\n",
        "for i in range(0,Rnkh_1['k']):\n",
        "    table.add_column(str(ui_2[i]),tab_Ci[i])\n",
        "table.add_column('U',U)\n",
        "table.add_column('vU',vU)\n",
        "print(table)"
      ],
      "metadata": {
        "execution": {
          "iopub.status.busy": "2022-11-27T19:52:44.262277Z",
          "iopub.execute_input": "2022-11-27T19:52:44.263422Z",
          "iopub.status.idle": "2022-11-27T19:52:44.280186Z",
          "shell.execute_reply.started": "2022-11-27T19:52:44.263384Z",
          "shell.execute_reply": "2022-11-27T19:52:44.278967Z"
        },
        "trusted": true,
        "id": "1mZ6Brs_4rme",
        "outputId": "8fc58e53-0b66-47f5-f73e-4a91ec0ce05d"
      },
      "execution_count": null,
      "outputs": [
        {
          "name": "stdout",
          "text": "+-----+----+----+----+----+---+----+---+----+----+----------+\n| Y\\X | 0  | 1  | 2  | 3  | 4 | 5  | 6 | 7  | U  |    vU    |\n+-----+----+----+----+----+---+----+---+----+----+----------+\n|  0  | 48 | 29 | 14 | 0  | 0 | 0  | 0 | 0  | 57 |    0     |\n|  1  | 0  | 4  | 0  | 5  | 1 | 1  | 0 | 0  | 28 |    28    |\n|  2  | 0  | 0  | 0  | 0  | 0 | 0  | 0 | 0  | 0  |    0     |\n|  3  | 0  | 0  | 0  | 0  | 0 | 1  | 0 | 1  | 12 |    36    |\n|  4  | 0  | 0  | 0  | 0  | 0 | 0  | 0 | 0  | 0  |    0     |\n|  5  | 0  | 0  | 0  | 0  | 0 | 0  | 0 | 0  | 0  |    0     |\n|  6  | 0  | 0  | 0  | 0  | 0 | 0  | 0 | 0  | 0  |    0     |\n|  7  | 0  | 1  | 0  | 0  | 0 | 0  | 0 | 0  | 1  |    7     |\n|  V  | 0  | 11 | 0  | 5  | 1 | 4  | 0 | 3  | -  |    71    |\n|  uV | 0  | 11 | 0  | 15 | 4 | 20 | 0 | 21 | 71 | 71 == 71 |\n+-----+----+----+----+----+---+----+---+----+----+----------+\n",
          "output_type": "stream"
        }
      ]
    },
    {
      "cell_type": "markdown",
      "source": [
        "Сумма vU и сумма uV совпадает, значит, подсчёты верны"
      ],
      "metadata": {
        "id": "tU2RhgLZ4rmf"
      }
    },
    {
      "cell_type": "markdown",
      "source": [
        "# Задача 4\n",
        "Исходя из результатов корреляционной таблицы вычислить коэффициент корреляции, сделать выводы:"
      ],
      "metadata": {
        "id": "7f8LrS_A4rmg"
      }
    },
    {
      "cell_type": "code",
      "source": [
        "# заменить переменные !!!!!!!!!!!!!!!!!!!!!!!!!!!!!!!!!!!!!!!!!!!!!!!!!!!!! (и ниже тоже )\n",
        "\n",
        "sreu = 0\n",
        "srev = 0\n",
        "\n",
        "sreu_2 = 0\n",
        "srev_2 = 0\n",
        "\n",
        "for i in range(0,Rnkh_1['k']):\n",
        "    sreu += Cx[i]*ui_1[i]/Rnkh_1['n']\n",
        "    srev += Cy[i]*ui_2[i]/Rnkh_1['n']\n",
        "    \n",
        "    sreu_2 += Cx[i]*ui_1[i]**2/Rnkh_1['n']\n",
        "    srev_2 += Cy[i]*ui_2[i]**2/Rnkh_1['n']\n",
        "kof_1=sreu_2-(sreu)**2\n",
        "kof_2=srev_2-(srev)**2\n",
        "k_r=(SvU-Rnkh_1['n']*sreu*srev)/(SvU*np.sqrt(kof_1)*np.sqrt(kof_2))    \n",
        "\n",
        "print(k_r)"
      ],
      "metadata": {
        "execution": {
          "iopub.status.busy": "2022-11-27T19:52:44.300047Z",
          "iopub.execute_input": "2022-11-27T19:52:44.301001Z",
          "iopub.status.idle": "2022-11-27T19:52:44.310131Z",
          "shell.execute_reply.started": "2022-11-27T19:52:44.300962Z",
          "shell.execute_reply": "2022-11-27T19:52:44.308971Z"
        },
        "trusted": true,
        "id": "hG3e0P1r4rmg",
        "outputId": "3fcc6e8d-4472-43fc-bd3c-105f89fc5796"
      },
      "execution_count": null,
      "outputs": [
        {
          "name": "stdout",
          "text": "0.6703400034737965\n",
          "output_type": "stream"
        }
      ]
    },
    {
      "cell_type": "markdown",
      "source": [
        "|k_r| $\\leq$ 1, значит, подсчёты правильные. Коэффициент корреляции больше нуля, т.е. с ростом х увеличивается и у"
      ],
      "metadata": {
        "id": "L5rcyBn14rmh"
      }
    },
    {
      "cell_type": "markdown",
      "source": [
        "# Задача 5\n",
        "Построить доверительный интервал для коэффициента корреляции при уровне значимости 𝛾 ∈ {0.95, 0.99}, сделать выводы."
      ],
      "metadata": {
        "id": "_r5jf1D54rmh"
      }
    },
    {
      "cell_type": "code",
      "source": [
        "zn=math.atanh(k_r)\n",
        "tl95=1.96\n",
        "tl99=2.58\n",
        "th1_1=math.tanh(zn-tl95/(np.sqrt(Rnkh_1['n']-3)))\n",
        "th1_2=math.tanh(zn+tl95/(np.sqrt(Rnkh_1['n']-3)))\n",
        "th2_1=math.tanh(zn-tl99/(np.sqrt(Rnkh_1['n']-3)))\n",
        "th2_2=math.tanh(zn+tl99/(np.sqrt(Rnkh_1['n']-3)))\n",
        "print(\"Доверительный интервал с надёжностью 0.95: (\",round(th1_1,4),\";\",round(th1_2,4),\")\")\n",
        "print(\"Доверительный интервал с надёжностью 0.99: (\",round(th2_1,4),\";\",round(th2_2,4),\")\")"
      ],
      "metadata": {
        "execution": {
          "iopub.status.busy": "2022-11-27T19:52:44.338411Z",
          "iopub.execute_input": "2022-11-27T19:52:44.338825Z",
          "iopub.status.idle": "2022-11-27T19:52:44.347862Z",
          "shell.execute_reply.started": "2022-11-27T19:52:44.338788Z",
          "shell.execute_reply": "2022-11-27T19:52:44.346724Z"
        },
        "trusted": true,
        "id": "Z4OSRlVr4rmi",
        "outputId": "76446c5e-74a6-4fa7-ea8e-a15100d8b641"
      },
      "execution_count": null,
      "outputs": [
        {
          "name": "stdout",
          "text": "Доверительный интервал с надёжностью 0.95: ( 0.5492 ; 0.7639 )\nДоверительный интервал с надёжностью 0.99: ( 0.5049 ; 0.7883 )\n",
          "output_type": "stream"
        }
      ]
    },
    {
      "cell_type": "markdown",
      "source": [
        "В данные доверительные интервалы попадает вычисленный ранее коэффициент корреляции"
      ],
      "metadata": {
        "id": "8LopDpSH4rmi"
      }
    },
    {
      "cell_type": "markdown",
      "source": [
        "# Задача 6\n",
        "Осуществить проверку статистической гипотезы о равенстве коэффициента корреляции нулю при заданном уровне значимости\n",
        "𝛼 = 0.05, сделать выводы."
      ],
      "metadata": {
        "id": "R23YFmcv4rmi"
      }
    },
    {
      "cell_type": "code",
      "source": [
        "tnab=k_r*(np.sqrt(Rnkh_1['n']-2))/(np.sqrt(1-k_r**2))\n",
        "tkrit=1.9833\n",
        "if abs(tnab)<tkrit:\n",
        "    print(\"Принимается гипотеза о равенстве коэффициента корреляции нулю\")\n",
        "else:\n",
        "    print(\"Не принимается гипотеза о равенстве коэффициента корреляции нулю\")"
      ],
      "metadata": {
        "execution": {
          "iopub.status.busy": "2022-11-27T19:52:44.369001Z",
          "iopub.execute_input": "2022-11-27T19:52:44.369422Z",
          "iopub.status.idle": "2022-11-27T19:52:44.377447Z",
          "shell.execute_reply.started": "2022-11-27T19:52:44.369375Z",
          "shell.execute_reply": "2022-11-27T19:52:44.376209Z"
        },
        "trusted": true,
        "id": "x6LdPJbr4rmi",
        "outputId": "0ea94289-8f30-4660-825e-d233837935ce"
      },
      "execution_count": null,
      "outputs": [
        {
          "name": "stdout",
          "text": "Не принимается гипотеза о равенстве коэффициента корреляции нулю\n",
          "output_type": "stream"
        }
      ]
    },
    {
      "cell_type": "markdown",
      "source": [
        "Гипотеза не принята, т.к. не была пройдена проверка на попадание в область принятия гипотезы |tnab| < tkrit"
      ],
      "metadata": {
        "id": "pgXdnU1M4rmj"
      }
    },
    {
      "cell_type": "markdown",
      "source": [
        "# Задача 7\n",
        "Для заданной выборки построить уравнения средней квадратичной\n",
        "регрессии 𝑥 на 𝑦 и 𝑦 на 𝑥 соответственно. Отобразить полученные\n",
        "прямые на множестве выборки. Объяснить результаты."
      ],
      "metadata": {
        "id": "2v652S0s4rmj"
      }
    },
    {
      "cell_type": "code",
      "source": [
        "for i in range(Rnkh_1['n']):\n",
        "    plt.plot(df['Data_1'][i],df['Data_2'][i],'bo')\n",
        "\n",
        "dlina=int(bins_h_1[-1] - bins_h_1[0])\n",
        "\n",
        "gr_y=[0]*dlina\n",
        "l=[0]*dlina\n",
        "for i in range(dlina):\n",
        "    l[i]=i+ bins_h_1[0]\n",
        "    gr_y[i]=(k_r*sko_2*((i+ bins_h_1[0])-mid_1))/sko_1+mid_2\n",
        "\n",
        "plt.plot(l,gr_y)\n",
        "plt.xlabel(\"X\")\n",
        "plt.ylabel(\"Y\")\n",
        "plt.show()\n",
        "\n",
        "\n",
        "\n",
        "for i in range(Rnkh_1['n']):\n",
        "    plt.plot(df['Data_2'][i],df['Data_1'][i],'bo')\n",
        "\n",
        "\n",
        "dlina2=int(bins_h_2[-1] - bins_h_2[0])\n",
        "\n",
        "gr_x=[0]*dlina2\n",
        "l2=[0]*dlina2\n",
        "\n",
        "for i in range(dlina2):\n",
        "    l2[i]=i+bins_h_2[0]\n",
        "    gr_x[i]=(k_r*sko_1*((i+bins_h_2[0])-mid_2))/sko_2+mid_1\n",
        "plt.plot(l2,gr_x)\n",
        "plt.xlabel(\"Y\")\n",
        "plt.ylabel(\"X\")\n",
        "\n",
        "plt.show()"
      ],
      "metadata": {
        "execution": {
          "iopub.status.busy": "2022-11-27T19:52:44.395491Z",
          "iopub.execute_input": "2022-11-27T19:52:44.396082Z",
          "iopub.status.idle": "2022-11-27T19:52:44.928878Z",
          "shell.execute_reply.started": "2022-11-27T19:52:44.396049Z",
          "shell.execute_reply": "2022-11-27T19:52:44.928041Z"
        },
        "trusted": true,
        "id": "iHV12wpW4rmj",
        "outputId": "c2835041-04f2-49ae-fe32-08fa374d64cf"
      },
      "execution_count": null,
      "outputs": [
        {
          "output_type": "display_data",
          "data": {
            "text/plain": "<Figure size 432x288 with 1 Axes>",
            "image/png": "[encoded data removed]"
          },
          "metadata": {
            "needs_background": "light"
          }
        },
        {
          "output_type": "display_data",
          "data": {
            "text/plain": "<Figure size 432x288 with 1 Axes>",
            "image/png": "[encoded data removed]"
          },
          "metadata": {
            "needs_background": "light"
          }
        }
      ]
    },
    {
      "cell_type": "markdown",
      "source": [
        "Уравнения средней квадратичной регрессии - пряме. Они демонстрируют общую характеристику положений значений на пространстве выборки"
      ],
      "metadata": {
        "id": "f1RHs4Za4rmk"
      }
    },
    {
      "cell_type": "markdown",
      "source": [
        "# Задача 8\n",
        "Вычислить корреляционные отношения 𝜂𝑦𝑥 и 𝜂𝑥𝑦. Убедиться, что\n",
        "неравенства 𝜂𝑦𝑥 > |𝑟𝑥𝑦| и 𝜂𝑥𝑦 > |𝑟𝑥𝑦| выполняются. Сделать выводы."
      ],
      "metadata": {
        "id": "6SHC2TcN4rmk"
      }
    },
    {
      "cell_type": "code",
      "source": [
        "#print(Cx, Cy)            # rex sum(z[i])\n",
        "#print(mean_1,mean_2)      # ser1 ser 2\n",
        "#print(mid_1,mid_2)        # xsre ysre\n",
        "#print(Disp_1, Disp_2) # disx disy \n",
        "\n",
        "#print (Ci) # Z\n",
        "\n",
        "\n",
        "disyx,disxy = 0,0\n",
        "yx = [0]*Rnkh_1['k']\n",
        "xy = [0]*Rnkh_1['k']\n",
        "\n",
        "for i in range(Rnkh_1['k']):\n",
        "    for j in range(Rnkh_1['k']):\n",
        "        if (Cx[i] != 0 and Cy[i] != 0 ):\n",
        "            yx[i]+=mean_2[j]*Ci[i][j]/Cx[i]\n",
        "            xy[i]+=mean_1[j]*Ci[j][i]/Cy[i]      \n",
        "\n",
        "for i in range(Rnkh_1['k']):\n",
        "    disyx+=Cx[i]*(yx[i]-mid_2)**2/Rnkh_1['n']\n",
        "    disxy+=Cy[i]*(xy[i]-mid_1)**2/Rnkh_1['n']\n",
        "\n",
        "nu1=np.sqrt(disxy)/np.sqrt(Disp_1)\n",
        "\n",
        "nu2=np.sqrt(disyx)/np.sqrt(Disp_2)\n",
        "print(round(nu1,4),\" \",round(nu2,4))\n"
      ],
      "metadata": {
        "execution": {
          "iopub.status.busy": "2022-11-27T19:52:44.931084Z",
          "iopub.execute_input": "2022-11-27T19:52:44.931811Z",
          "iopub.status.idle": "2022-11-27T19:52:44.943843Z",
          "shell.execute_reply.started": "2022-11-27T19:52:44.931766Z",
          "shell.execute_reply": "2022-11-27T19:52:44.942635Z"
        },
        "trusted": true,
        "id": "zXqCERp-4rmk",
        "outputId": "a1f14904-2ba8-4155-9348-da25174a0856"
      },
      "execution_count": null,
      "outputs": [
        {
          "name": "stdout",
          "text": "0.7472   0.7655\n",
          "output_type": "stream"
        }
      ]
    },
    {
      "cell_type": "markdown",
      "source": [
        "$\\eta\\in[0,1] $ , $\\eta\\geq|r_{B}| $ => подсчёты верны"
      ],
      "metadata": {
        "id": "Xo3YG_XQ4rml"
      }
    },
    {
      "cell_type": "markdown",
      "source": [
        "# Задача 9"
      ],
      "metadata": {
        "id": "woFVO6vV4rmm"
      }
    },
    {
      "cell_type": "code",
      "source": [
        "from sympy import diff, symbols, ln\n",
        "a, b, y, x, c = symbols('a b y x c')\n",
        "diff((c+b*x+a*x**2-y)**2,a)"
      ],
      "metadata": {
        "execution": {
          "iopub.status.busy": "2022-11-27T19:52:59.093731Z",
          "iopub.execute_input": "2022-11-27T19:52:59.094277Z",
          "iopub.status.idle": "2022-11-27T19:52:59.110967Z",
          "shell.execute_reply.started": "2022-11-27T19:52:59.094229Z",
          "shell.execute_reply": "2022-11-27T19:52:59.109461Z"
        },
        "trusted": true,
        "id": "8ly9hb1U4rmm",
        "outputId": "a6a18511-8494-42b1-bae0-178f1e2d4754"
      },
      "execution_count": null,
      "outputs": [
        {
          "execution_count": 338,
          "output_type": "execute_result",
          "data": {
            "text/plain": "2*x**2*(a*x**2 + b*x + c - y)",
            "text/latex": "$\\displaystyle 2 x^{2} \\left(a x^{2} + b x + c - y\\right)$"
          },
          "metadata": {}
        }
      ]
    },
    {
      "cell_type": "code",
      "source": [
        "diff((c+b*x+a*x**2-y)**2,b)"
      ],
      "metadata": {
        "execution": {
          "iopub.status.busy": "2022-11-27T19:53:00.869563Z",
          "iopub.execute_input": "2022-11-27T19:53:00.870866Z",
          "iopub.status.idle": "2022-11-27T19:53:00.883564Z",
          "shell.execute_reply.started": "2022-11-27T19:53:00.870817Z",
          "shell.execute_reply": "2022-11-27T19:53:00.882290Z"
        },
        "trusted": true,
        "id": "jBxf_8ew4rmn",
        "outputId": "dcd0e755-3de3-4c4e-fcd1-b213988b1e16"
      },
      "execution_count": null,
      "outputs": [
        {
          "execution_count": 339,
          "output_type": "execute_result",
          "data": {
            "text/plain": "2*x*(a*x**2 + b*x + c - y)",
            "text/latex": "$\\displaystyle 2 x \\left(a x^{2} + b x + c - y\\right)$"
          },
          "metadata": {}
        }
      ]
    },
    {
      "cell_type": "code",
      "source": [
        "diff((c+b*x+a*x**2-y)**2,c)"
      ],
      "metadata": {
        "execution": {
          "iopub.status.busy": "2022-11-27T19:53:02.170877Z",
          "iopub.execute_input": "2022-11-27T19:53:02.171296Z",
          "iopub.status.idle": "2022-11-27T19:53:02.184600Z",
          "shell.execute_reply.started": "2022-11-27T19:53:02.171259Z",
          "shell.execute_reply": "2022-11-27T19:53:02.183066Z"
        },
        "trusted": true,
        "id": "_TKBx58M4rmn",
        "outputId": "63953c68-b268-4ac2-e57a-73cc3d8cdb45"
      },
      "execution_count": null,
      "outputs": [
        {
          "execution_count": 340,
          "output_type": "execute_result",
          "data": {
            "text/plain": "2*a*x**2 + 2*b*x + 2*c - 2*y",
            "text/latex": "$\\displaystyle 2 a x^{2} + 2 b x + 2 c - 2 y$"
          },
          "metadata": {}
        }
      ]
    },
    {
      "cell_type": "markdown",
      "source": [
        "Полученные выше производные приравниваем к нулю и составляем систему уравнений:\n",
        "$\\begin{cases}\n",
        " & nc+b\\sum_{i=1}^{n}x_{i}+a\\sum_{i=1}^{n}x_{i}^{2}=\\sum_{i=1}^{n}y_{i}\\\\\n",
        " & c\\sum_{i=1}^{n}x_{i}+b\\sum_{i=1}^{n}x_{i}^{2}+\\sum_{i=1}^{n}x_{i}^{3}=\\sum_{i=1}^{n}y_{i}x_{i}\\\\\n",
        " & c\\sum_{i=1}^{n}x_{i}^{2}+b\\sum_{i=1}^{n}x_{i}^{3}+\\sum_{i=1}^{n}x_{i}^{4}=\\sum_{i=1}^{n}y_{i}x_{i}^{2}\n",
        "\\end{cases}$"
      ],
      "metadata": {
        "id": "QsMoDWRh4rmn"
      }
    },
    {
      "cell_type": "code",
      "source": [
        "sx,sx_2,sx_3,sx_4,sy,sxy,sxxy=0,0,0,0,0,0,0\n",
        "\n",
        "\n",
        "\n",
        "for i in range(Rnkh_1['n']):\n",
        "    sx+=df['Data_1'][i]\n",
        "    sx_2+=df['Data_1'][i]**2\n",
        "    sx_3+=df['Data_1'][i]**3\n",
        "    sx_4+=df['Data_1'][i]**4\n",
        "    sy+=df['Data_2'][i]\n",
        "    sxy+=df['Data_1'][i]*df['Data_2'][i]\n",
        "    sxxy+=df['Data_1'][i]**2*df['Data_2'][i]\n",
        "\n",
        "leftside=np.array([[Rnkh_1['n'],sx,sx_2],[sx,sx_2,sx_3],[sx_2,sx_3,sx_4]])\n",
        "rightside=np.array([sy,sxy,sxxy])\n",
        "o=np.linalg.inv(leftside).dot(rightside)\n",
        "for i in range(Rnkh_1['n']):\n",
        "    plt.plot(df['Data_1'][i],df['Data_2'][i],'ro')\n",
        "l3,p_y=[0]*dlina,[0]*dlina\n",
        "for i in range(dlina):\n",
        "    l3[i]=i+bins_h_1[0]\n",
        "    p_y[i]=o[0]+o[1]*(i+bins_h_1[0])+o[2]*(i+bins_h_1[0])**2\n",
        "plt.plot(l3,p_y)\n",
        "plt.show()"
      ],
      "metadata": {
        "execution": {
          "iopub.status.busy": "2022-11-27T19:53:03.463994Z",
          "iopub.execute_input": "2022-11-27T19:53:03.464950Z",
          "iopub.status.idle": "2022-11-27T19:53:03.767633Z",
          "shell.execute_reply.started": "2022-11-27T19:53:03.464904Z",
          "shell.execute_reply": "2022-11-27T19:53:03.766362Z"
        },
        "trusted": true,
        "id": "gJdbQBa44rmo",
        "outputId": "e684ebaf-4b7d-4113-940b-8770c4339b19"
      },
      "execution_count": null,
      "outputs": [
        {
          "output_type": "display_data",
          "data": {
            "text/plain": "<Figure size 432x288 with 1 Axes>",
            "image/png": "[encoded data removed]"
          },
          "metadata": {
            "needs_background": "light"
          }
        }
      ]
    },
    {
      "cell_type": "markdown",
      "source": [
        "уравнение параболической регрессии выглядит следующим образом: $y = -0.0002038x^{2} + 3.555x -818.5$.\n",
        "График показывает средние значения на пространстве выборки"
      ],
      "metadata": {
        "id": "su2Dpwop4rmo"
      }
    },
    {
      "cell_type": "markdown",
      "source": [
        "# Задача 10"
      ],
      "metadata": {
        "id": "lblM4yRM4rmp"
      }
    },
    {
      "cell_type": "code",
      "source": [
        "a, b, y, x = symbols('a b y x')\n",
        "diff((ln(a) + b*x - ln(y))**2,a)"
      ],
      "metadata": {
        "execution": {
          "iopub.status.busy": "2022-11-27T19:53:06.341350Z",
          "iopub.execute_input": "2022-11-27T19:53:06.341797Z",
          "iopub.status.idle": "2022-11-27T19:53:06.368283Z",
          "shell.execute_reply.started": "2022-11-27T19:53:06.341759Z",
          "shell.execute_reply": "2022-11-27T19:53:06.366759Z"
        },
        "trusted": true,
        "id": "4vtCMqOg4rmp",
        "outputId": "99359ccf-ebfd-429e-87bb-f5b08d3f9747"
      },
      "execution_count": null,
      "outputs": [
        {
          "execution_count": 342,
          "output_type": "execute_result",
          "data": {
            "text/plain": "2*(b*x + log(a) - log(y))/a",
            "text/latex": "$\\displaystyle \\frac{2 \\left(b x + \\log{\\left(a \\right)} - \\log{\\left(y \\right)}\\right)}{a}$"
          },
          "metadata": {}
        }
      ]
    },
    {
      "cell_type": "code",
      "source": [
        "diff((ln(a) + b*x - ln(y))**2,b)"
      ],
      "metadata": {
        "execution": {
          "iopub.status.busy": "2022-11-27T19:54:32.582992Z",
          "iopub.execute_input": "2022-11-27T19:54:32.583442Z",
          "iopub.status.idle": "2022-11-27T19:54:32.595725Z",
          "shell.execute_reply.started": "2022-11-27T19:54:32.583405Z",
          "shell.execute_reply": "2022-11-27T19:54:32.594506Z"
        },
        "trusted": true,
        "id": "0AJ0FYiI4rmp",
        "outputId": "4d5f8aae-090c-498a-bfdd-71d05f21990f"
      },
      "execution_count": null,
      "outputs": [
        {
          "execution_count": 344,
          "output_type": "execute_result",
          "data": {
            "text/plain": "2*x*(b*x + log(a) - log(y))",
            "text/latex": "$\\displaystyle 2 x \\left(b x + \\log{\\left(a \\right)} - \\log{\\left(y \\right)}\\right)$"
          },
          "metadata": {}
        }
      ]
    },
    {
      "cell_type": "markdown",
      "source": [
        "Полученные выше производные приравниваем к нулю и составляем систему уравнений:\n",
        "$\\begin{cases}\n",
        " & n\\frac{ln{(a)}}{a}+\\frac{b}{a}\\sum_{i=1}^{n}{x_i}=\\frac{1}{a}\\sum_{i=1}^{n}{ln{(y_i)}}\\\\\n",
        " & ln{(a)}\\sum_{i=1}^{n}{x_i} + b\\sum_{i=1}^{n}{x_i^2} =\\sum_{i=1}^{n} x_i ln{(y_i)}\n",
        "\\end{cases}$"
      ],
      "metadata": {
        "id": "9Qsk3gfB4rmp"
      }
    },
    {
      "cell_type": "code",
      "source": [
        "ypx=0\n",
        "ypx2=0\n",
        "yryx=0\n",
        "\n",
        "\n",
        "for i in range(Rnkh_1['n']):\n",
        "    ypx+= df['Data_1'][i]\n",
        "    ypx2+= df['Data_1'][i]**2\n",
        "    yryx+= df['Data_1'][i] + math.log(df['Data_2'][i])\n",
        "    \n",
        "\n",
        "l2=np.array([[Rnkh_1['n'],ypx],[ypx,ypx2]])\n",
        "r2=np.array([sy,yryx])\n",
        "\n",
        "vsp2=np.dot(np.linalg.inv(l2), r2)\n",
        "\n",
        "for i in range(Rnkh_1['n']):\n",
        "    plt.plot(df['Data_1'][i],df['Data_2'][i],'b.')\n",
        "\n",
        "    \n",
        "koord4=[0]*dlina\n",
        "ltr2=[0]*dlina\n",
        "\n",
        "for i in range(dlina):\n",
        "    koord4[i]=i+bins_h_1[0]\n",
        "    ltr2[i]= vsp2[0] * math.exp(vsp2[1]*(i+bins_h_1[0]))\n",
        "    \n",
        "plt.plot(koord4,ltr2)\n",
        "plt.grid()\n",
        "plt.show()\n",
        "print(vsp2)"
      ],
      "metadata": {
        "execution": {
          "iopub.status.busy": "2022-11-27T19:52:45.302655Z",
          "iopub.status.idle": "2022-11-27T19:52:45.303083Z",
          "shell.execute_reply.started": "2022-11-27T19:52:45.302881Z",
          "shell.execute_reply": "2022-11-27T19:52:45.302901Z"
        },
        "trusted": true,
        "colab": {
          "base_uri": "https://localhost:8080/",
          "height": 235
        },
        "id": "eITNWWpB4rmq",
        "outputId": "70fc96a2-93e6-4020-fb37-c711557b1ed9"
      },
      "execution_count": 1,
      "outputs": [
        {
          "output_type": "error",
          "ename": "NameError",
          "evalue": "ignored",
          "traceback": [
            "\u001b[0;31m---------------------------------------------------------------------------\u001b[0m",
            "\u001b[0;31mNameError\u001b[0m                                 Traceback (most recent call last)",
            "\u001b[0;32m<ipython-input-1-3c5caf4b7724>\u001b[0m in \u001b[0;36m<module>\u001b[0;34m\u001b[0m\n\u001b[1;32m      4\u001b[0m \u001b[0;34m\u001b[0m\u001b[0m\n\u001b[1;32m      5\u001b[0m \u001b[0;34m\u001b[0m\u001b[0m\n\u001b[0;32m----> 6\u001b[0;31m \u001b[0;32mfor\u001b[0m \u001b[0mi\u001b[0m \u001b[0;32min\u001b[0m \u001b[0mrange\u001b[0m\u001b[0;34m(\u001b[0m\u001b[0mRnkh_1\u001b[0m\u001b[0;34m[\u001b[0m\u001b[0;34m'n'\u001b[0m\u001b[0;34m]\u001b[0m\u001b[0;34m)\u001b[0m\u001b[0;34m:\u001b[0m\u001b[0;34m\u001b[0m\u001b[0;34m\u001b[0m\u001b[0m\n\u001b[0m\u001b[1;32m      7\u001b[0m     \u001b[0mypx\u001b[0m\u001b[0;34m+=\u001b[0m \u001b[0mdf\u001b[0m\u001b[0;34m[\u001b[0m\u001b[0;34m'Data_1'\u001b[0m\u001b[0;34m]\u001b[0m\u001b[0;34m[\u001b[0m\u001b[0mi\u001b[0m\u001b[0;34m]\u001b[0m\u001b[0;34m\u001b[0m\u001b[0;34m\u001b[0m\u001b[0m\n\u001b[1;32m      8\u001b[0m     \u001b[0mypx2\u001b[0m\u001b[0;34m+=\u001b[0m \u001b[0mdf\u001b[0m\u001b[0;34m[\u001b[0m\u001b[0;34m'Data_1'\u001b[0m\u001b[0;34m]\u001b[0m\u001b[0;34m[\u001b[0m\u001b[0mi\u001b[0m\u001b[0;34m]\u001b[0m\u001b[0;34m**\u001b[0m\u001b[0;36m2\u001b[0m\u001b[0;34m\u001b[0m\u001b[0;34m\u001b[0m\u001b[0m\n",
            "\u001b[0;31mNameError\u001b[0m: name 'Rnkh_1' is not defined"
          ]
        }
      ]
    },
    {
      "cell_type": "markdown",
      "source": [
        "График показывает средние значения на пространстве выборки"
      ],
      "metadata": {
        "id": "0fUT4TuK4rmq"
      }
    },
    {
      "cell_type": "markdown",
      "source": [
        "# Задача 11"
      ],
      "metadata": {
        "id": "KU99hmaj4rmq"
      }
    },
    {
      "cell_type": "code",
      "source": [
        "----"
      ],
      "metadata": {
        "execution": {
          "iopub.status.busy": "2022-11-27T19:52:45.304603Z",
          "iopub.status.idle": "2022-11-27T19:52:45.305787Z",
          "shell.execute_reply.started": "2022-11-27T19:52:45.305532Z",
          "shell.execute_reply": "2022-11-27T19:52:45.305565Z"
        },
        "trusted": true,
        "id": "AKlRbcwL4rmq"
      },
      "execution_count": null,
      "outputs": []
    },
    {
      "cell_type": "markdown",
      "source": [
        "## Выводы\n",
        "В ходе выполнения практической работы №2 были освоены основные понятия, связанные с корреляционной зависимостью между случайными величинами, статистическими гипотезами и их проверкой. Изучены основные положения МНК, статистические свойства МНК оценок, понятие функции регрессии и роли МНК в регрессионном анализе, корреляционное отношение, как мера тесноты произвольной корреляционной связи."
      ],
      "metadata": {
        "id": "HXcCAxrs4rmr"
      }
    }
  ]
}