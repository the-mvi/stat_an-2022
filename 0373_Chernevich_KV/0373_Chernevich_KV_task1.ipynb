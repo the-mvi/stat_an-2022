{
 "cells": [
  {
   "cell_type": "markdown",
   "id": "925fde78",
   "metadata": {},
   "source": [
    "# Практическая работа №1: \n",
    "<p>\"Формирование и первичная обработка выборки. Нахождение и точечных и интервальных оценок. Проверка статистических гипотез\"</p>\n",
    "<p>Выполнил студент группы 0373: Черневич Константин Владимирович Вариант №21</p>"
   ]
  },
  {
   "cell_type": "markdown",
   "id": "345a89dd",
   "metadata": {},
   "source": [
    "# Цель работы:\n",
    "<p>Ознакомление с основными правилами формирования выборки и подготовки выборочных данных к статистическому анализу. Получение практических навыков нахождения точечных статистических оценок параметров распределения, а также вычисления интервальных статистических оценок параметров распределения выборочных данных и проверки\n",
    "«справедливости» статистических гипотез.</p>"
   ]
  },
  {
   "cell_type": "markdown",
   "id": "97c14f1f",
   "metadata": {},
   "source": [
    "# Основные теоретические положения:"
   ]
  },
  {
   "cell_type": "code",
   "execution_count": 309,
   "id": "a62d4de3",
   "metadata": {},
   "outputs": [],
   "source": [
    "from IPython.display import display, Math, Latex\n"
   ]
  },
  {
   "cell_type": "markdown",
   "id": "529aa5c1",
   "metadata": {},
   "source": [
    "### Формулы"
   ]
  },
  {
   "cell_type": "code",
   "execution_count": 379,
   "id": "1527add6",
   "metadata": {},
   "outputs": [
    {
     "name": "stdout",
     "output_type": "stream",
     "text": [
      "Формула Стёрджа:\n"
     ]
    },
    {
     "data": {
      "text/latex": [
       "$\\displaystyle k = 1 + lbn ; R = Xmax - Xmin ; h = \\frac{R}{k}$"
      ],
      "text/plain": [
       "<IPython.core.display.Math object>"
      ]
     },
     "metadata": {},
     "output_type": "display_data"
    },
    {
     "name": "stdout",
     "output_type": "stream",
     "text": [
      "Относительные частоты:\n"
     ]
    },
    {
     "data": {
      "text/latex": [
       "$\\displaystyle p^{*}_i = \\frac{n_i}{n}$"
      ],
      "text/plain": [
       "<IPython.core.display.Math object>"
      ]
     },
     "metadata": {},
     "output_type": "display_data"
    },
    {
     "name": "stdout",
     "output_type": "stream",
     "text": [
      "Чему равны сумму абсолютных и относительных частот:\n"
     ]
    },
    {
     "data": {
      "text/latex": [
       "$\\displaystyle \\sum^{k}_{i=1} n_i = n$"
      ],
      "text/plain": [
       "<IPython.core.display.Math object>"
      ]
     },
     "metadata": {},
     "output_type": "display_data"
    },
    {
     "data": {
      "text/latex": [
       "$\\displaystyle \\sum^{k}_{i=1} p^{*}_i = 1$"
      ],
      "text/plain": [
       "<IPython.core.display.Math object>"
      ]
     },
     "metadata": {},
     "output_type": "display_data"
    },
    {
     "name": "stdout",
     "output_type": "stream",
     "text": [
      "Среднее выборочное значение:\n"
     ]
    },
    {
     "data": {
      "text/latex": [
       "$\\displaystyle \\overline{X}_B=\\frac{1}{n}\\sum^{n}_{i+1}x_in_i=\\sum^{k}_{i+1}x_ip^{*}_i$"
      ],
      "text/plain": [
       "<IPython.core.display.Math object>"
      ]
     },
     "metadata": {},
     "output_type": "display_data"
    },
    {
     "name": "stdout",
     "output_type": "stream",
     "text": [
      "Дисперсия:\n"
     ]
    },
    {
     "data": {
      "text/latex": [
       "$\\displaystyle \\sigma^{2}_B=\\frac{1}{n}\\sum_{i=1}^{n}(x_i-\\overline{x}_B)^{2}=\\frac{1}{n}\\sum_{i=1}^{k}n_i(x_i-\\overline{x}_B)^{2}=\\sum_{i=1}^{k}p^{*}_i(x_i-\\overline{x}_B)^{2}$"
      ],
      "text/plain": [
       "<IPython.core.display.Math object>"
      ]
     },
     "metadata": {},
     "output_type": "display_data"
    },
    {
     "name": "stdout",
     "output_type": "stream",
     "text": [
      "Мода:\n"
     ]
    },
    {
     "data": {
      "text/latex": [
       "$\\displaystyle M^{*}_o\\in (x^{o}_{M_o},x^{'}_{M_o}); M^{*}_o=x^{o}_{M_o}+h\\frac{n_{M_o}-n_{M_o-1}}{(n_{M_o}-n_{M_o-1})+(n_{M_o}-n_{M_o+1})}$"
      ],
      "text/plain": [
       "<IPython.core.display.Math object>"
      ]
     },
     "metadata": {},
     "output_type": "display_data"
    },
    {
     "name": "stdout",
     "output_type": "stream",
     "text": [
      "Медиана:\n"
     ]
    },
    {
     "data": {
      "text/latex": [
       "$\\displaystyle M^{*}_e\\in (x^{o}_{M_e},x^{'}_{M_e}); M^{*}_e=x^{o}_{M_e} +\\frac{h}{p^{*}_{M_e}}(0.5-p^{\\sum}_{M_e-1})$"
      ],
      "text/plain": [
       "<IPython.core.display.Math object>"
      ]
     },
     "metadata": {},
     "output_type": "display_data"
    },
    {
     "name": "stdout",
     "output_type": "stream",
     "text": [
      "Коэффициент вариации:\n"
     ]
    },
    {
     "data": {
      "text/latex": [
       "$\\displaystyle v^{*} = \\frac{\\sigma_B}{\\left|\\overline{X}_B \\right|}*100%$"
      ],
      "text/plain": [
       "<IPython.core.display.Math object>"
      ]
     },
     "metadata": {},
     "output_type": "display_data"
    },
    {
     "name": "stdout",
     "output_type": "stream",
     "text": [
      "Условные варианты:\n"
     ]
    },
    {
     "data": {
      "text/latex": [
       "$\\displaystyle u_i=\\frac{x_i-C}{h}$"
      ],
      "text/plain": [
       "<IPython.core.display.Math object>"
      ]
     },
     "metadata": {},
     "output_type": "display_data"
    },
    {
     "name": "stdout",
     "output_type": "stream",
     "text": [
      "Обычный эмпирический момент:\n"
     ]
    },
    {
     "data": {
      "text/latex": [
       "$\\displaystyle \\nu^{T}_r=\\frac{1}{n} \\sum_{i=1}^{k}(x_i-C)^r$"
      ],
      "text/plain": [
       "<IPython.core.display.Math object>"
      ]
     },
     "metadata": {},
     "output_type": "display_data"
    },
    {
     "name": "stdout",
     "output_type": "stream",
     "text": [
      "Условный эмпирический момент:\n"
     ]
    },
    {
     "data": {
      "text/latex": [
       "$\\displaystyle \\nu^{*}_r=\\frac{1}{n} \\sum_{i=1}^{k}n_iu_i^{r} = \\frac{1}{n} \\sum_{i=1}^{k}n_i(\\frac{x_i-C}{h})^r$"
      ],
      "text/plain": [
       "<IPython.core.display.Math object>"
      ]
     },
     "metadata": {},
     "output_type": "display_data"
    },
    {
     "name": "stdout",
     "output_type": "stream",
     "text": [
      "Центральный эмпирический момент:\n"
     ]
    },
    {
     "data": {
      "text/latex": [
       "$\\displaystyle \\mu^{*}_r=\\frac{1}{n} \\sum_{i=1}^{k}n_i(x_i-\\overline{x}_B)^r$"
      ],
      "text/plain": [
       "<IPython.core.display.Math object>"
      ]
     },
     "metadata": {},
     "output_type": "display_data"
    },
    {
     "name": "stdout",
     "output_type": "stream",
     "text": [
      "Нахождение выборочного среднего через условный эмпирический момент:\n"
     ]
    },
    {
     "data": {
      "text/latex": [
       "$\\displaystyle \\overline{X}_B=h\\nu_1^*+C$"
      ],
      "text/plain": [
       "<IPython.core.display.Math object>"
      ]
     },
     "metadata": {},
     "output_type": "display_data"
    },
    {
     "name": "stdout",
     "output_type": "stream",
     "text": [
      "Значения первых четырех центральных эмпирических моментов:\n"
     ]
    },
    {
     "data": {
      "text/latex": [
       "$\\displaystyle \\mu_1^*=0;\\mu_2^*=(\\nu_2^*-(\\nu_1^*)^2)h^2;\\mu_3^*=(\\nu_3^*-3\\nu_2^*\\nu_1^*+2(\\nu_1^*)^3)h^3;\\mu_4^*=(\\nu_4^*-4\\nu_3^*\\nu_1^*+6\\nu_2^*(\\nu_1^*)^2-3(\\nu_1^*)^4)h^4$"
      ],
      "text/plain": [
       "<IPython.core.display.Math object>"
      ]
     },
     "metadata": {},
     "output_type": "display_data"
    },
    {
     "name": "stdout",
     "output_type": "stream",
     "text": [
      "Коэффициент асимметрии:\n"
     ]
    },
    {
     "data": {
      "text/latex": [
       "$\\displaystyle a_s^*=\\frac{\\mu_3^*}{\\sigma_B^3}$"
      ],
      "text/plain": [
       "<IPython.core.display.Math object>"
      ]
     },
     "metadata": {},
     "output_type": "display_data"
    },
    {
     "name": "stdout",
     "output_type": "stream",
     "text": [
      "Коэффициент эксцесса:\n"
     ]
    },
    {
     "data": {
      "text/latex": [
       "$\\displaystyle \\varepsilon_k^*=\\frac{\\mu_4^*}{\\sigma_B^4}-3$"
      ],
      "text/plain": [
       "<IPython.core.display.Math object>"
      ]
     },
     "metadata": {},
     "output_type": "display_data"
    },
    {
     "name": "stdout",
     "output_type": "stream",
     "text": [
      "Исправленная дисперсия:\n"
     ]
    },
    {
     "data": {
      "text/latex": [
       "$\\displaystyle s^2=\\frac{n}{n-1}\\sigma_B^2=\\frac{1}{n-1}\\sum_{i=1}^{k}n_i(x_i-\\overline{x}_B)^2$"
      ],
      "text/plain": [
       "<IPython.core.display.Math object>"
      ]
     },
     "metadata": {},
     "output_type": "display_data"
    },
    {
     "name": "stdout",
     "output_type": "stream",
     "text": [
      "Вероятность для случая с неизвестным СКО:\n"
     ]
    },
    {
     "data": {
      "text/latex": [
       "$\\displaystyle P(\\left\\|\\frac{\\overline{x}-a}{\\frac{s}{\\sqrt{n}}} \\right\\|<t_\\gamma  ) =2\\int_{0}^{t}f_T(t)dt =\\gamma $"
      ],
      "text/plain": [
       "<IPython.core.display.Math object>"
      ]
     },
     "metadata": {},
     "output_type": "display_data"
    },
    {
     "name": "stdout",
     "output_type": "stream",
     "text": [
      "Доверительный интервал для случая неизвестного СКО:\n"
     ]
    },
    {
     "data": {
      "text/latex": [
       "$\\displaystyle (\\overline{x}_B-\\frac{t_\\gamma s }{\\sqrt{n}},\\overline{x}_B+\\frac{t_\\gamma s }{\\sqrt{n}})$"
      ],
      "text/plain": [
       "<IPython.core.display.Math object>"
      ]
     },
     "metadata": {},
     "output_type": "display_data"
    },
    {
     "name": "stdout",
     "output_type": "stream",
     "text": [
      "Доверительные интервалы для Хи и для СКО:\n"
     ]
    },
    {
     "data": {
      "text/latex": [
       "$\\displaystyle (\\chi_1 <\\chi<\\chi_2); (\\frac{\\sqrt{n-1}}{1+q}<\\chi<\\frac{\\sqrt{n-1}}{1-q});(s(1-q)<\\sigma_r<s(1+q))$"
      ],
      "text/plain": [
       "<IPython.core.display.Math object>"
      ]
     },
     "metadata": {},
     "output_type": "display_data"
    },
    {
     "name": "stdout",
     "output_type": "stream",
     "text": [
      "Формула для точной вероятности Pi к варианте xi:\n"
     ]
    },
    {
     "data": {
      "text/latex": [
       "$\\displaystyle P(x_{i-1}<x<x_i) = \\Phi(\\frac{x_i-a}{\\sigma})-\\Phi(\\frac{x_{i-1}-a}{\\sigma})$"
      ],
      "text/plain": [
       "<IPython.core.display.Math object>"
      ]
     },
     "metadata": {},
     "output_type": "display_data"
    },
    {
     "name": "stdout",
     "output_type": "stream",
     "text": [
      "Выравнивающие частоты:\n"
     ]
    },
    {
     "data": {
      "text/latex": [
       "$\\displaystyle n_i^{'} = nP_i$"
      ],
      "text/plain": [
       "<IPython.core.display.Math object>"
      ]
     },
     "metadata": {},
     "output_type": "display_data"
    },
    {
     "name": "stdout",
     "output_type": "stream",
     "text": [
      "Формула для Хи наблюдаемого:\n"
     ]
    },
    {
     "data": {
      "text/latex": [
       "$\\displaystyle \\chi_{nabl}^2=\\sum_{i=1}^{k}\\frac{(n_i-n_i^{'})^2}{n_i^{'}}=\\sum_{i=1}^{k}\\frac{n_i^2}{n_i^{'}}-n$"
      ],
      "text/plain": [
       "<IPython.core.display.Math object>"
      ]
     },
     "metadata": {},
     "output_type": "display_data"
    },
    {
     "name": "stdout",
     "output_type": "stream",
     "text": [
      "Формула для Хи критического:\n"
     ]
    },
    {
     "data": {
      "text/latex": [
       "$\\displaystyle \\chi_{crit}^2=\\chi^2(\\alpha,df);df=k-r-1$"
      ],
      "text/plain": [
       "<IPython.core.display.Math object>"
      ]
     },
     "metadata": {},
     "output_type": "display_data"
    },
    {
     "name": "stdout",
     "output_type": "stream",
     "text": [
      "Условие принятия гипотезы\n"
     ]
    },
    {
     "data": {
      "text/latex": [
       "$\\displaystyle \\chi_{nabl}^2<\\chi_{crit}^2$"
      ],
      "text/plain": [
       "<IPython.core.display.Math object>"
      ]
     },
     "metadata": {},
     "output_type": "display_data"
    }
   ],
   "source": [
    "print(\"Формула Стёрджа:\")\n",
    "display(Math(r'k = 1 + lbn ; R = Xmax - Xmin ; h = \\frac{R}{k}'))\n",
    "print(\"Относительные частоты:\")\n",
    "display(Math(r'p^{*}_i = \\frac{n_i}{n}'))\n",
    "print(\"Чему равны сумму абсолютных и относительных частот:\")\n",
    "display(Math(r'\\sum^{k}_{i=1} n_i = n'), Math(r'\\sum^{k}_{i=1} p^{*}_i = 1'))\n",
    "print(\"Среднее выборочное значение:\")\n",
    "display(Math(r'\\overline{X}_B=\\frac{1}{n}\\sum^{n}_{i+1}x_in_i=\\sum^{k}_{i+1}x_ip^{*}_i'))\n",
    "print(\"Дисперсия:\")\n",
    "display(Math(r'\\sigma^{2}_B=\\frac{1}{n}\\sum_{i=1}^{n}(x_i-\\overline{x}_B)^{2}=\\frac{1}{n}\\sum_{i=1}^{k}n_i(x_i-\\overline{x}_B)^{2}=\\sum_{i=1}^{k}p^{*}_i(x_i-\\overline{x}_B)^{2}'))\n",
    "print(\"Мода:\")\n",
    "display(Math(r\"M^{*}_o\\in (x^{o}_{M_o},x^{'}_{M_o}); M^{*}_o=x^{o}_{M_o}+h\\frac{n_{M_o}-n_{M_o-1}}{(n_{M_o}-n_{M_o-1})+(n_{M_o}-n_{M_o+1})}\"))\n",
    "print(\"Медиана:\")\n",
    "display(Math(r\"M^{*}_e\\in (x^{o}_{M_e},x^{'}_{M_e}); M^{*}_e=x^{o}_{M_e} +\\frac{h}{p^{*}_{M_e}}(0.5-p^{\\sum}_{M_e-1})\"))\n",
    "print(\"Коэффициент вариации:\")\n",
    "display(Math(r\"v^{*} = \\frac{\\sigma_B}{\\left|\\overline{X}_B \\right|}*100%\"))\n",
    "print(\"Условные варианты:\")\n",
    "display(Math(r\"u_i=\\frac{x_i-C}{h}\"))\n",
    "print(\"Обычный эмпирический момент:\")\n",
    "display(Math(r'\\nu^{T}_r=\\frac{1}{n} \\sum_{i=1}^{k}(x_i-C)^r'))\n",
    "print(\"Условный эмпирический момент:\")\n",
    "display(Math(r'\\nu^{*}_r=\\frac{1}{n} \\sum_{i=1}^{k}n_iu_i^{r} = \\frac{1}{n} \\sum_{i=1}^{k}n_i(\\frac{x_i-C}{h})^r'))\n",
    "print(\"Центральный эмпирический момент:\")\n",
    "display(Math(r'\\mu^{*}_r=\\frac{1}{n} \\sum_{i=1}^{k}n_i(x_i-\\overline{x}_B)^r'))\n",
    "print(\"Нахождение выборочного среднего через условный эмпирический момент:\")\n",
    "display(Math(r'\\overline{X}_B=h\\nu_1^*+C'))\n",
    "print(\"Значения первых четырех центральных эмпирических моментов:\")\n",
    "display(Math(r'\\mu_1^*=0;\\mu_2^*=(\\nu_2^*-(\\nu_1^*)^2)h^2;\\mu_3^*=(\\nu_3^*-3\\nu_2^*\\nu_1^*+2(\\nu_1^*)^3)h^3;\\mu_4^*=(\\nu_4^*-4\\nu_3^*\\nu_1^*+6\\nu_2^*(\\nu_1^*)^2-3(\\nu_1^*)^4)h^4'))\n",
    "print(\"Коэффициент асимметрии:\")\n",
    "display(Math(r'a_s^*=\\frac{\\mu_3^*}{\\sigma_B^3}'))\n",
    "print(\"Коэффициент эксцесса:\")\n",
    "display(Math(r'\\varepsilon_k^*=\\frac{\\mu_4^*}{\\sigma_B^4}-3'))\n",
    "print(\"Исправленная дисперсия:\")\n",
    "display(Math(r's^2=\\frac{n}{n-1}\\sigma_B^2=\\frac{1}{n-1}\\sum_{i=1}^{k}n_i(x_i-\\overline{x}_B)^2'))\n",
    "print(\"Вероятность для случая с неизвестным СКО:\")\n",
    "display(Math(r'P(\\left\\|\\frac{\\overline{x}-a}{\\frac{s}{\\sqrt{n}}} \\right\\|<t_\\gamma  ) =2\\int_{0}^{t}f_T(t)dt =\\gamma '))\n",
    "print(\"Доверительный интервал для случая неизвестного СКО:\")\n",
    "display(Math(r'(\\overline{x}_B-\\frac{t_\\gamma s }{\\sqrt{n}},\\overline{x}_B+\\frac{t_\\gamma s }{\\sqrt{n}})'))\n",
    "print(\"Доверительные интервалы для Хи и для СКО:\")\n",
    "display(Math(r\"(\\chi_1 <\\chi<\\chi_2); (\\frac{\\sqrt{n-1}}{1+q}<\\chi<\\frac{\\sqrt{n-1}}{1-q});(s(1-q)<\\sigma_r<s(1+q))\"))\n",
    "print(\"Формула для точной вероятности Pi к варианте xi:\")\n",
    "display(Math(r\"P(x_{i-1}<x<x_i) = \\Phi(\\frac{x_i-a}{\\sigma})-\\Phi(\\frac{x_{i-1}-a}{\\sigma})\"))\n",
    "print(\"Выравнивающие частоты:\")\n",
    "display(Math(r\"n_i^{'} = nP_i\"))\n",
    "print(\"Формула для Хи наблюдаемого:\")\n",
    "display(Math(r\"\\chi_{nabl}^2=\\sum_{i=1}^{k}\\frac{(n_i-n_i^{'})^2}{n_i^{'}}=\\sum_{i=1}^{k}\\frac{n_i^2}{n_i^{'}}-n\"))\n",
    "print(\"Формула для Хи критического:\")\n",
    "display(Math(r\"\\chi_{crit}^2=\\chi^2(\\alpha,df);df=k-r-1\"))\n",
    "print(\"Условие принятия гипотезы\")\n",
    "display(Math(r\"\\chi_{nabl}^2<\\chi_{crit}^2\"))"
   ]
  },
  {
   "cell_type": "markdown",
   "id": "11c9d3c0",
   "metadata": {},
   "source": [
    "### Определения"
   ]
  },
  {
   "cell_type": "markdown",
   "id": "3036bc93",
   "metadata": {},
   "source": [
    "<p>Ранжированный ряд - ряд упорядоченный по возростанию</p>\n",
    "<p>Вариационный ряд - ряд в котором вместе с вариантами учитываются их частота</p>\n",
    "<p>Интервальный ряд - весь промежуток значений выборки разбивают на частичные интервалы</p>\n",
    "<p>h - длина интервала</p>\n",
    "<p>R - размах выборки</p>\n",
    "<p>Полигон частот - ломанная линия соединяющая точки дискретного ряда (xi,ni)</p>\n",
    "<p>Гистограмма частот - ступенчатая фигура, состоящая из прямоугольников, основанием которых является частичный интервал, а высота равна отношению ni/h</p>\n",
    "<p>Эмпирическая функция распределения - функция задающая для каждого значения x относительную частоту события</p>\n",
    "<p>Выборочное среднее - среднее арифмитическое значение признака выборки</p>\n",
    "<p>Дисперсия - среднее арифмитическое квадратов отношений значений от их среднего</p>\n",
    "<p>СКО - квадратный модуль из дисперсии</p>\n",
    "<p>Мода интервального ряда - число заключенное в частичном интервале у которого наибольшая частота</p>\n",
    "<p>Медиана интервального ряда - число принадлежащее частичному интервалу, для которого накопленная частота составит половину или больше половины всей суммы частот, а предыдущая накопленная частота меньше половины</p>\n",
    "<p>Коэффициент вариации - мера колебания изученного признака относительно выборочного среднего</p>\n",
    "<p>С - ложный нуль (для условных вариант)</p>\n",
    "<p>Обычный эмпирический момент порядка r - среднее значение r-ых степеней разностей xi-C</p>\n",
    "<p>Центральный эмпирический момент порядка r - обычный эмпирический момент при C = среднему выборочному</p>\n",
    "<p>Доверительный интервал - интервал, который покрывает неизвестный параметр с заданной надежностью</p>"
   ]
  },
  {
   "cell_type": "markdown",
   "id": "9c2e389e",
   "metadata": {},
   "source": [
    "# Постановка задачи\n",
    "<p>Осуществить формирование репрезентативной выборки заданного объема из имеющейся генеральной совокупности экспериментальных данных.\n",
    "Осуществить последовательное преобразование полученной выборки в ранжированный, вариационный и интервальный ряды. \n",
    "Применительно к интервальному ряду построить и отобразить графически полигон, гистограмму и эмпирическую функцию распределения для абсолютных и относительных частот. \n",
    "Для заданных выборочных данных вычислить с использованием метода моментов и условных вариант точечные статистические оценки математического ожидания, дисперсии, среднеквадратичного отклонения, асимметрии, эксцесса, моды, медианы и коэффициента вариации исследуемой случайной величины. \n",
    "Для заданной надёжности определить границы доверительных интервалов для математического ожидания и среднеквадратичного отклонения случайной величины. \n",
    "Проверить гипотезу о нормальном распределении исследуемой случайной величины с помощью критерия Пирсона 𝜒2. \n",
    "Полученные результаты содержательно проинтерпретировать.</p>"
   ]
  },
  {
   "cell_type": "markdown",
   "id": "167863ed",
   "metadata": {},
   "source": [
    "# Выполнение работы"
   ]
  },
  {
   "cell_type": "markdown",
   "id": "6f13d0d1",
   "metadata": {},
   "source": [
    "<p>Пункт 1<p>"
   ]
  },
  {
   "cell_type": "markdown",
   "id": "a7f6f4e0",
   "metadata": {},
   "source": [
    "<p>Для выборочной совокупности я использовал данные из генеральной выборки (кол-во выпитых литров алкоголя на душу населения за год по городам России в период с 1990-2015) вид выборки серийный</p>"
   ]
  },
  {
   "cell_type": "code",
   "execution_count": 167,
   "id": "90d81b73",
   "metadata": {},
   "outputs": [
    {
     "name": "stdout",
     "output_type": "stream",
     "text": [
      "17.5,  8.8,  32.7,  23.3,  23.8,  1.8,  18.7,  18,  27.8,  53.8,  30,  24.8,  26.6,  37.3,  24.4,  32,  46.1,  59.6,  28.3,  55.5,  39.9,  30.5,  38.4,  50.1,  40,  43.2,  27.9,  77,  55.7,  109,  28.7,  41.1,  43.3,  34.2,  61.2,  68.6,  51,  35.6,  58.8,  50.3,  39.7,  72.5,  28.2,  45.6,  81.8,  41.8,  34.4,  67.2,  125.3,  17.5,  66.2,  64.6,  49.5,  53,  104.2,  91.4,  64.7,  15.7,  118.3,  67.2,  67.4,  86,  68.8,  46.3,  39,  50.1,  52.4,  74.7,  58.8,  51,  95.8,  49.6,  78.1,  61.4,  54.2,  65.5,  81.01,  56.93,  79.01,  57.03,  66.51,  39.06,  89.7,  62.9,  71.4,  64.6,  96.1,  99.9,  67.5,  40.5,  59.5,  81.2,  79.8,  52,  56.3,  39,  55.5,  86.2,  39.5,  81.2,  72.9,  47.3,  84.3,  42.2,  42.1,  58.3,  48,  43.4,  38\n",
      "\n",
      "Из выборки видно, что она дискретная и не ранжированная\n"
     ]
    }
   ],
   "source": [
    "My_sample=[17.5,\n",
    "8.8,\n",
    "32.7,\n",
    "23.3,\n",
    "23.8,\n",
    "1.8,\n",
    "18.7,\n",
    "18,\n",
    "27.8,\n",
    "53.8,\n",
    "30,\n",
    "24.8,\n",
    "26.6,\n",
    "37.3,\n",
    "24.4,\n",
    "32,\n",
    "46.1,\n",
    "59.6,\n",
    "28.3,\n",
    "55.5,\n",
    "39.9,\n",
    "30.5,\n",
    "38.4,\n",
    "50.1,\n",
    "40,\n",
    "43.2,\n",
    "27.9,\n",
    "77,\n",
    "55.7,\n",
    "109,\n",
    "28.7,\n",
    "41.1,\n",
    "43.3,\n",
    "34.2,\n",
    "61.2,\n",
    "68.6,\n",
    "51,\n",
    "35.6,\n",
    "58.8,\n",
    "50.3,\n",
    "39.7,\n",
    "72.5,\n",
    "28.2,\n",
    "45.6,\n",
    "81.8,\n",
    "41.8,\n",
    "34.4,\n",
    "67.2,\n",
    "125.3,\n",
    "17.5,\n",
    "66.2,\n",
    "64.6,\n",
    "49.5,\n",
    "53,\n",
    "104.2,\n",
    "91.4,\n",
    "64.7,\n",
    "15.7,\n",
    "118.3,\n",
    "67.2,\n",
    "67.4,\n",
    "86,\n",
    "68.8,\n",
    "46.3,\n",
    "39,\n",
    "50.1,\n",
    "52.4,\n",
    "74.7,\n",
    "58.8,\n",
    "51,\n",
    "95.8,\n",
    "49.6,\n",
    "78.1,\n",
    "61.4,\n",
    "54.2,\n",
    "65.5,\n",
    "81.01,\n",
    "56.93,\n",
    "79.01,\n",
    "57.03,\n",
    "66.51,\n",
    "39.06,\n",
    "89.7,\n",
    "62.9,\n",
    "71.4,\n",
    "64.6,\n",
    "96.1,\n",
    "99.9,\n",
    "67.5,\n",
    "40.5,\n",
    "59.5,\n",
    "81.2,\n",
    "79.8,\n",
    "52,\n",
    "56.3,\n",
    "39,\n",
    "55.5,\n",
    "86.2,\n",
    "39.5,\n",
    "81.2,\n",
    "72.9,\n",
    "47.3,\n",
    "84.3,\n",
    "42.2,\n",
    "42.1,\n",
    "58.3,\n",
    "48,\n",
    "43.4,\n",
    "38]\n",
    "print(*My_sample,sep=',  ')\n",
    "print('\\nИз выборки видно, что она дискретная и не ранжированная')"
   ]
  },
  {
   "cell_type": "markdown",
   "id": "ec2fbabc",
   "metadata": {},
   "source": [
    "<p>Пункт 2<p>"
   ]
  },
  {
   "cell_type": "code",
   "execution_count": 219,
   "id": "8c276c6d",
   "metadata": {},
   "outputs": [
    {
     "name": "stdout",
     "output_type": "stream",
     "text": [
      "Вывод ранжированного ряда:\n",
      "\n",
      "i     xi\n",
      "\n",
      "1     1.8\n",
      "2     8.8\n",
      "3     15.7\n",
      "4     17.5\n",
      "5     17.5\n",
      "6     18\n",
      "7     18.7\n",
      "8     23.3\n",
      "9     23.8\n",
      "10    24.4\n",
      "11    24.8\n",
      "12    26.6\n",
      "13    27.8\n",
      "14    27.9\n",
      "15    28.2\n",
      "16    28.3\n",
      "17    28.7\n",
      "18    30\n",
      "19    30.5\n",
      "20    32\n",
      "21    32.7\n",
      "22    34.2\n",
      "23    34.4\n",
      "24    35.6\n",
      "25    37.3\n",
      "26    38\n",
      "27    38.4\n",
      "28    39\n",
      "29    39\n",
      "30    39.06\n",
      "31    39.5\n",
      "32    39.7\n",
      "33    39.9\n",
      "34    40\n",
      "35    40.5\n",
      "36    41.1\n",
      "37    41.8\n",
      "38    42.1\n",
      "39    42.2\n",
      "40    43.2\n",
      "41    43.3\n",
      "42    43.4\n",
      "43    45.6\n",
      "44    46.1\n",
      "45    46.3\n",
      "46    47.3\n",
      "47    48\n",
      "48    49.5\n",
      "49    49.6\n",
      "50    50.1\n",
      "51    50.1\n",
      "52    50.3\n",
      "53    51\n",
      "54    51\n",
      "55    52\n",
      "56    52.4\n",
      "57    53\n",
      "58    53.8\n",
      "59    54.2\n",
      "60    55.5\n",
      "61    55.5\n",
      "62    55.7\n",
      "63    56.3\n",
      "64    56.93\n",
      "65    57.03\n",
      "66    58.3\n",
      "67    58.8\n",
      "68    58.8\n",
      "69    59.5\n",
      "70    59.6\n",
      "71    61.2\n",
      "72    61.4\n",
      "73    62.9\n",
      "74    64.6\n",
      "75    64.6\n",
      "76    64.7\n",
      "77    65.5\n",
      "78    66.2\n",
      "79    66.51\n",
      "80    67.2\n",
      "81    67.2\n",
      "82    67.4\n",
      "83    67.5\n",
      "84    68.6\n",
      "85    68.8\n",
      "86    71.4\n",
      "87    72.5\n",
      "88    72.9\n",
      "89    74.7\n",
      "90    77\n",
      "91    78.1\n",
      "92    79.01\n",
      "93    79.8\n",
      "94    81.01\n",
      "95    81.2\n",
      "96    81.2\n",
      "97    81.8\n",
      "98    84.3\n",
      "99    86\n",
      "100   86.2\n",
      "101   89.7\n",
      "102   91.4\n",
      "103   95.8\n",
      "104   96.1\n",
      "105   99.9\n",
      "106   104.2\n",
      "107   109\n",
      "108   118.3\n",
      "109   125.3\n",
      "\n",
      "\n",
      "Вывод Вариационного ряда:\n",
      "\n",
      "i     xi      ni    pi\n",
      "\n",
      "1     1.8     1    0.009174311926605505\n",
      "2     8.8     1    0.009174311926605505\n",
      "3     15.7    1    0.009174311926605505\n",
      "4     17.5    2    0.01834862385321101\n",
      "5     18      1    0.009174311926605505\n",
      "6     18.7    1    0.009174311926605505\n",
      "7     23.3    1    0.009174311926605505\n",
      "8     23.8    1    0.009174311926605505\n",
      "9     24.4    1    0.009174311926605505\n",
      "10    24.8    1    0.009174311926605505\n",
      "11    26.6    1    0.009174311926605505\n",
      "12    27.8    1    0.009174311926605505\n",
      "13    27.9    1    0.009174311926605505\n",
      "14    28.2    1    0.009174311926605505\n",
      "15    28.3    1    0.009174311926605505\n",
      "16    28.7    1    0.009174311926605505\n",
      "17    30      1    0.009174311926605505\n",
      "18    30.5    1    0.009174311926605505\n",
      "19    32      1    0.009174311926605505\n",
      "20    32.7    1    0.009174311926605505\n",
      "21    34.2    1    0.009174311926605505\n",
      "22    34.4    1    0.009174311926605505\n",
      "23    35.6    1    0.009174311926605505\n",
      "24    37.3    1    0.009174311926605505\n",
      "25    38      1    0.009174311926605505\n",
      "26    38.4    1    0.009174311926605505\n",
      "27    39      2    0.01834862385321101\n",
      "28    39.06   1    0.009174311926605505\n",
      "29    39.5    1    0.009174311926605505\n",
      "30    39.7    1    0.009174311926605505\n",
      "31    39.9    1    0.009174311926605505\n",
      "32    40      1    0.009174311926605505\n",
      "33    40.5    1    0.009174311926605505\n",
      "34    41.1    1    0.009174311926605505\n",
      "35    41.8    1    0.009174311926605505\n",
      "36    42.1    1    0.009174311926605505\n",
      "37    42.2    1    0.009174311926605505\n",
      "38    43.2    1    0.009174311926605505\n",
      "39    43.3    1    0.009174311926605505\n",
      "40    43.4    1    0.009174311926605505\n",
      "41    45.6    1    0.009174311926605505\n",
      "42    46.1    1    0.009174311926605505\n",
      "43    46.3    1    0.009174311926605505\n",
      "44    47.3    1    0.009174311926605505\n",
      "45    48      1    0.009174311926605505\n",
      "46    49.5    1    0.009174311926605505\n",
      "47    49.6    1    0.009174311926605505\n",
      "48    50.1    2    0.01834862385321101\n",
      "49    50.3    1    0.009174311926605505\n",
      "50    51      2    0.01834862385321101\n",
      "51    52      1    0.009174311926605505\n",
      "52    52.4    1    0.009174311926605505\n",
      "53    53      1    0.009174311926605505\n",
      "54    53.8    1    0.009174311926605505\n",
      "55    54.2    1    0.009174311926605505\n",
      "56    55.5    2    0.01834862385321101\n",
      "57    55.7    1    0.009174311926605505\n",
      "58    56.3    1    0.009174311926605505\n",
      "59    56.93   1    0.009174311926605505\n",
      "60    57.03   1    0.009174311926605505\n",
      "61    58.3    1    0.009174311926605505\n",
      "62    58.8    2    0.01834862385321101\n",
      "63    59.5    1    0.009174311926605505\n",
      "64    59.6    1    0.009174311926605505\n",
      "65    61.2    1    0.009174311926605505\n",
      "66    61.4    1    0.009174311926605505\n",
      "67    62.9    1    0.009174311926605505\n",
      "68    64.6    2    0.01834862385321101\n",
      "69    64.7    1    0.009174311926605505\n",
      "70    65.5    1    0.009174311926605505\n",
      "71    66.2    1    0.009174311926605505\n",
      "72    66.51   1    0.009174311926605505\n",
      "73    67.2    2    0.01834862385321101\n",
      "74    67.4    1    0.009174311926605505\n",
      "75    67.5    1    0.009174311926605505\n",
      "76    68.6    1    0.009174311926605505\n",
      "77    68.8    1    0.009174311926605505\n",
      "78    71.4    1    0.009174311926605505\n",
      "79    72.5    1    0.009174311926605505\n",
      "80    72.9    1    0.009174311926605505\n",
      "81    74.7    1    0.009174311926605505\n",
      "82    77      1    0.009174311926605505\n",
      "83    78.1    1    0.009174311926605505\n",
      "84    79.01   1    0.009174311926605505\n",
      "85    79.8    1    0.009174311926605505\n",
      "86    81.01   1    0.009174311926605505\n",
      "87    81.2    2    0.01834862385321101\n",
      "88    81.8    1    0.009174311926605505\n",
      "89    84.3    1    0.009174311926605505\n",
      "90    86      1    0.009174311926605505\n",
      "91    86.2    1    0.009174311926605505\n",
      "92    89.7    1    0.009174311926605505\n",
      "93    91.4    1    0.009174311926605505\n",
      "94    95.8    1    0.009174311926605505\n",
      "95    96.1    1    0.009174311926605505\n",
      "96    99.9    1    0.009174311926605505\n",
      "97    104.2   1    0.009174311926605505\n",
      "98    109     1    0.009174311926605505\n",
      "99    118.3   1    0.009174311926605505\n",
      "100   125.3   1    0.009174311926605505\n",
      "    summ(ni)=109    summ(pi)=0.9999999999999982\n",
      "\n",
      "\n",
      "\n",
      "Вывод Интервального ряда:\n",
      "\n",
      "i     (xi-1,xi]            ~xi       ni        pi\n",
      "\n",
      "1     (1.8, 17.2375]      9.51875    3    0.027522935779816515\n",
      "2     (17.2375, 32.675]   24.95625    17    0.1559633027522936\n",
      "3     (32.675, 48.1125]   40.39375    27    0.24770642201834864\n",
      "4     (48.1125, 63.55]    55.83125    26    0.23853211009174313\n",
      "5     (63.55, 78.9875]    71.26875    18    0.1651376146788991\n",
      "6     (78.9875, 94.425]   86.70625    11    0.10091743119266056\n",
      "7     (94.425, 109.8625]  102.14375    5    0.045871559633027525\n",
      "8     (109.8625, 125.3]   117.58125    2    0.01834862385321101\n",
      "    summ(ni)=109    summ(pi)=0.9999999999999999\n",
      "\n"
     ]
    }
   ],
   "source": [
    "# Ранжированный ряд\n",
    "My_sample_rank =[]\n",
    "My_sample_rank.extend(sorted(My_sample))\n",
    "print('Вывод ранжированного ряда:\\n')\n",
    "print('i     xi\\n')\n",
    "for i in range(len(My_sample_rank)):\n",
    "    print(f\"{i+1}{' '*(6-len(str(i+1)))}{My_sample_rank[i]}\")\n",
    "    \n",
    "# Вариационный ряд\n",
    "My_sample_vari =[]\n",
    "for i in My_sample_rank:\n",
    "    if [i,My_sample_rank.count(i),My_sample_rank.count(i)/len(My_sample_rank)] not in My_sample_vari:\n",
    "        My_sample_vari.append([i,My_sample_rank.count(i),My_sample_rank.count(i)/len(My_sample_rank)])\n",
    "print('\\n\\nВывод Вариационного ряда:\\n')\n",
    "print('i     xi      ni    pi\\n')\n",
    "summNi=0\n",
    "summPi=0\n",
    "for i in range(len(My_sample_vari)):\n",
    "    summNi +=My_sample_vari[i][1] \n",
    "    summPi +=My_sample_vari[i][2]\n",
    "    print(f\"{i+1}{' '*(6-len(str(i+1)))}{My_sample_vari[i][0]}{' '*(8-len(str(My_sample_vari[i][0])))}{My_sample_vari[i][1]}    {My_sample_vari[i][2]}\")\n",
    "print(f\"    summ(ni)={summNi}    summ(pi)={summPi}\\n\")\n",
    "# Интервальный ряд\n",
    "import math\n",
    "My_sample_inter = []\n",
    "k = math.ceil(1+math.log2(len(My_sample_rank)))\n",
    "R = My_sample_rank[-1]-My_sample_rank[0]\n",
    "h = R/k\n",
    "x0 = My_sample_rank[0] \n",
    "for i in range(k):\n",
    "    c = 0\n",
    "    for j in My_sample_rank:\n",
    "        if x0+i*h<j<=x0+(i+1)*h:\n",
    "            c+=1\n",
    "    My_sample_inter.append([[x0+i*h,x0+(i+1)*h],c])\n",
    "My_sample_inter[0][1]+=1\n",
    "My_saple_inter_srx = []\n",
    "My_saple_inter_ni = []\n",
    "My_saple_inter_pi = []\n",
    "print('\\n\\nВывод Интервального ряда:\\n')\n",
    "print('i     (xi-1,xi]            ~xi       ni        pi\\n')\n",
    "summNi=0\n",
    "summPi=0\n",
    "nuzhno=[]\n",
    "nuzhno2=[]\n",
    "Nakop1 = []\n",
    "Nakop2 = []\n",
    "for i in range(len(My_sample_inter)):\n",
    "    My_saple_inter_ni.append(My_sample_inter[i][1])\n",
    "    nuzhno.append(My_saple_inter_ni[i]/h)\n",
    "    My_saple_inter_pi.append(My_sample_inter[i][1]/len(My_sample_rank))\n",
    "    nuzhno2.append(My_saple_inter_pi[i]/h)\n",
    "    summNi +=My_sample_inter[i][1] \n",
    "    summPi +=My_sample_inter[i][1]/len(My_sample_rank)\n",
    "    Nakop1.append(summNi)\n",
    "    Nakop2.append(summPi)\n",
    "    My_saple_inter_srx.append((My_sample_inter[i][0][0]+My_sample_inter[i][0][1])/2)\n",
    "    print(f\"{i+1}{' '*(6-len(str(i+1)))}({My_sample_inter[i][0][0]}, {My_sample_inter[i][0][1]}]{' '*(20-len(str(My_sample_inter[i][0])))}{round((My_sample_inter[i][0][0]+My_sample_inter[i][0][1])/2,5)}    {My_sample_inter[i][1]}    {My_sample_inter[i][1]/len(My_sample_rank)}\")\n",
    "print(f\"    summ(ni)={summNi}    summ(pi)={summPi}\\n\")"
   ]
  },
  {
   "cell_type": "markdown",
   "id": "ac2e5f22",
   "metadata": {},
   "source": [
    "<p>Пункт 3<p>"
   ]
  },
  {
   "cell_type": "code",
   "execution_count": 302,
   "id": "2da54d6e",
   "metadata": {
    "scrolled": false
   },
   "outputs": [
    {
     "name": "stdout",
     "output_type": "stream",
     "text": [
      "Полигон абсолютных частот\n"
     ]
    },
    {
     "data": {
      "image/png": "[encoded data removed]",
      "text/plain": [
       "<Figure size 720x432 with 1 Axes>"
      ]
     },
     "metadata": {
      "needs_background": "light"
     },
     "output_type": "display_data"
    },
    {
     "name": "stdout",
     "output_type": "stream",
     "text": [
      "\n",
      "Гистограмма абсолютных частот\n"
     ]
    },
    {
     "data": {
      "image/png": "[encoded data removed]",
      "text/plain": [
       "<Figure size 720x432 with 1 Axes>"
      ]
     },
     "metadata": {
      "needs_background": "light"
     },
     "output_type": "display_data"
    },
    {
     "name": "stdout",
     "output_type": "stream",
     "text": [
      "\n",
      "Эмпирическая функция абсолютных частот\n"
     ]
    },
    {
     "data": {
      "image/png": "[encoded data removed]",
      "text/plain": [
       "<Figure size 720x432 with 1 Axes>"
      ]
     },
     "metadata": {
      "needs_background": "light"
     },
     "output_type": "display_data"
    },
    {
     "name": "stdout",
     "output_type": "stream",
     "text": [
      "Выводы по полигону и гистограмме частот заметно что выборка имеет нормальное распределение \n"
     ]
    }
   ],
   "source": [
    "import numpy as np\n",
    "import matplotlib.pyplot as plt\n",
    "print(\"Полигон абсолютных частот\")\n",
    "fig, ax = plt.subplots(figsize=(10, 6))\n",
    "ax.scatter(My_saple_inter_srx, My_saple_inter_ni)\n",
    "plt.plot(My_saple_inter_srx, My_saple_inter_ni)\n",
    "plt.xlabel(\"x\")\n",
    "plt.ylabel(\"ni\")\n",
    "plt.show()\n",
    "print(\"\\nГистограмма абсолютных частот\")\n",
    "fig, ax = plt.subplots(figsize=(10, 6))\n",
    "plt.bar([My_sample_inter[i][0][0] for i in range(len(My_sample_inter))], nuzhno,width=h)\n",
    "plt.show()\n",
    "print('\\nЭмпирическая функция абсолютных частот')\n",
    "fig, ax = plt.subplots(figsize=(10, 6))\n",
    "plt.bar([My_sample_inter[i][0][0] for i in range(len(My_sample_inter))], Nakop1,width=h)\n",
    "plt.show()\n",
    "print(\"Выводы: по полигону и гистограмме частот заметно что выборка имеет нормальное распределение \")"
   ]
  },
  {
   "cell_type": "markdown",
   "id": "dfd78093",
   "metadata": {},
   "source": [
    "<p>Пункт 4<p>"
   ]
  },
  {
   "cell_type": "code",
   "execution_count": 303,
   "id": "1b602f73",
   "metadata": {},
   "outputs": [
    {
     "name": "stdout",
     "output_type": "stream",
     "text": [
      "Полигон относительных частот\n"
     ]
    },
    {
     "data": {
      "image/png": "[encoded data removed]",
      "text/plain": [
       "<Figure size 720x432 with 1 Axes>"
      ]
     },
     "metadata": {
      "needs_background": "light"
     },
     "output_type": "display_data"
    },
    {
     "name": "stdout",
     "output_type": "stream",
     "text": [
      "\n",
      "Гистограмма абсолютных частот\n"
     ]
    },
    {
     "data": {
      "image/png": "[encoded data removed]",
      "text/plain": [
       "<Figure size 720x432 with 1 Axes>"
      ]
     },
     "metadata": {
      "needs_background": "light"
     },
     "output_type": "display_data"
    },
    {
     "name": "stdout",
     "output_type": "stream",
     "text": [
      "\n",
      "Эмпирическая функция абсолютных частот\n"
     ]
    },
    {
     "data": {
      "image/png": "[encoded data removed]",
      "text/plain": [
       "<Figure size 720x432 with 1 Axes>"
      ]
     },
     "metadata": {
      "needs_background": "light"
     },
     "output_type": "display_data"
    },
    {
     "name": "stdout",
     "output_type": "stream",
     "text": [
      "Выводы: сравнив все три графика можно заметить что у них высота отличается ровно в n раз, также эмпирическая функция соблюдает ограничениям в высоте от [0,1] \n"
     ]
    }
   ],
   "source": [
    "print(\"Полигон относительных частот\")\n",
    "fig, ax = plt.subplots(figsize=(10, 6))\n",
    "ax.scatter(My_saple_inter_srx, My_saple_inter_pi)\n",
    "plt.plot(My_saple_inter_srx, My_saple_inter_pi)\n",
    "plt.xlabel(\"x\")\n",
    "plt.ylabel(\"pi\")\n",
    "plt.show()\n",
    "print(\"\\nГистограмма относительных частот\")\n",
    "fig, ax = plt.subplots(figsize=(10, 6))\n",
    "plt.bar([My_sample_inter[i][0][0] for i in range(len(My_sample_inter))], nuzhno2,width=h)\n",
    "plt.show()\n",
    "print('\\nЭмпирическая функция относительных частот')\n",
    "fig, ax = plt.subplots(figsize=(10, 6))\n",
    "plt.bar([My_sample_inter[i][0][0] for i in range(len(My_sample_inter))], Nakop2,width=h)\n",
    "plt.show()\n",
    "print(\"Выводы: сравнив все три графика можно заметить что у них высота отличается ровно в n раз, также эмпирическая функция соблюдает ограничениям в высоте от [0,1] \")"
   ]
  },
  {
   "cell_type": "markdown",
   "id": "c9fba074",
   "metadata": {},
   "source": [
    "<p>Пункт 5<p>"
   ]
  },
  {
   "cell_type": "code",
   "execution_count": 209,
   "id": "e33f2a05",
   "metadata": {},
   "outputs": [
    {
     "name": "stdout",
     "output_type": "stream",
     "text": [
      "\n",
      "\n",
      "Вывод Интервального ряда:\n",
      "\n",
      "i     (xi-1,xi]            ~xi       ni        pi     niΣ       piΣ\n",
      "\n",
      "1     (1.8, 17.2375]      9.51875    3    0.0275229    3       0.0275229\n",
      "2     (17.2375, 32.675]   24.95625    17    0.1559633    20       0.1834862\n",
      "3     (32.675, 48.1125]   40.39375    27    0.2477064    47       0.4311927\n",
      "4     (48.1125, 63.55]    55.83125    26    0.2385321    73       0.6697248\n",
      "5     (63.55, 78.9875]    71.26875    18    0.1651376    91       0.8348624\n",
      "6     (78.9875, 94.425]   86.70625    11    0.1009174    102       0.9357798\n",
      "7     (94.425, 109.8625]  102.14375    5    0.0458716    107       0.9816514\n",
      "8     (109.8625, 125.3]   117.58125    2    0.0183486    109       1.0\n",
      "    summ(ni)=109    summ(pi)=0.9999999999999999\n",
      "\n"
     ]
    }
   ],
   "source": [
    "print('\\n\\nВывод Интервального ряда:\\n')\n",
    "print('i     (xi-1,xi]            ~xi       ni        pi     niΣ       piΣ\\n')\n",
    "summNi=0\n",
    "summPi=0\n",
    "for i in range(len(My_sample_inter)):\n",
    "    summNi +=My_sample_inter[i][1] \n",
    "    summPi +=My_sample_inter[i][1]/len(My_sample_rank)\n",
    "    if summPi<0.5:\n",
    "        PMe = summPi\n",
    "    print(f\"{i+1}{' '*(6-len(str(i+1)))}({My_sample_inter[i][0][0]}, {My_sample_inter[i][0][1]}]{' '*(20-len(str(My_sample_inter[i][0])))}{round((My_sample_inter[i][0][0]+My_sample_inter[i][0][1])/2,5)}    {My_sample_inter[i][1]}    {round(My_sample_inter[i][1]/len(My_sample_rank),7)}    {summNi}       {round(summPi,7)}\")\n",
    "print(f\"    summ(ni)={summNi}    summ(pi)={summPi}\\n\")"
   ]
  },
  {
   "cell_type": "markdown",
   "id": "c6bd1dca",
   "metadata": {},
   "source": [
    "<p>Пункт 6<p>"
   ]
  },
  {
   "cell_type": "code",
   "execution_count": 191,
   "id": "ab9e8636",
   "metadata": {},
   "outputs": [
    {
     "name": "stdout",
     "output_type": "stream",
     "text": [
      "Расчетная таблица\n",
      "\n",
      "i      xi                 ni            ui       ni*ui      ni*ui^2     ni*ui^3        ni*ui^4      ni*(ui+1)^4\n",
      "\n",
      "1     9.51875             3           -3.0        -9.0        27.0        -81.0       243.0       48.0\n",
      "2     24.956249999999997  17          -2.0        -34.0       68.0        -136.0      272.0       17.0\n",
      "3     40.39375            27          -1.0        -27.0       27.0        -27.0       27.0        0.0\n",
      "4     55.83125            26          0.0         0.0         0.0         0.0         0.0         26.0\n",
      "5     71.26875            18          1.0         18.0        18.0        18.0        18.0        288.0\n",
      "6     86.70625            11          2.0         22.0        44.0        88.0        176.0       891.0\n",
      "7     102.14375           5           3.0         15.0        45.0        135.0       405.0       1280.0\n",
      "8     117.58125           2           4.0         8.0         32.0        128.0       512.0       1250.0\n",
      "\n",
      "Σ    Σni=109    Σni*ui=-7.0   Σni*ui^2=261.0    Σni*ui^3=125.0    Σni*ui^4=1653.0    Σni*(ui+1)^4=3800.0\n",
      "\n",
      "\n",
      "Результат проверки\n",
      " n+4Σni*ui+6Σni*ui^2+4Σni*ui^3+Σni*ui^4 ?= Σni*(ui+1)^4\n",
      " n+4Σni*ui+6Σni*ui^2+4Σni*ui^3+Σni*ui^4=3800.0\n",
      " Σni*(ui+1)^4=3800.0 \n",
      " Разница равна: 0.0\n"
     ]
    }
   ],
   "source": [
    "My_saple_inter_ui = []\n",
    "#возьмем под ложный нуль варианту №4 т.к она в середине и имеет наибольшую частоту\n",
    "C = My_saple_inter_srx[3]\n",
    "Punkt6_summ = [0,0,0,0,0,0]\n",
    "print(\"Расчетная таблица\\n\")\n",
    "print(\"i      xi                 ni            ui       ni*ui      ni*ui^2     ni*ui^3        ni*ui^4      ni*(ui+1)^4\\n\")\n",
    "for i in range(len(My_sample_inter)):\n",
    "    My_saple_inter_ui.append((My_saple_inter_srx[i]-C)/h)\n",
    "    Punkt6_summ[0]+=My_saple_inter_ni[i]\n",
    "    Punkt6_summ[1]+=My_saple_inter_ni[i]*My_saple_inter_ui[i]\n",
    "    Punkt6_summ[2]+=My_saple_inter_ni[i]*My_saple_inter_ui[i]**2\n",
    "    Punkt6_summ[3]+=My_saple_inter_ni[i]*My_saple_inter_ui[i]**3\n",
    "    Punkt6_summ[4]+=My_saple_inter_ni[i]*My_saple_inter_ui[i]**4\n",
    "    Punkt6_summ[5]+=My_saple_inter_ni[i]*(My_saple_inter_ui[i]+1)**4\n",
    "    print(f\"{i+1}{' '*(6-len(str(i+1)))}{My_saple_inter_srx[i]}{' '*(20-len(str(My_saple_inter_srx[i])))}{My_saple_inter_ni[i]}{' '*(12-len(str(My_saple_inter_ni[i])))}{My_saple_inter_ui[i]}{' '*(12-len(str(My_saple_inter_ui[i])))}{My_saple_inter_ni[i]*My_saple_inter_ui[i]}{' '*(12-len(str(My_saple_inter_ni[i]*My_saple_inter_ui[i])))}{My_saple_inter_ni[i]*My_saple_inter_ui[i]**2}{' '*(12-len(str(My_saple_inter_ni[i]*My_saple_inter_ui[i]**2)))}{My_saple_inter_ni[i]*My_saple_inter_ui[i]**3}{' '*(12-len(str(My_saple_inter_ni[i]*My_saple_inter_ui[i]**3)))}{My_saple_inter_ni[i]*My_saple_inter_ui[i]**4}{' '*(12-len(str(My_saple_inter_ni[i]*My_saple_inter_ui[i]**4)))}{My_saple_inter_ni[i]*(My_saple_inter_ui[i]+1)**4}\")\n",
    "print(f\"\\nΣ    Σni={Punkt6_summ[0]}    Σni*ui={Punkt6_summ[1]}   Σni*ui^2={Punkt6_summ[2]}    Σni*ui^3={Punkt6_summ[3]}    Σni*ui^4={Punkt6_summ[4]}    Σni*(ui+1)^4={Punkt6_summ[5]}\")\n",
    "print(f\"\\n\\nРезультат проверки\\n n+4Σni*ui+6Σni*ui^2+4Σni*ui^3+Σni*ui^4 ?= Σni*(ui+1)^4\\n n+4Σni*ui+6Σni*ui^2+4Σni*ui^3+Σni*ui^4={Punkt6_summ[0]+4*Punkt6_summ[1]+6*Punkt6_summ[2]+4*Punkt6_summ[3]+Punkt6_summ[4]}\\n Σni*(ui+1)^4={Punkt6_summ[5]} \\n Разница равна: {Punkt6_summ[0]+4*Punkt6_summ[1]+6*Punkt6_summ[2]+4*Punkt6_summ[3]+Punkt6_summ[4]-Punkt6_summ[5]}\")"
   ]
  },
  {
   "cell_type": "markdown",
   "id": "6e92624c",
   "metadata": {},
   "source": [
    "<p>Пункт 7<p>"
   ]
  },
  {
   "cell_type": "code",
   "execution_count": 192,
   "id": "fbde8b29",
   "metadata": {},
   "outputs": [
    {
     "name": "stdout",
     "output_type": "stream",
     "text": [
      "Таблица условных и центральных эмпирических моментов\n",
      "\n",
      "i       𝜈*         𝜇*\n",
      "1     -7.0        0.0\n",
      "2     261.0       260.5504587\n",
      "3     125.0       175.2266644\n",
      "4     1653.0      1691.563077\n"
     ]
    }
   ],
   "source": [
    "print('Таблица условных и центральных эмпирических моментов\\n')\n",
    "Xsr = 0\n",
    "for i in range(len(My_sample_inter)):\n",
    "    Xsr += My_saple_inter_ni[i]*My_saple_inter_srx[i]/Punkt6_summ[0]\n",
    "C2 = Xsr\n",
    "My_saple_inter_mi = []\n",
    "Punkt7_summ = [0,0,0,0,0,0]\n",
    "for i in range(len(My_sample_inter)):\n",
    "    My_saple_inter_mi.append((My_saple_inter_srx[i]-C2)/h)\n",
    "    Punkt7_summ[0]+=My_saple_inter_ni[i]\n",
    "    Punkt7_summ[1]+=My_saple_inter_ni[i]*My_saple_inter_mi[i]\n",
    "    Punkt7_summ[2]+=My_saple_inter_ni[i]*My_saple_inter_mi[i]**2\n",
    "    Punkt7_summ[3]+=My_saple_inter_ni[i]*My_saple_inter_mi[i]**3\n",
    "    Punkt7_summ[4]+=My_saple_inter_ni[i]*My_saple_inter_mi[i]**4\n",
    "    Punkt7_summ[5]+=My_saple_inter_ni[i]*(My_saple_inter_mi[i]+1)**4\n",
    "print('i       𝜈*         𝜇*')\n",
    "for i in range(4):\n",
    "    print(f\"{i+1}{' '*(6-len(str(i+1)))}{Punkt6_summ[i+1]}{' '*(12-len(str(Punkt6_summ[i+1])))}{round(Punkt7_summ[i+1],7)}\")"
   ]
  },
  {
   "cell_type": "markdown",
   "id": "718562e7",
   "metadata": {},
   "source": [
    "<p>Пункт 8<p>"
   ]
  },
  {
   "cell_type": "code",
   "execution_count": 197,
   "id": "789711da",
   "metadata": {},
   "outputs": [
    {
     "name": "stdout",
     "output_type": "stream",
     "text": [
      "Выборочное среднее и дисперсия с помощью условных вариант:\n",
      "\n",
      "~Xв = 54.83985091743119 Dв = 569.6646694301827\n",
      "\n",
      "Выборочное среднее и дисперсия с помощью стандартной формулы:\n",
      "\n",
      "~Xв = 54.839850917431185 Dв = 569.6646694301826\n"
     ]
    }
   ],
   "source": [
    "print(\"Выборочное среднее и дисперсия с помощью условных вариант:\\n\")\n",
    "print(f\"~Xв = {Punkt6_summ[1]*h/Punkt6_summ[0]+C} Dв = {(Punkt6_summ[2]/Punkt6_summ[0]-(Punkt6_summ[1]/Punkt6_summ[0])**2)*(h**2)}\")\n",
    "print(\"\\nВыборочное среднее и дисперсия с помощью стандартной формулы:\\n\")\n",
    "Xvb = 0\n",
    "Dvb = 0\n",
    "for i in range(len(My_sample_inter)):\n",
    "    Xvb += My_saple_inter_ni[i]*My_saple_inter_srx[i]/Punkt6_summ[0]\n",
    "for i in range(len(My_sample_inter)):\n",
    "    Dvb += My_saple_inter_ni[i]*(My_saple_inter_srx[i]-Xvb)**2/Punkt6_summ[0]\n",
    "print(f\"~Xв = {Xvb} Dв = {Dvb}\")"
   ]
  },
  {
   "cell_type": "markdown",
   "id": "b462882a",
   "metadata": {},
   "source": [
    "<p>Пункт 9<p>"
   ]
  },
  {
   "cell_type": "code",
   "execution_count": 201,
   "id": "9a408a04",
   "metadata": {},
   "outputs": [
    {
     "name": "stdout",
     "output_type": "stream",
     "text": [
      "Исправленная дисперсия равна : 574.9393422952769\n",
      "Исправленное СКО равно : 23.97789278262952\n",
      "Отношение Исправленной дисперсии к изначальной = 1.0092592592592593\n",
      "Отношение Исправленного СКО к изначальному равно = 1.0046189622236181\n",
      "Делаем вывод что значения отношений малы так как выборка достаточно большая\n"
     ]
    }
   ],
   "source": [
    "Svb = Dvb*(Punkt6_summ[0])/(Punkt6_summ[0]-1)\n",
    "print(f\"Исправленная дисперсия равна : {Svb}\")\n",
    "SCO = math.sqrt(Svb)\n",
    "print(f\"Исправленное СКО равно : {SCO}\")\n",
    "print(f\"Отношение Исправленной дисперсии к изначальной = {Svb/Dvb}\\nОтношение Исправленного СКО к изначальному равно = {SCO/math.sqrt(Dvb)}\")\n",
    "print(\"Делаем вывод что значения отношений малы так как выборка достаточно большая\")"
   ]
  },
  {
   "cell_type": "markdown",
   "id": "6735458a",
   "metadata": {},
   "source": [
    "<p>Пункт 10<p>"
   ]
  },
  {
   "cell_type": "code",
   "execution_count": 305,
   "id": "a8989323",
   "metadata": {},
   "outputs": [
    {
     "name": "stdout",
     "output_type": "stream",
     "text": [
      " Kоэффициент асимметрии: 0.4349864009120989 \n",
      " Коэффициент эксцесса: -0.28399221384645834\n",
      "\n",
      "Выводы: коэффициент асимметрии больше 0 следовательно у графика распределения правый хвост будет длиннее левого, что подтверждается графиком. Коэффициент эксцесса отрицателен следовательно пик около математического ожидания гладкий, что также подтверждается гграфиками\n"
     ]
    }
   ],
   "source": [
    "print(f\" Kоэффициент асимметрии: {(Punkt6_summ[3]/Punkt6_summ[0]-3*(Punkt6_summ[2]/Punkt6_summ[0])*Punkt6_summ[1]/Punkt6_summ[0]+2*(Punkt6_summ[1]/Punkt6_summ[0])**3)*h**3/(math.sqrt(Dvb)**3)} \\n Коэффициент эксцесса: {(Punkt6_summ[4]/Punkt6_summ[0]-4*(Punkt6_summ[3]/Punkt6_summ[0])*Punkt6_summ[1]/Punkt6_summ[0]+6*(Punkt6_summ[2]/Punkt6_summ[0])*(Punkt6_summ[1]/Punkt6_summ[0])**2-3*(Punkt6_summ[1]/Punkt6_summ[0])**4)*h**4/(math.sqrt(Dvb)**4)-3}\")\n",
    "print(\"\\nВыводы: коэффициент асимметрии больше 0 следовательно у графика распределения правый хвост будет длиннее левого, что подтверждается графиком. Коэффициент эксцесса отрицателен следовательно пик около математического ожидания гладкий, что также подтверждается гграфиками\")"
   ]
  },
  {
   "cell_type": "markdown",
   "id": "612515e9",
   "metadata": {},
   "source": [
    "<p>Пункт 11<p>"
   ]
  },
  {
   "cell_type": "code",
   "execution_count": 306,
   "id": "2212ab7c",
   "metadata": {},
   "outputs": [
    {
     "name": "stdout",
     "output_type": "stream",
     "text": [
      "Мода = 46.709090909090904\n",
      "Медиана = 52.565625\n",
      "Коэффициент вариации = 43.522454226590995%\n",
      "\n",
      "Выводы: Мода показывает на локальный максимум распределения, медиана показывает на точку делящую распределение на две равновероятностные половины, коэффициент вариации показывает степень изменчивости по отношению к среднему показателю\n"
     ]
    }
   ],
   "source": [
    "# Заметим что варианта с наибольшей частотой третья \n",
    "xmo = My_sample_inter[2][0][0]\n",
    "nmo = My_saple_inter_ni[2]\n",
    "Mo = xmo+h*(nmo-My_saple_inter_ni[1])/(2*nmo-My_saple_inter_ni[1]-My_saple_inter_ni[3])\n",
    "print(f\"Мода = {Mo}\")\n",
    "# Из пункта 5 заметим что накопленная частота становится больше 0.5 на четвертом интервале \n",
    "xme = My_sample_inter[3][0][0]\n",
    "Me = xme + h*(0.5-PMe)/(My_saple_inter_ni[3]/Punkt6_summ[0])\n",
    "print(f\"Медиана = {Me}\")\n",
    "Var = math.sqrt(Dvb)/abs(Xvb)*100\n",
    "print(f\"Коэффициент вариации = {Var}%\")\n",
    "print(\"\\nВыводы: Мода показывает на локальный максимум распределения, медиана показывает на точку делящую распределение на две равновероятностные половины, коэффициент вариации показывает степень изменчивости по отношению к среднему показателю\")"
   ]
  },
  {
   "cell_type": "markdown",
   "id": "d421924c",
   "metadata": {},
   "source": [
    "<p>Пункт 12<p>"
   ]
  },
  {
   "attachments": {
    "8558066e-f6d2-4d8f-825e-7eab0ea83a58.jfif": {
     "image/jpeg": "[encoded data removed]"
    }
   },
   "cell_type": "markdown",
   "id": "6088cd47",
   "metadata": {},
   "source": [
    "![8558066e-f6d2-4d8f-825e-7eab0ea83a58.jfif](attachment:8558066e-f6d2-4d8f-825e-7eab0ea83a58.jfif)"
   ]
  },
  {
   "cell_type": "code",
   "execution_count": 307,
   "id": "e3075978",
   "metadata": {},
   "outputs": [
    {
     "name": "stdout",
     "output_type": "stream",
     "text": [
      "Доверительный интервал при y = 0.99: (48.81870959239225,60.86099224247012), точность δ = 6.021141325038933\n",
      "Доверительный интервал при y = 0.95: (50.28793434552823,59.39176748933414), точность δ = 4.55191657190296\n",
      "\n",
      "Выводы при обоих случаях гаммы образуется небольшой Доверительный интервал в который попадает мат ожидание\n"
     ]
    }
   ],
   "source": [
    "# Из таблицы значений берем два критерия t при n =109 и P = 0.01 и 0.05\n",
    "t1 = 2.6216883\n",
    "t2 = 1.9819675\n",
    "print(f\"Доверительный интервал при y = 0.99: ({Xvb-t1*SCO/math.sqrt(109)},{Xvb+t1*SCO/math.sqrt(109)}), точность δ = {t1*SCO/math.sqrt(109)}\")\n",
    "print(f\"Доверительный интервал при y = 0.95: ({Xvb-t2*SCO/math.sqrt(109)},{Xvb+t2*SCO/math.sqrt(109)}), точность δ = {t2*SCO/math.sqrt(109)}\")\n",
    "print(\"\\nВыводы при обоих случаях гаммы образуется небольшой Доверительный интервал в который попадает мат ожидание\")"
   ]
  },
  {
   "cell_type": "markdown",
   "id": "0e94ad9a",
   "metadata": {},
   "source": [
    "<p>Пункт 13<p>"
   ]
  },
  {
   "attachments": {
    "msg572342177-47993.jpg": {
     "image/jpeg": "[encoded data removed]"
    }
   },
   "cell_type": "markdown",
   "id": "354ade64",
   "metadata": {},
   "source": [
    "![msg572342177-47993.jpg](attachment:msg572342177-47993.jpg)"
   ]
  },
  {
   "cell_type": "code",
   "execution_count": 308,
   "id": "9338f212",
   "metadata": {},
   "outputs": [
    {
     "name": "stdout",
     "output_type": "stream",
     "text": [
      "Значения q1 = 0.15375425007159782,   q2 = 0.2089071903167845\n",
      "Доверительный интервал для σ при y = 0.99: (20.29118985953914,27.6645957057199)\n",
      "Доверительный интервал для σ при y = 0.95: (18.968738571693283,28.98704699356576)\n",
      "\n",
      "Выводы: при обоих случаях гаммы образуется небольшой Доверительный интервал в который попадает СКО и Исправленное СКО\n"
     ]
    }
   ],
   "source": [
    "# мы знаем что доверительный интервал для среднеквадратичного отклонения \n",
    "#равен или s*(1-q)<σ<s(1+q) или sqrt(n-1)*s/χ1<σ<sqrt(n-1)*s/χ2\n",
    "# где χ1^2 = χ((1+γ)/2;n-1)^2, а χ2^2 = χ((1-γ)/2;n-1)^2\n",
    "# тогда q = 1-sqrt(n-1)/sqrt(χ((1+γ)/2;n-1)^2)\n",
    "# найдя значения χ((1+γ)/2;n-1)^2 для случая γ=0.95 и γ=0.99 в экселе посчитаем q\n",
    "q1 = abs(1-math.sqrt(108)/math.sqrt(81.13292395))\n",
    "q2 = abs(1-math.sqrt(108)/math.sqrt(73.89887622))\n",
    "print(f\"Значения q1 = {q1},   q2 = {q2}\")\n",
    "print(f\"Доверительный интервал для σ при y = 0.99: ({(1-q1)*SCO},{(1+q1)*SCO})\")\n",
    "print(f\"Доверительный интервал для σ при y = 0.95: ({(1-q2)*SCO},{(1+q2)*SCO})\")\n",
    "print(\"\\nВыводы: при обоих случаях гаммы образуется небольшой Доверительный интервал в который попадает СКО и Исправленное СКО\")"
   ]
  },
  {
   "cell_type": "markdown",
   "id": "c884ad98",
   "metadata": {},
   "source": [
    "<p>Пункт 14<p>"
   ]
  },
  {
   "cell_type": "code",
   "execution_count": 301,
   "id": "6666338a",
   "metadata": {
    "scrolled": true
   },
   "outputs": [
    {
     "name": "stdout",
     "output_type": "stream",
     "text": [
      "\n",
      "\n",
      "Вывод Расчетной таблицы:\n",
      "\n",
      "i     (xi-1,xi]          ni    pi          ni'       (ni-ni')^2   (ni-ni')^2/ni'  ni'^2   ni^2/ni'\n",
      "\n",
      "1     (1.8, 17.2375]      3    0.0275229   6.275784    10.730761   1.709868    39.385464   1.434084\n",
      "2     (17.2375, 32.675]   17   0.1559633   12.966371   16.270167   1.254797    168.126764  22.288427\n",
      "3     (32.675, 48.1125]   27   0.2477064   23.161591   14.733387   0.636113    536.459279  31.474522\n",
      "4     (48.1125, 63.55]    26   0.2385321   27.620054   2.624573    0.095024    762.867358  24.474971\n",
      "5     (63.55, 78.9875]    18   0.1651376   21.990376   15.923103   0.724094    483.57665   14.733718\n",
      "6     (78.9875, 94.425]   11   0.1009174   11.687822   0.473099    0.040478    136.60518   10.352656\n",
      "7     (94.425, 109.8625]  5    0.0458716   4.145412    0.730321    0.176176    17.184438   6.030764\n",
      "8     (109.8625, 125.3]   2    0.0183486   1.152592    0.718101    0.623032    1.328467    3.47044\n",
      "\n",
      "Σ    Σni=109    Σpi=1.0    Σni'=109.0    Σ(ni-ni')^2/ni'=5.25958171228662     Σni^2/ni'=114.25958171228663\n",
      "\n",
      "χ^2крит = χ^2(0.05, 8-1-1) = 12.6 из таблицы\n",
      "χ^2набл = Σ(ni-ni')^2/ni' = 5.25958171228662 = Σni^2/ni'-n = 5.259581712286632\n",
      "χ^2набл<χ^2крит => Гипотезу принимаем\n"
     ]
    }
   ],
   "source": [
    "print('\\n\\nВывод Расчетной таблицы:\\n')\n",
    "print(\"i     (xi-1,xi]          ni    pi          ni'       (ni-ni')^2   (ni-ni')^2/ni'  ni'^2   ni^2/ni'\\n\")\n",
    "ni = 0\n",
    "nistrih = 0\n",
    "punkt14 = [0,0,0,0,0]\n",
    "from scipy.special import erf\n",
    "import scipy.special\n",
    "Phi = lambda x: scipy.special.erf(x/2**0.5)/2\n",
    "for i in range(len(My_sample_inter)):\n",
    "    nistrih = (Phi((My_sample_inter[i][0][1]-Xvb)/math.sqrt(Dvb))-Phi((My_sample_inter[i][0][0]-Xvb)/math.sqrt(Dvb)))*len(My_sample_rank)\n",
    "    if i==0:\n",
    "        nistrih = (Phi((My_sample_inter[i][0][1]-Xvb)/math.sqrt(Dvb))-Phi(-math.inf))*len(My_sample_rank)\n",
    "    if i==len(My_sample_inter)-1:\n",
    "        nistrih = (Phi(math.inf)-Phi((My_sample_inter[i][0][0]-Xvb)/math.sqrt(Dvb)))*len(My_sample_rank)     \n",
    "    ni = My_sample_inter[i][1]\n",
    "    punkt14[0]+= ni\n",
    "    punkt14[1]+= My_sample_inter[i][1]/len(My_sample_rank)\n",
    "    punkt14[2]+= nistrih\n",
    "    punkt14[3]+= (ni-nistrih)**2/nistrih\n",
    "    punkt14[4]+= ni**2/nistrih\n",
    "    print(f\"{i+1}{' '*(6-len(str(i+1)))}({My_sample_inter[i][0][0]}, {My_sample_inter[i][0][1]}]{' '*(20-len(str(My_sample_inter[i][0])))}{My_sample_inter[i][1]}{' '*(5-len(str(My_sample_inter[i][1])))}{round(My_sample_inter[i][1]/len(My_sample_rank),7)}{' '*(12-len(str(round(My_sample_inter[i][1]/len(My_sample_rank),7))))}{round(nistrih,6)}{' '*(12-len(str(round(nistrih,6))))}{round((ni-nistrih)**2,6)}{' '*(12-len(str(round((ni-nistrih)**2,6))))}{round((ni-nistrih)**2/nistrih,6)}{' '*(12-len(str(round((ni-nistrih)**2/nistrih,6))))}{round(nistrih**2,6)}{' '*(12-len(str(round(nistrih**2,6))))}{round(ni**2/nistrih,6)}\")\n",
    "print(f\"\\nΣ    Σni={punkt14[0]}    Σpi={round(punkt14[1],7)}    Σni'={punkt14[2]}    Σ(ni-ni')^2/ni'={punkt14[3]}     Σni^2/ni'={punkt14[4]}\\n\")\n",
    "#Проверка χ^2крит = χ^2(0.05, 8-1-1) = 12.6 из таблицы\n",
    "print(\"χ^2крит = χ^2(0.05, 8-1-1) = 12.6 из таблицы\")\n",
    "print(f\"χ^2набл = Σ(ni-ni')^2/ni' = {punkt14[3]} = Σni^2/ni'-n = {punkt14[4]-109}\")\n",
    "print(\"χ^2набл<χ^2крит => Гипотезу принимаем\") if punkt14[3] < 12.6 else print(\"χ^2набл>=χ^2крит => Гипотезу отвергаем\")"
   ]
  },
  {
   "cell_type": "markdown",
   "id": "c6a07439",
   "metadata": {},
   "source": [
    "<p>Вывод: В ходе лабораторной работы я научился из генеральной совокупности формировать выборочную совокупность, на основе нее строить ранжированный, вариационный и интервальный ряд, построил полигон, гистограмму и эмпирическую функцию для абсолютных и относительных погрешностей, научился использовать условные варианты, находить условные эпмирические моменты и условные центральные моменты, смог найти выборочное среднее и дисперсию двумя разными способами. Нашел исправленное СКО, коэффициент асимметрии и эксцесса, моду, медиану и коэффициент вариации. Нашел доверительные интервалы для мат ожидании и среднеквадратичного отклонения. И в конце всего проверил удовлетворяет ли данное распределение гипотезе о нормальном распределении</p>"
   ]
  }
 ],
 "metadata": {
  "kernelspec": {
   "display_name": "Python 3 (ipykernel)",
   "language": "python",
   "name": "python3"
  },
  "language_info": {
   "codemirror_mode": {
    "name": "ipython",
    "version": 3
   },
   "file_extension": ".py",
   "mimetype": "text/x-python",
   "name": "python",
   "nbconvert_exporter": "python",
   "pygments_lexer": "ipython3",
   "version": "3.9.12"
  }
 },
 "nbformat": 4,
 "nbformat_minor": 5
}
