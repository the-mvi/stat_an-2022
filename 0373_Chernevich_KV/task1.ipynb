{
 "cells": [
  {
   "cell_type": "markdown",
   "id": "2dc5afbc",
   "metadata": {},
   "source": [
    "# Практическая работа №1: Формирование и первичная обработка выборки. Нахождение и точечных и интервальных оценок. Проверка статистических гипотез\n",
    "\n",
    "Выполнил студент гр. 0373 Черневич Константин. Вариант №21."
   ]
  },
  {
   "cell_type": "markdown",
   "id": "271c3c3e",
   "metadata": {},
   "source": [
    "## Цель работы\n",
    "\n",
    "Ознакомление с основными правилами формирования выборки и подготовки выборочных данных к статистическому анализу. Получение практических навыков нахождения точечных статистических оценок параметров распределения, а также вычисления интервальных статистических оценок параметров распределения выборочных данных и проверки\n",
    "«справедливости» статистических гипотез."
   ]
  },
  {
   "cell_type": "markdown",
   "id": "a013c243",
   "metadata": {},
   "source": [
    "## Основные теоретические положения\n",
    "\n",
    "\n",
    "*Статистический ряд* - последовательность элементов выборки, расположенных в порядке их получения(наблюдения).\n",
    "\n",
    "*Ранжированный ряд* - ряд упорядоченный по неубыванию.\n",
    "\n",
    "*Вариационный ряд* - ряд в котором вместе с вариантами учитываются их частота.\n",
    "\n",
    "Построение интервального ряда:\n",
    "\n",
    "Если количество вариант достаточно велико, то для удобства необходимо разделить вариационный ряд на интервалы в этом случае ряд называется *интервальным*. Количество интервалов $ k $ зависит от объема выборки $ n $ и может быть вычислена по формуле Стёрджеса: $$ k = 1 + \\log_2n. $$ полученное значение округляется до целого.\n",
    "\n",
    "*Эмпирическая функция распределения* называют функцию $ F^{*}(x) $, определяющую для каждого значения $ x $ относительную частоту события $ \\lbrace X < x \\rbrace $. График представляет собой лестничный график, длина каждой ступеньки которого равна длине соответствующего интервала, а высота соответственно накопленной частоте до середины этого интервала.\n",
    "\n",
    "*Гистограма частот* - ступенчатая фигура, состоящая из прямоугольников, основанием которых является частичный интервал, а высота равна отношению $ \\frac{n_i}{h} $, где $ n_i $ - абсолютная частота.\n",
    "\n",
    "*Полигон частот* - ломанная линия, соединяющая точки дискретного ряда $ (x_i,n_i) $.\n",
    "\n",
    "*Выборочное среднее* - среднее арифмитическое значение признака выборки: $$\\bar{x}=\\frac{1}{n}\\sum^{n}_{i=1}x_in_i=\\sum^{k}_{i=1}x_ip^{*}_i $$\n",
    "\n",
    "*Выборочная дисперсия* - среднее арифмитическое квадратов отношений значений от их среднего: $$\\sigma^{2}=\\frac{1}{n}\\sum_{i=1}^{n}(x_i-\\bar{x})^{2}=\\frac{1}{n}\\sum_{i=1}^{k}n_i(x_i-\\bar{x})^{2}=\\sum_{i=1}^{k}p^{*}_i(x_i-\\bar{x})^{2}$$\n",
    "\n",
    "*Выборочное среднеквадратическое отклонение (СКО)* - квадратный корень из выборочной дисперсии: $ \\sigma = \\sqrt{\\sigma^2} $.\n",
    "\n",
    "*Мода интервального ряда* - число заключенное в частичном интервале у которого наибольшая частота: $$  M^{*}_o=x^{0}_{M_o}+h\\frac{n_{M_o}-n_{M_o-1}}{(n_{M_o}-n_{M_o-1})+(n_{M_o}-n_{M_o+1})} $$\n",
    "\n",
    "*Медиана интервального ряда* - число принадлежащее частичному интервалу, для которого накопленная частота составит половину или больше половины всей суммы частот, а предыдущая накопленная частота меньше половины: $$ M^{*}_e=x^{0}_{M_e} +\\frac{h}{p^{*}_{M_e}}(0.5-p^{\\Sigma}_{M_e-1}) $$\n",
    "\n",
    "*Коэффициент вариации* - мера колебания изученного признака относительно выборочного среднего: $ V^{*} = \\frac{\\sigma}{|\\bar{x} |}\\cdot100\\% $\n",
    "\n",
    "*Условные варианты* - варианты, вычисляемые как $u_i=\\frac{x_i-C}{h}$, где $ C $ - ложный нуль, $ h $ - длина частичного интервала.\n",
    "\n",
    "*Обычным эмпирическим моментом порядка* $ r $ называют среднее значение $ r $-ых степеней разностей $ x_i - C $: $$\\nu^{'}_r=\\frac{1}{n} \\sum_{i=1}^{k}(x_i-C)^r$$\n",
    "\n",
    "*Начальным эмпирическим моментом порядка* $ r $ называют обычный эмпирический момент порядка $ r $ при $ C=0 $: $$  \\nu_r=\\frac{1}{n} \\sum_{i=1}^{k}n_ix_i^r $$\n",
    "\n",
    "*Центральным эмпирическим моментом порядка* $ r $ называют обычный эмпирический момент порядка $ r $ при $ C=\\bar x $: $$\\mu^{*}_r=\\frac{1}{n} \\sum_{i=1}^{k}n_i(x_i-\\bar{x})^r$$\n",
    "\n",
    "*Условным эмпирическим моментов порядка* $ r $ называют начальный эмпирический момент для условных вариант: $$\\nu^{*}_r=\\frac{1}{n} \\sum_{i=1}^{k}n_iu_i^{r} = \\frac{1}{n} \\sum_{i=1}^{k}n_i\\left(\\frac{x_i-C}{h}\\right)^r$$\n",
    "\n",
    "*Коэффициент асимметрии* - это величина, которая характеризует асимметрию распределения данной случаной величины: $$a_s^*=\\frac{\\mu_3^*}{\\sigma^3}$$\n",
    "\n",
    "*Коэффициент эксцесса* - это мера остроты пика распределения случайной величины: $$\\varepsilon_k^*=\\frac{\\mu_4^*}{\\sigma^4}-3$$\n",
    "\n",
    "*Нулевой гипотезой* $ H_0 $ называют предположение, которое выдвигается изначально, пока наблюдения не заставят признать обратного\n",
    "\n",
    "*Альтернативной гипотезой* $ H_1 $ называют гипотезу противоположную $ H_0 $\n",
    "\n",
    "Для проверки гипотезы о виде распределения генеральной совокупности можно использовать критерий $ \\chi^2 $ (Пирсона). Для справедливости нулевой гипотезы необходимо, чтобы выполнялось условие $\\chi_{nabl}^2<\\chi_{crit}^2$, в противном случае нулевую гипотезу отвергают.\n",
    "\n",
    "Наблюдаемое значение критерия: $$\\chi_{nabl}^2=\\sum_{i=1}^{k}\\frac{(n_i-n_i^{'})^2}{n_i^{'}}=\\sum_{i=1}^{k}\\frac{n_i^2}{n_i^{'}}-n$$"
   ]
  },
  {
   "cell_type": "markdown",
   "id": "ad9665f9",
   "metadata": {},
   "source": [
    "## Постановка задачи\n",
    "Осуществить формирование репрезентативной выборки заданного объема из имеющейся генеральной совокупности экспериментальных данных. \n",
    "\n",
    "Осуществить последовательное преобразование полученной выборки в ранжированный, вариационный и интервальный ряды. \n",
    "\n",
    "Применительно к интервальному ряду построить и отобразить графически полигон, гистограмму и эмпирическую функцию распределения для абсолютных и относительных частот. \n",
    "\n",
    "Для заданных выборочных данных вычислить с использованием метода моментов и условных вариант точечные статистические оценки математического ожидания, дисперсии, среднеквадратичного отклонения, асимметрии, эксцесса, моды, медианы и коэффициента вариации исследуемой случайной величины.\n",
    "\n",
    "Для заданной надёжности определить границы доверительных интервалов для математического ожидания и среднеквадратичного отклонения случайной величины. Проверить гипотезу о нормальном распределении исследуемой случайной величины с помощью критерия Пирсона $\\chi^2$. Полученные результаты содержательно проинтерпретировать.\n"
   ]
  },
  {
   "cell_type": "markdown",
   "id": "88a80ab7",
   "metadata": {},
   "source": [
    "## Выполнение работы"
   ]
  },
  {
   "cell_type": "markdown",
   "id": "52396ff0",
   "metadata": {},
   "source": [
    "Для формирования выборки были использованы данные из генеральной совокупности \"Alcohol Consumption in Russia (1998-2016)\". Рассматриваются два параметра: количество выпитого пива в литрах на душу населения (`beer`) и количество выпитой водки в литрах на душу населения (`vodka`). Выборка была сформирована с помощью серийного метода."
   ]
  },
  {
   "cell_type": "code",
   "execution_count": 1,
   "id": "454dd793",
   "metadata": {},
   "outputs": [
    {
     "name": "stdout",
     "output_type": "stream",
     "text": [
      "beer = 17.5 8.8 32.7 23.3 23.8 1.8 18.7 18 27.8 53.8 30 24.8 26.6 37.3 24.4 ...\n",
      "vodka = 10.7 15.8 16.5 10.6 11.5 4.6 23.2 7.9 9.7 16.4 16.4 9.1 17.3 20.7 11.3 ...\n"
     ]
    }
   ],
   "source": [
    "beer=[17.5,8.8,32.7,23.3,23.8,1.8,18.7,18,27.8,\n",
    "53.8,30,24.8,26.6,37.3,24.4,32,46.1,59.6,28.3,\n",
    "55.5,39.9,30.5,38.4,50.1,40,43.2,27.9,77,55.7,\n",
    "109,28.7,41.1,43.3,34.2,61.2,68.6,51,35.6,58.8,\n",
    "50.3,39.7,72.5,28.2,45.6,81.8,41.8,34.4,67.2,\n",
    "125.3,17.5,66.2,64.6,49.5,53,104.2,91.4,64.7,\n",
    "15.7,118.3,67.2,67.4,86,68.8,46.3,39,50.1,52.4,\n",
    "74.7,58.8,51,95.8,49.6,78.1,61.4,54.2,65.5,81.01,\n",
    "56.93,79.01,57.03,66.51,39.06,89.7,62.9,71.4,64.6,\n",
    "96.1,99.9,67.5,40.5,59.5,81.2,79.8,52,56.3,39,\n",
    "55.5,86.2,39.5,81.2,72.9,47.3,84.3,42.2,42.1,\n",
    "58.3,48,43.4,38]\n",
    "\n",
    "vodka = [10.7,15.8,16.5,10.6,11.5,4.6,23.2,7.9,\n",
    "9.7,16.4,16.4,9.1,17.3,20.7,11.3,14.8,10.5,15.4,\n",
    "23.6,12.3,7.1,12.8,21.2,7.9,20.9,12.4,13.9,23.3,\n",
    "16.8,31.9,8.5,10,17.4,12.9,14.8,21.2,11.9,8.6,\n",
    "6.9,8.8,10.9,7.9,12.1,17.6,7.8,11,14,18.6,16.4,\n",
    "3.8,17.8,18.1,7.9,18.9,8.2,13.3,11.3,3.9,14.9,\n",
    "14.7,7.4,15.1,13.1,8.5,15.3,10.2,16.4,18.8,9.1,\n",
    "5.5,14.9,14.7,10.7,9.4,13.4,14.8,8.41,10.79,\n",
    "10.1,12.46,13.86,14.03,9.7,9.9,9.2,13.8,13.1,\n",
    "14.1,11.4,8,9.1,16.3,6.8,9,7,8.8,8.8,10.2,5.7,\n",
    "11.4,9.7,6.9,4.7,6.6,2.9,12.8,6.8,4.5,8.9]\n",
    "\n",
    "print(\"beer =\",*beer[:15], \"...\\nvodka =\",*vodka[:15],'...',sep=\" \")"
   ]
  },
  {
   "cell_type": "markdown",
   "id": "5bdde9c5",
   "metadata": {},
   "source": [
    "Выборки `beer` и `vodka` преобразованы в ранжированный и вариационный ряды. Были выведены первые 15 элементов ввиду большого размера рядов."
   ]
  },
  {
   "cell_type": "code",
   "execution_count": 2,
   "id": "6642edf7",
   "metadata": {
    "scrolled": true
   },
   "outputs": [
    {
     "name": "stdout",
     "output_type": "stream",
     "text": [
      "Ранжированный ряд (beer):\n",
      "\n",
      "i     x_i\n",
      "\n",
      "1     1.8\n",
      "2     8.8\n",
      "3     15.7\n",
      "4     17.5\n",
      "5     17.5\n",
      "6     18\n",
      "7     18.7\n",
      "8     23.3\n",
      "9     23.8\n",
      "10    24.4\n",
      "11    24.8\n",
      "12    26.6\n",
      "13    27.8\n",
      "14    27.9\n",
      "15    28.2\n",
      "Ранжированный ряд (vodka):\n",
      "\n",
      "i     y_i\n",
      "\n",
      "1     2.9\n",
      "2     3.8\n",
      "3     3.9\n",
      "4     4.5\n",
      "5     4.6\n",
      "6     4.7\n",
      "7     5.5\n",
      "8     5.7\n",
      "9     6.6\n",
      "10    6.8\n",
      "11    6.8\n",
      "12    6.9\n",
      "13    6.9\n",
      "14    7\n",
      "15    7.1\n",
      "\n",
      "\n",
      "Вариационный ряд (beer):\n",
      "\n",
      "i     x_i      n_i    p_i\n",
      "\n",
      "1     1.8     1    0.009174311926605505\n",
      "2     8.8     1    0.009174311926605505\n",
      "3     15.7    1    0.009174311926605505\n",
      "4     17.5    2    0.01834862385321101\n",
      "5     18      1    0.009174311926605505\n",
      "6     18.7    1    0.009174311926605505\n",
      "7     23.3    1    0.009174311926605505\n",
      "8     23.8    1    0.009174311926605505\n",
      "9     24.4    1    0.009174311926605505\n",
      "10    24.8    1    0.009174311926605505\n",
      "11    26.6    1    0.009174311926605505\n",
      "12    27.8    1    0.009174311926605505\n",
      "13    27.9    1    0.009174311926605505\n",
      "14    28.2    1    0.009174311926605505\n",
      "15    28.3    1    0.009174311926605505\n",
      "\n",
      "summ(ni)=16    summ(pi)=0.14678899082568808\n",
      "\n",
      "\n",
      "\n",
      "Вариационный ряд (vodka):\n",
      "\n",
      "i     y_i      n_i    p_i\n",
      "\n",
      "1     2.9     1    0.009174311926605505\n",
      "2     3.8     1    0.009174311926605505\n",
      "3     3.9     1    0.009174311926605505\n",
      "4     4.5     1    0.009174311926605505\n",
      "5     4.6     1    0.009174311926605505\n",
      "6     4.7     1    0.009174311926605505\n",
      "7     5.5     1    0.009174311926605505\n",
      "8     5.7     1    0.009174311926605505\n",
      "9     6.6     1    0.009174311926605505\n",
      "10    6.8     2    0.01834862385321101\n",
      "11    6.9     2    0.01834862385321101\n",
      "12    7       1    0.009174311926605505\n",
      "13    7.1     1    0.009174311926605505\n",
      "14    7.4     1    0.009174311926605505\n",
      "15    7.8     1    0.009174311926605505\n",
      "\n",
      "summ(ni)=17    summ(pi)=0.1559633027522936\n",
      "\n"
     ]
    }
   ],
   "source": [
    "# Ранжированный ряд\n",
    "n = len(beer)\n",
    "beer_rank =[]\n",
    "beer_rank.extend(sorted(beer))\n",
    "vodka_rank =[]\n",
    "vodka_rank.extend(sorted(vodka))\n",
    "print('Ранжированный ряд (beer):\\n')\n",
    "print('i     x_i\\n')\n",
    "for i in range(15):\n",
    "    print(f\"{i+1}{' '*(6-len(str(i+1)))}{beer_rank[i]}\")\n",
    "print('Ранжированный ряд (vodka):\\n')\n",
    "print('i     y_i\\n')\n",
    "for i in range(15):\n",
    "    print(f\"{i+1}{' '*(6-len(str(i+1)))}{vodka_rank[i]}\")\n",
    "     \n",
    "# Вариационный ряд\n",
    "beer_vari =[]\n",
    "for i in beer_rank:\n",
    "    if [i,beer_rank.count(i),beer_rank.count(i)/len(beer_rank)] not in beer_vari:\n",
    "        beer_vari.append([i,beer_rank.count(i),beer_rank.count(i)/len(beer_rank)])\n",
    "print('\\n\\nВариационный ряд (beer):\\n')\n",
    "print('i     x_i      n_i    p_i\\n')\n",
    "summNi=0\n",
    "summPi=0\n",
    "for i in range(15):\n",
    "    summNi +=beer_vari[i][1] \n",
    "    summPi +=beer_vari[i][2]\n",
    "    print(f\"{i+1}{' '*(6-len(str(i+1)))}{beer_vari[i][0]}{' '*(8-len(str(beer_vari[i][0])))}{beer_vari[i][1]}    {beer_vari[i][2]}\")\n",
    "print(f\"\\nsumm(ni)={summNi}    summ(pi)={summPi}\\n\")\n",
    "\n",
    "vodka_vari =[]\n",
    "for i in vodka_rank:\n",
    "    if [i,vodka_rank.count(i),vodka_rank.count(i)/len(vodka_rank)] not in vodka_vari:\n",
    "        vodka_vari.append([i,vodka_rank.count(i),vodka_rank.count(i)/len(vodka_rank)])\n",
    "print('\\n\\nВариационный ряд (vodka):\\n')\n",
    "print('i     y_i      n_i    p_i\\n')\n",
    "summNi=0\n",
    "summPi=0\n",
    "for i in range(15):\n",
    "    summNi +=vodka_vari[i][1] \n",
    "    summPi +=vodka_vari[i][2]\n",
    "    print(f\"{i+1}{' '*(6-len(str(i+1)))}{vodka_vari[i][0]}{' '*(8-len(str(vodka_vari[i][0])))}{vodka_vari[i][1]}    {vodka_vari[i][2]}\")\n",
    "print(f\"\\nsumm(ni)={summNi}    summ(pi)={summPi}\\n\")"
   ]
  },
  {
   "cell_type": "markdown",
   "id": "dfbad507",
   "metadata": {},
   "source": [
    "Был сформирован интервальный ряд. По формуле Стёрджеса была найдена оптимальное количество интервалов."
   ]
  },
  {
   "cell_type": "code",
   "execution_count": 3,
   "id": "3d4f8c28",
   "metadata": {},
   "outputs": [
    {
     "data": {
      "text/plain": [
       "7.768184324776926"
      ]
     },
     "execution_count": 3,
     "metadata": {},
     "output_type": "execute_result"
    }
   ],
   "source": [
    "import math\n",
    "k = 1+math.log2(len(beer_rank))\n",
    "k"
   ]
  },
  {
   "cell_type": "markdown",
   "id": "387e12c7",
   "metadata": {},
   "source": [
    "Полученное значение было округлено до $ k = 8 $.\n",
    "\n",
    "Были построены интервальные ряды для обоих параметров."
   ]
  },
  {
   "cell_type": "code",
   "execution_count": 5,
   "id": "fb987151",
   "metadata": {},
   "outputs": [
    {
     "data": {
      "text/html": [
       "<div>\n",
       "<style scoped>\n",
       "    .dataframe tbody tr th:only-of-type {\n",
       "        vertical-align: middle;\n",
       "    }\n",
       "\n",
       "    .dataframe tbody tr th {\n",
       "        vertical-align: top;\n",
       "    }\n",
       "\n",
       "    .dataframe thead th {\n",
       "        text-align: right;\n",
       "    }\n",
       "</style>\n",
       "<table border=\"1\" class=\"dataframe\">\n",
       "  <thead>\n",
       "    <tr style=\"text-align: right;\">\n",
       "      <th></th>\n",
       "      <th>$x_i$</th>\n",
       "      <th>$x_{i+1}$</th>\n",
       "      <th>$\\tilde{x}_i$</th>\n",
       "      <th>$$n_i$$</th>\n",
       "      <th>$p^*_i$</th>\n",
       "    </tr>\n",
       "  </thead>\n",
       "  <tbody>\n",
       "    <tr>\n",
       "      <th>1</th>\n",
       "      <td>1.8000</td>\n",
       "      <td>17.2375</td>\n",
       "      <td>9.51875</td>\n",
       "      <td>3</td>\n",
       "      <td>0.027523</td>\n",
       "    </tr>\n",
       "    <tr>\n",
       "      <th>2</th>\n",
       "      <td>17.2375</td>\n",
       "      <td>32.6750</td>\n",
       "      <td>24.95625</td>\n",
       "      <td>17</td>\n",
       "      <td>0.155963</td>\n",
       "    </tr>\n",
       "    <tr>\n",
       "      <th>3</th>\n",
       "      <td>32.6750</td>\n",
       "      <td>48.1125</td>\n",
       "      <td>40.39375</td>\n",
       "      <td>27</td>\n",
       "      <td>0.247706</td>\n",
       "    </tr>\n",
       "    <tr>\n",
       "      <th>4</th>\n",
       "      <td>48.1125</td>\n",
       "      <td>63.5500</td>\n",
       "      <td>55.83125</td>\n",
       "      <td>26</td>\n",
       "      <td>0.238532</td>\n",
       "    </tr>\n",
       "    <tr>\n",
       "      <th>5</th>\n",
       "      <td>63.5500</td>\n",
       "      <td>78.9875</td>\n",
       "      <td>71.26875</td>\n",
       "      <td>18</td>\n",
       "      <td>0.165138</td>\n",
       "    </tr>\n",
       "    <tr>\n",
       "      <th>6</th>\n",
       "      <td>78.9875</td>\n",
       "      <td>94.4250</td>\n",
       "      <td>86.70625</td>\n",
       "      <td>11</td>\n",
       "      <td>0.100917</td>\n",
       "    </tr>\n",
       "    <tr>\n",
       "      <th>7</th>\n",
       "      <td>94.4250</td>\n",
       "      <td>109.8625</td>\n",
       "      <td>102.14375</td>\n",
       "      <td>5</td>\n",
       "      <td>0.045872</td>\n",
       "    </tr>\n",
       "    <tr>\n",
       "      <th>8</th>\n",
       "      <td>109.8625</td>\n",
       "      <td>125.3000</td>\n",
       "      <td>117.58125</td>\n",
       "      <td>2</td>\n",
       "      <td>0.018349</td>\n",
       "    </tr>\n",
       "  </tbody>\n",
       "</table>\n",
       "</div>"
      ],
      "text/plain": [
       "      $x_i$  $x_{i+1}$  $\\tilde{x}_i$  $$n_i$$   $p^*_i$\n",
       "1    1.8000    17.2375        9.51875        3  0.027523\n",
       "2   17.2375    32.6750       24.95625       17  0.155963\n",
       "3   32.6750    48.1125       40.39375       27  0.247706\n",
       "4   48.1125    63.5500       55.83125       26  0.238532\n",
       "5   63.5500    78.9875       71.26875       18  0.165138\n",
       "6   78.9875    94.4250       86.70625       11  0.100917\n",
       "7   94.4250   109.8625      102.14375        5  0.045872\n",
       "8  109.8625   125.3000      117.58125        2  0.018349"
      ]
     },
     "execution_count": 5,
     "metadata": {},
     "output_type": "execute_result"
    }
   ],
   "source": [
    "# Интервальный ряд: beer\n",
    "k = 8\n",
    "from IPython.display import display, Math, Latex\n",
    "import pandas as pd\n",
    "import numpy as np\n",
    "R = beer_rank[-1]-beer_rank[0]\n",
    "h_beer = R/k\n",
    "x0 = beer_rank[0]\n",
    "n_i_list=[]\n",
    "for i in range(k):\n",
    "    if i==0:\n",
    "        n_i = 1\n",
    "    else:\n",
    "        n_i = 0\n",
    "    for j in beer_rank:\n",
    "        if x0+i*h_beer<j<=x0+(i+1)*h_beer:\n",
    "            n_i+=1\n",
    "    n_i_list.append(n_i)\n",
    "beer_inter = pd.DataFrame({'$x_i$':np.array([x0+i*h_beer for i in range(k)]),\n",
    "'$x_{i+1}$':np.array([x0+(i+1)*h_beer for i in range(k)]),\n",
    "'$\\tilde{x}_i$': np.array([(x0+i*h_beer+x0+(i+1)*h_beer)/2 for i in range(k)]),\n",
    "'$$n_i$$': np.array([n_i_list[i] for i in range(k)]),\n",
    "'$p^*_i$': np.array([n_i_list[i]/n for i in range(k)])},\n",
    "index=[1, 2, 3,4,5,6,7,8])\n",
    "beer_inter"
   ]
  },
  {
   "cell_type": "code",
   "execution_count": 6,
   "id": "69148068",
   "metadata": {
    "scrolled": true
   },
   "outputs": [
    {
     "data": {
      "text/html": [
       "<div>\n",
       "<style scoped>\n",
       "    .dataframe tbody tr th:only-of-type {\n",
       "        vertical-align: middle;\n",
       "    }\n",
       "\n",
       "    .dataframe tbody tr th {\n",
       "        vertical-align: top;\n",
       "    }\n",
       "\n",
       "    .dataframe thead th {\n",
       "        text-align: right;\n",
       "    }\n",
       "</style>\n",
       "<table border=\"1\" class=\"dataframe\">\n",
       "  <thead>\n",
       "    <tr style=\"text-align: right;\">\n",
       "      <th></th>\n",
       "      <th>$y_i$</th>\n",
       "      <th>$y_{i+1}$</th>\n",
       "      <th>$\\tilde{y}_i$</th>\n",
       "      <th>$$n_i$$</th>\n",
       "      <th>$p^*_i$</th>\n",
       "    </tr>\n",
       "  </thead>\n",
       "  <tbody>\n",
       "    <tr>\n",
       "      <th>1</th>\n",
       "      <td>2.900</td>\n",
       "      <td>6.525</td>\n",
       "      <td>4.7125</td>\n",
       "      <td>8</td>\n",
       "      <td>0.073394</td>\n",
       "    </tr>\n",
       "    <tr>\n",
       "      <th>2</th>\n",
       "      <td>6.525</td>\n",
       "      <td>10.150</td>\n",
       "      <td>8.3375</td>\n",
       "      <td>35</td>\n",
       "      <td>0.321101</td>\n",
       "    </tr>\n",
       "    <tr>\n",
       "      <th>3</th>\n",
       "      <td>10.150</td>\n",
       "      <td>13.775</td>\n",
       "      <td>11.9625</td>\n",
       "      <td>26</td>\n",
       "      <td>0.238532</td>\n",
       "    </tr>\n",
       "    <tr>\n",
       "      <th>4</th>\n",
       "      <td>13.775</td>\n",
       "      <td>17.400</td>\n",
       "      <td>15.5875</td>\n",
       "      <td>26</td>\n",
       "      <td>0.238532</td>\n",
       "    </tr>\n",
       "    <tr>\n",
       "      <th>5</th>\n",
       "      <td>17.400</td>\n",
       "      <td>21.025</td>\n",
       "      <td>19.2125</td>\n",
       "      <td>8</td>\n",
       "      <td>0.073394</td>\n",
       "    </tr>\n",
       "    <tr>\n",
       "      <th>6</th>\n",
       "      <td>21.025</td>\n",
       "      <td>24.650</td>\n",
       "      <td>22.8375</td>\n",
       "      <td>5</td>\n",
       "      <td>0.045872</td>\n",
       "    </tr>\n",
       "    <tr>\n",
       "      <th>7</th>\n",
       "      <td>24.650</td>\n",
       "      <td>28.275</td>\n",
       "      <td>26.4625</td>\n",
       "      <td>0</td>\n",
       "      <td>0.000000</td>\n",
       "    </tr>\n",
       "    <tr>\n",
       "      <th>8</th>\n",
       "      <td>28.275</td>\n",
       "      <td>31.900</td>\n",
       "      <td>30.0875</td>\n",
       "      <td>1</td>\n",
       "      <td>0.009174</td>\n",
       "    </tr>\n",
       "  </tbody>\n",
       "</table>\n",
       "</div>"
      ],
      "text/plain": [
       "    $y_i$  $y_{i+1}$  $\\tilde{y}_i$  $$n_i$$   $p^*_i$\n",
       "1   2.900      6.525         4.7125        8  0.073394\n",
       "2   6.525     10.150         8.3375       35  0.321101\n",
       "3  10.150     13.775        11.9625       26  0.238532\n",
       "4  13.775     17.400        15.5875       26  0.238532\n",
       "5  17.400     21.025        19.2125        8  0.073394\n",
       "6  21.025     24.650        22.8375        5  0.045872\n",
       "7  24.650     28.275        26.4625        0  0.000000\n",
       "8  28.275     31.900        30.0875        1  0.009174"
      ]
     },
     "execution_count": 6,
     "metadata": {},
     "output_type": "execute_result"
    }
   ],
   "source": [
    "# Интервальный ряд: vodka\n",
    "k = 8\n",
    "R = vodka_rank[-1]-vodka_rank[0]\n",
    "h_vodka = R/k\n",
    "y0 = vodka_rank[0]\n",
    "n_i_list=[]\n",
    "for i in range(k):\n",
    "    if i==0:\n",
    "        n_i = 1\n",
    "    else:\n",
    "        n_i = 0\n",
    "    for j in vodka_rank:\n",
    "        if y0+i*h_vodka<j<=y0+(i+1)*h_vodka:\n",
    "            n_i+=1\n",
    "    n_i_list.append(n_i)\n",
    "vodka_inter = pd.DataFrame({'$y_i$':np.array([y0+i*h_vodka for i in range(k)]),\n",
    "'$y_{i+1}$':np.array([y0+(i+1)*h_vodka for i in range(k)]),\n",
    "'$\\tilde{y}_i$': np.array([(y0+i*h_vodka+y0+(i+1)*h_vodka)/2 for i in range(k)]),\n",
    "'$$n_i$$': np.array([n_i_list[i] for i in range(k)]),\n",
    "'$p^*_i$': np.array([n_i_list[i]/n for i in range(k)])},\n",
    "index=[1, 2, 3,4,5,6,7,8])\n",
    "vodka_inter"
   ]
  },
  {
   "cell_type": "markdown",
   "id": "b481699d",
   "metadata": {},
   "source": [
    "Исходя из полученных таблиц можно убедиться что сумма абсолютных частот равна объему выборки, а сумма относительных частот равна 1. Следовательно, вычисления корректны."
   ]
  },
  {
   "cell_type": "markdown",
   "id": "57e00c92",
   "metadata": {},
   "source": [
    "Для интервального ряда переменных `beer` и `vodka` были построены полигоны, гистограммы и эмпирические функции для абсолютных частот."
   ]
  },
  {
   "cell_type": "code",
   "execution_count": 7,
   "id": "71e227d6",
   "metadata": {
    "scrolled": true
   },
   "outputs": [
    {
     "data": {
      "image/png": "[encoded data removed]",
      "text/plain": [
       "<Figure size 720x432 with 1 Axes>"
      ]
     },
     "metadata": {
      "needs_background": "light"
     },
     "output_type": "display_data"
    },
    {
     "data": {
      "image/png": "[encoded data removed]",
      "text/plain": [
       "<Figure size 720x432 with 1 Axes>"
      ]
     },
     "metadata": {
      "needs_background": "light"
     },
     "output_type": "display_data"
    },
    {
     "data": {
      "image/png": "[encoded data removed]",
      "text/plain": [
       "<Figure size 720x432 with 1 Axes>"
      ]
     },
     "metadata": {
      "needs_background": "light"
     },
     "output_type": "display_data"
    },
    {
     "data": {
      "image/png": "[encoded data removed]",
      "text/plain": [
       "<Figure size 720x432 with 1 Axes>"
      ]
     },
     "metadata": {
      "needs_background": "light"
     },
     "output_type": "display_data"
    },
    {
     "data": {
      "image/png": "[encoded data removed]",
      "text/plain": [
       "<Figure size 720x432 with 1 Axes>"
      ]
     },
     "metadata": {
      "needs_background": "light"
     },
     "output_type": "display_data"
    },
    {
     "data": {
      "image/png": "[encoded data removed]",
      "text/plain": [
       "<Figure size 720x432 with 1 Axes>"
      ]
     },
     "metadata": {
      "needs_background": "light"
     },
     "output_type": "display_data"
    }
   ],
   "source": [
    "import numpy as np\n",
    "import matplotlib.pyplot as plt\n",
    "#Beer\n",
    "fig, ax = plt.subplots(figsize=(10, 6))\n",
    "plt.title(\"Полигон абсолютных частот: beer\")\n",
    "ax.scatter(beer_inter['$\\tilde{x}_i$'], beer_inter['$$n_i$$'])\n",
    "plt.plot(beer_inter['$\\tilde{x}_i$'], beer_inter['$$n_i$$'])\n",
    "plt.xlabel(\"x\")\n",
    "plt.ylabel(\"$n_i$\")\n",
    "plt.show()\n",
    "fig, ax = plt.subplots(figsize=(10, 6))\n",
    "plt.title(\"Гистограмма абсолютных частот: beer\")\n",
    "plt.bar(beer_inter['$x_i$'], beer_inter['$$n_i$$']/h_beer,width=h_beer)\n",
    "plt.show()\n",
    "fig, ax = plt.subplots(figsize=(10, 6))\n",
    "plt.title('Эмпирическая функция абсолютных частот: beer')\n",
    "plt.step(beer_inter['$x_i$'], [sum(beer_inter['$$n_i$$'][:i+1]) for i in range(k)],color='g',where='mid')\n",
    "plt.show()\n",
    "#Vodka\n",
    "fig, ax = plt.subplots(figsize=(10, 6))\n",
    "plt.title(\"Полигон абсолютных частот: vodka\")\n",
    "ax.scatter(vodka_inter['$\\tilde{y}_i$'], vodka_inter['$$n_i$$'])\n",
    "plt.plot(vodka_inter['$\\tilde{y}_i$'], vodka_inter['$$n_i$$'])\n",
    "plt.xlabel(\"y\")\n",
    "plt.ylabel(\"$n_i$\")\n",
    "plt.show()\n",
    "fig, ax = plt.subplots(figsize=(10, 6))\n",
    "plt.title(\"Гистограмма абсолютных частот: vodka\")\n",
    "plt.bar(vodka_inter['$y_i$'], vodka_inter['$$n_i$$']/h_vodka,width=h_vodka)\n",
    "plt.show()\n",
    "fig, ax = plt.subplots(figsize=(10, 6))\n",
    "plt.title('Эмпирическая функция абсолютных частот: vodka')\n",
    "plt.step(vodka_inter['$y_i$'], [sum(vodka_inter['$$n_i$$'][:i+1]) for i in range(k)],color='g',where='mid')\n",
    "plt.show()"
   ]
  },
  {
   "cell_type": "markdown",
   "id": "5671337f",
   "metadata": {},
   "source": [
    "Для интервального ряда переменных `beer` и `vodka` были построены полигоны, гистограммы и эмпирические функции для относительных частот."
   ]
  },
  {
   "cell_type": "code",
   "execution_count": 8,
   "id": "a33fc51d",
   "metadata": {},
   "outputs": [
    {
     "data": {
      "image/png": "[encoded data removed]",
      "text/plain": [
       "<Figure size 720x432 with 1 Axes>"
      ]
     },
     "metadata": {
      "needs_background": "light"
     },
     "output_type": "display_data"
    },
    {
     "data": {
      "image/png": "[encoded data removed]",
      "text/plain": [
       "<Figure size 720x432 with 1 Axes>"
      ]
     },
     "metadata": {
      "needs_background": "light"
     },
     "output_type": "display_data"
    },
    {
     "data": {
      "image/png": "[encoded data removed]",
      "text/plain": [
       "<Figure size 720x432 with 1 Axes>"
      ]
     },
     "metadata": {
      "needs_background": "light"
     },
     "output_type": "display_data"
    },
    {
     "data": {
      "image/png": "[encoded data removed]",
      "text/plain": [
       "<Figure size 720x432 with 1 Axes>"
      ]
     },
     "metadata": {
      "needs_background": "light"
     },
     "output_type": "display_data"
    },
    {
     "data": {
      "image/png": "[encoded data removed]",
      "text/plain": [
       "<Figure size 720x432 with 1 Axes>"
      ]
     },
     "metadata": {
      "needs_background": "light"
     },
     "output_type": "display_data"
    },
    {
     "data": {
      "image/png": "[encoded data removed]",
      "text/plain": [
       "<Figure size 720x432 with 1 Axes>"
      ]
     },
     "metadata": {
      "needs_background": "light"
     },
     "output_type": "display_data"
    }
   ],
   "source": [
    "#Beer\n",
    "fig, ax = plt.subplots(figsize=(10, 6))\n",
    "plt.title(\"Полигон относительных частот: beer\")\n",
    "ax.scatter(beer_inter['$\\tilde{x}_i$'], beer_inter['$p^*_i$'])\n",
    "plt.plot(beer_inter['$\\tilde{x}_i$'], beer_inter['$p^*_i$'])\n",
    "plt.xlabel(\"x\")\n",
    "plt.ylabel(\"$p^*_i$\")\n",
    "plt.show()\n",
    "fig, ax = plt.subplots(figsize=(10, 6))\n",
    "plt.title(\"Гистограмма относительных частот: beer\")\n",
    "plt.bar(beer_inter['$x_i$'], beer_inter['$p^*_i$']/h_beer,width=h_beer)\n",
    "plt.show()\n",
    "fig, ax = plt.subplots(figsize=(10, 6))\n",
    "plt.title('Эмпирическая функция относительных частот: beer')\n",
    "plt.step(beer_inter['$x_i$'], [sum(beer_inter['$p^*_i$'][:i+1]) for i in range(k)],color='g',where='mid')\n",
    "plt.show()\n",
    "#Vodka\n",
    "fig, ax = plt.subplots(figsize=(10, 6))\n",
    "plt.title(\"Полигон относительных частот: vodka\")\n",
    "ax.scatter(vodka_inter['$\\tilde{y}_i$'], vodka_inter['$p^*_i$'])\n",
    "plt.plot(vodka_inter['$\\tilde{y}_i$'], vodka_inter['$p^*_i$'])\n",
    "plt.xlabel(\"y\")\n",
    "plt.ylabel(\"$p^*_i$\")\n",
    "plt.show()\n",
    "fig, ax = plt.subplots(figsize=(10, 6))\n",
    "plt.title(\"Гистограмма относительных частот: vodka\")\n",
    "plt.bar(vodka_inter['$y_i$'], vodka_inter['$p^*_i$']/h_vodka,width=h_vodka)\n",
    "plt.show()\n",
    "fig, ax = plt.subplots(figsize=(10, 6))\n",
    "plt.title('Эмпирическая функция относительных частот: vodka')\n",
    "plt.step(vodka_inter['$y_i$'], [sum(vodka_inter['$p^*_i$'][:i+1]) for i in range(k)],color='g',where='mid')\n",
    "plt.show()"
   ]
  },
  {
   "cell_type": "markdown",
   "id": "4bcbe41b",
   "metadata": {},
   "source": [
    "Анализируя полученные рисунки, можно сделать вывод, что переменная `beer` имеет нормальное распределение, однако для переменной `vodka` нельзя сделать однозначный вывод."
   ]
  },
  {
   "cell_type": "markdown",
   "id": "9d31118b",
   "metadata": {},
   "source": [
    "Для интервального ряда переменных `beer` и `vodka` были таблицы в которые включены накопленные частоты"
   ]
  },
  {
   "cell_type": "code",
   "execution_count": 9,
   "id": "b3988145",
   "metadata": {},
   "outputs": [
    {
     "data": {
      "text/html": [
       "<div>\n",
       "<style scoped>\n",
       "    .dataframe tbody tr th:only-of-type {\n",
       "        vertical-align: middle;\n",
       "    }\n",
       "\n",
       "    .dataframe tbody tr th {\n",
       "        vertical-align: top;\n",
       "    }\n",
       "\n",
       "    .dataframe thead th {\n",
       "        text-align: right;\n",
       "    }\n",
       "</style>\n",
       "<table border=\"1\" class=\"dataframe\">\n",
       "  <thead>\n",
       "    <tr style=\"text-align: right;\">\n",
       "      <th></th>\n",
       "      <th>$x_i$</th>\n",
       "      <th>$x_{i+1}$</th>\n",
       "      <th>$\\tilde{x}_i$</th>\n",
       "      <th>$$n_i$$</th>\n",
       "      <th>$p^*_i$</th>\n",
       "      <th>$n^{\\Sigma}_i$</th>\n",
       "      <th>$p^{\\Sigma}_i$</th>\n",
       "    </tr>\n",
       "  </thead>\n",
       "  <tbody>\n",
       "    <tr>\n",
       "      <th>1</th>\n",
       "      <td>1.8000</td>\n",
       "      <td>17.2375</td>\n",
       "      <td>9.51875</td>\n",
       "      <td>3</td>\n",
       "      <td>0.027523</td>\n",
       "      <td>3</td>\n",
       "      <td>0.027523</td>\n",
       "    </tr>\n",
       "    <tr>\n",
       "      <th>2</th>\n",
       "      <td>17.2375</td>\n",
       "      <td>32.6750</td>\n",
       "      <td>24.95625</td>\n",
       "      <td>17</td>\n",
       "      <td>0.155963</td>\n",
       "      <td>20</td>\n",
       "      <td>0.183486</td>\n",
       "    </tr>\n",
       "    <tr>\n",
       "      <th>3</th>\n",
       "      <td>32.6750</td>\n",
       "      <td>48.1125</td>\n",
       "      <td>40.39375</td>\n",
       "      <td>27</td>\n",
       "      <td>0.247706</td>\n",
       "      <td>47</td>\n",
       "      <td>0.431193</td>\n",
       "    </tr>\n",
       "    <tr>\n",
       "      <th>4</th>\n",
       "      <td>48.1125</td>\n",
       "      <td>63.5500</td>\n",
       "      <td>55.83125</td>\n",
       "      <td>26</td>\n",
       "      <td>0.238532</td>\n",
       "      <td>73</td>\n",
       "      <td>0.669725</td>\n",
       "    </tr>\n",
       "    <tr>\n",
       "      <th>5</th>\n",
       "      <td>63.5500</td>\n",
       "      <td>78.9875</td>\n",
       "      <td>71.26875</td>\n",
       "      <td>18</td>\n",
       "      <td>0.165138</td>\n",
       "      <td>91</td>\n",
       "      <td>0.834862</td>\n",
       "    </tr>\n",
       "    <tr>\n",
       "      <th>6</th>\n",
       "      <td>78.9875</td>\n",
       "      <td>94.4250</td>\n",
       "      <td>86.70625</td>\n",
       "      <td>11</td>\n",
       "      <td>0.100917</td>\n",
       "      <td>102</td>\n",
       "      <td>0.935780</td>\n",
       "    </tr>\n",
       "    <tr>\n",
       "      <th>7</th>\n",
       "      <td>94.4250</td>\n",
       "      <td>109.8625</td>\n",
       "      <td>102.14375</td>\n",
       "      <td>5</td>\n",
       "      <td>0.045872</td>\n",
       "      <td>107</td>\n",
       "      <td>0.981651</td>\n",
       "    </tr>\n",
       "    <tr>\n",
       "      <th>8</th>\n",
       "      <td>109.8625</td>\n",
       "      <td>125.3000</td>\n",
       "      <td>117.58125</td>\n",
       "      <td>2</td>\n",
       "      <td>0.018349</td>\n",
       "      <td>109</td>\n",
       "      <td>1.000000</td>\n",
       "    </tr>\n",
       "  </tbody>\n",
       "</table>\n",
       "</div>"
      ],
      "text/plain": [
       "      $x_i$  $x_{i+1}$  $\\tilde{x}_i$  $$n_i$$   $p^*_i$  $n^{\\Sigma}_i$  \\\n",
       "1    1.8000    17.2375        9.51875        3  0.027523               3   \n",
       "2   17.2375    32.6750       24.95625       17  0.155963              20   \n",
       "3   32.6750    48.1125       40.39375       27  0.247706              47   \n",
       "4   48.1125    63.5500       55.83125       26  0.238532              73   \n",
       "5   63.5500    78.9875       71.26875       18  0.165138              91   \n",
       "6   78.9875    94.4250       86.70625       11  0.100917             102   \n",
       "7   94.4250   109.8625      102.14375        5  0.045872             107   \n",
       "8  109.8625   125.3000      117.58125        2  0.018349             109   \n",
       "\n",
       "   $p^{\\Sigma}_i$  \n",
       "1        0.027523  \n",
       "2        0.183486  \n",
       "3        0.431193  \n",
       "4        0.669725  \n",
       "5        0.834862  \n",
       "6        0.935780  \n",
       "7        0.981651  \n",
       "8        1.000000  "
      ]
     },
     "execution_count": 9,
     "metadata": {},
     "output_type": "execute_result"
    }
   ],
   "source": [
    "beer_inter['$n^{\\Sigma}_i$'] = [sum(beer_inter['$$n_i$$'][:i+1]) for i in range(k)]\n",
    "beer_inter['$p^{\\Sigma}_i$'] = [sum(beer_inter['$p^*_i$'][:i+1]) for i in range(k)]\n",
    "beer_inter"
   ]
  },
  {
   "cell_type": "code",
   "execution_count": 10,
   "id": "1ac10539",
   "metadata": {
    "scrolled": true
   },
   "outputs": [
    {
     "data": {
      "text/html": [
       "<div>\n",
       "<style scoped>\n",
       "    .dataframe tbody tr th:only-of-type {\n",
       "        vertical-align: middle;\n",
       "    }\n",
       "\n",
       "    .dataframe tbody tr th {\n",
       "        vertical-align: top;\n",
       "    }\n",
       "\n",
       "    .dataframe thead th {\n",
       "        text-align: right;\n",
       "    }\n",
       "</style>\n",
       "<table border=\"1\" class=\"dataframe\">\n",
       "  <thead>\n",
       "    <tr style=\"text-align: right;\">\n",
       "      <th></th>\n",
       "      <th>$y_i$</th>\n",
       "      <th>$y_{i+1}$</th>\n",
       "      <th>$\\tilde{y}_i$</th>\n",
       "      <th>$$n_i$$</th>\n",
       "      <th>$p^*_i$</th>\n",
       "      <th>$n^{\\Sigma}_i$</th>\n",
       "      <th>$p^{\\Sigma}_i$</th>\n",
       "    </tr>\n",
       "  </thead>\n",
       "  <tbody>\n",
       "    <tr>\n",
       "      <th>1</th>\n",
       "      <td>2.900</td>\n",
       "      <td>6.525</td>\n",
       "      <td>4.7125</td>\n",
       "      <td>8</td>\n",
       "      <td>0.073394</td>\n",
       "      <td>8</td>\n",
       "      <td>0.073394</td>\n",
       "    </tr>\n",
       "    <tr>\n",
       "      <th>2</th>\n",
       "      <td>6.525</td>\n",
       "      <td>10.150</td>\n",
       "      <td>8.3375</td>\n",
       "      <td>35</td>\n",
       "      <td>0.321101</td>\n",
       "      <td>43</td>\n",
       "      <td>0.394495</td>\n",
       "    </tr>\n",
       "    <tr>\n",
       "      <th>3</th>\n",
       "      <td>10.150</td>\n",
       "      <td>13.775</td>\n",
       "      <td>11.9625</td>\n",
       "      <td>26</td>\n",
       "      <td>0.238532</td>\n",
       "      <td>69</td>\n",
       "      <td>0.633028</td>\n",
       "    </tr>\n",
       "    <tr>\n",
       "      <th>4</th>\n",
       "      <td>13.775</td>\n",
       "      <td>17.400</td>\n",
       "      <td>15.5875</td>\n",
       "      <td>26</td>\n",
       "      <td>0.238532</td>\n",
       "      <td>95</td>\n",
       "      <td>0.871560</td>\n",
       "    </tr>\n",
       "    <tr>\n",
       "      <th>5</th>\n",
       "      <td>17.400</td>\n",
       "      <td>21.025</td>\n",
       "      <td>19.2125</td>\n",
       "      <td>8</td>\n",
       "      <td>0.073394</td>\n",
       "      <td>103</td>\n",
       "      <td>0.944954</td>\n",
       "    </tr>\n",
       "    <tr>\n",
       "      <th>6</th>\n",
       "      <td>21.025</td>\n",
       "      <td>24.650</td>\n",
       "      <td>22.8375</td>\n",
       "      <td>5</td>\n",
       "      <td>0.045872</td>\n",
       "      <td>108</td>\n",
       "      <td>0.990826</td>\n",
       "    </tr>\n",
       "    <tr>\n",
       "      <th>7</th>\n",
       "      <td>24.650</td>\n",
       "      <td>28.275</td>\n",
       "      <td>26.4625</td>\n",
       "      <td>0</td>\n",
       "      <td>0.000000</td>\n",
       "      <td>108</td>\n",
       "      <td>0.990826</td>\n",
       "    </tr>\n",
       "    <tr>\n",
       "      <th>8</th>\n",
       "      <td>28.275</td>\n",
       "      <td>31.900</td>\n",
       "      <td>30.0875</td>\n",
       "      <td>1</td>\n",
       "      <td>0.009174</td>\n",
       "      <td>109</td>\n",
       "      <td>1.000000</td>\n",
       "    </tr>\n",
       "  </tbody>\n",
       "</table>\n",
       "</div>"
      ],
      "text/plain": [
       "    $y_i$  $y_{i+1}$  $\\tilde{y}_i$  $$n_i$$   $p^*_i$  $n^{\\Sigma}_i$  \\\n",
       "1   2.900      6.525         4.7125        8  0.073394               8   \n",
       "2   6.525     10.150         8.3375       35  0.321101              43   \n",
       "3  10.150     13.775        11.9625       26  0.238532              69   \n",
       "4  13.775     17.400        15.5875       26  0.238532              95   \n",
       "5  17.400     21.025        19.2125        8  0.073394             103   \n",
       "6  21.025     24.650        22.8375        5  0.045872             108   \n",
       "7  24.650     28.275        26.4625        0  0.000000             108   \n",
       "8  28.275     31.900        30.0875        1  0.009174             109   \n",
       "\n",
       "   $p^{\\Sigma}_i$  \n",
       "1        0.073394  \n",
       "2        0.394495  \n",
       "3        0.633028  \n",
       "4        0.871560  \n",
       "5        0.944954  \n",
       "6        0.990826  \n",
       "7        0.990826  \n",
       "8        1.000000  "
      ]
     },
     "execution_count": 10,
     "metadata": {},
     "output_type": "execute_result"
    }
   ],
   "source": [
    "vodka_inter['$n^{\\Sigma}_i$'] = [sum(vodka_inter['$$n_i$$'][:i+1]) for i in range(k)]\n",
    "vodka_inter['$p^{\\Sigma}_i$'] = [sum(vodka_inter['$p^*_i$'][:i+1]) for i in range(k)]\n",
    "vodka_inter"
   ]
  },
  {
   "cell_type": "markdown",
   "id": "24813ede",
   "metadata": {},
   "source": [
    "Для полученных вариант были найдены условные варианты c ложным нулем для `beer`: $C=55.83125$ и для `vodka`: $C=15.5875$. За ложные нули взяты середины средних интервалов с наибольшей частотой. Построенны расчетные таблицы для переменных `beer` и `vodka`."
   ]
  },
  {
   "cell_type": "code",
   "execution_count": 11,
   "id": "98dd436e",
   "metadata": {},
   "outputs": [
    {
     "name": "stderr",
     "output_type": "stream",
     "text": [
      "C:\\Users\\kosty\\AppData\\Local\\Temp\\ipykernel_66440\\2817770774.py:18: FutureWarning: The frame.append method is deprecated and will be removed from pandas in a future version. Use pandas.concat instead.\n",
      "  beer_tab = beer_tab.append(beer_sum,ignore_index=False)\n"
     ]
    },
    {
     "data": {
      "text/html": [
       "<div>\n",
       "<style scoped>\n",
       "    .dataframe tbody tr th:only-of-type {\n",
       "        vertical-align: middle;\n",
       "    }\n",
       "\n",
       "    .dataframe tbody tr th {\n",
       "        vertical-align: top;\n",
       "    }\n",
       "\n",
       "    .dataframe thead th {\n",
       "        text-align: right;\n",
       "    }\n",
       "</style>\n",
       "<table border=\"1\" class=\"dataframe\">\n",
       "  <thead>\n",
       "    <tr style=\"text-align: right;\">\n",
       "      <th></th>\n",
       "      <th>$\\tilde{x}_i$</th>\n",
       "      <th>$$n_i$$</th>\n",
       "      <th>$u_i$</th>\n",
       "      <th>$n_iu_i$</th>\n",
       "      <th>$$n_iu^2_i$$</th>\n",
       "      <th>$n_iu^3_i$</th>\n",
       "      <th>$n_iu^4_i$</th>\n",
       "      <th>$$n_i(u_i+1)^4$$</th>\n",
       "    </tr>\n",
       "  </thead>\n",
       "  <tbody>\n",
       "    <tr>\n",
       "      <th>1</th>\n",
       "      <td>9.51875</td>\n",
       "      <td>3</td>\n",
       "      <td>-3.0</td>\n",
       "      <td>-9.0</td>\n",
       "      <td>27.0</td>\n",
       "      <td>-81.0</td>\n",
       "      <td>243.0</td>\n",
       "      <td>48.0</td>\n",
       "    </tr>\n",
       "    <tr>\n",
       "      <th>2</th>\n",
       "      <td>24.95625</td>\n",
       "      <td>17</td>\n",
       "      <td>-2.0</td>\n",
       "      <td>-34.0</td>\n",
       "      <td>68.0</td>\n",
       "      <td>-136.0</td>\n",
       "      <td>272.0</td>\n",
       "      <td>17.0</td>\n",
       "    </tr>\n",
       "    <tr>\n",
       "      <th>3</th>\n",
       "      <td>40.39375</td>\n",
       "      <td>27</td>\n",
       "      <td>-1.0</td>\n",
       "      <td>-27.0</td>\n",
       "      <td>27.0</td>\n",
       "      <td>-27.0</td>\n",
       "      <td>27.0</td>\n",
       "      <td>0.0</td>\n",
       "    </tr>\n",
       "    <tr>\n",
       "      <th>4</th>\n",
       "      <td>55.83125</td>\n",
       "      <td>26</td>\n",
       "      <td>0.0</td>\n",
       "      <td>0.0</td>\n",
       "      <td>0.0</td>\n",
       "      <td>0.0</td>\n",
       "      <td>0.0</td>\n",
       "      <td>26.0</td>\n",
       "    </tr>\n",
       "    <tr>\n",
       "      <th>5</th>\n",
       "      <td>71.26875</td>\n",
       "      <td>18</td>\n",
       "      <td>1.0</td>\n",
       "      <td>18.0</td>\n",
       "      <td>18.0</td>\n",
       "      <td>18.0</td>\n",
       "      <td>18.0</td>\n",
       "      <td>288.0</td>\n",
       "    </tr>\n",
       "    <tr>\n",
       "      <th>6</th>\n",
       "      <td>86.70625</td>\n",
       "      <td>11</td>\n",
       "      <td>2.0</td>\n",
       "      <td>22.0</td>\n",
       "      <td>44.0</td>\n",
       "      <td>88.0</td>\n",
       "      <td>176.0</td>\n",
       "      <td>891.0</td>\n",
       "    </tr>\n",
       "    <tr>\n",
       "      <th>7</th>\n",
       "      <td>102.14375</td>\n",
       "      <td>5</td>\n",
       "      <td>3.0</td>\n",
       "      <td>15.0</td>\n",
       "      <td>45.0</td>\n",
       "      <td>135.0</td>\n",
       "      <td>405.0</td>\n",
       "      <td>1280.0</td>\n",
       "    </tr>\n",
       "    <tr>\n",
       "      <th>8</th>\n",
       "      <td>117.58125</td>\n",
       "      <td>2</td>\n",
       "      <td>4.0</td>\n",
       "      <td>8.0</td>\n",
       "      <td>32.0</td>\n",
       "      <td>128.0</td>\n",
       "      <td>512.0</td>\n",
       "      <td>1250.0</td>\n",
       "    </tr>\n",
       "    <tr>\n",
       "      <th>$$\\Sigma$$</th>\n",
       "      <td>-</td>\n",
       "      <td>109</td>\n",
       "      <td>-</td>\n",
       "      <td>-7.0</td>\n",
       "      <td>261.0</td>\n",
       "      <td>125.0</td>\n",
       "      <td>1653.0</td>\n",
       "      <td>3800.0</td>\n",
       "    </tr>\n",
       "  </tbody>\n",
       "</table>\n",
       "</div>"
      ],
      "text/plain": [
       "           $\\tilde{x}_i$  $$n_i$$ $u_i$  $n_iu_i$  $$n_iu^2_i$$  $n_iu^3_i$  \\\n",
       "1                9.51875        3  -3.0      -9.0          27.0       -81.0   \n",
       "2               24.95625       17  -2.0     -34.0          68.0      -136.0   \n",
       "3               40.39375       27  -1.0     -27.0          27.0       -27.0   \n",
       "4               55.83125       26   0.0       0.0           0.0         0.0   \n",
       "5               71.26875       18   1.0      18.0          18.0        18.0   \n",
       "6               86.70625       11   2.0      22.0          44.0        88.0   \n",
       "7              102.14375        5   3.0      15.0          45.0       135.0   \n",
       "8              117.58125        2   4.0       8.0          32.0       128.0   \n",
       "$$\\Sigma$$             -      109     -      -7.0         261.0       125.0   \n",
       "\n",
       "            $n_iu^4_i$  $$n_i(u_i+1)^4$$  \n",
       "1                243.0              48.0  \n",
       "2                272.0              17.0  \n",
       "3                 27.0               0.0  \n",
       "4                  0.0              26.0  \n",
       "5                 18.0             288.0  \n",
       "6                176.0             891.0  \n",
       "7                405.0            1280.0  \n",
       "8                512.0            1250.0  \n",
       "$$\\Sigma$$      1653.0            3800.0  "
      ]
     },
     "execution_count": 11,
     "metadata": {},
     "output_type": "execute_result"
    }
   ],
   "source": [
    "C_beer = 55.83125\n",
    "beer_tab=pd.DataFrame({'$\\tilde{x}_i$':beer_inter['$\\tilde{x}_i$'],\n",
    "'$$n_i$$':beer_inter['$$n_i$$'],\n",
    "'$u_i$':(beer_inter['$\\tilde{x}_i$']-C_beer)/h_beer})\n",
    "beer_tab['$n_iu_i$'] = [beer_tab['$$n_i$$'][i]*beer_tab['$u_i$'][i] for i in range(1,k+1)]\n",
    "beer_tab['$$n_iu^2_i$$'] = [beer_tab['$$n_i$$'][i]*beer_tab['$u_i$'][i]**2 for i in range(1,k+1)]\n",
    "beer_tab['$n_iu^3_i$'] = [beer_tab['$$n_i$$'][i]*beer_tab['$u_i$'][i]**3 for i in range(1,k+1)]\n",
    "beer_tab['$n_iu^4_i$'] = [beer_tab['$$n_i$$'][i]*beer_tab['$u_i$'][i]**4 for i in range(1,k+1)]\n",
    "beer_tab['$$n_i(u_i+1)^4$$'] = [beer_tab['$$n_i$$'][i]*(beer_tab['$u_i$'][i]+1)**4 for i in range(1,k+1)]\n",
    "beer_sum = pd.Series(data={'$\\tilde{x}_i$':'-',\n",
    "'$$n_i$$':sum(beer_inter['$$n_i$$']),\n",
    "'$u_i$':'-',\n",
    "'$n_iu_i$': sum(beer_tab['$n_iu_i$']),          \n",
    "'$$n_iu^2_i$$': sum(beer_tab['$$n_iu^2_i$$']),           \n",
    "'$n_iu^3_i$': sum(beer_tab['$n_iu^3_i$']),\n",
    "'$n_iu^4_i$': sum(beer_tab['$n_iu^4_i$']),\n",
    "'$$n_i(u_i+1)^4$$': sum(beer_tab['$$n_i(u_i+1)^4$$'])},name = '$$\\Sigma$$')\n",
    "beer_tab = beer_tab.append(beer_sum,ignore_index=False)\n",
    "beer_tab\n"
   ]
  },
  {
   "cell_type": "code",
   "execution_count": 12,
   "id": "948ba66e",
   "metadata": {},
   "outputs": [
    {
     "name": "stdout",
     "output_type": "stream",
     "text": [
      "3800.0 3800.0\n"
     ]
    }
   ],
   "source": [
    "print((sum(beer_tab['$$n_i$$'])+4*sum(beer_tab['$n_iu_i$'])\n",
    "+6*sum(beer_tab['$$n_iu^2_i$$'])+4*sum(beer_tab['$n_iu^3_i$'])+sum(beer_tab['$n_iu^4_i$']))/2, \n",
    "      sum(beer_tab['$$n_i(u_i+1)^4$$'])/2)"
   ]
  },
  {
   "cell_type": "markdown",
   "id": "a9e9582e",
   "metadata": {},
   "source": [
    "Проверим правильность вычислений: \n",
    "\n",
    "$\\sum n_i +4\\sum n_iu_i +6\\sum n_iu^2_i +4\\sum n_iu^3_i +\\sum n_iu^4_i = 3800$\n",
    "\n",
    "$\\sum n_i(u_i+1)^4 = 3800$\n",
    "\n",
    "Так как значения равны, то все вычисления сделаны правильно."
   ]
  },
  {
   "cell_type": "code",
   "execution_count": 13,
   "id": "b55794db",
   "metadata": {},
   "outputs": [
    {
     "name": "stderr",
     "output_type": "stream",
     "text": [
      "C:\\Users\\kosty\\AppData\\Local\\Temp\\ipykernel_66440\\4243671934.py:18: FutureWarning: The frame.append method is deprecated and will be removed from pandas in a future version. Use pandas.concat instead.\n",
      "  vodka_tab = vodka_tab.append(vodka_sum,ignore_index=False)\n"
     ]
    },
    {
     "data": {
      "text/html": [
       "<div>\n",
       "<style scoped>\n",
       "    .dataframe tbody tr th:only-of-type {\n",
       "        vertical-align: middle;\n",
       "    }\n",
       "\n",
       "    .dataframe tbody tr th {\n",
       "        vertical-align: top;\n",
       "    }\n",
       "\n",
       "    .dataframe thead th {\n",
       "        text-align: right;\n",
       "    }\n",
       "</style>\n",
       "<table border=\"1\" class=\"dataframe\">\n",
       "  <thead>\n",
       "    <tr style=\"text-align: right;\">\n",
       "      <th></th>\n",
       "      <th>$\\tilde{y}_i$</th>\n",
       "      <th>$$n_i$$</th>\n",
       "      <th>$u_i$</th>\n",
       "      <th>$n_iu_i$</th>\n",
       "      <th>$$n_iu^2_i$$</th>\n",
       "      <th>$n_iu^3_i$</th>\n",
       "      <th>$n_iu^4_i$</th>\n",
       "      <th>$$n_i(u_i+1)^4$$</th>\n",
       "    </tr>\n",
       "  </thead>\n",
       "  <tbody>\n",
       "    <tr>\n",
       "      <th>1</th>\n",
       "      <td>4.7125</td>\n",
       "      <td>8</td>\n",
       "      <td>-3.0</td>\n",
       "      <td>-24.0</td>\n",
       "      <td>72.0</td>\n",
       "      <td>-216.0</td>\n",
       "      <td>648.0</td>\n",
       "      <td>128.0</td>\n",
       "    </tr>\n",
       "    <tr>\n",
       "      <th>2</th>\n",
       "      <td>8.3375</td>\n",
       "      <td>35</td>\n",
       "      <td>-2.0</td>\n",
       "      <td>-70.0</td>\n",
       "      <td>140.0</td>\n",
       "      <td>-280.0</td>\n",
       "      <td>560.0</td>\n",
       "      <td>35.0</td>\n",
       "    </tr>\n",
       "    <tr>\n",
       "      <th>3</th>\n",
       "      <td>11.9625</td>\n",
       "      <td>26</td>\n",
       "      <td>-1.0</td>\n",
       "      <td>-26.0</td>\n",
       "      <td>26.0</td>\n",
       "      <td>-26.0</td>\n",
       "      <td>26.0</td>\n",
       "      <td>0.0</td>\n",
       "    </tr>\n",
       "    <tr>\n",
       "      <th>4</th>\n",
       "      <td>15.5875</td>\n",
       "      <td>26</td>\n",
       "      <td>0.0</td>\n",
       "      <td>0.0</td>\n",
       "      <td>0.0</td>\n",
       "      <td>0.0</td>\n",
       "      <td>0.0</td>\n",
       "      <td>26.0</td>\n",
       "    </tr>\n",
       "    <tr>\n",
       "      <th>5</th>\n",
       "      <td>19.2125</td>\n",
       "      <td>8</td>\n",
       "      <td>1.0</td>\n",
       "      <td>8.0</td>\n",
       "      <td>8.0</td>\n",
       "      <td>8.0</td>\n",
       "      <td>8.0</td>\n",
       "      <td>128.0</td>\n",
       "    </tr>\n",
       "    <tr>\n",
       "      <th>6</th>\n",
       "      <td>22.8375</td>\n",
       "      <td>5</td>\n",
       "      <td>2.0</td>\n",
       "      <td>10.0</td>\n",
       "      <td>20.0</td>\n",
       "      <td>40.0</td>\n",
       "      <td>80.0</td>\n",
       "      <td>405.0</td>\n",
       "    </tr>\n",
       "    <tr>\n",
       "      <th>7</th>\n",
       "      <td>26.4625</td>\n",
       "      <td>0</td>\n",
       "      <td>3.0</td>\n",
       "      <td>0.0</td>\n",
       "      <td>0.0</td>\n",
       "      <td>0.0</td>\n",
       "      <td>0.0</td>\n",
       "      <td>0.0</td>\n",
       "    </tr>\n",
       "    <tr>\n",
       "      <th>8</th>\n",
       "      <td>30.0875</td>\n",
       "      <td>1</td>\n",
       "      <td>4.0</td>\n",
       "      <td>4.0</td>\n",
       "      <td>16.0</td>\n",
       "      <td>64.0</td>\n",
       "      <td>256.0</td>\n",
       "      <td>625.0</td>\n",
       "    </tr>\n",
       "    <tr>\n",
       "      <th>$$\\Sigma$$</th>\n",
       "      <td>-</td>\n",
       "      <td>109</td>\n",
       "      <td>-</td>\n",
       "      <td>-98.0</td>\n",
       "      <td>282.0</td>\n",
       "      <td>-410.0</td>\n",
       "      <td>1578.0</td>\n",
       "      <td>1347.0</td>\n",
       "    </tr>\n",
       "  </tbody>\n",
       "</table>\n",
       "</div>"
      ],
      "text/plain": [
       "           $\\tilde{y}_i$  $$n_i$$ $u_i$  $n_iu_i$  $$n_iu^2_i$$  $n_iu^3_i$  \\\n",
       "1                 4.7125        8  -3.0     -24.0          72.0      -216.0   \n",
       "2                 8.3375       35  -2.0     -70.0         140.0      -280.0   \n",
       "3                11.9625       26  -1.0     -26.0          26.0       -26.0   \n",
       "4                15.5875       26   0.0       0.0           0.0         0.0   \n",
       "5                19.2125        8   1.0       8.0           8.0         8.0   \n",
       "6                22.8375        5   2.0      10.0          20.0        40.0   \n",
       "7                26.4625        0   3.0       0.0           0.0         0.0   \n",
       "8                30.0875        1   4.0       4.0          16.0        64.0   \n",
       "$$\\Sigma$$             -      109     -     -98.0         282.0      -410.0   \n",
       "\n",
       "            $n_iu^4_i$  $$n_i(u_i+1)^4$$  \n",
       "1                648.0             128.0  \n",
       "2                560.0              35.0  \n",
       "3                 26.0               0.0  \n",
       "4                  0.0              26.0  \n",
       "5                  8.0             128.0  \n",
       "6                 80.0             405.0  \n",
       "7                  0.0               0.0  \n",
       "8                256.0             625.0  \n",
       "$$\\Sigma$$      1578.0            1347.0  "
      ]
     },
     "execution_count": 13,
     "metadata": {},
     "output_type": "execute_result"
    }
   ],
   "source": [
    "C_vodka = 15.5875\n",
    "vodka_tab=pd.DataFrame({'$\\tilde{y}_i$':vodka_inter['$\\tilde{y}_i$'],\n",
    "'$$n_i$$':vodka_inter['$$n_i$$'],\n",
    "'$u_i$':(vodka_inter['$\\tilde{y}_i$']-C_vodka)/h_vodka})\n",
    "vodka_tab['$n_iu_i$'] = [vodka_tab['$$n_i$$'][i]*vodka_tab['$u_i$'][i] for i in range(1,k+1)]\n",
    "vodka_tab['$$n_iu^2_i$$'] = [vodka_tab['$$n_i$$'][i]*vodka_tab['$u_i$'][i]**2 for i in range(1,k+1)]\n",
    "vodka_tab['$n_iu^3_i$'] = [vodka_tab['$$n_i$$'][i]*vodka_tab['$u_i$'][i]**3 for i in range(1,k+1)]\n",
    "vodka_tab['$n_iu^4_i$'] = [vodka_tab['$$n_i$$'][i]*vodka_tab['$u_i$'][i]**4 for i in range(1,k+1)]\n",
    "vodka_tab['$$n_i(u_i+1)^4$$'] = [vodka_tab['$$n_i$$'][i]*(vodka_tab['$u_i$'][i]+1)**4 for i in range(1,k+1)]\n",
    "vodka_sum = pd.Series(data={'$\\tilde{y}_i$':'-',\n",
    "'$$n_i$$':sum(vodka_inter['$$n_i$$']),\n",
    "'$u_i$':'-',\n",
    "'$n_iu_i$': sum(vodka_tab['$n_iu_i$']),          \n",
    "'$$n_iu^2_i$$': sum(vodka_tab['$$n_iu^2_i$$']),           \n",
    "'$n_iu^3_i$': sum(vodka_tab['$n_iu^3_i$']),\n",
    "'$n_iu^4_i$': sum(vodka_tab['$n_iu^4_i$']),\n",
    "'$$n_i(u_i+1)^4$$': sum(vodka_tab['$$n_i(u_i+1)^4$$'])},name = '$$\\Sigma$$')\n",
    "vodka_tab = vodka_tab.append(vodka_sum,ignore_index=False)\n",
    "vodka_tab\n",
    "vodka_tab"
   ]
  },
  {
   "cell_type": "code",
   "execution_count": 14,
   "id": "a76474db",
   "metadata": {},
   "outputs": [
    {
     "name": "stdout",
     "output_type": "stream",
     "text": [
      "1347.0 1346.9999999999995\n"
     ]
    }
   ],
   "source": [
    "print((sum(vodka_tab['$$n_i$$'])+4*sum(vodka_tab['$n_iu_i$'])\n",
    "+6*sum(vodka_tab['$$n_iu^2_i$$'])+4*sum(vodka_tab['$n_iu^3_i$'])+sum(vodka_tab['$n_iu^4_i$']))/2, \n",
    "      sum(vodka_tab['$$n_i(u_i+1)^4$$'][:8]))"
   ]
  },
  {
   "cell_type": "markdown",
   "id": "1f07f770",
   "metadata": {},
   "source": [
    "Проверим правильность вычислений: \n",
    "\n",
    "$\\sum n_i +4\\sum n_iu_i +6\\sum n_iu^2_i +4\\sum n_iu^3_i +\\sum n_iu^4_i = 1347$\n",
    "\n",
    "$\\sum n_i(u_i+1)^4 = 1347$\n",
    "\n",
    "Так как значения равны, то все вычисления сделаны правильно."
   ]
  },
  {
   "cell_type": "markdown",
   "id": "349b22ae",
   "metadata": {},
   "source": [
    "На основе условных вариант вычислили условные эмпирические моменты и центральные эмпирические моменты для переменных `beer` и `vodka`."
   ]
  },
  {
   "cell_type": "code",
   "execution_count": 15,
   "id": "af7cdb66",
   "metadata": {},
   "outputs": [
    {
     "data": {
      "text/html": [
       "<div>\n",
       "<style scoped>\n",
       "    .dataframe tbody tr th:only-of-type {\n",
       "        vertical-align: middle;\n",
       "    }\n",
       "\n",
       "    .dataframe tbody tr th {\n",
       "        vertical-align: top;\n",
       "    }\n",
       "\n",
       "    .dataframe thead th {\n",
       "        text-align: right;\n",
       "    }\n",
       "</style>\n",
       "<table border=\"1\" class=\"dataframe\">\n",
       "  <thead>\n",
       "    <tr style=\"text-align: right;\">\n",
       "      <th></th>\n",
       "      <th>$\\nu^*_i$</th>\n",
       "      <th>$\\mu^*_i$</th>\n",
       "    </tr>\n",
       "  </thead>\n",
       "  <tbody>\n",
       "    <tr>\n",
       "      <th>0</th>\n",
       "      <td>-7.0</td>\n",
       "      <td>0.00000</td>\n",
       "    </tr>\n",
       "    <tr>\n",
       "      <th>1</th>\n",
       "      <td>261.0</td>\n",
       "      <td>569.66467</td>\n",
       "    </tr>\n",
       "    <tr>\n",
       "      <th>2</th>\n",
       "      <td>125.0</td>\n",
       "      <td>5914.31713</td>\n",
       "    </tr>\n",
       "    <tr>\n",
       "      <th>3</th>\n",
       "      <td>1653.0</td>\n",
       "      <td>881392.96823</td>\n",
       "    </tr>\n",
       "  </tbody>\n",
       "</table>\n",
       "</div>"
      ],
      "text/plain": [
       "   $\\nu^*_i$     $\\mu^*_i$\n",
       "0       -7.0       0.00000\n",
       "1      261.0     569.66467\n",
       "2      125.0    5914.31713\n",
       "3     1653.0  881392.96823"
      ]
     },
     "execution_count": 15,
     "metadata": {},
     "output_type": "execute_result"
    }
   ],
   "source": [
    "C2_beer = sum(beer_inter['$\\tilde{x}_i$']*beer_inter['$$n_i$$']/n)\n",
    "beer_tab2 = pd.DataFrame({'$\\nu^*_i$':[sum(beer_tab['$n_iu_i$'][:8]),sum(beer_tab['$$n_iu^2_i$$'][:8]),\n",
    "sum(beer_tab['$n_iu^3_i$'][:8]),sum(beer_tab['$n_iu^4_i$'][:8])],\n",
    "'$\\mu^*_i$':[round(sum(beer_inter['$$n_i$$']*(beer_inter['$\\tilde{x}_i$']-C2_beer)**i/n),5) for i in range(1,5)]})\n",
    "beer_tab2"
   ]
  },
  {
   "cell_type": "code",
   "execution_count": 16,
   "id": "1058ced0",
   "metadata": {},
   "outputs": [
    {
     "data": {
      "text/html": [
       "<div>\n",
       "<style scoped>\n",
       "    .dataframe tbody tr th:only-of-type {\n",
       "        vertical-align: middle;\n",
       "    }\n",
       "\n",
       "    .dataframe tbody tr th {\n",
       "        vertical-align: top;\n",
       "    }\n",
       "\n",
       "    .dataframe thead th {\n",
       "        text-align: right;\n",
       "    }\n",
       "</style>\n",
       "<table border=\"1\" class=\"dataframe\">\n",
       "  <thead>\n",
       "    <tr style=\"text-align: right;\">\n",
       "      <th></th>\n",
       "      <th>$\\nu^*_i$</th>\n",
       "      <th>$\\mu^*_i$</th>\n",
       "    </tr>\n",
       "  </thead>\n",
       "  <tbody>\n",
       "    <tr>\n",
       "      <th>0</th>\n",
       "      <td>-98.0</td>\n",
       "      <td>-0.00000</td>\n",
       "    </tr>\n",
       "    <tr>\n",
       "      <th>1</th>\n",
       "      <td>282.0</td>\n",
       "      <td>23.37463</td>\n",
       "    </tr>\n",
       "    <tr>\n",
       "      <th>2</th>\n",
       "      <td>-410.0</td>\n",
       "      <td>83.98899</td>\n",
       "    </tr>\n",
       "    <tr>\n",
       "      <th>3</th>\n",
       "      <td>1578.0</td>\n",
       "      <td>1992.20710</td>\n",
       "    </tr>\n",
       "  </tbody>\n",
       "</table>\n",
       "</div>"
      ],
      "text/plain": [
       "   $\\nu^*_i$   $\\mu^*_i$\n",
       "0      -98.0    -0.00000\n",
       "1      282.0    23.37463\n",
       "2     -410.0    83.98899\n",
       "3     1578.0  1992.20710"
      ]
     },
     "execution_count": 16,
     "metadata": {},
     "output_type": "execute_result"
    }
   ],
   "source": [
    "C2_vodka = sum(vodka_inter['$\\tilde{y}_i$']*vodka_inter['$$n_i$$']/n)\n",
    "vodka_tab2 = pd.DataFrame({'$\\nu^*_i$':[sum(vodka_tab['$n_iu_i$'][:8]),sum(vodka_tab['$$n_iu^2_i$$'][:8]),\n",
    "sum(vodka_tab['$n_iu^3_i$'][:8]),sum(vodka_tab['$n_iu^4_i$'][:8])],\n",
    "'$\\mu^*_i$':[round(sum(vodka_inter['$$n_i$$']*(vodka_inter['$\\tilde{y}_i$']-C2_vodka)**i/n),5) for i in range(1,5)]})\n",
    "vodka_tab2"
   ]
  },
  {
   "cell_type": "markdown",
   "id": "313a82b8",
   "metadata": {},
   "source": [
    "Для переменных `beer` и `vodka` были подсчитаны: среднее выборочное и дисперсия с помощью стандартной формулы. "
   ]
  },
  {
   "cell_type": "code",
   "execution_count": 17,
   "id": "cce6cd71",
   "metadata": {},
   "outputs": [
    {
     "data": {
      "text/plain": [
       "(54.839850917431185, 569.6646694301826)"
      ]
     },
     "execution_count": 17,
     "metadata": {},
     "output_type": "execute_result"
    }
   ],
   "source": [
    "Xv_beer = sum(beer_inter['$\\tilde{x}_i$']*beer_inter['$$n_i$$']/n)\n",
    "Dv_beer = sum(beer_inter['$$n_i$$']*(beer_inter['$\\tilde{x}_i$']-Xv_beer)**2/n)\n",
    "Xv_beer,Dv_beer"
   ]
  },
  {
   "cell_type": "markdown",
   "id": "0b37bcc4",
   "metadata": {},
   "source": [
    "Значения для `beer`: $\\bar{x} = 54.839850917431185$, $\\sigma^2_x = 569.6646694301826$"
   ]
  },
  {
   "cell_type": "code",
   "execution_count": 18,
   "id": "66bf2223",
   "metadata": {},
   "outputs": [
    {
     "data": {
      "text/plain": [
       "(12.328325688073395, 23.37462913475296)"
      ]
     },
     "execution_count": 18,
     "metadata": {},
     "output_type": "execute_result"
    }
   ],
   "source": [
    "Xv_vodka = sum(vodka_inter['$\\tilde{y}_i$']*vodka_inter['$$n_i$$']/n)\n",
    "Dv_vodka = sum(vodka_inter['$$n_i$$']*(vodka_inter['$\\tilde{y}_i$']-Xv_vodka)**2/n)\n",
    "Xv_vodka,Dv_vodka"
   ]
  },
  {
   "cell_type": "markdown",
   "id": "a45f4f40",
   "metadata": {},
   "source": [
    "Значения для `vodka`: $\\bar{y} = 12.328325688073395$, $\\sigma^2_y = 23.37462913475296$"
   ]
  },
  {
   "cell_type": "markdown",
   "id": "76ab00bc",
   "metadata": {},
   "source": [
    "Для переменных `beer` и `vodka` были подсчитаны: среднее выборочное и дисперсия с через условные варианты. "
   ]
  },
  {
   "cell_type": "code",
   "execution_count": 19,
   "id": "31c8fccb",
   "metadata": {},
   "outputs": [
    {
     "data": {
      "text/plain": [
       "(54.83985091743119, 569.66467)"
      ]
     },
     "execution_count": 19,
     "metadata": {},
     "output_type": "execute_result"
    }
   ],
   "source": [
    "Xv_beer2 = sum(h_beer*beer_tab2['$\\nu^*_i$'][:1]/n+C_beer)\n",
    "Dv_beer2 = sum(beer_tab2['$\\mu^*_i$'][1:2])\n",
    "Xv_beer2,Dv_beer2"
   ]
  },
  {
   "cell_type": "markdown",
   "id": "6d1b4282",
   "metadata": {},
   "source": [
    "Значения для `beer`: $\\bar{x} = 54.83985091743119$, $\\sigma^2_x = 569.66467$"
   ]
  },
  {
   "cell_type": "code",
   "execution_count": 20,
   "id": "0960989f",
   "metadata": {},
   "outputs": [
    {
     "data": {
      "text/plain": [
       "(12.328325688073395, 23.37463)"
      ]
     },
     "execution_count": 20,
     "metadata": {},
     "output_type": "execute_result"
    }
   ],
   "source": [
    "Xv_vodka2 = sum(h_vodka*vodka_tab2['$\\nu^*_i$'][:1]/n+C_vodka)\n",
    "Dv_vodka2 = sum(vodka_tab2['$\\mu^*_i$'][1:2])\n",
    "Xv_vodka2,Dv_vodka2"
   ]
  },
  {
   "cell_type": "markdown",
   "id": "f829f891",
   "metadata": {},
   "source": [
    "Значения для `vodka`: $\\bar{y} = 12.328325688073395$, $\\sigma^2_y= 23.37463$"
   ]
  },
  {
   "cell_type": "markdown",
   "id": "6107e9cc",
   "metadata": {},
   "source": [
    "Сравнивая значения среднего выборочного и дисперсии для переменных `beer` и `vodka`, полученные двумя способами, получается что способы дают одинаковые значения."
   ]
  },
  {
   "cell_type": "markdown",
   "id": "7abb9f4e",
   "metadata": {},
   "source": [
    "Для переменных `beer` и `vodka` получили исправленное СКО и исправленную дисперсию."
   ]
  },
  {
   "cell_type": "code",
   "execution_count": 21,
   "id": "e1f631e9",
   "metadata": {},
   "outputs": [],
   "source": [
    "Sv_beer = Dv_beer*(n)/(n-1)\n",
    "Sv_vodka = Dv_vodka*(n)/(n-1)\n",
    "s_beer = math.sqrt(Sv_beer)\n",
    "s_vodka = math.sqrt(Sv_vodka)"
   ]
  },
  {
   "cell_type": "markdown",
   "id": "3541c431",
   "metadata": {},
   "source": [
    "Значения для переменной `beer`: $s^2_x = 574.9393422952769$, $s_x = 23.97789278262952$\n",
    "\n",
    "$\\frac{s^2_x}{\\sigma^2_x} = 1.0092592592592593$, $\\frac{s_x}{\\sigma_x} = 1.0046189622236181$\n",
    "\n",
    "Значения для переменной `vodka`: $\\sigma_s^2 = 23.591060886000673$, $\\sigma_s = 4.857062989708973$\n",
    "\n",
    "$\\frac{s^2_y}{\\sigma^2_y} = 1.0092592592592593$, $\\frac{s_y}{\\sigma_y} = 1.004618962223618$\n",
    "\n",
    "Так как значения отношений малы, то значит изначальная выборка достаточная большая"
   ]
  },
  {
   "cell_type": "markdown",
   "id": "6e623091",
   "metadata": {},
   "source": [
    "Для переменных `beer` и `vodka` получили статистическую оценку коэффициентов асимметрии и эксцесса. "
   ]
  },
  {
   "cell_type": "code",
   "execution_count": 22,
   "id": "e0b400f4",
   "metadata": {},
   "outputs": [],
   "source": [
    "as_beer = sum(beer_tab2['$\\mu^*_i$'][2:3]/math.sqrt(Dv_beer)**3)\n",
    "as_vodka = sum(vodka_tab2['$\\mu^*_i$'][2:3]/math.sqrt(Dv_vodka)**3)\n",
    "ek_beer = sum(beer_tab2['$\\mu^*_i$'][3:4]/math.sqrt(Dv_beer)**4)-3\n",
    "ek_vodka = sum(vodka_tab2['$\\mu^*_i$'][3:4]/math.sqrt(Dv_vodka)**4)-3\n",
    "#print(as_beer,as_vodka) - Получение коэффициентов асимметрии\n",
    "#print(ek_beer,ek_vodka) - Получение коэффициентов эксцесса"
   ]
  },
  {
   "cell_type": "markdown",
   "id": "756b00bf",
   "metadata": {},
   "source": [
    "Значения для переменной `beer`: $a^*_s = 0.43498640114342285$, $\\varepsilon^*_k = -0.28399221383766005$\n",
    "\n",
    "Значения для переменной `vodka`: $a^*_s = 0.7431992542531995$, $\\varepsilon^*_k = 0.6462381062880747$\n",
    "\n",
    "Для переменной `beer`: коэффициент асимметрии больше 0 следовательно у графика распределения правый хвост будет длиннее левого, что подтверждается графиком полигона. Коэффициент эксцесса отрицателен следовательно пик около математического ожидания гладкий, что также подтверждается графиком полигона.\n",
    "\n",
    "Для переменной `vodka`: коэффициент асимметрии больше 0 следовательно у графика распределения правый хвост будет длиннее левого, что подтверждается графиком полигона. Коэффициент эксцесса положителен следовательно пик около математического ожидания острый, что также подтверждается графиком полигона."
   ]
  },
  {
   "cell_type": "markdown",
   "id": "fd32acab",
   "metadata": {},
   "source": [
    "Для переменных `beer` и `vodka` вычислили моду. Из таблицы получили что варианта с наибольшей частотой для `beer` третья, а для `vodka` - вторая."
   ]
  },
  {
   "cell_type": "code",
   "execution_count": 23,
   "id": "9e493d04",
   "metadata": {},
   "outputs": [],
   "source": [
    "xm0_beer = sum(beer_inter['$x_i$'][2:3])\n",
    "nmo_beer = sum(beer_inter['$$n_i$$'][2:3])\n",
    "Mo_beer = xm0_beer+h_beer*(nmo_beer-sum(beer_inter['$$n_i$$'][1:2]))/(2*nmo_beer-sum(beer_inter['$$n_i$$'][1:2])-sum(beer_inter['$$n_i$$'][3:4]))\n",
    "#print(f\"Мода = {Mo_beer}\") - Мода для beer\n",
    "ym0_vodka = sum(vodka_inter['$y_i$'][1:2])\n",
    "nmo_vodka = sum(vodka_inter['$$n_i$$'][1:2])\n",
    "Mo_vodka = ym0_vodka+h_beer*(nmo_vodka-sum(vodka_inter['$$n_i$$'][0:1]))/(2*nmo_vodka-sum(vodka_inter['$$n_i$$'][0:1])-sum(vodka_inter['$$n_i$$'][2:3]))\n",
    "#print(f\"Мода = {Mo_vodka}\") - Мода для vodka\n"
   ]
  },
  {
   "cell_type": "markdown",
   "id": "6d5e263f",
   "metadata": {},
   "source": [
    "Значение Моды для `beer`: $M_o^* = 46.709090909090904$\n",
    "\n",
    "Значение Моды для `vodka`: $M_o^* = 18.103125$"
   ]
  },
  {
   "cell_type": "markdown",
   "id": "bad0a89e",
   "metadata": {},
   "source": [
    "Для переменных `beer` и `vodka` вычислили медиану. Из таблицы получили что варианта, где накопленная частота становится больше 0.5 для `beer` четвертая, а для `vodka` - третья."
   ]
  },
  {
   "cell_type": "code",
   "execution_count": 24,
   "id": "4bf6678e",
   "metadata": {},
   "outputs": [],
   "source": [
    "xme_beer = sum(beer_inter['$x_i$'][3:4])\n",
    "Me_beer = xme_beer + h_beer*(0.5-sum(beer_inter['$p^{\\Sigma}_i$'][2:3]))/sum(beer_inter['$p^*_i$'][3:4])\n",
    "#print(f\"Медиана = {Me_beer}\") - Медиана для beer\n",
    "yme_vodka = sum(vodka_inter['$y_i$'][2:3])\n",
    "Me_vodka = yme_vodka + h_vodka*(0.5-sum(vodka_inter['$p^{\\Sigma}_i$'][1:2]))/sum(vodka_inter['$p^*_i$'][2:3])\n",
    "#print(f\"Медиана = {Me_vodka}\") - Медиана для vodka"
   ]
  },
  {
   "cell_type": "markdown",
   "id": "bd59ead2",
   "metadata": {},
   "source": [
    "Значение Медианы для `beer`: $M_e^* = 52.565625$\n",
    "\n",
    "Значение Медианы для `vodka`: $M_e^* = 11.753365384615385$"
   ]
  },
  {
   "cell_type": "markdown",
   "id": "ef49a829",
   "metadata": {},
   "source": [
    "Для параметров `beer` и `vodka` вычислили коэффициент коварнации."
   ]
  },
  {
   "cell_type": "code",
   "execution_count": 25,
   "id": "1917b34e",
   "metadata": {},
   "outputs": [],
   "source": [
    "Var_beer = math.sqrt(Dv_beer)/abs(Xv_beer)*100\n",
    "#print(f\"Коэффициент вариации = {Var_beer}%\") - получений коэффициента вариации для beer\n",
    "Var_vodka = math.sqrt(Dv_vodka)/abs(Xv_vodka)*100\n",
    "#print(f\"Коэффициент вариации = {Var_vodka}%\") - получений коэффициента вариации для vodka"
   ]
  },
  {
   "cell_type": "markdown",
   "id": "f75cc141",
   "metadata": {},
   "source": [
    "Значение коэффициента вариации для `beer`: $V^*_x = 43.522454226590995\\%$\n",
    "\n",
    "Значение коэффициента вариации для `vodka`: $V^*_y = 39.216448929538835\\%$"
   ]
  },
  {
   "cell_type": "markdown",
   "id": "c1f3b926",
   "metadata": {},
   "source": [
    "Для построения доверительных интервалов для оценки математического ожидания берутся табличные значение t-критерия при $ n = 109 $ и $ 1-\\gamma = \\lbrace 0.01; 0.05 \\rbrace $. На основе них строятся доверительные интервалы для переменных `beer` и `vodka` соответственно, а также для них находится точность $ \\delta $."
   ]
  },
  {
   "cell_type": "markdown",
   "id": "20f395fa",
   "metadata": {},
   "source": [
    "Для переменной `beer`:"
   ]
  },
  {
   "cell_type": "code",
   "execution_count": 26,
   "id": "1b1ee1c3",
   "metadata": {},
   "outputs": [
    {
     "name": "stdout",
     "output_type": "stream",
     "text": [
      "Доверительный интервал при 𝛾 = 0.99: (48.81870959239225,60.86099224247012), точность δ = 6.021141325038933\n",
      "Доверительный интервал при 𝛾 = 0.95: (50.28793434552823,59.39176748933414), точность δ = 4.55191657190296\n"
     ]
    }
   ],
   "source": [
    "t1 = 2.6216883\n",
    "t2 = 1.9819675\n",
    "print(f\"Доверительный интервал при 𝛾 = 0.99: ({Xv_beer-t1*s_beer/math.sqrt(n)},{Xv_beer+t1*s_beer/math.sqrt(n)}), точность δ = {t1*s_beer/math.sqrt(n)}\")\n",
    "print(f\"Доверительный интервал при 𝛾 = 0.95: ({Xv_beer-t2*s_beer/math.sqrt(n)},{Xv_beer+t2*s_beer/math.sqrt(n)}), точность δ = {t2*s_beer/math.sqrt(n)}\")"
   ]
  },
  {
   "cell_type": "markdown",
   "id": "209da741",
   "metadata": {},
   "source": [
    "Для переменной `vodka`:"
   ]
  },
  {
   "cell_type": "code",
   "execution_count": 27,
   "id": "32a66652",
   "metadata": {},
   "outputs": [
    {
     "name": "stdout",
     "output_type": "stream",
     "text": [
      "Доверительный интервал при 𝛾 = 0.99: (11.108657931996012,13.547993444150778), точность δ = 1.2196677560773839\n",
      "Доверительный интервал при 𝛾 = 0.95: (11.406270288374163,13.250381087772627), точность δ = 0.9220553996992328\n"
     ]
    }
   ],
   "source": [
    "print(f\"Доверительный интервал при 𝛾 = 0.99: ({Xv_vodka-t1*s_vodka/math.sqrt(n)},{Xv_vodka+t1*s_vodka/math.sqrt(n)}), точность δ = {t1*s_vodka/math.sqrt(n)}\")\n",
    "print(f\"Доверительный интервал при 𝛾 = 0.95: ({Xv_vodka-t2*s_vodka/math.sqrt(n)},{Xv_vodka+t2*s_vodka/math.sqrt(n)}), точность δ = {t2*s_vodka/math.sqrt(n)}\")"
   ]
  },
  {
   "cell_type": "markdown",
   "id": "b5419720",
   "metadata": {},
   "source": [
    "Для обеих переменных доверительный интервал покрывает выборочное среднее."
   ]
  },
  {
   "cell_type": "markdown",
   "id": "867623fd",
   "metadata": {},
   "source": [
    "Для переменых `beer` и `vodka` берутся табличные значения $ \\chi^2 $-критерия для $ n - 1 = 108 $ и $ \\gamma' = \\left\\lbrace \\frac{1+0.95}{2};\\frac{1+0.99}{2} \\right\\rbrace $. На основе них находится $ q $ по формуле: $$ q = \\left|1-\\sqrt{\\frac{n-1}{\\chi_{\\gamma';n-1}^2}}\\right| $$ . Дальше на основе $ q $ строются доверительные интервалы для СКО.\n",
    "\n",
    "Значения $q$: \n",
    "\n",
    "$q_1 = 0.15375425007159782$, $q_2 = 0.2089071903167845$"
   ]
  },
  {
   "cell_type": "markdown",
   "id": "4709f42b",
   "metadata": {},
   "source": [
    "Для переменной `beer`:"
   ]
  },
  {
   "cell_type": "code",
   "execution_count": 29,
   "id": "42b3b90b",
   "metadata": {},
   "outputs": [
    {
     "name": "stdout",
     "output_type": "stream",
     "text": [
      "Доверительный интервал для σ при 𝛾 = 0.99: (20.29118985953914,27.6645957057199)\n",
      "Доверительный интервал для σ при 𝛾 = 0.95: (18.968738571693283,28.98704699356576)\n"
     ]
    }
   ],
   "source": [
    "q1 = abs(1-math.sqrt(108)/math.sqrt(81.13292395))\n",
    "q2 = abs(1-math.sqrt(108)/math.sqrt(73.89887622))\n",
    "print(f\"Доверительный интервал для σ при 𝛾 = 0.99: ({(1-q1)*s_beer},{(1+q1)*s_beer})\")\n",
    "print(f\"Доверительный интервал для σ при 𝛾 = 0.95: ({(1-q2)*s_beer},{(1+q2)*s_beer})\")"
   ]
  },
  {
   "cell_type": "markdown",
   "id": "0bcfae37",
   "metadata": {},
   "source": [
    "Для переменной `vodka`:"
   ]
  },
  {
   "cell_type": "code",
   "execution_count": 30,
   "id": "42e43b13",
   "metadata": {},
   "outputs": [
    {
     "name": "stdout",
     "output_type": "stream",
     "text": [
      "Доверительный интервал для σ при 𝛾 = 0.99: (4.110268912175758,5.603857067242189)\n",
      "Доверительный интервал для σ при 𝛾 = 0.95: (3.8423876073372307,5.871738372080716)\n"
     ]
    }
   ],
   "source": [
    "print(f\"Доверительный интервал для σ при 𝛾 = 0.99: ({(1-q1)*s_vodka},{(1+q1)*s_vodka})\")\n",
    "print(f\"Доверительный интервал для σ при 𝛾 = 0.95: ({(1-q2)*s_vodka},{(1+q2)*s_vodka})\")"
   ]
  },
  {
   "cell_type": "markdown",
   "id": "ebb09ac9",
   "metadata": {},
   "source": [
    "Для обеих переменных доверительные интервалы покрывают СКО."
   ]
  },
  {
   "cell_type": "markdown",
   "id": "3e997592",
   "metadata": {},
   "source": [
    "Для обеих переменых `beer` и `vodka` выведена расчетная таблица и проведена проверка с помощью критерия Пирсона, когда нулевая гипотеза - распределение является нормальным, а альтернативная гипотеза - распределение не является нормальным. "
   ]
  },
  {
   "cell_type": "markdown",
   "id": "6fa173fc",
   "metadata": {},
   "source": [
    "Для переменной `beer`:"
   ]
  },
  {
   "cell_type": "code",
   "execution_count": 31,
   "id": "94f62dc9",
   "metadata": {},
   "outputs": [
    {
     "name": "stderr",
     "output_type": "stream",
     "text": [
      "C:\\Users\\kosty\\AppData\\Local\\Temp\\ipykernel_66440\\2873269159.py:22: FutureWarning: The frame.append method is deprecated and will be removed from pandas in a future version. Use pandas.concat instead.\n",
      "  beer_tab3 = beer_tab3.append(beer_sum2,ignore_index=False)\n"
     ]
    },
    {
     "data": {
      "text/html": [
       "<div>\n",
       "<style scoped>\n",
       "    .dataframe tbody tr th:only-of-type {\n",
       "        vertical-align: middle;\n",
       "    }\n",
       "\n",
       "    .dataframe tbody tr th {\n",
       "        vertical-align: top;\n",
       "    }\n",
       "\n",
       "    .dataframe thead th {\n",
       "        text-align: right;\n",
       "    }\n",
       "</style>\n",
       "<table border=\"1\" class=\"dataframe\">\n",
       "  <thead>\n",
       "    <tr style=\"text-align: right;\">\n",
       "      <th></th>\n",
       "      <th>$x_{i-1}$</th>\n",
       "      <th>$x_i$</th>\n",
       "      <th>$$n_i$$</th>\n",
       "      <th>$p_i$</th>\n",
       "      <th>$n^{'}_i$</th>\n",
       "      <th>$$(n_i-n^{'}_i)^2$$</th>\n",
       "      <th>$$\\frac{(n_i-n^{'}_i)^2}{n^{'}_i}$$</th>\n",
       "      <th>$(n^{'}_i)^2$</th>\n",
       "      <th>$\\frac{n_i^2}{n^{'}_i}$</th>\n",
       "    </tr>\n",
       "  </thead>\n",
       "  <tbody>\n",
       "    <tr>\n",
       "      <th>1</th>\n",
       "      <td>-inf</td>\n",
       "      <td>17.2375</td>\n",
       "      <td>3</td>\n",
       "      <td>0.027523</td>\n",
       "      <td>6.275784</td>\n",
       "      <td>10.730761</td>\n",
       "      <td>1.709868</td>\n",
       "      <td>39.385464</td>\n",
       "      <td>1.434084</td>\n",
       "    </tr>\n",
       "    <tr>\n",
       "      <th>2</th>\n",
       "      <td>17.2375</td>\n",
       "      <td>32.675</td>\n",
       "      <td>17</td>\n",
       "      <td>0.155963</td>\n",
       "      <td>12.966371</td>\n",
       "      <td>16.270167</td>\n",
       "      <td>1.254797</td>\n",
       "      <td>168.126764</td>\n",
       "      <td>22.288427</td>\n",
       "    </tr>\n",
       "    <tr>\n",
       "      <th>3</th>\n",
       "      <td>32.675</td>\n",
       "      <td>48.1125</td>\n",
       "      <td>27</td>\n",
       "      <td>0.247706</td>\n",
       "      <td>23.161591</td>\n",
       "      <td>14.733387</td>\n",
       "      <td>0.636113</td>\n",
       "      <td>536.459279</td>\n",
       "      <td>31.474522</td>\n",
       "    </tr>\n",
       "    <tr>\n",
       "      <th>4</th>\n",
       "      <td>48.1125</td>\n",
       "      <td>63.55</td>\n",
       "      <td>26</td>\n",
       "      <td>0.238532</td>\n",
       "      <td>27.620054</td>\n",
       "      <td>2.624573</td>\n",
       "      <td>0.095024</td>\n",
       "      <td>762.867358</td>\n",
       "      <td>24.474971</td>\n",
       "    </tr>\n",
       "    <tr>\n",
       "      <th>5</th>\n",
       "      <td>63.55</td>\n",
       "      <td>78.9875</td>\n",
       "      <td>18</td>\n",
       "      <td>0.165138</td>\n",
       "      <td>21.990376</td>\n",
       "      <td>15.923103</td>\n",
       "      <td>0.724094</td>\n",
       "      <td>483.57665</td>\n",
       "      <td>14.733718</td>\n",
       "    </tr>\n",
       "    <tr>\n",
       "      <th>6</th>\n",
       "      <td>78.9875</td>\n",
       "      <td>94.425</td>\n",
       "      <td>11</td>\n",
       "      <td>0.100917</td>\n",
       "      <td>11.687822</td>\n",
       "      <td>0.473099</td>\n",
       "      <td>0.040478</td>\n",
       "      <td>136.60518</td>\n",
       "      <td>10.352656</td>\n",
       "    </tr>\n",
       "    <tr>\n",
       "      <th>7</th>\n",
       "      <td>94.425</td>\n",
       "      <td>109.8625</td>\n",
       "      <td>5</td>\n",
       "      <td>0.045872</td>\n",
       "      <td>4.145412</td>\n",
       "      <td>0.730321</td>\n",
       "      <td>0.176176</td>\n",
       "      <td>17.184438</td>\n",
       "      <td>6.030764</td>\n",
       "    </tr>\n",
       "    <tr>\n",
       "      <th>8</th>\n",
       "      <td>109.8625</td>\n",
       "      <td>inf</td>\n",
       "      <td>2</td>\n",
       "      <td>0.018349</td>\n",
       "      <td>1.152592</td>\n",
       "      <td>0.718101</td>\n",
       "      <td>0.623032</td>\n",
       "      <td>1.328467</td>\n",
       "      <td>3.470440</td>\n",
       "    </tr>\n",
       "    <tr>\n",
       "      <th>$$\\Sigma$$</th>\n",
       "      <td>-</td>\n",
       "      <td>-</td>\n",
       "      <td>109</td>\n",
       "      <td>1.000000</td>\n",
       "      <td>109.000000</td>\n",
       "      <td>-</td>\n",
       "      <td>5.259582</td>\n",
       "      <td>-</td>\n",
       "      <td>114.259582</td>\n",
       "    </tr>\n",
       "  </tbody>\n",
       "</table>\n",
       "</div>"
      ],
      "text/plain": [
       "           $x_{i-1}$     $x_i$  $$n_i$$     $p_i$   $n^{'}_i$  \\\n",
       "1               -inf   17.2375        3  0.027523    6.275784   \n",
       "2            17.2375    32.675       17  0.155963   12.966371   \n",
       "3             32.675   48.1125       27  0.247706   23.161591   \n",
       "4            48.1125     63.55       26  0.238532   27.620054   \n",
       "5              63.55   78.9875       18  0.165138   21.990376   \n",
       "6            78.9875    94.425       11  0.100917   11.687822   \n",
       "7             94.425  109.8625        5  0.045872    4.145412   \n",
       "8           109.8625       inf        2  0.018349    1.152592   \n",
       "$$\\Sigma$$         -         -      109  1.000000  109.000000   \n",
       "\n",
       "           $$(n_i-n^{'}_i)^2$$  $$\\frac{(n_i-n^{'}_i)^2}{n^{'}_i}$$  \\\n",
       "1                    10.730761                             1.709868   \n",
       "2                    16.270167                             1.254797   \n",
       "3                    14.733387                             0.636113   \n",
       "4                     2.624573                             0.095024   \n",
       "5                    15.923103                             0.724094   \n",
       "6                     0.473099                             0.040478   \n",
       "7                     0.730321                             0.176176   \n",
       "8                     0.718101                             0.623032   \n",
       "$$\\Sigma$$                   -                             5.259582   \n",
       "\n",
       "           $(n^{'}_i)^2$  $\\frac{n_i^2}{n^{'}_i}$  \n",
       "1              39.385464                 1.434084  \n",
       "2             168.126764                22.288427  \n",
       "3             536.459279                31.474522  \n",
       "4             762.867358                24.474971  \n",
       "5              483.57665                14.733718  \n",
       "6              136.60518                10.352656  \n",
       "7              17.184438                 6.030764  \n",
       "8               1.328467                 3.470440  \n",
       "$$\\Sigma$$             -               114.259582  "
      ]
     },
     "execution_count": 31,
     "metadata": {},
     "output_type": "execute_result"
    }
   ],
   "source": [
    "from scipy.special import erf\n",
    "import scipy.special\n",
    "Phi = lambda x: scipy.special.erf(x/2**0.5)/2\n",
    "beer_tab3 = pd.DataFrame({'$x_{i-1}$':[-math.inf]+[sum(beer_inter['$x_i$'][i:i+1]) for i in range(1,k)],\n",
    "'$x_i$':[sum(beer_inter['$x_{i+1}$'][i:i+1]) for i in range(k-1)]+[math.inf],\n",
    "'$$n_i$$':beer_inter['$$n_i$$'],\n",
    "'$p_i$':beer_inter['$p^*_i$'],\n",
    "\"$n^{'}_i$\":[n*(Phi((sum(beer_inter['$x_{i+1}$'][0:1])-Xv_beer)/math.sqrt(Dv_beer))-Phi(-math.inf))]+[n*(Phi((sum(beer_inter['$x_{i+1}$'][i:i+1])-Xv_beer)/math.sqrt(Dv_beer))-Phi((sum(beer_inter['$x_i$'][i:i+1])-Xv_beer)/math.sqrt(Dv_beer))) for i in range(1,k-1)] +[n*(0.5-Phi((sum(beer_inter['$x_i$'][k-1:k])-Xv_beer)/math.sqrt(Dv_beer)))]})\n",
    "beer_tab3[\"$$(n_i-n^{'}_i)^2$$\"] = (beer_tab3['$$n_i$$']-beer_tab3[\"$n^{'}_i$\"])**2\n",
    "beer_tab3[\"$$\\\\frac{(n_i-n^{'}_i)^2}{n^{'}_i}$$\"] = beer_tab3[\"$$(n_i-n^{'}_i)^2$$\"]/beer_tab3[\"$n^{'}_i$\"]\n",
    "beer_tab3[\"$(n^{'}_i)^2$\"] =beer_tab3[\"$n^{'}_i$\"]**2\n",
    "beer_tab3[\"$\\\\frac{n_i^2}{n^{'}_i}$\"] = beer_tab3['$$n_i$$']**2/beer_tab3[\"$n^{'}_i$\"]\n",
    "beer_sum2 = pd.Series(data={'$x_{i-1}$':'-',\n",
    "'$x_i$':'-',\n",
    "'$$n_i$$':sum(beer_tab3['$$n_i$$']),\n",
    "'$p_i$':sum(beer_tab3['$p_i$']),\n",
    "\"$n^{'}_i$\": sum(beer_tab3[\"$n^{'}_i$\"]),          \n",
    "\"$$(n_i-n^{'}_i)^2$$\": '-',           \n",
    "\"$$\\\\frac{(n_i-n^{'}_i)^2}{n^{'}_i}$$\": sum(beer_tab3[\"$$\\\\frac{(n_i-n^{'}_i)^2}{n^{'}_i}$$\"]),\n",
    "\"$(n^{'}_i)^2$\": '-',\n",
    "\"$\\\\frac{n_i^2}{n^{'}_i}$\": sum(beer_tab3[\"$\\\\frac{n_i^2}{n^{'}_i}$\"])},name = '$$\\Sigma$$')\n",
    "beer_tab3 = beer_tab3.append(beer_sum2,ignore_index=False)\n",
    "beer_tab3"
   ]
  },
  {
   "cell_type": "markdown",
   "id": "6cfa25b1",
   "metadata": {},
   "source": [
    "$\\chi^2_{набл}=\\sum \\frac{(n_i-n^{'}_i)^2}{n^{'}_i} = \\sum \\frac{n_i^2}{n^{'}_i} - n = 5.259582$\n",
    "\n",
    "$\\chi^2_{крит}=12.6$ из таблицы при $df = n-r-1 = 6$, $\\alpha=0.05$ \n",
    "\n",
    "Так как $\\chi^2_{набл}<\\chi^2_{крит}$, то гипотезу $H_0$ не отвергаем."
   ]
  },
  {
   "cell_type": "markdown",
   "id": "5a9e2150",
   "metadata": {},
   "source": [
    "Для переменной `vodka`:"
   ]
  },
  {
   "cell_type": "code",
   "execution_count": 32,
   "id": "a5f0a2b5",
   "metadata": {},
   "outputs": [
    {
     "name": "stderr",
     "output_type": "stream",
     "text": [
      "C:\\Users\\kosty\\AppData\\Local\\Temp\\ipykernel_66440\\1292841125.py:20: FutureWarning: The frame.append method is deprecated and will be removed from pandas in a future version. Use pandas.concat instead.\n",
      "  vodka_tab3 = vodka_tab3.append(vodka_sum2,ignore_index=False)\n"
     ]
    },
    {
     "data": {
      "text/html": [
       "<div>\n",
       "<style scoped>\n",
       "    .dataframe tbody tr th:only-of-type {\n",
       "        vertical-align: middle;\n",
       "    }\n",
       "\n",
       "    .dataframe tbody tr th {\n",
       "        vertical-align: top;\n",
       "    }\n",
       "\n",
       "    .dataframe thead th {\n",
       "        text-align: right;\n",
       "    }\n",
       "</style>\n",
       "<table border=\"1\" class=\"dataframe\">\n",
       "  <thead>\n",
       "    <tr style=\"text-align: right;\">\n",
       "      <th></th>\n",
       "      <th>$y_{i-1}$</th>\n",
       "      <th>$y_i$</th>\n",
       "      <th>$$n_i$$</th>\n",
       "      <th>$p_i$</th>\n",
       "      <th>$n^{'}_i$</th>\n",
       "      <th>$$(n_i-n^{'}_i)^2$$</th>\n",
       "      <th>$$\\frac{(n_i-n^{'}_i)^2}{n^{'}_i}$$</th>\n",
       "      <th>$(n^{'}_i)^2$</th>\n",
       "      <th>$\\frac{n_i^2}{n^{'}_i}$</th>\n",
       "    </tr>\n",
       "  </thead>\n",
       "  <tbody>\n",
       "    <tr>\n",
       "      <th>1</th>\n",
       "      <td>-inf</td>\n",
       "      <td>6.525</td>\n",
       "      <td>8</td>\n",
       "      <td>0.073394</td>\n",
       "      <td>12.535381</td>\n",
       "      <td>20.569684</td>\n",
       "      <td>1.640930</td>\n",
       "      <td>157.135786</td>\n",
       "      <td>5.105549</td>\n",
       "    </tr>\n",
       "    <tr>\n",
       "      <th>2</th>\n",
       "      <td>6.525</td>\n",
       "      <td>10.15</td>\n",
       "      <td>35</td>\n",
       "      <td>0.321101</td>\n",
       "      <td>23.015423</td>\n",
       "      <td>143.630089</td>\n",
       "      <td>6.240602</td>\n",
       "      <td>529.70969</td>\n",
       "      <td>53.225179</td>\n",
       "    </tr>\n",
       "    <tr>\n",
       "      <th>3</th>\n",
       "      <td>10.15</td>\n",
       "      <td>13.775</td>\n",
       "      <td>26</td>\n",
       "      <td>0.238532</td>\n",
       "      <td>31.769334</td>\n",
       "      <td>33.28522</td>\n",
       "      <td>1.047715</td>\n",
       "      <td>1009.290612</td>\n",
       "      <td>21.278381</td>\n",
       "    </tr>\n",
       "    <tr>\n",
       "      <th>4</th>\n",
       "      <td>13.775</td>\n",
       "      <td>17.4</td>\n",
       "      <td>26</td>\n",
       "      <td>0.238532</td>\n",
       "      <td>25.647366</td>\n",
       "      <td>0.124351</td>\n",
       "      <td>0.004848</td>\n",
       "      <td>657.787389</td>\n",
       "      <td>26.357482</td>\n",
       "    </tr>\n",
       "    <tr>\n",
       "      <th>5</th>\n",
       "      <td>17.4</td>\n",
       "      <td>21.025</td>\n",
       "      <td>8</td>\n",
       "      <td>0.073394</td>\n",
       "      <td>12.105680</td>\n",
       "      <td>16.856606</td>\n",
       "      <td>1.392454</td>\n",
       "      <td>146.547483</td>\n",
       "      <td>5.286775</td>\n",
       "    </tr>\n",
       "    <tr>\n",
       "      <th>6</th>\n",
       "      <td>21.025</td>\n",
       "      <td>24.65</td>\n",
       "      <td>5</td>\n",
       "      <td>0.045872</td>\n",
       "      <td>3.337321</td>\n",
       "      <td>2.764502</td>\n",
       "      <td>0.828360</td>\n",
       "      <td>11.137711</td>\n",
       "      <td>7.491039</td>\n",
       "    </tr>\n",
       "    <tr>\n",
       "      <th>7</th>\n",
       "      <td>24.65</td>\n",
       "      <td>28.275</td>\n",
       "      <td>0</td>\n",
       "      <td>0.000000</td>\n",
       "      <td>0.536492</td>\n",
       "      <td>0.287824</td>\n",
       "      <td>0.536492</td>\n",
       "      <td>0.287824</td>\n",
       "      <td>0.000000</td>\n",
       "    </tr>\n",
       "    <tr>\n",
       "      <th>8</th>\n",
       "      <td>28.275</td>\n",
       "      <td>inf</td>\n",
       "      <td>1</td>\n",
       "      <td>0.009174</td>\n",
       "      <td>0.053002</td>\n",
       "      <td>0.896804</td>\n",
       "      <td>16.920067</td>\n",
       "      <td>0.002809</td>\n",
       "      <td>18.867065</td>\n",
       "    </tr>\n",
       "    <tr>\n",
       "      <th>$$\\Sigma$$</th>\n",
       "      <td>-</td>\n",
       "      <td>-</td>\n",
       "      <td>109</td>\n",
       "      <td>1.000000</td>\n",
       "      <td>109.000000</td>\n",
       "      <td>-</td>\n",
       "      <td>28.611469</td>\n",
       "      <td>-</td>\n",
       "      <td>137.611469</td>\n",
       "    </tr>\n",
       "  </tbody>\n",
       "</table>\n",
       "</div>"
      ],
      "text/plain": [
       "           $y_{i-1}$   $y_i$  $$n_i$$     $p_i$   $n^{'}_i$  \\\n",
       "1               -inf   6.525        8  0.073394   12.535381   \n",
       "2              6.525   10.15       35  0.321101   23.015423   \n",
       "3              10.15  13.775       26  0.238532   31.769334   \n",
       "4             13.775    17.4       26  0.238532   25.647366   \n",
       "5               17.4  21.025        8  0.073394   12.105680   \n",
       "6             21.025   24.65        5  0.045872    3.337321   \n",
       "7              24.65  28.275        0  0.000000    0.536492   \n",
       "8             28.275     inf        1  0.009174    0.053002   \n",
       "$$\\Sigma$$         -       -      109  1.000000  109.000000   \n",
       "\n",
       "           $$(n_i-n^{'}_i)^2$$  $$\\frac{(n_i-n^{'}_i)^2}{n^{'}_i}$$  \\\n",
       "1                    20.569684                             1.640930   \n",
       "2                   143.630089                             6.240602   \n",
       "3                     33.28522                             1.047715   \n",
       "4                     0.124351                             0.004848   \n",
       "5                    16.856606                             1.392454   \n",
       "6                     2.764502                             0.828360   \n",
       "7                     0.287824                             0.536492   \n",
       "8                     0.896804                            16.920067   \n",
       "$$\\Sigma$$                   -                            28.611469   \n",
       "\n",
       "           $(n^{'}_i)^2$  $\\frac{n_i^2}{n^{'}_i}$  \n",
       "1             157.135786                 5.105549  \n",
       "2              529.70969                53.225179  \n",
       "3            1009.290612                21.278381  \n",
       "4             657.787389                26.357482  \n",
       "5             146.547483                 5.286775  \n",
       "6              11.137711                 7.491039  \n",
       "7               0.287824                 0.000000  \n",
       "8               0.002809                18.867065  \n",
       "$$\\Sigma$$             -               137.611469  "
      ]
     },
     "execution_count": 32,
     "metadata": {},
     "output_type": "execute_result"
    }
   ],
   "source": [
    "Phi = lambda x: scipy.special.erf(x/2**0.5)/2\n",
    "vodka_tab3 = pd.DataFrame({'$y_{i-1}$':[-math.inf]+[sum(vodka_inter['$y_i$'][i:i+1]) for i in range(1,k)],\n",
    "'$y_i$':[sum(vodka_inter['$y_{i+1}$'][i:i+1]) for i in range(k-1)]+[math.inf],\n",
    "'$$n_i$$':vodka_inter['$$n_i$$'],\n",
    "'$p_i$':vodka_inter['$p^*_i$'],\n",
    "\"$n^{'}_i$\":[n*(Phi((sum(vodka_inter['$y_{i+1}$'][0:1])-Xv_vodka)/math.sqrt(Dv_vodka))-Phi(-math.inf))]+[n*(Phi((sum(vodka_inter['$y_{i+1}$'][i:i+1])-Xv_vodka)/math.sqrt(Dv_vodka))-Phi((sum(vodka_inter['$y_i$'][i:i+1])-Xv_vodka)/math.sqrt(Dv_vodka))) for i in range(1,k-1)] +[n*(0.5-Phi((sum(vodka_inter['$y_i$'][k-1:k])-Xv_vodka)/math.sqrt(Dv_vodka)))]})\n",
    "vodka_tab3[\"$$(n_i-n^{'}_i)^2$$\"] = (vodka_tab3['$$n_i$$']-vodka_tab3[\"$n^{'}_i$\"])**2\n",
    "vodka_tab3[\"$$\\\\frac{(n_i-n^{'}_i)^2}{n^{'}_i}$$\"] = vodka_tab3[\"$$(n_i-n^{'}_i)^2$$\"]/vodka_tab3[\"$n^{'}_i$\"]\n",
    "vodka_tab3[\"$(n^{'}_i)^2$\"] =vodka_tab3[\"$n^{'}_i$\"]**2\n",
    "vodka_tab3[\"$\\\\frac{n_i^2}{n^{'}_i}$\"] = vodka_tab3['$$n_i$$']**2/vodka_tab3[\"$n^{'}_i$\"]\n",
    "vodka_sum2 = pd.Series(data={'$y_{i-1}$':'-',\n",
    "'$y_i$':'-',\n",
    "'$$n_i$$':sum(vodka_tab3['$$n_i$$']),\n",
    "'$p_i$':sum(vodka_tab3['$p_i$']),\n",
    "\"$n^{'}_i$\": sum(vodka_tab3[\"$n^{'}_i$\"]),          \n",
    "\"$$(n_i-n^{'}_i)^2$$\": '-',           \n",
    "\"$$\\\\frac{(n_i-n^{'}_i)^2}{n^{'}_i}$$\": sum(vodka_tab3[\"$$\\\\frac{(n_i-n^{'}_i)^2}{n^{'}_i}$$\"]),\n",
    "\"$(n^{'}_i)^2$\": '-',\n",
    "\"$\\\\frac{n_i^2}{n^{'}_i}$\": sum(vodka_tab3[\"$\\\\frac{n_i^2}{n^{'}_i}$\"])},name = '$$\\Sigma$$')\n",
    "vodka_tab3 = vodka_tab3.append(vodka_sum2,ignore_index=False)\n",
    "vodka_tab3"
   ]
  },
  {
   "cell_type": "markdown",
   "id": "12c091ee",
   "metadata": {},
   "source": [
    "$\\chi^2_{набл}=\\sum \\frac{(n_i-n^{'}_i)^2}{n^{'}_i} = \\sum \\frac{n_i^2}{n^{'}_i} - n = 28.611469$\n",
    "\n",
    "$\\chi^2_{крит}=12.6$ из таблицы при $df = n-r-1 = 6$, $\\alpha=0.05$ \n",
    "\n",
    "Так как $\\chi^2_{набл}>\\chi^2_{крит}$, то гипотезу $H_0$ отвергаем."
   ]
  },
  {
   "cell_type": "markdown",
   "id": "b774774b",
   "metadata": {},
   "source": [
    "## Выводы"
   ]
  },
  {
   "cell_type": "markdown",
   "id": "1c309440",
   "metadata": {},
   "source": [
    "В ходе выполнения практической работы были изучены методы формирования выборки из генеральной совокупности. \n",
    "\n",
    "На основе выборки изучены методы построения ранжированного, вариационного и интервального ряд. \n",
    "\n",
    "Построины полигон, гистограмма и эмпирическая функция для абсолютных и относительных погрешностей. \n",
    "\n",
    "Изучено как использовать условные варианты, чтобы находить условные эпмирические моменты и условные центральные моменты.\n",
    "\n",
    "Изучены два способа нахождения выборочного среднего и дисперсии. \n",
    "\n",
    "Найдены исправленное СКО, коэффициент асимметрии и эксцесса, мода, медиана и коэффициент вариации. \n",
    "\n",
    "Найдены доверительные интервалы для мат ожидании и среднеквадратичного отклонения. \n",
    "\n",
    "И в конце проверено удовлетворяют ли данные распределения гипотезе о нормальности распределения, с помощью критерия Пирсона."
   ]
  },
  {
   "cell_type": "code",
   "execution_count": null,
   "id": "a95ed4fa",
   "metadata": {},
   "outputs": [],
   "source": []
  }
 ],
 "metadata": {
  "kernelspec": {
   "display_name": "Python 3 (ipykernel)",
   "language": "python",
   "name": "python3"
  },
  "language_info": {
   "codemirror_mode": {
    "name": "ipython",
    "version": 3
   },
   "file_extension": ".py",
   "mimetype": "text/x-python",
   "name": "python",
   "nbconvert_exporter": "python",
   "pygments_lexer": "ipython3",
   "version": "3.9.12"
  }
 },
 "nbformat": 4,
 "nbformat_minor": 5
}
