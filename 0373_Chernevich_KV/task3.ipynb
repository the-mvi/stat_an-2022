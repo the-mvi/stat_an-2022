{
 "cells": [
  {
   "cell_type": "markdown",
   "id": "dddf5bcd",
   "metadata": {},
   "source": [
    "# Практическая работа №3: Кластерный анализ\n",
    "\n",
    "Выполнил студент гр. 0373 Черневич Константин. Вариант №21."
   ]
  },
  {
   "cell_type": "markdown",
   "id": "b488a5b9",
   "metadata": {},
   "source": [
    "## Цель работы\n",
    "\n",
    "Освоение основных понятий и некоторых методов кластерного анализа,\n",
    "в частности, метода k-means и метода поиска сгущений."
   ]
  },
  {
   "cell_type": "markdown",
   "id": "e7ee710a",
   "metadata": {},
   "source": [
    "## Основные теоретические положения\n",
    "\n",
    "\n",
    "*Кластерный анализ* - это задача разбиения заданной выборки объектов на подмножества, называемые кластерами, так, чтобы каждый кластер состоял из схожих объектов, а объекты разных кластеров существенно отличались\n",
    "\n",
    "*Основные задачи кластерного анализа*:\n",
    "\n",
    "* Разработка типологии или классификации\n",
    "* Исследование концептуальных схем группирования объектов\n",
    "* Порождение гипотез на основании исследования данных\n",
    "* Проверка исследования или гипотез, для определения действительно ли группы есть в иследующихся данных\n",
    "\n",
    "*Основные цели кластерного анализа*:\n",
    "\n",
    "* Получение информации о данных\n",
    "* Сжатие данных\n",
    "* Выделение идентичных объектов, которые определить ни к какому из имеющихся кластеров\n",
    "\n",
    "*Требования для кластерного анализа*:\n",
    "\n",
    "* Полнота\n",
    "* Однородность\n",
    "\n",
    "*Метрика* - неотрицательная вещественная функция $d(x,y)$, для которой справедливы следующие утверждения:\n",
    "\n",
    "1. $d(x,y) \\geq 0$\n",
    "2. $d(x,y) = d(y,x)$\n",
    "3. $d(x,y) \\leq d(x,z) + d(z,y)$\n",
    "\n",
    "Виды метрик: \n",
    "\n",
    "* Евклидово расстояние: $d(x,y) = \\sqrt{\\sum_{i=1}^{n}(x_i-y_i)^2}$\n",
    "* Квадрат евклидова расстояния: $d(x,y) = \\sum_{i=1}^{n}(x_i-y_i)^2$\n",
    "* Обобщенное степенное расстояние Минковского: $d(x,y) = (\\sum_{i=1}^{n}(x_i-y_i)^p)^{\\frac{1}{p}}$\n",
    "* Расстояние Чебышева: $d(x,y) = \\max_{i=[1,n]}(x_i-y_i)$\n",
    "* Манхэтонское расстояние: $d(x,y) = \\sum_{i=1}^{n}|(x_i-y_i)|$\n",
    "\n",
    "*Нормализация по методу мин-макс*: $X_{norm}=\\frac{X-X_{min}}{X_{max}-X_{min}}$\n",
    "\n",
    "Поиск *грубой* оценки верхнего колличества кластеров: $k = \\sqrt{\\frac{n}{2}}$\n",
    "\n",
    "Алгоритм метода *k-means*:\n",
    "\n",
    "1. Случайно выбираются k точек, являющиеся начальными центрами кластеров\n",
    "2. Относим каждый объект к кластеру с ближайщим центроидом\n",
    "3. Перестраиваем центроиды\n",
    "4. Если критерий остановки неудовлетворен, то возвращаемся к пункту 2\n",
    "\n",
    "Алгоритм метода *k-medians* - это версия k-means, где центр кластера определяется медианой а не средним. Метрикой берется Манхэтонское расстояние.\n",
    "\n",
    "*Метод силэтов*: \n",
    "\n",
    "* Вычисляется коэффициент силуэта с помощью внутрикластерного расстояния (a) и среднего расстояния до ближайшего кластера (b) по каждому кластеру: $S_i = \\frac{b_i-a_i}{\\max(a_i;b_i)}$, где $a_i = \\frac{1}{\\#C_j-1}\\sum_{x_j \\in C_i}d(x_j,x_{C_j})$; $b_i = \\min_{j \\ne i}\\frac{1}{\\#C_j}\\sum_{x_j \\in C_j}d(x_j,x_{C_i})$\n",
    "* Находится $S = \\frac{1}{k}\\sum_{i=1}^k S_i$\n",
    "* Строится график зависимости S от k и по пику определяется нужное k\n",
    "\n",
    "*Метод поиска исключений*: \n",
    "\n",
    "0. берется множество X и радиус R, $R_{min} \\leq R \\leq R_{max}$, где $R_{min} = \\min \\{d(x_i,x_j)>0\\}$; $R_{max} = \\max \\{d(x_i,x_j)\\}$\n",
    "1. $U := X$ - множество необработанных точек\n",
    "2. выбираем случайную $x_C \\in U$ - центр первого кластера\n",
    "3. Вокруг этой точки раздуваем гиперсферу с радиусом R; $K := {x \\in U|d(x,x_C) \\leq R}$\n",
    "4. Перемещаем центр: $\\overline{x_C} = \\frac{1}{\\# K}\\sum_{x \\in K}x$\n",
    "5. Делаем проверку: if $x_C \\ne \\overline{x_C}$: then $x_C := \\overline{x_C}$ and repeat пункт 3\n",
    "6. $U:= \\frac{U}{K}$ - исключаем из U все точки K\n",
    "7. $K:= K \\cup {x_C}$\n",
    "8. if $\\# U >0$: then repeat пункт 2 else end\n",
    "\n",
    "Проверка чувствительности метода: \n",
    "\n",
    "1. Строим алгоритм\n",
    "2. Берём $\\overline{R}:=R+\\epsilon$\n",
    "3. смотрим как изменится кластеризация"
   ]
  },
  {
   "cell_type": "markdown",
   "id": "9957ea14",
   "metadata": {},
   "source": [
    "## Постановка задачи\n",
    "\n",
    "Дано конечное множество из объектов, представленных двумя признаками (в качестве этого множества принимаем исходную двумерную выборку, сформированную ранее в практической работе №2). Выполнить разбиение исходного множества объектов на конечное число подмножеств\n",
    "(кластеров) с использованием метода k-means и метода поиска сгущений. Полученные результаты содержательно проинтерпретировать."
   ]
  },
  {
   "cell_type": "markdown",
   "id": "3f46fdae",
   "metadata": {},
   "source": [
    "## Выполнение работы"
   ]
  },
  {
   "cell_type": "markdown",
   "id": "21a7d3db",
   "metadata": {},
   "source": [
    "Были нормализированы множество точек из предыдущей практической работы "
   ]
  },
  {
   "cell_type": "code",
   "execution_count": 185,
   "id": "87ed7d70",
   "metadata": {},
   "outputs": [],
   "source": [
    "import numpy as np\n",
    "\n",
    "def normalize_points(points):\n",
    "    points = np.array(points)\n",
    "    mean = np.mean(points, axis=0)\n",
    "    std = np.std(points, axis=0)\n",
    "    return (points - mean) / std\n",
    "\n",
    "# points = [(1, 2), (3, 4), (5, 6)]\n",
    "# normalized_points = normalize_points(points)\n",
    "\n",
    "# print(normalized_points)\n",
    "\n"
   ]
  },
  {
   "cell_type": "code",
   "execution_count": 186,
   "id": "a2f670e9",
   "metadata": {},
   "outputs": [
    {
     "name": "stdout",
     "output_type": "stream",
     "text": [
      "[[-1.54697840e+00 -3.04458955e-01]\n",
      " [-1.91422868e+00  7.31652053e-01]\n",
      " [-9.05345721e-01  8.73863368e-01]\n",
      " [-1.30214488e+00 -3.24774857e-01]\n",
      " [-1.28103854e+00 -1.41931738e-01]\n",
      " [-2.20971741e+00 -1.54372898e+00]\n",
      " [-1.49632319e+00  2.23502881e+00]\n",
      " [-1.52587206e+00 -8.73304215e-01]\n",
      " [-1.11218783e+00 -5.07617976e-01]\n",
      " [-1.46582550e-02  8.53547466e-01]\n",
      " [-1.01931995e+00  8.53547466e-01]\n",
      " [-1.23882586e+00 -6.29513389e-01]\n",
      " [-1.16284305e+00  1.03639058e+00]\n",
      " [-7.11167411e-01  1.72713126e+00]\n",
      " [-1.25571093e+00 -1.82563542e-01]\n",
      " [-9.34894594e-01  5.28493032e-01]\n",
      " [-3.39695861e-01 -3.45090759e-01]\n",
      " [ 2.30175267e-01  6.50388445e-01]\n",
      " [-1.09108150e+00  2.31629242e+00]\n",
      " [ 5.71032944e-02  2.05954788e-02]\n",
      " [-6.01414453e-01 -1.03583143e+00]\n",
      " [-9.98213609e-01  1.22174989e-01]\n",
      " [-6.64733467e-01  1.82871077e+00]\n",
      " [-1.70845157e-01 -8.73304215e-01]\n",
      " [-5.97193185e-01  1.76776306e+00]\n",
      " [-4.62112622e-01  4.09113809e-02]\n",
      " [-1.10796657e+00  3.45649913e-01]\n",
      " [ 9.64675831e-01  2.25534471e+00]\n",
      " [ 6.55458297e-02  9.34811074e-01]\n",
      " [ 2.31548147e+00  4.00251229e+00]\n",
      " [-1.07419643e+00 -7.51408802e-01]\n",
      " [-5.50759242e-01 -4.46670270e-01]\n",
      " [-4.57891354e-01  1.05670649e+00]\n",
      " [-8.42026707e-01  1.42490891e-01]\n",
      " [ 2.97715548e-01  5.28493032e-01]\n",
      " [ 6.10089352e-01  1.82871077e+00]\n",
      " [-1.32853748e-01 -6.06681297e-02]\n",
      " [-7.82928960e-01 -7.31092900e-01]\n",
      " [ 1.96405126e-01 -1.07646324e+00]\n",
      " [-1.62402621e-01 -6.90461096e-01]\n",
      " [-6.09856988e-01 -2.63827151e-01]\n",
      " [ 7.74718789e-01 -8.73304215e-01]\n",
      " [-1.09530276e+00 -2.00363255e-02]\n",
      " [-3.60802199e-01  1.09733829e+00]\n",
      " [ 1.16729668e+00 -8.93620117e-01]\n",
      " [-5.21210368e-01 -2.43511249e-01]\n",
      " [-8.33584172e-01  3.65965815e-01]\n",
      " [ 5.50991605e-01  1.30049731e+00]\n",
      " [ 3.00354809e+00  8.53547466e-01]\n",
      " [-1.54697840e+00 -1.70625620e+00]\n",
      " [ 5.08778929e-01  1.13797010e+00]\n",
      " [ 4.41238647e-01  1.19891780e+00]\n",
      " [-1.96172762e-01 -8.73304215e-01]\n",
      " [-4.84283959e-02  1.36144502e+00]\n",
      " [ 2.11286062e+00 -8.12356508e-01]\n",
      " [ 1.57253837e+00  2.23754500e-01]\n",
      " [ 4.45459915e-01 -1.82563542e-01]\n",
      " [-1.62296122e+00 -1.68594030e+00]\n",
      " [ 2.70805935e+00  5.48808934e-01]\n",
      " [ 5.50991605e-01  5.08177130e-01]\n",
      " [ 5.59434140e-01 -9.74883725e-01]\n",
      " [ 1.34458992e+00  5.89440738e-01]\n",
      " [ 6.18531887e-01  1.83122696e-01]\n",
      " [-3.31253326e-01 -7.51408802e-01]\n",
      " [-6.39405862e-01  6.30072542e-01]\n",
      " [-1.70845157e-01 -4.06038466e-01]\n",
      " [-7.37560015e-02  8.53547466e-01]\n",
      " [ 8.67586676e-01  1.34112912e+00]\n",
      " [ 1.96405126e-01 -6.29513389e-01]\n",
      " [-1.32853748e-01 -1.36088587e+00]\n",
      " [ 1.75827414e+00  5.48808934e-01]\n",
      " [-1.91951495e-01  5.08177130e-01]\n",
      " [ 1.01110977e+00 -3.04458955e-01]\n",
      " [ 3.06158084e-01 -5.68565683e-01]\n",
      " [ 2.22681548e-03  2.44070402e-01]\n",
      " [ 4.79230056e-01  5.28493032e-01]\n",
      " [ 1.13394866e+00 -7.69693114e-01]\n",
      " [ 1.17467421e-01 -2.86174643e-01]\n",
      " [ 1.04952331e+00 -4.26354368e-01]\n",
      " [ 1.21688689e-01  5.31009222e-02]\n",
      " [ 5.21864859e-01  3.37523552e-01]\n",
      " [-6.36873101e-01  3.72060585e-01]\n",
      " [ 1.50077682e+00 -5.07617976e-01]\n",
      " [ 3.69477098e-01 -4.66986172e-01]\n",
      " [ 7.28284845e-01 -6.09197487e-01]\n",
      " [ 4.41238647e-01  3.25334011e-01]\n",
      " [ 1.77093794e+00  1.83122696e-01]\n",
      " [ 1.93134611e+00  3.86281717e-01]\n",
      " [ 5.63655408e-01 -1.62247640e-01]\n",
      " [-5.76086847e-01 -8.52988313e-01]\n",
      " [ 2.25953999e-01 -6.29513389e-01]\n",
      " [ 1.14196907e+00  8.33231564e-01]\n",
      " [ 1.08287132e+00 -1.09677914e+00]\n",
      " [-9.06410720e-02 -6.49829291e-01]\n",
      " [ 9.08734353e-02 -1.05614733e+00]\n",
      " [-6.39405862e-01 -6.90461096e-01]\n",
      " [ 5.71032944e-02 -6.90461096e-01]\n",
      " [ 1.35303245e+00 -4.06038466e-01]\n",
      " [-6.18299524e-01 -1.32025406e+00]\n",
      " [ 1.14196907e+00 -1.62247640e-01]\n",
      " [ 7.91603859e-01 -5.07617976e-01]\n",
      " [-2.89040650e-01 -1.07646324e+00]\n",
      " [ 1.27282837e+00 -1.52341308e+00]\n",
      " [-5.04325298e-01 -1.13741094e+00]\n",
      " [-5.08546566e-01 -1.88909932e+00]\n",
      " [ 1.75298788e-01  1.22174989e-01]\n",
      " [-2.59491776e-01 -1.09677914e+00]\n",
      " [-4.53670087e-01 -1.56404489e+00]\n",
      " [-6.81618538e-01 -6.70145193e-01]]\n",
      "109\n"
     ]
    }
   ],
   "source": [
    "beer=[17.5,8.8,32.7,23.3,23.8,1.8,18.7,18,27.8,\n",
    "53.8,30,24.8,26.6,37.3,24.4,32,46.1,59.6,28.3,\n",
    "55.5,39.9,30.5,38.4,50.1,40,43.2,27.9,77,55.7,\n",
    "109,28.7,41.1,43.3,34.2,61.2,68.6,51,35.6,58.8,\n",
    "50.3,39.7,72.5,28.2,45.6,81.8,41.8,34.4,67.2,\n",
    "125.3,17.5,66.2,64.6,49.5,53,104.2,91.4,64.7,\n",
    "15.7,118.3,67.2,67.4,86,68.8,46.3,39,50.1,52.4,\n",
    "74.7,58.8,51,95.8,49.6,78.1,61.4,54.2,65.5,81.01,\n",
    "56.93,79.01,57.03,66.51,39.06,89.7,62.9,71.4,64.6,\n",
    "96.1,99.9,67.5,40.5,59.5,81.2,79.8,52,56.3,39,\n",
    "55.5,86.2,39.5,81.2,72.9,47.3,84.3,42.2,42.1,\n",
    "58.3,48,43.4,38]\n",
    "\n",
    "vodka = [10.7,15.8,16.5,10.6,11.5,4.6,23.2,7.9,\n",
    "9.7,16.4,16.4,9.1,17.3,20.7,11.3,14.8,10.5,15.4,\n",
    "23.6,12.3,7.1,12.8,21.2,7.9,20.9,12.4,13.9,23.3,\n",
    "16.8,31.9,8.5,10,17.4,12.9,14.8,21.2,11.9,8.6,\n",
    "6.9,8.8,10.9,7.9,12.1,17.6,7.8,11,14,18.6,16.4,\n",
    "3.8,17.8,18.1,7.9,18.9,8.2,13.3,11.3,3.9,14.9,\n",
    "14.7,7.4,15.1,13.1,8.5,15.3,10.2,16.4,18.8,9.1,\n",
    "5.5,14.9,14.7,10.7,9.4,13.4,14.8,8.41,10.79,\n",
    "10.1,12.46,13.86,14.03,9.7,9.9,9.2,13.8,13.1,\n",
    "14.1,11.4,8,9.1,16.3,6.8,9,7,8.8,8.8,10.2,5.7,\n",
    "11.4,9.7,6.9,4.7,6.6,2.9,12.8,6.8,4.5,8.9]\n",
    "\n",
    "points = [(x, y) for x, y in zip(beer, vodka)]\n",
    "\n",
    "# Normalize the points\n",
    "normalized_points = normalize_points(points)\n",
    "\n",
    "\n",
    "print(normalized_points)\n",
    "print(len(normalized_points))"
   ]
  },
  {
   "cell_type": "code",
   "execution_count": 187,
   "id": "ccad0c8d",
   "metadata": {},
   "outputs": [
    {
     "data": {
      "image/png": "[encoded data removed]",
      "text/plain": [
       "<Figure size 432x288 with 1 Axes>"
      ]
     },
     "metadata": {
      "needs_background": "light"
     },
     "output_type": "display_data"
    }
   ],
   "source": [
    "import matplotlib.pyplot as plt\n",
    "\n",
    "# Normalize the points\n",
    "normalized_points = normalize_points(points)\n",
    "\n",
    "# Extract the x and y coordinates of the normalized points\n",
    "x = [point[0] for point in normalized_points]\n",
    "y = [point[1] for point in normalized_points]\n",
    "\n",
    "# Create a scatter plot\n",
    "plt.scatter(x, y)\n",
    "\n",
    "# Add labels to the axes\n",
    "plt.xlabel('Beer')\n",
    "plt.ylabel('Vodka')\n",
    "\n",
    "# Show the plot\n",
    "plt.show()"
   ]
  },
  {
   "cell_type": "markdown",
   "id": "84ed15ff",
   "metadata": {},
   "source": [
    "Была определена \"грубая\" верхняя оценка колличества кластеров  "
   ]
  },
  {
   "cell_type": "code",
   "execution_count": 188,
   "id": "38748052",
   "metadata": {},
   "outputs": [],
   "source": [
    "import math\n",
    "k = math.floor(math.sqrt(109/2))\n",
    "#print(k)"
   ]
  },
  {
   "cell_type": "markdown",
   "id": "b2f685ad",
   "metadata": {},
   "source": [
    "Верхняя оценка:  $\\overline{k} = 7$"
   ]
  },
  {
   "cell_type": "markdown",
   "id": "ede7c990",
   "metadata": {},
   "source": [
    "Был реализован алгоритм k-means. Отображены полученные кластеры, каждый кластер выделен разным цветом, центроиды отмечены звездочкой.\n"
   ]
  },
  {
   "cell_type": "code",
   "execution_count": 189,
   "id": "102a40f6",
   "metadata": {},
   "outputs": [],
   "source": [
    "# Define the k-means function\n",
    "# Import the necessary modules\n",
    "import numpy as np\n",
    "normalized_points = normalize_points(points)\n",
    "# Define the number of clusters (k) and initialize the centroids randomly\n",
    "#k = 3\n",
    "centroids = np.random.rand(k, 2)\n",
    "\n",
    "# Define a function to calculate the distance between a data point and a centroid\n",
    "def distance(point, centroid):\n",
    "    return np.sqrt(np.sum((point - centroid)**2))\n",
    "\n",
    "# Define a function to assign each data point to the closest centroid\n",
    "def assign_clusters(data, centroids):\n",
    "    clusters = []\n",
    "    for point in data:\n",
    "        distances = [distance(point, centroid) for centroid in centroids]\n",
    "        cluster = np.argmin(distances)\n",
    "        clusters.append(cluster)\n",
    "    return clusters\n",
    "\n",
    "# Define a function to update the centroids based on the data points assigned to them\n",
    "def update_centroids(data, clusters, centroids):\n",
    "    for i in range(len(centroids)):\n",
    "        points = [data[j] for j in range(len(data)) if clusters[j] == i]\n",
    "        centroids[i] = np.mean(points, axis=0)\n",
    "    return centroids\n",
    "\n",
    "# Define a function to run the k-means algorithm\n",
    "def k_means(data, k):\n",
    "    centroids = np.random.rand(k, 2)\n",
    "    clusters = None\n",
    "    while not np.array_equal(clusters, assign_clusters(data, centroids)):\n",
    "        clusters = assign_clusters(data, centroids)\n",
    "        centroids = update_centroids(data, clusters, centroids)\n",
    "    return centroids, clusters\n"
   ]
  },
  {
   "cell_type": "code",
   "execution_count": 126,
   "id": "e55bf0d6",
   "metadata": {},
   "outputs": [],
   "source": [
    "#centroids, clusters = k_means(normalized_points, k)"
   ]
  },
  {
   "cell_type": "code",
   "execution_count": 191,
   "id": "4b591b0a",
   "metadata": {},
   "outputs": [
    {
     "data": {
      "image/png": "[encoded data removed]",
      "text/plain": [
       "<Figure size 432x288 with 1 Axes>"
      ]
     },
     "metadata": {
      "needs_background": "light"
     },
     "output_type": "display_data"
    },
    {
     "data": {
      "image/png": "[encoded data removed]",
      "text/plain": [
       "<Figure size 432x288 with 1 Axes>"
      ]
     },
     "metadata": {
      "needs_background": "light"
     },
     "output_type": "display_data"
    },
    {
     "data": {
      "image/png": "[encoded data removed]",
      "text/plain": [
       "<Figure size 432x288 with 1 Axes>"
      ]
     },
     "metadata": {
      "needs_background": "light"
     },
     "output_type": "display_data"
    },
    {
     "data": {
      "image/png": "[encoded data removed]",
      "text/plain": [
       "<Figure size 432x288 with 1 Axes>"
      ]
     },
     "metadata": {
      "needs_background": "light"
     },
     "output_type": "display_data"
    },
    {
     "data": {
      "image/png": "[encoded data removed]",
      "text/plain": [
       "<Figure size 432x288 with 1 Axes>"
      ]
     },
     "metadata": {
      "needs_background": "light"
     },
     "output_type": "display_data"
    },
    {
     "data": {
      "image/png": "[encoded data removed]",
      "text/plain": [
       "<Figure size 432x288 with 1 Axes>"
      ]
     },
     "metadata": {
      "needs_background": "light"
     },
     "output_type": "display_data"
    },
    {
     "data": {
      "image/png": "[encoded data removed]",
      "text/plain": [
       "<Figure size 432x288 with 1 Axes>"
      ]
     },
     "metadata": {
      "needs_background": "light"
     },
     "output_type": "display_data"
    }
   ],
   "source": [
    "for num in range(1,k+1):  \n",
    "    centroids, clusters = k_means(normalized_points, num)\n",
    "    colors = ['b', 'g', 'r', 'c', 'm','y','k','w']\n",
    "    # Extract the centroids\n",
    "    #entroids = [np.mean(cluster, axis=0) for cluster in clusters]\n",
    "\n",
    "    # Extract the x and y coordinates of the points in each cluster\n",
    "    #x = [[point[0] for point in normalized_points] for cluster in clusters]\n",
    "    #y = [[point[1] for point in normalized_points] for cluster in clusters]\n",
    "    # Create a scatter plot for each cluster\n",
    "    for i in range(len(clusters)):\n",
    "        plt.scatter(normalized_points[i][0], normalized_points[i][1],c=colors[clusters[i]],s=10, label=f'Cluster {clusters[i]}')\n",
    "\n",
    "    # Plot the centroids as asterisks\n",
    "    [plt.scatter(centroids[i][0], centroids[i][1], marker='*', c=colors[i], s=300) for i in range(len(centroids))]\n",
    "\n",
    "    # Add labels to the axes\n",
    "    plt.xlabel('Beer')\n",
    "    plt.ylabel('Vodka')\n",
    "\n",
    "    # Add a legend\n",
    "    #plt.legend()\n",
    "\n",
    "    # Show the plot\n",
    "    plt.show()"
   ]
  },
  {
   "cell_type": "markdown",
   "id": "75a49ecd",
   "metadata": {},
   "source": [
    "Для метода k-means была построена таблица с центроидами и мощностями кластеров для всех k от 1 до $\\overline{k}$"
   ]
  },
  {
   "cell_type": "code",
   "execution_count": 129,
   "id": "d69d1de2",
   "metadata": {},
   "outputs": [
    {
     "name": "stdout",
     "output_type": "stream",
     "text": [
      "j =  1\n",
      "j =  2\n",
      "j =  3\n",
      "j =  4\n",
      "j =  5\n",
      "j =  6\n",
      "j =  7\n"
     ]
    }
   ],
   "source": [
    "k_tab = []\n",
    "for j in range(1,k+1):\n",
    "    centroids, clusters = k_means(normalized_points, j)\n",
    "\n",
    "    # Extract the x and y coordinates of the points in each cluster\n",
    "    k_means_values = []\n",
    "    # Create a scatter plot for each cluster\n",
    "    #print('j = ',j)\n",
    "    for i in range(1,k+1):\n",
    "        k_means_values.append(len([1 for j in clusters if j==(i-1)]))\n",
    "    #print()\n",
    "    k_tab.append([j,centroids,k_means_values])\n",
    "#print(k_tab)"
   ]
  },
  {
   "cell_type": "code",
   "execution_count": 130,
   "id": "2748958a",
   "metadata": {},
   "outputs": [
    {
     "data": {
      "text/html": [
       "<div>\n",
       "<style scoped>\n",
       "    .dataframe tbody tr th:only-of-type {\n",
       "        vertical-align: middle;\n",
       "    }\n",
       "\n",
       "    .dataframe tbody tr th {\n",
       "        vertical-align: top;\n",
       "    }\n",
       "\n",
       "    .dataframe thead th {\n",
       "        text-align: right;\n",
       "    }\n",
       "</style>\n",
       "<table border=\"1\" class=\"dataframe\">\n",
       "  <thead>\n",
       "    <tr style=\"text-align: right;\">\n",
       "      <th></th>\n",
       "      <th>Значение k</th>\n",
       "      <th>Центроиды кластера $x_{C_i}$</th>\n",
       "      <th>Объём кластера #$C_i$</th>\n",
       "    </tr>\n",
       "  </thead>\n",
       "  <tbody>\n",
       "    <tr>\n",
       "      <th></th>\n",
       "      <td>1</td>\n",
       "      <td>[[0.0, 0.0]]</td>\n",
       "      <td>[109, 0, 0, 0, 0, 0, 0]</td>\n",
       "    </tr>\n",
       "    <tr>\n",
       "      <th></th>\n",
       "      <td>2</td>\n",
       "      <td>[[-0.61, -0.19], [1.01, 0.32]]</td>\n",
       "      <td>[68, 41, 0, 0, 0, 0, 0]</td>\n",
       "    </tr>\n",
       "    <tr>\n",
       "      <th></th>\n",
       "      <td>3</td>\n",
       "      <td>[[-1.0, 0.2], [0.27, -0.69], [0.94, 0.93]]</td>\n",
       "      <td>[37, 46, 26, 0, 0, 0, 0]</td>\n",
       "    </tr>\n",
       "    <tr>\n",
       "      <th></th>\n",
       "      <td>4</td>\n",
       "      <td>[[-0.61, -0.71], [1.05, -0.13], [0.89, 1.87], ...</td>\n",
       "      <td>[45, 34, 7, 23, 0, 0, 0]</td>\n",
       "    </tr>\n",
       "    <tr>\n",
       "      <th></th>\n",
       "      <td>5</td>\n",
       "      <td>[[-0.63, -0.72], [-0.91, 1.11], [0.4, 0.77], [...</td>\n",
       "      <td>[44, 16, 24, 22, 3, 0, 0]</td>\n",
       "    </tr>\n",
       "    <tr>\n",
       "      <th></th>\n",
       "      <td>6</td>\n",
       "      <td>[[-1.01, 0.31], [-0.64, -0.95], [0.41, -0.19],...</td>\n",
       "      <td>[18, 30, 28, 15, 2, 16, 0]</td>\n",
       "    </tr>\n",
       "    <tr>\n",
       "      <th></th>\n",
       "      <td>7</td>\n",
       "      <td>[[-0.16, -0.89], [-1.09, -0.54], [1.3, 2.7], [...</td>\n",
       "      <td>[24, 21, 3, 14, 23, 7, 17]</td>\n",
       "    </tr>\n",
       "  </tbody>\n",
       "</table>\n",
       "</div>"
      ],
      "text/plain": [
       "  Значение k                       Центроиды кластера $x_{C_i}$  \\\n",
       "           1                                       [[0.0, 0.0]]   \n",
       "           2                     [[-0.61, -0.19], [1.01, 0.32]]   \n",
       "           3         [[-1.0, 0.2], [0.27, -0.69], [0.94, 0.93]]   \n",
       "           4  [[-0.61, -0.71], [1.05, -0.13], [0.89, 1.87], ...   \n",
       "           5  [[-0.63, -0.72], [-0.91, 1.11], [0.4, 0.77], [...   \n",
       "           6  [[-1.01, 0.31], [-0.64, -0.95], [0.41, -0.19],...   \n",
       "           7  [[-0.16, -0.89], [-1.09, -0.54], [1.3, 2.7], [...   \n",
       "\n",
       "       Объём кластера #$C_i$  \n",
       "     [109, 0, 0, 0, 0, 0, 0]  \n",
       "     [68, 41, 0, 0, 0, 0, 0]  \n",
       "    [37, 46, 26, 0, 0, 0, 0]  \n",
       "    [45, 34, 7, 23, 0, 0, 0]  \n",
       "   [44, 16, 24, 22, 3, 0, 0]  \n",
       "  [18, 30, 28, 15, 2, 16, 0]  \n",
       "  [24, 21, 3, 14, 23, 7, 17]  "
      ]
     },
     "execution_count": 130,
     "metadata": {},
     "output_type": "execute_result"
    }
   ],
   "source": [
    "import pandas as pd\n",
    "k_means_table = pd.DataFrame({'Значение k':[k_tab[i][0] for i in range(len(k_tab))],\n",
    "                             'Центроиды кластера $x_{C_i}$':[str([[round(k_tab[i][1][j][0],2),round(k_tab[i][1][j][1],2)] for j in range(len(k_tab[i][1]))]) for i in range(len(k_tab))],\n",
    "                             'Объём кластера #$C_i$':[k_tab[i][2] for i in range(len(k_tab))]},index=[''*i for i in range(len(k_tab))])\n",
    "k_means_table"
   ]
  },
  {
   "cell_type": "markdown",
   "id": "632cca32",
   "metadata": {},
   "source": [
    "Был реализован алгоритм k-medians. Отображены полученные кластеры, каждый кластер выделен разным цветом, центроиды отмечены звездочкой."
   ]
  },
  {
   "cell_type": "code",
   "execution_count": 192,
   "id": "9d37dd6f",
   "metadata": {},
   "outputs": [],
   "source": [
    "import math\n",
    "k = math.floor(math.sqrt(109/2))\n",
    "#print(k)"
   ]
  },
  {
   "cell_type": "code",
   "execution_count": 193,
   "id": "f593e943",
   "metadata": {},
   "outputs": [],
   "source": [
    "# Define the k-means function\n",
    "# Import the necessary modules\n",
    "import numpy as np\n",
    "normalized_points = normalize_points(points)\n",
    "# Define the number of clusters (k) and initialize the centroids randomly\n",
    "#k = 3\n",
    "centroids = np.random.rand(k, 2)\n",
    "\n",
    "# Define a function to calculate the distance between a data point and a centroid\n",
    "def distance(point, centroid):\n",
    "    return np.sqrt(np.sum((point - centroid)**2))\n",
    "\n",
    "# Define a function to assign each data point to the closest centroid\n",
    "def assign_clusters(data, centroids):\n",
    "    clusters = []\n",
    "    for point in data:\n",
    "        distances = [distance(point, centroid) for centroid in centroids]\n",
    "        cluster = np.argmin(distances)\n",
    "        clusters.append(cluster)\n",
    "    return clusters\n",
    "\n",
    "# Define a function to update the centroids based on the data points assigned to them\n",
    "def update_centroids(data, clusters, centroids):\n",
    "    for i in range(len(centroids)):\n",
    "        points = [data[j] for j in range(len(data)) if clusters[j] == i]\n",
    "        centroids[i] = np.median(points, axis=0)\n",
    "    return centroids\n",
    "\n",
    "# Define a function to run the k-means algorithm\n",
    "def k_medians(data, k):\n",
    "    centroids = np.random.rand(k, 2)\n",
    "    clusters = None\n",
    "    while not np.array_equal(clusters, assign_clusters(data, centroids)):\n",
    "        clusters = assign_clusters(data, centroids)\n",
    "        centroids = update_centroids(data, clusters, centroids)\n",
    "    return centroids, clusters\n"
   ]
  },
  {
   "cell_type": "code",
   "execution_count": 134,
   "id": "d60d6f61",
   "metadata": {},
   "outputs": [],
   "source": [
    "centroids, clusters = k_medians(normalized_points, k)"
   ]
  },
  {
   "cell_type": "code",
   "execution_count": 197,
   "id": "928ecb5b",
   "metadata": {
    "scrolled": true
   },
   "outputs": [
    {
     "data": {
      "image/png": "[encoded data removed]",
      "text/plain": [
       "<Figure size 432x288 with 1 Axes>"
      ]
     },
     "metadata": {
      "needs_background": "light"
     },
     "output_type": "display_data"
    },
    {
     "data": {
      "image/png": "[encoded data removed]",
      "text/plain": [
       "<Figure size 432x288 with 1 Axes>"
      ]
     },
     "metadata": {
      "needs_background": "light"
     },
     "output_type": "display_data"
    },
    {
     "data": {
      "image/png": "[encoded data removed]",
      "text/plain": [
       "<Figure size 432x288 with 1 Axes>"
      ]
     },
     "metadata": {
      "needs_background": "light"
     },
     "output_type": "display_data"
    },
    {
     "data": {
      "image/png": "[encoded data removed]",
      "text/plain": [
       "<Figure size 432x288 with 1 Axes>"
      ]
     },
     "metadata": {
      "needs_background": "light"
     },
     "output_type": "display_data"
    },
    {
     "data": {
      "image/png": "[encoded data removed]",
      "text/plain": [
       "<Figure size 432x288 with 1 Axes>"
      ]
     },
     "metadata": {
      "needs_background": "light"
     },
     "output_type": "display_data"
    },
    {
     "data": {
      "image/png": "[encoded data removed]",
      "text/plain": [
       "<Figure size 432x288 with 1 Axes>"
      ]
     },
     "metadata": {
      "needs_background": "light"
     },
     "output_type": "display_data"
    },
    {
     "data": {
      "image/png": "[encoded data removed]",
      "text/plain": [
       "<Figure size 432x288 with 1 Axes>"
      ]
     },
     "metadata": {
      "needs_background": "light"
     },
     "output_type": "display_data"
    }
   ],
   "source": [
    "for num in range(1,k+1):\n",
    "    centroids, clusters = k_medians(normalized_points, num)\n",
    "    colors = ['b', 'g', 'r', 'c', 'm','y','k','w']\n",
    "    # Extract the centroids\n",
    "    #entroids = [np.mean(cluster, axis=0) for cluster in clusters]\n",
    "\n",
    "    # Extract the x and y coordinates of the points in each cluster\n",
    "    #x = [[point[0] for point in normalized_points] for cluster in clusters]\n",
    "    #y = [[point[1] for point in normalized_points] for cluster in clusters]\n",
    "    # Create a scatter plot for each cluster\n",
    "    for i in range(len(clusters)):\n",
    "        plt.scatter(normalized_points[i][0], normalized_points[i][1],c=colors[clusters[i]],s=10, label=f'Cluster {clusters[i]}')\n",
    "\n",
    "    # Plot the centroids as asterisks\n",
    "    [plt.scatter(centroids[i][0], centroids[i][1], marker='*', c=colors[i], s=300) for i in range(len(centroids))]\n",
    "\n",
    "    # Add labels to the axes\n",
    "    plt.xlabel('Beer')\n",
    "    plt.ylabel('Vodka')\n",
    "\n",
    "    # Add a legend\n",
    "    #plt.legend()\n",
    "\n",
    "    # Show the plot\n",
    "    plt.show()"
   ]
  },
  {
   "cell_type": "markdown",
   "id": "b001a770",
   "metadata": {},
   "source": [
    "Для метода k-medians была построена таблица с центроидами и мощностями кластеров для всех k от 1 до $\\overline{k}$"
   ]
  },
  {
   "cell_type": "code",
   "execution_count": 136,
   "id": "68351d4f",
   "metadata": {},
   "outputs": [],
   "source": [
    "k_tab = []\n",
    "for j in range(1,k+1):\n",
    "    centroids, clusters = k_medians(normalized_points, j)\n",
    "\n",
    "    # Extract the x and y coordinates of the points in each cluster\n",
    "    k_medians_values = []\n",
    "    # Create a scatter plot for each cluster\n",
    "    #print('j = ',j)\n",
    "    for i in range(1,k+1):\n",
    "        k_medians_values.append(len([1 for j in clusters if j==(i-1)]))\n",
    "    #print()\n",
    "    k_tab.append([j,centroids,k_medians_values])\n",
    "#print(k_tab)"
   ]
  },
  {
   "cell_type": "code",
   "execution_count": 137,
   "id": "9cbb1026",
   "metadata": {
    "scrolled": true
   },
   "outputs": [
    {
     "data": {
      "text/html": [
       "<div>\n",
       "<style scoped>\n",
       "    .dataframe tbody tr th:only-of-type {\n",
       "        vertical-align: middle;\n",
       "    }\n",
       "\n",
       "    .dataframe tbody tr th {\n",
       "        vertical-align: top;\n",
       "    }\n",
       "\n",
       "    .dataframe thead th {\n",
       "        text-align: right;\n",
       "    }\n",
       "</style>\n",
       "<table border=\"1\" class=\"dataframe\">\n",
       "  <thead>\n",
       "    <tr style=\"text-align: right;\">\n",
       "      <th></th>\n",
       "      <th>Значение k</th>\n",
       "      <th>Центроиды кластера $x_{C_i}$</th>\n",
       "      <th>Объём кластера #$C_i$</th>\n",
       "    </tr>\n",
       "  </thead>\n",
       "  <tbody>\n",
       "    <tr>\n",
       "      <th></th>\n",
       "      <td>1</td>\n",
       "      <td>[[-0.09, -0.16]]</td>\n",
       "      <td>[109, 0, 0, 0, 0, 0, 0]</td>\n",
       "    </tr>\n",
       "    <tr>\n",
       "      <th></th>\n",
       "      <td>2</td>\n",
       "      <td>[[0.12, -0.63], [-0.53, 0.84]]</td>\n",
       "      <td>[67, 42, 0, 0, 0, 0, 0]</td>\n",
       "    </tr>\n",
       "    <tr>\n",
       "      <th></th>\n",
       "      <td>3</td>\n",
       "      <td>[[-0.01, 0.85], [1.14, -0.42], [-0.55, -0.69]]</td>\n",
       "      <td>[38, 26, 45, 0, 0, 0, 0]</td>\n",
       "    </tr>\n",
       "    <tr>\n",
       "      <th></th>\n",
       "      <td>4</td>\n",
       "      <td>[[-0.46, -0.73], [-0.97, 0.68], [1.14, -0.43],...</td>\n",
       "      <td>[39, 22, 23, 25, 0, 0, 0]</td>\n",
       "    </tr>\n",
       "    <tr>\n",
       "      <th></th>\n",
       "      <td>5</td>\n",
       "      <td>[[1.85, 0.55], [0.03, 1.17], [-1.06, 0.08], [-...</td>\n",
       "      <td>[10, 22, 22, 27, 28, 0, 0]</td>\n",
       "    </tr>\n",
       "    <tr>\n",
       "      <th></th>\n",
       "      <td>6</td>\n",
       "      <td>[[0.52, -0.16], [-0.71, 0.85], [-0.17, -0.97],...</td>\n",
       "      <td>[25, 19, 23, 10, 21, 11, 0]</td>\n",
       "    </tr>\n",
       "    <tr>\n",
       "      <th></th>\n",
       "      <td>7</td>\n",
       "      <td>[[1.11, -0.69], [0.44, 1.77], [1.76, 0.55], [-...</td>\n",
       "      <td>[14, 13, 8, 23, 11, 27, 13]</td>\n",
       "    </tr>\n",
       "  </tbody>\n",
       "</table>\n",
       "</div>"
      ],
      "text/plain": [
       "  Значение k                       Центроиды кластера $x_{C_i}$  \\\n",
       "           1                                   [[-0.09, -0.16]]   \n",
       "           2                     [[0.12, -0.63], [-0.53, 0.84]]   \n",
       "           3     [[-0.01, 0.85], [1.14, -0.42], [-0.55, -0.69]]   \n",
       "           4  [[-0.46, -0.73], [-0.97, 0.68], [1.14, -0.43],...   \n",
       "           5  [[1.85, 0.55], [0.03, 1.17], [-1.06, 0.08], [-...   \n",
       "           6  [[0.52, -0.16], [-0.71, 0.85], [-0.17, -0.97],...   \n",
       "           7  [[1.11, -0.69], [0.44, 1.77], [1.76, 0.55], [-...   \n",
       "\n",
       "        Объём кластера #$C_i$  \n",
       "      [109, 0, 0, 0, 0, 0, 0]  \n",
       "      [67, 42, 0, 0, 0, 0, 0]  \n",
       "     [38, 26, 45, 0, 0, 0, 0]  \n",
       "    [39, 22, 23, 25, 0, 0, 0]  \n",
       "   [10, 22, 22, 27, 28, 0, 0]  \n",
       "  [25, 19, 23, 10, 21, 11, 0]  \n",
       "  [14, 13, 8, 23, 11, 27, 13]  "
      ]
     },
     "execution_count": 137,
     "metadata": {},
     "output_type": "execute_result"
    }
   ],
   "source": [
    "import pandas as pd\n",
    "k_medians_table = pd.DataFrame({'Значение k':[k_tab[i][0] for i in range(len(k_tab))],\n",
    "                             'Центроиды кластера $x_{C_i}$':[str([[round(k_tab[i][1][j][0],2),round(k_tab[i][1][j][1],2)] for j in range(len(k_tab[i][1]))]) for i in range(len(k_tab))],\n",
    "                             'Объём кластера #$C_i$':[k_tab[i][2] for i in range(len(k_tab))]},index=[''*i for i in range(len(k_tab))])\n",
    "k_medians_table"
   ]
  },
  {
   "cell_type": "markdown",
   "id": "95d4c55c",
   "metadata": {},
   "source": [
    "С помощью метода силуэтов были выявлены для каждого метода оптимальное количество кластеров."
   ]
  },
  {
   "cell_type": "code",
   "execution_count": 138,
   "id": "a00f02fd",
   "metadata": {},
   "outputs": [],
   "source": [
    "def silhouette_score(X, labels):\n",
    "    n_samples, n_features = X.shape\n",
    "    unique_labels = np.unique(labels)\n",
    "    n_clusters = len(unique_labels)\n",
    "    \n",
    "    if n_clusters <= 1:\n",
    "        return 0\n",
    "    \n",
    "    # Compute the mean distance between each sample and all other points in the same cluster\n",
    "    intra_cluster_distances = np.zeros(n_samples)\n",
    "    for cluster in unique_labels:\n",
    "        cluster_mask = labels == cluster\n",
    "        cluster_samples = X[cluster_mask]\n",
    "        intra_cluster_distances[cluster_mask] = np.mean([np.linalg.norm(x - cluster_samples, axis=1) for x in cluster_samples])\n",
    "    \n",
    "    # Compute the mean distance between each sample and all other points in the nearest cluster\n",
    "    nearest_cluster_distances = np.zeros(n_samples)\n",
    "    for i, sample in enumerate(X):\n",
    "        distances_to_other_clusters = [np.mean([np.linalg.norm(x - sample) for x in X[labels == l]]) for l in unique_labels if l != labels[i]]\n",
    "        nearest_cluster_distances[i] = min(distances_to_other_clusters)\n",
    "    \n",
    "    # Compute the Silhouette Coefficient for each sample\n",
    "    silhouette_coefficients = (nearest_cluster_distances - intra_cluster_distances) / np.maximum(intra_cluster_distances, nearest_cluster_distances)\n",
    "    \n",
    "    # Return the mean Silhouette Coefficient\n",
    "    return np.mean(silhouette_coefficients)\n",
    "def avg_distance(data, cluster, point):\n",
    "    points = [data[i] for i in range(len(data)) if cluster[i] == cluster[point]]\n",
    "    distances = [distance(data[point], data[i]) for i in range(len(points)) if i != point]\n",
    "    return np.mean(distances)\n",
    "\n"
   ]
  },
  {
   "cell_type": "code",
   "execution_count": 153,
   "id": "4e543a9c",
   "metadata": {},
   "outputs": [
    {
     "data": {
      "image/png": "[encoded data removed]",
      "text/plain": [
       "<Figure size 432x288 with 1 Axes>"
      ]
     },
     "metadata": {
      "needs_background": "light"
     },
     "output_type": "display_data"
    },
    {
     "name": "stdout",
     "output_type": "stream",
     "text": [
      "Наиболее оптимальное колличество кластеров = 3\n"
     ]
    }
   ],
   "source": [
    "X = normalized_points # your data\n",
    "sil = []\n",
    "# Apply the k-means algorithm to the data\n",
    "for i in range(1,k+1):\n",
    "    centroids, clusters = k_means(X, i)\n",
    "\n",
    "    # Compute the Silhouette Coefficients for each sample\n",
    "    silhouette_coefficients = silhouette_score(X, clusters)\n",
    "    plt.scatter(i,silhouette_coefficients)\n",
    "    # Print the Silhouette Coefficients\n",
    "    #print(silhouette_coefficients)\n",
    "    sil.append(silhouette_coefficients)\n",
    "plt.xlabel('k')\n",
    "plt.ylabel('Коэффициент Силуэта')\n",
    "\n",
    "# Add a legend\n",
    "#plt.legend()\n",
    "\n",
    "# Show the plot\n",
    "plt.show()\n",
    "sil2 = []\n",
    "[sil2.append(i+1) for i in range(1,len(sil)-1) if sil[i]>sil[i-1] and sil[i]>sil[i+1]]\n",
    "print('Наиболее оптимальное колличество кластеров =', min(sil2))"
   ]
  },
  {
   "cell_type": "code",
   "execution_count": 156,
   "id": "995c8add",
   "metadata": {},
   "outputs": [
    {
     "data": {
      "image/png": "[encoded data removed]",
      "text/plain": [
       "<Figure size 432x288 with 1 Axes>"
      ]
     },
     "metadata": {
      "needs_background": "light"
     },
     "output_type": "display_data"
    },
    {
     "name": "stdout",
     "output_type": "stream",
     "text": [
      "Наиболее оптимальное колличество кластеров = 4\n"
     ]
    }
   ],
   "source": [
    "X = normalized_points # your data\n",
    "sil = []\n",
    "# Apply the k-means algorithm to the data\n",
    "for i in range(1,k+1):\n",
    "    centroids, clusters = k_medians(X, i)\n",
    "\n",
    "    # Compute the Silhouette Coefficients for each sample\n",
    "    silhouette_coefficients = silhouette_score(X, clusters)\n",
    "    plt.scatter(i,silhouette_coefficients)\n",
    "    # Print the Silhouette Coefficients\n",
    "    #print(silhouette_coefficients)\n",
    "    sil.append(silhouette_coefficients)\n",
    "plt.xlabel('k')\n",
    "plt.ylabel('Коэффициент Силуэта')\n",
    "\n",
    "# Add a legend\n",
    "#plt.legend()\n",
    "\n",
    "# Show the plot\n",
    "plt.show()\n",
    "sil2 = []\n",
    "[sil2.append(i+1) for i in range(1,len(sil)-1) if sil[i]>sil[i-1] and sil[i]>sil[i+1]]\n",
    "print('Наиболее оптимальное колличество кластеров =', min(sil2))"
   ]
  },
  {
   "cell_type": "markdown",
   "id": "2d64aec3",
   "metadata": {},
   "source": [
    "Был реализован алгоритм поиска сгущений при различных радиусах 𝑅, отображены полученные кластеры, выделен каждый кластер\n",
    "разным цветом или маркером, отмечены центроиды. \n",
    "Результаты представлены в виде таблицы:\n"
   ]
  },
  {
   "cell_type": "code",
   "execution_count": 180,
   "id": "df6e940e",
   "metadata": {},
   "outputs": [],
   "source": [
    "import numpy as np\n",
    "centroids1, clusters1 = k_medians(normalized_points,4)\n",
    "#print(clusters1)\n",
    "centroids1 = []\n",
    "schet = 0\n",
    "while len(centroids1)!=4:\n",
    "    for i in range(len(clusters1)):\n",
    "        if clusters1[i]==schet:\n",
    "            centroids1.append(normalized_points[i])\n",
    "            break\n",
    "    schet+=1\n",
    "#print(centroids1)\n",
    "def cluster_thickening(data,centers, k, t):\n",
    "    # Initialize the cluster centers as random points from the data\n",
    "    cluster_centers = centers.copy()\n",
    "    #print('Centers is:',cluster_centers)\n",
    "    # Initialize a dictionary to store the points in each cluster\n",
    "    clusters = {i: [] for i in range(k)}\n",
    "\n",
    "    # Iterate until convergence\n",
    "    while True:\n",
    "    # Assign each point to the closest cluster center\n",
    "        for point in data:\n",
    "            distances = [np.linalg.norm(point - center) for center in cluster_centers]\n",
    "            closest_cluster = np.argmin(distances)\n",
    "            clusters[closest_cluster].append(point)\n",
    "\n",
    "    # Store the old cluster centers\n",
    "        old_cluster_centers = cluster_centers\n",
    "\n",
    "    # Update the cluster centers by taking the average of the points in each cluster\n",
    "        for i in range(k):\n",
    "            cluster_centers[i] = np.mean(clusters[i], axis=0)\n",
    "\n",
    "    # Check for convergence\n",
    "        if np.allclose(old_cluster_centers, cluster_centers, atol=t):\n",
    "            break\n",
    "\n",
    "  # Return the clusters and cluster centers\n",
    "    return clusters, cluster_centers\n",
    "\n",
    "# Example usage\n",
    "data = np.array(normalized_points)"
   ]
  },
  {
   "cell_type": "code",
   "execution_count": 181,
   "id": "0c60eec6",
   "metadata": {},
   "outputs": [],
   "source": [
    "Rmin = min([((normalized_points[i][0]-normalized_points[j][0])**2+(normalized_points[i][1]-normalized_points[j][1])**2)**0.5 for i in range(len(normalized_points)) for j in range(len(normalized_points)) if i!=j])\n",
    "#print(Rmin)\n",
    "Rmax = max([((normalized_points[i][0]-normalized_points[j][0])**2+(normalized_points[i][1]-normalized_points[j][1])**2)**0.5 for i in range(len(normalized_points)) for j in range(len(normalized_points)) if i!=j])\n",
    "#print(Rmax)\n",
    "R = [(Rmax-Rmin)*i/5+Rmin for i in range(0,6)]"
   ]
  },
  {
   "cell_type": "code",
   "execution_count": 182,
   "id": "4528daa7",
   "metadata": {},
   "outputs": [
    {
     "data": {
      "image/png": "[encoded data removed]",
      "text/plain": [
       "<Figure size 432x288 with 1 Axes>"
      ]
     },
     "metadata": {
      "needs_background": "light"
     },
     "output_type": "display_data"
    }
   ],
   "source": [
    "import matplotlib.pyplot as plt\n",
    "clusters, cluster_centers =0,0\n",
    "clusters, cluster_centers = cluster_thickening(data,centroids1, k=4, t=Rmin)\n",
    "#print(cluster_centers)\n",
    "colors = ['b', 'g', 'r', 'c', 'm','y','k','w']\n",
    "# Plot the data points\n",
    "for i in range(4):\n",
    "    plt.scatter(clusters[i][0][0], clusters[i][0][1],c=colors[i], label=f'Cluster {i}')\n",
    "    for j in clusters[i]:\n",
    "        plt.scatter(j[0], j[1],c=colors[i])\n",
    "\n",
    "# Plot the cluster centers\n",
    "[plt.scatter(cluster_centers[i][0], cluster_centers[i][1], marker='x', color=colors[i], s=100, label=f'Cluster Centers {i}') for i in range(4)]\n",
    "\n",
    "# Add a legend\n",
    "plt.legend()\n",
    "\n",
    "# Show the plot\n",
    "plt.show()"
   ]
  },
  {
   "cell_type": "code",
   "execution_count": 183,
   "id": "8363f803",
   "metadata": {},
   "outputs": [
    {
     "data": {
      "text/html": [
       "<div>\n",
       "<style scoped>\n",
       "    .dataframe tbody tr th:only-of-type {\n",
       "        vertical-align: middle;\n",
       "    }\n",
       "\n",
       "    .dataframe tbody tr th {\n",
       "        vertical-align: top;\n",
       "    }\n",
       "\n",
       "    .dataframe thead th {\n",
       "        text-align: right;\n",
       "    }\n",
       "</style>\n",
       "<table border=\"1\" class=\"dataframe\">\n",
       "  <thead>\n",
       "    <tr style=\"text-align: right;\">\n",
       "      <th></th>\n",
       "      <th>Значение R</th>\n",
       "      <th>Центроиды кластера $x_{C_i}$</th>\n",
       "      <th>Объём кластера #$C_i$</th>\n",
       "    </tr>\n",
       "  </thead>\n",
       "  <tbody>\n",
       "    <tr>\n",
       "      <th></th>\n",
       "      <td>0.025328</td>\n",
       "      <td>[[0.6600912715611218, -0.6009743838247388], [0...</td>\n",
       "      <td>[42, 37, 25, 5]</td>\n",
       "    </tr>\n",
       "    <tr>\n",
       "      <th></th>\n",
       "      <td>1.451880</td>\n",
       "      <td>[[0.6600912715611218, -0.6009743838247388], [0...</td>\n",
       "      <td>[42, 37, 25, 5]</td>\n",
       "    </tr>\n",
       "    <tr>\n",
       "      <th></th>\n",
       "      <td>2.878432</td>\n",
       "      <td>[[0.6600912715611218, -0.6009743838247388], [0...</td>\n",
       "      <td>[42, 37, 25, 5]</td>\n",
       "    </tr>\n",
       "    <tr>\n",
       "      <th></th>\n",
       "      <td>4.304984</td>\n",
       "      <td>[[0.6600912715611218, -0.6009743838247388], [0...</td>\n",
       "      <td>[42, 37, 25, 5]</td>\n",
       "    </tr>\n",
       "    <tr>\n",
       "      <th></th>\n",
       "      <td>5.731536</td>\n",
       "      <td>[[0.6600912715611218, -0.6009743838247388], [0...</td>\n",
       "      <td>[42, 37, 25, 5]</td>\n",
       "    </tr>\n",
       "    <tr>\n",
       "      <th></th>\n",
       "      <td>7.158088</td>\n",
       "      <td>[[0.6600912715611218, -0.6009743838247388], [0...</td>\n",
       "      <td>[42, 37, 25, 5]</td>\n",
       "    </tr>\n",
       "  </tbody>\n",
       "</table>\n",
       "</div>"
      ],
      "text/plain": [
       "       Значение R                       Центроиды кластера $x_{C_i}$  \\\n",
       "         0.025328  [[0.6600912715611218, -0.6009743838247388], [0...   \n",
       "         1.451880  [[0.6600912715611218, -0.6009743838247388], [0...   \n",
       "         2.878432  [[0.6600912715611218, -0.6009743838247388], [0...   \n",
       "         4.304984  [[0.6600912715611218, -0.6009743838247388], [0...   \n",
       "         5.731536  [[0.6600912715611218, -0.6009743838247388], [0...   \n",
       "         7.158088  [[0.6600912715611218, -0.6009743838247388], [0...   \n",
       "\n",
       "      Объём кластера #$C_i$  \n",
       "            [42, 37, 25, 5]  \n",
       "            [42, 37, 25, 5]  \n",
       "            [42, 37, 25, 5]  \n",
       "            [42, 37, 25, 5]  \n",
       "            [42, 37, 25, 5]  \n",
       "            [42, 37, 25, 5]  "
      ]
     },
     "execution_count": 183,
     "metadata": {},
     "output_type": "execute_result"
    }
   ],
   "source": [
    "import pandas as pd\n",
    "#R_table = pd.DataFrame({},index=[' '])\n",
    "R_list = []\n",
    "for i in range(len(R)):\n",
    "    #print('R = ',10**(i))\n",
    "    clusters, cluster_centers = 0,0\n",
    "    clusters, cluster_centers = cluster_thickening(data,centroids1, k=4, t=R[i])\n",
    "    #[print(len(clusters[i])) for i in clusters]\n",
    "    #print(cluster_centers)\n",
    "    R_list.append([R[i],cluster_centers, [len(clusters[lens]) for lens in clusters]])\n",
    "    #print()\n",
    "#print(R_list)\n",
    "R_table = pd.DataFrame({'Значение R':[R_list[i][0] for i in range(len(R))],\n",
    "                       'Центроиды кластера $x_{C_i}$':[R_list[i][1] for i in range(len(R))],\n",
    "                       'Объём кластера #$C_i$':[R_list[i][2] for i in range(len(R))]},index=[' '*i for i in range(len(R))])\n",
    "R_table"
   ]
  },
  {
   "cell_type": "markdown",
   "id": "75242e8c",
   "metadata": {},
   "source": [
    "Была проверена чувствительность метода поиска сгущений к погрешностям."
   ]
  },
  {
   "cell_type": "code",
   "execution_count": 184,
   "id": "e64c2e85",
   "metadata": {},
   "outputs": [
    {
     "data": {
      "text/html": [
       "<div>\n",
       "<style scoped>\n",
       "    .dataframe tbody tr th:only-of-type {\n",
       "        vertical-align: middle;\n",
       "    }\n",
       "\n",
       "    .dataframe tbody tr th {\n",
       "        vertical-align: top;\n",
       "    }\n",
       "\n",
       "    .dataframe thead th {\n",
       "        text-align: right;\n",
       "    }\n",
       "</style>\n",
       "<table border=\"1\" class=\"dataframe\">\n",
       "  <thead>\n",
       "    <tr style=\"text-align: right;\">\n",
       "      <th></th>\n",
       "      <th>Значение $\\epsilon$</th>\n",
       "      <th>Значение R</th>\n",
       "      <th>Центроиды кластера $x_{C_i}$</th>\n",
       "      <th>Объём кластера #$C_i$</th>\n",
       "    </tr>\n",
       "  </thead>\n",
       "  <tbody>\n",
       "    <tr>\n",
       "      <th></th>\n",
       "      <td>0.0000</td>\n",
       "      <td>1.45188</td>\n",
       "      <td>[[0.6600912715611218, -0.6009743838247388], [0...</td>\n",
       "      <td>[42, 37, 25, 5]</td>\n",
       "    </tr>\n",
       "    <tr>\n",
       "      <th></th>\n",
       "      <td>1.0000</td>\n",
       "      <td>2.45188</td>\n",
       "      <td>[[0.6600912715611218, -0.6009743838247388], [0...</td>\n",
       "      <td>[42, 37, 25, 5]</td>\n",
       "    </tr>\n",
       "    <tr>\n",
       "      <th></th>\n",
       "      <td>0.1000</td>\n",
       "      <td>1.55188</td>\n",
       "      <td>[[0.6600912715611218, -0.6009743838247388], [0...</td>\n",
       "      <td>[42, 37, 25, 5]</td>\n",
       "    </tr>\n",
       "    <tr>\n",
       "      <th></th>\n",
       "      <td>0.0100</td>\n",
       "      <td>1.46188</td>\n",
       "      <td>[[0.6600912715611218, -0.6009743838247388], [0...</td>\n",
       "      <td>[42, 37, 25, 5]</td>\n",
       "    </tr>\n",
       "    <tr>\n",
       "      <th></th>\n",
       "      <td>0.0010</td>\n",
       "      <td>1.45288</td>\n",
       "      <td>[[0.6600912715611218, -0.6009743838247388], [0...</td>\n",
       "      <td>[42, 37, 25, 5]</td>\n",
       "    </tr>\n",
       "    <tr>\n",
       "      <th></th>\n",
       "      <td>0.0001</td>\n",
       "      <td>1.45198</td>\n",
       "      <td>[[0.6600912715611218, -0.6009743838247388], [0...</td>\n",
       "      <td>[42, 37, 25, 5]</td>\n",
       "    </tr>\n",
       "  </tbody>\n",
       "</table>\n",
       "</div>"
      ],
      "text/plain": [
       "       Значение $\\epsilon$  Значение R  \\\n",
       "                    0.0000     1.45188   \n",
       "                    1.0000     2.45188   \n",
       "                    0.1000     1.55188   \n",
       "                    0.0100     1.46188   \n",
       "                    0.0010     1.45288   \n",
       "                    0.0001     1.45198   \n",
       "\n",
       "                            Центроиды кластера $x_{C_i}$ Объём кластера #$C_i$  \n",
       "       [[0.6600912715611218, -0.6009743838247388], [0...       [42, 37, 25, 5]  \n",
       "       [[0.6600912715611218, -0.6009743838247388], [0...       [42, 37, 25, 5]  \n",
       "       [[0.6600912715611218, -0.6009743838247388], [0...       [42, 37, 25, 5]  \n",
       "       [[0.6600912715611218, -0.6009743838247388], [0...       [42, 37, 25, 5]  \n",
       "       [[0.6600912715611218, -0.6009743838247388], [0...       [42, 37, 25, 5]  \n",
       "       [[0.6600912715611218, -0.6009743838247388], [0...       [42, 37, 25, 5]  "
      ]
     },
     "execution_count": 184,
     "metadata": {},
     "output_type": "execute_result"
    }
   ],
   "source": [
    "R_list = []\n",
    "clusters, cluster_centers = 0,0\n",
    "clusters, cluster_centers = cluster_thickening(data,centroids1, k=4, t=R[1])\n",
    "R_list.append([0,R[1],cluster_centers, [len(clusters[lens]) for lens in clusters]])\n",
    "for i in range(5):\n",
    "    #print('R = ',10**(i))\n",
    "    clusters, cluster_centers = 0,0\n",
    "    clusters, cluster_centers = cluster_thickening(data,centroids1, k=4, t=R[1]+10**(-i))\n",
    "    #[print(len(clusters[i])) for i in clusters]\n",
    "    #print(cluster_centers)\n",
    "    R_list.append([10**(-i),R[1]+10**(-i),cluster_centers, [len(clusters[lens]) for lens in clusters]])\n",
    "    #print()\n",
    "#print(R_list)\n",
    "R_table_1 = pd.DataFrame({'Значение $\\epsilon$':[R_list[i][0] for i in range(len(R_list))],\n",
    "                          'Значение R':[R_list[i][1] for i in range(len(R_list))],\n",
    "                       'Центроиды кластера $x_{C_i}$':[R_list[i][2] for i in range(len(R_list))],\n",
    "                       'Объём кластера #$C_i$':[R_list[i][3] for i in range(len(R_list))]},index=[' '*i for i in range(len(R_list))])\n",
    "R_table_1"
   ]
  },
  {
   "cell_type": "markdown",
   "id": "bad7da30",
   "metadata": {},
   "source": [
    "Мощности кластеров не сильно меняются от значения $\\epsilon$ => метод не чувствителен к погрешностям порядка от $\\frac{1}{10^5}R$ до $R$"
   ]
  },
  {
   "cell_type": "markdown",
   "id": "e05bf8d0",
   "metadata": {},
   "source": [
    "При использовании метода силуэтов было определено, что оптимальное количество кластеров=4. По таблице метода поиска сгущений при R, лежащем в промежутке Rmin < R < Rmax видно, что встречается только разделение именно на 4 кластера."
   ]
  },
  {
   "cell_type": "markdown",
   "id": "2a69dd83",
   "metadata": {},
   "source": [
    "## Выводы"
   ]
  },
  {
   "cell_type": "markdown",
   "id": "1354ba6f",
   "metadata": {},
   "source": [
    "В ходе выполнения практической работы были изучены методы нормализации множества точек, реализованы алгоритмы k-means, k-medians, метод силуэтов. \n",
    "\n",
    "Каждый из алгоритмов был прогонен на выборке по параметрам `vodka` и `beer` и на основе полученных данных построены графики и таблицы значений. \n",
    "\n",
    "Был реализован алгоритм поиска сгущений при различных радиусах 𝑅. Была проверена чувствительность метода поиска сгущений к погрешностям."
   ]
  },
  {
   "cell_type": "code",
   "execution_count": null,
   "id": "5da66760",
   "metadata": {},
   "outputs": [],
   "source": []
  }
 ],
 "metadata": {
  "kernelspec": {
   "display_name": "Python 3 (ipykernel)",
   "language": "python",
   "name": "python3"
  },
  "language_info": {
   "codemirror_mode": {
    "name": "ipython",
    "version": 3
   },
   "file_extension": ".py",
   "mimetype": "text/x-python",
   "name": "python",
   "nbconvert_exporter": "python",
   "pygments_lexer": "ipython3",
   "version": "3.9.12"
  }
 },
 "nbformat": 4,
 "nbformat_minor": 5
}
