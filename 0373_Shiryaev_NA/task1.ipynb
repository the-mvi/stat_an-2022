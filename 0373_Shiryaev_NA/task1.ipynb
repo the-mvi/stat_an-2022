{
 "cells": [
  {
   "cell_type": "markdown",
   "metadata": {},
   "source": [
    "# Практическая работа №1: Формирование и первичная обработка выборки. Нахождение и точечных и интервальных оценок. Проверка статистических гипотез\n",
    "\n",
    "Выполнил студент гр. 0373 Ширяев Никита. Вариант №22"
   ]
  },
  {
   "cell_type": "markdown",
   "metadata": {},
   "source": [
    "## Цель работы\n",
    "Ознакомление с основными правилами формирования выборки и подготовки выборочных данных к статистическому анализу. Получение практических навыков нахождения точечных статистических оценок параметров распределения, а также вычисления интервальных статистических оценок параметров распределения выборочных данных и проверки\n",
    "«справедливости» статистических гипотез.\n"
   ]
  },
  {
   "cell_type": "markdown",
   "metadata": {},
   "source": [
    "## Основные теоретические положения\n",
    "\n",
    "Выборка - совокупность случайных объектов объемом n. \n",
    "\n",
    "Генеральная совокупность - совокупность объектов из которых производится выборка.Объем генеральной совокупности значительно \n",
    "превосходит объем выборки.\n",
    "\n",
    "Ранжированный ряд - расположение элементов совокупности в порядке возрастания или убывания выбранного признака.\n",
    "\n",
    "Вариационный ряд - ранжированный ряд распределения по величине какого-либо признака.\n",
    "\n",
    "Интервальный вариационный ряд - ряд, в котором промежуток выборки разбивается на частичные интервалы. Интервальный вариационный ряд формируется по формуле Стёрджерса: $k=1+\\log_2 n,$ размаху выборки $X_{max}-X_{min}$ и длине $h=\\frac{R}{k}$\n",
    "\n",
    "Полигон частот - ломаная линия, соединяющая точки дискретного ряда $(x_1, n_1)(x_2, n_2) \\cdots (x_k, n_k)$.\n",
    "\n",
    "Полигон относительных частот - ломаная линия,соединяющая точки дискретного ряда $(x_1, p_1^*)(x_2, p_2^*) \\cdots (x_k, p_k^*)$.\n",
    "\n",
    "Гистограмма частот - ступенчатая фигура из прямоугольников с основанием из частотных интервалов длины $h_i$ и высотой $\\frac{n_i}{n}$.\n",
    "\n",
    "Гистограмма относительных частот - ступенчатая фигура из прямоугольников с основанием из частотных интервалов длины $h_i$ и высотой $\\frac{p_i}{n}$.\n",
    "\n",
    "Эмпирическая функция - функция, заданная для каждого значения х относительно частоты события $(Х < x)$\n",
    "\n",
    "Выборочное среднее - среднее арифметических значений выборочной совокупности $x_в = \\frac{1}{n}\\sum{x_i \\cdot n_i}$\n",
    "\n",
    "Выборочная дисперсия - мера разброса значений случайной величины относительно её математического ожидания \n",
    "$\\sigma^2 = \\frac{1}{n}\\sum{n_i \\cdot (x_i-x_в)^2}$.\n",
    "\n",
    "Мода интервального ряда - число в частичном интервале с наибольшей частотой.\n",
    "$$M_o = x_{M_o}^{(0)}+h \\cdot \\frac{n_{M_o}-n_{M_o-1}}{(n_{M_o}-n_{M_o-1})+(n_{M_o}-n_{M_o+1})},$$\n",
    "где $x_{M_o}^{(0)}$ - левый край интервала с наибольшей частотой, $n_{M_o}$ - частота модального интервала, $n_{M_o+1} и n_{M_o-1}$ - частоты последующего и предыдущего интервалов соответственно. Если интервал с наибольшей частотой крайний, то частоту \n",
    "предыдущего интервала(если он первый) или последующего(если он последний) зануляем.\n",
    "\n",
    "Медиана интервального ряда - число интервала, для которого частота состовляет половину или больше половины всей суммы частот, а предыдущая накопленная частота меньше половины всей суммы частот. \n",
    "$$M_e = x_{M_e}^{(0)}+h \\cdot \\frac{0.5-p_{M_e-1}^{*}}{p_{M_e}^{*}},$$\n",
    "где $x_{M_е}^{(0)}$ - левый край интервала с наибольшей частотой, $p_{M_e-1}^{*}$ - относительная частота медианного интервала, $n_{M_o-1}$ - относительные частоты последующего интервалов соответственно.\n",
    "\n",
    "Коэффициент вариации - мера колеблемости признака относительно выборочной средней. $V^* = \\frac{\\sigma_в}{|x_в|} \\cdot 100\\%$\n",
    "\n",
    "Условные варианты - варианты, определяемые по неравенству:\n",
    "$$u_i=\\frac{x_i-C}{h},$$ где С - ложный нуль(варианта с наибольшей частотой в середине). \n",
    "\n",
    "Условные эмпирический момент порядка r - начальный эмпирический момент порядка r, вычисленный с помощью условных вариант. \n",
    "$$\\nu_r^* = \\frac{1}{n} \\cdot \\sum{n_i \\cdot u_i^r},$$ причем $x_в = h*\\nu_1^* + C$\n",
    "$$\\mu_1^* = 0$$\n",
    "$$\\mu_2^* = h^2 \\cdot (\\nu_2^* - (\\nu_1^*)^2)$$\n",
    "$$\\mu_3^* = h^3 \\cdot (\\nu_3^* - 3 \\cdot \\nu_2^*\\nu_1^* + 2 \\cdot (\\nu_1^*)^3)$$\n",
    "$$\\mu_4^* = h^4 \\cdot (\\nu_4^* - 4 \\cdot \\nu_3^*\\nu_1^* + 6 \\cdot \\nu_2^* \\cdot (\\nu_1^*)^2 - 3 \\cdot (\\nu_1^*)^4)$$\n",
    "\n",
    "Выборочный коэффициент ассиметрии: $a_s^* = \\frac{\\mu_3^*}{\\sigma_в^3}$\n",
    "\n",
    "Выборочный коэффициент эксцесса: $\\varepsilon_k^* = \\frac{\\mu_4^*}{\\sigma_в^4} - 3$\n",
    "\n",
    "Исправленная дисперсия: $s^2 = \\frac{1}{n-1}\\sum{n_i \\cdot (x_i - x_в)^2}$\n",
    "\n",
    "Доверительный интервал для математического ожидания при неизвестном среднеквадратичном отклонении при заданном объёме выборки:\n",
    "$$(x_в - \\frac{t_\\gamma \\cdot s}{\\sqrt{n}};x_в + \\frac{t_\\gamma \\cdot s}{\\sqrt{n}}),$$ где $\\frac{t_\\gamma \\cdot s}{\\sqrt{n}}$ - точность, а \n",
    "$t_\\gamma = t(\\gamma, n)$ - табулированное распределение Стьюдента\n",
    "\n",
    "Доверительный интервал для среднеквадратичного отклонения:\n",
    "$s(1-q) < \\sigma < s(1+q)$ если q<1\n",
    "0 < \\sigma < s(1+q)$ если q>1\n",
    "\n",
    "Теоритические частоты: $P(x_{i-1} <x< x_i) = \\Phi(\\frac{x_i - a}{\\sigma}) - \\Phi(\\frac{x_i - a}{\\sigma})$\n",
    "\n",
    "Статистическая гипотеза - любое предположение о генеральной совокупности, проверяемое по выборке.\n",
    "Статистический критерий проверки основной гипотезы - правило, по которому принимается решение принять или отклонить гипотезу.\n",
    "Статистика критерия - случайная величина, служащая для проверки относительных гипотез.\n",
    "Критическая область - совокупность значений критерия, при которых основную гипотезу отвергают.\n",
    "\n",
    "Хи наблюдаемое: $\\chi^2_{набл} = \\sum{\\frac{(n_i - n^{'}_i)^2}{n^{'}_i}} = \\sum{\\frac{n_i^2}{n^{'}_i} - n_i}$\n",
    "\n",
    "Хи критическое: $\\chi^2_{крит} = \\chi^2 (a, df), $ где $df = r-1$ - число степеней свободы. \n",
    "\n",
    "Гипотеза принимается, если $\\chi_{набл}^2 < \\chi_{крит}^2$"
   ]
  },
  {
   "cell_type": "markdown",
   "metadata": {},
   "source": [
    "## Постановка задачи\n",
    "Осуществить формирование репрезентативной выборки заданного объема из имеющейся генеральной совокупности экспериментальных данных.\n",
    "Осуществить последовательное преобразование полученной выборки в ранжированный, вариационный и интервальный ряды. Применительно к интервальному ряду построить и отобразить графически полигон, гистограмму и эмпирическую функцию распределения для абсолютных и относительных частот. \n",
    "Для заданных выборочных данных вычислить с использованием метода моментов и условных вариант точечные статистические оценки математического ожидания, дисперсии, среднеквадратичного отклонения, асимметрии, эксцесса, моды, медианы и коэффициента вариации исследуемой случайной величины. Для заданной надёжности определить границы доверительных интервалов для математического ожидания и среднеквадратичного отклонения случайной величины. \n",
    "Проверить гипотезу о нормальном распределении исследуемой случайной величины с помощью критерия Пирсона 𝜒2.\n",
    "Полученные результаты содержательно проинтерпретировать."
   ]
  },
  {
   "cell_type": "markdown",
   "metadata": {},
   "source": [
    "## Выполнение работы"
   ]
  },
  {
   "cell_type": "code",
   "execution_count": 86,
   "metadata": {},
   "outputs": [
    {
     "name": "stdout",
     "output_type": "stream",
     "text": [
      "Requirement already satisfied: pandas in c:\\python\\lib\\site-packages (1.4.3)\n",
      "Requirement already satisfied: pytz>=2020.1 in c:\\python\\lib\\site-packages (from pandas) (2022.1)\n",
      "Requirement already satisfied: python-dateutil>=2.8.1 in c:\\python\\lib\\site-packages (from pandas) (2.8.2)\n",
      "Requirement already satisfied: numpy>=1.21.0 in c:\\python\\lib\\site-packages (from pandas) (1.23.0)\n",
      "Requirement already satisfied: six>=1.5 in c:\\python\\lib\\site-packages (from python-dateutil>=2.8.1->pandas) (1.16.0)\n",
      "Requirement already satisfied: numpy in c:\\python\\lib\\site-packages (1.23.0)\n",
      "Requirement already satisfied: matplotlib in c:\\python\\lib\\site-packages (3.6.0)\n",
      "Requirement already satisfied: contourpy>=1.0.1 in c:\\python\\lib\\site-packages (from matplotlib) (1.0.5)\n",
      "Requirement already satisfied: python-dateutil>=2.7 in c:\\python\\lib\\site-packages (from matplotlib) (2.8.2)\n",
      "Requirement already satisfied: cycler>=0.10 in c:\\python\\lib\\site-packages (from matplotlib) (0.11.0)\n",
      "Requirement already satisfied: pillow>=6.2.0 in c:\\python\\lib\\site-packages (from matplotlib) (9.2.0)\n",
      "Requirement already satisfied: kiwisolver>=1.0.1 in c:\\python\\lib\\site-packages (from matplotlib) (1.4.4)\n",
      "Requirement already satisfied: numpy>=1.19 in c:\\python\\lib\\site-packages (from matplotlib) (1.23.0)\n",
      "Requirement already satisfied: packaging>=20.0 in c:\\python\\lib\\site-packages (from matplotlib) (21.3)\n",
      "Requirement already satisfied: pyparsing>=2.2.1 in c:\\python\\lib\\site-packages (from matplotlib) (3.0.9)\n",
      "Requirement already satisfied: fonttools>=4.22.0 in c:\\python\\lib\\site-packages (from matplotlib) (4.37.3)\n",
      "Requirement already satisfied: six>=1.5 in c:\\python\\lib\\site-packages (from python-dateutil>=2.7->matplotlib) (1.16.0)\n",
      "Requirement already satisfied: scipy in c:\\python\\lib\\site-packages (1.8.1)\n",
      "Requirement already satisfied: numpy<1.25.0,>=1.17.3 in c:\\python\\lib\\site-packages (from scipy) (1.23.0)\n",
      "Collecting plotly\n",
      "  Downloading plotly-5.11.0-py2.py3-none-any.whl (15.3 MB)\n",
      "     --------------------------------------- 15.3/15.3 MB 14.2 MB/s eta 0:00:00\n",
      "Collecting tenacity>=6.2.0\n",
      "  Downloading tenacity-8.1.0-py3-none-any.whl (23 kB)\n",
      "Installing collected packages: tenacity, plotly\n",
      "Successfully installed plotly-5.11.0 tenacity-8.1.0\n"
     ]
    }
   ],
   "source": [
    "!pip install pandas\n",
    "!pip install numpy\n",
    "!pip install matplotlib \n",
    "!pip install scipy\n",
    "!pip install plotly"
   ]
  },
  {
   "cell_type": "code",
   "execution_count": 1,
   "metadata": {},
   "outputs": [],
   "source": [
    "import pandas as pd\n",
    "import numpy as np\n",
    "import matplotlib.pyplot as plt\n",
    "import scipy as sp\n",
    "from scipy.stats import norm\n",
    "import plotly.express as px"
   ]
  },
  {
   "cell_type": "code",
   "execution_count": 2,
   "metadata": {
    "scrolled": false
   },
   "outputs": [],
   "source": [
    "data = [3, 4, 6, 6, 12, 12, 13, 14, 18, 18, 18, 19, 20, 21, 21, 22, 25, 30, 31, 31, 31, 31, 32, 32, 33, 33, 35, 36, 38, 38, 39, 40, 41, 42, 43, 43, 44, 46, 47, 47, 48, 48, 49, 53, 55, 56, 59, 60, 62, 62, 63, 65, 69, 69, 70, 70, 71, 72, 73, 75, 75, 76, 76, 77, 78, 79, 79, 80, 80, 82, 84, 85, 88, 89, 91, 92, 92, 93, 95, 95, 96, 96, 97, 98, 99, 100, 100, 100, 100, 100, 100] "
   ]
  },
  {
   "cell_type": "markdown",
   "metadata": {},
   "source": [
    "Выборка была сформирована серийно из первых 91 элементов. Далее в работе для анализа будет использоваться крайний столбец revenue_fom_defense."
   ]
  },
  {
   "cell_type": "markdown",
   "metadata": {},
   "source": []
  },
  {
   "cell_type": "code",
   "execution_count": 5,
   "metadata": {},
   "outputs": [
    {
     "name": "stdout",
     "output_type": "stream",
     "text": [
      "Ранжированный  \n",
      " [3, 4, 6, 6, 12, 12, 13, 14, 18, 18, 18, 19, 20, 21, 21, 22, 25, 30, 31, 31, 31, 31, 32, 32, 33, 33, 35, 36, 38, 38, 39, 40, 41, 42, 43, 43, 44, 46, 47, 47, 48, 48, 49, 53, 55, 56, 59, 60, 62, 62, 63, 65, 69, 69, 70, 70, 71, 72, 73, 75, 75, 76, 76, 77, 78, 79, 79, 80, 80, 82, 84, 85, 88, 89, 91, 92, 92, 93, 95, 95, 96, 96, 97, 98, 99, 100, 100, 100, 100, 100, 100] \n",
      "\n",
      " Вариационный \n",
      "         X    n         p\n",
      "0     3.0  1.0  0.010989\n",
      "1     4.0  1.0  0.010989\n",
      "2     6.0  2.0  0.021978\n",
      "3    12.0  2.0  0.021978\n",
      "4    13.0  1.0  0.010989\n",
      "..    ...  ...       ...\n",
      "57   96.0  2.0  0.021978\n",
      "58   97.0  1.0  0.010989\n",
      "59   98.0  1.0  0.010989\n",
      "60   99.0  1.0  0.010989\n",
      "61  100.0  6.0  0.065934\n",
      "\n",
      "[62 rows x 3 columns] \n",
      "\n",
      " Интервальный ряд \n",
      "      Xнач     Xкон      Хср     n     p\n",
      "0   3.000   15.125   9.0625   8.0  0.09\n",
      "1  15.125   27.250  21.1875   9.0  0.10\n",
      "2  27.250   39.375  33.3125  14.0  0.15\n",
      "3  39.375   51.500  45.4375  12.0  0.13\n",
      "4  51.500   63.625  57.5625   8.0  0.09\n",
      "5  63.625   75.750  69.6875  10.0  0.11\n",
      "6  75.750   87.875  81.8125  11.0  0.12\n",
      "7  87.875  100.000  93.9375  19.0  0.21 \n",
      "\n"
     ]
    }
   ],
   "source": [
    "#НОМЕР 2\n",
    "\n",
    "def GetN(start, end, dataset):\n",
    "    n=0\n",
    "    for i in dataset:\n",
    "        if(i>=start and i<=end):\n",
    "            n+=1\n",
    "    return n\n",
    "\n",
    "def ToIntervalandVar(dataset):\n",
    "    k=1+round(np.log2(len(dataset)))\n",
    "    R=max(dataset)-min(dataset)\n",
    "    h=R/k\n",
    "\n",
    "    \n",
    "    dataCopy=list(set(dataset))\n",
    "    Vardata=np.zeros((len(dataCopy), 3))\n",
    "    for i in range(len(dataCopy)):\n",
    "        Vardata[i][0]=round(dataCopy[i], 1)\n",
    "        Vardata[i][1]=round(dataset.count(dataCopy[i]), 1)\n",
    "        Vardata[i][2]=round((dataset.count(dataCopy[i])/len(dataset)), 7)\n",
    "    \n",
    "    intervalData=np.zeros((k, 5))\n",
    "    i=0\n",
    "    xPrev=min(dataset)\n",
    "    while xPrev<max(dataset):\n",
    "        intervalData[i,0]=xPrev #Xнач\n",
    "        intervalData[i,1]=xPrev+h #Xкон\n",
    "        intervalData[i,2]=(2*xPrev+h)/2 #Хср\n",
    "        intervalData[i,3]=GetN(intervalData[i,0], intervalData[i,1], dataset) #n\n",
    "        intervalData[i,4]=round(intervalData[i,3]/len(dataset), 2) #p\n",
    "        xPrev=xPrev+h\n",
    "        i+=1\n",
    "    return Vardata, intervalData, h, k\n",
    "    \n",
    "Vdata, Idata, h, k=ToIntervalandVar(data)\n",
    "\n",
    "VdataЗPrint=pd.DataFrame(Vdata, columns=[\"X\", \"n\", \"p\"])\n",
    "IdataPrint=pd.DataFrame(Idata, columns=[\"Xнач\", \"Xкон\",\"Хср\", \"n\", \"p\"])\n",
    "\n",
    "np.set_printoptions(suppress=True)\n",
    "print(\"Ранжированный \", \"\\n\", data, \"\\n\\n\", \"Вариационный\", \"\\n\", VdataЗPrint, \"\\n\\n\", \"Интервальный ряд\", \"\\n\", IdataPrint, \"\\n\")\n"
   ]
  },
  {
   "cell_type": "code",
   "execution_count": 9,
   "metadata": {
    "scrolled": false
   },
   "outputs": [
    {
     "data": {
      "image/png": "[encoded data removed]",
      "text/plain": [
       "<Figure size 640x480 with 1 Axes>"
      ]
     },
     "metadata": {},
     "output_type": "display_data"
    },
    {
     "data": {
      "image/png": "[encoded data removed]",
      "text/plain": [
       "<Figure size 640x480 with 1 Axes>"
      ]
     },
     "metadata": {},
     "output_type": "display_data"
    },
    {
     "name": "stdout",
     "output_type": "stream",
     "text": [
      "[8.0, 17.0, 31.0, 43.0, 51.0, 61.0, 72.0, 91.0]\n"
     ]
    },
    {
     "data": {
      "image/png": "[encoded data removed]",
      "text/plain": [
       "<Figure size 640x480 with 1 Axes>"
      ]
     },
     "metadata": {},
     "output_type": "display_data"
    }
   ],
   "source": [
    "#НОМЕР 3\n",
    "\n",
    "\n",
    "\n",
    "plt.title(\"Полигон\")\n",
    "plt.plot(Idata[:, 2], Idata[:, 3])\n",
    "plt.show()\n",
    "\n",
    "plt.title(\"Гистограмма\")\n",
    "plt.hist(Idata[:, 2], weights = Idata[:, 3]/h, bins = k)\n",
    "plt.show()\n",
    "\n",
    "NP=[]\n",
    "summm=0\n",
    "for i in range(len(Idata[:, 3])):\n",
    "    summm+=Idata[i, 3]\n",
    "    NP.append(summm)\n",
    "        \n",
    "plt.title(\"Эмпирическая функция\")\n",
    "plt.step(Idata[:, 2], NP[:])\n",
    "plt.show()\n"
   ]
  },
  {
   "cell_type": "markdown",
   "metadata": {},
   "source": [
    "На полигоне частот можно увидеть распределение частот в выборке: например, последний элемент(100) обладает наибольшей частотой.\n",
    "График полигона и гистограмма частот аналогичны кривой распределения непрерывной случайной величины X, заданной плотностью вероятности f(x) = F'(x)."
   ]
  },
  {
   "cell_type": "code",
   "execution_count": 10,
   "metadata": {},
   "outputs": [
    {
     "data": {
      "image/png": "[encoded data removed]",
      "text/plain": [
       "<Figure size 640x480 with 1 Axes>"
      ]
     },
     "metadata": {},
     "output_type": "display_data"
    },
    {
     "data": {
      "image/png": "[encoded data removed]",
      "text/plain": [
       "<Figure size 640x480 with 1 Axes>"
      ]
     },
     "metadata": {},
     "output_type": "display_data"
    },
    {
     "data": {
      "image/png": "[encoded data removed]",
      "text/plain": [
       "<Figure size 640x480 with 1 Axes>"
      ]
     },
     "metadata": {},
     "output_type": "display_data"
    }
   ],
   "source": [
    "#НОМЕР 4\n",
    "\n",
    "\n",
    "plt.title(\"Полигон\")\n",
    "plt.plot(Idata[:, 2], Idata[:, 4])\n",
    "plt.show()\n",
    "\n",
    "plt.title(\"Гистограмма\")\n",
    "plt.hist(Idata[:, 2], weights = Idata[:, 4]/h, bins = k)\n",
    "plt.show()\n",
    "\n",
    "NP=[]\n",
    "summm=0\n",
    "for i in range(len(Idata[:, 4])):\n",
    "    summm+=Idata[i, 4]\n",
    "    NP.append(summm)\n",
    "    \n",
    "plt.title(\"Эмпирическая функция\")\n",
    "plt.step(Idata[:, 2], NP[:])\n",
    "plt.show()\n"
   ]
  },
  {
   "cell_type": "markdown",
   "metadata": {},
   "source": [
    "Графики полигона, гитограммы и  эмпирической функции относительный частот показывают те же зависимости, \n",
    "отличаясь от графиков абсолютных частот лишь на константу."
   ]
  },
  {
   "cell_type": "code",
   "execution_count": 11,
   "metadata": {},
   "outputs": [
    {
     "name": "stdout",
     "output_type": "stream",
     "text": [
      "Интервальный ряд задания 5  \n",
      "      Xнач     Xкон      Хср     n     p  Сумма n  Сумма p\n",
      "0   3.000   15.125   9.0625   8.0  0.09      8.0     0.09\n",
      "1  15.125   27.250  21.1875   9.0  0.10     17.0     0.19\n",
      "2  27.250   39.375  33.3125  14.0  0.15     31.0     0.34\n",
      "3  39.375   51.500  45.4375  12.0  0.13     43.0     0.47\n",
      "4  51.500   63.625  57.5625   8.0  0.09     51.0     0.56\n",
      "5  63.625   75.750  69.6875  10.0  0.11     61.0     0.67\n",
      "6  75.750   87.875  81.8125  11.0  0.12     72.0     0.79\n",
      "7  87.875  100.000  93.9375  19.0  0.21     91.0     1.00 \n",
      "\n",
      "Суммы  \n",
      " n: 91.0  p: 1.0 \n",
      "\n"
     ]
    }
   ],
   "source": [
    "#НОМЕР 5\n",
    "\n",
    "k=1+round(np.log2(len(data)))\n",
    "Idata5=np.zeros((k, 7))\n",
    "\n",
    "n=0\n",
    "w=0\n",
    "for i in range(k):\n",
    "    Idata5[i,0]=Idata[i, 0]\n",
    "    Idata5[i,1]=Idata[i, 1]\n",
    "    Idata5[i,2]=Idata[i, 2]\n",
    "    Idata5[i,3]=Idata[i, 3]\n",
    "    Idata5[i,4]=round(Idata[i, 4], 2)\n",
    "    n+=Idata[i, 3]\n",
    "    Idata5[i,5]=n\n",
    "    w+=Idata[i, 4]\n",
    "    Idata5[i,6]=w\n",
    "    \n",
    "Idata5Print=pd.DataFrame(Idata5, columns=[\"Xнач\", \"Xкон\",\"Хср\", \"n\", \"p\", \"Сумма n\", \"Сумма p\"])\n",
    "print(\"Интервальный ряд задания 5 \", \"\\n\", Idata5Print, \"\\n\")\n",
    "print(\"Суммы \", \"\\n n:\", sum(Idata5[:, 3]), \" p:\", round(sum(Idata5[:, 4]), 2), \"\\n\")\n",
    "\n",
    "    \n",
    "\n"
   ]
  },
  {
   "cell_type": "markdown",
   "metadata": {},
   "source": [
    "Таблица интервального ряда построена правильно, т.к. суммы абсолютных частот равны длине выборки, а суммы относительных частот\n",
    "равны 1."
   ]
  },
  {
   "cell_type": "code",
   "execution_count": 12,
   "metadata": {},
   "outputs": [
    {
     "name": "stdout",
     "output_type": "stream",
     "text": [
      "C  12.0 12.125\n",
      "Таблица задания 6  \n",
      "        Xср     n    u    nu   nu^2    nu^3    nu^4  n(u+1)^4\n",
      "0   9.0625   8.0 -3.0 -24.0   72.0  -216.0   648.0     128.0\n",
      "1  21.1875   9.0 -2.0 -18.0   36.0   -72.0   144.0       9.0\n",
      "2  33.3125  14.0 -1.0 -14.0   14.0   -14.0    14.0       0.0\n",
      "3  45.4375  12.0  0.0   0.0    0.0     0.0     0.0      12.0\n",
      "4  57.5625   8.0  1.0   8.0    8.0     8.0     8.0     128.0\n",
      "5  69.6875  10.0  2.0  20.0   40.0    80.0   160.0     810.0\n",
      "6  81.8125  11.0  3.0  33.0   99.0   297.0   891.0    2816.0\n",
      "7  93.9375  19.0  4.0  76.0  304.0  1216.0  4864.0   11875.0 \n",
      "\n",
      "Суммы: \n",
      " n:  91.0 \n",
      " nu:  81.0 \n",
      " nu^2:  573.0 \n",
      " nu^3:  1299.0 \n",
      " nu^4:  6729.0 \n",
      " n(u+1)^4:  15778.0 \n",
      "\n",
      "Контроль: сумма n(u+1)^4 15778.0  = остальным суммам 15778.0\n"
     ]
    }
   ],
   "source": [
    "#НОМЕР 6\n",
    "\n",
    "def GetData6(data, Idata): #переделать для интервального\n",
    "    data6=np.zeros((len(Idata[:, 0]), 8))\n",
    "    Cfor6=max(Idata[round(len(Idata)/2), 3], Idata[round(len(Idata)/2)-1, 3])\n",
    "    \n",
    "    index=0\n",
    "    for i in range(len(Idata[:, 0])):\n",
    "        if(Idata[i, 3]==Cfor6):\n",
    "            index=i\n",
    "    \n",
    "    k=1+round(np.log2(len(data)))\n",
    "    R=max(Idata[:, 1])-min(Idata[:, 0])\n",
    "    h=R/k\n",
    "    \n",
    "    print(\"C \", Cfor6, h)\n",
    "\n",
    "    for i in range(len(Idata[:, 0])):\n",
    "        data6[i,0]=Idata[i, 2] #x\n",
    "        data6[i,1]=Idata[i, 3] #n\n",
    "        data6[i,2]=round((Idata[i, 2] - Idata[index, 2])/h, 4) #u\n",
    "        data6[i,3]=data6[i,1]*data6[i,2] #nu\n",
    "        data6[i,4]=data6[i,1]*(data6[i,2]**2) #nu^2\n",
    "        data6[i,5]=data6[i,1]*(data6[i,2]**3) #nu^3\n",
    "        data6[i,6]=data6[i,1]*(data6[i,2]**4) #nu^4\n",
    "        data6[i,7]=data6[i,1]*((data6[i,2]+1)**4) #n(u+1)^4\n",
    "    return data6, Idata[index, 2], h\n",
    "    \n",
    "data6, Cfor6, hglobal=GetData6(data, Idata)\n",
    "data6Print=pd.DataFrame(data6, columns=[\"Xср\", \"n\",\"u\", \"nu\", \"nu^2\", \"nu^3\", \"nu^4\", \"n(u+1)^4\"])\n",
    "print(\"Таблица задания 6 \", \"\\n\", data6Print, \"\\n\")    \n",
    "print(\"Суммы: \\n\", \"n: \", sum(data6[:,1]), \"\\n\", \"nu: \", sum(data6[:,3]), \"\\n\",\"nu^2: \", sum(data6[:,4]), \"\\n\", \"nu^3: \", sum(data6[:,5]), \"\\n\", \"nu^4: \", sum(data6[:,6]), \"\\n\", \"n(u+1)^4: \", sum(data6[:,7]), \"\\n\")\n",
    "print(\"Контроль: сумма n(u+1)^4\", sum(data6[:,7]), \" = остальным суммам\", sum(data6[:,6]) + 4*sum(data6[:,5]) + 6*sum(data6[:,4]) + 4*sum(data6[:,3]) + sum( data6[:,1]) )\n",
    "\n"
   ]
  },
  {
   "cell_type": "markdown",
   "metadata": {},
   "source": [
    "Вычисление таблицы произведено корректно, что видно по контролю сумм и что одна из условных вариант равна 0."
   ]
  },
  {
   "cell_type": "code",
   "execution_count": 13,
   "metadata": {},
   "outputs": [
    {
     "name": "stdout",
     "output_type": "stream",
     "text": [
      "Таблица эмпирических моментов: \n",
      "    Условный э.м.  Центральный э.м.\n",
      "0       0.890110      0.000000e+00\n",
      "1       6.296703      8.092339e+02\n",
      "2      14.274725     -2.012672e+03\n",
      "3      73.945055      1.105982e+06 \n",
      "\n"
     ]
    }
   ],
   "source": [
    "#НОМЕР 7\n",
    "\n",
    "def GetMoments(data6, data):\n",
    "    EmpMoments=np.zeros((4, 2))\n",
    "    k=1+round(np.log2(len(data)))\n",
    "    R=max(data)-min(data)\n",
    "    h=R/k\n",
    "    \n",
    "    for i in range(4):\n",
    "        j=i+3\n",
    "        EmpMoments[i,0]=sum(data6[:, j])/len(data)\n",
    "    EmpMoments[0,1]=0\n",
    "    EmpMoments[1,1]=(EmpMoments[1,0]-(EmpMoments[0,0]**2))*(h**2)    \n",
    "    EmpMoments[2,1]=(EmpMoments[2,0] - 3*EmpMoments[1,0]*EmpMoments[0,0] + 2*(EmpMoments[0,0]**3))*(h**3)\n",
    "    EmpMoments[3,1]=(EmpMoments[3,0] - 4*EmpMoments[2,0]*EmpMoments[0,0] + 6*EmpMoments[1,0]*(EmpMoments[0,0]**2) - 3*(EmpMoments[0,0]**4))*(h**4)\n",
    "    return EmpMoments\n",
    "    \n",
    "EmpMoments=GetMoments(data6, data)\n",
    "EmpMomentsPrint=pd.DataFrame(EmpMoments, columns=[\"Условный э.м.\", \"Центральный э.м.\"])\n",
    "print(\"Таблица эмпирических моментов: \\n\", EmpMomentsPrint, \"\\n\")\n",
    "    "
   ]
  },
  {
   "cell_type": "code",
   "execution_count": 14,
   "metadata": {},
   "outputs": [
    {
     "name": "stdout",
     "output_type": "stream",
     "text": [
      "Сравнение математических ожиданий:  56.230082417582416  =  56.230082417582416\n",
      "Сравнение дисперсий: 809.2339353640866  =  809.2339353640865\n"
     ]
    }
   ],
   "source": [
    "#НОМЕР 8\n",
    "\n",
    "def ExpDisp(Idata5, data, EmpMoments, Cfor6):\n",
    "    k=1+round(np.log2(len(data)))\n",
    "    R=max(data)-min(data)\n",
    "    h=R/k\n",
    "    \n",
    "    Iexp=sum(Idata5[:, 2]*Idata5[:,3])/len(data)\n",
    "    Idisp=sum(Idata5[:, 3]*(Idata5[:, 2] - Iexp)**2)/len(data)\n",
    "    EmpExp=h*EmpMoments[0,0]+Cfor6\n",
    "    Empdisp=EmpMoments[1,1]\n",
    "    \n",
    "    print(\"Сравнение математических ожиданий: \", Iexp ,\" = \", EmpExp)\n",
    "    print(\"Сравнение дисперсий:\", Idisp ,\" = \", Empdisp)\n",
    "    return Iexp, np.sqrt(Idisp), Idisp\n",
    "    \n",
    "    \n",
    "Iexp, SKO, Disp=ExpDisp(Idata5, data, EmpMoments, Cfor6)\n"
   ]
  },
  {
   "cell_type": "markdown",
   "metadata": {},
   "source": [
    "Выборочные средние и дисперсии с помощью стандартной формулы и с помощью условных вариант совпадают."
   ]
  },
  {
   "cell_type": "code",
   "execution_count": 15,
   "metadata": {},
   "outputs": [
    {
     "name": "stdout",
     "output_type": "stream",
     "text": [
      "Дисперсия: 809.2339353640866  и СКО: 28.447037374111325 \n",
      "\n",
      "Исправленная выборочная дисперсия:  818.2254235347987  и исправленное СКО:  28.60463989521278 \n",
      "\n"
     ]
    }
   ],
   "source": [
    "#НОМЕР 9\n",
    "\n",
    "def DispSKO(Idata5, Iexp, data, sko, disp):\n",
    "    S2=sum(Idata5[:, 3]*(Idata5[:, 2]-Iexp)**2)/(len(data)-1)\n",
    "    S=np.sqrt(S2)\n",
    "    print(\"Дисперсия:\", disp, \" и СКО:\", sko,\"\\n\")\n",
    "    print(\"Исправленная выборочная дисперсия: \", S2,\" и исправленное СКО: \", S, \"\\n\")\n",
    "    return S, S2\n",
    "    \n",
    "SKOcorrected, DispCorrected=DispSKO(Idata5, Iexp, data, SKO, Disp)\n"
   ]
  },
  {
   "cell_type": "markdown",
   "metadata": {},
   "source": [
    "Можно сделать вывод, что значения отличаются мало, что обусловлено малым объемом выборки"
   ]
  },
  {
   "cell_type": "code",
   "execution_count": 16,
   "metadata": {},
   "outputs": [
    {
     "name": "stdout",
     "output_type": "stream",
     "text": [
      "Коэффициент асимметрии:  -0.08743028964720913  и эксцесса:  -1.3111158226246995 \n",
      "\n"
     ]
    }
   ],
   "source": [
    "#НОМЕР 10\n",
    "\n",
    "def GetKoeffitients(sko, EmpMoments):\n",
    "    Assimetry=EmpMoments[2,1]/((sko)**3)\n",
    "    Excess=(EmpMoments[3,1]/((sko)**4))-3\n",
    "    print(\"Коэффициент асимметрии: \", Assimetry, \" и эксцесса: \", Excess, \"\\n\")\n",
    "\n",
    "\n",
    "\n",
    "GetKoeffitients(SKO, EmpMoments)    \n",
    "    "
   ]
  },
  {
   "cell_type": "markdown",
   "metadata": {},
   "source": [
    "Получившиеся коэффициент ассиметрии отрицателен, что обозначает, что у графика распределения левый хвост будет больше правого,\n",
    "что можно увидеть на графике полигона.\n",
    "Получившиеся коэффициент эксцесса отрицателен, что обозначает, что пик у точки математического ожидания гладкий,\n",
    "что можно увидеть на графике полигона."
   ]
  },
  {
   "cell_type": "code",
   "execution_count": 17,
   "metadata": {},
   "outputs": [
    {
     "name": "stdout",
     "output_type": "stream",
     "text": [
      "Мода 91.47  медиана  55.54  и коэффициент вариации  55.24 % \n",
      "\n"
     ]
    }
   ],
   "source": [
    "#НОМЕР 11\n",
    "\n",
    "def ModeMedianVar(Idata5, h, data, sko):\n",
    "    k=0\n",
    "    max=0\n",
    "    for i in range(len(Idata5[:, 3])):\n",
    "        if(Idata5[i, 3]>max):\n",
    "            max=Idata5[i, 3]\n",
    "            k=i\n",
    "            \n",
    "    Nnext=0        \n",
    "    if(k==len(Idata5[:, 3])): #тк максимальный элемент крайний, то частоту след интервала зануляем\n",
    "        Nnext=0\n",
    "    \n",
    "    Mo=Idata5[k, 0] + h*( (Idata5[k, 3]-Idata5[k-1, 3]) / ( (Idata5[k, 3]-Idata5[k-1, 3]) + (Idata5[k, 3]-Nnext) ) ) \n",
    "    Mo=round(Mo, 2)\n",
    "    \n",
    "    k=0\n",
    "    med=(np.max(data)-np.min(data))/2\n",
    "    summP=0\n",
    "    summ=0\n",
    "    for i in range(len(Idata5[:, 0])):\n",
    "        if(summ<0.5 and (summ+Idata5[i, 4])>=0.5):\n",
    "            k=i\n",
    "        elif(summ<0.5):\n",
    "            summP+= Idata5[i, 4]\n",
    "        summ+=Idata5[i, 4]\n",
    "        \n",
    "    summP=round(summP, 4)\n",
    "            \n",
    "    \n",
    "    Me=Idata5[k, 0] + h*( (0.5 - summP )/Idata5[k, 4] )\n",
    "    Me=round(Me, 2)\n",
    "    \n",
    "    V=sko/abs( sum(Idata5[:, 2])/ len(Idata5[:, 2]) )\n",
    "    V=round(V*100, 2)\n",
    "    print(\"Мода\", Mo,\" медиана \", Me,\" и коэффициент вариации \", V, \"% \\n\")\n",
    "    \n",
    "ModeMedianVar(Idata5, hglobal, data, SKO)\n"
   ]
  },
  {
   "cell_type": "markdown",
   "metadata": {},
   "source": [
    "Мода - число в частичном интервале, показывающее максимум распределения.\n",
    "Медиана - число в частичном интервале, показывающее точку деления распределения на две равновероятностные половины.\n",
    "Коээфициент вариации - мера колеблемости признака относительно выборочной средней."
   ]
  },
  {
   "cell_type": "code",
   "execution_count": 18,
   "metadata": {},
   "outputs": [
    {
     "name": "stdout",
     "output_type": "stream",
     "text": [
      "Доверительный интервал для 95%: ( 50.30592243301868 62.15424240214615 ) \n",
      " Доверительный интервал для 99%: ( 48.38279207258117 64.07737276258366 ) \n",
      "\n",
      "Точность для 95%:  5.924159984563737 \n",
      " Точность для 99%:  7.847290345001245 \n",
      "\n"
     ]
    }
   ],
   "source": [
    "#НОМЕР 12\n",
    "\n",
    "\n",
    "def GetInterval12(sko, Idata5, data):\n",
    "    t95=1.9866\n",
    "    t99=2.6315\n",
    "    Xmid=sum(Idata5[:,2]*Idata5[:,3])/len(data)\n",
    "    left95=Xmid - ( (t95*sko)/np.sqrt(len(data)) )\n",
    "    right95=Xmid + ( (t95*sko)/np.sqrt(len(data)) )\n",
    "    left99=Xmid - ( (t99*sko)/np.sqrt(len(data)) )\n",
    "    right99=Xmid + ( (t99*sko)/np.sqrt(len(data)) )\n",
    "    \n",
    "    \n",
    "    print(\"Доверительный интервал для 95%: (\",left95, right95,\") \\n Доверительный интервал для 99%: (\", left99, right99,\") \\n\")\n",
    "    print(\"Точность для 95%: \",(t95*sko)/np.sqrt(len(data)),\"\\n\",\"Точность для 99%: \",(t99*sko)/np.sqrt(len(data)),\"\\n\")\n",
    "    return Xmid\n",
    "    \n",
    "Xmid=GetInterval12(SKO,Idata5, data)\n"
   ]
  },
  {
   "cell_type": "markdown",
   "metadata": {},
   "source": [
    "Можно сделать вывод, что для обоих построенных интервалов математическое ожидание попадает в них."
   ]
  },
  {
   "cell_type": "code",
   "execution_count": 19,
   "metadata": {},
   "outputs": [
    {
     "name": "stdout",
     "output_type": "stream",
     "text": [
      "Доверительный интервал для 95%: ( 24.28533927103565 32.92394051938991 ) \n",
      " Доверительный интервал для 99%: ( 22.569060877322887 34.64021891310268 )\n"
     ]
    }
   ],
   "source": [
    "#НОМЕР 13\n",
    "\n",
    "#т.к. точной таблицы значений q не было найдено, тогда при объеме выборки = 91, возьмем q(90, 0.95)=0.151 q(90, 0.99)=0.211\n",
    "#т.к.  q(90, 0.95)<1 q(90, 0.99)<1 то доверительный интервал будет иметь вид: S(1-q)<sigma<S(1+q)\n",
    "\n",
    "\n",
    "def GetInterval13(sko):\n",
    "    q95=0.151\n",
    "    q99=0.211\n",
    "    left95=sko*(1-q95)\n",
    "    right95=sko*(1+q95)\n",
    "    left99=sko*(1-q99)\n",
    "    right99=sko*(1+q99)\n",
    "    \n",
    "    print(\"Доверительный интервал для 95%: (\",left95, right95,\") \\n Доверительный интервал для 99%: (\", left99, right99,\")\")\n",
    "    \n",
    "GetInterval13(SKOcorrected)\n",
    "\n"
   ]
  },
  {
   "cell_type": "markdown",
   "metadata": {},
   "source": [
    "Можно сделать вывод, что для обоих построенных интервалов СКО попадает в них."
   ]
  },
  {
   "cell_type": "code",
   "execution_count": 20,
   "metadata": {},
   "outputs": [
    {
     "name": "stdout",
     "output_type": "stream",
     "text": [
      "Расчетная таблица \n",
      "      Xнач     Xкон     n         p         n'   (n-n')^2  (n-n')^2/n'    n^2  \\\n",
      "0   3.000   15.125   8.0  0.074233   6.755232   1.549447     0.229370   64.0   \n",
      "1  15.125   27.250   9.0  0.079930   7.273660   2.980251     0.409732   81.0   \n",
      "2  27.250   39.375  14.0  0.122592  11.155850   8.089188     0.725107  196.0   \n",
      "3  39.375   51.500  12.0  0.157214  14.306488   5.319887     0.371851  144.0   \n",
      "4  51.500   63.625   8.0  0.168581  15.340849  53.888070     3.512717   64.0   \n",
      "5  63.625   75.750  10.0  0.151151  13.754769  14.098290     1.024975  100.0   \n",
      "6  75.750   87.875  11.0  0.113319  10.311987   0.473362     0.045904  121.0   \n",
      "7  87.875  100.000  19.0  0.132980  12.101165  47.593931     3.933004  361.0   \n",
      "\n",
      "      n^2/n'  \n",
      "0   9.474138  \n",
      "1  11.136072  \n",
      "2  17.569257  \n",
      "3  10.065363  \n",
      "4   4.171868  \n",
      "5   7.270206  \n",
      "6  11.733917  \n",
      "7  29.831840   \n",
      " Суммы: \n",
      "\n",
      "ni 91.0 \n",
      "\n",
      "pi 1.0 \n",
      "\n",
      "n'i 91.0 \n",
      "\n",
      "(n-n')^2/n': 10.252660924880034 \n",
      "\n",
      "n^2/n' - n: 10.252660924880034 \n",
      "\n",
      "χ^2 наблюдаемое равно сумме (n-n')^2/n':  10.252660924880034 \n",
      "\n",
      "По таблице значений для χ^2 критическое(0.05, 5) = 11.07 \n",
      "\n",
      "Гипотеза о нормальности заданного распределения принята, т.к. χ^2 наблюдаемое < χ^2 критическое. \n"
     ]
    }
   ],
   "source": [
    "#НОМЕР 14\n",
    "\n",
    "def Pirson(Idata, sko, Xmid, data):\n",
    "    Table14=np.zeros((k, 9))\n",
    "    \n",
    "    for i in range(len(Idata[:, 0])):\n",
    "        Table14[i, 0]=Idata[i, 0] #Xнач\n",
    "        Table14[i, 1]=Idata[i, 1] #Xкон\n",
    "        Table14[i, 2]=Idata[i, 3] #n\n",
    "        \n",
    "        #print(sp.stats.norm.cdf(-1.4117))\n",
    "        #p\n",
    "        if(i==0):\n",
    "            Table14[i, 3]=sp.stats.norm.cdf( (Table14[i, 1]-Xmid)/sko )\n",
    "        elif(i==len(Idata[:, 0])-1):\n",
    "            Table14[i, 3]=1-sp.stats.norm.cdf( (Table14[i, 0]-Xmid)/sko )\n",
    "        else:\n",
    "            Table14[i, 3]=sp.stats.norm.cdf( (Table14[i, 1]-Xmid)/sko )-sp.stats.norm.cdf( (Table14[i, 0]-Xmid)/sko )\n",
    "        \n",
    "        Table14[i, 4]=Table14[i, 3]*len(data) #n'\n",
    "        Table14[i, 5]=(Idata[i, 3]-Table14[i, 4])**2 #(n-n')^2\n",
    "        Table14[i, 6]=Table14[i, 5]/Table14[i, 4]   #(n-n')^2/n'\n",
    "        Table14[i, 7]=Idata[i, 3]**2 #n^2\n",
    "        Table14[i, 8]=Table14[i, 7]/Table14[i, 4] #n^2/n'\n",
    "        \n",
    "    Table14Print=pd.DataFrame(Table14, columns=[\"Xнач\", \"Xкон\", \"n\", \"p\", \"n'\", \"(n-n')^2\", \"(n-n')^2/n'\", \"n^2\", \"n^2/n'\"])\n",
    "    print(\"Расчетная таблица \\n\", Table14Print, \"\\n Суммы: \\n\")\n",
    "    print(\"ni\", sum(Table14[:, 2]),\"\\n\")\n",
    "    print(\"pi\", round(sum(Table14[:, 3]), 2),\"\\n\")\n",
    "    print(\"n'i\", round(sum(Table14[:, 4]), 2),\"\\n\")\n",
    "    print(\"(n-n')^2/n':\", sum(Table14[:, 6]),\"\\n\")\n",
    "    print(\"n^2/n' - n:\", sum(Table14[:, 8] - Table14[:, 2]),\"\\n\")\n",
    "\n",
    "    XuGot=sum(Table14[:, 6])\n",
    "    print(\"χ^2 наблюдаемое равно сумме (n-n')^2/n': \", XuGot, \"\\n\")\n",
    "    df=len(Table14[:, 0])-3\n",
    "    alpha=0.05\n",
    "    XuCrit=11.070 \n",
    "    print(\"По таблице значений для χ^2 критическое(0.05, 5) =\", XuCrit, \"\\n\")\n",
    "    if(XuGot<XuCrit):\n",
    "        print(\"Гипотеза о нормальности заданного распределения принята, т.к. χ^2 наблюдаемое < χ^2 критическое. \")\n",
    "    else:\n",
    "        print(\"Гипотеза о нормальности заданного распределения отвергнута, т.к. χ^2 наблюдаемое < χ^2 критическое.\")\n",
    "\n",
    "    \n",
    "    \n",
    "    \n",
    "    \n",
    "    \n",
    "Pirson(Idata5, SKO, Xmid, data)\n"
   ]
  },
  {
   "cell_type": "markdown",
   "metadata": {},
   "source": []
  },
  {
   "cell_type": "markdown",
   "metadata": {},
   "source": [
    "## Выводы\n",
    "\n",
    "В ходе работы было осуществлено формирование репрезентативной выборки объема 91 из имеющейся генеральной совокупности доходности оборонных кампаний.\n",
    "Осуществлено последовательное преобразование полученной выборки в ранжированный, вариационный и интервальный ряды. Применительно к интервальному ряду были построены и отображены графически полигоны, гистограммы и эмпирические функции распределения для абсолютных и относительных частот. \n",
    "\n",
    "Для заданных выборочных данных вычислены с использованием метода моментов и условных вариант точечные статистические оценки математического ожидания, равной 56.230082417582416, дисперсии, равной 809.2339353640866, среднеквадратичного отклонения, равной 28.447037374111325, асимметрии, равной -0.08743028964720913, эксцесса, равной -1.3111158226246995, моды, равной 91.47 , медианы, равной 55.54 и коэффициента вариации исследуемой случайной величины, равному 55.24 %. \n",
    "\n",
    "Для заданной надёжности определены границы доверительных интервалов для математического ожидания и среднеквадратичного отклонения случайной величины, равным для 95%: ( 24.28533927103565 32.92394051938991 ) ( 24.28533927103565 32.92394051938991 )\n",
    " и для 99%: ( 22.569060877322887 34.64021891310268 ) ( 22.569060877322887 34.64021891310268 ) соответственно . \n",
    " \n",
    "Была проверена гипотеза о нормальном распределении исследуемой случайной величины с помощью критерия Пирсона 𝜒2. Гипотеза о нормальности заданного распределения была принята, т.к. χ^2 наблюдаемое < χ^2 критическое. \n"
   ]
  },
  {
   "cell_type": "code",
   "execution_count": null,
   "metadata": {},
   "outputs": [],
   "source": []
  }
 ],
 "metadata": {
  "kernelspec": {
   "display_name": "Python 3 (ipykernel)",
   "language": "python",
   "name": "python3"
  },
  "language_info": {
   "codemirror_mode": {
    "name": "ipython",
    "version": 3
   },
   "file_extension": ".py",
   "mimetype": "text/x-python",
   "name": "python",
   "nbconvert_exporter": "python",
   "pygments_lexer": "ipython3",
   "version": "3.10.5"
  }
 },
 "nbformat": 4,
 "nbformat_minor": 4
}
