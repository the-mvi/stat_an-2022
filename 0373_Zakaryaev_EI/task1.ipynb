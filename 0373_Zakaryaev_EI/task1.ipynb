{
  "cells": [
    {
      "cell_type": "markdown",
      "metadata": {
        "id": "OtX8hKQwkenP"
      },
      "source": [
        "# Практическая работа №1: Формирование и первичная обработка выборки. Нахождение и точечных и интервальных оценок. Проверка статистических гипотез.\n",
        "Выполнил студент гр. 0373 Закарьяев Эльдар. Вариант №9"
      ]
    },
    {
      "cell_type": "markdown",
      "metadata": {
        "id": "7rD1ZG3wkenY"
      },
      "source": [
        "## Цель работы\n",
        "\n",
        "Ознакомление с основными правилами формирования выборки и подготовки выборочных данных к статистическому анализу. Получение практических навыков нахождения точечных статистических оценок параметров распределения, а также вычисления интервальных статистических оценок параметров распределения выборочных данных и проверки\n",
        "«справедливости» статистических гипотез.\n"
      ]
    },
    {
      "cell_type": "markdown",
      "metadata": {
        "id": "oDQePvq2kenZ"
      },
      "source": [
        "## Основные теоретические положения\n",
        "\n",
        "Генеральная совокупность - совокупность объектов, из которых производится выборка.\n",
        "\n",
        "Выборка - совокупность случайно отобранных объектов.\n",
        "\n",
        "Повторная выборка - выборка, при которой отобранный объект возвращается в генеральную совокупность.\n",
        "\n",
        "Бесповторная выборка - выборка, при которой отобранный объект не возвращается в генеральную совокупность.\n",
        "\n",
        "Способы образования выборки:\n",
        "- Простая - случайный отбор из генеральной совокупности\n",
        "- Механическая - элементы отбираются с определенным интервалом\n",
        "- Типическая - выбор из типической части генеральной совокупности\n",
        "- Серийная - объекты выбираются не по одному, а сериями\n",
        "\n",
        "Вариационный ряд представляет собой таблицу:\n",
        "\n",
        "| $x_i$   | $x_1$   | ... | $x_k$   | $\\Sigma$ |\n",
        "|---------|---------|-----|---------|----------|\n",
        "| $n_i$   | $n_1$   | ... | $n_k$   | $n$      |\n",
        "| $p^*_i$ | $p^*_1$ | ... | $p^*_k$ | $1$      |\n",
        "\n",
        "Где $n$ - объем выборки, $n_i$ - абсолютные частоты, $p^*_i$ - относительные частоты, $x_i$ - варианты\n",
        "\n",
        "Интервальный вариационный ряд:\n",
        "\n",
        "| $(x_{i-1};x_i]$ | $\\widetilde{x}_i$ | $n_i$ | $p^*_i$ |\n",
        "|-----------------|-------------------|-------|---------|\n",
        "| $(x_0;x_1]$     | $\\widetilde{x}_1$ | $n_1$ | $p^*_1$ |\n",
        "| $(x_1;x_2]$     | $\\widetilde{x}_2$ | $n_2$ | $p^*_2$ |\n",
        "| ...             | ...               | ...   | ...     |\n",
        "\n",
        "Где $\\widetilde{x}_i$ - середина интервала\n",
        "\n",
        "Количество интервалов $k$ высчитывается по формуле Стерджесса: $k=1+lbn$\n",
        "\n",
        "Длина интервала: $h=R/k$, где $R$ - размах выборки $R=x_{max}-x_{min}$\n",
        "\n",
        "Полигон частот - ломаная, соединяющая точки $(x_1, n_1), (x_2, n_2), (x_3, n_3), ...$\n",
        "\n",
        "Полигон относительных частот - ломаная, соединяющая точки $(x_1, p^*_1), (x_2, p^*_2), (x_3, p^*_3), ...$\n",
        "\n",
        "Гистограмма частот - гистограмма, где в основаниях столбцов стоят частичные интервалы, а их высоты - плотности абсолютных частот $f_i=n_i/h$\n",
        "\n",
        "Гистограмма относительных частот - гистограмма, где в основаниях столбцов стоят частичные интервалы, а их высоты - плотности относительных частот $f_i=p^*_i/h$\n",
        "\n",
        "Эмпирическая функция распределения $F^*(x)$, задающая для каждого значения $x$ относительную частоту события $\\{X>x\\}: F^*(x)=n_x/n$, $n_x$ - число выборочных значений $X$ меньших $x$\n",
        "\n",
        "$\n",
        "F^*(x) = \n",
        "\\begin{cases}\n",
        "0, x_1 < x \\leq x_2 \\\\\n",
        "p^*_1, x_2 < x \\leq x_3 \\\\\n",
        "p^*_1 + p^*_2, x_3 < x \\leq x_4 \\\\\n",
        "... \\\\\n",
        "1, x > x_1 \\\\\n",
        "\\end{cases}\n",
        "$\n",
        "\n",
        "Выборочное среднее $\\overline{x}_в = \\frac{1}{n}\\sum_{i=1}^nn_ix_i$\n",
        "\n",
        "Выборочная дисперсия $\\sigma^2_в = \\frac{1}{n}\\sum_{i=1}^nn_i(x_i - \\overline{x}_в)^2$\n",
        "\n",
        "Мода - варианта с наибольшей частотой\n",
        "\n",
        "Медиана - значение, приходящееся на середину упорядоченнного ряда\n",
        "\n",
        "Коэффициент вариации $v^*=\\frac{\\sigma_в}{|\\overline{x}_в|}⋅100\\%$\n",
        "\n",
        "Условные варианты $u_i=\\frac{x_i-C}{h}$, где $C$ -ложный нуль, $h$ - шаг\n",
        "\n",
        "Обычный эмпирический момент порядка $r$: $v'_r=\\frac{1}{n}\\sum^k_{i=1}n_i(x_i-C)^r$\n",
        "\n",
        "Центральный эмпирический момент порядка $r$ - обычный момент порядка $r$ при $C=\\overline{x}_в$: $\\mu^*_r=\\frac{1}{n}\\sum^k_{i=1}n_i(x_i-\\overline{x}_в)^r$\n",
        "\n",
        "Условный эмпирический момент порядка $r$: $v^*_r=\\frac{1}{n}\\sum^k_{i=1}n_iu_i^r$\n",
        "\n",
        "Выборочное среднее можно выразить через условные моменты: $\\overline{x}_в=v^*_1h+C$\n",
        "\n",
        "Центральные моменты можно выразить через условные:\n",
        "\n",
        "$\\mu^*_1=0$\n",
        "\n",
        "$\\mu^*_2=(v^*_2-(v^*_1)^2)h^2$\n",
        "\n",
        "$\\mu^*_3=(v^*_3-3v^*_2v^*_1+2(v^*_1)^3)h^3$\n",
        "\n",
        "$\\mu^*_4=(v^*_3-4v^*_3v^*_1+6v^*_2(v^*_1)^2-3(v^*_1)^4)h^4$\n",
        "\n",
        "Выборочный коэффициент ассиметрии $a^*_s=\\frac{μ^*_3}{\\sigma^3_в}$\n",
        "\n",
        "Выборочный коэффициент эксцесса $\\varepsilon^*_k=\\frac{μ^*_4}{\\sigma^4_в}-3$\n",
        "\n",
        "У нормального распределения $a^*_s=0$ и $\\varepsilon^*_k=0$\n",
        "\n",
        "Оценкой параметра $\\Theta$ называется приближенное значение $\\Theta^*$, которое зависит от элементов выборки\n",
        "\n",
        "Интервальное называют оценку, которая определяется 2 числами - началом и концом интервала\n",
        "\n",
        "Точность оценки $\\delta$: $|\\Theta-\\Theta^*|<\\delta$\n",
        "\n",
        "Надежность (доверительная вероятность) -вероятность $\\gamma$, с которой осуществляется неравенство $|\\Theta-\\Theta^*|<\\delta$\n",
        "\n",
        "$(\\Theta^*-\\delta; \\Theta^*+\\delta)$ - доверительный интервал, который покрывает неизвестный параметр $\\Theta$ с заданной надежностью $\\gamma$\n",
        "\n",
        "Доверительный интервал для оценки математического ожидания генеральной совокупности распределенной нормально при известном генеральном СКО: $(\\overline{x}_в-\\frac{t\\sigma_г}{\\sqrt{n}}; \\overline{x}_в+\\frac{t\\sigma_г}{\\sqrt{n}})$, где $\\Phi(t)=\\frac{\\gamma}{2}$, $\\Phi(t)$ - функция Лапласа\n",
        "\n",
        "Доверительный интервал для оценки математического ожидания генеральной совокупности распределенной нормально при неизвестном генеральном СКО:$(\\overline{x}_в-\\frac{t_\\gamma\\sigma_г}{\\sqrt{n}}; \\overline{x}_в+\\frac{t_\\gamma\\sigma_г}{\\sqrt{n}})$, $t_\\gamma = t(\\gamma, n)$ - табулированно таблицей Стьюдента\n",
        "\n",
        "Доверительный интервал для оценки математического ожидания генеральной совокупности распределенной нормально при неизвестном генеральном СКО и известном объеме генеральной совокупности $N$:$(\\overline{x}_в-\\frac{t_\\gamma\\sigma_г}{\\sqrt{n}}\\sqrt{1-\\frac{n}{N}}; \\overline{x}_в+\\frac{t_\\gamma\\sigma_г}{\\sqrt{n}}\\sqrt{1-\\frac{n}{N}})$, $t_\\gamma = t(\\gamma, n)$ - табулированно таблицей Стьюдента\n",
        "\n",
        "Доверительный интервал, покрывающий $\\sigma_г$ с заданной надежностью $\\gamma$:\n",
        "\n",
        "$\\begin{cases}\n",
        "s(1-q)<\\sigma_г<s(1+q), q < 1 \\\\\n",
        "0<\\sigma_г<s(1+q), q > 1\n",
        "\\end{cases}$\n",
        ", где $q=q(\\gamma,n)$ - табулированно\n",
        "\n",
        "Алгоритм проверки статистической гипотезы о теоретическом законе распределения параметра критерий $\\chi^2$ Пирсона:\n",
        "1. Выбираем закон распределения\n",
        "2. Вычисляем точечные вероятности $p_i=P(x_{i-1}<x<x_i)$\n",
        "3. Вычисляем выравнивающие частоты $n'_i=n_i⋅p_i$\n",
        "4. Находим статистику $\\chi^2_{набл}=\\sum^k_{i=1}\\frac{(n_i-n'_i)^2}{n'_i}$\n",
        "5. Определяем число степеней свободы $df=k-r-1$, $k$ - число частичных интервалов выборки,  $r$ - число параметров дифференцируемой функции распределения\n",
        "6. Находим табулированное значение $\\chi^2_{крит}=\\chi^2(\\alpha, df)$, где $\\alpha$ - заданный уровень значимости. $P(\\Theta∈D)=1-\\alpha$. $\\alpha$ - вероятность ошибки первого рода, т.е. вероятность отвержения верной нулевой гипотезы\n",
        "7. Если $\\chi^2_{набл}<\\chi^2_{крит}$, то гипотезу отвергаем, иначе принимаем"
      ]
    },
    {
      "cell_type": "markdown",
      "metadata": {
        "id": "PWQnL3Hikenb"
      },
      "source": [
        "## Постановка задачи\n",
        "\n",
        "Осуществить формирование репрезентативной выборки заданного объема из имеющейся генеральной совокупности экспериментальных данных.\n",
        "Осуществить последовательное преобразование полученной выборки в\n",
        "ранжированный, вариационный и интервальный ряды. Применительно\n",
        "к интервальному ряду построить и отобразить графически полигон, гистограмму и эмпирическую функцию распределения для абсолютных и\n",
        "относительных частот. Для заданных выборочных данных вычислить с\n",
        "использованием метода моментов и условных вариант точечные статистические оценки математического ожидания, дисперсии, среднеквадратичного отклонения, асимметрии, эксцесса, моды, медианы и коэффициента вариации исследуемой случайной величины. Для заданной надёжности определить границы доверительных интервалов для математического ожидания и среднеквадратичного отклонения случайной величины. Проверить гипотезу о нормальном распределении исследуемой\n",
        "случайной величины с помощью критерия Пирсона $χ^2$. Полученные результаты содержательно проинтерпретировать.\n"
      ]
    },
    {
      "cell_type": "markdown",
      "metadata": {
        "id": "AZ7-DgHukenc"
      },
      "source": [
        "## Выполнение работы"
      ]
    },
    {
      "cell_type": "code",
      "source": [
        "import pandas as pd\n",
        "import numpy as np\n",
        "import matplotlib.pyplot as plt\n",
        "import scipy.stats"
      ],
      "metadata": {
        "id": "M3hPcomLm5F_"
      },
      "execution_count": 4,
      "outputs": []
    },
    {
      "cell_type": "markdown",
      "source": [
        "###Задание 1"
      ],
      "metadata": {
        "id": "oxrbbYgRncDl"
      }
    },
    {
      "cell_type": "markdown",
      "source": [
        "Простым способом была сформирована бесповторная выборка объема 109 элементов. Каждая элемент имеет по 2 параметра: \"рейтинг\" и \"кассовые сборы\".\n",
        "\n",
        "Из двух параметров \"рейтинг\" и \"кассовые сборы\" для рассмотрения в практической работе выберем \"рейтинг\""
      ],
      "metadata": {
        "id": "MCgk3QT_awc-"
      }
    },
    {
      "cell_type": "code",
      "source": [
        "sample = pd.read_csv(\"/moviesSample.csv\")\n",
        "del(sample['gross_earn'])\n",
        "X = 'rating'\n",
        "N = len(sample)\n",
        "sample"
      ],
      "metadata": {
        "colab": {
          "base_uri": "https://localhost:8080/",
          "height": 424
        },
        "id": "r17ZxJcfnccu",
        "outputId": "14fbff5d-2589-444c-d38a-69cb42f0d504"
      },
      "execution_count": 5,
      "outputs": [
        {
          "output_type": "execute_result",
          "data": {
            "text/plain": [
              "     rating\n",
              "0       9.0\n",
              "1       7.8\n",
              "2       7.2\n",
              "3       7.2\n",
              "4       8.4\n",
              "..      ...\n",
              "104     7.5\n",
              "105     7.4\n",
              "106     5.1\n",
              "107     7.0\n",
              "108     7.3\n",
              "\n",
              "[109 rows x 1 columns]"
            ],
            "text/html": [
              "\n",
              "  <div id=\"df-fe13e052-033d-4df8-9a24-26b8e99c2612\">\n",
              "    <div class=\"colab-df-container\">\n",
              "      <div>\n",
              "<style scoped>\n",
              "    .dataframe tbody tr th:only-of-type {\n",
              "        vertical-align: middle;\n",
              "    }\n",
              "\n",
              "    .dataframe tbody tr th {\n",
              "        vertical-align: top;\n",
              "    }\n",
              "\n",
              "    .dataframe thead th {\n",
              "        text-align: right;\n",
              "    }\n",
              "</style>\n",
              "<table border=\"1\" class=\"dataframe\">\n",
              "  <thead>\n",
              "    <tr style=\"text-align: right;\">\n",
              "      <th></th>\n",
              "      <th>rating</th>\n",
              "    </tr>\n",
              "  </thead>\n",
              "  <tbody>\n",
              "    <tr>\n",
              "      <th>0</th>\n",
              "      <td>9.0</td>\n",
              "    </tr>\n",
              "    <tr>\n",
              "      <th>1</th>\n",
              "      <td>7.8</td>\n",
              "    </tr>\n",
              "    <tr>\n",
              "      <th>2</th>\n",
              "      <td>7.2</td>\n",
              "    </tr>\n",
              "    <tr>\n",
              "      <th>3</th>\n",
              "      <td>7.2</td>\n",
              "    </tr>\n",
              "    <tr>\n",
              "      <th>4</th>\n",
              "      <td>8.4</td>\n",
              "    </tr>\n",
              "    <tr>\n",
              "      <th>...</th>\n",
              "      <td>...</td>\n",
              "    </tr>\n",
              "    <tr>\n",
              "      <th>104</th>\n",
              "      <td>7.5</td>\n",
              "    </tr>\n",
              "    <tr>\n",
              "      <th>105</th>\n",
              "      <td>7.4</td>\n",
              "    </tr>\n",
              "    <tr>\n",
              "      <th>106</th>\n",
              "      <td>5.1</td>\n",
              "    </tr>\n",
              "    <tr>\n",
              "      <th>107</th>\n",
              "      <td>7.0</td>\n",
              "    </tr>\n",
              "    <tr>\n",
              "      <th>108</th>\n",
              "      <td>7.3</td>\n",
              "    </tr>\n",
              "  </tbody>\n",
              "</table>\n",
              "<p>109 rows × 1 columns</p>\n",
              "</div>\n",
              "      <button class=\"colab-df-convert\" onclick=\"convertToInteractive('df-fe13e052-033d-4df8-9a24-26b8e99c2612')\"\n",
              "              title=\"Convert this dataframe to an interactive table.\"\n",
              "              style=\"display:none;\">\n",
              "        \n",
              "  <svg xmlns=\"http://www.w3.org/2000/svg\" height=\"24px\"viewBox=\"0 0 24 24\"\n",
              "       width=\"24px\">\n",
              "    <path d=\"M0 0h24v24H0V0z\" fill=\"none\"/>\n",
              "    <path d=\"M18.56 5.44l.94 2.06.94-2.06 2.06-.94-2.06-.94-.94-2.06-.94 2.06-2.06.94zm-11 1L8.5 8.5l.94-2.06 2.06-.94-2.06-.94L8.5 2.5l-.94 2.06-2.06.94zm10 10l.94 2.06.94-2.06 2.06-.94-2.06-.94-.94-2.06-.94 2.06-2.06.94z\"/><path d=\"M17.41 7.96l-1.37-1.37c-.4-.4-.92-.59-1.43-.59-.52 0-1.04.2-1.43.59L10.3 9.45l-7.72 7.72c-.78.78-.78 2.05 0 2.83L4 21.41c.39.39.9.59 1.41.59.51 0 1.02-.2 1.41-.59l7.78-7.78 2.81-2.81c.8-.78.8-2.07 0-2.86zM5.41 20L4 18.59l7.72-7.72 1.47 1.35L5.41 20z\"/>\n",
              "  </svg>\n",
              "      </button>\n",
              "      \n",
              "  <style>\n",
              "    .colab-df-container {\n",
              "      display:flex;\n",
              "      flex-wrap:wrap;\n",
              "      gap: 12px;\n",
              "    }\n",
              "\n",
              "    .colab-df-convert {\n",
              "      background-color: #E8F0FE;\n",
              "      border: none;\n",
              "      border-radius: 50%;\n",
              "      cursor: pointer;\n",
              "      display: none;\n",
              "      fill: #1967D2;\n",
              "      height: 32px;\n",
              "      padding: 0 0 0 0;\n",
              "      width: 32px;\n",
              "    }\n",
              "\n",
              "    .colab-df-convert:hover {\n",
              "      background-color: #E2EBFA;\n",
              "      box-shadow: 0px 1px 2px rgba(60, 64, 67, 0.3), 0px 1px 3px 1px rgba(60, 64, 67, 0.15);\n",
              "      fill: #174EA6;\n",
              "    }\n",
              "\n",
              "    [theme=dark] .colab-df-convert {\n",
              "      background-color: #3B4455;\n",
              "      fill: #D2E3FC;\n",
              "    }\n",
              "\n",
              "    [theme=dark] .colab-df-convert:hover {\n",
              "      background-color: #434B5C;\n",
              "      box-shadow: 0px 1px 3px 1px rgba(0, 0, 0, 0.15);\n",
              "      filter: drop-shadow(0px 1px 2px rgba(0, 0, 0, 0.3));\n",
              "      fill: #FFFFFF;\n",
              "    }\n",
              "  </style>\n",
              "\n",
              "      <script>\n",
              "        const buttonEl =\n",
              "          document.querySelector('#df-fe13e052-033d-4df8-9a24-26b8e99c2612 button.colab-df-convert');\n",
              "        buttonEl.style.display =\n",
              "          google.colab.kernel.accessAllowed ? 'block' : 'none';\n",
              "\n",
              "        async function convertToInteractive(key) {\n",
              "          const element = document.querySelector('#df-fe13e052-033d-4df8-9a24-26b8e99c2612');\n",
              "          const dataTable =\n",
              "            await google.colab.kernel.invokeFunction('convertToInteractive',\n",
              "                                                     [key], {});\n",
              "          if (!dataTable) return;\n",
              "\n",
              "          const docLinkHtml = 'Like what you see? Visit the ' +\n",
              "            '<a target=\"_blank\" href=https://colab.research.google.com/notebooks/data_table.ipynb>data table notebook</a>'\n",
              "            + ' to learn more about interactive tables.';\n",
              "          element.innerHTML = '';\n",
              "          dataTable['output_type'] = 'display_data';\n",
              "          await google.colab.output.renderOutput(dataTable, element);\n",
              "          const docLink = document.createElement('div');\n",
              "          docLink.innerHTML = docLinkHtml;\n",
              "          element.appendChild(docLink);\n",
              "        }\n",
              "      </script>\n",
              "    </div>\n",
              "  </div>\n",
              "  "
            ]
          },
          "metadata": {},
          "execution_count": 5
        }
      ]
    },
    {
      "cell_type": "markdown",
      "source": [
        "По выборке видно, что генеральная совокупность является дискретной. А сама выборка неранжированная."
      ],
      "metadata": {
        "id": "rAFPxjQGWlS2"
      }
    },
    {
      "cell_type": "markdown",
      "source": [
        "###Задание 2"
      ],
      "metadata": {
        "id": "uvmr5cJqrp3Z"
      }
    },
    {
      "cell_type": "markdown",
      "source": [
        "####Преобразование выборки в ранжированный ряд"
      ],
      "metadata": {
        "id": "d5hYBGozZnyW"
      }
    },
    {
      "cell_type": "code",
      "source": [
        "sample = sample.sort_values(X)\n",
        "sample = sample.reset_index()\n",
        "del(sample['index'])\n",
        "sample"
      ],
      "metadata": {
        "colab": {
          "base_uri": "https://localhost:8080/",
          "height": 424
        },
        "id": "H1v8skd-rybl",
        "outputId": "c76ead59-2a19-402a-b751-5614b934727c"
      },
      "execution_count": 6,
      "outputs": [
        {
          "output_type": "execute_result",
          "data": {
            "text/plain": [
              "     rating\n",
              "0       3.4\n",
              "1       3.8\n",
              "2       4.2\n",
              "3       4.3\n",
              "4       4.8\n",
              "..      ...\n",
              "104     8.0\n",
              "105     8.4\n",
              "106     8.5\n",
              "107     9.0\n",
              "108     9.0\n",
              "\n",
              "[109 rows x 1 columns]"
            ],
            "text/html": [
              "\n",
              "  <div id=\"df-d650a7e1-5574-4814-a1b3-379ca5e31e6b\">\n",
              "    <div class=\"colab-df-container\">\n",
              "      <div>\n",
              "<style scoped>\n",
              "    .dataframe tbody tr th:only-of-type {\n",
              "        vertical-align: middle;\n",
              "    }\n",
              "\n",
              "    .dataframe tbody tr th {\n",
              "        vertical-align: top;\n",
              "    }\n",
              "\n",
              "    .dataframe thead th {\n",
              "        text-align: right;\n",
              "    }\n",
              "</style>\n",
              "<table border=\"1\" class=\"dataframe\">\n",
              "  <thead>\n",
              "    <tr style=\"text-align: right;\">\n",
              "      <th></th>\n",
              "      <th>rating</th>\n",
              "    </tr>\n",
              "  </thead>\n",
              "  <tbody>\n",
              "    <tr>\n",
              "      <th>0</th>\n",
              "      <td>3.4</td>\n",
              "    </tr>\n",
              "    <tr>\n",
              "      <th>1</th>\n",
              "      <td>3.8</td>\n",
              "    </tr>\n",
              "    <tr>\n",
              "      <th>2</th>\n",
              "      <td>4.2</td>\n",
              "    </tr>\n",
              "    <tr>\n",
              "      <th>3</th>\n",
              "      <td>4.3</td>\n",
              "    </tr>\n",
              "    <tr>\n",
              "      <th>4</th>\n",
              "      <td>4.8</td>\n",
              "    </tr>\n",
              "    <tr>\n",
              "      <th>...</th>\n",
              "      <td>...</td>\n",
              "    </tr>\n",
              "    <tr>\n",
              "      <th>104</th>\n",
              "      <td>8.0</td>\n",
              "    </tr>\n",
              "    <tr>\n",
              "      <th>105</th>\n",
              "      <td>8.4</td>\n",
              "    </tr>\n",
              "    <tr>\n",
              "      <th>106</th>\n",
              "      <td>8.5</td>\n",
              "    </tr>\n",
              "    <tr>\n",
              "      <th>107</th>\n",
              "      <td>9.0</td>\n",
              "    </tr>\n",
              "    <tr>\n",
              "      <th>108</th>\n",
              "      <td>9.0</td>\n",
              "    </tr>\n",
              "  </tbody>\n",
              "</table>\n",
              "<p>109 rows × 1 columns</p>\n",
              "</div>\n",
              "      <button class=\"colab-df-convert\" onclick=\"convertToInteractive('df-d650a7e1-5574-4814-a1b3-379ca5e31e6b')\"\n",
              "              title=\"Convert this dataframe to an interactive table.\"\n",
              "              style=\"display:none;\">\n",
              "        \n",
              "  <svg xmlns=\"http://www.w3.org/2000/svg\" height=\"24px\"viewBox=\"0 0 24 24\"\n",
              "       width=\"24px\">\n",
              "    <path d=\"M0 0h24v24H0V0z\" fill=\"none\"/>\n",
              "    <path d=\"M18.56 5.44l.94 2.06.94-2.06 2.06-.94-2.06-.94-.94-2.06-.94 2.06-2.06.94zm-11 1L8.5 8.5l.94-2.06 2.06-.94-2.06-.94L8.5 2.5l-.94 2.06-2.06.94zm10 10l.94 2.06.94-2.06 2.06-.94-2.06-.94-.94-2.06-.94 2.06-2.06.94z\"/><path d=\"M17.41 7.96l-1.37-1.37c-.4-.4-.92-.59-1.43-.59-.52 0-1.04.2-1.43.59L10.3 9.45l-7.72 7.72c-.78.78-.78 2.05 0 2.83L4 21.41c.39.39.9.59 1.41.59.51 0 1.02-.2 1.41-.59l7.78-7.78 2.81-2.81c.8-.78.8-2.07 0-2.86zM5.41 20L4 18.59l7.72-7.72 1.47 1.35L5.41 20z\"/>\n",
              "  </svg>\n",
              "      </button>\n",
              "      \n",
              "  <style>\n",
              "    .colab-df-container {\n",
              "      display:flex;\n",
              "      flex-wrap:wrap;\n",
              "      gap: 12px;\n",
              "    }\n",
              "\n",
              "    .colab-df-convert {\n",
              "      background-color: #E8F0FE;\n",
              "      border: none;\n",
              "      border-radius: 50%;\n",
              "      cursor: pointer;\n",
              "      display: none;\n",
              "      fill: #1967D2;\n",
              "      height: 32px;\n",
              "      padding: 0 0 0 0;\n",
              "      width: 32px;\n",
              "    }\n",
              "\n",
              "    .colab-df-convert:hover {\n",
              "      background-color: #E2EBFA;\n",
              "      box-shadow: 0px 1px 2px rgba(60, 64, 67, 0.3), 0px 1px 3px 1px rgba(60, 64, 67, 0.15);\n",
              "      fill: #174EA6;\n",
              "    }\n",
              "\n",
              "    [theme=dark] .colab-df-convert {\n",
              "      background-color: #3B4455;\n",
              "      fill: #D2E3FC;\n",
              "    }\n",
              "\n",
              "    [theme=dark] .colab-df-convert:hover {\n",
              "      background-color: #434B5C;\n",
              "      box-shadow: 0px 1px 3px 1px rgba(0, 0, 0, 0.15);\n",
              "      filter: drop-shadow(0px 1px 2px rgba(0, 0, 0, 0.3));\n",
              "      fill: #FFFFFF;\n",
              "    }\n",
              "  </style>\n",
              "\n",
              "      <script>\n",
              "        const buttonEl =\n",
              "          document.querySelector('#df-d650a7e1-5574-4814-a1b3-379ca5e31e6b button.colab-df-convert');\n",
              "        buttonEl.style.display =\n",
              "          google.colab.kernel.accessAllowed ? 'block' : 'none';\n",
              "\n",
              "        async function convertToInteractive(key) {\n",
              "          const element = document.querySelector('#df-d650a7e1-5574-4814-a1b3-379ca5e31e6b');\n",
              "          const dataTable =\n",
              "            await google.colab.kernel.invokeFunction('convertToInteractive',\n",
              "                                                     [key], {});\n",
              "          if (!dataTable) return;\n",
              "\n",
              "          const docLinkHtml = 'Like what you see? Visit the ' +\n",
              "            '<a target=\"_blank\" href=https://colab.research.google.com/notebooks/data_table.ipynb>data table notebook</a>'\n",
              "            + ' to learn more about interactive tables.';\n",
              "          element.innerHTML = '';\n",
              "          dataTable['output_type'] = 'display_data';\n",
              "          await google.colab.output.renderOutput(dataTable, element);\n",
              "          const docLink = document.createElement('div');\n",
              "          docLink.innerHTML = docLinkHtml;\n",
              "          element.appendChild(docLink);\n",
              "        }\n",
              "      </script>\n",
              "    </div>\n",
              "  </div>\n",
              "  "
            ]
          },
          "metadata": {},
          "execution_count": 6
        }
      ]
    },
    {
      "cell_type": "markdown",
      "source": [
        "По ранжированному ряду видно, что в выборке минимальное значение параметра $ = 3,4$, а максимальное $ = 9,0$"
      ],
      "metadata": {
        "id": "ON6pd_5gXlfw"
      }
    },
    {
      "cell_type": "markdown",
      "source": [
        "####Преборазование выборку в вариационный ряд"
      ],
      "metadata": {
        "id": "uG04I-ppssN0"
      }
    },
    {
      "cell_type": "code",
      "source": [
        "varSeries = pd.DataFrame(columns=['var', 'absFreq', 'relFreq'])\n",
        "varSeries"
      ],
      "metadata": {
        "colab": {
          "base_uri": "https://localhost:8080/",
          "height": 49
        },
        "id": "HVPwZlew4LYr",
        "outputId": "c916f2c6-6e30-4b37-e0e8-8ac8fcf3431a"
      },
      "execution_count": 7,
      "outputs": [
        {
          "output_type": "execute_result",
          "data": {
            "text/plain": [
              "Empty DataFrame\n",
              "Columns: [var, absFreq, relFreq]\n",
              "Index: []"
            ],
            "text/html": [
              "\n",
              "  <div id=\"df-d0dc9882-1dbc-421c-b4a9-db1fb2f16e4d\">\n",
              "    <div class=\"colab-df-container\">\n",
              "      <div>\n",
              "<style scoped>\n",
              "    .dataframe tbody tr th:only-of-type {\n",
              "        vertical-align: middle;\n",
              "    }\n",
              "\n",
              "    .dataframe tbody tr th {\n",
              "        vertical-align: top;\n",
              "    }\n",
              "\n",
              "    .dataframe thead th {\n",
              "        text-align: right;\n",
              "    }\n",
              "</style>\n",
              "<table border=\"1\" class=\"dataframe\">\n",
              "  <thead>\n",
              "    <tr style=\"text-align: right;\">\n",
              "      <th></th>\n",
              "      <th>var</th>\n",
              "      <th>absFreq</th>\n",
              "      <th>relFreq</th>\n",
              "    </tr>\n",
              "  </thead>\n",
              "  <tbody>\n",
              "  </tbody>\n",
              "</table>\n",
              "</div>\n",
              "      <button class=\"colab-df-convert\" onclick=\"convertToInteractive('df-d0dc9882-1dbc-421c-b4a9-db1fb2f16e4d')\"\n",
              "              title=\"Convert this dataframe to an interactive table.\"\n",
              "              style=\"display:none;\">\n",
              "        \n",
              "  <svg xmlns=\"http://www.w3.org/2000/svg\" height=\"24px\"viewBox=\"0 0 24 24\"\n",
              "       width=\"24px\">\n",
              "    <path d=\"M0 0h24v24H0V0z\" fill=\"none\"/>\n",
              "    <path d=\"M18.56 5.44l.94 2.06.94-2.06 2.06-.94-2.06-.94-.94-2.06-.94 2.06-2.06.94zm-11 1L8.5 8.5l.94-2.06 2.06-.94-2.06-.94L8.5 2.5l-.94 2.06-2.06.94zm10 10l.94 2.06.94-2.06 2.06-.94-2.06-.94-.94-2.06-.94 2.06-2.06.94z\"/><path d=\"M17.41 7.96l-1.37-1.37c-.4-.4-.92-.59-1.43-.59-.52 0-1.04.2-1.43.59L10.3 9.45l-7.72 7.72c-.78.78-.78 2.05 0 2.83L4 21.41c.39.39.9.59 1.41.59.51 0 1.02-.2 1.41-.59l7.78-7.78 2.81-2.81c.8-.78.8-2.07 0-2.86zM5.41 20L4 18.59l7.72-7.72 1.47 1.35L5.41 20z\"/>\n",
              "  </svg>\n",
              "      </button>\n",
              "      \n",
              "  <style>\n",
              "    .colab-df-container {\n",
              "      display:flex;\n",
              "      flex-wrap:wrap;\n",
              "      gap: 12px;\n",
              "    }\n",
              "\n",
              "    .colab-df-convert {\n",
              "      background-color: #E8F0FE;\n",
              "      border: none;\n",
              "      border-radius: 50%;\n",
              "      cursor: pointer;\n",
              "      display: none;\n",
              "      fill: #1967D2;\n",
              "      height: 32px;\n",
              "      padding: 0 0 0 0;\n",
              "      width: 32px;\n",
              "    }\n",
              "\n",
              "    .colab-df-convert:hover {\n",
              "      background-color: #E2EBFA;\n",
              "      box-shadow: 0px 1px 2px rgba(60, 64, 67, 0.3), 0px 1px 3px 1px rgba(60, 64, 67, 0.15);\n",
              "      fill: #174EA6;\n",
              "    }\n",
              "\n",
              "    [theme=dark] .colab-df-convert {\n",
              "      background-color: #3B4455;\n",
              "      fill: #D2E3FC;\n",
              "    }\n",
              "\n",
              "    [theme=dark] .colab-df-convert:hover {\n",
              "      background-color: #434B5C;\n",
              "      box-shadow: 0px 1px 3px 1px rgba(0, 0, 0, 0.15);\n",
              "      filter: drop-shadow(0px 1px 2px rgba(0, 0, 0, 0.3));\n",
              "      fill: #FFFFFF;\n",
              "    }\n",
              "  </style>\n",
              "\n",
              "      <script>\n",
              "        const buttonEl =\n",
              "          document.querySelector('#df-d0dc9882-1dbc-421c-b4a9-db1fb2f16e4d button.colab-df-convert');\n",
              "        buttonEl.style.display =\n",
              "          google.colab.kernel.accessAllowed ? 'block' : 'none';\n",
              "\n",
              "        async function convertToInteractive(key) {\n",
              "          const element = document.querySelector('#df-d0dc9882-1dbc-421c-b4a9-db1fb2f16e4d');\n",
              "          const dataTable =\n",
              "            await google.colab.kernel.invokeFunction('convertToInteractive',\n",
              "                                                     [key], {});\n",
              "          if (!dataTable) return;\n",
              "\n",
              "          const docLinkHtml = 'Like what you see? Visit the ' +\n",
              "            '<a target=\"_blank\" href=https://colab.research.google.com/notebooks/data_table.ipynb>data table notebook</a>'\n",
              "            + ' to learn more about interactive tables.';\n",
              "          element.innerHTML = '';\n",
              "          dataTable['output_type'] = 'display_data';\n",
              "          await google.colab.output.renderOutput(dataTable, element);\n",
              "          const docLink = document.createElement('div');\n",
              "          docLink.innerHTML = docLinkHtml;\n",
              "          element.appendChild(docLink);\n",
              "        }\n",
              "      </script>\n",
              "    </div>\n",
              "  </div>\n",
              "  "
            ]
          },
          "metadata": {},
          "execution_count": 7
        }
      ]
    },
    {
      "cell_type": "code",
      "source": [
        "def getRelFreq(absFreq):\n",
        "  return absFreq / N\n",
        "\n",
        "def addVar(var):\n",
        "  varSeries.loc[len(varSeries)] = {'var': var, 'absFreq': 1, 'relFreq': getRelFreq(1)}\n",
        "\n",
        "def increaseAbsFreq(var):\n",
        "  varSeries.loc[varSeries['var'] == var, 'absFreq'] += 1\n",
        "  updateRelFreq(var)\n",
        "\n",
        "def updateRelFreq(var):\n",
        "  varSeries.loc[varSeries['var'] == var, 'relFreq'] = getRelFreq(varSeries.loc[varSeries['var'] == var, 'absFreq'])\n",
        "\n",
        "def varExists(var):\n",
        "  return (varSeries['var'] == var).any()"
      ],
      "metadata": {
        "id": "_jjidjTp4Mly"
      },
      "execution_count": 8,
      "outputs": []
    },
    {
      "cell_type": "code",
      "source": [
        "for index, row in sample.iterrows():\n",
        "  var = row[X]\n",
        "  if varExists(var):\n",
        "    increaseAbsFreq(var)\n",
        "  else:\n",
        "    addVar(var)\n",
        "\n",
        "varSeries"
      ],
      "metadata": {
        "colab": {
          "base_uri": "https://localhost:8080/",
          "height": 1000
        },
        "id": "WWM781wUs1AT",
        "outputId": "ecead2c1-22c2-484b-f8e8-2e82e5b0bd66"
      },
      "execution_count": 9,
      "outputs": [
        {
          "output_type": "execute_result",
          "data": {
            "text/plain": [
              "    var absFreq   relFreq\n",
              "0   3.4       1  0.009174\n",
              "1   3.8       1  0.009174\n",
              "2   4.2       1  0.009174\n",
              "3   4.3       1  0.009174\n",
              "4   4.8       1  0.009174\n",
              "5   5.1       1  0.009174\n",
              "6   5.2       2  0.018349\n",
              "7   5.4       2  0.018349\n",
              "8   5.5       5  0.045872\n",
              "9   5.6       3  0.027523\n",
              "10  5.7       2  0.018349\n",
              "11  5.8       2  0.018349\n",
              "12  5.9       3  0.027523\n",
              "13  6.0       2  0.018349\n",
              "14  6.1       3  0.027523\n",
              "15  6.2       4  0.036697\n",
              "16  6.3       4  0.036697\n",
              "17  6.4       3  0.027523\n",
              "18  6.5       2  0.018349\n",
              "19  6.6       4  0.036697\n",
              "20  6.7       3  0.027523\n",
              "21  6.8       5  0.045872\n",
              "22  6.9       6  0.055046\n",
              "23  7.0       7   0.06422\n",
              "24  7.1       6  0.055046\n",
              "25  7.2       6  0.055046\n",
              "26  7.3       6  0.055046\n",
              "27  7.4       2  0.018349\n",
              "28  7.5       5  0.045872\n",
              "29  7.6       1  0.009174\n",
              "30  7.7       5  0.045872\n",
              "31  7.8       3  0.027523\n",
              "32  7.9       1  0.009174\n",
              "33  8.0       2  0.018349\n",
              "34  8.4       1  0.009174\n",
              "35  8.5       1  0.009174\n",
              "36  9.0       2  0.018349"
            ],
            "text/html": [
              "\n",
              "  <div id=\"df-dd1007bc-352d-4f60-a114-f5fc186880c4\">\n",
              "    <div class=\"colab-df-container\">\n",
              "      <div>\n",
              "<style scoped>\n",
              "    .dataframe tbody tr th:only-of-type {\n",
              "        vertical-align: middle;\n",
              "    }\n",
              "\n",
              "    .dataframe tbody tr th {\n",
              "        vertical-align: top;\n",
              "    }\n",
              "\n",
              "    .dataframe thead th {\n",
              "        text-align: right;\n",
              "    }\n",
              "</style>\n",
              "<table border=\"1\" class=\"dataframe\">\n",
              "  <thead>\n",
              "    <tr style=\"text-align: right;\">\n",
              "      <th></th>\n",
              "      <th>var</th>\n",
              "      <th>absFreq</th>\n",
              "      <th>relFreq</th>\n",
              "    </tr>\n",
              "  </thead>\n",
              "  <tbody>\n",
              "    <tr>\n",
              "      <th>0</th>\n",
              "      <td>3.4</td>\n",
              "      <td>1</td>\n",
              "      <td>0.009174</td>\n",
              "    </tr>\n",
              "    <tr>\n",
              "      <th>1</th>\n",
              "      <td>3.8</td>\n",
              "      <td>1</td>\n",
              "      <td>0.009174</td>\n",
              "    </tr>\n",
              "    <tr>\n",
              "      <th>2</th>\n",
              "      <td>4.2</td>\n",
              "      <td>1</td>\n",
              "      <td>0.009174</td>\n",
              "    </tr>\n",
              "    <tr>\n",
              "      <th>3</th>\n",
              "      <td>4.3</td>\n",
              "      <td>1</td>\n",
              "      <td>0.009174</td>\n",
              "    </tr>\n",
              "    <tr>\n",
              "      <th>4</th>\n",
              "      <td>4.8</td>\n",
              "      <td>1</td>\n",
              "      <td>0.009174</td>\n",
              "    </tr>\n",
              "    <tr>\n",
              "      <th>5</th>\n",
              "      <td>5.1</td>\n",
              "      <td>1</td>\n",
              "      <td>0.009174</td>\n",
              "    </tr>\n",
              "    <tr>\n",
              "      <th>6</th>\n",
              "      <td>5.2</td>\n",
              "      <td>2</td>\n",
              "      <td>0.018349</td>\n",
              "    </tr>\n",
              "    <tr>\n",
              "      <th>7</th>\n",
              "      <td>5.4</td>\n",
              "      <td>2</td>\n",
              "      <td>0.018349</td>\n",
              "    </tr>\n",
              "    <tr>\n",
              "      <th>8</th>\n",
              "      <td>5.5</td>\n",
              "      <td>5</td>\n",
              "      <td>0.045872</td>\n",
              "    </tr>\n",
              "    <tr>\n",
              "      <th>9</th>\n",
              "      <td>5.6</td>\n",
              "      <td>3</td>\n",
              "      <td>0.027523</td>\n",
              "    </tr>\n",
              "    <tr>\n",
              "      <th>10</th>\n",
              "      <td>5.7</td>\n",
              "      <td>2</td>\n",
              "      <td>0.018349</td>\n",
              "    </tr>\n",
              "    <tr>\n",
              "      <th>11</th>\n",
              "      <td>5.8</td>\n",
              "      <td>2</td>\n",
              "      <td>0.018349</td>\n",
              "    </tr>\n",
              "    <tr>\n",
              "      <th>12</th>\n",
              "      <td>5.9</td>\n",
              "      <td>3</td>\n",
              "      <td>0.027523</td>\n",
              "    </tr>\n",
              "    <tr>\n",
              "      <th>13</th>\n",
              "      <td>6.0</td>\n",
              "      <td>2</td>\n",
              "      <td>0.018349</td>\n",
              "    </tr>\n",
              "    <tr>\n",
              "      <th>14</th>\n",
              "      <td>6.1</td>\n",
              "      <td>3</td>\n",
              "      <td>0.027523</td>\n",
              "    </tr>\n",
              "    <tr>\n",
              "      <th>15</th>\n",
              "      <td>6.2</td>\n",
              "      <td>4</td>\n",
              "      <td>0.036697</td>\n",
              "    </tr>\n",
              "    <tr>\n",
              "      <th>16</th>\n",
              "      <td>6.3</td>\n",
              "      <td>4</td>\n",
              "      <td>0.036697</td>\n",
              "    </tr>\n",
              "    <tr>\n",
              "      <th>17</th>\n",
              "      <td>6.4</td>\n",
              "      <td>3</td>\n",
              "      <td>0.027523</td>\n",
              "    </tr>\n",
              "    <tr>\n",
              "      <th>18</th>\n",
              "      <td>6.5</td>\n",
              "      <td>2</td>\n",
              "      <td>0.018349</td>\n",
              "    </tr>\n",
              "    <tr>\n",
              "      <th>19</th>\n",
              "      <td>6.6</td>\n",
              "      <td>4</td>\n",
              "      <td>0.036697</td>\n",
              "    </tr>\n",
              "    <tr>\n",
              "      <th>20</th>\n",
              "      <td>6.7</td>\n",
              "      <td>3</td>\n",
              "      <td>0.027523</td>\n",
              "    </tr>\n",
              "    <tr>\n",
              "      <th>21</th>\n",
              "      <td>6.8</td>\n",
              "      <td>5</td>\n",
              "      <td>0.045872</td>\n",
              "    </tr>\n",
              "    <tr>\n",
              "      <th>22</th>\n",
              "      <td>6.9</td>\n",
              "      <td>6</td>\n",
              "      <td>0.055046</td>\n",
              "    </tr>\n",
              "    <tr>\n",
              "      <th>23</th>\n",
              "      <td>7.0</td>\n",
              "      <td>7</td>\n",
              "      <td>0.06422</td>\n",
              "    </tr>\n",
              "    <tr>\n",
              "      <th>24</th>\n",
              "      <td>7.1</td>\n",
              "      <td>6</td>\n",
              "      <td>0.055046</td>\n",
              "    </tr>\n",
              "    <tr>\n",
              "      <th>25</th>\n",
              "      <td>7.2</td>\n",
              "      <td>6</td>\n",
              "      <td>0.055046</td>\n",
              "    </tr>\n",
              "    <tr>\n",
              "      <th>26</th>\n",
              "      <td>7.3</td>\n",
              "      <td>6</td>\n",
              "      <td>0.055046</td>\n",
              "    </tr>\n",
              "    <tr>\n",
              "      <th>27</th>\n",
              "      <td>7.4</td>\n",
              "      <td>2</td>\n",
              "      <td>0.018349</td>\n",
              "    </tr>\n",
              "    <tr>\n",
              "      <th>28</th>\n",
              "      <td>7.5</td>\n",
              "      <td>5</td>\n",
              "      <td>0.045872</td>\n",
              "    </tr>\n",
              "    <tr>\n",
              "      <th>29</th>\n",
              "      <td>7.6</td>\n",
              "      <td>1</td>\n",
              "      <td>0.009174</td>\n",
              "    </tr>\n",
              "    <tr>\n",
              "      <th>30</th>\n",
              "      <td>7.7</td>\n",
              "      <td>5</td>\n",
              "      <td>0.045872</td>\n",
              "    </tr>\n",
              "    <tr>\n",
              "      <th>31</th>\n",
              "      <td>7.8</td>\n",
              "      <td>3</td>\n",
              "      <td>0.027523</td>\n",
              "    </tr>\n",
              "    <tr>\n",
              "      <th>32</th>\n",
              "      <td>7.9</td>\n",
              "      <td>1</td>\n",
              "      <td>0.009174</td>\n",
              "    </tr>\n",
              "    <tr>\n",
              "      <th>33</th>\n",
              "      <td>8.0</td>\n",
              "      <td>2</td>\n",
              "      <td>0.018349</td>\n",
              "    </tr>\n",
              "    <tr>\n",
              "      <th>34</th>\n",
              "      <td>8.4</td>\n",
              "      <td>1</td>\n",
              "      <td>0.009174</td>\n",
              "    </tr>\n",
              "    <tr>\n",
              "      <th>35</th>\n",
              "      <td>8.5</td>\n",
              "      <td>1</td>\n",
              "      <td>0.009174</td>\n",
              "    </tr>\n",
              "    <tr>\n",
              "      <th>36</th>\n",
              "      <td>9.0</td>\n",
              "      <td>2</td>\n",
              "      <td>0.018349</td>\n",
              "    </tr>\n",
              "  </tbody>\n",
              "</table>\n",
              "</div>\n",
              "      <button class=\"colab-df-convert\" onclick=\"convertToInteractive('df-dd1007bc-352d-4f60-a114-f5fc186880c4')\"\n",
              "              title=\"Convert this dataframe to an interactive table.\"\n",
              "              style=\"display:none;\">\n",
              "        \n",
              "  <svg xmlns=\"http://www.w3.org/2000/svg\" height=\"24px\"viewBox=\"0 0 24 24\"\n",
              "       width=\"24px\">\n",
              "    <path d=\"M0 0h24v24H0V0z\" fill=\"none\"/>\n",
              "    <path d=\"M18.56 5.44l.94 2.06.94-2.06 2.06-.94-2.06-.94-.94-2.06-.94 2.06-2.06.94zm-11 1L8.5 8.5l.94-2.06 2.06-.94-2.06-.94L8.5 2.5l-.94 2.06-2.06.94zm10 10l.94 2.06.94-2.06 2.06-.94-2.06-.94-.94-2.06-.94 2.06-2.06.94z\"/><path d=\"M17.41 7.96l-1.37-1.37c-.4-.4-.92-.59-1.43-.59-.52 0-1.04.2-1.43.59L10.3 9.45l-7.72 7.72c-.78.78-.78 2.05 0 2.83L4 21.41c.39.39.9.59 1.41.59.51 0 1.02-.2 1.41-.59l7.78-7.78 2.81-2.81c.8-.78.8-2.07 0-2.86zM5.41 20L4 18.59l7.72-7.72 1.47 1.35L5.41 20z\"/>\n",
              "  </svg>\n",
              "      </button>\n",
              "      \n",
              "  <style>\n",
              "    .colab-df-container {\n",
              "      display:flex;\n",
              "      flex-wrap:wrap;\n",
              "      gap: 12px;\n",
              "    }\n",
              "\n",
              "    .colab-df-convert {\n",
              "      background-color: #E8F0FE;\n",
              "      border: none;\n",
              "      border-radius: 50%;\n",
              "      cursor: pointer;\n",
              "      display: none;\n",
              "      fill: #1967D2;\n",
              "      height: 32px;\n",
              "      padding: 0 0 0 0;\n",
              "      width: 32px;\n",
              "    }\n",
              "\n",
              "    .colab-df-convert:hover {\n",
              "      background-color: #E2EBFA;\n",
              "      box-shadow: 0px 1px 2px rgba(60, 64, 67, 0.3), 0px 1px 3px 1px rgba(60, 64, 67, 0.15);\n",
              "      fill: #174EA6;\n",
              "    }\n",
              "\n",
              "    [theme=dark] .colab-df-convert {\n",
              "      background-color: #3B4455;\n",
              "      fill: #D2E3FC;\n",
              "    }\n",
              "\n",
              "    [theme=dark] .colab-df-convert:hover {\n",
              "      background-color: #434B5C;\n",
              "      box-shadow: 0px 1px 3px 1px rgba(0, 0, 0, 0.15);\n",
              "      filter: drop-shadow(0px 1px 2px rgba(0, 0, 0, 0.3));\n",
              "      fill: #FFFFFF;\n",
              "    }\n",
              "  </style>\n",
              "\n",
              "      <script>\n",
              "        const buttonEl =\n",
              "          document.querySelector('#df-dd1007bc-352d-4f60-a114-f5fc186880c4 button.colab-df-convert');\n",
              "        buttonEl.style.display =\n",
              "          google.colab.kernel.accessAllowed ? 'block' : 'none';\n",
              "\n",
              "        async function convertToInteractive(key) {\n",
              "          const element = document.querySelector('#df-dd1007bc-352d-4f60-a114-f5fc186880c4');\n",
              "          const dataTable =\n",
              "            await google.colab.kernel.invokeFunction('convertToInteractive',\n",
              "                                                     [key], {});\n",
              "          if (!dataTable) return;\n",
              "\n",
              "          const docLinkHtml = 'Like what you see? Visit the ' +\n",
              "            '<a target=\"_blank\" href=https://colab.research.google.com/notebooks/data_table.ipynb>data table notebook</a>'\n",
              "            + ' to learn more about interactive tables.';\n",
              "          element.innerHTML = '';\n",
              "          dataTable['output_type'] = 'display_data';\n",
              "          await google.colab.output.renderOutput(dataTable, element);\n",
              "          const docLink = document.createElement('div');\n",
              "          docLink.innerHTML = docLinkHtml;\n",
              "          element.appendChild(docLink);\n",
              "        }\n",
              "      </script>\n",
              "    </div>\n",
              "  </div>\n",
              "  "
            ]
          },
          "metadata": {},
          "execution_count": 9
        }
      ]
    },
    {
      "cell_type": "code",
      "source": [
        "def check(series):\n",
        "  sumAbsFreq = 0\n",
        "  sumRelFreq = 0\n",
        "  for index, row in series.iterrows():\n",
        "    sumAbsFreq += row['absFreq']\n",
        "    sumRelFreq += row['relFreq']\n",
        "  print(f\"Сумма абс частот = {sumAbsFreq}\\nОбъем выборки = {N}\\n\\nСумма отн частот = {sumRelFreq}\")"
      ],
      "metadata": {
        "id": "GoUhblijAPXs"
      },
      "execution_count": 10,
      "outputs": []
    },
    {
      "cell_type": "code",
      "source": [
        "# Проверка корректности по суммам столбцов\n",
        "check(varSeries)"
      ],
      "metadata": {
        "colab": {
          "base_uri": "https://localhost:8080/"
        },
        "id": "YhM3IZquCF4n",
        "outputId": "cf54d8dc-8035-4ef2-c040-90a7a99436c7"
      },
      "execution_count": 11,
      "outputs": [
        {
          "output_type": "stream",
          "name": "stdout",
          "text": [
            "Сумма абс частот = 109\n",
            "Объем выборки = 109\n",
            "\n",
            "Сумма отн частот = 0.9999999999999999\n"
          ]
        }
      ]
    },
    {
      "cell_type": "markdown",
      "source": [
        "Сумма абсолютных частот совпала с объемом выборки, а сумма относительных равна 1. Проверка вычислений успешно пройдена.\n",
        "\n",
        "По вариационному ряду видим, что в выборке присутствует $37$ вариант, почти равномерно покрывающих значения параметра от минимального значения $3,4$ до максимального значения $9,0$. Выборка имеет единственную моду $7,0$ с абсолютной частотой $= 7$ и относительной $= 0,06422$"
      ],
      "metadata": {
        "id": "aPfc0pw0X-tP"
      }
    },
    {
      "cell_type": "markdown",
      "source": [
        "####Преобразование выборку в интервальный ряд"
      ],
      "metadata": {
        "id": "TLqDgs_50lgb"
      }
    },
    {
      "cell_type": "code",
      "source": [
        "intSeries = pd.DataFrame(columns=['start','end','mid','absFreq','relFreq'])\n",
        "intSeries"
      ],
      "metadata": {
        "colab": {
          "base_uri": "https://localhost:8080/",
          "height": 49
        },
        "id": "kruncDLJ4DIy",
        "outputId": "484238fb-7110-4e42-8476-f78039e4d2af"
      },
      "execution_count": 12,
      "outputs": [
        {
          "output_type": "execute_result",
          "data": {
            "text/plain": [
              "Empty DataFrame\n",
              "Columns: [start, end, mid, absFreq, relFreq]\n",
              "Index: []"
            ],
            "text/html": [
              "\n",
              "  <div id=\"df-070a6ef6-e6af-4c0f-881a-a41632efeef6\">\n",
              "    <div class=\"colab-df-container\">\n",
              "      <div>\n",
              "<style scoped>\n",
              "    .dataframe tbody tr th:only-of-type {\n",
              "        vertical-align: middle;\n",
              "    }\n",
              "\n",
              "    .dataframe tbody tr th {\n",
              "        vertical-align: top;\n",
              "    }\n",
              "\n",
              "    .dataframe thead th {\n",
              "        text-align: right;\n",
              "    }\n",
              "</style>\n",
              "<table border=\"1\" class=\"dataframe\">\n",
              "  <thead>\n",
              "    <tr style=\"text-align: right;\">\n",
              "      <th></th>\n",
              "      <th>start</th>\n",
              "      <th>end</th>\n",
              "      <th>mid</th>\n",
              "      <th>absFreq</th>\n",
              "      <th>relFreq</th>\n",
              "    </tr>\n",
              "  </thead>\n",
              "  <tbody>\n",
              "  </tbody>\n",
              "</table>\n",
              "</div>\n",
              "      <button class=\"colab-df-convert\" onclick=\"convertToInteractive('df-070a6ef6-e6af-4c0f-881a-a41632efeef6')\"\n",
              "              title=\"Convert this dataframe to an interactive table.\"\n",
              "              style=\"display:none;\">\n",
              "        \n",
              "  <svg xmlns=\"http://www.w3.org/2000/svg\" height=\"24px\"viewBox=\"0 0 24 24\"\n",
              "       width=\"24px\">\n",
              "    <path d=\"M0 0h24v24H0V0z\" fill=\"none\"/>\n",
              "    <path d=\"M18.56 5.44l.94 2.06.94-2.06 2.06-.94-2.06-.94-.94-2.06-.94 2.06-2.06.94zm-11 1L8.5 8.5l.94-2.06 2.06-.94-2.06-.94L8.5 2.5l-.94 2.06-2.06.94zm10 10l.94 2.06.94-2.06 2.06-.94-2.06-.94-.94-2.06-.94 2.06-2.06.94z\"/><path d=\"M17.41 7.96l-1.37-1.37c-.4-.4-.92-.59-1.43-.59-.52 0-1.04.2-1.43.59L10.3 9.45l-7.72 7.72c-.78.78-.78 2.05 0 2.83L4 21.41c.39.39.9.59 1.41.59.51 0 1.02-.2 1.41-.59l7.78-7.78 2.81-2.81c.8-.78.8-2.07 0-2.86zM5.41 20L4 18.59l7.72-7.72 1.47 1.35L5.41 20z\"/>\n",
              "  </svg>\n",
              "      </button>\n",
              "      \n",
              "  <style>\n",
              "    .colab-df-container {\n",
              "      display:flex;\n",
              "      flex-wrap:wrap;\n",
              "      gap: 12px;\n",
              "    }\n",
              "\n",
              "    .colab-df-convert {\n",
              "      background-color: #E8F0FE;\n",
              "      border: none;\n",
              "      border-radius: 50%;\n",
              "      cursor: pointer;\n",
              "      display: none;\n",
              "      fill: #1967D2;\n",
              "      height: 32px;\n",
              "      padding: 0 0 0 0;\n",
              "      width: 32px;\n",
              "    }\n",
              "\n",
              "    .colab-df-convert:hover {\n",
              "      background-color: #E2EBFA;\n",
              "      box-shadow: 0px 1px 2px rgba(60, 64, 67, 0.3), 0px 1px 3px 1px rgba(60, 64, 67, 0.15);\n",
              "      fill: #174EA6;\n",
              "    }\n",
              "\n",
              "    [theme=dark] .colab-df-convert {\n",
              "      background-color: #3B4455;\n",
              "      fill: #D2E3FC;\n",
              "    }\n",
              "\n",
              "    [theme=dark] .colab-df-convert:hover {\n",
              "      background-color: #434B5C;\n",
              "      box-shadow: 0px 1px 3px 1px rgba(0, 0, 0, 0.15);\n",
              "      filter: drop-shadow(0px 1px 2px rgba(0, 0, 0, 0.3));\n",
              "      fill: #FFFFFF;\n",
              "    }\n",
              "  </style>\n",
              "\n",
              "      <script>\n",
              "        const buttonEl =\n",
              "          document.querySelector('#df-070a6ef6-e6af-4c0f-881a-a41632efeef6 button.colab-df-convert');\n",
              "        buttonEl.style.display =\n",
              "          google.colab.kernel.accessAllowed ? 'block' : 'none';\n",
              "\n",
              "        async function convertToInteractive(key) {\n",
              "          const element = document.querySelector('#df-070a6ef6-e6af-4c0f-881a-a41632efeef6');\n",
              "          const dataTable =\n",
              "            await google.colab.kernel.invokeFunction('convertToInteractive',\n",
              "                                                     [key], {});\n",
              "          if (!dataTable) return;\n",
              "\n",
              "          const docLinkHtml = 'Like what you see? Visit the ' +\n",
              "            '<a target=\"_blank\" href=https://colab.research.google.com/notebooks/data_table.ipynb>data table notebook</a>'\n",
              "            + ' to learn more about interactive tables.';\n",
              "          element.innerHTML = '';\n",
              "          dataTable['output_type'] = 'display_data';\n",
              "          await google.colab.output.renderOutput(dataTable, element);\n",
              "          const docLink = document.createElement('div');\n",
              "          docLink.innerHTML = docLinkHtml;\n",
              "          element.appendChild(docLink);\n",
              "        }\n",
              "      </script>\n",
              "    </div>\n",
              "  </div>\n",
              "  "
            ]
          },
          "metadata": {},
          "execution_count": 12
        }
      ]
    },
    {
      "cell_type": "code",
      "source": [
        "def addVar(var, absFreq, relFreq):\n",
        "  mask = (intSeries['start'] < var) & (var <= intSeries['end'])\n",
        "  intSeries.loc[mask, 'absFreq'] += absFreq\n",
        "  intSeries.loc[mask, 'relFreq'] += relFreq\n",
        "\n",
        "def addInterval(start, end):\n",
        "  intSeries.loc[len(intSeries)] = {'start': start, 'end': end, 'mid': (start + end) / 2, 'absFreq': 0, 'relFreq': 0}"
      ],
      "metadata": {
        "id": "kCUtY9CK4xpB"
      },
      "execution_count": 13,
      "outputs": []
    },
    {
      "cell_type": "markdown",
      "source": [
        "Рассчет количества интервалов k по формуле Стерджесса"
      ],
      "metadata": {
        "id": "NqKOnZ9QV4Kg"
      }
    },
    {
      "cell_type": "code",
      "source": [
        "k = round(1 + np.log2(N))\n",
        "\n",
        "print(f\"k = {k}\")"
      ],
      "metadata": {
        "colab": {
          "base_uri": "https://localhost:8080/"
        },
        "id": "PvC_rv-20pnT",
        "outputId": "5a384681-7378-4692-eb4d-82a78332821a"
      },
      "execution_count": 14,
      "outputs": [
        {
          "output_type": "stream",
          "name": "stdout",
          "text": [
            "k = 8\n"
          ]
        }
      ]
    },
    {
      "cell_type": "markdown",
      "source": [
        "Рассчет размаха выборки R"
      ],
      "metadata": {
        "id": "4mYlFjgDV_7G"
      }
    },
    {
      "cell_type": "code",
      "source": [
        "max = sample.loc[len(sample) - 1, X]\n",
        "min = sample.loc[0, X]\n",
        "R = max - min\n",
        "\n",
        "print(f\"min = {min}, max = {max}\\nR = {R}\")"
      ],
      "metadata": {
        "colab": {
          "base_uri": "https://localhost:8080/"
        },
        "id": "3DB5PpDvV54l",
        "outputId": "8887944c-63f0-4bab-e0a7-35d9560082c7"
      },
      "execution_count": 15,
      "outputs": [
        {
          "output_type": "stream",
          "name": "stdout",
          "text": [
            "min = 3.4, max = 9.0\n",
            "R = 5.6\n"
          ]
        }
      ]
    },
    {
      "cell_type": "markdown",
      "source": [
        "Рассчет длины интервала h\n"
      ],
      "metadata": {
        "id": "B3wUWrATWKzk"
      }
    },
    {
      "cell_type": "code",
      "source": [
        "h = R/k\n",
        "\n",
        "print(f\"h = {h}\")"
      ],
      "metadata": {
        "colab": {
          "base_uri": "https://localhost:8080/"
        },
        "id": "M8S-VKnfWNXi",
        "outputId": "e011fbc8-db80-4ecf-b12f-dfbc370bbd96"
      },
      "execution_count": 16,
      "outputs": [
        {
          "output_type": "stream",
          "name": "stdout",
          "text": [
            "h = 0.7\n"
          ]
        }
      ]
    },
    {
      "cell_type": "markdown",
      "source": [
        "Подготовка таблицы и внесение в нее интервалов и их середин."
      ],
      "metadata": {
        "id": "SZ0yh2ZEVZje"
      }
    },
    {
      "cell_type": "code",
      "source": [
        "for i in range(0, k):\n",
        "  start = min + h * i\n",
        "  end = min + h * (i + 1)\n",
        "  if i == 0:\n",
        "    start -= 0.01\n",
        "  addInterval(start, end)\n",
        "\n",
        "intSeries"
      ],
      "metadata": {
        "colab": {
          "base_uri": "https://localhost:8080/",
          "height": 300
        },
        "id": "aeWisIbM4l4P",
        "outputId": "da409db7-898b-4ba6-a2e1-b3aa6e6bac2b"
      },
      "execution_count": 17,
      "outputs": [
        {
          "output_type": "execute_result",
          "data": {
            "text/plain": [
              "   start  end    mid absFreq relFreq\n",
              "0   3.39  4.1  3.745       0       0\n",
              "1   4.10  4.8  4.450       0       0\n",
              "2   4.80  5.5  5.150       0       0\n",
              "3   5.50  6.2  5.850       0       0\n",
              "4   6.20  6.9  6.550       0       0\n",
              "5   6.90  7.6  7.250       0       0\n",
              "6   7.60  8.3  7.950       0       0\n",
              "7   8.30  9.0  8.650       0       0"
            ],
            "text/html": [
              "\n",
              "  <div id=\"df-84a48be1-f66c-4a85-a6f7-6786c7f59479\">\n",
              "    <div class=\"colab-df-container\">\n",
              "      <div>\n",
              "<style scoped>\n",
              "    .dataframe tbody tr th:only-of-type {\n",
              "        vertical-align: middle;\n",
              "    }\n",
              "\n",
              "    .dataframe tbody tr th {\n",
              "        vertical-align: top;\n",
              "    }\n",
              "\n",
              "    .dataframe thead th {\n",
              "        text-align: right;\n",
              "    }\n",
              "</style>\n",
              "<table border=\"1\" class=\"dataframe\">\n",
              "  <thead>\n",
              "    <tr style=\"text-align: right;\">\n",
              "      <th></th>\n",
              "      <th>start</th>\n",
              "      <th>end</th>\n",
              "      <th>mid</th>\n",
              "      <th>absFreq</th>\n",
              "      <th>relFreq</th>\n",
              "    </tr>\n",
              "  </thead>\n",
              "  <tbody>\n",
              "    <tr>\n",
              "      <th>0</th>\n",
              "      <td>3.39</td>\n",
              "      <td>4.1</td>\n",
              "      <td>3.745</td>\n",
              "      <td>0</td>\n",
              "      <td>0</td>\n",
              "    </tr>\n",
              "    <tr>\n",
              "      <th>1</th>\n",
              "      <td>4.10</td>\n",
              "      <td>4.8</td>\n",
              "      <td>4.450</td>\n",
              "      <td>0</td>\n",
              "      <td>0</td>\n",
              "    </tr>\n",
              "    <tr>\n",
              "      <th>2</th>\n",
              "      <td>4.80</td>\n",
              "      <td>5.5</td>\n",
              "      <td>5.150</td>\n",
              "      <td>0</td>\n",
              "      <td>0</td>\n",
              "    </tr>\n",
              "    <tr>\n",
              "      <th>3</th>\n",
              "      <td>5.50</td>\n",
              "      <td>6.2</td>\n",
              "      <td>5.850</td>\n",
              "      <td>0</td>\n",
              "      <td>0</td>\n",
              "    </tr>\n",
              "    <tr>\n",
              "      <th>4</th>\n",
              "      <td>6.20</td>\n",
              "      <td>6.9</td>\n",
              "      <td>6.550</td>\n",
              "      <td>0</td>\n",
              "      <td>0</td>\n",
              "    </tr>\n",
              "    <tr>\n",
              "      <th>5</th>\n",
              "      <td>6.90</td>\n",
              "      <td>7.6</td>\n",
              "      <td>7.250</td>\n",
              "      <td>0</td>\n",
              "      <td>0</td>\n",
              "    </tr>\n",
              "    <tr>\n",
              "      <th>6</th>\n",
              "      <td>7.60</td>\n",
              "      <td>8.3</td>\n",
              "      <td>7.950</td>\n",
              "      <td>0</td>\n",
              "      <td>0</td>\n",
              "    </tr>\n",
              "    <tr>\n",
              "      <th>7</th>\n",
              "      <td>8.30</td>\n",
              "      <td>9.0</td>\n",
              "      <td>8.650</td>\n",
              "      <td>0</td>\n",
              "      <td>0</td>\n",
              "    </tr>\n",
              "  </tbody>\n",
              "</table>\n",
              "</div>\n",
              "      <button class=\"colab-df-convert\" onclick=\"convertToInteractive('df-84a48be1-f66c-4a85-a6f7-6786c7f59479')\"\n",
              "              title=\"Convert this dataframe to an interactive table.\"\n",
              "              style=\"display:none;\">\n",
              "        \n",
              "  <svg xmlns=\"http://www.w3.org/2000/svg\" height=\"24px\"viewBox=\"0 0 24 24\"\n",
              "       width=\"24px\">\n",
              "    <path d=\"M0 0h24v24H0V0z\" fill=\"none\"/>\n",
              "    <path d=\"M18.56 5.44l.94 2.06.94-2.06 2.06-.94-2.06-.94-.94-2.06-.94 2.06-2.06.94zm-11 1L8.5 8.5l.94-2.06 2.06-.94-2.06-.94L8.5 2.5l-.94 2.06-2.06.94zm10 10l.94 2.06.94-2.06 2.06-.94-2.06-.94-.94-2.06-.94 2.06-2.06.94z\"/><path d=\"M17.41 7.96l-1.37-1.37c-.4-.4-.92-.59-1.43-.59-.52 0-1.04.2-1.43.59L10.3 9.45l-7.72 7.72c-.78.78-.78 2.05 0 2.83L4 21.41c.39.39.9.59 1.41.59.51 0 1.02-.2 1.41-.59l7.78-7.78 2.81-2.81c.8-.78.8-2.07 0-2.86zM5.41 20L4 18.59l7.72-7.72 1.47 1.35L5.41 20z\"/>\n",
              "  </svg>\n",
              "      </button>\n",
              "      \n",
              "  <style>\n",
              "    .colab-df-container {\n",
              "      display:flex;\n",
              "      flex-wrap:wrap;\n",
              "      gap: 12px;\n",
              "    }\n",
              "\n",
              "    .colab-df-convert {\n",
              "      background-color: #E8F0FE;\n",
              "      border: none;\n",
              "      border-radius: 50%;\n",
              "      cursor: pointer;\n",
              "      display: none;\n",
              "      fill: #1967D2;\n",
              "      height: 32px;\n",
              "      padding: 0 0 0 0;\n",
              "      width: 32px;\n",
              "    }\n",
              "\n",
              "    .colab-df-convert:hover {\n",
              "      background-color: #E2EBFA;\n",
              "      box-shadow: 0px 1px 2px rgba(60, 64, 67, 0.3), 0px 1px 3px 1px rgba(60, 64, 67, 0.15);\n",
              "      fill: #174EA6;\n",
              "    }\n",
              "\n",
              "    [theme=dark] .colab-df-convert {\n",
              "      background-color: #3B4455;\n",
              "      fill: #D2E3FC;\n",
              "    }\n",
              "\n",
              "    [theme=dark] .colab-df-convert:hover {\n",
              "      background-color: #434B5C;\n",
              "      box-shadow: 0px 1px 3px 1px rgba(0, 0, 0, 0.15);\n",
              "      filter: drop-shadow(0px 1px 2px rgba(0, 0, 0, 0.3));\n",
              "      fill: #FFFFFF;\n",
              "    }\n",
              "  </style>\n",
              "\n",
              "      <script>\n",
              "        const buttonEl =\n",
              "          document.querySelector('#df-84a48be1-f66c-4a85-a6f7-6786c7f59479 button.colab-df-convert');\n",
              "        buttonEl.style.display =\n",
              "          google.colab.kernel.accessAllowed ? 'block' : 'none';\n",
              "\n",
              "        async function convertToInteractive(key) {\n",
              "          const element = document.querySelector('#df-84a48be1-f66c-4a85-a6f7-6786c7f59479');\n",
              "          const dataTable =\n",
              "            await google.colab.kernel.invokeFunction('convertToInteractive',\n",
              "                                                     [key], {});\n",
              "          if (!dataTable) return;\n",
              "\n",
              "          const docLinkHtml = 'Like what you see? Visit the ' +\n",
              "            '<a target=\"_blank\" href=https://colab.research.google.com/notebooks/data_table.ipynb>data table notebook</a>'\n",
              "            + ' to learn more about interactive tables.';\n",
              "          element.innerHTML = '';\n",
              "          dataTable['output_type'] = 'display_data';\n",
              "          await google.colab.output.renderOutput(dataTable, element);\n",
              "          const docLink = document.createElement('div');\n",
              "          docLink.innerHTML = docLinkHtml;\n",
              "          element.appendChild(docLink);\n",
              "        }\n",
              "      </script>\n",
              "    </div>\n",
              "  </div>\n",
              "  "
            ]
          },
          "metadata": {},
          "execution_count": 17
        }
      ]
    },
    {
      "cell_type": "markdown",
      "source": [
        "Подсчет значений абсолютных и относительных частот на основе данных вариационного ряда"
      ],
      "metadata": {
        "id": "KKulo34jVgad"
      }
    },
    {
      "cell_type": "code",
      "source": [
        "for index, row in varSeries.iterrows():\n",
        "  addVar(float(row['var']), float(row['absFreq']), float(row['relFreq']))\n",
        "\n",
        "intSeries"
      ],
      "metadata": {
        "colab": {
          "base_uri": "https://localhost:8080/",
          "height": 300
        },
        "id": "4Hk5H-WB8Z7A",
        "outputId": "f3b08343-fc0f-40e0-f3e5-aad41f19e224"
      },
      "execution_count": 18,
      "outputs": [
        {
          "output_type": "execute_result",
          "data": {
            "text/plain": [
              "   start  end    mid absFreq   relFreq\n",
              "0   3.39  4.1  3.745     2.0  0.018349\n",
              "1   4.10  4.8  4.450     3.0  0.027523\n",
              "2   4.80  5.5  5.150    10.0  0.091743\n",
              "3   5.50  6.2  5.850    15.0  0.137615\n",
              "4   6.20  6.9  6.550    31.0  0.284404\n",
              "5   6.90  7.6  7.250    33.0  0.302752\n",
              "6   7.60  8.3  7.950    11.0  0.100917\n",
              "7   8.30  9.0  8.650     4.0  0.036697"
            ],
            "text/html": [
              "\n",
              "  <div id=\"df-416f39b1-9d2b-4caa-bb13-8279622e9187\">\n",
              "    <div class=\"colab-df-container\">\n",
              "      <div>\n",
              "<style scoped>\n",
              "    .dataframe tbody tr th:only-of-type {\n",
              "        vertical-align: middle;\n",
              "    }\n",
              "\n",
              "    .dataframe tbody tr th {\n",
              "        vertical-align: top;\n",
              "    }\n",
              "\n",
              "    .dataframe thead th {\n",
              "        text-align: right;\n",
              "    }\n",
              "</style>\n",
              "<table border=\"1\" class=\"dataframe\">\n",
              "  <thead>\n",
              "    <tr style=\"text-align: right;\">\n",
              "      <th></th>\n",
              "      <th>start</th>\n",
              "      <th>end</th>\n",
              "      <th>mid</th>\n",
              "      <th>absFreq</th>\n",
              "      <th>relFreq</th>\n",
              "    </tr>\n",
              "  </thead>\n",
              "  <tbody>\n",
              "    <tr>\n",
              "      <th>0</th>\n",
              "      <td>3.39</td>\n",
              "      <td>4.1</td>\n",
              "      <td>3.745</td>\n",
              "      <td>2.0</td>\n",
              "      <td>0.018349</td>\n",
              "    </tr>\n",
              "    <tr>\n",
              "      <th>1</th>\n",
              "      <td>4.10</td>\n",
              "      <td>4.8</td>\n",
              "      <td>4.450</td>\n",
              "      <td>3.0</td>\n",
              "      <td>0.027523</td>\n",
              "    </tr>\n",
              "    <tr>\n",
              "      <th>2</th>\n",
              "      <td>4.80</td>\n",
              "      <td>5.5</td>\n",
              "      <td>5.150</td>\n",
              "      <td>10.0</td>\n",
              "      <td>0.091743</td>\n",
              "    </tr>\n",
              "    <tr>\n",
              "      <th>3</th>\n",
              "      <td>5.50</td>\n",
              "      <td>6.2</td>\n",
              "      <td>5.850</td>\n",
              "      <td>15.0</td>\n",
              "      <td>0.137615</td>\n",
              "    </tr>\n",
              "    <tr>\n",
              "      <th>4</th>\n",
              "      <td>6.20</td>\n",
              "      <td>6.9</td>\n",
              "      <td>6.550</td>\n",
              "      <td>31.0</td>\n",
              "      <td>0.284404</td>\n",
              "    </tr>\n",
              "    <tr>\n",
              "      <th>5</th>\n",
              "      <td>6.90</td>\n",
              "      <td>7.6</td>\n",
              "      <td>7.250</td>\n",
              "      <td>33.0</td>\n",
              "      <td>0.302752</td>\n",
              "    </tr>\n",
              "    <tr>\n",
              "      <th>6</th>\n",
              "      <td>7.60</td>\n",
              "      <td>8.3</td>\n",
              "      <td>7.950</td>\n",
              "      <td>11.0</td>\n",
              "      <td>0.100917</td>\n",
              "    </tr>\n",
              "    <tr>\n",
              "      <th>7</th>\n",
              "      <td>8.30</td>\n",
              "      <td>9.0</td>\n",
              "      <td>8.650</td>\n",
              "      <td>4.0</td>\n",
              "      <td>0.036697</td>\n",
              "    </tr>\n",
              "  </tbody>\n",
              "</table>\n",
              "</div>\n",
              "      <button class=\"colab-df-convert\" onclick=\"convertToInteractive('df-416f39b1-9d2b-4caa-bb13-8279622e9187')\"\n",
              "              title=\"Convert this dataframe to an interactive table.\"\n",
              "              style=\"display:none;\">\n",
              "        \n",
              "  <svg xmlns=\"http://www.w3.org/2000/svg\" height=\"24px\"viewBox=\"0 0 24 24\"\n",
              "       width=\"24px\">\n",
              "    <path d=\"M0 0h24v24H0V0z\" fill=\"none\"/>\n",
              "    <path d=\"M18.56 5.44l.94 2.06.94-2.06 2.06-.94-2.06-.94-.94-2.06-.94 2.06-2.06.94zm-11 1L8.5 8.5l.94-2.06 2.06-.94-2.06-.94L8.5 2.5l-.94 2.06-2.06.94zm10 10l.94 2.06.94-2.06 2.06-.94-2.06-.94-.94-2.06-.94 2.06-2.06.94z\"/><path d=\"M17.41 7.96l-1.37-1.37c-.4-.4-.92-.59-1.43-.59-.52 0-1.04.2-1.43.59L10.3 9.45l-7.72 7.72c-.78.78-.78 2.05 0 2.83L4 21.41c.39.39.9.59 1.41.59.51 0 1.02-.2 1.41-.59l7.78-7.78 2.81-2.81c.8-.78.8-2.07 0-2.86zM5.41 20L4 18.59l7.72-7.72 1.47 1.35L5.41 20z\"/>\n",
              "  </svg>\n",
              "      </button>\n",
              "      \n",
              "  <style>\n",
              "    .colab-df-container {\n",
              "      display:flex;\n",
              "      flex-wrap:wrap;\n",
              "      gap: 12px;\n",
              "    }\n",
              "\n",
              "    .colab-df-convert {\n",
              "      background-color: #E8F0FE;\n",
              "      border: none;\n",
              "      border-radius: 50%;\n",
              "      cursor: pointer;\n",
              "      display: none;\n",
              "      fill: #1967D2;\n",
              "      height: 32px;\n",
              "      padding: 0 0 0 0;\n",
              "      width: 32px;\n",
              "    }\n",
              "\n",
              "    .colab-df-convert:hover {\n",
              "      background-color: #E2EBFA;\n",
              "      box-shadow: 0px 1px 2px rgba(60, 64, 67, 0.3), 0px 1px 3px 1px rgba(60, 64, 67, 0.15);\n",
              "      fill: #174EA6;\n",
              "    }\n",
              "\n",
              "    [theme=dark] .colab-df-convert {\n",
              "      background-color: #3B4455;\n",
              "      fill: #D2E3FC;\n",
              "    }\n",
              "\n",
              "    [theme=dark] .colab-df-convert:hover {\n",
              "      background-color: #434B5C;\n",
              "      box-shadow: 0px 1px 3px 1px rgba(0, 0, 0, 0.15);\n",
              "      filter: drop-shadow(0px 1px 2px rgba(0, 0, 0, 0.3));\n",
              "      fill: #FFFFFF;\n",
              "    }\n",
              "  </style>\n",
              "\n",
              "      <script>\n",
              "        const buttonEl =\n",
              "          document.querySelector('#df-416f39b1-9d2b-4caa-bb13-8279622e9187 button.colab-df-convert');\n",
              "        buttonEl.style.display =\n",
              "          google.colab.kernel.accessAllowed ? 'block' : 'none';\n",
              "\n",
              "        async function convertToInteractive(key) {\n",
              "          const element = document.querySelector('#df-416f39b1-9d2b-4caa-bb13-8279622e9187');\n",
              "          const dataTable =\n",
              "            await google.colab.kernel.invokeFunction('convertToInteractive',\n",
              "                                                     [key], {});\n",
              "          if (!dataTable) return;\n",
              "\n",
              "          const docLinkHtml = 'Like what you see? Visit the ' +\n",
              "            '<a target=\"_blank\" href=https://colab.research.google.com/notebooks/data_table.ipynb>data table notebook</a>'\n",
              "            + ' to learn more about interactive tables.';\n",
              "          element.innerHTML = '';\n",
              "          dataTable['output_type'] = 'display_data';\n",
              "          await google.colab.output.renderOutput(dataTable, element);\n",
              "          const docLink = document.createElement('div');\n",
              "          docLink.innerHTML = docLinkHtml;\n",
              "          element.appendChild(docLink);\n",
              "        }\n",
              "      </script>\n",
              "    </div>\n",
              "  </div>\n",
              "  "
            ]
          },
          "metadata": {},
          "execution_count": 18
        }
      ]
    },
    {
      "cell_type": "markdown",
      "source": [
        "Проверка корректности по суммам столбцов"
      ],
      "metadata": {
        "id": "iN9vTSslVjLx"
      }
    },
    {
      "cell_type": "code",
      "source": [
        "check(intSeries)"
      ],
      "metadata": {
        "colab": {
          "base_uri": "https://localhost:8080/"
        },
        "id": "-wwTM-eqA_SX",
        "outputId": "5de67702-f7f7-4087-bfcc-6e698d9e8fd4"
      },
      "execution_count": 19,
      "outputs": [
        {
          "output_type": "stream",
          "name": "stdout",
          "text": [
            "Сумма абс частот = 109.0\n",
            "Объем выборки = 109\n",
            "\n",
            "Сумма отн частот = 1.0\n"
          ]
        }
      ]
    },
    {
      "cell_type": "markdown",
      "source": [
        "Сумма абсолютных частот совпала с объемом выборки, а сумма относительных равна 1. Проверка вычислений успешно пройдена.\n",
        "\n",
        "По построенному интервальному ряду видим, что есть единственный модальный интервал $(6.90; 7.6]$ с абсолютной частотой $ = 33$ и относительной $= 0,302752$\n",
        "\n",
        "Так же судя по интервальному ряду, можно предположить, что генеральная совокупность имеет нормальное распределение."
      ],
      "metadata": {
        "id": "kh6ZPwqkVlSi"
      }
    },
    {
      "cell_type": "markdown",
      "source": [
        "###Задание 3"
      ],
      "metadata": {
        "id": "CbE3x-KX_wxO"
      }
    },
    {
      "cell_type": "markdown",
      "source": [
        "####Построение полигона частот для полученного интервального ряда"
      ],
      "metadata": {
        "id": "I9FPs7iH_1h9"
      }
    },
    {
      "cell_type": "code",
      "source": [
        "plt.title(\"Полигон частот\")\n",
        "plt.xlabel('Середины интервалов')\n",
        "plt.ylabel('Абс частоты')\n",
        "plt.plot(intSeries['mid'].tolist(), intSeries['absFreq'].tolist())\n",
        "plt.show()"
      ],
      "metadata": {
        "colab": {
          "base_uri": "https://localhost:8080/",
          "height": 295
        },
        "id": "M5XZQAQKCW7A",
        "outputId": "f0e7d4f9-b21f-485e-8684-4913f8d0468b"
      },
      "execution_count": 20,
      "outputs": [
        {
          "output_type": "display_data",
          "data": {
            "text/plain": [
              "<Figure size 432x288 with 1 Axes>"
            ],
            "image/png": "[encoded data removed]"
          },
          "metadata": {
            "needs_background": "light"
          }
        }
      ]
    },
    {
      "cell_type": "markdown",
      "source": [
        "####Построение гистограммы частот для полученного интервального ряда"
      ],
      "metadata": {
        "id": "ro7akOIXErFn"
      }
    },
    {
      "cell_type": "code",
      "source": [
        "plt.title(\"Гистограмма частот\")\n",
        "plt.xlabel('Интервалы')\n",
        "plt.ylabel('Плотость абс частоты')\n",
        "plt.hist(intSeries['mid'].tolist(), weights = [n / h for n in intSeries['absFreq'].tolist()], bins = k)\n",
        "plt.show()"
      ],
      "metadata": {
        "colab": {
          "base_uri": "https://localhost:8080/",
          "height": 295
        },
        "id": "7KPPtSsKEvUR",
        "outputId": "d23ff281-29ea-417f-d451-5e44e2fc2641"
      },
      "execution_count": 21,
      "outputs": [
        {
          "output_type": "display_data",
          "data": {
            "text/plain": [
              "<Figure size 432x288 with 1 Axes>"
            ],
            "image/png": "[encoded data removed]"
          },
          "metadata": {
            "needs_background": "light"
          }
        }
      ]
    },
    {
      "cell_type": "markdown",
      "source": [
        "####Построение эмпирической функции для полученного интервального ряда"
      ],
      "metadata": {
        "id": "-H7i8lI1FO6S"
      }
    },
    {
      "cell_type": "markdown",
      "source": [
        "Для этого необходим подсчет накопленных относительных частот"
      ],
      "metadata": {
        "id": "mRLxfyeFTnNI"
      }
    },
    {
      "cell_type": "code",
      "source": [
        "intSeries.loc[:,'accumRelFreq'] = 0\n",
        "\n",
        "accumRelFreq = 0\n",
        "\n",
        "for index, row in intSeries.iterrows():\n",
        "  accumRelFreq += row['relFreq']\n",
        "  intSeries.loc[index,'accumRelFreq'] = accumRelFreq\n",
        "\n",
        "intSeries"
      ],
      "metadata": {
        "id": "UFaBwfzkFhMg",
        "colab": {
          "base_uri": "https://localhost:8080/",
          "height": 300
        },
        "outputId": "e4d4f2ce-708e-4cac-e6c2-98901ae660ce"
      },
      "execution_count": 22,
      "outputs": [
        {
          "output_type": "execute_result",
          "data": {
            "text/plain": [
              "   start  end    mid absFreq   relFreq  accumRelFreq\n",
              "0   3.39  4.1  3.745     2.0  0.018349      0.018349\n",
              "1   4.10  4.8  4.450     3.0  0.027523      0.045872\n",
              "2   4.80  5.5  5.150    10.0  0.091743      0.137615\n",
              "3   5.50  6.2  5.850    15.0  0.137615      0.275229\n",
              "4   6.20  6.9  6.550    31.0  0.284404      0.559633\n",
              "5   6.90  7.6  7.250    33.0  0.302752      0.862385\n",
              "6   7.60  8.3  7.950    11.0  0.100917      0.963303\n",
              "7   8.30  9.0  8.650     4.0  0.036697      1.000000"
            ],
            "text/html": [
              "\n",
              "  <div id=\"df-da78c71b-c690-4e37-891c-2da7e4dc8fff\">\n",
              "    <div class=\"colab-df-container\">\n",
              "      <div>\n",
              "<style scoped>\n",
              "    .dataframe tbody tr th:only-of-type {\n",
              "        vertical-align: middle;\n",
              "    }\n",
              "\n",
              "    .dataframe tbody tr th {\n",
              "        vertical-align: top;\n",
              "    }\n",
              "\n",
              "    .dataframe thead th {\n",
              "        text-align: right;\n",
              "    }\n",
              "</style>\n",
              "<table border=\"1\" class=\"dataframe\">\n",
              "  <thead>\n",
              "    <tr style=\"text-align: right;\">\n",
              "      <th></th>\n",
              "      <th>start</th>\n",
              "      <th>end</th>\n",
              "      <th>mid</th>\n",
              "      <th>absFreq</th>\n",
              "      <th>relFreq</th>\n",
              "      <th>accumRelFreq</th>\n",
              "    </tr>\n",
              "  </thead>\n",
              "  <tbody>\n",
              "    <tr>\n",
              "      <th>0</th>\n",
              "      <td>3.39</td>\n",
              "      <td>4.1</td>\n",
              "      <td>3.745</td>\n",
              "      <td>2.0</td>\n",
              "      <td>0.018349</td>\n",
              "      <td>0.018349</td>\n",
              "    </tr>\n",
              "    <tr>\n",
              "      <th>1</th>\n",
              "      <td>4.10</td>\n",
              "      <td>4.8</td>\n",
              "      <td>4.450</td>\n",
              "      <td>3.0</td>\n",
              "      <td>0.027523</td>\n",
              "      <td>0.045872</td>\n",
              "    </tr>\n",
              "    <tr>\n",
              "      <th>2</th>\n",
              "      <td>4.80</td>\n",
              "      <td>5.5</td>\n",
              "      <td>5.150</td>\n",
              "      <td>10.0</td>\n",
              "      <td>0.091743</td>\n",
              "      <td>0.137615</td>\n",
              "    </tr>\n",
              "    <tr>\n",
              "      <th>3</th>\n",
              "      <td>5.50</td>\n",
              "      <td>6.2</td>\n",
              "      <td>5.850</td>\n",
              "      <td>15.0</td>\n",
              "      <td>0.137615</td>\n",
              "      <td>0.275229</td>\n",
              "    </tr>\n",
              "    <tr>\n",
              "      <th>4</th>\n",
              "      <td>6.20</td>\n",
              "      <td>6.9</td>\n",
              "      <td>6.550</td>\n",
              "      <td>31.0</td>\n",
              "      <td>0.284404</td>\n",
              "      <td>0.559633</td>\n",
              "    </tr>\n",
              "    <tr>\n",
              "      <th>5</th>\n",
              "      <td>6.90</td>\n",
              "      <td>7.6</td>\n",
              "      <td>7.250</td>\n",
              "      <td>33.0</td>\n",
              "      <td>0.302752</td>\n",
              "      <td>0.862385</td>\n",
              "    </tr>\n",
              "    <tr>\n",
              "      <th>6</th>\n",
              "      <td>7.60</td>\n",
              "      <td>8.3</td>\n",
              "      <td>7.950</td>\n",
              "      <td>11.0</td>\n",
              "      <td>0.100917</td>\n",
              "      <td>0.963303</td>\n",
              "    </tr>\n",
              "    <tr>\n",
              "      <th>7</th>\n",
              "      <td>8.30</td>\n",
              "      <td>9.0</td>\n",
              "      <td>8.650</td>\n",
              "      <td>4.0</td>\n",
              "      <td>0.036697</td>\n",
              "      <td>1.000000</td>\n",
              "    </tr>\n",
              "  </tbody>\n",
              "</table>\n",
              "</div>\n",
              "      <button class=\"colab-df-convert\" onclick=\"convertToInteractive('df-da78c71b-c690-4e37-891c-2da7e4dc8fff')\"\n",
              "              title=\"Convert this dataframe to an interactive table.\"\n",
              "              style=\"display:none;\">\n",
              "        \n",
              "  <svg xmlns=\"http://www.w3.org/2000/svg\" height=\"24px\"viewBox=\"0 0 24 24\"\n",
              "       width=\"24px\">\n",
              "    <path d=\"M0 0h24v24H0V0z\" fill=\"none\"/>\n",
              "    <path d=\"M18.56 5.44l.94 2.06.94-2.06 2.06-.94-2.06-.94-.94-2.06-.94 2.06-2.06.94zm-11 1L8.5 8.5l.94-2.06 2.06-.94-2.06-.94L8.5 2.5l-.94 2.06-2.06.94zm10 10l.94 2.06.94-2.06 2.06-.94-2.06-.94-.94-2.06-.94 2.06-2.06.94z\"/><path d=\"M17.41 7.96l-1.37-1.37c-.4-.4-.92-.59-1.43-.59-.52 0-1.04.2-1.43.59L10.3 9.45l-7.72 7.72c-.78.78-.78 2.05 0 2.83L4 21.41c.39.39.9.59 1.41.59.51 0 1.02-.2 1.41-.59l7.78-7.78 2.81-2.81c.8-.78.8-2.07 0-2.86zM5.41 20L4 18.59l7.72-7.72 1.47 1.35L5.41 20z\"/>\n",
              "  </svg>\n",
              "      </button>\n",
              "      \n",
              "  <style>\n",
              "    .colab-df-container {\n",
              "      display:flex;\n",
              "      flex-wrap:wrap;\n",
              "      gap: 12px;\n",
              "    }\n",
              "\n",
              "    .colab-df-convert {\n",
              "      background-color: #E8F0FE;\n",
              "      border: none;\n",
              "      border-radius: 50%;\n",
              "      cursor: pointer;\n",
              "      display: none;\n",
              "      fill: #1967D2;\n",
              "      height: 32px;\n",
              "      padding: 0 0 0 0;\n",
              "      width: 32px;\n",
              "    }\n",
              "\n",
              "    .colab-df-convert:hover {\n",
              "      background-color: #E2EBFA;\n",
              "      box-shadow: 0px 1px 2px rgba(60, 64, 67, 0.3), 0px 1px 3px 1px rgba(60, 64, 67, 0.15);\n",
              "      fill: #174EA6;\n",
              "    }\n",
              "\n",
              "    [theme=dark] .colab-df-convert {\n",
              "      background-color: #3B4455;\n",
              "      fill: #D2E3FC;\n",
              "    }\n",
              "\n",
              "    [theme=dark] .colab-df-convert:hover {\n",
              "      background-color: #434B5C;\n",
              "      box-shadow: 0px 1px 3px 1px rgba(0, 0, 0, 0.15);\n",
              "      filter: drop-shadow(0px 1px 2px rgba(0, 0, 0, 0.3));\n",
              "      fill: #FFFFFF;\n",
              "    }\n",
              "  </style>\n",
              "\n",
              "      <script>\n",
              "        const buttonEl =\n",
              "          document.querySelector('#df-da78c71b-c690-4e37-891c-2da7e4dc8fff button.colab-df-convert');\n",
              "        buttonEl.style.display =\n",
              "          google.colab.kernel.accessAllowed ? 'block' : 'none';\n",
              "\n",
              "        async function convertToInteractive(key) {\n",
              "          const element = document.querySelector('#df-da78c71b-c690-4e37-891c-2da7e4dc8fff');\n",
              "          const dataTable =\n",
              "            await google.colab.kernel.invokeFunction('convertToInteractive',\n",
              "                                                     [key], {});\n",
              "          if (!dataTable) return;\n",
              "\n",
              "          const docLinkHtml = 'Like what you see? Visit the ' +\n",
              "            '<a target=\"_blank\" href=https://colab.research.google.com/notebooks/data_table.ipynb>data table notebook</a>'\n",
              "            + ' to learn more about interactive tables.';\n",
              "          element.innerHTML = '';\n",
              "          dataTable['output_type'] = 'display_data';\n",
              "          await google.colab.output.renderOutput(dataTable, element);\n",
              "          const docLink = document.createElement('div');\n",
              "          docLink.innerHTML = docLinkHtml;\n",
              "          element.appendChild(docLink);\n",
              "        }\n",
              "      </script>\n",
              "    </div>\n",
              "  </div>\n",
              "  "
            ]
          },
          "metadata": {},
          "execution_count": 22
        }
      ]
    },
    {
      "cell_type": "code",
      "source": [
        "print(f\"Сумма отн частот: {accumRelFreq}\")"
      ],
      "metadata": {
        "colab": {
          "base_uri": "https://localhost:8080/"
        },
        "id": "1b7pIimfb3BN",
        "outputId": "0709a94f-c6da-4c3d-fefd-8aabf8a85895"
      },
      "execution_count": 23,
      "outputs": [
        {
          "output_type": "stream",
          "name": "stdout",
          "text": [
            "Сумма отн частот: 1.0\n"
          ]
        }
      ]
    },
    {
      "cell_type": "markdown",
      "source": [
        "Сумма относительных частот составила $1$, что дает уверенность в корректности вычислений"
      ],
      "metadata": {
        "id": "Q0oehO4Hb6Hg"
      }
    },
    {
      "cell_type": "code",
      "source": [
        "_, func = plt.subplots()\n",
        "func.step(intSeries['mid'].tolist(), intSeries['accumRelFreq'].tolist())\n",
        "plt.title(\"Эмпирическая функция\")\n",
        "plt.xlabel('Интервалы')\n",
        "plt.ylabel('Накопленные отн частоты')"
      ],
      "metadata": {
        "colab": {
          "base_uri": "https://localhost:8080/",
          "height": 312
        },
        "id": "lPhtobUf3yzF",
        "outputId": "ca8c7c49-1bf4-461c-c879-7a9269f5874d"
      },
      "execution_count": 63,
      "outputs": [
        {
          "output_type": "execute_result",
          "data": {
            "text/plain": [
              "Text(0, 0.5, 'Накопленные отн частоты')"
            ]
          },
          "metadata": {},
          "execution_count": 63
        },
        {
          "output_type": "display_data",
          "data": {
            "text/plain": [
              "<Figure size 432x288 with 1 Axes>"
            ],
            "image/png": "[encoded data removed]"
          },
          "metadata": {
            "needs_background": "light"
          }
        }
      ]
    },
    {
      "cell_type": "markdown",
      "source": [
        "####Графики по характеру напоминают нормальное распределение."
      ],
      "metadata": {
        "id": "hlciW_ETa1ge"
      }
    },
    {
      "cell_type": "markdown",
      "source": [
        "###Задание 4"
      ],
      "metadata": {
        "id": "OpEvvRckF_cr"
      }
    },
    {
      "cell_type": "markdown",
      "source": [
        "###Построение полигона относительных частот для полученного интервального ряда "
      ],
      "metadata": {
        "id": "x27yWpzIFkj3"
      }
    },
    {
      "cell_type": "code",
      "source": [
        "plt.title(\"Полигон относительных частот\")\n",
        "plt.xlabel('Середины интервалов')\n",
        "plt.ylabel('Отн частоты')\n",
        "plt.plot(intSeries['mid'].tolist(), intSeries['relFreq'].tolist())\n",
        "plt.show()"
      ],
      "metadata": {
        "colab": {
          "base_uri": "https://localhost:8080/",
          "height": 295
        },
        "id": "a5Z6JVWXFntK",
        "outputId": "ccb41c6c-5c16-49ef-9092-f85865c6fd63"
      },
      "execution_count": 25,
      "outputs": [
        {
          "output_type": "display_data",
          "data": {
            "text/plain": [
              "<Figure size 432x288 with 1 Axes>"
            ],
            "image/png": "[encoded data removed]"
          },
          "metadata": {
            "needs_background": "light"
          }
        }
      ]
    },
    {
      "cell_type": "markdown",
      "source": [
        "###Построение гистограммы относительных частот для полученного интервального ряда"
      ],
      "metadata": {
        "id": "r2OaRj_sOhtD"
      }
    },
    {
      "cell_type": "code",
      "source": [
        "plt.title(\"Гистограмма относительных частот\")\n",
        "plt.xlabel('Интервалы')\n",
        "plt.ylabel('Плотость отн частоты')\n",
        "plt.hist(intSeries['mid'].tolist(), weights = [n / h for n in intSeries['relFreq'].tolist()], bins = k)\n",
        "plt.show()"
      ],
      "metadata": {
        "colab": {
          "base_uri": "https://localhost:8080/",
          "height": 295
        },
        "id": "lZQd_4e0OkfS",
        "outputId": "3d840780-0179-40eb-e202-e96285842595"
      },
      "execution_count": 26,
      "outputs": [
        {
          "output_type": "display_data",
          "data": {
            "text/plain": [
              "<Figure size 432x288 with 1 Axes>"
            ],
            "image/png": "[encoded data removed]"
          },
          "metadata": {
            "needs_background": "light"
          }
        }
      ]
    },
    {
      "cell_type": "markdown",
      "source": [
        "Графики от относительных частот нормализованы и в зависимости от поставленных задач могут быть значительно более удобными чем графики от абсолютных частот."
      ],
      "metadata": {
        "id": "JiIJ0eyXdl98"
      }
    },
    {
      "cell_type": "markdown",
      "source": [
        "###Задание 5\n"
      ],
      "metadata": {
        "id": "LvJ6rBwgGQ-f"
      }
    },
    {
      "cell_type": "markdown",
      "source": [
        "Для интервального ряда найти середины интервалов, а также накопленные частоты. Результаты представить в виде таблицы (в последней строке $\\Sigma$ необходимо записать сумму столбца):"
      ],
      "metadata": {
        "id": "U4oYkRlTbjoO"
      }
    },
    {
      "cell_type": "markdown",
      "source": [
        "Середины интервалов и накопленные относительные частоты уже были найдены соответственно в заданиях 2 и 3, тогда остальсь найти накопленные абсолютные частоты."
      ],
      "metadata": {
        "id": "bYeTNSvrbmC1"
      }
    },
    {
      "cell_type": "code",
      "source": [
        "intSeries.loc[:,'accumAbsFreq'] = 0\n",
        "\n",
        "accumAbsFreq = 0\n",
        "\n",
        "for index, row in intSeries.iterrows():\n",
        "  accumAbsFreq += row['absFreq']\n",
        "  intSeries.loc[index,'accumAbsFreq'] = accumAbsFreq\n",
        "\n",
        "intSeries"
      ],
      "metadata": {
        "colab": {
          "base_uri": "https://localhost:8080/",
          "height": 300
        },
        "id": "v_MnD8_yGS90",
        "outputId": "1194e916-b48a-4e13-a90f-340fb36e0bfb"
      },
      "execution_count": 28,
      "outputs": [
        {
          "output_type": "execute_result",
          "data": {
            "text/plain": [
              "   start  end    mid absFreq   relFreq  accumRelFreq  accumAbsFreq\n",
              "0   3.39  4.1  3.745     2.0  0.018349      0.018349             2\n",
              "1   4.10  4.8  4.450     3.0  0.027523      0.045872             5\n",
              "2   4.80  5.5  5.150    10.0  0.091743      0.137615            15\n",
              "3   5.50  6.2  5.850    15.0  0.137615      0.275229            30\n",
              "4   6.20  6.9  6.550    31.0  0.284404      0.559633            61\n",
              "5   6.90  7.6  7.250    33.0  0.302752      0.862385            94\n",
              "6   7.60  8.3  7.950    11.0  0.100917      0.963303           105\n",
              "7   8.30  9.0  8.650     4.0  0.036697      1.000000           109"
            ],
            "text/html": [
              "\n",
              "  <div id=\"df-718a92d9-b323-4ba3-b864-fd75e07cebbc\">\n",
              "    <div class=\"colab-df-container\">\n",
              "      <div>\n",
              "<style scoped>\n",
              "    .dataframe tbody tr th:only-of-type {\n",
              "        vertical-align: middle;\n",
              "    }\n",
              "\n",
              "    .dataframe tbody tr th {\n",
              "        vertical-align: top;\n",
              "    }\n",
              "\n",
              "    .dataframe thead th {\n",
              "        text-align: right;\n",
              "    }\n",
              "</style>\n",
              "<table border=\"1\" class=\"dataframe\">\n",
              "  <thead>\n",
              "    <tr style=\"text-align: right;\">\n",
              "      <th></th>\n",
              "      <th>start</th>\n",
              "      <th>end</th>\n",
              "      <th>mid</th>\n",
              "      <th>absFreq</th>\n",
              "      <th>relFreq</th>\n",
              "      <th>accumRelFreq</th>\n",
              "      <th>accumAbsFreq</th>\n",
              "    </tr>\n",
              "  </thead>\n",
              "  <tbody>\n",
              "    <tr>\n",
              "      <th>0</th>\n",
              "      <td>3.39</td>\n",
              "      <td>4.1</td>\n",
              "      <td>3.745</td>\n",
              "      <td>2.0</td>\n",
              "      <td>0.018349</td>\n",
              "      <td>0.018349</td>\n",
              "      <td>2</td>\n",
              "    </tr>\n",
              "    <tr>\n",
              "      <th>1</th>\n",
              "      <td>4.10</td>\n",
              "      <td>4.8</td>\n",
              "      <td>4.450</td>\n",
              "      <td>3.0</td>\n",
              "      <td>0.027523</td>\n",
              "      <td>0.045872</td>\n",
              "      <td>5</td>\n",
              "    </tr>\n",
              "    <tr>\n",
              "      <th>2</th>\n",
              "      <td>4.80</td>\n",
              "      <td>5.5</td>\n",
              "      <td>5.150</td>\n",
              "      <td>10.0</td>\n",
              "      <td>0.091743</td>\n",
              "      <td>0.137615</td>\n",
              "      <td>15</td>\n",
              "    </tr>\n",
              "    <tr>\n",
              "      <th>3</th>\n",
              "      <td>5.50</td>\n",
              "      <td>6.2</td>\n",
              "      <td>5.850</td>\n",
              "      <td>15.0</td>\n",
              "      <td>0.137615</td>\n",
              "      <td>0.275229</td>\n",
              "      <td>30</td>\n",
              "    </tr>\n",
              "    <tr>\n",
              "      <th>4</th>\n",
              "      <td>6.20</td>\n",
              "      <td>6.9</td>\n",
              "      <td>6.550</td>\n",
              "      <td>31.0</td>\n",
              "      <td>0.284404</td>\n",
              "      <td>0.559633</td>\n",
              "      <td>61</td>\n",
              "    </tr>\n",
              "    <tr>\n",
              "      <th>5</th>\n",
              "      <td>6.90</td>\n",
              "      <td>7.6</td>\n",
              "      <td>7.250</td>\n",
              "      <td>33.0</td>\n",
              "      <td>0.302752</td>\n",
              "      <td>0.862385</td>\n",
              "      <td>94</td>\n",
              "    </tr>\n",
              "    <tr>\n",
              "      <th>6</th>\n",
              "      <td>7.60</td>\n",
              "      <td>8.3</td>\n",
              "      <td>7.950</td>\n",
              "      <td>11.0</td>\n",
              "      <td>0.100917</td>\n",
              "      <td>0.963303</td>\n",
              "      <td>105</td>\n",
              "    </tr>\n",
              "    <tr>\n",
              "      <th>7</th>\n",
              "      <td>8.30</td>\n",
              "      <td>9.0</td>\n",
              "      <td>8.650</td>\n",
              "      <td>4.0</td>\n",
              "      <td>0.036697</td>\n",
              "      <td>1.000000</td>\n",
              "      <td>109</td>\n",
              "    </tr>\n",
              "  </tbody>\n",
              "</table>\n",
              "</div>\n",
              "      <button class=\"colab-df-convert\" onclick=\"convertToInteractive('df-718a92d9-b323-4ba3-b864-fd75e07cebbc')\"\n",
              "              title=\"Convert this dataframe to an interactive table.\"\n",
              "              style=\"display:none;\">\n",
              "        \n",
              "  <svg xmlns=\"http://www.w3.org/2000/svg\" height=\"24px\"viewBox=\"0 0 24 24\"\n",
              "       width=\"24px\">\n",
              "    <path d=\"M0 0h24v24H0V0z\" fill=\"none\"/>\n",
              "    <path d=\"M18.56 5.44l.94 2.06.94-2.06 2.06-.94-2.06-.94-.94-2.06-.94 2.06-2.06.94zm-11 1L8.5 8.5l.94-2.06 2.06-.94-2.06-.94L8.5 2.5l-.94 2.06-2.06.94zm10 10l.94 2.06.94-2.06 2.06-.94-2.06-.94-.94-2.06-.94 2.06-2.06.94z\"/><path d=\"M17.41 7.96l-1.37-1.37c-.4-.4-.92-.59-1.43-.59-.52 0-1.04.2-1.43.59L10.3 9.45l-7.72 7.72c-.78.78-.78 2.05 0 2.83L4 21.41c.39.39.9.59 1.41.59.51 0 1.02-.2 1.41-.59l7.78-7.78 2.81-2.81c.8-.78.8-2.07 0-2.86zM5.41 20L4 18.59l7.72-7.72 1.47 1.35L5.41 20z\"/>\n",
              "  </svg>\n",
              "      </button>\n",
              "      \n",
              "  <style>\n",
              "    .colab-df-container {\n",
              "      display:flex;\n",
              "      flex-wrap:wrap;\n",
              "      gap: 12px;\n",
              "    }\n",
              "\n",
              "    .colab-df-convert {\n",
              "      background-color: #E8F0FE;\n",
              "      border: none;\n",
              "      border-radius: 50%;\n",
              "      cursor: pointer;\n",
              "      display: none;\n",
              "      fill: #1967D2;\n",
              "      height: 32px;\n",
              "      padding: 0 0 0 0;\n",
              "      width: 32px;\n",
              "    }\n",
              "\n",
              "    .colab-df-convert:hover {\n",
              "      background-color: #E2EBFA;\n",
              "      box-shadow: 0px 1px 2px rgba(60, 64, 67, 0.3), 0px 1px 3px 1px rgba(60, 64, 67, 0.15);\n",
              "      fill: #174EA6;\n",
              "    }\n",
              "\n",
              "    [theme=dark] .colab-df-convert {\n",
              "      background-color: #3B4455;\n",
              "      fill: #D2E3FC;\n",
              "    }\n",
              "\n",
              "    [theme=dark] .colab-df-convert:hover {\n",
              "      background-color: #434B5C;\n",
              "      box-shadow: 0px 1px 3px 1px rgba(0, 0, 0, 0.15);\n",
              "      filter: drop-shadow(0px 1px 2px rgba(0, 0, 0, 0.3));\n",
              "      fill: #FFFFFF;\n",
              "    }\n",
              "  </style>\n",
              "\n",
              "      <script>\n",
              "        const buttonEl =\n",
              "          document.querySelector('#df-718a92d9-b323-4ba3-b864-fd75e07cebbc button.colab-df-convert');\n",
              "        buttonEl.style.display =\n",
              "          google.colab.kernel.accessAllowed ? 'block' : 'none';\n",
              "\n",
              "        async function convertToInteractive(key) {\n",
              "          const element = document.querySelector('#df-718a92d9-b323-4ba3-b864-fd75e07cebbc');\n",
              "          const dataTable =\n",
              "            await google.colab.kernel.invokeFunction('convertToInteractive',\n",
              "                                                     [key], {});\n",
              "          if (!dataTable) return;\n",
              "\n",
              "          const docLinkHtml = 'Like what you see? Visit the ' +\n",
              "            '<a target=\"_blank\" href=https://colab.research.google.com/notebooks/data_table.ipynb>data table notebook</a>'\n",
              "            + ' to learn more about interactive tables.';\n",
              "          element.innerHTML = '';\n",
              "          dataTable['output_type'] = 'display_data';\n",
              "          await google.colab.output.renderOutput(dataTable, element);\n",
              "          const docLink = document.createElement('div');\n",
              "          docLink.innerHTML = docLinkHtml;\n",
              "          element.appendChild(docLink);\n",
              "        }\n",
              "      </script>\n",
              "    </div>\n",
              "  </div>\n",
              "  "
            ]
          },
          "metadata": {},
          "execution_count": 28
        }
      ]
    },
    {
      "cell_type": "code",
      "source": [
        "print(f\"Сумма абс частот: {accumAbsFreq}\")"
      ],
      "metadata": {
        "colab": {
          "base_uri": "https://localhost:8080/"
        },
        "id": "89omRVs1QK7k",
        "outputId": "663fedb8-d310-4e0c-8868-d51b0f63abb6"
      },
      "execution_count": 29,
      "outputs": [
        {
          "output_type": "stream",
          "name": "stdout",
          "text": [
            "Сумма абс частот: 109.0\n"
          ]
        }
      ]
    },
    {
      "cell_type": "markdown",
      "source": [
        "Сумма абсолютных частот составила $109$, что равно объему выборки. Сумма относительных частот составила $1$. Такие значения сумм подтверждают корректность вычислений."
      ],
      "metadata": {
        "id": "BcgeVo1zeOzw"
      }
    },
    {
      "cell_type": "markdown",
      "source": [
        "###Задание 6\n"
      ],
      "metadata": {
        "id": "YzX5_8a8I4hX"
      }
    },
    {
      "cell_type": "markdown",
      "source": [
        "Для полученных вариант вычислить условные варианты. Заполнить расчётную таблицу (в последней строке $\\Sigma$ необходимо записать сумму столбца):"
      ],
      "metadata": {
        "id": "plPCRwHqcKsP"
      }
    },
    {
      "cell_type": "code",
      "source": [
        "cVars = pd.DataFrame(columns=['x','n','u','nu','nu^2','nu^3','nu^4','n(u+1)^4'])\n",
        "cVars"
      ],
      "metadata": {
        "colab": {
          "base_uri": "https://localhost:8080/",
          "height": 49
        },
        "id": "JYF7Ku_KI8jt",
        "outputId": "51c2c2cf-ded3-4b21-c1c5-a0f754ce3da4"
      },
      "execution_count": 30,
      "outputs": [
        {
          "output_type": "execute_result",
          "data": {
            "text/plain": [
              "Empty DataFrame\n",
              "Columns: [x, n, u, nu, nu^2, nu^3, nu^4, n(u+1)^4]\n",
              "Index: []"
            ],
            "text/html": [
              "\n",
              "  <div id=\"df-52f47752-8d30-4fef-978e-431d553008cd\">\n",
              "    <div class=\"colab-df-container\">\n",
              "      <div>\n",
              "<style scoped>\n",
              "    .dataframe tbody tr th:only-of-type {\n",
              "        vertical-align: middle;\n",
              "    }\n",
              "\n",
              "    .dataframe tbody tr th {\n",
              "        vertical-align: top;\n",
              "    }\n",
              "\n",
              "    .dataframe thead th {\n",
              "        text-align: right;\n",
              "    }\n",
              "</style>\n",
              "<table border=\"1\" class=\"dataframe\">\n",
              "  <thead>\n",
              "    <tr style=\"text-align: right;\">\n",
              "      <th></th>\n",
              "      <th>x</th>\n",
              "      <th>n</th>\n",
              "      <th>u</th>\n",
              "      <th>nu</th>\n",
              "      <th>nu^2</th>\n",
              "      <th>nu^3</th>\n",
              "      <th>nu^4</th>\n",
              "      <th>n(u+1)^4</th>\n",
              "    </tr>\n",
              "  </thead>\n",
              "  <tbody>\n",
              "  </tbody>\n",
              "</table>\n",
              "</div>\n",
              "      <button class=\"colab-df-convert\" onclick=\"convertToInteractive('df-52f47752-8d30-4fef-978e-431d553008cd')\"\n",
              "              title=\"Convert this dataframe to an interactive table.\"\n",
              "              style=\"display:none;\">\n",
              "        \n",
              "  <svg xmlns=\"http://www.w3.org/2000/svg\" height=\"24px\"viewBox=\"0 0 24 24\"\n",
              "       width=\"24px\">\n",
              "    <path d=\"M0 0h24v24H0V0z\" fill=\"none\"/>\n",
              "    <path d=\"M18.56 5.44l.94 2.06.94-2.06 2.06-.94-2.06-.94-.94-2.06-.94 2.06-2.06.94zm-11 1L8.5 8.5l.94-2.06 2.06-.94-2.06-.94L8.5 2.5l-.94 2.06-2.06.94zm10 10l.94 2.06.94-2.06 2.06-.94-2.06-.94-.94-2.06-.94 2.06-2.06.94z\"/><path d=\"M17.41 7.96l-1.37-1.37c-.4-.4-.92-.59-1.43-.59-.52 0-1.04.2-1.43.59L10.3 9.45l-7.72 7.72c-.78.78-.78 2.05 0 2.83L4 21.41c.39.39.9.59 1.41.59.51 0 1.02-.2 1.41-.59l7.78-7.78 2.81-2.81c.8-.78.8-2.07 0-2.86zM5.41 20L4 18.59l7.72-7.72 1.47 1.35L5.41 20z\"/>\n",
              "  </svg>\n",
              "      </button>\n",
              "      \n",
              "  <style>\n",
              "    .colab-df-container {\n",
              "      display:flex;\n",
              "      flex-wrap:wrap;\n",
              "      gap: 12px;\n",
              "    }\n",
              "\n",
              "    .colab-df-convert {\n",
              "      background-color: #E8F0FE;\n",
              "      border: none;\n",
              "      border-radius: 50%;\n",
              "      cursor: pointer;\n",
              "      display: none;\n",
              "      fill: #1967D2;\n",
              "      height: 32px;\n",
              "      padding: 0 0 0 0;\n",
              "      width: 32px;\n",
              "    }\n",
              "\n",
              "    .colab-df-convert:hover {\n",
              "      background-color: #E2EBFA;\n",
              "      box-shadow: 0px 1px 2px rgba(60, 64, 67, 0.3), 0px 1px 3px 1px rgba(60, 64, 67, 0.15);\n",
              "      fill: #174EA6;\n",
              "    }\n",
              "\n",
              "    [theme=dark] .colab-df-convert {\n",
              "      background-color: #3B4455;\n",
              "      fill: #D2E3FC;\n",
              "    }\n",
              "\n",
              "    [theme=dark] .colab-df-convert:hover {\n",
              "      background-color: #434B5C;\n",
              "      box-shadow: 0px 1px 3px 1px rgba(0, 0, 0, 0.15);\n",
              "      filter: drop-shadow(0px 1px 2px rgba(0, 0, 0, 0.3));\n",
              "      fill: #FFFFFF;\n",
              "    }\n",
              "  </style>\n",
              "\n",
              "      <script>\n",
              "        const buttonEl =\n",
              "          document.querySelector('#df-52f47752-8d30-4fef-978e-431d553008cd button.colab-df-convert');\n",
              "        buttonEl.style.display =\n",
              "          google.colab.kernel.accessAllowed ? 'block' : 'none';\n",
              "\n",
              "        async function convertToInteractive(key) {\n",
              "          const element = document.querySelector('#df-52f47752-8d30-4fef-978e-431d553008cd');\n",
              "          const dataTable =\n",
              "            await google.colab.kernel.invokeFunction('convertToInteractive',\n",
              "                                                     [key], {});\n",
              "          if (!dataTable) return;\n",
              "\n",
              "          const docLinkHtml = 'Like what you see? Visit the ' +\n",
              "            '<a target=\"_blank\" href=https://colab.research.google.com/notebooks/data_table.ipynb>data table notebook</a>'\n",
              "            + ' to learn more about interactive tables.';\n",
              "          element.innerHTML = '';\n",
              "          dataTable['output_type'] = 'display_data';\n",
              "          await google.colab.output.renderOutput(dataTable, element);\n",
              "          const docLink = document.createElement('div');\n",
              "          docLink.innerHTML = docLinkHtml;\n",
              "          element.appendChild(docLink);\n",
              "        }\n",
              "      </script>\n",
              "    </div>\n",
              "  </div>\n",
              "  "
            ]
          },
          "metadata": {},
          "execution_count": 30
        }
      ]
    },
    {
      "cell_type": "code",
      "source": [
        "def addVar(x, n, u, nu, nu2, nu3, nu4, check):\n",
        "  cVars.loc[len(cVars)] = {'x': x, 'n': n, 'u': u, 'nu': nu, 'nu^2': nu2, 'nu^3': nu3, 'nu^4': nu4, 'n(u+1)^4': check}"
      ],
      "metadata": {
        "id": "TAz3lMKzJ_jI"
      },
      "execution_count": 31,
      "outputs": []
    },
    {
      "cell_type": "code",
      "source": [
        "c = intSeries.loc[len(intSeries) // 2, 'mid']\n",
        "\n",
        "for index, row in intSeries.iterrows():\n",
        "  x = row['mid']\n",
        "  n = row['absFreq']\n",
        "  u = round((x - c) / h)\n",
        "  addVar(x, n, u, n * u, n * u**2, n * u**3, n * u**4, n * (u + 1)**4)\n",
        "\n",
        "sum = cVars.sum()\n",
        "\n",
        "sumn = sum['n']\n",
        "sumnu = sum['nu']\n",
        "sumnu2 = sum['nu^2']\n",
        "sumnu3 = sum['nu^3']\n",
        "sumnu4 = sum['nu^4']\n",
        "sumcheck = sum['n(u+1)^4']\n",
        "\n",
        "addVar(\"Сумма\", sumn, None, sumnu, sumnu2, sumnu3, sumnu4, sumcheck)\n",
        "\n",
        "cVars"
      ],
      "metadata": {
        "colab": {
          "base_uri": "https://localhost:8080/",
          "height": 332
        },
        "id": "okVvSN8WJ2Yt",
        "outputId": "24a79d00-15b7-4d88-f4e6-fa985ee6968e"
      },
      "execution_count": 32,
      "outputs": [
        {
          "output_type": "execute_result",
          "data": {
            "text/plain": [
              "       x      n     u    nu   nu^2   nu^3    nu^4  n(u+1)^4\n",
              "0  3.745    2.0    -4  -8.0   32.0 -128.0   512.0     162.0\n",
              "1   4.45    3.0    -3  -9.0   27.0  -81.0   243.0      48.0\n",
              "2   5.15   10.0    -2 -20.0   40.0  -80.0   160.0      10.0\n",
              "3   5.85   15.0    -1 -15.0   15.0  -15.0    15.0       0.0\n",
              "4   6.55   31.0     0   0.0    0.0    0.0     0.0      31.0\n",
              "5   7.25   33.0     1  33.0   33.0   33.0    33.0     528.0\n",
              "6   7.95   11.0     2  22.0   44.0   88.0   176.0     891.0\n",
              "7   8.65    4.0     3  12.0   36.0  108.0   324.0    1024.0\n",
              "8  Сумма  109.0  None  15.0  227.0  -75.0  1463.0    2694.0"
            ],
            "text/html": [
              "\n",
              "  <div id=\"df-ea7ff22a-8e72-4d4d-8a86-95b12de25eae\">\n",
              "    <div class=\"colab-df-container\">\n",
              "      <div>\n",
              "<style scoped>\n",
              "    .dataframe tbody tr th:only-of-type {\n",
              "        vertical-align: middle;\n",
              "    }\n",
              "\n",
              "    .dataframe tbody tr th {\n",
              "        vertical-align: top;\n",
              "    }\n",
              "\n",
              "    .dataframe thead th {\n",
              "        text-align: right;\n",
              "    }\n",
              "</style>\n",
              "<table border=\"1\" class=\"dataframe\">\n",
              "  <thead>\n",
              "    <tr style=\"text-align: right;\">\n",
              "      <th></th>\n",
              "      <th>x</th>\n",
              "      <th>n</th>\n",
              "      <th>u</th>\n",
              "      <th>nu</th>\n",
              "      <th>nu^2</th>\n",
              "      <th>nu^3</th>\n",
              "      <th>nu^4</th>\n",
              "      <th>n(u+1)^4</th>\n",
              "    </tr>\n",
              "  </thead>\n",
              "  <tbody>\n",
              "    <tr>\n",
              "      <th>0</th>\n",
              "      <td>3.745</td>\n",
              "      <td>2.0</td>\n",
              "      <td>-4</td>\n",
              "      <td>-8.0</td>\n",
              "      <td>32.0</td>\n",
              "      <td>-128.0</td>\n",
              "      <td>512.0</td>\n",
              "      <td>162.0</td>\n",
              "    </tr>\n",
              "    <tr>\n",
              "      <th>1</th>\n",
              "      <td>4.45</td>\n",
              "      <td>3.0</td>\n",
              "      <td>-3</td>\n",
              "      <td>-9.0</td>\n",
              "      <td>27.0</td>\n",
              "      <td>-81.0</td>\n",
              "      <td>243.0</td>\n",
              "      <td>48.0</td>\n",
              "    </tr>\n",
              "    <tr>\n",
              "      <th>2</th>\n",
              "      <td>5.15</td>\n",
              "      <td>10.0</td>\n",
              "      <td>-2</td>\n",
              "      <td>-20.0</td>\n",
              "      <td>40.0</td>\n",
              "      <td>-80.0</td>\n",
              "      <td>160.0</td>\n",
              "      <td>10.0</td>\n",
              "    </tr>\n",
              "    <tr>\n",
              "      <th>3</th>\n",
              "      <td>5.85</td>\n",
              "      <td>15.0</td>\n",
              "      <td>-1</td>\n",
              "      <td>-15.0</td>\n",
              "      <td>15.0</td>\n",
              "      <td>-15.0</td>\n",
              "      <td>15.0</td>\n",
              "      <td>0.0</td>\n",
              "    </tr>\n",
              "    <tr>\n",
              "      <th>4</th>\n",
              "      <td>6.55</td>\n",
              "      <td>31.0</td>\n",
              "      <td>0</td>\n",
              "      <td>0.0</td>\n",
              "      <td>0.0</td>\n",
              "      <td>0.0</td>\n",
              "      <td>0.0</td>\n",
              "      <td>31.0</td>\n",
              "    </tr>\n",
              "    <tr>\n",
              "      <th>5</th>\n",
              "      <td>7.25</td>\n",
              "      <td>33.0</td>\n",
              "      <td>1</td>\n",
              "      <td>33.0</td>\n",
              "      <td>33.0</td>\n",
              "      <td>33.0</td>\n",
              "      <td>33.0</td>\n",
              "      <td>528.0</td>\n",
              "    </tr>\n",
              "    <tr>\n",
              "      <th>6</th>\n",
              "      <td>7.95</td>\n",
              "      <td>11.0</td>\n",
              "      <td>2</td>\n",
              "      <td>22.0</td>\n",
              "      <td>44.0</td>\n",
              "      <td>88.0</td>\n",
              "      <td>176.0</td>\n",
              "      <td>891.0</td>\n",
              "    </tr>\n",
              "    <tr>\n",
              "      <th>7</th>\n",
              "      <td>8.65</td>\n",
              "      <td>4.0</td>\n",
              "      <td>3</td>\n",
              "      <td>12.0</td>\n",
              "      <td>36.0</td>\n",
              "      <td>108.0</td>\n",
              "      <td>324.0</td>\n",
              "      <td>1024.0</td>\n",
              "    </tr>\n",
              "    <tr>\n",
              "      <th>8</th>\n",
              "      <td>Сумма</td>\n",
              "      <td>109.0</td>\n",
              "      <td>None</td>\n",
              "      <td>15.0</td>\n",
              "      <td>227.0</td>\n",
              "      <td>-75.0</td>\n",
              "      <td>1463.0</td>\n",
              "      <td>2694.0</td>\n",
              "    </tr>\n",
              "  </tbody>\n",
              "</table>\n",
              "</div>\n",
              "      <button class=\"colab-df-convert\" onclick=\"convertToInteractive('df-ea7ff22a-8e72-4d4d-8a86-95b12de25eae')\"\n",
              "              title=\"Convert this dataframe to an interactive table.\"\n",
              "              style=\"display:none;\">\n",
              "        \n",
              "  <svg xmlns=\"http://www.w3.org/2000/svg\" height=\"24px\"viewBox=\"0 0 24 24\"\n",
              "       width=\"24px\">\n",
              "    <path d=\"M0 0h24v24H0V0z\" fill=\"none\"/>\n",
              "    <path d=\"M18.56 5.44l.94 2.06.94-2.06 2.06-.94-2.06-.94-.94-2.06-.94 2.06-2.06.94zm-11 1L8.5 8.5l.94-2.06 2.06-.94-2.06-.94L8.5 2.5l-.94 2.06-2.06.94zm10 10l.94 2.06.94-2.06 2.06-.94-2.06-.94-.94-2.06-.94 2.06-2.06.94z\"/><path d=\"M17.41 7.96l-1.37-1.37c-.4-.4-.92-.59-1.43-.59-.52 0-1.04.2-1.43.59L10.3 9.45l-7.72 7.72c-.78.78-.78 2.05 0 2.83L4 21.41c.39.39.9.59 1.41.59.51 0 1.02-.2 1.41-.59l7.78-7.78 2.81-2.81c.8-.78.8-2.07 0-2.86zM5.41 20L4 18.59l7.72-7.72 1.47 1.35L5.41 20z\"/>\n",
              "  </svg>\n",
              "      </button>\n",
              "      \n",
              "  <style>\n",
              "    .colab-df-container {\n",
              "      display:flex;\n",
              "      flex-wrap:wrap;\n",
              "      gap: 12px;\n",
              "    }\n",
              "\n",
              "    .colab-df-convert {\n",
              "      background-color: #E8F0FE;\n",
              "      border: none;\n",
              "      border-radius: 50%;\n",
              "      cursor: pointer;\n",
              "      display: none;\n",
              "      fill: #1967D2;\n",
              "      height: 32px;\n",
              "      padding: 0 0 0 0;\n",
              "      width: 32px;\n",
              "    }\n",
              "\n",
              "    .colab-df-convert:hover {\n",
              "      background-color: #E2EBFA;\n",
              "      box-shadow: 0px 1px 2px rgba(60, 64, 67, 0.3), 0px 1px 3px 1px rgba(60, 64, 67, 0.15);\n",
              "      fill: #174EA6;\n",
              "    }\n",
              "\n",
              "    [theme=dark] .colab-df-convert {\n",
              "      background-color: #3B4455;\n",
              "      fill: #D2E3FC;\n",
              "    }\n",
              "\n",
              "    [theme=dark] .colab-df-convert:hover {\n",
              "      background-color: #434B5C;\n",
              "      box-shadow: 0px 1px 3px 1px rgba(0, 0, 0, 0.15);\n",
              "      filter: drop-shadow(0px 1px 2px rgba(0, 0, 0, 0.3));\n",
              "      fill: #FFFFFF;\n",
              "    }\n",
              "  </style>\n",
              "\n",
              "      <script>\n",
              "        const buttonEl =\n",
              "          document.querySelector('#df-ea7ff22a-8e72-4d4d-8a86-95b12de25eae button.colab-df-convert');\n",
              "        buttonEl.style.display =\n",
              "          google.colab.kernel.accessAllowed ? 'block' : 'none';\n",
              "\n",
              "        async function convertToInteractive(key) {\n",
              "          const element = document.querySelector('#df-ea7ff22a-8e72-4d4d-8a86-95b12de25eae');\n",
              "          const dataTable =\n",
              "            await google.colab.kernel.invokeFunction('convertToInteractive',\n",
              "                                                     [key], {});\n",
              "          if (!dataTable) return;\n",
              "\n",
              "          const docLinkHtml = 'Like what you see? Visit the ' +\n",
              "            '<a target=\"_blank\" href=https://colab.research.google.com/notebooks/data_table.ipynb>data table notebook</a>'\n",
              "            + ' to learn more about interactive tables.';\n",
              "          element.innerHTML = '';\n",
              "          dataTable['output_type'] = 'display_data';\n",
              "          await google.colab.output.renderOutput(dataTable, element);\n",
              "          const docLink = document.createElement('div');\n",
              "          docLink.innerHTML = docLinkHtml;\n",
              "          element.appendChild(docLink);\n",
              "        }\n",
              "      </script>\n",
              "    </div>\n",
              "  </div>\n",
              "  "
            ]
          },
          "metadata": {},
          "execution_count": 32
        }
      ]
    },
    {
      "cell_type": "code",
      "source": [
        "print(f\"\\nКонтроль: {sumcheck} = {sumnu4} + 4 * {sumnu3} + 6 * {sumnu2} + 4 * {sumnu} + {N}\")\n",
        "print(f\"Контроль: {sumcheck} == {sumnu4 + 4 * sumnu3 + 6 * sumnu2 + 4 * sumnu + N} : {sumcheck == sumnu4 + 4 * sumnu3 + 6 * sumnu2 + 4 * sumnu + N}\")"
      ],
      "metadata": {
        "colab": {
          "base_uri": "https://localhost:8080/"
        },
        "id": "oawYpD-pQI0P",
        "outputId": "6043169f-37eb-4452-ef1f-5e1a433c6639"
      },
      "execution_count": 33,
      "outputs": [
        {
          "output_type": "stream",
          "name": "stdout",
          "text": [
            "\n",
            "Контроль: 2694.0 = 1463.0 + 4 * -75.0 + 6 * 227.0 + 4 * 15.0 + 109\n",
            "Контроль: 2694.0 == 2694.0 : True\n"
          ]
        }
      ]
    },
    {
      "cell_type": "markdown",
      "source": [
        "Контроль был успешно пройден, а значит вычисленния были проведены корректно."
      ],
      "metadata": {
        "id": "OusoRWV3cak2"
      }
    },
    {
      "cell_type": "markdown",
      "source": [
        "###Задание 7"
      ],
      "metadata": {
        "id": "9epmHDOxHiOd"
      }
    },
    {
      "cell_type": "markdown",
      "source": [
        "Вычислить условные эмпирические моменты $𝜈\n",
        "^*_𝑖$ через условные варианты. С помощью условных эмпирических моментов вычислить\n",
        "центральные эмпирические моменты $\\mu^*_𝑖$. Полученные результаты\n",
        "занести в таблицу"
      ],
      "metadata": {
        "id": "Ajtw0pPLdUCD"
      }
    },
    {
      "cell_type": "code",
      "source": [
        "moments = pd.DataFrame(columns=['i', '𝜈', '𝜇'])\n",
        "moments"
      ],
      "metadata": {
        "colab": {
          "base_uri": "https://localhost:8080/",
          "height": 49
        },
        "id": "7bpUrULkH9Xx",
        "outputId": "3a703a90-0ccf-40da-bfc8-04882f87db13"
      },
      "execution_count": 34,
      "outputs": [
        {
          "output_type": "execute_result",
          "data": {
            "text/plain": [
              "Empty DataFrame\n",
              "Columns: [i, 𝜈, 𝜇]\n",
              "Index: []"
            ],
            "text/html": [
              "\n",
              "  <div id=\"df-73ea3d2e-c428-467e-8024-5580db4d3988\">\n",
              "    <div class=\"colab-df-container\">\n",
              "      <div>\n",
              "<style scoped>\n",
              "    .dataframe tbody tr th:only-of-type {\n",
              "        vertical-align: middle;\n",
              "    }\n",
              "\n",
              "    .dataframe tbody tr th {\n",
              "        vertical-align: top;\n",
              "    }\n",
              "\n",
              "    .dataframe thead th {\n",
              "        text-align: right;\n",
              "    }\n",
              "</style>\n",
              "<table border=\"1\" class=\"dataframe\">\n",
              "  <thead>\n",
              "    <tr style=\"text-align: right;\">\n",
              "      <th></th>\n",
              "      <th>i</th>\n",
              "      <th>𝜈</th>\n",
              "      <th>𝜇</th>\n",
              "    </tr>\n",
              "  </thead>\n",
              "  <tbody>\n",
              "  </tbody>\n",
              "</table>\n",
              "</div>\n",
              "      <button class=\"colab-df-convert\" onclick=\"convertToInteractive('df-73ea3d2e-c428-467e-8024-5580db4d3988')\"\n",
              "              title=\"Convert this dataframe to an interactive table.\"\n",
              "              style=\"display:none;\">\n",
              "        \n",
              "  <svg xmlns=\"http://www.w3.org/2000/svg\" height=\"24px\"viewBox=\"0 0 24 24\"\n",
              "       width=\"24px\">\n",
              "    <path d=\"M0 0h24v24H0V0z\" fill=\"none\"/>\n",
              "    <path d=\"M18.56 5.44l.94 2.06.94-2.06 2.06-.94-2.06-.94-.94-2.06-.94 2.06-2.06.94zm-11 1L8.5 8.5l.94-2.06 2.06-.94-2.06-.94L8.5 2.5l-.94 2.06-2.06.94zm10 10l.94 2.06.94-2.06 2.06-.94-2.06-.94-.94-2.06-.94 2.06-2.06.94z\"/><path d=\"M17.41 7.96l-1.37-1.37c-.4-.4-.92-.59-1.43-.59-.52 0-1.04.2-1.43.59L10.3 9.45l-7.72 7.72c-.78.78-.78 2.05 0 2.83L4 21.41c.39.39.9.59 1.41.59.51 0 1.02-.2 1.41-.59l7.78-7.78 2.81-2.81c.8-.78.8-2.07 0-2.86zM5.41 20L4 18.59l7.72-7.72 1.47 1.35L5.41 20z\"/>\n",
              "  </svg>\n",
              "      </button>\n",
              "      \n",
              "  <style>\n",
              "    .colab-df-container {\n",
              "      display:flex;\n",
              "      flex-wrap:wrap;\n",
              "      gap: 12px;\n",
              "    }\n",
              "\n",
              "    .colab-df-convert {\n",
              "      background-color: #E8F0FE;\n",
              "      border: none;\n",
              "      border-radius: 50%;\n",
              "      cursor: pointer;\n",
              "      display: none;\n",
              "      fill: #1967D2;\n",
              "      height: 32px;\n",
              "      padding: 0 0 0 0;\n",
              "      width: 32px;\n",
              "    }\n",
              "\n",
              "    .colab-df-convert:hover {\n",
              "      background-color: #E2EBFA;\n",
              "      box-shadow: 0px 1px 2px rgba(60, 64, 67, 0.3), 0px 1px 3px 1px rgba(60, 64, 67, 0.15);\n",
              "      fill: #174EA6;\n",
              "    }\n",
              "\n",
              "    [theme=dark] .colab-df-convert {\n",
              "      background-color: #3B4455;\n",
              "      fill: #D2E3FC;\n",
              "    }\n",
              "\n",
              "    [theme=dark] .colab-df-convert:hover {\n",
              "      background-color: #434B5C;\n",
              "      box-shadow: 0px 1px 3px 1px rgba(0, 0, 0, 0.15);\n",
              "      filter: drop-shadow(0px 1px 2px rgba(0, 0, 0, 0.3));\n",
              "      fill: #FFFFFF;\n",
              "    }\n",
              "  </style>\n",
              "\n",
              "      <script>\n",
              "        const buttonEl =\n",
              "          document.querySelector('#df-73ea3d2e-c428-467e-8024-5580db4d3988 button.colab-df-convert');\n",
              "        buttonEl.style.display =\n",
              "          google.colab.kernel.accessAllowed ? 'block' : 'none';\n",
              "\n",
              "        async function convertToInteractive(key) {\n",
              "          const element = document.querySelector('#df-73ea3d2e-c428-467e-8024-5580db4d3988');\n",
              "          const dataTable =\n",
              "            await google.colab.kernel.invokeFunction('convertToInteractive',\n",
              "                                                     [key], {});\n",
              "          if (!dataTable) return;\n",
              "\n",
              "          const docLinkHtml = 'Like what you see? Visit the ' +\n",
              "            '<a target=\"_blank\" href=https://colab.research.google.com/notebooks/data_table.ipynb>data table notebook</a>'\n",
              "            + ' to learn more about interactive tables.';\n",
              "          element.innerHTML = '';\n",
              "          dataTable['output_type'] = 'display_data';\n",
              "          await google.colab.output.renderOutput(dataTable, element);\n",
              "          const docLink = document.createElement('div');\n",
              "          docLink.innerHTML = docLinkHtml;\n",
              "          element.appendChild(docLink);\n",
              "        }\n",
              "      </script>\n",
              "    </div>\n",
              "  </div>\n",
              "  "
            ]
          },
          "metadata": {},
          "execution_count": 34
        }
      ]
    },
    {
      "cell_type": "code",
      "source": [
        "def add(v, u):\n",
        "  moments.loc[len(moments)] = {'i': len(moments) + 1 ,'𝜈': v, '𝜇': u}"
      ],
      "metadata": {
        "id": "h1TY3eNvIrFF"
      },
      "execution_count": 35,
      "outputs": []
    },
    {
      "cell_type": "markdown",
      "source": [
        "Вычислить условные эмпирические моменты можно легко из подсчитанных в предыдущем задании сумм столбцов."
      ],
      "metadata": {
        "id": "eoibVP25e71b"
      }
    },
    {
      "cell_type": "code",
      "source": [
        "v = [0,0,0,0]\n",
        "u = [0,0,0,0]\n",
        "v[0] = sumnu / N\n",
        "v[1] = sumnu2 / N\n",
        "v[2] = sumnu3 / N\n",
        "v[3] = sumnu4 / N\n",
        "\n",
        "u[0] = 0\n",
        "u[1] = (v[1] - v[0]**2) * h**2\n",
        "u[2] = (v[2] - 3 * v[1] * v[0] + 2 * v[0]**3) * h**3\n",
        "u[3] = (v[3] - 4 * v[2] * v[0] + 6 * v[1] * v[0]**2 - 3 * v[0]**4) * h**4\n",
        "\n",
        "for i in range(0, 4):\n",
        "  add(v[i], u[i])\n",
        "\n",
        "moments"
      ],
      "metadata": {
        "colab": {
          "base_uri": "https://localhost:8080/",
          "height": 175
        },
        "id": "hx8MQyoaJt2N",
        "outputId": "5ec3c3e9-a0a9-4efe-cb9b-4cce92506daf"
      },
      "execution_count": 36,
      "outputs": [
        {
          "output_type": "execute_result",
          "data": {
            "text/plain": [
              "   i          𝜈         𝜇\n",
              "0  1   0.137615         0\n",
              "1  2   2.082569  1.011179\n",
              "2  3  -0.688073 -0.529125\n",
              "3  4  13.422018  3.370124"
            ],
            "text/html": [
              "\n",
              "  <div id=\"df-8604de2b-572d-47f3-b382-5a0678c90daf\">\n",
              "    <div class=\"colab-df-container\">\n",
              "      <div>\n",
              "<style scoped>\n",
              "    .dataframe tbody tr th:only-of-type {\n",
              "        vertical-align: middle;\n",
              "    }\n",
              "\n",
              "    .dataframe tbody tr th {\n",
              "        vertical-align: top;\n",
              "    }\n",
              "\n",
              "    .dataframe thead th {\n",
              "        text-align: right;\n",
              "    }\n",
              "</style>\n",
              "<table border=\"1\" class=\"dataframe\">\n",
              "  <thead>\n",
              "    <tr style=\"text-align: right;\">\n",
              "      <th></th>\n",
              "      <th>i</th>\n",
              "      <th>𝜈</th>\n",
              "      <th>𝜇</th>\n",
              "    </tr>\n",
              "  </thead>\n",
              "  <tbody>\n",
              "    <tr>\n",
              "      <th>0</th>\n",
              "      <td>1</td>\n",
              "      <td>0.137615</td>\n",
              "      <td>0</td>\n",
              "    </tr>\n",
              "    <tr>\n",
              "      <th>1</th>\n",
              "      <td>2</td>\n",
              "      <td>2.082569</td>\n",
              "      <td>1.011179</td>\n",
              "    </tr>\n",
              "    <tr>\n",
              "      <th>2</th>\n",
              "      <td>3</td>\n",
              "      <td>-0.688073</td>\n",
              "      <td>-0.529125</td>\n",
              "    </tr>\n",
              "    <tr>\n",
              "      <th>3</th>\n",
              "      <td>4</td>\n",
              "      <td>13.422018</td>\n",
              "      <td>3.370124</td>\n",
              "    </tr>\n",
              "  </tbody>\n",
              "</table>\n",
              "</div>\n",
              "      <button class=\"colab-df-convert\" onclick=\"convertToInteractive('df-8604de2b-572d-47f3-b382-5a0678c90daf')\"\n",
              "              title=\"Convert this dataframe to an interactive table.\"\n",
              "              style=\"display:none;\">\n",
              "        \n",
              "  <svg xmlns=\"http://www.w3.org/2000/svg\" height=\"24px\"viewBox=\"0 0 24 24\"\n",
              "       width=\"24px\">\n",
              "    <path d=\"M0 0h24v24H0V0z\" fill=\"none\"/>\n",
              "    <path d=\"M18.56 5.44l.94 2.06.94-2.06 2.06-.94-2.06-.94-.94-2.06-.94 2.06-2.06.94zm-11 1L8.5 8.5l.94-2.06 2.06-.94-2.06-.94L8.5 2.5l-.94 2.06-2.06.94zm10 10l.94 2.06.94-2.06 2.06-.94-2.06-.94-.94-2.06-.94 2.06-2.06.94z\"/><path d=\"M17.41 7.96l-1.37-1.37c-.4-.4-.92-.59-1.43-.59-.52 0-1.04.2-1.43.59L10.3 9.45l-7.72 7.72c-.78.78-.78 2.05 0 2.83L4 21.41c.39.39.9.59 1.41.59.51 0 1.02-.2 1.41-.59l7.78-7.78 2.81-2.81c.8-.78.8-2.07 0-2.86zM5.41 20L4 18.59l7.72-7.72 1.47 1.35L5.41 20z\"/>\n",
              "  </svg>\n",
              "      </button>\n",
              "      \n",
              "  <style>\n",
              "    .colab-df-container {\n",
              "      display:flex;\n",
              "      flex-wrap:wrap;\n",
              "      gap: 12px;\n",
              "    }\n",
              "\n",
              "    .colab-df-convert {\n",
              "      background-color: #E8F0FE;\n",
              "      border: none;\n",
              "      border-radius: 50%;\n",
              "      cursor: pointer;\n",
              "      display: none;\n",
              "      fill: #1967D2;\n",
              "      height: 32px;\n",
              "      padding: 0 0 0 0;\n",
              "      width: 32px;\n",
              "    }\n",
              "\n",
              "    .colab-df-convert:hover {\n",
              "      background-color: #E2EBFA;\n",
              "      box-shadow: 0px 1px 2px rgba(60, 64, 67, 0.3), 0px 1px 3px 1px rgba(60, 64, 67, 0.15);\n",
              "      fill: #174EA6;\n",
              "    }\n",
              "\n",
              "    [theme=dark] .colab-df-convert {\n",
              "      background-color: #3B4455;\n",
              "      fill: #D2E3FC;\n",
              "    }\n",
              "\n",
              "    [theme=dark] .colab-df-convert:hover {\n",
              "      background-color: #434B5C;\n",
              "      box-shadow: 0px 1px 3px 1px rgba(0, 0, 0, 0.15);\n",
              "      filter: drop-shadow(0px 1px 2px rgba(0, 0, 0, 0.3));\n",
              "      fill: #FFFFFF;\n",
              "    }\n",
              "  </style>\n",
              "\n",
              "      <script>\n",
              "        const buttonEl =\n",
              "          document.querySelector('#df-8604de2b-572d-47f3-b382-5a0678c90daf button.colab-df-convert');\n",
              "        buttonEl.style.display =\n",
              "          google.colab.kernel.accessAllowed ? 'block' : 'none';\n",
              "\n",
              "        async function convertToInteractive(key) {\n",
              "          const element = document.querySelector('#df-8604de2b-572d-47f3-b382-5a0678c90daf');\n",
              "          const dataTable =\n",
              "            await google.colab.kernel.invokeFunction('convertToInteractive',\n",
              "                                                     [key], {});\n",
              "          if (!dataTable) return;\n",
              "\n",
              "          const docLinkHtml = 'Like what you see? Visit the ' +\n",
              "            '<a target=\"_blank\" href=https://colab.research.google.com/notebooks/data_table.ipynb>data table notebook</a>'\n",
              "            + ' to learn more about interactive tables.';\n",
              "          element.innerHTML = '';\n",
              "          dataTable['output_type'] = 'display_data';\n",
              "          await google.colab.output.renderOutput(dataTable, element);\n",
              "          const docLink = document.createElement('div');\n",
              "          docLink.innerHTML = docLinkHtml;\n",
              "          element.appendChild(docLink);\n",
              "        }\n",
              "      </script>\n",
              "    </div>\n",
              "  </div>\n",
              "  "
            ]
          },
          "metadata": {},
          "execution_count": 36
        }
      ]
    },
    {
      "cell_type": "code",
      "source": [
        "def uslMoment(i):\n",
        "  return v[i-1]\n",
        "\n",
        "def centerMoment(i):\n",
        "  return u[i-1]"
      ],
      "metadata": {
        "id": "YWSB0F_sUBdf"
      },
      "execution_count": 37,
      "outputs": []
    },
    {
      "cell_type": "markdown",
      "source": [
        "###Задание 8"
      ],
      "metadata": {
        "id": "WoTpxnsbNQ1f"
      }
    },
    {
      "cell_type": "markdown",
      "source": [
        "Вычислить выборочные среднее и дисперсию с помощью стандартной формулы и с помощью условных вариант. Убедиться, что результаты совпадают."
      ],
      "metadata": {
        "id": "YA5fJydqfTBv"
      }
    },
    {
      "cell_type": "markdown",
      "source": [
        "####Вычисление выборочные средние"
      ],
      "metadata": {
        "id": "xQA1MldWfqk5"
      }
    },
    {
      "cell_type": "code",
      "source": [
        "def calcAvgStandart():\n",
        "  xv = 0\n",
        "  for index, row in varSeries.iterrows():\n",
        "    xv += row['var'] * row['relFreq']\n",
        "  return xv\n",
        "\n",
        "def calcAvgUsl():\n",
        "  return uslMoment(1) * h + c"
      ],
      "metadata": {
        "id": "IyJstJl1NXL9"
      },
      "execution_count": 38,
      "outputs": []
    },
    {
      "cell_type": "code",
      "source": [
        "print(f\"Выборочное среднее по стандартной формуле: {calcAvgStandart()}\")\n",
        "print(f\"Выборочное среднее через условные эмпирические моменты: {calcAvgUsl()}\")\n",
        "print(f\"Значения равны: {calcAvgStandart() == calcAvgUsl()}\")"
      ],
      "metadata": {
        "colab": {
          "base_uri": "https://localhost:8080/"
        },
        "id": "H5CjWZ7TOlaf",
        "outputId": "47b84b31-4fa0-4424-e2f5-341f498be1e1"
      },
      "execution_count": 39,
      "outputs": [
        {
          "output_type": "stream",
          "name": "stdout",
          "text": [
            "Выборочное среднее по стандартной формуле: 6.655045871559634\n",
            "Выборочное среднее через условные эмпирические моменты: 6.646330275229357\n",
            "Значения равны: False\n"
          ]
        }
      ]
    },
    {
      "cell_type": "markdown",
      "source": [
        "Значения имеют лишь незначительные отличия"
      ],
      "metadata": {
        "id": "MTp65hMgfXYF"
      }
    },
    {
      "cell_type": "markdown",
      "source": [
        "####Вычисление выборочные дисперсии"
      ],
      "metadata": {
        "id": "aTrfJNV2fwN0"
      }
    },
    {
      "cell_type": "code",
      "source": [
        "def calcDispStandart():\n",
        "  disp = 0\n",
        "  avg = calcAvgStandart()\n",
        "  for index, row in varSeries.iterrows():\n",
        "    disp += (row['var'] - avg)**2 * row['relFreq']\n",
        "  return disp\n",
        "\n",
        "def calcDispUsl():\n",
        "  return centerMoment(2)"
      ],
      "metadata": {
        "id": "hMWaHbaePS_8"
      },
      "execution_count": 40,
      "outputs": []
    },
    {
      "cell_type": "code",
      "source": [
        "print(f\"Выборочная дисперсия по стандартной формуле: {calcDispStandart()}\")\n",
        "print(f\"Выборочная дисперсия через условные эмпирические моменты: {calcDispUsl()}\")\n",
        "print(f\"Значения равны: {calcDispStandart() == calcDispUsl()}\")"
      ],
      "metadata": {
        "colab": {
          "base_uri": "https://localhost:8080/"
        },
        "id": "rvA9TDcTQfO_",
        "outputId": "e89bb992-563c-45b5-bf0f-21698832d6ec"
      },
      "execution_count": 41,
      "outputs": [
        {
          "output_type": "stream",
          "name": "stdout",
          "text": [
            "Выборочная дисперсия по стандартной формуле: 0.9751350896389195\n",
            "Выборочная дисперсия через условные эмпирические моменты: 1.0111791936705665\n",
            "Значения равны: False\n"
          ]
        }
      ]
    },
    {
      "cell_type": "markdown",
      "source": [
        "Значения дисперсий так же имеют незначительные отличия"
      ],
      "metadata": {
        "id": "fNVJ1xIDgUsR"
      }
    },
    {
      "cell_type": "markdown",
      "source": [
        "###Задание 9"
      ],
      "metadata": {
        "id": "2mLLWZKTREgM"
      }
    },
    {
      "cell_type": "markdown",
      "source": [
        "Вычислить исправленную выборочную дисперсию и исправленное\n",
        "СКО. Сравнить данные оценки с смещёнными оценками дисперсии\n",
        "и СКО."
      ],
      "metadata": {
        "id": "MD1FajC0g7Al"
      }
    },
    {
      "cell_type": "code",
      "source": [
        "def calcIspDisp():\n",
        "  return calcDispStandart() * N / (N-1)\n",
        "\n",
        "def calcSKO():\n",
        "  return calcDispStandart()**0.5\n",
        "\n",
        "def calcIspSKO():\n",
        "  return calcIspDisp()**0.5"
      ],
      "metadata": {
        "id": "BxkysACZRLRm"
      },
      "execution_count": 42,
      "outputs": []
    },
    {
      "cell_type": "code",
      "source": [
        "print(f\"Исправленная дисперсия: {calcIspDisp()}\")\n",
        "print(f\"Смещенная дисперсия: {calcDispStandart()}\")\n",
        "print(f\"Исправленное СКО: {calcIspSKO()}\")\n",
        "print(f\"Смещенное СКО: {calcSKO()}\")"
      ],
      "metadata": {
        "colab": {
          "base_uri": "https://localhost:8080/"
        },
        "id": "ezd_AIb9Sll0",
        "outputId": "807f8592-63bf-4f73-f046-26ef80561d60"
      },
      "execution_count": 43,
      "outputs": [
        {
          "output_type": "stream",
          "name": "stdout",
          "text": [
            "Исправленная дисперсия: 0.9841641182466873\n",
            "Смещенная дисперсия: 0.9751350896389195\n",
            "Исправленное СКО: 0.9920504615425\n",
            "Смещенное СКО: 0.9874892858350006\n"
          ]
        }
      ]
    },
    {
      "cell_type": "markdown",
      "source": [
        "###Задание 10\n"
      ],
      "metadata": {
        "id": "lOhwi7TSTQqR"
      }
    },
    {
      "cell_type": "markdown",
      "source": [
        "Найти статистическую оценку коэффициентов асимметрии и эксцесса. Сделать выводы."
      ],
      "metadata": {
        "id": "x4RQ_6BihJuv"
      }
    },
    {
      "cell_type": "code",
      "source": [
        "def calcAssym():\n",
        "  return centerMoment(3) / calcSKO()**3\n",
        "\n",
        "def calcExc():\n",
        "  return centerMoment(4) / calcDispStandart()**2 - 3"
      ],
      "metadata": {
        "id": "yBG4ScgaTWvu"
      },
      "execution_count": 44,
      "outputs": []
    },
    {
      "cell_type": "code",
      "source": [
        "print(f\"Выборочный коэффициент ассиметрии: {calcAssym()}\")\n",
        "print(f\"Выборочный коэффициент эксцесса: {calcExc()}\")"
      ],
      "metadata": {
        "colab": {
          "base_uri": "https://localhost:8080/"
        },
        "id": "YYWoKkqCTwHL",
        "outputId": "5b258aed-7f90-43e8-8c4a-69c8f8918bb7"
      },
      "execution_count": 45,
      "outputs": [
        {
          "output_type": "stream",
          "name": "stdout",
          "text": [
            "Выборочный коэффициент ассиметрии: -0.5494912265604572\n",
            "Выборочный коэффициент эксцесса: 0.5441842106708434\n"
          ]
        }
      ]
    },
    {
      "cell_type": "markdown",
      "source": [
        "Так как коэффициент ассиметрии $a^*_s < 0$ и коэффициент эксцесса $\\varepsilon^*_k>0$, то выборка смещена относительно нормального распределения \"влево\" и \"вверх\", что было видно на полигоне частот."
      ],
      "metadata": {
        "id": "j73eMIjihRUE"
      }
    },
    {
      "cell_type": "markdown",
      "source": [
        "###Задание 11"
      ],
      "metadata": {
        "id": "_kCBtwf8UsCS"
      }
    },
    {
      "cell_type": "markdown",
      "source": [
        "Вычислить моду, медиану и коэффициент вариации для заданного\n",
        "распределения. Сделать выводы."
      ],
      "metadata": {
        "id": "WOpohjvIh8dQ"
      }
    },
    {
      "cell_type": "code",
      "source": [
        "def findModa():\n",
        "  moda = 0\n",
        "  freq = -1\n",
        "  for index, row in varSeries.iterrows():\n",
        "    if(row['absFreq'] > freq):\n",
        "      freq = row['absFreq']\n",
        "      moda = row['var']\n",
        "  return moda\n",
        "\n",
        "def findMediana():\n",
        "  mediana = sample.loc[len(varSeries) // 2, X]\n",
        "  return mediana\n",
        "    \n",
        "def calcKoefVar():\n",
        "  return calcSKO() / abs(calcAvgStandart())"
      ],
      "metadata": {
        "id": "ioIAe1AKUunE"
      },
      "execution_count": 46,
      "outputs": []
    },
    {
      "cell_type": "code",
      "source": [
        "print(f\"Мода: {findModa()}\")\n",
        "print(f\"Медиана: {findMediana()}\")\n",
        "print(f\"Коэффициент вариации: {calcKoefVar()}\")"
      ],
      "metadata": {
        "colab": {
          "base_uri": "https://localhost:8080/"
        },
        "id": "kUXA1e_TWvD4",
        "outputId": "2369c7c5-2ae4-42cc-d614-f7364a6f754b"
      },
      "execution_count": 47,
      "outputs": [
        {
          "output_type": "stream",
          "name": "stdout",
          "text": [
            "Мода: 7.0\n",
            "Медиана: 5.7\n",
            "Коэффициент вариации: 0.1483820404687277\n"
          ]
        }
      ]
    },
    {
      "cell_type": "markdown",
      "source": [
        "Мода смещена относительно медианы в сторону больших значений. Коэффициент вариации $v^* < 0,33$ показывает, что выборка однородна."
      ],
      "metadata": {
        "id": "0vTKuhNDjn6R"
      }
    },
    {
      "cell_type": "markdown",
      "source": [
        "###Задание 12\n"
      ],
      "metadata": {
        "id": "ObBSVYzZX02z"
      }
    },
    {
      "cell_type": "markdown",
      "source": [
        "Вычислить точность и доверительный интервал для математического ожидания при неизвестном среднеквадратичном отклонении при заданном объёме выборки для доверительной точности $\\gamma \\in \\{0.95, 0.99\\}$. Сделать выводы."
      ],
      "metadata": {
        "id": "VYhsmwzXkFMY"
      }
    },
    {
      "cell_type": "code",
      "source": [
        "def calcAccur(t):\n",
        "  return t * calcIspSKO() / N**0.5\n",
        "\n",
        "def t95():\n",
        "  return 1.9821734832574511 # Коэффициент Стьюдента t(0.95, 109)\n",
        "\n",
        "def t99():\n",
        "  return 2.622120060014357 # Коэффициент Стьюдента t(0.99, 109)\n",
        "\n",
        "def getDovInt(t):\n",
        "  delta = calcAccur(t)\n",
        "  avg = calcAvgStandart()\n",
        "  return ((avg - delta, avg + delta), delta)\n",
        "\n",
        "def getDovInt95():\n",
        "  return getDovInt(t95())\n",
        "\n",
        "def getDovInt99():\n",
        "  return getDovInt(t99())"
      ],
      "metadata": {
        "id": "vYHsiS8WdaEX"
      },
      "execution_count": 48,
      "outputs": []
    },
    {
      "cell_type": "code",
      "source": [
        "int95, acc95 = getDovInt95()\n",
        "int99, acc99 = getDovInt99()\n",
        "\n",
        "print(f\"Доверительная вероятность = 0.95\\nДоверительный интервал: {int95}\\nТочность: {acc95}\")\n",
        "print(\"==============\")\n",
        "print(f\"Доверительная вероятность = 0.99\\nДоверительный интервал: {int99}\\nТочность: {acc99}\")"
      ],
      "metadata": {
        "colab": {
          "base_uri": "https://localhost:8080/"
        },
        "id": "Nry4E8s6fUEn",
        "outputId": "74474f91-4c80-47d9-b227-ae5e6006950f"
      },
      "execution_count": 49,
      "outputs": [
        {
          "output_type": "stream",
          "name": "stdout",
          "text": [
            "Доверительная вероятность = 0.95\n",
            "Доверительный интервал: (6.466697366920946, 6.843394376198321)\n",
            "Точность: 0.1883485046386876\n",
            "==============\n",
            "Доверительная вероятность = 0.99\n",
            "Доверительный интервал: (6.405888874728461, 6.904202868390806)\n",
            "Точность: 0.24915699683117198\n"
          ]
        }
      ]
    },
    {
      "cell_type": "markdown",
      "source": [
        "Получены доверительные интервалы, покрывающие математическое ожидания генеральной совокупности с заданными доверительными вероятностями $0,95$ и $0,99$. Можно заметить, что для большего значения доверительной точности имеем большее значение точности $\\delta$, т.е. большую длину интервала, что логично, т.к. доверительная точность - это вероятность попадания истинного значения в интервал."
      ],
      "metadata": {
        "id": "BnHAO0OUk-9C"
      }
    },
    {
      "cell_type": "markdown",
      "source": [
        "###Задание 13"
      ],
      "metadata": {
        "id": "41NjMFe9gRVy"
      }
    },
    {
      "cell_type": "markdown",
      "source": [
        "Для вычисления границ доверительного интервала для среднеквадратичного отклонения определить значение 𝑞 при заданных $\\gamma$ и 𝑛.\n",
        "Построить доверительные интервалы, сделать выводы."
      ],
      "metadata": {
        "id": "0vlJcw-zlxBu"
      }
    },
    {
      "cell_type": "markdown",
      "source": [
        "Таблицу значений $q(\\gamma, n)$ со значениеми для $n=109$, поэтому взял значения с самым близким $n=100$\n"
      ],
      "metadata": {
        "id": "iIjJAO5sl0TD"
      }
    },
    {
      "cell_type": "code",
      "source": [
        "def q95():\n",
        "  return 0.143 ## q(0.95, 100)\n",
        "\n",
        "def q99():\n",
        "  return 0.198 ## q(0.99, 100)"
      ],
      "metadata": {
        "id": "ROsZSA7vgYvr"
      },
      "execution_count": 50,
      "outputs": []
    },
    {
      "cell_type": "markdown",
      "source": [
        "Оба значения $q < 1$. Тогда используем доверительный интервал: $s(1-q) < \\sigma_г < s(1+q)$."
      ],
      "metadata": {
        "id": "agJX-DR_lUT7"
      }
    },
    {
      "cell_type": "code",
      "source": [
        "def getDovInt(q):\n",
        "  s = calcSKO()\n",
        "  return (s * (1 - q), s * (1 + q))\n",
        "\n",
        "def getDovInt95():\n",
        "  return getDovInt(q95())\n",
        "\n",
        "def getDovInt99():\n",
        "  return getDovInt(q99())"
      ],
      "metadata": {
        "id": "DbXGuEsolTl3"
      },
      "execution_count": 51,
      "outputs": []
    },
    {
      "cell_type": "code",
      "source": [
        "print(f\"Доверительная вероятность: 0.95\\nДоверительный интервал: {getDovInt95()}\")\n",
        "print(\"==============\")\n",
        "print(f\"Доверительная вероятность: 0.99\\nДоверительный интервал: {getDovInt99()}\")"
      ],
      "metadata": {
        "colab": {
          "base_uri": "https://localhost:8080/"
        },
        "id": "Svcc0jocmUYt",
        "outputId": "fb20ce20-ded2-4ce7-d3c9-982bbcae5fe7"
      },
      "execution_count": 52,
      "outputs": [
        {
          "output_type": "stream",
          "name": "stdout",
          "text": [
            "Доверительная вероятность: 0.95\n",
            "Доверительный интервал: (0.8462783179605955, 1.1287002537094057)\n",
            "==============\n",
            "Доверительная вероятность: 0.99\n",
            "Доверительный интервал: (0.7919664072396705, 1.1830121644303306)\n"
          ]
        }
      ]
    },
    {
      "cell_type": "markdown",
      "source": [
        "Получены два доверительных интервала, покрывающих СКО генеральной совокупности заданными доверительными вероятностями $0,95$ и $0,99$"
      ],
      "metadata": {
        "id": "KsFGt2DsmTKj"
      }
    },
    {
      "cell_type": "markdown",
      "source": [
        "###Задание 14"
      ],
      "metadata": {
        "id": "pgYy3MZZnFW_"
      }
    },
    {
      "cell_type": "markdown",
      "source": [
        "Проверить гипотезу о нормальности заданного распределения с помощью критерия $\\chi^2$ (Пирсона)."
      ],
      "metadata": {
        "id": "p5PD8OycnpA1"
      }
    },
    {
      "cell_type": "markdown",
      "source": [
        "Заполним таблицу расчетов:"
      ],
      "metadata": {
        "id": "NGhuqQlWnv6y"
      }
    },
    {
      "cell_type": "code",
      "source": [
        "pirson = pd.DataFrame(columns=['start', 'end', 'n', 'p', 'n\\'','(n - n\\')2', '(n - n\\')2/n\\'', 'n2', 'n2/n\\''])\n",
        "pirson"
      ],
      "metadata": {
        "colab": {
          "base_uri": "https://localhost:8080/",
          "height": 49
        },
        "id": "OP-aDXPOnU64",
        "outputId": "353fe0dd-6ab9-4ef1-8ea2-c4479e90ccbf"
      },
      "execution_count": 53,
      "outputs": [
        {
          "output_type": "execute_result",
          "data": {
            "text/plain": [
              "Empty DataFrame\n",
              "Columns: [start, end, n, p, n', (n - n')2, (n - n')2/n', n2, n2/n']\n",
              "Index: []"
            ],
            "text/html": [
              "\n",
              "  <div id=\"df-78801e34-d9d2-4944-9eec-7719933ca71a\">\n",
              "    <div class=\"colab-df-container\">\n",
              "      <div>\n",
              "<style scoped>\n",
              "    .dataframe tbody tr th:only-of-type {\n",
              "        vertical-align: middle;\n",
              "    }\n",
              "\n",
              "    .dataframe tbody tr th {\n",
              "        vertical-align: top;\n",
              "    }\n",
              "\n",
              "    .dataframe thead th {\n",
              "        text-align: right;\n",
              "    }\n",
              "</style>\n",
              "<table border=\"1\" class=\"dataframe\">\n",
              "  <thead>\n",
              "    <tr style=\"text-align: right;\">\n",
              "      <th></th>\n",
              "      <th>start</th>\n",
              "      <th>end</th>\n",
              "      <th>n</th>\n",
              "      <th>p</th>\n",
              "      <th>n'</th>\n",
              "      <th>(n - n')2</th>\n",
              "      <th>(n - n')2/n'</th>\n",
              "      <th>n2</th>\n",
              "      <th>n2/n'</th>\n",
              "    </tr>\n",
              "  </thead>\n",
              "  <tbody>\n",
              "  </tbody>\n",
              "</table>\n",
              "</div>\n",
              "      <button class=\"colab-df-convert\" onclick=\"convertToInteractive('df-78801e34-d9d2-4944-9eec-7719933ca71a')\"\n",
              "              title=\"Convert this dataframe to an interactive table.\"\n",
              "              style=\"display:none;\">\n",
              "        \n",
              "  <svg xmlns=\"http://www.w3.org/2000/svg\" height=\"24px\"viewBox=\"0 0 24 24\"\n",
              "       width=\"24px\">\n",
              "    <path d=\"M0 0h24v24H0V0z\" fill=\"none\"/>\n",
              "    <path d=\"M18.56 5.44l.94 2.06.94-2.06 2.06-.94-2.06-.94-.94-2.06-.94 2.06-2.06.94zm-11 1L8.5 8.5l.94-2.06 2.06-.94-2.06-.94L8.5 2.5l-.94 2.06-2.06.94zm10 10l.94 2.06.94-2.06 2.06-.94-2.06-.94-.94-2.06-.94 2.06-2.06.94z\"/><path d=\"M17.41 7.96l-1.37-1.37c-.4-.4-.92-.59-1.43-.59-.52 0-1.04.2-1.43.59L10.3 9.45l-7.72 7.72c-.78.78-.78 2.05 0 2.83L4 21.41c.39.39.9.59 1.41.59.51 0 1.02-.2 1.41-.59l7.78-7.78 2.81-2.81c.8-.78.8-2.07 0-2.86zM5.41 20L4 18.59l7.72-7.72 1.47 1.35L5.41 20z\"/>\n",
              "  </svg>\n",
              "      </button>\n",
              "      \n",
              "  <style>\n",
              "    .colab-df-container {\n",
              "      display:flex;\n",
              "      flex-wrap:wrap;\n",
              "      gap: 12px;\n",
              "    }\n",
              "\n",
              "    .colab-df-convert {\n",
              "      background-color: #E8F0FE;\n",
              "      border: none;\n",
              "      border-radius: 50%;\n",
              "      cursor: pointer;\n",
              "      display: none;\n",
              "      fill: #1967D2;\n",
              "      height: 32px;\n",
              "      padding: 0 0 0 0;\n",
              "      width: 32px;\n",
              "    }\n",
              "\n",
              "    .colab-df-convert:hover {\n",
              "      background-color: #E2EBFA;\n",
              "      box-shadow: 0px 1px 2px rgba(60, 64, 67, 0.3), 0px 1px 3px 1px rgba(60, 64, 67, 0.15);\n",
              "      fill: #174EA6;\n",
              "    }\n",
              "\n",
              "    [theme=dark] .colab-df-convert {\n",
              "      background-color: #3B4455;\n",
              "      fill: #D2E3FC;\n",
              "    }\n",
              "\n",
              "    [theme=dark] .colab-df-convert:hover {\n",
              "      background-color: #434B5C;\n",
              "      box-shadow: 0px 1px 3px 1px rgba(0, 0, 0, 0.15);\n",
              "      filter: drop-shadow(0px 1px 2px rgba(0, 0, 0, 0.3));\n",
              "      fill: #FFFFFF;\n",
              "    }\n",
              "  </style>\n",
              "\n",
              "      <script>\n",
              "        const buttonEl =\n",
              "          document.querySelector('#df-78801e34-d9d2-4944-9eec-7719933ca71a button.colab-df-convert');\n",
              "        buttonEl.style.display =\n",
              "          google.colab.kernel.accessAllowed ? 'block' : 'none';\n",
              "\n",
              "        async function convertToInteractive(key) {\n",
              "          const element = document.querySelector('#df-78801e34-d9d2-4944-9eec-7719933ca71a');\n",
              "          const dataTable =\n",
              "            await google.colab.kernel.invokeFunction('convertToInteractive',\n",
              "                                                     [key], {});\n",
              "          if (!dataTable) return;\n",
              "\n",
              "          const docLinkHtml = 'Like what you see? Visit the ' +\n",
              "            '<a target=\"_blank\" href=https://colab.research.google.com/notebooks/data_table.ipynb>data table notebook</a>'\n",
              "            + ' to learn more about interactive tables.';\n",
              "          element.innerHTML = '';\n",
              "          dataTable['output_type'] = 'display_data';\n",
              "          await google.colab.output.renderOutput(dataTable, element);\n",
              "          const docLink = document.createElement('div');\n",
              "          docLink.innerHTML = docLinkHtml;\n",
              "          element.appendChild(docLink);\n",
              "        }\n",
              "      </script>\n",
              "    </div>\n",
              "  </div>\n",
              "  "
            ]
          },
          "metadata": {},
          "execution_count": 53
        }
      ]
    },
    {
      "cell_type": "code",
      "source": [
        "def add(start, end, n, p, nn, nn2, nn2n, n2, n2n):\n",
        "  pirson.loc[len(pirson)] = { 'start': start, 'end': end, 'n': n, 'p': p, 'n\\'': nn,'(n - n\\')2': nn2, '(n - n\\')2/n\\'': nn2n, 'n2': n2, 'n2/n\\'': n2n }\n",
        "\n",
        "def getLaplace(t):\n",
        "  return scipy.stats.norm.cdf(t) - 0.5"
      ],
      "metadata": {
        "id": "lWWauZ6vtsfV"
      },
      "execution_count": 54,
      "outputs": []
    },
    {
      "cell_type": "code",
      "source": [
        "avg = calcAvgStandart()\n",
        "sko = calcIspSKO()\n",
        "\n",
        "for index, row in intSeries.iterrows():\n",
        "  start = row['start']\n",
        "  end = row['end']\n",
        "  p = getLaplace((end - avg) / sko) - getLaplace((start - avg) / sko)\n",
        "  n = row['absFreq']\n",
        "\n",
        "  if(index == 0):\n",
        "    start = '-беск'\n",
        "    p = getLaplace((end - avg) / sko) + 0.5\n",
        "\n",
        "  if(index == len(intSeries) - 1):\n",
        "    end = '+беск'\n",
        "    p = 0.5 - getLaplace((start - avg) / sko)\n",
        "\n",
        "  nn = N * p\n",
        "  add(start, end, n, p, nn, (n - nn)**2, (n - nn)**2 / nn, n**2, n**2 / nn)\n",
        "\n",
        "sum = pirson.sum()\n",
        "add('Сумма', None, sum['n'], sum['p'], sum['n\\''], sum['(n - n\\')2'], sum['(n - n\\')2/n\\''], sum['n2'], sum['n2/n\\''])\n",
        "pirson"
      ],
      "metadata": {
        "colab": {
          "base_uri": "https://localhost:8080/",
          "height": 369
        },
        "id": "PBg_Vtb8vCNE",
        "outputId": "4ceddd92-1c03-4d1c-8d3f-38c91f406a0b"
      },
      "execution_count": 55,
      "outputs": [
        {
          "output_type": "stream",
          "name": "stderr",
          "text": [
            "/usr/local/lib/python3.7/dist-packages/ipykernel_launcher.py:21: FutureWarning: Dropping of nuisance columns in DataFrame reductions (with 'numeric_only=None') is deprecated; in a future version this will raise TypeError.  Select only valid columns before calling the reduction.\n"
          ]
        },
        {
          "output_type": "execute_result",
          "data": {
            "text/plain": [
              "   start    end      n         p          n'   (n - n')2  (n - n')2/n'  \\\n",
              "0  -беск    4.1    2.0  0.005004    0.545488    2.115606      3.878377   \n",
              "1    4.1    4.8    3.0  0.025744    2.806056    0.037614      0.013405   \n",
              "2    4.8    5.5   10.0  0.091403    9.962907    0.001376      0.000138   \n",
              "3    5.5    6.2   15.0  0.201077   21.917357   47.849824      2.183193   \n",
              "4    6.2    6.9   31.0  0.274286   29.897194    1.216180      0.040679   \n",
              "5    6.9    7.6   33.0  0.232071   25.295756   59.355379      2.346456   \n",
              "6    7.6    8.3   11.0  0.121770   13.272932    5.166220      0.389230   \n",
              "7    8.3  +беск    4.0  0.048645    5.302311    1.696014      0.319863   \n",
              "8  Сумма   None  109.0  1.000000  109.000000  117.438214      9.171340   \n",
              "\n",
              "       n2       n2/n'  \n",
              "0     4.0    7.332889  \n",
              "1     9.0    3.207349  \n",
              "2   100.0   10.037231  \n",
              "3   225.0   10.265836  \n",
              "4   961.0   32.143484  \n",
              "5  1089.0   43.050700  \n",
              "6   121.0    9.116298  \n",
              "7    16.0    3.017552  \n",
              "8  2525.0  118.171340  "
            ],
            "text/html": [
              "\n",
              "  <div id=\"df-f3e2f9e7-673b-4a48-b8e1-c03e12327250\">\n",
              "    <div class=\"colab-df-container\">\n",
              "      <div>\n",
              "<style scoped>\n",
              "    .dataframe tbody tr th:only-of-type {\n",
              "        vertical-align: middle;\n",
              "    }\n",
              "\n",
              "    .dataframe tbody tr th {\n",
              "        vertical-align: top;\n",
              "    }\n",
              "\n",
              "    .dataframe thead th {\n",
              "        text-align: right;\n",
              "    }\n",
              "</style>\n",
              "<table border=\"1\" class=\"dataframe\">\n",
              "  <thead>\n",
              "    <tr style=\"text-align: right;\">\n",
              "      <th></th>\n",
              "      <th>start</th>\n",
              "      <th>end</th>\n",
              "      <th>n</th>\n",
              "      <th>p</th>\n",
              "      <th>n'</th>\n",
              "      <th>(n - n')2</th>\n",
              "      <th>(n - n')2/n'</th>\n",
              "      <th>n2</th>\n",
              "      <th>n2/n'</th>\n",
              "    </tr>\n",
              "  </thead>\n",
              "  <tbody>\n",
              "    <tr>\n",
              "      <th>0</th>\n",
              "      <td>-беск</td>\n",
              "      <td>4.1</td>\n",
              "      <td>2.0</td>\n",
              "      <td>0.005004</td>\n",
              "      <td>0.545488</td>\n",
              "      <td>2.115606</td>\n",
              "      <td>3.878377</td>\n",
              "      <td>4.0</td>\n",
              "      <td>7.332889</td>\n",
              "    </tr>\n",
              "    <tr>\n",
              "      <th>1</th>\n",
              "      <td>4.1</td>\n",
              "      <td>4.8</td>\n",
              "      <td>3.0</td>\n",
              "      <td>0.025744</td>\n",
              "      <td>2.806056</td>\n",
              "      <td>0.037614</td>\n",
              "      <td>0.013405</td>\n",
              "      <td>9.0</td>\n",
              "      <td>3.207349</td>\n",
              "    </tr>\n",
              "    <tr>\n",
              "      <th>2</th>\n",
              "      <td>4.8</td>\n",
              "      <td>5.5</td>\n",
              "      <td>10.0</td>\n",
              "      <td>0.091403</td>\n",
              "      <td>9.962907</td>\n",
              "      <td>0.001376</td>\n",
              "      <td>0.000138</td>\n",
              "      <td>100.0</td>\n",
              "      <td>10.037231</td>\n",
              "    </tr>\n",
              "    <tr>\n",
              "      <th>3</th>\n",
              "      <td>5.5</td>\n",
              "      <td>6.2</td>\n",
              "      <td>15.0</td>\n",
              "      <td>0.201077</td>\n",
              "      <td>21.917357</td>\n",
              "      <td>47.849824</td>\n",
              "      <td>2.183193</td>\n",
              "      <td>225.0</td>\n",
              "      <td>10.265836</td>\n",
              "    </tr>\n",
              "    <tr>\n",
              "      <th>4</th>\n",
              "      <td>6.2</td>\n",
              "      <td>6.9</td>\n",
              "      <td>31.0</td>\n",
              "      <td>0.274286</td>\n",
              "      <td>29.897194</td>\n",
              "      <td>1.216180</td>\n",
              "      <td>0.040679</td>\n",
              "      <td>961.0</td>\n",
              "      <td>32.143484</td>\n",
              "    </tr>\n",
              "    <tr>\n",
              "      <th>5</th>\n",
              "      <td>6.9</td>\n",
              "      <td>7.6</td>\n",
              "      <td>33.0</td>\n",
              "      <td>0.232071</td>\n",
              "      <td>25.295756</td>\n",
              "      <td>59.355379</td>\n",
              "      <td>2.346456</td>\n",
              "      <td>1089.0</td>\n",
              "      <td>43.050700</td>\n",
              "    </tr>\n",
              "    <tr>\n",
              "      <th>6</th>\n",
              "      <td>7.6</td>\n",
              "      <td>8.3</td>\n",
              "      <td>11.0</td>\n",
              "      <td>0.121770</td>\n",
              "      <td>13.272932</td>\n",
              "      <td>5.166220</td>\n",
              "      <td>0.389230</td>\n",
              "      <td>121.0</td>\n",
              "      <td>9.116298</td>\n",
              "    </tr>\n",
              "    <tr>\n",
              "      <th>7</th>\n",
              "      <td>8.3</td>\n",
              "      <td>+беск</td>\n",
              "      <td>4.0</td>\n",
              "      <td>0.048645</td>\n",
              "      <td>5.302311</td>\n",
              "      <td>1.696014</td>\n",
              "      <td>0.319863</td>\n",
              "      <td>16.0</td>\n",
              "      <td>3.017552</td>\n",
              "    </tr>\n",
              "    <tr>\n",
              "      <th>8</th>\n",
              "      <td>Сумма</td>\n",
              "      <td>None</td>\n",
              "      <td>109.0</td>\n",
              "      <td>1.000000</td>\n",
              "      <td>109.000000</td>\n",
              "      <td>117.438214</td>\n",
              "      <td>9.171340</td>\n",
              "      <td>2525.0</td>\n",
              "      <td>118.171340</td>\n",
              "    </tr>\n",
              "  </tbody>\n",
              "</table>\n",
              "</div>\n",
              "      <button class=\"colab-df-convert\" onclick=\"convertToInteractive('df-f3e2f9e7-673b-4a48-b8e1-c03e12327250')\"\n",
              "              title=\"Convert this dataframe to an interactive table.\"\n",
              "              style=\"display:none;\">\n",
              "        \n",
              "  <svg xmlns=\"http://www.w3.org/2000/svg\" height=\"24px\"viewBox=\"0 0 24 24\"\n",
              "       width=\"24px\">\n",
              "    <path d=\"M0 0h24v24H0V0z\" fill=\"none\"/>\n",
              "    <path d=\"M18.56 5.44l.94 2.06.94-2.06 2.06-.94-2.06-.94-.94-2.06-.94 2.06-2.06.94zm-11 1L8.5 8.5l.94-2.06 2.06-.94-2.06-.94L8.5 2.5l-.94 2.06-2.06.94zm10 10l.94 2.06.94-2.06 2.06-.94-2.06-.94-.94-2.06-.94 2.06-2.06.94z\"/><path d=\"M17.41 7.96l-1.37-1.37c-.4-.4-.92-.59-1.43-.59-.52 0-1.04.2-1.43.59L10.3 9.45l-7.72 7.72c-.78.78-.78 2.05 0 2.83L4 21.41c.39.39.9.59 1.41.59.51 0 1.02-.2 1.41-.59l7.78-7.78 2.81-2.81c.8-.78.8-2.07 0-2.86zM5.41 20L4 18.59l7.72-7.72 1.47 1.35L5.41 20z\"/>\n",
              "  </svg>\n",
              "      </button>\n",
              "      \n",
              "  <style>\n",
              "    .colab-df-container {\n",
              "      display:flex;\n",
              "      flex-wrap:wrap;\n",
              "      gap: 12px;\n",
              "    }\n",
              "\n",
              "    .colab-df-convert {\n",
              "      background-color: #E8F0FE;\n",
              "      border: none;\n",
              "      border-radius: 50%;\n",
              "      cursor: pointer;\n",
              "      display: none;\n",
              "      fill: #1967D2;\n",
              "      height: 32px;\n",
              "      padding: 0 0 0 0;\n",
              "      width: 32px;\n",
              "    }\n",
              "\n",
              "    .colab-df-convert:hover {\n",
              "      background-color: #E2EBFA;\n",
              "      box-shadow: 0px 1px 2px rgba(60, 64, 67, 0.3), 0px 1px 3px 1px rgba(60, 64, 67, 0.15);\n",
              "      fill: #174EA6;\n",
              "    }\n",
              "\n",
              "    [theme=dark] .colab-df-convert {\n",
              "      background-color: #3B4455;\n",
              "      fill: #D2E3FC;\n",
              "    }\n",
              "\n",
              "    [theme=dark] .colab-df-convert:hover {\n",
              "      background-color: #434B5C;\n",
              "      box-shadow: 0px 1px 3px 1px rgba(0, 0, 0, 0.15);\n",
              "      filter: drop-shadow(0px 1px 2px rgba(0, 0, 0, 0.3));\n",
              "      fill: #FFFFFF;\n",
              "    }\n",
              "  </style>\n",
              "\n",
              "      <script>\n",
              "        const buttonEl =\n",
              "          document.querySelector('#df-f3e2f9e7-673b-4a48-b8e1-c03e12327250 button.colab-df-convert');\n",
              "        buttonEl.style.display =\n",
              "          google.colab.kernel.accessAllowed ? 'block' : 'none';\n",
              "\n",
              "        async function convertToInteractive(key) {\n",
              "          const element = document.querySelector('#df-f3e2f9e7-673b-4a48-b8e1-c03e12327250');\n",
              "          const dataTable =\n",
              "            await google.colab.kernel.invokeFunction('convertToInteractive',\n",
              "                                                     [key], {});\n",
              "          if (!dataTable) return;\n",
              "\n",
              "          const docLinkHtml = 'Like what you see? Visit the ' +\n",
              "            '<a target=\"_blank\" href=https://colab.research.google.com/notebooks/data_table.ipynb>data table notebook</a>'\n",
              "            + ' to learn more about interactive tables.';\n",
              "          element.innerHTML = '';\n",
              "          dataTable['output_type'] = 'display_data';\n",
              "          await google.colab.output.renderOutput(dataTable, element);\n",
              "          const docLink = document.createElement('div');\n",
              "          docLink.innerHTML = docLinkHtml;\n",
              "          element.appendChild(docLink);\n",
              "        }\n",
              "      </script>\n",
              "    </div>\n",
              "  </div>\n",
              "  "
            ]
          },
          "metadata": {},
          "execution_count": 55
        }
      ]
    },
    {
      "cell_type": "markdown",
      "source": [
        "Проверка вычислений: $\\sum^n_{i=1}\\frac{(n_i-n_i')^2}{n_i'}=\\sum^n_{i=1}\\frac{n_i^2}{n_i'}-n$\n",
        "\n",
        "9.171340 = 118.171340 - 109\n",
        "\n",
        "Пройдена"
      ],
      "metadata": {
        "id": "97Es-4DF2F0-"
      }
    },
    {
      "cell_type": "code",
      "source": [
        "chiKrit = 11.1  # chi(0.05, 8 - 3)"
      ],
      "metadata": {
        "id": "iS3bIAyEAHK1"
      },
      "execution_count": 56,
      "outputs": []
    },
    {
      "cell_type": "markdown",
      "source": [
        "$\\chi^2_{набл} = 9.171340 < \\chi^2_{крит} = 11.1 \\Rightarrow$ нулевую гипотезу $H_0$ о нормальности генеральной совокупности принимаем"
      ],
      "metadata": {
        "id": "-QCQ3DP6Bbs2"
      }
    },
    {
      "cell_type": "markdown",
      "metadata": {
        "id": "nXqTqefxkenu"
      },
      "source": [
        "## Выводы\n",
        "\n",
        "В процессе работы было проведено ознакомление с основными правилами формирования выборки и подготовки выборочных данных к статистическому анализу. Были получены практические навыки нахождения точечных статистических оценок параметров распределения, а также вычисления интервальных статистических оценок параметров распределения выборочных данных и проверки «справедливости» статистических гипотез."
      ]
    }
  ],
  "metadata": {
    "kernelspec": {
      "display_name": "Python 3",
      "language": "python",
      "name": "python3"
    },
    "language_info": {
      "name": "python"
    },
    "colab": {
      "provenance": [],
      "collapsed_sections": []
    }
  },
  "nbformat": 4,
  "nbformat_minor": 0
}