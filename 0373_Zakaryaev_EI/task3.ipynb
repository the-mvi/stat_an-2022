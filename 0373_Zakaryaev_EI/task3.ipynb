{
  "cells": [
    {
      "cell_type": "markdown",
      "metadata": {
        "id": "2BXEPqjlD9hf"
      },
      "source": [
        "# Практическая работа №3: Кластерный анализ\n",
        "Выполнил студент гр. 0373 Закарьяев Эльдар. Вариант №8"
      ]
    },
    {
      "cell_type": "markdown",
      "metadata": {
        "id": "CkoFVlBZD9hj"
      },
      "source": [
        "## Цель работы\n",
        "Освоение основных понятий и некоторых методов кластерного анализа,\n",
        "в частности, метода k-means и метода поиска сгущений.\n"
      ]
    },
    {
      "cell_type": "markdown",
      "metadata": {
        "id": "YXUrUfMsD9hj"
      },
      "source": [
        "## Основные теоретические положения\n",
        "\n",
        "####Нормализация даных:\n",
        "Один из самых распространенных методов - minmax. Он отображает множество точек в единичный квадрат (0, 0) - (1, 1), где 1 - максимальное значение признака, 0 - минимальное.\n",
        "$X_N = \\frac{X-X_{min}}{X_{max}-X_{min}}$\n",
        "\n",
        "####Неотрицательная вещественная функция $d(x,y)$ называется функцией расстояния, если:\n",
        "1. $d(x,y) \\ge 0$\n",
        "2. $d(x,y)=d(y,x)$\n",
        "3. $d(x,y) \\le d(x,z)d(z,y)$\n",
        "\n",
        "Функция Евклидова расстояния: $d(x,y) = \\sqrt{\\sum^n_i{(x_i-y_i)^2}}$\n",
        "\n",
        "####Метод кластеризации K-Means:\n",
        "Вход: совокупность точек D, количество кластеров k\n",
        "1. Случайно выбирается $k$ точек - начальных центроидов кластеров\n",
        "2. Каждый объект совокупности относится к ближайшему центроиду\n",
        "3. Центроид каждого кластера пересчитывается как центр масс точек кластера\n",
        "4. Если центроиды не отличимы от полученных на предыдущем шаге, то алгоритм завершил работу, иначе перехо к п.2\n",
        "\n",
        "####Метод кластеризации K-Medoids:\n",
        "Вход: совокупность точек D, количество кластеров k\n",
        "1. Из совокупности случайно выбирается $k$ точек - начальных центроидов кластеров\n",
        "2. Каждый объект совокупности относится к ближайшему центроиду\n",
        "3. Центроид каждого кластера пересчитывается как точка находящаяся на минимальном расстоянии от остальных точек кластера\n",
        "4. Если центроиды не отличимы от полученных на предыдущем шаге, то алгоритм завершил работу, иначе перехо к п.2\n",
        "\n",
        "####Метод локта поиска оптимального количества кластеров:\n",
        "\n",
        "Алгоритм кластеризации многократно исполняется с увеличением количествы выделяемых кластеров. Для каждой итерации высчитываются разбросы кластеров:\n",
        "\n",
        "$W_{C_j}=\\sum_{x \\in C_j}{(x-x_{C_j})^2}$, \n",
        "\n",
        "$C_j$ - множество элементов кластера $j$, $x_{C_j}$ - центр кластера $j$\n",
        "\n",
        "Разброс представляется на графике. По нему определяется при каком количестве кластеров дальнейшее их увеличение уменьшает разброс с меньшей степенью. На графике это выглядит как перегиб.\n",
        "\n",
        "####Метод поиска сгущения FOREL:\n",
        "Вход: совокупность точек X, радиус поиска R\n",
        "1. u := X\n",
        "2. $x_c$ := randomFrom(u)\n",
        "3. K := selectHypersphere(center=$x_c$, radius=R, from=u)\n",
        "4. $\\widetilde{x}_c$ := $\\frac{1}{|K|}\\sum_{x \\in K}{x}$\n",
        "5. if ($x_c \\neq \\widetilde{x}_c$) $x_c$ := $\\widetilde{x}_c$, goto 3\n",
        "6. u := u \\ K\n",
        "7. yield return Claster(center=$x_c$, content=K)\n",
        "8. if ($|u| > 0$) goto 2\n",
        "\n",
        "####Радиус может быть выбран в пределах: $R_{min}<R<R_{max}$\n",
        "\n",
        "$R_{min} = min\\{d(x,y) > 0 | (x,y) \\in X\\}$\n",
        "\n",
        "$R_{max} = max\\{d(x,y) | (x,y) \\in X\\}$\n",
        "\n",
        "####Метод кластеризации K-Means++:\n",
        "Вход: совокупность точек D, количество кластеров k\n",
        "1. Случайно выбирается начальный центроид первого кластера\n",
        "2. Следующий начальный центроид выбирается из точек совокупности с вероятностью пропорциональной расстоянию точки до ближайщего центроида. То есть с наибольшей вероятностью выбирается точка максимально отдаленная от уже выбранных центроидов\n",
        "3. Повторять шаг 2 k-1 раз, чтобы получить k начальных центроидов\n",
        "4. Выполнить K-Means, используя выбранные центроиды"
      ]
    },
    {
      "cell_type": "markdown",
      "metadata": {
        "id": "DqVjwL5RD9hk"
      },
      "source": [
        "## Постановка задачи\n",
        "Дано конечное множество из объектов, представленных двумя признаками (в качестве этого множества принимаем исходную двумерную выборку, сформированную ранее в практической работе №2). Выполнить разбиение исходного множества объектов на конечное число подмножеств\n",
        "(кластеров) с использованием метода k-means и метода поиска сгущений. Полученные результаты содержательно проинтерпретировать."
      ]
    },
    {
      "cell_type": "markdown",
      "metadata": {
        "id": "_VZv-rw7D9hk"
      },
      "source": [
        "## Выполнение работы"
      ]
    },
    {
      "cell_type": "code",
      "source": [
        "import pandas as pd\n",
        "import numpy as np\n",
        "import matplotlib.pyplot as plt\n",
        "from matplotlib.pyplot import cm\n",
        "import random"
      ],
      "metadata": {
        "id": "Q7icOJBYE4WZ"
      },
      "execution_count": 46,
      "outputs": []
    },
    {
      "cell_type": "code",
      "source": [
        "def parseToFloat(string):\n",
        "  return float(string.replace(\"$\", \"\").replace(\"M\", \"\"))\n",
        "\n",
        "sample = pd.read_csv(\"/content/moviesSample.csv\")\n",
        "X = 'rating'\n",
        "Y = 'gross_earn'\n",
        "N = len(sample)\n",
        "eps = 0.0001\n",
        "\n",
        "for i, row in sample.iterrows():\n",
        "  sample.loc[i, Y] = parseToFloat(row[Y])\n",
        "\n",
        "sample[Y] = pd.to_numeric(sample[Y])\n",
        "sample[X] = pd.to_numeric(sample[X])\n",
        "\n",
        "sample"
      ],
      "metadata": {
        "colab": {
          "base_uri": "https://localhost:8080/",
          "height": 424
        },
        "id": "tF1e_Hg0E7RH",
        "outputId": "dc85087d-d0dc-45d1-ab9b-c836aa21c8d5"
      },
      "execution_count": 47,
      "outputs": [
        {
          "output_type": "execute_result",
          "data": {
            "text/plain": [
              "     rating  gross_earn\n",
              "0       9.0      377.85\n",
              "1       7.8      936.66\n",
              "2       7.2      117.72\n",
              "3       7.2      144.84\n",
              "4       8.4        0.28\n",
              "..      ...         ...\n",
              "104     7.5        0.96\n",
              "105     7.4        0.60\n",
              "106     5.1       20.02\n",
              "107     7.0        4.76\n",
              "108     7.3       40.38\n",
              "\n",
              "[109 rows x 2 columns]"
            ],
            "text/html": [
              "\n",
              "  <div id=\"df-0d1d6551-4a08-470d-b989-4a0c5191cc77\">\n",
              "    <div class=\"colab-df-container\">\n",
              "      <div>\n",
              "<style scoped>\n",
              "    .dataframe tbody tr th:only-of-type {\n",
              "        vertical-align: middle;\n",
              "    }\n",
              "\n",
              "    .dataframe tbody tr th {\n",
              "        vertical-align: top;\n",
              "    }\n",
              "\n",
              "    .dataframe thead th {\n",
              "        text-align: right;\n",
              "    }\n",
              "</style>\n",
              "<table border=\"1\" class=\"dataframe\">\n",
              "  <thead>\n",
              "    <tr style=\"text-align: right;\">\n",
              "      <th></th>\n",
              "      <th>rating</th>\n",
              "      <th>gross_earn</th>\n",
              "    </tr>\n",
              "  </thead>\n",
              "  <tbody>\n",
              "    <tr>\n",
              "      <th>0</th>\n",
              "      <td>9.0</td>\n",
              "      <td>377.85</td>\n",
              "    </tr>\n",
              "    <tr>\n",
              "      <th>1</th>\n",
              "      <td>7.8</td>\n",
              "      <td>936.66</td>\n",
              "    </tr>\n",
              "    <tr>\n",
              "      <th>2</th>\n",
              "      <td>7.2</td>\n",
              "      <td>117.72</td>\n",
              "    </tr>\n",
              "    <tr>\n",
              "      <th>3</th>\n",
              "      <td>7.2</td>\n",
              "      <td>144.84</td>\n",
              "    </tr>\n",
              "    <tr>\n",
              "      <th>4</th>\n",
              "      <td>8.4</td>\n",
              "      <td>0.28</td>\n",
              "    </tr>\n",
              "    <tr>\n",
              "      <th>...</th>\n",
              "      <td>...</td>\n",
              "      <td>...</td>\n",
              "    </tr>\n",
              "    <tr>\n",
              "      <th>104</th>\n",
              "      <td>7.5</td>\n",
              "      <td>0.96</td>\n",
              "    </tr>\n",
              "    <tr>\n",
              "      <th>105</th>\n",
              "      <td>7.4</td>\n",
              "      <td>0.60</td>\n",
              "    </tr>\n",
              "    <tr>\n",
              "      <th>106</th>\n",
              "      <td>5.1</td>\n",
              "      <td>20.02</td>\n",
              "    </tr>\n",
              "    <tr>\n",
              "      <th>107</th>\n",
              "      <td>7.0</td>\n",
              "      <td>4.76</td>\n",
              "    </tr>\n",
              "    <tr>\n",
              "      <th>108</th>\n",
              "      <td>7.3</td>\n",
              "      <td>40.38</td>\n",
              "    </tr>\n",
              "  </tbody>\n",
              "</table>\n",
              "<p>109 rows × 2 columns</p>\n",
              "</div>\n",
              "      <button class=\"colab-df-convert\" onclick=\"convertToInteractive('df-0d1d6551-4a08-470d-b989-4a0c5191cc77')\"\n",
              "              title=\"Convert this dataframe to an interactive table.\"\n",
              "              style=\"display:none;\">\n",
              "        \n",
              "  <svg xmlns=\"http://www.w3.org/2000/svg\" height=\"24px\"viewBox=\"0 0 24 24\"\n",
              "       width=\"24px\">\n",
              "    <path d=\"M0 0h24v24H0V0z\" fill=\"none\"/>\n",
              "    <path d=\"M18.56 5.44l.94 2.06.94-2.06 2.06-.94-2.06-.94-.94-2.06-.94 2.06-2.06.94zm-11 1L8.5 8.5l.94-2.06 2.06-.94-2.06-.94L8.5 2.5l-.94 2.06-2.06.94zm10 10l.94 2.06.94-2.06 2.06-.94-2.06-.94-.94-2.06-.94 2.06-2.06.94z\"/><path d=\"M17.41 7.96l-1.37-1.37c-.4-.4-.92-.59-1.43-.59-.52 0-1.04.2-1.43.59L10.3 9.45l-7.72 7.72c-.78.78-.78 2.05 0 2.83L4 21.41c.39.39.9.59 1.41.59.51 0 1.02-.2 1.41-.59l7.78-7.78 2.81-2.81c.8-.78.8-2.07 0-2.86zM5.41 20L4 18.59l7.72-7.72 1.47 1.35L5.41 20z\"/>\n",
              "  </svg>\n",
              "      </button>\n",
              "      \n",
              "  <style>\n",
              "    .colab-df-container {\n",
              "      display:flex;\n",
              "      flex-wrap:wrap;\n",
              "      gap: 12px;\n",
              "    }\n",
              "\n",
              "    .colab-df-convert {\n",
              "      background-color: #E8F0FE;\n",
              "      border: none;\n",
              "      border-radius: 50%;\n",
              "      cursor: pointer;\n",
              "      display: none;\n",
              "      fill: #1967D2;\n",
              "      height: 32px;\n",
              "      padding: 0 0 0 0;\n",
              "      width: 32px;\n",
              "    }\n",
              "\n",
              "    .colab-df-convert:hover {\n",
              "      background-color: #E2EBFA;\n",
              "      box-shadow: 0px 1px 2px rgba(60, 64, 67, 0.3), 0px 1px 3px 1px rgba(60, 64, 67, 0.15);\n",
              "      fill: #174EA6;\n",
              "    }\n",
              "\n",
              "    [theme=dark] .colab-df-convert {\n",
              "      background-color: #3B4455;\n",
              "      fill: #D2E3FC;\n",
              "    }\n",
              "\n",
              "    [theme=dark] .colab-df-convert:hover {\n",
              "      background-color: #434B5C;\n",
              "      box-shadow: 0px 1px 3px 1px rgba(0, 0, 0, 0.15);\n",
              "      filter: drop-shadow(0px 1px 2px rgba(0, 0, 0, 0.3));\n",
              "      fill: #FFFFFF;\n",
              "    }\n",
              "  </style>\n",
              "\n",
              "      <script>\n",
              "        const buttonEl =\n",
              "          document.querySelector('#df-0d1d6551-4a08-470d-b989-4a0c5191cc77 button.colab-df-convert');\n",
              "        buttonEl.style.display =\n",
              "          google.colab.kernel.accessAllowed ? 'block' : 'none';\n",
              "\n",
              "        async function convertToInteractive(key) {\n",
              "          const element = document.querySelector('#df-0d1d6551-4a08-470d-b989-4a0c5191cc77');\n",
              "          const dataTable =\n",
              "            await google.colab.kernel.invokeFunction('convertToInteractive',\n",
              "                                                     [key], {});\n",
              "          if (!dataTable) return;\n",
              "\n",
              "          const docLinkHtml = 'Like what you see? Visit the ' +\n",
              "            '<a target=\"_blank\" href=https://colab.research.google.com/notebooks/data_table.ipynb>data table notebook</a>'\n",
              "            + ' to learn more about interactive tables.';\n",
              "          element.innerHTML = '';\n",
              "          dataTable['output_type'] = 'display_data';\n",
              "          await google.colab.output.renderOutput(dataTable, element);\n",
              "          const docLink = document.createElement('div');\n",
              "          docLink.innerHTML = docLinkHtml;\n",
              "          element.appendChild(docLink);\n",
              "        }\n",
              "      </script>\n",
              "    </div>\n",
              "  </div>\n",
              "  "
            ]
          },
          "metadata": {},
          "execution_count": 47
        }
      ]
    },
    {
      "cell_type": "markdown",
      "source": [
        "###Задание 1\n",
        "Нормализовать множество точек из предыдущей работы, отобразить полученное множество"
      ],
      "metadata": {
        "id": "bNt-aTVeEzBh"
      }
    },
    {
      "cell_type": "code",
      "source": [
        "sample=(sample-sample.min())/(sample.max()-sample.min())\n",
        "sample"
      ],
      "metadata": {
        "colab": {
          "base_uri": "https://localhost:8080/",
          "height": 424
        },
        "id": "ZmRDnYeoHG7R",
        "outputId": "156ba6f8-78ed-4c22-e7a2-578262acc962"
      },
      "execution_count": 48,
      "outputs": [
        {
          "output_type": "execute_result",
          "data": {
            "text/plain": [
              "       rating  gross_earn\n",
              "0    1.000000    0.403389\n",
              "1    0.785714    1.000000\n",
              "2    0.678571    0.125662\n",
              "3    0.678571    0.154617\n",
              "4    0.892857    0.000278\n",
              "..        ...         ...\n",
              "104  0.732143    0.001004\n",
              "105  0.714286    0.000619\n",
              "106  0.303571    0.021353\n",
              "107  0.642857    0.005061\n",
              "108  0.696429    0.043090\n",
              "\n",
              "[109 rows x 2 columns]"
            ],
            "text/html": [
              "\n",
              "  <div id=\"df-d7ab61df-5458-4c17-a7f9-38577d8b7c33\">\n",
              "    <div class=\"colab-df-container\">\n",
              "      <div>\n",
              "<style scoped>\n",
              "    .dataframe tbody tr th:only-of-type {\n",
              "        vertical-align: middle;\n",
              "    }\n",
              "\n",
              "    .dataframe tbody tr th {\n",
              "        vertical-align: top;\n",
              "    }\n",
              "\n",
              "    .dataframe thead th {\n",
              "        text-align: right;\n",
              "    }\n",
              "</style>\n",
              "<table border=\"1\" class=\"dataframe\">\n",
              "  <thead>\n",
              "    <tr style=\"text-align: right;\">\n",
              "      <th></th>\n",
              "      <th>rating</th>\n",
              "      <th>gross_earn</th>\n",
              "    </tr>\n",
              "  </thead>\n",
              "  <tbody>\n",
              "    <tr>\n",
              "      <th>0</th>\n",
              "      <td>1.000000</td>\n",
              "      <td>0.403389</td>\n",
              "    </tr>\n",
              "    <tr>\n",
              "      <th>1</th>\n",
              "      <td>0.785714</td>\n",
              "      <td>1.000000</td>\n",
              "    </tr>\n",
              "    <tr>\n",
              "      <th>2</th>\n",
              "      <td>0.678571</td>\n",
              "      <td>0.125662</td>\n",
              "    </tr>\n",
              "    <tr>\n",
              "      <th>3</th>\n",
              "      <td>0.678571</td>\n",
              "      <td>0.154617</td>\n",
              "    </tr>\n",
              "    <tr>\n",
              "      <th>4</th>\n",
              "      <td>0.892857</td>\n",
              "      <td>0.000278</td>\n",
              "    </tr>\n",
              "    <tr>\n",
              "      <th>...</th>\n",
              "      <td>...</td>\n",
              "      <td>...</td>\n",
              "    </tr>\n",
              "    <tr>\n",
              "      <th>104</th>\n",
              "      <td>0.732143</td>\n",
              "      <td>0.001004</td>\n",
              "    </tr>\n",
              "    <tr>\n",
              "      <th>105</th>\n",
              "      <td>0.714286</td>\n",
              "      <td>0.000619</td>\n",
              "    </tr>\n",
              "    <tr>\n",
              "      <th>106</th>\n",
              "      <td>0.303571</td>\n",
              "      <td>0.021353</td>\n",
              "    </tr>\n",
              "    <tr>\n",
              "      <th>107</th>\n",
              "      <td>0.642857</td>\n",
              "      <td>0.005061</td>\n",
              "    </tr>\n",
              "    <tr>\n",
              "      <th>108</th>\n",
              "      <td>0.696429</td>\n",
              "      <td>0.043090</td>\n",
              "    </tr>\n",
              "  </tbody>\n",
              "</table>\n",
              "<p>109 rows × 2 columns</p>\n",
              "</div>\n",
              "      <button class=\"colab-df-convert\" onclick=\"convertToInteractive('df-d7ab61df-5458-4c17-a7f9-38577d8b7c33')\"\n",
              "              title=\"Convert this dataframe to an interactive table.\"\n",
              "              style=\"display:none;\">\n",
              "        \n",
              "  <svg xmlns=\"http://www.w3.org/2000/svg\" height=\"24px\"viewBox=\"0 0 24 24\"\n",
              "       width=\"24px\">\n",
              "    <path d=\"M0 0h24v24H0V0z\" fill=\"none\"/>\n",
              "    <path d=\"M18.56 5.44l.94 2.06.94-2.06 2.06-.94-2.06-.94-.94-2.06-.94 2.06-2.06.94zm-11 1L8.5 8.5l.94-2.06 2.06-.94-2.06-.94L8.5 2.5l-.94 2.06-2.06.94zm10 10l.94 2.06.94-2.06 2.06-.94-2.06-.94-.94-2.06-.94 2.06-2.06.94z\"/><path d=\"M17.41 7.96l-1.37-1.37c-.4-.4-.92-.59-1.43-.59-.52 0-1.04.2-1.43.59L10.3 9.45l-7.72 7.72c-.78.78-.78 2.05 0 2.83L4 21.41c.39.39.9.59 1.41.59.51 0 1.02-.2 1.41-.59l7.78-7.78 2.81-2.81c.8-.78.8-2.07 0-2.86zM5.41 20L4 18.59l7.72-7.72 1.47 1.35L5.41 20z\"/>\n",
              "  </svg>\n",
              "      </button>\n",
              "      \n",
              "  <style>\n",
              "    .colab-df-container {\n",
              "      display:flex;\n",
              "      flex-wrap:wrap;\n",
              "      gap: 12px;\n",
              "    }\n",
              "\n",
              "    .colab-df-convert {\n",
              "      background-color: #E8F0FE;\n",
              "      border: none;\n",
              "      border-radius: 50%;\n",
              "      cursor: pointer;\n",
              "      display: none;\n",
              "      fill: #1967D2;\n",
              "      height: 32px;\n",
              "      padding: 0 0 0 0;\n",
              "      width: 32px;\n",
              "    }\n",
              "\n",
              "    .colab-df-convert:hover {\n",
              "      background-color: #E2EBFA;\n",
              "      box-shadow: 0px 1px 2px rgba(60, 64, 67, 0.3), 0px 1px 3px 1px rgba(60, 64, 67, 0.15);\n",
              "      fill: #174EA6;\n",
              "    }\n",
              "\n",
              "    [theme=dark] .colab-df-convert {\n",
              "      background-color: #3B4455;\n",
              "      fill: #D2E3FC;\n",
              "    }\n",
              "\n",
              "    [theme=dark] .colab-df-convert:hover {\n",
              "      background-color: #434B5C;\n",
              "      box-shadow: 0px 1px 3px 1px rgba(0, 0, 0, 0.15);\n",
              "      filter: drop-shadow(0px 1px 2px rgba(0, 0, 0, 0.3));\n",
              "      fill: #FFFFFF;\n",
              "    }\n",
              "  </style>\n",
              "\n",
              "      <script>\n",
              "        const buttonEl =\n",
              "          document.querySelector('#df-d7ab61df-5458-4c17-a7f9-38577d8b7c33 button.colab-df-convert');\n",
              "        buttonEl.style.display =\n",
              "          google.colab.kernel.accessAllowed ? 'block' : 'none';\n",
              "\n",
              "        async function convertToInteractive(key) {\n",
              "          const element = document.querySelector('#df-d7ab61df-5458-4c17-a7f9-38577d8b7c33');\n",
              "          const dataTable =\n",
              "            await google.colab.kernel.invokeFunction('convertToInteractive',\n",
              "                                                     [key], {});\n",
              "          if (!dataTable) return;\n",
              "\n",
              "          const docLinkHtml = 'Like what you see? Visit the ' +\n",
              "            '<a target=\"_blank\" href=https://colab.research.google.com/notebooks/data_table.ipynb>data table notebook</a>'\n",
              "            + ' to learn more about interactive tables.';\n",
              "          element.innerHTML = '';\n",
              "          dataTable['output_type'] = 'display_data';\n",
              "          await google.colab.output.renderOutput(dataTable, element);\n",
              "          const docLink = document.createElement('div');\n",
              "          docLink.innerHTML = docLinkHtml;\n",
              "          element.appendChild(docLink);\n",
              "        }\n",
              "      </script>\n",
              "    </div>\n",
              "  </div>\n",
              "  "
            ]
          },
          "metadata": {},
          "execution_count": 48
        }
      ]
    },
    {
      "cell_type": "code",
      "source": [
        "sample.plot.scatter(x=X, y=Y)"
      ],
      "metadata": {
        "colab": {
          "base_uri": "https://localhost:8080/",
          "height": 296
        },
        "id": "cNi8H0glHhUa",
        "outputId": "b034a87c-4a30-4dff-b23e-6da2668445f4"
      },
      "execution_count": 49,
      "outputs": [
        {
          "output_type": "execute_result",
          "data": {
            "text/plain": [
              "<matplotlib.axes._subplots.AxesSubplot at 0x7f21914cfa60>"
            ]
          },
          "metadata": {},
          "execution_count": 49
        },
        {
          "output_type": "display_data",
          "data": {
            "text/plain": [
              "<Figure size 432x288 with 1 Axes>"
            ],
            "image/png": "[encoded data removed]"
          },
          "metadata": {
            "needs_background": "light"
          }
        }
      ]
    },
    {
      "cell_type": "markdown",
      "source": [
        "###Задание 2\n",
        "Определить «грубую» верхнюю оценку количества кластеров $\\widetilde{k}$."
      ],
      "metadata": {
        "id": "EJqJ5u6IH-17"
      }
    },
    {
      "cell_type": "code",
      "source": [
        "kMax = int(np.floor(np.sqrt(N/2)))\n",
        "print(\"Грубая верхняя оценка количества кластеров:\", kMax)"
      ],
      "metadata": {
        "colab": {
          "base_uri": "https://localhost:8080/"
        },
        "id": "JKXcU62IIPRB",
        "outputId": "4ea848be-8681-455d-de35-7b2bc29d7f99"
      },
      "execution_count": 50,
      "outputs": [
        {
          "output_type": "stream",
          "name": "stdout",
          "text": [
            "Грубая верхняя оценка количества кластеров: 7\n"
          ]
        }
      ]
    },
    {
      "cell_type": "markdown",
      "source": [
        "###Задание 3\n",
        "Реализовать алгоритм k-means. Отобразить полученные кластеры,\n",
        "каждый кластер выделить разным цветом или маркером, отметить\n",
        "центроиды."
      ],
      "metadata": {
        "id": "X0A-lQ04I5ia"
      }
    },
    {
      "cell_type": "code",
      "source": [
        "def CheckCentroids(M, prevM, e):\n",
        "  sum = 0\n",
        "  for i in range(0, len(M)):\n",
        "    sum += EuclidDisatnce(M[i], prevM[i])\n",
        "  return sum <= e\n",
        "\n",
        "def EuclidDisatnce(p1, p2):\n",
        "  return np.sqrt((p1[0] - p2[0])**2 + (p1[1] - p2[1])**2)\n",
        "\n",
        "def GetClosestCentroidIndex(x, M):\n",
        "  min = 0\n",
        "  for i, m in enumerate(M):\n",
        "    if(EuclidDisatnce(x, M[min]) > EuclidDisatnce(x, m)):\n",
        "      min = i\n",
        "  return min\n",
        "\n",
        "def GetCentroids(C, D):\n",
        "  M = []\n",
        "  for i, c in enumerate(C):\n",
        "    M.append((0, 0))\n",
        "    for j in c:\n",
        "      x = D[j]\n",
        "      M[i] = (M[i][0] + x[0]/len(c), M[i][1] + x[1]/len(c))\n",
        "  return M\n",
        "\n",
        "\n",
        "def KMeans(D, k, e):\n",
        "  t = 0\n",
        "  M = [(D[i, 0], D[i, 1]) for i in range(k)]\n",
        "  while(True):\n",
        "    t += 1\n",
        "    C = [[] for j in range(0, k)]\n",
        "    for i, x in enumerate(D):\n",
        "      j = GetClosestCentroidIndex(x, M)\n",
        "      C[j].append(i)\n",
        "    prevM = M\n",
        "    M = GetCentroids(C, D)\n",
        "    if(CheckCentroids(M, prevM, e)):\n",
        "      return (C, M)\n",
        "\n",
        "C, M = KMeans(sample.values, kMax, eps)\n",
        "print('Кластеры: ', C)\n",
        "print('Центры: ', M)"
      ],
      "metadata": {
        "colab": {
          "base_uri": "https://localhost:8080/"
        },
        "id": "i-SZQcyxJGeq",
        "outputId": "4dcda319-80c8-4d25-cf4f-18e97896b2e0"
      },
      "execution_count": 51,
      "outputs": [
        {
          "output_type": "stream",
          "name": "stdout",
          "text": [
            "Кластеры:  [[0], [1], [13, 20, 21, 28, 32, 34, 35, 42, 44, 51, 53, 63, 65, 67, 68, 71, 72, 75, 77, 78, 81, 82, 83, 89, 92, 93, 95, 97, 102, 103], [2, 3, 5, 6, 7, 8, 10, 11, 16, 31, 36, 38, 50], [4, 9, 14, 27, 29, 43, 55, 74], [12, 17, 18, 22, 23, 24, 25, 26, 30, 33, 37, 39, 40, 41, 45, 47, 49, 52, 54, 56, 58, 59, 60, 62, 66, 73, 80, 84, 86, 88, 90, 98, 99, 100, 104, 105, 107, 108], [15, 19, 46, 48, 57, 61, 64, 69, 70, 76, 79, 85, 87, 91, 94, 96, 101, 106]]\n",
            "Центры:  [(1.0, 0.40338870857533315), (0.7857142857142858, 1.0), (0.5029761904761905, 0.03032008028698326), (0.638736263736264, 0.1187419515912854), (0.8526785714285714, 0.015615658097027672), (0.6846804511278194, 0.021396469800226563), (0.29662698412698413, 0.03359763504536309)]\n"
          ]
        }
      ]
    },
    {
      "cell_type": "code",
      "source": [
        "def Darken(color, k):\n",
        "  return color * k\n",
        "\n",
        "def Draw(C, M, D):\n",
        "  k = len(M)\n",
        "  colors=cm.rainbow(np.linspace(0,1,k))\n",
        "  for i in range(0, k):\n",
        "    for j in C[i]:\n",
        "      x = D[j][0]\n",
        "      y = D[j][1]\n",
        "      plt.plot(x, y, 'o', c=colors[i])\n",
        "    x = M[i][0]\n",
        "    y = M[i][1]\n",
        "    plt.plot(x, y, 's', c=Darken(colors[i], 0.8))\n",
        "    \n",
        "\n",
        "Draw(C, M, sample.values)"
      ],
      "metadata": {
        "colab": {
          "base_uri": "https://localhost:8080/",
          "height": 265
        },
        "id": "9uWYhjjkLFnP",
        "outputId": "b09bb6b1-c20f-46a1-d2f3-67b8a637bc20"
      },
      "execution_count": 52,
      "outputs": [
        {
          "output_type": "display_data",
          "data": {
            "text/plain": [
              "<Figure size 432x288 with 1 Axes>"
            ],
            "image/png": "[encoded data removed]"
          },
          "metadata": {
            "needs_background": "light"
          }
        }
      ]
    },
    {
      "cell_type": "markdown",
      "source": [
        "Элементы кластеров отображены кругами. Центры кластеров отображены более темными квадратами. Кластеры разделены по цветам."
      ],
      "metadata": {
        "id": "vtjzItvQRVfR"
      }
    },
    {
      "cell_type": "markdown",
      "source": [
        "###Задание 4\n",
        "Реализовать алгоритм k-medoids. Отобразить полученные кластеры, каждый кластер выделить разным цветом или маркером, отметить центроиды."
      ],
      "metadata": {
        "id": "tMh4gP2DMtsH"
      }
    },
    {
      "cell_type": "code",
      "source": [
        "def GetMedoids(C, D):\n",
        "  M = []\n",
        "  for i, claster in enumerate(C):\n",
        "    M.append((0, 0))\n",
        "    minDist = np.inf\n",
        "    for j in claster:\n",
        "      point = D[j]\n",
        "      dist = 0\n",
        "      for p in claster:\n",
        "        dist += EuclidDisatnce(D[p], D[j])\n",
        "      if dist < minDist:\n",
        "        M[i] = D[j]\n",
        "  return M\n",
        "\n",
        "def KMedoids(D, k, e):\n",
        "  t = 0\n",
        "  M = [(D[i, 0], D[i, 1]) for i in range(k)]\n",
        "  while(True):\n",
        "    t += 1\n",
        "    C = [[] for j in range(0, k)]\n",
        "    for i, x in enumerate(D):\n",
        "      j = GetClosestCentroidIndex(x, M)\n",
        "      C[j].append(i)\n",
        "    prevM = M\n",
        "    M = GetMedoids(C, D)\n",
        "    if(CheckCentroids(M, prevM, e)):\n",
        "      return (C, M)\n",
        "\n",
        "C, M = KMedoids(sample.values, kMax, eps)\n",
        "print('Кластеры: ', C)\n",
        "print('Центры: ', M)\n",
        "Draw(C, M, sample.values)"
      ],
      "metadata": {
        "colab": {
          "base_uri": "https://localhost:8080/",
          "height": 320
        },
        "id": "fcLgG3qLMwoQ",
        "outputId": "cadd5496-b9a2-4a7d-eb73-4abfd4f9f0e4"
      },
      "execution_count": 53,
      "outputs": [
        {
          "output_type": "stream",
          "name": "stdout",
          "text": [
            "Кластеры:  [[0], [1], [2, 3, 5, 6, 8, 10, 17, 18, 24, 25, 26, 30, 31, 33, 36, 40, 41, 52, 56, 108], [15, 19, 21, 42, 46, 48, 53, 57, 61, 64, 69, 70, 75, 76, 79, 81, 82, 85, 87, 89, 91, 93, 94, 96, 101, 103, 106], [4, 27, 74], [9, 12, 14, 23, 29, 43, 49, 55, 59, 60, 62, 99, 100, 104, 105], [7, 11, 13, 16, 20, 22, 28, 32, 34, 35, 37, 38, 39, 44, 45, 47, 50, 51, 54, 58, 63, 65, 66, 67, 68, 71, 72, 73, 77, 78, 80, 83, 84, 86, 88, 90, 92, 95, 97, 98, 102, 107]]\n",
            "Центры:  [array([1.        , 0.40338871]), array([0.78571429, 1.        ]), array([0.69642857, 0.04309019]), array([0.30357143, 0.02135292]), array([1.        , 0.00117441]), array([7.14285714e-01, 6.19234711e-04]), array([0.64285714, 0.00506064])]\n"
          ]
        },
        {
          "output_type": "display_data",
          "data": {
            "text/plain": [
              "<Figure size 432x288 with 1 Axes>"
            ],
            "image/png": "[encoded data removed]"
          },
          "metadata": {
            "needs_background": "light"
          }
        }
      ]
    },
    {
      "cell_type": "markdown",
      "source": [
        "###Задание 5\n",
        "Для каждого метода заполнить следующую таблицу, где значения $k$ изменяются от 1 до $\\widetilde{k}$:\n"
      ],
      "metadata": {
        "id": "7hhEnlBXSCSL"
      }
    },
    {
      "cell_type": "code",
      "source": [
        "kTitle = \"k\"\n",
        "centroidTitle = \"Центроид кластера C_i\"\n",
        "volumeTitle = \"Объем кластера C_i\"\n",
        "medoidsInfo = pd.DataFrame(columns=[kTitle, centroidTitle, volumeTitle])\n",
        "meansInfo = pd.DataFrame(columns=[kTitle, centroidTitle, volumeTitle])\n",
        "\n",
        "for k in range(1, kMax + 1):\n",
        "  Cmeds, Mmeds = KMedoids(sample.values, k, eps)\n",
        "  Cmeans, Mmeans = KMeans(sample.values, k, eps)\n",
        "  for i in range(len(Mmeds)):\n",
        "    medoidsInfo.loc[len(medoidsInfo)] = [k, np.round(Mmeds[i], 2), len(Cmeds[i])]\n",
        "  for i in range(len(Mmeans)):\n",
        "    meansInfo.loc[len(meansInfo)] = [k, np.round(Mmeans[i], 2), len(Cmeans[i])]"
      ],
      "metadata": {
        "id": "u8J_13WRSB2a"
      },
      "execution_count": 54,
      "outputs": []
    },
    {
      "cell_type": "code",
      "source": [
        "print(\"K-Medoids:\")\n",
        "display(medoidsInfo)"
      ],
      "metadata": {
        "colab": {
          "base_uri": "https://localhost:8080/",
          "height": 945
        },
        "id": "daXdtFM3TmTl",
        "outputId": "d77c3776-be0a-44a6-de57-bdf40841c25e"
      },
      "execution_count": 55,
      "outputs": [
        {
          "output_type": "stream",
          "name": "stdout",
          "text": [
            "K-Medoids:\n"
          ]
        },
        {
          "output_type": "display_data",
          "data": {
            "text/plain": [
              "    k Центроид кластера C_i Объем кластера C_i\n",
              "0   1           [0.7, 0.04]                109\n",
              "1   2           [0.7, 0.04]                108\n",
              "2   2           [0.79, 1.0]                  1\n",
              "3   3            [1.0, 0.4]                  1\n",
              "4   3           [0.79, 1.0]                  1\n",
              "5   3           [0.7, 0.04]                107\n",
              "6   4            [1.0, 0.4]                  1\n",
              "7   4           [0.79, 1.0]                  1\n",
              "8   4           [0.7, 0.04]                 74\n",
              "9   4           [0.3, 0.02]                 33\n",
              "10  5            [1.0, 0.4]                  1\n",
              "11  5           [0.79, 1.0]                  1\n",
              "12  5           [0.7, 0.04]                 71\n",
              "13  5           [0.3, 0.02]                 33\n",
              "14  5            [1.0, 0.0]                  3\n",
              "15  6            [1.0, 0.4]                  1\n",
              "16  6           [0.79, 1.0]                  1\n",
              "17  6           [0.7, 0.04]                 55\n",
              "18  6           [0.3, 0.02]                 33\n",
              "19  6            [1.0, 0.0]                  3\n",
              "20  6           [0.71, 0.0]                 16\n",
              "21  7            [1.0, 0.4]                  1\n",
              "22  7           [0.79, 1.0]                  1\n",
              "23  7           [0.7, 0.04]                 20\n",
              "24  7           [0.3, 0.02]                 27\n",
              "25  7            [1.0, 0.0]                  3\n",
              "26  7           [0.71, 0.0]                 15\n",
              "27  7          [0.64, 0.01]                 42"
            ],
            "text/html": [
              "\n",
              "  <div id=\"df-69375918-8ecb-4d6e-8816-264981c1f105\">\n",
              "    <div class=\"colab-df-container\">\n",
              "      <div>\n",
              "<style scoped>\n",
              "    .dataframe tbody tr th:only-of-type {\n",
              "        vertical-align: middle;\n",
              "    }\n",
              "\n",
              "    .dataframe tbody tr th {\n",
              "        vertical-align: top;\n",
              "    }\n",
              "\n",
              "    .dataframe thead th {\n",
              "        text-align: right;\n",
              "    }\n",
              "</style>\n",
              "<table border=\"1\" class=\"dataframe\">\n",
              "  <thead>\n",
              "    <tr style=\"text-align: right;\">\n",
              "      <th></th>\n",
              "      <th>k</th>\n",
              "      <th>Центроид кластера C_i</th>\n",
              "      <th>Объем кластера C_i</th>\n",
              "    </tr>\n",
              "  </thead>\n",
              "  <tbody>\n",
              "    <tr>\n",
              "      <th>0</th>\n",
              "      <td>1</td>\n",
              "      <td>[0.7, 0.04]</td>\n",
              "      <td>109</td>\n",
              "    </tr>\n",
              "    <tr>\n",
              "      <th>1</th>\n",
              "      <td>2</td>\n",
              "      <td>[0.7, 0.04]</td>\n",
              "      <td>108</td>\n",
              "    </tr>\n",
              "    <tr>\n",
              "      <th>2</th>\n",
              "      <td>2</td>\n",
              "      <td>[0.79, 1.0]</td>\n",
              "      <td>1</td>\n",
              "    </tr>\n",
              "    <tr>\n",
              "      <th>3</th>\n",
              "      <td>3</td>\n",
              "      <td>[1.0, 0.4]</td>\n",
              "      <td>1</td>\n",
              "    </tr>\n",
              "    <tr>\n",
              "      <th>4</th>\n",
              "      <td>3</td>\n",
              "      <td>[0.79, 1.0]</td>\n",
              "      <td>1</td>\n",
              "    </tr>\n",
              "    <tr>\n",
              "      <th>5</th>\n",
              "      <td>3</td>\n",
              "      <td>[0.7, 0.04]</td>\n",
              "      <td>107</td>\n",
              "    </tr>\n",
              "    <tr>\n",
              "      <th>6</th>\n",
              "      <td>4</td>\n",
              "      <td>[1.0, 0.4]</td>\n",
              "      <td>1</td>\n",
              "    </tr>\n",
              "    <tr>\n",
              "      <th>7</th>\n",
              "      <td>4</td>\n",
              "      <td>[0.79, 1.0]</td>\n",
              "      <td>1</td>\n",
              "    </tr>\n",
              "    <tr>\n",
              "      <th>8</th>\n",
              "      <td>4</td>\n",
              "      <td>[0.7, 0.04]</td>\n",
              "      <td>74</td>\n",
              "    </tr>\n",
              "    <tr>\n",
              "      <th>9</th>\n",
              "      <td>4</td>\n",
              "      <td>[0.3, 0.02]</td>\n",
              "      <td>33</td>\n",
              "    </tr>\n",
              "    <tr>\n",
              "      <th>10</th>\n",
              "      <td>5</td>\n",
              "      <td>[1.0, 0.4]</td>\n",
              "      <td>1</td>\n",
              "    </tr>\n",
              "    <tr>\n",
              "      <th>11</th>\n",
              "      <td>5</td>\n",
              "      <td>[0.79, 1.0]</td>\n",
              "      <td>1</td>\n",
              "    </tr>\n",
              "    <tr>\n",
              "      <th>12</th>\n",
              "      <td>5</td>\n",
              "      <td>[0.7, 0.04]</td>\n",
              "      <td>71</td>\n",
              "    </tr>\n",
              "    <tr>\n",
              "      <th>13</th>\n",
              "      <td>5</td>\n",
              "      <td>[0.3, 0.02]</td>\n",
              "      <td>33</td>\n",
              "    </tr>\n",
              "    <tr>\n",
              "      <th>14</th>\n",
              "      <td>5</td>\n",
              "      <td>[1.0, 0.0]</td>\n",
              "      <td>3</td>\n",
              "    </tr>\n",
              "    <tr>\n",
              "      <th>15</th>\n",
              "      <td>6</td>\n",
              "      <td>[1.0, 0.4]</td>\n",
              "      <td>1</td>\n",
              "    </tr>\n",
              "    <tr>\n",
              "      <th>16</th>\n",
              "      <td>6</td>\n",
              "      <td>[0.79, 1.0]</td>\n",
              "      <td>1</td>\n",
              "    </tr>\n",
              "    <tr>\n",
              "      <th>17</th>\n",
              "      <td>6</td>\n",
              "      <td>[0.7, 0.04]</td>\n",
              "      <td>55</td>\n",
              "    </tr>\n",
              "    <tr>\n",
              "      <th>18</th>\n",
              "      <td>6</td>\n",
              "      <td>[0.3, 0.02]</td>\n",
              "      <td>33</td>\n",
              "    </tr>\n",
              "    <tr>\n",
              "      <th>19</th>\n",
              "      <td>6</td>\n",
              "      <td>[1.0, 0.0]</td>\n",
              "      <td>3</td>\n",
              "    </tr>\n",
              "    <tr>\n",
              "      <th>20</th>\n",
              "      <td>6</td>\n",
              "      <td>[0.71, 0.0]</td>\n",
              "      <td>16</td>\n",
              "    </tr>\n",
              "    <tr>\n",
              "      <th>21</th>\n",
              "      <td>7</td>\n",
              "      <td>[1.0, 0.4]</td>\n",
              "      <td>1</td>\n",
              "    </tr>\n",
              "    <tr>\n",
              "      <th>22</th>\n",
              "      <td>7</td>\n",
              "      <td>[0.79, 1.0]</td>\n",
              "      <td>1</td>\n",
              "    </tr>\n",
              "    <tr>\n",
              "      <th>23</th>\n",
              "      <td>7</td>\n",
              "      <td>[0.7, 0.04]</td>\n",
              "      <td>20</td>\n",
              "    </tr>\n",
              "    <tr>\n",
              "      <th>24</th>\n",
              "      <td>7</td>\n",
              "      <td>[0.3, 0.02]</td>\n",
              "      <td>27</td>\n",
              "    </tr>\n",
              "    <tr>\n",
              "      <th>25</th>\n",
              "      <td>7</td>\n",
              "      <td>[1.0, 0.0]</td>\n",
              "      <td>3</td>\n",
              "    </tr>\n",
              "    <tr>\n",
              "      <th>26</th>\n",
              "      <td>7</td>\n",
              "      <td>[0.71, 0.0]</td>\n",
              "      <td>15</td>\n",
              "    </tr>\n",
              "    <tr>\n",
              "      <th>27</th>\n",
              "      <td>7</td>\n",
              "      <td>[0.64, 0.01]</td>\n",
              "      <td>42</td>\n",
              "    </tr>\n",
              "  </tbody>\n",
              "</table>\n",
              "</div>\n",
              "      <button class=\"colab-df-convert\" onclick=\"convertToInteractive('df-69375918-8ecb-4d6e-8816-264981c1f105')\"\n",
              "              title=\"Convert this dataframe to an interactive table.\"\n",
              "              style=\"display:none;\">\n",
              "        \n",
              "  <svg xmlns=\"http://www.w3.org/2000/svg\" height=\"24px\"viewBox=\"0 0 24 24\"\n",
              "       width=\"24px\">\n",
              "    <path d=\"M0 0h24v24H0V0z\" fill=\"none\"/>\n",
              "    <path d=\"M18.56 5.44l.94 2.06.94-2.06 2.06-.94-2.06-.94-.94-2.06-.94 2.06-2.06.94zm-11 1L8.5 8.5l.94-2.06 2.06-.94-2.06-.94L8.5 2.5l-.94 2.06-2.06.94zm10 10l.94 2.06.94-2.06 2.06-.94-2.06-.94-.94-2.06-.94 2.06-2.06.94z\"/><path d=\"M17.41 7.96l-1.37-1.37c-.4-.4-.92-.59-1.43-.59-.52 0-1.04.2-1.43.59L10.3 9.45l-7.72 7.72c-.78.78-.78 2.05 0 2.83L4 21.41c.39.39.9.59 1.41.59.51 0 1.02-.2 1.41-.59l7.78-7.78 2.81-2.81c.8-.78.8-2.07 0-2.86zM5.41 20L4 18.59l7.72-7.72 1.47 1.35L5.41 20z\"/>\n",
              "  </svg>\n",
              "      </button>\n",
              "      \n",
              "  <style>\n",
              "    .colab-df-container {\n",
              "      display:flex;\n",
              "      flex-wrap:wrap;\n",
              "      gap: 12px;\n",
              "    }\n",
              "\n",
              "    .colab-df-convert {\n",
              "      background-color: #E8F0FE;\n",
              "      border: none;\n",
              "      border-radius: 50%;\n",
              "      cursor: pointer;\n",
              "      display: none;\n",
              "      fill: #1967D2;\n",
              "      height: 32px;\n",
              "      padding: 0 0 0 0;\n",
              "      width: 32px;\n",
              "    }\n",
              "\n",
              "    .colab-df-convert:hover {\n",
              "      background-color: #E2EBFA;\n",
              "      box-shadow: 0px 1px 2px rgba(60, 64, 67, 0.3), 0px 1px 3px 1px rgba(60, 64, 67, 0.15);\n",
              "      fill: #174EA6;\n",
              "    }\n",
              "\n",
              "    [theme=dark] .colab-df-convert {\n",
              "      background-color: #3B4455;\n",
              "      fill: #D2E3FC;\n",
              "    }\n",
              "\n",
              "    [theme=dark] .colab-df-convert:hover {\n",
              "      background-color: #434B5C;\n",
              "      box-shadow: 0px 1px 3px 1px rgba(0, 0, 0, 0.15);\n",
              "      filter: drop-shadow(0px 1px 2px rgba(0, 0, 0, 0.3));\n",
              "      fill: #FFFFFF;\n",
              "    }\n",
              "  </style>\n",
              "\n",
              "      <script>\n",
              "        const buttonEl =\n",
              "          document.querySelector('#df-69375918-8ecb-4d6e-8816-264981c1f105 button.colab-df-convert');\n",
              "        buttonEl.style.display =\n",
              "          google.colab.kernel.accessAllowed ? 'block' : 'none';\n",
              "\n",
              "        async function convertToInteractive(key) {\n",
              "          const element = document.querySelector('#df-69375918-8ecb-4d6e-8816-264981c1f105');\n",
              "          const dataTable =\n",
              "            await google.colab.kernel.invokeFunction('convertToInteractive',\n",
              "                                                     [key], {});\n",
              "          if (!dataTable) return;\n",
              "\n",
              "          const docLinkHtml = 'Like what you see? Visit the ' +\n",
              "            '<a target=\"_blank\" href=https://colab.research.google.com/notebooks/data_table.ipynb>data table notebook</a>'\n",
              "            + ' to learn more about interactive tables.';\n",
              "          element.innerHTML = '';\n",
              "          dataTable['output_type'] = 'display_data';\n",
              "          await google.colab.output.renderOutput(dataTable, element);\n",
              "          const docLink = document.createElement('div');\n",
              "          docLink.innerHTML = docLinkHtml;\n",
              "          element.appendChild(docLink);\n",
              "        }\n",
              "      </script>\n",
              "    </div>\n",
              "  </div>\n",
              "  "
            ]
          },
          "metadata": {}
        }
      ]
    },
    {
      "cell_type": "code",
      "source": [
        "print(\"K-Means:\")\n",
        "display(meansInfo)"
      ],
      "metadata": {
        "colab": {
          "base_uri": "https://localhost:8080/",
          "height": 945
        },
        "id": "K-VAbelITtB3",
        "outputId": "96f520f7-8710-4999-b3d5-81199aa47907"
      },
      "execution_count": 56,
      "outputs": [
        {
          "output_type": "stream",
          "name": "stdout",
          "text": [
            "K-Means:\n"
          ]
        },
        {
          "output_type": "display_data",
          "data": {
            "text/plain": [
              "    k Центроид кластера C_i Объем кластера C_i\n",
              "0   1          [0.58, 0.05]                109\n",
              "1   2          [0.58, 0.04]                108\n",
              "2   2           [0.79, 1.0]                  1\n",
              "3   3          [0.69, 0.05]                 67\n",
              "4   3           [0.79, 1.0]                  1\n",
              "5   3           [0.4, 0.03]                 41\n",
              "6   4           [0.95, 0.1]                  4\n",
              "7   4           [0.79, 1.0]                  1\n",
              "8   4           [0.4, 0.03]                 41\n",
              "9   4          [0.67, 0.04]                 63\n",
              "10  5            [1.0, 0.4]                  1\n",
              "11  5           [0.79, 1.0]                  1\n",
              "12  5          [0.36, 0.03]                 30\n",
              "13  5          [0.61, 0.05]                 53\n",
              "14  5          [0.77, 0.02]                 24\n",
              "15  6            [1.0, 0.4]                  1\n",
              "16  6           [0.79, 1.0]                  1\n",
              "17  6           [0.3, 0.03]                 18\n",
              "18  6           [0.5, 0.04]                 29\n",
              "19  6          [0.82, 0.02]                 14\n",
              "20  6          [0.66, 0.04]                 46\n",
              "21  7            [1.0, 0.4]                  1\n",
              "22  7           [0.79, 1.0]                  1\n",
              "23  7           [0.5, 0.03]                 30\n",
              "24  7          [0.64, 0.12]                 13\n",
              "25  7          [0.85, 0.02]                  8\n",
              "26  7          [0.68, 0.02]                 38\n",
              "27  7           [0.3, 0.03]                 18"
            ],
            "text/html": [
              "\n",
              "  <div id=\"df-15cc7a95-2207-4591-8c28-9173418709be\">\n",
              "    <div class=\"colab-df-container\">\n",
              "      <div>\n",
              "<style scoped>\n",
              "    .dataframe tbody tr th:only-of-type {\n",
              "        vertical-align: middle;\n",
              "    }\n",
              "\n",
              "    .dataframe tbody tr th {\n",
              "        vertical-align: top;\n",
              "    }\n",
              "\n",
              "    .dataframe thead th {\n",
              "        text-align: right;\n",
              "    }\n",
              "</style>\n",
              "<table border=\"1\" class=\"dataframe\">\n",
              "  <thead>\n",
              "    <tr style=\"text-align: right;\">\n",
              "      <th></th>\n",
              "      <th>k</th>\n",
              "      <th>Центроид кластера C_i</th>\n",
              "      <th>Объем кластера C_i</th>\n",
              "    </tr>\n",
              "  </thead>\n",
              "  <tbody>\n",
              "    <tr>\n",
              "      <th>0</th>\n",
              "      <td>1</td>\n",
              "      <td>[0.58, 0.05]</td>\n",
              "      <td>109</td>\n",
              "    </tr>\n",
              "    <tr>\n",
              "      <th>1</th>\n",
              "      <td>2</td>\n",
              "      <td>[0.58, 0.04]</td>\n",
              "      <td>108</td>\n",
              "    </tr>\n",
              "    <tr>\n",
              "      <th>2</th>\n",
              "      <td>2</td>\n",
              "      <td>[0.79, 1.0]</td>\n",
              "      <td>1</td>\n",
              "    </tr>\n",
              "    <tr>\n",
              "      <th>3</th>\n",
              "      <td>3</td>\n",
              "      <td>[0.69, 0.05]</td>\n",
              "      <td>67</td>\n",
              "    </tr>\n",
              "    <tr>\n",
              "      <th>4</th>\n",
              "      <td>3</td>\n",
              "      <td>[0.79, 1.0]</td>\n",
              "      <td>1</td>\n",
              "    </tr>\n",
              "    <tr>\n",
              "      <th>5</th>\n",
              "      <td>3</td>\n",
              "      <td>[0.4, 0.03]</td>\n",
              "      <td>41</td>\n",
              "    </tr>\n",
              "    <tr>\n",
              "      <th>6</th>\n",
              "      <td>4</td>\n",
              "      <td>[0.95, 0.1]</td>\n",
              "      <td>4</td>\n",
              "    </tr>\n",
              "    <tr>\n",
              "      <th>7</th>\n",
              "      <td>4</td>\n",
              "      <td>[0.79, 1.0]</td>\n",
              "      <td>1</td>\n",
              "    </tr>\n",
              "    <tr>\n",
              "      <th>8</th>\n",
              "      <td>4</td>\n",
              "      <td>[0.4, 0.03]</td>\n",
              "      <td>41</td>\n",
              "    </tr>\n",
              "    <tr>\n",
              "      <th>9</th>\n",
              "      <td>4</td>\n",
              "      <td>[0.67, 0.04]</td>\n",
              "      <td>63</td>\n",
              "    </tr>\n",
              "    <tr>\n",
              "      <th>10</th>\n",
              "      <td>5</td>\n",
              "      <td>[1.0, 0.4]</td>\n",
              "      <td>1</td>\n",
              "    </tr>\n",
              "    <tr>\n",
              "      <th>11</th>\n",
              "      <td>5</td>\n",
              "      <td>[0.79, 1.0]</td>\n",
              "      <td>1</td>\n",
              "    </tr>\n",
              "    <tr>\n",
              "      <th>12</th>\n",
              "      <td>5</td>\n",
              "      <td>[0.36, 0.03]</td>\n",
              "      <td>30</td>\n",
              "    </tr>\n",
              "    <tr>\n",
              "      <th>13</th>\n",
              "      <td>5</td>\n",
              "      <td>[0.61, 0.05]</td>\n",
              "      <td>53</td>\n",
              "    </tr>\n",
              "    <tr>\n",
              "      <th>14</th>\n",
              "      <td>5</td>\n",
              "      <td>[0.77, 0.02]</td>\n",
              "      <td>24</td>\n",
              "    </tr>\n",
              "    <tr>\n",
              "      <th>15</th>\n",
              "      <td>6</td>\n",
              "      <td>[1.0, 0.4]</td>\n",
              "      <td>1</td>\n",
              "    </tr>\n",
              "    <tr>\n",
              "      <th>16</th>\n",
              "      <td>6</td>\n",
              "      <td>[0.79, 1.0]</td>\n",
              "      <td>1</td>\n",
              "    </tr>\n",
              "    <tr>\n",
              "      <th>17</th>\n",
              "      <td>6</td>\n",
              "      <td>[0.3, 0.03]</td>\n",
              "      <td>18</td>\n",
              "    </tr>\n",
              "    <tr>\n",
              "      <th>18</th>\n",
              "      <td>6</td>\n",
              "      <td>[0.5, 0.04]</td>\n",
              "      <td>29</td>\n",
              "    </tr>\n",
              "    <tr>\n",
              "      <th>19</th>\n",
              "      <td>6</td>\n",
              "      <td>[0.82, 0.02]</td>\n",
              "      <td>14</td>\n",
              "    </tr>\n",
              "    <tr>\n",
              "      <th>20</th>\n",
              "      <td>6</td>\n",
              "      <td>[0.66, 0.04]</td>\n",
              "      <td>46</td>\n",
              "    </tr>\n",
              "    <tr>\n",
              "      <th>21</th>\n",
              "      <td>7</td>\n",
              "      <td>[1.0, 0.4]</td>\n",
              "      <td>1</td>\n",
              "    </tr>\n",
              "    <tr>\n",
              "      <th>22</th>\n",
              "      <td>7</td>\n",
              "      <td>[0.79, 1.0]</td>\n",
              "      <td>1</td>\n",
              "    </tr>\n",
              "    <tr>\n",
              "      <th>23</th>\n",
              "      <td>7</td>\n",
              "      <td>[0.5, 0.03]</td>\n",
              "      <td>30</td>\n",
              "    </tr>\n",
              "    <tr>\n",
              "      <th>24</th>\n",
              "      <td>7</td>\n",
              "      <td>[0.64, 0.12]</td>\n",
              "      <td>13</td>\n",
              "    </tr>\n",
              "    <tr>\n",
              "      <th>25</th>\n",
              "      <td>7</td>\n",
              "      <td>[0.85, 0.02]</td>\n",
              "      <td>8</td>\n",
              "    </tr>\n",
              "    <tr>\n",
              "      <th>26</th>\n",
              "      <td>7</td>\n",
              "      <td>[0.68, 0.02]</td>\n",
              "      <td>38</td>\n",
              "    </tr>\n",
              "    <tr>\n",
              "      <th>27</th>\n",
              "      <td>7</td>\n",
              "      <td>[0.3, 0.03]</td>\n",
              "      <td>18</td>\n",
              "    </tr>\n",
              "  </tbody>\n",
              "</table>\n",
              "</div>\n",
              "      <button class=\"colab-df-convert\" onclick=\"convertToInteractive('df-15cc7a95-2207-4591-8c28-9173418709be')\"\n",
              "              title=\"Convert this dataframe to an interactive table.\"\n",
              "              style=\"display:none;\">\n",
              "        \n",
              "  <svg xmlns=\"http://www.w3.org/2000/svg\" height=\"24px\"viewBox=\"0 0 24 24\"\n",
              "       width=\"24px\">\n",
              "    <path d=\"M0 0h24v24H0V0z\" fill=\"none\"/>\n",
              "    <path d=\"M18.56 5.44l.94 2.06.94-2.06 2.06-.94-2.06-.94-.94-2.06-.94 2.06-2.06.94zm-11 1L8.5 8.5l.94-2.06 2.06-.94-2.06-.94L8.5 2.5l-.94 2.06-2.06.94zm10 10l.94 2.06.94-2.06 2.06-.94-2.06-.94-.94-2.06-.94 2.06-2.06.94z\"/><path d=\"M17.41 7.96l-1.37-1.37c-.4-.4-.92-.59-1.43-.59-.52 0-1.04.2-1.43.59L10.3 9.45l-7.72 7.72c-.78.78-.78 2.05 0 2.83L4 21.41c.39.39.9.59 1.41.59.51 0 1.02-.2 1.41-.59l7.78-7.78 2.81-2.81c.8-.78.8-2.07 0-2.86zM5.41 20L4 18.59l7.72-7.72 1.47 1.35L5.41 20z\"/>\n",
              "  </svg>\n",
              "      </button>\n",
              "      \n",
              "  <style>\n",
              "    .colab-df-container {\n",
              "      display:flex;\n",
              "      flex-wrap:wrap;\n",
              "      gap: 12px;\n",
              "    }\n",
              "\n",
              "    .colab-df-convert {\n",
              "      background-color: #E8F0FE;\n",
              "      border: none;\n",
              "      border-radius: 50%;\n",
              "      cursor: pointer;\n",
              "      display: none;\n",
              "      fill: #1967D2;\n",
              "      height: 32px;\n",
              "      padding: 0 0 0 0;\n",
              "      width: 32px;\n",
              "    }\n",
              "\n",
              "    .colab-df-convert:hover {\n",
              "      background-color: #E2EBFA;\n",
              "      box-shadow: 0px 1px 2px rgba(60, 64, 67, 0.3), 0px 1px 3px 1px rgba(60, 64, 67, 0.15);\n",
              "      fill: #174EA6;\n",
              "    }\n",
              "\n",
              "    [theme=dark] .colab-df-convert {\n",
              "      background-color: #3B4455;\n",
              "      fill: #D2E3FC;\n",
              "    }\n",
              "\n",
              "    [theme=dark] .colab-df-convert:hover {\n",
              "      background-color: #434B5C;\n",
              "      box-shadow: 0px 1px 3px 1px rgba(0, 0, 0, 0.15);\n",
              "      filter: drop-shadow(0px 1px 2px rgba(0, 0, 0, 0.3));\n",
              "      fill: #FFFFFF;\n",
              "    }\n",
              "  </style>\n",
              "\n",
              "      <script>\n",
              "        const buttonEl =\n",
              "          document.querySelector('#df-15cc7a95-2207-4591-8c28-9173418709be button.colab-df-convert');\n",
              "        buttonEl.style.display =\n",
              "          google.colab.kernel.accessAllowed ? 'block' : 'none';\n",
              "\n",
              "        async function convertToInteractive(key) {\n",
              "          const element = document.querySelector('#df-15cc7a95-2207-4591-8c28-9173418709be');\n",
              "          const dataTable =\n",
              "            await google.colab.kernel.invokeFunction('convertToInteractive',\n",
              "                                                     [key], {});\n",
              "          if (!dataTable) return;\n",
              "\n",
              "          const docLinkHtml = 'Like what you see? Visit the ' +\n",
              "            '<a target=\"_blank\" href=https://colab.research.google.com/notebooks/data_table.ipynb>data table notebook</a>'\n",
              "            + ' to learn more about interactive tables.';\n",
              "          element.innerHTML = '';\n",
              "          dataTable['output_type'] = 'display_data';\n",
              "          await google.colab.output.renderOutput(dataTable, element);\n",
              "          const docLink = document.createElement('div');\n",
              "          docLink.innerHTML = docLinkHtml;\n",
              "          element.appendChild(docLink);\n",
              "        }\n",
              "      </script>\n",
              "    </div>\n",
              "  </div>\n",
              "  "
            ]
          },
          "metadata": {}
        }
      ]
    },
    {
      "cell_type": "markdown",
      "source": [
        "###Задание 6\n",
        "С помощью метода локтя (для чётных вариантов) выявить для каждого метода\n",
        "оптимальное количество кластеров."
      ],
      "metadata": {
        "id": "7rR5NOevU2Dw"
      }
    },
    {
      "cell_type": "code",
      "source": [
        "wMeans = []\n",
        "wMeds = []\n",
        "\n",
        "for k in range(1, kMax + 1):\n",
        "  Cmeds, Mmeds = KMedoids(sample.values, k, eps)\n",
        "  Cmeans, Mmeans = KMeans(sample.values, k, eps)\n",
        "  sum = 0\n",
        "  for i in range(len(Mmeds)):\n",
        "    for j in range(len(Cmeds[i])):\n",
        "      sum += EuclidDisatnce(sample.values[Cmeds[i][j]], Mmeds[i])\n",
        "  wMeds += [[k, sum]]\n",
        "  sum = 0\n",
        "  sum = 0\n",
        "  for i in range(len(Mmeans)):\n",
        "    for j in range(len(Cmeans[i])):\n",
        "      sum += EuclidDisatnce(sample.values[Cmeans[i][j]], Mmeans[i])\n",
        "  wMeans += [[k, sum]]"
      ],
      "metadata": {
        "id": "1n_a--ooVDCN"
      },
      "execution_count": 57,
      "outputs": []
    },
    {
      "cell_type": "markdown",
      "source": [
        "####K-Means:"
      ],
      "metadata": {
        "id": "fvpNsAEFR_BL"
      }
    },
    {
      "cell_type": "code",
      "source": [
        "plt.plot([entry[0] for entry in wMeans], [entry[1] for entry in wMeans])"
      ],
      "metadata": {
        "colab": {
          "base_uri": "https://localhost:8080/",
          "height": 282
        },
        "id": "AbjLIUQ9W8Nk",
        "outputId": "259107f7-d959-4496-a98a-f9d425367bbe"
      },
      "execution_count": 58,
      "outputs": [
        {
          "output_type": "execute_result",
          "data": {
            "text/plain": [
              "[<matplotlib.lines.Line2D at 0x7f21909200a0>]"
            ]
          },
          "metadata": {},
          "execution_count": 58
        },
        {
          "output_type": "display_data",
          "data": {
            "text/plain": [
              "<Figure size 432x288 with 1 Axes>"
            ],
            "image/png": "[encoded data removed]"
          },
          "metadata": {
            "needs_background": "light"
          }
        }
      ]
    },
    {
      "cell_type": "markdown",
      "source": [
        "Для метода K-Means заметен перегиб при $k=3$. Это и есть искомое оптимальное количество кластеров."
      ],
      "metadata": {
        "id": "BR51I4S4Rxdz"
      }
    },
    {
      "cell_type": "code",
      "source": [
        "C, M = KMeans(sample.values, 3, eps)\n",
        "Draw(C, M, sample.values)"
      ],
      "metadata": {
        "colab": {
          "base_uri": "https://localhost:8080/",
          "height": 265
        },
        "id": "AiSOQkeRUY4J",
        "outputId": "91215726-f5c5-4cce-818d-af1023770a93"
      },
      "execution_count": 59,
      "outputs": [
        {
          "output_type": "display_data",
          "data": {
            "text/plain": [
              "<Figure size 432x288 with 1 Axes>"
            ],
            "image/png": "[encoded data removed]"
          },
          "metadata": {
            "needs_background": "light"
          }
        }
      ]
    },
    {
      "cell_type": "markdown",
      "source": [
        "####K-Medoids"
      ],
      "metadata": {
        "id": "Vif82SSqSCEA"
      }
    },
    {
      "cell_type": "code",
      "source": [
        "plt.plot([entry[0] for entry in wMeds], [entry[1] for entry in wMeds])"
      ],
      "metadata": {
        "colab": {
          "base_uri": "https://localhost:8080/",
          "height": 282
        },
        "id": "8HBTB6hYXMGH",
        "outputId": "bda2ab4b-7d67-48b9-bc5f-b7077413fde0"
      },
      "execution_count": 60,
      "outputs": [
        {
          "output_type": "execute_result",
          "data": {
            "text/plain": [
              "[<matplotlib.lines.Line2D at 0x7f2191392280>]"
            ]
          },
          "metadata": {},
          "execution_count": 60
        },
        {
          "output_type": "display_data",
          "data": {
            "text/plain": [
              "<Figure size 432x288 with 1 Axes>"
            ],
            "image/png": "[encoded data removed]"
          },
          "metadata": {
            "needs_background": "light"
          }
        }
      ]
    },
    {
      "cell_type": "markdown",
      "source": [
        "Для метода K-Medoids заметен перегиб при $k=4$. Это и есть искомое оптимальное количество кластеров."
      ],
      "metadata": {
        "id": "op_a1sLOSFcV"
      }
    },
    {
      "cell_type": "code",
      "source": [
        "C, M = KMedoids(sample.values, 4, eps)\n",
        "Draw(C, M, sample.values)"
      ],
      "metadata": {
        "colab": {
          "base_uri": "https://localhost:8080/",
          "height": 265
        },
        "id": "J-Zb0ZzRUlUd",
        "outputId": "87ffcad5-3912-4069-ea05-4efa36c0f2cb"
      },
      "execution_count": 61,
      "outputs": [
        {
          "output_type": "display_data",
          "data": {
            "text/plain": [
              "<Figure size 432x288 with 1 Axes>"
            ],
            "image/png": "[encoded data removed]"
          },
          "metadata": {
            "needs_background": "light"
          }
        }
      ]
    },
    {
      "cell_type": "markdown",
      "source": [
        "###Задание 7, 8\n",
        "Реализовать алгоритм поиска сгущений при различных радиусах\n",
        "𝑅, отобразить полученные кластеры, выделить каждый кластер\n",
        "разным цветом или маркером, отметить центроиды. Результаты\n",
        "представить в виде таблицы.\n",
        "\n",
        "Проверить чувствительность метода поиска сгущений к погрешностям. Сделать выводы.\n"
      ],
      "metadata": {
        "id": "jtuuT7C0a0KA"
      }
    },
    {
      "cell_type": "code",
      "source": [
        "def SelectSphere(center, r, values):\n",
        "  return ([x for x in values if EuclidDisatnce(center, x) <= r])\n",
        "\n",
        "def DeselectSphere(center, r, values):\n",
        "  return [x for x in values if EuclidDisatnce(center, x) > r]\n",
        "\n",
        "def GetCenter(values):\n",
        "  center = (0, 0)\n",
        "  for x in values:\n",
        "    center = (center[0] + x[0], center[1] + x[1])\n",
        "  return (center[0]/len(values), center[1]/len(values))\n",
        "\n",
        "def Equals(p1, p2, eps):\n",
        "  return EuclidDisatnce(p1, p2) < eps\n",
        "\n",
        "def ChooseRandom(u):\n",
        "  return random.choice(u)\n",
        "\n",
        "def Forel(X, r, chooseFirstCentroid):\n",
        "  u = X\n",
        "  C = []\n",
        "  M = []\n",
        "  while len(u) > 0:\n",
        "    centroid = chooseFirstCentroid(u)\n",
        "    while True:\n",
        "      k = SelectSphere(centroid, r, u)\n",
        "      c = GetCenter(k)\n",
        "      if Equals(c, centroid, eps) is False:\n",
        "        centroid = c\n",
        "      else:\n",
        "        C += [k]\n",
        "        M += [centroid]\n",
        "        u = DeselectSphere(centroid, r, u)\n",
        "        break\n",
        "  return (C, M)"
      ],
      "metadata": {
        "id": "LdXUkOg5a9S6"
      },
      "execution_count": 62,
      "outputs": []
    },
    {
      "cell_type": "code",
      "source": [
        "def DrawByValues(C, M):\n",
        "  k = len(M)\n",
        "  colors=cm.rainbow(np.linspace(0,1,k))\n",
        "  for i in range(0, k):\n",
        "    for j in C[i]:\n",
        "      x = j[0]\n",
        "      y = j[1]\n",
        "      plt.plot(x, y, 'o', c=colors[i])\n",
        "    x = M[i][0]\n",
        "    y = M[i][1]\n",
        "    plt.plot(x, y, 's', c=Darken(colors[i], 0.8))"
      ],
      "metadata": {
        "id": "DMqTC77kgIp5"
      },
      "execution_count": 63,
      "outputs": []
    },
    {
      "cell_type": "code",
      "source": [
        "R = [0.3, 0.3001, 0.301, 0.31, 0.4]\n",
        "\n",
        "rTitle = \"r\"\n",
        "centroidTitle = \"Центроид кластера C_i\"\n",
        "volumeTitle = \"Объем кластера C_i\"\n",
        "info = pd.DataFrame(columns=[rTitle, centroidTitle, volumeTitle])\n",
        "\n",
        "for r in R:\n",
        "  C, M = Forel(sample.values, r, ChooseRandom)\n",
        "  for i in range(len(M)):\n",
        "    info.loc[len(info)] = [r, np.round(M[i], 2), len(C[i])]\n",
        "  plt.title(f\"R = {r}\")\n",
        "  DrawByValues(C, M)\n",
        "  plt.show()"
      ],
      "metadata": {
        "colab": {
          "base_uri": "https://localhost:8080/",
          "height": 1000
        },
        "id": "_ePoE9XDiTzo",
        "outputId": "47c011fa-b1f3-427d-fa0b-3468911786bc"
      },
      "execution_count": 64,
      "outputs": [
        {
          "output_type": "display_data",
          "data": {
            "text/plain": [
              "<Figure size 432x288 with 1 Axes>"
            ],
            "image/png": "[encoded data removed]"
          },
          "metadata": {
            "needs_background": "light"
          }
        },
        {
          "output_type": "display_data",
          "data": {
            "text/plain": [
              "<Figure size 432x288 with 1 Axes>"
            ],
            "image/png": "[encoded data removed]"
          },
          "metadata": {
            "needs_background": "light"
          }
        },
        {
          "output_type": "display_data",
          "data": {
            "text/plain": [
              "<Figure size 432x288 with 1 Axes>"
            ],
            "image/png": "[encoded data removed]"
          },
          "metadata": {
            "needs_background": "light"
          }
        },
        {
          "output_type": "display_data",
          "data": {
            "text/plain": [
              "<Figure size 432x288 with 1 Axes>"
            ],
            "image/png": "[encoded data removed]"
          },
          "metadata": {
            "needs_background": "light"
          }
        },
        {
          "output_type": "display_data",
          "data": {
            "text/plain": [
              "<Figure size 432x288 with 1 Axes>"
            ],
            "image/png": "[encoded data removed]"
          },
          "metadata": {
            "needs_background": "light"
          }
        }
      ]
    },
    {
      "cell_type": "code",
      "source": [
        "info"
      ],
      "metadata": {
        "colab": {
          "base_uri": "https://localhost:8080/",
          "height": 771
        },
        "id": "H9xkNTQujUHz",
        "outputId": "27a6a0fb-bba7-4289-82ea-5cde60baa9a9"
      },
      "execution_count": 65,
      "outputs": [
        {
          "output_type": "execute_result",
          "data": {
            "text/plain": [
              "         r Центроид кластера C_i Объем кластера C_i\n",
              "0   0.3000          [0.39, 0.04]                 77\n",
              "1   0.3000           [0.91, 0.0]                 28\n",
              "2   0.3000           [0.79, 1.0]                  1\n",
              "3   0.3000            [1.0, 0.4]                  1\n",
              "4   0.3000            [0.0, 0.0]                  2\n",
              "5   0.3001           [0.55, 0.0]                 99\n",
              "6   0.3001          [0.16, 0.03]                  5\n",
              "7   0.3001           [0.79, 1.0]                  1\n",
              "8   0.3001            [1.0, 0.0]                  3\n",
              "9   0.3001            [1.0, 0.4]                  1\n",
              "10  0.3010          [0.57, 0.05]                 99\n",
              "11  0.3010            [1.0, 0.0]                  3\n",
              "12  0.3010           [0.25, 0.0]                  5\n",
              "13  0.3010           [0.79, 1.0]                  1\n",
              "14  0.3010            [1.0, 0.4]                  1\n",
              "15  0.3100           [0.7, 0.04]                 92\n",
              "16  0.3100          [0.16, 0.03]                 15\n",
              "17  0.3100            [1.0, 0.4]                  1\n",
              "18  0.3100           [0.79, 1.0]                  1\n",
              "19  0.4000          [0.68, 0.13]                102\n",
              "20  0.4000           [0.79, 1.0]                  1\n",
              "21  0.4000           [0.07, 0.0]                  5\n",
              "22  0.4000            [1.0, 0.4]                  1"
            ],
            "text/html": [
              "\n",
              "  <div id=\"df-c8c55ca6-b428-44ac-ae6e-25a7f7a727a4\">\n",
              "    <div class=\"colab-df-container\">\n",
              "      <div>\n",
              "<style scoped>\n",
              "    .dataframe tbody tr th:only-of-type {\n",
              "        vertical-align: middle;\n",
              "    }\n",
              "\n",
              "    .dataframe tbody tr th {\n",
              "        vertical-align: top;\n",
              "    }\n",
              "\n",
              "    .dataframe thead th {\n",
              "        text-align: right;\n",
              "    }\n",
              "</style>\n",
              "<table border=\"1\" class=\"dataframe\">\n",
              "  <thead>\n",
              "    <tr style=\"text-align: right;\">\n",
              "      <th></th>\n",
              "      <th>r</th>\n",
              "      <th>Центроид кластера C_i</th>\n",
              "      <th>Объем кластера C_i</th>\n",
              "    </tr>\n",
              "  </thead>\n",
              "  <tbody>\n",
              "    <tr>\n",
              "      <th>0</th>\n",
              "      <td>0.3000</td>\n",
              "      <td>[0.39, 0.04]</td>\n",
              "      <td>77</td>\n",
              "    </tr>\n",
              "    <tr>\n",
              "      <th>1</th>\n",
              "      <td>0.3000</td>\n",
              "      <td>[0.91, 0.0]</td>\n",
              "      <td>28</td>\n",
              "    </tr>\n",
              "    <tr>\n",
              "      <th>2</th>\n",
              "      <td>0.3000</td>\n",
              "      <td>[0.79, 1.0]</td>\n",
              "      <td>1</td>\n",
              "    </tr>\n",
              "    <tr>\n",
              "      <th>3</th>\n",
              "      <td>0.3000</td>\n",
              "      <td>[1.0, 0.4]</td>\n",
              "      <td>1</td>\n",
              "    </tr>\n",
              "    <tr>\n",
              "      <th>4</th>\n",
              "      <td>0.3000</td>\n",
              "      <td>[0.0, 0.0]</td>\n",
              "      <td>2</td>\n",
              "    </tr>\n",
              "    <tr>\n",
              "      <th>5</th>\n",
              "      <td>0.3001</td>\n",
              "      <td>[0.55, 0.0]</td>\n",
              "      <td>99</td>\n",
              "    </tr>\n",
              "    <tr>\n",
              "      <th>6</th>\n",
              "      <td>0.3001</td>\n",
              "      <td>[0.16, 0.03]</td>\n",
              "      <td>5</td>\n",
              "    </tr>\n",
              "    <tr>\n",
              "      <th>7</th>\n",
              "      <td>0.3001</td>\n",
              "      <td>[0.79, 1.0]</td>\n",
              "      <td>1</td>\n",
              "    </tr>\n",
              "    <tr>\n",
              "      <th>8</th>\n",
              "      <td>0.3001</td>\n",
              "      <td>[1.0, 0.0]</td>\n",
              "      <td>3</td>\n",
              "    </tr>\n",
              "    <tr>\n",
              "      <th>9</th>\n",
              "      <td>0.3001</td>\n",
              "      <td>[1.0, 0.4]</td>\n",
              "      <td>1</td>\n",
              "    </tr>\n",
              "    <tr>\n",
              "      <th>10</th>\n",
              "      <td>0.3010</td>\n",
              "      <td>[0.57, 0.05]</td>\n",
              "      <td>99</td>\n",
              "    </tr>\n",
              "    <tr>\n",
              "      <th>11</th>\n",
              "      <td>0.3010</td>\n",
              "      <td>[1.0, 0.0]</td>\n",
              "      <td>3</td>\n",
              "    </tr>\n",
              "    <tr>\n",
              "      <th>12</th>\n",
              "      <td>0.3010</td>\n",
              "      <td>[0.25, 0.0]</td>\n",
              "      <td>5</td>\n",
              "    </tr>\n",
              "    <tr>\n",
              "      <th>13</th>\n",
              "      <td>0.3010</td>\n",
              "      <td>[0.79, 1.0]</td>\n",
              "      <td>1</td>\n",
              "    </tr>\n",
              "    <tr>\n",
              "      <th>14</th>\n",
              "      <td>0.3010</td>\n",
              "      <td>[1.0, 0.4]</td>\n",
              "      <td>1</td>\n",
              "    </tr>\n",
              "    <tr>\n",
              "      <th>15</th>\n",
              "      <td>0.3100</td>\n",
              "      <td>[0.7, 0.04]</td>\n",
              "      <td>92</td>\n",
              "    </tr>\n",
              "    <tr>\n",
              "      <th>16</th>\n",
              "      <td>0.3100</td>\n",
              "      <td>[0.16, 0.03]</td>\n",
              "      <td>15</td>\n",
              "    </tr>\n",
              "    <tr>\n",
              "      <th>17</th>\n",
              "      <td>0.3100</td>\n",
              "      <td>[1.0, 0.4]</td>\n",
              "      <td>1</td>\n",
              "    </tr>\n",
              "    <tr>\n",
              "      <th>18</th>\n",
              "      <td>0.3100</td>\n",
              "      <td>[0.79, 1.0]</td>\n",
              "      <td>1</td>\n",
              "    </tr>\n",
              "    <tr>\n",
              "      <th>19</th>\n",
              "      <td>0.4000</td>\n",
              "      <td>[0.68, 0.13]</td>\n",
              "      <td>102</td>\n",
              "    </tr>\n",
              "    <tr>\n",
              "      <th>20</th>\n",
              "      <td>0.4000</td>\n",
              "      <td>[0.79, 1.0]</td>\n",
              "      <td>1</td>\n",
              "    </tr>\n",
              "    <tr>\n",
              "      <th>21</th>\n",
              "      <td>0.4000</td>\n",
              "      <td>[0.07, 0.0]</td>\n",
              "      <td>5</td>\n",
              "    </tr>\n",
              "    <tr>\n",
              "      <th>22</th>\n",
              "      <td>0.4000</td>\n",
              "      <td>[1.0, 0.4]</td>\n",
              "      <td>1</td>\n",
              "    </tr>\n",
              "  </tbody>\n",
              "</table>\n",
              "</div>\n",
              "      <button class=\"colab-df-convert\" onclick=\"convertToInteractive('df-c8c55ca6-b428-44ac-ae6e-25a7f7a727a4')\"\n",
              "              title=\"Convert this dataframe to an interactive table.\"\n",
              "              style=\"display:none;\">\n",
              "        \n",
              "  <svg xmlns=\"http://www.w3.org/2000/svg\" height=\"24px\"viewBox=\"0 0 24 24\"\n",
              "       width=\"24px\">\n",
              "    <path d=\"M0 0h24v24H0V0z\" fill=\"none\"/>\n",
              "    <path d=\"M18.56 5.44l.94 2.06.94-2.06 2.06-.94-2.06-.94-.94-2.06-.94 2.06-2.06.94zm-11 1L8.5 8.5l.94-2.06 2.06-.94-2.06-.94L8.5 2.5l-.94 2.06-2.06.94zm10 10l.94 2.06.94-2.06 2.06-.94-2.06-.94-.94-2.06-.94 2.06-2.06.94z\"/><path d=\"M17.41 7.96l-1.37-1.37c-.4-.4-.92-.59-1.43-.59-.52 0-1.04.2-1.43.59L10.3 9.45l-7.72 7.72c-.78.78-.78 2.05 0 2.83L4 21.41c.39.39.9.59 1.41.59.51 0 1.02-.2 1.41-.59l7.78-7.78 2.81-2.81c.8-.78.8-2.07 0-2.86zM5.41 20L4 18.59l7.72-7.72 1.47 1.35L5.41 20z\"/>\n",
              "  </svg>\n",
              "      </button>\n",
              "      \n",
              "  <style>\n",
              "    .colab-df-container {\n",
              "      display:flex;\n",
              "      flex-wrap:wrap;\n",
              "      gap: 12px;\n",
              "    }\n",
              "\n",
              "    .colab-df-convert {\n",
              "      background-color: #E8F0FE;\n",
              "      border: none;\n",
              "      border-radius: 50%;\n",
              "      cursor: pointer;\n",
              "      display: none;\n",
              "      fill: #1967D2;\n",
              "      height: 32px;\n",
              "      padding: 0 0 0 0;\n",
              "      width: 32px;\n",
              "    }\n",
              "\n",
              "    .colab-df-convert:hover {\n",
              "      background-color: #E2EBFA;\n",
              "      box-shadow: 0px 1px 2px rgba(60, 64, 67, 0.3), 0px 1px 3px 1px rgba(60, 64, 67, 0.15);\n",
              "      fill: #174EA6;\n",
              "    }\n",
              "\n",
              "    [theme=dark] .colab-df-convert {\n",
              "      background-color: #3B4455;\n",
              "      fill: #D2E3FC;\n",
              "    }\n",
              "\n",
              "    [theme=dark] .colab-df-convert:hover {\n",
              "      background-color: #434B5C;\n",
              "      box-shadow: 0px 1px 3px 1px rgba(0, 0, 0, 0.15);\n",
              "      filter: drop-shadow(0px 1px 2px rgba(0, 0, 0, 0.3));\n",
              "      fill: #FFFFFF;\n",
              "    }\n",
              "  </style>\n",
              "\n",
              "      <script>\n",
              "        const buttonEl =\n",
              "          document.querySelector('#df-c8c55ca6-b428-44ac-ae6e-25a7f7a727a4 button.colab-df-convert');\n",
              "        buttonEl.style.display =\n",
              "          google.colab.kernel.accessAllowed ? 'block' : 'none';\n",
              "\n",
              "        async function convertToInteractive(key) {\n",
              "          const element = document.querySelector('#df-c8c55ca6-b428-44ac-ae6e-25a7f7a727a4');\n",
              "          const dataTable =\n",
              "            await google.colab.kernel.invokeFunction('convertToInteractive',\n",
              "                                                     [key], {});\n",
              "          if (!dataTable) return;\n",
              "\n",
              "          const docLinkHtml = 'Like what you see? Visit the ' +\n",
              "            '<a target=\"_blank\" href=https://colab.research.google.com/notebooks/data_table.ipynb>data table notebook</a>'\n",
              "            + ' to learn more about interactive tables.';\n",
              "          element.innerHTML = '';\n",
              "          dataTable['output_type'] = 'display_data';\n",
              "          await google.colab.output.renderOutput(dataTable, element);\n",
              "          const docLink = document.createElement('div');\n",
              "          docLink.innerHTML = docLinkHtml;\n",
              "          element.appendChild(docLink);\n",
              "        }\n",
              "      </script>\n",
              "    </div>\n",
              "  </div>\n",
              "  "
            ]
          },
          "metadata": {},
          "execution_count": 65
        }
      ]
    },
    {
      "cell_type": "markdown",
      "source": [
        "Видно, что любое малейшее изменение радиуса сильно влияло на кластеризацию. Можно предположить, что это из-за случайного выбора центроида первого порядка. Можно это проверить, исключив случайность из метода."
      ],
      "metadata": {
        "id": "AL2eKg1nkwix"
      }
    },
    {
      "cell_type": "code",
      "source": [
        "info = pd.DataFrame(columns=[rTitle, centroidTitle, volumeTitle])\n",
        "\n",
        "def ChooseFirst(u): # Выбор первого элемента из оставшихся, вместо случайного\n",
        "  return u[0]\n",
        "\n",
        "for r in R:\n",
        "  C, M = Forel(sample.values, r, ChooseFirst)\n",
        "  for i in range(len(M)):\n",
        "    info.loc[len(info)] = [r, np.round(M[i], 2), len(C[i])]\n",
        "  plt.title(f\"R = {r}\")\n",
        "  DrawByValues(C, M)\n",
        "  plt.show()"
      ],
      "metadata": {
        "colab": {
          "base_uri": "https://localhost:8080/",
          "height": 1000
        },
        "id": "1htxHp7ukfJX",
        "outputId": "871bdaa6-5ea5-409a-a24b-3c1965dbd90b"
      },
      "execution_count": 66,
      "outputs": [
        {
          "output_type": "display_data",
          "data": {
            "text/plain": [
              "<Figure size 432x288 with 1 Axes>"
            ],
            "image/png": "[encoded data removed]"
          },
          "metadata": {
            "needs_background": "light"
          }
        },
        {
          "output_type": "display_data",
          "data": {
            "text/plain": [
              "<Figure size 432x288 with 1 Axes>"
            ],
            "image/png": "[encoded data removed]"
          },
          "metadata": {
            "needs_background": "light"
          }
        },
        {
          "output_type": "display_data",
          "data": {
            "text/plain": [
              "<Figure size 432x288 with 1 Axes>"
            ],
            "image/png": "[encoded data removed]"
          },
          "metadata": {
            "needs_background": "light"
          }
        },
        {
          "output_type": "display_data",
          "data": {
            "text/plain": [
              "<Figure size 432x288 with 1 Axes>"
            ],
            "image/png": "[encoded data removed]"
          },
          "metadata": {
            "needs_background": "light"
          }
        },
        {
          "output_type": "display_data",
          "data": {
            "text/plain": [
              "<Figure size 432x288 with 1 Axes>"
            ],
            "image/png": "[encoded data removed]"
          },
          "metadata": {
            "needs_background": "light"
          }
        }
      ]
    },
    {
      "cell_type": "code",
      "source": [
        "info"
      ],
      "metadata": {
        "colab": {
          "base_uri": "https://localhost:8080/",
          "height": 927
        },
        "id": "sySFLeQylxNB",
        "outputId": "c8ff1c98-c562-46e0-fc4e-8cffad54a513"
      },
      "execution_count": 67,
      "outputs": [
        {
          "output_type": "execute_result",
          "data": {
            "text/plain": [
              "         r Центроид кластера C_i Объем кластера C_i\n",
              "0   0.3000            [1.0, 0.4]                  1\n",
              "1   0.3000           [0.79, 1.0]                  1\n",
              "2   0.3000          [0.68, 0.13]                 90\n",
              "3   0.3000          [0.36, 0.15]                 14\n",
              "4   0.3000            [1.0, 0.0]                  1\n",
              "5   0.3000           [0.07, 0.0]                  2\n",
              "6   0.3001            [1.0, 0.4]                  1\n",
              "7   0.3001           [0.79, 1.0]                  1\n",
              "8   0.3001          [0.68, 0.13]                 90\n",
              "9   0.3001          [0.36, 0.15]                 14\n",
              "10  0.3001            [1.0, 0.0]                  1\n",
              "11  0.3001           [0.07, 0.0]                  2\n",
              "12  0.3010            [1.0, 0.4]                  1\n",
              "13  0.3010           [0.79, 1.0]                  1\n",
              "14  0.3010          [0.68, 0.13]                 90\n",
              "15  0.3010          [0.36, 0.15]                 14\n",
              "16  0.3010            [1.0, 0.0]                  1\n",
              "17  0.3010           [0.07, 0.0]                  2\n",
              "18  0.3100            [1.0, 0.4]                  1\n",
              "19  0.3100           [0.79, 1.0]                  1\n",
              "20  0.3100          [0.68, 0.13]                 91\n",
              "21  0.3100          [0.36, 0.15]                 13\n",
              "22  0.3100            [1.0, 0.0]                  1\n",
              "23  0.3100           [0.07, 0.0]                  2\n",
              "24  0.4000            [1.0, 0.4]                  3\n",
              "25  0.4000           [0.79, 1.0]                  1\n",
              "26  0.4000          [0.68, 0.13]                100\n",
              "27  0.4000           [0.25, 0.0]                  5"
            ],
            "text/html": [
              "\n",
              "  <div id=\"df-028454ef-28b0-44cc-84e9-82f404ce1b77\">\n",
              "    <div class=\"colab-df-container\">\n",
              "      <div>\n",
              "<style scoped>\n",
              "    .dataframe tbody tr th:only-of-type {\n",
              "        vertical-align: middle;\n",
              "    }\n",
              "\n",
              "    .dataframe tbody tr th {\n",
              "        vertical-align: top;\n",
              "    }\n",
              "\n",
              "    .dataframe thead th {\n",
              "        text-align: right;\n",
              "    }\n",
              "</style>\n",
              "<table border=\"1\" class=\"dataframe\">\n",
              "  <thead>\n",
              "    <tr style=\"text-align: right;\">\n",
              "      <th></th>\n",
              "      <th>r</th>\n",
              "      <th>Центроид кластера C_i</th>\n",
              "      <th>Объем кластера C_i</th>\n",
              "    </tr>\n",
              "  </thead>\n",
              "  <tbody>\n",
              "    <tr>\n",
              "      <th>0</th>\n",
              "      <td>0.3000</td>\n",
              "      <td>[1.0, 0.4]</td>\n",
              "      <td>1</td>\n",
              "    </tr>\n",
              "    <tr>\n",
              "      <th>1</th>\n",
              "      <td>0.3000</td>\n",
              "      <td>[0.79, 1.0]</td>\n",
              "      <td>1</td>\n",
              "    </tr>\n",
              "    <tr>\n",
              "      <th>2</th>\n",
              "      <td>0.3000</td>\n",
              "      <td>[0.68, 0.13]</td>\n",
              "      <td>90</td>\n",
              "    </tr>\n",
              "    <tr>\n",
              "      <th>3</th>\n",
              "      <td>0.3000</td>\n",
              "      <td>[0.36, 0.15]</td>\n",
              "      <td>14</td>\n",
              "    </tr>\n",
              "    <tr>\n",
              "      <th>4</th>\n",
              "      <td>0.3000</td>\n",
              "      <td>[1.0, 0.0]</td>\n",
              "      <td>1</td>\n",
              "    </tr>\n",
              "    <tr>\n",
              "      <th>5</th>\n",
              "      <td>0.3000</td>\n",
              "      <td>[0.07, 0.0]</td>\n",
              "      <td>2</td>\n",
              "    </tr>\n",
              "    <tr>\n",
              "      <th>6</th>\n",
              "      <td>0.3001</td>\n",
              "      <td>[1.0, 0.4]</td>\n",
              "      <td>1</td>\n",
              "    </tr>\n",
              "    <tr>\n",
              "      <th>7</th>\n",
              "      <td>0.3001</td>\n",
              "      <td>[0.79, 1.0]</td>\n",
              "      <td>1</td>\n",
              "    </tr>\n",
              "    <tr>\n",
              "      <th>8</th>\n",
              "      <td>0.3001</td>\n",
              "      <td>[0.68, 0.13]</td>\n",
              "      <td>90</td>\n",
              "    </tr>\n",
              "    <tr>\n",
              "      <th>9</th>\n",
              "      <td>0.3001</td>\n",
              "      <td>[0.36, 0.15]</td>\n",
              "      <td>14</td>\n",
              "    </tr>\n",
              "    <tr>\n",
              "      <th>10</th>\n",
              "      <td>0.3001</td>\n",
              "      <td>[1.0, 0.0]</td>\n",
              "      <td>1</td>\n",
              "    </tr>\n",
              "    <tr>\n",
              "      <th>11</th>\n",
              "      <td>0.3001</td>\n",
              "      <td>[0.07, 0.0]</td>\n",
              "      <td>2</td>\n",
              "    </tr>\n",
              "    <tr>\n",
              "      <th>12</th>\n",
              "      <td>0.3010</td>\n",
              "      <td>[1.0, 0.4]</td>\n",
              "      <td>1</td>\n",
              "    </tr>\n",
              "    <tr>\n",
              "      <th>13</th>\n",
              "      <td>0.3010</td>\n",
              "      <td>[0.79, 1.0]</td>\n",
              "      <td>1</td>\n",
              "    </tr>\n",
              "    <tr>\n",
              "      <th>14</th>\n",
              "      <td>0.3010</td>\n",
              "      <td>[0.68, 0.13]</td>\n",
              "      <td>90</td>\n",
              "    </tr>\n",
              "    <tr>\n",
              "      <th>15</th>\n",
              "      <td>0.3010</td>\n",
              "      <td>[0.36, 0.15]</td>\n",
              "      <td>14</td>\n",
              "    </tr>\n",
              "    <tr>\n",
              "      <th>16</th>\n",
              "      <td>0.3010</td>\n",
              "      <td>[1.0, 0.0]</td>\n",
              "      <td>1</td>\n",
              "    </tr>\n",
              "    <tr>\n",
              "      <th>17</th>\n",
              "      <td>0.3010</td>\n",
              "      <td>[0.07, 0.0]</td>\n",
              "      <td>2</td>\n",
              "    </tr>\n",
              "    <tr>\n",
              "      <th>18</th>\n",
              "      <td>0.3100</td>\n",
              "      <td>[1.0, 0.4]</td>\n",
              "      <td>1</td>\n",
              "    </tr>\n",
              "    <tr>\n",
              "      <th>19</th>\n",
              "      <td>0.3100</td>\n",
              "      <td>[0.79, 1.0]</td>\n",
              "      <td>1</td>\n",
              "    </tr>\n",
              "    <tr>\n",
              "      <th>20</th>\n",
              "      <td>0.3100</td>\n",
              "      <td>[0.68, 0.13]</td>\n",
              "      <td>91</td>\n",
              "    </tr>\n",
              "    <tr>\n",
              "      <th>21</th>\n",
              "      <td>0.3100</td>\n",
              "      <td>[0.36, 0.15]</td>\n",
              "      <td>13</td>\n",
              "    </tr>\n",
              "    <tr>\n",
              "      <th>22</th>\n",
              "      <td>0.3100</td>\n",
              "      <td>[1.0, 0.0]</td>\n",
              "      <td>1</td>\n",
              "    </tr>\n",
              "    <tr>\n",
              "      <th>23</th>\n",
              "      <td>0.3100</td>\n",
              "      <td>[0.07, 0.0]</td>\n",
              "      <td>2</td>\n",
              "    </tr>\n",
              "    <tr>\n",
              "      <th>24</th>\n",
              "      <td>0.4000</td>\n",
              "      <td>[1.0, 0.4]</td>\n",
              "      <td>3</td>\n",
              "    </tr>\n",
              "    <tr>\n",
              "      <th>25</th>\n",
              "      <td>0.4000</td>\n",
              "      <td>[0.79, 1.0]</td>\n",
              "      <td>1</td>\n",
              "    </tr>\n",
              "    <tr>\n",
              "      <th>26</th>\n",
              "      <td>0.4000</td>\n",
              "      <td>[0.68, 0.13]</td>\n",
              "      <td>100</td>\n",
              "    </tr>\n",
              "    <tr>\n",
              "      <th>27</th>\n",
              "      <td>0.4000</td>\n",
              "      <td>[0.25, 0.0]</td>\n",
              "      <td>5</td>\n",
              "    </tr>\n",
              "  </tbody>\n",
              "</table>\n",
              "</div>\n",
              "      <button class=\"colab-df-convert\" onclick=\"convertToInteractive('df-028454ef-28b0-44cc-84e9-82f404ce1b77')\"\n",
              "              title=\"Convert this dataframe to an interactive table.\"\n",
              "              style=\"display:none;\">\n",
              "        \n",
              "  <svg xmlns=\"http://www.w3.org/2000/svg\" height=\"24px\"viewBox=\"0 0 24 24\"\n",
              "       width=\"24px\">\n",
              "    <path d=\"M0 0h24v24H0V0z\" fill=\"none\"/>\n",
              "    <path d=\"M18.56 5.44l.94 2.06.94-2.06 2.06-.94-2.06-.94-.94-2.06-.94 2.06-2.06.94zm-11 1L8.5 8.5l.94-2.06 2.06-.94-2.06-.94L8.5 2.5l-.94 2.06-2.06.94zm10 10l.94 2.06.94-2.06 2.06-.94-2.06-.94-.94-2.06-.94 2.06-2.06.94z\"/><path d=\"M17.41 7.96l-1.37-1.37c-.4-.4-.92-.59-1.43-.59-.52 0-1.04.2-1.43.59L10.3 9.45l-7.72 7.72c-.78.78-.78 2.05 0 2.83L4 21.41c.39.39.9.59 1.41.59.51 0 1.02-.2 1.41-.59l7.78-7.78 2.81-2.81c.8-.78.8-2.07 0-2.86zM5.41 20L4 18.59l7.72-7.72 1.47 1.35L5.41 20z\"/>\n",
              "  </svg>\n",
              "      </button>\n",
              "      \n",
              "  <style>\n",
              "    .colab-df-container {\n",
              "      display:flex;\n",
              "      flex-wrap:wrap;\n",
              "      gap: 12px;\n",
              "    }\n",
              "\n",
              "    .colab-df-convert {\n",
              "      background-color: #E8F0FE;\n",
              "      border: none;\n",
              "      border-radius: 50%;\n",
              "      cursor: pointer;\n",
              "      display: none;\n",
              "      fill: #1967D2;\n",
              "      height: 32px;\n",
              "      padding: 0 0 0 0;\n",
              "      width: 32px;\n",
              "    }\n",
              "\n",
              "    .colab-df-convert:hover {\n",
              "      background-color: #E2EBFA;\n",
              "      box-shadow: 0px 1px 2px rgba(60, 64, 67, 0.3), 0px 1px 3px 1px rgba(60, 64, 67, 0.15);\n",
              "      fill: #174EA6;\n",
              "    }\n",
              "\n",
              "    [theme=dark] .colab-df-convert {\n",
              "      background-color: #3B4455;\n",
              "      fill: #D2E3FC;\n",
              "    }\n",
              "\n",
              "    [theme=dark] .colab-df-convert:hover {\n",
              "      background-color: #434B5C;\n",
              "      box-shadow: 0px 1px 3px 1px rgba(0, 0, 0, 0.15);\n",
              "      filter: drop-shadow(0px 1px 2px rgba(0, 0, 0, 0.3));\n",
              "      fill: #FFFFFF;\n",
              "    }\n",
              "  </style>\n",
              "\n",
              "      <script>\n",
              "        const buttonEl =\n",
              "          document.querySelector('#df-028454ef-28b0-44cc-84e9-82f404ce1b77 button.colab-df-convert');\n",
              "        buttonEl.style.display =\n",
              "          google.colab.kernel.accessAllowed ? 'block' : 'none';\n",
              "\n",
              "        async function convertToInteractive(key) {\n",
              "          const element = document.querySelector('#df-028454ef-28b0-44cc-84e9-82f404ce1b77');\n",
              "          const dataTable =\n",
              "            await google.colab.kernel.invokeFunction('convertToInteractive',\n",
              "                                                     [key], {});\n",
              "          if (!dataTable) return;\n",
              "\n",
              "          const docLinkHtml = 'Like what you see? Visit the ' +\n",
              "            '<a target=\"_blank\" href=https://colab.research.google.com/notebooks/data_table.ipynb>data table notebook</a>'\n",
              "            + ' to learn more about interactive tables.';\n",
              "          element.innerHTML = '';\n",
              "          dataTable['output_type'] = 'display_data';\n",
              "          await google.colab.output.renderOutput(dataTable, element);\n",
              "          const docLink = document.createElement('div');\n",
              "          docLink.innerHTML = docLinkHtml;\n",
              "          element.appendChild(docLink);\n",
              "        }\n",
              "      </script>\n",
              "    </div>\n",
              "  </div>\n",
              "  "
            ]
          },
          "metadata": {},
          "execution_count": 67
        }
      ]
    },
    {
      "cell_type": "markdown",
      "source": [
        "Действительно, после исключения случайного выбора центроида первого порядка малые изменения радиуса в пределах 0.01 почти не влияют на результат кластеризации.\n",
        "\n",
        "Из этого можно сделать вывод, что метод устойчив к погрешностям, если не учитывать фактор случайного выбора первого центроида."
      ],
      "metadata": {
        "id": "S5Sa-2YUlQHw"
      }
    },
    {
      "cell_type": "markdown",
      "source": [
        "###Задание 9\n",
        "Сравнить методы. Сделать выводы."
      ],
      "metadata": {
        "id": "Xz_69hETTVeL"
      }
    },
    {
      "cell_type": "markdown",
      "source": [
        "Методы K-Means и K-Medoids дают крайне похожие результаты, что обоснованно схожестью их алгоритмов. При выборе одного из них значение будет иметь только требуемый формат выходных данных.\n",
        "\n",
        "Метод FOREL при $R=0.3$ дал результаты, несколько похожие на кластеризации K-Means и K-Medoids при оптимальных $k$. Все методы выделили 2 больших кластера и несколько кластеров по 1-2 точки.\n",
        "\n",
        "Наиболее наглядным среди результатов выглядит кластеризация K-Medoids, так как она разделила все скопление точек \"снизу\" на 2 кластера, в отличие от FOREL, и 2 сильно отдаленные точки выделила в разные кластеры, в отличие от K-Means."
      ],
      "metadata": {
        "id": "gsML8N1CTXux"
      }
    },
    {
      "cell_type": "markdown",
      "source": [
        "###Задание 10\n",
        "Реализовать модификацию k-means++. Объяснить её приемущества. Сравнить с обычным методом k-means."
      ],
      "metadata": {
        "id": "SyxhgwUxaFAj"
      }
    },
    {
      "cell_type": "markdown",
      "source": [
        "K-Means++ в отличие от K-Means имеет расширенную стадию инициализации начальных центроидов. Тогда как в K-Means они как правило выбираются просто случайно, в K-Means++ центроиды выбираются так, чтобы они находились на максимальном друг от друга расстоянии. Это должно позволить более равномерно разделить кластеры."
      ],
      "metadata": {
        "id": "u6JpgHfkaKUs"
      }
    },
    {
      "cell_type": "code",
      "source": [
        "def GetNextCenter(M, D):\n",
        "  iMax = -1\n",
        "  dMax = -1\n",
        "  for i in range(len(D)):\n",
        "    x = D[i]\n",
        "    m = GetClosestCentroidIndex(x, M)\n",
        "    if(EuclidDisatnce(x, M[m]) > dMax):\n",
        "      dMax = EuclidDisatnce(x, M[m])\n",
        "      iMax = i\n",
        "  return D[iMax]\n",
        "\n",
        "def InitCenters(D, k):\n",
        "  M = [D[0]]\n",
        "  for i in range(1, k):\n",
        "    M += [GetNextCenter(M, D)]\n",
        "  return M\n",
        "      \n",
        "\n",
        "def KMeansPP(D, k, e):\n",
        "  t = 0\n",
        "  M = InitCenters(D, k)\n",
        "  while(True):\n",
        "    t += 1\n",
        "    C = [[] for j in range(0, k)]\n",
        "    for i, x in enumerate(D):\n",
        "      j = GetClosestCentroidIndex(x, M)\n",
        "      C[j].append(i)\n",
        "    prevM = M\n",
        "    M = GetCentroids(C, D)\n",
        "    if(CheckCentroids(M, prevM, e)):\n",
        "      return (C, M)"
      ],
      "metadata": {
        "id": "AUDclAfdbs7w"
      },
      "execution_count": 72,
      "outputs": []
    },
    {
      "cell_type": "code",
      "source": [
        "C, M = KMeansPP(sample.values, 3, eps)\n",
        "plt.title(\"K-Means++\")\n",
        "Draw(C, M, sample.values)\n",
        "plt.show()\n",
        "\n",
        "C, M = KMeans(sample.values, 3, eps)\n",
        "plt.title(\"K-Means\")\n",
        "Draw(C, M, sample.values)\n",
        "plt.show()"
      ],
      "metadata": {
        "colab": {
          "base_uri": "https://localhost:8080/",
          "height": 545
        },
        "id": "85Dm50yLeEVa",
        "outputId": "77fde7c1-06fe-4e25-9e87-6630c8f89655"
      },
      "execution_count": 76,
      "outputs": [
        {
          "output_type": "display_data",
          "data": {
            "text/plain": [
              "<Figure size 432x288 with 1 Axes>"
            ],
            "image/png": "[encoded data removed]"
          },
          "metadata": {
            "needs_background": "light"
          }
        },
        {
          "output_type": "display_data",
          "data": {
            "text/plain": [
              "<Figure size 432x288 with 1 Axes>"
            ],
            "image/png": "[encoded data removed]"
          },
          "metadata": {
            "needs_background": "light"
          }
        }
      ]
    },
    {
      "cell_type": "code",
      "source": [
        "C, M = KMeansPP(sample.values, 4, eps)\n",
        "plt.title(\"K-Means++\")\n",
        "Draw(C, M, sample.values)\n",
        "plt.show()\n",
        "\n",
        "C, M = KMeans(sample.values, 4, eps)\n",
        "plt.title(\"K-Means\")\n",
        "Draw(C, M, sample.values)\n",
        "plt.show()"
      ],
      "metadata": {
        "colab": {
          "base_uri": "https://localhost:8080/",
          "height": 545
        },
        "id": "40PH0_WEe0Ew",
        "outputId": "077ba17d-7c13-4be4-ec2a-1046d1608195"
      },
      "execution_count": 77,
      "outputs": [
        {
          "output_type": "display_data",
          "data": {
            "text/plain": [
              "<Figure size 432x288 with 1 Axes>"
            ],
            "image/png": "[encoded data removed]"
          },
          "metadata": {
            "needs_background": "light"
          }
        },
        {
          "output_type": "display_data",
          "data": {
            "text/plain": [
              "<Figure size 432x288 with 1 Axes>"
            ],
            "image/png": "[encoded data removed]"
          },
          "metadata": {
            "needs_background": "light"
          }
        }
      ]
    },
    {
      "cell_type": "code",
      "source": [
        "C, M = KMeansPP(sample.values, 5, eps)\n",
        "plt.title(\"K-Means++\")\n",
        "Draw(C, M, sample.values)\n",
        "plt.show()\n",
        "\n",
        "C, M = KMeans(sample.values, 5, eps)\n",
        "plt.title(\"K-Means\")\n",
        "Draw(C, M, sample.values)\n",
        "plt.show()"
      ],
      "metadata": {
        "colab": {
          "base_uri": "https://localhost:8080/",
          "height": 545
        },
        "id": "jA8yJk-sf8e4",
        "outputId": "77e4a888-b022-4bed-d5e6-cbe5e54b1716"
      },
      "execution_count": 78,
      "outputs": [
        {
          "output_type": "display_data",
          "data": {
            "text/plain": [
              "<Figure size 432x288 with 1 Axes>"
            ],
            "image/png": "[encoded data removed]"
          },
          "metadata": {
            "needs_background": "light"
          }
        },
        {
          "output_type": "display_data",
          "data": {
            "text/plain": [
              "<Figure size 432x288 with 1 Axes>"
            ],
            "image/png": "[encoded data removed]"
          },
          "metadata": {
            "needs_background": "light"
          }
        }
      ]
    },
    {
      "cell_type": "code",
      "source": [
        "C, M = KMeansPP(sample.values, 6, eps)\n",
        "plt.title(\"K-Means++\")\n",
        "Draw(C, M, sample.values)\n",
        "plt.show()\n",
        "\n",
        "C, M = KMeans(sample.values, 6, eps)\n",
        "plt.title(\"K-Means\")\n",
        "Draw(C, M, sample.values)\n",
        "plt.show()"
      ],
      "metadata": {
        "colab": {
          "base_uri": "https://localhost:8080/",
          "height": 545
        },
        "id": "8uU6I1U6hXa-",
        "outputId": "e9866763-689d-46d7-89ae-6dfdc1c8eb14"
      },
      "execution_count": 79,
      "outputs": [
        {
          "output_type": "display_data",
          "data": {
            "text/plain": [
              "<Figure size 432x288 with 1 Axes>"
            ],
            "image/png": "[encoded data removed]"
          },
          "metadata": {
            "needs_background": "light"
          }
        },
        {
          "output_type": "display_data",
          "data": {
            "text/plain": [
              "<Figure size 432x288 with 1 Axes>"
            ],
            "image/png": "[encoded data removed]"
          },
          "metadata": {
            "needs_background": "light"
          }
        }
      ]
    },
    {
      "cell_type": "code",
      "source": [
        "C, M = KMeansPP(sample.values, 7, eps)\n",
        "plt.title(\"K-Means++\")\n",
        "Draw(C, M, sample.values)\n",
        "plt.show()\n",
        "\n",
        "C, M = KMeans(sample.values, 7, eps)\n",
        "plt.title(\"K-Means\")\n",
        "Draw(C, M, sample.values)\n",
        "plt.show()"
      ],
      "metadata": {
        "colab": {
          "base_uri": "https://localhost:8080/",
          "height": 545
        },
        "id": "T9wiXcXjiK50",
        "outputId": "1b77cb51-9245-4ecb-ba99-302f03ecbfeb"
      },
      "execution_count": 80,
      "outputs": [
        {
          "output_type": "display_data",
          "data": {
            "text/plain": [
              "<Figure size 432x288 with 1 Axes>"
            ],
            "image/png": "[encoded data removed]"
          },
          "metadata": {
            "needs_background": "light"
          }
        },
        {
          "output_type": "display_data",
          "data": {
            "text/plain": [
              "<Figure size 432x288 with 1 Axes>"
            ],
            "image/png": "[encoded data removed]"
          },
          "metadata": {
            "needs_background": "light"
          }
        }
      ]
    },
    {
      "cell_type": "markdown",
      "source": [
        "При оптимальном количестве кластеров $k=3$ обычная и модифицированная версии алгоритма выдали одинаковые результаты. Единственной разницей стал порядок кластеров (желтый и циановый кластеры поменялись местами)\n",
        "\n",
        "При $k=4$ заметны отличия в формировании красного и фиолетового кластеров. По субъективным ощущениям немодифицированный алгоритм предоставил более наглядную кластеризацию, так как фиолетовый и красный кластеры у K-Means не имеют \"смежных\" точек.\n",
        "\n",
        "При $k=5$ есть некоторые отличия в распределении точек между кластерами, но общий их вид оказался очень похож. Но тем не менее здесь можно выделить K-Means++ как более удачный, т.к. кластеры оказались более равномерно распределены и более скучены, чем у классического K-Means.\n",
        "\n",
        "При $k=6$ K-Means++ показал себя значительно лучше K-Means, так как полученные кластеры оказались знчительно более равномерно распределены и точки внутри кластеров значительно более сгруппированы. Например, циановый кластер у K-Means получился значительно шире чем должен был бы. Более корректно этот кластер определил K-Means++ (синий кластер).\n",
        "\n",
        "При $k=\\widetilde{k}=7$ K-Means++ вновь оказался значительно более выигрышным по сравнению с K-Means. Крайние \"нижний правый\"(синий) и \"нижний левый\"(желтый) кластеры K-Means++ сумел отделить от большого центрального скопления точек (оранжевый, зеленый, красный кластеры), тогда как у K-Means эти отдаленные от центра точки объединены с этим скоплением.\n",
        "\n",
        "Можно сделать вывод, что K-Means++ и K-Means показывают себя одинаково при малых количествах кластеров $k\\le3$, так как разделение на такое число кластеров весьма тривиально. Однако при росте $k$ K-Means++ начинает превосходить K-Means, значительно более равномерно и точно выделяя точки в кластеры."
      ],
      "metadata": {
        "id": "G60a0eALfRg7"
      }
    },
    {
      "cell_type": "markdown",
      "metadata": {
        "id": "j8zAg3wOD9hn"
      },
      "source": [
        "## Выводы\n",
        "\n"
      ]
    },
    {
      "cell_type": "markdown",
      "source": [
        "В ходе выполнения работы были освоены основные понятия и методы кластерного анализа: K-Means, K-Means++, K-Medoids, FOREL, метод локтя. Методы кластеризации были сравнены между собой при разных входных параметрах."
      ],
      "metadata": {
        "id": "qcaa_cr1j5VG"
      }
    }
  ],
  "metadata": {
    "kernelspec": {
      "display_name": "Python 3",
      "name": "python3"
    },
    "language_info": {
      "name": "python"
    },
    "colab": {
      "provenance": []
    },
    "gpuClass": "standard"
  },
  "nbformat": 4,
  "nbformat_minor": 0
}