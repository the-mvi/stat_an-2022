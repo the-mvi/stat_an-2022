{
  "metadata": {
    "kernelspec": {
      "language": "python",
      "display_name": "Python 3",
      "name": "python3"
    },
    "language_info": {
      "name": "python",
      "version": "3.7.12",
      "mimetype": "text/x-python",
      "codemirror_mode": {
        "name": "ipython",
        "version": 3
      },
      "pygments_lexer": "ipython3",
      "nbconvert_exporter": "python",
      "file_extension": ".py"
    },
    "colab": {
      "provenance": []
    }
  },
  "nbformat_minor": 0,
  "nbformat": 4,
  "cells": [
    {
      "cell_type": "markdown",
      "source": [
        "# Практическая работа №1: Формирование и первичная обработка выборки. Нахождение и точечных и интервальных оценок. Проверка статистических гипотез.\n",
        "Выполнила студентка гр. 0373 Гладкова Елизавета. Вариант №4\n",
        "    "
      ],
      "metadata": {
        "id": "a8TFpDmFHWrc"
      }
    },
    {
      "cell_type": "markdown",
      "source": [
        "## Цель работы\n",
        "Ознакомление с основными правилами формирования выборки и подготовки выборочных данных к статистическому анализу. Получение практических навыков нахождения точечных статистических оценок параметров распределения, а также вычисления интервальных статистических оценок параметров распределения выборочных данных и проверки\n",
        "«справедливости» статистических гипотез."
      ],
      "metadata": {
        "id": "AOBHXgKjHWre"
      }
    },
    {
      "cell_type": "markdown",
      "source": [
        "## Основные теоретические положения\n",
        "Выборочная совокупность(выборка) - совокупность случайно отобранных объектов. Объём = n. \n",
        "\n",
        "$x_{i}$ - варианты, $n_{i}$ - абсолютные частоты (веса), $p_{i}^{*}=\\frac{n_{i}}{n}$ - относительные частоты\n",
        "\n",
        "Генеральная совокупность - совокупность объектов, из которых производится выборка. Объём = N.\n",
        "\n",
        "Повторная выборка- отобранный объект (перед выбором следующего) возвращается в генеральную совокупность.\n",
        "\n",
        "Бесповторная выборка- отобранный объект не возвращается в генеральную совокупность.\n",
        "\n",
        "Ранжированный ряд - расположение единиц совокупности в порядке возрастания или убывания выбранного признака.\n",
        "\n",
        "Вариационный ряд -  ранжированный ряд распределения по величине какого-либо признака.\n",
        "\n",
        "Интервальный вариационный ряд - весь промежуток измерения значений выборки $[x_{min},x_{max}]$ разбивают на частичные интервалы.\n",
        "\n",
        "Формула Стёрджесса: $k=1+log_{2}n$ (целое число)\n",
        "\n",
        "Длина интервала: $h=\\frac{R}{k}$, где $R=x_{max}-x_{min}$\n",
        "\n",
        "Полигон частот - ломаная линия, соединяющая точки дискретного ряда $(x_{1},n_{1}),(x_{2},n_{2})...(x_{k},n_{k})$.\n",
        "\n",
        "Полигон относительных частот - ломаная линия,соединяющая точки дискретного ряда $(x_{1},p_{1}^{*}),(x_{2},p_{1}^{*})... (x_{k},p_{1}^{*})$\n",
        "\n",
        "Гистограмма- статистический аналог функции плотности распределения случайной величины.\n",
        "\n",
        "Гистограмма частот (относительных частот)- ступенчатая фигура, состоящая из прямоугольников, основаниями которых явялются частичные интервалы, а высота равна: $f_{i}=\\frac{n_{i}}{h}$ (для относительных частот: $f_{i}^{*}=\\frac{p_{i}^{*}}{h}$).\n",
        "\n",
        "Кумулянта- кривая накопленных частот, представляющая собой ломаную линию, соединяющую точки, координатами которых являются варианты и суммы абсолютных/относительных частот.\n",
        "\n",
        "Эмпирическая функция распределения - функция $F^{*}(x)$ задающая для каждого значения x относительную частоту события {X<x}: $F^{*}(x)=\\frac{n_{x}}{n} $ где $n_{x}$ - число выборочных значений величины X, меньших x.\n",
        "\n",
        "Выборочное среднее - среднее арифметическое значений признака выборочной совокупности: $\\overline{x_{B}}=\\frac{1}{n}\\sum_{i=1}^{n}x_{i}=\\sum_{i=1}^{k}\\frac{x_{i}n_{i}}{n}=\\sum_{i=1}^{k}x_{i}p_{i}^{*}$.\n",
        "\n",
        "Выборочная дисперсия - среднее арифметическое квадратов отклонений наблюдаемых значений признака от из средних значений $\\overline{x_{B}}$ : $\\sigma_{B}^{2}=\\frac{1}{n}\\sum_{i=1}^{n}(x_{i}-\\overline{x_{B}})^2=\\sum_{i=1}^{k}\\frac{(x_{i}-\\overline{x_{B}})^2n_{i}}{n}=\\sum_{i=1}^{k}(x_{i}-\\overline{x_{B}})^2p_{i}^{*}$\n",
        "\n",
        "Выборочное СКО: $\\sigma_{B}=\\sqrt{\\sigma_{B}^{2}}$\n",
        "\n",
        "Мода вариационного ряда - такое значение варианты, которой соответствует наибольшая частота. \n",
        "\n",
        "Мода $M_{o}^{*}$ интервального ряда - число, заключённое в частичном интервале, которому соответсвует наибольшая частота. $M_{o}^{*}=x_{M_{o}}^{(0)}+h\\frac{n_{M_{o}}-n_{M_{o}-1}}{(n_{M_{o}}-n_{M_{o}-1})+(n_{M_{o}}-n_{M_{o}+1})}$, где $n_{M_{o}}$ - частота, модального интервала, $n_{M_{o}-1}$ - частота, соответствующая предыдущему интервалу, $n_{M_{o}+1}$ - частота, соответствующая следующему интервалу, $x_{M_{o}}^{(0)}$ - варианта, соответствующая среднему значению интервала наибольшей частоты\n",
        "\n",
        "Медиана вариационного ряда - значение признака, приходящееся на середину ранжированного ряда наблюдений. \n",
        "\n",
        "Медиана $M_{e}^{*}$интервального ряда - число, принадлежащее частичному интервалу, для которого накопленная частота состовляет половину или больше половины всей суммы частот, а предыдущая накопленная частота меньше половины всей суммы частот. $M_{e}^{*}=x_{M_{e}}^{(0)}+\\frac{h}{p_{M_{e}}^{*}}(0,5 - p\\sum_{M_{e}-1})$, где $p_{M_{e}}^{*}$ - относительная частота медианного интервала, $p\\sum_{M_{e}-1}$ - накопленная относительная частота, соответствующая предыдущему частичному интервалу,  $x_{M_{e}}^{(0)}$ - варианта, соответствующая среднему значению интервала, для которого накопленная частота состовляет половину или больше половины всей суммы частот, а предыдущая накопленная частота меньше половины всей суммы частот.\n",
        "\n",
        "Условные варианты - варианты, определяемые равенством $u_{i}=\\frac{x_{i}-C}{h}$, где C - ложный нуль (середина вариационного ряда). Если вариационный ряд состоит из равноостоящих вариант с шагом h, то условные варианты $u_{i}\\in\\mathbb{Z}$\n",
        "\n",
        "Обычный эмпирический момент порядка r - среднее значение r-ых степеней разностей $x_{i}-C$: $\\nu_{r}^{'}=\\frac{1}{n}\\sum_{i=1}^{k}n_{i}(x_{i}-C)^r$\n",
        "\n",
        "Начальный эмпирический момент порядка r - обычный момент порядка r при C=0: $\\nu_{r}=\\frac{1}{n}\\sum_{i=1}^{k}n_{i}x_{i}^{r}$\n",
        "\n",
        "Условный эмпирический момент порядка r - начальный момент порядка r, вычисленный для условных вариант: $\\nu_{r}^{*}=\\frac{1}{n}\\sum_{i=1}^{k}n_{i}x_{i}^{r}=\\frac{1}{n}\\sum_{i=1}^{k}n_{i}(\\frac{x_{i}-C}{h})^r$\n",
        "\n",
        "Центральный эмпирический момент порядка r - обычный момент r при $C=\\overline{x_{B}}$: $\\mu_{r}^{*}=\\frac{1}{n}\\sum_{i=1}^{k}n_{i}(x_{i}-\\overline{x_{B}})^r$\n",
        "\n",
        "$\\overline{x_{B}}=h\\nu_{1}^{*}+C$, $\\sigma_{B}^{2}=\\mu_{2}^{*}$\n",
        "\n",
        "Исправленная выборочная дисперсия: $s^2=\\frac{n}{n-1}\\sigma_{B}^{2}$. *Исправленное СКО*: $s=\\sqrt{s^2}$\n",
        "\n",
        "Выборочный коэффициент ассиметрии: $a_{s}^{*}=\\frac{\\mu_{3}^{8}}{\\sigma_{B}^{3}}$\n",
        "\n",
        "Выборочный коэффициент экцесса: $\\varepsilon_{k}^{*}=\\frac{\\mu_{4}^{*}}{\\sigma_{B}^{4}}-3$\n",
        "\n",
        "Доверительный интервал - интервал $(\\theta^{*}-\\delta;\\theta^{*}+\\delta)$, который покрывает неизвестный параметр $\\theta$ с заданной надёжностью $\\gamma$\n",
        "\n",
        "Значение q=q($\\sigma$,n) табулировано.\n",
        "\n",
        "Статистическая гипотеза - любое предположение о генеральной совокупности, проверяемое по выборке. \n",
        "\n",
        "Статистический критерий проверки основной гипотезы - правило, по которому принимается решение принять или отклонить гипотезу.\n",
        "\n",
        "Статистика критерия - случайная величина, служащая для проверки относительных гипотез.\n",
        "\n",
        "Критическая область - совокупность значений критерия, при которых основную гипотезу отвергают.\n",
        "\n",
        "Теоретические частоты - частоты, которые находятся по формуле $n_{i}^{'}=np_{i}$, где n - объём выборки,$p_{i}$ - точечная вероятность варианты $x_{i}$ дискретной случайной величины или интервальная вероятность для варианты $x\\in(x_{i-1};x_{i}]$ непрерывной случайной величины.\n",
        "\n",
        "Статистика: $\\chi_{nabl}^{2}=\\sum_{i=1}^{k}\\frac{(n_{i}-n_{i}^{'})^2}{n_{i}{'}}=\\sum_{i=1}^{k}\\frac{n_{i}^{2}}{n_{i}^{'}}-n$\n",
        "\n",
        "$\\chi_{krit}^{2}=\\chi^{2}(\\alpha, df)$, где $\\alpha$ - заданный уровень значимости, $df=k-r-1$ - число степеней свободы, где k - число частичных интервалов выборки, r -  число параметров дифференциальной функции распределения.\n",
        "\n",
        "Условие принятия гипотезы: \n",
        "\n",
        "$X_{nabl}^{2} < X_{krit}^{2}$\n",
        "\n"
      ],
      "metadata": {
        "id": "XT7kQZWvHWre"
      }
    },
    {
      "cell_type": "markdown",
      "source": [
        "## Постановка задачи\n",
        "Осуществить формирование репрезентативной выборки заданного объема из имеющейся генеральной совокупности экспериментальных данных. Осуществить последовательное преобразование полученной выборки в ранжированный, вариационный и интервальный ряды. Применительно к интервальному ряду построить и отобразить графически полигон, гистограмму и эмпирическую функцию распределения для абсолютных и относительных частот. Для заданных выборочных данных вычислить с использованием метода моментов и условных вариант точечные статистические оценки математического ожидания, дисперсии, среднеквадратичного отклонения, асимметрии, эксцесса, моды, медианы и коэффициента вариации исследуемой случайной величины. Для заданной надёжности определить границы доверительных интервалов для математического ожидания и среднеквадратичного отклонения случайной величины. Проверить гипотезу о нормальном распределении исследуемой случайной величины с помощью критерия Пирсона $𝜒^{2}$.Полученные результаты содержательно проинтерпретировать.\n"
      ],
      "metadata": {
        "id": "-h6_Ql8JHWrf"
      }
    },
    {
      "cell_type": "markdown",
      "source": [
        "## Выполнение работы"
      ],
      "metadata": {
        "id": "1hMG-PcSHWrf"
      }
    },
    {
      "cell_type": "markdown",
      "source": [
        "## Пункт 1\n",
        "Из генеральной совокупности, которую можно найти по: https://www.kaggle.com/datasets/psycon/daily-coffee-price была сформирована выборка механического вида."
      ],
      "metadata": {
        "id": "WrDdx1ODHWrg"
      }
    },
    {
      "cell_type": "code",
      "source": [
        "import pandas as pd\n",
        "import numpy as np\n",
        "columns = ['Column1','Column2']\n",
        "dataset = pd.read_csv('../input/vyborka/.csv', header = None, names = columns)  \n",
        "print(dataset)"
      ],
      "metadata": {
        "id": "k9S-V_uoHWrg",
        "outputId": "ed6909e3-f0b1-498a-92d0-d058f0196f30",
        "execution": {
          "iopub.status.busy": "2022-10-31T18:32:29.591785Z",
          "iopub.execute_input": "2022-10-31T18:32:29.593031Z",
          "iopub.status.idle": "2022-10-31T18:32:29.613154Z",
          "shell.execute_reply.started": "2022-10-31T18:32:29.592991Z",
          "shell.execute_reply": "2022-10-31T18:32:29.612084Z"
        },
        "trusted": true
      },
      "execution_count": null,
      "outputs": [
        {
          "name": "stdout",
          "text": "    Column1   Column2\n0    124.20    116.1;\n1    103.70    101.3;\n2     85.90     85.0;\n3     79.85     77.6;\n4     65.40     62.9;\n..      ...       ...\n84   129.40   125.25;\n85   125.45   120.75;\n86   162.10    154.0;\n87   205.55   192.95;\n88   226.95   220.55;\n\n[89 rows x 2 columns]\n",
          "output_type": "stream"
        }
      ]
    },
    {
      "cell_type": "markdown",
      "source": [
        "Здесь и далее работа будет проводиться с переменными из Column1."
      ],
      "metadata": {
        "id": "0-MSjGwAUk1u"
      }
    },
    {
      "cell_type": "markdown",
      "source": [
        "## Пункт 2"
      ],
      "metadata": {
        "id": "m6HUsSQTHWrh"
      }
    },
    {
      "cell_type": "markdown",
      "source": [
        "Преобразование выборки в ранжированный, вариационный и интервальный ряды"
      ],
      "metadata": {
        "id": "zmGpBm8JUk1u"
      }
    },
    {
      "cell_type": "code",
      "source": [
        "m=dataset['Column1'].values\n",
        "m.sort()\n",
        "print(\"ранжированный ряд:\")\n",
        "for i in range(len(m)):\n",
        "        print(m[i])"
      ],
      "metadata": {
        "id": "CWiQRvdsHWrh",
        "outputId": "841ed7a5-40ff-46bb-cfa0-36cfcc6689bb",
        "execution": {
          "iopub.status.busy": "2022-10-31T18:32:29.615159Z",
          "iopub.execute_input": "2022-10-31T18:32:29.615876Z",
          "iopub.status.idle": "2022-10-31T18:32:29.625028Z",
          "shell.execute_reply.started": "2022-10-31T18:32:29.615829Z",
          "shell.execute_reply": "2022-10-31T18:32:29.624284Z"
        },
        "trusted": true
      },
      "execution_count": null,
      "outputs": [
        {
          "name": "stdout",
          "text": "ранжированный ряд:\n46.2\n47.75\n47.75\n56.0\n57.25\n58.7\n59.25\n59.9\n61.5\n63.9\n65.4\n65.9\n70.5\n73.2\n74.4\n79.85\n81.3\n85.9\n94.4\n94.8\n101.6\n102.65\n102.8\n103.0\n103.45\n103.7\n105.1\n106.5\n107.9\n108.8\n109.1\n110.7\n111.2\n111.5\n111.6\n112.05\n112.3\n112.55\n114.7\n116.05\n118.4\n119.1\n120.1\n121.85\n122.45\n124.2\n125.45\n125.9\n126.3\n127.8\n127.9\n128.65\n128.8\n129.4\n129.75\n130.15\n130.25\n130.95\n131.35\n131.9\n136.4\n136.95\n137.95\n139.05\n139.8\n141.35\n142.45\n142.8\n145.5\n151.7\n151.95\n153.3\n162.1\n166.1\n167.25\n172.25\n178.95\n178.95\n179.75\n186.2\n186.9\n201.85\n205.55\n226.95\n228.0\n228.6\n240.5\n264.4\n266.25\n",
          "output_type": "stream"
        }
      ]
    },
    {
      "cell_type": "code",
      "source": [
        "print(\"вариационный ряд:\")\n",
        "unique, counts=np.unique(m, return_counts=True)\n",
        "result=np.column_stack((unique, counts)) \n",
        "print(result)"
      ],
      "metadata": {
        "id": "t5cWrYiwHWri",
        "outputId": "ec12a5df-dcb5-484d-e922-feccca98fc44",
        "execution": {
          "iopub.status.busy": "2022-10-31T18:32:29.626438Z",
          "iopub.execute_input": "2022-10-31T18:32:29.626892Z",
          "iopub.status.idle": "2022-10-31T18:32:29.636942Z",
          "shell.execute_reply.started": "2022-10-31T18:32:29.626866Z",
          "shell.execute_reply": "2022-10-31T18:32:29.635962Z"
        },
        "trusted": true
      },
      "execution_count": null,
      "outputs": [
        {
          "name": "stdout",
          "text": "вариационный ряд:\n[[ 46.2    1.  ]\n [ 47.75   2.  ]\n [ 56.     1.  ]\n [ 57.25   1.  ]\n [ 58.7    1.  ]\n [ 59.25   1.  ]\n [ 59.9    1.  ]\n [ 61.5    1.  ]\n [ 63.9    1.  ]\n [ 65.4    1.  ]\n [ 65.9    1.  ]\n [ 70.5    1.  ]\n [ 73.2    1.  ]\n [ 74.4    1.  ]\n [ 79.85   1.  ]\n [ 81.3    1.  ]\n [ 85.9    1.  ]\n [ 94.4    1.  ]\n [ 94.8    1.  ]\n [101.6    1.  ]\n [102.65   1.  ]\n [102.8    1.  ]\n [103.     1.  ]\n [103.45   1.  ]\n [103.7    1.  ]\n [105.1    1.  ]\n [106.5    1.  ]\n [107.9    1.  ]\n [108.8    1.  ]\n [109.1    1.  ]\n [110.7    1.  ]\n [111.2    1.  ]\n [111.5    1.  ]\n [111.6    1.  ]\n [112.05   1.  ]\n [112.3    1.  ]\n [112.55   1.  ]\n [114.7    1.  ]\n [116.05   1.  ]\n [118.4    1.  ]\n [119.1    1.  ]\n [120.1    1.  ]\n [121.85   1.  ]\n [122.45   1.  ]\n [124.2    1.  ]\n [125.45   1.  ]\n [125.9    1.  ]\n [126.3    1.  ]\n [127.8    1.  ]\n [127.9    1.  ]\n [128.65   1.  ]\n [128.8    1.  ]\n [129.4    1.  ]\n [129.75   1.  ]\n [130.15   1.  ]\n [130.25   1.  ]\n [130.95   1.  ]\n [131.35   1.  ]\n [131.9    1.  ]\n [136.4    1.  ]\n [136.95   1.  ]\n [137.95   1.  ]\n [139.05   1.  ]\n [139.8    1.  ]\n [141.35   1.  ]\n [142.45   1.  ]\n [142.8    1.  ]\n [145.5    1.  ]\n [151.7    1.  ]\n [151.95   1.  ]\n [153.3    1.  ]\n [162.1    1.  ]\n [166.1    1.  ]\n [167.25   1.  ]\n [172.25   1.  ]\n [178.95   2.  ]\n [179.75   1.  ]\n [186.2    1.  ]\n [186.9    1.  ]\n [201.85   1.  ]\n [205.55   1.  ]\n [226.95   1.  ]\n [228.     1.  ]\n [228.6    1.  ]\n [240.5    1.  ]\n [264.4    1.  ]\n [266.25   1.  ]]\n",
          "output_type": "stream"
        }
      ]
    },
    {
      "cell_type": "code",
      "source": [
        "print(\"интервальный ряд:\")\n",
        "import math\n",
        "dif=m[len(m)-1]-m[0]\n",
        "kolvo=math.ceil(1+math.log2(len(m)))\n",
        "inter=dif/kolvo\n",
        "a=[0]*kolvo\n",
        "b=[0]*kolvo\n",
        "a[0]=m[0]\n",
        "b[0]=m[0]+inter\n",
        "print(\"[\",m[0],\",\",round((m[0]+inter),5),\"]\")\n",
        "for i in range(1,kolvo):\n",
        "    a[i]= m[0]+inter*i\n",
        "    b[i]= m[0]+inter*(i+1)\n",
        "    print(\"(\",round(a[i],5),\",\",round(b[i],5),\"]\")"
      ],
      "metadata": {
        "id": "oCheDst4HWri",
        "outputId": "29e2360c-e026-4804-d8b8-46356388a00b",
        "execution": {
          "iopub.status.busy": "2022-10-31T18:32:29.638165Z",
          "iopub.execute_input": "2022-10-31T18:32:29.639206Z",
          "iopub.status.idle": "2022-10-31T18:32:29.648185Z",
          "shell.execute_reply.started": "2022-10-31T18:32:29.639175Z",
          "shell.execute_reply": "2022-10-31T18:32:29.647088Z"
        },
        "trusted": true
      },
      "execution_count": null,
      "outputs": [
        {
          "name": "stdout",
          "text": "интервальный ряд:\n[ 46.2 , 73.70625 ]\n( 73.70625 , 101.2125 ]\n( 101.2125 , 128.71875 ]\n( 128.71875 , 156.225 ]\n( 156.225 , 183.73125 ]\n( 183.73125 , 211.2375 ]\n( 211.2375 , 238.74375 ]\n( 238.74375 , 266.25 ]\n",
          "output_type": "stream"
        }
      ]
    },
    {
      "cell_type": "markdown",
      "source": [
        "## Пункт 3"
      ],
      "metadata": {
        "id": "S8iJXwjuHWri"
      }
    },
    {
      "cell_type": "markdown",
      "source": [
        "Построение графиков для интервального ряда абсолютных частот"
      ],
      "metadata": {
        "id": "hY8ns_4hUk1v"
      }
    },
    {
      "cell_type": "code",
      "source": [
        "print(\"полигон частот:\")\n",
        "import matplotlib.pyplot as plt\n",
        "kolvodot=[0]*kolvo\n",
        "middle=[0]*kolvo\n",
        "kolvodot[0]=1\n",
        "for i in range(len(a)):\n",
        "    middle[i]=(a[i]+b[i])/2\n",
        "    for j in range(len(m)):\n",
        "        if (a[i]<m[j]<=b[i]):\n",
        "            kolvodot[i]=kolvodot[i]+1\n",
        "plt.plot(middle,kolvodot,color='b',)\n",
        "plt.grid()\n",
        "plt.show()"
      ],
      "metadata": {
        "id": "xjOOlWW5HWri",
        "outputId": "546f476b-20f2-4baf-b374-9ba94f67fb98",
        "execution": {
          "iopub.status.busy": "2022-10-31T18:32:29.649980Z",
          "iopub.execute_input": "2022-10-31T18:32:29.650343Z",
          "iopub.status.idle": "2022-10-31T18:32:29.821204Z",
          "shell.execute_reply.started": "2022-10-31T18:32:29.650315Z",
          "shell.execute_reply": "2022-10-31T18:32:29.820084Z"
        },
        "trusted": true
      },
      "execution_count": null,
      "outputs": [
        {
          "name": "stdout",
          "text": "полигон частот:\n",
          "output_type": "stream"
        },
        {
          "output_type": "display_data",
          "data": {
            "text/plain": "<Figure size 432x288 with 1 Axes>",
            "image/png": "[encoded data removed]"
          },
          "metadata": {
            "needs_background": "light"
          }
        }
      ]
    },
    {
      "cell_type": "markdown",
      "source": [
        "По графику видно, что элемент, у которого наибольшая частота, находится в диапазоне от 101.2125 до 128.71875."
      ],
      "metadata": {
        "id": "MbLlrfJwUk1v"
      }
    },
    {
      "cell_type": "code",
      "source": [
        "print(\"гистограмма частот:\")\n",
        "plt.hist(m, bins=kolvo, color='b', weights=np.ones_like(m)/inter)\n",
        "plt.grid(color='black')\n",
        "plt.show()"
      ],
      "metadata": {
        "id": "lfbE3LO3HWrj",
        "outputId": "fe964fb8-29cd-4314-c358-b1008bf897ff",
        "execution": {
          "iopub.status.busy": "2022-10-31T18:32:29.823152Z",
          "iopub.execute_input": "2022-10-31T18:32:29.823841Z",
          "iopub.status.idle": "2022-10-31T18:32:30.204747Z",
          "shell.execute_reply.started": "2022-10-31T18:32:29.823796Z",
          "shell.execute_reply": "2022-10-31T18:32:30.203449Z"
        },
        "trusted": true
      },
      "execution_count": null,
      "outputs": [
        {
          "name": "stdout",
          "text": "гистограмма частот:\n",
          "output_type": "stream"
        },
        {
          "output_type": "display_data",
          "data": {
            "text/plain": "<Figure size 432x288 with 1 Axes>",
            "image/png": "[encoded data removed]"
          },
          "metadata": {
            "needs_background": "light"
          }
        }
      ]
    },
    {
      "cell_type": "code",
      "source": [
        "print(\"эмпирическая функция:\")\n",
        "plt.grid()\n",
        "high=[0]*kolvo\n",
        "for i in range(len(a)):\n",
        "    high[i]=high[i-1]+kolvodot[i]\n",
        "    plt.hlines(high[i], a[i], b[i], color='b')"
      ],
      "metadata": {
        "id": "yft6EjUZHWrj",
        "outputId": "6c4eb9ec-cfee-4918-bac4-7f9ff55ce6e7",
        "execution": {
          "iopub.status.busy": "2022-10-31T18:32:30.207360Z",
          "iopub.execute_input": "2022-10-31T18:32:30.208293Z",
          "iopub.status.idle": "2022-10-31T18:32:30.433706Z",
          "shell.execute_reply.started": "2022-10-31T18:32:30.208259Z",
          "shell.execute_reply": "2022-10-31T18:32:30.432697Z"
        },
        "trusted": true
      },
      "execution_count": null,
      "outputs": [
        {
          "name": "stdout",
          "text": "эмпирическая функция:\n",
          "output_type": "stream"
        },
        {
          "output_type": "display_data",
          "data": {
            "text/plain": "<Figure size 432x288 with 1 Axes>",
            "image/png": "[encoded data removed]"
          },
          "metadata": {
            "needs_background": "light"
          }
        }
      ]
    },
    {
      "cell_type": "markdown",
      "source": [
        "Вывод: по получившимся графикам видно, что выборка не имеет никакой закономерности."
      ],
      "metadata": {
        "id": "xvsYwI1ZHWrj"
      }
    },
    {
      "cell_type": "markdown",
      "source": [
        "## Пункт 4"
      ],
      "metadata": {
        "id": "qMfwrcdPHWrj"
      }
    },
    {
      "cell_type": "markdown",
      "source": [
        "Построение графиков для интервального ряда относительных частот."
      ],
      "metadata": {
        "id": "LqmbxqzHUk1w"
      }
    },
    {
      "cell_type": "code",
      "source": [
        "print(\"полигон относительных частот:\")\n",
        "kd=[0]*kolvo\n",
        "for i in range(len(a)):\n",
        "    kd[i]=kolvodot[i]/len(m)\n",
        "plt.plot(middle,kd,color='b')\n",
        "plt.grid()\n",
        "plt.show()"
      ],
      "metadata": {
        "id": "kDHHmT7THWrj",
        "outputId": "08ebc56b-2bef-41a1-c98c-9e7225c71351",
        "execution": {
          "iopub.status.busy": "2022-10-31T18:32:30.435487Z",
          "iopub.execute_input": "2022-10-31T18:32:30.435942Z",
          "iopub.status.idle": "2022-10-31T18:32:30.642670Z",
          "shell.execute_reply.started": "2022-10-31T18:32:30.435899Z",
          "shell.execute_reply": "2022-10-31T18:32:30.641422Z"
        },
        "trusted": true
      },
      "execution_count": null,
      "outputs": [
        {
          "name": "stdout",
          "text": "полигон относительных частот:\n",
          "output_type": "stream"
        },
        {
          "output_type": "display_data",
          "data": {
            "text/plain": "<Figure size 432x288 with 1 Axes>",
            "image/png": "[encoded data removed]"
          },
          "metadata": {
            "needs_background": "light"
          }
        }
      ]
    },
    {
      "cell_type": "code",
      "source": [
        "print(\"гистограмма относительных частот:\")\n",
        "plt.hist(m, bins=kolvo, color = 'b', weights=(np.ones_like(m)/len(m))/inter)\n",
        "plt.grid(color='black')\n",
        "plt.show()"
      ],
      "metadata": {
        "id": "1n-K-HJ_HWrj",
        "outputId": "2b2b9991-7b73-4022-a047-95b403d797f3",
        "execution": {
          "iopub.status.busy": "2022-10-31T18:32:30.644283Z",
          "iopub.execute_input": "2022-10-31T18:32:30.646298Z",
          "iopub.status.idle": "2022-10-31T18:32:30.853348Z",
          "shell.execute_reply.started": "2022-10-31T18:32:30.646262Z",
          "shell.execute_reply": "2022-10-31T18:32:30.852306Z"
        },
        "trusted": true
      },
      "execution_count": null,
      "outputs": [
        {
          "name": "stdout",
          "text": "гистограмма относительных частот:\n",
          "output_type": "stream"
        },
        {
          "output_type": "display_data",
          "data": {
            "text/plain": "<Figure size 432x288 with 1 Axes>",
            "image/png": "[encoded data removed]"
          },
          "metadata": {
            "needs_background": "light"
          }
        }
      ]
    },
    {
      "cell_type": "code",
      "source": [
        "print(\"эмпирическая функция относительных частот:\")\n",
        "plt.grid()\n",
        "hi=[0]*kolvo\n",
        "for i in range(len(a)):\n",
        "    hi[i]=hi[i-1]+kolvodot[i]/len(m)\n",
        "    plt.hlines(hi[i], a[i], b[i], color='b')"
      ],
      "metadata": {
        "id": "K_kQju93HWrk",
        "outputId": "f1b37818-be34-451d-f3d3-147dadcd03ef",
        "execution": {
          "iopub.status.busy": "2022-10-31T18:32:30.854897Z",
          "iopub.execute_input": "2022-10-31T18:32:30.855328Z",
          "iopub.status.idle": "2022-10-31T18:32:31.068247Z",
          "shell.execute_reply.started": "2022-10-31T18:32:30.855283Z",
          "shell.execute_reply": "2022-10-31T18:32:31.067150Z"
        },
        "trusted": true
      },
      "execution_count": null,
      "outputs": [
        {
          "name": "stdout",
          "text": "эмпирическая функция относительных частот:\n",
          "output_type": "stream"
        },
        {
          "output_type": "display_data",
          "data": {
            "text/plain": "<Figure size 432x288 with 1 Axes>",
            "image/png": "[encoded data removed]"
          },
          "metadata": {
            "needs_background": "light"
          }
        }
      ]
    },
    {
      "cell_type": "markdown",
      "source": [
        "Вывод: по графикам относительных частот тоже нельзя ничего утверждать о характере выборки, как и по графикам для абсолютных частот (визуально графики не отлчаются от графиков пункта №3, отличие только в значениях оси y)."
      ],
      "metadata": {
        "id": "x9bm38cNHWrk"
      }
    },
    {
      "cell_type": "markdown",
      "source": [
        "## Пункт 5"
      ],
      "metadata": {
        "id": "KxgRgEgiHWrk"
      }
    },
    {
      "cell_type": "markdown",
      "source": [
        "Поиск середин интервалов и накопленных частот:"
      ],
      "metadata": {
        "id": "E-ffW-0uUk1x"
      }
    },
    {
      "cell_type": "code",
      "source": [
        "from prettytable import PrettyTable\n",
        "sum_p=[0]*kolvo\n",
        "sum_n=[0]*kolvo\n",
        "table = PrettyTable([\"i\",\"(x(i-1);xi]\",\"x cpеднее\",\"ni\",\"p*i\",\"сумма ni\",\"сумма pi\"])\n",
        "sum_p[0]=kd[0]\n",
        "sum_n[0]=kolvodot[0]\n",
        "for i in range(1,len(a)):\n",
        "    sum_p[i]=sum_p[i-1]+kd[i]\n",
        "    sum_n[i]=sum_n[i-1]+kolvodot[i]\n",
        "table.add_row([1,[round(a[0],5),round(b[0],5)],round(middle[0],5),kolvodot[0],round(kd[0],5),sum_n[0],round(sum_p[0],5)])\n",
        "for i in range(1,len(a)):\n",
        "    table.add_row([i+1,[round(a[i],5),round(b[i],5)],round(middle[i],5),kolvodot[i],round(kd[i],5),sum_n[i],round(sum_p[i],5)])\n",
        "table.add_row([\" \",\" \",\"Cумма\",sum(kolvodot),round(sum(kd)),\"-\",\"-\"])\n",
        "print(table)"
      ],
      "metadata": {
        "id": "9d8d-X2aHWrk",
        "outputId": "a5737fc2-fdf8-4e1e-b76b-7945b8318c75",
        "execution": {
          "iopub.status.busy": "2022-10-31T18:32:31.069870Z",
          "iopub.execute_input": "2022-10-31T18:32:31.070572Z",
          "iopub.status.idle": "2022-10-31T18:32:31.085442Z",
          "shell.execute_reply.started": "2022-10-31T18:32:31.070529Z",
          "shell.execute_reply": "2022-10-31T18:32:31.084286Z"
        },
        "trusted": true
      },
      "execution_count": null,
      "outputs": [
        {
          "name": "stdout",
          "text": "+---+-----------------------+-----------+----+---------+----------+----------+\n| i |      (x(i-1);xi]      | x cpеднее | ni |   p*i   | сумма ni | сумма pi |\n+---+-----------------------+-----------+----+---------+----------+----------+\n| 1 |    [46.2, 73.70625]   |  59.95313 | 14 |  0.1573 |    14    |  0.1573  |\n| 2 |  [73.70625, 101.2125] |  87.45938 | 6  | 0.06742 |    20    | 0.22472  |\n| 3 | [101.2125, 128.71875] | 114.96562 | 32 | 0.35955 |    52    | 0.58427  |\n| 4 |  [128.71875, 156.225] | 142.47188 | 20 | 0.22472 |    72    | 0.80899  |\n| 5 |  [156.225, 183.73125] | 169.97812 | 7  | 0.07865 |    79    | 0.88764  |\n| 6 | [183.73125, 211.2375] | 197.48438 | 4  | 0.04494 |    83    | 0.93258  |\n| 7 | [211.2375, 238.74375] | 224.99063 | 3  | 0.03371 |    86    | 0.96629  |\n| 8 |  [238.74375, 266.25]  | 252.49688 | 3  | 0.03371 |    89    |   1.0    |\n|   |                       |   Cумма   | 89 |    1    |    -     |    -     |\n+---+-----------------------+-----------+----+---------+----------+----------+\n",
          "output_type": "stream"
        }
      ]
    },
    {
      "cell_type": "markdown",
      "source": [
        "## Пункт 6\n"
      ],
      "metadata": {
        "id": "0lkJDFNMHWrl"
      }
    },
    {
      "cell_type": "markdown",
      "source": [
        "Поиск условных вариант:"
      ],
      "metadata": {
        "id": "-DNCJsTUUk1y"
      }
    },
    {
      "cell_type": "code",
      "source": [
        "ui=[0]*kolvo\n",
        "ui1,ui2,ui3,ui4,ui5=[0]*kolvo,[0]*kolvo,[0]*kolvo,[0]*kolvo,[0]*kolvo\n",
        "max_search=0\n",
        "for i in range(len(a)):\n",
        "    ui[i]=i\n",
        "for i in range(len(a)):               # поиск индекса элемента с наибольшей частотой\n",
        "    max_search=max_search+kolvodot[i]\n",
        "    if max_search>45:\n",
        "        break\n",
        "for j in range(len(a)):\n",
        "        ui[j]=ui[j]-i\n",
        "tableII = PrettyTable([\"i\",\"xi\",\"ni\",\"ui\",\"ui_ni\",\"ui^2_ni\",\"ui^3_ni\",\"ui^4_ni\",\"(ui+1)^4_ni\"])   \n",
        "for i in range(len(a)):\n",
        "    ui1[i]=kolvodot[i]*ui[i]           # поиск ui_ni\n",
        "    ui2[i]=ui1[i]*ui[i]                # поиск ui^2_ni\n",
        "    ui3[i]=ui2[i]*ui[i]                # поиск ui^3_ni\n",
        "    ui4[i]=ui3[i]*ui[i]                # поиск ui^4_ni\n",
        "    ui5[i]=kolvodot[i]*((ui[i]+1)**4)  # поиск (ui+1)^4_ni\n",
        "    tableII.add_row([i+1,round(middle[i],5),kolvodot[i],ui[i],ui1[i],ui2[i],ui3[i],ui4[i],ui5[i]])\n",
        "tableII.add_row([\" \",\"Сумма\",sum(kolvodot),\"-\",sum(ui1),sum(ui2),sum(ui3),sum(ui4),sum(ui5)])\n",
        "print(tableII)\n",
        "print('проверка:')\n",
        "proof=sum(ui4)+4*sum(ui3)+6*sum(ui2)+4*sum(ui1)+sum(kolvodot)\n",
        "print(proof)"
      ],
      "metadata": {
        "id": "8XvtZFYjHWrl",
        "outputId": "a17eae6d-7355-4f39-e4e3-2b7221f90761",
        "execution": {
          "iopub.status.busy": "2022-10-31T18:32:31.089699Z",
          "iopub.execute_input": "2022-10-31T18:32:31.092021Z",
          "iopub.status.idle": "2022-10-31T18:32:31.106355Z",
          "shell.execute_reply.started": "2022-10-31T18:32:31.091989Z",
          "shell.execute_reply": "2022-10-31T18:32:31.104926Z"
        },
        "trusted": true
      },
      "execution_count": null,
      "outputs": [
        {
          "name": "stdout",
          "text": "+---+-----------+----+----+-------+---------+---------+---------+-------------+\n| i |     xi    | ni | ui | ui_ni | ui^2_ni | ui^3_ni | ui^4_ni | (ui+1)^4_ni |\n+---+-----------+----+----+-------+---------+---------+---------+-------------+\n| 1 |  59.95313 | 14 | -2 |  -28  |    56   |   -112  |   224   |      14     |\n| 2 |  87.45938 | 6  | -1 |   -6  |    6    |    -6   |    6    |      0      |\n| 3 | 114.96562 | 32 | 0  |   0   |    0    |    0    |    0    |      32     |\n| 4 | 142.47188 | 20 | 1  |   20  |    20   |    20   |    20   |     320     |\n| 5 | 169.97812 | 7  | 2  |   14  |    28   |    56   |   112   |     567     |\n| 6 | 197.48438 | 4  | 3  |   12  |    36   |   108   |   324   |     1024    |\n| 7 | 224.99063 | 3  | 4  |   12  |    48   |   192   |   768   |     1875    |\n| 8 | 252.49688 | 3  | 5  |   15  |    75   |   375   |   1875  |     3888    |\n|   |   Сумма   | 89 | -  |   39  |   269   |   633   |   3329  |     7720    |\n+---+-----------+----+----+-------+---------+---------+---------+-------------+\nпроверка:\n7720\n",
          "output_type": "stream"
        }
      ]
    },
    {
      "cell_type": "markdown",
      "source": [
        "Так как сумма всех (ui+1)^4_ni и проверки совпадают, все вычисления были проведены верно."
      ],
      "metadata": {
        "id": "6mkVnO6YUk1y"
      }
    },
    {
      "cell_type": "markdown",
      "source": [
        "## Пункт 7"
      ],
      "metadata": {
        "id": "9SoVZZYBHWrl"
      }
    },
    {
      "cell_type": "markdown",
      "source": [
        "Поиск условных эмпирических моментов через условные варианты.\n",
        "\n",
        "Поиск центральных эмпирических моментов с помощью условных эмпирических моментов."
      ],
      "metadata": {
        "id": "QizWaw6wUk1y"
      }
    },
    {
      "cell_type": "code",
      "source": [
        "tableIII = PrettyTable([\"i\",\"условные эмпирические моменты\",\"центральные эмпирические моменты\"])\n",
        "v1=sum(ui1)/len(m)\n",
        "tableIII.add_row([1,round(v1,5),0])\n",
        "v2=sum(ui2)/len(m)\n",
        "my2=(v2-(v1)**2)*inter**2\n",
        "tableIII.add_row([2,round(v2,5),round(my2,5)])\n",
        "v3=sum(ui3)/len(m)\n",
        "my3=(v3-(3*v2*v1)+2*(v1**3))*inter**3\n",
        "tableIII.add_row([3,round(v3,5),round(my3,5)])\n",
        "v4=sum(ui4)/len(m)\n",
        "my4=(v4-(4*v3*v1)+(6*v2*(v1)**2)-(3*(v1)**4))*inter**4\n",
        "tableIII.add_row([4,round(v4,5),round(my4,5)])\n",
        "print(tableIII)"
      ],
      "metadata": {
        "id": "yo442gRlHWrl",
        "outputId": "833632da-d922-4662-d9a7-9d5ca37c7658",
        "execution": {
          "iopub.status.busy": "2022-10-31T18:32:31.108276Z",
          "iopub.execute_input": "2022-10-31T18:32:31.108670Z",
          "iopub.status.idle": "2022-10-31T18:32:31.121231Z",
          "shell.execute_reply.started": "2022-10-31T18:32:31.108592Z",
          "shell.execute_reply": "2022-10-31T18:32:31.120519Z"
        },
        "trusted": true
      },
      "execution_count": null,
      "outputs": [
        {
          "name": "stdout",
          "text": "+---+-------------------------------+----------------------------------+\n| i | условные эмпирические моменты | центральные эмпирические моменты |\n+---+-------------------------------+----------------------------------+\n| 1 |             0.4382            |                0                 |\n| 2 |            3.02247            |            2141.50142            |\n| 3 |            7.11236            |            68828.1174            |\n| 4 |            37.40449           |          16205349.20815          |\n+---+-------------------------------+----------------------------------+\n",
          "output_type": "stream"
        }
      ]
    },
    {
      "cell_type": "markdown",
      "source": [
        "## Пункт 8"
      ],
      "metadata": {
        "id": "v2DIg_2XHWrl"
      }
    },
    {
      "cell_type": "markdown",
      "source": [
        "Вычисление выборочных средних и дисперсии с помощью стандартной формулы и с помощью условных вариант."
      ],
      "metadata": {
        "id": "o4tlsYzPUk1z"
      }
    },
    {
      "cell_type": "code",
      "source": [
        "vyb_cped=0\n",
        "dispersia=0\n",
        "c=0\n",
        "# по стандартным формулам\n",
        "for i in range(kolvo):\n",
        "    vyb_cped=vyb_cped+(kolvodot[i]*middle[i]/len(m)) \n",
        "for i in range(kolvo):\n",
        "    dispersia=dispersia+(kolvodot[i]*(middle[i]-vyb_cped)**2/len(m))\n",
        "    \n",
        "if kolvo%2==0:\n",
        "    if kolvodot[round(kolvo/2-1)]>kolvodot[round(kolvo/2-2)]:\n",
        "        c=middle[round(kolvo/2-1)]\n",
        "    else:\n",
        "        c=middle[round(kolvo/2-2)]\n",
        "# с помощью условных вариант\n",
        "usl_vyb_cped=(inter*v1)+c\n",
        "usl_dispersia=my2\n",
        "print(\"выборочное среднее и дисперсия, вычисленные по стандартным формулам:\",\"\\n\", round(vyb_cped,5), round(dispersia,5))\n",
        "print(\"выборочное среднее и дисперсия, вычисленные с помощью условных вариант:\",\"\\n\",round(usl_vyb_cped,5),round(usl_dispersia,5))"
      ],
      "metadata": {
        "id": "ZxP0menoHWrl",
        "outputId": "b73d8c26-9a67-4e87-e171-6c99cab386e5",
        "execution": {
          "iopub.status.busy": "2022-10-31T18:32:31.122169Z",
          "iopub.execute_input": "2022-10-31T18:32:31.123157Z",
          "iopub.status.idle": "2022-10-31T18:32:31.133096Z",
          "shell.execute_reply.started": "2022-10-31T18:32:31.123124Z",
          "shell.execute_reply": "2022-10-31T18:32:31.131888Z"
        },
        "trusted": true
      },
      "execution_count": null,
      "outputs": [
        {
          "name": "stdout",
          "text": "выборочное среднее и дисперсия, вычисленные по стандартным формулам: \n 127.01893 2141.50142\nвыборочное среднее и дисперсия, вычисленные с помощью условных вариант: \n 127.01893 2141.50142\n",
          "output_type": "stream"
        }
      ]
    },
    {
      "cell_type": "markdown",
      "source": [
        "Вывод: у выборочных средних и дисперсий, вычисленных по стандартным формулам, и у выборочных средних и дисперсий, вычисленных с помощью условных вариант, совпадают результаты."
      ],
      "metadata": {
        "id": "TbfY9cSCHWrm"
      }
    },
    {
      "cell_type": "markdown",
      "source": [
        "## Пункт 9"
      ],
      "metadata": {
        "id": "30z7S-ZqHWrm"
      }
    },
    {
      "cell_type": "markdown",
      "source": [
        "Вычисление исправленной выборочной дисперсии и исправленного СКО."
      ],
      "metadata": {
        "id": "UhFjtmckUk1z"
      }
    },
    {
      "cell_type": "code",
      "source": [
        "isprav_dispersia=(len(m)/(len(m)-1))*dispersia\n",
        "isprav_sko=np.sqrt(isprav_dispersia)\n",
        "sko=np.sqrt(dispersia)\n",
        "print(\"исправленная выборочная дисперсия и исправленное ско:\",\"\\n\",round(isprav_dispersia,5),round(isprav_sko,5))\n",
        "print(\"смещённые оценки дисперсии и ско\",\"\\n\",round(dispersia,5),round(sko,5))"
      ],
      "metadata": {
        "id": "IetZYe4vHWrm",
        "outputId": "c67740ed-868c-4fc6-f0cb-ea132670cd6a",
        "execution": {
          "iopub.status.busy": "2022-10-31T18:32:31.134894Z",
          "iopub.execute_input": "2022-10-31T18:32:31.135305Z",
          "iopub.status.idle": "2022-10-31T18:32:31.148380Z",
          "shell.execute_reply.started": "2022-10-31T18:32:31.135267Z",
          "shell.execute_reply": "2022-10-31T18:32:31.147341Z"
        },
        "trusted": true
      },
      "execution_count": null,
      "outputs": [
        {
          "name": "stdout",
          "text": "исправленная выборочная дисперсия и исправленное ско: \n 2165.83666 46.53855\nсмещённые оценки дисперсии и ско \n 2141.50142 46.27636\n",
          "output_type": "stream"
        }
      ]
    },
    {
      "cell_type": "markdown",
      "source": [
        "Вывод: разница исправленной выборочной дисперсии и исправленного ско со смещёнными оценками дисперсии и ско незначительно мала."
      ],
      "metadata": {
        "id": "gdWXktFaHWrm"
      }
    },
    {
      "cell_type": "markdown",
      "source": [
        "## Пункт 10"
      ],
      "metadata": {
        "id": "yc0ukcqTHWrm"
      }
    },
    {
      "cell_type": "markdown",
      "source": [
        "Поиск статистической оценки коэффициентов асимметрии и эксцесса."
      ],
      "metadata": {
        "id": "XLj2h7QnUk10"
      }
    },
    {
      "cell_type": "code",
      "source": [
        "koeff_asimmetr=my3/sko**3\n",
        "koeff_ekscess=my4/sko**4-3\n",
        "print(\"коэффициент асимметрии:\",\"\\n\",round(koeff_asimmetr,5))\n",
        "print(\"коэффициент эксцесса:\",\"\\n\",round(koeff_ekscess,5))"
      ],
      "metadata": {
        "id": "A4zFlgMPHWrm",
        "outputId": "aa1892f0-ef60-4fca-89f6-d7a95fd91c4f",
        "execution": {
          "iopub.status.busy": "2022-10-31T18:32:31.149591Z",
          "iopub.execute_input": "2022-10-31T18:32:31.150376Z",
          "iopub.status.idle": "2022-10-31T18:32:31.156601Z",
          "shell.execute_reply.started": "2022-10-31T18:32:31.150346Z",
          "shell.execute_reply": "2022-10-31T18:32:31.155304Z"
        },
        "trusted": true
      },
      "execution_count": null,
      "outputs": [
        {
          "name": "stdout",
          "text": "коэффициент асимметрии: \n 0.69453\nкоэффициент эксцесса: \n 0.53363\n",
          "output_type": "stream"
        }
      ]
    },
    {
      "cell_type": "markdown",
      "source": [
        "Вывод: \n",
        "Коэффициент асимметрии больше нуля, следовательно, правый хвост распределения длиннее левого.\n",
        "Коэффициент эксцесса больше нуля, следовательно, распределение относительно остроконечное."
      ],
      "metadata": {
        "id": "wxewYXnyHWrn"
      }
    },
    {
      "cell_type": "markdown",
      "source": [
        "## Пункт 11"
      ],
      "metadata": {
        "id": "j6Wy5FsIHWrn"
      }
    },
    {
      "cell_type": "markdown",
      "source": [
        "Вычисление моды, медианы и коэффициента вариации."
      ],
      "metadata": {
        "id": "A2mdOp75Uk10"
      }
    },
    {
      "cell_type": "code",
      "source": [
        "max_search=0\n",
        "for i in range(len(a)):                 # поиск индекса элемента с наибольшей частотой\n",
        "    max_search=max_search+kolvodot[i]\n",
        "    if max_search>45:\n",
        "        break\n",
        "moda=middle[i]+inter*((kolvodot[i]-kolvodot[i-1])/((kolvodot[i]-kolvodot[i-1])+(kolvodot[i]-kolvodot[i+1])))\n",
        "mediana=middle[i]+inter*(0.5-sum_p[i-1])/(kd[i])\n",
        "koeff_variac=sko/vyb_cped*100\n",
        "print(\"мода:\",\"\\n\", round(moda,5))\n",
        "print(\"медиана:\",\"\\n\", round(mediana,5))\n",
        "print(\"коэффициент вариации:\",\"\\n\", round(koeff_variac,5))"
      ],
      "metadata": {
        "id": "kHI4Qxi4HWrn",
        "outputId": "069d865a-13cf-4886-ec77-711f8d24e800",
        "execution": {
          "iopub.status.busy": "2022-10-31T18:32:31.157967Z",
          "iopub.execute_input": "2022-10-31T18:32:31.158268Z",
          "iopub.status.idle": "2022-10-31T18:32:31.167800Z",
          "shell.execute_reply.started": "2022-10-31T18:32:31.158239Z",
          "shell.execute_reply": "2022-10-31T18:32:31.166638Z"
        },
        "trusted": true
      },
      "execution_count": null,
      "outputs": [
        {
          "name": "stdout",
          "text": "мода: \n 133.78569\nмедиана: \n 136.0251\nкоэффициент вариации: \n 36.43265\n",
          "output_type": "stream"
        }
      ]
    },
    {
      "cell_type": "markdown",
      "source": [
        "Вывод: \n",
        "\n",
        "медиана находится в середине упорядоченной совокупности, мода демонстрирует наиболее часто встречающиеся элементы, но из-за того, что в представленной выборке почти отсутствуют повторяющиеся значения, медиана и мода практически совпадают.\n",
        "\n",
        "благодаря коэффициенту вариации можно судить о том, что совокупность недостаточно однородная. "
      ],
      "metadata": {
        "id": "RHckGNBmHWrn"
      }
    },
    {
      "cell_type": "markdown",
      "source": [
        "## Пункт 12"
      ],
      "metadata": {
        "id": "IUkH5gJAHWrn"
      }
    },
    {
      "cell_type": "markdown",
      "source": [
        "Вычисление точности и доверительного интервала для математического ожидания при неизвестном среднеквадратичном отклонении при заданном объёме выборки для доверительной точности {0.95, 0.99}."
      ],
      "metadata": {
        "id": "kmU_lb_mUk11"
      }
    },
    {
      "cell_type": "code",
      "source": [
        "acc95 = 2.00*isprav_sko/np.sqrt(len(m)) # 2.00 - табличное значение\n",
        "acc99 = 2.60*isprav_sko/np.sqrt(len(m)) # 2.60 - табличное значение\n",
        "print(\"точность для 0.95:\",\"\\n\", round(acc95,5))\n",
        "print(\"интервальный ряд для 0.95:\",\"\\n\", \"(\", round(vyb_cped-acc95,5),\",\", round(vyb_cped+acc95,5),\")\")\n",
        "print(\"точность для 0.99:\",\"\\n\", round(acc99,5))\n",
        "print(\"интервальный ряд для 0.99:\",\"\\n\", \"(\", round(vyb_cped-acc99,5),\",\", round(vyb_cped+acc99,5),\")\")"
      ],
      "metadata": {
        "id": "PUhIgCitHWrn",
        "outputId": "8239c133-ae3d-49ae-bf10-5fedb2f13516",
        "execution": {
          "iopub.status.busy": "2022-10-31T18:32:31.169552Z",
          "iopub.execute_input": "2022-10-31T18:32:31.169975Z",
          "iopub.status.idle": "2022-10-31T18:32:31.180648Z",
          "shell.execute_reply.started": "2022-10-31T18:32:31.169937Z",
          "shell.execute_reply": "2022-10-31T18:32:31.179688Z"
        },
        "trusted": true
      },
      "execution_count": null,
      "outputs": [
        {
          "name": "stdout",
          "text": "точность для 0.95: \n 9.86615\nинтервальный ряд для 0.95: \n ( 117.15277 , 136.88508 )\nточность для 0.99: \n 12.826\nинтервальный ряд для 0.99: \n ( 114.19293 , 139.84492 )\n",
          "output_type": "stream"
        }
      ]
    },
    {
      "cell_type": "markdown",
      "source": [
        "Вывод: в получившиеся интервалы попадает выборочное среднее выборки."
      ],
      "metadata": {
        "id": "lb8upkuGHWrn"
      }
    },
    {
      "cell_type": "markdown",
      "source": [
        "## Пункт 13"
      ],
      "metadata": {
        "id": "UgLGpyhuHWro"
      }
    },
    {
      "cell_type": "markdown",
      "source": [
        "Определение значения q. Построение доверительных интервалов."
      ],
      "metadata": {
        "id": "CIpcME3LUk11"
      }
    },
    {
      "cell_type": "code",
      "source": [
        "q1=np.sqrt((len(m)-1)/64.793)-1 # 64.793 - табличное значение\n",
        "q2=np.sqrt((len(m)-1)/58.388)-1 # 58.388 - табличное значение\n",
        "print(\"q для 0.95:\",round(q1,5))\n",
        "print(\"q для 0.99:\",round(q2,5))\n",
        "print(\"доверительный интервал для 0.95:\",\"\\n\",\"(\",round(isprav_sko*(1-q1),5),\",\",round(isprav_sko*(1+q1),5),\")\")\n",
        "print(\"доверительный интервал для 0.99:\",\"\\n\",\"(\",round(isprav_sko*(1-q2),5),\",\",round(isprav_sko*(1+q2),5),\")\")"
      ],
      "metadata": {
        "id": "KNC8JbfLHWro",
        "outputId": "d351a54c-c3cf-48f2-9cdd-0f1ebc6a1013",
        "execution": {
          "iopub.status.busy": "2022-10-31T18:32:31.182008Z",
          "iopub.execute_input": "2022-10-31T18:32:31.182963Z",
          "iopub.status.idle": "2022-10-31T18:32:31.191151Z",
          "shell.execute_reply.started": "2022-10-31T18:32:31.182928Z",
          "shell.execute_reply": "2022-10-31T18:32:31.190397Z"
        },
        "trusted": true
      },
      "execution_count": null,
      "outputs": [
        {
          "name": "stdout",
          "text": "q для 0.95: 0.16541\nq для 0.99: 0.22766\nдоверительный интервал для 0.95: \n ( 38.84079 , 54.23631 )\nдоверительный интервал для 0.99: \n ( 35.9434 , 57.1337 )\n",
          "output_type": "stream"
        }
      ]
    },
    {
      "cell_type": "markdown",
      "source": [
        "Вывод: в получившиеся доверительные интервалы попадает ско выборки."
      ],
      "metadata": {
        "id": "5uGXsXxtHWro"
      }
    },
    {
      "cell_type": "markdown",
      "source": [
        "## Пункт 14"
      ],
      "metadata": {
        "id": "RcfA9qVBHWro"
      }
    },
    {
      "cell_type": "markdown",
      "source": [
        "Проверка гипотезы о нормальности заданного распределения с помощью критерия Пирсона. Поиск теоретических частот и вычисление наблюдаемого значения критерия."
      ],
      "metadata": {
        "id": "yh9-3HcLUk12"
      }
    },
    {
      "cell_type": "code",
      "source": [
        "tableIV = PrettyTable([\"i\",\"(xi-1;xi]\",\"ni\",\"pi\",\"n'i\",\"(ni-ni')^2\",\"((ni-ni')^2)/ni'\",\"ni^2\",\"ni^2/ni'\"]) \n",
        "a[0]=-math.inf\n",
        "b[kolvo-1]=math.inf\n",
        "pi,ni1,ni2,ni3,ni4=[0]*kolvo,[0]*kolvo,[0]*kolvo,[0]*kolvo,[0]*kolvo\n",
        "\n",
        "# табличные значения:\n",
        "pi[0]=0.12465\n",
        "pi[1]=0.16389\n",
        "pi[2]=0.22611\n",
        "pi[3]=0.22137\n",
        "pi[4]=0.1538\n",
        "pi[5]=0.0758\n",
        "pi[6]=0.0265\n",
        "pi[7]=0.00788\n",
        "\n",
        "for i in range(kolvo):\n",
        "    ni1[i]=len(m)*pi[i]                                        # поиск n'i\n",
        "    ni2[i]=(kolvodot[i]-len(m)*pi[i])**2                       # поиск (ni-ni')^2\n",
        "    ni3[i]=((kolvodot[i]-len(m)*pi[i])**2)/(len(m)*pi[i])      # поиск ((ni-ni')^2)/ni'\n",
        "    ni4[i]=kolvodot[i]**2/(len(m)*pi[i])                       # поискn i^2/ni'\n",
        "    tableIV.add_row([i+1,[round(a[i],5),round(b[i],5)],kolvodot[i],round(pi[i],5),round(ni1[i],5),round(ni2[i],5),round(ni3[i],5),kolvodot[i]**2,round(ni4[i],5)])\n",
        "tableIV.add_row([\" \",\"Сумма\",sum(kolvodot),sum(pi),sum(ni1),\"-\",round(sum(ni3),5),\"-\",round(sum(ni4)-len(m),5)])\n",
        "print(tableIV)\n",
        "xu_krit=11.07 # табличное значение Хи^2_крит(a,df) = Хи^2_крит(0.05, 5) = 11.7.\n",
        "if sum(ni3)<xu_krit: # сравнение Хи^_набл с Хи^2_крит\n",
        "    print(\"отсутствуют основания отвергать гипотезу.\")\n",
        "else:\n",
        "    print(\"отвергаем выдвинутую гипотезу.\")"
      ],
      "metadata": {
        "id": "OCJvB0KvHWro",
        "outputId": "cb16d774-5a33-40ae-99b5-5641069f3436",
        "execution": {
          "iopub.status.busy": "2022-10-31T18:32:31.192646Z",
          "iopub.execute_input": "2022-10-31T18:32:31.193024Z",
          "iopub.status.idle": "2022-10-31T18:32:31.211256Z",
          "shell.execute_reply.started": "2022-10-31T18:32:31.192987Z",
          "shell.execute_reply": "2022-10-31T18:32:31.210273Z"
        },
        "trusted": true
      },
      "execution_count": null,
      "outputs": [
        {
          "name": "stdout",
          "text": "+---+-----------------------+----+---------+----------+------------+------------------+------+----------+\n| i |       (xi-1;xi]       | ni |    pi   |   n'i    | (ni-ni')^2 | ((ni-ni')^2)/ni' | ni^2 | ni^2/ni' |\n+---+-----------------------+----+---------+----------+------------+------------------+------+----------+\n| 1 |    [-inf, 73.70625]   | 14 | 0.12465 | 11.09385 |  8.44571   |      0.7613      | 196  | 17.66745 |\n| 2 |  [73.70625, 101.2125] | 6  | 0.16389 | 14.58621 |   73.723   |     5.05429      |  36  | 2.46808  |\n| 3 | [101.2125, 128.71875] | 32 | 0.22611 | 20.12379 | 141.04436  |     7.00884      | 1024 | 50.88505 |\n| 4 |  [128.71875, 156.225] | 20 | 0.22137 | 19.70193 |  0.08885   |     0.00451      | 400  | 20.30258 |\n| 5 |  [156.225, 183.73125] | 7  |  0.1538 | 13.6882  |  44.73202  |     3.26793      |  49  | 3.57973  |\n| 6 | [183.73125, 211.2375] | 4  |  0.0758 |  6.7462  |  7.54161   |     1.11791      |  16  | 2.37171  |\n| 7 | [211.2375, 238.74375] | 3  |  0.0265 |  2.3585  |  0.41152   |     0.17448      |  9   | 3.81598  |\n| 8 |    [238.74375, inf]   | 3  | 0.00788 | 0.70132  |  5.28393   |     7.53426      |  9   | 12.83294 |\n|   |         Сумма         | 89 |   1.0   |   89.0   |     -      |     24.92352     |  -   | 24.92352 |\n+---+-----------------------+----+---------+----------+------------+------------------+------+----------+\nотвергаем выдвинутую гипотезу.\n",
          "output_type": "stream"
        }
      ]
    },
    {
      "cell_type": "markdown",
      "source": [
        "## Выводы\n",
        "В процессе выполнения данной практической работы были достигнуты поставленные задачи. В первую очередь, произведено ознакомление с основными правилами формирования выборки и подготовки выборочных данных к статистическому анализу. Получены практические навыков нахождения точечных статистических оценок параметров распределения и вычисления интервальных статистических оценок параметров распределения выборочных данных."
      ],
      "metadata": {
        "id": "0BmyVBK6HWro"
      }
    }
  ]
}