{
  "metadata": {
    "kernelspec": {
      "language": "python",
      "display_name": "Python 3",
      "name": "python3"
    },
    "language_info": {
      "name": "python",
      "version": "3.7.12",
      "mimetype": "text/x-python",
      "codemirror_mode": {
        "name": "ipython",
        "version": 3
      },
      "pygments_lexer": "ipython3",
      "nbconvert_exporter": "python",
      "file_extension": ".py"
    },
    "colab": {
      "provenance": []
    }
  },
  "nbformat_minor": 0,
  "nbformat": 4,
  "cells": [
    {
      "cell_type": "markdown",
      "source": [
        "# Практическая работа №2: Корреляционный и регрессионный анализ.\n",
        "Выполнила студентка гр. 0373 Гладкова Елизавета. Вариант №4"
      ],
      "metadata": {
        "id": "9_fAetbxjFb4"
      }
    },
    {
      "cell_type": "markdown",
      "source": [
        "## Цель работы\n",
        "Освоение основных понятий, связанных с корреляционной зависимостью между случайными величинами, статистическими гипотезами и проверкой их «справедливости». Ознакомление с основными положениями метода наименьших квадратов (МНК), со статистическими свойствами МНК оценок, с понятием функции регрессии и роли МНК в регрессионном анализе, с корреляционным отношением, как мерой тесноты произвольной (в том числе и линейной) корреляционной связи."
      ],
      "metadata": {
        "id": "5ISR8ybnjFb6"
      }
    },
    {
      "cell_type": "markdown",
      "source": [
        "## Основные теоретические положения\n",
        "Функциональная зависимость - зависимость, когда каждому значению одной переменной соответствует вполне определённое единственное значение другой.\n",
        "\n",
        "Статистическая зависимость - зависимость, при которой изменение одной из величин влечёт изменение распределения другой.\n",
        "\n",
        "Корреляционная зависимость - статистическая зависимость, при которой изменение одной величины приводит к изменению среднего значения другой.\n",
        "\n",
        "Условное (групповое) среднее - среднее арифметическое тех значений случайной величины X(Y), которые соответствуют значению случайной величины Y=y (X=x): \n",
        "\n",
        "$\\overline{x_{y}}=\\frac{\\sum_{i=1}^{k_{x}}x_{i}n_{x_{i}y}}{\\sum_{i=1}^{k_{x}}n_{x_{i}y}}, \\overline{y_{x}}=\\frac{\\sum_{j=1}^{k_{y}}y_{j}n_{xy_{j}}}{\\sum_{j=1}^{k_{y}}n_{xy_{j}}}$\n",
        "\n",
        "Межгрупповое среднее:  \n",
        "\n",
        "$\\overline{xy}=\\frac{1}{n}\\sum_{i=1}^{k_{x}}\\sum_{j=1}^{k_{y}}n_{x_{i}y_{j}}x_{i}y_{j}$\n",
        "\n",
        "Уравнение регрессии : $\\overline{y_{x}}-\\overline{y}=r_{yx}\\frac{\\sigma_{y}}{\\sigma_{x}}(x-\\overline{x}), \\overline{x_{y}}-\\overline{x}=r_{xy}\\frac{\\sigma_{x}}{\\sigma_{y}}(y-\\overline{y})$\n",
        "\n",
        "Метод наименьших квадратов: \n",
        "\n",
        "$\\bullet$ основан на минимизации суммы квадратов отклонений некоторых функций от искомых переменных\n",
        "\n",
        "$\\bullet$ Минимизирующая функция: $F(a_{1}\\cdots{a_{m}})=\\sum_{i=1}^{n}(y_{i}-f(x_{i};a_{1}\\cdots{a_{m}})^{2}\\rightarrow{min}$\n",
        "\n",
        "$\\bullet$ Необходимое условие экстремума функции многих переменных - равенство нулю всех частных производных функции F\n",
        "\n",
        "Статистическая оценка коэффициента корреляции: \n",
        "\n",
        "$r_{B}=\\frac{\\mu_{xy}}{s_{x}s_{y}}$, где $\\mu_{xy}=\\overline{xy}-\\overline{x} \\overline{y}$\n",
        "\n",
        "Свойства коэффициента корреляции:\n",
        "\n",
        "$\\bullet$ $|r_{xy}|\\leq{1}$\n",
        "\n",
        "$\\bullet$ Знак $r_{xy}$ означает, увеличивается ли одна переменная по мере увеличения другой или уменьшается ли одна переменная по мере увеличения другой\n",
        "\n",
        "$\\bullet$ $[r_{xy}]=1$\n",
        "\n",
        "$\\bullet$ Величина $r_{xy}$ обоснована только в диапазоне значений x и y в выборке\n",
        "\n",
        "$\\bullet$ $r_{xy}=r_{yx}$\n",
        "\n",
        "$\\bullet$ Корреляция между x и y не обязательно означает соотношение причины и следствия\n",
        "\n",
        "$\\bullet$ $r_{xy}=0$: нет линейной зависимости зависимости у переменных\n",
        "\n",
        "\n",
        "Через условные варианты: \n",
        "\n",
        "$r_{B}=\\frac{\\frac{1}{n}\\sum_{i=1}^{k_{u}}\\sum_{j=1}^{k_{v}}n_{uv}u_{i}v_{j}-\\overline{u} \\overline{v}}{\\sigma_{u}\\sigma_{v}}$, где $u_{i}=\\frac{x_{i}-C_{x}}{h_{x}}, v_{j}=\\frac{y_{j}-C_{y}}{h_{y}}$\n",
        "\n",
        "Выборочное корреляционное отношение Y к X - отношение межгруппового СКО к общему СКО признака Y: \n",
        "\n",
        "$\\eta_{yx}=\\frac{\\sigma_{megr}}{\\sigma_{ob}}$. Другое обозначение: $\\eta_{yx}=\\frac{\\sigma_{\\overline{y_{x}}}}{\\sigma_{y}}$, где $\\sigma_{\\overline{y_{x}}}=\\sqrt{\\sigma_{mezhgr}^{2}}=\\sqrt{\\frac{(\\sum{n_{x}(\\overline{y_{x}}-\\overline{y})^{2}})}{n}}, \\sigma_{\\overline{y}}=\\sqrt{\\sigma_{obsch}^{2}}=\\sqrt{\\frac{(\\sum{n_{y}(\\overline{y_{x}}-\\overline{y})^{2}})}{n}}$\n",
        "\n",
        "Свойства корреляционного отношения:\n",
        "\n",
        "$\\bullet$ $\\eta\\in[0,1] $\n",
        "\n",
        "$\\bullet$ Если $\\eta=0$, то признак Y с признаком X корреляционной зависимостью не связан (справедливо и обратное)\n",
        "\n",
        "$\\bullet$ Если $\\eta=1$, то признак Y связан с признаком X функциональной зависимостью (справедливо и обратное)\n",
        "\n",
        "$\\bullet$ $\\eta\\geq|r_{B}| $\n",
        "\n",
        "$\\bullet$ Если $\\eta=r_{B}$, то имеет место быть точная линейная корреляционная зависимость\n",
        "\n",
        "\n",
        "Доверительный интервал для оценки выборочного коэффициента корреляции:\n",
        "\n",
        "$(th(z-\\frac{t}{\\sqrt{n-3}});th(z+\\frac{t}{\\sqrt{n-3}}))$, где t определяется как $\\Phi(t)=\\frac{\\gamma}{2}$\n",
        "\n",
        "Преобразование Фишера:\n",
        "\n",
        "$z=arth(r_{B}) $ \n",
        "\n",
        "$T_{nabl}=r_{B}\\frac{\\sqrt{n-2}}{\\sqrt{1-r_{B}^{2}}}$\n",
        "\n",
        "$T_{krit}=t(\\alpha,df)$, где $df=n-2$\n",
        "\n",
        "Теорема о разложении дисперсии:\n",
        "\n",
        "$\\sigma^{2}=(\\delta^{*})^{2}+(\\varepsilon^{*})^{2} $\n",
        "\n",
        "Дисперсия результативного признака: \n",
        "\n",
        "$(\\delta_{y}^{*})^{2}=\\frac{1}{n}\\sum_{i=1}^{n}(y_{x_{i}}-\\overline{y})^{2}, (\\delta_{x}^{*})^{2}=\\frac{1}{n}\\sum_{i=1}^{n}(x_{y_{i}}-\\overline{x})^{2} $\n",
        "\n",
        "Необъяснённая уравнением регрессии дисперсия результативного признака (остаточная дисперсия):\n",
        "\n",
        "$(\\varepsilon_{y}^{*})^{2}=\\frac{1}{n}\\sum_{i=1}^{n}\\varepsilon_{y_{i}}^{2},  (\\varepsilon_{x}^{*})^{2}=\\frac{1}{n}\\sum_{i=1}^{n}\\varepsilon_{x_{i}}^{2}$\n",
        "\n",
        "Теоретический коэффициент детерминации - отношение оъяснённой (уравнением) дисперсии признака-результата к общей дисперсии результативного признака: \n",
        "\n",
        "$R_{y}^{2}=\\frac{(\\delta_{y}^{*})^{2}}{\\sigma_{y}^{2}}, R_{x}^{2}=\\frac{(\\delta_{x}^{*})^{2}}{\\sigma_{x}^{2}} $\n",
        "\n",
        "Средняя квадратичная ошибка уравнения регрессии - среднее квадратичное отклонение наблюдаемых значений результативного признака от теоритических значений, рассчитанных по модели:\n",
        "\n",
        "$S_{\\varepsilon_{y}}=\\sqrt{\\frac{1}{n-l}\\sum_{i=1}^{n}\\varepsilon_{y_{i}}^{2}}, S_{\\varepsilon_{x}}=\\sqrt{\\frac{1}{n-l}\\sum_{i=1}^{n}\\varepsilon_{x_{i}}^{2}}$, где l - количество параметров в модели регрессии\n",
        "\n",
        "Средняя ошибка аппроксимации:\n",
        "\n",
        "$A_{y}=\\frac{1}{n}\\sum_{i=1}^{n}|\\frac{\\varepsilon_{y_{i}}}{y_{i}}|, A_{x}=\\frac{1}{n}\\sum_{i=1}^{n}|\\frac{\\varepsilon_{x_{i}}}{x_{i}}|$\n"
      ],
      "metadata": {
        "id": "3V-tPllcjFb7"
      }
    },
    {
      "cell_type": "markdown",
      "source": [
        "## Постановка задачи\n",
        "Из заданной генеральной совокупности сформировать выборку по второму признаку. Для системы двух случайных величин X (первый признак) и Y (второй признак) сформировать двумерную выборку и найти статистическую оценку коэффициента корреляции, построить доверительный интервал для коэффициента корреляции и осуществить проверку статистической гипотезы о равенстве коэффициента корреляции нулю. Построить уравнения выборочных прямых среднеквадратической регрессии. Полученные линейные функции регрессии отобразить графически. Найти выборочное корреляционное отношение. Оценить адекватность моделей. Полученные результаты содержательно проинтерпретировать."
      ],
      "metadata": {
        "id": "q1foEyu5jFb8"
      }
    },
    {
      "cell_type": "markdown",
      "source": [
        "## Выполнение работы"
      ],
      "metadata": {
        "id": "vPAYuuUejFb8"
      }
    },
    {
      "cell_type": "markdown",
      "source": [
        "Из генеральной совокупности, которую можно найти по: https://www.kaggle.com/datasets/psycon/daily-coffee-price была сформирована выборка механического вида.\n",
        "\n",
        "Обработка первой выборки в объеме практической работы №1 с целью дальнейшего использования вычисленных данных в ходе практической работы:"
      ],
      "metadata": {
        "id": "t4PXdeQdjFb8"
      }
    },
    {
      "cell_type": "code",
      "source": [
        "import pandas as pd\n",
        "import numpy as np\n",
        "columns = ['Column1','Column2']\n",
        "dataset = pd.read_csv('../input/vyborka/.csv', header = None, names = columns)\n",
        "m=dataset['Column1'].values\n",
        "m.sort()\n",
        "unique, counts=np.unique(m, return_counts=True)\n",
        "import math\n",
        "dif=m[len(m)-1]-m[0]\n",
        "kolvo=math.ceil(1+math.log2(len(m)))\n",
        "inter=dif/kolvo\n",
        "a=[0]*kolvo\n",
        "b=[0]*kolvo\n",
        "a[0]=m[0]\n",
        "b[0]=m[0]+inter\n",
        "for i in range(1,kolvo):\n",
        "    a[i]= m[0]+inter*i\n",
        "    b[i]= m[0]+inter*(i+1)\n",
        "kolvodot=[0]*kolvo\n",
        "middle=[0]*kolvo\n",
        "kolvodot[0]=1\n",
        "for i in range(len(a)):\n",
        "    middle[i]=(a[i]+b[i])/2\n",
        "    for j in range(len(m)):\n",
        "        if (a[i]<m[j]<=b[i]):\n",
        "            kolvodot[i]=kolvodot[i]+1\n",
        "vyb_cped=0\n",
        "dispersia=0\n",
        "for i in range(kolvo):\n",
        "    vyb_cped=vyb_cped+(kolvodot[i]*middle[i]/len(m)) \n",
        "for i in range(kolvo):\n",
        "    dispersia=dispersia+(kolvodot[i]*(middle[i]-vyb_cped)**2/len(m))\n",
        "sko=np.sqrt(dispersia)"
      ],
      "metadata": {
        "execution": {
          "iopub.status.busy": "2022-11-27T14:42:42.588018Z",
          "iopub.execute_input": "2022-11-27T14:42:42.588536Z",
          "iopub.status.idle": "2022-11-27T14:42:42.665903Z",
          "shell.execute_reply.started": "2022-11-27T14:42:42.588428Z",
          "shell.execute_reply": "2022-11-27T14:42:42.664856Z"
        },
        "id": "3GD7JxK0jFb8",
        "trusted": true
      },
      "execution_count": null,
      "outputs": []
    },
    {
      "cell_type": "markdown",
      "source": [
        "### Пункт 1"
      ],
      "metadata": {
        "id": "YA0f2vTkjFb9"
      }
    },
    {
      "cell_type": "markdown",
      "source": [
        "Проведение статистической обработки второй выборки в объеме практической работы №1 с целью определения точечных статистических оценок параметров распределения исследуемого признака (математического ожидания, дисперсии, среднеквадратичного отклонения, асимметрии, эксцесса, моды, медианы и коэффициента вариации)"
      ],
      "metadata": {
        "id": "qNyM3_ICjFb9"
      }
    },
    {
      "cell_type": "code",
      "source": [
        "n=dataset['Column2'].values\n",
        "for i in range(0,len(n)):\n",
        "    h = len(n[i])\n",
        "    n[i] = n[i][:h-1]\n",
        "    n[i] = np.float64(n[i])\n",
        "n.sort()"
      ],
      "metadata": {
        "execution": {
          "iopub.status.busy": "2022-11-27T14:42:42.667862Z",
          "iopub.execute_input": "2022-11-27T14:42:42.668197Z",
          "iopub.status.idle": "2022-11-27T14:42:42.679538Z",
          "shell.execute_reply.started": "2022-11-27T14:42:42.668164Z",
          "shell.execute_reply": "2022-11-27T14:42:42.676243Z"
        },
        "id": "QTMPgkTCjFb-",
        "trusted": true
      },
      "execution_count": null,
      "outputs": []
    },
    {
      "cell_type": "code",
      "source": [
        "unique, counts2=np.unique(n, return_counts=True)\n",
        "dif2=n[len(n)-1]-n[0]\n",
        "kolvo2=math.ceil(1+math.log2(len(n)))\n",
        "inter2=dif2/kolvo2\n",
        "a2=[0]*kolvo2\n",
        "b2=[0]*kolvo2\n",
        "a2[0]=n[0]\n",
        "b2[0]=n[0]+inter2\n",
        "for i in range(1,kolvo2):\n",
        "    a2[i]=n[0]+inter2*i\n",
        "    b2[i]=n[0]+inter2*(i+1)\n",
        "kolvodot2=[0]*kolvo2\n",
        "middle2=[0]*kolvo2\n",
        "kolvodot2[0]=1\n",
        "for i in range(len(a2)):\n",
        "    middle2[i]=(a2[i]+b2[i])/2\n",
        "    for j in range(len(n)):\n",
        "        if (a2[i]<n[j]<=b2[i]):\n",
        "            kolvodot2[i]=kolvodot2[i]+1\n",
        "from prettytable import PrettyTable\n",
        "kd2=[0]*kolvo2\n",
        "sum_p=[0]*kolvo2\n",
        "sum_n=[0]*kolvo2\n",
        "for i in range(len(a2)):\n",
        "    kd2[i]=kolvodot2[i]/len(n)\n",
        "table = PrettyTable([\"i\",\"(y(i-1);yi]\",\"y cpеднее\",\"ni\",\"p*i\",\"сумма ni\",\"сумма pi\"])\n",
        "sum_p[0]=kd2[0]\n",
        "sum_n[0]=kolvodot2[0]\n",
        "for i in range(1,len(a2)):\n",
        "    sum_p[i]=sum_p[i-1]+kd2[i]\n",
        "    sum_n[i]=sum_n[i-1]+kolvodot2[i]\n",
        "table.add_row([1,[round(a2[0],5),round(b2[0],5)],round(middle2[0],5),kolvodot2[0],round(kd2[0],5),sum_n[0],round(sum_p[0],5)])\n",
        "for i in range(1,len(a2)):\n",
        "    table.add_row([i+1,[round(a2[i],5),round(b2[i],5)],round(middle2[i],5),kolvodot2[i],round(kd2[i],5),sum_n[i],round(sum_p[i],5)])\n",
        "table.add_row([\" \",\" \",\"Cумма\",sum(kolvodot2),round(sum(kd2)),\"-\",\"-\"])\n",
        "print(table)"
      ],
      "metadata": {
        "execution": {
          "iopub.status.busy": "2022-11-27T14:42:42.681893Z",
          "iopub.execute_input": "2022-11-27T14:42:42.682451Z",
          "iopub.status.idle": "2022-11-27T14:42:42.707328Z",
          "shell.execute_reply.started": "2022-11-27T14:42:42.682368Z",
          "shell.execute_reply": "2022-11-27T14:42:42.705259Z"
        },
        "id": "iZJPv8xBjFb-",
        "outputId": "67c5a9c5-137c-4d0f-81f4-1b227b9fbf34",
        "trusted": true
      },
      "execution_count": null,
      "outputs": [
        {
          "name": "stdout",
          "text": "+---+-----------------+-----------+----+---------+----------+----------+\n| i |   (y(i-1);yi]   | y cpеднее | ni |   p*i   | сумма ni | сумма pi |\n+---+-----------------+-----------+----+---------+----------+----------+\n| 1 |  [45.5, 72.45]  |   58.975  | 14 |  0.1573 |    14    |  0.1573  |\n| 2 |  [72.45, 99.4]  |   85.925  | 7  | 0.07865 |    21    | 0.23596  |\n| 3 |  [99.4, 126.35] |  112.875  | 37 | 0.41573 |    58    | 0.65169  |\n| 4 | [126.35, 153.3] |  139.825  | 14 |  0.1573 |    72    | 0.80899  |\n| 5 | [153.3, 180.25] |  166.775  | 7  | 0.07865 |    79    | 0.88764  |\n| 6 | [180.25, 207.2] |  193.725  | 4  | 0.04494 |    83    | 0.93258  |\n| 7 | [207.2, 234.15] |  220.675  | 4  | 0.04494 |    87    | 0.97753  |\n| 8 | [234.15, 261.1] |  247.625  | 2  | 0.02247 |    89    |   1.0    |\n|   |                 |   Cумма   | 89 |    1    |    -     |    -     |\n+---+-----------------+-----------+----+---------+----------+----------+\n",
          "output_type": "stream"
        }
      ]
    },
    {
      "cell_type": "code",
      "source": [
        "table2 = PrettyTable([\"Выборочное среднее\",\"Дисперсия\",\"СКО\",\"Исправленная дисперсия\",\"Исправленное СКО\",\"Коэффицент асимметрии\",\"Коэффициент эксцесса\",\"Медиана\",\"Мода\",\"Коэффициент вариации\"])\n",
        "vyb_cped2=0\n",
        "for i in range(kolvo2): \n",
        "    vyb_cped2=vyb_cped2+(kolvodot2[i]*middle2[i]/len(n))                       # поиск выборочного среднего\n",
        "dispersia2=0\n",
        "for i in range(kolvo2):\n",
        "    dispersia2=dispersia2+(kolvodot2[i]*(middle2[i]-vyb_cped2)**2/len(n))      # поиск дисперсии\n",
        "sko2=np.sqrt(dispersia2)                                                       # поиск ско\n",
        "\n",
        "isprav_dispersia2=(len(n)/(len(n)-1))*dispersia2                               # поиск исправленной дисперсии\n",
        "isprav_sko2=np.sqrt(isprav_dispersia2)                                         # поиск исправленного ско\n",
        "\n",
        "ui=[0]*kolvo2\n",
        "ui1,ui2,ui3,ui4,ui5=[0]*kolvo2,[0]*kolvo2,[0]*kolvo2,[0]*kolvo2,[0]*kolvo2\n",
        "max_search=0\n",
        "for i in range(len(a2)):\n",
        "    ui[i]=i\n",
        "for i in range(len(a2)):               # поиск индекса элемента с наибольшей частотой\n",
        "    max_search=max_search+kolvodot2[i]\n",
        "    if max_search>45:\n",
        "        index2=i\n",
        "        break\n",
        "for j in range(len(a2)):\n",
        "        ui[j]=ui[j]-i\n",
        "for i in range(len(a2)):\n",
        "    ui1[i]=kolvodot2[i]*ui[i]         \n",
        "    ui2[i]=ui1[i]*ui[i]               \n",
        "    ui3[i]=ui2[i]*ui[i]                \n",
        "    ui4[i]=ui3[i]*ui[i]                \n",
        "    ui5[i]=kolvodot2[i]*((ui[i]+1)**4)  \n",
        "    \n",
        "v1=sum(ui1)/len(n)                     # поиск условных и центральных эмпирических моментов\n",
        "v2=sum(ui2)/len(n)\n",
        "my2=(v2-(v1)**2)*inter2**2\n",
        "v3=sum(ui3)/len(n)\n",
        "my3=(v3-(3*v2*v1)+2*(v1**3))*inter2**3\n",
        "v4=sum(ui4)/len(n)\n",
        "my4=(v4-(4*v3*v1)+(6*v2*(v1)**2)-(3*(v1)**4))*inter2**4    \n",
        "    \n",
        "koeff_asimmetr2=my3/sko2**3           # поиск коэффициента асимметрии\n",
        "koeff_ekscess2=my4/sko2**4-3          # поиск коэффициента эксцесса\n",
        "koeff_variac2=sko2/vyb_cped2*100      # поиск коэффициента вариации\n",
        "\n",
        "moda2=a2[index2]+inter2*((kolvodot2[index2]-kolvodot2[index2-1])/((kolvodot2[index2]-kolvodot2[index2-1])+(kolvodot2[index2]-kolvodot2[index2+1]))) # поиск моды\n",
        "mediana2=a2[index2]+inter2*(0.5-sum_p[index2-1])/(kd2[index2])  # поиск медианы\n",
        "\n",
        "table2.add_row([round(vyb_cped2,5),round(dispersia2,5),round(sko2,5),round(isprav_dispersia2,5),round(isprav_sko2,5),round(koeff_asimmetr2,5),round(koeff_ekscess2,5),round(mediana2,5),round(moda2,5),round(koeff_variac2,5)])\n",
        "print(table2)"
      ],
      "metadata": {
        "execution": {
          "iopub.status.busy": "2022-11-27T14:42:42.710490Z",
          "iopub.execute_input": "2022-11-27T14:42:42.711204Z",
          "iopub.status.idle": "2022-11-27T14:42:42.742043Z",
          "shell.execute_reply.started": "2022-11-27T14:42:42.711155Z",
          "shell.execute_reply": "2022-11-27T14:42:42.739862Z"
        },
        "id": "udWo_nsdjFb-",
        "outputId": "cff51acd-d52c-40ae-e047-6b64dddab331",
        "trusted": true
      },
      "execution_count": null,
      "outputs": [
        {
          "name": "stdout",
          "text": "+--------------------+------------+----------+------------------------+------------------+-----------------------+----------------------+-----------+-----------+----------------------+\n| Выборочное среднее | Дисперсия  |   СКО    | Исправленная дисперсия | Исправленное СКО | Коэффицент асимметрии | Коэффициент эксцесса |  Медиана  |    Мода   | Коэффициент вариации |\n+--------------------+------------+----------+------------------------+------------------+-----------------------+----------------------+-----------+-----------+----------------------+\n|     122.26208      | 1992.86183 | 44.64148 |       2015.50798       |     44.89441     |        0.75662        |       0.50644        | 116.51689 | 114.65472 |       36.51294       |\n+--------------------+------------+----------+------------------------+------------------+-----------------------+----------------------+-----------+-----------+----------------------+\n",
          "output_type": "stream"
        }
      ]
    },
    {
      "cell_type": "markdown",
      "source": [
        "Вывод:\n",
        "\n",
        "Разница исправленной выборочной дисперсии и исправленного ско со смещёнными оценками дисперсии и ско незначительно мала.\n",
        "\n",
        "Коэффициент асимметрии больше нуля, следовательно, правый хвост распределения длиннее левого.\n",
        "\n",
        "Коэффициент эксцесса больше нуля, следовательно, распределение относительно остроконечное.\n",
        "\n",
        "Медиана находится в середине упорядоченной совокупности, мода демонстрирует наиболее часто встречающиеся элементы, но из-за того, что в представленной выборке почти отсутствуют повторяющиеся значения, медиана и мода практически совпадают. \n",
        "\n",
        "Благодаря коэффициенту вариации можно судить о том, что совокупность недостаточно однородная."
      ],
      "metadata": {
        "id": "m3Oz4hPdjFb_"
      }
    },
    {
      "cell_type": "markdown",
      "source": [
        "### Пункт 2"
      ],
      "metadata": {
        "id": "NE-znMiXjFb_"
      }
    },
    {
      "cell_type": "markdown",
      "source": [
        "Построение двумерного интервального вариационного ряда"
      ],
      "metadata": {
        "id": "Kxofo-g9jFb_"
      }
    },
    {
      "cell_type": "code",
      "source": [
        "baza = np.zeros((kolvo2, kolvo2))\n",
        "baza[0][0]=1\n",
        "sumx=[0]*kolvo\n",
        "table3 = PrettyTable([\"Y\\X\",(a[0],round(b[0],1)),(round(a[1],1),round(b[1],1)),(round(a[2],1),round(b[2],1)),(round(a[3],1),round(b[3],1)),(round(a[4],1),round(b[4],1)),(round(a[5],1),round(b[5],1)),(round(a[6],1),round(b[6],1)),(round(a[7],1),round(b[7],1)),\"ny\"])\n",
        "for i in range(kolvo2):                # поиск частот появления вариант при заданном значении\n",
        "        for k in range(len(m)):\n",
        "            if (a2[i]<n[k]<=b2[i]):\n",
        "                for j in range(kolvo):\n",
        "                    if (a[j]<m[k]<=b[j]):\n",
        "                        baza[i][j]=baza[i][j]+1\n",
        "    \n",
        "for i in range(kolvo):\n",
        "    table3.add_row([(round(a2[i],1),round(b2[i],1)),baza[i][0],baza[i][1],baza[i][2],baza[i][3],baza[i][4],baza[i][5],baza[i][6],baza[i][7],sum(baza[i])])\n",
        "for i in range(kolvo):\n",
        "    for j in range(kolvo2):\n",
        "        sumx[i]=sumx[i]+baza[j][i]\n",
        "table3.add_row([\"nx\",sumx[0],sumx[1],sumx[2],sumx[3],sumx[4],sumx[5],sumx[6],sumx[7],sum(sumx)])\n",
        "print(table3)"
      ],
      "metadata": {
        "execution": {
          "iopub.status.busy": "2022-11-27T14:43:45.281430Z",
          "iopub.execute_input": "2022-11-27T14:43:45.282811Z",
          "iopub.status.idle": "2022-11-27T14:43:45.306579Z",
          "shell.execute_reply.started": "2022-11-27T14:43:45.282687Z",
          "shell.execute_reply": "2022-11-27T14:43:45.305005Z"
        },
        "id": "MlCXFgnmjFb_",
        "outputId": "4d1da413-7fd4-409e-ba49-e130c60c1a8f",
        "trusted": true
      },
      "execution_count": null,
      "outputs": [
        {
          "name": "stdout",
          "text": "+----------------+--------------+---------------+----------------+----------------+----------------+----------------+----------------+----------------+------+\n|      Y\\X       | (46.2, 73.7) | (73.7, 101.2) | (101.2, 128.7) | (128.7, 156.2) | (156.2, 183.7) | (183.7, 211.2) | (211.2, 238.7) | (238.7, 266.2) |  ny  |\n+----------------+--------------+---------------+----------------+----------------+----------------+----------------+----------------+----------------+------+\n|  (45.5, 72.4)  |     14.0     |      0.0      |      0.0       |      0.0       |      0.0       |      0.0       |      0.0       |      0.0       | 14.0 |\n|  (72.4, 99.4)  |     0.0      |      6.0      |      1.0       |      0.0       |      0.0       |      0.0       |      0.0       |      0.0       | 7.0  |\n| (99.4, 126.4)  |     0.0      |      0.0      |      31.0      |      6.0       |      0.0       |      0.0       |      0.0       |      0.0       | 37.0 |\n| (126.4, 153.3) |     0.0      |      0.0      |      0.0       |      14.0      |      0.0       |      0.0       |      0.0       |      0.0       | 14.0 |\n| (153.3, 180.2) |     0.0      |      0.0      |      0.0       |      0.0       |      7.0       |      0.0       |      0.0       |      0.0       | 7.0  |\n| (180.2, 207.2) |     0.0      |      0.0      |      0.0       |      0.0       |      0.0       |      4.0       |      0.0       |      0.0       | 4.0  |\n| (207.2, 234.2) |     0.0      |      0.0      |      0.0       |      0.0       |      0.0       |      0.0       |      3.0       |      1.0       | 4.0  |\n| (234.2, 261.1) |     0.0      |      0.0      |      0.0       |      0.0       |      0.0       |      0.0       |      0.0       |      2.0       | 2.0  |\n|       nx       |     14.0     |      6.0      |      32.0      |      20.0      |      7.0       |      4.0       |      3.0       |      3.0       | 89.0 |\n+----------------+--------------+---------------+----------------+----------------+----------------+----------------+----------------+----------------+------+\n",
          "output_type": "stream"
        }
      ]
    },
    {
      "cell_type": "markdown",
      "source": [
        "Вывод: сумма частот появления варианты х и сумма частот появления варианты у совпадает, следовательно, контроль пройден и вычисления верны"
      ],
      "metadata": {
        "id": "QUiFbAIRjFb_"
      }
    },
    {
      "cell_type": "markdown",
      "source": [
        "### Пункт 3"
      ],
      "metadata": {
        "id": "7DztH8jHjFcA"
      }
    },
    {
      "cell_type": "markdown",
      "source": [
        "Формирование условных вариант и построение корреляционной таблицы по полученным условным вариантам"
      ],
      "metadata": {
        "id": "oLpDK0rhjFcA"
      }
    },
    {
      "cell_type": "code",
      "source": [
        "max1=0\n",
        "max2=0\n",
        "Ui=[0]*kolvo\n",
        "vU=[0]*kolvo\n",
        "Vj=[0]*kolvo\n",
        "uV=[0]*kolvo\n",
        "table4 = PrettyTable([\"v/u\",ui[0],ui[1],ui[2],ui[3],ui[4],ui[5],ui[6],ui[7],\"Ui\",\"vU\"])\n",
        "for i in range(kolvo):\n",
        "    Ui[i]=baza[i][0]*ui[0]+baza[i][1]*ui[1]+baza[i][2]*ui[2]+baza[i][3]*ui[3]+baza[i][4]*ui[4]+baza[i][5]*ui[5]+baza[i][6]*ui[6]+baza[i][7]*ui[7]\n",
        "    vU[i]=Ui[i]*ui[i] \n",
        "    table4.add_row([ui[i],baza[i][0],baza[i][1],baza[i][2],baza[i][3],baza[i][4],baza[i][5],baza[i][6],baza[i][7],Ui[i],vU[i]])  \n",
        "for i in range(kolvo):\n",
        "    Vj[i]=baza[0][i]*ui[0]+baza[1][i]*ui[1]+baza[2][i]*ui[2]+baza[3][i]*ui[3]+baza[4][i]*ui[4]+baza[5][i]*ui[5]+baza[6][i]*ui[6]+baza[7][i]*ui[7]\n",
        "    uV[i]=Vj[i]*ui[i]\n",
        "table4.add_row([\"Vj\",Vj[0],Vj[1],Vj[2],Vj[3],Vj[4],Vj[5],Vj[6],Vj[7],\"-\",sum(vU)]) \n",
        "if sum(vU)==sum(uV):\n",
        "    table4.add_row([\"uV\",uV[0],uV[1],uV[2],uV[3],uV[4],uV[5],uV[6],uV[7],sum(uV),\"Суммы vU и uV равны\"]) \n",
        "else:\n",
        "    table4.add_row([\"uV\",uV[0],uV[1],uV[2],uV[3],uV[4],uV[5],uV[6],uV[7],sum(uV),\"Суммы vU и uV не равны\"]) \n",
        "print(table4)"
      ],
      "metadata": {
        "execution": {
          "iopub.status.busy": "2022-11-27T14:42:42.768066Z",
          "iopub.execute_input": "2022-11-27T14:42:42.768887Z",
          "iopub.status.idle": "2022-11-27T14:42:42.794882Z",
          "shell.execute_reply.started": "2022-11-27T14:42:42.768842Z",
          "shell.execute_reply": "2022-11-27T14:42:42.793089Z"
        },
        "id": "s7xP8AMWjFcA",
        "outputId": "6707e1a9-7eec-4402-d683-3e3f0ee17710",
        "trusted": true
      },
      "execution_count": null,
      "outputs": [
        {
          "name": "stdout",
          "text": "+-----+-------+------+------+------+------+------+------+------+-------+---------------------+\n| v/u |   -2  |  -1  |  0   |  1   |  2   |  3   |  4   |  5   |   Ui  |          vU         |\n+-----+-------+------+------+------+------+------+------+------+-------+---------------------+\n|  -2 |  14.0 | 0.0  | 0.0  | 0.0  | 0.0  | 0.0  | 0.0  | 0.0  | -28.0 |         56.0        |\n|  -1 |  0.0  | 6.0  | 1.0  | 0.0  | 0.0  | 0.0  | 0.0  | 0.0  |  -6.0 |         6.0         |\n|  0  |  0.0  | 0.0  | 31.0 | 6.0  | 0.0  | 0.0  | 0.0  | 0.0  |  6.0  |         0.0         |\n|  1  |  0.0  | 0.0  | 0.0  | 14.0 | 0.0  | 0.0  | 0.0  | 0.0  |  14.0 |         14.0        |\n|  2  |  0.0  | 0.0  | 0.0  | 0.0  | 7.0  | 0.0  | 0.0  | 0.0  |  14.0 |         28.0        |\n|  3  |  0.0  | 0.0  | 0.0  | 0.0  | 0.0  | 4.0  | 0.0  | 0.0  |  12.0 |         36.0        |\n|  4  |  0.0  | 0.0  | 0.0  | 0.0  | 0.0  | 0.0  | 3.0  | 1.0  |  17.0 |         68.0        |\n|  5  |  0.0  | 0.0  | 0.0  | 0.0  | 0.0  | 0.0  | 0.0  | 2.0  |  10.0 |         50.0        |\n|  Vj | -28.0 | -6.0 | -1.0 | 14.0 | 14.0 | 12.0 | 12.0 | 14.0 |   -   |        258.0        |\n|  uV |  56.0 | 6.0  | -0.0 | 14.0 | 28.0 | 36.0 | 48.0 | 70.0 | 258.0 | Суммы vU и uV равны |\n+-----+-------+------+------+------+------+------+------+------+-------+---------------------+\n",
          "output_type": "stream"
        }
      ]
    },
    {
      "cell_type": "markdown",
      "source": [
        "Вывод: суммы vU и uV равны, следовательно, контроль пройден и вычисления верны"
      ],
      "metadata": {
        "id": "8yTxdkN5jFcA"
      }
    },
    {
      "cell_type": "markdown",
      "source": [
        "### Пункт 4"
      ],
      "metadata": {
        "id": "AiTt8PHVjFcA"
      }
    },
    {
      "cell_type": "markdown",
      "source": [
        "Вычисление коэффициента корреляции"
      ],
      "metadata": {
        "id": "g1tcc39gjFcA"
      }
    },
    {
      "cell_type": "code",
      "source": [
        "cped_u=0\n",
        "cped_v=0\n",
        "cped_u2=0\n",
        "cped_v2=0\n",
        "for i in range(kolvo):\n",
        "    cped_u= cped_u+sumx[i]*ui[i]/len(m)\n",
        "    cped_v=cped_v+sum(baza[i])*ui[i]/len(m)\n",
        "    cped_u2=cped_u2+sumx[i]*ui[i]**2/len(m)\n",
        "    cped_v2=cped_v2+sum(baza[i])*ui[i]**2/len(m)\n",
        "dispu=cped_u2-(cped_u)**2\n",
        "dispv=cped_v2-(cped_v)**2\n",
        "koeff_korrel=(sum(vU)-len(m)*cped_u*cped_v)/(len(m)*np.sqrt(dispu)*np.sqrt(dispv))\n",
        "print(\"Коэффициент корреляции = \",koeff_korrel)"
      ],
      "metadata": {
        "execution": {
          "iopub.status.busy": "2022-11-27T14:42:42.797748Z",
          "iopub.execute_input": "2022-11-27T14:42:42.798381Z",
          "iopub.status.idle": "2022-11-27T14:42:42.815631Z",
          "shell.execute_reply.started": "2022-11-27T14:42:42.798326Z",
          "shell.execute_reply": "2022-11-27T14:42:42.813355Z"
        },
        "id": "ZL1DYLvAjFcB",
        "outputId": "ca165028-f70b-4b1c-a81a-a09a9ac8cc57",
        "trusted": true
      },
      "execution_count": null,
      "outputs": [
        {
          "name": "stdout",
          "text": "Коэффициент корреляции =  0.9854430351191087\n",
          "output_type": "stream"
        }
      ]
    },
    {
      "cell_type": "markdown",
      "source": [
        "Вывод: Модуль коэффициента корреляции $\\leq$ 1, следовательно, вычисления верны. Коэффициент корреляции положителен, значит, с увеличением х увеличивается у"
      ],
      "metadata": {
        "id": "f1w5htcljFcB"
      }
    },
    {
      "cell_type": "markdown",
      "source": [
        "### Пункт 5"
      ],
      "metadata": {
        "id": "QGzOLQPRjFcB"
      }
    },
    {
      "cell_type": "markdown",
      "source": [
        "Построение доверительного интервала для коэффициента корреляции при уровне значимости {0.95, 0.99}"
      ],
      "metadata": {
        "id": "0cQvXIX0jFcB"
      }
    },
    {
      "cell_type": "code",
      "source": [
        "z=math.atanh(koeff_korrel)\n",
        "t95=1.97 # 1.97 - табличное значение\n",
        "t99=2.58 # 2.58 - табличное значение\n",
        "print(\"Доверительный интервал при уровне значимости 0.95: (\",round(math.tanh(z-t95/(np.sqrt(len(m)-3))),5),\";\",round(math.tanh(z+t95/(np.sqrt(len(m)-3))),5),\")\")\n",
        "print(\"Доверительный интервал при уровне значимости 0.99: (\",round(math.tanh(z-t99/(np.sqrt(len(m)-3))),5),\";\",round(math.tanh(z+t99/(np.sqrt(len(m)-3))),5),\")\")"
      ],
      "metadata": {
        "execution": {
          "iopub.status.busy": "2022-11-27T14:42:42.817444Z",
          "iopub.execute_input": "2022-11-27T14:42:42.817869Z",
          "iopub.status.idle": "2022-11-27T14:42:42.833121Z",
          "shell.execute_reply.started": "2022-11-27T14:42:42.817830Z",
          "shell.execute_reply": "2022-11-27T14:42:42.831013Z"
        },
        "id": "8iuNqMd7jFcB",
        "outputId": "5699d252-d540-4e9c-b484-d9dcb9fe6ae0",
        "trusted": true
      },
      "execution_count": null,
      "outputs": [
        {
          "name": "stdout",
          "text": "Доверительный интервал при уровне значимости 0.95: ( 0.97782 ; 0.99046 )\nДоверительный интервал при уровне значимости 0.99: ( 0.97474 ; 0.99163 )\n",
          "output_type": "stream"
        }
      ]
    },
    {
      "cell_type": "markdown",
      "source": [
        "Вывод: в получившиеся доверительные интервалы попадает коэффициент корреляции."
      ],
      "metadata": {
        "id": "TtbpRHnjjFcB"
      }
    },
    {
      "cell_type": "markdown",
      "source": [
        "### Пункт 6"
      ],
      "metadata": {
        "id": "gT6zmXf3jFcC"
      }
    },
    {
      "cell_type": "markdown",
      "source": [
        "Проверка статистической гипотезы о равенстве коэффициента корреляции нулю при заданном уровне значимости 0.05"
      ],
      "metadata": {
        "id": "UwpedZzcjFcC"
      }
    },
    {
      "cell_type": "code",
      "source": [
        "T_krit=1.9876 # 1.9876 - табличное значение\n",
        "T_nabl=koeff_korrel*(np.sqrt(len(m)-2))/(np.sqrt(1-koeff_korrel**2))\n",
        "if abs(T_nabl)<T_krit:\n",
        "    print(\"Статистическая гипотеза о равенстве коэффициента корреляции нулю принимается\")\n",
        "else:\n",
        "    print(\"Статистическая гипотеза о равенстве коэффициента корреляции нулю не принимается\")"
      ],
      "metadata": {
        "execution": {
          "iopub.status.busy": "2022-11-27T14:42:42.834461Z",
          "iopub.execute_input": "2022-11-27T14:42:42.835830Z",
          "iopub.status.idle": "2022-11-27T14:42:42.848510Z",
          "shell.execute_reply.started": "2022-11-27T14:42:42.835750Z",
          "shell.execute_reply": "2022-11-27T14:42:42.847610Z"
        },
        "id": "4wJHdM--jFcC",
        "outputId": "2f5b04c1-a55b-4a1e-a593-7d7cfbbe9c6f",
        "trusted": true
      },
      "execution_count": null,
      "outputs": [
        {
          "name": "stdout",
          "text": "Статистическая гипотеза о равенстве коэффициента корреляции нулю не принимается\n",
          "output_type": "stream"
        }
      ]
    },
    {
      "cell_type": "markdown",
      "source": [
        "Вывод: область принятия гипотезы - |T_nabl| < T_krit, проверка не пройдена, следовательно, гипотеза не принмается."
      ],
      "metadata": {
        "id": "bPGWgEjrjFcC"
      }
    },
    {
      "cell_type": "markdown",
      "source": [
        "### Пункт 7"
      ],
      "metadata": {
        "id": "vNCxrdXyjFcC"
      }
    },
    {
      "cell_type": "markdown",
      "source": [
        "Построение уравнений средней квадратичной регрессии х на у и у на х соответственно. Отображение полученные прямые на множестве выборки"
      ],
      "metadata": {
        "id": "OZcSMJ8qjFcC"
      }
    },
    {
      "cell_type": "code",
      "source": [
        "length=round(b[7]-a[0])\n",
        "dify=[0]*length\n",
        "koord=[0]*length\n",
        "for i in range(length):\n",
        "    koord[i]=i+a[0]\n",
        "    dify[i]=(koeff_korrel*sko2*(koord[i]-vyb_cped))/sko+vyb_cped2 \n",
        "import matplotlib.pyplot as plt\n",
        "print(\"График уравнения средней квадратичной регрессии х на у\")\n",
        "plt.xlabel(\"x\")\n",
        "plt.ylabel(\"y\")\n",
        "plt.grid()\n",
        "for i in range(len(m)):\n",
        "    plt.plot(m[i],n[i],'b.')\n",
        "plt.plot(koord,dify)\n",
        "plt.show()\n",
        "\n",
        "\n",
        "length2=round(b2[7]-a2[0])\n",
        "difx=[0]*length2\n",
        "koord2=[0]*length2\n",
        "for i in range(length2):\n",
        "    koord2[i]=i+a2[0]\n",
        "    difx[i]=(koeff_korrel*sko*((i+a2[0])-vyb_cped2))/sko2+vyb_cped\n",
        "print(\"График уравнения средней квадратичной регрессии y на x\")\n",
        "plt.xlabel(\"y\")\n",
        "plt.ylabel(\"x\")\n",
        "plt.grid()\n",
        "for i in range(len(m)):\n",
        "    plt.plot(n[i],m[i],'b.')\n",
        "plt.plot(koord2,difx)\n",
        "plt.show()"
      ],
      "metadata": {
        "execution": {
          "iopub.status.busy": "2022-11-27T14:42:42.849808Z",
          "iopub.execute_input": "2022-11-27T14:42:42.850182Z",
          "iopub.status.idle": "2022-11-27T14:42:43.611596Z",
          "shell.execute_reply.started": "2022-11-27T14:42:42.850150Z",
          "shell.execute_reply": "2022-11-27T14:42:43.610147Z"
        },
        "id": "DHcJj4EDjFcC",
        "outputId": "541bf0a3-48a2-4e29-f36e-fd079197cf31",
        "trusted": true
      },
      "execution_count": null,
      "outputs": [
        {
          "name": "stdout",
          "text": "График уравнения средней квадратичной регрессии х на у\n",
          "output_type": "stream"
        },
        {
          "output_type": "display_data",
          "data": {
            "text/plain": "<Figure size 432x288 with 1 Axes>",
            "image/png": "[encoded data removed]"
          },
          "metadata": {
            "needs_background": "light"
          }
        },
        {
          "name": "stdout",
          "text": "График уравнения средней квадратичной регрессии y на x\n",
          "output_type": "stream"
        },
        {
          "output_type": "display_data",
          "data": {
            "text/plain": "<Figure size 432x288 with 1 Axes>",
            "image/png": "[encoded data removed]"
          },
          "metadata": {
            "needs_background": "light"
          }
        }
      ]
    },
    {
      "cell_type": "markdown",
      "source": [
        "Вывод: Уравнения средней квадратичной регрессии характеризуются прямыми. Они дают общую характеристику положениям значений на множестве выборки"
      ],
      "metadata": {
        "id": "WryTpoz1jFcD"
      }
    },
    {
      "cell_type": "markdown",
      "source": [
        "### Пункт 8"
      ],
      "metadata": {
        "id": "6z_6jJcMjFcD"
      }
    },
    {
      "cell_type": "markdown",
      "source": [
        "Вычисление корреляционных отношений. Проверка выполнения неравенств $\\eta\\geq|r_{B}|$"
      ],
      "metadata": {
        "id": "5gsIDCYJjFcD"
      }
    },
    {
      "cell_type": "code",
      "source": [
        "disp_cpedy_x=0\n",
        "dispy=0\n",
        "disp_cpedx_y=0\n",
        "dispx=0\n",
        "cped_y=0\n",
        "cped_x=0\n",
        "yx=[0]*kolvo\n",
        "xy=[0]*kolvo\n",
        "for i in range(kolvo):\n",
        "    cped_y=cped_y+sum(baza[i])*middle2[i]/len(n)\n",
        "    cped_x=cped_x+sumx[i]*middle[i]/len(m)\n",
        "    for j in range(kolvo):\n",
        "        yx[i]=yx[i]+middle2[j]*baza[j][i]/sumx[i]\n",
        "        xy[i]=xy[i]+(middle[j])*baza[i][j]/(sum(baza[i]))\n",
        "for i in range(kolvo):\n",
        "    disp_cpedy_x=disp_cpedy_x+sumx[i]*(yx[i]-cped_y)**2/len(m)\n",
        "    disp_cpedx_y=disp_cpedx_y+sum(baza[i])*(xy[i]-cped_x)**2/len(m)\n",
        "    dispy=dispy+sum(baza[i])*(middle2[i]-cped_y)**2/len(m)\n",
        "    dispx=dispx+sumx[i]*(middle[i]-cped_x)**2/len(m)\n",
        "nyx=np.sqrt(disp_cpedy_x)/np.sqrt(dispy)\n",
        "nxy=np.sqrt(disp_cpedx_y)/np.sqrt(dispx)\n",
        "print(round(nyx,5),\" \",round(nxy,5))\n",
        "if (nyx>abs(koeff_korrel))&(nxy>abs(koeff_korrel)):\n",
        "    print(\"Корреляционные отношения больше коэффициента корреляции (0.98544)\")"
      ],
      "metadata": {
        "execution": {
          "iopub.status.busy": "2022-11-27T14:42:43.612924Z",
          "iopub.execute_input": "2022-11-27T14:42:43.613253Z",
          "iopub.status.idle": "2022-11-27T14:42:43.628655Z",
          "shell.execute_reply.started": "2022-11-27T14:42:43.613223Z",
          "shell.execute_reply": "2022-11-27T14:42:43.626852Z"
        },
        "id": "7_c0Ot5PjFcD",
        "outputId": "fc5a249e-7082-4143-ffd5-f73a007b22b6",
        "trusted": true
      },
      "execution_count": null,
      "outputs": [
        {
          "name": "stdout",
          "text": "0.98798   0.98674\nКорреляционные отношения больше коэффициента корреляции (0.98544)\n",
          "output_type": "stream"
        }
      ]
    },
    {
      "cell_type": "markdown",
      "source": [
        "Вывод: условие $\\eta\\in[0,1] $ и неравенство $\\eta\\geq|r_{B}| $ выполняются, следовательно, вычисления верны. Также корреляционные отношения максимально приближены к 1, что свидетельствует о связи признака Y с признаком X функциональной зависимостью и наоборот"
      ],
      "metadata": {
        "id": "WiLnX4brjFcD"
      }
    },
    {
      "cell_type": "markdown",
      "source": [
        "### Пункт 9"
      ],
      "metadata": {
        "id": "6HoEJkaijFcD"
      }
    },
    {
      "cell_type": "markdown",
      "source": [
        "Построение корреляционной кривой параболического вида и отображение полученной кривой на множестве выборки"
      ],
      "metadata": {
        "id": "2W392UmIjFcE"
      }
    },
    {
      "cell_type": "markdown",
      "source": [
        "Берутся производные от $(c+bx+ax^{2}-y)^{2}$:\n",
        "$ 2x^{2}(ax^{2}+bx+c-y\\\\\n",
        "2x(ax^{2}+bx+c-y)\\\\\n",
        "2ax^{2} + 2bx + 2c - 2y $\n",
        "Приравняв их к нулю, составляется система:\n",
        "\n",
        "$\\begin{cases}\n",
        " & nc+b\\sum_{i=1}^{n}x_{i}+a\\sum_{i=1}^{n}x_{i}^{2}=\\sum_{i=1}^{n}y_{i}\\\\\n",
        " & c\\sum_{i=1}^{n}x_{i}+b\\sum_{i=1}^{n}x_{i}^{2}+\\sum_{i=1}^{n}x_{i}^{3}=\\sum_{i=1}^{n}y_{i}x_{i}\\\\\n",
        " & c\\sum_{i=1}^{n}x_{i}^{2}+b\\sum_{i=1}^{n}x_{i}^{3}+\\sum_{i=1}^{n}x_{i}^{4}=\\sum_{i=1}^{n}y_{i}x_{i}^{2}\n",
        "\\end{cases}$"
      ],
      "metadata": {
        "id": "aOTQ2H4gjFcE"
      }
    },
    {
      "cell_type": "code",
      "source": [
        "cymx=0\n",
        "cymx2=0\n",
        "cymx3=0\n",
        "cymx4=0\n",
        "cymy=0\n",
        "cymxy=0\n",
        "cymx2y=0\n",
        "koord3=[0]*length\n",
        "ltr=[0]*length\n",
        "for i in range(len(m)):\n",
        "    cymx=cymx+m[i]\n",
        "    cymx2=cymx2+m[i]**2\n",
        "    cymx3=cymx3+m[i]**3\n",
        "    cymx4=cymx4+m[i]**4\n",
        "    cymy=cymy+n[i]\n",
        "    cymxy=cymxy+(m[i]*n[i])\n",
        "    cymx2y=cymx2y+(m[i]**2*n[i])\n",
        "l=np.array([[len(m),cymx,cymx2],[cymx,cymx2,cymx3],[cymx2,cymx3,cymx4]])\n",
        "r=np.array([cymy,cymxy,cymx2y])\n",
        "vsp=np.linalg.inv(l).dot(r)\n",
        "for i in range(len(m)):\n",
        "    plt.plot(m[i],n[i],'b.')\n",
        "for i in range(length):\n",
        "    koord3[i]=i+a[0]\n",
        "    ltr[i]=vsp[0]+vsp[1]*(i+a[0])+vsp[2]*(i+a[0])**2\n",
        "plt.plot(koord3,ltr)\n",
        "plt.grid()\n",
        "plt.show()\n",
        "print(vsp)"
      ],
      "metadata": {
        "execution": {
          "iopub.status.busy": "2022-11-27T14:42:43.630899Z",
          "iopub.execute_input": "2022-11-27T14:42:43.631453Z",
          "iopub.status.idle": "2022-11-27T14:42:43.861527Z",
          "shell.execute_reply.started": "2022-11-27T14:42:43.631404Z",
          "shell.execute_reply": "2022-11-27T14:42:43.859684Z"
        },
        "id": "g5SrK4gBjFcE",
        "outputId": "ef4e7fed-8314-4a7d-cb10-46e3df6ca126",
        "trusted": true
      },
      "execution_count": null,
      "outputs": [
        {
          "output_type": "display_data",
          "data": {
            "text/plain": "<Figure size 432x288 with 1 Axes>",
            "image/png": "[encoded data removed]"
          },
          "metadata": {
            "needs_background": "light"
          }
        },
        {
          "name": "stdout",
          "text": "[1.21124772e+00 9.52738410e-01 5.10983355e-05]\n",
          "output_type": "stream"
        }
      ]
    },
    {
      "cell_type": "markdown",
      "source": [
        "Вывод: уравнение параболической регрессии имеет вид: $y = 0.000051x^{2} + 0.95x + 1.21$.\n",
        "График отображает средние значения на множестве выборки"
      ],
      "metadata": {
        "id": "KWlaYlQKjFcE"
      }
    },
    {
      "cell_type": "markdown",
      "source": [
        "### Пункт 10"
      ],
      "metadata": {
        "id": "8UUsBbqejFcE"
      }
    },
    {
      "cell_type": "markdown",
      "source": [
        "Построение нелинейных корреляционных кривых c помощью МНК в зависимости от номера варианта: (4) логарифмическая функция"
      ],
      "metadata": {
        "id": "zifimkivjFcE"
      }
    },
    {
      "cell_type": "markdown",
      "source": [
        "Берутся производные от $(a+bln{(x)}-y)^{2}$:\n",
        "$ 2a+2bln{(x)}-2y\\\\\n",
        "2ln{(x)}(a+bln{(x)}-y) $\n",
        "Приравняв их к нулю, составляется система:\n",
        "\n",
        "$\\begin{cases}\n",
        " & na+b\\sum_{i=1}^{n}ln{(x_{i})}=\\sum_{i=1}^{n}y_{i}\\\\\n",
        " & a\\sum_{i=1}^{n}ln{(x_{i})}+b\\sum_{i=1}^{n}ln{(x_{i})^{2}}=\\sum_{i=1}^{n}y_{i}ln{(x_{i})}\n",
        "\\end{cases}$"
      ],
      "metadata": {
        "id": "f-OJE4WmjFcE"
      }
    },
    {
      "cell_type": "code",
      "source": [
        "ypx=0\n",
        "ypx2=0\n",
        "yryx=0\n",
        "koord4=[0]*length\n",
        "ltr2=[0]*length\n",
        "for i in range(len(m)):\n",
        "    ypx=ypx+math.log(m[i])\n",
        "    ypx2=ypx2+math.log(m[i])**2\n",
        "    yryx=yryx+n[i]*math.log(m[i])\n",
        "l2=np.array([[len(m),ypx],[ypx,ypx2]])\n",
        "r2=np.array([cymy,yryx])\n",
        "vsp2=np.linalg.inv(l2).dot(r2)\n",
        "for i in range(len(m)):\n",
        "    plt.plot(m[i],n[i],'b.')\n",
        "for i in range(length):\n",
        "    koord4[i]=i+a[0]\n",
        "    ltr2[i]=vsp2[0]+vsp2[1]*math.log(i+a[0])\n",
        "plt.plot(koord4,ltr2)\n",
        "plt.grid()\n",
        "plt.show()\n",
        "print(vsp2)"
      ],
      "metadata": {
        "execution": {
          "iopub.status.busy": "2022-11-27T14:42:43.863944Z",
          "iopub.execute_input": "2022-11-27T14:42:43.864360Z",
          "iopub.status.idle": "2022-11-27T14:42:44.097905Z",
          "shell.execute_reply.started": "2022-11-27T14:42:43.864322Z",
          "shell.execute_reply": "2022-11-27T14:42:44.096148Z"
        },
        "id": "zC3ciiznjFcE",
        "outputId": "41b9105a-e7d9-427f-9dfa-370f53657aa0",
        "trusted": true
      },
      "execution_count": null,
      "outputs": [
        {
          "output_type": "display_data",
          "data": {
            "text/plain": "<Figure size 432x288 with 1 Axes>",
            "image/png": "[encoded data removed]"
          },
          "metadata": {
            "needs_background": "light"
          }
        },
        {
          "name": "stdout",
          "text": "[-419.27709447  113.67150711]\n",
          "output_type": "stream"
        }
      ]
    },
    {
      "cell_type": "markdown",
      "source": [
        "Вывод: уравнение кривой логарифмического вида - $y=-419.277+113.67ln{(x)}$.\n",
        "График отображает средние значения на множестве выборки"
      ],
      "metadata": {
        "id": "vF0TrRUBjFcF"
      }
    },
    {
      "cell_type": "markdown",
      "source": [
        "### Пункт 11"
      ],
      "metadata": {
        "id": "Xa0KEGxOjFcF"
      }
    },
    {
      "cell_type": "markdown",
      "source": [
        "Вычисление следующих показателей качества регрессии для каждого из четырёх уравнений: теоретический коэффициент детерминации 𝑅2, средняя квадратическая ошибка 𝑆𝜀, средняя ошибка аппроксимации (приближения) 𝐴."
      ],
      "metadata": {
        "id": "ui4fiWzejFcF"
      }
    },
    {
      "cell_type": "code",
      "source": [
        "gr_y=[0]*len(m)\n",
        "gr_y2=[0]*len(m)\n",
        "gr_y3=[0]*len(m)\n",
        "gr_y4=[0]*len(m)\n",
        "dcnpc=0\n",
        "dcnpc2=0\n",
        "dcnpc3=0\n",
        "dcnpc4=0\n",
        "aprox=0\n",
        "aprox2=0\n",
        "aprox3=0\n",
        "aprox4=0\n",
        "ostat=[0]*len(m)\n",
        "ostat2=[0]*len(m)\n",
        "ostat3=[0]*len(m)\n",
        "ostat4=[0]*len(m)\n",
        "\n",
        "for i in range(len(m)):\n",
        "    gr_y[i]=(koeff_korrel*sko2*(m[i]-vyb_cped))/sko+vyb_cped2\n",
        "    gr_y2[i]=(koeff_korrel*sko*(n[i]-vyb_cped2))/sko2+vyb_cped\n",
        "    gr_y3[i]=vsp[0]+vsp[1]*m[i]+vsp[2]*m[i]**2\n",
        "    gr_y4[i]=vsp2[0]+vsp2[1]*math.log(m[i])\n",
        "    dcnpc=dcnpc+((gr_y[i]-vyb_cped2)**2/len(m))\n",
        "    dcnpc2=dcnpc2+((gr_y2[i]-vyb_cped)**2/len(m))\n",
        "    dcnpc3=dcnpc3+((gr_y3[i]-vyb_cped2)**2/len(m))\n",
        "    dcnpc4=dcnpc4+((gr_y4[i]-vyb_cped2)**2/len(m))\n",
        "    aprox=aprox+(abs((n[i]-gr_y[i])/n[i])/len(m))\n",
        "    aprox2=aprox2+(abs((n[i]-gr_y2[i])/m[i])/len(m))\n",
        "    aprox3=aprox3+(abs((n[i]-gr_y3[i])/n[i])/len(m))\n",
        "    aprox4=aprox4+(abs((n[i]-gr_y4[i])/n[i])/len(m))\n",
        "    ostat[i]=(n[i]-gr_y[i])**2\n",
        "    ostat2[i]=(m[i]-gr_y2[i])**2\n",
        "    ostat3[i]=(n[i]-gr_y3[i])**2\n",
        "    ostat4[i]=(n[i]-gr_y4[i])**2\n",
        "    \n",
        "table5 = PrettyTable([\" \",\"Теоретический коэффициент детерминации \",\"Средняя квадратическая ошибка\",\"Средняя ошибка аппроксимации\"])\n",
        "table5.add_row([1,round(dcnpc/dispersia,5),round(np.sqrt(sum(ostat)/(len(m)-2)),5),round(aprox*100,5)])    # для средней квадратичной регрессии x на y\n",
        "table5.add_row([2,round(dispersia/dcnpc2,5),round(np.sqrt(sum(ostat2)/(len(m)-2)),5),round(aprox2*100,5)])  # для средней квадратичной регрессии y на x\n",
        "table5.add_row([3,round(dcnpc3/dispersia,5),round(np.sqrt(sum(ostat3)/(len(m)-3)),5),round(aprox3*100,5)]) # для функции параболического вида\n",
        "table5.add_row([4,round(dcnpc4/dispersia2,5),round(np.sqrt(sum(ostat4)/(len(m)-2)),5),round(aprox4*100,5)]) # для функции логарифмического вида\n",
        "print(table5)"
      ],
      "metadata": {
        "execution": {
          "iopub.status.busy": "2022-11-27T14:42:44.101782Z",
          "iopub.execute_input": "2022-11-27T14:42:44.102177Z",
          "iopub.status.idle": "2022-11-27T14:42:44.126846Z",
          "shell.execute_reply.started": "2022-11-27T14:42:44.102147Z",
          "shell.execute_reply": "2022-11-27T14:42:44.125616Z"
        },
        "id": "lzlYlY4OjFcF",
        "outputId": "409e8d32-4809-4fa4-dd7b-ce74f48e733b",
        "trusted": true
      },
      "execution_count": null,
      "outputs": [
        {
          "name": "stdout",
          "text": "+---+-----------------------------------------+-------------------------------+------------------------------+\n|   | Теоретический коэффициент детерминации  | Средняя квадратическая ошибка | Средняя ошибка аппроксимации |\n+---+-----------------------------------------+-------------------------------+------------------------------+\n| 1 |                 0.95728                 |            1.74811            |           1.05101            |\n| 2 |                 0.96629                 |            1.69683            |           4.05511            |\n| 3 |                 0.99101                 |            1.25634            |           0.79261            |\n| 4 |                 0.99087                 |            12.35029           |           9.22817            |\n+---+-----------------------------------------+-------------------------------+------------------------------+\n",
          "output_type": "stream"
        }
      ]
    },
    {
      "cell_type": "markdown",
      "source": [
        "Вывод: \n",
        "\n",
        "Судя по коэффициенту детерминации, для всех функций качественная характеристика силы связи весьма высокая (так как он > 0.9).\n",
        "\n",
        "Средняя квадратическая ошибка демонстрирует среднеквадратическое отклонение наблюдаемых значений от теоритических. Использование всех моделей целесообразно, так как все Se меньше СКО.\n",
        "\n",
        "Ошибка аппроксимации у всех моделей, кроме последней, меньше 7%, что свидетельствует о хорошем качестве моделей. Последняя же близка к значению 7% (разница в 2.2%)"
      ],
      "metadata": {
        "id": "-7HZ6H0QjFcF"
      }
    },
    {
      "cell_type": "markdown",
      "source": [
        "## Выводы\n",
        "В процессе выполнения данной практической работы были достигнуты поставленные задачи. В первую очередь, освоены основные понятия, связанные с корреляционной зависимостью между случайными величинами, статистическими гипотезами и проверкой их «справедливости». Произведено ознакомление с основными положениями метода наименьших квадратов, со статистическими свойствами МНК оценок, с понятием функции регрессии и роли МНК в регрессионном анализе, с корреляционным отношением, как мерой тесноты произвольной корреляционной связи. В ходе работы обработана вторая выборка в объеме практической работы №1, построен двумерный интервальный вариационный ряд, вычислен коэффициент корреляции, построены доверительные интервалы для коэффициента корреляции, проверена гипотеза о равенстве коэффициента корреляции нулю, вычислены корреляционные отношения, построены 4 регрессионные модели, для которых далее были определены показатели качества."
      ],
      "metadata": {
        "id": "kPJV5yzwjFcF"
      }
    }
  ]
}