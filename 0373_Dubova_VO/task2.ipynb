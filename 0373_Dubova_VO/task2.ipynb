{
 "cells": [
  {
   "cell_type": "markdown",
   "id": "6ff80061-dbb1-4432-bd2a-9864f900fd06",
   "metadata": {
    "tags": []
   },
   "source": [
    "# Практическая работа №2: Корреляционный и регрессионный анализ\n",
    "\n",
    "Выполнила студентка гр. 0373 Дубова Влада. Вариант №6"
   ]
  },
  {
   "cell_type": "markdown",
   "id": "1db4b1ff-22fb-4ed8-a1e7-c4cee3f23eec",
   "metadata": {
    "tags": []
   },
   "source": [
    "## Цель работы\n",
    "Освоение основных понятий, связанных с корреляционной зависимостью между случайными величинами, статистическими гипотезами и проверкой их «справедливости». Ознакомление с основными положениями метода наименьших квадратов (МНК), со статистическими свойствами МНК оценок, с понятием функции регрессии и роли МНК в регрессионном анализе, с корреляционным отношением, как мерой тесноты произвольной (в том числе и линейной) корреляционной связи."
   ]
  },
  {
   "cell_type": "markdown",
   "id": "a63c4f5b-d0ac-4ba1-ac31-760c6d1a8935",
   "metadata": {
    "tags": []
   },
   "source": [
    "## Основные теоретические положения\n",
    "*Корреляционная таблица* – таблица, построенная на основе интервального ряда. В первой строке и первом столбце таблицы находятся значения $u_i=\\frac{x_i-C_x}{h_x}$, $v_j=\\frac{y_j-C_y}{h_y}$, где $C_x$, $C_y$ – ложные 0, $h_x$, $h_y$ – длины интервалов. В ячейки, образованные пересечением строк и столбцов помещают частоты $n_{uv}$ попадания пар значений в соответствующие интервалы. В предпоследней строке и предпоследнем столбце находятся значения $U_i=\\sum_{i=1}^{k_u}{n_{uv}u_i}$, $V_j=\\sum_{j=1}^{k_v}{n_{uv}v_j}$. В последней строке и последнем столбце находятся значения $U_iv_j$, $V_ju_i$.\n",
    "\n",
    "*Коэффициент корреляции Пирсона* $r_\\beta$ – параметр, который служит для оценки силы линейной связи между $x$ и $y$. Знак $r_\\beta$ означает, увеличивается величина или уменьшается.\n",
    "\n",
    "Вычисление коэффициента корреляции с помощью условных вариант:\n",
    "\\begin{equation}r_\\beta=\\frac{1}{n}\\sum_{i=1}^{k_u}\\sum_{j=1}^{k_v}{n_{uv}u_iv_j}-\\bar u\\cdot\\bar v\\end{equation}\n",
    "\n",
    "*Доверительный интервал для с. в. z:* \\begin{equation}\\Biggl(z-\\frac{t}{\\sqrt{n-3}};z+\\frac{t}{\\sqrt{n-3}}\\Biggl),\\end{equation} где $z=arcth(r_\\beta)$, $t$ получают из равенства $\\Phi(t)= \\frac{\\gamma}{2}$.\n",
    "\n",
    "*Доверительный интервал для коэффициента корреляции:*\n",
    "$\\bigl(th(z_l);th(z_u)\\bigl)$\n",
    "\n",
    "*Наблюдаемое значение с. в. для проверки статистической гипотезы о равенстве коэффициента корреляции нулю:* $T$набл = \\begin{equation}r_\\beta\\frac{\\sqrt{n-2}}{\\sqrt{1-r_\\beta^2}}\\end{equation}\n",
    "*Критическое значение с. в. для проверки статистической гипотезы о равенстве коэффициента корреляции нулю:* $T$крит$ = t(\\alpha, df), df = n-2$.\n",
    "\n",
    "*Область принятия гипотезы:* $|T$набл$| \\lt T$крит.\n",
    "\n",
    "*Уравнения средней квадратичной регрессии:*\n",
    "\\begin{equation}\\bar y_x-\\bar y=r_{xy}\\frac{\\sigma_y}{\\sigma_x}(x-\\bar x), \\bar x_y-\\bar x=r_{xy}\\frac{\\sigma_x}{\\sigma_y}(y-\\bar y)\\end{equation}\n",
    "\n",
    "*Корреляционные отношения:* \n",
    "\\begin{equation}\\eta_{yx}=\\frac{\\sigma_{\\bar y_x}}{\\sigma_y}=\\frac{\\sqrt{\\sum_{n_x(\\bar y_x-\\bar y)^2}}}{\\sqrt{\\sum_{n_y(y-\\bar y)^2}}}, \\eta_{xy}=\\frac{\\sigma_{\\bar x_y}}{\\sigma_x}=\\frac{\\sqrt{\\sum_{n_y(\\bar x_y-\\bar x)^2}}}{\\sqrt{\\sum_{n_x(x-\\bar x)^2}}}\\end{equation}\n",
    "\n",
    "*Теоретический коэффициент детерминации* $R^2$ – показатель качества регрессии, который показывает долю дисперсии, объяснённую моделью регрессии.\n",
    "\\begin{equation}R_y^2=\\frac{(\\delta_y^*)^2}{\\sigma_y^2}=\\frac{\\sum_{i=1}^n{(y_{x_i}-\\bar y)^2}}{n\\sigma_y^2}, R_x^2=\\frac{(\\delta_x^*)^2}{\\sigma_x^2}=\\frac{\\sum_{i=1}^n{(x_{y_i}-\\bar x)^2}}{n\\sigma_x^2}\\end{equation}\n",
    "\n",
    "*Средняя квадратическая ошибка* $S_\\varepsilon$ – показатель качества регрессии. Величину средней квадратической ошибки можно сравнить со средним квадратическим отклонением результативного признака. Средняя квадратическая ошибка, меньшая чем $\\sigma$, говорит о целесообразности использования модели регрессии.\n",
    "\\begin{equation}S_{\\varepsilon y}=\\sqrt{\\frac{\\sum_{i=1}^n\\varepsilon_{y_i}^2}{n-l}}, S_{\\varepsilon x}=\\sqrt{\\frac{\\sum_{i=1}^n\\varepsilon_{x_i}^2}{n-l}},\\end{equation}\n",
    "где $l$ – число параметров в модели регрессии, $\\varepsilon {y_i}=y_i-y_{x_i}$, $\\varepsilon {x_i}=x_i-x_{y_i}$\n",
    "\n",
    "*Средняя ошибка аппроксимации (приближения)* $A$ – показатель качества регрессии. $A \\lt 7\\%$ свидетельствует о хорошем выборе модели.\n",
    "\\begin{equation}A_y=\\frac{1}{n}\\sum_{i=1}^n\\Big|\\frac{\\varepsilon {y_i}}{y_i}\\Big|, A_x=\\frac{1}{n}\\sum_{i=1}^n\\Big|\\frac{\\varepsilon {x_i}}{x_i}\\Big|\\end{equation}"
   ]
  },
  {
   "cell_type": "markdown",
   "id": "6adf249a-f69a-4646-88df-8fc84a0af1c4",
   "metadata": {
    "tags": []
   },
   "source": [
    "## Постановка задачи\n",
    "Из заданной генеральной совокупности сформировать выборку по второму признаку. Для системы двух случайных величин 𝑋 (первый признак) и 𝑌 (второй признак) сформировать двумерную выборку и найти статистическую оценку коэффициента корреляции, построить доверительный интервал для коэффициента корреляции и осуществить проверку статистической гипотезы о равенстве коэффициента корреляции нулю. Построить уравнения выборочных прямых среднеквадратической регрессии. Полученные линейные функции регрессии отобразить графически. Найти выборочное корреляционное отношение. Оценить адекватность моделей. Полученные результаты содержательно проинтерпретировать."
   ]
  },
  {
   "cell_type": "markdown",
   "id": "186fa061-d548-4ac5-88f8-b742d3490749",
   "metadata": {
    "tags": []
   },
   "source": [
    "## Выполнение работы"
   ]
  },
  {
   "cell_type": "markdown",
   "id": "ea46e183-7aaa-4a7a-bc81-69a4d8c62db3",
   "metadata": {
    "tags": []
   },
   "source": [
    "#### 1. Провести статистическую обработку второй выборки в объеме практической работы №1 с целью определения точечных статистических оценок параметров распределения исследуемого признака (математического ожидания, дисперсии, среднеквадратичного отклонения, асимметрии, эксцесса, моды, медианы и коэффициента вариации). Оформить результаты в виде таблиц, сделать выводы."
   ]
  },
  {
   "cell_type": "markdown",
   "id": "d9072e74-4ad1-42db-9203-f440c20544ed",
   "metadata": {
    "tags": []
   },
   "source": [
    "##### 1) Из генеральной совокупности формируем выборку заданного объёма."
   ]
  },
  {
   "cell_type": "code",
   "execution_count": 1,
   "id": "e0bf8f19-2cb6-4649-8fa5-88b73a9a7cf5",
   "metadata": {},
   "outputs": [],
   "source": [
    "import numpy as np\n",
    "import matplotlib.pyplot as plt\n",
    "from math import atanh, tanh\n",
    "%matplotlib inline\n",
    "age = [8,9,9,12,14,11,11,8,14,8,10,9,9,8,11,17,11,10,9,11,14,16,12,10,11,11,12,10,8,10,11,10,13,14,9,8,8,10,10,10,10,9,10,9,13,9,10,9,16,15,9,10,11,8,15,11,11,10,11,12,10,11,14,8,13,11,15,10,10,15,8,11,10,20,8,13,9,9,12,9,7,10,18,7,10,8,9]\n",
    "weight = [23.81358,20.25571775,16.11669075,27.68328675,58.04560125,29.07241225,46.13881125,24.93338525,31.00017825,30.1355185,31.638042,28.08017975,27.34309275,18.75319425,39.02308675,42.410852,47.230267,19.57532975,32.205032,43.318036,35.11085575,39.972795,44.4803655,38.08755325,31.19862475,49.0871593,38.08755325,29.993771,32.431828,43.02036625,44.94813225,41.23434775,15.37960375,36.61337925,23.926978,10.0073735,26.251637,34.23202125,21.70154225,35.33765175,24.90503575,39.179009,16.669506,15.3937785,10.886208,20.22736825,35.81959325,43.87085125,32.31843,17.70426275,23.586784,31.6096925,33.92017675,6.4353365,28.44872325,25.1460065,35.4652245,33.57998275,33.9910505,16.726205,20.00057225,72.4329725,36.81182575,19.71707725,13.8062065,12.94154675,18.6256215,38.34269875,31.62386725,18.01610725,42.127357,39.19318375,12.7856245,31.127751,24.79163775,23.48756075,41.220173,37.37881575,27.17299575,22.97726975,23.7852305,13.50853675,27.08794725,36.27318525,35.777069,5.85417175,31.2694985]\n",
    "n = 87"
   ]
  },
  {
   "cell_type": "markdown",
   "id": "c81cf110-8fbf-4ed9-b544-1a79a6899366",
   "metadata": {},
   "source": [
    "Выборка из 87 элементов была сформирована простым бесповторным отбором из генеральной совокупности [Crab Age Prediction](https://www.kaggle.com/datasets/sidhus/crab-age-prediction \"Crab Age Prediction\"). Для обработки выбран вес крабов."
   ]
  },
  {
   "cell_type": "markdown",
   "id": "c21b208e-ed2d-44e7-be38-6ee82f0294e3",
   "metadata": {
    "tags": []
   },
   "source": [
    "##### 2) Последовательно преобразуем выборку в ранжированный, вариационный и интервальный ряды."
   ]
  },
  {
   "cell_type": "markdown",
   "id": "83e55850-da25-4eea-b027-4aa94e7281bd",
   "metadata": {
    "tags": []
   },
   "source": [
    "###### Ранжированный ряд:"
   ]
  },
  {
   "cell_type": "code",
   "execution_count": 2,
   "id": "d6eca664-a0af-444f-93e7-d9c294989dd2",
   "metadata": {},
   "outputs": [
    {
     "name": "stdout",
     "output_type": "stream",
     "text": [
      "[5.85417175, 6.4353365, 10.0073735, 10.886208, 12.7856245, 12.94154675, 13.50853675, 13.8062065, 15.37960375, 15.3937785, 16.11669075, 16.669506, 16.726205, 17.70426275, 18.01610725, 18.6256215, 18.75319425, 19.57532975, 19.71707725, 20.00057225, 20.22736825, 20.25571775, 21.70154225, 22.97726975, 23.48756075, 23.586784, 23.7852305, 23.81358, 23.926978, 24.79163775, 24.90503575, 24.93338525, 25.1460065, 26.251637, 27.08794725, 27.17299575, 27.34309275, 27.68328675, 28.08017975, 28.44872325, 29.07241225, 29.993771, 30.1355185, 31.00017825, 31.127751, 31.19862475, 31.2694985, 31.6096925, 31.62386725, 31.638042, 32.205032, 32.31843, 32.431828, 33.57998275, 33.92017675, 33.9910505, 34.23202125, 35.11085575, 35.33765175, 35.4652245, 35.777069, 35.81959325, 36.27318525, 36.61337925, 36.81182575, 37.37881575, 38.08755325, 38.08755325, 38.34269875, 39.02308675, 39.179009, 39.19318375, 39.972795, 41.220173, 41.23434775, 42.127357, 42.410852, 43.02036625, 43.318036, 43.87085125, 44.4803655, 44.94813225, 46.13881125, 47.230267, 49.0871593, 58.04560125, 72.4329725]\n"
     ]
    }
   ],
   "source": [
    "print(sorted(weight))"
   ]
  },
  {
   "cell_type": "markdown",
   "id": "b6983303-52ea-4a4a-a06c-58dc91739fcb",
   "metadata": {
    "tags": []
   },
   "source": [
    "###### Вариационный ряд:"
   ]
  },
  {
   "cell_type": "code",
   "execution_count": 3,
   "id": "f37b938c-57d0-44b1-8b57-f75bf3195649",
   "metadata": {},
   "outputs": [
    {
     "name": "stdout",
     "output_type": "stream",
     "text": [
      "yi: [5.85417175, 6.4353365, 10.0073735, 10.886208, 12.7856245, 12.94154675, 13.50853675, 13.8062065, 15.37960375, 15.3937785, 16.11669075, 16.669506, 16.726205, 17.70426275, 18.01610725, 18.6256215, 18.75319425, 19.57532975, 19.71707725, 20.00057225, 20.22736825, 20.25571775, 21.70154225, 22.97726975, 23.48756075, 23.586784, 23.7852305, 23.81358, 23.926978, 24.79163775, 24.90503575, 24.93338525, 25.1460065, 26.251637, 27.08794725, 27.17299575, 27.34309275, 27.68328675, 28.08017975, 28.44872325, 29.07241225, 29.993771, 30.1355185, 31.00017825, 31.127751, 31.19862475, 31.2694985, 31.6096925, 31.62386725, 31.638042, 32.205032, 32.31843, 32.431828, 33.57998275, 33.92017675, 33.9910505, 34.23202125, 35.11085575, 35.33765175, 35.4652245, 35.777069, 35.81959325, 36.27318525, 36.61337925, 36.81182575, 37.37881575, 38.08755325, 38.34269875, 39.02308675, 39.179009, 39.19318375, 39.972795, 41.220173, 41.23434775, 42.127357, 42.410852, 43.02036625, 43.318036, 43.87085125, 44.4803655, 44.94813225, 46.13881125, 47.230267, 49.0871593, 58.04560125, 72.4329725]\n",
      "ni: [1, 1, 1, 1, 1, 1, 1, 1, 1, 1, 1, 1, 1, 1, 1, 1, 1, 1, 1, 1, 1, 1, 1, 1, 1, 1, 1, 1, 1, 1, 1, 1, 1, 1, 1, 1, 1, 1, 1, 1, 1, 1, 1, 1, 1, 1, 1, 1, 1, 1, 1, 1, 1, 1, 1, 1, 1, 1, 1, 1, 1, 1, 1, 1, 1, 1, 2, 1, 1, 1, 1, 1, 1, 1, 1, 1, 1, 1, 1, 1, 1, 1, 1, 1, 1, 1] Сумма = 87\n",
      "pi: [0.0115 0.0115 0.0115 0.0115 0.0115 0.0115 0.0115 0.0115 0.0115 0.0115\n",
      " 0.0115 0.0115 0.0115 0.0115 0.0115 0.0115 0.0115 0.0115 0.0115 0.0115\n",
      " 0.0115 0.0115 0.0115 0.0115 0.0115 0.0115 0.0115 0.0115 0.0115 0.0115\n",
      " 0.0115 0.0115 0.0115 0.0115 0.0115 0.0115 0.0115 0.0115 0.0115 0.0115\n",
      " 0.0115 0.0115 0.0115 0.0115 0.0115 0.0115 0.0115 0.0115 0.0115 0.0115\n",
      " 0.0115 0.0115 0.0115 0.0115 0.0115 0.0115 0.0115 0.0115 0.0115 0.0115\n",
      " 0.0115 0.0115 0.0115 0.0115 0.0115 0.0115 0.023  0.0115 0.0115 0.0115\n",
      " 0.0115 0.0115 0.0115 0.0115 0.0115 0.0115 0.0115 0.0115 0.0115 0.0115\n",
      " 0.0115 0.0115 0.0115 0.0115 0.0115 0.0115] Сумма = 1.0\n"
     ]
    }
   ],
   "source": [
    "yi = sorted(set(weight))\n",
    "print('yi:', yi)\n",
    "ni = [weight.count(i) for i in yi]\n",
    "print('ni:', ni,'Сумма =', sum(ni))\n",
    "pi = [i/n for i in ni]\n",
    "print('pi:', np.round(pi,4),'Сумма =', np.round(sum(pi)))"
   ]
  },
  {
   "cell_type": "markdown",
   "id": "4bdc3f03-72ad-485b-bc57-ed96ad2bb25a",
   "metadata": {},
   "source": [
    "|           |            |           |            |           |            |             |             |            |             |            |             |           |           |             |             |            |             |             |             |             |             |             |             |             |             |           |            |          |           |             |             |             |            |           |             |             |             |             |             |             |             |           |            |             |           |             |            |            |             |           |           |          |           |             |             |            |             |             |             |            |           |             |             |             |             |             |             |             |             |           |             |           |           |             |           |           |             |           |             |            |             |             |           |            |             |            |           |\n",
    "|:---------:|:----------:|:---------:|:----------:|:---------:|:----------:|:-----------:|:-----------:|:----------:|-------------|------------|-------------|-----------|-----------|-------------|-------------|------------|-------------|-------------|-------------|-------------|-------------|-------------|-------------|-------------|-------------|-----------|------------|----------|-----------|-------------|-------------|-------------|------------|-----------|-------------|-------------|-------------|-------------|-------------|-------------|-------------|-----------|------------|-------------|-----------|-------------|------------|------------|-------------|-----------|-----------|----------|-----------|-------------|-------------|------------|-------------|-------------|-------------|------------|-----------|-------------|-------------|-------------|-------------|-------------|-------------|-------------|-------------|-----------|-------------|-----------|-----------|-------------|-----------|-----------|-------------|-----------|-------------|------------|-------------|-------------|-----------|------------|-------------|------------|-----------|\n",
    "| *$y_{i}$* | 5.85417175 | 6.4353365 | 10.0073735 | 10.886208 | 12.7856245 | 12.94154675 | 13.50853675 | 13.8062065 | 15.37960375 | 15.3937785 | 16.11669075 | 16.669506 | 16.726205 | 17.70426275 | 18.01610725 | 18.6256215 | 18.75319425 | 19.57532975 | 19.71707725 | 20.00057225 | 20.22736825 | 20.25571775 | 21.70154225 | 22.97726975 | 23.48756075 | 23.586784 | 23.7852305 | 23.81358 | 23.926978 | 24.79163775 | 24.90503575 | 24.93338525 | 25.1460065 | 26.251637 | 27.08794725 | 27.17299575 | 27.34309275 | 27.68328675 | 28.08017975 | 28.44872325 | 29.07241225 | 29.993771 | 30.1355185 | 31.00017825 | 31.127751 | 31.19862475 | 31.2694985 | 31.6096925 | 31.62386725 | 31.638042 | 32.205032 | 32.31843 | 32.431828 | 33.57998275 | 33.92017675 | 33.9910505 | 34.23202125 | 35.11085575 | 35.33765175 | 35.4652245 | 35.777069 | 35.81959325 | 36.27318525 | 36.61337925 | 36.81182575 | 37.37881575 | 38.08755325 | 38.34269875 | 39.02308675 | 39.179009 | 39.19318375 | 39.972795 | 41.220173 | 41.23434775 | 42.127357 | 42.410852 | 43.02036625 | 43.318036 | 43.87085125 | 44.4803655 | 44.94813225 | 46.13881125 | 47.230267 | 49.0871593 | 58.04560125 | 72.4329725 |           |\n",
    "| *$n_{i}$* |      1     |     1     |      1     |     1     |      1     |      1      |      1      |      1     | 1           | 1          | 1           | 1         | 1         | 1           | 1           | 1          | 1           | 1           | 1           | 1           | 1           | 1           | 1           | 1           | 1           | 1         | 1          | 1        | 1         | 1           | 1           | 1           | 1          | 1         | 1           | 1           | 1           | 1           | 1           | 1           | 1           | 1         | 1          | 1           | 1         | 1           | 1          | 1          | 1           | 1         | 1         | 1        | 1         | 1           | 1           | 1          | 1           | 1           | 1           | 1          | 1         | 1           | 1           | 1           | 1           | 1           | 2           | 1           | 1           | 1         | 1           | 1         | 1         | 1           | 1         | 1         | 1           | 1         | 1           | 1          | 1           | 1           | 1         | 1          | 1           | 1          | $\\sum=87$ |\n",
    "| *$p_{i}$* |   0.0115   |   0.0115  |   0.0115   |   0.0115  |   0.0115   |    0.0115   |    0.0115   |   0.0115   | 0.0115      | 0.0115     | 0.0115      | 0.0115    | 0.0115    | 0.0115      | 0.0115      | 0.0115     | 0.0115      | 0.0115      | 0.0115      | 0.0115      | 0.0115      | 0.0115      | 0.0115      | 0.0115      | 0.0115      | 0.0115    | 0.0115     | 0.0115   | 0.0115    | 0.0115      | 0.0115      | 0.0115      | 0.0115     | 0.0115    | 0.0115      | 0.0115      | 0.0115      | 0.0115      | 0.0115      | 0.0115      | 0.0115      | 0.0115    | 0.0115     | 0.0115      | 0.0115    | 0.0115      | 0.0115     | 0.0115     | 0.0115      | 0.0115    | 0.0115    | 0.0115   | 0.0115    | 0.0115      | 0.0115      | 0.0115     | 0.0115      | 0.0115      | 0.0115      | 0.0115     | 0.0115    | 0.0115      | 0.0115      | 0.0115      | 0.0115      | 0.0115      | 0.023       | 0.0115      | 0.0115      | 0.0115    | 0.0115      | 0.0115    | 0.0115    | 0.0115      | 0.0115    | 0.0115    | 0.0115      | 0.0115    | 0.0115      | 0.0115     | 0.0115      | 0.0115      | 0.0115    | 0.0115     | 0.0115      | 0.0115     | $\\sum=1$  |"
   ]
  },
  {
   "cell_type": "markdown",
   "id": "88cd9e89-44ba-4b36-9fe9-96115e254c4c",
   "metadata": {
    "tags": []
   },
   "source": [
    "###### Интервальный ряд:"
   ]
  },
  {
   "cell_type": "code",
   "execution_count": 4,
   "id": "30461f55-3e70-4fe2-a888-b6695824891a",
   "metadata": {},
   "outputs": [
    {
     "name": "stdout",
     "output_type": "stream",
     "text": [
      "Количество интервалов k = 8\n",
      "Размах выборки R = 66.57880075\n",
      "Длина интервала h = 8.32235009\n",
      "Интервалы: [5.85417175, 14.17652184]\n",
      "(14.17652184, 22.49887194]\n",
      "(22.49887194, 30.82122203]\n",
      "(30.82122203, 39.14357212]\n",
      "(39.14357212, 47.46592222]\n",
      "(47.46592222, 55.78827231]\n",
      "(55.78827231, 64.11062241]\n",
      "(64.11062241, 72.4329725]\n",
      "ni: [8, 15, 20, 27, 14, 1, 1, 1] Сумма = 87\n",
      "pi*: [0.09195402 0.17241379 0.22988506 0.31034483 0.16091954 0.01149425\n",
      " 0.01149425 0.01149425] Сумма = 1.0\n"
     ]
    }
   ],
   "source": [
    "k = int(np.ceil(1 + np.log2(n)))\n",
    "print('Количество интервалов k =', k)\n",
    "R = max(weight)-min(weight)\n",
    "print('Размах выборки R =', R)\n",
    "h = R/k\n",
    "print('Длина интервала h =', round(h,8))\n",
    "y = [0 for i in range(k+1)]\n",
    "y[0] = min(weight)\n",
    "for i in range(1,k+1):\n",
    "    y[i] = min(weight) + i*h\n",
    "print ('Интервалы:', \"[\"+str(round(y[0],8))+\", \"+str(round(y[1],8))+\"]\")\n",
    "for i in range(2,k+1):\n",
    "    print (\"(\"+str(round(y[i-1],8))+\", \"+str(round(y[i],8))+\"]\")\n",
    "ni_int = [0 for i in range(k)]\n",
    "weight_s = sorted(weight)\n",
    "ind = [(max(weight)-weight_s[i])/h for i in range(n)]\n",
    "for i in range(n):\n",
    "    if weight_s[i] == min(weight): ni_int[0] += 1\n",
    "    else: ni_int[int(k-1-np.trunc(ind[i]))] += 1\n",
    "print('ni:', ni_int,'Сумма =', sum(ni_int))\n",
    "pi_int = np.array(ni_int)/n\n",
    "yi_ = [(y[i]+y[i-1])/2 for i in range(1,k+1)]\n",
    "print('pi*:',np.round(pi_int,8),'Сумма =', np.round(sum(pi_int),8))"
   ]
  },
  {
   "cell_type": "markdown",
   "id": "80a8bccb-788d-4a0f-950e-fdac7b57ab21",
   "metadata": {},
   "source": [
    "| $i$ |     $(y_{i-1}, y_{i}]$     | $n_{i}$ | $p_{i}^{*}$ |\n",
    "|:---:|:--------------------------:|:-------:|:-----------:|\n",
    "|  1  |  [5.85417175, 14.17652184] |    8    |  0.09195402 |\n",
    "|  2  | (14.17652184, 22.49887194] |    15   |  0.17241379 |\n",
    "|  3  | (22.49887194, 30.82122203] |    20   |  0.22988506 |\n",
    "|  4  | (30.82122203, 39.14357212] |    27   |  0.31034483 |\n",
    "|  5  | (39.14357212, 47.46592222] |    14   |  0.16091954 |\n",
    "|  6  | (47.46592222, 55.78827231] |    1    |  0.01149425 |\n",
    "|  7  | (55.78827231, 64.11062241] |    1    |  0.01149425 |\n",
    "|  8  |  (64.11062241, 72.4329725] |    1    |  0.01149425 |\n",
    "|     |           $\\sum$           |    87   |      1      |"
   ]
  },
  {
   "cell_type": "markdown",
   "id": "e7dcb098-94bd-441c-892c-4b5641bbcfd4",
   "metadata": {
    "tags": []
   },
   "source": [
    "##### 3) Для интервального ряда абсолютных частот строим и отображаем графически полигон, гистограмму и эмпирическую функцию."
   ]
  },
  {
   "cell_type": "code",
   "execution_count": 5,
   "id": "5b0196c7-5f05-4eb4-9927-3915d12bb284",
   "metadata": {},
   "outputs": [
    {
     "data": {
      "image/png": "[encoded data removed]",
      "text/plain": [
       "<Figure size 576x432 with 1 Axes>"
      ]
     },
     "metadata": {
      "needs_background": "light"
     },
     "output_type": "display_data"
    }
   ],
   "source": [
    "fig, ax = plt.subplots(figsize=(8, 6))\n",
    "plt.plot(yi_,ni_int,'bo-')\n",
    "for i in range(k): plt.plot([yi_[i], yi_[i]], [ni_int[i], 0], 'b--')\n",
    "ax.set_axisbelow(True)\n",
    "ax.set_title('Полигон абсолютных частот')\n",
    "plt.grid(True)\n",
    "plt.show()"
   ]
  },
  {
   "cell_type": "code",
   "execution_count": 6,
   "id": "091e6d92-b155-46a2-8f11-38f3f5fcb5a2",
   "metadata": {},
   "outputs": [
    {
     "data": {
      "image/png": "[encoded data removed]",
      "text/plain": [
       "<Figure size 576x432 with 1 Axes>"
      ]
     },
     "metadata": {
      "needs_background": "light"
     },
     "output_type": "display_data"
    }
   ],
   "source": [
    "fig, ax = plt.subplots(figsize=(8, 6))\n",
    "plt.bar(yi_,np.array(ni_int)/h, width=h, edgecolor='k', color='b')\n",
    "ax.set_axisbelow(True)\n",
    "ax.set_title('Гистограмма абсолютных частот')\n",
    "plt.grid(True)\n",
    "plt.show()"
   ]
  },
  {
   "cell_type": "code",
   "execution_count": 7,
   "id": "585d2bad-8619-432b-aa7f-01fc0a3b5975",
   "metadata": {},
   "outputs": [
    {
     "data": {
      "image/png": "[encoded data removed]",
      "text/plain": [
       "<Figure size 576x432 with 1 Axes>"
      ]
     },
     "metadata": {
      "needs_background": "light"
     },
     "output_type": "display_data"
    }
   ],
   "source": [
    "f = [sum(ni_int[0:i]) for i in range(k+1)]\n",
    "fig, ax = plt.subplots(figsize=(8, 6))\n",
    "for i in range(1,k+1): plt.plot([y[i-1], y[i]], [f[i], f[i]], 'b-')\n",
    "plt.plot([y[0], 0], [f[0], f[0]], 'b-')\n",
    "plt.plot(y[0:k],f[0:k],'bo')\n",
    "ax.set_axisbelow(True)\n",
    "ax.set_title('Эмпирическая функция абсолютных частот')\n",
    "plt.grid(True)\n",
    "plt.show()"
   ]
  },
  {
   "cell_type": "markdown",
   "id": "84160ab2-3284-4c6d-9f8e-ecbed57ef523",
   "metadata": {},
   "source": [
    "По графикам выборка напоминает нормальное распределение."
   ]
  },
  {
   "cell_type": "markdown",
   "id": "2729f34a-0059-4362-b19a-b10448bf5f81",
   "metadata": {
    "tags": []
   },
   "source": [
    "##### 4) Аналогичные действия выполняем для интервального ряда относительных частот."
   ]
  },
  {
   "cell_type": "code",
   "execution_count": 8,
   "id": "70a7e7d1-b41a-49e0-8229-5abf450a8f05",
   "metadata": {},
   "outputs": [
    {
     "data": {
      "image/png": "[encoded data removed]",
      "text/plain": [
       "<Figure size 576x432 with 1 Axes>"
      ]
     },
     "metadata": {
      "needs_background": "light"
     },
     "output_type": "display_data"
    }
   ],
   "source": [
    "fig, ax = plt.subplots(figsize=(8, 6))\n",
    "plt.plot(yi_,pi_int,'bo-')\n",
    "for i in range(k): plt.plot([yi_[i], yi_[i]], [pi_int[i], 0], 'b--')\n",
    "ax.set_axisbelow(True)\n",
    "ax.set_title('Полигон относительных частот')\n",
    "plt.grid(True)\n",
    "plt.show()"
   ]
  },
  {
   "cell_type": "code",
   "execution_count": 9,
   "id": "eb8e4cba-df2b-4ad6-86fd-d4d9a9633618",
   "metadata": {},
   "outputs": [
    {
     "data": {
      "image/png": "[encoded data removed]",
      "text/plain": [
       "<Figure size 576x432 with 1 Axes>"
      ]
     },
     "metadata": {
      "needs_background": "light"
     },
     "output_type": "display_data"
    }
   ],
   "source": [
    "fig, ax = plt.subplots(figsize=(8, 6))\n",
    "plt.bar(yi_,np.array(pi_int)/h, width=h, edgecolor='k', color='b')\n",
    "ax.set_axisbelow(True)\n",
    "ax.set_title('Гистограмма относительных частот')\n",
    "plt.grid(True)\n",
    "plt.show()"
   ]
  },
  {
   "cell_type": "code",
   "execution_count": 10,
   "id": "7287da29-a02d-4a12-ae75-b8e39e84faed",
   "metadata": {},
   "outputs": [
    {
     "data": {
      "image/png": "[encoded data removed]",
      "text/plain": [
       "<Figure size 576x432 with 1 Axes>"
      ]
     },
     "metadata": {
      "needs_background": "light"
     },
     "output_type": "display_data"
    }
   ],
   "source": [
    "F = [sum(pi_int[0:i]) for i in range(k+1)]\n",
    "fig, ax = plt.subplots(figsize=(8, 6))\n",
    "for i in range(1,k+1): plt.plot([y[i-1], y[i]], [F[i], F[i]], 'b-')\n",
    "plt.plot([y[0], 0], [F[0], F[0]], 'b-')\n",
    "plt.plot(y[0:k],F[0:k],'bo')\n",
    "ax.set_axisbelow(True)\n",
    "ax.set_title('Эмпирическая функция относительных частот')\n",
    "plt.grid(True)\n",
    "plt.show()"
   ]
  },
  {
   "cell_type": "markdown",
   "id": "9d5bc06a-0151-4636-838e-0b19b673b960",
   "metadata": {},
   "source": [
    "Видно, что графики из 4) пункта это графики из 3) пункта, сжатые по оси y. По графикам выборка напоминает нормальное распределение."
   ]
  },
  {
   "cell_type": "markdown",
   "id": "19903c5a-5f47-40b9-b2c8-23149360a9e4",
   "metadata": {
    "tags": []
   },
   "source": [
    "##### 5) Для интервального ряда находим середины интервалов, а также накопленные частоты."
   ]
  },
  {
   "cell_type": "code",
   "execution_count": 11,
   "id": "4d97c2c3-773a-44ec-8a72-8bd0603b87e7",
   "metadata": {},
   "outputs": [
    {
     "name": "stdout",
     "output_type": "stream",
     "text": [
      "~yi: [10.015346796874999, 18.337696890624997, 26.660046984375, 34.982397078125, 43.304747171875, 51.627097265625, 59.949447359375, 68.271797453125]\n",
      "niΣ: [8, 23, 43, 70, 84, 85, 86, 87] Сумма 486\n",
      "piΣ: [0.092 0.264 0.494 0.805 0.966 0.977 0.989 1.   ] Сумма 5.586\n"
     ]
    }
   ],
   "source": [
    "yi_ = [(y[i]+y[i-1])/2 for i in range(1,k+1)]\n",
    "print('~yi:', yi_)\n",
    "niΣ = [sum(ni_int[0:i]) for i in range(1,k+1)]\n",
    "print('niΣ:', niΣ, 'Сумма', sum(niΣ))\n",
    "piΣ = np.array(niΣ)/n\n",
    "print('piΣ:',np.round(piΣ,3), 'Сумма', np.round(sum(piΣ),3))"
   ]
  },
  {
   "cell_type": "markdown",
   "id": "481dd7d2-01a0-40ef-bf02-430cbf7ebd18",
   "metadata": {},
   "source": [
    "| $i$ |     $(y_{i-1}, y_{i}]$     |  $\\bar y_i$ | $n_{i}$ | $p_{i}^{*}$ | $n$$^Σ_i$ |   $p^Σ_i$  |\n",
    "|:---:|:--------------------------:|:-----------:|:-------:|:-----------:|:---------:|:----------:|\n",
    "|  1  |  [5.85417175, 14.17652184] |  10.0153468 |    8    |  0.09195402 |     8     | 0.09195402 |\n",
    "|  2  | (14.17652184, 22.49887194] | 18.33769689 |    15   |  0.17241379 |     23    | 0.26436782 |\n",
    "|  3  | (22.49887194, 30.82122203] | 26.66004698 |    20   |  0.22988506 |     43    | 0.49425287 |\n",
    "|  4  | (30.82122203, 39.14357212] | 34.98239708 |    27   |  0.31034483 |     70    |  0.8045977 |\n",
    "|  5  | (39.14357212, 47.46592222] | 43.30474717 |    14   |  0.16091954 |     84    | 0.96551724 |\n",
    "|  6  | (47.46592222, 55.78827231] | 51.62709727 |    1    |  0.01149425 |     85    | 0.97701149 |\n",
    "|  7  | (55.78827231, 64.11062241] | 59.94944736 |    1    |  0.01149425 |     86    | 0.98850575 |\n",
    "|  8  |  (64.11062241, 72.4329725] | 68.27179745 |    1    |  0.01149425 |     87    |     1.0    |\n",
    "|     |                            |    $\\sum$   |    87   |      1      |     −     |      −     |"
   ]
  },
  {
   "cell_type": "markdown",
   "id": "531b8396-3e36-4d98-bfde-54c9ab068f76",
   "metadata": {
    "tags": []
   },
   "source": [
    "##### 6) Для полученных вариант вычисляем условные варианты."
   ]
  },
  {
   "cell_type": "code",
   "execution_count": 12,
   "id": "2aa4fc86-ab31-4622-abac-d436775fd03e",
   "metadata": {},
   "outputs": [
    {
     "name": "stdout",
     "output_type": "stream",
     "text": [
      "ni: [8, 15, 20, 27, 14, 1, 1, 1] Сумма = 87\n",
      "ui: [-3 -2 -1  0  1  2  3  4] \n",
      "(ui*ni)^j, j = (1,...,4):\n",
      "[[ -24  -30  -20    0   14    2    3    4]\n",
      " [  72   60   20    0   14    4    9   16]\n",
      " [-216 -120  -20    0   14    8   27   64]\n",
      " [ 648  240   20    0   14   16   81  256]\n",
      " [ 128   15    0   27  224   81  256  625]]\n",
      "Суммы = [ -51  195 -243 1275 1356]\n"
     ]
    }
   ],
   "source": [
    "ui = [i - 4 for i in range(1,k+1)]\n",
    "print('ni:', ni_int,'Сумма =', sum(ni_int))\n",
    "print('ui:',np.array(ui), '\\n(ui*ni)^j, j = (1,...,4):')\n",
    "niui = [[ni_int[i]*(ui[i]**j) for i in range(k)] for j in range(1,5)]\n",
    "niui.append([ni_int[i]*((1+ui[i])**4) for i in range(k)])\n",
    "print(np.array(niui))\n",
    "Σ = np.array([sum(i) for i in niui])\n",
    "print('Суммы =',Σ)"
   ]
  },
  {
   "cell_type": "markdown",
   "id": "1bebaa14-c8ae-46bd-906b-40fceaf0f20f",
   "metadata": {},
   "source": [
    "| $i$ |    $y_i$    | $n_{i}$ | $u$$_i$ | $n_i$$u_i$ | \\begin{equation}n_iu^2_i\\end{equation} | $n_iu$$_i^3$ | $n_iu_i^4$ | \\begin{equation}n_i(u_i+1)^4\\end{equation} |\n",
    "|:---:|:-----------:|:-------:|:-------:|:--------:|:--------------------------------------:|:------------:|------------|--------------------------------------------|\n",
    "|  1  |  10.0153468 |    8    |    -3   |    -24   |                   72                   |     -216     | 648        | 128                                        |\n",
    "|  2  | 18.33769689 |    15   |    -2   |    -30   |                   60                   |     -120     | 240        | 15                                         |\n",
    "|  3  | 26.66004698 |    20   |    -1   |    -20   |                   20                   |      -20     | 20         | 0                                          |\n",
    "|  4  | 34.98239708 |    27   |    0    |     0    |                    0                   |       0      | 0          | 27                                         |\n",
    "|  5  | 43.30474717 |    14   |    1    |    14    |                   14                   |      14      | 14         | 224                                        |\n",
    "|  6  | 51.62709727 |    1    |    2    |     2    |                    4                   |       8      | 16         | 81                                         |\n",
    "|  7  | 59.94944736 |    1    |    3    |     3    |                    9                   |      27      | 81         | 256                                        |\n",
    "|  8  | 68.27179745 |    1    |    4    |     4    |                   16                   |      64      | 256        | 625                                        |\n",
    "|     |    $\\sum$   |    87   |    -    |    -51   |                   195                  |     -243     | 1275       | 1356                                       |"
   ]
  },
  {
   "cell_type": "code",
   "execution_count": 13,
   "id": "7d90ff96-d312-4f2f-b4e6-8132e9db6d05",
   "metadata": {},
   "outputs": [
    {
     "name": "stdout",
     "output_type": "stream",
     "text": [
      "Проконтролируем корректность вычислений: 4*Σ[0]+6*Σ[1]+4*Σ[2]+Σ[3]+n = 1356 \n",
      "Сумма Σ[4] =  1356\n"
     ]
    }
   ],
   "source": [
    "print('Проконтролируем корректность вычислений: 4*Σ[0]+6*Σ[1]+4*Σ[2]+Σ[3]+n =', 4*Σ[0]+6*Σ[1]+4*Σ[2]+Σ[3]+n, '\\nСумма Σ[4] = ', Σ[4])"
   ]
  },
  {
   "cell_type": "markdown",
   "id": "4038d528-4a14-4105-b5b1-bc5b9d09ce13",
   "metadata": {},
   "source": [
    "Значения совпадают, значит вычисления верные."
   ]
  },
  {
   "cell_type": "markdown",
   "id": "16db0693-8364-42b3-9557-741fb5d5ac33",
   "metadata": {
    "tags": []
   },
   "source": [
    "##### 7) Вычисляем условные эмпирические моменты $\\nu_{i}^{*}$ через условные варианты. С помощью условных эмпирических моментов вычисляем центральные эмпирические моменты $\\mu_{i}^{*}$."
   ]
  },
  {
   "cell_type": "code",
   "execution_count": 14,
   "id": "09aa8cf5-108c-4e34-a285-a638d623d2e5",
   "metadata": {},
   "outputs": [
    {
     "name": "stdout",
     "output_type": "stream",
     "text": [
      "nui: [-0.5862069   2.24137931 -2.79310345 14.65517241] \n",
      "mui: [    0.           131.4403944    429.86184201 59354.78972634]\n"
     ]
    }
   ],
   "source": [
    "nui = Σ[0:4]/n\n",
    "mui = [0, (nui[1]-nui[0]**2)*(h**2),\n",
    "       (nui[2]-3*nui[0]*nui[1]+2*(nui[0]**3))*(h**3),\n",
    "       (nui[3]-4*nui[0]*nui[2]+6*(nui[0]**2)*nui[1]-3*(nui[0]**4))*(h**4)]\n",
    "print('nui:', np.round(nui,8), '\\nmui:', np.round(mui,8))"
   ]
  },
  {
   "cell_type": "markdown",
   "id": "0e6dc06b-040e-40ff-9c38-6b365500c9c9",
   "metadata": {},
   "source": [
    "| $i$ | $\\nu_{i}^{*}$ |  $\\mu_{i}^{*}$ |\n",
    "|:---:|:-------------:|:--------------:|\n",
    "|  1  |   -0.5862069  |        0       |\n",
    "|  2  |   2.24137931  |   131.4403944  |\n",
    "|  3  |  -2.79310345  |  429.86184201  |\n",
    "|  4  |  14.65517241  | 59354.78972634 |"
   ]
  },
  {
   "cell_type": "markdown",
   "id": "4a2c409a-884e-4ba8-86f0-46c87f2dfd50",
   "metadata": {
    "tags": []
   },
   "source": [
    "##### 8) Вычисляем выборочные среднее и дисперсию с помощью стандартной формулы и с помощью условных вариант."
   ]
  },
  {
   "cell_type": "markdown",
   "id": "66c43cb6-eac4-4a2c-b3e6-9def3f63ed99",
   "metadata": {},
   "source": [
    "По стандартной формуле:"
   ]
  },
  {
   "cell_type": "code",
   "execution_count": 15,
   "id": "635a9a75-73e6-41e2-90fd-047a3e66b726",
   "metadata": {},
   "outputs": [
    {
     "name": "stdout",
     "output_type": "stream",
     "text": [
      "yв = 30.10377806 s = 131.4403944\n"
     ]
    }
   ],
   "source": [
    "yv = sum(np.array(yi_)*np.array(ni_int))/n\n",
    "D = sum(((np.array(yi_)-yv)**2)*np.array(ni_int))/n\n",
    "print('yв =', np.round(yv,8), 's =', np.round(D,8))"
   ]
  },
  {
   "cell_type": "markdown",
   "id": "b5e0d0c9-8c3d-4902-8b97-4d501cc262f6",
   "metadata": {},
   "source": [
    "Вычисленные с помощью условных вариант:"
   ]
  },
  {
   "cell_type": "code",
   "execution_count": 16,
   "id": "201b0080-dfe2-4d17-bca6-298bbfe5eec4",
   "metadata": {},
   "outputs": [
    {
     "name": "stdout",
     "output_type": "stream",
     "text": [
      "yв = 30.10377806 s = 131.4403944\n"
     ]
    }
   ],
   "source": [
    "yv = h*nui[0]+yi_[3]\n",
    "D = mui[1]\n",
    "print('yв =', np.round(yv,8), 's =', np.round(D,8))"
   ]
  },
  {
   "cell_type": "markdown",
   "id": "cff2ac22-984b-4030-8290-337d2fc06ad5",
   "metadata": {},
   "source": [
    "Результаты совпадают."
   ]
  },
  {
   "cell_type": "markdown",
   "id": "e07071ed-81ed-4565-920c-9eeffc074bac",
   "metadata": {
    "tags": []
   },
   "source": [
    "##### 9) Вычисляем исправленную выборочную дисперсию и исправленное СКО. Сравниваем данные оценки с смещёнными оценками дисперсии и СКО."
   ]
  },
  {
   "cell_type": "code",
   "execution_count": 17,
   "id": "ae23e27e-f3bc-4a85-996b-2004b8e59e47",
   "metadata": {},
   "outputs": [
    {
     "name": "stdout",
     "output_type": "stream",
     "text": [
      "Исправленная выборочная дисперсия = 132.96877108 Исправленное СКО = 11.53120857\n"
     ]
    }
   ],
   "source": [
    "s2 = D*n/(n-1)\n",
    "s = s2**0.5\n",
    "print('Исправленная выборочная дисперсия =', np.round(s2,8), 'Исправленное СКО =', np.round(s,8))"
   ]
  },
  {
   "cell_type": "markdown",
   "id": "eefce7d9-bf33-49e6-8b36-0953e126783d",
   "metadata": {},
   "source": [
    "Отношение исправленных оценок дисперсии и СКО к смещённым:"
   ]
  },
  {
   "cell_type": "code",
   "execution_count": 18,
   "id": "32bda8e1-2d55-4b60-be3b-64d1c18fa3e9",
   "metadata": {},
   "outputs": [
    {
     "name": "stdout",
     "output_type": "stream",
     "text": [
      "Дисперсия: 1.01162791 СКО: 1.00579715\n"
     ]
    }
   ],
   "source": [
    "print('Дисперсия:', np.round(s2/D,8),'СКО:', np.round(s/(D**0.5),8))"
   ]
  },
  {
   "cell_type": "markdown",
   "id": "745eb3a0-9d7a-432c-8101-6eb1f92a5214",
   "metadata": {
    "tags": []
   },
   "source": [
    "##### 10) Находим статистическую оценку коэффициентов асимметрии и эксцесса."
   ]
  },
  {
   "cell_type": "markdown",
   "id": "b3bf3fef-cbf9-485d-a0fb-3af4df40c515",
   "metadata": {},
   "source": [
    "Cтатистическая оценка коэффициентов асимметрии и эксцесса:"
   ]
  },
  {
   "cell_type": "code",
   "execution_count": 19,
   "id": "0c5d7f4a-e8e9-4fac-b3fb-e7e92b1e4dd8",
   "metadata": {},
   "outputs": [
    {
     "name": "stdout",
     "output_type": "stream",
     "text": [
      "Коэффициент асимметрии: 0.28525654 Коэффициент эксцесса: 0.43556416\n"
     ]
    }
   ],
   "source": [
    "asy = mui[2]/(D**1.5)\n",
    "ek = mui[3]/(D**2)-3\n",
    "print('Коэффициент асимметрии:', np.round(asy,8),'Коэффициент эксцесса:',np.round(ek,8))"
   ]
  },
  {
   "cell_type": "markdown",
   "id": "ba990c40-faff-4eee-ba45-5b048a72f7ca",
   "metadata": {},
   "source": [
    "Коэффициент асимметрии больше 0, значит часть кривой расположена справа от моды.\n",
    "\n",
    "Коэффициент эксцесса больше 0, значит вершина кривой по сравнению с нормальным распределением вытянута вверх."
   ]
  },
  {
   "cell_type": "markdown",
   "id": "3873a8c2-1a2e-4bff-82f7-fad267eb1a20",
   "metadata": {
    "tags": []
   },
   "source": [
    "##### 11) Вычисляем моду, медиану и коэффициент вариации для заданного распределения."
   ]
  },
  {
   "cell_type": "code",
   "execution_count": 20,
   "id": "d859e48e-7fcd-4a69-875e-1f54d273c377",
   "metadata": {},
   "outputs": [
    {
     "name": "stdout",
     "output_type": "stream",
     "text": [
      "Мода 43.30474717\n",
      "Медиана 33.8727504\n",
      "Коэффициент вариации 38.08407601\n"
     ]
    }
   ],
   "source": [
    "Mo = y[1] + h*(ni_int[1]-ni_int[0])/((ni_int[1]-ni_int[0])+(ni_int[1]-ni_int[2]))\n",
    "print('Мода', round(Mo,8))\n",
    "Me = y[1] + h*(0.5-pi_int[0])/pi_int[1]\n",
    "print('Медиана', round(Me,8))\n",
    "v = (D**0.5)/yv*100\n",
    "print('Коэффициент вариации', round(v,8))"
   ]
  },
  {
   "cell_type": "markdown",
   "id": "981392cc-fdb3-451c-b283-0ec70800b970",
   "metadata": {},
   "source": [
    "Медиана приходится на середину ряда наблюдений. Мода заключена в интервале с наибольшей частотой (в 4). Коэффициент вариации показывает то, что, относительно изучаемого признака, совокупность неоднородна."
   ]
  },
  {
   "cell_type": "markdown",
   "id": "81396207-5b8c-4e5a-87aa-3b7dca7cc442",
   "metadata": {
    "tags": []
   },
   "source": [
    "##### 12) Вычисляем точность и доверительный интервал для математического ожидания при неизвестном среднеквадратичном отклонении при заданном объёме выборки для доверительной точности $\\gamma \\in \\{0.95, 0.99\\}$."
   ]
  },
  {
   "cell_type": "markdown",
   "id": "b01325b8-ce09-4d66-ae96-22d68bf05872",
   "metadata": {},
   "source": [
    "Для доверительной точности 0,95:"
   ]
  },
  {
   "cell_type": "code",
   "execution_count": 21,
   "id": "9106aed4-b710-450c-a079-e0917cd72c76",
   "metadata": {},
   "outputs": [
    {
     "name": "stdout",
     "output_type": "stream",
     "text": [
      "Точность 2.4572311\n",
      "Доверительный интервал для математического ожидания (27.64654696, 32.56100915)\n"
     ]
    }
   ],
   "source": [
    "delta1 = 1.9876083*s/(n**0.5)\n",
    "l1 = yv - delta1\n",
    "r1 = yv + delta1\n",
    "print ('Точность', round(delta1,8))\n",
    "print('Доверительный интервал для математического ожидания',\"(\"+str(round(l1,8))+\", \"+str(round(r1,8))+\")\")"
   ]
  },
  {
   "cell_type": "markdown",
   "id": "0d0f71ba-f024-4ee2-881f-0d7a4a4874fc",
   "metadata": {},
   "source": [
    "Для доверительной точности 0,99:"
   ]
  },
  {
   "cell_type": "code",
   "execution_count": 22,
   "id": "b8c1a73c-67c7-4c58-a281-395a98f393f7",
   "metadata": {},
   "outputs": [
    {
     "name": "stdout",
     "output_type": "stream",
     "text": [
      "Точность 3.25576469\n",
      "Доверительный интервал для математического ожидания (26.84801336, 33.35954275)\n"
     ]
    }
   ],
   "source": [
    "delta2 = 2.6335272*s/(n**0.5)\n",
    "l2 = yv - delta2\n",
    "r2 = yv + delta2\n",
    "print ('Точность', round(delta2,8))\n",
    "print('Доверительный интервал для математического ожидания',\"(\"+str(round(l2,8))+\", \"+str(round(r2,8))+\")\")"
   ]
  },
  {
   "cell_type": "markdown",
   "id": "244c492d-348d-4c26-8e0d-52f419bb7a02",
   "metadata": {
    "tags": []
   },
   "source": [
    "##### 13) Для вычисления границ доверительного интервала для среднеквадратичного отклонения определяем значение $q$ при заданных $\\gamma$ и $n$. Строим доверительные интервалы."
   ]
  },
  {
   "cell_type": "markdown",
   "id": "0fc73a14-2ae6-498c-b8f1-41a950d764a1",
   "metadata": {},
   "source": [
    "Для доверительной точности 0,95:"
   ]
  },
  {
   "cell_type": "code",
   "execution_count": 23,
   "id": "4d97903a-dbae-49bb-8865-ad9dcf76bbef",
   "metadata": {},
   "outputs": [
    {
     "name": "stdout",
     "output_type": "stream",
     "text": [
      "Доверительный интервал для среднеквадратичного отклонения (9.75540245, 13.30701469)\n"
     ]
    }
   ],
   "source": [
    "q1 = 0.154\n",
    "print ('Доверительный интервал для среднеквадратичного отклонения',\"(\"+str(round(s*(1-q1),8))+\", \"+str(round(s*(1+q1),8))+\")\")"
   ]
  },
  {
   "cell_type": "markdown",
   "id": "4571239f-b647-4a73-bf8f-3d381ab48e8e",
   "metadata": {},
   "source": [
    "Для доверительной точности 0,99:"
   ]
  },
  {
   "cell_type": "code",
   "execution_count": 24,
   "id": "e3ac557d-c4ae-4ac4-90aa-e035b4e6b446",
   "metadata": {},
   "outputs": [
    {
     "name": "stdout",
     "output_type": "stream",
     "text": [
      "Доверительный интервал для среднеквадратичного отклонения (9.029, 14.033)\n"
     ]
    }
   ],
   "source": [
    "q2 = 0.217\n",
    "print ('Доверительный интервал для среднеквадратичного отклонения',\"(\"+str(round(s*(1-q2),3))+\", \"+str(round(s*(1+q2),3))+\")\")"
   ]
  },
  {
   "cell_type": "markdown",
   "id": "c416bb91-94e9-4684-8089-b325a5b8652e",
   "metadata": {},
   "source": [
    "Исправленное и смещённое CКО:"
   ]
  },
  {
   "cell_type": "code",
   "execution_count": 25,
   "id": "2ef04889-ce10-4c1b-b5c2-5f726781a0a9",
   "metadata": {},
   "outputs": [
    {
     "name": "stdout",
     "output_type": "stream",
     "text": [
      "11.46474572 11.53120857\n"
     ]
    }
   ],
   "source": [
    "print (round(D**0.5,8), round(s,8))"
   ]
  },
  {
   "cell_type": "markdown",
   "id": "baca9e9d-4724-4f58-be17-172730cf3c12",
   "metadata": {},
   "source": [
    "Видим, что исправленное и смещённое CКО попадают в оба доверительных интервала. Значит вычисления сделаны верно."
   ]
  },
  {
   "cell_type": "markdown",
   "id": "4026b71b-d90e-4bba-beb8-3d92dbe1b9da",
   "metadata": {},
   "source": [
    "##### 14) Проверяем гипотезу о нормальности заданного распределения с помощью критерия $\\chi^2$ (Пирсона). Для этого находим теоретические частоты и вычисляем наблюдаемое значение критерия. Для удобства вычисления заполняем расчётную таблицу."
   ]
  },
  {
   "cell_type": "code",
   "execution_count": 26,
   "id": "42ab1e11-7832-45b8-9782-edbae49b62fe",
   "metadata": {},
   "outputs": [
    {
     "name": "stdout",
     "output_type": "stream",
     "text": [
      "pi: [0.082 0.171 0.271 0.26  0.15  0.052 0.011 0.001] Сумма = 1.0\n",
      "n'i: [ 7.167 14.893 23.611 22.607 13.071  4.561  0.959  0.121] Сумма = 87\n",
      "(n'i - ni)^2: [ 0.694  0.012 13.038 19.303  0.863 12.682  0.002  0.772]\n",
      "(n'i - ni)^2/n'i: [0.097 0.001 0.552 0.854 0.066 2.78  0.002 6.354] hi^2 наблюдаемое = 10.70536432\n",
      "n^{2}i: [64, 225, 400, 729, 196, 1, 1, 1]\n",
      "n^{2}i/n'i: [ 8.93  15.108 16.941 32.247 14.995  0.219  1.042  8.232] Сумма = 97.71503872\n",
      "Проконтролируем корректность вычислений: Σ(n'i - ni)^2/n'i = 10.70536432 \n",
      "Σ(n^{2}i/n'i) - n = 10.71503872\n",
      "Вычисления верны\n",
      "Число степеней свободы = 5\n"
     ]
    }
   ],
   "source": [
    "f = [(i-yv)/(D**0.5) for i in y]\n",
    "gauss = [-0.5, -0.41761975, -0.24644028, 0.02494883, 0.28479382, 0.43503705, 0.48746434, 0.49849253, 0.49988880, 0.5]\n",
    "pi_t = [gauss[i]-gauss[i-1] for i in range(1,k+1)]\n",
    "print('pi:',np.round(pi_t,3),'Сумма =',round(sum(pi_t),3))\n",
    "ni_s = [i*n for i in pi_t]\n",
    "print('n\\'i:',np.round(ni_s,3),'Сумма =',round(sum(ni_s)))\n",
    "ni_ni_s2 = [(ni_int[i] - ni_s[i])**2 for i in range(k)]\n",
    "np.set_printoptions(suppress=True)\n",
    "print('(n\\'i - ni)^2:', np.round(ni_ni_s2,3))\n",
    "ni_ni_s2_ni_s = [ni_ni_s2[i]/ni_s[i] for i in range(k)]\n",
    "hi_nabl = sum(ni_ni_s2_ni_s)\n",
    "print('(n\\'i - ni)^2/n\\'i:',np.round(ni_ni_s2_ni_s,3),'hi^2 наблюдаемое =',round(hi_nabl,8))\n",
    "ni2 = [i**2 for i in ni_int]\n",
    "print('n^{2}i:',ni2)\n",
    "ni2_ni_s2 = [ni2[i]/ni_s[i] for i in range(k)]\n",
    "print('n^{2}i/n\\'i:',np.round(ni2_ni_s2,3),'Сумма =', round(sum(ni2_ni_s2),8))\n",
    "print('Проконтролируем корректность вычислений: Σ(n\\'i - ni)^2/n\\'i =', round(sum(ni_ni_s2_ni_s),8), '\\nΣ(n^{2}i/n\\'i) - n =', round(sum(ni2_ni_s2)-n,8))\n",
    "print('Вычисления верны')\n",
    "df = k - 2 - 1\n",
    "print('Число степеней свободы =', df)"
   ]
  },
  {
   "cell_type": "markdown",
   "id": "b72339ae-d2e4-4c18-9014-eba4ad36063b",
   "metadata": {},
   "source": [
    "| $i$ | \\begin{equation}(y_{i-1}, y_{i}]\\end{equation} | \\begin{equation}n_i\\end{equation} | \\begin{equation}p_i\\end{equation} | \\begin{equation}n_i^{'}\\end{equation} | \\begin{equation}(n_i-n_i^{'})^2\\end{equation} | \\begin{equation}\\frac{(n_i-n_i^{'})^2}{n_i^{'}}\\end{equation} | \\begin{equation}n_i^{2}\\end{equation} | \\begin{equation}\\frac{n_i^{2}}{n_i^{'}}\\end{equation} |\n",
    "|:---:|:----------------------------------------------:|:---------------------------------:|:---------------------------------:|:-------------------------------------:|:---------------------------------------------:|:-------------------------------------------------------------:|:-------------------------------------:|:-----------------------------------------------------:|\n",
    "|  1  |            ($-\\infty$, 14.17652184]            |                 8                 |             0.08238025            |               7.16708175              |                   0.69375281                  |                           0.09679711                          |                   64                  |                       8.92971536                      |\n",
    "|  2  |           (14.17652184, 22.49887194]           |                 15                |             0.17117947            |              14.89261389              |                   0.01153178                  |                           0.00077433                          |                  225                  |                      15.10816044                      |\n",
    "|  3  |           (22.49887194, 30.82122203]           |                 20                |             0.27138911            |              23.61085257              |                  13.03825628                  |                           0.55221455                          |                  400                  |                      16.94136198                      |\n",
    "|  4  |           (30.82122203, 39.14357212]           |                 27                |             0.25984499            |              22.60651413              |                  19.30271809                  |                           0.85385646                          |                  729                  |                      32.24734233                      |\n",
    "|  5  |           (39.14357212, 47.46592222]           |                 14                |             0.15024323            |              13.07116101              |                   0.86274187                  |                           0.06600346                          |                  196                  |                      14.99484245                      |\n",
    "|  6  |           (47.46592222, 55.78827231]           |                 1                 |             0.05242729            |               4.56117423              |                   12.6819619                  |                           2.78041602                          |                   1                   |                       0.21924179                      |\n",
    "|  7  |           (55.78827231, 64.11062241]           |                 1                 |             0.01102819            |               0.95945253              |                   0.0016441                   |                           0.00171358                          |                   1                   |                       1.04226105                      |\n",
    "|  8  |             (64.11062241, $\\infty$)            |                 1                 |             0.00139627            |               0.12147549              |                   0.77180531                  |                           6.35358882                          |                   1                   |                       8.23211333                      |\n",
    "|     |                     $\\sum$                     |                 87                |                 1                 |                   87                  |                       -                       |                          10.70536432                          |                   -                   |                      97.71503872                      |"
   ]
  },
  {
   "cell_type": "markdown",
   "id": "7305790f-4b59-407b-9951-f212dbca0a3f",
   "metadata": {},
   "source": [
    "По таблице $\\chi^2(0,05;5)$ критическое = 11.07.\n",
    "\n",
    "$\\chi^2$крит > $\\chi^2$набл, значит принимаем гипотезу о нормальности заданного распределения."
   ]
  },
  {
   "cell_type": "markdown",
   "id": "60fcbd6e-3177-4a05-8fb1-a670848eb0bb",
   "metadata": {},
   "source": [
    "##### 15) Оформляем результаты обработки второго параметра выборки в виде таблиц."
   ]
  },
  {
   "cell_type": "markdown",
   "id": "5696283c-391c-4dde-a3ac-b551d82b24f5",
   "metadata": {},
   "source": [
    "| $i$ |     $(y_{i-1}, y_{i}]$     |  $\\bar y_i$ | $n_{i}$ | $p_{i}^{*}$ | $n$$^Σ_i$ |   $p^Σ_i$  |\n",
    "|:---:|:--------------------------:|:-----------:|:-------:|:-----------:|:---------:|:----------:|\n",
    "|  1  |  [5.85417175, 14.17652184] |  10.0153468 |    8    |  0.09195402 |     8     | 0.09195402 |\n",
    "|  2  | (14.17652184, 22.49887194] | 18.33769689 |    15   |  0.17241379 |     23    | 0.26436782 |\n",
    "|  3  | (22.49887194, 30.82122203] | 26.66004698 |    20   |  0.22988506 |     43    | 0.49425287 |\n",
    "|  4  | (30.82122203, 39.14357212] | 34.98239708 |    27   |  0.31034483 |     70    |  0.8045977 |\n",
    "|  5  | (39.14357212, 47.46592222] | 43.30474717 |    14   |  0.16091954 |     84    | 0.96551724 |\n",
    "|  6  | (47.46592222, 55.78827231] | 51.62709727 |    1    |  0.01149425 |     85    | 0.97701149 |\n",
    "|  7  | (55.78827231, 64.11062241] | 59.94944736 |    1    |  0.01149425 |     86    | 0.98850575 |\n",
    "|  8  |  (64.11062241, 72.4329725] | 68.27179745 |    1    |  0.01149425 |     87    |     1.0    |\n",
    "|     |                            |    $\\sum$   |    87   |      1      |     −     |      −     |"
   ]
  },
  {
   "cell_type": "markdown",
   "id": "e5062f9e-ee98-47be-9d30-438a4c53c7d6",
   "metadata": {},
   "source": [
    "|                |                |                  |              |              |             |             |                       |             |            |             |\n",
    "|:--------------:|:--------------:|:----------------:|:------------:|:------------:|:-----------:|:-----------:|:---------------------:|:-----------:|:----------:|:-----------:|\n",
    "| Характеристика | $\\bar y_\\beta$ | $\\sigma_{y}^{2}$ | $\\sigma_{y}$ |  $s_{y}^{2}$ |   $s_{y}$   | $a_{s}^{*}$ | $\\varepsilon_{k}^{*}$ |   $M_o^*$   |   $M_e^*$  |    $V^*$    |\n",
    "|    Значение    |   30.10377806  |    131.4403944   |  11.46474572 | 132.96877108 | 11.53120857 |  0.28525654 |       0.43556416      | 43.30474717 | 33.8727504 | 38.08407601 |"
   ]
  },
  {
   "cell_type": "markdown",
   "id": "72870ffd-d9fa-467e-8d74-a0ad633bb2ec",
   "metadata": {},
   "source": [
    "##### 16) Для удобства оформляем результаты обработки первого параметра выборки в виде таблиц."
   ]
  },
  {
   "cell_type": "markdown",
   "id": "763df0f2-e6fe-433c-81f8-9c13a3d92b0f",
   "metadata": {},
   "source": [
    "|$i$| $(x_{i-1}, x_i]$ | $\\bar x_i$ | $n_i$ | $p^*_i$ | $n$$^Σ_i$ | $p^Σ_i$ |\n",
    "|:-:|:----------------:|:----------:|:-----:|:-------:|:-------:|:-------:|\n",
    "| 1 |    [7, 8.625]    |   7.8125   |   14  |  0.161  |    14   |  0.161  |\n",
    "| 2 |  (8.625, 10.25]  |   9.4375   |   35  |  0.402  |    49   |  0.563  |\n",
    "| 3 |  (10.25, 11.875] |   11.0625  |   15  |  0.172  |    64   |  0.736  |\n",
    "| 4 |  (11.875, 13.5]  |   12.6875  |   9   |  0.103  |    73   |  0.839  |\n",
    "| 5 |  (13.5, 15.125]  |   14.3125  |   9   |  0.103  |    82   |  0.943  |\n",
    "| 6 |  (15.125, 16.75] |   15.9375  |   2   |  0.023  |    84   |  0.966  |\n",
    "| 7 |  (16.75, 18.375] |   17.5625  |   2   |  0.023  |    86   |  0.989  |\n",
    "| 8 |  (18.375, 20.0]  |   19.1875  |   1   |  0.011  |    87   |    1    |\n",
    "|   |                  |   $\\sum$   |   87  |    1    |    −    |    −    |"
   ]
  },
  {
   "cell_type": "markdown",
   "id": "7a091552-25d3-4223-8afa-cb019ff0dc9f",
   "metadata": {},
   "source": [
    "|                |                |                  |              |             |         |             |                       |         |         |        |\n",
    "|:--------------:|:--------------:|:----------------:|:------------:|:-----------:|:-------:|:-----------:|:---------------------:|:-------:|:-------:|:------:|\n",
    "| Характеристика | $\\bar x_\\beta$ | $\\sigma_{x}^{2}$ | $\\sigma_{x}$ | $s_{x}^{2}$ | $s_{x}$ | $a_{s}^{*}$ | $\\varepsilon_{k}^{*}$ | $M_o^*$ | $M_e^*$ |  $V^*$ |\n",
    "|    Значение    |     10.745     |       6.303      |     2.511    |    6.377    |  2.525  |    1.133    |         0.928         |  9.457  |  9.995  | 23.366 |"
   ]
  },
  {
   "cell_type": "markdown",
   "id": "6f15b0f0-9fbf-4386-a8d8-3c40079606e0",
   "metadata": {
    "tags": []
   },
   "source": [
    "#### 2. Построить двумерный интервальный вариационный ряд, оформить в виде таблицы."
   ]
  },
  {
   "cell_type": "code",
   "execution_count": 27,
   "id": "5fadba7d-407f-43f5-93f1-2d3cc3e81691",
   "metadata": {},
   "outputs": [
    {
     "name": "stdout",
     "output_type": "stream",
     "text": [
      "[3 2 1 2 0 0 0 0] 8\n",
      "[2 8 0 2 3 0 0 0] 15\n",
      "[6 7 2 3 1 0 1 0] 20\n",
      "[ 2 13  5  1  4  1  0  1] 27\n",
      "[1 5 5 1 0 1 1 0] 14\n",
      "[0 0 1 0 0 0 0 0] 1\n",
      "[0 0 0 0 1 0 0 0] 1\n",
      "[0 0 1 0 0 0 0 0] 1\n",
      "14 35 15 9 9 2 2 1 n = 87\n"
     ]
    }
   ],
   "source": [
    "nij = np.zeros((k, k), dtype=int)\n",
    "k_age = int(np.ceil(1 + np.log2(n)))\n",
    "R_age = max(age)-min(age)\n",
    "h_age = R_age/k_age\n",
    "ind_age = [(max(age)-age[i])/h_age for i in range(n)]\n",
    "ind_weight = [(max(weight)-weight[i])/h for i in range(n)]\n",
    "for i in range(n):\n",
    "    if age[i] == min(age):\n",
    "        if weight[i] == min(weight): nij[0][0] += 1\n",
    "        else: nij[0][int(k-1-np.trunc(ind_weight[i]))] += 1\n",
    "    else:\n",
    "        if weight[i] == min(weight): nij[int(k-1-np.trunc(ind_age[i]))][0] += 1\n",
    "        else: nij[int(k-1-np.trunc(ind_age[i]))][int(k-1-np.trunc(ind_weight[i]))] += 1\n",
    "for i in range(k):\n",
    "    print (nij[:,i], sum(nij[:,i]))\n",
    "print (' '.join(map(str, [sum(nij[i]) for i in range(k)])), 'n =', sum(sum(nij)))"
   ]
  },
  {
   "cell_type": "markdown",
   "id": "de269326-9e44-4005-a6e5-058a96923e0f",
   "metadata": {},
   "source": [
    "|                            |            |                |                 |                |                |                 |                 |                |        |\n",
    "|:--------------------------:|:----------:|:--------------:|:---------------:|:--------------:|:--------------:|:---------------:|:---------------:|:--------------:|:------:|\n",
    "|          $Y$ \\ $X$         | [7, 8.625] | (8.625, 10.25] | (10.25, 11.875] | (11.875, 13.5] | (13.5, 15.125] | (15.125, 16.75] | (16.75, 18.375] | (18.375, 20.0] |  $n_y$ |\n",
    "|  [5.85417175, 14.17652184] |      3     |        2       |        1        |        2       |        0       |        0        |        0        |        0       |    8   |\n",
    "| (14.17652184, 22.49887194] |      2     |        8       |        0        |        2       |        3       |        0        |        0        |        0       |   15   |\n",
    "| (22.49887194, 30.82122203] |      6     |        7       |        2        |        3       |        1       |        0        |        1        |        0       |   20   |\n",
    "| (30.82122203, 39.14357212] |      2     |       13       |        5        |        1       |        4       |        1        |        0        |        1       |   27   |\n",
    "| (39.14357212, 47.46592222] |      1     |        5       |        5        |        1       |        0       |        1        |        1        |        0       |   14   |\n",
    "| (47.46592222, 55.78827231] |      0     |        0       |        1        |        0       |        0       |        0        |        0        |        0       |    1   |\n",
    "| (55.78827231, 64.11062241] |      0     |        0       |        0        |        0       |        1       |        0        |        0        |        0       |    1   |\n",
    "|  (64.11062241, 72.4329725] |      0     |        0       |        1        |        0       |        0       |        0        |        0        |        0       |    1   |\n",
    "|            $n_x$           |     14     |       35       |        15       |        9       |        9       |        2        |        2        |        1       | $n$=87 |"
   ]
  },
  {
   "cell_type": "markdown",
   "id": "b09ddd6f-0abf-429b-8671-cd8abaaeb862",
   "metadata": {
    "tags": []
   },
   "source": [
    "#### 3. По полученному двумерному интервальному вариационному ряду сформировать условные варианты и по полученным условным вариантам построить корреляционную таблицу, сделать выводы."
   ]
  },
  {
   "cell_type": "code",
   "execution_count": 28,
   "id": "b235a2eb-8a66-4104-ac41-3d5403081cf3",
   "metadata": {},
   "outputs": [
    {
     "name": "stdout",
     "output_type": "stream",
     "text": [
      "ui = [-1, 0, 1, 2, 3, 4, 5, 6] vj = [-3, -2, -1, 0, 1, 2, 3, 4]\n",
      "V = [-18, -24, 6, -12, -4, 1, 0, 0] U = [2, 11, 10, 27, 15, 1, 3, 1]\n",
      "uV = [ 18   0   6 -24 -12   4   0   0] ∑︀ =  -8  vU = [ -6 -22 -10   0  15   2   9   4] ∑︀ =  -8\n"
     ]
    }
   ],
   "source": [
    "vj = [i - np.argmax([sum(nij[:,i]) for i in range(k)]) for i in range(0,k)]\n",
    "ui = [i - np.argmax([sum(nij[i]) for i in range(k)]) for i in range(0,k)]\n",
    "print('ui =', ui, 'vj =', vj)\n",
    "V = [sum(nij[i]*vj) for i in range(k)]\n",
    "U = [sum(nij[:,i]*ui) for i in range(k)]\n",
    "print('V =', V, 'U =', U)\n",
    "uV = ui*np.array(V)\n",
    "vU = vj*np.array(U)\n",
    "print('uV =', uV, '∑︀ = ', sum(uV), ' vU =', vU, '∑︀ = ', sum(vU))"
   ]
  },
  {
   "cell_type": "markdown",
   "id": "0ff803ae-77f2-46f9-af90-f14725167524",
   "metadata": {},
   "source": [
    "|              |     |     |   |     |     |   |   |   |              |          |\n",
    "|:------------:|:---:|:---:|:-:|:---:|:---:|:-:|:-:|:-:|:------------:|:--------:|\n",
    "|   $v$ \\ $u$  |  -1 |  0  | 1 |  2  |  3  | 4 | 5 | 6 | \\begin{equation}U=∑︀n_{uv}u\\end{equation} |   $vU$   |\n",
    "|      -3      |  3  |  2  | 1 |  2  |  0  | 0 | 0 | 0 |       2      |    -6    |\n",
    "|      -2      |  2  |  8  | 0 |  2  |  3  | 0 | 0 | 0 |      11      |    -22   |\n",
    "|      -1      |  6  |  7  | 2 |  3  |  1  | 0 | 1 | 0 |      10      |    -10   |\n",
    "|       0      |  2  |  13 | 5 |  1  |  4  | 1 | 0 | 1 |      27      |     0    |\n",
    "|       1      |  1  |  5  | 5 |  1  |  0  | 1 | 1 | 0 |      15      |    15    |\n",
    "|       2      |  0  |  0  | 1 |  0  |  0  | 0 | 0 | 0 |       1      |     2    |\n",
    "|       3      |  0  |  0  | 0 |  0  |  1  | 0 | 0 | 0 |       3      |     9    |\n",
    "|       4      |  0  |  0  | 1 |  0  |  0  | 0 | 0 | 0 |       1      |     4    |\n",
    "| \\begin{equation}V=∑︀n_{uv}v\\end{equation} | -18 | -24 | 6 | -12 |  -4 | 1 | 0 | 0 |       -      | \\begin{equation}∑︀_vvU=\\end{equation} |\n",
    "|     $uV$     |  18 |  0  | 6 | -24 | -12 | 4 | 0 | 0 |   \\begin{equation}∑︀_uuV=\\end{equation}   |    -8    |"
   ]
  },
  {
   "cell_type": "markdown",
   "id": "b02c2e61-d01d-410b-83ea-ed8d6d04e8b0",
   "metadata": {
    "tags": []
   },
   "source": [
    "Контрольные суммы совпадают, значит вычисления сделаны верно."
   ]
  },
  {
   "cell_type": "markdown",
   "id": "319776c4-adc6-425f-9ae9-d20b264ac0a0",
   "metadata": {
    "tags": []
   },
   "source": [
    "#### 4. Исходя из результатов корреляционной таблицы вычислить коэффициент корреляции, сделать выводы."
   ]
  },
  {
   "cell_type": "code",
   "execution_count": 29,
   "id": "68a69102-692b-4e99-9049-58472bd44dfc",
   "metadata": {},
   "outputs": [
    {
     "name": "stdout",
     "output_type": "stream",
     "text": [
      "0.17839966\n"
     ]
    }
   ],
   "source": [
    "v_ = sum(np.array(vj)*np.array([sum(nij[:,i]) for i in range(k)]))/n\n",
    "u_ = sum(np.array(ui)*np.array([sum(nij[i]) for i in range(k)]))/n\n",
    "sko_v = (sum((np.array(vj)**2)*np.array([sum(nij[:,i]) for i in range(k)]))/n-v_**2)**0.5\n",
    "sko_u = (sum((np.array(ui)**2)*np.array([sum(nij[i]) for i in range(k)]))/n-u_**2)**0.5\n",
    "rxy = (sum(uV)/n-v_*u_)/(sko_v*sko_u)\n",
    "print(np.round(rxy,8))"
   ]
  },
  {
   "cell_type": "markdown",
   "id": "98d46159-31e5-4f58-89d6-683292bf3395",
   "metadata": {},
   "source": [
    "Корреляция положительна, значит для этой выборки с увеличением x (возраста), увеличивается y (масса), но связь слабая."
   ]
  },
  {
   "cell_type": "markdown",
   "id": "c8473069-abb1-4859-879f-25346781bcc1",
   "metadata": {
    "tags": []
   },
   "source": [
    "#### 5. Построить доверительный интервал для коэффициента корреляции при уровне значимости $\\gamma \\in \\{0.95, 0.99\\}$, сделать выводы."
   ]
  },
  {
   "cell_type": "markdown",
   "id": "2b60820b-3e60-4dc9-9553-8de8472ef262",
   "metadata": {},
   "source": [
    "Для доверительной точности 0,95:"
   ]
  },
  {
   "cell_type": "code",
   "execution_count": 30,
   "id": "fff842af-ebff-4846-bbec-efe5c876d20b",
   "metadata": {},
   "outputs": [
    {
     "name": "stdout",
     "output_type": "stream",
     "text": [
      "Доверительный интервал для коэффициента корреляции (-0.03351173, 0.37496056)\n"
     ]
    }
   ],
   "source": [
    "t = 1.96\n",
    "l = tanh(atanh(rxy) - t/((n-3)**0.5))\n",
    "r = tanh(atanh(rxy) + t/((n-3)**0.5))\n",
    "print('Доверительный интервал для коэффициента корреляции',\"(\"+str(round(l,8))+\", \"+str(round(r,8))+\")\")"
   ]
  },
  {
   "cell_type": "markdown",
   "id": "18f4696d-30c2-4013-92b4-99303396241f",
   "metadata": {},
   "source": [
    "Для доверительной точности 0,99:"
   ]
  },
  {
   "cell_type": "code",
   "execution_count": 31,
   "id": "a88249bc-48e3-4103-8bb5-1cac37b395d3",
   "metadata": {},
   "outputs": [
    {
     "name": "stdout",
     "output_type": "stream",
     "text": [
      "Доверительный интервал для коэффициента корреляции (-0.10039603, 0.43121959)\n"
     ]
    }
   ],
   "source": [
    "t = 2.576\n",
    "l = tanh(atanh(rxy) - t/((n-3)**0.5))\n",
    "r = tanh(atanh(rxy) + t/((n-3)**0.5))\n",
    "print('Доверительный интервал для коэффициента корреляции',\"(\"+str(round(l,8))+\", \"+str(round(r,8))+\")\")"
   ]
  },
  {
   "cell_type": "markdown",
   "id": "43bd2bf6-b756-4c0b-ba42-b49c9de415bf",
   "metadata": {},
   "source": [
    "Коэффициент корреляции $r_\\beta = 0,17839966$ попадает в оба доверительных интервала. Значит вычисления сделаны верно."
   ]
  },
  {
   "cell_type": "markdown",
   "id": "c1583b14-78dd-4ded-a205-35ceed6a28d7",
   "metadata": {
    "tags": []
   },
   "source": [
    "#### 6.  Осуществить проверку статистической гипотезы о равенстве коэффициента корреляции нулю при заданном уровне значимости $\\alpha = 0.05$, сделать выводы."
   ]
  },
  {
   "cell_type": "code",
   "execution_count": 32,
   "id": "1d35ed14-1390-45b9-ad71-d693563a1d2d",
   "metadata": {},
   "outputs": [
    {
     "name": "stdout",
     "output_type": "stream",
     "text": [
      "Tнабл = 1.67157889 df = 85\n"
     ]
    }
   ],
   "source": [
    "Tnabl = rxy*((n-2)**0.5)/((1-rxy**2)**0.5)\n",
    "df = n-2\n",
    "print('Tнабл =', round(Tnabl,8), 'df =', df)"
   ]
  },
  {
   "cell_type": "markdown",
   "id": "169db82e-88ea-40f0-957b-b521f509f861",
   "metadata": {},
   "source": [
    "По таблице $T$крит$ = t(0,05; 85) = 1,9882679$.\n",
    "\n",
    "$|T$набл$| \\lt T$крит. Гипотеза о равенстве коэффициента корреляции нулю при уровне значимости $\\alpha = 0.05$ принимается"
   ]
  },
  {
   "cell_type": "markdown",
   "id": "69429f31-dbf5-4fed-972a-733cdcfb2760",
   "metadata": {
    "tags": []
   },
   "source": [
    "#### 7. Для заданной выборки построить уравнения средней квадратичной регрессии 𝑥 на 𝑦 и 𝑦 на 𝑥 соответственно. Отобразить полученные прямые на множестве выборки. Объяснить результаты."
   ]
  },
  {
   "cell_type": "code",
   "execution_count": 33,
   "id": "ed75b64f-71c6-4085-adf9-14c472dfb8cd",
   "metadata": {},
   "outputs": [
    {
     "name": "stdout",
     "output_type": "stream",
     "text": [
      "x = 0.09522808383244079 * y + 7.956077610988256 (жёлтая)\n",
      "y = 1.9526838120642342 * x + 8.716384623812466 (зелёная)\n"
     ]
    },
    {
     "data": {
      "image/png": "[encoded data removed]",
      "text/plain": [
       "<Figure size 576x576 with 1 Axes>"
      ]
     },
     "metadata": {
      "needs_background": "light"
     },
     "output_type": "display_data"
    }
   ],
   "source": [
    "ys = np.arange(min(weight)-2, max(weight)+2, 0.1)\n",
    "xy = np.mean(age) + (ys - np.mean(weight))*r*(np.var(age)/np.var(weight))**0.5\n",
    "xs = np.arange(min(age)-1, max(age)+1, 0.1)\n",
    "yx = np.mean(weight) + (xs - np.mean(age))*r*(np.var(weight)/np.var(age))**0.5\n",
    "coef = [[r*(np.var(age)/np.var(weight))**0.5,np.mean(age) + (-np.mean(weight))*r*(np.var(age)/np.var(weight))**0.5],[r*(np.var(weight)/np.var(age))**0.5,np.mean(weight) + (-np.mean(age))*r*(np.var(weight)/np.var(age))**0.5]]\n",
    "print('x =', coef[0][0], '* y +', coef[0][1], '(жёлтая)')\n",
    "print('y =', coef[1][0], '* x +', coef[1][1], '(зелёная)')\n",
    "fig, ax = plt.subplots(figsize=(8, 8))\n",
    "ax.scatter(age, weight, s=60, c='b')\n",
    "ax.plot(xy, ys, c='y')\n",
    "ax.plot(xs, yx, c='g')\n",
    "plt.xlim(min(age)-0.5, max(age)+0.5)\n",
    "plt.ylim(min(weight)-2, max(weight)+2)\n",
    "plt.show()"
   ]
  },
  {
   "cell_type": "markdown",
   "id": "bd142626-695d-4824-ad30-1c5f521209de",
   "metadata": {},
   "source": [
    "Эти прямые позволяют отобразить признаки $x$ и $y$ с минимальными потерями. "
   ]
  },
  {
   "cell_type": "markdown",
   "id": "21cadc60-4f87-4441-b662-1f6443cd7faf",
   "metadata": {},
   "source": [
    "#### 8. Вычислить корреляционные отношения $\\eta_{yx}$ и $\\eta_{xy}$. Убедиться, что неравенства $\\eta_{yx} \\geq |r_{xy}|$ и $\\eta_{xy} \\geq |r_{xy}|$ выполняются. Сделать выводы."
   ]
  },
  {
   "cell_type": "code",
   "execution_count": 34,
   "id": "25f4078c-da5c-4b06-bf74-8c5dc19b6985",
   "metadata": {},
   "outputs": [
    {
     "name": "stdout",
     "output_type": "stream",
     "text": [
      "0.28842045 0.33982639\n"
     ]
    }
   ],
   "source": [
    "nx = np.array([sum(nij[i]) for i in range(k)])\n",
    "ny = np.array([sum(nij[:,i]) for i in range(k)])\n",
    "xi_ = [7.8125, 9.4375, 11.0625, 12.6875, 14.3125, 15.9375, 17.5625, 19.1875]\n",
    "yx_ = [sum(yi_*nij[i])/nx[i] for i in range(k)]\n",
    "xy_ = [sum(xi_*nij[:,i])/ny[i] for i in range(k)]\n",
    "x_ = sum(xi_*nx)/n\n",
    "y_ = sum(yi_*ny)/n\n",
    "sko_yx_ = np.var(yx_)**0.5\n",
    "sko_xy_ = np.var(xy_)**0.5\n",
    "sko_y = np.var(yi_)**0.5\n",
    "sko_x = np.var(xi_)**0.5\n",
    "etayx = sko_yx_/sko_y\n",
    "etaxy = sko_xy_/sko_x\n",
    "print(round(etayx,8),round(etaxy,8))"
   ]
  },
  {
   "cell_type": "markdown",
   "id": "183bdecc-bbde-4317-8bc6-63dc559f311a",
   "metadata": {},
   "source": [
    "Неравенства $0,28842045 \\geq |0,17839966|$ и $0,33982639 \\geq |0,17839966|$ выполняются. Между признаками есть слабая корреляционная связь."
   ]
  },
  {
   "cell_type": "markdown",
   "id": "11f3b658-2bf4-449d-bf14-1bb1ffb88332",
   "metadata": {},
   "source": [
    "#### 9. Для заданной выборки построить корреляционную кривую параболического вида $y = \\beta_0 + \\beta_1x + \\beta_2x^2$. Отобразить полученную кривую на множестве выборки. Сделать выводы."
   ]
  },
  {
   "cell_type": "markdown",
   "id": "d4946911-0882-41ac-b641-ad2ce497a9db",
   "metadata": {},
   "source": [
    "Для того, чтобы найти коэффициенты, применим МНК.\n",
    "$F(\\beta_2,\\beta_1,\\beta_0) = \\sum_{i=1}^n(ax_i^2+bx_i+c-y_i)^2$\n",
    "\n",
    "$\\begin{cases}\n",
    "\\frac{\\partial F}{\\partial \\beta_2} = 0\n",
    "\\\\\n",
    "\\frac{\\partial F}{\\partial \\beta_1} = 0\n",
    "\\\\\n",
    "\\frac{\\partial F}{\\partial \\beta_0} = 0\n",
    "\\end{cases}$\n",
    "\n",
    "$\\begin{cases}\n",
    "\\sum_{i=1}^n(2\\beta_2x_i^4)+\\sum_{i=1}^n(2\\beta_1x_i^3)+\\sum_{i=1}^n(2\\beta_0x_i^2)-\\sum_{i=1}^n(2y_ix_i^2) = 0\n",
    "\\\\\n",
    "\\sum_{i=1}^n(2\\beta_2x_i^3)+\\sum_{i=1}^n(2\\beta_1x_i^2)+\\sum_{i=1}^n(2\\beta_0x_i)-\\sum_{i=1}^n(2y_ix_i) = 0\n",
    "\\\\\n",
    "\\sum_{i=1}^n(2\\beta_2x_i^2)+\\sum_{i=1}^n(2\\beta_1x_i)+\\sum_{i=1}^n(2\\beta_0)-\\sum_{i=1}^n(2y_i) = 0\n",
    "\\end{cases}$\n",
    "\n",
    "$\\begin{cases}\n",
    "\\beta_2\\sum_{i=1}^n(x_i^4)+\\beta_1\\sum_{i=1}^n(x_i^3)+\\beta_0\\sum_{i=1}^n(x_i^2)=\\sum_{i=1}^n(y_ix_i^2)\n",
    "\\\\\n",
    "\\beta_2\\sum_{i=1}^n(x_i^3)+\\beta_1\\sum_{i=1}^n(x_i^2)+\\beta_0\\sum_{i=1}^n(x_i)=\\sum_{i=1}^n(y_ix_i)\n",
    "\\\\\n",
    "\\beta_2\\sum_{i=1}^n(x_i^2)+\\beta_1\\sum_{i=1}^n(x_i)+n\\beta_0=\\sum_{i=1}^n(y_i)\n",
    "\\end{cases}$"
   ]
  },
  {
   "cell_type": "code",
   "execution_count": 35,
   "id": "5856c7c6-3413-4f4b-bda5-64cb92cfaa2b",
   "metadata": {},
   "outputs": [
    {
     "name": "stdout",
     "output_type": "stream",
     "text": [
      "Σxi = 939 Σyi = 2591.895561800001 Σxiyi = 28330.236515299996\n",
      "Σxi^2 = 10697 Σxi^2yi = 325969.6809053001\n",
      "Σxi^3 = 129315 Σxi^4 = 1664057\n"
     ]
    }
   ],
   "source": [
    "print('Σxi =', sum(age), 'Σyi =', sum(weight), 'Σxiyi =', sum(np.array(age)*np.array(weight)))\n",
    "print('Σxi^2 =', sum(np.array(age)**2), 'Σxi^2yi =', sum(np.array(age)**2*np.array(weight)))\n",
    "print('Σxi^3 =', sum(np.array(age)**3), 'Σxi^4 =', sum(np.array(age)**4))"
   ]
  },
  {
   "cell_type": "markdown",
   "id": "22fedf4f-7618-4e09-8b9a-056e79e49d50",
   "metadata": {},
   "source": [
    "$\\begin{cases}\n",
    "1664057\\beta_2+129315\\beta_1+10697\\beta_0=325969,6809053001\n",
    "\\\\\n",
    "129315\\beta_2+10697\\beta_1+939\\beta_0=28330,236515299996\n",
    "\\\\\n",
    "10697\\beta_2+939\\beta_1+87\\beta_0=2591,895561800001\n",
    "\\end{cases}$"
   ]
  },
  {
   "cell_type": "code",
   "execution_count": 36,
   "id": "a3dfa3ef-4d60-4440-9e68-329049b8fed0",
   "metadata": {},
   "outputs": [
    {
     "name": "stdout",
     "output_type": "stream",
     "text": [
      "𝛽2 = -0.20826655445915357 𝛽1 = 5.766667978809243 𝛽0 = -6.841130313244976\n"
     ]
    },
    {
     "data": {
      "image/png": "[encoded data removed]",
      "text/plain": [
       "<Figure size 576x576 with 1 Axes>"
      ]
     },
     "metadata": {
      "needs_background": "light"
     },
     "output_type": "display_data"
    }
   ],
   "source": [
    "betas = np.linalg.solve(np.array([[1664057,129315,10697],[129315,10697,939],[10697,939,87]]), np.array([325969.6809053001,28330.236515299996,2591.895561800001]))\n",
    "print('𝛽2 =', betas[0], '𝛽1 =', betas[1], '𝛽0 =', betas[2])\n",
    "fig, ax = plt.subplots(figsize=(8, 8))\n",
    "ax.scatter(age, weight, s=60, c='b')\n",
    "ax.plot(xs, betas[0]*xs**2+betas[1]*xs+betas[2], c='y')\n",
    "plt.xlim(min(age)-0.5, max(age)+0.5)\n",
    "plt.ylim(min(weight)-2, max(weight)+2)\n",
    "plt.show()"
   ]
  },
  {
   "cell_type": "markdown",
   "id": "92c20733-7221-41c9-a303-5cf087d95a86",
   "metadata": {
    "tags": []
   },
   "source": [
    "Эта парабола позволяет отобразить признаки $x$ и $y$ с минимальными потерями."
   ]
  },
  {
   "cell_type": "markdown",
   "id": "fc3423c2-0665-4ebb-b558-00f2e7cc5308",
   "metadata": {},
   "source": [
    "#### 10. Для заданной выборки построить нелинейные корреляционные кривые c помощью МНК в зависимости от номера варианта.\n",
    ">(6) дробно-рациональная функция: $y=\\frac{x}{\\beta_0+\\beta_1x}$"
   ]
  },
  {
   "cell_type": "markdown",
   "id": "844d1e7c-7e23-42b2-adee-c4dd39391ed3",
   "metadata": {},
   "source": [
    "Для того, чтобы найти коэффициенты, применим МНК.\n",
    "\n",
    "$\\frac{1}{y} = \\frac{\\beta_0+\\beta_1x_i}{x_i} = \\beta_1+\\frac{\\beta_0}{x_i}$\n",
    "\n",
    "Пусть $\\frac{1}{y}=\\hat y$, $\\frac{1}{x}=\\hat x$\n",
    "\n",
    "$F(\\beta_1,\\beta_0) = \\sum_{i=1}^n(\\beta_1+\\beta_0\\hat x_i-\\hat y_i)^2$\n",
    "\n",
    "$\\begin{cases}\n",
    "\\frac{\\partial F}{\\partial \\beta_1} = 0\n",
    "\\\\\n",
    "\\frac{\\partial F}{\\partial \\beta_0} = 0\n",
    "\\end{cases}$\n",
    "\n",
    "$\\begin{cases}\n",
    "\\sum_{i=1}^n(2\\beta_1)+\\sum_{i=1}^n(2\\beta_0\\hat x_i)-\\sum_{i=1}^n(2\\hat y_i) = 0\n",
    "\\\\\n",
    "\\sum_{i=1}^n(2\\beta_1\\hat x_i)+\\sum_{i=1}^n(2\\beta_0\\hat x_i^2)-\\sum_{i=1}^n(2\\hat x_i\\hat y_i) = 0\n",
    "\\end{cases}$\n",
    "\n",
    "$\\begin{cases}\n",
    "n\\beta_1+\\beta_0\\sum_{i=1}^n(\\hat x_i)=\\sum_{i=1}^n(\\hat y_i)\n",
    "\\\\\n",
    "\\beta_1\\sum_{i=1}^n(\\hat x_i)+\\beta_0\\sum_{i=1}^n(\\hat x_i^2)=\\sum_{i=1}^n(\\hat x_i\\hat y_i)\n",
    "\\end{cases}$"
   ]
  },
  {
   "cell_type": "code",
   "execution_count": 37,
   "id": "e38ee994-41fd-4e50-b796-04bee0d28872",
   "metadata": {},
   "outputs": [
    {
     "name": "stdout",
     "output_type": "stream",
     "text": [
      "Σ^xi = 8.453564899153125 Σ^yi = 3.586162437465415\n",
      "Σ^xi^2 = 0.8560064243649881 Σ^xi^yi = 0.3574648798443476\n"
     ]
    }
   ],
   "source": [
    "print('Σ^xi =', sum(1/np.array(age)), 'Σ^yi =', sum(1/np.array(weight)))\n",
    "print('Σ^xi^2 =', sum(1/np.array(age)**2), 'Σ^xi^yi =', sum(1/(np.array(age)*np.array(weight))))"
   ]
  },
  {
   "cell_type": "markdown",
   "id": "be991c7f-0fe4-4f7a-930d-81e2b55a35a2",
   "metadata": {},
   "source": [
    "$\\begin{cases}\n",
    "87\\beta_1+8,453564899153125\\beta_0=3,586162437465415\n",
    "\\\\\n",
    "8,453564899153125\\beta_1+0,8560064243649881\\beta_0=0,3574648798443476\n",
    "\\end{cases}$"
   ]
  },
  {
   "cell_type": "code",
   "execution_count": 38,
   "id": "41255dd9-9866-472f-a34a-5a4a2c52abc6",
   "metadata": {},
   "outputs": [
    {
     "name": "stdout",
     "output_type": "stream",
     "text": [
      "𝛽1 = 0.015923162223657274 𝛽0 = 0.2603454696642492\n"
     ]
    },
    {
     "data": {
      "image/png": "[encoded data removed]",
      "text/plain": [
       "<Figure size 576x576 with 1 Axes>"
      ]
     },
     "metadata": {
      "needs_background": "light"
     },
     "output_type": "display_data"
    }
   ],
   "source": [
    "betas2 = np.linalg.solve(np.array([[87,8.453564899153125],[8.453564899153125,0.8560064243649881]]), np.array([3.586162437465415,0.3574648798443476]))\n",
    "print('𝛽1 =', betas2[0], '𝛽0 =', betas2[1])\n",
    "fig, ax = plt.subplots(figsize=(8, 8))\n",
    "ax.scatter(age, weight, s=60, c='b')\n",
    "ax.plot(xs, xs/(betas2[0]*xs+betas2[1]), c='y')\n",
    "plt.xlim(min(age)-0.5, max(age)+0.5)\n",
    "plt.ylim(min(weight)-2, max(weight)+2)\n",
    "plt.show()"
   ]
  },
  {
   "cell_type": "markdown",
   "id": "8013d7ad-f0f4-428e-b137-26288223d7cd",
   "metadata": {},
   "source": [
    "#### 11.  Вычислить следующие показатели качества регрессии для каждого из четырёх уравнений и сделать выводы:\n",
    "* теоретический коэффициент детерминации $R^2$;\n",
    "* средняя квадратическая ошибка $S_\\varepsilon$;\n",
    "* средняя ошибка аппроксимации (приближения) $A$."
   ]
  },
  {
   "cell_type": "markdown",
   "id": "e618ff03-ae52-487a-8f70-5c7beb748691",
   "metadata": {},
   "source": [
    "##### 1) Первое уравнение: $x = 0,10189160522303929 * y + 7,757558628019846$"
   ]
  },
  {
   "cell_type": "code",
   "execution_count": 39,
   "id": "f119af54-8985-4859-a23d-60468d6ae872",
   "metadata": {},
   "outputs": [
    {
     "name": "stdout",
     "output_type": "stream",
     "text": [
      "R2x = 0.18595034\n"
     ]
    }
   ],
   "source": [
    "deltax1 = sum((coef[0][0]*np.array(weight)+coef[0][1]-np.mean(age))**2)/n\n",
    "print('R2x =', round(deltax1/np.var(age),8))"
   ]
  },
  {
   "cell_type": "code",
   "execution_count": 40,
   "id": "4b9d3a4b-d5b4-4790-8397-7415da556056",
   "metadata": {},
   "outputs": [
    {
     "name": "stdout",
     "output_type": "stream",
     "text": [
      "Sε = 2.65484573 sigma = 1.09626003\n"
     ]
    }
   ],
   "source": [
    "varepsx1 = (coef[0][0]*np.array(weight)+coef[0][1]-np.array(age))\n",
    "print('Sε =', round((sum(varepsx1**2)/(n-2))**0.5,8), 'sigma =', round(np.var(coef[0][0]*np.array(weight)+coef[0][1])**0.5,8))"
   ]
  },
  {
   "cell_type": "code",
   "execution_count": 41,
   "id": "1f4db074-b84e-4084-9ea5-8678779ec828",
   "metadata": {},
   "outputs": [
    {
     "name": "stdout",
     "output_type": "stream",
     "text": [
      "A = 0.18171064\n"
     ]
    }
   ],
   "source": [
    "print('A =', round(sum(np.abs(varepsx1/age))/n,8))"
   ]
  },
  {
   "cell_type": "markdown",
   "id": "1087ddac-5e8f-47cc-a68a-fd62961f5d29",
   "metadata": {},
   "source": [
    "Данная модель регрессии объясняет $21,3 \\%$ дисперсии. Cредняя квадратическая ошибка больше $\\sigma$, значит использование модели регрессии нецелесообразно. $A \\gt 7\\%$, значит нельзя говорить о хорошем выборе модели.\n",
    "\n",
    "По этим показателям качества регрессии можно сказать о том, что это плохой выбор модели."
   ]
  },
  {
   "cell_type": "markdown",
   "id": "509515a5-95e4-483e-9885-09a0feb3dda1",
   "metadata": {},
   "source": [
    "##### 2) Второе уравнение: $y = 2,089321554073833 * x + 7,241639339364042$"
   ]
  },
  {
   "cell_type": "code",
   "execution_count": 42,
   "id": "9450431c-07a0-4a19-afd2-55b39b9781fc",
   "metadata": {},
   "outputs": [
    {
     "name": "stdout",
     "output_type": "stream",
     "text": [
      "R2y = 0.18595034\n"
     ]
    }
   ],
   "source": [
    "deltay2 = sum((coef[1][0]*np.array(age)+coef[1][1]-np.mean(weight))**2)/n\n",
    "print('R2y =', round(deltay2/np.var(weight),8))"
   ]
  },
  {
   "cell_type": "code",
   "execution_count": 43,
   "id": "b5a6c180-a5f0-46ec-814e-bae62a20dd82",
   "metadata": {},
   "outputs": [
    {
     "name": "stdout",
     "output_type": "stream",
     "text": [
      "Sε = 12.02188943 sigma = 4.96417427\n"
     ]
    }
   ],
   "source": [
    "varepsy2 = (coef[1][0]*np.array(age)+coef[1][1]-np.array(weight))\n",
    "print('Sε =', round((sum(varepsy2**2)/(n-2))**0.5,8), 'sigma =', round(np.var(coef[1][0]*np.array(age)+coef[1][1])**0.5,8))"
   ]
  },
  {
   "cell_type": "code",
   "execution_count": 44,
   "id": "3b970e30-6220-4fb3-81e4-fdfdd13afb6c",
   "metadata": {},
   "outputs": [
    {
     "name": "stdout",
     "output_type": "stream",
     "text": [
      "A = 0.4324425\n"
     ]
    }
   ],
   "source": [
    "print('A =', round(sum(np.abs(varepsy2/weight))/n,8))"
   ]
  },
  {
   "cell_type": "markdown",
   "id": "e5fc051b-92e8-47e0-89a5-6be30b8154f1",
   "metadata": {},
   "source": [
    "Данная модель регрессии объясняет $21,3 \\%$ дисперсии. Cредняя квадратическая ошибка больше $\\sigma$, значит использование модели регрессии нецелесообразно. $A \\gt 7\\%$, значит нельзя говорить о хорошем выборе модели.\n",
    "\n",
    "По этим показателям качества регрессии можно сказать о том, что это плохой выбор модели."
   ]
  },
  {
   "cell_type": "markdown",
   "id": "977facbe-3d96-44fd-b2e6-0ceb4ec7d31e",
   "metadata": {},
   "source": [
    "##### 3) Третье уравнение: $y = -6,841130313244976 + 5,766667978809243x + -0,20826655445915357x^2$"
   ]
  },
  {
   "cell_type": "code",
   "execution_count": 45,
   "id": "be3b80bd-c04b-4233-95eb-c9a6b0c4bcc0",
   "metadata": {},
   "outputs": [
    {
     "name": "stdout",
     "output_type": "stream",
     "text": [
      "R2y = 0.04627102\n"
     ]
    }
   ],
   "source": [
    "deltay3 = sum((betas[0]*np.array(age)**2+betas[1]*np.array(age)+betas[2]-np.mean(weight))**2)/n\n",
    "print('R2y =', round(deltay3/np.var(weight),8))"
   ]
  },
  {
   "cell_type": "code",
   "execution_count": 46,
   "id": "cc0f2a6d-1143-4de4-ae6d-4bf649eff995",
   "metadata": {},
   "outputs": [
    {
     "name": "stdout",
     "output_type": "stream",
     "text": [
      "Sε = 11.44144839 sigma = 2.47629906\n"
     ]
    }
   ],
   "source": [
    "varepsy3 = (betas[0]*np.array(age)**2+betas[1]*np.array(age)+betas[2]-np.array(weight))\n",
    "print('Sε =', round((sum(varepsy3**2)/(n-3))**0.5,8), 'sigma =', round(np.var(betas[0]*np.array(age)**2+betas[1]*np.array(age)+betas[2])**0.5,8))"
   ]
  },
  {
   "cell_type": "code",
   "execution_count": 47,
   "id": "2268540f-bda1-4f72-b85f-de3699fee552",
   "metadata": {},
   "outputs": [
    {
     "name": "stdout",
     "output_type": "stream",
     "text": [
      "A = 0.4214921\n"
     ]
    }
   ],
   "source": [
    "print('A =', round(sum(np.abs(varepsy3/weight))/n,8))"
   ]
  },
  {
   "cell_type": "markdown",
   "id": "b8a93df8-7d76-497e-8d80-983648c8fec4",
   "metadata": {},
   "source": [
    "Данная модель регрессии объясняет $4,6 \\%$ дисперсии. Cредняя квадратическая ошибка больше $\\sigma$, значит использование модели регрессии нецелесообразно. $A \\gt 7\\%$, значит нельзя говорить о хорошем выборе модели.\n",
    "\n",
    "По этим показателям качества регрессии можно сказать о том, что это плохой выбор модели."
   ]
  },
  {
   "cell_type": "markdown",
   "id": "9e006d4c-514d-4775-8444-b27d00a73975",
   "metadata": {},
   "source": [
    "##### 4) Четвёртое уравнение: $y=\\frac{x}{0,2603454696642492+0,015923162223657274x}$"
   ]
  },
  {
   "cell_type": "code",
   "execution_count": 48,
   "id": "13c6e800-9845-4a20-8922-4ebd9cd61410",
   "metadata": {},
   "outputs": [
    {
     "name": "stdout",
     "output_type": "stream",
     "text": [
      "R2y = 0.27923769\n"
     ]
    }
   ],
   "source": [
    "deltay4 = sum((np.array(age)/(betas2[0]*np.array(age)+betas2[1])-np.mean(weight))**2)/n\n",
    "print('R2y =', round(deltay4/np.var(weight),8))"
   ]
  },
  {
   "cell_type": "code",
   "execution_count": 49,
   "id": "acbfbe7e-9623-44d3-a2e6-79fbca314304",
   "metadata": {},
   "outputs": [
    {
     "name": "stdout",
     "output_type": "stream",
     "text": [
      "Sε = 12.69522662 sigma = 3.27787029\n"
     ]
    }
   ],
   "source": [
    "varepsy4 = (np.array(age)/(betas2[0]*np.array(age)+betas2[1])-np.array(weight))\n",
    "print('Sε =', round((sum(varepsy4**2)/(n-2))**0.5,8), 'sigma =', round(np.var(np.array(age)/(betas2[0]*np.array(age)+betas2[1]))**0.5,8))"
   ]
  },
  {
   "cell_type": "code",
   "execution_count": 50,
   "id": "efd2fbaf-7a6e-4cd8-92eb-40a1507e62e7",
   "metadata": {},
   "outputs": [
    {
     "name": "stdout",
     "output_type": "stream",
     "text": [
      "A = 0.389297\n"
     ]
    }
   ],
   "source": [
    "print('A =', round(sum(np.abs(varepsy4/weight))/n,8))"
   ]
  },
  {
   "cell_type": "markdown",
   "id": "d67230c5-ca54-4dbd-8c06-634ff8bc14f1",
   "metadata": {},
   "source": [
    "Данная модель регрессии объясняет $27,9 \\%$ дисперсии. Cредняя квадратическая ошибка больше $\\sigma$, значит использование модели регрессии нецелесообразно. $A \\gt 7\\%$, значит нельзя говорить о хорошем выборе модели.\n",
    "\n",
    "По этим показателям качества регрессии можно сказать о том, что это плохой выбор модели."
   ]
  },
  {
   "cell_type": "markdown",
   "id": "2d49fa45-78a2-4ad5-ab88-c44e938dffb3",
   "metadata": {
    "tags": []
   },
   "source": [
    "## Выводы\n",
    "\n"
   ]
  },
  {
   "cell_type": "markdown",
   "id": "02f454d9-8892-4ad9-b3c0-2e3436bbe920",
   "metadata": {},
   "source": [
    "В ходе работы из заданной генеральной совокупности была сформирована выборка по второму признаку. Для системы двух случайных величин 𝑋 (первый признак) и 𝑌 (второй признак) сформирована двумерная выборка и найдена статистическая оценка коэффициента корреляции, построен доверительный интервал для коэффициента корреляции и осуществлена проверка статистической гипотезы о равенстве коэффициента корреляции нулю. Построены уравнения выборочных прямых среднеквадратической регрессии. Полученные линейные функции регрессии отображены графически. Найдено выборочное корреляционное отношение. Оценена адекватность моделей."
   ]
  }
 ],
 "metadata": {
  "kernelspec": {
   "display_name": "Python 3 (ipykernel)",
   "language": "python",
   "name": "python3"
  },
  "language_info": {
   "codemirror_mode": {
    "name": "ipython",
    "version": 3
   },
   "file_extension": ".py",
   "mimetype": "text/x-python",
   "name": "python",
   "nbconvert_exporter": "python",
   "pygments_lexer": "ipython3",
   "version": "3.9.13"
  }
 },
 "nbformat": 4,
 "nbformat_minor": 5
}
