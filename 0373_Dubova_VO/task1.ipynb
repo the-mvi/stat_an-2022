{
 "cells": [
  {
   "cell_type": "markdown",
   "id": "6ff80061-dbb1-4432-bd2a-9864f900fd06",
   "metadata": {
    "tags": []
   },
   "source": [
    "# Практическая работа №1: Формирование и первичная обработка выборки. Нахождение и точечных и интервальных оценок. Проверка статистических гипотез\n",
    "\n",
    "Выполнила студентка гр. 0373 Дубова Влада. Вариант №6\n"
   ]
  },
  {
   "cell_type": "markdown",
   "id": "1db4b1ff-22fb-4ed8-a1e7-c4cee3f23eec",
   "metadata": {
    "tags": []
   },
   "source": [
    "## Цель работы\n",
    "Ознакомление с основными правилами формирования выборки и подготовки выборочных данных к статистическому анализу. Получение практических навыков нахождения точечных статистических оценок параметров распределения, а также вычисления интервальных статистических оценок параметров распределения выборочных данных и проверки\n",
    "«справедливости» статистических гипотез."
   ]
  },
  {
   "cell_type": "markdown",
   "id": "a63c4f5b-d0ac-4ba1-ac31-760c6d1a8935",
   "metadata": {
    "tags": []
   },
   "source": [
    "## Основные теоретические положения\n",
    "*Выборочная совокупность (выборка)* – это совокупность случайно отобранных объектов.\n",
    "\n",
    "*Генеральная совокупность* − совокупность объектов, из которых производится выборка.\n",
    "\n",
    "*Ранжированный ряд* − выборка, отсортированная в порядке возрастания объектов.\n",
    "\n",
    "*Вариационный ряд* − перечень вариант $x_{i}$ и их абсолютных $n_{i}$ и относительных частот $p_{i}^{*}=n_{i}/n$.\n",
    "\n",
    "*Интервальный ряд* − весь промежуток значений выборки $[x_{min}, x_{max}]$ разбитый на частичные интервалы. Число интервалов определяется по формуле Стёрджеса с округлением до целого: $k=1+\\log_2{n}$  \n",
    "Длина интервала: $h=R/k, R=x_{max}-x_{min}$\n",
    "\n",
    "*Полигон частот* − ломаная линия, соединяющая точки дискретного ряда $(x_{1}, n_{1}), (x_{2}, n_{2}),\\ldots$\n",
    "\n",
    "*Полигон относительных частот* − ломаная линия, соединяющая точки дискретного ряда $(x_{1}, p_{1}^{*}), (x_{2}, p_{2}^{*}),\\ldots$\n",
    "\n",
    "*Гистограмма частот* − ступенчатая фигура из прямоугольников, основания которых это частичные интервалы, а высоты равны плотности частот $f_{i}=n_{i}/h$.\n",
    "\n",
    "*Гистограмма относительных частот* − ступенчатая фигура из прямоугольников, основания которых это частичные интервалы, а высоты равны плотности частот $f_{i}^{*}=p_{i}^{*}/h.$\n",
    "\n",
    "*Накопленная абсолютная частота* $n_{i}^{Σ}$ − число наблюдений, при которых значение признака < чем $x_{i}$.\n",
    "\n",
    "*Накопленная относительная частота:* $p_{i}^{Σ}=n_{i}^{Σ}/n$.\n",
    "\n",
    "*Условные варианты* $u_{i}$ − варианты определяемые $u_{i}=\\frac{x_{i}-c}{h},$ $c$ − ложный нуль, $h$ — шаг.\n",
    "\n",
    "*Условный эмпирический момент* $\\nu_{r}^{*}$ *порядка $r$* − начальный момент порядка $r$, выраженный с помощью условных вариант \\begin{equation}\\nu_{r}^{*}=\\frac{1}{n}\\sum_{i=1}^kn_{i}\\nu_{i}^r\\end{equation}\n",
    "\n",
    "*Центральный эмпирический момент* $\\mu_{r}^{*}$ *порядка $r$* − обычный эмпирический момент при $c=\\bar x_\\beta$\n",
    "1. $\\mu_{2}^{*}=(\\nu_{2}^{*}-(\\nu_{1}^{*})^2)*h^2$\n",
    "2. $\\mu_{3}^{*}=(\\nu_{3}^{*}-3\\nu_{2}^{*}\\nu_{1}^{*}-2(\\nu_{1}^{*})^3)*h^3$\n",
    "3. $\\mu_{4}^{*}=(\\nu_{4}^{*}-4\\nu_{3}^{*}\\nu_{1}^{*}+6\\nu_{2}^{*}\\nu_{1}^{*}-3(\\nu_{1}^{*})^3)*h^4$\n",
    "\n",
    "*Выборочное среднее:* \\begin{equation}\\bar x_{\\beta}=\\frac{1}{n}\\sum_{i=1}^k x_{i}n_{i}=\\sum_{i=1}^kx_{i}p_{i}^*=h\\cdot\\nu_{1}^{*}+c\\end{equation}\n",
    "\n",
    "*Выборочная дисперсия:* \\begin{equation}\\sigma_{\\beta}^{2}=\\frac{1}{n}\\sum_{i=1}^k n_{i}(x_{i}-\\bar x_{\\beta})^2=\\sum_{i=1}^k p_{i}^*(x_{i}-\\bar x_{\\beta})^2 =\\nu_{2}^{*}\\end{equation}\n",
    "\n",
    "*Исправленная дисперсия:* $s^2=\\frac{n}{n-1}\\cdot\\sigma_{\\beta}^{2}$\n",
    "\n",
    "*Статистическая оценка коэффициента асимметрии (\"скошенности\"):* \\begin{equation}a_{s}^{*}=\\frac{\\mu_{3}^{*}}{\\sigma_{\\beta}^{3}}.\\end{equation}\n",
    "\n",
    "*Статистическая оценка коэффициента эксцесса (\"островершинности\"):* \\begin{equation}\\varepsilon_{k}^{*}=\\frac{\\mu_{4}^{*}}{\\sigma_{\\beta}^{4}}-3.\\end{equation}\n",
    "\n",
    "*Мода (интервального ряда)* $M_o^*$ − число, заключённое в интервале с наибольшей частотой. $M_o^*\\in (x_{Mo}^{(0)}, x_{Mo}^{(1)})$\n",
    "\\begin{equation}M_o^*=x_{Mo}^{(0)}+h\\frac{n_{Mo}-n_{Mo-1}}{(n_{Mo}-n_{Mo-1})+(n_{Mo}-n_{Mo+1})},\\end{equation} $n_{Mo}$ − частота интервала, содержащего моду, $n_{Mo-1}$ − частота предыдущего интервала, $n_{Mo+1}$ − частота следующего интервала.\n",
    "\n",
    "*Медиана (интервального ряда)* $M_e^*$ − число, принадлежащее частичному интервалу, для кторого накопленная частота составляет половину или больше суммы частот. $M_e^*\\in (x_{Me}^{(0)},  x_{Me}^{(1)})$\n",
    "\\begin{equation}M_e^*=x_{Me}^{(0)}+\\frac{h}{p_{Me}^*}(0,5-p_{Me-1}^Σ),\\end{equation}\n",
    "\n",
    "*Коэффициент вариации* − мера колебаемости изучаемого признака относительно выборочной средней $V^*=\\frac{\\sigma_{\\beta}}{\\bar x_{\\beta}}100\\%$\n",
    "\n",
    "*Точность оценки* $\\delta$: $|\\Theta - \\Theta^*|<\\delta$\n",
    "\n",
    "*Доверительный интервал* − интервал $(\\Theta^*-\\delta;\\Theta^*+\\delta)$\n",
    "\n",
    "*Доверительный интервал для математического ожидания при неизвестном среднеквадратичном отклонении:* \\begin{equation}\\Bigl(\\bar x_{\\beta}-\\frac{t(\\gamma, n)\\cdot s}{\\sqrt{n}};\\bar x_{\\beta}+\\frac{t(\\gamma, n)\\cdot s}{\\sqrt{n}}\\Bigl)\\end{equation}\n",
    "\n",
    "*Доверительный интервал для среднеквадратичного отклонения:*\n",
    "\\begin{equation}\\begin{cases}s(1-q)<\\sigma < s(1+q),\\;если\\;q(\\gamma, n)<1,\\\\0<\\sigma<s(1+q),\\;если\\;q(\\gamma, n)>1.\\end{cases}\\end{equation}\n",
    "\n",
    "*Эмпирические частоты* − частоты $n_i$ наблюдаемые в эксперименте.\n",
    "\n",
    "*Выравнивающие (теоретические) частоты* − частоты, которые находятся по формуле $n_i^{'}=n\\cdot p_i$, $n$ − объём выборки, $p_i$ − точечная вероятность для варианты $x_i$ дискретной случайной величины или интервальная вероятность для варианты $x \\in (x_{i-1}; x_i]$ непрерывной случайной величины.\n",
    "\n",
    "*Наблюдаемое значение критерия* $\\chi^2$набл =\n",
    "\\begin{equation}\\sum_{i=1}^k\\frac{n_i^{2}-n_i^{'}}{n_i^{'}}=\\sum_{i=1}^k\\frac{n_i^{2}}{n_i^{'}}-n\\end{equation}"
   ]
  },
  {
   "cell_type": "markdown",
   "id": "6adf249a-f69a-4646-88df-8fc84a0af1c4",
   "metadata": {
    "tags": []
   },
   "source": [
    "## Постановка задачи\n",
    "Осуществить формирование репрезентативной выборки заданного объема из имеющейся генеральной совокупности экспериментальных данных.\n",
    "Осуществить последовательное преобразование полученной выборки в ранжированный, вариационный и интервальный ряды. Применительно к интервальному ряду построить и отобразить графически полигон, гистограмму и эмпирическую функцию распределения для абсолютных и относительных частот. Для заданных выборочных данных вычислить с использованием метода моментов и условных вариант точечные статистические оценки математического ожидания, дисперсии, среднеквадратичного отклонения, асимметрии, эксцесса, моды, медианы и коэффициента вариации исследуемой случайной величины. Для заданной надёжности определить границы доверительных интервалов для математического ожидания и среднеквадратичного отклонения случайной величины. Проверить гипотезу о нормальном распределении исследуемой случайной величины с помощью критерия Пирсона $\\chi^{2}$. Полученные результаты содержательно проинтерпретировать."
   ]
  },
  {
   "cell_type": "markdown",
   "id": "186fa061-d548-4ac5-88f8-b742d3490749",
   "metadata": {
    "tags": []
   },
   "source": [
    "## Выполнение работы"
   ]
  },
  {
   "cell_type": "markdown",
   "id": "ea46e183-7aaa-4a7a-bc81-69a4d8c62db3",
   "metadata": {},
   "source": [
    "#### 1. Из генеральной совокупности сформировать выборку заданного объёма в соответствии с полученным от преподавателя номером. Указать, какого вида выборка получилась."
   ]
  },
  {
   "cell_type": "code",
   "execution_count": 1,
   "id": "e0bf8f19-2cb6-4649-8fa5-88b73a9a7cf5",
   "metadata": {},
   "outputs": [],
   "source": [
    "import numpy as np\n",
    "import matplotlib.pyplot as plt\n",
    "%matplotlib inline\n",
    "age = [8,9,9,12,14,11,11,8,14,8,10,9,9,8,11,17,11,10,9,11,14,16,12,10,11,11,12,10,8,10,11,10,13,14,9,8,8,10,10,10,10,9,10,9,13,9,10,9,16,15,9,10,11,8,15,11,11,10,11,12,10,11,14,8,13,11,15,10,10,15,8,11,10,20,8,13,9,9,12,9,7,10,18,7,10,8,9]\n",
    "n = 87"
   ]
  },
  {
   "cell_type": "markdown",
   "id": "c81cf110-8fbf-4ed9-b544-1a79a6899366",
   "metadata": {},
   "source": [
    "Выборка из 87 элементов была сформирована простым бесповторным отбором из генеральной совокупности [Crab Age Prediction](https://www.kaggle.com/datasets/sidhus/crab-age-prediction \"Crab Age Prediction\"). Для обработки выбран возраст крабов."
   ]
  },
  {
   "cell_type": "markdown",
   "id": "75f91a42-57fc-4e9b-9c51-a62ce45060fc",
   "metadata": {
    "tags": []
   },
   "source": [
    "#### 2. Последовательно преобразовать выборку в ранжированный, вариационный и интервальный ряды. Результаты содержательно проинтерпретировать."
   ]
  },
  {
   "cell_type": "markdown",
   "id": "83e55850-da25-4eea-b027-4aa94e7281bd",
   "metadata": {},
   "source": [
    "##### Ранжированный ряд:"
   ]
  },
  {
   "cell_type": "code",
   "execution_count": 2,
   "id": "d6eca664-a0af-444f-93e7-d9c294989dd2",
   "metadata": {},
   "outputs": [
    {
     "name": "stdout",
     "output_type": "stream",
     "text": [
      "[7, 7, 8, 8, 8, 8, 8, 8, 8, 8, 8, 8, 8, 8, 9, 9, 9, 9, 9, 9, 9, 9, 9, 9, 9, 9, 9, 9, 9, 10, 10, 10, 10, 10, 10, 10, 10, 10, 10, 10, 10, 10, 10, 10, 10, 10, 10, 10, 10, 11, 11, 11, 11, 11, 11, 11, 11, 11, 11, 11, 11, 11, 11, 11, 12, 12, 12, 12, 12, 13, 13, 13, 13, 14, 14, 14, 14, 14, 15, 15, 15, 15, 16, 16, 17, 18, 20]\n"
     ]
    }
   ],
   "source": [
    "print(sorted(age))"
   ]
  },
  {
   "cell_type": "markdown",
   "id": "b6983303-52ea-4a4a-a06c-58dc91739fcb",
   "metadata": {
    "tags": []
   },
   "source": [
    "##### Вариационный ряд:"
   ]
  },
  {
   "cell_type": "code",
   "execution_count": 3,
   "id": "f37b938c-57d0-44b1-8b57-f75bf3195649",
   "metadata": {},
   "outputs": [
    {
     "name": "stdout",
     "output_type": "stream",
     "text": [
      "xi: {7, 8, 9, 10, 11, 12, 13, 14, 15, 16, 17, 18, 20}\n",
      "ni: [2, 12, 15, 20, 15, 5, 4, 5, 4, 2, 1, 1, 1] Сумма = 87\n",
      "ni: [0.023  0.1379 0.1724 0.2299 0.1724 0.0575 0.046  0.0575 0.046  0.023\n",
      " 0.0115 0.0115 0.0115] Сумма = 1.0\n"
     ]
    }
   ],
   "source": [
    "xi = set(age)\n",
    "print('xi:', xi)\n",
    "ni = [age.count(i) for i in xi]\n",
    "print('ni:', ni,'Сумма =', sum(ni))\n",
    "pi = [i/len(age) for i in ni]\n",
    "print('ni:', np.round(pi,4),'Сумма =', np.round(sum(pi)))"
   ]
  },
  {
   "cell_type": "markdown",
   "id": "4bdc3f03-72ad-485b-bc57-ed96ad2bb25a",
   "metadata": {},
   "source": [
    "|         |       |        |        |        |        |        |       |        |       |       |        |        |        |           |\n",
    "|---------|-------|--------|--------|--------|--------|--------|-------|--------|-------|-------|--------|--------|--------|-----------|\n",
    "| *$x_{i}$* | 7     | 8      | 9      | 10     | 11     | 12     | 13    | 14     | 15    | 16    | 17     | 18     | 20     |           |\n",
    "| *$n_{i}$* | 2     | 12     | 15     | 20     | 15     | 5      | 4     | 5      | 4     | 2     | 1      | 1      | 1      | $\\sum=87$ |\n",
    "| *$p_{i}$* | 0.023 | 0.1379 | 0.1724 | 0.2299 | 0.1724 | 0.0575 | 0.046 | 0.0575 | 0.046 | 0.023 | 0.0115 | 0.0115 | 0.0115 | $\\sum=1$  |"
   ]
  },
  {
   "cell_type": "markdown",
   "id": "88cd9e89-44ba-4b36-9fe9-96115e254c4c",
   "metadata": {},
   "source": [
    "##### Интервальный ряд:"
   ]
  },
  {
   "cell_type": "code",
   "execution_count": 4,
   "id": "30461f55-3e70-4fe2-a888-b6695824891a",
   "metadata": {},
   "outputs": [
    {
     "name": "stdout",
     "output_type": "stream",
     "text": [
      "Количество интервалов k = 8\n",
      "Размах выборки R = 13\n",
      "Длина интервала h = 1.625\n",
      "Интервалы: [7, 8.625]\n",
      "(8.625, 10.25]\n",
      "(10.25, 11.875]\n",
      "(11.875, 13.5]\n",
      "(13.5, 15.125]\n",
      "(15.125, 16.75]\n",
      "(16.75, 18.375]\n",
      "(18.375, 20.0]\n",
      "ni: [14, 35, 15, 9, 9, 2, 2, 1] Сумма = 87\n",
      "pi*: [0.161 0.402 0.172 0.103 0.103 0.023 0.023 0.011] Сумма = 1.0\n"
     ]
    }
   ],
   "source": [
    "k = int(np.ceil(1 + np.log2(n)))\n",
    "print('Количество интервалов k =', k)\n",
    "R = max(age)-min(age)\n",
    "print('Размах выборки R =', R)\n",
    "h = R/k\n",
    "print('Длина интервала h =', round(h,3))\n",
    "x=[0 for i in range(k+1)]\n",
    "x[0] = min(age)\n",
    "for i in range(1,k+1):\n",
    "    x[i] = min(age) + i*h\n",
    "print ('Интервалы:', \"[\"+str(round(x[0],3))+\", \"+str(round(x[1],3))+\"]\")\n",
    "for i in range(2,k+1):\n",
    "    print (\"(\"+str(round(x[i-1],3))+\", \"+str(round(x[i],3))+\"]\")\n",
    "ni_int=[0 for i in range(k)]\n",
    "age_s = sorted(age)\n",
    "ind = [(max(age)-age_s[i])/h for i in range(n)]\n",
    "for i in range(n):\n",
    "    if age_s[i] == min(age): ni_int[0] += 1\n",
    "    else: ni_int[int(k-1-np.trunc(ind[i]))] += 1\n",
    "print('ni:', ni_int,'Сумма =', sum(ni_int))\n",
    "pi_int = np.array(ni_int)/n\n",
    "xi_ = [(x[i]+x[i-1])/2 for i in range(1,k+1)]\n",
    "print('pi*:',np.round(pi_int,3),'Сумма =', np.round(sum(pi_int),3))"
   ]
  },
  {
   "cell_type": "markdown",
   "id": "80a8bccb-788d-4a0f-950e-fdac7b57ab21",
   "metadata": {},
   "source": [
    "|$i$| $(x_{i-1}, x_{i}]$ | $n_{i}$ | $p_{i}^{*}$ |\n",
    "|:-:|:------------------:|:-------:|:-----------:|\n",
    "| 1 |     [7, 8.625]     |    14   |    0.161    |\n",
    "| 2 |   (8.625, 10.25]   |    35   |    0.402    |\n",
    "| 3 |   (10.25, 11.875]  |    15   |    0.172    |\n",
    "| 4 |   (11.875, 13.5]   |    9    |    0.103    |\n",
    "| 5 |   (13.5, 15.125]   |    9    |    0.103    |\n",
    "| 6 |   (15.125, 16.75]  |    2    |    0.023    |\n",
    "| 7 |   (16.75, 18.375]  |    2    |    0.023    |\n",
    "| 8 |   (18.375, 20.0]   |    1    |    0.011    |\n",
    "|   |       $\\sum$       |    87   |      1      |"
   ]
  },
  {
   "cell_type": "markdown",
   "id": "dcde53b9-0492-4f7e-bbdc-d01f632cdb10",
   "metadata": {},
   "source": [
    "#### 3. Для интервального ряда абсолютных частот построить и отобразить графически полигон, гистограмму и эмпирическую функцию. Сделать выводы."
   ]
  },
  {
   "cell_type": "code",
   "execution_count": 5,
   "id": "5b0196c7-5f05-4eb4-9927-3915d12bb284",
   "metadata": {},
   "outputs": [
    {
     "data": {
      "image/png": "[encoded data removed]",
      "text/plain": [
       "<Figure size 576x432 with 1 Axes>"
      ]
     },
     "metadata": {
      "needs_background": "light"
     },
     "output_type": "display_data"
    }
   ],
   "source": [
    "fig, ax = plt.subplots(figsize=(8, 6))\n",
    "plt.plot(xi_,ni_int,'bo-')\n",
    "for i in range(k): plt.plot([xi_[i], xi_[i]], [ni_int[i], 0], 'b--')\n",
    "ax.set_axisbelow(True)\n",
    "ax.set_title('Полигон абсолютных частот')\n",
    "plt.grid(True)\n",
    "plt.ylim(0)\n",
    "plt.show()"
   ]
  },
  {
   "cell_type": "code",
   "execution_count": 6,
   "id": "091e6d92-b155-46a2-8f11-38f3f5fcb5a2",
   "metadata": {},
   "outputs": [
    {
     "data": {
      "image/png": "[encoded data removed]",
      "text/plain": [
       "<Figure size 576x432 with 1 Axes>"
      ]
     },
     "metadata": {
      "needs_background": "light"
     },
     "output_type": "display_data"
    }
   ],
   "source": [
    "fig, ax = plt.subplots(figsize=(8, 6))\n",
    "plt.bar(xi_,np.array(ni_int)/h, width=h, edgecolor='k', color='b')\n",
    "ax.set_axisbelow(True)\n",
    "plt.xlim(7,20)\n",
    "ax.set_title('Гистограмма абсолютных частот')\n",
    "plt.grid(True)\n",
    "plt.show()"
   ]
  },
  {
   "cell_type": "code",
   "execution_count": 7,
   "id": "585d2bad-8619-432b-aa7f-01fc0a3b5975",
   "metadata": {},
   "outputs": [
    {
     "data": {
      "image/png": "[encoded data removed]",
      "text/plain": [
       "<Figure size 576x432 with 1 Axes>"
      ]
     },
     "metadata": {
      "needs_background": "light"
     },
     "output_type": "display_data"
    }
   ],
   "source": [
    "f = [sum(ni_int[0:i]) for i in range(k+1)]\n",
    "fig, ax = plt.subplots(figsize=(8, 6))\n",
    "for i in range(1,k+1): plt.plot([x[i-1], x[i]], [f[i], f[i]], 'b-')\n",
    "plt.plot([x[0], 0], [f[0], f[0]], 'b-')\n",
    "plt.plot(x[0:k],f[0:k],'bo')\n",
    "ax.set_axisbelow(True)\n",
    "ax.set_title('Эмпирическая функция абсолютных частот')\n",
    "plt.grid(True)\n",
    "plt.xlim(6,20)\n",
    "plt.show()"
   ]
  },
  {
   "cell_type": "markdown",
   "id": "84160ab2-3284-4c6d-9f8e-ecbed57ef523",
   "metadata": {},
   "source": [
    "По графикам не понятно, какое распределение у выборки."
   ]
  },
  {
   "cell_type": "markdown",
   "id": "7237dc1b-34d6-4d35-9943-4055f50c7411",
   "metadata": {},
   "source": [
    "#### 4. Аналогичные действия выполнить для интервального ряда относительных частот. Сравнить результаты и сделать выводы."
   ]
  },
  {
   "cell_type": "code",
   "execution_count": 8,
   "id": "70a7e7d1-b41a-49e0-8229-5abf450a8f05",
   "metadata": {},
   "outputs": [
    {
     "data": {
      "image/png": "[encoded data removed]",
      "text/plain": [
       "<Figure size 576x432 with 1 Axes>"
      ]
     },
     "metadata": {
      "needs_background": "light"
     },
     "output_type": "display_data"
    }
   ],
   "source": [
    "fig, ax = plt.subplots(figsize=(8, 6))\n",
    "plt.plot(xi_,pi_int,'bo-')\n",
    "for i in range(k): plt.plot([xi_[i], xi_[i]], [pi_int[i], 0], 'b--')\n",
    "ax.set_axisbelow(True)\n",
    "ax.set_title('Полигон относительных частот')\n",
    "plt.grid(True)\n",
    "plt.ylim(0)\n",
    "plt.show()"
   ]
  },
  {
   "cell_type": "code",
   "execution_count": 9,
   "id": "eb8e4cba-df2b-4ad6-86fd-d4d9a9633618",
   "metadata": {},
   "outputs": [
    {
     "data": {
      "image/png": "[encoded data removed]",
      "text/plain": [
       "<Figure size 576x432 with 1 Axes>"
      ]
     },
     "metadata": {
      "needs_background": "light"
     },
     "output_type": "display_data"
    }
   ],
   "source": [
    "fig, ax = plt.subplots(figsize=(8, 6))\n",
    "plt.bar(xi_,np.array(pi_int)/h, width=h, edgecolor='k', color='b')\n",
    "ax.set_axisbelow(True)\n",
    "plt.xlabel(\"A\")\n",
    "plt.ylabel(\"B\")\n",
    "plt.xlim(7,20)\n",
    "ax.set_title('Гистограмма относительных частот')\n",
    "plt.grid(True)\n",
    "plt.show()"
   ]
  },
  {
   "cell_type": "code",
   "execution_count": 10,
   "id": "7287da29-a02d-4a12-ae75-b8e39e84faed",
   "metadata": {},
   "outputs": [
    {
     "data": {
      "image/png": "[encoded data removed]",
      "text/plain": [
       "<Figure size 576x432 with 1 Axes>"
      ]
     },
     "metadata": {
      "needs_background": "light"
     },
     "output_type": "display_data"
    }
   ],
   "source": [
    "F = [sum(pi_int[0:i]) for i in range(k+1)]\n",
    "fig, ax = plt.subplots(figsize=(8, 6))\n",
    "for i in range(1,k+1): plt.plot([x[i-1], x[i]], [F[i], F[i]], 'b-')\n",
    "plt.plot([x[0], 0], [F[0], F[0]], 'b-')\n",
    "plt.plot(x[0:k],F[0:k],'bo')\n",
    "ax.set_axisbelow(True)\n",
    "ax.set_title('Эмпирическая функция относительных частот')\n",
    "plt.grid(True)\n",
    "plt.xlim(6,20)\n",
    "plt.show()"
   ]
  },
  {
   "cell_type": "markdown",
   "id": "9d5bc06a-0151-4636-838e-0b19b673b960",
   "metadata": {},
   "source": [
    "Видно, что графики из 4 пункта это графики из 3, сжатые по оси y. По графикам не понятно, какое распределение у выборки.\n"
   ]
  },
  {
   "cell_type": "markdown",
   "id": "15102f2d-2fb7-48e2-9b47-1456460d22d3",
   "metadata": {},
   "source": [
    "#### 5. Для интервального ряда найти середины интервалов, а также накопленные частоты. Результаты представить в виде таблицы (в последней строке Σ необходимо записать сумму столбца)"
   ]
  },
  {
   "cell_type": "code",
   "execution_count": 11,
   "id": "4d97c2c3-773a-44ec-8a72-8bd0603b87e7",
   "metadata": {},
   "outputs": [
    {
     "name": "stdout",
     "output_type": "stream",
     "text": [
      "~xi: [7.8125, 9.4375, 11.0625, 12.6875, 14.3125, 15.9375, 17.5625, 19.1875]\n",
      "niΣ: [14, 49, 64, 73, 82, 84, 86, 87] Сумма 539\n",
      "piΣ: [0.161 0.563 0.736 0.839 0.943 0.966 0.989 1.   ] Сумма 6.195\n"
     ]
    }
   ],
   "source": [
    "xi_ = [(x[i]+x[i-1])/2 for i in range(1,k+1)]\n",
    "print('~xi:', xi_)\n",
    "niΣ = [sum(ni_int[0:i]) for i in range(1,k+1)]\n",
    "print('niΣ:', niΣ, 'Сумма', sum(niΣ))\n",
    "piΣ = np.array(niΣ)/n\n",
    "print('piΣ:',np.round(piΣ,3), 'Сумма', np.round(sum(piΣ),3))"
   ]
  },
  {
   "cell_type": "markdown",
   "id": "481dd7d2-01a0-40ef-bf02-430cbf7ebd18",
   "metadata": {},
   "source": [
    "|$i$| $(x_{i-1}, x_i]$ | $\\bar x_i$ | $n_i$ | $p^*_i$ | $n$$^Σ_i$ | $p^Σ_i$ |\n",
    "|:-:|:----------------:|:----------:|:-----:|:-------:|:-------:|:-------:|\n",
    "| 1 |    [7, 8.625]    |   7.8125   |   14  |  0.161  |    14   |  0.161  |\n",
    "| 2 |  (8.625, 10.25]  |   9.4375   |   35  |  0.402  |    49   |  0.563  |\n",
    "| 3 |  (10.25, 11.875] |   11.0625  |   15  |  0.172  |    64   |  0.736  |\n",
    "| 4 |  (11.875, 13.5]  |   12.6875  |   9   |  0.103  |    73   |  0.839  |\n",
    "| 5 |  (13.5, 15.125]  |   14.3125  |   9   |  0.103  |    82   |  0.943  |\n",
    "| 6 |  (15.125, 16.75] |   15.9375  |   2   |  0.023  |    84   |  0.966  |\n",
    "| 7 |  (16.75, 18.375] |   17.5625  |   2   |  0.023  |    86   |  0.989  |\n",
    "| 8 |  (18.375, 20.0]  |   19.1875  |   1   |  0.011  |    87   |    1    |\n",
    "|   |                  |   $\\sum$   |   87  |    1    |    −    |    −    |"
   ]
  },
  {
   "cell_type": "markdown",
   "id": "d5de197c-c277-443d-b710-f0530afbc96f",
   "metadata": {},
   "source": [
    "#### 6. Для полученных вариант вычислить условные варианты. Заполнить расчётную таблицу (в последней строке Σ необходимо записать сумму столбца)"
   ]
  },
  {
   "cell_type": "code",
   "execution_count": 12,
   "id": "2aa4fc86-ab31-4622-abac-d436775fd03e",
   "metadata": {},
   "outputs": [
    {
     "name": "stdout",
     "output_type": "stream",
     "text": [
      "ni: [14, 35, 15, 9, 9, 2, 2, 1] Сумма = 87\n",
      "ui: [-3 -2 -1  0  1  2  3  4] \n",
      "(ui*ni)^j, j = (1,...,4):\n",
      "[[ -42  -70  -15    0    9    4    6    4]\n",
      " [ 126  140   15    0    9    8   18   16]\n",
      " [-378 -280  -15    0    9   16   54   64]\n",
      " [1134  560   15    0    9   32  162  256]\n",
      " [ 224   35    0    9  144  162  512  625]]\n",
      "Суммы = [-104  332 -530 2168 1711]\n"
     ]
    }
   ],
   "source": [
    "ui = [i - 4 for i in range(1,k+1)]\n",
    "print('ni:', ni_int,'Сумма =', sum(ni_int))\n",
    "print('ui:',np.array(ui), '\\n(ui*ni)^j, j = (1,...,4):')\n",
    "niui = [[ni_int[i]*(ui[i]**j) for i in range(k)] for j in range(1,5)]\n",
    "niui.append([ni_int[i]*((1+ui[i])**4) for i in range(k)])\n",
    "print(np.array(niui))\n",
    "Σ = np.array([sum(i) for i in niui])\n",
    "print('Суммы =',Σ)"
   ]
  },
  {
   "cell_type": "markdown",
   "id": "1bebaa14-c8ae-46bd-906b-40fceaf0f20f",
   "metadata": {},
   "source": [
    "| $i$ |  $x_i$  | $n_i$ | $u$$_i$ | $n_iu_i$ | \\begin{equation}n_iu^2_i\\end{equation} | $n_iu$$_i^3$ | $n_iu_i^4$ | \\begin{equation}n_i(u_i+1)^4\\end{equation} |\n",
    "|:-:|:-------:|:-----:|:-----:|:--------:|:----------:|:----------:|:----------:|:--------------:|\n",
    "| 1 |  7.8125 |   14  |   -3  |    -42   |     126    |    -378    |    1134    |       224      |\n",
    "| 2 |  9.4375 |   35  |   -2  |    -70   |     140    |    -280    |     560    |       35       |\n",
    "| 3 | 11.0625 |   15  |   -1  |    -15   |     15     |     -15    |     15     |        0       |\n",
    "| 4 | 12.6875 |   9   |   0   |     0    |      0     |      0     |      0     |        9       |\n",
    "| 5 | 14.3125 |   9   |   1   |     9    |      9     |      9     |      9     |       144      |\n",
    "| 6 | 15.9375 |   2   |   2   |     4    |      8     |     16     |     32     |       162      |\n",
    "| 7 | 17.5625 |   2   |   3   |     6    |     18     |     54     |     162    |       512      |\n",
    "| 8 | 19.1875 |   1   |   4   |     4    |     16     |     64     |     256    |       625      |\n",
    "|   |  $\\sum$ |   87  |   -   |   -104   |     332    |    -530    |    2168    |      1711      |"
   ]
  },
  {
   "cell_type": "code",
   "execution_count": 13,
   "id": "7d90ff96-d312-4f2f-b4e6-8132e9db6d05",
   "metadata": {},
   "outputs": [
    {
     "name": "stdout",
     "output_type": "stream",
     "text": [
      "Проконтролируем корректность вычислений: 4*Σ[0]+6*Σ[1]+4*Σ[2]+Σ[3]+n = 1711 \n",
      "Сумма Σ[4] =  1711\n"
     ]
    }
   ],
   "source": [
    "print('Проконтролируем корректность вычислений: 4*Σ[0]+6*Σ[1]+4*Σ[2]+Σ[3]+n =', 4*Σ[0]+6*Σ[1]+4*Σ[2]+Σ[3]+n, '\\nСумма Σ[4] = ', Σ[4])"
   ]
  },
  {
   "cell_type": "markdown",
   "id": "4038d528-4a14-4105-b5b1-bc5b9d09ce13",
   "metadata": {},
   "source": [
    "Значения совпадают, значит вычисления верные."
   ]
  },
  {
   "cell_type": "markdown",
   "id": "f234cdfe-6abc-45e0-b70c-bb634f9b57c3",
   "metadata": {},
   "source": [
    "#### 7. Вычислить условные эмпирические моменты $\\nu_{i}^{*}$ через условные варианты. С помощью условных эмпирических моментов вычислить центральные эмпирические моменты $\\mu_{i}^{*}$. Полученные результаты занести в таблицу"
   ]
  },
  {
   "cell_type": "code",
   "execution_count": 14,
   "id": "09aa8cf5-108c-4e34-a285-a638d623d2e5",
   "metadata": {},
   "outputs": [
    {
     "name": "stdout",
     "output_type": "stream",
     "text": [
      "nui: [-1.195  3.816 -6.092 24.92 ] mui: [  0.      6.303  17.923 156.075]\n"
     ]
    }
   ],
   "source": [
    "nui = Σ[0:4]/n\n",
    "mui = [0, (nui[1]-nui[0]**2)*(h**2),\n",
    "       (nui[2]-3*nui[0]*nui[1]+2*(nui[0]**3))*(h**3),\n",
    "       (nui[3]-4*nui[0]*nui[2]+6*(nui[0]**2)*nui[1]-3*(nui[0]**4))*(h**4)]\n",
    "print('nui:', np.round(nui,3), 'mui:', np.round(mui,3))"
   ]
  },
  {
   "cell_type": "markdown",
   "id": "0e6dc06b-040e-40ff-9c38-6b365500c9c9",
   "metadata": {},
   "source": [
    "| $i$ | $\\nu_{i}^{*}$ | $\\mu_{i}^{*}$ |\n",
    "|:---:|:-------------:|:-------------:|\n",
    "|  1  |     -1.195    |       0       |\n",
    "|  2  |     3.816     |     6.303     |\n",
    "|  3  |     -6.092    |     17.923    |\n",
    "|  4  |     24.92     |    156.075    |"
   ]
  },
  {
   "cell_type": "markdown",
   "id": "f83f7c23-1671-40d3-87f2-8a243b24593a",
   "metadata": {},
   "source": [
    "#### 8. Вычислить выборочные среднее и дисперсию с помощью стандартной формулы и с помощью условных вариант. Убедиться, что результаты совпадают"
   ]
  },
  {
   "cell_type": "markdown",
   "id": "66c43cb6-eac4-4a2c-b3e6-9def3f63ed99",
   "metadata": {},
   "source": [
    "По стандартной формуле:"
   ]
  },
  {
   "cell_type": "code",
   "execution_count": 15,
   "id": "635a9a75-73e6-41e2-90fd-047a3e66b726",
   "metadata": {},
   "outputs": [
    {
     "name": "stdout",
     "output_type": "stream",
     "text": [
      "хв = 10.745 s = 6.303\n"
     ]
    }
   ],
   "source": [
    "xv = sum(np.array(xi_)*np.array(ni_int))/n\n",
    "D = sum(((np.array(xi_)-xv)**2)*np.array(ni_int))/n\n",
    "print('хв =', np.round(xv,3), 's =', np.round(D,3))"
   ]
  },
  {
   "cell_type": "markdown",
   "id": "b5e0d0c9-8c3d-4902-8b97-4d501cc262f6",
   "metadata": {},
   "source": [
    "Вычисленные с помощью условных вариант:"
   ]
  },
  {
   "cell_type": "code",
   "execution_count": 16,
   "id": "201b0080-dfe2-4d17-bca6-298bbfe5eec4",
   "metadata": {},
   "outputs": [
    {
     "name": "stdout",
     "output_type": "stream",
     "text": [
      "хв = 10.745 s = 6.303\n"
     ]
    }
   ],
   "source": [
    "xv = h*nui[0]+xi_[3]\n",
    "D = mui[1]\n",
    "print('хв =', np.round(xv,3), 's =', np.round(D,3))"
   ]
  },
  {
   "cell_type": "markdown",
   "id": "cff2ac22-984b-4030-8290-337d2fc06ad5",
   "metadata": {},
   "source": [
    "Результаты совпадают."
   ]
  },
  {
   "cell_type": "markdown",
   "id": "7d3f0541-973d-4151-b81c-9b4f7ba5236f",
   "metadata": {},
   "source": [
    "#### 9. Вычислить исправленную выборочную дисперсию и исправленное СКО. Сравнить данные оценки с смещёнными оценками дисперсии и СКО"
   ]
  },
  {
   "cell_type": "code",
   "execution_count": 17,
   "id": "ae23e27e-f3bc-4a85-996b-2004b8e59e47",
   "metadata": {},
   "outputs": [
    {
     "name": "stdout",
     "output_type": "stream",
     "text": [
      "Исправленная выборочная дисперсия = 6.377 Исправленное СКО = 2.525\n"
     ]
    }
   ],
   "source": [
    "s2 = D*n/(n-1)\n",
    "s = s2**0.5\n",
    "print('Исправленная выборочная дисперсия =', np.round(s2,3), 'Исправленное СКО =', np.round(s,3))"
   ]
  },
  {
   "cell_type": "markdown",
   "id": "eefce7d9-bf33-49e6-8b36-0953e126783d",
   "metadata": {},
   "source": [
    "Отношение исправленных оценок дисперсии и СКО к смещённым:"
   ]
  },
  {
   "cell_type": "code",
   "execution_count": 18,
   "id": "32bda8e1-2d55-4b60-be3b-64d1c18fa3e9",
   "metadata": {},
   "outputs": [
    {
     "name": "stdout",
     "output_type": "stream",
     "text": [
      "Дисперсия: 1.012 СКО: 1.006\n"
     ]
    }
   ],
   "source": [
    "print('Дисперсия:', np.round(s2/D,3),'СКО:', np.round(s/(D**0.5),3))"
   ]
  },
  {
   "cell_type": "markdown",
   "id": "847f334e-4190-4fda-bf2b-911456d0f921",
   "metadata": {},
   "source": [
    "#### 10. Найти статистическую оценку коэффициентов асимметрии и эксцесса. Сделать выводы"
   ]
  },
  {
   "cell_type": "markdown",
   "id": "b3bf3fef-cbf9-485d-a0fb-3af4df40c515",
   "metadata": {},
   "source": [
    "Cтатистическая оценка коэффициентов асимметрии и эксцесса:"
   ]
  },
  {
   "cell_type": "code",
   "execution_count": 19,
   "id": "0c5d7f4a-e8e9-4fac-b3fb-e7e92b1e4dd8",
   "metadata": {},
   "outputs": [
    {
     "name": "stdout",
     "output_type": "stream",
     "text": [
      "Коэффициент асимметрии: 1.133 Коэффициент эксцесса: 0.928\n"
     ]
    }
   ],
   "source": [
    "asy = mui[2]/(D**1.5)\n",
    "ek = mui[3]/(D**2)-3\n",
    "print('Коэффициент асимметрии:', np.round(asy,3),'Коэффициент эксцесса:',np.round(ek,3))"
   ]
  },
  {
   "cell_type": "markdown",
   "id": "ba990c40-faff-4eee-ba45-5b048a72f7ca",
   "metadata": {},
   "source": [
    "Коэффициент асимметрии больше 0, значит часть кривой расположена справа от моды.\n",
    "\n",
    "Коэффициент эксцесса больше 0, значит вершина кривой по сравнению с нормальным распределением вытянута вверх."
   ]
  },
  {
   "cell_type": "markdown",
   "id": "bf8af80f-6c62-4352-844c-92ca1910b981",
   "metadata": {},
   "source": [
    "#### 11. Вычислить моду, медиану и коэффициент вариации для заданного распределения. Сделать выводы"
   ]
  },
  {
   "cell_type": "code",
   "execution_count": 20,
   "id": "d859e48e-7fcd-4a69-875e-1f54d273c377",
   "metadata": {},
   "outputs": [
    {
     "name": "stdout",
     "output_type": "stream",
     "text": [
      "Мода 9.457\n",
      "Медиана 9.995\n",
      "Коэффициент вариации 23.366\n"
     ]
    }
   ],
   "source": [
    "Mo = x[1] + h*(ni_int[1]-ni_int[0])/((ni_int[1]-ni_int[0])+(ni_int[1]-ni_int[2]))\n",
    "print('Мода', round(Mo,3))\n",
    "Me = x[1] + h*(0.5-pi_int[0])/pi_int[1]\n",
    "print('Медиана', round(Me,3))\n",
    "v = (D**0.5)/xv*100\n",
    "print('Коэффициент вариации', round(v,3))"
   ]
  },
  {
   "cell_type": "markdown",
   "id": "981392cc-fdb3-451c-b283-0ec70800b970",
   "metadata": {},
   "source": [
    "Медиана приходится на середину ряда наблюдений. Мода заключена в интервале с наибольшей частотой (во 2). Коэффициент вариации то, что, относительно изучаемого признака, колебаемость значительная."
   ]
  },
  {
   "cell_type": "markdown",
   "id": "fdaade15-86e9-4a1a-bdd0-36bb04cbcc94",
   "metadata": {},
   "source": [
    "#### 12. Вычислить точность и доверительный интервал для математического ожидания при неизвестном среднеквадратичном отклонении при заданном объёме выборки для доверительной точности $\\gamma \\in \\{0.95, 0.99\\}$. Сделать выводы"
   ]
  },
  {
   "cell_type": "markdown",
   "id": "b01325b8-ce09-4d66-ae96-22d68bf05872",
   "metadata": {},
   "source": [
    "Для доверительной точности 0,95:"
   ]
  },
  {
   "cell_type": "code",
   "execution_count": 21,
   "id": "9106aed4-b710-450c-a079-e0917cd72c76",
   "metadata": {},
   "outputs": [
    {
     "name": "stdout",
     "output_type": "stream",
     "text": [
      "Точность 0.538\n",
      "Доверительный интервал для математического ожидания (10.207, 11.283)\n"
     ]
    }
   ],
   "source": [
    "delta1 = 1.9876083*s/(n**0.5)\n",
    "l1 = xv - delta1\n",
    "r1 = xv + delta1\n",
    "print ('Точность', round(delta1,3))\n",
    "print('Доверительный интервал для математического ожидания',\"(\"+str(round(l1,3))+\", \"+str(round(r1,3))+\")\")"
   ]
  },
  {
   "cell_type": "markdown",
   "id": "0d0f71ba-f024-4ee2-881f-0d7a4a4874fc",
   "metadata": {},
   "source": [
    "Для доверительной точности 0,99:"
   ]
  },
  {
   "cell_type": "code",
   "execution_count": 22,
   "id": "b8c1a73c-67c7-4c58-a281-395a98f393f7",
   "metadata": {},
   "outputs": [
    {
     "name": "stdout",
     "output_type": "stream",
     "text": [
      "Точность 0.713\n",
      "Доверительный интервал для математического ожидания (10.032, 11.458)\n"
     ]
    }
   ],
   "source": [
    "delta2 = 2.6335272*s/(n**0.5)\n",
    "l2 = xv - delta2\n",
    "r2 = xv + delta2\n",
    "print ('Точность', round(delta2,3))\n",
    "print('Доверительный интервал для математического ожидания',\"(\"+str(round(l2,3))+\", \"+str(round(r2,3))+\")\")"
   ]
  },
  {
   "cell_type": "markdown",
   "id": "6d382d11-67a0-44cc-ba95-a7da4f62749a",
   "metadata": {},
   "source": [
    "#### 13. Для вычисления границ доверительного интервала для среднеквадратичного отклонения определить значение $q$ при заданных $\\gamma$ и $n$. Построить доверительные интервалы, сделать выводы"
   ]
  },
  {
   "cell_type": "markdown",
   "id": "0fc73a14-2ae6-498c-b8f1-41a950d764a1",
   "metadata": {},
   "source": [
    "Для доверительной точности 0,95:"
   ]
  },
  {
   "cell_type": "code",
   "execution_count": 23,
   "id": "4d97903a-dbae-49bb-8865-ad9dcf76bbef",
   "metadata": {},
   "outputs": [
    {
     "name": "stdout",
     "output_type": "stream",
     "text": [
      "Доверительный интервал для среднеквадратичного отклонения (2.136, 2.914)\n"
     ]
    }
   ],
   "source": [
    "q1 = 0.154\n",
    "print ('Доверительный интервал для среднеквадратичного отклонения',\"(\"+str(round(s*(1-q1),3))+\", \"+str(round(s*(1+q1),3))+\")\")"
   ]
  },
  {
   "cell_type": "markdown",
   "id": "4571239f-b647-4a73-bf8f-3d381ab48e8e",
   "metadata": {},
   "source": [
    "Для доверительной точности 0,99:"
   ]
  },
  {
   "cell_type": "code",
   "execution_count": 24,
   "id": "e3ac557d-c4ae-4ac4-90aa-e035b4e6b446",
   "metadata": {},
   "outputs": [
    {
     "name": "stdout",
     "output_type": "stream",
     "text": [
      "Доверительный интервал для среднеквадратичного отклонения (1.977, 3.073)\n"
     ]
    }
   ],
   "source": [
    "q2 = 0.217\n",
    "print ('Доверительный интервал для среднеквадратичного отклонения',\"(\"+str(round(s*(1-q2),3))+\", \"+str(round(s*(1+q2),3))+\")\")"
   ]
  },
  {
   "cell_type": "markdown",
   "id": "c416bb91-94e9-4684-8089-b325a5b8652e",
   "metadata": {},
   "source": [
    "Исправленное и смещённое CКО:"
   ]
  },
  {
   "cell_type": "code",
   "execution_count": 25,
   "id": "2ef04889-ce10-4c1b-b5c2-5f726781a0a9",
   "metadata": {},
   "outputs": [
    {
     "name": "stdout",
     "output_type": "stream",
     "text": [
      "2.511 2.525\n"
     ]
    }
   ],
   "source": [
    "print (round(D**0.5,3), round(s,3))"
   ]
  },
  {
   "cell_type": "markdown",
   "id": "baca9e9d-4724-4f58-be17-172730cf3c12",
   "metadata": {},
   "source": [
    "Видим, что исправленное и смещённое CКО попадают в оба доверительных интервала. Значит вычисления сделаны верно"
   ]
  },
  {
   "cell_type": "markdown",
   "id": "63dd385a-3876-4ec4-9a6b-8d09bf59d688",
   "metadata": {},
   "source": [
    "#### 14. Проверить гипотезу о нормальности заданного распределения с помощью критерия $\\chi^2$ (Пирсона). Для этого необходимо найти теоретические частоты и вычислить наблюдаемое значение критерия. Для удобства вычисления необходимо заполнить расчётную таблицу (в последней строке Σ необходимо записать сумму столбца)"
   ]
  },
  {
   "cell_type": "code",
   "execution_count": 26,
   "id": "42ab1e11-7832-45b8-9782-edbae49b62fe",
   "metadata": {},
   "outputs": [
    {
     "name": "stdout",
     "output_type": "stream",
     "text": [
      "pi: [0.2   0.22  0.253 0.191 0.096 0.032 0.007 0.001] Сумма = 1.0\n",
      "n'i: [17.444 19.157 22.002 16.591  8.317  2.758  0.609  0.104] Сумма = 87\n",
      "(n'i - ni)^2: [ 11.858 250.988  49.032  57.622   0.466   0.574   1.935   0.802]\n",
      "(n'i - ni)^2/n'i: [ 0.68  13.101  2.229  3.473  0.056  0.208  3.177  7.683] hi^2 наблюдаемое = 30.607\n",
      "n^{2}i: [196, 1225, 225, 81, 81, 4, 4, 1]\n",
      "n^{2}i/n'i: [11.236 63.944 10.226  4.882  9.739  1.45   6.568  9.579] Сумма = 117.625\n",
      "Проконтролируем корректность вычислений: Σ(n'i - ni)^2/n'i = 30.607 \n",
      "Σ(n^{2}i/n'i)- n = 30.625\n",
      "Вычисления верны\n",
      "Число степеней свободы = 5\n"
     ]
    }
   ],
   "source": [
    "f = [(i-xv)/(D**0.5) for i in x]\n",
    "gauss = [-0.5, -0.2995, -0.0793, 0.1736, 0.3643, 0.4599, 0.4916, 0.4986, 0.4998, 0.5]\n",
    "pi_t = [gauss[i]-gauss[i-1] for i in range(1,k+1)]\n",
    "print('pi:',np.round(pi_t,3),'Сумма =',round(sum(pi_t),3))\n",
    "ni_s = [i*n for i in pi_t]\n",
    "print('n\\'i:',np.round(ni_s,3),'Сумма =',round(sum(ni_s)))\n",
    "ni_ni_s2 = [(ni_int[i] - ni_s[i])**2 for i in range(k)]\n",
    "print('(n\\'i - ni)^2:',np.round(ni_ni_s2,3))\n",
    "ni_ni_s2_ni_s = [ni_ni_s2[i]/ni_s[i] for i in range(k)]\n",
    "hi_nabl = sum(ni_ni_s2_ni_s)\n",
    "print('(n\\'i - ni)^2/n\\'i:',np.round(ni_ni_s2_ni_s,3),'hi^2 наблюдаемое =',round(hi_nabl,3))\n",
    "ni2 = [i**2 for i in ni_int]\n",
    "print('n^{2}i:',ni2)\n",
    "ni2_ni_s2 = [ni2[i]/ni_s[i] for i in range(k)]\n",
    "print('n^{2}i/n\\'i:',np.round(ni2_ni_s2,3),'Сумма =', round(sum(ni2_ni_s2),3))\n",
    "print('Проконтролируем корректность вычислений: Σ(n\\'i - ni)^2/n\\'i =', round(sum(ni_ni_s2_ni_s),3), '\\nΣ(n^{2}i/n\\'i)- n =', round(sum(ni2_ni_s2),3)-n)\n",
    "print('Вычисления верны')\n",
    "df = k - 2 - 1\n",
    "print('Число степеней свободы =', df)"
   ]
  },
  {
   "cell_type": "markdown",
   "id": "b72339ae-d2e4-4c18-9014-eba4ad36063b",
   "metadata": {},
   "source": [
    "| $i$ | \\begin{equation}(x_{i-1}, x_{i}]\\end{equation} | \\begin{equation}n_i\\end{equation} | \\begin{equation}p_i\\end{equation} | \\begin{equation}n_i^{'}\\end{equation} | \\begin{equation}(n_i-n_i^{'})^2\\end{equation} | \\begin{equation}\\frac{(n_i-n_i^{'})^2}{n_i^{'}}\\end{equation} | \\begin{equation}n_i^{2}\\end{equation} | \\begin{equation}\\frac{n_i^{2}}{n_i^{'}}\\end{equation} |\n",
    "|:---:|:----------------------------------------------:|:---------------------------------:|:---------------------------------:|:-------------------------------------:|:---------------------------------------------:|:-------------------------------------------------------------:|:----------------------:|:-----------------------------------------------------:|\n",
    "|  1  |               ($-\\infty$, 8.625]               |                 14                |                0.2                |                 17.444                |                     11.858                    |                              0.68                             |                  196                  |                         11.236                        |\n",
    "|  2  |                 (8.625, 10.25]                 |                 35                |                0.22               |                 19.157                |                    250.988                    |                             13.101                            |                  1225                 |                         63.944                        |\n",
    "|  3  |                 (10.25, 11.875]                |                 15                |               0.253               |                 22.002                |                     49.032                    |                             2.229                             |                  225                  |                         10.226                        |\n",
    "|  4  |                 (11.875, 13.5]                 |                 9                 |               0.191               |                 16.591                |                     57.622                    |                             3.473                             |                   81                  |                         4.882                         |\n",
    "|  5  |                 (13.5, 15.125]                 |                 9                 |               0.096               |                 8.317                 |                     0.466                     |                             0.056                             |                   81                  |                         9.739                         |\n",
    "|  6  |                 (15.125, 16.75]                |                 2                 |               0.032               |                 2.758                 |                     0.574                     |                             0.208                             |                   4                   |                          1.45                         |\n",
    "|  7  |                 (16.75, 18.375]                |                 2                 |               0.007               |                 0.609                 |                     1.935                     |                             3.177                             |                   4                   |                         6.568                         |\n",
    "|  8  |               (18.375, $\\infty$)               |                 1                 |               0.001               |                 0.104                 |                     0.802                     |                             7.683                             |                   1                   |                         9.579                         |\n",
    "|     |                     $\\sum$                     |                 87                |                 1                 |                   87                  |                       -                       |                             30.607                            |                   -                   |                        117.625                        |"
   ]
  },
  {
   "cell_type": "markdown",
   "id": "7305790f-4b59-407b-9951-f212dbca0a3f",
   "metadata": {},
   "source": [
    "По таблице $\\chi^2(0,05;5)$ критическое = 11.07\n",
    "\n",
    "$\\chi^2$крит < $\\chi^2$набл, значит гипотеза о нормальности заданного распределения отвергается."
   ]
  },
  {
   "cell_type": "markdown",
   "id": "2d49fa45-78a2-4ad5-ab88-c44e938dffb3",
   "metadata": {},
   "source": [
    "## Выводы\n",
    "\n",
    "Была сформирована репрезентативная выборка заданного объема из имеющейся генеральной совокупности экспериментальных данных, осуществлено последовательное преобразование полученной выборки в ранжированный, вариационный и интервальный ряды. Применительно\n",
    "к интервальному ряду были построены и отображены графически полигон, гистограмма и эмпирическую функцию распределения для абсолютных и относительных частот. Для заданных выборочных данных были вычислены с использованием метода моментов и условных вариант точечные статистические оценки математического ожидания, дисперсии, среднеквадратичного отклонения, асимметрии, эксцесса, моды, медианы и коэффициента вариации исследуемой случайной величины. Для заданной надёжности были определены границы доверительных интервалов для математического ожидания и среднеквадратичного отклонения случайной величины. Гипотезу о нормальном распределении исследуемой\n",
    "случайной величины оказалась неверна. Полученные результаты были содержательно проинтерпретированы."
   ]
  }
 ],
 "metadata": {
  "kernelspec": {
   "display_name": "Python 3 (ipykernel)",
   "language": "python",
   "name": "python3"
  },
  "language_info": {
   "codemirror_mode": {
    "name": "ipython",
    "version": 3
   },
   "file_extension": ".py",
   "mimetype": "text/x-python",
   "name": "python",
   "nbconvert_exporter": "python",
   "pygments_lexer": "ipython3",
   "version": "3.9.13"
  }
 },
 "nbformat": 4,
 "nbformat_minor": 5
}
