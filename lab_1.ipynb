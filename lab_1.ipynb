{
 "cells": [
  {
   "cell_type": "markdown",
   "metadata": {},
   "source": [
    "# Практическая работа №1: Формирование и первичная обработка выборки. Нахождение и точечных и интервальных оценок. Проверка статистических гипотез\n",
    "Выполнил студент гр. 0373 Карташов Никита. Вариант №10."
   ]
  },
  {
   "cell_type": "markdown",
   "metadata": {},
   "source": [
    "## Цель работы\n",
    "Ознакомление с основными правилами формирования выборки и подготовки выборочных данных к статистическому анализу. Получение практических навыков нахождения точечных статистических оценок параметров распределения, а также вычисления интервальных статистических оценок параметров распределения выборочных данных и проверки «справедливости» статистических гипотез."
   ]
  },
  {
   "cell_type": "markdown",
   "metadata": {},
   "source": [
    "## Основные теоретические положения\n",
    "Генеральная совокупность - множество реально или гипотетически существующих объектов или явлений, из которых тем или иным способом\n",
    "формируется совокупность выборочная.    \n",
    "Выборочная совокупность - множество объектов, выбранных из генеральной совокупности.    \n",
    "Ранжированный ряд - последовательность всех элементов выборки, расположенных в неубывающем порядке.     \n",
    "Абсолютная частота - значение, показывающее, сколько раз данное значение повторяется в выборке.     \n",
    "Относительная частота - отношение абсолютной частоты значения к объёму выборки.     \n",
    "Вариационный ряд - ранжированный ряд, в котором перечислены величины и их частоты, то есть сколько раз они встречаются в выборке.   \n",
    "Интервальный ряд - вариационный ряд, который разбит на интервалы. Частотой интервала является сумма частот всех попавших в него значений.   \n",
    "Полигон частот - ломаная, которая соединяет точки дискретного ряда $((x_{1}, n_{1}), (x_{2}, n_{2}) ... (x_{k}, n_{k}))$.   \n",
    "Гистограмма частот - ступенчатая фигура, состоящая из прямоугольников, основаниями которых являются частичные интервалы, а высоты равны частотам принадлежащим этим интервалам.     \n",
    "\n",
    "Формула Стёрджеса:   \n",
    "$n = {1 + 3.322 \\cdot lg(N)}$ - количество групп   \n",
    "$h = \\lceil\\frac{x_{max} - x_{min}}{k}\\rceil$ - длина интервала(шаг)  \n",
    "\n",
    "Выборочное среднее - среднее арифметическое значений признака выборки   \n",
    "$\\overline{x} = \\frac{1}{n}\\sum_{i = 1}^{n}x_{i}$  \n",
    "\n",
    "Выборочная дисперсия - среднее арифметическое квадратов отклонений значений признака выборочной совокупности от их среднего значения    \n",
    "$\\sigma^{2} = \\frac{1}{n}\\sum_{i = 1}^{n}(x_{i}-\\overline{x})^{2}$  \n",
    "\n",
    "Среднекрадритичное отклонение - квадратный корень из дисперсии.   \n",
    "$\\sigma = \\sqrt{\\sigma^{2}}$    \n",
    "\n",
    "Условные варианты - варианты, определённые равенством:  \n",
    "$u_{i}=\\frac{x_{i}-C}{h}$, где C - ложный нуль(середина ряда)\n",
    "\n",
    "Условный эмпирический момент порядка порядка r:   \n",
    "$\\nu_{r}^{*} = \\frac{1}{n}\\sum_{i=1}^{k}n_{i}u_{i}^{r}$     \n",
    "\n",
    "Центральные моменты через условные:  \n",
    "$\\mu_1^*=0$  \n",
    "$\\mu_2^*=(\\nu_2^*-(\\nu_1^*)^2)h^2=\\sigma^2$  \n",
    "$\\mu_3^*=(\\nu_3^*-3\\nu_2^*\\nu_1^*+2(\\nu_1^*)^3)h^3$  \n",
    "$\\mu_4^*=(\\nu_4^*-4\\nu_3^*\\nu_1^*+6\\nu_2^*(\\nu_1^*)^2 - 3(\\nu_1^*)^4)$     \n",
    "\n",
    "Выборочное среднее через условный эмпирический момент:  \n",
    "$\\overline{x}=h \\cdot \\mu_1^*+C$    \n",
    "\n",
    "Исправленная дисперсия: $s^2 = \\frac{n}{n-1}\\cdot\\sigma^2$  \n",
    "\n",
    "Мода интервального ряда — число, заключенное в частичный интервал, которому соответствует наибольшая частота:    \n",
    "$M_o^*=x^o_{M_o}+h\\frac{n_{M_o}-n_{M_o-1}}{(n_{M_o}-n_{M_o-1})+(n_{M_o}-n_{M_o+1})}$  \n",
    "\n",
    "Медиана интервального  ряда - число, принадлежащее частичному интервалу, для которого накопленная частота составляет половину всей суммы частот, а накопленная частота предыдущего интервала меньше половины всей суммы частот.  \n",
    "$M^*_e=x^o_{M_e} +\\frac{h}{p^*_{M_e}}(0.5-p^{\\sum}_{M_e-1})$  \n",
    "\n",
    "Коэффициент вариации - мера колеблемости изучаемого признака относительно выборочной средней:   \n",
    "$v^* = \\frac{\\sigma_B}{\\left|\\overline{X}_B \\right|} \\cdot 100$%  \n",
    "\n",
    "Коэффициент ассиметрии: $a_s^*=\\frac{\\mu_3^*}{\\sigma^3}$  \n",
    "Коэффициент эксцесса: $e_k^*=\\frac{\\mu_4^*}{\\sigma^4}-3$  "
   ]
  },
  {
   "cell_type": "markdown",
   "metadata": {},
   "source": [
    "## Постановка задачи.\n",
    "Осуществить формирование репрезентативной выборки заданного объема из имеющейся генеральной совокупности экспериментальных данных.\n",
    "Осуществить последовательное преобразование полученной выборки в ранжированный, вариационный и интервальный ряды. Применительно\n",
    "к интервальному ряду построить и отобразить графически полигон, гистограмму и эмпирическую функцию распределения для абсолютных и\n",
    "относительных частот. Для заданных выборочных данных вычислить с использованием метода моментов и условных вариант точечные статистические оценки математического ожидания, дисперсии, среднеквадратичного отклонения, асимметрии, эксцесса, моды, медианы и коэффициента вариации исследуемой случайной величины. Для заданной надёжности определить границы доверительных интервалов для математического ожидания и среднеквадратичного отклонения случайной величины. Проверить гипотезу о нормальном распределении исследуемой случайной величины с помощью критерия Пирсона $\\chi^2$. Полученные результаты содержательно проинтерпретировать."
   ]
  },
  {
   "cell_type": "markdown",
   "metadata": {},
   "source": [
    "## Выполнение работы"
   ]
  },
  {
   "cell_type": "code",
   "execution_count": 635,
   "metadata": {},
   "outputs": [],
   "source": [
    "import numpy as np\n",
    "import pandas as pd\n",
    "import math\n",
    "from matplotlib import pyplot as plt\n",
    "import scipy.stats"
   ]
  },
  {
   "cell_type": "markdown",
   "metadata": {},
   "source": [
    "### Задание 1."
   ]
  },
  {
   "cell_type": "markdown",
   "metadata": {},
   "source": [
    "Из генеральной совокупности была сформирована выборка заданного объёма в соответствии с полученным от преподавателя номером. Получилась механическая выборка."
   ]
  },
  {
   "cell_type": "code",
   "execution_count": 636,
   "metadata": {},
   "outputs": [
    {
     "name": "stdout",
     "output_type": "stream",
     "text": [
      "Данные:\n"
     ]
    },
    {
     "data": {
      "text/plain": [
       "0     442.246011\n",
       "1     449.454581\n",
       "2     354.176912\n",
       "3     429.770355\n",
       "4     397.094114\n",
       "         ...    \n",
       "87    549.865278\n",
       "88    468.667900\n",
       "89    500.931342\n",
       "90    511.472036\n",
       "91    512.081774\n",
       "Name: MajorAxisLength, Length: 92, dtype: float64"
      ]
     },
     "execution_count": 636,
     "metadata": {},
     "output_type": "execute_result"
    }
   ],
   "source": [
    "full_data = pd.read_csv('data.csv', delimiter=',')\n",
    "data = full_data['MajorAxisLength']\n",
    "print('Данные:')\n",
    "data"
   ]
  },
  {
   "cell_type": "markdown",
   "metadata": {},
   "source": [
    "### Задание 2."
   ]
  },
  {
   "cell_type": "code",
   "execution_count": 637,
   "metadata": {},
   "outputs": [
    {
     "name": "stdout",
     "output_type": "stream",
     "text": [
      "Ранжированный ряд:\n"
     ]
    },
    {
     "data": {
      "text/plain": [
       "39    245.755781\n",
       "43    251.742246\n",
       "26    259.896265\n",
       "14    281.431421\n",
       "24    283.504239\n",
       "         ...    \n",
       "66    648.904219\n",
       "58    690.071994\n",
       "81    694.247550\n",
       "64    731.561876\n",
       "70    820.724022\n",
       "Name: MajorAxisLength, Length: 92, dtype: float64"
      ]
     },
     "execution_count": 637,
     "metadata": {},
     "output_type": "execute_result"
    }
   ],
   "source": [
    "data_ranged = data.sort_values()\n",
    "print('Ранжированный ряд:')\n",
    "data_ranged"
   ]
  },
  {
   "cell_type": "code",
   "execution_count": 638,
   "metadata": {},
   "outputs": [
    {
     "name": "stdout",
     "output_type": "stream",
     "text": [
      "Вариационный ряд:\n"
     ]
    },
    {
     "data": {
      "text/html": [
       "<div>\n",
       "<style scoped>\n",
       "    .dataframe tbody tr th:only-of-type {\n",
       "        vertical-align: middle;\n",
       "    }\n",
       "\n",
       "    .dataframe tbody tr th {\n",
       "        vertical-align: top;\n",
       "    }\n",
       "\n",
       "    .dataframe thead th {\n",
       "        text-align: right;\n",
       "    }\n",
       "</style>\n",
       "<table border=\"1\" class=\"dataframe\">\n",
       "  <thead>\n",
       "    <tr style=\"text-align: right;\">\n",
       "      <th></th>\n",
       "      <th>MajorAxisLength</th>\n",
       "      <th>Frequency</th>\n",
       "    </tr>\n",
       "  </thead>\n",
       "  <tbody>\n",
       "    <tr>\n",
       "      <th>0</th>\n",
       "      <td>245.755781</td>\n",
       "      <td>1</td>\n",
       "    </tr>\n",
       "    <tr>\n",
       "      <th>1</th>\n",
       "      <td>251.742246</td>\n",
       "      <td>1</td>\n",
       "    </tr>\n",
       "    <tr>\n",
       "      <th>2</th>\n",
       "      <td>259.896265</td>\n",
       "      <td>1</td>\n",
       "    </tr>\n",
       "    <tr>\n",
       "      <th>3</th>\n",
       "      <td>281.431421</td>\n",
       "      <td>1</td>\n",
       "    </tr>\n",
       "    <tr>\n",
       "      <th>4</th>\n",
       "      <td>283.504239</td>\n",
       "      <td>1</td>\n",
       "    </tr>\n",
       "    <tr>\n",
       "      <th>...</th>\n",
       "      <td>...</td>\n",
       "      <td>...</td>\n",
       "    </tr>\n",
       "    <tr>\n",
       "      <th>87</th>\n",
       "      <td>648.904219</td>\n",
       "      <td>1</td>\n",
       "    </tr>\n",
       "    <tr>\n",
       "      <th>88</th>\n",
       "      <td>690.071994</td>\n",
       "      <td>1</td>\n",
       "    </tr>\n",
       "    <tr>\n",
       "      <th>89</th>\n",
       "      <td>694.247550</td>\n",
       "      <td>1</td>\n",
       "    </tr>\n",
       "    <tr>\n",
       "      <th>90</th>\n",
       "      <td>731.561876</td>\n",
       "      <td>1</td>\n",
       "    </tr>\n",
       "    <tr>\n",
       "      <th>91</th>\n",
       "      <td>820.724022</td>\n",
       "      <td>1</td>\n",
       "    </tr>\n",
       "  </tbody>\n",
       "</table>\n",
       "<p>92 rows × 2 columns</p>\n",
       "</div>"
      ],
      "text/plain": [
       "    MajorAxisLength  Frequency\n",
       "0        245.755781          1\n",
       "1        251.742246          1\n",
       "2        259.896265          1\n",
       "3        281.431421          1\n",
       "4        283.504239          1\n",
       "..              ...        ...\n",
       "87       648.904219          1\n",
       "88       690.071994          1\n",
       "89       694.247550          1\n",
       "90       731.561876          1\n",
       "91       820.724022          1\n",
       "\n",
       "[92 rows x 2 columns]"
      ]
     },
     "execution_count": 638,
     "metadata": {},
     "output_type": "execute_result"
    }
   ],
   "source": [
    "data_frequency = data.value_counts().sort_index().to_frame()\n",
    "data_frequency.reset_index(inplace=True)\n",
    "data_frequency.columns = ['MajorAxisLength', 'Frequency']\n",
    "print('Вариационный ряд:')\n",
    "data_frequency"
   ]
  },
  {
   "cell_type": "code",
   "execution_count": 639,
   "metadata": {},
   "outputs": [
    {
     "name": "stdout",
     "output_type": "stream",
     "text": [
      "Интервальный ряд:\n"
     ]
    },
    {
     "data": {
      "text/html": [
       "<div>\n",
       "<style scoped>\n",
       "    .dataframe tbody tr th:only-of-type {\n",
       "        vertical-align: middle;\n",
       "    }\n",
       "\n",
       "    .dataframe tbody tr th {\n",
       "        vertical-align: top;\n",
       "    }\n",
       "\n",
       "    .dataframe thead th {\n",
       "        text-align: right;\n",
       "    }\n",
       "</style>\n",
       "<table border=\"1\" class=\"dataframe\">\n",
       "  <thead>\n",
       "    <tr style=\"text-align: right;\">\n",
       "      <th></th>\n",
       "      <th>From</th>\n",
       "      <th>To</th>\n",
       "      <th>Frequency</th>\n",
       "    </tr>\n",
       "  </thead>\n",
       "  <tbody>\n",
       "    <tr>\n",
       "      <th>0</th>\n",
       "      <td>245</td>\n",
       "      <td>317</td>\n",
       "      <td>10</td>\n",
       "    </tr>\n",
       "    <tr>\n",
       "      <th>1</th>\n",
       "      <td>317</td>\n",
       "      <td>389</td>\n",
       "      <td>29</td>\n",
       "    </tr>\n",
       "    <tr>\n",
       "      <th>2</th>\n",
       "      <td>389</td>\n",
       "      <td>461</td>\n",
       "      <td>21</td>\n",
       "    </tr>\n",
       "    <tr>\n",
       "      <th>3</th>\n",
       "      <td>461</td>\n",
       "      <td>533</td>\n",
       "      <td>19</td>\n",
       "    </tr>\n",
       "    <tr>\n",
       "      <th>4</th>\n",
       "      <td>533</td>\n",
       "      <td>605</td>\n",
       "      <td>5</td>\n",
       "    </tr>\n",
       "    <tr>\n",
       "      <th>5</th>\n",
       "      <td>605</td>\n",
       "      <td>677</td>\n",
       "      <td>4</td>\n",
       "    </tr>\n",
       "    <tr>\n",
       "      <th>6</th>\n",
       "      <td>677</td>\n",
       "      <td>749</td>\n",
       "      <td>3</td>\n",
       "    </tr>\n",
       "    <tr>\n",
       "      <th>7</th>\n",
       "      <td>749</td>\n",
       "      <td>821</td>\n",
       "      <td>1</td>\n",
       "    </tr>\n",
       "  </tbody>\n",
       "</table>\n",
       "</div>"
      ],
      "text/plain": [
       "   From   To  Frequency\n",
       "0   245  317         10\n",
       "1   317  389         29\n",
       "2   389  461         21\n",
       "3   461  533         19\n",
       "4   533  605          5\n",
       "5   605  677          4\n",
       "6   677  749          3\n",
       "7   749  821          1"
      ]
     },
     "execution_count": 639,
     "metadata": {},
     "output_type": "execute_result"
    }
   ],
   "source": [
    "data_interval = pd.DataFrame(columns=['From', 'To', 'Frequency'])\n",
    "min_x = math.floor(data_frequency['MajorAxisLength'][0])\n",
    "max_x = math.ceil(data_frequency['MajorAxisLength'][len(data_frequency) - 1])\n",
    "group_count = math.ceil(1+3.322*math.log(len(data), 10))\n",
    "step = math.ceil((max_x - min_x)/group_count)\n",
    "i = 0\n",
    "for k in range(1, group_count + 1):\n",
    "    count = 0\n",
    "    current_max = min_x + step*k\n",
    "    while i < len(data_frequency) and data_frequency['MajorAxisLength'][i] <= current_max:\n",
    "        count = count + 1\n",
    "        i = i + 1\n",
    "    data_interval.loc[k-1] = [current_max - step, current_max, count]\n",
    "print('Интервальный ряд:')\n",
    "data_interval"
   ]
  },
  {
   "cell_type": "markdown",
   "metadata": {},
   "source": [
    "Интервалы получаются вида $(x_1; x_2]$. То есть числа из колонки 'From' не включены в интервал, а числа из колонки 'To' - включены."
   ]
  },
  {
   "cell_type": "markdown",
   "metadata": {},
   "source": [
    "В вариационном ряду каждый элемент встречается лишь единожды."
   ]
  },
  {
   "cell_type": "markdown",
   "metadata": {},
   "source": [
    "### Задание 3."
   ]
  },
  {
   "cell_type": "markdown",
   "metadata": {},
   "source": [
    "Полигон частот:"
   ]
  },
  {
   "cell_type": "code",
   "execution_count": 640,
   "metadata": {},
   "outputs": [
    {
     "data": {
      "image/png": "[encoded data removed]",
      "text/plain": [
       "<Figure size 640x480 with 1 Axes>"
      ]
     },
     "metadata": {},
     "output_type": "display_data"
    }
   ],
   "source": [
    "plt.plot(data_interval['To'], data_interval['Frequency'], color='orange')\n",
    "plt.xticks(data_interval['To'])\n",
    "plt.show()"
   ]
  },
  {
   "cell_type": "markdown",
   "metadata": {},
   "source": [
    "Гистограмма:"
   ]
  },
  {
   "cell_type": "code",
   "execution_count": 641,
   "metadata": {},
   "outputs": [
    {
     "data": {
      "image/png": "[encoded data removed]",
      "text/plain": [
       "<Figure size 640x480 with 1 Axes>"
      ]
     },
     "metadata": {},
     "output_type": "display_data"
    }
   ],
   "source": [
    "intervals = list(data_interval['From']) + list([data_interval['To'][len(data_interval) - 1]])\n",
    "plt.xticks(intervals)\n",
    "plt.bar(data_interval['From'], data_interval['Frequency'], width=step, align='edge', edgecolor='black', color='green')\n",
    "plt.show()"
   ]
  },
  {
   "cell_type": "markdown",
   "metadata": {},
   "source": [
    "Эмпирическая функция:"
   ]
  },
  {
   "cell_type": "code",
   "execution_count": 642,
   "metadata": {},
   "outputs": [
    {
     "data": {
      "image/png": "[encoded data removed]",
      "text/plain": [
       "<Figure size 640x480 with 1 Axes>"
      ]
     },
     "metadata": {},
     "output_type": "display_data"
    }
   ],
   "source": [
    "count_sum = [0]\n",
    "for i in range(len(data_interval)):\n",
    "    count_sum.append(count_sum[-1] + data_interval['Frequency'][i])\n",
    "    plt.plot([data_interval['From'][i], data_interval['To'][i]], [count_sum[-1], count_sum[-1]], color='blue')\n",
    "count_sum.pop(0)\n",
    "plt.xticks(intervals)\n",
    "plt.show()"
   ]
  },
  {
   "cell_type": "markdown",
   "metadata": {},
   "source": [
    "### Задание 4."
   ]
  },
  {
   "cell_type": "code",
   "execution_count": 643,
   "metadata": {},
   "outputs": [
    {
     "data": {
      "text/html": [
       "<div>\n",
       "<style scoped>\n",
       "    .dataframe tbody tr th:only-of-type {\n",
       "        vertical-align: middle;\n",
       "    }\n",
       "\n",
       "    .dataframe tbody tr th {\n",
       "        vertical-align: top;\n",
       "    }\n",
       "\n",
       "    .dataframe thead th {\n",
       "        text-align: right;\n",
       "    }\n",
       "</style>\n",
       "<table border=\"1\" class=\"dataframe\">\n",
       "  <thead>\n",
       "    <tr style=\"text-align: right;\">\n",
       "      <th></th>\n",
       "      <th>From</th>\n",
       "      <th>To</th>\n",
       "      <th>Frequency</th>\n",
       "      <th>Relative_freq</th>\n",
       "    </tr>\n",
       "  </thead>\n",
       "  <tbody>\n",
       "    <tr>\n",
       "      <th>0</th>\n",
       "      <td>245</td>\n",
       "      <td>317</td>\n",
       "      <td>10</td>\n",
       "      <td>0.108696</td>\n",
       "    </tr>\n",
       "    <tr>\n",
       "      <th>1</th>\n",
       "      <td>317</td>\n",
       "      <td>389</td>\n",
       "      <td>29</td>\n",
       "      <td>0.315217</td>\n",
       "    </tr>\n",
       "    <tr>\n",
       "      <th>2</th>\n",
       "      <td>389</td>\n",
       "      <td>461</td>\n",
       "      <td>21</td>\n",
       "      <td>0.228261</td>\n",
       "    </tr>\n",
       "    <tr>\n",
       "      <th>3</th>\n",
       "      <td>461</td>\n",
       "      <td>533</td>\n",
       "      <td>19</td>\n",
       "      <td>0.206522</td>\n",
       "    </tr>\n",
       "    <tr>\n",
       "      <th>4</th>\n",
       "      <td>533</td>\n",
       "      <td>605</td>\n",
       "      <td>5</td>\n",
       "      <td>0.054348</td>\n",
       "    </tr>\n",
       "    <tr>\n",
       "      <th>5</th>\n",
       "      <td>605</td>\n",
       "      <td>677</td>\n",
       "      <td>4</td>\n",
       "      <td>0.043478</td>\n",
       "    </tr>\n",
       "    <tr>\n",
       "      <th>6</th>\n",
       "      <td>677</td>\n",
       "      <td>749</td>\n",
       "      <td>3</td>\n",
       "      <td>0.032609</td>\n",
       "    </tr>\n",
       "    <tr>\n",
       "      <th>7</th>\n",
       "      <td>749</td>\n",
       "      <td>821</td>\n",
       "      <td>1</td>\n",
       "      <td>0.010870</td>\n",
       "    </tr>\n",
       "  </tbody>\n",
       "</table>\n",
       "</div>"
      ],
      "text/plain": [
       "   From   To  Frequency  Relative_freq\n",
       "0   245  317         10       0.108696\n",
       "1   317  389         29       0.315217\n",
       "2   389  461         21       0.228261\n",
       "3   461  533         19       0.206522\n",
       "4   533  605          5       0.054348\n",
       "5   605  677          4       0.043478\n",
       "6   677  749          3       0.032609\n",
       "7   749  821          1       0.010870"
      ]
     },
     "execution_count": 643,
     "metadata": {},
     "output_type": "execute_result"
    }
   ],
   "source": [
    "data_interval['Relative_freq'] = data_interval['Frequency'] / count_sum[-1]\n",
    "data_interval"
   ]
  },
  {
   "cell_type": "markdown",
   "metadata": {},
   "source": [
    "Полигон частот:"
   ]
  },
  {
   "cell_type": "code",
   "execution_count": 644,
   "metadata": {},
   "outputs": [
    {
     "data": {
      "image/png": "[encoded data removed]",
      "text/plain": [
       "<Figure size 640x480 with 1 Axes>"
      ]
     },
     "metadata": {},
     "output_type": "display_data"
    }
   ],
   "source": [
    "plt.plot(data_interval['To'], data_interval['Relative_freq'], color='green')\n",
    "plt.xticks(data_interval['To'])\n",
    "plt.show()"
   ]
  },
  {
   "cell_type": "markdown",
   "metadata": {},
   "source": [
    "Гистограмма:"
   ]
  },
  {
   "cell_type": "code",
   "execution_count": 645,
   "metadata": {},
   "outputs": [
    {
     "data": {
      "image/png": "[encoded data removed]",
      "text/plain": [
       "<Figure size 640x480 with 1 Axes>"
      ]
     },
     "metadata": {},
     "output_type": "display_data"
    }
   ],
   "source": [
    "plt.bar(data_interval['From'], data_interval['Relative_freq'], width=step, align='edge', edgecolor='black', color='orange')\n",
    "plt.xticks(intervals)\n",
    "plt.show()"
   ]
  },
  {
   "cell_type": "markdown",
   "metadata": {},
   "source": [
    "Эмпирическая функция:"
   ]
  },
  {
   "cell_type": "code",
   "execution_count": 646,
   "metadata": {},
   "outputs": [
    {
     "data": {
      "image/png": "[encoded data removed]",
      "text/plain": [
       "<Figure size 640x480 with 1 Axes>"
      ]
     },
     "metadata": {},
     "output_type": "display_data"
    }
   ],
   "source": [
    "relative_freq_sum = [0]\n",
    "for i in range(len(data_interval)):\n",
    "    relative_freq_sum.append(relative_freq_sum[-1] + data_interval['Relative_freq'][i])\n",
    "    plt.plot([data_interval['From'][i], data_interval['To'][i]], [relative_freq_sum[-1], relative_freq_sum[-1]], color='purple')\n",
    "relative_freq_sum.pop(0)\n",
    "plt.xticks(intervals)\n",
    "plt.show()"
   ]
  },
  {
   "cell_type": "markdown",
   "metadata": {},
   "source": [
    "При переходе к относительным частотам пропорции между частотами сохранились. Однако теперь значения стали нормированными - то есть в сумме частоты дают единицу. Однако если мы располагаем только лишь относительными частотами, то мы никогда не узнаем, какова же настоящая сумма частот, ведь относительные частоты в сумме дадут единицу."
   ]
  },
  {
   "cell_type": "markdown",
   "metadata": {},
   "source": [
    "### Задание 5."
   ]
  },
  {
   "cell_type": "code",
   "execution_count": 647,
   "metadata": {},
   "outputs": [
    {
     "data": {
      "text/html": [
       "<div>\n",
       "<style scoped>\n",
       "    .dataframe tbody tr th:only-of-type {\n",
       "        vertical-align: middle;\n",
       "    }\n",
       "\n",
       "    .dataframe tbody tr th {\n",
       "        vertical-align: top;\n",
       "    }\n",
       "\n",
       "    .dataframe thead th {\n",
       "        text-align: right;\n",
       "    }\n",
       "</style>\n",
       "<table border=\"1\" class=\"dataframe\">\n",
       "  <thead>\n",
       "    <tr style=\"text-align: right;\">\n",
       "      <th></th>\n",
       "      <th>From</th>\n",
       "      <th>To</th>\n",
       "      <th>Frequency</th>\n",
       "      <th>Relative_freq</th>\n",
       "      <th>Interval_mid</th>\n",
       "      <th>Cumulative_freq</th>\n",
       "      <th>Cumulative_rel_freq</th>\n",
       "    </tr>\n",
       "  </thead>\n",
       "  <tbody>\n",
       "    <tr>\n",
       "      <th>0</th>\n",
       "      <td>245</td>\n",
       "      <td>317</td>\n",
       "      <td>10</td>\n",
       "      <td>0.108696</td>\n",
       "      <td>281.0</td>\n",
       "      <td>10</td>\n",
       "      <td>0.108696</td>\n",
       "    </tr>\n",
       "    <tr>\n",
       "      <th>1</th>\n",
       "      <td>317</td>\n",
       "      <td>389</td>\n",
       "      <td>29</td>\n",
       "      <td>0.315217</td>\n",
       "      <td>353.0</td>\n",
       "      <td>39</td>\n",
       "      <td>0.423913</td>\n",
       "    </tr>\n",
       "    <tr>\n",
       "      <th>2</th>\n",
       "      <td>389</td>\n",
       "      <td>461</td>\n",
       "      <td>21</td>\n",
       "      <td>0.228261</td>\n",
       "      <td>425.0</td>\n",
       "      <td>60</td>\n",
       "      <td>0.652174</td>\n",
       "    </tr>\n",
       "    <tr>\n",
       "      <th>3</th>\n",
       "      <td>461</td>\n",
       "      <td>533</td>\n",
       "      <td>19</td>\n",
       "      <td>0.206522</td>\n",
       "      <td>497.0</td>\n",
       "      <td>79</td>\n",
       "      <td>0.858696</td>\n",
       "    </tr>\n",
       "    <tr>\n",
       "      <th>4</th>\n",
       "      <td>533</td>\n",
       "      <td>605</td>\n",
       "      <td>5</td>\n",
       "      <td>0.054348</td>\n",
       "      <td>569.0</td>\n",
       "      <td>84</td>\n",
       "      <td>0.913043</td>\n",
       "    </tr>\n",
       "    <tr>\n",
       "      <th>5</th>\n",
       "      <td>605</td>\n",
       "      <td>677</td>\n",
       "      <td>4</td>\n",
       "      <td>0.043478</td>\n",
       "      <td>641.0</td>\n",
       "      <td>88</td>\n",
       "      <td>0.956522</td>\n",
       "    </tr>\n",
       "    <tr>\n",
       "      <th>6</th>\n",
       "      <td>677</td>\n",
       "      <td>749</td>\n",
       "      <td>3</td>\n",
       "      <td>0.032609</td>\n",
       "      <td>713.0</td>\n",
       "      <td>91</td>\n",
       "      <td>0.989130</td>\n",
       "    </tr>\n",
       "    <tr>\n",
       "      <th>7</th>\n",
       "      <td>749</td>\n",
       "      <td>821</td>\n",
       "      <td>1</td>\n",
       "      <td>0.010870</td>\n",
       "      <td>785.0</td>\n",
       "      <td>92</td>\n",
       "      <td>1.000000</td>\n",
       "    </tr>\n",
       "  </tbody>\n",
       "</table>\n",
       "</div>"
      ],
      "text/plain": [
       "   From   To  Frequency  Relative_freq  Interval_mid  Cumulative_freq  \\\n",
       "0   245  317         10       0.108696         281.0               10   \n",
       "1   317  389         29       0.315217         353.0               39   \n",
       "2   389  461         21       0.228261         425.0               60   \n",
       "3   461  533         19       0.206522         497.0               79   \n",
       "4   533  605          5       0.054348         569.0               84   \n",
       "5   605  677          4       0.043478         641.0               88   \n",
       "6   677  749          3       0.032609         713.0               91   \n",
       "7   749  821          1       0.010870         785.0               92   \n",
       "\n",
       "   Cumulative_rel_freq  \n",
       "0             0.108696  \n",
       "1             0.423913  \n",
       "2             0.652174  \n",
       "3             0.858696  \n",
       "4             0.913043  \n",
       "5             0.956522  \n",
       "6             0.989130  \n",
       "7             1.000000  "
      ]
     },
     "execution_count": 647,
     "metadata": {},
     "output_type": "execute_result"
    }
   ],
   "source": [
    "mid_of_intervals = []\n",
    "for i in range(len(intervals) - 1):\n",
    "    mid_of_intervals.append((intervals[i] + intervals[i+1])/2)\n",
    "data_interval['Interval_mid'] = mid_of_intervals\n",
    "data_interval['Cumulative_freq'] = count_sum\n",
    "data_interval['Cumulative_rel_freq'] = relative_freq_sum\n",
    "data_interval"
   ]
  },
  {
   "cell_type": "code",
   "execution_count": 648,
   "metadata": {},
   "outputs": [
    {
     "data": {
      "text/html": [
       "<div>\n",
       "<style scoped>\n",
       "    .dataframe tbody tr th:only-of-type {\n",
       "        vertical-align: middle;\n",
       "    }\n",
       "\n",
       "    .dataframe tbody tr th {\n",
       "        vertical-align: top;\n",
       "    }\n",
       "\n",
       "    .dataframe thead th {\n",
       "        text-align: right;\n",
       "    }\n",
       "</style>\n",
       "<table border=\"1\" class=\"dataframe\">\n",
       "  <thead>\n",
       "    <tr style=\"text-align: right;\">\n",
       "      <th></th>\n",
       "      <th>(X(i-1); X(i)]</th>\n",
       "      <th>x̃_i</th>\n",
       "      <th>n_i</th>\n",
       "      <th>p*_i</th>\n",
       "      <th>n_i_sum</th>\n",
       "      <th>p_i_sum</th>\n",
       "    </tr>\n",
       "  </thead>\n",
       "  <tbody>\n",
       "    <tr>\n",
       "      <th>1</th>\n",
       "      <td>(245; 317]</td>\n",
       "      <td>281.0</td>\n",
       "      <td>10</td>\n",
       "      <td>0.108696</td>\n",
       "      <td>10</td>\n",
       "      <td>0.108696</td>\n",
       "    </tr>\n",
       "    <tr>\n",
       "      <th>2</th>\n",
       "      <td>(317; 389]</td>\n",
       "      <td>353.0</td>\n",
       "      <td>29</td>\n",
       "      <td>0.315217</td>\n",
       "      <td>39</td>\n",
       "      <td>0.423913</td>\n",
       "    </tr>\n",
       "    <tr>\n",
       "      <th>3</th>\n",
       "      <td>(389; 461]</td>\n",
       "      <td>425.0</td>\n",
       "      <td>21</td>\n",
       "      <td>0.228261</td>\n",
       "      <td>60</td>\n",
       "      <td>0.652174</td>\n",
       "    </tr>\n",
       "    <tr>\n",
       "      <th>4</th>\n",
       "      <td>(461; 533]</td>\n",
       "      <td>497.0</td>\n",
       "      <td>19</td>\n",
       "      <td>0.206522</td>\n",
       "      <td>79</td>\n",
       "      <td>0.858696</td>\n",
       "    </tr>\n",
       "    <tr>\n",
       "      <th>5</th>\n",
       "      <td>(533; 605]</td>\n",
       "      <td>569.0</td>\n",
       "      <td>5</td>\n",
       "      <td>0.054348</td>\n",
       "      <td>84</td>\n",
       "      <td>0.913043</td>\n",
       "    </tr>\n",
       "    <tr>\n",
       "      <th>6</th>\n",
       "      <td>(605; 677]</td>\n",
       "      <td>641.0</td>\n",
       "      <td>4</td>\n",
       "      <td>0.043478</td>\n",
       "      <td>88</td>\n",
       "      <td>0.956522</td>\n",
       "    </tr>\n",
       "    <tr>\n",
       "      <th>7</th>\n",
       "      <td>(677; 749]</td>\n",
       "      <td>713.0</td>\n",
       "      <td>3</td>\n",
       "      <td>0.032609</td>\n",
       "      <td>91</td>\n",
       "      <td>0.98913</td>\n",
       "    </tr>\n",
       "    <tr>\n",
       "      <th>8</th>\n",
       "      <td>(749; 821]</td>\n",
       "      <td>785.0</td>\n",
       "      <td>1</td>\n",
       "      <td>0.010870</td>\n",
       "      <td>92</td>\n",
       "      <td>1.0</td>\n",
       "    </tr>\n",
       "    <tr>\n",
       "      <th>Sum</th>\n",
       "      <td>-</td>\n",
       "      <td>-</td>\n",
       "      <td>92</td>\n",
       "      <td>1.000000</td>\n",
       "      <td>-</td>\n",
       "      <td>-</td>\n",
       "    </tr>\n",
       "  </tbody>\n",
       "</table>\n",
       "</div>"
      ],
      "text/plain": [
       "    (X(i-1); X(i)]   x̃_i  n_i      p*_i n_i_sum   p_i_sum\n",
       "1       (245; 317]  281.0   10  0.108696      10  0.108696\n",
       "2       (317; 389]  353.0   29  0.315217      39  0.423913\n",
       "3       (389; 461]  425.0   21  0.228261      60  0.652174\n",
       "4       (461; 533]  497.0   19  0.206522      79  0.858696\n",
       "5       (533; 605]  569.0    5  0.054348      84  0.913043\n",
       "6       (605; 677]  641.0    4  0.043478      88  0.956522\n",
       "7       (677; 749]  713.0    3  0.032609      91   0.98913\n",
       "8       (749; 821]  785.0    1  0.010870      92       1.0\n",
       "Sum              -      -   92  1.000000       -         -"
      ]
     },
     "execution_count": 648,
     "metadata": {},
     "output_type": "execute_result"
    }
   ],
   "source": [
    "index_column = list(range(1, len(data_interval) + 1)).append('Sum')\n",
    "table_for_5 = pd.DataFrame(columns=['(X(i-1); X(i)]', u'x\\u0303_i', 'n_i', 'p*_i', 'n_i_sum', 'p_i_sum'], index=index_column)\n",
    "for i in range(len(data_interval)):\n",
    "    table_for_5.loc[i + 1] = [f\"({data_interval['From'][i]}; {data_interval['To'][i]}]\", data_interval['Interval_mid'][i], data_interval['Frequency'][i], data_interval['Relative_freq'][i], data_interval['Cumulative_freq'][i], data_interval['Cumulative_rel_freq'][i]]\n",
    "table_for_5.loc['Sum'] = ['-', '-', count_sum[-1], relative_freq_sum[-1], '-', '-']\n",
    "table_for_5"
   ]
  },
  {
   "cell_type": "markdown",
   "metadata": {},
   "source": [
    "### Задание 6."
   ]
  },
  {
   "cell_type": "code",
   "execution_count": 649,
   "metadata": {},
   "outputs": [],
   "source": [
    "C = (len(data_interval) - 1)/2\n",
    "C = data_interval['Interval_mid'][math.floor(C) if data_interval['Frequency'][math.floor(C)] > data_interval['Frequency'][math.ceil(C)] else math.ceil(C)]\n",
    "h = data_interval['Interval_mid'][1] - data_interval['Interval_mid'][0]\n",
    "u_1 = []\n",
    "for i in range(len(data_interval)):\n",
    "    u_1.append((data_interval['Interval_mid'][i] - C)/h)\n",
    "n_u_1 = []\n",
    "n_u_2 = []\n",
    "n_u_3 = []\n",
    "n_u_4 = []\n",
    "n_u_4_1 = []\n",
    "for i in range(len(data_interval)):\n",
    "    n_u_1.append(data_interval['Frequency'][i] * u_1[i])\n",
    "    n_u_2.append(data_interval['Frequency'][i] * u_1[i]**2)\n",
    "    n_u_3.append(data_interval['Frequency'][i] * u_1[i]**3)\n",
    "    n_u_4.append(data_interval['Frequency'][i] * u_1[i]**4)\n",
    "    n_u_4_1.append(data_interval['Frequency'][i] * (u_1[i] + 1)**4)"
   ]
  },
  {
   "cell_type": "code",
   "execution_count": 650,
   "metadata": {},
   "outputs": [
    {
     "data": {
      "text/html": [
       "<div>\n",
       "<style scoped>\n",
       "    .dataframe tbody tr th:only-of-type {\n",
       "        vertical-align: middle;\n",
       "    }\n",
       "\n",
       "    .dataframe tbody tr th {\n",
       "        vertical-align: top;\n",
       "    }\n",
       "\n",
       "    .dataframe thead th {\n",
       "        text-align: right;\n",
       "    }\n",
       "</style>\n",
       "<table border=\"1\" class=\"dataframe\">\n",
       "  <thead>\n",
       "    <tr style=\"text-align: right;\">\n",
       "      <th></th>\n",
       "      <th>x̃_i</th>\n",
       "      <th>n_i</th>\n",
       "      <th>u_i</th>\n",
       "      <th>(n_i)(u_i)</th>\n",
       "      <th>(n_i)(u_i)^2</th>\n",
       "      <th>(n_i)(u_i)^3</th>\n",
       "      <th>(n_i)(u_i)^4</th>\n",
       "      <th>(n_i)(u_i + 1)^4</th>\n",
       "    </tr>\n",
       "  </thead>\n",
       "  <tbody>\n",
       "    <tr>\n",
       "      <th>1</th>\n",
       "      <td>281.0</td>\n",
       "      <td>10.0</td>\n",
       "      <td>-3.0</td>\n",
       "      <td>-30.0</td>\n",
       "      <td>90.0</td>\n",
       "      <td>-270.0</td>\n",
       "      <td>810.0</td>\n",
       "      <td>160.0</td>\n",
       "    </tr>\n",
       "    <tr>\n",
       "      <th>2</th>\n",
       "      <td>353.0</td>\n",
       "      <td>29.0</td>\n",
       "      <td>-2.0</td>\n",
       "      <td>-58.0</td>\n",
       "      <td>116.0</td>\n",
       "      <td>-232.0</td>\n",
       "      <td>464.0</td>\n",
       "      <td>29.0</td>\n",
       "    </tr>\n",
       "    <tr>\n",
       "      <th>3</th>\n",
       "      <td>425.0</td>\n",
       "      <td>21.0</td>\n",
       "      <td>-1.0</td>\n",
       "      <td>-21.0</td>\n",
       "      <td>21.0</td>\n",
       "      <td>-21.0</td>\n",
       "      <td>21.0</td>\n",
       "      <td>0.0</td>\n",
       "    </tr>\n",
       "    <tr>\n",
       "      <th>4</th>\n",
       "      <td>497.0</td>\n",
       "      <td>19.0</td>\n",
       "      <td>0.0</td>\n",
       "      <td>0.0</td>\n",
       "      <td>0.0</td>\n",
       "      <td>0.0</td>\n",
       "      <td>0.0</td>\n",
       "      <td>19.0</td>\n",
       "    </tr>\n",
       "    <tr>\n",
       "      <th>5</th>\n",
       "      <td>569.0</td>\n",
       "      <td>5.0</td>\n",
       "      <td>1.0</td>\n",
       "      <td>5.0</td>\n",
       "      <td>5.0</td>\n",
       "      <td>5.0</td>\n",
       "      <td>5.0</td>\n",
       "      <td>80.0</td>\n",
       "    </tr>\n",
       "    <tr>\n",
       "      <th>6</th>\n",
       "      <td>641.0</td>\n",
       "      <td>4.0</td>\n",
       "      <td>2.0</td>\n",
       "      <td>8.0</td>\n",
       "      <td>16.0</td>\n",
       "      <td>32.0</td>\n",
       "      <td>64.0</td>\n",
       "      <td>324.0</td>\n",
       "    </tr>\n",
       "    <tr>\n",
       "      <th>7</th>\n",
       "      <td>713.0</td>\n",
       "      <td>3.0</td>\n",
       "      <td>3.0</td>\n",
       "      <td>9.0</td>\n",
       "      <td>27.0</td>\n",
       "      <td>81.0</td>\n",
       "      <td>243.0</td>\n",
       "      <td>768.0</td>\n",
       "    </tr>\n",
       "    <tr>\n",
       "      <th>8</th>\n",
       "      <td>785.0</td>\n",
       "      <td>1.0</td>\n",
       "      <td>4.0</td>\n",
       "      <td>4.0</td>\n",
       "      <td>16.0</td>\n",
       "      <td>64.0</td>\n",
       "      <td>256.0</td>\n",
       "      <td>625.0</td>\n",
       "    </tr>\n",
       "    <tr>\n",
       "      <th>Sum</th>\n",
       "      <td>-</td>\n",
       "      <td>92.0</td>\n",
       "      <td>-</td>\n",
       "      <td>-83.0</td>\n",
       "      <td>291.0</td>\n",
       "      <td>-341.0</td>\n",
       "      <td>1863.0</td>\n",
       "      <td>2005.0</td>\n",
       "    </tr>\n",
       "  </tbody>\n",
       "</table>\n",
       "</div>"
      ],
      "text/plain": [
       "      x̃_i   n_i  u_i  (n_i)(u_i)  (n_i)(u_i)^2  (n_i)(u_i)^3  (n_i)(u_i)^4  \\\n",
       "1    281.0  10.0 -3.0       -30.0          90.0        -270.0         810.0   \n",
       "2    353.0  29.0 -2.0       -58.0         116.0        -232.0         464.0   \n",
       "3    425.0  21.0 -1.0       -21.0          21.0         -21.0          21.0   \n",
       "4    497.0  19.0  0.0         0.0           0.0           0.0           0.0   \n",
       "5    569.0   5.0  1.0         5.0           5.0           5.0           5.0   \n",
       "6    641.0   4.0  2.0         8.0          16.0          32.0          64.0   \n",
       "7    713.0   3.0  3.0         9.0          27.0          81.0         243.0   \n",
       "8    785.0   1.0  4.0         4.0          16.0          64.0         256.0   \n",
       "Sum      -  92.0    -       -83.0         291.0        -341.0        1863.0   \n",
       "\n",
       "     (n_i)(u_i + 1)^4  \n",
       "1               160.0  \n",
       "2                29.0  \n",
       "3                 0.0  \n",
       "4                19.0  \n",
       "5                80.0  \n",
       "6               324.0  \n",
       "7               768.0  \n",
       "8               625.0  \n",
       "Sum            2005.0  "
      ]
     },
     "execution_count": 650,
     "metadata": {},
     "output_type": "execute_result"
    }
   ],
   "source": [
    "table_for_6 = pd.DataFrame(columns=[u'x\\u0303_i', 'n_i', 'u_i', '(n_i)(u_i)', '(n_i)(u_i)^2', '(n_i)(u_i)^3', '(n_i)(u_i)^4', '(n_i)(u_i + 1)^4'], index=index_column)\n",
    "for i in range(len(data_interval)):\n",
    "    table_for_6.loc[i+1] = [data_interval['Interval_mid'][i], data_interval['Frequency'][i], u_1[i], n_u_1[i], n_u_2[i], n_u_3[i], n_u_4[i], n_u_4_1[i]]\n",
    "table_for_6.loc['Sum'] = ['-', count_sum[-1], '-', np.sum(n_u_1), np.sum(n_u_2), np.sum(n_u_3), np.sum(n_u_4), np.sum(n_u_4_1)]\n",
    "table_for_6"
   ]
  },
  {
   "cell_type": "markdown",
   "metadata": {},
   "source": [
    "### Задание 7."
   ]
  },
  {
   "cell_type": "code",
   "execution_count": 651,
   "metadata": {},
   "outputs": [
    {
     "data": {
      "text/html": [
       "<div>\n",
       "<style scoped>\n",
       "    .dataframe tbody tr th:only-of-type {\n",
       "        vertical-align: middle;\n",
       "    }\n",
       "\n",
       "    .dataframe tbody tr th {\n",
       "        vertical-align: top;\n",
       "    }\n",
       "\n",
       "    .dataframe thead th {\n",
       "        text-align: right;\n",
       "    }\n",
       "</style>\n",
       "<table border=\"1\" class=\"dataframe\">\n",
       "  <thead>\n",
       "    <tr style=\"text-align: right;\">\n",
       "      <th></th>\n",
       "      <th>V*_i</th>\n",
       "      <th>Mu*_i</th>\n",
       "    </tr>\n",
       "  </thead>\n",
       "  <tbody>\n",
       "    <tr>\n",
       "      <th>1</th>\n",
       "      <td>-0.902174</td>\n",
       "      <td>0</td>\n",
       "    </tr>\n",
       "    <tr>\n",
       "      <th>2</th>\n",
       "      <td>3.163043</td>\n",
       "      <td>12177.867675</td>\n",
       "    </tr>\n",
       "    <tr>\n",
       "      <th>3</th>\n",
       "      <td>-3.706522</td>\n",
       "      <td>1263718.234569</td>\n",
       "    </tr>\n",
       "    <tr>\n",
       "      <th>4</th>\n",
       "      <td>20.25</td>\n",
       "      <td>546443540.748982</td>\n",
       "    </tr>\n",
       "  </tbody>\n",
       "</table>\n",
       "</div>"
      ],
      "text/plain": [
       "       V*_i             Mu*_i\n",
       "1 -0.902174                 0\n",
       "2  3.163043      12177.867675\n",
       "3 -3.706522    1263718.234569\n",
       "4     20.25  546443540.748982"
      ]
     },
     "execution_count": 651,
     "metadata": {},
     "output_type": "execute_result"
    }
   ],
   "source": [
    "v_i = []\n",
    "for i in range(4):\n",
    "    v_i.append(table_for_6.loc['Sum'][i + 3]/count_sum[-1])\n",
    "mu_i = [0, (v_i[1] - v_i[0]**2)*h**2, (v_i[2] - 3*v_i[1]*v_i[0] + 2*v_i[0]**3)*h**3, (v_i[3] - 4*v_i[2]*v_i[0] + 6*v_i[1]*v_i[0]**2 - 3*v_i[0]**4)*h**4]\n",
    "table_for_7 = pd.DataFrame(columns=['V*_i', 'Mu*_i'], index=range(1,5))\n",
    "for i in range(4):\n",
    "    table_for_7.loc[i+1] = [v_i[i], mu_i[i]]\n",
    "table_for_7"
   ]
  },
  {
   "cell_type": "markdown",
   "metadata": {},
   "source": [
    "### Задание 8."
   ]
  },
  {
   "cell_type": "code",
   "execution_count": 652,
   "metadata": {},
   "outputs": [
    {
     "name": "stdout",
     "output_type": "stream",
     "text": [
      "Выборочное среднее по стандартной формуле: 430.55919882608697\n",
      "Выборочное среднее с помощью условных вариант: 497.0\n",
      "Дисперсия с помощью стандартной формулы: 12435.533661202688\n",
      "Дисперсия с помощью условных вариант: 12177.867674858224\n",
      "Разница между дисперсиями: 257.6659863444638\n"
     ]
    }
   ],
   "source": [
    "n = len(data)\n",
    "mid_x_standard = np.sum(data)/n\n",
    "mid_x_mu = mu_i[0]*h + C\n",
    "sigma_square_standard = 0\n",
    "for i in range(len(data_frequency)):\n",
    "    sigma_square_standard += (data_frequency['Frequency'][i]*(data_frequency['MajorAxisLength'][i] - mid_x_standard)**2)/n\n",
    "print('Выборочное среднее по стандартной формуле:', mid_x_standard)\n",
    "print('Выборочное среднее с помощью условных вариант:', mid_x_mu)\n",
    "print('Дисперсия с помощью стандартной формулы:', sigma_square_standard)\n",
    "print('Дисперсия с помощью условных вариант:', mu_i[1])\n",
    "print('Разница между дисперсиями:', abs(sigma_square_standard - mu_i[1]))"
   ]
  },
  {
   "cell_type": "markdown",
   "metadata": {},
   "source": [
    "Учитывая величину дисперсий, разница оказалась совсем небольшой."
   ]
  },
  {
   "cell_type": "markdown",
   "metadata": {},
   "source": [
    "### Задание 9."
   ]
  },
  {
   "cell_type": "code",
   "execution_count": 653,
   "metadata": {},
   "outputs": [
    {
     "name": "stdout",
     "output_type": "stream",
     "text": [
      "Исправленная дисперсия: 12572.18787725986\n",
      "Исправленное СКО: 112.12576812338838\n",
      "Разница между смещённой и несмещённой дисперсией составляет: 136.65421605717165\n",
      "Разница между смещённым и несмещённым СКО составляет: 0.6110441574354013\n"
     ]
    }
   ],
   "source": [
    "sigma = sigma_square_standard**0.5 # Смещённое СКО. Вычислили взяв корень из обычной дисперсии. А обычная дисперсия считается смещённой\n",
    "sigma_square_fixed = sigma_square_standard*n/(n-1) # Теперь нашли несмещённую(исправленную) дисперсию\n",
    "sigma_fixed = sigma_square_fixed**0.5 # И взяв корень нашли несмещённое(исправленное) СКО\n",
    "print('Исправленная дисперсия:', sigma_square_fixed)\n",
    "print('Исправленное СКО:', sigma_fixed)\n",
    "print('Разница между смещённой и несмещённой дисперсией составляет:', abs(sigma_square_standard - sigma_square_fixed))\n",
    "print('Разница между смещённым и несмещённым СКО составляет:', abs(sigma - sigma_fixed))"
   ]
  },
  {
   "cell_type": "markdown",
   "metadata": {},
   "source": [
    "### Задание 10."
   ]
  },
  {
   "cell_type": "code",
   "execution_count": 654,
   "metadata": {},
   "outputs": [
    {
     "name": "stdout",
     "output_type": "stream",
     "text": [
      "Коэффициент ассиметрии: 0.9403583300862578\n",
      "Коэффициент эксцесса: 0.6847056082791867\n"
     ]
    }
   ],
   "source": [
    "assymetry = mu_i[2]/(mu_i[1]**(3/2))\n",
    "excess = mu_i[3]/(mu_i[1]**2) - 3\n",
    "print('Коэффициент ассиметрии:', assymetry)\n",
    "print('Коэффициент эксцесса:', excess)"
   ]
  },
  {
   "cell_type": "markdown",
   "metadata": {},
   "source": [
    "### Задание 11."
   ]
  },
  {
   "cell_type": "code",
   "execution_count": 655,
   "metadata": {},
   "outputs": [
    {
     "name": "stdout",
     "output_type": "stream",
     "text": [
      "Мода: 367.6666666666667\n"
     ]
    }
   ],
   "source": [
    "max_frequency = data_interval['Frequency'][0]\n",
    "max_frequency_index = 0\n",
    "for i in range(1, len(data_interval)):\n",
    "    if data_interval['Frequency'][i] > max_frequency:\n",
    "        max_frequency = data_interval['Frequency'][i]\n",
    "        max_frequency_index = i\n",
    "if max_frequency_index - 1 == -1:\n",
    "    n_m0_minus = 0\n",
    "else:\n",
    "    n_m0_minus = data_interval['Frequency'][max_frequency_index-1]\n",
    "if max_frequency_index + 1 == len(data_interval):\n",
    "    n_m0_plus = 0\n",
    "else:\n",
    "    n_m0_plus = data_interval['Frequency'][max_frequency_index+1]\n",
    "n_m0 = data_interval['Frequency'][max_frequency_index]\n",
    "mode_0 = data_interval['From'][max_frequency_index] + h*((n_m0 - n_m0_minus)/((n_m0 - n_m0_minus)+(n_m0 - n_m0_plus)))\n",
    "print('Мода:', mode_0)"
   ]
  },
  {
   "cell_type": "code",
   "execution_count": 656,
   "metadata": {},
   "outputs": [
    {
     "name": "stdout",
     "output_type": "stream",
     "text": [
      "Медиана: 407.9473684210526\n"
     ]
    }
   ],
   "source": [
    "i = 0\n",
    "while data_interval['Cumulative_freq'][i] <= n/2:\n",
    "    i = i + 1\n",
    "i = i + 1 if i != 0 else 0\n",
    "median_0 = data_interval['From'][i] + h*(0.5 - data_interval['Cumulative_rel_freq'][i-1])/data_interval['Relative_freq'][i]\n",
    "print('Медиана:', median_0)"
   ]
  },
  {
   "cell_type": "code",
   "execution_count": 657,
   "metadata": {},
   "outputs": [
    {
     "name": "stdout",
     "output_type": "stream",
     "text": [
      "Коэффициент вариации: 22.203898664719073 %\n"
     ]
    }
   ],
   "source": [
    "variation_k = (mu_i[1]**0.5)*100/mid_x_mu\n",
    "print(f'Коэффициент вариации: {variation_k} %')"
   ]
  },
  {
   "cell_type": "markdown",
   "metadata": {},
   "source": [
    "Коэффициент вариации меньше 33%, следовательно выборка однородная. "
   ]
  },
  {
   "cell_type": "markdown",
   "metadata": {},
   "source": [
    "### Задание 12."
   ]
  },
  {
   "cell_type": "code",
   "execution_count": 658,
   "metadata": {},
   "outputs": [
    {
     "name": "stdout",
     "output_type": "stream",
     "text": [
      "Точность: 30.393790493232093\n",
      "Доверительный интервал: (400.1654083328549; 460.95298931931904)\n"
     ]
    }
   ],
   "source": [
    "t1 = 1.99\n",
    "t2 = 2.6\n",
    "t_max = max(t1, t2)\n",
    "precision = t_max*sigma_fixed/n**0.5\n",
    "left_side = mid_x_standard - precision\n",
    "right_side = mid_x_standard + precision\n",
    "print('Точность:', precision)\n",
    "print(f'Доверительный интервал: ({left_side}; {right_side})')"
   ]
  },
  {
   "cell_type": "markdown",
   "metadata": {},
   "source": [
    "Выборочное среднее попадает в доверительный интервал. Всё хорошо."
   ]
  },
  {
   "cell_type": "markdown",
   "metadata": {},
   "source": [
    "### Задание 13."
   ]
  },
  {
   "cell_type": "code",
   "execution_count": 659,
   "metadata": {},
   "outputs": [
    {
     "name": "stdout",
     "output_type": "stream",
     "text": [
      "Доверительный интервал: (88.57935681747682; 135.67217942929994)\n"
     ]
    }
   ],
   "source": [
    "q_1 = 0.15\n",
    "q_2 = 0.21\n",
    "left_side_2 = sigma_fixed*(1-q_2)\n",
    "right_side_2 = sigma_fixed*(1+q_2)\n",
    "print(f'Доверительный интервал: ({left_side_2}; {right_side_2})')"
   ]
  },
  {
   "cell_type": "markdown",
   "metadata": {},
   "source": [
    "СКО попадает в доверительный интервал. Всё хорошо."
   ]
  },
  {
   "cell_type": "markdown",
   "metadata": {},
   "source": [
    "### Задание 14."
   ]
  },
  {
   "cell_type": "code",
   "execution_count": 660,
   "metadata": {},
   "outputs": [],
   "source": [
    "p_i = []\n",
    "for i in range(len(data_interval)):\n",
    "    p_i.append(scipy.stats.norm.cdf((data_interval['To'][i] - mid_x_mu)/mu_i[1]**0.5) - scipy.stats.norm.cdf((data_interval['From'][i] - mid_x_mu)/mu_i[1]**0.5))\n",
    "n_correcting = []\n",
    "for i in range(len(data_interval)):\n",
    "    n_correcting.append(n*p_i[i])\n",
    "n_i_minus_n_corr = []\n",
    "for i in range(len(data_interval)):\n",
    "    n_i_minus_n_corr.append((data_interval['Frequency'][i] - n_correcting[i])**2)\n",
    "n_i_minus_n_corr_devided = []\n",
    "for i in range(len(data_interval)):\n",
    "    n_i_minus_n_corr_devided.append(n_i_minus_n_corr[i]/n_correcting[i])\n",
    "n_i_square = []\n",
    "for i in range(len(data_interval)):\n",
    "    n_i_square.append(data_interval['Frequency'][i]**2)\n",
    "n_i_square_devided = []\n",
    "for i in range(len(data_interval)):\n",
    "    n_i_square_devided.append(n_i_square[i]/n_correcting[i])"
   ]
  },
  {
   "cell_type": "code",
   "execution_count": 661,
   "metadata": {},
   "outputs": [
    {
     "data": {
      "text/html": [
       "<div>\n",
       "<style scoped>\n",
       "    .dataframe tbody tr th:only-of-type {\n",
       "        vertical-align: middle;\n",
       "    }\n",
       "\n",
       "    .dataframe tbody tr th {\n",
       "        vertical-align: top;\n",
       "    }\n",
       "\n",
       "    .dataframe thead th {\n",
       "        text-align: right;\n",
       "    }\n",
       "</style>\n",
       "<table border=\"1\" class=\"dataframe\">\n",
       "  <thead>\n",
       "    <tr style=\"text-align: right;\">\n",
       "      <th></th>\n",
       "      <th>(x(i-1);x(i)]</th>\n",
       "      <th>n(i)</th>\n",
       "      <th>p(i)</th>\n",
       "      <th>n'(i)</th>\n",
       "      <th>(n(i) - n'(i))^2</th>\n",
       "      <th>(n(i) - n'(i))^2/n'(i)</th>\n",
       "      <th>n(i)^2</th>\n",
       "      <th>n(i)^2/n'(i)</th>\n",
       "    </tr>\n",
       "  </thead>\n",
       "  <tbody>\n",
       "    <tr>\n",
       "      <th>1</th>\n",
       "      <td>(245; 317]</td>\n",
       "      <td>10</td>\n",
       "      <td>0.040234</td>\n",
       "      <td>3.701510</td>\n",
       "      <td>39.67098</td>\n",
       "      <td>10.717513</td>\n",
       "      <td>100</td>\n",
       "      <td>27.016004</td>\n",
       "    </tr>\n",
       "    <tr>\n",
       "      <th>2</th>\n",
       "      <td>(317; 389]</td>\n",
       "      <td>29</td>\n",
       "      <td>0.112438</td>\n",
       "      <td>10.344331</td>\n",
       "      <td>348.033989</td>\n",
       "      <td>33.644901</td>\n",
       "      <td>841</td>\n",
       "      <td>81.300570</td>\n",
       "    </tr>\n",
       "    <tr>\n",
       "      <th>3</th>\n",
       "      <td>(389; 461]</td>\n",
       "      <td>21</td>\n",
       "      <td>0.208257</td>\n",
       "      <td>19.159614</td>\n",
       "      <td>3.387022</td>\n",
       "      <td>0.176779</td>\n",
       "      <td>441</td>\n",
       "      <td>23.017166</td>\n",
       "    </tr>\n",
       "    <tr>\n",
       "      <th>4</th>\n",
       "      <td>(461; 533]</td>\n",
       "      <td>19</td>\n",
       "      <td>0.255746</td>\n",
       "      <td>23.528601</td>\n",
       "      <td>20.508229</td>\n",
       "      <td>0.871630</td>\n",
       "      <td>361</td>\n",
       "      <td>15.343029</td>\n",
       "    </tr>\n",
       "    <tr>\n",
       "      <th>5</th>\n",
       "      <td>(533; 605]</td>\n",
       "      <td>5</td>\n",
       "      <td>0.208257</td>\n",
       "      <td>19.159614</td>\n",
       "      <td>200.494659</td>\n",
       "      <td>10.464442</td>\n",
       "      <td>25</td>\n",
       "      <td>1.304828</td>\n",
       "    </tr>\n",
       "    <tr>\n",
       "      <th>6</th>\n",
       "      <td>(605; 677]</td>\n",
       "      <td>4</td>\n",
       "      <td>0.112438</td>\n",
       "      <td>10.344331</td>\n",
       "      <td>40.250535</td>\n",
       "      <td>3.891072</td>\n",
       "      <td>16</td>\n",
       "      <td>1.546741</td>\n",
       "    </tr>\n",
       "    <tr>\n",
       "      <th>7</th>\n",
       "      <td>(677; 749]</td>\n",
       "      <td>3</td>\n",
       "      <td>0.040234</td>\n",
       "      <td>3.701510</td>\n",
       "      <td>0.492116</td>\n",
       "      <td>0.132950</td>\n",
       "      <td>9</td>\n",
       "      <td>2.431440</td>\n",
       "    </tr>\n",
       "    <tr>\n",
       "      <th>8</th>\n",
       "      <td>(749; 821]</td>\n",
       "      <td>1</td>\n",
       "      <td>0.009536</td>\n",
       "      <td>0.877318</td>\n",
       "      <td>0.015051</td>\n",
       "      <td>0.017156</td>\n",
       "      <td>1</td>\n",
       "      <td>1.139837</td>\n",
       "    </tr>\n",
       "    <tr>\n",
       "      <th>Sum</th>\n",
       "      <td>-</td>\n",
       "      <td>92</td>\n",
       "      <td>0.987139</td>\n",
       "      <td>90.816828</td>\n",
       "      <td>-</td>\n",
       "      <td>59.916442</td>\n",
       "      <td>-</td>\n",
       "      <td>153.099615</td>\n",
       "    </tr>\n",
       "  </tbody>\n",
       "</table>\n",
       "</div>"
      ],
      "text/plain": [
       "    (x(i-1);x(i)]  n(i)      p(i)      n'(i) (n(i) - n'(i))^2  \\\n",
       "1      (245; 317]    10  0.040234   3.701510         39.67098   \n",
       "2      (317; 389]    29  0.112438  10.344331       348.033989   \n",
       "3      (389; 461]    21  0.208257  19.159614         3.387022   \n",
       "4      (461; 533]    19  0.255746  23.528601        20.508229   \n",
       "5      (533; 605]     5  0.208257  19.159614       200.494659   \n",
       "6      (605; 677]     4  0.112438  10.344331        40.250535   \n",
       "7      (677; 749]     3  0.040234   3.701510         0.492116   \n",
       "8      (749; 821]     1  0.009536   0.877318         0.015051   \n",
       "Sum             -    92  0.987139  90.816828                -   \n",
       "\n",
       "     (n(i) - n'(i))^2/n'(i) n(i)^2  n(i)^2/n'(i)  \n",
       "1                 10.717513    100     27.016004  \n",
       "2                 33.644901    841     81.300570  \n",
       "3                  0.176779    441     23.017166  \n",
       "4                  0.871630    361     15.343029  \n",
       "5                 10.464442     25      1.304828  \n",
       "6                  3.891072     16      1.546741  \n",
       "7                  0.132950      9      2.431440  \n",
       "8                  0.017156      1      1.139837  \n",
       "Sum               59.916442      -    153.099615  "
      ]
     },
     "execution_count": 661,
     "metadata": {},
     "output_type": "execute_result"
    }
   ],
   "source": [
    "table_for_14 = pd.DataFrame(columns=['(x(i-1);x(i)]', 'n(i)', 'p(i)', 'n\\'(i)', '(n(i) - n\\'(i))^2', '(n(i) - n\\'(i))^2/n\\'(i)', 'n(i)^2', 'n(i)^2/n\\'(i)'])\n",
    "for i in range(len(data_interval)):\n",
    "    table_for_14.loc[i+1] = [table_for_5['(X(i-1); X(i)]'][i+1], data_interval['Frequency'][i], p_i[i], n_correcting[i], n_i_minus_n_corr[i], n_i_minus_n_corr_devided[i], n_i_square[i], n_i_square_devided[i]]\n",
    "table_for_14.loc['Sum'] = ['-', np.sum(table_for_14['n(i)']), np.sum(table_for_14['p(i)']), np.sum(table_for_14['n\\'(i)']), '-', np.sum(table_for_14['(n(i) - n\\'(i))^2/n\\'(i)']), '-', np.sum(table_for_14['n(i)^2/n\\'(i)'])]\n",
    "table_for_14"
   ]
  },
  {
   "cell_type": "code",
   "execution_count": 662,
   "metadata": {},
   "outputs": [
    {
     "name": "stdout",
     "output_type": "stream",
     "text": [
      "Хи-квадрат наблюдаемый: 59.91644248085719\n",
      "Хи-квадрат критический 114.26786767719355\n",
      "Хи-квадрат наблюдаемый меньше критического.\n"
     ]
    }
   ],
   "source": [
    "hi_square = table_for_14['(n(i) - n\\'(i))^2/n\\'(i)']['Sum']\n",
    "hi_square_crit = scipy.stats.chi2.ppf(1 - 0.05, df=n-1)\n",
    "print('Хи-квадрат наблюдаемый:', hi_square)\n",
    "print('Хи-квадрат критический', hi_square_crit)\n",
    "print(f'Хи-квадрат наблюдаемый {\"меньше\" if hi_square < hi_square_crit else \"больше\"} критического.')\n",
    "    "
   ]
  },
  {
   "cell_type": "markdown",
   "metadata": {},
   "source": [
    "Поскольку $\\chi^2_{набл} < \\chi^2_{крит}$, то нет оснований отвергать гипотезу о нормальности заданного распределения. Примем гипотезу."
   ]
  },
  {
   "cell_type": "markdown",
   "metadata": {},
   "source": [
    "## Выводы\n",
    "При выполнении данной практической работы была обработана механическая выборка. Она была преобразована в ранжированный, вариационный и интервальный ряды. Были постороены полигон частот, гистограмма, эмпирическая функция. Были найдены выборочное среднее, дисперсия, СКО, и множество других параметров выборки. Были построены доверительные интервалы для выборочного среднего и СКО. Проверили гипотезу о нормальности заданного распределения. Оснований отвергать гипотезу нет, поэтому гипотеза была принята."
   ]
  }
 ],
 "metadata": {
  "kernelspec": {
   "display_name": "Python 3.9.2 64-bit",
   "language": "python",
   "name": "python3"
  },
  "language_info": {
   "codemirror_mode": {
    "name": "ipython",
    "version": 3
   },
   "file_extension": ".py",
   "mimetype": "text/x-python",
   "name": "python",
   "nbconvert_exporter": "python",
   "pygments_lexer": "ipython3",
   "version": "3.9.2"
  },
  "orig_nbformat": 4,
  "vscode": {
   "interpreter": {
    "hash": "a944d71d29fdfcfa9d506fe72f2cd7e81abb795d8f0d7d3eaae4b1e228701223"
   }
  }
 },
 "nbformat": 4,
 "nbformat_minor": 2
}
