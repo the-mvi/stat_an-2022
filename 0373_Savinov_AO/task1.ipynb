{
 "cells": [
  {
   "cell_type": "markdown",
   "metadata": {},
   "source": [
    "# Практическая работа №1: Название работы\n",
    "Выполнил студент гр. 0373 Савинов Алексей. Вариант №18"
   ]
  },
  {
   "cell_type": "markdown",
   "metadata": {},
   "source": [
    "## Цель работы\n",
    "Ознакомление с основными правилами формирования выборки и подготовки выборочных данных к статистическому анализу. Получение практических навыков нахождения точечных статистических оценок параметров распределения, а также вычисления интервальных статистических оценок параметров распределения выборочных данных и проверки\n",
    "«справедливости» статистических гипотез."
   ]
  },
  {
   "cell_type": "markdown",
   "metadata": {},
   "source": [
    "## Основные теоретические положения\n",
    "Формула Стёрджеса для нахождения количества интервалов в интервальном ряду: $k=[1+\\log_2n]$  \n",
    "\n",
    "Формула для нахождения условных вариант:$u_i=$ ${x_i-C}\\over{h}$, $C$ - ложный нуль (как правило, находится в середине вариационного ряда, или в среднем интервале с большей частотой, $h$ - размер интервала\n",
    "\n",
    "Формулы центральных моментов через условные: \n",
    "$\\mu^*_1=0 $, $\\mu^*_2=(\\nu^*_2-(\\nu^*_1)^2)h^2 $, $\\mu^*_3=(\\nu^*_3-3\\nu^*_1\\nu^*_2+2(\\nu^*_1)^3)h^3 $, $\\mu^*_4=(\\nu^*_4-4\\nu^*_1\\nu^*_3+6\\nu^*_2(\\nu^*_1)^2-3(\\nu^*_1)^4)h^4$  \n",
    "\n",
    "Формула условного эмпирического момента: $\\nu^*_r=\\frac{1}{n}\\sum^k_{i=1}n_iu^r_i$  \n",
    "\n",
    "Формула выборочного среднего: $\\overline{x_B}=\\frac{1}{n}\\sum^n_{i+1}x_i n_i$, $\\bar{x_B}=h\\nu^*_1+C$ \n",
    "\n",
    "Формула асимметрии: $a_s^*=\\frac{\\mu^*_3}{\\sigma^3_B} $  \n",
    "Формула эксцесса: $\\varepsilon_k^* = \\frac{\\mu^*_4}{\\sigma^4_B}-3$  \n",
    "\n",
    "Формула доверительного интервала для мат ожидания при неизвестном СКО: $(\\overline{x_B}-\\frac{t_\\gamma s}{\\sqrt{n}}, \\overline{x_B}+\\frac{t_\\gamma s}{\\sqrt{n}})$\n",
    "\n",
    "Формула доверительного интервала для СКО при неизвестном мат ожидании: $(s(1-q),s(1+q))$\n",
    "\n",
    "Формула теоретической вероятности: $P_i(x_{i-1}<x<x_i)=\\Phi(\\frac{x_i-a}{\\sigma})-\\Phi(\\frac{x_{i-1}-a}{\\sigma})$\n",
    "\n",
    "Формула для $\\chi^2$-наблюдаемого: $\\chi^2$-набл$=\\sum^k_{i=1}\\frac{n^2_i}{n^{'}_i}-n$"
   ]
  },
  {
   "cell_type": "markdown",
   "metadata": {},
   "source": [
    "## Постановка задачи\n",
    "Осуществить формирование репрезентативной выборки заданного объема из имеющейся генеральной совокупности экспериментальных данных. Осуществить последовательное преобразование полученной выборки в ранжированный, вариационный и интервальный ряды. Применительно к интервальному ряду построить и отобразить графически полигон, гистограмму и эмпирическую функцию распределения для абсолютных и относительных частот. Для заданных выборочных данных вычислить с использованием метода моментов и условных вариант точечные статистические оценки математического ожидания, дисперсии, среднеквадратичного отклонения, асимметрии, эксцесса, моды, медианы и коэффициента вариации исследуемой случайной величины. Для заданной надёжности определить границы доверительных интервалов для математического ожидания и среднеквадратичного отклонения случайной величины. Проверить гипотезу о нормальном распределении исследуемой случайной величины с помощью критерия Пирсона $\\chi^2$. Полученные результаты содержательно проинтерпретировать."
   ]
  },
  {
   "cell_type": "markdown",
   "metadata": {},
   "source": [
    "## Выполнение работы"
   ]
  },
  {
   "cell_type": "code",
   "execution_count": 1,
   "metadata": {
    "ExecuteTime": {
     "end_time": "2022-11-05T10:32:31.581269Z",
     "start_time": "2022-11-05T10:32:24.494281Z"
    }
   },
   "outputs": [],
   "source": [
    "import numpy as np\n",
    "import pandas as pd\n",
    "import scipy.stats\n",
    "import matplotlib.pyplot as plt\n",
    "from IPython.display import HTML"
   ]
  },
  {
   "cell_type": "code",
   "execution_count": 2,
   "metadata": {
    "ExecuteTime": {
     "end_time": "2022-11-05T10:32:31.709822Z",
     "start_time": "2022-11-05T10:32:31.605269Z"
    }
   },
   "outputs": [],
   "source": [
    "disp_pres = 2\n",
    "pd.set_option(f'display.float_format', f'{{:.{disp_pres}f}}'.format)"
   ]
  },
  {
   "cell_type": "markdown",
   "metadata": {
    "heading_collapsed": true
   },
   "source": [
    "### Из генеральной совокупности сформировать выборку заданного объёма в соответствии с полученным от преподавателя номером. Указать, какого вида выборка получилась.\n"
   ]
  },
  {
   "cell_type": "markdown",
   "metadata": {
    "hidden": true
   },
   "source": [
    "Выборка представлена в <u>первом столбце</u> таблицы в файле _\"Данные для практических работ.csv\"_. Выборка является бесповторной, по способу формирования - типическая (где тип - гражданство)."
   ]
  },
  {
   "cell_type": "code",
   "execution_count": 3,
   "metadata": {
    "ExecuteTime": {
     "end_time": "2022-11-05T10:32:31.797049Z",
     "start_time": "2022-11-05T10:32:31.720822Z"
    },
    "hidden": true
   },
   "outputs": [
    {
     "name": "stdout",
     "output_type": "stream",
     "text": [
      "Выборка:\n",
      " [ 978312  966625  970566  917863  853102  863463  857518  813679  749112\n",
      "  750085  755253  748448  723064  678063  695233  655347  683040  663024\n",
      "  700673  742078  781609  793958  914698 1020020 1163598 1193708 1242958\n",
      " 1302735 1286842 1258254 1228945 1252750 1172164 1114281 1182117 1082828\n",
      " 1066460 1026842 1033174 1035658  995980  965729  966995  934254  972290\n",
      "  863960  849414  829053  849965  892921  901363  962407  987525 1028900\n",
      " 1100148 1001552  982023  944453  892002  878552  852172  755880  746720\n",
      "  704000  689749  672650  541564  515193  442140  264549  190082  168071\n",
      "  231996  342676  357487  362132  339548  330453  246490  200577  144100\n",
      "  125610  135405  122222  120177  100786   87753   67333   48731   31074]\n"
     ]
    }
   ],
   "source": [
    "path_to_sample = 'Данные для практических работ.csv'\n",
    "sample = pd.read_csv(path_to_sample)['Численность мужчин'].to_numpy()\n",
    "print('Выборка:\\n', sample)"
   ]
  },
  {
   "cell_type": "markdown",
   "metadata": {
    "heading_collapsed": true
   },
   "source": [
    "### Последовательно преобразовать выборку в ранжированный, вариационный и интервальный ряды. Результаты содержательно проинтерпретировать."
   ]
  },
  {
   "cell_type": "code",
   "execution_count": 4,
   "metadata": {
    "ExecuteTime": {
     "end_time": "2022-11-05T10:32:31.953048Z",
     "start_time": "2022-11-05T10:32:31.805051Z"
    },
    "hidden": true
   },
   "outputs": [
    {
     "name": "stdout",
     "output_type": "stream",
     "text": [
      "Ранжированный ряд:\n",
      " [  31074  970566  966995  966625  965729  962407  944453  934254  917863\n",
      "  972290  914698  892921  892002  878552  863960  863463  857518  853102\n",
      "  852172  901363  978312  982023  987525 1258254 1252750 1242958 1228945\n",
      " 1193708 1182117 1172164 1163598 1114281 1100148 1082828 1066460 1035658\n",
      " 1033174 1028900 1026842 1020020 1001552  995980  849965  849414  829053\n",
      "  813679  357487  342676  339548  330453  264549  246490  231996  200577\n",
      "  190082  168071  144100  135405  125610  122222  120177  100786   87753\n",
      "   67333   48731  362132 1286842  442140  541564  793958  781609  755880\n",
      "  755253  750085  749112  748448  746720  742078  723064  704000  700673\n",
      "  695233  689749  683040  678063  672650  663024  655347  515193 1302735]\n",
      "Вариационный ряд:\n"
     ]
    },
    {
     "data": {
      "text/html": [
       "<div>\n",
       "<style scoped>\n",
       "    .dataframe tbody tr th:only-of-type {\n",
       "        vertical-align: middle;\n",
       "    }\n",
       "\n",
       "    .dataframe tbody tr th {\n",
       "        vertical-align: top;\n",
       "    }\n",
       "\n",
       "    .dataframe thead th {\n",
       "        text-align: right;\n",
       "    }\n",
       "</style>\n",
       "<table border=\"1\" class=\"dataframe\">\n",
       "  <thead>\n",
       "    <tr style=\"text-align: right;\">\n",
       "      <th></th>\n",
       "      <th>Значение</th>\n",
       "      <th>Количество</th>\n",
       "    </tr>\n",
       "  </thead>\n",
       "  <tbody>\n",
       "    <tr>\n",
       "      <th>0</th>\n",
       "      <td>31074</td>\n",
       "      <td>1</td>\n",
       "    </tr>\n",
       "    <tr>\n",
       "      <th>1</th>\n",
       "      <td>48731</td>\n",
       "      <td>1</td>\n",
       "    </tr>\n",
       "    <tr>\n",
       "      <th>2</th>\n",
       "      <td>67333</td>\n",
       "      <td>1</td>\n",
       "    </tr>\n",
       "    <tr>\n",
       "      <th>3</th>\n",
       "      <td>87753</td>\n",
       "      <td>1</td>\n",
       "    </tr>\n",
       "    <tr>\n",
       "      <th>4</th>\n",
       "      <td>100786</td>\n",
       "      <td>1</td>\n",
       "    </tr>\n",
       "    <tr>\n",
       "      <th>...</th>\n",
       "      <td>...</td>\n",
       "      <td>...</td>\n",
       "    </tr>\n",
       "    <tr>\n",
       "      <th>85</th>\n",
       "      <td>1242958</td>\n",
       "      <td>1</td>\n",
       "    </tr>\n",
       "    <tr>\n",
       "      <th>86</th>\n",
       "      <td>1252750</td>\n",
       "      <td>1</td>\n",
       "    </tr>\n",
       "    <tr>\n",
       "      <th>87</th>\n",
       "      <td>1258254</td>\n",
       "      <td>1</td>\n",
       "    </tr>\n",
       "    <tr>\n",
       "      <th>88</th>\n",
       "      <td>1286842</td>\n",
       "      <td>1</td>\n",
       "    </tr>\n",
       "    <tr>\n",
       "      <th>89</th>\n",
       "      <td>1302735</td>\n",
       "      <td>1</td>\n",
       "    </tr>\n",
       "  </tbody>\n",
       "</table>\n",
       "<p>90 rows × 2 columns</p>\n",
       "</div>"
      ],
      "text/plain": [
       "    Значение  Количество\n",
       "0      31074           1\n",
       "1      48731           1\n",
       "2      67333           1\n",
       "3      87753           1\n",
       "4     100786           1\n",
       "..       ...         ...\n",
       "85   1242958           1\n",
       "86   1252750           1\n",
       "87   1258254           1\n",
       "88   1286842           1\n",
       "89   1302735           1\n",
       "\n",
       "[90 rows x 2 columns]"
      ]
     },
     "metadata": {},
     "output_type": "display_data"
    },
    {
     "name": "stdout",
     "output_type": "stream",
     "text": [
      "Интервальный ряд:\n"
     ]
    },
    {
     "data": {
      "text/html": [
       "<table border=\"1\" class=\"dataframe\">\n",
       "  <thead>\n",
       "    <tr style=\"text-align: right;\">\n",
       "      <th>$$i$$</th>\n",
       "      <th>$$(x_{i-1}, x_i]$$</th>\n",
       "      <th>$$\\hat{x_i}$$</th>\n",
       "      <th>$$n_i$$</th>\n",
       "      <th>$$p_i^*$$</th>\n",
       "    </tr>\n",
       "  </thead>\n",
       "  <tbody>\n",
       "    <tr>\n",
       "      <td>1</td>\n",
       "      <td>[31074.0; 212739.86]</td>\n",
       "      <td>121906.93</td>\n",
       "      <td>13</td>\n",
       "      <td>0.14</td>\n",
       "    </tr>\n",
       "    <tr>\n",
       "      <td>2</td>\n",
       "      <td>(212739.86; 394405.71]</td>\n",
       "      <td>303572.79</td>\n",
       "      <td>8</td>\n",
       "      <td>0.09</td>\n",
       "    </tr>\n",
       "    <tr>\n",
       "      <td>3</td>\n",
       "      <td>(394405.71; 576071.57]</td>\n",
       "      <td>485238.64</td>\n",
       "      <td>3</td>\n",
       "      <td>0.03</td>\n",
       "    </tr>\n",
       "    <tr>\n",
       "      <td>4</td>\n",
       "      <td>(576071.57; 757737.43]</td>\n",
       "      <td>666904.50</td>\n",
       "      <td>17</td>\n",
       "      <td>0.19</td>\n",
       "    </tr>\n",
       "    <tr>\n",
       "      <td>5</td>\n",
       "      <td>(757737.43; 939403.29]</td>\n",
       "      <td>848570.36</td>\n",
       "      <td>18</td>\n",
       "      <td>0.20</td>\n",
       "    </tr>\n",
       "    <tr>\n",
       "      <td>6</td>\n",
       "      <td>(939403.29; 1121069.14]</td>\n",
       "      <td>1030236.21</td>\n",
       "      <td>21</td>\n",
       "      <td>0.23</td>\n",
       "    </tr>\n",
       "    <tr>\n",
       "      <td>7</td>\n",
       "      <td>(1121069.14; 1302735.0]</td>\n",
       "      <td>1211902.07</td>\n",
       "      <td>10</td>\n",
       "      <td>0.11</td>\n",
       "    </tr>\n",
       "  </tbody>\n",
       "</table>"
      ],
      "text/plain": [
       "<IPython.core.display.HTML object>"
      ]
     },
     "execution_count": 4,
     "metadata": {},
     "output_type": "execute_result"
    }
   ],
   "source": [
    "# построим ранжированный ряд\n",
    "samp_uniq = np.array(np.unique(sample, return_counts=True))\n",
    "rang_inds = samp_uniq[1].argsort()\n",
    "print('Ранжированный ряд:\\n', samp_uniq[0][rang_inds[::1]])\n",
    "\n",
    "# построим вариационный ряд\n",
    "print('Вариационный ряд:')\n",
    "display(pd.DataFrame(np.swapaxes(samp_uniq, 0, 1), \n",
    "             columns = ['Значение', 'Количество']))\n",
    "\n",
    "# построим интервальный ряд\n",
    "assert len(samp_uniq[0]) > 1, 'Интервальный ряд построить не удалось!'\n",
    "\n",
    "inter_k = round(np.log2(len(sample))) + 1\n",
    "inter_h = (np.max(samp_uniq[0]) - np.min(samp_uniq[0])) / inter_k\n",
    "# найдем границы интервалов\n",
    "inter_bounds = np.linspace(np.min(sample), \n",
    "                     np.max(sample), inter_k+1)\n",
    "# построим интервалы для отображения\n",
    "intervals = [f'({np.round(inter_bounds[i], 2)}; {np.round(inter_bounds[i+1], 2)}]' \n",
    "             for i in range(len(inter_bounds)-1)]\n",
    "intervals[0] = '[' + intervals[0][1:]\n",
    "# найдем среднее значение для каждого интервала\n",
    "inter_means = np.array([(inter_bounds[i+1]+inter_bounds[i])/2 \n",
    "               for i in range(len(inter_bounds)-1)])\n",
    "# найдем количество значений в каждом интервале\n",
    "inter_counts = np.array([np.count_nonzero(\n",
    "    np.logical_and(samp_uniq[0] > inter_bounds[i],\n",
    "                   samp_uniq[0] <= inter_bounds[i+1])\n",
    ") for i in range(len(inter_bounds)-1)])\n",
    "inter_counts[0] += 1\n",
    "inter_freqs = inter_counts / len(sample)\n",
    "# отобразим\n",
    "tab1_4_2 = pd.DataFrame(\n",
    "    {\n",
    "        '$$i$$': range(1, len(intervals)+1),\n",
    "        '$$(x_{i-1}, x_i]$$': intervals, \n",
    "        '$$\\hat{x_i}$$': inter_means, \n",
    "        '$$n_i$$': inter_counts, \n",
    "        '$$p_i^*$$': inter_freqs\n",
    "    }\n",
    ")\n",
    "print('Интервальный ряд:')\n",
    "HTML(tab1_4_2.to_html(index=False))"
   ]
  },
  {
   "cell_type": "markdown",
   "metadata": {
    "hidden": true
   },
   "source": [
    "**Ранжированный ряд:** каждое значение в выборке встречается 1 раз, следовательно, порядок элементов в ранжированном ряду может быть любым.\n",
    "\n",
    "**Вариационный ряд:** каждое значение встречается 1 раз, следовательно, во столбце \"Количество\" во всех строках находятся значения \"1\".\n",
    "\n",
    "**Интервальный ряд:** используя формулу Стёрджеса, исходный интервал можно разделить на 7 интервалов равной длины."
   ]
  },
  {
   "cell_type": "markdown",
   "metadata": {
    "heading_collapsed": true
   },
   "source": [
    "### Для интервального ряда абсолютных частот построить и отобразить графически полигон, гистограмму и эмпирическую функцию. Сделать выводы."
   ]
  },
  {
   "cell_type": "code",
   "execution_count": 19,
   "metadata": {
    "ExecuteTime": {
     "end_time": "2022-11-05T10:52:41.578211Z",
     "start_time": "2022-11-05T10:52:40.710991Z"
    },
    "hidden": true
   },
   "outputs": [
    {
     "data": {
      "image/png": "[encoded data removed]",
      "text/plain": [
       "<Figure size 1080x288 with 1 Axes>"
      ]
     },
     "metadata": {
      "needs_background": "light"
     },
     "output_type": "display_data"
    },
    {
     "data": {
      "image/png": "[encoded data removed]",
      "text/plain": [
       "<Figure size 1080x288 with 1 Axes>"
      ]
     },
     "metadata": {
      "needs_background": "light"
     },
     "output_type": "display_data"
    },
    {
     "data": {
      "image/png": "[encoded data removed]",
      "text/plain": [
       "<Figure size 1080x288 with 1 Axes>"
      ]
     },
     "metadata": {
      "needs_background": "light"
     },
     "output_type": "display_data"
    }
   ],
   "source": [
    "# отобразим полигон абсолютных частот \n",
    "plt.figure(figsize=(15, 4))\n",
    "plt.xlim([0, 1.3e6])\n",
    "plt.plot(inter_means, inter_counts, c='blue')\n",
    "plt.scatter(inter_means, inter_counts, c='blue')\n",
    "plt.title('Полигон для интервального ряда абсолютных частот')\n",
    "plt.xlabel('Значения')\n",
    "plt.ylabel('Абсоютные частоты')\n",
    "\n",
    "# отобразим гистограмму\n",
    "plt.figure(figsize=(15, 4))\n",
    "plt.xlim([0, 1.3e6])\n",
    "plt.bar(inter_means, inter_counts/inter_h, width=inter_h)\n",
    "plt.title('Гистограмма для интервального ряда абсолютных частот')\n",
    "plt.xlabel('Значения')\n",
    "plt.ylabel('Абсоютные частоты')\n",
    "\n",
    "#отобразим эмпирическую функцию распределения\n",
    "plt.figure(figsize=(15, 4))\n",
    "plt.xlim([0, 1.3e6])\n",
    "hist, edges = np.histogram(sample, bins=len(sample))\n",
    "inter_counts_cum = inter_counts.cumsum()\n",
    "for i in range(len(inter_counts)):\n",
    "    plt.plot([inter_bounds[i], inter_bounds[i+1]], \n",
    "             [inter_counts_cum[i], inter_counts_cum[i]], c='blue')\n",
    "plt.title('ЭФР для интервального ряда абсолютных частот')\n",
    "plt.xlabel('Значения')\n",
    "plt.ylabel('Значения ЭФР')\n",
    "plt.show()"
   ]
  },
  {
   "cell_type": "markdown",
   "metadata": {
    "hidden": true
   },
   "source": [
    "Полигон значений показывает количества значений, которые попали в каждый интервал интервального ряда. Гистограмма сравнительные количества значений, попавших в различные интервалы, имеет площадь, равную числу элементов выборки. График эмпирической функции распределения показывает изменение величины накопленного количества значений"
   ]
  },
  {
   "cell_type": "markdown",
   "metadata": {
    "heading_collapsed": true
   },
   "source": [
    "### Аналогичные действия выполнить для интервального ряда относительных частот. Сравнить результаты и сделать выводы."
   ]
  },
  {
   "cell_type": "code",
   "execution_count": 21,
   "metadata": {
    "ExecuteTime": {
     "end_time": "2022-11-05T11:48:41.223795Z",
     "start_time": "2022-11-05T11:48:40.422022Z"
    },
    "hidden": true
   },
   "outputs": [
    {
     "data": {
      "image/png": "[encoded data removed]",
      "text/plain": [
       "<Figure size 1080x288 with 1 Axes>"
      ]
     },
     "metadata": {
      "needs_background": "light"
     },
     "output_type": "display_data"
    },
    {
     "data": {
      "image/png": "[encoded data removed]",
      "text/plain": [
       "<Figure size 1080x288 with 1 Axes>"
      ]
     },
     "metadata": {
      "needs_background": "light"
     },
     "output_type": "display_data"
    },
    {
     "data": {
      "image/png": "[encoded data removed]",
      "text/plain": [
       "<Figure size 1080x288 with 1 Axes>"
      ]
     },
     "metadata": {
      "needs_background": "light"
     },
     "output_type": "display_data"
    }
   ],
   "source": [
    "# отобразим полигон относительных частот \n",
    "plt.figure(figsize=(15, 4))\n",
    "plt.xlim([0, 1.3e6])\n",
    "plt.plot(inter_means, inter_freqs, c='blue')\n",
    "plt.scatter(inter_means, inter_freqs, c='blue')\n",
    "plt.title('Полигон для интервального ряда относительных частот')\n",
    "plt.xlabel('Значения')\n",
    "plt.ylabel('Относительные частоты')\n",
    "\n",
    "# отобразим гистограмму относительных частот\n",
    "plt.figure(figsize=(15, 4))\n",
    "plt.xlim([0, 1.3e6])\n",
    "plt.bar(inter_means, inter_freqs/inter_h, width=inter_h)\n",
    "plt.title('Гистограмма для интервального ряда относительных частот')\n",
    "plt.xlabel('Значения')\n",
    "plt.ylabel('Относительные частоты')\n",
    "\n",
    "#отобразим эмпирическую функцию распределения\n",
    "plt.figure(figsize=(15, 4))\n",
    "plt.xlim([0, 1.3e6])\n",
    "hist, edges = np.histogram(sample, bins=len(sample))\n",
    "inter_freqs_cum = inter_freqs.cumsum()\n",
    "for i in range(len(inter_counts)):\n",
    "    plt.plot([inter_bounds[i], inter_bounds[i+1]], \n",
    "             [inter_freqs_cum[i], inter_freqs_cum[i]], c='blue')\n",
    "plt.title('ЭФР для интервального ряда относительных частот')\n",
    "plt.xlabel('Значения')\n",
    "plt.ylabel('Значения ЭФР')\n",
    "plt.show()"
   ]
  },
  {
   "cell_type": "markdown",
   "metadata": {
    "hidden": true
   },
   "source": [
    "Графики для абсолютных и относительных частот выглядят идентично с точностью до нормирования значений на величину, равную количеству значений для графиков относительных частот. Значения функций выше для абсолютных частот лежат в диапазоне $[0; +\\infty]$, а значений функций для относительных частот - в диапазоне $[0; 1]$"
   ]
  },
  {
   "cell_type": "markdown",
   "metadata": {
    "heading_collapsed": true
   },
   "source": [
    "### Для интервального ряда найти середины интервалов, а также накопленные частоты. Результаты представить в виде таблицы (в последней строке $\\Sigma$ необходимо записать сумму столбца):"
   ]
  },
  {
   "cell_type": "code",
   "execution_count": null,
   "metadata": {
    "ExecuteTime": {
     "end_time": "2022-11-05T10:32:36.041203Z",
     "start_time": "2022-11-05T10:32:36.041203Z"
    },
    "hidden": true
   },
   "outputs": [],
   "source": [
    "inter_counts_cum = np.cumsum(inter_counts)\n",
    "inter_freqs_cum = np.cumsum(inter_freqs)\n",
    "tab1_4_5 = pd.DataFrame(\n",
    "    {\n",
    "        '$$i$$': np.append(\n",
    "            np.arange(1, len(intervals)+1).astype(str),\n",
    "            '$$\\Sigma$$'\n",
    "        ),\n",
    "        '$$(x_{i-1}, x_i]$$': np.append(intervals, '$$-$$'),\n",
    "        '$$\\hat{x_i}$$': np.append(\n",
    "            np.round(inter_means, 2).astype(str),\n",
    "            '$$-$$'\n",
    "        ),\n",
    "        '$$n_i$$': np.append(inter_counts, np.sum(inter_counts)),\n",
    "        '$$p_i^*$$': np.append(inter_freqs, np.sum(inter_freqs)),\n",
    "        '$$n_i^{\\Sigma}$$': np.append(inter_counts_cum.astype(str), '$$-$$'),\n",
    "        '$$p_i^{\\Sigma}$$': np.append(\n",
    "            np.round(inter_freqs_cum, 2).astype(str),\n",
    "            '$$-$$'\n",
    "        )\n",
    "    }\n",
    ")\n",
    "HTML(tab1_4_5.to_html(index=False))"
   ]
  },
  {
   "cell_type": "markdown",
   "metadata": {
    "heading_collapsed": true
   },
   "source": [
    "### Для полученных вариант вычислить условные варианты. Заполнить расчётную таблицу (в последней строке $\\Sigma$ необходимо записать сумму столбца)"
   ]
  },
  {
   "cell_type": "code",
   "execution_count": null,
   "metadata": {
    "ExecuteTime": {
     "end_time": "2022-11-05T10:32:36.045202Z",
     "start_time": "2022-11-05T10:32:36.045202Z"
    },
    "hidden": true
   },
   "outputs": [],
   "source": [
    "assert len(intervals) > 0, 'Условные варианты рассчитать не удалось!'\n",
    "\n",
    "# найдем ложный нуль\n",
    "num_inters = len(inter_bounds) - 1\n",
    "fict_zero = None\n",
    "# один средний интервал\n",
    "if num_inters % 2 != 0:\n",
    "    fict_zero = np.mean([inter_bounds[num_inters // 2], \n",
    "                               inter_bounds[num_inters // 2 - 1]])\n",
    "# два средних интервала\n",
    "else:\n",
    "    fict_zero = inter_means[num_inters // 2 - 1] if \\\n",
    "        inter_counts[num_inters // 2 - 1] >= inter_counts[num_inters // 2] \\\n",
    "        else inter_means[num_inters // 2 - 1]\n",
    "# далее рассчитаем условные варианты\n",
    "cond_variant = ((inter_means - fict_zero) / \\\n",
    "    (inter_bounds[1] - inter_bounds[0])).astype(np.int64)\n",
    "nu = np.multiply(cond_variant, inter_counts)\n",
    "nu2 = np.multiply(cond_variant, nu)\n",
    "nu3 = np.multiply(cond_variant, nu2)\n",
    "nu4 = np.multiply(cond_variant, nu3)\n",
    "nu_14 = np.multiply(np.power(cond_variant+1, 4), inter_counts)\n",
    "tab1_4_6 = pd.DataFrame(\n",
    "    {\n",
    "        '$$i$$': np.append(\n",
    "            np.arange(1, len(intervals)+1).astype(str),\n",
    "            '$$\\Sigma$$'\n",
    "        ),\n",
    "        '$$(x_{i-1}, x_i]$$': np.append(intervals, '$-$'),\n",
    "        '$$\\hat{x_i}$$': np.append(\n",
    "            np.round(inter_means, 2).astype('str'),\n",
    "            '$$-$$'\n",
    "        ),\n",
    "        '$$n_i$$': np.append(inter_counts, np.sum(inter_counts)),\n",
    "        '$$u_i$$': np.append(cond_variant.astype(str), '$-$'),\n",
    "        '$$n_i u_i$$': np.append(nu, np.sum(nu)),\n",
    "        '$$n_i u_i^2$$': np.append(nu2, np.sum(nu2)),\n",
    "        '$$n_i u_i^3$$': np.append(nu3, np.sum(nu3)),\n",
    "        '$$n_i u_i^4$$': np.append(nu4, np.sum(nu4)),\n",
    "        '$$n_i(u_i+1)^4$$': np.append(nu_14, np.sum(nu_14))\n",
    "    }\n",
    ")\n",
    "HTML(tab1_4_6.to_html(index=False))"
   ]
  },
  {
   "cell_type": "markdown",
   "metadata": {
    "hidden": true
   },
   "source": [
    "Проконтролируем корректность вычислений. Для этого раскроем скобки в выражении суммы элементов последнего столбца, и выразим через выражения сумм других столбцов: $\\sum_{i=1}^{k} n_i(u_i+1)^4 = \\sum_{i=1}^{k} n_i u_i^4 + 4 \\sum_{i=1}^{k} n_i u_i^3 + 6 \\sum_{i=1}^{k} n_i u_i^2 + 4 \\sum_{i=1}^{k} n_i u_i + \\sum_{i=1}^{k} n_i$. Проверим рассчетом"
   ]
  },
  {
   "cell_type": "code",
   "execution_count": null,
   "metadata": {
    "ExecuteTime": {
     "end_time": "2022-11-05T10:32:36.050201Z",
     "start_time": "2022-11-05T10:32:36.050201Z"
    },
    "hidden": true
   },
   "outputs": [],
   "source": [
    "print(np.sum(nu4) + 4 * np.sum(nu3) + 6 * np.sum(nu2) + \\\n",
    "    4 * np.sum(nu) + np.sum(inter_counts), '==', np.sum(nu_14), '?')\n",
    "print(np.sum(nu4) + 4 * np.sum(nu3) + 6 * np.sum(nu2) + \\\n",
    "    4 * np.sum(nu) + np.sum(inter_counts) == np.sum(nu_14))"
   ]
  },
  {
   "cell_type": "markdown",
   "metadata": {
    "heading_collapsed": true
   },
   "source": [
    "###  Вычислить условные эмпирические моменты $\\nu_𝑖^*$ через условные варианты. С помощью условных эмпирических моментов вычислить центральные эмпирические моменты $\\mu_𝑖^*$. Полученные результаты занести в таблицу"
   ]
  },
  {
   "cell_type": "code",
   "execution_count": null,
   "metadata": {
    "ExecuteTime": {
     "end_time": "2022-11-05T10:32:36.054200Z",
     "start_time": "2022-11-05T10:32:36.054200Z"
    },
    "hidden": true
   },
   "outputs": [],
   "source": [
    "nu = [np.sum(inter_counts * cond_variant ** i) / len(sample)\n",
    "      for i in range(1, 5)]\n",
    "mu = np.zeros((4))\n",
    "mu[0] = 0\n",
    "mu[1] = (nu[1] - nu[0] ** 2) * inter_h ** 2\n",
    "mu[2] = (nu[2] - 3 * nu[1] * nu[0] + 2 * nu[0] ** 3) * inter_h ** 3\n",
    "mu[3] = (nu[3] - 4 * nu[2] * nu[0] + 6 * nu[1] * nu[0] ** 2 - \n",
    "         3 * nu[0] ** 4) * inter_h ** 4\n",
    "tab1_4_7 = pd.DataFrame(\n",
    "    {\n",
    "        '$$i$$': np.arange(1, 5),\n",
    "        '$$ν_𝑖^*$$': nu,\n",
    "        '$$\\mu_𝑖^*$$': mu\n",
    "    }\n",
    ")\n",
    "HTML(tab1_4_7.to_html(index=False))"
   ]
  },
  {
   "cell_type": "markdown",
   "metadata": {
    "heading_collapsed": true
   },
   "source": [
    "### Вычислить выборочные среднее и дисперсию с помощью стандартной формулы и с помощью условных вариант. Убедиться, что результаты совпадают"
   ]
  },
  {
   "cell_type": "code",
   "execution_count": null,
   "metadata": {
    "ExecuteTime": {
     "end_time": "2022-11-05T10:32:36.059202Z",
     "start_time": "2022-11-05T10:32:36.059202Z"
    },
    "hidden": true
   },
   "outputs": [],
   "source": [
    "samp_mean = np.sum(sample) / len(sample)\n",
    "samp_var = np.sum((sample - samp_mean) ** 2) / len(sample)\n",
    "print('Выборочное среднее')\n",
    "print('\\tС помощью стандартной формулы:\\t', np.round(samp_mean, 2))\n",
    "print('\\tС помощью условных вариант:\\t', \n",
    "      np.round(nu[0] * inter_h + fict_zero, 2))\n",
    "print('Выборочная дисперсия')\n",
    "print('\\tС помощью стандартной формулы:\\t', np.round(samp_var, 2))\n",
    "print('\\tС помощью условных вариант:\\t', np.round(mu[1], 2))"
   ]
  },
  {
   "cell_type": "markdown",
   "metadata": {
    "hidden": true
   },
   "source": [
    "Результаты не совпадают, но схожи."
   ]
  },
  {
   "cell_type": "markdown",
   "metadata": {
    "heading_collapsed": true
   },
   "source": [
    "### Вычислить исправленную выборочную дисперсию и исправленное СКО. Сравнить данные оценки с смещёнными оценками дисперсии и СКО."
   ]
  },
  {
   "cell_type": "code",
   "execution_count": null,
   "metadata": {
    "ExecuteTime": {
     "end_time": "2022-11-05T10:32:36.066216Z",
     "start_time": "2022-11-05T10:32:36.066216Z"
    },
    "hidden": true
   },
   "outputs": [],
   "source": [
    "# рассчитаем смещенную оценку СКО\n",
    "samp_std = np.sqrt(samp_var)\n",
    "# рассчитаем исправленную выборочную дисперсию\n",
    "corr_samp_var = len(sample) / (len(sample) - 1) * samp_var\n",
    "# рассчитаем исправленное СКО\n",
    "corr_samp_std = np.sqrt(corr_samp_var)\n",
    "\n",
    "print('Выборочные оценки дисперсии')\n",
    "print('\\tСмещенная оценка дисперсии:\\t', samp_var)\n",
    "print('\\tНесмещенная оценка дисперсии:\\t', corr_samp_var)\n",
    "print('Выборочные оценки СКО')\n",
    "print('\\tСмещенная оценка СКО:\\t', samp_std)\n",
    "print('\\tНесмещенная оценка СКО:\\t', corr_samp_std)"
   ]
  },
  {
   "cell_type": "markdown",
   "metadata": {
    "hidden": true
   },
   "source": [
    "Результаты не совпадают, но схожи. В общем, несмещенная оценка всегда больше смещенной, исходя из формул, по которым они рассчитываются."
   ]
  },
  {
   "cell_type": "markdown",
   "metadata": {
    "heading_collapsed": true
   },
   "source": [
    "### Найти статистическую оценку коэффициентов асимметрии и эксцесса. Сделать выводы"
   ]
  },
  {
   "cell_type": "code",
   "execution_count": null,
   "metadata": {
    "ExecuteTime": {
     "end_time": "2022-11-05T10:32:36.070199Z",
     "start_time": "2022-11-05T10:32:36.070199Z"
    },
    "hidden": true
   },
   "outputs": [],
   "source": [
    "# рассчитаем выборочный коэффициент асимметрии (skewness)\n",
    "samp_skew = mu[2] / np.sqrt(mu[1]) ** 3\n",
    "# рассчитаем выборочный коэффициент эксцесса (kurtosis)\n",
    "samp_kurt = mu[3] / mu[1] ** 2 - 3\n",
    "print('оценка коэффициента асимметрии:', samp_skew)\n",
    "print('оценка коэффициента эксцесса:', samp_kurt)"
   ]
  },
  {
   "cell_type": "markdown",
   "metadata": {
    "hidden": true
   },
   "source": [
    "По полученному значению оценки коэффициента асимметрии можно сделать вывод, что распределение \"скошено\" влево, но незначительно. По полученному значению оценки коэффициента эксцесса можно сделать вывод, что распределение является менее \"островершенным\" относительно нормального распределения с параметрами $a = \\overline{x_B}$, $\\sigma = \\sigma_B$, "
   ]
  },
  {
   "cell_type": "markdown",
   "metadata": {
    "heading_collapsed": true
   },
   "source": [
    "### Вычислить моду, медиану и коэффициент вариации для заданного распределения. Сделать выводы."
   ]
  },
  {
   "cell_type": "code",
   "execution_count": null,
   "metadata": {
    "ExecuteTime": {
     "end_time": "2022-11-05T10:32:36.074206Z",
     "start_time": "2022-11-05T10:32:36.074206Z"
    },
    "hidden": true
   },
   "outputs": [],
   "source": [
    "# функция, которая склеивает два соседних интервала по указанному индексу,\n",
    "# и склеивает соседние пары интервалов рядом с ними, если можно\n",
    "def join_inters(inter_counts, inter_bounds, idx, fir_inter_max):\n",
    "    assert len(inter_counts) == len(inter_bounds) - 1\n",
    "    assert idx >= 0 and idx < len(inter_counts) - 1\n",
    "    inter_counts_ext = np.copy(inter_counts)\n",
    "    inter_bounds_ext = np.copy(inter_bounds)\n",
    "    # убираем границу\n",
    "    inter_bounds_ext = np.delete(inter_bounds_ext, idx+1)\n",
    "    # склеиваем частоты\n",
    "    inter_counts_ext[idx] += inter_counts_ext[idx+1]\n",
    "    # убираем частоту следующего интервала\n",
    "    inter_counts_ext = np.delete(inter_counts_ext, idx+1)\n",
    "    # объединяем соседние интервалы по возможности\n",
    "    # левые два\n",
    "    if idx - 2 >= 0 and \\\n",
    "    inter_counts_ext[idx-1] < fir_inter_max and \\\n",
    "    inter_counts_ext[idx-2] < fir_inter_max:\n",
    "        inter_bounds_ext = np.delete(inter_bounds_ext, idx-1)\n",
    "        inter_counts_ext[idx-2] += inter_counts_ext[idx-1]\n",
    "        inter_counts_ext = np.delete(inter_counts_ext, idx-1)\n",
    "        idx -= 1\n",
    "    # правые два\n",
    "    if idx + 2 < len(inter_counts_ext) and \\\n",
    "    inter_counts_ext[idx+1] < fir_inter_max and \\\n",
    "    inter_counts_ext[idx+2] < fir_inter_max:\n",
    "        inter_bounds_ext = np.delete(inter_bounds_ext, idx+2)\n",
    "        inter_counts_ext[idx+1] += inter_counts_ext[idx+2]\n",
    "        inter_counts_ext = np.delete(inter_counts_ext, idx+2)\n",
    "    return inter_counts_ext, inter_bounds_ext\n",
    "\n",
    "# функция, объединяющая интервалы соседние модальные интервалы, и \n",
    "# близлежащие, по возможности\n",
    "def join_mode_inters(inter_counts, inter_bounds):\n",
    "    assert len(inter_counts) == len(inter_bounds) - 1\n",
    "    inter_counts_ext = np.copy(inter_counts)\n",
    "    inter_bounds_ext = np.copy(inter_bounds)\n",
    "    # будем склеивать модальные интервалы, пока \n",
    "    # существуют соседние модальные интервалы\n",
    "    fir_inter_max = np.max(inter_counts_ext)\n",
    "    while len(np.argwhere(inter_counts_ext == fir_inter_max)) != 0:\n",
    "        mode_inters = np.concatenate(\n",
    "            np.argwhere(inter_counts_ext == fir_inter_max))\n",
    "        adj_mode_inters_idx = -1\n",
    "        for i in range(len(mode_inters)-1):\n",
    "            print(mode_inters[i], mode_inters[i+1] - 1, mode_inters[i] == mode_inters[i+1] - 1)\n",
    "            if mode_inters[i] == mode_inters[i+1] - 1:\n",
    "                adj_mode_inters_idx = mode_inters[i]\n",
    "                break\n",
    "        if adj_mode_inters_idx == -1:\n",
    "            break\n",
    "        # если соседние модальные интервалы существуют, объединим\n",
    "        else:\n",
    "            inter_counts_ext, inter_bounds_ext= join_inters(\n",
    "                inter_counts_ext, inter_bounds_ext, \n",
    "                adj_mode_inters_idx, fir_inter_max\n",
    "            )\n",
    "            \n",
    "    return inter_counts_ext, inter_bounds_ext, fir_inter_max\n",
    "\n",
    "# функция для подсчета моды заданного интервала\n",
    "def count_inter_mode(inter_counts, inter_bounds, inter_h, idx):\n",
    "    assert len(inter_counts) == len(inter_bounds) - 1\n",
    "    assert idx >= 0 and idx < len(inter_counts) - 1\n",
    "    inter_counts_ext = np.concatenate(([0], inter_counts, [0]))\n",
    "    idx += 1\n",
    "    return inter_bounds[idx-1] + \\\n",
    "        (inter_counts_ext[idx] - inter_counts_ext[idx-1]) / \\\n",
    "        (inter_counts_ext[idx] - inter_counts_ext[idx-1] + \\\n",
    "         inter_counts_ext[idx] - inter_counts_ext[idx+1]) * inter_h"
   ]
  },
  {
   "cell_type": "code",
   "execution_count": null,
   "metadata": {
    "ExecuteTime": {
     "end_time": "2022-11-05T10:32:36.078201Z",
     "start_time": "2022-11-05T10:32:36.078201Z"
    },
    "hidden": true
   },
   "outputs": [],
   "source": [
    "# вычислим моду для интервального ряда\n",
    "inter_counts_ext = np.copy(inter_counts)\n",
    "inter_counts_ext, inter_bounds_ext, fir_inter_max = join_mode_inters(\n",
    "    inter_counts_ext, inter_bounds)\n",
    "\n",
    "samp_mode = [count_inter_mode(inter_counts, inter_bounds, inter_h, i) \\\n",
    "    for i in np.concatenate(np.argwhere(inter_counts_ext >= fir_inter_max))]\n",
    "print('Мода(ы) распределения:', *np.round(samp_mode, disp_pres))\n",
    "\n",
    "# вычислим медиану\n",
    "samp_median = None\n",
    "med_idx = np.where(inter_freqs_cum >= 0.5)[0][0]\n",
    "if med_idx == 0:\n",
    "    samp_median = inter_bounds[med_idx] + (0.5 * len(sample)) / \\\n",
    "        inter_counts_cum[med_idx]\n",
    "else:\n",
    "    samp_median = inter_bounds[med_idx] + (0.5 * len(sample) - \\\n",
    "        inter_counts_cum[med_idx-1]) / inter_counts_cum[med_idx]\n",
    "print('Медиана распределения:', np.round(samp_median, disp_pres))\n",
    "\n",
    "# вычислим коэффициент вариации\n",
    "std = np.sqrt(samp_var) / np.abs(samp_mean)\n",
    "print(f'Коэффициент вариации: {np.round(std*100, disp_pres)}%')"
   ]
  },
  {
   "cell_type": "markdown",
   "metadata": {
    "hidden": true
   },
   "source": [
    "Мода в классическом смысле не существует, так как все значения выборки встречаются одинаковое количество раз (по одному разу), по этому была вычислена мода для интервального ряда. Заметим, что мода, медиана и выборочное среднее располагаются достаточно близко друг к другу. Это показывает относительную симметричность распределения. Также, значение коэффициента почти равно 50%. Это показывает большой разброс значений относительно среднего значения выборки."
   ]
  },
  {
   "cell_type": "markdown",
   "metadata": {
    "heading_collapsed": true
   },
   "source": [
    "### Вычислить точность и доверительный интервал для математического ожидания при неизвестном среднеквадратичном отклонении при заданном объёме выборки для доверительной точности $\\gamma \\in \\{0.95, 0.99\\}$. Сделать выводы"
   ]
  },
  {
   "cell_type": "code",
   "execution_count": null,
   "metadata": {
    "ExecuteTime": {
     "end_time": "2022-11-05T10:32:36.082200Z",
     "start_time": "2022-11-05T10:32:36.082200Z"
    },
    "hidden": true
   },
   "outputs": [],
   "source": [
    "t95 = scipy.stats.t.ppf(0.95, len(sample)-1)\n",
    "t99 = scipy.stats.t.ppf(0.99, len(sample)-1)\n",
    "# вычислим точности\n",
    "acc95 = t95 * samp_std / np.sqrt(len(sample))\n",
    "acc99 = t99 * samp_std / np.sqrt(len(sample))\n",
    "print('Точность для мат. ожидания')\n",
    "print(f'\\tПри доверительной точности 0.95: {acc95}')\n",
    "print(f'\\tПри доверительной точности 0.99: {acc99}')\n",
    "\n",
    "# вычислим границы доверительных интервалов\n",
    "conf_inter_mean95 = [samp_mean - t95 * samp_std / np.sqrt(len(sample)), \n",
    "              samp_mean + t95 * samp_std / np.sqrt(len(sample))]\n",
    "conf_inter_mean99 = [samp_mean - t99 * samp_std / np.sqrt(len(sample)), \n",
    "              samp_mean + t99 * samp_std / np.sqrt(len(sample))]\n",
    "print('Доверительные интервалы для мат. ожидания')\n",
    "print('\\tПри доверительной точности 0.95: {', \n",
    "      conf_inter_mean95[0], '; ', conf_inter_mean95[1], '}', sep='')\n",
    "print('\\tПри доверительной точности 0.99: {', \n",
    "      conf_inter_mean99[0], '; ', conf_inter_mean99[1], '}', sep='')\n",
    "\n",
    "# вычислим доверительный интервал "
   ]
  },
  {
   "cell_type": "markdown",
   "metadata": {
    "hidden": true
   },
   "source": [
    "Точность $\\delta$ мат. ожидания для нормального распределения удовлетворяет неравенству $|\\overline{x_B} - a| <\\delta$. При больших значениях доверительной точности значения $\\delta$ больше. При больших значениях доверительной точности размер доверительного интервала для математического ожидания больше."
   ]
  },
  {
   "cell_type": "markdown",
   "metadata": {
    "heading_collapsed": true
   },
   "source": [
    "### Для вычисления границ доверительного интервала для среднеквадратичного отклонения определить значение $𝑞$ при заданных $\\gamma$ и $𝑛$. Построить доверительные интервалы, сделать выводы"
   ]
  },
  {
   "cell_type": "code",
   "execution_count": null,
   "metadata": {
    "ExecuteTime": {
     "end_time": "2022-11-05T10:32:36.086203Z",
     "start_time": "2022-11-05T10:32:36.086203Z"
    },
    "hidden": true
   },
   "outputs": [],
   "source": [
    "# ищем значение q для числа степеней свободы 89\n",
    "q95 = 0.151\n",
    "q99 = 0.211\n",
    "conf_inter_std95 = [corr_samp_std * (1 - q95), corr_samp_std * (1 + q95)]\n",
    "conf_inter_std99 = [corr_samp_std * (1 - q99), corr_samp_std * (1 + q99)]\n",
    "print('Значения параметра q (размер выборки: ', len(sample), ')', sep='')\n",
    "print('\\tПри доверительной точности 0.95:', q95)\n",
    "print('\\tПри доверительной точности 0.99:', q99)\n",
    "print('Доверительные интервалы для СКО')\n",
    "print('\\tПри доверительной точности 0.95: {', \n",
    "      conf_inter_std95[0], '; ', conf_inter_std95[1], '}', sep='')\n",
    "print('\\tПри доверительной точности 0.99: {', \n",
    "      conf_inter_std99[0], '; ', conf_inter_std99[1], '}', sep='')"
   ]
  },
  {
   "cell_type": "markdown",
   "metadata": {
    "hidden": true
   },
   "source": [
    "При больших значениях доверительной точности значение параметра q больше. При больших значениях доверительной точности размер доверительного интервала для СКО больше."
   ]
  },
  {
   "cell_type": "markdown",
   "metadata": {
    "heading_collapsed": true
   },
   "source": [
    "### Проверить гипотезу о нормальности заданного распределения с помощью критерия $\\chi^2$ (Пирсона). Для этого необходимо найти теоретические частоты и вычислить наблюдаемое значение критерия. Для удобства вычисления необходимо заполнить расчётную таблицу (в последней строке $\\Sigma$ необходимо записать сумму столбца). Проконтролировать корректность вычисления $\\chi^2$-наблюдаемое. Далее по заданному уровню значимости $\\alpha = 0.05$ и числу степеней свободы $df$ найти критическую точку $\\chi^2$-критическое и сравнить с наблюдаемым значением. Сделать выводы."
   ]
  },
  {
   "cell_type": "code",
   "execution_count": null,
   "metadata": {
    "ExecuteTime": {
     "end_time": "2022-11-05T10:32:36.092206Z",
     "start_time": "2022-11-05T10:32:36.092206Z"
    },
    "hidden": true
   },
   "outputs": [],
   "source": [
    "# построим новые интервалы для таблицы\n",
    "chi_intervals = np.copy(intervals)\n",
    "chi_intervals[0] = f'(-inf; {np.round(inter_bounds[1], disp_pres)}]'\n",
    "chi_intervals[len(chi_intervals)-1] = \\\n",
    "    f'({np.round(inter_bounds[len(inter_bounds)-2], disp_pres)}; +inf)'\n",
    "# найдем выравненные частоты\n",
    "pi = scipy.stats.norm.cdf((inter_bounds[1:len(inter_bounds)] - samp_mean)\n",
    "                          / corr_samp_std)\n",
    "pi = np.concatenate(([pi[0]], np.diff(pi)))\n",
    "inter_counts_teor = pi * len(sample)\n",
    "counts_diff_squar = (inter_counts - inter_counts_teor) ** 2\n",
    "chi_observed = counts_diff_squar / inter_counts_teor\n",
    "inter_counts_squar = inter_counts ** 2\n",
    "counts_freqs_squar_over_inter_counts_teor = \\\n",
    "    inter_counts_squar / inter_counts_teor\n",
    "tab1_4_14 = pd.DataFrame(\n",
    "    {\n",
    "        '$$i$$': np.append(\n",
    "            np.arange(1, len(intervals)+1).astype(str),\n",
    "            '$$\\Sigma$$'\n",
    "        ),\n",
    "        '$$(x_{i-1}, x_i]$$': np.append(chi_intervals, '-'),\n",
    "        '$$n_i$$': np.append(inter_counts, np.sum(inter_counts)),\n",
    "        '$$p_i$$': np.append(pi, np.sum(pi)),\n",
    "        '$$n_i^\\prime$$': np.append(\n",
    "            inter_counts_teor,\n",
    "            np.sum(inter_counts_teor)\n",
    "        ),\n",
    "        '$$(n_i-n_i^\\prime)^2$$': np.append(\n",
    "            np.round(counts_diff_squar, disp_pres).astype(str), \n",
    "            '-'\n",
    "        ),\n",
    "        '$${(n_i-n_i^\\prime)^2}\\over{n_i^\\prime}$$': np.append(\n",
    "            chi_observed,\n",
    "            np.sum(chi_observed)\n",
    "        ),\n",
    "        '$$n_i^2$$': np.append(inter_counts_squar.astype(str), '-'),\n",
    "        '$${n_i^2}\\over{n_i^\\prime}$$': np.append(\n",
    "            counts_freqs_squar_over_inter_counts_teor,\n",
    "            np.sum(counts_freqs_squar_over_inter_counts_teor)\n",
    "        )\n",
    "    }\n",
    ")\n",
    "HTML(tab1_4_14.to_html(index=False))"
   ]
  },
  {
   "cell_type": "markdown",
   "metadata": {
    "hidden": true
   },
   "source": [
    "Сравним $\\chi^2$-наблюдаемое  с табличным значением ($\\chi^2$-критическое). В интервальном ряду 7 интервалов, у нормального распределения 2 параметра, следовательно, число степеней свободы $df = 7 - 2 - 1 = 4$. По условию, $\\alpha = 0.05$. Тогда $\\chi^2$-критическое равно $\\chi^2(\\alpha, df) = \\chi^2(0.05, 4) = 9.488$. \n",
    "\n",
    "$\\chi^2$-наблюдаемое = 22.35 > 9.488 = $\\chi^2$-критическое, следовательно, гипотезу о принадлежности нормальному распределению не принимаем."
   ]
  },
  {
   "cell_type": "markdown",
   "metadata": {},
   "source": [
    "## Выводы\n",
    "\n",
    "В ходе работы было сделано:\n",
    "- из генеральной совокупности сформирована выборка, состоящая из 90 элементов\n",
    "- были получены ранжированный, вариационный и интервальный ряды\n",
    "- для интервального ряда был построен полигон, гистограмма и эмпирическая функция\n",
    "- для интервального ряда найдены середины интервалов, накопленные частоты\n",
    "- для полученных вариант вычислены условные варианты\n",
    "- вычислены выборочные среднее и дисперсию с помощью стандартной формулы и с помощью условных вариант\n",
    "- вычислить исправленную выборочную дисперсию и исправленное СКО\n",
    "- найдена статистическая оценка коэффициентов асимметрии и эксцесса\n",
    "- вычислена мода, медиана и коэффициент вариации\n",
    "- вычислена точность и доверительный интервал для математического ожидания и СКО\n",
    "- проверена гипотеза о нормальности заданного распределения с помощью критерия $\\chi^2$ (Пирсона)\n",
    "\n",
    "По полученным значениям сделаны выводы."
   ]
  }
 ],
 "metadata": {
  "kernelspec": {
   "display_name": "Python 3 (ipykernel)",
   "language": "python",
   "name": "python3"
  },
  "language_info": {
   "codemirror_mode": {
    "name": "ipython",
    "version": 3
   },
   "file_extension": ".py",
   "mimetype": "text/x-python",
   "name": "python",
   "nbconvert_exporter": "python",
   "pygments_lexer": "ipython3",
   "version": "3.9.7"
  },
  "toc": {
   "base_numbering": 1,
   "nav_menu": {
    "height": "217px",
    "width": "685px"
   },
   "number_sections": true,
   "sideBar": true,
   "skip_h1_title": false,
   "title_cell": "Table of Contents",
   "title_sidebar": "Contents",
   "toc_cell": false,
   "toc_position": {},
   "toc_section_display": true,
   "toc_window_display": false
  },
  "varInspector": {
   "cols": {
    "lenName": 16,
    "lenType": 16,
    "lenVar": 40
   },
   "kernels_config": {
    "python": {
     "delete_cmd_postfix": "",
     "delete_cmd_prefix": "del ",
     "library": "var_list.py",
     "varRefreshCmd": "print(var_dic_list())"
    },
    "r": {
     "delete_cmd_postfix": ") ",
     "delete_cmd_prefix": "rm(",
     "library": "var_list.r",
     "varRefreshCmd": "cat(var_dic_list()) "
    }
   },
   "types_to_exclude": [
    "module",
    "function",
    "builtin_function_or_method",
    "instance",
    "_Feature"
   ],
   "window_display": false
  }
 },
 "nbformat": 4,
 "nbformat_minor": 4
}
