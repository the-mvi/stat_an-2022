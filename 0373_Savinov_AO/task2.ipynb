{
 "cells": [
  {
   "cell_type": "markdown",
   "metadata": {},
   "source": [
    "# Практическая работа №2: Корреляционный и регрессионный анализ\n",
    "Выполнил студент гр. 0373 Савинов Алексей. Вариант №18"
   ]
  },
  {
   "cell_type": "markdown",
   "metadata": {},
   "source": [
    "## Цель работы\n",
    "Освоение основных понятий, связанных с корреляционной зависимостью между случайными величинами, статистическими гипотезами и проверкой их «справедливости». Ознакомление с основными положениями метода наименьших квадратов (МНК), со статистическими свойствами МНК оценок, с понятием функции регрессии и роли МНК в регрессионном анализе, с корреляционным отношением, как мерой тесноты произвольной (в том числе и линейной) корреляционной связи."
   ]
  },
  {
   "cell_type": "markdown",
   "metadata": {},
   "source": [
    "## Основные теоретические положения\n",
    "\n",
    "- Двумерный интервальный ряд показывает частоты одной величины в определенном интервале при условии принадлжености сопряженной величины другому интервалу для всех интервалов интервальных рядов первой и второй величины. Для проверки правильности подсчета частот в двумерном интервальном ряду\n",
    "- Коэффициент корреляции: $$r_{xy} = {{{1 \\over n} \\Sigma_{i = 1}^{K_u} \\Sigma_{j = 1}^{K_v} n_{uv} u_i v_j - \\overline u \\overline v} \\over {\\sigma_u \\sigma_v}}, $$ где $u_{i} = \\frac{x_i - C_x}{h_x}, v_j = \\frac{y_j - C_y}{h_y}$\n",
    "- Доверительный интервал для коэффициента корреляции: $z = \\text{arth}(r_в)$, интервал для $z$: $(z - {t \\over {\\sqrt{n - 3}}}; z + {t \\over {\\sqrt{n - 3}}})$, где $n$ - количество элементов выборки $t$ - значение коэффициента стьюдента. $r_в$ принадлежит интервалу $(th(z_1); th(z_2))$\n",
    "- Проверка статистической гипотезы о равенстве коэффициента корреляции нулю при заданном уровне значимости $\\alpha$: $T_{набл} = {r_в \\frac{\\sqrt{n - 2}}{\\sqrt{1 - r_в^2}}}$, $T_{крит} = {t(\\alpha, df)}$, где $df = n - 2$. Условие принятия гипотезы: $|T_{набл}| < T_{крит}$\n",
    "- уравнение средней квадратичной регрессии x на y: $F(a, b, c) = \\sum_{i=1}^{n}{(a+bx_i+cx_i^2-y_i)^2} \\rightarrow min$"
   ]
  },
  {
   "cell_type": "markdown",
   "metadata": {},
   "source": [
    "## Постановка задачи\n",
    "Из заданной генеральной совокупности сформировать выборку по второму признаку. Для системы двух случайных величин $X$ (первый признак) и $Y$ (второй признак) сформировать двумерную выборку и найти статистическую оценку коэффициента корреляции, построить доверительный интервал для коэффициента корреляции и осуществить проверку статистической гипотезы о равенстве коэффициента корреляции нулю. Построить уравнения выборочных прямых среднеквадратической регрессии. Полученные линейные функции регрессии отобразить графически. Найти выборочное корреляционное отношение. Оценить адекватность моделей. Полученные результаты содержательно проинтерпретировать."
   ]
  },
  {
   "cell_type": "markdown",
   "metadata": {},
   "source": [
    "## Выполнение работы"
   ]
  },
  {
   "cell_type": "code",
   "execution_count": 1,
   "metadata": {
    "ExecuteTime": {
     "end_time": "2022-11-27T20:43:08.831876Z",
     "start_time": "2022-11-27T20:43:05.942662Z"
    }
   },
   "outputs": [],
   "source": [
    "import numpy as np\n",
    "import pandas as pd\n",
    "from pandas import option_context\n",
    "import scipy.stats\n",
    "import math\n",
    "import matplotlib.pyplot as plt\n",
    "from IPython.display import HTML, Math"
   ]
  },
  {
   "cell_type": "code",
   "execution_count": 2,
   "metadata": {
    "ExecuteTime": {
     "end_time": "2022-11-27T20:43:08.847333Z",
     "start_time": "2022-11-27T20:43:08.831876Z"
    }
   },
   "outputs": [],
   "source": [
    "disp_pres = 2\n",
    "pd.set_option(f'display.float_format', f'{{:.{disp_pres}f}}'.format)"
   ]
  },
  {
   "cell_type": "code",
   "execution_count": 3,
   "metadata": {
    "ExecuteTime": {
     "end_time": "2022-11-27T20:43:08.879336Z",
     "start_time": "2022-11-27T20:43:08.853338Z"
    }
   },
   "outputs": [],
   "source": [
    "def tex_format(array, tag):\n",
    "    nparray = np.array(array)\n",
    "    start_item = '$$\\\\' + tag + '{'\n",
    "    start = np.full((len(nparray)), '$$\\\\' + tag + '{')\n",
    "    finish = np.full((len(nparray)), '}$$')\n",
    "    return np.core.defchararray.add(\n",
    "        np.core.defchararray.add(start, nparray.astype(str)),\n",
    "        finish\n",
    "    )"
   ]
  },
  {
   "cell_type": "code",
   "execution_count": 4,
   "metadata": {
    "ExecuteTime": {
     "end_time": "2022-11-27T20:43:09.085335Z",
     "start_time": "2022-11-27T20:43:08.887341Z"
    }
   },
   "outputs": [],
   "source": [
    "def get_sample(path_to_sample, column):\n",
    "    return pd.read_csv(path_to_sample)[column].to_numpy()\n",
    "\n",
    "def get_inter_k(sample):\n",
    "    return round(np.log2(len(sample))) + 1\n",
    "\n",
    "def get_inter_h(sample):\n",
    "    samp_uniq = np.array(np.unique(sample, return_counts=True))\n",
    "    return (np.max(samp_uniq[0]) - np.min(samp_uniq[0])) / \\\n",
    "    get_inter_k(sample)\n",
    "    \n",
    "def get_inter_bounds(sample):\n",
    "    return np.linspace(np.min(sample), \n",
    "                       np.max(sample), get_inter_k(sample)+1)\n",
    "\n",
    "def get_inter_means(sample):\n",
    "    inter_bounds = get_inter_bounds(sample)\n",
    "    return np.array([(inter_bounds[i+1]+inter_bounds[i])/2 \n",
    "                     for i in range(len(inter_bounds)-1)])\n",
    "\n",
    "def get_inter_counts(sample):\n",
    "    samp_uniq = np.array(np.unique(sample, return_counts=True))\n",
    "    inter_bounds = get_inter_bounds(sample)\n",
    "    inter_counts = np.array([np.count_nonzero(\n",
    "        np.logical_and(samp_uniq[0] > inter_bounds[i],\n",
    "                       samp_uniq[0] <= inter_bounds[i+1])\n",
    "    ) for i in range(len(inter_bounds)-1)])\n",
    "    inter_counts[0] += 1\n",
    "    return inter_counts\n",
    "\n",
    "def get_inter_freqs(sample):\n",
    "    return get_inter_counts(sample) / len(sample)\n",
    "\n",
    "def get_inter_counts_cum(sample):\n",
    "    return np.cumsum(get_inter_counts(sample))\n",
    "\n",
    "def get_inter_freqs_cum(sample):\n",
    "    return np.cumsum(get_inter_freqs(sample))\n",
    "\n",
    "#---------Условное---------#\n",
    "\n",
    "def get_fict_zero(sample):\n",
    "    inter_bounds = get_inter_bounds(sample)\n",
    "    inter_means = get_inter_means(sample)\n",
    "    inter_counts = get_inter_counts(sample)\n",
    "    # найдем ложный нуль\n",
    "    num_inters = len(inter_bounds) - 1\n",
    "    fict_zero = None\n",
    "    # один средний интервал\n",
    "    if num_inters % 2 != 0:\n",
    "        fict_zero = inter_means[num_inters // 2]\n",
    "    # два средних интервала\n",
    "    else:\n",
    "        fict_zero = inter_means[num_inters // 2 - 1] if \\\n",
    "            inter_counts[num_inters // 2 - 1] >= inter_counts[num_inters // 2] \\\n",
    "            else inter_means[num_inters // 2]\n",
    "    return fict_zero\n",
    "\n",
    "def get_cond_variant(sample):\n",
    "    return np.round((get_inter_means(sample) - get_fict_zero(sample)) / \\\n",
    "        get_inter_h(sample)).astype(np.int64)\n",
    "\n",
    "def get_n_mul_u_pow_lower_k(sample, k):\n",
    "    inter_counts = get_inter_counts(sample)\n",
    "    cond_variant = get_cond_variant(sample)\n",
    "    return np.array([inter_counts * cond_variant ** i \n",
    "                         for i in range(k)])\n",
    "\n",
    "def get_n_mul_u_1_pow_4():\n",
    "    inter_counts = get_inter_counts(sample)\n",
    "    cond_variant = get_cond_variant(sample)\n",
    "    return np.multiply(np.power(cond_variant+1, 4), inter_counts)\n",
    "\n",
    "def get_nu_pow_lower_k(sample, k):\n",
    "    inter_counts = get_inter_counts(sample)\n",
    "    cond_variant = get_cond_variant(sample)\n",
    "    return np.array([np.sum(inter_counts * cond_variant ** i) / len(sample)\n",
    "                     for i in range(k)])\n",
    "\n",
    "def get_mu_pow_lower_4(sample):\n",
    "    inter_h = get_inter_h(sample)\n",
    "    nu = get_nu_pow_lower_k(sample, 5)\n",
    "    nu = nu[1:]\n",
    "    mu = np.zeros((4))\n",
    "    mu[0] = 0\n",
    "    mu[1] = (nu[1] - nu[0] ** 2) * inter_h ** 2\n",
    "    mu[2] = (nu[2] - 3 * nu[1] * nu[0] + 2 * nu[0] ** 3) * inter_h ** 3\n",
    "    mu[3] = (nu[3] - 4 * nu[2] * nu[0] + 6 * nu[1] * nu[0] ** 2 - \n",
    "             3 * nu[0] ** 4) * inter_h ** 4\n",
    "    return mu\n",
    "\n",
    "def get_mean(sample):\n",
    "    return np.sum(sample) / len(sample)\n",
    "\n",
    "def get_cond_v_mean(sample):\n",
    "    inter_h = get_inter_h(sample)\n",
    "    nu = get_nu_pow_lower_k(sample, 2)\n",
    "    nu = nu[1:]\n",
    "    fict_zero = get_fict_zero(sample)\n",
    "    return nu[0] * inter_h + fict_zero\n",
    "\n",
    "def get_var(sample):\n",
    "    samp_mean = get_mean(sample)\n",
    "    return np.sum((sample - samp_mean) ** 2) / len(sample)\n",
    "\n",
    "def get_cond_v_var(sample):\n",
    "    mu = get_mu_pow_lower_4(sample)\n",
    "    return mu[1]\n",
    "\n",
    "def get_std(sample):\n",
    "    return np.sqrt(get_var(sample))\n",
    "\n",
    "def get_corr_var(sample):\n",
    "    samp_var = get_var(sample)\n",
    "    return len(sample) / (len(sample) - 1) * samp_var\n",
    "\n",
    "def get_corr_std(sample):\n",
    "    return np.sqrt(get_corr_var(sample))\n",
    "\n",
    "def get_skew(sample):\n",
    "    mu = get_mu_pow_lower_4(sample)\n",
    "    return mu[2] / np.sqrt(mu[1]) ** 3\n",
    "\n",
    "def get_kurt(sample):\n",
    "    mu = get_mu_pow_lower_4(sample)\n",
    "    return mu[3] / mu[1] ** 2 - 3\n",
    "\n",
    "# функция, которая склеивает два соседних интервала по указанному индексу,\n",
    "# и склеивает соседние пары интервалов рядом с ними, если можно\n",
    "def __join_inters(inter_counts, inter_bounds, idx, fir_inter_max):\n",
    "    assert len(inter_counts) == len(inter_bounds) - 1\n",
    "    assert idx >= 0 and idx < len(inter_counts) - 1\n",
    "    inter_counts_ext = np.copy(inter_counts)\n",
    "    inter_bounds_ext = np.copy(inter_bounds)\n",
    "    # убираем границу\n",
    "    inter_bounds_ext = np.delete(inter_bounds_ext, idx+1)\n",
    "    # склеиваем частоты\n",
    "    inter_counts_ext[idx] += inter_counts_ext[idx+1]\n",
    "    # убираем частоту следующего интервала\n",
    "    inter_counts_ext = np.delete(inter_counts_ext, idx+1)\n",
    "    # объединяем соседние интервалы по возможности\n",
    "    # левые два\n",
    "    if idx - 2 >= 0 and \\\n",
    "    inter_counts_ext[idx-1] < fir_inter_max and \\\n",
    "    inter_counts_ext[idx-2] < fir_inter_max:\n",
    "        inter_bounds_ext = np.delete(inter_bounds_ext, idx-1)\n",
    "        inter_counts_ext[idx-2] += inter_counts_ext[idx-1]\n",
    "        inter_counts_ext = np.delete(inter_counts_ext, idx-1)\n",
    "        idx -= 1\n",
    "    # правые два\n",
    "    if idx + 2 < len(inter_counts_ext) and \\\n",
    "    inter_counts_ext[idx+1] < fir_inter_max and \\\n",
    "    inter_counts_ext[idx+2] < fir_inter_max:\n",
    "        inter_bounds_ext = np.delete(inter_bounds_ext, idx+2)\n",
    "        inter_counts_ext[idx+1] += inter_counts_ext[idx+2]\n",
    "        inter_counts_ext = np.delete(inter_counts_ext, idx+2)\n",
    "    return inter_counts_ext, inter_bounds_ext\n",
    "\n",
    "# функция, объединяющая интервалы соседние модальные интервалы, и \n",
    "# близлежащие, по возможности\n",
    "def __join_mode_inters(inter_counts, inter_bounds):\n",
    "    assert len(inter_counts) == len(inter_bounds) - 1\n",
    "    inter_counts_ext = np.copy(inter_counts)\n",
    "    inter_bounds_ext = np.copy(inter_bounds)\n",
    "    # будем склеивать модальные интервалы, пока \n",
    "    # существуют соседние модальные интервалы\n",
    "    fir_inter_max = np.max(inter_counts_ext)\n",
    "    while len(np.argwhere(inter_counts_ext == fir_inter_max)) != 0:\n",
    "        mode_inters = np.concatenate(\n",
    "            np.argwhere(inter_counts_ext == fir_inter_max))\n",
    "        adj_mode_inters_idx = -1\n",
    "        for i in range(len(mode_inters)-1):\n",
    "            print(mode_inters[i], mode_inters[i+1] - 1, mode_inters[i] == mode_inters[i+1] - 1)\n",
    "            if mode_inters[i] == mode_inters[i+1] - 1:\n",
    "                adj_mode_inters_idx = mode_inters[i]\n",
    "                break\n",
    "        if adj_mode_inters_idx == -1:\n",
    "            break\n",
    "        # если соседние модальные интервалы существуют, объединим\n",
    "        else:\n",
    "            inter_counts_ext, inter_bounds_ext = __join_inters(\n",
    "                inter_counts_ext, inter_bounds_ext, \n",
    "                adj_mode_inters_idx, fir_inter_max\n",
    "            )\n",
    "            \n",
    "    return inter_counts_ext, inter_bounds_ext, fir_inter_max\n",
    "\n",
    "# функция для подсчета моды заданного интервала\n",
    "def __count_inter_mode(inter_counts, inter_bounds, inter_h, idx):\n",
    "    assert len(inter_counts) == len(inter_bounds) - 1\n",
    "    assert idx >= 0 and idx < len(inter_counts) - 1\n",
    "    inter_counts_ext = np.concatenate(([0], inter_counts, [0]))\n",
    "    idx += 1\n",
    "    return inter_bounds[idx-1] + \\\n",
    "        (inter_counts_ext[idx] - inter_counts_ext[idx-1]) / \\\n",
    "        (inter_counts_ext[idx] - inter_counts_ext[idx-1] + \\\n",
    "         inter_counts_ext[idx] - inter_counts_ext[idx+1]) * inter_h\n",
    "\n",
    "def get_inter_mode(sample):\n",
    "    inter_counts = get_inter_counts(sample)\n",
    "    inter_bounds = get_inter_bounds(sample)\n",
    "    inter_h = get_inter_h(sample)\n",
    "    inter_counts_ext = np.copy(inter_counts)\n",
    "    inter_counts_ext, inter_bounds_ext, fir_inter_max = __join_mode_inters(\n",
    "        inter_counts_ext, inter_bounds)\n",
    "\n",
    "    return [__count_inter_mode(inter_counts, inter_bounds, inter_h, i) \\\n",
    "            for i in np.concatenate(np.argwhere(inter_counts_ext >= fir_inter_max))]\n",
    "    \n",
    "def get_inter_median(sample):\n",
    "    samp_median = None\n",
    "    med_idx = np.where(inter_freqs_cum >= 0.5)[0][0]\n",
    "    if med_idx == 0:\n",
    "        samp_median = inter_bounds[med_idx] + (0.5 * len(sample)) / \\\n",
    "            inter_counts_cum[med_idx]\n",
    "    else:\n",
    "        samp_median = inter_bounds[med_idx] + (0.5 * len(sample) - \\\n",
    "            inter_counts_cum[med_idx-1]) / inter_counts_cum[med_idx]\n",
    "    return samp_median\n",
    "\n",
    "def get_cv(sample):\n",
    "    samp_var = get_var(sample)\n",
    "    samp_mean = get_mean(sample)\n",
    "    return np.sqrt(samp_var) / np.abs(samp_mean)\n",
    "\n",
    "def get_mean_conf_inter(sample, conf):\n",
    "    samp_std = get_std(sample)\n",
    "    t = scipy.stats.t.ppf(conf, len(sample)-1)\n",
    "    return [samp_mean - t * samp_std / np.sqrt(len(sample)), \n",
    "            samp_mean + t * samp_std / np.sqrt(len(sample))]\n",
    "    \n",
    "def get_mean_accuracy(sample, conf):\n",
    "    samp_std = get_std(sample)\n",
    "    t = scipy.stats.t.ppf(conf, len(sample)-1)\n",
    "    return t * samp_std / np.sqrt(len(sample))\n",
    "\n",
    "def get_std_conf_inter95(sample):\n",
    "    corr_samp_std = get_corr_std(sample)\n",
    "    q95 = 0.151\n",
    "    return [corr_samp_std * (1 - q95), corr_samp_std * (1 + q95)]\n",
    "\n",
    "def get_std_conf_inter99(sample):\n",
    "    corr_samp_std = get_corr_std(sample)\n",
    "    q99 = 0.211\n",
    "    return [corr_samp_std * (1 - q99), corr_samp_std * (1 + q99)]\n",
    "\n",
    "#def get_something_for_Pirson():\n"
   ]
  },
  {
   "cell_type": "markdown",
   "metadata": {},
   "source": [
    "### Провести статистическую обработку второй выборки в объеме практической работы №1 с целью определения точечных статистических оценок параметров распределения исследуемого признака (математического ожидания, дисперсии, среднеквадратичного отклонения, асимметрии, эксцесса, моды, медианы и коэффициента вариации). Оформить результаты в виде таблиц, сделать выводы."
   ]
  },
  {
   "cell_type": "markdown",
   "metadata": {},
   "source": [
    "Вторая выборка представлена во <u>втором столбце</u> таблицы в файле _\"Данные для практических работ.csv\"_. Выборка является бесповторной, по способу формирования - типическая (где тип - гражданство)."
   ]
  },
  {
   "cell_type": "code",
   "execution_count": 5,
   "metadata": {
    "ExecuteTime": {
     "end_time": "2022-11-27T20:43:09.117339Z",
     "start_time": "2022-11-27T20:43:09.088337Z"
    }
   },
   "outputs": [
    {
     "name": "stdout",
     "output_type": "stream",
     "text": [
      "Выборка:\n",
      " [ 924306  915922  917727  868828  809866  820290  818433  772989  713837\n",
      "  719139  720495  712570  688668  645391  659500  623163  651089  633067\n",
      "  667056  709940  740493  758535  881232  975986 1127972 1155172 1210745\n",
      " 1265138 1261487 1255017 1219410 1245468 1175050 1121621 1196106 1104835\n",
      " 1105328 1076185 1086397 1101834 1056631 1026951 1031590  991874 1028176\n",
      "  931599  921577  910541  946795 1003079 1029062 1105474 1155471 1213086\n",
      " 1304369 1228833 1229446 1198493 1164946 1178109 1173482 1059852 1071195\n",
      " 1029035 1016786 1030393  845857  821262  734024  447156  333510  305713\n",
      "  458623  708253  751953  807743  789619  763019  592371  496221  365276\n",
      "  335378  379352  347099  356954  315216  293598  233256  192420  146563]\n"
     ]
    }
   ],
   "source": [
    "y_sample = get_sample('Данные для практических работ.csv', \n",
    "                      'Численность женщин')\n",
    "print('Выборка:\\n', y_sample)"
   ]
  },
  {
   "cell_type": "code",
   "execution_count": 6,
   "metadata": {
    "ExecuteTime": {
     "end_time": "2022-11-27T20:43:09.211335Z",
     "start_time": "2022-11-27T20:43:09.123340Z"
    },
    "scrolled": true
   },
   "outputs": [
    {
     "data": {
      "text/html": [
       "<table border=\"1\" class=\"dataframe\">\n",
       "  <thead>\n",
       "    <tr style=\"text-align: right;\">\n",
       "      <th>$$i$$</th>\n",
       "      <th>$$(y_{i-1}, y_i]$$</th>\n",
       "      <th>$$\\hat{y_i}$$</th>\n",
       "      <th>$$n_i$$</th>\n",
       "      <th>$$p_i^*$$</th>\n",
       "      <th>$$n_i^{\\Sigma}$$</th>\n",
       "      <th>$$p_i^{\\Sigma}$$</th>\n",
       "    </tr>\n",
       "  </thead>\n",
       "  <tbody>\n",
       "    <tr>\n",
       "      <td>1</td>\n",
       "      <td>[146563.0; 311963.86]</td>\n",
       "      <td>229263.43</td>\n",
       "      <td>5</td>\n",
       "      <td>0.06</td>\n",
       "      <td>5</td>\n",
       "      <td>0.06</td>\n",
       "    </tr>\n",
       "    <tr>\n",
       "      <td>2</td>\n",
       "      <td>(311963.86; 477364.71]</td>\n",
       "      <td>394664.29</td>\n",
       "      <td>9</td>\n",
       "      <td>0.10</td>\n",
       "      <td>14</td>\n",
       "      <td>0.16</td>\n",
       "    </tr>\n",
       "    <tr>\n",
       "      <td>3</td>\n",
       "      <td>(477364.71; 642765.57]</td>\n",
       "      <td>560065.14</td>\n",
       "      <td>4</td>\n",
       "      <td>0.04</td>\n",
       "      <td>18</td>\n",
       "      <td>0.2</td>\n",
       "    </tr>\n",
       "    <tr>\n",
       "      <td>4</td>\n",
       "      <td>(642765.57; 808166.43]</td>\n",
       "      <td>725466.0</td>\n",
       "      <td>19</td>\n",
       "      <td>0.21</td>\n",
       "      <td>37</td>\n",
       "      <td>0.41</td>\n",
       "    </tr>\n",
       "    <tr>\n",
       "      <td>5</td>\n",
       "      <td>(808166.43; 973567.29]</td>\n",
       "      <td>890866.86</td>\n",
       "      <td>14</td>\n",
       "      <td>0.16</td>\n",
       "      <td>51</td>\n",
       "      <td>0.57</td>\n",
       "    </tr>\n",
       "    <tr>\n",
       "      <td>6</td>\n",
       "      <td>(973567.29; 1138968.14]</td>\n",
       "      <td>1056267.71</td>\n",
       "      <td>21</td>\n",
       "      <td>0.23</td>\n",
       "      <td>72</td>\n",
       "      <td>0.8</td>\n",
       "    </tr>\n",
       "    <tr>\n",
       "      <td>7</td>\n",
       "      <td>(1138968.14; 1304369.0]</td>\n",
       "      <td>1221668.57</td>\n",
       "      <td>18</td>\n",
       "      <td>0.20</td>\n",
       "      <td>90</td>\n",
       "      <td>1.0</td>\n",
       "    </tr>\n",
       "    <tr>\n",
       "      <td>$$\\Sigma$$</td>\n",
       "      <td>$$-$$</td>\n",
       "      <td>$$-$$</td>\n",
       "      <td>90</td>\n",
       "      <td>1.00</td>\n",
       "      <td>$$-$$</td>\n",
       "      <td>$$-$$</td>\n",
       "    </tr>\n",
       "  </tbody>\n",
       "</table>"
      ],
      "text/plain": [
       "<IPython.core.display.HTML object>"
      ]
     },
     "metadata": {},
     "output_type": "display_data"
    },
    {
     "data": {
      "text/html": [
       "<table border=\"1\" class=\"dataframe\">\n",
       "  <thead>\n",
       "    <tr style=\"text-align: right;\">\n",
       "      <th>Характеритика</th>\n",
       "      <th>$$\\widetilde{y_в}$$</th>\n",
       "      <th>$$\\sigma_y^2$$</th>\n",
       "      <th>$$\\sigma_y$$</th>\n",
       "      <th>$$s_y^2$$</th>\n",
       "      <th>$$s_y$$</th>\n",
       "      <th>$$a_s^*$$</th>\n",
       "      <th>$$\\epsilon_k^*$$</th>\n",
       "      <th>$$M_o^*$$</th>\n",
       "      <th>$$M_e^*$$</th>\n",
       "      <th>$$V^*$$</th>\n",
       "    </tr>\n",
       "  </thead>\n",
       "  <tbody>\n",
       "    <tr>\n",
       "      <td>Значение</td>\n",
       "      <td>859624.47</td>\n",
       "      <td>86871704368.48</td>\n",
       "      <td>298411.54</td>\n",
       "      <td>90050005794.97</td>\n",
       "      <td>300083.33</td>\n",
       "      <td>-0.56</td>\n",
       "      <td>-0.66</td>\n",
       "      <td>1089347.89</td>\n",
       "      <td>808166.59</td>\n",
       "      <td>35.0%</td>\n",
       "    </tr>\n",
       "  </tbody>\n",
       "</table>"
      ],
      "text/plain": [
       "<IPython.core.display.HTML object>"
      ]
     },
     "metadata": {},
     "output_type": "display_data"
    }
   ],
   "source": [
    "inter_bounds = get_inter_bounds(y_sample)\n",
    "inter_means = get_inter_means(y_sample)\n",
    "inter_counts = get_inter_counts(y_sample)\n",
    "inter_freqs = get_inter_freqs(y_sample)\n",
    "inter_counts_cum = get_inter_counts_cum(y_sample)\n",
    "inter_freqs_cum = get_inter_freqs_cum(y_sample)\n",
    "intervals = [f'({np.round(inter_bounds[i], disp_pres)}; {np.round(inter_bounds[i+1], disp_pres)}]' \n",
    "             for i in range(len(inter_bounds)-1)]\n",
    "intervals[0] = '[' + intervals[0][1:]\n",
    "\n",
    "tab1_1 = pd.DataFrame(\n",
    "    {\n",
    "        '$$i$$': np.append(\n",
    "            np.arange(1, len(intervals)+1).astype(str),\n",
    "            '$$\\Sigma$$'\n",
    "        ),\n",
    "        '$$(y_{i-1}, y_i]$$': np.append(intervals, '$$-$$'),\n",
    "        '$$\\hat{y_i}$$': np.append(\n",
    "            np.round(inter_means, disp_pres).astype(str),\n",
    "            '$$-$$'\n",
    "        ),\n",
    "        '$$n_i$$': np.append(inter_counts, np.sum(inter_counts)),\n",
    "        '$$p_i^*$$': np.append(inter_freqs, np.sum(inter_freqs)),\n",
    "        '$$n_i^{\\Sigma}$$': np.append(inter_counts_cum.astype(str), '$$-$$'),\n",
    "        '$$p_i^{\\Sigma}$$': np.append(\n",
    "            np.round(inter_freqs_cum, disp_pres).astype(str),\n",
    "            '$$-$$'\n",
    "        )\n",
    "    }\n",
    ")\n",
    "display(HTML(tab1_1.to_html(index=False)))\n",
    "\n",
    "tab1_2 = pd.DataFrame(\n",
    "    {\n",
    "        'Характеритика': 'Значение',\n",
    "        '$$\\widetilde{y_в}$$':  np.round(get_cond_v_mean(y_sample), \n",
    "                                         disp_pres).astype(str),\n",
    "        '$$\\sigma_y^2$$': np.round(get_cond_v_var(y_sample), \n",
    "                                         disp_pres).astype(str),\n",
    "        '$$\\sigma_y$$': np.round(get_std(y_sample), \n",
    "                                 disp_pres).astype(str),\n",
    "        '$$s_y^2$$': np.round(get_corr_var(y_sample), \n",
    "                               disp_pres).astype(str),\n",
    "        '$$s_y$$': np.round(get_corr_std(y_sample), \n",
    "                             disp_pres).astype(str),\n",
    "        '$$a_s^*$$': np.round(get_skew(y_sample), \n",
    "                              disp_pres).astype(str),\n",
    "        '$$\\epsilon_k^*$$': np.round(get_kurt(y_sample), \n",
    "                                     disp_pres).astype(str),\n",
    "        '$$M_o^*$$': np.round(get_inter_mode(y_sample), \n",
    "                              disp_pres).astype(str),\n",
    "        '$$M_e^*$$': np.round(get_inter_median(y_sample), \n",
    "                              disp_pres).astype(str),\n",
    "        '$$V^*$$': (np.round(get_cv(y_sample), \n",
    "                             disp_pres)*100).astype(str) + '%',\n",
    "    }\n",
    ")\n",
    "display(HTML(tab1_2.to_html(index=False)))"
   ]
  },
  {
   "cell_type": "markdown",
   "metadata": {},
   "source": [
    "### Построить двумерный интервальный вариационный ряд, оформить в виде таблицы"
   ]
  },
  {
   "cell_type": "code",
   "execution_count": 7,
   "metadata": {
    "ExecuteTime": {
     "end_time": "2022-11-27T20:43:09.243335Z",
     "start_time": "2022-11-27T20:43:09.217340Z"
    }
   },
   "outputs": [],
   "source": [
    "# функция для получения двумерного интервального вариационного ряда\n",
    "def get_2d_inter_counts(fir_sample, sec_sample):\n",
    "    fir_bounds = get_inter_bounds(fir_sample)\n",
    "    sec_bounds = get_inter_bounds(sec_sample)\n",
    "    counts = np.array([[\n",
    "        np.count_nonzero(\n",
    "            np.logical_and(np.logical_and(fir_sample > fir_bounds[i],\n",
    "                                          fir_sample <= fir_bounds[i+1]),\n",
    "                           np.logical_and(sec_sample > sec_bounds[j],\n",
    "                                          sec_sample <= sec_bounds[j+1])\n",
    "                          )\n",
    "        ) for i in range(len(fir_bounds)-1)\n",
    "    ] for j in range(len(fir_bounds)-1)])\n",
    "    #! найдем частоты при sec_sample[k] = sec_bounds[0]\n",
    "    counts[0] += np.array([np.count_nonzero(\n",
    "        np.logical_and(np.logical_and(fir_sample > fir_bounds[i],\n",
    "                                      fir_sample <= fir_bounds[i+1]),\n",
    "                       sec_sample == sec_bounds[0]\n",
    "                      )\n",
    "    ) for i in range(len(fir_bounds)-1)])\n",
    "    counts[0, 0] += np.count_nonzero(\n",
    "        np.logical_and(fir_sample == fir_bounds[0],\n",
    "                       sec_sample == sec_bounds[0]\n",
    "                      )\n",
    "    )\n",
    "    return counts"
   ]
  },
  {
   "cell_type": "code",
   "execution_count": 8,
   "metadata": {
    "ExecuteTime": {
     "end_time": "2022-11-27T20:43:09.323334Z",
     "start_time": "2022-11-27T20:43:09.249336Z"
    }
   },
   "outputs": [
    {
     "data": {
      "text/html": [
       "<table border=\"1\" class=\"dataframe\">\n",
       "  <thead>\n",
       "    <tr style=\"text-align: right;\">\n",
       "      <th>$$Y/X$$</th>\n",
       "      <th>[31074.0; 212739.86]</th>\n",
       "      <th>(212739.86; 394405.71]</th>\n",
       "      <th>(394405.71; 576071.57]</th>\n",
       "      <th>(576071.57; 757737.43]</th>\n",
       "      <th>(757737.43; 939403.29]</th>\n",
       "      <th>(939403.29; 1121069.14]</th>\n",
       "      <th>(1121069.14; 1302735.0]</th>\n",
       "      <th>$$n_y$$</th>\n",
       "    </tr>\n",
       "  </thead>\n",
       "  <tbody>\n",
       "    <tr>\n",
       "      <td>$$\\textbf{[146563.0; 311963.86]}$$</td>\n",
       "      <td>5</td>\n",
       "      <td>0</td>\n",
       "      <td>0</td>\n",
       "      <td>0</td>\n",
       "      <td>0</td>\n",
       "      <td>0</td>\n",
       "      <td>0</td>\n",
       "      <td>5</td>\n",
       "    </tr>\n",
       "    <tr>\n",
       "      <td>$$\\textbf{(311963.86; 477364.71]}$$</td>\n",
       "      <td>7</td>\n",
       "      <td>2</td>\n",
       "      <td>0</td>\n",
       "      <td>0</td>\n",
       "      <td>0</td>\n",
       "      <td>0</td>\n",
       "      <td>0</td>\n",
       "      <td>9</td>\n",
       "    </tr>\n",
       "    <tr>\n",
       "      <td>$$\\textbf{(477364.71; 642765.57]}$$</td>\n",
       "      <td>1</td>\n",
       "      <td>1</td>\n",
       "      <td>0</td>\n",
       "      <td>2</td>\n",
       "      <td>0</td>\n",
       "      <td>0</td>\n",
       "      <td>0</td>\n",
       "      <td>4</td>\n",
       "    </tr>\n",
       "    <tr>\n",
       "      <td>$$\\textbf{(642765.57; 808166.43]}$$</td>\n",
       "      <td>0</td>\n",
       "      <td>5</td>\n",
       "      <td>1</td>\n",
       "      <td>10</td>\n",
       "      <td>3</td>\n",
       "      <td>0</td>\n",
       "      <td>0</td>\n",
       "      <td>19</td>\n",
       "    </tr>\n",
       "    <tr>\n",
       "      <td>$$\\textbf{(808166.43; 973567.29]}$$</td>\n",
       "      <td>0</td>\n",
       "      <td>0</td>\n",
       "      <td>2</td>\n",
       "      <td>0</td>\n",
       "      <td>9</td>\n",
       "      <td>3</td>\n",
       "      <td>0</td>\n",
       "      <td>14</td>\n",
       "    </tr>\n",
       "    <tr>\n",
       "      <td>$$\\textbf{(973567.29; 1138968.14]}$$</td>\n",
       "      <td>0</td>\n",
       "      <td>0</td>\n",
       "      <td>0</td>\n",
       "      <td>5</td>\n",
       "      <td>3</td>\n",
       "      <td>12</td>\n",
       "      <td>1</td>\n",
       "      <td>21</td>\n",
       "    </tr>\n",
       "    <tr>\n",
       "      <td>$$\\textbf{(1138968.14; 1304369.0]}$$</td>\n",
       "      <td>0</td>\n",
       "      <td>0</td>\n",
       "      <td>0</td>\n",
       "      <td>0</td>\n",
       "      <td>3</td>\n",
       "      <td>6</td>\n",
       "      <td>9</td>\n",
       "      <td>18</td>\n",
       "    </tr>\n",
       "    <tr>\n",
       "      <td>$$n_x$$</td>\n",
       "      <td>13</td>\n",
       "      <td>8</td>\n",
       "      <td>3</td>\n",
       "      <td>17</td>\n",
       "      <td>18</td>\n",
       "      <td>21</td>\n",
       "      <td>10</td>\n",
       "      <td>$$n=$$90</td>\n",
       "    </tr>\n",
       "  </tbody>\n",
       "</table>"
      ],
      "text/plain": [
       "<IPython.core.display.HTML object>"
      ]
     },
     "metadata": {},
     "output_type": "display_data"
    },
    {
     "data": {
      "text/latex": [
       "$\\displaystyle \\Sigma{n_x} = 90$"
      ],
      "text/plain": [
       "<IPython.core.display.Math object>"
      ]
     },
     "metadata": {},
     "output_type": "display_data"
    },
    {
     "data": {
      "text/latex": [
       "$\\displaystyle \\Sigma{n_y} = 90$"
      ],
      "text/plain": [
       "<IPython.core.display.Math object>"
      ]
     },
     "metadata": {},
     "output_type": "display_data"
    }
   ],
   "source": [
    "x_sample = get_sample('Данные для практических работ.csv', \n",
    "                      'Численность мужчин')\n",
    "\n",
    "x_bounds = get_inter_bounds(x_sample)\n",
    "y_bounds = get_inter_bounds(y_sample)\n",
    "y_x_counts = get_2d_inter_counts(x_sample, y_sample)\n",
    "# найдем суммы\n",
    "x_sums = np.sum(y_x_counts, axis=0)\n",
    "y_sums = np.sum(y_x_counts, axis=1)\n",
    "# интервалы для x\n",
    "x_intervals = [f'({np.round(x_bounds[i], disp_pres)}; {np.round(x_bounds[i+1], disp_pres)}]' \n",
    "               for i in range(len(x_bounds)-1)]\n",
    "x_intervals[0] = '[' + x_intervals[0][1:]\n",
    "# интервалы для y\n",
    "y_intervals = [f'({np.round(y_bounds[i], disp_pres)}; {np.round(y_bounds[i+1], disp_pres)}]' \n",
    "               for i in range(len(y_bounds)-1)]\n",
    "y_intervals[0] = '[' + y_intervals[0][1:]\n",
    "y_intervals_tex = tex_format(y_intervals, 'textbf')\n",
    "\n",
    "tab2_1_prev = np.vstack((*y_x_counts, x_sums))\n",
    "dict2_1 = dict(zip(x_intervals, tab2_1_prev.T))\n",
    "tab2_1 = pd.DataFrame(\n",
    "    {\n",
    "        '$$Y/X$$': np.append(y_intervals_tex, '$$n_x$$'),\n",
    "    } |\n",
    "    dict2_1 |\n",
    "    {\n",
    "        '$$n_y$$': np.append(\n",
    "            np.round(y_sums, disp_pres).astype(str), \n",
    "            '$$n=$$' + np.round(np.sum(y_sums), disp_pres).astype(str)\n",
    "        )\n",
    "    }\n",
    ")\n",
    "display(HTML(tab2_1.to_html(index=False)))\n",
    "display(Math(f'\\\\Sigma{{n_x}} = {np.sum(x_sums)}'))\n",
    "display(Math(f'\\\\Sigma{{n_y}} = {np.sum(y_sums)}'))"
   ]
  },
  {
   "cell_type": "markdown",
   "metadata": {},
   "source": [
    "### По полученному двумерному интервальному вариационному ряду сформировать условные варианты и по полученным условным вариантам построить корреляционную таблицу, сделать выводы"
   ]
  },
  {
   "cell_type": "code",
   "execution_count": 9,
   "metadata": {
    "ExecuteTime": {
     "end_time": "2022-11-27T20:43:09.355333Z",
     "start_time": "2022-11-27T20:43:09.327338Z"
    }
   },
   "outputs": [],
   "source": [
    "def get_U_V(fir_sample, sec_sample):\n",
    "    fir_cond_variants = get_cond_variant(fir_sample)\n",
    "    sec_cond_variants = get_cond_variant(sec_sample)\n",
    "    counts = get_2d_inter_counts(fir_sample, sec_sample)\n",
    "    U = np.sum(counts * fir_cond_variants, axis=1)\n",
    "    V = np.sum(counts.T * sec_cond_variants, axis=1)\n",
    "    return U, V\n",
    "\n",
    "def get_uV_vU(fir_sample, sec_sample):\n",
    "    fir_cond_variants = get_cond_variant(fir_sample)\n",
    "    sec_cond_variants = get_cond_variant(sec_sample)\n",
    "    U, V = get_U_V(fir_sample, sec_sample)\n",
    "    uV = fir_cond_variants * V\n",
    "    vU = sec_cond_variants * U\n",
    "    return uV, vU"
   ]
  },
  {
   "cell_type": "code",
   "execution_count": 10,
   "metadata": {
    "ExecuteTime": {
     "end_time": "2022-11-27T20:43:09.433338Z",
     "start_time": "2022-11-27T20:43:09.364338Z"
    }
   },
   "outputs": [
    {
     "data": {
      "text/html": [
       "<table border=\"1\" class=\"dataframe\">\n",
       "  <thead>\n",
       "    <tr style=\"text-align: right;\">\n",
       "      <th>$$v/u$$</th>\n",
       "      <th>-3</th>\n",
       "      <th>-2</th>\n",
       "      <th>-1</th>\n",
       "      <th>0</th>\n",
       "      <th>1</th>\n",
       "      <th>2</th>\n",
       "      <th>3</th>\n",
       "      <th>$$U$$</th>\n",
       "      <th>$$v U$$</th>\n",
       "    </tr>\n",
       "  </thead>\n",
       "  <tbody>\n",
       "    <tr>\n",
       "      <td>$$\\textbf{-3}$$</td>\n",
       "      <td>5</td>\n",
       "      <td>0</td>\n",
       "      <td>0</td>\n",
       "      <td>0</td>\n",
       "      <td>0</td>\n",
       "      <td>0</td>\n",
       "      <td>0</td>\n",
       "      <td>-15</td>\n",
       "      <td>45</td>\n",
       "    </tr>\n",
       "    <tr>\n",
       "      <td>$$\\textbf{-2}$$</td>\n",
       "      <td>7</td>\n",
       "      <td>2</td>\n",
       "      <td>0</td>\n",
       "      <td>0</td>\n",
       "      <td>0</td>\n",
       "      <td>0</td>\n",
       "      <td>0</td>\n",
       "      <td>-25</td>\n",
       "      <td>50</td>\n",
       "    </tr>\n",
       "    <tr>\n",
       "      <td>$$\\textbf{-1}$$</td>\n",
       "      <td>1</td>\n",
       "      <td>1</td>\n",
       "      <td>0</td>\n",
       "      <td>2</td>\n",
       "      <td>0</td>\n",
       "      <td>0</td>\n",
       "      <td>0</td>\n",
       "      <td>-5</td>\n",
       "      <td>5</td>\n",
       "    </tr>\n",
       "    <tr>\n",
       "      <td>$$\\textbf{0}$$</td>\n",
       "      <td>0</td>\n",
       "      <td>5</td>\n",
       "      <td>1</td>\n",
       "      <td>10</td>\n",
       "      <td>3</td>\n",
       "      <td>0</td>\n",
       "      <td>0</td>\n",
       "      <td>-8</td>\n",
       "      <td>0</td>\n",
       "    </tr>\n",
       "    <tr>\n",
       "      <td>$$\\textbf{1}$$</td>\n",
       "      <td>0</td>\n",
       "      <td>0</td>\n",
       "      <td>2</td>\n",
       "      <td>0</td>\n",
       "      <td>9</td>\n",
       "      <td>3</td>\n",
       "      <td>0</td>\n",
       "      <td>13</td>\n",
       "      <td>13</td>\n",
       "    </tr>\n",
       "    <tr>\n",
       "      <td>$$\\textbf{2}$$</td>\n",
       "      <td>0</td>\n",
       "      <td>0</td>\n",
       "      <td>0</td>\n",
       "      <td>5</td>\n",
       "      <td>3</td>\n",
       "      <td>12</td>\n",
       "      <td>1</td>\n",
       "      <td>30</td>\n",
       "      <td>60</td>\n",
       "    </tr>\n",
       "    <tr>\n",
       "      <td>$$\\textbf{3}$$</td>\n",
       "      <td>0</td>\n",
       "      <td>0</td>\n",
       "      <td>0</td>\n",
       "      <td>0</td>\n",
       "      <td>3</td>\n",
       "      <td>6</td>\n",
       "      <td>9</td>\n",
       "      <td>42</td>\n",
       "      <td>126</td>\n",
       "    </tr>\n",
       "    <tr>\n",
       "      <td>$$V$$</td>\n",
       "      <td>-30</td>\n",
       "      <td>-5</td>\n",
       "      <td>2</td>\n",
       "      <td>8</td>\n",
       "      <td>24</td>\n",
       "      <td>45</td>\n",
       "      <td>29</td>\n",
       "      <td>-</td>\n",
       "      <td>299</td>\n",
       "    </tr>\n",
       "    <tr>\n",
       "      <td>$$u V$$</td>\n",
       "      <td>90</td>\n",
       "      <td>10</td>\n",
       "      <td>-2</td>\n",
       "      <td>0</td>\n",
       "      <td>24</td>\n",
       "      <td>90</td>\n",
       "      <td>87</td>\n",
       "      <td>299</td>\n",
       "      <td>1</td>\n",
       "    </tr>\n",
       "  </tbody>\n",
       "</table>"
      ],
      "text/plain": [
       "<IPython.core.display.HTML object>"
      ]
     },
     "metadata": {},
     "output_type": "display_data"
    }
   ],
   "source": [
    "x_cond_variants = get_cond_variant(x_sample)\n",
    "y_cond_variants = get_cond_variant(y_sample)\n",
    "y_cond_variants_tex = tex_format(y_cond_variants, 'textbf')\n",
    "U, V = get_U_V(x_sample, y_sample)\n",
    "uV, vU = get_uV_vU(x_sample, y_sample)\n",
    "dict3_1 = dict(\n",
    "    zip(\n",
    "        x_cond_variants, \n",
    "        np.vstack((*y_x_counts, V, uV)).T\n",
    "       )\n",
    ")\n",
    "tab3_1 = pd.DataFrame(\n",
    "    {\n",
    "        '$$v/u$$': np.concatenate((y_cond_variants_tex, \n",
    "                                   ['$$V$$', '$$u V$$']\n",
    "                                  )),\n",
    "    } |\n",
    "    dict3_1 |\n",
    "    {\n",
    "        '$$U$$': np.concatenate((U, ['-', np.sum(uV)])),\n",
    "        '$$v U$$': np.concatenate((vU, [np.sum(vU), np.sum(uV) == np.sum(vU)]))\n",
    "    }\n",
    ")\n",
    "display(HTML(tab3_1.to_html(index=False)))"
   ]
  },
  {
   "cell_type": "markdown",
   "metadata": {},
   "source": [
    "Рассчеты проведены верно, значения $uV$ равны $vU$"
   ]
  },
  {
   "cell_type": "markdown",
   "metadata": {},
   "source": [
    "###  Исходя из результатов корреляционной таблицы вычислить коэффициент корреляции, сделать выводы"
   ]
  },
  {
   "cell_type": "code",
   "execution_count": 11,
   "metadata": {
    "ExecuteTime": {
     "end_time": "2022-11-27T20:43:09.464334Z",
     "start_time": "2022-11-27T20:43:09.444345Z"
    }
   },
   "outputs": [],
   "source": [
    "def get_corr_coef(fir_sample, sec_sample):\n",
    "    U, V = get_U_V(fir_sample, sec_sample)\n",
    "    uV, vU = get_uV_vU(fir_sample, sec_sample)\n",
    "    u = get_cond_variant(fir_sample), \n",
    "    v = get_cond_variant(sec_sample)\n",
    "    y_x_counts = get_2d_inter_counts(fir_sample, sec_sample)\n",
    "    x_sums = np.sum(y_x_counts, axis=0)\n",
    "    y_sums = np.sum(y_x_counts, axis=1)\n",
    "    nu_sums = u * x_sums\n",
    "    nv_sums = v * y_sums\n",
    "    return (1 / len(fir_sample) * np.sum(uV) - get_mean(u) * get_mean(v)) / \\\n",
    "        (get_std(u) * get_std(v))"
   ]
  },
  {
   "cell_type": "code",
   "execution_count": 12,
   "metadata": {
    "ExecuteTime": {
     "end_time": "2022-11-27T20:43:09.511335Z",
     "start_time": "2022-11-27T20:43:09.470336Z"
    }
   },
   "outputs": [
    {
     "data": {
      "text/latex": [
       "$\\displaystyle r_в = 0.31$"
      ],
      "text/plain": [
       "<IPython.core.display.Math object>"
      ]
     },
     "metadata": {},
     "output_type": "display_data"
    }
   ],
   "source": [
    "r = get_corr_coef(x_sample, y_sample)\n",
    "display(Math(f'r_в = {str(round(r, disp_pres))}'))"
   ]
  },
  {
   "cell_type": "markdown",
   "metadata": {
    "ExecuteTime": {
     "end_time": "2022-11-27T20:36:00.900181Z",
     "start_time": "2022-11-27T20:36:00.891196Z"
    }
   },
   "source": [
    "Значения выборок слабо коррелированы"
   ]
  },
  {
   "cell_type": "markdown",
   "metadata": {},
   "source": [
    "### Построить доверительный интервал для коэффициента корреляции при уровне значимости $\\boldsymbol\\gamma \\boldsymbol\\in \\textbf{\\{0.95, 0.99\\}}$, сделать выводы"
   ]
  },
  {
   "cell_type": "code",
   "execution_count": 13,
   "metadata": {
    "ExecuteTime": {
     "end_time": "2022-11-27T20:43:09.526336Z",
     "start_time": "2022-11-27T20:43:09.516336Z"
    }
   },
   "outputs": [],
   "source": [
    "def get_inter_for_corr_coef(corr_coef, gamma, sample_size):\n",
    "    t = scipy.stats.t.ppf((1+gamma)/2, sample_size-1)\n",
    "    z = math.atanh(corr_coef)\n",
    "    t1 = math.tanh(z - t / math.sqrt(sample_size - 3))\n",
    "    t2 = math.tanh(z + t / math.sqrt(sample_size - 3))\n",
    "    return t1, t2"
   ]
  },
  {
   "cell_type": "code",
   "execution_count": 14,
   "metadata": {
    "ExecuteTime": {
     "end_time": "2022-11-27T20:43:09.572337Z",
     "start_time": "2022-11-27T20:43:09.534338Z"
    }
   },
   "outputs": [
    {
     "data": {
      "text/latex": [
       "$\\displaystyle \\gamma = 0.95 \\Rightarrow r_{в} \\in [0.11, 0.49]$"
      ],
      "text/plain": [
       "<IPython.core.display.Math object>"
      ]
     },
     "metadata": {},
     "output_type": "display_data"
    },
    {
     "data": {
      "text/latex": [
       "$\\displaystyle \\gamma = 0.99 \\Rightarrow r_{в} \\in [0.04, 0.54]$"
      ],
      "text/plain": [
       "<IPython.core.display.Math object>"
      ]
     },
     "metadata": {},
     "output_type": "display_data"
    }
   ],
   "source": [
    "r_inter_95 = get_inter_for_corr_coef(r, 0.95, len(x_sample))\n",
    "r_inter_99 = get_inter_for_corr_coef(r, 0.99, len(x_sample))\n",
    "display(Math(f'\\gamma = 0.95 \\Rightarrow r_{{в}} \\in [' + \n",
    "             str(round(r_inter_95[0], disp_pres)) + \n",
    "             ', ' + str(round(r_inter_95[1], disp_pres)) + ']'))\n",
    "display(Math(f'\\gamma = 0.99 \\Rightarrow r_{{в}} \\in [' + \n",
    "             str(round(r_inter_99[0], disp_pres)) + \n",
    "             ', ' + str(round(r_inter_99[1], disp_pres)) + ']'))"
   ]
  },
  {
   "cell_type": "markdown",
   "metadata": {},
   "source": [
    "Доверительный интервал при значимости 0.95 меньше, чем при 0.99"
   ]
  },
  {
   "cell_type": "markdown",
   "metadata": {},
   "source": [
    "### Осуществить проверку статистической гипотезы о равенстве коэффициента корреляции нулю при заданном уровне значимости $\\boldsymbol\\alpha \\textbf{ = 0.05}$, сделать выводы"
   ]
  },
  {
   "cell_type": "code",
   "execution_count": 15,
   "metadata": {
    "ExecuteTime": {
     "end_time": "2022-11-27T20:43:09.603335Z",
     "start_time": "2022-11-27T20:43:09.578341Z"
    }
   },
   "outputs": [],
   "source": [
    "def t_obser_check_corr_coef_equal_zero(corr_coef, sample_size):\n",
    "    return corr_coef * math.sqrt(sample_size - 2) / \\\n",
    "        math.sqrt(1 - corr_coef ** 2)\n",
    "\n",
    "def t_crit_check_corr_coef_equal_zero(corr_coef, alpha, sample_size):\n",
    "    return scipy.stats.t.sf(1-alpha/2, sample_size-2)"
   ]
  },
  {
   "cell_type": "code",
   "execution_count": 16,
   "metadata": {
    "ExecuteTime": {
     "end_time": "2022-11-27T20:43:09.651338Z",
     "start_time": "2022-11-27T20:43:09.608340Z"
    }
   },
   "outputs": [
    {
     "data": {
      "text/latex": [
       "$\\displaystyle T_{набл.} = 3.1$"
      ],
      "text/plain": [
       "<IPython.core.display.Math object>"
      ]
     },
     "metadata": {},
     "output_type": "display_data"
    },
    {
     "data": {
      "text/latex": [
       "$\\displaystyle T_{крит.} = 0.17$"
      ],
      "text/plain": [
       "<IPython.core.display.Math object>"
      ]
     },
     "metadata": {},
     "output_type": "display_data"
    },
    {
     "data": {
      "text/latex": [
       "$\\displaystyle |T_{набл.}| \\geq T_{крит.}$"
      ],
      "text/plain": [
       "<IPython.core.display.Math object>"
      ]
     },
     "metadata": {},
     "output_type": "display_data"
    },
    {
     "data": {
      "text/latex": [
       "$\\displaystyle \\text{Гипотеза не верна}$"
      ],
      "text/plain": [
       "<IPython.core.display.Math object>"
      ]
     },
     "metadata": {},
     "output_type": "display_data"
    }
   ],
   "source": [
    "t_obser = t_obser_check_corr_coef_equal_zero(r, len(x_sample))\n",
    "t_crit = t_crit_check_corr_coef_equal_zero(r, 0.05, len(x_sample))\n",
    "\n",
    "display(Math(f'T_{{набл.}} = {round(t_obser, disp_pres)}'))\n",
    "display(Math(f'T_{{крит.}} = {round(t_crit, disp_pres)}'))\n",
    "\n",
    "rel = '<' if abs(t_obser) < t_crit else '\\geq'\n",
    "display(Math('|T_{набл.}| ' + rel + ' T_{крит.}'))\n",
    "display(Math('\\\\text{Гипотеза верна}' if abs(t_obser) < t_crit \n",
    "        else '\\\\text{Гипотеза не верна}'))"
   ]
  },
  {
   "cell_type": "markdown",
   "metadata": {},
   "source": [
    "Гипотеза верна, коэффициент корреляции достаточно близок к нулю"
   ]
  },
  {
   "cell_type": "markdown",
   "metadata": {},
   "source": [
    "### Для заданной выборки построить уравнения средней квадратичной регрессии $\\textbf{x}$ на $\\textbf{y}$ и $\\textbf{y}$ на $\\textbf{x}$ соответственно. Отобразить полученные прямые на множестве выборки. Объяснить результаты"
   ]
  },
  {
   "cell_type": "markdown",
   "metadata": {},
   "source": [
    "Построим уравнение средней квадратичной регрессии x на y. \n",
    "$$y - \\overline{y} = r_{\\text{в}} \\frac{\\sigma_y}{\\sigma_x} (x - \\overline{x})$$\n",
    "$$y = \\overline{y} + r_{\\text{в}} \\frac{\\sigma_y}{\\sigma_x} (x - \\overline{x})$$\n",
    "$$y = r_{\\text{в}} \\frac{\\sigma_y}{\\sigma_x} x + (\\overline{y} - r_{\\text{в}} \\frac{\\sigma_y}{\\sigma_x} \\overline{x})$$\n",
    "\n",
    "Построим уравнение средней квадратичной регрессии y на x. \n",
    "$$x - \\overline{x} = r_{\\text{в}} \\frac{\\sigma_x}{\\sigma_y} (y - \\overline{y})$$\n",
    "$$x = \\overline{x} + r_{\\text{в}} \\frac{\\sigma_x}{\\sigma_y} (y - \\overline{y})$$\n",
    "$$x = r_{\\text{в}} \\frac{\\sigma_x}{\\sigma_y} y + (\\overline{x} - r_{\\text{в}} \\frac{\\sigma_x}{\\sigma_y} \\overline{y})$$"
   ]
  },
  {
   "cell_type": "code",
   "execution_count": 17,
   "metadata": {
    "ExecuteTime": {
     "end_time": "2022-11-27T20:43:09.683338Z",
     "start_time": "2022-11-27T20:43:09.660338Z"
    }
   },
   "outputs": [],
   "source": [
    "# регрессия x на y\n",
    "def get_regress_k_b(from_sample, to_sample):\n",
    "    r = get_corr_coef(from_sample, to_sample)\n",
    "    return r * get_std(to_sample) / get_std(from_sample), \\\n",
    "        get_mean(from_sample) - r * get_std(to_sample) / \\\n",
    "        get_std(from_sample) * get_mean(from_sample)"
   ]
  },
  {
   "cell_type": "code",
   "execution_count": 18,
   "metadata": {
    "ExecuteTime": {
     "end_time": "2022-11-27T20:43:10.329337Z",
     "start_time": "2022-11-27T20:43:09.689337Z"
    }
   },
   "outputs": [
    {
     "data": {
      "image/png": "[encoded data removed]",
      "text/plain": [
       "<Figure size 432x288 with 1 Axes>"
      ]
     },
     "metadata": {
      "needs_background": "light"
     },
     "output_type": "display_data"
    }
   ],
   "source": [
    "plt.scatter(x_sample, y_sample, color='blue')\n",
    "k, b = get_regress_k_b(x_sample, y_sample)\n",
    "x = np.array([np.min(x_sample), np.max(x_sample)])\n",
    "y = k * x + b\n",
    "plt.plot(x, y, color='red')\n",
    "\n",
    "k, b = get_regress_k_b(y_sample, x_sample)\n",
    "y = np.array([np.min(y_sample), np.max(y_sample)])\n",
    "x = k * y + b\n",
    "plt.plot(x, y, color='green')\n",
    "plt.show()"
   ]
  },
  {
   "cell_type": "markdown",
   "metadata": {},
   "source": [
    "Прямые линейной регресси достаточно плохо описывают множество точек двумерной выборки"
   ]
  },
  {
   "cell_type": "markdown",
   "metadata": {},
   "source": [
    "### Вычислить корреляционные отношения $\\boldsymbol\\eta_\\textbf{yx}$ и $\\boldsymbol\\eta_\\textbf{xy}$. Убедиться, что неравенства $\\boldsymbol\\eta_\\textbf{yx} > |\\boldsymbol r_\\textbf{yx}|$ и $\\boldsymbol\\eta_\\textbf{xy} > |\\boldsymbol r_\\textbf{xy}|$ выполняются. Сделать выводы"
   ]
  },
  {
   "cell_type": "code",
   "execution_count": 19,
   "metadata": {
    "ExecuteTime": {
     "end_time": "2022-11-27T20:43:10.361337Z",
     "start_time": "2022-11-27T20:43:10.334338Z"
    }
   },
   "outputs": [],
   "source": [
    "def get_corr_ratio(fir_sample, sec_sample):\n",
    "    counts = get_2d_inter_counts(fir_sample, sec_sample)\n",
    "    fir_cond = get_cond_variant(fir_sample)\n",
    "    sec_cond = get_cond_variant(sec_sample)\n",
    "    fir_sums = np.sum(counts, axis=0)\n",
    "    sec_sums = np.sum(counts, axis=1)\n",
    "    n_mul_fir = fir_cond * fir_sums\n",
    "    n_mul_sec = sec_cond * sec_sums\n",
    "    mean_fir = get_mean(n_mul_fir)\n",
    "    mean_sec = get_mean(n_mul_sec)\n",
    "    general_std = np.sum(\n",
    "        sec_sums * (sec_cond - get_mean(sec_cond)) ** 2 / len(fir_cond)\n",
    "    ) ** (1/2)\n",
    "    intergroup_std = np.sum(\n",
    "        fir_sums * (sec_sums - mean_sec) ** 2 / len(fir_cond)\n",
    "    ) ** (1/2)\n",
    "    return intergroup_std / general_std"
   ]
  },
  {
   "cell_type": "code",
   "execution_count": 20,
   "metadata": {
    "ExecuteTime": {
     "end_time": "2022-11-27T20:43:10.471339Z",
     "start_time": "2022-11-27T20:43:10.367339Z"
    }
   },
   "outputs": [
    {
     "data": {
      "text/latex": [
       "$\\displaystyle \\eta_{yx} =3.78; \\eta_{xy} =5.94$"
      ],
      "text/plain": [
       "<IPython.core.display.Math object>"
      ]
     },
     "metadata": {},
     "output_type": "display_data"
    },
    {
     "data": {
      "text/latex": [
       "$\\displaystyle r_{yx} = 0.31; r_{xy} = 0.31$"
      ],
      "text/plain": [
       "<IPython.core.display.Math object>"
      ]
     },
     "metadata": {},
     "output_type": "display_data"
    }
   ],
   "source": [
    "display(Math('\\eta_{yx} ='\n",
    "             f'{round(get_corr_ratio(x_sample, y_sample), disp_pres)}' + '; ' +\n",
    "             '\\eta_{xy} =' +\n",
    "             f'{round(get_corr_ratio(y_sample, x_sample), disp_pres)}'))\n",
    "\n",
    "display(Math(f'r_{{yx}} = {str(round(get_corr_coef(x_sample, y_sample), disp_pres))}' + '; ' +\n",
    "             f'r_{{xy}} = {str(round(get_corr_coef(y_sample, x_sample), disp_pres))}'))"
   ]
  },
  {
   "cell_type": "markdown",
   "metadata": {},
   "source": [
    "### Для заданной выборки построить корреляционную кривую параболического вида $\\boldsymbol{y=a+bx+cx^2}$. Отобразить полученную кривую на множестве выборки. Сделать выводы"
   ]
  },
  {
   "cell_type": "markdown",
   "metadata": {},
   "source": [
    "Найдем такие $a, b, c$, чтобы они удовлетворяли $\\sum_{i=1}^{n}{(a+bx_i+cx_i^2-y_i)^2} \\rightarrow min$\n",
    "\n",
    "Для этого найдем корени системы уравнений \n",
    "$$\n",
    "\\begin{cases}\n",
    "    \\frac{d}{da}\\sum_{i=1}^{n}(a+bx_i+cx_i^2-y_i)^2 = 0\\\\\n",
    "    \\frac{d}{db}\\sum_{i=1}^{n}(a+bx_i+cx_i^2-y_i)^2 = 0\\\\\n",
    "    \\frac{d}{dc}\\sum_{i=1}^{n}(a+bx_i+cx_i^2-y_i)^2 = 0\n",
    "\\end{cases}\\\\\n",
    "\\begin{cases}\n",
    "    \\frac{d}{da}\\sum_{i=1}^{n}(a^2 + 2 a b x_i + 2 a c x_i^2 - 2 a y_i + b^2 x_i^2 + 2 b c x_i^3 - 2 b x_i y_i + c^2 x_i^4 - 2 c x_i^2 y_i + y_i^2) = 0\\\\\n",
    "    \\frac{d}{db}\\sum_{i=1}^{n}(a^2 + 2 a b x_i + 2 a c x_i^2 - 2 a y_i + b^2 x_i^2 + 2 b c x_i^3 - 2 b x_i y_i + c^2 x_i^4 - 2 c x_i^2 y_i + y_i^2) = 0\\\\\n",
    "    \\frac{d}{dc}\\sum_{i=1}^{n}(a^2 + 2 a b x_i + 2 a c x_i^2 - 2 a y_i + b^2 x_i^2 + 2 b c x_i^3 - 2 b x_i y_i + c^2 x_i^4 - 2 c x_i^2 y_i + y_i^2) = 0\n",
    "\\end{cases}\\\\\n",
    "\\begin{cases}\n",
    "    \\sum_{i=1}^{n}(2 a + 2 b x_i + 2 c x_i^2 - 2 y_i) = 0\\\\\n",
    "    \\sum_{i=1}^{n}(2 a x_i + 2 b x_i^2 + 2 c x_i^3 - 2 x_i y_i) = 0\\\\\n",
    "    \\sum_{i=1}^{n}(2 a x_i^2 + 2 b x_i^3 + 2 c x_i^4 - 2 x_i^2 y_i) = 0\n",
    "\\end{cases}\\\\\n",
    "\\begin{cases}\n",
    "    2 a n + 2 b \\sum_{i=1}^{n}(x_i) + 2 c \\sum_{i=1}^{n}(x_i^2) - 2 \\sum_{i=1}^{n}(y_i) = 0\\\\\n",
    "    2 a \\sum_{i=1}^{n}(x_i) + 2 b \\sum_{i=1}^{n}(x_i^2) + 2 c \\sum_{i=1}^{n}(x_i^3) - 2 \\sum_{i=1}^{n}(x_i y_i) = 0\\\\\n",
    "    2 a \\sum_{i=1}^{n}(x_i^2) + 2 b \\sum_{i=1}^{n}(x_i^3) + 2 c \\sum_{i=1}^{n}(x_i^4) - 2 \\sum_{i=1}^{n}(x_i^2 y_i) = 0\n",
    "\\end{cases}\\\\\n",
    "$$"
   ]
  },
  {
   "cell_type": "code",
   "execution_count": 21,
   "metadata": {
    "ExecuteTime": {
     "end_time": "2022-11-27T20:43:10.487334Z",
     "start_time": "2022-11-27T20:43:10.475337Z"
    }
   },
   "outputs": [],
   "source": [
    "#def get_parabol_coefs(x_sample, y_sample):\n",
    "    "
   ]
  },
  {
   "cell_type": "markdown",
   "metadata": {},
   "source": [
    "### Для заданной выборки построить нелинейные корреляционные кривые c помощью МНК в зависимости от номера варианта: $\\boldsymbol{y = \\alpha x^{\\beta}}$"
   ]
  },
  {
   "cell_type": "markdown",
   "metadata": {},
   "source": [
    "$y = \\alpha x^{\\beta} \\Rightarrow ln(y) = ln(\\alpha) + \\beta \\cdot \\text{ln}(x)\\\\$\n",
    "$\\hat{y} = ln(y); \\hat{x} = ln(x) \\newline$\n",
    "$\\sum_{i=1}^{n}{(ln(\\alpha) + \\beta \\cdot \\hat{x_i} - \\hat{y_i})^2} \\rightarrow min \\newline$\n",
    "$ln(\\alpha) = \\frac{\\overline{xy} - \\overline{x} \\cdot \\overline{y}}{\\overline{x^2} - (\\overline{x})^2} \\newline$\n",
    "$\\beta = \\frac{\\overline{x^2} \\cdot \\overline{y} - \\overline{x} \\cdot \\overline{xy}}{\\overline{x^2} - (\\overline{x})^2} \\newline$"
   ]
  },
  {
   "cell_type": "code",
   "execution_count": 22,
   "metadata": {
    "ExecuteTime": {
     "end_time": "2022-11-27T20:43:11.216701Z",
     "start_time": "2022-11-27T20:43:10.492339Z"
    }
   },
   "outputs": [
    {
     "name": "stdout",
     "output_type": "stream",
     "text": [
      "1.0027466222170769 10.3408\n"
     ]
    },
    {
     "data": {
      "image/png": "[encoded data removed]",
      "text/plain": [
       "<Figure size 432x288 with 1 Axes>"
      ]
     },
     "metadata": {
      "needs_background": "light"
     },
     "output_type": "display_data"
    }
   ],
   "source": [
    "u = get_cond_variant(x_sample), \n",
    "v = get_cond_variant(y_sample)\n",
    "y_x_counts = get_2d_inter_counts(x_sample, y_sample)\n",
    "x_sums = np.sum(y_x_counts, axis=0)\n",
    "y_sums = np.sum(y_x_counts, axis=1)\n",
    "nu_sums = u * x_sums\n",
    "nv_sums = v * y_sums\n",
    "\n",
    "xy_ = np.sum(y_x_counts * get_cond_variant(x_sample) * \n",
    "               get_cond_variant(y_sample))\n",
    "alpha = np.exp(\n",
    "    (xy_ - get_mean(nu_sums) * get_mean(nv_sums)) / \\\n",
    "    (get_mean(nu_sums ** 2) - get_mean(nu_sums) ** 2)\n",
    ")\n",
    "beta = (get_mean(nu_sums ** 2) * get_mean(nv_sums) - get_mean(nu_sums) * xy_) /\\\n",
    "    (get_mean(nu_sums ** 2) - get_mean(nu_sums) ** 2)\n",
    "y = alpha * x_sample ** beta\n",
    "print(alpha, beta)\n",
    "\n",
    "plt.scatter(x_sample, y_sample, color='blue')\n",
    "plt.plot(x_sample, y, color='red')\n",
    "plt.show()"
   ]
  },
  {
   "cell_type": "markdown",
   "metadata": {},
   "source": [
    "Видимо, где-то ошибка..."
   ]
  },
  {
   "cell_type": "markdown",
   "metadata": {},
   "source": [
    "## Выводы\n"
   ]
  },
  {
   "cell_type": "markdown",
   "metadata": {},
   "source": [
    "В ходе работы был найден коэффициент корреляции между двумя выборками, доверительные интервалы для него при 𝛾 ∈ {0.95, 0.99}, проверена стат. гипотезы о равенстве его нулю. Были построены уравнения средней квадратичной регрессии, вычислены корреляционные отношения, "
   ]
  }
 ],
 "metadata": {
  "kernelspec": {
   "display_name": "Python 3 (ipykernel)",
   "language": "python",
   "name": "python3"
  },
  "language_info": {
   "codemirror_mode": {
    "name": "ipython",
    "version": 3
   },
   "file_extension": ".py",
   "mimetype": "text/x-python",
   "name": "python",
   "nbconvert_exporter": "python",
   "pygments_lexer": "ipython3",
   "version": "3.9.7"
  },
  "toc": {
   "base_numbering": 1,
   "nav_menu": {
    "height": "217px",
    "width": "685px"
   },
   "number_sections": true,
   "sideBar": true,
   "skip_h1_title": false,
   "title_cell": "Table of Contents",
   "title_sidebar": "Contents",
   "toc_cell": false,
   "toc_position": {},
   "toc_section_display": true,
   "toc_window_display": false
  },
  "varInspector": {
   "cols": {
    "lenName": 16,
    "lenType": 16,
    "lenVar": 40
   },
   "kernels_config": {
    "python": {
     "delete_cmd_postfix": "",
     "delete_cmd_prefix": "del ",
     "library": "var_list.py",
     "varRefreshCmd": "print(var_dic_list())"
    },
    "r": {
     "delete_cmd_postfix": ") ",
     "delete_cmd_prefix": "rm(",
     "library": "var_list.r",
     "varRefreshCmd": "cat(var_dic_list()) "
    }
   },
   "types_to_exclude": [
    "module",
    "function",
    "builtin_function_or_method",
    "instance",
    "_Feature"
   ],
   "window_display": false
  }
 },
 "nbformat": 4,
 "nbformat_minor": 4
}
