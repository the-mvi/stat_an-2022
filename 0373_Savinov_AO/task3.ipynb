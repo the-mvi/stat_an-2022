{
 "cells": [
  {
   "cell_type": "markdown",
   "metadata": {
    "tags": []
   },
   "source": [
    "# Практическая работа №3: Кластерный анализ\n",
    "Выполнил студент гр. 0373 Савинов Алексей. Вариант №18"
   ]
  },
  {
   "cell_type": "markdown",
   "metadata": {
    "tags": []
   },
   "source": [
    "## Цель работы\n",
    "Освоение основных понятий и некоторых методов кластерного анализа, в частности, метода k-means и метода поиска сгущений."
   ]
  },
  {
   "cell_type": "markdown",
   "metadata": {},
   "source": [
    "## Основные теоретические положения\n",
    "\n",
    "- __Кластерный анализ__ - задача разбиения выборки на подмножества, называемых кластерами, так, чтобы каждый кластер состоял из схожих объектов, а объекты разных кластеров существенно различались. Задача кластеризации относится к классу задач по обучению без учителя.\n",
    "- __Нормализация__: $\\widetilde{x_i} = \\frac{x_i - \\mu_x}{\\sigma_x}$, где $\\mu_x$ - выборочное среднее, $\\sigma_x$ - СКО.\n",
    "- __Евклидово расстояние__: $d(x, y) = \\sqrt{\\sum_{i=1}^{n}{(x_i - y_i)^2}}$.\n",
    "- __Грубая верхняя оценка числа кластеров__: $k = \\lfloor \\sqrt{\\frac{n}{2}} \\rfloor$.\n",
    "- __Алгоритм k-Medians__: суть заключается в минимизации суммарного отклонения точек кластеров от центров этих кластеров.\n",
    "- __Алгоритм k-Medoids__: идентичен алгоритму k-Means за исключением того, что в качестве центра выбирается один из объектов кластера.\n",
    "- __Метод локтя__: заключается в многократном повторении одного из алгоритмов кластеризации с увеличением количества кластеров. На каждом шаге вычисляется разброс, $W_{c_j} = \\sum_{x_i \\in C_j}{(x_j - x_{C_j})^2}$, разброс стремится к нулю при увеличении количества кластеров. Оптимальное количество кластеров выбирается в точке перегиба полученной функции.\n",
    "- __Алгоритм поиска сгущений (FOREL)__: В ходе работы алгоритма исходное множество $X$ разбивается на кластеры с радиусом $R$. Для этого на каждом шаге выбирается случайным образом точка, вокруг нее раздувается гиперсфера радиуса $R$, все точки, попавшие в эту гиперсферу, объединяются в один кластер. Центр этого кластера перемещается в точку со средним значением координат точек кластера. Если после исключения полученного кластера остаются необработанные точки, переходим к следующей итерации алгоритма."
   ]
  },
  {
   "cell_type": "markdown",
   "metadata": {},
   "source": [
    "## Постановка задачи\n",
    "Дано конечное множество из объектов, представленных двумя признаками (в качестве этого множества принимаем исходную двумерную выборку, сформированную ранее в практической работе №2). Выполнить разбиение исходного множества объектов на конечное число подмножеств (кластеров) с использованием метода k-means и метода поиска сгущений. Полученные результаты содержательно проинтерпретировать. Дано конечное множество из объектов, представленных двумя признаками (в качестве этого множества принимаем исходную двумерную выборку, сформированную ранее в практической работе №2). Выполнить разбиение исходного множества объектов на конечное число подмножеств (кластеров) с использованием метода k-means и метода поиска сгущений. Полученные результаты содержательно проинтерпретировать."
   ]
  },
  {
   "cell_type": "markdown",
   "metadata": {},
   "source": [
    "## Выполнение работы"
   ]
  },
  {
   "cell_type": "code",
   "execution_count": 1,
   "metadata": {
    "ExecuteTime": {
     "end_time": "2022-12-01T14:07:01.122040Z",
     "start_time": "2022-12-01T14:06:58.756878Z"
    }
   },
   "outputs": [],
   "source": [
    "import math\n",
    "import matplotlib.pyplot as plt\n",
    "import numpy as np\n",
    "import pandas as pd\n",
    "import scipy.stats\n",
    "import random\n",
    "from IPython.display import HTML, Math\n",
    "from pandas import option_context"
   ]
  },
  {
   "cell_type": "code",
   "execution_count": 2,
   "metadata": {
    "ExecuteTime": {
     "end_time": "2022-12-01T14:07:01.137049Z",
     "start_time": "2022-12-01T14:07:01.122040Z"
    }
   },
   "outputs": [],
   "source": [
    "disp_pres = 2\n",
    "pd.set_option(f\"display.float_format\", f\"{{:.{disp_pres}f}}\".format)"
   ]
  },
  {
   "cell_type": "code",
   "execution_count": 3,
   "metadata": {
    "ExecuteTime": {
     "end_time": "2022-12-01T14:07:01.233054Z",
     "start_time": "2022-12-01T14:07:01.142061Z"
    }
   },
   "outputs": [],
   "source": [
    "def tex_format(array, tag):\n",
    "    nparray = np.array(array)\n",
    "    start_item = \"$$\\\\\" + tag + \"{\"\n",
    "    start = np.full((len(nparray)), \"$$\\\\\" + tag + \"{\")\n",
    "    finish = np.full((len(nparray)), \"}$$\")\n",
    "    return np.core.defchararray.add(\n",
    "        np.core.defchararray.add(start, nparray.astype(str)), finish\n",
    "    )"
   ]
  },
  {
   "cell_type": "markdown",
   "metadata": {},
   "source": [
    "### Нормализовать множество точек из предыдущей работы, отобразить полученное множество"
   ]
  },
  {
   "cell_type": "code",
   "execution_count": 4,
   "metadata": {
    "ExecuteTime": {
     "end_time": "2022-12-01T14:07:01.377048Z",
     "start_time": "2022-12-01T14:07:01.238048Z"
    },
    "tags": []
   },
   "outputs": [],
   "source": [
    "def get_sample(path_to_sample, column):\n",
    "    return pd.read_csv(path_to_sample)[column].to_numpy()\n",
    "\n",
    "def get_mean(sample):\n",
    "    return np.sum(sample) / len(sample)\n",
    "\n",
    "def get_var(sample):\n",
    "    samp_mean = get_mean(sample)\n",
    "    return np.sum((sample - samp_mean) ** 2) / len(sample)\n",
    "\n",
    "def get_std(sample):\n",
    "    return np.sqrt(get_var(sample))\n",
    "\n",
    "def normalize_sample(sample):\n",
    "    return (sample - get_mean(sample)) / get_std(sample)"
   ]
  },
  {
   "cell_type": "code",
   "execution_count": 5,
   "metadata": {
    "ExecuteTime": {
     "end_time": "2022-12-01T14:07:01.439050Z",
     "start_time": "2022-12-01T14:07:01.387052Z"
    }
   },
   "outputs": [
    {
     "data": {
      "image/png": "[encoded data removed]",
      "text/plain": [
       "<Figure size 504x504 with 1 Axes>"
      ]
     },
     "metadata": {
      "needs_background": "light"
     },
     "output_type": "display_data"
    }
   ],
   "source": [
    "x_sample = get_sample(\"Данные для практических работ.csv\", \"Численность мужчин\")\n",
    "y_sample = get_sample(\"Данные для практических работ.csv\", \"Численность женщин\")\n",
    "x_norm_sample = normalize_sample(x_sample)\n",
    "y_norm_sample = normalize_sample(y_sample)\n",
    "norm_sample = np.vstack([x_norm_sample, y_norm_sample])\n",
    "plt.figure(figsize=(7, 7))\n",
    "plt.xlabel('X')\n",
    "plt.xlabel('Y')\n",
    "plt.scatter(x_norm_sample, y_norm_sample, color='blue')\n",
    "plt.show()"
   ]
  },
  {
   "cell_type": "markdown",
   "metadata": {},
   "source": [
    "### Определить «грубую» верхнюю оценку количества кластеров $\\boldsymbol{\\tilde k}$"
   ]
  },
  {
   "cell_type": "code",
   "execution_count": 6,
   "metadata": {},
   "outputs": [],
   "source": [
    "def rough_upper_bound(n):\n",
    "    return math.floor((n / 2) ** (1/2))"
   ]
  },
  {
   "cell_type": "code",
   "execution_count": 7,
   "metadata": {},
   "outputs": [
    {
     "data": {
      "text/latex": [
       "$\\displaystyle \\widetilde{k}: 6$"
      ],
      "text/plain": [
       "<IPython.core.display.Math object>"
      ]
     },
     "metadata": {},
     "output_type": "display_data"
    }
   ],
   "source": [
    "display(Math('\\widetilde{k}: ' + str(rough_upper_bound(len(x_norm_sample)))))"
   ]
  },
  {
   "cell_type": "markdown",
   "metadata": {},
   "source": [
    "###  Реализовать алгоритм k-means. Отобразить полученные кластеры, каждый кластер выделить разным цветом или маркером, отметить центроиды"
   ]
  },
  {
   "cell_type": "code",
   "execution_count": 8,
   "metadata": {},
   "outputs": [],
   "source": [
    "def clustering(points, centers, distance_func, centers_calc_func, treshold=0):\n",
    "    centers_var = np.copy(centers)\n",
    "    num_clusters = np.ma.size(centers, axis=1)\n",
    "    num_points = np.ma.size(points, axis=1)\n",
    "    center_bias = None\n",
    "    labels = None\n",
    "    while center_bias == None or center_bias > treshold:\n",
    "        distances = np.array([distance_func(\n",
    "            points, centers_var[:, center_idx, np.newaxis]\n",
    "        ) for center_idx in range(num_clusters)])\n",
    "        labels = np.argmin(distances, axis=0)\n",
    "        new_centers = centers_calc_func(points, labels, centers_var)\n",
    "        center_bias = np.sum(distance_func(centers_var, new_centers))\n",
    "        centers_var = new_centers\n",
    "    return centers_var, labels"
   ]
  },
  {
   "cell_type": "code",
   "execution_count": 9,
   "metadata": {},
   "outputs": [],
   "source": [
    "# метрика\n",
    "def distance2d(x1, y1, x2, y2):\n",
    "    return ((x1 - x2) ** 2 + (y1 - y2) ** 2) ** (1/2)\n",
    "\n",
    "def distance(fir_points, sec_points):\n",
    "    return np.sum((fir_points - sec_points) ** 2, axis=0) ** (1/2)"
   ]
  },
  {
   "cell_type": "code",
   "execution_count": 10,
   "metadata": {
    "tags": []
   },
   "outputs": [],
   "source": [
    "# функция персчета центров\n",
    "def getKMeansNewCenters(points, labels, centers):\n",
    "    assert np.ma.size(points, axis=1) == len(labels)\n",
    "    new_centers = np.copy(centers)\n",
    "    for i in range(np.ma.size(centers, axis=1)):\n",
    "        ids = np.where(labels == i)[0]\n",
    "        if len(ids) > 0:\n",
    "            new_centers[:, i] = np.mean(points[:, ids], axis=1)\n",
    "    return new_centers\n"
   ]
  },
  {
   "cell_type": "code",
   "execution_count": 11,
   "metadata": {},
   "outputs": [],
   "source": [
    "def showClusters(x, y, xc, yc, labels, figure_size=10):\n",
    "    num_clusters = len(xc)\n",
    "    colors = np.random.random((num_clusters, 3))\n",
    "    plt.figure(figsize=(figure_size, figure_size))\n",
    "    plt.xlabel('X')\n",
    "    plt.ylabel('Y')\n",
    "    plt.xlim(-2.5, 1.8)\n",
    "    plt.ylim(-2.5, 1.8)\n",
    "    ax = plt.gca()\n",
    "    ax.set_aspect('equal', adjustable='box')\n",
    "    for i in range(len(labels)):\n",
    "        plt.scatter(x[i], y[i], color=colors[labels[i]], s=20)\n",
    "    for i in range(len(xc)):\n",
    "        plt.scatter(xc[i], yc[i], color=colors[i], marker='X', s=80, edgecolors='black')\n",
    "    plt.show()"
   ]
  },
  {
   "cell_type": "code",
   "execution_count": 12,
   "metadata": {},
   "outputs": [
    {
     "data": {
      "image/png": "[encoded data removed]",
      "text/plain": [
       "<Figure size 720x720 with 1 Axes>"
      ]
     },
     "metadata": {
      "needs_background": "light"
     },
     "output_type": "display_data"
    }
   ],
   "source": [
    "k = rough_upper_bound(len(x_norm_sample))\n",
    "np.random.seed(0)\n",
    "centers = [[np.min(x_norm_sample)], [np.min(y_norm_sample)]] + \\\n",
    "    np.random.rand(2, k) * \\\n",
    "    [[np.max(x_norm_sample) - np.min(x_norm_sample)], \n",
    "     [np.max(y_norm_sample) - np.min(y_norm_sample)]]\n",
    "new_centers, labels = clustering(norm_sample, centers,\n",
    "                                 distance, getKMeansNewCenters)\n",
    "showClusters(x_norm_sample, y_norm_sample, \n",
    "             new_centers[0], new_centers[1], labels)"
   ]
  },
  {
   "cell_type": "markdown",
   "metadata": {},
   "source": [
    "### Реализовать алгоритмы k-medians (для нечётных вариантов) и k-medoids (для чётных вариантов). Отобразить полученные кластеры, каждый кластер выделить разным цветом или маркером, отметить центроиды"
   ]
  },
  {
   "cell_type": "markdown",
   "metadata": {},
   "source": [
    "Вариант 18, реализуем алгоритм k-medoids"
   ]
  },
  {
   "cell_type": "code",
   "execution_count": 13,
   "metadata": {},
   "outputs": [],
   "source": [
    "def getMedoid(points):\n",
    "    return np.argmin([np.sum(distance(points, points[:, i, np.newaxis])) \\\n",
    "        for i in range(np.ma.size(points, axis=1))])\n",
    "\n",
    "def getKMedoidsNewCenters(points, labels, centers):\n",
    "    assert np.ma.size(points, axis=1) == len(labels)\n",
    "    new_centers = np.copy(centers)\n",
    "    for i in range(np.ma.size(centers, axis=1)):\n",
    "        ids = np.where(labels == i)[0]\n",
    "        if len(ids) > 0:\n",
    "            medoid_id = getMedoid(points[:, ids])\n",
    "            new_centers[:, i] = points[:, ids][:, medoid_id]\n",
    "        else:\n",
    "            new_centers[:, i] = centers[:, i]\n",
    "    return new_centers"
   ]
  },
  {
   "cell_type": "code",
   "execution_count": 14,
   "metadata": {},
   "outputs": [
    {
     "data": {
      "image/png": "[encoded data removed]",
      "text/plain": [
       "<Figure size 720x720 with 1 Axes>"
      ]
     },
     "metadata": {
      "needs_background": "light"
     },
     "output_type": "display_data"
    }
   ],
   "source": [
    "k = rough_upper_bound(len(x_norm_sample))\n",
    "np.random.seed(0)\n",
    "centers = [[np.min(x_norm_sample)], [np.min(y_norm_sample)]] + \\\n",
    "    np.random.rand(2, k) * \\\n",
    "    [[np.max(x_norm_sample) - np.min(x_norm_sample)], \n",
    "     [np.max(y_norm_sample) - np.min(y_norm_sample)]]\n",
    "new_centers, labels = clustering(norm_sample, centers,\n",
    "                                 distance, getKMedoidsNewCenters)\n",
    "showClusters(x_norm_sample, y_norm_sample, \n",
    "             new_centers[0], new_centers[1], labels)"
   ]
  },
  {
   "cell_type": "markdown",
   "metadata": {},
   "source": [
    "### Для каждого метода заполнить следующую таблицу, где значения $\\boldsymbol k$ изменяются от $\\boldsymbol 1$ до $\\boldsymbol{\\tilde k}$"
   ]
  },
  {
   "cell_type": "code",
   "execution_count": 15,
   "metadata": {},
   "outputs": [
    {
     "name": "stdout",
     "output_type": "stream",
     "text": [
      "Таблица для k-Means\n"
     ]
    },
    {
     "data": {
      "text/html": [
       "<table border=\"1\" class=\"dataframe\">\n",
       "  <thead>\n",
       "    <tr style=\"text-align: right;\">\n",
       "      <th>$$k$$</th>\n",
       "      <th>$$x_{C_i}$$</th>\n",
       "      <th>$$\\#C_i$$</th>\n",
       "    </tr>\n",
       "  </thead>\n",
       "  <tbody>\n",
       "    <tr>\n",
       "      <td>1</td>\n",
       "      <td>(-0.0, 0.0)</td>\n",
       "      <td>90</td>\n",
       "    </tr>\n",
       "    <tr>\n",
       "      <td>2</td>\n",
       "      <td>(-1.43, -1.27), (0.52, 0.46)</td>\n",
       "      <td>24, 66</td>\n",
       "    </tr>\n",
       "    <tr>\n",
       "      <td>3</td>\n",
       "      <td>(0.61, 0.57), (-1.16, -1.09), (1.4, -0.68)</td>\n",
       "      <td>59, 31, 0</td>\n",
       "    </tr>\n",
       "    <tr>\n",
       "      <td>4</td>\n",
       "      <td>(0.51, -1.56), (-1.71, -1.69), (-0.26, -0.38), (0.73, 0.8)</td>\n",
       "      <td>0, 16, 27, 47</td>\n",
       "    </tr>\n",
       "    <tr>\n",
       "      <td>5</td>\n",
       "      <td>(0.04, -1.75), (0.72, 0.78), (1.56, -1.39), (-0.28, -0.4), (-1.71, -1.69)</td>\n",
       "      <td>0, 48, 0, 26, 16</td>\n",
       "    </tr>\n",
       "    <tr>\n",
       "      <td>6</td>\n",
       "      <td>(-1.45, 0.81), (-1.73, -1.75), (0.85, 0.95), (-1.01, -0.33), (-1.31, 1.42), (0.14, -0.17)</td>\n",
       "      <td>0, 15, 36, 9, 0, 30</td>\n",
       "    </tr>\n",
       "  </tbody>\n",
       "</table>"
      ],
      "text/plain": [
       "<IPython.core.display.HTML object>"
      ]
     },
     "metadata": {},
     "output_type": "display_data"
    }
   ],
   "source": [
    "k_ = rough_upper_bound(len(x_norm_sample))\n",
    "centers_log = []\n",
    "points_capacity_log = []\n",
    "for i in range(1, k_+1):\n",
    "    centers = [[np.min(x_norm_sample)], [np.min(y_norm_sample)]] + \\\n",
    "    np.random.rand(2, i) * \\\n",
    "    [[np.max(x_norm_sample) - np.min(x_norm_sample)], \n",
    "     [np.max(y_norm_sample) - np.min(y_norm_sample)]]\n",
    "    new_centers, labels = clustering(norm_sample, centers,\n",
    "                                     distance, getKMeansNewCenters)\n",
    "    centers_str = ', '.join([f'({np.round(new_centers[0, i], disp_pres)}, \\\n",
    "{np.round(new_centers[1, i], disp_pres)})' \n",
    "                             for i in range(np.ma.size(new_centers, axis=1))])\n",
    "    points_capacity_str = ', '.join([str(len(np.where(labels == i)[0])) \n",
    "                                     for i in range(np.ma.size(new_centers, axis=1))])\n",
    "    centers_log.append(centers_str)\n",
    "    points_capacity_log.append(points_capacity_str)\n",
    "\n",
    "tab = pd.DataFrame(\n",
    "    {\n",
    "        '$$k$$': np.arange(1, k_+1),\n",
    "        '$$x_{C_i}$$': centers_log,\n",
    "        '$$\\#C_i$$': points_capacity_log\n",
    "    }\n",
    ")\n",
    "print('Таблица для k-Means')\n",
    "display(HTML(tab.to_html(index=False)))"
   ]
  },
  {
   "cell_type": "code",
   "execution_count": 16,
   "metadata": {},
   "outputs": [
    {
     "name": "stdout",
     "output_type": "stream",
     "text": [
      "Таблица для k-Medoids\n"
     ]
    },
    {
     "data": {
      "text/html": [
       "<table border=\"1\" class=\"dataframe\">\n",
       "  <thead>\n",
       "    <tr style=\"text-align: right;\">\n",
       "      <th>$$k$$</th>\n",
       "      <th>$$x_{C_i}$$</th>\n",
       "      <th>$$\\#C_i$$</th>\n",
       "    </tr>\n",
       "  </thead>\n",
       "  <tbody>\n",
       "    <tr>\n",
       "      <td>1</td>\n",
       "      <td>(0.25, 0.19)</td>\n",
       "      <td>90</td>\n",
       "    </tr>\n",
       "    <tr>\n",
       "      <td>2</td>\n",
       "      <td>(0.55, 0.46), (-1.7, -1.64)</td>\n",
       "      <td>68, 22</td>\n",
       "    </tr>\n",
       "    <tr>\n",
       "      <td>3</td>\n",
       "      <td>(0.0, -0.48), (-1.76, -1.7), (0.73, 0.68)</td>\n",
       "      <td>26, 16, 48</td>\n",
       "    </tr>\n",
       "    <tr>\n",
       "      <td>4</td>\n",
       "      <td>(0.73, 0.68), (-1.06, 1.23), (-1.76, -1.7), (0.0, -0.48)</td>\n",
       "      <td>48, 0, 16, 26</td>\n",
       "    </tr>\n",
       "    <tr>\n",
       "      <td>5</td>\n",
       "      <td>(-1.76, -1.74), (0.73, 0.68), (-0.97, -2.35), (-1.09, -0.34), (0.02, -0.47)</td>\n",
       "      <td>15, 48, 0, 9, 18</td>\n",
       "    </tr>\n",
       "    <tr>\n",
       "      <td>6</td>\n",
       "      <td>(0.64, -1.51), (1.39, 1.22), (-1.76, -1.7), (0.7, 1.01), (0.35, 0.26), (-0.05, -0.56)</td>\n",
       "      <td>0, 11, 16, 18, 22, 23</td>\n",
       "    </tr>\n",
       "  </tbody>\n",
       "</table>"
      ],
      "text/plain": [
       "<IPython.core.display.HTML object>"
      ]
     },
     "metadata": {},
     "output_type": "display_data"
    }
   ],
   "source": [
    "k_ = rough_upper_bound(len(x_norm_sample))\n",
    "centers_log = []\n",
    "points_capacity_log = []\n",
    "for i in range(1, k_+1):\n",
    "    centers = [[np.min(x_norm_sample)], [np.min(y_norm_sample)]] + \\\n",
    "    np.random.rand(2, i) * \\\n",
    "    [[np.max(x_norm_sample) - np.min(x_norm_sample)], \n",
    "     [np.max(y_norm_sample) - np.min(y_norm_sample)]]\n",
    "    new_centers, labels = clustering(norm_sample, centers,\n",
    "                                     distance, getKMedoidsNewCenters)\n",
    "    centers_str = ', '.join([f'({np.round(new_centers[0, i], disp_pres)}, \\\n",
    "{np.round(new_centers[1, i], disp_pres)})' \n",
    "                             for i in range(np.ma.size(centers, axis=1))])\n",
    "    points_capacity_str = ', '.join([str(len(np.where(labels == i)[0])) \n",
    "                                     for i in range(np.ma.size(centers, axis=1))])\n",
    "    centers_log.append(centers_str)\n",
    "    points_capacity_log.append(points_capacity_str)\n",
    "\n",
    "\n",
    "tab = pd.DataFrame(\n",
    "    {\n",
    "        '$$k$$': np.arange(1, k_+1),\n",
    "        '$$x_{C_i}$$': centers_log,\n",
    "        '$$\\#C_i$$': points_capacity_log\n",
    "    }\n",
    ")\n",
    "print('Таблица для k-Medoids')\n",
    "display(HTML(tab.to_html(index=False)))"
   ]
  },
  {
   "cell_type": "markdown",
   "metadata": {},
   "source": [
    "### С помощью метода силуэтов (для нечётных вариантов) и метода локтя (для чётных вариантов) выявить для каждого метода оптимальное количество кластеров"
   ]
  },
  {
   "cell_type": "markdown",
   "metadata": {},
   "source": [
    "Вариант 18, используем метод локтя"
   ]
  },
  {
   "cell_type": "code",
   "execution_count": 17,
   "metadata": {},
   "outputs": [
    {
     "name": "stdout",
     "output_type": "stream",
     "text": [
      "Для k-Means\n"
     ]
    },
    {
     "data": {
      "image/png": "[encoded data removed]",
      "text/plain": [
       "<Figure size 432x288 with 1 Axes>"
      ]
     },
     "metadata": {
      "needs_background": "light"
     },
     "output_type": "display_data"
    }
   ],
   "source": [
    "k_ = rough_upper_bound(len(x_norm_sample))\n",
    "w_log = []\n",
    "for i in range(1, k_+1):\n",
    "    centers = [[np.min(x_norm_sample)], [np.min(y_norm_sample)]] + \\\n",
    "    np.random.rand(2, i) * \\\n",
    "    [[np.max(x_norm_sample) - np.min(x_norm_sample)], \n",
    "     [np.max(y_norm_sample) - np.min(y_norm_sample)]]\n",
    "    new_centers, labels = clustering(norm_sample, centers,\n",
    "                                     distance, getKMeansNewCenters)\n",
    "    w_log.append(np.sum(\n",
    "        [np.sum(distance2d(x_norm_sample[np.where(labels == i)[0]], \n",
    "                           y_norm_sample[np.where(labels == i)[0]],\n",
    "                           new_centers[0, i], new_centers[1, i])) \n",
    "         for i in range(np.ma.size(new_centers, axis=1))]\n",
    "    ))\n",
    "\n",
    "print('Для k-Means')\n",
    "plt.plot(np.arange(1, k_+1), w_log)\n",
    "plt.show()"
   ]
  },
  {
   "cell_type": "code",
   "execution_count": 18,
   "metadata": {},
   "outputs": [
    {
     "name": "stdout",
     "output_type": "stream",
     "text": [
      "Для k-Medoids\n"
     ]
    },
    {
     "data": {
      "image/png": "[encoded data removed]",
      "text/plain": [
       "<Figure size 432x288 with 1 Axes>"
      ]
     },
     "metadata": {
      "needs_background": "light"
     },
     "output_type": "display_data"
    }
   ],
   "source": [
    "k_ = rough_upper_bound(len(x_norm_sample))\n",
    "w_log = []\n",
    "for i in range(1, k_+1):\n",
    "    centers = [[np.min(x_norm_sample)], [np.min(y_norm_sample)]] + \\\n",
    "    np.random.rand(2, i) * \\\n",
    "    [[np.max(x_norm_sample) - np.min(x_norm_sample)], \n",
    "     [np.max(y_norm_sample) - np.min(y_norm_sample)]]\n",
    "    new_centers, labels = clustering(norm_sample, centers,\n",
    "                                     distance, getKMedoidsNewCenters)\n",
    "    w_log.append(np.sum(\n",
    "        [np.sum(distance2d(x_norm_sample[np.where(labels == i)[0]], \n",
    "                           y_norm_sample[np.where(labels == i)[0]],\n",
    "                           new_centers[0, i], new_centers[1, i])) \n",
    "         for i in range(np.ma.size(new_centers, axis=1))]\n",
    "    ))\n",
    "\n",
    "print('Для k-Medoids')\n",
    "plt.plot(np.arange(1, k_+1), w_log)\n",
    "plt.show()"
   ]
  },
  {
   "cell_type": "markdown",
   "metadata": {},
   "source": [
    "Судя по графикам, оптимальное количество кластеров для k-Means и k-Medoids - 3 кластера."
   ]
  },
  {
   "cell_type": "markdown",
   "metadata": {},
   "source": [
    "### Реализовать алгоритм поиска сгущений при различных радиусах $\\boldsymbol R$, отобразить полученные кластеры, выделить каждый кластер разным цветом или маркером, отметить центроиды. Результаты представить в виде таблицы"
   ]
  },
  {
   "cell_type": "code",
   "execution_count": 19,
   "metadata": {},
   "outputs": [],
   "source": [
    "def forel(points, r):\n",
    "    points_var = np.copy(points)\n",
    "    labels = np.full(np.ma.size(points_var, axis=1), -1, dtype=np.int16)\n",
    "    cl_id = 0\n",
    "    centers = []\n",
    "    while len(np.where(~np.isnan(points_var[0, :]))[0]) > 0:\n",
    "        cent_idx = np.random.choice(np.where(~np.isnan(points_var[0, :]))[0])\n",
    "        distances = distance(points_var, points_var[:, cent_idx, np.newaxis])\n",
    "        cl_idxs = np.squeeze(np.argwhere(distances <= r), 1)\n",
    "        new_cent = np.mean(points_var[:, cl_idxs], axis=1)\n",
    "        points_var[:, cl_idxs] = np.nan\n",
    "        labels[cl_idxs] = cl_id\n",
    "        centers.append(new_cent)\n",
    "        cl_id += 1\n",
    "    return np.array(centers).T, labels"
   ]
  },
  {
   "cell_type": "code",
   "execution_count": 20,
   "metadata": {},
   "outputs": [
    {
     "data": {
      "text/latex": [
       "$\\displaystyle R_{max}: 5.2174$"
      ],
      "text/plain": [
       "<IPython.core.display.Math object>"
      ]
     },
     "metadata": {},
     "output_type": "display_data"
    },
    {
     "data": {
      "text/latex": [
       "$\\displaystyle R_{max}: 0.0046$"
      ],
      "text/plain": [
       "<IPython.core.display.Math object>"
      ]
     },
     "metadata": {},
     "output_type": "display_data"
    }
   ],
   "source": [
    "distances = [distance2d(x_norm_sample, y_norm_sample, \n",
    "                        np.roll(x_norm_sample, i), \n",
    "                        np.roll(y_norm_sample, i)) \\\n",
    "             for i in range(len(x_norm_sample)-1)]\n",
    "r_max = np.max(distances)\n",
    "r_min = np.min(distances[1:])\n",
    "display(Math('$$R_{max}: ' + str(round(r_max, disp_pres+2))))\n",
    "display(Math('$$R_{max}: ' + str(round(r_min, disp_pres+2))))"
   ]
  },
  {
   "cell_type": "code",
   "execution_count": 21,
   "metadata": {
    "tags": []
   },
   "outputs": [
    {
     "name": "stdout",
     "output_type": "stream",
     "text": [
      "R: 0.5046\n"
     ]
    },
    {
     "data": {
      "image/png": "[encoded data removed]",
      "text/plain": [
       "<Figure size 504x504 with 1 Axes>"
      ]
     },
     "metadata": {
      "needs_background": "light"
     },
     "output_type": "display_data"
    },
    {
     "name": "stdout",
     "output_type": "stream",
     "text": [
      "R: 1.1828\n"
     ]
    },
    {
     "data": {
      "image/png": "[encoded data removed]",
      "text/plain": [
       "<Figure size 504x504 with 1 Axes>"
      ]
     },
     "metadata": {
      "needs_background": "light"
     },
     "output_type": "display_data"
    },
    {
     "name": "stdout",
     "output_type": "stream",
     "text": [
      "R: 1.861\n"
     ]
    },
    {
     "data": {
      "image/png": "[encoded data removed]",
      "text/plain": [
       "<Figure size 504x504 with 1 Axes>"
      ]
     },
     "metadata": {
      "needs_background": "light"
     },
     "output_type": "display_data"
    },
    {
     "name": "stdout",
     "output_type": "stream",
     "text": [
      "R: 2.5392\n"
     ]
    },
    {
     "data": {
      "image/png": "[encoded data removed]",
      "text/plain": [
       "<Figure size 504x504 with 1 Axes>"
      ]
     },
     "metadata": {
      "needs_background": "light"
     },
     "output_type": "display_data"
    },
    {
     "name": "stdout",
     "output_type": "stream",
     "text": [
      "R: 3.2174\n"
     ]
    },
    {
     "data": {
      "image/png": "[encoded data removed]",
      "text/plain": [
       "<Figure size 504x504 with 1 Axes>"
      ]
     },
     "metadata": {
      "needs_background": "light"
     },
     "output_type": "display_data"
    }
   ],
   "source": [
    "for i in np.linspace(r_min+0.5, r_max-2, 5):\n",
    "    np.random.seed(1)\n",
    "    centers, labels = forel(norm_sample, i)\n",
    "    print('R:', round(i, disp_pres+2))\n",
    "    showClusters(x_norm_sample, y_norm_sample, centers[0], centers[1], labels, 7)"
   ]
  },
  {
   "cell_type": "code",
   "execution_count": 22,
   "metadata": {},
   "outputs": [
    {
     "name": "stdout",
     "output_type": "stream",
     "text": [
      "Таблица для FOREL\n"
     ]
    },
    {
     "data": {
      "text/html": [
       "<table border=\"1\" class=\"dataframe\">\n",
       "  <thead>\n",
       "    <tr style=\"text-align: right;\">\n",
       "      <th>$$R$$</th>\n",
       "      <th>$$x_{C_i}$$</th>\n",
       "      <th>$$\\#C_i$$</th>\n",
       "    </tr>\n",
       "  </thead>\n",
       "  <tbody>\n",
       "    <tr>\n",
       "      <td>1.00</td>\n",
       "      <td>(0.74, 0.77), (-0.03, -0.54), (1.41, 1.23), (0.43, 0.12), (-0.79, -0.18), (-0.01, 0.7), (-1.75, -1.77), (0.82, 1.34), (0.39, 1.08), (-1.44, -1.19), (-2.0, -2.3), (-1.14, -0.34)</td>\n",
       "      <td>20, 15, 9, 12, 4, 6, 10, 3, 1, 4, 2, 4</td>\n",
       "    </tr>\n",
       "    <tr>\n",
       "      <td>1.81</td>\n",
       "      <td>(0.7, 0.73), (-0.32, -0.45), (-1.71, -1.69), (-1.17, -0.31)</td>\n",
       "      <td>51, 22, 16, 1</td>\n",
       "    </tr>\n",
       "    <tr>\n",
       "      <td>2.61</td>\n",
       "      <td>(0.5, 0.43), (-1.54, -1.32)</td>\n",
       "      <td>68, 22</td>\n",
       "    </tr>\n",
       "    <tr>\n",
       "      <td>3.41</td>\n",
       "      <td>(0.37, 0.37), (-1.71, -1.69)</td>\n",
       "      <td>74, 16</td>\n",
       "    </tr>\n",
       "    <tr>\n",
       "      <td>4.22</td>\n",
       "      <td>(0.28, 0.29), (-1.79, -1.86)</td>\n",
       "      <td>78, 12</td>\n",
       "    </tr>\n",
       "  </tbody>\n",
       "</table>"
      ],
      "text/plain": [
       "<IPython.core.display.HTML object>"
      ]
     },
     "metadata": {},
     "output_type": "display_data"
    }
   ],
   "source": [
    "centers_log = []\n",
    "points_capacity_log = []\n",
    "for i in np.linspace(r_min+0.5, r_max-2, 5):\n",
    "    np.random.seed(1)\n",
    "    new_centers, labels = forel(norm_sample, i)\n",
    "    centers_str = ', '.join([f'({np.round(new_centers[0, i], disp_pres)}, \\\n",
    "{np.round(new_centers[1, i], disp_pres)})' \n",
    "                             for i in range(np.ma.size(new_centers, axis=1))])\n",
    "    points_capacity_str = ', '.join([str(len(np.where(labels == i)[0])) \n",
    "                                     for i in range(np.ma.size(new_centers, axis=1))])\n",
    "    centers_log.append(centers_str)\n",
    "    points_capacity_log.append(points_capacity_str)\n",
    "\n",
    "tab = pd.DataFrame(\n",
    "    {\n",
    "        '$$R$$': np.linspace(r_min+1, r_max-1, 5),\n",
    "        '$$x_{C_i}$$': centers_log,\n",
    "        '$$\\#C_i$$': points_capacity_log\n",
    "    }\n",
    ")\n",
    "print('Таблица для FOREL')\n",
    "display(HTML(tab.to_html(index=False)))"
   ]
  },
  {
   "cell_type": "markdown",
   "metadata": {},
   "source": [
    "### Проверить чувствительность метода поиска сгущений к погрешностям. Сделать выводы"
   ]
  },
  {
   "cell_type": "code",
   "execution_count": 23,
   "metadata": {},
   "outputs": [
    {
     "name": "stdout",
     "output_type": "stream",
     "text": [
      "Таблица для FOREL при радиусе R+0.1\n"
     ]
    },
    {
     "data": {
      "text/html": [
       "<table border=\"1\" class=\"dataframe\">\n",
       "  <thead>\n",
       "    <tr style=\"text-align: right;\">\n",
       "      <th>$$R$$</th>\n",
       "      <th>$$x_{C_i}$$</th>\n",
       "      <th>$$\\#C_i$$</th>\n",
       "    </tr>\n",
       "  </thead>\n",
       "  <tbody>\n",
       "    <tr>\n",
       "      <td>1.00</td>\n",
       "      <td>(0.76, 0.8), (-1.13, -0.4), (-0.05, -0.56), (1.42, 1.33), (-1.92, -2.07), (0.2, 0.24), (-1.63, -1.58), (-0.61, -0.07)</td>\n",
       "      <td>30, 7, 14, 7, 5, 15, 10, 2</td>\n",
       "    </tr>\n",
       "    <tr>\n",
       "      <td>1.81</td>\n",
       "      <td>(0.68, 0.69), (-0.37, -0.46), (-1.71, -1.69), (-1.17, -0.31)</td>\n",
       "      <td>53, 20, 16, 1</td>\n",
       "    </tr>\n",
       "    <tr>\n",
       "      <td>2.61</td>\n",
       "      <td>(0.5, 0.43), (-1.54, -1.32)</td>\n",
       "      <td>68, 22</td>\n",
       "    </tr>\n",
       "    <tr>\n",
       "      <td>3.41</td>\n",
       "      <td>(0.37, 0.37), (-1.71, -1.69)</td>\n",
       "      <td>74, 16</td>\n",
       "    </tr>\n",
       "    <tr>\n",
       "      <td>4.22</td>\n",
       "      <td>(0.28, 0.29), (-1.79, -1.86)</td>\n",
       "      <td>78, 12</td>\n",
       "    </tr>\n",
       "  </tbody>\n",
       "</table>"
      ],
      "text/plain": [
       "<IPython.core.display.HTML object>"
      ]
     },
     "metadata": {},
     "output_type": "display_data"
    }
   ],
   "source": [
    "centers_log = []\n",
    "points_capacity_log = []\n",
    "for i in np.linspace(r_min+0.5+0.1, r_max-2+0.1, 5):\n",
    "    np.random.seed(1)\n",
    "    new_centers, labels = forel(norm_sample, i)\n",
    "    centers_str = ', '.join([f'({np.round(new_centers[0, i], disp_pres)}, \\\n",
    "{np.round(new_centers[1, i], disp_pres)})' \n",
    "                             for i in range(np.ma.size(new_centers, axis=1))])\n",
    "    points_capacity_str = ', '.join([str(len(np.where(labels == i)[0])) \n",
    "                                     for i in range(np.ma.size(new_centers, axis=1))])\n",
    "    centers_log.append(centers_str)\n",
    "    points_capacity_log.append(points_capacity_str)\n",
    "\n",
    "tab = pd.DataFrame(\n",
    "    {\n",
    "        '$$R$$': np.linspace(r_min+1, r_max-1, 5),\n",
    "        '$$x_{C_i}$$': centers_log,\n",
    "        '$$\\#C_i$$': points_capacity_log\n",
    "    }\n",
    ")\n",
    "print('Таблица для FOREL при радиусе R+0.1')\n",
    "display(HTML(tab.to_html(index=False)))"
   ]
  },
  {
   "cell_type": "markdown",
   "metadata": {},
   "source": [
    "Для данной выборки алгоритм сильно чувствителен к погрешностям при $R < 1.86$, несильно чувствителен к погрешностям при $R \\geq 1.86$"
   ]
  },
  {
   "cell_type": "markdown",
   "metadata": {},
   "source": [
    "### Сравнить методы. Сделать выводы"
   ]
  },
  {
   "cell_type": "markdown",
   "metadata": {},
   "source": [
    "Алгоритм k-Means работает более стабильно, чем k-Medoids. Оптимальное число кластеров, найденное для них с помощью метода локтя - 3. Алгоритм поиска сгущений работает стабильно при малом числе кластеров ($k \\leq 3$)."
   ]
  },
  {
   "cell_type": "markdown",
   "metadata": {},
   "source": [
    "## Выводы\n",
    "\n",
    "В ходе работы было сделано: нормализовано множество точек, реализованы алгоритм k-means и k-medoids, отображены полученные кластеры, построены таблицы, показывающие изменения параметров кластеров в зависимости от их числа, с помощью метода локтя выявлено оптимальное количество кластеров для каждого метода, реализован алгоритм поиска сгущений при различных радиусах $R$, отображены полученные кластеры, построена таблица характеристик."
   ]
  }
 ],
 "metadata": {
  "kernelspec": {
   "display_name": "Python 3 (ipykernel)",
   "language": "python",
   "name": "python3"
  },
  "language_info": {
   "codemirror_mode": {
    "name": "ipython",
    "version": 3
   },
   "file_extension": ".py",
   "mimetype": "text/x-python",
   "name": "python",
   "nbconvert_exporter": "python",
   "pygments_lexer": "ipython3",
   "version": "3.10.0"
  },
  "toc": {
   "base_numbering": 1,
   "nav_menu": {
    "height": "217px",
    "width": "685px"
   },
   "number_sections": true,
   "sideBar": true,
   "skip_h1_title": false,
   "title_cell": "Table of Contents",
   "title_sidebar": "Contents",
   "toc_cell": false,
   "toc_position": {},
   "toc_section_display": true,
   "toc_window_display": false
  },
  "varInspector": {
   "cols": {
    "lenName": 16,
    "lenType": 16,
    "lenVar": 40
   },
   "kernels_config": {
    "python": {
     "delete_cmd_postfix": "",
     "delete_cmd_prefix": "del ",
     "library": "var_list.py",
     "varRefreshCmd": "print(var_dic_list())"
    },
    "r": {
     "delete_cmd_postfix": ") ",
     "delete_cmd_prefix": "rm(",
     "library": "var_list.r",
     "varRefreshCmd": "cat(var_dic_list()) "
    }
   },
   "types_to_exclude": [
    "module",
    "function",
    "builtin_function_or_method",
    "instance",
    "_Feature"
   ],
   "window_display": false
  }
 },
 "nbformat": 4,
 "nbformat_minor": 4
}
