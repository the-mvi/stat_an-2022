{
 "cells": [
  {
   "cell_type": "markdown",
   "id": "6617b7b9",
   "metadata": {},
   "source": [
    "<h1>Практическая работа №2: Корреляционный и регрессионный анализ\n",
    "</h1>\n",
    "<p>Выполнил студент гр. 0373 Голубев Антон. Вариант №5</p>"
   ]
  },
  {
   "cell_type": "markdown",
   "id": "0fdbf998",
   "metadata": {},
   "source": [
    "## Цель работы\n",
    "<p>Освоение основных понятий, связанных с корреляционной зависимостью\n",
    "между случайными величинами, статистическими гипотезами и проверкой их «справедливости». Ознакомление с основными положениями метода наименьших квадратов (МНК), со статистическими свойствами МНК\n",
    "оценок, с понятием функции регрессии и роли МНК в регрессионном анализе, с корреляционным отношением, как мерой тесноты произвольной\n",
    "(в том числе и линейной) корреляционной связи.\n",
    "</p>"
   ]
  },
  {
   "cell_type": "markdown",
   "id": "90cdfe16",
   "metadata": {},
   "source": [
    "## Основные теоретические положения\n",
    "<b>Нахождение коэффициента корреляции ($r_{xy}$):</b><br>\n",
    "1) Вычисляем условные варианты: $\\newline$\n",
    "$u_{i} = {{x_i - C_x} \\over {h_x}} \\newline$\n",
    "$v_j = {{y_j - C_y} \\over {h_y}} \\newline$\n",
    "$C_x$ - самая популярная варианта среди $X$ $\\newline$\n",
    "$C_y$ - самая популярная варианта среди $Y$ $\\newline$\n",
    "2) Вычисляем коэффициент: $\\newline$\n",
    "$r_{xy} = {{{1 \\over n} \\Sigma_{i = 1}^{K_u} \\Sigma_{j = 1}^{K_v} n_{uv} u_i v_j - \\overline u \\cdot \\overline v} \\over {\\sigma_u \\sigma_v}} \\newline$\n",
    "$\\sigma_u = \\sqrt {\\overline{u^2} - (\\overline{u})^2}$<br>\n",
    "$\\sigma_v = \\sqrt {\\overline{v^2} - (\\overline{v})^2}$<br>\n",
    "$\\overline{u} = \\frac{1}{n} \\Sigma_{i = 1}^k {n_{u_i} \\cdot u_i}$<br>\n",
    "$\\overline{u^2} = \\frac{1}{n} \\Sigma_{i = 1}^k {n_{u_i} \\cdot u_i^2}$<br>\n",
    "$\\overline{v} = \\frac{1}{n} \\Sigma_{i = 1}^k {n_{v_i} \\cdot v_i}$<br>\n",
    "$\\overline{v^2} = \\frac{1}{n} \\Sigma_{i = 1}^k {n_{v_i} \\cdot v_i^2}$<br>\n",
    "$\\Sigma_{i = 1}^{K_u} \\Sigma_{j = 1}^{K_v} n_{uv} u_i v_j$ можно вычислить двумя способами: $\\newline$\n",
    "$1)\\Sigma_{i = 1}^{K_u} \\Sigma_{j = 1}^{K_v} n_{uv} u_i v_j = \\Sigma_{j = 1}^{K_v} v_j U_j, U_j = \\Sigma_{i = 1}^{K_u} n_{uv} u_i \\newline$\n",
    "$2)\\Sigma_{i = 1}^{K_u} \\Sigma_{j = 1}^{K_v} n_{uv} u_i v_j = \\Sigma_{i = 1}^{K_u} u_i V_i, V_i = \\Sigma_{j = 1}^{K_v} n_{uv} v_j \\newline$\n",
    "Свойства коэффициента корреляции: <br>\n",
    "1) $r_{xy} \\in [-1, 1]$ <br>\n",
    "2) $r_{xy} < 0 =>$ при увеличении одной величины другая уменьшается <br>\n",
    "3) $r_{xy} > 0 =>$ при увеличении одной величины другая тоже увеличивается <br>\n",
    "4) безразмерная величина <br>\n",
    "5) обоснована только в диапазоне значений $x$ и $y$ в выборке <br>\n",
    "6) $r_{xy} = r_{yx}$ <br>\n",
    "7) $r_{xy} = 0 =>$ нет линейной зависимости <br><br>\n",
    "\n",
    "<b>Построение доверительного интервала для оценки выборочного коэффициента корреляции ($r_в$):</b><br>\n",
    "1) Преобразование Фишера: $z = arth r_в$ <br>\n",
    "2) Доверительный интервал для $z$: $(z - {t \\over {\\sqrt{n - 3}}}, z + {t \\over {\\sqrt{n - 3}}})$, где $n$ - количество элементов в выборке <br>\n",
    "$t$ находится по таблице функции Лапласа: $\\Phi (t) = \\gamma \\over 2$, где $\\gamma$ - заданная надёжность <br>\n",
    "3) Построение интервала для коэффициента корреляции: $(th z_l; th z_u)$ <br>\n",
    "$z_l$ - левая граница доверительного интервала $z$ <br>\n",
    "$z_u$ - правая граница доверительного интервала $z$ <br><br>\n",
    "\n",
    "<b>Проверка значимости коэффициента корреляции:</b><br>\n",
    "$H_0$: $r_г = 0$ <br>\n",
    "$H_1$: $r_г \\neq 0$ <br>\n",
    "Наблюдаемое значение: $T_{набл} = {r_в \\cdot {\\sqrt{n - 2}} \\over {\\sqrt{1 - r_в^2}}}$ <br>\n",
    "Критическая величина ищется по таблице Стьюдента: $T_{крит} = {t(\\alpha; df)}$ <br>\n",
    "$\\alpha$ - степень значимости <br>\n",
    "$df = n - 2$ <br>\n",
    "$|T_{набл}| < T_{крит} => $ гипотезу принимаем (иначе отвергаем) <br><br>\n",
    "\n",
    "<b>Уравнение средней квадратичной регрессии:</b><br>\n",
    "1) $Y$ на $X$:<br>\n",
    "$\\overline{y_x} - \\overline{y} = r_{yx} \\frac {\\sigma_y} {\\sigma_x} (x - \\overline{x})$<br>\n",
    "2) $X$ на $Y$:<br>\n",
    "$\\overline{x_y} - \\overline{x} = r_{xy} \\frac {\\sigma_x} {\\sigma_y} (y - \\overline{y})$<br>\n",
    "$\\overline{x}$ и $\\overline{y}$ - выборочные средние $X$ и $Y$ соответственно <br>\n",
    "$\\sigma_x$ и $\\sigma_y$ - СКО $X$ и $Y$ соответственно <br><br>\n",
    "\n",
    "<b>Выборочное корреляционное отношение:</b><br>\n",
    "1) $Y$ к $X$:<br>\n",
    "$\\eta_{yx} = {{\\sigma_{\\overline{y_x}}} \\over {\\sigma_y}}$<br>\n",
    "$\\sigma_{\\overline{y_x}} = \\sqrt{(\\Sigma n_x (\\overline{y_x} - \\overline{y})^2) / n}$<br>\n",
    "$\\sigma_y = \\sqrt{(\\Sigma n_y (y - \\overline{y})^2) / n}$<br>\n",
    "2) $X$ к $Y$:<br>\n",
    "$\\eta_{xy} = {{\\sigma_{\\overline{x_y}}} \\over {\\sigma_x}}$<br>\n",
    "$\\sigma_{\\overline{x_y}} = \\sqrt{(\\Sigma n_y (\\overline{x_y} - \\overline{x})^2) / n}$<br>\n",
    "$\\sigma_x = \\sqrt{(\\Sigma n_x (x - \\overline{x})^2) / n}$<br>\n",
    "$\\overline{x_y}$ и $\\overline{y_x}$ - условные средние<br>\n",
    "$\\overline{x_y} = {\\Sigma_{i = 1}^{K_x} {x_i n_{x_i y}} \\over \\Sigma_{i = 1}^{K_x} {n_{x_i y}}}$<br>\n",
    "$\\overline{y_x} = {\\Sigma_{j = 1}^{K_y} {y_j n_{x y_j}} \\over \\Sigma_{j = 1}^{K_y} {n_{x y_j}}}$<br><br>\n",
    "\n",
    "<b>Свойства выборочного корреляционного отношения:</b><br>\n",
    "1) $\\eta \\in [0; 1]$<br>\n",
    "2) $\\eta = 0 =>$ $Y$ с $X$ корреляционной зависимостью не связан (справедливо и обратное)<br>\n",
    "3) $\\eta = 1 =>$ $Y$ связан с $X$ функциональной зависимостью (справедливо и обратное)<br>\n",
    "4) $\\eta \\geq |r_в|$<br>\n",
    "5) $\\eta = r_в => $ есть точная линейная корреляционная зависимость<br><br>\n",
    "\n",
    "<b>Построение корреляционной кривой параболического вида:</b><br>\n",
    "$F(a, b, c) = \\Sigma_{i = 1}^n (a x_i^2 + b x_i + c - y_i)^2$<br>\n",
    "${dF \\over da} = 2 \\Sigma (a x_i^2 + b x_i + c - y_i)\\cdot (x_i^2) = 2(a \\Sigma {x_i^4} + b \\Sigma {x_i^3} + c \\Sigma {x_i^2} - \\Sigma {y_i x_i^2}) = 0$<br>\n",
    "${dF \\over db} = 2 \\Sigma (a x_i^2 + b x_i + c - y_i)\\cdot (x_i) = 2(a \\Sigma {x_i^3} + b \\Sigma {x_i^2} + c \\Sigma {x_i} - \\Sigma {y_i x_i}) = 0$<br>\n",
    "${dF \\over dc} = 2 \\Sigma (a x_i^2 + b x_i + c - y_i)\\cdot (1) = 2(a \\Sigma {x_i^2} + b \\Sigma {x_i} + cn - \\Sigma {y_i}) = 0$<br>\n",
    "Далее введём следующие обозначения:<br>\n",
    "$T = \\Sigma x_i^4$<br>\n",
    "$U = \\Sigma x_i^3$<br>\n",
    "$W = \\Sigma x_i^2$<br>\n",
    "$V = \\Sigma x_i$<br>\n",
    "$K = \\Sigma {y_i x_i^2}$<br>\n",
    "$B = \\Sigma {y_i x_i}$<br>\n",
    "$G = \\Sigma y_i$<br>\n",
    "В итоге получается следующая система:<br>\n",
    "$\\begin{cases}\n",
    "Ta + Ub + Wc = K\\\\\n",
    "Ua + Wb + Vc = B\\\\\n",
    "Wa + Vb + cn = G\n",
    "\\end{cases}\n",
    "$<br>\n",
    "Запишем систему в виде матрицы коэффициентов и приведём её к треугольному виду:<br>\n",
    "$\n",
    "\\left(\n",
    "\\begin{array}{ccc|c}\n",
    "T & U & W & K\\\\\n",
    "U & W & V & B\\\\\n",
    "W & V & n & G\n",
    "\\end{array}\n",
    "\\right)\n",
    "\\sim\n",
    "\\left(\n",
    "\\begin{array}{ccc|c}\n",
    "T & U & W & K\\\\\n",
    "0 & W - \\frac {U^2} {T} & V - \\frac {WU} {T} & B - \\frac {KU} {T}\\\\\n",
    "0 & V - \\frac {UW} {T} & n - \\frac {W^2} {T} & G - \\frac {KW} {T}\n",
    "\\end{array}\n",
    "\\right)\n",
    "\\sim\n",
    "\\left(\n",
    "\\begin{array}{ccc|c}\n",
    "T & U & W & K\\\\\n",
    "0 & W - \\frac {U^2} {T} & V - \\frac {WU} {T} & B - \\frac {KU} {T}\\\\\n",
    "0 & 0 & n - \\frac {W^2} {T} - \\frac {(V - \\frac{UW}{T})^2} {W - \\frac{U^2}{T}} & G - \\frac {KW} {T} - (B - \\frac{KU}{T})(\\frac {V - \\frac{UW}{T}}{W - \\frac{U^2}{T}})\n",
    "\\end{array}\n",
    "\\right)\n",
    "$<br>\n",
    "Отсюда получаем коэффициент $c$:<br>\n",
    "$c = {{G - \\frac {KW} {T} - (B - \\frac{KU}{T})(\\frac {V - \\frac{UW}{T}}{W - \\frac{U^2}{T}})} \\over {n - \\frac {W^2} {T} - \\frac {(V - \\frac{UW}{T})^2} {W - \\frac{U^2}{T}}}}$<br>\n",
    "Зная коэффициент $c$, можно найти коэффициент $b$:<br>\n",
    "$b = {{B - \\frac{KU}{T} - c(V - \\frac{WU}{T})} \\over {W - \\frac{U^2}{T}}}$<br>\n",
    "С помощью коэффициентов $b$ и $c$ можно найти коэффициент $a$:<br>\n",
    "$a = \\frac{K - Ub - Wc}{T}$<br><br>\n",
    "\n",
    "<b>Построение корреляционной кривой для обратно пропорциональной функции:</b><br>\n",
    "$y_{x_i} = a + \\frac{b}{x_i}$<br>\n",
    "$F(a, b) = \\Sigma_{i = 1}^n (a + \\frac{b}{x_i} - y_i)^2$<br>\n",
    "${dF \\over da} = 2 \\Sigma (a + \\frac{b}{x_i} - y_i) \\cdot (1) = 2(an + b \\Sigma {\\frac{1}{x_i}} - \\Sigma y_i) = 0$<br>\n",
    "${dF \\over db} = 2 \\Sigma (a + \\frac{b}{x_i} - y_i) \\cdot (\\frac{1}{x_i}) = 2(a \\Sigma {\\frac{1}{x_i}} + b \\Sigma {\\frac{1}{x_i^2}} - \\Sigma {\\frac{y_i}{x_i}}) = 0$<br>\n",
    "Введём следующие обозначения:<br>\n",
    "$T = \\Sigma {\\frac{1}{x_i}}$<br>\n",
    "$D = \\Sigma {\\frac{1}{x_i^2}}$<br>\n",
    "$K = \\Sigma y_i$<br>\n",
    "$M = \\Sigma {\\frac{y_i}{x_i}}$<br>\n",
    "В итоге получается следующая система:<br>\n",
    "$\\begin{cases}\n",
    "an + Tb = K\\\\\n",
    "Ta + Db = M\n",
    "\\end{cases}\n",
    "$<br>\n",
    "Запишем систему в виде матрицы коэффициентов и приведём её к треугольному виду:<br>\n",
    "$\n",
    "\\left(\n",
    "\\begin{array}{cc|c}\n",
    "n & T & K\\\\\n",
    "T & D & M\n",
    "\\end{array}\n",
    "\\right)\n",
    "\\sim\n",
    "\\left(\n",
    "\\begin{array}{cc|c}\n",
    "n & T & K\\\\\n",
    "0 & D - \\frac{T^2}{n} & M - \\frac{KT}{n}\n",
    "\\end{array}\n",
    "\\right)\n",
    "$<br>\n",
    "Отсюда получаем коэффициент $b$:<br>\n",
    "$b = \\frac {M - \\frac{KT}{n}} {D - \\frac{T^2}{n}}$<br>\n",
    "$a = \\frac {K - Tb} {n}$<br><br>\n",
    "\n",
    "<b>Показатели качества регрессии:</b><br>\n",
    "$(\\delta_y^*)^2 = \\frac{1}{n} \\Sigma_{i = 1}^n (y_{x_i} - \\overline{y})^2$<br>\n",
    "$(\\delta_x^*)^2 = \\frac{1}{n} \\Sigma_{i = 1}^n (x_{y_i} - \\overline{x})^2$<br>\n",
    "$(\\varepsilon_y^*)^2 = \\frac{1}{n} \\Sigma_{i = 1}^n {\\varepsilon_{y_i}^2}$<br>\n",
    "$(\\varepsilon_x^*)^2 = \\frac{1}{n} \\Sigma_{i = 1}^n {\\varepsilon_{x_i}^2}$<br>\n",
    "Теорема о разложении дисперсии: $\\sigma^2 = (\\delta^*)^2 + (\\varepsilon^*)^2$<br>\n",
    "Теоретический коэффициент детерминации:<br>\n",
    "$R_y^2 = \\frac {(\\delta_y^*)^2} {\\sigma_y^2}$<br>\n",
    "$R_x^2 = \\frac {(\\delta_x^*)^2} {\\sigma_x^2}$<br>\n",
    "Средняя квадратичная ошибка:<br>\n",
    "$S_{\\varepsilon_y} = \\sqrt{\\frac{1}{n - l} \\Sigma_{i = 1}^n {\\varepsilon_{y_i}^2}}$<br>\n",
    "$S_{\\varepsilon_x} = \\sqrt{\\frac{1}{n - l} \\Sigma_{i = 1}^n {\\varepsilon_{x_i}^2}}$<br>\n",
    "$l$ - число параметров в модели регрессии<br>\n",
    "Средняя ошибка аппроксимации:<br>\n",
    "$A_y = \\frac{1}{n} \\Sigma_{i = 1}^n {|\\frac{\\varepsilon_{y_i}}{y_i}|}$<br>\n",
    "$A_x = \\frac{1}{n} \\Sigma_{i = 1}^n {|\\frac{\\varepsilon_{x_i}}{x_i}|}$<br>"
   ]
  },
  {
   "cell_type": "markdown",
   "id": "95468685",
   "metadata": {},
   "source": [
    "## Постановка задачи\n",
    "<p>Из заданной генеральной совокупности сформировать выборку по второму признаку. Для системы двух случайных величин 𝑋 (первый признак) и 𝑌 (второй признак) сформировать двумерную выборку и найти\n",
    "статистическую оценку коэффициента корреляции, построить доверительный интервал для коэффициента корреляции и осуществить проверку статистической гипотезы о равенстве коэффициента корреляции\n",
    "нулю. Построить уравнения выборочных прямых среднеквадратической\n",
    "регрессии. Полученные линейные функции регрессии отобразить графически. Найти выборочное корреляционное отношение. Оценить адекватность моделей. Полученные результаты содержательно проинтерпретировать.</p>"
   ]
  },
  {
   "cell_type": "markdown",
   "id": "aa049842",
   "metadata": {},
   "source": [
    "## Выполнение работы"
   ]
  },
  {
   "cell_type": "markdown",
   "id": "963201c8",
   "metadata": {},
   "source": [
    "<h3>Задание 1</h3>"
   ]
  },
  {
   "cell_type": "code",
   "execution_count": 1,
   "id": "2a35ade0",
   "metadata": {},
   "outputs": [],
   "source": [
    "import numpy as np\n",
    "import pandas as pd\n",
    "import matplotlib.pyplot as plt\n",
    "from IPython.display import display, Latex\n",
    "from math import sqrt"
   ]
  },
  {
   "cell_type": "code",
   "execution_count": 2,
   "id": "9d88620d",
   "metadata": {},
   "outputs": [],
   "source": [
    "sample2D = pd.read_csv(\"Выборка_0373_ГолубевАН.csv\")"
   ]
  },
  {
   "cell_type": "code",
   "execution_count": 3,
   "id": "9897f04f",
   "metadata": {},
   "outputs": [
    {
     "data": {
      "text/html": [
       "<div>\n",
       "<style scoped>\n",
       "    .dataframe tbody tr th:only-of-type {\n",
       "        vertical-align: middle;\n",
       "    }\n",
       "\n",
       "    .dataframe tbody tr th {\n",
       "        vertical-align: top;\n",
       "    }\n",
       "\n",
       "    .dataframe thead th {\n",
       "        text-align: right;\n",
       "    }\n",
       "</style>\n",
       "<table border=\"1\" class=\"dataframe\">\n",
       "  <thead>\n",
       "    <tr style=\"text-align: right;\">\n",
       "      <th></th>\n",
       "      <th>Cocoa\\nPercent</th>\n",
       "      <th>Rating</th>\n",
       "    </tr>\n",
       "  </thead>\n",
       "  <tbody>\n",
       "    <tr>\n",
       "      <th>0</th>\n",
       "      <td>70</td>\n",
       "      <td>3.00</td>\n",
       "    </tr>\n",
       "    <tr>\n",
       "      <th>1</th>\n",
       "      <td>60</td>\n",
       "      <td>2.50</td>\n",
       "    </tr>\n",
       "    <tr>\n",
       "      <th>2</th>\n",
       "      <td>70</td>\n",
       "      <td>4.00</td>\n",
       "    </tr>\n",
       "    <tr>\n",
       "      <th>3</th>\n",
       "      <td>70</td>\n",
       "      <td>5.00</td>\n",
       "    </tr>\n",
       "    <tr>\n",
       "      <th>4</th>\n",
       "      <td>70</td>\n",
       "      <td>3.25</td>\n",
       "    </tr>\n",
       "    <tr>\n",
       "      <th>5</th>\n",
       "      <td>70</td>\n",
       "      <td>3.50</td>\n",
       "    </tr>\n",
       "    <tr>\n",
       "      <th>6</th>\n",
       "      <td>68</td>\n",
       "      <td>3.50</td>\n",
       "    </tr>\n",
       "    <tr>\n",
       "      <th>7</th>\n",
       "      <td>70</td>\n",
       "      <td>4.00</td>\n",
       "    </tr>\n",
       "    <tr>\n",
       "      <th>8</th>\n",
       "      <td>65</td>\n",
       "      <td>3.25</td>\n",
       "    </tr>\n",
       "    <tr>\n",
       "      <th>9</th>\n",
       "      <td>72</td>\n",
       "      <td>3.25</td>\n",
       "    </tr>\n",
       "    <tr>\n",
       "      <th>10</th>\n",
       "      <td>90</td>\n",
       "      <td>2.75</td>\n",
       "    </tr>\n",
       "    <tr>\n",
       "      <th>11</th>\n",
       "      <td>64</td>\n",
       "      <td>3.00</td>\n",
       "    </tr>\n",
       "    <tr>\n",
       "      <th>12</th>\n",
       "      <td>75</td>\n",
       "      <td>3.00</td>\n",
       "    </tr>\n",
       "    <tr>\n",
       "      <th>13</th>\n",
       "      <td>70</td>\n",
       "      <td>3.25</td>\n",
       "    </tr>\n",
       "    <tr>\n",
       "      <th>14</th>\n",
       "      <td>64</td>\n",
       "      <td>3.50</td>\n",
       "    </tr>\n",
       "    <tr>\n",
       "      <th>15</th>\n",
       "      <td>70</td>\n",
       "      <td>3.50</td>\n",
       "    </tr>\n",
       "    <tr>\n",
       "      <th>16</th>\n",
       "      <td>55</td>\n",
       "      <td>3.00</td>\n",
       "    </tr>\n",
       "    <tr>\n",
       "      <th>17</th>\n",
       "      <td>72</td>\n",
       "      <td>3.00</td>\n",
       "    </tr>\n",
       "    <tr>\n",
       "      <th>18</th>\n",
       "      <td>70</td>\n",
       "      <td>2.50</td>\n",
       "    </tr>\n",
       "    <tr>\n",
       "      <th>19</th>\n",
       "      <td>70</td>\n",
       "      <td>3.50</td>\n",
       "    </tr>\n",
       "    <tr>\n",
       "      <th>20</th>\n",
       "      <td>70</td>\n",
       "      <td>2.50</td>\n",
       "    </tr>\n",
       "    <tr>\n",
       "      <th>21</th>\n",
       "      <td>80</td>\n",
       "      <td>2.50</td>\n",
       "    </tr>\n",
       "    <tr>\n",
       "      <th>22</th>\n",
       "      <td>80</td>\n",
       "      <td>3.00</td>\n",
       "    </tr>\n",
       "    <tr>\n",
       "      <th>23</th>\n",
       "      <td>70</td>\n",
       "      <td>3.25</td>\n",
       "    </tr>\n",
       "    <tr>\n",
       "      <th>24</th>\n",
       "      <td>67</td>\n",
       "      <td>3.25</td>\n",
       "    </tr>\n",
       "    <tr>\n",
       "      <th>25</th>\n",
       "      <td>70</td>\n",
       "      <td>3.25</td>\n",
       "    </tr>\n",
       "    <tr>\n",
       "      <th>26</th>\n",
       "      <td>72</td>\n",
       "      <td>3.00</td>\n",
       "    </tr>\n",
       "    <tr>\n",
       "      <th>27</th>\n",
       "      <td>70</td>\n",
       "      <td>4.00</td>\n",
       "    </tr>\n",
       "    <tr>\n",
       "      <th>28</th>\n",
       "      <td>70</td>\n",
       "      <td>3.50</td>\n",
       "    </tr>\n",
       "    <tr>\n",
       "      <th>29</th>\n",
       "      <td>77</td>\n",
       "      <td>2.75</td>\n",
       "    </tr>\n",
       "    <tr>\n",
       "      <th>30</th>\n",
       "      <td>65</td>\n",
       "      <td>3.50</td>\n",
       "    </tr>\n",
       "    <tr>\n",
       "      <th>31</th>\n",
       "      <td>70</td>\n",
       "      <td>3.75</td>\n",
       "    </tr>\n",
       "    <tr>\n",
       "      <th>32</th>\n",
       "      <td>79</td>\n",
       "      <td>3.00</td>\n",
       "    </tr>\n",
       "    <tr>\n",
       "      <th>33</th>\n",
       "      <td>58</td>\n",
       "      <td>3.50</td>\n",
       "    </tr>\n",
       "    <tr>\n",
       "      <th>34</th>\n",
       "      <td>70</td>\n",
       "      <td>3.25</td>\n",
       "    </tr>\n",
       "    <tr>\n",
       "      <th>35</th>\n",
       "      <td>85</td>\n",
       "      <td>2.50</td>\n",
       "    </tr>\n",
       "    <tr>\n",
       "      <th>36</th>\n",
       "      <td>72</td>\n",
       "      <td>2.75</td>\n",
       "    </tr>\n",
       "    <tr>\n",
       "      <th>37</th>\n",
       "      <td>65</td>\n",
       "      <td>3.50</td>\n",
       "    </tr>\n",
       "    <tr>\n",
       "      <th>38</th>\n",
       "      <td>70</td>\n",
       "      <td>3.00</td>\n",
       "    </tr>\n",
       "    <tr>\n",
       "      <th>39</th>\n",
       "      <td>70</td>\n",
       "      <td>2.75</td>\n",
       "    </tr>\n",
       "    <tr>\n",
       "      <th>40</th>\n",
       "      <td>72</td>\n",
       "      <td>3.75</td>\n",
       "    </tr>\n",
       "    <tr>\n",
       "      <th>41</th>\n",
       "      <td>70</td>\n",
       "      <td>3.50</td>\n",
       "    </tr>\n",
       "    <tr>\n",
       "      <th>42</th>\n",
       "      <td>56</td>\n",
       "      <td>3.25</td>\n",
       "    </tr>\n",
       "    <tr>\n",
       "      <th>43</th>\n",
       "      <td>66</td>\n",
       "      <td>3.50</td>\n",
       "    </tr>\n",
       "    <tr>\n",
       "      <th>44</th>\n",
       "      <td>68</td>\n",
       "      <td>3.25</td>\n",
       "    </tr>\n",
       "    <tr>\n",
       "      <th>45</th>\n",
       "      <td>75</td>\n",
       "      <td>3.00</td>\n",
       "    </tr>\n",
       "    <tr>\n",
       "      <th>46</th>\n",
       "      <td>80</td>\n",
       "      <td>3.50</td>\n",
       "    </tr>\n",
       "    <tr>\n",
       "      <th>47</th>\n",
       "      <td>72</td>\n",
       "      <td>3.00</td>\n",
       "    </tr>\n",
       "    <tr>\n",
       "      <th>48</th>\n",
       "      <td>70</td>\n",
       "      <td>2.75</td>\n",
       "    </tr>\n",
       "    <tr>\n",
       "      <th>49</th>\n",
       "      <td>70</td>\n",
       "      <td>3.50</td>\n",
       "    </tr>\n",
       "    <tr>\n",
       "      <th>50</th>\n",
       "      <td>70</td>\n",
       "      <td>3.25</td>\n",
       "    </tr>\n",
       "    <tr>\n",
       "      <th>51</th>\n",
       "      <td>70</td>\n",
       "      <td>3.75</td>\n",
       "    </tr>\n",
       "    <tr>\n",
       "      <th>52</th>\n",
       "      <td>70</td>\n",
       "      <td>3.50</td>\n",
       "    </tr>\n",
       "    <tr>\n",
       "      <th>53</th>\n",
       "      <td>81</td>\n",
       "      <td>2.75</td>\n",
       "    </tr>\n",
       "    <tr>\n",
       "      <th>54</th>\n",
       "      <td>70</td>\n",
       "      <td>2.75</td>\n",
       "    </tr>\n",
       "    <tr>\n",
       "      <th>55</th>\n",
       "      <td>70</td>\n",
       "      <td>3.50</td>\n",
       "    </tr>\n",
       "    <tr>\n",
       "      <th>56</th>\n",
       "      <td>100</td>\n",
       "      <td>2.00</td>\n",
       "    </tr>\n",
       "    <tr>\n",
       "      <th>57</th>\n",
       "      <td>70</td>\n",
       "      <td>3.25</td>\n",
       "    </tr>\n",
       "    <tr>\n",
       "      <th>58</th>\n",
       "      <td>76</td>\n",
       "      <td>3.00</td>\n",
       "    </tr>\n",
       "    <tr>\n",
       "      <th>59</th>\n",
       "      <td>70</td>\n",
       "      <td>3.50</td>\n",
       "    </tr>\n",
       "    <tr>\n",
       "      <th>60</th>\n",
       "      <td>75</td>\n",
       "      <td>4.00</td>\n",
       "    </tr>\n",
       "    <tr>\n",
       "      <th>61</th>\n",
       "      <td>77</td>\n",
       "      <td>3.50</td>\n",
       "    </tr>\n",
       "    <tr>\n",
       "      <th>62</th>\n",
       "      <td>70</td>\n",
       "      <td>3.50</td>\n",
       "    </tr>\n",
       "    <tr>\n",
       "      <th>63</th>\n",
       "      <td>75</td>\n",
       "      <td>2.75</td>\n",
       "    </tr>\n",
       "    <tr>\n",
       "      <th>64</th>\n",
       "      <td>55</td>\n",
       "      <td>2.75</td>\n",
       "    </tr>\n",
       "    <tr>\n",
       "      <th>65</th>\n",
       "      <td>75</td>\n",
       "      <td>3.25</td>\n",
       "    </tr>\n",
       "    <tr>\n",
       "      <th>66</th>\n",
       "      <td>67</td>\n",
       "      <td>3.50</td>\n",
       "    </tr>\n",
       "    <tr>\n",
       "      <th>67</th>\n",
       "      <td>70</td>\n",
       "      <td>3.00</td>\n",
       "    </tr>\n",
       "    <tr>\n",
       "      <th>68</th>\n",
       "      <td>68</td>\n",
       "      <td>3.75</td>\n",
       "    </tr>\n",
       "    <tr>\n",
       "      <th>69</th>\n",
       "      <td>73</td>\n",
       "      <td>3.50</td>\n",
       "    </tr>\n",
       "    <tr>\n",
       "      <th>70</th>\n",
       "      <td>72</td>\n",
       "      <td>3.00</td>\n",
       "    </tr>\n",
       "    <tr>\n",
       "      <th>71</th>\n",
       "      <td>70</td>\n",
       "      <td>3.75</td>\n",
       "    </tr>\n",
       "    <tr>\n",
       "      <th>72</th>\n",
       "      <td>70</td>\n",
       "      <td>3.50</td>\n",
       "    </tr>\n",
       "    <tr>\n",
       "      <th>73</th>\n",
       "      <td>72</td>\n",
       "      <td>2.75</td>\n",
       "    </tr>\n",
       "    <tr>\n",
       "      <th>74</th>\n",
       "      <td>65</td>\n",
       "      <td>3.50</td>\n",
       "    </tr>\n",
       "    <tr>\n",
       "      <th>75</th>\n",
       "      <td>70</td>\n",
       "      <td>3.50</td>\n",
       "    </tr>\n",
       "    <tr>\n",
       "      <th>76</th>\n",
       "      <td>70</td>\n",
       "      <td>3.50</td>\n",
       "    </tr>\n",
       "    <tr>\n",
       "      <th>77</th>\n",
       "      <td>70</td>\n",
       "      <td>3.25</td>\n",
       "    </tr>\n",
       "    <tr>\n",
       "      <th>78</th>\n",
       "      <td>70</td>\n",
       "      <td>3.25</td>\n",
       "    </tr>\n",
       "    <tr>\n",
       "      <th>79</th>\n",
       "      <td>70</td>\n",
       "      <td>2.75</td>\n",
       "    </tr>\n",
       "    <tr>\n",
       "      <th>80</th>\n",
       "      <td>77</td>\n",
       "      <td>3.25</td>\n",
       "    </tr>\n",
       "    <tr>\n",
       "      <th>81</th>\n",
       "      <td>70</td>\n",
       "      <td>3.00</td>\n",
       "    </tr>\n",
       "    <tr>\n",
       "      <th>82</th>\n",
       "      <td>70</td>\n",
       "      <td>3.25</td>\n",
       "    </tr>\n",
       "    <tr>\n",
       "      <th>83</th>\n",
       "      <td>68</td>\n",
       "      <td>3.00</td>\n",
       "    </tr>\n",
       "    <tr>\n",
       "      <th>84</th>\n",
       "      <td>70</td>\n",
       "      <td>2.75</td>\n",
       "    </tr>\n",
       "    <tr>\n",
       "      <th>85</th>\n",
       "      <td>68</td>\n",
       "      <td>3.25</td>\n",
       "    </tr>\n",
       "    <tr>\n",
       "      <th>86</th>\n",
       "      <td>64</td>\n",
       "      <td>3.75</td>\n",
       "    </tr>\n",
       "    <tr>\n",
       "      <th>87</th>\n",
       "      <td>68</td>\n",
       "      <td>3.00</td>\n",
       "    </tr>\n",
       "    <tr>\n",
       "      <th>88</th>\n",
       "      <td>64</td>\n",
       "      <td>3.25</td>\n",
       "    </tr>\n",
       "    <tr>\n",
       "      <th>89</th>\n",
       "      <td>90</td>\n",
       "      <td>2.00</td>\n",
       "    </tr>\n",
       "    <tr>\n",
       "      <th>90</th>\n",
       "      <td>70</td>\n",
       "      <td>3.50</td>\n",
       "    </tr>\n",
       "    <tr>\n",
       "      <th>91</th>\n",
       "      <td>70</td>\n",
       "      <td>3.25</td>\n",
       "    </tr>\n",
       "  </tbody>\n",
       "</table>\n",
       "</div>"
      ],
      "text/plain": [
       "    Cocoa\\nPercent  Rating\n",
       "0               70    3.00\n",
       "1               60    2.50\n",
       "2               70    4.00\n",
       "3               70    5.00\n",
       "4               70    3.25\n",
       "5               70    3.50\n",
       "6               68    3.50\n",
       "7               70    4.00\n",
       "8               65    3.25\n",
       "9               72    3.25\n",
       "10              90    2.75\n",
       "11              64    3.00\n",
       "12              75    3.00\n",
       "13              70    3.25\n",
       "14              64    3.50\n",
       "15              70    3.50\n",
       "16              55    3.00\n",
       "17              72    3.00\n",
       "18              70    2.50\n",
       "19              70    3.50\n",
       "20              70    2.50\n",
       "21              80    2.50\n",
       "22              80    3.00\n",
       "23              70    3.25\n",
       "24              67    3.25\n",
       "25              70    3.25\n",
       "26              72    3.00\n",
       "27              70    4.00\n",
       "28              70    3.50\n",
       "29              77    2.75\n",
       "30              65    3.50\n",
       "31              70    3.75\n",
       "32              79    3.00\n",
       "33              58    3.50\n",
       "34              70    3.25\n",
       "35              85    2.50\n",
       "36              72    2.75\n",
       "37              65    3.50\n",
       "38              70    3.00\n",
       "39              70    2.75\n",
       "40              72    3.75\n",
       "41              70    3.50\n",
       "42              56    3.25\n",
       "43              66    3.50\n",
       "44              68    3.25\n",
       "45              75    3.00\n",
       "46              80    3.50\n",
       "47              72    3.00\n",
       "48              70    2.75\n",
       "49              70    3.50\n",
       "50              70    3.25\n",
       "51              70    3.75\n",
       "52              70    3.50\n",
       "53              81    2.75\n",
       "54              70    2.75\n",
       "55              70    3.50\n",
       "56             100    2.00\n",
       "57              70    3.25\n",
       "58              76    3.00\n",
       "59              70    3.50\n",
       "60              75    4.00\n",
       "61              77    3.50\n",
       "62              70    3.50\n",
       "63              75    2.75\n",
       "64              55    2.75\n",
       "65              75    3.25\n",
       "66              67    3.50\n",
       "67              70    3.00\n",
       "68              68    3.75\n",
       "69              73    3.50\n",
       "70              72    3.00\n",
       "71              70    3.75\n",
       "72              70    3.50\n",
       "73              72    2.75\n",
       "74              65    3.50\n",
       "75              70    3.50\n",
       "76              70    3.50\n",
       "77              70    3.25\n",
       "78              70    3.25\n",
       "79              70    2.75\n",
       "80              77    3.25\n",
       "81              70    3.00\n",
       "82              70    3.25\n",
       "83              68    3.00\n",
       "84              70    2.75\n",
       "85              68    3.25\n",
       "86              64    3.75\n",
       "87              68    3.00\n",
       "88              64    3.25\n",
       "89              90    2.00\n",
       "90              70    3.50\n",
       "91              70    3.25"
      ]
     },
     "execution_count": 3,
     "metadata": {},
     "output_type": "execute_result"
    }
   ],
   "source": [
    "pd.set_option(\"display.max_rows\", None)\n",
    "sample2D"
   ]
  },
  {
   "cell_type": "markdown",
   "id": "b1959654",
   "metadata": {},
   "source": [
    "<p>Выборка \"Cocoa Percent\"</p>"
   ]
  },
  {
   "cell_type": "code",
   "execution_count": 4,
   "id": "02feb4c0",
   "metadata": {},
   "outputs": [],
   "source": [
    "sample = sample2D[\"Cocoa\\nPercent\"]"
   ]
  },
  {
   "cell_type": "markdown",
   "id": "89859bf6",
   "metadata": {},
   "source": [
    "<p>Выборка \"Rating\"</p>"
   ]
  },
  {
   "cell_type": "code",
   "execution_count": 5,
   "id": "f2cbae42",
   "metadata": {},
   "outputs": [],
   "source": [
    "sample2 = sample2D[\"Rating\"]"
   ]
  },
  {
   "cell_type": "markdown",
   "id": "bfb83bb9",
   "metadata": {},
   "source": [
    "<p>Ранжированный ряд (Cocoa Percent)</p>"
   ]
  },
  {
   "cell_type": "code",
   "execution_count": 6,
   "id": "78c8d284",
   "metadata": {},
   "outputs": [
    {
     "data": {
      "text/plain": [
       "16     55\n",
       "64     55\n",
       "42     56\n",
       "33     58\n",
       "1      60\n",
       "88     64\n",
       "86     64\n",
       "14     64\n",
       "11     64\n",
       "74     65\n",
       "30     65\n",
       "37     65\n",
       "8      65\n",
       "43     66\n",
       "24     67\n",
       "66     67\n",
       "68     68\n",
       "44     68\n",
       "83     68\n",
       "6      68\n",
       "85     68\n",
       "87     68\n",
       "51     70\n",
       "52     70\n",
       "49     70\n",
       "54     70\n",
       "48     70\n",
       "90     70\n",
       "55     70\n",
       "57     70\n",
       "50     70\n",
       "0      70\n",
       "62     70\n",
       "67     70\n",
       "72     70\n",
       "75     70\n",
       "76     70\n",
       "77     70\n",
       "78     70\n",
       "79     70\n",
       "81     70\n",
       "82     70\n",
       "84     70\n",
       "59     70\n",
       "71     70\n",
       "91     70\n",
       "23     70\n",
       "19     70\n",
       "18     70\n",
       "41     70\n",
       "25     70\n",
       "27     70\n",
       "15     70\n",
       "28     70\n",
       "13     70\n",
       "7      70\n",
       "31     70\n",
       "20     70\n",
       "4      70\n",
       "34     70\n",
       "3      70\n",
       "2      70\n",
       "39     70\n",
       "5      70\n",
       "38     70\n",
       "47     72\n",
       "40     72\n",
       "70     72\n",
       "26     72\n",
       "36     72\n",
       "73     72\n",
       "9      72\n",
       "17     72\n",
       "69     73\n",
       "12     75\n",
       "45     75\n",
       "65     75\n",
       "63     75\n",
       "60     75\n",
       "58     76\n",
       "61     77\n",
       "80     77\n",
       "29     77\n",
       "32     79\n",
       "22     80\n",
       "21     80\n",
       "46     80\n",
       "53     81\n",
       "35     85\n",
       "10     90\n",
       "89     90\n",
       "56    100\n",
       "Name: Cocoa\\nPercent, dtype: int64"
      ]
     },
     "execution_count": 6,
     "metadata": {},
     "output_type": "execute_result"
    }
   ],
   "source": [
    "sample_sorted = sample.sort_values()\n",
    "sample_sorted"
   ]
  },
  {
   "cell_type": "markdown",
   "id": "9b4d2e4e",
   "metadata": {},
   "source": [
    "<p>Ранжированный ряд (Rating)</p>"
   ]
  },
  {
   "cell_type": "code",
   "execution_count": 7,
   "id": "2da8e911",
   "metadata": {},
   "outputs": [
    {
     "data": {
      "text/plain": [
       "89    2.00\n",
       "56    2.00\n",
       "20    2.50\n",
       "1     2.50\n",
       "35    2.50\n",
       "18    2.50\n",
       "21    2.50\n",
       "53    2.75\n",
       "54    2.75\n",
       "63    2.75\n",
       "64    2.75\n",
       "29    2.75\n",
       "48    2.75\n",
       "39    2.75\n",
       "73    2.75\n",
       "79    2.75\n",
       "36    2.75\n",
       "84    2.75\n",
       "10    2.75\n",
       "38    3.00\n",
       "47    3.00\n",
       "0     3.00\n",
       "67    3.00\n",
       "70    3.00\n",
       "81    3.00\n",
       "83    3.00\n",
       "87    3.00\n",
       "32    3.00\n",
       "58    3.00\n",
       "45    3.00\n",
       "11    3.00\n",
       "26    3.00\n",
       "16    3.00\n",
       "17    3.00\n",
       "22    3.00\n",
       "12    3.00\n",
       "91    3.25\n",
       "65    3.25\n",
       "57    3.25\n",
       "9     3.25\n",
       "8     3.25\n",
       "50    3.25\n",
       "78    3.25\n",
       "44    3.25\n",
       "77    3.25\n",
       "42    3.25\n",
       "88    3.25\n",
       "85    3.25\n",
       "4     3.25\n",
       "34    3.25\n",
       "80    3.25\n",
       "24    3.25\n",
       "25    3.25\n",
       "23    3.25\n",
       "82    3.25\n",
       "13    3.25\n",
       "5     3.50\n",
       "72    3.50\n",
       "75    3.50\n",
       "76    3.50\n",
       "69    3.50\n",
       "66    3.50\n",
       "6     3.50\n",
       "74    3.50\n",
       "30    3.50\n",
       "61    3.50\n",
       "33    3.50\n",
       "37    3.50\n",
       "41    3.50\n",
       "43    3.50\n",
       "62    3.50\n",
       "46    3.50\n",
       "19    3.50\n",
       "49    3.50\n",
       "90    3.50\n",
       "52    3.50\n",
       "28    3.50\n",
       "14    3.50\n",
       "59    3.50\n",
       "55    3.50\n",
       "15    3.50\n",
       "71    3.75\n",
       "68    3.75\n",
       "40    3.75\n",
       "51    3.75\n",
       "86    3.75\n",
       "31    3.75\n",
       "7     4.00\n",
       "27    4.00\n",
       "2     4.00\n",
       "60    4.00\n",
       "3     5.00\n",
       "Name: Rating, dtype: float64"
      ]
     },
     "execution_count": 7,
     "metadata": {},
     "output_type": "execute_result"
    }
   ],
   "source": [
    "sample_sorted2 = sample2.sort_values()\n",
    "sample_sorted2"
   ]
  },
  {
   "cell_type": "markdown",
   "id": "3f4b1383",
   "metadata": {},
   "source": [
    "<p>Вариационный ряд (Cocoa Percent)</p>"
   ]
  },
  {
   "cell_type": "code",
   "execution_count": 8,
   "id": "5af61108",
   "metadata": {},
   "outputs": [],
   "source": [
    "def create_var_ser(sorted_sample, Col_name):\n",
    "    freqs = []\n",
    "    \n",
    "    sample_without_dupls = sorted_sample.drop_duplicates()\n",
    "    #sample_without_dupls = sample_without_dupls.sort_values(by=[Col_name])\n",
    "    sorted_sample_list = sorted_sample.values.tolist()\n",
    "    \n",
    "    for i in range(len(sample_without_dupls)):\n",
    "        freqs.append(sorted_sample_list.count(sample_without_dupls.values[i]))\n",
    "    \n",
    "    table = {Col_name: sample_without_dupls.values, '$n_{i}$': freqs}\n",
    "    df = pd.DataFrame(data=table)\n",
    "    \n",
    "    return df"
   ]
  },
  {
   "cell_type": "code",
   "execution_count": 9,
   "id": "a4879728",
   "metadata": {},
   "outputs": [
    {
     "data": {
      "text/html": [
       "<div>\n",
       "<style scoped>\n",
       "    .dataframe tbody tr th:only-of-type {\n",
       "        vertical-align: middle;\n",
       "    }\n",
       "\n",
       "    .dataframe tbody tr th {\n",
       "        vertical-align: top;\n",
       "    }\n",
       "\n",
       "    .dataframe thead th {\n",
       "        text-align: right;\n",
       "    }\n",
       "</style>\n",
       "<table border=\"1\" class=\"dataframe\">\n",
       "  <thead>\n",
       "    <tr style=\"text-align: right;\">\n",
       "      <th></th>\n",
       "      <th>Cocoa\\nPercent</th>\n",
       "      <th>$n_{i}$</th>\n",
       "    </tr>\n",
       "  </thead>\n",
       "  <tbody>\n",
       "    <tr>\n",
       "      <th>0</th>\n",
       "      <td>55</td>\n",
       "      <td>2</td>\n",
       "    </tr>\n",
       "    <tr>\n",
       "      <th>1</th>\n",
       "      <td>56</td>\n",
       "      <td>1</td>\n",
       "    </tr>\n",
       "    <tr>\n",
       "      <th>2</th>\n",
       "      <td>58</td>\n",
       "      <td>1</td>\n",
       "    </tr>\n",
       "    <tr>\n",
       "      <th>3</th>\n",
       "      <td>60</td>\n",
       "      <td>1</td>\n",
       "    </tr>\n",
       "    <tr>\n",
       "      <th>4</th>\n",
       "      <td>64</td>\n",
       "      <td>4</td>\n",
       "    </tr>\n",
       "    <tr>\n",
       "      <th>5</th>\n",
       "      <td>65</td>\n",
       "      <td>4</td>\n",
       "    </tr>\n",
       "    <tr>\n",
       "      <th>6</th>\n",
       "      <td>66</td>\n",
       "      <td>1</td>\n",
       "    </tr>\n",
       "    <tr>\n",
       "      <th>7</th>\n",
       "      <td>67</td>\n",
       "      <td>2</td>\n",
       "    </tr>\n",
       "    <tr>\n",
       "      <th>8</th>\n",
       "      <td>68</td>\n",
       "      <td>6</td>\n",
       "    </tr>\n",
       "    <tr>\n",
       "      <th>9</th>\n",
       "      <td>70</td>\n",
       "      <td>43</td>\n",
       "    </tr>\n",
       "    <tr>\n",
       "      <th>10</th>\n",
       "      <td>72</td>\n",
       "      <td>8</td>\n",
       "    </tr>\n",
       "    <tr>\n",
       "      <th>11</th>\n",
       "      <td>73</td>\n",
       "      <td>1</td>\n",
       "    </tr>\n",
       "    <tr>\n",
       "      <th>12</th>\n",
       "      <td>75</td>\n",
       "      <td>5</td>\n",
       "    </tr>\n",
       "    <tr>\n",
       "      <th>13</th>\n",
       "      <td>76</td>\n",
       "      <td>1</td>\n",
       "    </tr>\n",
       "    <tr>\n",
       "      <th>14</th>\n",
       "      <td>77</td>\n",
       "      <td>3</td>\n",
       "    </tr>\n",
       "    <tr>\n",
       "      <th>15</th>\n",
       "      <td>79</td>\n",
       "      <td>1</td>\n",
       "    </tr>\n",
       "    <tr>\n",
       "      <th>16</th>\n",
       "      <td>80</td>\n",
       "      <td>3</td>\n",
       "    </tr>\n",
       "    <tr>\n",
       "      <th>17</th>\n",
       "      <td>81</td>\n",
       "      <td>1</td>\n",
       "    </tr>\n",
       "    <tr>\n",
       "      <th>18</th>\n",
       "      <td>85</td>\n",
       "      <td>1</td>\n",
       "    </tr>\n",
       "    <tr>\n",
       "      <th>19</th>\n",
       "      <td>90</td>\n",
       "      <td>2</td>\n",
       "    </tr>\n",
       "    <tr>\n",
       "      <th>20</th>\n",
       "      <td>100</td>\n",
       "      <td>1</td>\n",
       "    </tr>\n",
       "  </tbody>\n",
       "</table>\n",
       "</div>"
      ],
      "text/plain": [
       "    Cocoa\\nPercent  $n_{i}$\n",
       "0               55        2\n",
       "1               56        1\n",
       "2               58        1\n",
       "3               60        1\n",
       "4               64        4\n",
       "5               65        4\n",
       "6               66        1\n",
       "7               67        2\n",
       "8               68        6\n",
       "9               70       43\n",
       "10              72        8\n",
       "11              73        1\n",
       "12              75        5\n",
       "13              76        1\n",
       "14              77        3\n",
       "15              79        1\n",
       "16              80        3\n",
       "17              81        1\n",
       "18              85        1\n",
       "19              90        2\n",
       "20             100        1"
      ]
     },
     "execution_count": 9,
     "metadata": {},
     "output_type": "execute_result"
    }
   ],
   "source": [
    "var_ser = create_var_ser(sample_sorted, 'Cocoa\\nPercent')\n",
    "var_ser"
   ]
  },
  {
   "cell_type": "markdown",
   "id": "87707994",
   "metadata": {},
   "source": [
    "<p>Вариационный ряд (Rating)</p>"
   ]
  },
  {
   "cell_type": "code",
   "execution_count": 10,
   "id": "26c4a1a7",
   "metadata": {},
   "outputs": [
    {
     "data": {
      "text/html": [
       "<div>\n",
       "<style scoped>\n",
       "    .dataframe tbody tr th:only-of-type {\n",
       "        vertical-align: middle;\n",
       "    }\n",
       "\n",
       "    .dataframe tbody tr th {\n",
       "        vertical-align: top;\n",
       "    }\n",
       "\n",
       "    .dataframe thead th {\n",
       "        text-align: right;\n",
       "    }\n",
       "</style>\n",
       "<table border=\"1\" class=\"dataframe\">\n",
       "  <thead>\n",
       "    <tr style=\"text-align: right;\">\n",
       "      <th></th>\n",
       "      <th>Rating</th>\n",
       "      <th>$n_{i}$</th>\n",
       "    </tr>\n",
       "  </thead>\n",
       "  <tbody>\n",
       "    <tr>\n",
       "      <th>0</th>\n",
       "      <td>2.00</td>\n",
       "      <td>2</td>\n",
       "    </tr>\n",
       "    <tr>\n",
       "      <th>1</th>\n",
       "      <td>2.50</td>\n",
       "      <td>5</td>\n",
       "    </tr>\n",
       "    <tr>\n",
       "      <th>2</th>\n",
       "      <td>2.75</td>\n",
       "      <td>12</td>\n",
       "    </tr>\n",
       "    <tr>\n",
       "      <th>3</th>\n",
       "      <td>3.00</td>\n",
       "      <td>17</td>\n",
       "    </tr>\n",
       "    <tr>\n",
       "      <th>4</th>\n",
       "      <td>3.25</td>\n",
       "      <td>20</td>\n",
       "    </tr>\n",
       "    <tr>\n",
       "      <th>5</th>\n",
       "      <td>3.50</td>\n",
       "      <td>25</td>\n",
       "    </tr>\n",
       "    <tr>\n",
       "      <th>6</th>\n",
       "      <td>3.75</td>\n",
       "      <td>6</td>\n",
       "    </tr>\n",
       "    <tr>\n",
       "      <th>7</th>\n",
       "      <td>4.00</td>\n",
       "      <td>4</td>\n",
       "    </tr>\n",
       "    <tr>\n",
       "      <th>8</th>\n",
       "      <td>5.00</td>\n",
       "      <td>1</td>\n",
       "    </tr>\n",
       "  </tbody>\n",
       "</table>\n",
       "</div>"
      ],
      "text/plain": [
       "   Rating  $n_{i}$\n",
       "0    2.00        2\n",
       "1    2.50        5\n",
       "2    2.75       12\n",
       "3    3.00       17\n",
       "4    3.25       20\n",
       "5    3.50       25\n",
       "6    3.75        6\n",
       "7    4.00        4\n",
       "8    5.00        1"
      ]
     },
     "execution_count": 10,
     "metadata": {},
     "output_type": "execute_result"
    }
   ],
   "source": [
    "var_ser2 = create_var_ser(sample_sorted2, 'Rating')\n",
    "var_ser2"
   ]
  },
  {
   "cell_type": "markdown",
   "id": "50bc06b5",
   "metadata": {},
   "source": [
    "<p>Интервальный ряд (Cocoa Percent)</p>"
   ]
  },
  {
   "cell_type": "code",
   "execution_count": 37,
   "id": "d922a1cd",
   "metadata": {},
   "outputs": [],
   "source": [
    "def create_interval_series(sample, var_name):\n",
    "    k = int(round(1 + np.log2(len(sample)))) # формула Стёрджесса\n",
    "    R = (float(sample.max()) - float(sample.min())) # размах выборки\n",
    "    h = float(R / k) # длина интервала\n",
    "    \n",
    "    i = []\n",
    "    intervals = []\n",
    "    centers = []\n",
    "    n = []\n",
    "    p = []\n",
    "    x_0 = float(sample.min())\n",
    "    \n",
    "    for j in range(k):\n",
    "        i.append(j + 1)\n",
    "        \n",
    "        interval_borders = [x_0, x_0 + h]\n",
    "        center = (x_0 + x_0 + h) / 2\n",
    "        interval_mask = 0\n",
    "        if j == 0: interval_mask = (sample >= x_0) & (sample <= x_0 + h)\n",
    "        else: interval_mask = (sample > x_0) & (sample <= x_0 + h)\n",
    "        interval = sample.loc[interval_mask]\n",
    "        n_i = len(interval)\n",
    "        p_i = n_i / len(sample)\n",
    "        \n",
    "        intervals.append(interval_borders)\n",
    "        centers.append(center)\n",
    "        n.append(n_i)\n",
    "        p.append(p_i)\n",
    "        \n",
    "        x_0 = x_0 + h\n",
    "        \n",
    "    Data = {'$i$': i, ('$(' + var_name + '_{i-1}, ' + var_name + '_{i}]$'): intervals, ('$\\widetilde{' + var_name + '_{i}}$'): centers, '$n_{i}$': n, '$p_{i}^*$': p}\n",
    "    data_frame = pd.DataFrame(data=Data)\n",
    "    \n",
    "    return data_frame, h"
   ]
  },
  {
   "cell_type": "markdown",
   "id": "e5396c2e",
   "metadata": {},
   "source": [
    "<p>Интервальный ряд (Cocoa Percent)</p>"
   ]
  },
  {
   "cell_type": "code",
   "execution_count": 38,
   "id": "5ffd01b8",
   "metadata": {},
   "outputs": [],
   "source": [
    "interval_series, step = create_interval_series(sample_sorted, 'x')\n",
    "#interval_series.style.hide_index()"
   ]
  },
  {
   "cell_type": "markdown",
   "id": "96acebeb",
   "metadata": {},
   "source": [
    "<p>Интервальный ряд (Rating)</p>"
   ]
  },
  {
   "cell_type": "code",
   "execution_count": 39,
   "id": "b3eae572",
   "metadata": {},
   "outputs": [],
   "source": [
    "interval_series2, step2 = create_interval_series(sample_sorted2, 'y')\n",
    "#interval_series2.style.hide_index()"
   ]
  },
  {
   "cell_type": "code",
   "execution_count": 43,
   "id": "eb828105",
   "metadata": {},
   "outputs": [],
   "source": [
    "def task5(int_centers, sample, int_series, var_name):\n",
    "    intervals = int_series[('$(' + var_name + '_{i-1}, ' + var_name + '_{i}]$')]\n",
    "    accum_freqs = []\n",
    "    accum_rel_freqs = []\n",
    "    \n",
    "    for i in range(len(int_centers)):\n",
    "        mask = (sample.values <= intervals.values[i][1])\n",
    "        values = sample.loc[mask]\n",
    "        accum_freqs.append(len(values))\n",
    "        accum_rel_freqs.append(len(values) / len(sample))\n",
    "        \n",
    "    table_cols = {'$n_{i}^{\\Sigma}$': accum_freqs, '$p_{i}^{\\Sigma}$': accum_rel_freqs}\n",
    "    table = pd.DataFrame(data=table_cols) # накопленные абсолютные и относительные частоты\n",
    "    \n",
    "    res = pd.concat([int_series, table], axis=1)\n",
    "    \n",
    "    freqs = int_series['$n_{i}$']\n",
    "    rel_freqs = int_series['$p_{i}^*$']\n",
    "    sum_row = {'$i$': ['$\\Sigma$'], ('$(' + var_name + '_{i-1}, ' + var_name + '_{i}]$'): ['-'], ('$\\widetilde{' + var_name + '_{i}}$'): ['-'], '$n_{i}$': [freqs.sum()], '$p_{i}^*$': [rel_freqs.sum()], '$n_{i}^{\\Sigma}$': ['-'], '$p_{i}^{\\Sigma}$': ['-']}\n",
    "    sum_tab = pd.DataFrame(data=sum_row)\n",
    "    \n",
    "    res = pd.concat([res, sum_tab], axis=0)\n",
    "    \n",
    "    return res"
   ]
  },
  {
   "cell_type": "markdown",
   "id": "aee5e6a1",
   "metadata": {},
   "source": [
    "<p>Первая таблица для Cocoa Percent</p>"
   ]
  },
  {
   "cell_type": "code",
   "execution_count": 46,
   "id": "e0e51f33",
   "metadata": {},
   "outputs": [
    {
     "name": "stderr",
     "output_type": "stream",
     "text": [
      "C:\\Users\\HP\\AppData\\Local\\Temp\\ipykernel_8036\\4183892631.py:3: FutureWarning: this method is deprecated in favour of `Styler.hide(axis='index')`\n",
      "  Table.style.hide_index()\n"
     ]
    },
    {
     "data": {
      "text/html": [
       "<style type=\"text/css\">\n",
       "</style>\n",
       "<table id=\"T_9f869\">\n",
       "  <thead>\n",
       "    <tr>\n",
       "      <th id=\"T_9f869_level0_col0\" class=\"col_heading level0 col0\" >$i$</th>\n",
       "      <th id=\"T_9f869_level0_col1\" class=\"col_heading level0 col1\" >$(x_{i-1}, x_{i}]$</th>\n",
       "      <th id=\"T_9f869_level0_col2\" class=\"col_heading level0 col2\" >$\\widetilde{x_{i}}$</th>\n",
       "      <th id=\"T_9f869_level0_col3\" class=\"col_heading level0 col3\" >$n_{i}$</th>\n",
       "      <th id=\"T_9f869_level0_col4\" class=\"col_heading level0 col4\" >$p_{i}^*$</th>\n",
       "      <th id=\"T_9f869_level0_col5\" class=\"col_heading level0 col5\" >$n_{i}^{\\Sigma}$</th>\n",
       "      <th id=\"T_9f869_level0_col6\" class=\"col_heading level0 col6\" >$p_{i}^{\\Sigma}$</th>\n",
       "    </tr>\n",
       "  </thead>\n",
       "  <tbody>\n",
       "    <tr>\n",
       "      <td id=\"T_9f869_row0_col0\" class=\"data row0 col0\" >1</td>\n",
       "      <td id=\"T_9f869_row0_col1\" class=\"data row0 col1\" >[55.0, 60.625]</td>\n",
       "      <td id=\"T_9f869_row0_col2\" class=\"data row0 col2\" >57.812500</td>\n",
       "      <td id=\"T_9f869_row0_col3\" class=\"data row0 col3\" >5</td>\n",
       "      <td id=\"T_9f869_row0_col4\" class=\"data row0 col4\" >0.054348</td>\n",
       "      <td id=\"T_9f869_row0_col5\" class=\"data row0 col5\" >5</td>\n",
       "      <td id=\"T_9f869_row0_col6\" class=\"data row0 col6\" >0.054348</td>\n",
       "    </tr>\n",
       "    <tr>\n",
       "      <td id=\"T_9f869_row1_col0\" class=\"data row1 col0\" >2</td>\n",
       "      <td id=\"T_9f869_row1_col1\" class=\"data row1 col1\" >[60.625, 66.25]</td>\n",
       "      <td id=\"T_9f869_row1_col2\" class=\"data row1 col2\" >63.437500</td>\n",
       "      <td id=\"T_9f869_row1_col3\" class=\"data row1 col3\" >9</td>\n",
       "      <td id=\"T_9f869_row1_col4\" class=\"data row1 col4\" >0.097826</td>\n",
       "      <td id=\"T_9f869_row1_col5\" class=\"data row1 col5\" >14</td>\n",
       "      <td id=\"T_9f869_row1_col6\" class=\"data row1 col6\" >0.152174</td>\n",
       "    </tr>\n",
       "    <tr>\n",
       "      <td id=\"T_9f869_row2_col0\" class=\"data row2 col0\" >3</td>\n",
       "      <td id=\"T_9f869_row2_col1\" class=\"data row2 col1\" >[66.25, 71.875]</td>\n",
       "      <td id=\"T_9f869_row2_col2\" class=\"data row2 col2\" >69.062500</td>\n",
       "      <td id=\"T_9f869_row2_col3\" class=\"data row2 col3\" >51</td>\n",
       "      <td id=\"T_9f869_row2_col4\" class=\"data row2 col4\" >0.554348</td>\n",
       "      <td id=\"T_9f869_row2_col5\" class=\"data row2 col5\" >65</td>\n",
       "      <td id=\"T_9f869_row2_col6\" class=\"data row2 col6\" >0.706522</td>\n",
       "    </tr>\n",
       "    <tr>\n",
       "      <td id=\"T_9f869_row3_col0\" class=\"data row3 col0\" >4</td>\n",
       "      <td id=\"T_9f869_row3_col1\" class=\"data row3 col1\" >[71.875, 77.5]</td>\n",
       "      <td id=\"T_9f869_row3_col2\" class=\"data row3 col2\" >74.687500</td>\n",
       "      <td id=\"T_9f869_row3_col3\" class=\"data row3 col3\" >18</td>\n",
       "      <td id=\"T_9f869_row3_col4\" class=\"data row3 col4\" >0.195652</td>\n",
       "      <td id=\"T_9f869_row3_col5\" class=\"data row3 col5\" >83</td>\n",
       "      <td id=\"T_9f869_row3_col6\" class=\"data row3 col6\" >0.902174</td>\n",
       "    </tr>\n",
       "    <tr>\n",
       "      <td id=\"T_9f869_row4_col0\" class=\"data row4 col0\" >5</td>\n",
       "      <td id=\"T_9f869_row4_col1\" class=\"data row4 col1\" >[77.5, 83.125]</td>\n",
       "      <td id=\"T_9f869_row4_col2\" class=\"data row4 col2\" >80.312500</td>\n",
       "      <td id=\"T_9f869_row4_col3\" class=\"data row4 col3\" >5</td>\n",
       "      <td id=\"T_9f869_row4_col4\" class=\"data row4 col4\" >0.054348</td>\n",
       "      <td id=\"T_9f869_row4_col5\" class=\"data row4 col5\" >88</td>\n",
       "      <td id=\"T_9f869_row4_col6\" class=\"data row4 col6\" >0.956522</td>\n",
       "    </tr>\n",
       "    <tr>\n",
       "      <td id=\"T_9f869_row5_col0\" class=\"data row5 col0\" >6</td>\n",
       "      <td id=\"T_9f869_row5_col1\" class=\"data row5 col1\" >[83.125, 88.75]</td>\n",
       "      <td id=\"T_9f869_row5_col2\" class=\"data row5 col2\" >85.937500</td>\n",
       "      <td id=\"T_9f869_row5_col3\" class=\"data row5 col3\" >1</td>\n",
       "      <td id=\"T_9f869_row5_col4\" class=\"data row5 col4\" >0.010870</td>\n",
       "      <td id=\"T_9f869_row5_col5\" class=\"data row5 col5\" >89</td>\n",
       "      <td id=\"T_9f869_row5_col6\" class=\"data row5 col6\" >0.967391</td>\n",
       "    </tr>\n",
       "    <tr>\n",
       "      <td id=\"T_9f869_row6_col0\" class=\"data row6 col0\" >7</td>\n",
       "      <td id=\"T_9f869_row6_col1\" class=\"data row6 col1\" >[88.75, 94.375]</td>\n",
       "      <td id=\"T_9f869_row6_col2\" class=\"data row6 col2\" >91.562500</td>\n",
       "      <td id=\"T_9f869_row6_col3\" class=\"data row6 col3\" >2</td>\n",
       "      <td id=\"T_9f869_row6_col4\" class=\"data row6 col4\" >0.021739</td>\n",
       "      <td id=\"T_9f869_row6_col5\" class=\"data row6 col5\" >91</td>\n",
       "      <td id=\"T_9f869_row6_col6\" class=\"data row6 col6\" >0.989130</td>\n",
       "    </tr>\n",
       "    <tr>\n",
       "      <td id=\"T_9f869_row7_col0\" class=\"data row7 col0\" >8</td>\n",
       "      <td id=\"T_9f869_row7_col1\" class=\"data row7 col1\" >[94.375, 100.0]</td>\n",
       "      <td id=\"T_9f869_row7_col2\" class=\"data row7 col2\" >97.187500</td>\n",
       "      <td id=\"T_9f869_row7_col3\" class=\"data row7 col3\" >1</td>\n",
       "      <td id=\"T_9f869_row7_col4\" class=\"data row7 col4\" >0.010870</td>\n",
       "      <td id=\"T_9f869_row7_col5\" class=\"data row7 col5\" >92</td>\n",
       "      <td id=\"T_9f869_row7_col6\" class=\"data row7 col6\" >1.000000</td>\n",
       "    </tr>\n",
       "    <tr>\n",
       "      <td id=\"T_9f869_row8_col0\" class=\"data row8 col0\" >$\\Sigma$</td>\n",
       "      <td id=\"T_9f869_row8_col1\" class=\"data row8 col1\" >-</td>\n",
       "      <td id=\"T_9f869_row8_col2\" class=\"data row8 col2\" >-</td>\n",
       "      <td id=\"T_9f869_row8_col3\" class=\"data row8 col3\" >92</td>\n",
       "      <td id=\"T_9f869_row8_col4\" class=\"data row8 col4\" >1.000000</td>\n",
       "      <td id=\"T_9f869_row8_col5\" class=\"data row8 col5\" >-</td>\n",
       "      <td id=\"T_9f869_row8_col6\" class=\"data row8 col6\" >-</td>\n",
       "    </tr>\n",
       "  </tbody>\n",
       "</table>\n"
      ],
      "text/plain": [
       "<pandas.io.formats.style.Styler at 0x15562178>"
      ]
     },
     "execution_count": 46,
     "metadata": {},
     "output_type": "execute_result"
    }
   ],
   "source": [
    "centers = interval_series['$\\widetilde{x_{i}}$']\n",
    "Table = task5(centers, sample_sorted, interval_series, 'x')\n",
    "Table.style.hide_index()"
   ]
  },
  {
   "cell_type": "markdown",
   "id": "8d9ed745",
   "metadata": {},
   "source": [
    "<p>Первая таблица для Rating</p>"
   ]
  },
  {
   "cell_type": "code",
   "execution_count": 47,
   "id": "7b5b8866",
   "metadata": {},
   "outputs": [
    {
     "name": "stderr",
     "output_type": "stream",
     "text": [
      "C:\\Users\\HP\\AppData\\Local\\Temp\\ipykernel_8036\\2335799363.py:3: FutureWarning: this method is deprecated in favour of `Styler.hide(axis='index')`\n",
      "  Table2.style.hide_index()\n"
     ]
    },
    {
     "data": {
      "text/html": [
       "<style type=\"text/css\">\n",
       "</style>\n",
       "<table id=\"T_b36be\">\n",
       "  <thead>\n",
       "    <tr>\n",
       "      <th id=\"T_b36be_level0_col0\" class=\"col_heading level0 col0\" >$i$</th>\n",
       "      <th id=\"T_b36be_level0_col1\" class=\"col_heading level0 col1\" >$(y_{i-1}, y_{i}]$</th>\n",
       "      <th id=\"T_b36be_level0_col2\" class=\"col_heading level0 col2\" >$\\widetilde{y_{i}}$</th>\n",
       "      <th id=\"T_b36be_level0_col3\" class=\"col_heading level0 col3\" >$n_{i}$</th>\n",
       "      <th id=\"T_b36be_level0_col4\" class=\"col_heading level0 col4\" >$p_{i}^*$</th>\n",
       "      <th id=\"T_b36be_level0_col5\" class=\"col_heading level0 col5\" >$n_{i}^{\\Sigma}$</th>\n",
       "      <th id=\"T_b36be_level0_col6\" class=\"col_heading level0 col6\" >$p_{i}^{\\Sigma}$</th>\n",
       "    </tr>\n",
       "  </thead>\n",
       "  <tbody>\n",
       "    <tr>\n",
       "      <td id=\"T_b36be_row0_col0\" class=\"data row0 col0\" >1</td>\n",
       "      <td id=\"T_b36be_row0_col1\" class=\"data row0 col1\" >[2.0, 2.375]</td>\n",
       "      <td id=\"T_b36be_row0_col2\" class=\"data row0 col2\" >2.187500</td>\n",
       "      <td id=\"T_b36be_row0_col3\" class=\"data row0 col3\" >2</td>\n",
       "      <td id=\"T_b36be_row0_col4\" class=\"data row0 col4\" >0.021739</td>\n",
       "      <td id=\"T_b36be_row0_col5\" class=\"data row0 col5\" >2</td>\n",
       "      <td id=\"T_b36be_row0_col6\" class=\"data row0 col6\" >0.021739</td>\n",
       "    </tr>\n",
       "    <tr>\n",
       "      <td id=\"T_b36be_row1_col0\" class=\"data row1 col0\" >2</td>\n",
       "      <td id=\"T_b36be_row1_col1\" class=\"data row1 col1\" >[2.375, 2.75]</td>\n",
       "      <td id=\"T_b36be_row1_col2\" class=\"data row1 col2\" >2.562500</td>\n",
       "      <td id=\"T_b36be_row1_col3\" class=\"data row1 col3\" >17</td>\n",
       "      <td id=\"T_b36be_row1_col4\" class=\"data row1 col4\" >0.184783</td>\n",
       "      <td id=\"T_b36be_row1_col5\" class=\"data row1 col5\" >19</td>\n",
       "      <td id=\"T_b36be_row1_col6\" class=\"data row1 col6\" >0.206522</td>\n",
       "    </tr>\n",
       "    <tr>\n",
       "      <td id=\"T_b36be_row2_col0\" class=\"data row2 col0\" >3</td>\n",
       "      <td id=\"T_b36be_row2_col1\" class=\"data row2 col1\" >[2.75, 3.125]</td>\n",
       "      <td id=\"T_b36be_row2_col2\" class=\"data row2 col2\" >2.937500</td>\n",
       "      <td id=\"T_b36be_row2_col3\" class=\"data row2 col3\" >17</td>\n",
       "      <td id=\"T_b36be_row2_col4\" class=\"data row2 col4\" >0.184783</td>\n",
       "      <td id=\"T_b36be_row2_col5\" class=\"data row2 col5\" >36</td>\n",
       "      <td id=\"T_b36be_row2_col6\" class=\"data row2 col6\" >0.391304</td>\n",
       "    </tr>\n",
       "    <tr>\n",
       "      <td id=\"T_b36be_row3_col0\" class=\"data row3 col0\" >4</td>\n",
       "      <td id=\"T_b36be_row3_col1\" class=\"data row3 col1\" >[3.125, 3.5]</td>\n",
       "      <td id=\"T_b36be_row3_col2\" class=\"data row3 col2\" >3.312500</td>\n",
       "      <td id=\"T_b36be_row3_col3\" class=\"data row3 col3\" >45</td>\n",
       "      <td id=\"T_b36be_row3_col4\" class=\"data row3 col4\" >0.489130</td>\n",
       "      <td id=\"T_b36be_row3_col5\" class=\"data row3 col5\" >81</td>\n",
       "      <td id=\"T_b36be_row3_col6\" class=\"data row3 col6\" >0.880435</td>\n",
       "    </tr>\n",
       "    <tr>\n",
       "      <td id=\"T_b36be_row4_col0\" class=\"data row4 col0\" >5</td>\n",
       "      <td id=\"T_b36be_row4_col1\" class=\"data row4 col1\" >[3.5, 3.875]</td>\n",
       "      <td id=\"T_b36be_row4_col2\" class=\"data row4 col2\" >3.687500</td>\n",
       "      <td id=\"T_b36be_row4_col3\" class=\"data row4 col3\" >6</td>\n",
       "      <td id=\"T_b36be_row4_col4\" class=\"data row4 col4\" >0.065217</td>\n",
       "      <td id=\"T_b36be_row4_col5\" class=\"data row4 col5\" >87</td>\n",
       "      <td id=\"T_b36be_row4_col6\" class=\"data row4 col6\" >0.945652</td>\n",
       "    </tr>\n",
       "    <tr>\n",
       "      <td id=\"T_b36be_row5_col0\" class=\"data row5 col0\" >6</td>\n",
       "      <td id=\"T_b36be_row5_col1\" class=\"data row5 col1\" >[3.875, 4.25]</td>\n",
       "      <td id=\"T_b36be_row5_col2\" class=\"data row5 col2\" >4.062500</td>\n",
       "      <td id=\"T_b36be_row5_col3\" class=\"data row5 col3\" >4</td>\n",
       "      <td id=\"T_b36be_row5_col4\" class=\"data row5 col4\" >0.043478</td>\n",
       "      <td id=\"T_b36be_row5_col5\" class=\"data row5 col5\" >91</td>\n",
       "      <td id=\"T_b36be_row5_col6\" class=\"data row5 col6\" >0.989130</td>\n",
       "    </tr>\n",
       "    <tr>\n",
       "      <td id=\"T_b36be_row6_col0\" class=\"data row6 col0\" >7</td>\n",
       "      <td id=\"T_b36be_row6_col1\" class=\"data row6 col1\" >[4.25, 4.625]</td>\n",
       "      <td id=\"T_b36be_row6_col2\" class=\"data row6 col2\" >4.437500</td>\n",
       "      <td id=\"T_b36be_row6_col3\" class=\"data row6 col3\" >0</td>\n",
       "      <td id=\"T_b36be_row6_col4\" class=\"data row6 col4\" >0.000000</td>\n",
       "      <td id=\"T_b36be_row6_col5\" class=\"data row6 col5\" >91</td>\n",
       "      <td id=\"T_b36be_row6_col6\" class=\"data row6 col6\" >0.989130</td>\n",
       "    </tr>\n",
       "    <tr>\n",
       "      <td id=\"T_b36be_row7_col0\" class=\"data row7 col0\" >8</td>\n",
       "      <td id=\"T_b36be_row7_col1\" class=\"data row7 col1\" >[4.625, 5.0]</td>\n",
       "      <td id=\"T_b36be_row7_col2\" class=\"data row7 col2\" >4.812500</td>\n",
       "      <td id=\"T_b36be_row7_col3\" class=\"data row7 col3\" >1</td>\n",
       "      <td id=\"T_b36be_row7_col4\" class=\"data row7 col4\" >0.010870</td>\n",
       "      <td id=\"T_b36be_row7_col5\" class=\"data row7 col5\" >92</td>\n",
       "      <td id=\"T_b36be_row7_col6\" class=\"data row7 col6\" >1.000000</td>\n",
       "    </tr>\n",
       "    <tr>\n",
       "      <td id=\"T_b36be_row8_col0\" class=\"data row8 col0\" >$\\Sigma$</td>\n",
       "      <td id=\"T_b36be_row8_col1\" class=\"data row8 col1\" >-</td>\n",
       "      <td id=\"T_b36be_row8_col2\" class=\"data row8 col2\" >-</td>\n",
       "      <td id=\"T_b36be_row8_col3\" class=\"data row8 col3\" >92</td>\n",
       "      <td id=\"T_b36be_row8_col4\" class=\"data row8 col4\" >1.000000</td>\n",
       "      <td id=\"T_b36be_row8_col5\" class=\"data row8 col5\" >-</td>\n",
       "      <td id=\"T_b36be_row8_col6\" class=\"data row8 col6\" >-</td>\n",
       "    </tr>\n",
       "  </tbody>\n",
       "</table>\n"
      ],
      "text/plain": [
       "<pandas.io.formats.style.Styler at 0x155623a0>"
      ]
     },
     "execution_count": 47,
     "metadata": {},
     "output_type": "execute_result"
    }
   ],
   "source": [
    "centers2 = interval_series2['$\\widetilde{y_{i}}$']\n",
    "Table2 = task5(centers2, sample_sorted2, interval_series2, 'y')\n",
    "Table2.style.hide_index()"
   ]
  },
  {
   "cell_type": "code",
   "execution_count": 50,
   "id": "32b6efe2",
   "metadata": {},
   "outputs": [],
   "source": [
    "def cond_variant(var, C, h):\n",
    "    return (var - C) / h"
   ]
  },
  {
   "cell_type": "code",
   "execution_count": 51,
   "id": "b5f74e84",
   "metadata": {},
   "outputs": [],
   "source": [
    "def task6(tab_from_task5, Step, var_name):\n",
    "    i = []\n",
    "    x = tab_from_task5[('$\\widetilde{' + var_name + '_{i}}$')].values[0:len(tab_from_task5[('$\\widetilde{' + var_name + '_{i}}$')].values)-1]\n",
    "    n = tab_from_task5['$n_{i}$'].values[0:len(tab_from_task5['$n_{i}$'].values)-1]\n",
    "    u = []\n",
    "    nu = []\n",
    "    nu2 = []\n",
    "    nu3 = []\n",
    "    nu4 = []\n",
    "    n_u_plus_1_4 = []\n",
    "    \n",
    "    C = x.max()\n",
    "    \n",
    "    for j in range(len(x)):\n",
    "        i.append(j + 1)\n",
    "        u_i = cond_variant(x[j], C, Step)\n",
    "        u.append(u_i)\n",
    "        \n",
    "        nu.append(n[j] * u_i)\n",
    "        nu2.append(n[j] * u_i**2)\n",
    "        nu3.append(n[j] * u_i**3)\n",
    "        nu4.append(n[j] * u_i**4)\n",
    "        n_u_plus_1_4.append(n[j] * (u_i + 1)**4)\n",
    "    \n",
    "    table = {'$i$': i, '$' + var_name + '_{i}$': x, '$n_{i}$': n, '$u_{i}$': u, '$n_{i} u_{i}$': nu, '$n_{i} u_{i}^2$': nu2, '$n_{i} u_{i}^3$': nu3, '$n_{i} u_{i}^4$': nu4, '$n_{i} (u_{i} + 1)^4$': n_u_plus_1_4}\n",
    "    table_df = pd.DataFrame(data=table)\n",
    "    \n",
    "    sum_row = {'$i$': ['$\\Sigma$'], '$' + var_name + '_{i}$': ['-'], '$n_{i}$': [n.sum()], '$u_{i}$': ['-'], '$n_{i} u_{i}$': [sum(nu)], '$n_{i} u_{i}^2$': [sum(nu2)], '$n_{i} u_{i}^3$': [sum(nu3)], '$n_{i} u_{i}^4$': [sum(nu4)], '$n_{i} (u_{i} + 1)^4$': [sum(n_u_plus_1_4)]}\n",
    "    sum_tab = pd.DataFrame(data=sum_row)\n",
    "    \n",
    "    res = pd.concat([table_df, sum_tab], axis=0)\n",
    "    \n",
    "    print(\"Контроль корректности вычислений:\")\n",
    "    display(Latex(f'$\\Sigma n_i u_i^4  +  4 \\cdot \\Sigma n_i u_i^3  +  6 \\cdot \\Sigma n_i u_i^2  +  4 \\cdot \\Sigma n_i u_i  +  n = $' + str(sum(nu4) + 4 * sum(nu3) + 6 * sum(nu2) + 4 * sum(nu) + n.sum())))\n",
    "    display(Latex(f'$\\Sigma n_i (u_i + 1)^4 = $' + str(sum(n_u_plus_1_4))))\n",
    "    \n",
    "    if (sum(n_u_plus_1_4) == sum(nu4) + 4 * sum(nu3) + 6 * sum(nu2) + 4 * sum(nu) + n.sum()): print('Проверка пройдена')\n",
    "    else: print('Проверка не пройдена')\n",
    "    \n",
    "    return res, C"
   ]
  },
  {
   "cell_type": "code",
   "execution_count": 52,
   "id": "df9b5405",
   "metadata": {},
   "outputs": [
    {
     "name": "stdout",
     "output_type": "stream",
     "text": [
      "Контроль корректности вычислений:\n"
     ]
    },
    {
     "data": {
      "text/latex": [
       "$\\Sigma n_i u_i^4  +  4 \\cdot \\Sigma n_i u_i^3  +  6 \\cdot \\Sigma n_i u_i^2  +  4 \\cdot \\Sigma n_i u_i  +  n = $26701.0"
      ],
      "text/plain": [
       "<IPython.core.display.Latex object>"
      ]
     },
     "metadata": {},
     "output_type": "display_data"
    },
    {
     "data": {
      "text/latex": [
       "$\\Sigma n_i (u_i + 1)^4 = $26701.0"
      ],
      "text/plain": [
       "<IPython.core.display.Latex object>"
      ]
     },
     "metadata": {},
     "output_type": "display_data"
    },
    {
     "name": "stdout",
     "output_type": "stream",
     "text": [
      "Проверка пройдена\n"
     ]
    }
   ],
   "source": [
    "table_task6, C_val = task6(Table, step, 'x')"
   ]
  },
  {
   "cell_type": "code",
   "execution_count": 53,
   "id": "3d5e7d50",
   "metadata": {},
   "outputs": [
    {
     "name": "stdout",
     "output_type": "stream",
     "text": [
      "Контроль корректности вычислений:\n"
     ]
    },
    {
     "data": {
      "text/latex": [
       "$\\Sigma n_i u_i^4  +  4 \\cdot \\Sigma n_i u_i^3  +  6 \\cdot \\Sigma n_i u_i^2  +  4 \\cdot \\Sigma n_i u_i  +  n = $21315.0"
      ],
      "text/plain": [
       "<IPython.core.display.Latex object>"
      ]
     },
     "metadata": {},
     "output_type": "display_data"
    },
    {
     "data": {
      "text/latex": [
       "$\\Sigma n_i (u_i + 1)^4 = $21315.0"
      ],
      "text/plain": [
       "<IPython.core.display.Latex object>"
      ]
     },
     "metadata": {},
     "output_type": "display_data"
    },
    {
     "name": "stdout",
     "output_type": "stream",
     "text": [
      "Проверка пройдена\n"
     ]
    }
   ],
   "source": [
    "table_task6_2, C_val2 = task6(Table2, step2, 'y')"
   ]
  },
  {
   "cell_type": "code",
   "execution_count": 54,
   "id": "69d13b24",
   "metadata": {},
   "outputs": [],
   "source": [
    "def task7(tab_from_t6, Step):\n",
    "    n = tab_from_t6['$n_{i}$'].values[len(tab_from_t6['$n_{i}$'].values) - 1]\n",
    "    nu_sum = tab_from_t6['$n_{i} u_{i}$'].values[len(tab_from_t6['$n_{i} u_{i}$'].values) - 1]\n",
    "    nu2_sum = tab_from_t6['$n_{i} u_{i}^2$'].values[len(tab_from_t6['$n_{i} u_{i}^2$'].values) - 1]\n",
    "    nu3_sum = tab_from_t6['$n_{i} u_{i}^3$'].values[len(tab_from_t6['$n_{i} u_{i}^3$'].values) - 1]\n",
    "    nu4_sum = tab_from_t6['$n_{i} u_{i}^4$'].values[len(tab_from_t6['$n_{i} u_{i}^4$'].values) - 1]\n",
    "    \n",
    "    cond_emp_moments = [nu_sum / n, nu2_sum / n, nu3_sum / n, nu4_sum / n]\n",
    "    \n",
    "    mu1 = 0\n",
    "    mu2 = (cond_emp_moments[1] - cond_emp_moments[0]**2) * Step**2\n",
    "    mu3 = (cond_emp_moments[2] - 3 * cond_emp_moments[1] * cond_emp_moments[0] + 2 * cond_emp_moments[0]**3) * Step**3\n",
    "    mu4 = (cond_emp_moments[3] - 4 * cond_emp_moments[2] * cond_emp_moments[0] + 6 * cond_emp_moments[1] * cond_emp_moments[0]**2 - 3 * cond_emp_moments[0]**4) * Step**4\n",
    "    \n",
    "    cent_emp_moments = [mu1, mu2, mu3, mu4]\n",
    "    \n",
    "    table = {'$i$': [1, 2, 3, 4], '$\\nu_{i}^*$': cond_emp_moments, '$\\mu_{i}^*$': cent_emp_moments}\n",
    "    res = pd.DataFrame(data=table)\n",
    "    \n",
    "    return res"
   ]
  },
  {
   "cell_type": "code",
   "execution_count": 55,
   "id": "5fe83f9a",
   "metadata": {},
   "outputs": [],
   "source": [
    "table_task7 = task7(table_task6, step)"
   ]
  },
  {
   "cell_type": "code",
   "execution_count": 56,
   "id": "e433c3ad",
   "metadata": {},
   "outputs": [],
   "source": [
    "table_task7_2 = task7(table_task6_2, step2)"
   ]
  },
  {
   "cell_type": "markdown",
   "id": "6983d437",
   "metadata": {},
   "source": [
    "<p>Выборочное среднее и дисперсия (Cocoa Percent)</p>"
   ]
  },
  {
   "cell_type": "code",
   "execution_count": 57,
   "id": "aa8461ec",
   "metadata": {},
   "outputs": [
    {
     "name": "stdout",
     "output_type": "stream",
     "text": [
      "Выборочное среднее:  70.59103260869566\n"
     ]
    }
   ],
   "source": [
    "x_values = interval_series['$\\widetilde{x_{i}}$'].values\n",
    "n_i = interval_series['$n_{i}$'].values\n",
    "p_i = interval_series['$p_{i}^*$']\n",
    "\n",
    "mean_val = 0\n",
    "\n",
    "for i in range(len(x_values)): mean_val += x_values[i] * n_i[i]\n",
    "mean_val /= n_i.sum()\n",
    "\n",
    "print(\"Выборочное среднее: \", mean_val)"
   ]
  },
  {
   "cell_type": "code",
   "execution_count": 58,
   "id": "02440326",
   "metadata": {},
   "outputs": [
    {
     "name": "stdout",
     "output_type": "stream",
     "text": [
      "Выборочная дисперсия:  43.40492637937145\n"
     ]
    }
   ],
   "source": [
    "var_val1 = 0\n",
    "\n",
    "for i in range(len(x_values)): var_val1 += p_i[i] * (x_values[i] - mean_val)**2\n",
    "#var_val1 /= n_i.sum()\n",
    "\n",
    "print(\"Выборочная дисперсия: \", var_val1)"
   ]
  },
  {
   "cell_type": "markdown",
   "id": "c8b61644",
   "metadata": {},
   "source": [
    "<p>Выборочное среднее и дисперсия (Rating)</p>"
   ]
  },
  {
   "cell_type": "code",
   "execution_count": 60,
   "id": "14b6461b",
   "metadata": {},
   "outputs": [
    {
     "name": "stdout",
     "output_type": "stream",
     "text": [
      "Выборочное среднее:  3.1535326086956523\n"
     ]
    }
   ],
   "source": [
    "x_values2 = interval_series2['$\\widetilde{y_{i}}$'].values\n",
    "n_i2 = interval_series2['$n_{i}$'].values\n",
    "p_i2 = interval_series2['$p_{i}^*$']\n",
    "\n",
    "mean_val2 = 0\n",
    "\n",
    "for i in range(len(x_values2)): mean_val2 += x_values2[i] * n_i2[i]\n",
    "mean_val2 /= n_i2.sum()\n",
    "\n",
    "print(\"Выборочное среднее: \", mean_val2)"
   ]
  },
  {
   "cell_type": "code",
   "execution_count": 61,
   "id": "60dd9af7",
   "metadata": {},
   "outputs": [
    {
     "name": "stdout",
     "output_type": "stream",
     "text": [
      "Выборочная дисперсия:  0.1902524663279773\n"
     ]
    }
   ],
   "source": [
    "var_val2 = 0\n",
    "\n",
    "for i in range(len(x_values2)): var_val2 += p_i2[i] * (x_values2[i] - mean_val2)**2\n",
    "#var_val1 /= n_i.sum()\n",
    "\n",
    "print(\"Выборочная дисперсия: \", var_val2)"
   ]
  },
  {
   "cell_type": "markdown",
   "id": "6a6b2727",
   "metadata": {},
   "source": [
    "<p>Исправленные дисперсия и СКО, смещённое СКО (Cocoa Percent)</p>"
   ]
  },
  {
   "cell_type": "code",
   "execution_count": 62,
   "id": "bc010106",
   "metadata": {},
   "outputs": [
    {
     "name": "stdout",
     "output_type": "stream",
     "text": [
      "Исправленная дисперсия:  43.881903592331575\n",
      "Исправленное СКО:  6.62434174785175\n",
      "Смещённое СКО:  6.588241524061747\n"
     ]
    }
   ],
   "source": [
    "n = n_i.sum()\n",
    "corrected_variance = var_val1 * n / (n - 1)\n",
    "corrected_SKO = corrected_variance**0.5\n",
    "\n",
    "print(\"Исправленная дисперсия: \", corrected_variance)\n",
    "print(\"Исправленное СКО: \", corrected_SKO)\n",
    "print(\"Смещённое СКО: \", var_val1**0.5)"
   ]
  },
  {
   "cell_type": "markdown",
   "id": "a376ba98",
   "metadata": {},
   "source": [
    "<p>Исправленные дисперсия и СКО, смещённое СКО (Rating)</p>"
   ]
  },
  {
   "cell_type": "code",
   "execution_count": 63,
   "id": "0cafba90",
   "metadata": {},
   "outputs": [
    {
     "name": "stdout",
     "output_type": "stream",
     "text": [
      "Исправленная дисперсия:  0.19234315277114186\n",
      "Исправленное СКО:  0.43856943893885475\n",
      "Смещённое СКО:  0.4361793969549425\n"
     ]
    }
   ],
   "source": [
    "n2 = n_i2.sum()\n",
    "corrected_variance2 = var_val2 * n2 / (n2 - 1)\n",
    "corrected_SKO2 = corrected_variance2**0.5\n",
    "\n",
    "print(\"Исправленная дисперсия: \", corrected_variance2)\n",
    "print(\"Исправленное СКО: \", corrected_SKO2)\n",
    "print(\"Смещённое СКО: \", var_val2**0.5)"
   ]
  },
  {
   "cell_type": "markdown",
   "id": "b3f3122a",
   "metadata": {},
   "source": [
    "<p>Коэффициенты асимметрии и эксцесса (Cocoa Percent)</p>"
   ]
  },
  {
   "cell_type": "code",
   "execution_count": 64,
   "id": "52c7aa1c",
   "metadata": {},
   "outputs": [
    {
     "name": "stdout",
     "output_type": "stream",
     "text": [
      "Коэффициент асимметрии:  1.2465841428062465\n",
      "Коэффициент эксцесса:  3.6324818156239846\n"
     ]
    }
   ],
   "source": [
    "sample_SKO = var_val1**0.5\n",
    "\n",
    "assym_coef = table_task7['$\\mu_{i}^*$'].values[2] / sample_SKO**3\n",
    "excess_coef = table_task7['$\\mu_{i}^*$'].values[3] / sample_SKO**4 - 3\n",
    "\n",
    "print(\"Коэффициент асимметрии: \", assym_coef)\n",
    "print(\"Коэффициент эксцесса: \", excess_coef)"
   ]
  },
  {
   "cell_type": "markdown",
   "id": "aafb24ea",
   "metadata": {},
   "source": [
    "<p>Коэффициенты асимметрии и эксцесса (Rating)</p>"
   ]
  },
  {
   "cell_type": "code",
   "execution_count": 65,
   "id": "f83b91ef",
   "metadata": {},
   "outputs": [
    {
     "name": "stdout",
     "output_type": "stream",
     "text": [
      "Коэффициент асимметрии:  0.4165015408983647\n",
      "Коэффициент эксцесса:  1.4067922812300644\n"
     ]
    }
   ],
   "source": [
    "sample_SKO2 = var_val2**0.5\n",
    "\n",
    "assym_coef2 = table_task7_2['$\\mu_{i}^*$'].values[2] / sample_SKO2**3\n",
    "excess_coef2 = table_task7_2['$\\mu_{i}^*$'].values[3] / sample_SKO2**4 - 3\n",
    "\n",
    "print(\"Коэффициент асимметрии: \", assym_coef2)\n",
    "print(\"Коэффициент эксцесса: \", excess_coef2)"
   ]
  },
  {
   "cell_type": "markdown",
   "id": "e6be48fc",
   "metadata": {},
   "source": [
    "<p>Коэффициент вариации (Cocoa Percent)</p>"
   ]
  },
  {
   "cell_type": "code",
   "execution_count": 66,
   "id": "6a2af9e4",
   "metadata": {},
   "outputs": [
    {
     "name": "stdout",
     "output_type": "stream",
     "text": [
      "Коэффициент вариации:  9.384112263341136 %\n"
     ]
    }
   ],
   "source": [
    "variation_coef = corrected_SKO / abs(mean_val) * 100\n",
    "print(\"Коэффициент вариации: \", str(variation_coef) + ' %')"
   ]
  },
  {
   "cell_type": "markdown",
   "id": "ac86160c",
   "metadata": {},
   "source": [
    "<p>Коэффициент вариации (Rating)</p>"
   ]
  },
  {
   "cell_type": "code",
   "execution_count": 67,
   "id": "a3646f4f",
   "metadata": {},
   "outputs": [
    {
     "name": "stdout",
     "output_type": "stream",
     "text": [
      "Коэффициент вариации:  13.907242871994704 %\n"
     ]
    }
   ],
   "source": [
    "variation_coef2 = corrected_SKO2 / abs(mean_val2) * 100\n",
    "print(\"Коэффициент вариации: \", str(variation_coef2) + ' %')"
   ]
  },
  {
   "cell_type": "markdown",
   "id": "4c82aaf2",
   "metadata": {},
   "source": [
    "<p>Мода и медиана (Cocoa Percent)</p>"
   ]
  },
  {
   "cell_type": "code",
   "execution_count": 74,
   "id": "b41f88be",
   "metadata": {},
   "outputs": [],
   "source": [
    "def get_modal_interval(interval_ser, var_name):\n",
    "    freqs = interval_ser['$n_{i}$'].values\n",
    "    max_val = freqs.max()\n",
    "    \n",
    "    intervals = interval_ser[('$(' + var_name + '_{i-1}, ' + var_name + '_{i}]$')].values\n",
    "    \n",
    "    for i in range(len(freqs)):\n",
    "        if freqs[i] == max_val:\n",
    "            if i != 0 and i != len(freqs) - 1:\n",
    "                return intervals[i], freqs[i], freqs[i - 1], freqs[i + 1]\n",
    "            elif i == 0:\n",
    "                return intervals[i], freqs[i], 0, freqs[i + 1]\n",
    "            elif i == len(freqs) - 1:\n",
    "                return intervals[i], freqs[i], freqs[i - 1], 0"
   ]
  },
  {
   "cell_type": "code",
   "execution_count": 76,
   "id": "6b8db16c",
   "metadata": {},
   "outputs": [
    {
     "name": "stdout",
     "output_type": "stream",
     "text": [
      "Мода:  69.4\n"
     ]
    }
   ],
   "source": [
    "interv, n_m, n_m_minus_1, n_m_plus_1 = get_modal_interval(interval_series, 'x')\n",
    "\n",
    "Mo = interv[0] + step * (n_m - n_m_minus_1) / ((n_m - n_m_minus_1) + (n_m - n_m_plus_1))\n",
    "print(\"Мода: \", Mo)"
   ]
  },
  {
   "cell_type": "code",
   "execution_count": 77,
   "id": "3ef46aff",
   "metadata": {},
   "outputs": [],
   "source": [
    "def get_med_interval(tab_from_t5, var_name):\n",
    "    n = tab_from_t5['$n_{i}$'].values[len(tab_from_t5['$n_{i}$'].values) - 1]\n",
    "    intervals = tab_from_t5[('$(' + var_name + '_{i-1}, ' + var_name + '_{i}]$')].values\n",
    "    accum_freqs = tab_from_t5['$n_{i}^{\\Sigma}$'].values\n",
    "    accum_rel_freqs = tab_from_t5['$p_{i}^{\\Sigma}$'].values\n",
    "    rel_freqs = tab_from_t5['$p_{i}^*$'].values\n",
    "    \n",
    "    for i in range(len(intervals)):\n",
    "        if accum_freqs[i] >= n / 2:\n",
    "            if i != 0:\n",
    "                return intervals[i], rel_freqs[i], accum_rel_freqs[i - 1]\n",
    "            else:\n",
    "                return intervals[i], rel_freqs[i], 0"
   ]
  },
  {
   "cell_type": "code",
   "execution_count": 78,
   "id": "c717202f",
   "metadata": {},
   "outputs": [
    {
     "name": "stdout",
     "output_type": "stream",
     "text": [
      "Медиана:  69.77941176470588\n"
     ]
    }
   ],
   "source": [
    "Interv, p_m, p_m_minus_1 = get_med_interval(Table, 'x')\n",
    "\n",
    "Me = Interv[0] + (step / p_m) * (0.5 - p_m_minus_1)\n",
    "print(\"Медиана: \", Me)"
   ]
  },
  {
   "cell_type": "markdown",
   "id": "82e85eae",
   "metadata": {},
   "source": [
    "<p>Мода и медиана (Rating)</p>"
   ]
  },
  {
   "cell_type": "code",
   "execution_count": 79,
   "id": "31cba746",
   "metadata": {},
   "outputs": [
    {
     "name": "stdout",
     "output_type": "stream",
     "text": [
      "Мода:  3.281716417910448\n"
     ]
    }
   ],
   "source": [
    "interv2, n_m2, n_m_minus_1_2, n_m_plus_1_2 = get_modal_interval(interval_series2, 'y')\n",
    "\n",
    "Mo2 = interv2[0] + step2 * (n_m2 - n_m_minus_1_2) / ((n_m2 - n_m_minus_1_2) + (n_m2 - n_m_plus_1_2))\n",
    "print(\"Мода: \", Mo2)"
   ]
  },
  {
   "cell_type": "code",
   "execution_count": 80,
   "id": "5a85567d",
   "metadata": {},
   "outputs": [
    {
     "name": "stdout",
     "output_type": "stream",
     "text": [
      "Медиана:  3.2083333333333335\n"
     ]
    }
   ],
   "source": [
    "Interv2, p_m2, p_m_minus_1_2 = get_med_interval(Table2, 'y')\n",
    "\n",
    "Me2 = Interv2[0] + (step2 / p_m2) * (0.5 - p_m_minus_1_2)\n",
    "print(\"Медиана: \", Me2)"
   ]
  },
  {
   "cell_type": "markdown",
   "id": "192279f0",
   "metadata": {},
   "source": [
    "<p>Таблица характеристик (Cocoa Percent)</p>"
   ]
  },
  {
   "cell_type": "code",
   "execution_count": 116,
   "id": "5c9d81bd",
   "metadata": {},
   "outputs": [],
   "source": [
    "def create_param_table(mean, var, sko, cor_var, cor_sko, alpha, epsilone, mo, me, v, variable_name):\n",
    "    table = dict()\n",
    "    if variable_name == 'x':\n",
    "        table = {'Характеристики': ['Значение'],'$\\widetilde{x_{в}}$': mean, '$\\sigma_{x}^2$': var, '$\\sigma_{x}$': sko, '$s_{x}^2$': cor_var, '$s_{x}$': cor_sko, '$a_{s}^*$': alpha, r'$\\varepsilon_{k}^*$': epsilone, '$M_{o}^*$': mo, '$M_{e}^*$': me, '$V^*,\\%$': v}\n",
    "    else:\n",
    "        table = {'Характеристики': ['Значение'],'$\\widetilde{y_{в}}$': mean, '$\\sigma_{y}^2$': var, '$\\sigma_{y}$': sko, '$s_{y}^2$': cor_var, '$s_{y}$': cor_sko, '$a_{s}^*$': alpha, r'$\\varepsilon_{k}^*$': epsilone, '$M_{o}^*$': mo, '$M_{e}^*$': me, '$V^*,\\%$': v}\n",
    "    df = pd.DataFrame(table)\n",
    "    \n",
    "    return df"
   ]
  },
  {
   "cell_type": "code",
   "execution_count": 117,
   "id": "dff1a145",
   "metadata": {},
   "outputs": [
    {
     "name": "stderr",
     "output_type": "stream",
     "text": [
      "C:\\Users\\HP\\AppData\\Local\\Temp\\ipykernel_8036\\2467019329.py:2: FutureWarning: this method is deprecated in favour of `Styler.hide(axis='index')`\n",
      "  param_tab1.style.hide_index()\n"
     ]
    },
    {
     "data": {
      "text/html": [
       "<style type=\"text/css\">\n",
       "</style>\n",
       "<table id=\"T_046d0\">\n",
       "  <thead>\n",
       "    <tr>\n",
       "      <th id=\"T_046d0_level0_col0\" class=\"col_heading level0 col0\" >Характеристики</th>\n",
       "      <th id=\"T_046d0_level0_col1\" class=\"col_heading level0 col1\" >$\\widetilde{x_{в}}$</th>\n",
       "      <th id=\"T_046d0_level0_col2\" class=\"col_heading level0 col2\" >$\\sigma_{x}^2$</th>\n",
       "      <th id=\"T_046d0_level0_col3\" class=\"col_heading level0 col3\" >$\\sigma_{x}$</th>\n",
       "      <th id=\"T_046d0_level0_col4\" class=\"col_heading level0 col4\" >$s_{x}^2$</th>\n",
       "      <th id=\"T_046d0_level0_col5\" class=\"col_heading level0 col5\" >$s_{x}$</th>\n",
       "      <th id=\"T_046d0_level0_col6\" class=\"col_heading level0 col6\" >$a_{s}^*$</th>\n",
       "      <th id=\"T_046d0_level0_col7\" class=\"col_heading level0 col7\" >$\\varepsilon_{k}^*$</th>\n",
       "      <th id=\"T_046d0_level0_col8\" class=\"col_heading level0 col8\" >$M_{o}^*$</th>\n",
       "      <th id=\"T_046d0_level0_col9\" class=\"col_heading level0 col9\" >$M_{e}^*$</th>\n",
       "      <th id=\"T_046d0_level0_col10\" class=\"col_heading level0 col10\" >$V^*,\\%$</th>\n",
       "    </tr>\n",
       "  </thead>\n",
       "  <tbody>\n",
       "    <tr>\n",
       "      <td id=\"T_046d0_row0_col0\" class=\"data row0 col0\" >Значение</td>\n",
       "      <td id=\"T_046d0_row0_col1\" class=\"data row0 col1\" >70.591033</td>\n",
       "      <td id=\"T_046d0_row0_col2\" class=\"data row0 col2\" >43.404926</td>\n",
       "      <td id=\"T_046d0_row0_col3\" class=\"data row0 col3\" >6.588242</td>\n",
       "      <td id=\"T_046d0_row0_col4\" class=\"data row0 col4\" >43.881904</td>\n",
       "      <td id=\"T_046d0_row0_col5\" class=\"data row0 col5\" >6.624342</td>\n",
       "      <td id=\"T_046d0_row0_col6\" class=\"data row0 col6\" >1.246584</td>\n",
       "      <td id=\"T_046d0_row0_col7\" class=\"data row0 col7\" >3.632482</td>\n",
       "      <td id=\"T_046d0_row0_col8\" class=\"data row0 col8\" >69.400000</td>\n",
       "      <td id=\"T_046d0_row0_col9\" class=\"data row0 col9\" >69.779412</td>\n",
       "      <td id=\"T_046d0_row0_col10\" class=\"data row0 col10\" >9.384112</td>\n",
       "    </tr>\n",
       "  </tbody>\n",
       "</table>\n"
      ],
      "text/plain": [
       "<pandas.io.formats.style.Styler at 0x187624a8>"
      ]
     },
     "execution_count": 117,
     "metadata": {},
     "output_type": "execute_result"
    }
   ],
   "source": [
    "param_tab1 = create_param_table(mean_val, var_val1, var_val1**0.5, corrected_variance, corrected_SKO, assym_coef, excess_coef, Mo, Me, variation_coef, 'x')\n",
    "param_tab1.style.hide_index()"
   ]
  },
  {
   "cell_type": "markdown",
   "id": "ca05a78e",
   "metadata": {},
   "source": [
    "<p>Вывод по выборке \"Cocoa Percent\":</p>\n",
    "<p>Исправленные дисперсия и СКО больше смещённых значений</p>\n",
    "<p>Так как коэффициент асимметрии больше нуля, то максимум графика сдвинут влево относительно максимума графика плотности нормального распределения.</p>\n",
    "<p>Так как коэффициент эксцесса больше нуля, то график вытянут вверх относительно графика плотности нормального распределения.</p>\n",
    "<p>Коэффициент вариации меньше 33%, значит колеблемость умеренная</p>"
   ]
  },
  {
   "cell_type": "markdown",
   "id": "eaba4fef",
   "metadata": {},
   "source": [
    "<p>Таблица характеристик (Rating)</p>"
   ]
  },
  {
   "cell_type": "code",
   "execution_count": 118,
   "id": "9d318cf9",
   "metadata": {},
   "outputs": [
    {
     "name": "stderr",
     "output_type": "stream",
     "text": [
      "C:\\Users\\HP\\AppData\\Local\\Temp\\ipykernel_8036\\2257368035.py:2: FutureWarning: this method is deprecated in favour of `Styler.hide(axis='index')`\n",
      "  param_tab2.style.hide_index()\n"
     ]
    },
    {
     "data": {
      "text/html": [
       "<style type=\"text/css\">\n",
       "</style>\n",
       "<table id=\"T_6b00e\">\n",
       "  <thead>\n",
       "    <tr>\n",
       "      <th id=\"T_6b00e_level0_col0\" class=\"col_heading level0 col0\" >Характеристики</th>\n",
       "      <th id=\"T_6b00e_level0_col1\" class=\"col_heading level0 col1\" >$\\widetilde{y_{в}}$</th>\n",
       "      <th id=\"T_6b00e_level0_col2\" class=\"col_heading level0 col2\" >$\\sigma_{y}^2$</th>\n",
       "      <th id=\"T_6b00e_level0_col3\" class=\"col_heading level0 col3\" >$\\sigma_{y}$</th>\n",
       "      <th id=\"T_6b00e_level0_col4\" class=\"col_heading level0 col4\" >$s_{y}^2$</th>\n",
       "      <th id=\"T_6b00e_level0_col5\" class=\"col_heading level0 col5\" >$s_{y}$</th>\n",
       "      <th id=\"T_6b00e_level0_col6\" class=\"col_heading level0 col6\" >$a_{s}^*$</th>\n",
       "      <th id=\"T_6b00e_level0_col7\" class=\"col_heading level0 col7\" >$\\varepsilon_{k}^*$</th>\n",
       "      <th id=\"T_6b00e_level0_col8\" class=\"col_heading level0 col8\" >$M_{o}^*$</th>\n",
       "      <th id=\"T_6b00e_level0_col9\" class=\"col_heading level0 col9\" >$M_{e}^*$</th>\n",
       "      <th id=\"T_6b00e_level0_col10\" class=\"col_heading level0 col10\" >$V^*,\\%$</th>\n",
       "    </tr>\n",
       "  </thead>\n",
       "  <tbody>\n",
       "    <tr>\n",
       "      <td id=\"T_6b00e_row0_col0\" class=\"data row0 col0\" >Значение</td>\n",
       "      <td id=\"T_6b00e_row0_col1\" class=\"data row0 col1\" >3.153533</td>\n",
       "      <td id=\"T_6b00e_row0_col2\" class=\"data row0 col2\" >0.190252</td>\n",
       "      <td id=\"T_6b00e_row0_col3\" class=\"data row0 col3\" >0.436179</td>\n",
       "      <td id=\"T_6b00e_row0_col4\" class=\"data row0 col4\" >0.192343</td>\n",
       "      <td id=\"T_6b00e_row0_col5\" class=\"data row0 col5\" >0.438569</td>\n",
       "      <td id=\"T_6b00e_row0_col6\" class=\"data row0 col6\" >0.416502</td>\n",
       "      <td id=\"T_6b00e_row0_col7\" class=\"data row0 col7\" >1.406792</td>\n",
       "      <td id=\"T_6b00e_row0_col8\" class=\"data row0 col8\" >3.281716</td>\n",
       "      <td id=\"T_6b00e_row0_col9\" class=\"data row0 col9\" >3.208333</td>\n",
       "      <td id=\"T_6b00e_row0_col10\" class=\"data row0 col10\" >13.907243</td>\n",
       "    </tr>\n",
       "  </tbody>\n",
       "</table>\n"
      ],
      "text/plain": [
       "<pandas.io.formats.style.Styler at 0x18762370>"
      ]
     },
     "execution_count": 118,
     "metadata": {},
     "output_type": "execute_result"
    }
   ],
   "source": [
    "param_tab2 = create_param_table(mean_val2, var_val2, var_val2**0.5, corrected_variance2, corrected_SKO2, assym_coef2, excess_coef2, Mo2, Me2, variation_coef2, 'y')\n",
    "param_tab2.style.hide_index()"
   ]
  },
  {
   "cell_type": "markdown",
   "id": "ee247fd0",
   "metadata": {},
   "source": [
    "<p>Вывод по выборке \"Rating\":</p>\n",
    "<p>Исправленные дисперсия и СКО больше смещённых значений</p>\n",
    "<p>Так как коэффициент асимметрии больше нуля, то максимум графика сдвинут влево относительно максимума графика плотности нормального распределения.</p>\n",
    "<p>Так как коэффициент эксцесса больше нуля, то график вытянут вверх относительно графика плотности нормального распределения.</p>\n",
    "<p>Коэффициент вариации меньше 33%, значит колеблемость умеренная</p>"
   ]
  },
  {
   "cell_type": "markdown",
   "id": "f515c1e4",
   "metadata": {},
   "source": [
    "<h3>Задание 2</h3>"
   ]
  },
  {
   "cell_type": "code",
   "execution_count": 84,
   "id": "dd25a68b",
   "metadata": {},
   "outputs": [],
   "source": [
    "import copy"
   ]
  },
  {
   "cell_type": "code",
   "execution_count": 85,
   "id": "1fa1545f",
   "metadata": {},
   "outputs": [],
   "source": [
    "def get_column(matrix, i):\n",
    "    return [row[i] for row in matrix]"
   ]
  },
  {
   "cell_type": "code",
   "execution_count": 86,
   "id": "ff55a637",
   "metadata": {},
   "outputs": [],
   "source": [
    "def create_2D_inter_ser(sam1, sam2, int_ser1, int_ser2):\n",
    "    intervals1 = int_ser1['$(x_{i-1}, x_{i}]$'].values\n",
    "    intervals2 = int_ser2['$(y_{i-1}, y_{i}]$'].values\n",
    "    \n",
    "    N_uv = []\n",
    "    for i in range(len(intervals1)):\n",
    "        n_uv = []\n",
    "        for j in range(len(intervals2)):\n",
    "            n = 0\n",
    "            for k in range(len(sam1)):\n",
    "                if i == 0 and j == 0:\n",
    "                    if sam1[k] >= intervals1[i][0] and sam1[k] <= intervals1[i][1] and sam2[k] >= intervals2[j][0] and sam2[k] <= intervals2[j][1]: n += 1\n",
    "                if i == 0 and j != 0:\n",
    "                    if sam1[k] >= intervals1[i][0] and sam1[k] <= intervals1[i][1] and sam2[k] > intervals2[j][0] and sam2[k] <= intervals2[j][1]: n += 1\n",
    "                if i != 0 and j == 0:\n",
    "                    if sam1[k] > intervals1[i][0] and sam1[k] <= intervals1[i][1] and sam2[k] >= intervals2[j][0] and sam2[k] <= intervals2[j][1]: n += 1\n",
    "                if i != 0 and j != 0:\n",
    "                    if sam1[k] > intervals1[i][0] and sam1[k] <= intervals1[i][1] and sam2[k] > intervals2[j][0] and sam2[k] <= intervals2[j][1]: n += 1\n",
    "            n_uv.append(n)\n",
    "        N_uv.append(n_uv)\n",
    "    \n",
    "    N_x = []\n",
    "    for i in range(len(N_uv)): N_x.append(sum(N_uv[i]))\n",
    "        \n",
    "    N_y = []\n",
    "    for j in range(len(intervals2)):\n",
    "        col = get_column(N_uv, j)\n",
    "        N_y.append(sum(col))\n",
    "    \n",
    "    print(\"Проверка корректности вычислений:\")\n",
    "    display(Latex(r'$\\Sigma n_{x_{i}} = $' + str(sum(N_x))))\n",
    "    display(Latex(r'$\\Sigma n_{y_{i}} = $' + str(sum(N_y))))\n",
    "    if sum(N_x) == sum(N_y): print(\"Проверка пройдена\")\n",
    "    else: print(\"Проверка не пройдена\")\n",
    "    \n",
    "    res_N_uv = copy.deepcopy(N_uv)\n",
    "    res_N_x = copy.deepcopy(N_x)\n",
    "    res_N_y = copy.deepcopy(N_y)\n",
    "    \n",
    "    n = sum(N_y)\n",
    "    N_y.append(n)\n",
    "    for i in range(len(N_uv)):\n",
    "        N_uv[i].append(N_x[i])\n",
    "    \n",
    "    Y_col = {'Y': [' ']}\n",
    "    y_col_rest = []\n",
    "    for i in range(len(intervals2)):\n",
    "        y_interval = \"(\" + str(intervals2[i][0]) + \", \" + str(intervals2[i][1]) + \"]\"\n",
    "        y_col_rest.append(y_interval)\n",
    "    y_col_rest.append(\"$n_{x}$\")\n",
    "    \n",
    "    Y_col['Y'] += y_col_rest\n",
    "    df = pd.DataFrame(Y_col)\n",
    "    \n",
    "    for i in range(len(N_uv)):\n",
    "        x_interval = [\"(\" + str(intervals1[i][0]) + \", \" + str(intervals1[i][1]) + \"]\"]\n",
    "        new_col = x_interval + N_uv[i]\n",
    "        if i != len(N_uv) // 2:\n",
    "            df.insert(i + 1, ' ', new_col, allow_duplicates=True)\n",
    "        else:\n",
    "            df.insert(i + 1, 'X', new_col, allow_duplicates=True)\n",
    "    \n",
    "    last_col = [' '] + N_y\n",
    "    df.insert(len(N_uv) + 1, '$n_{y}$', last_col, allow_duplicates=True)\n",
    "    \n",
    "    return df, res_N_uv, res_N_x, res_N_y"
   ]
  },
  {
   "cell_type": "code",
   "execution_count": 87,
   "id": "690656a5",
   "metadata": {},
   "outputs": [
    {
     "name": "stdout",
     "output_type": "stream",
     "text": [
      "Проверка корректности вычислений:\n"
     ]
    },
    {
     "data": {
      "text/latex": [
       "$\\Sigma n_{x_{i}} = $92"
      ],
      "text/plain": [
       "<IPython.core.display.Latex object>"
      ]
     },
     "metadata": {},
     "output_type": "display_data"
    },
    {
     "data": {
      "text/latex": [
       "$\\Sigma n_{y_{i}} = $92"
      ],
      "text/plain": [
       "<IPython.core.display.Latex object>"
      ]
     },
     "metadata": {},
     "output_type": "display_data"
    },
    {
     "name": "stdout",
     "output_type": "stream",
     "text": [
      "Проверка пройдена\n"
     ]
    },
    {
     "name": "stderr",
     "output_type": "stream",
     "text": [
      "C:\\Users\\HP\\AppData\\Local\\Temp\\ipykernel_8036\\3980709210.py:2: FutureWarning: this method is deprecated in favour of `Styler.hide(axis='index')`\n",
      "  inter_ser_2D.style.hide_index()\n"
     ]
    },
    {
     "data": {
      "text/html": [
       "<style type=\"text/css\">\n",
       "</style>\n",
       "<table id=\"T_2661a\">\n",
       "  <thead>\n",
       "    <tr>\n",
       "      <th id=\"T_2661a_level0_col0\" class=\"col_heading level0 col0\" >Y</th>\n",
       "      <th id=\"T_2661a_level0_col1\" class=\"col_heading level0 col1\" > </th>\n",
       "      <th id=\"T_2661a_level0_col2\" class=\"col_heading level0 col2\" > </th>\n",
       "      <th id=\"T_2661a_level0_col3\" class=\"col_heading level0 col3\" > </th>\n",
       "      <th id=\"T_2661a_level0_col4\" class=\"col_heading level0 col4\" > </th>\n",
       "      <th id=\"T_2661a_level0_col5\" class=\"col_heading level0 col5\" >X</th>\n",
       "      <th id=\"T_2661a_level0_col6\" class=\"col_heading level0 col6\" > </th>\n",
       "      <th id=\"T_2661a_level0_col7\" class=\"col_heading level0 col7\" > </th>\n",
       "      <th id=\"T_2661a_level0_col8\" class=\"col_heading level0 col8\" > </th>\n",
       "      <th id=\"T_2661a_level0_col9\" class=\"col_heading level0 col9\" >$n_{y}$</th>\n",
       "    </tr>\n",
       "  </thead>\n",
       "  <tbody>\n",
       "    <tr>\n",
       "      <td id=\"T_2661a_row0_col0\" class=\"data row0 col0\" > </td>\n",
       "      <td id=\"T_2661a_row0_col1\" class=\"data row0 col1\" >(55.0, 60.625]</td>\n",
       "      <td id=\"T_2661a_row0_col2\" class=\"data row0 col2\" >(60.625, 66.25]</td>\n",
       "      <td id=\"T_2661a_row0_col3\" class=\"data row0 col3\" >(66.25, 71.875]</td>\n",
       "      <td id=\"T_2661a_row0_col4\" class=\"data row0 col4\" >(71.875, 77.5]</td>\n",
       "      <td id=\"T_2661a_row0_col5\" class=\"data row0 col5\" >(77.5, 83.125]</td>\n",
       "      <td id=\"T_2661a_row0_col6\" class=\"data row0 col6\" >(83.125, 88.75]</td>\n",
       "      <td id=\"T_2661a_row0_col7\" class=\"data row0 col7\" >(88.75, 94.375]</td>\n",
       "      <td id=\"T_2661a_row0_col8\" class=\"data row0 col8\" >(94.375, 100.0]</td>\n",
       "      <td id=\"T_2661a_row0_col9\" class=\"data row0 col9\" > </td>\n",
       "    </tr>\n",
       "    <tr>\n",
       "      <td id=\"T_2661a_row1_col0\" class=\"data row1 col0\" >(2.0, 2.375]</td>\n",
       "      <td id=\"T_2661a_row1_col1\" class=\"data row1 col1\" >0</td>\n",
       "      <td id=\"T_2661a_row1_col2\" class=\"data row1 col2\" >0</td>\n",
       "      <td id=\"T_2661a_row1_col3\" class=\"data row1 col3\" >0</td>\n",
       "      <td id=\"T_2661a_row1_col4\" class=\"data row1 col4\" >0</td>\n",
       "      <td id=\"T_2661a_row1_col5\" class=\"data row1 col5\" >0</td>\n",
       "      <td id=\"T_2661a_row1_col6\" class=\"data row1 col6\" >0</td>\n",
       "      <td id=\"T_2661a_row1_col7\" class=\"data row1 col7\" >1</td>\n",
       "      <td id=\"T_2661a_row1_col8\" class=\"data row1 col8\" >1</td>\n",
       "      <td id=\"T_2661a_row1_col9\" class=\"data row1 col9\" >2</td>\n",
       "    </tr>\n",
       "    <tr>\n",
       "      <td id=\"T_2661a_row2_col0\" class=\"data row2 col0\" >(2.375, 2.75]</td>\n",
       "      <td id=\"T_2661a_row2_col1\" class=\"data row2 col1\" >2</td>\n",
       "      <td id=\"T_2661a_row2_col2\" class=\"data row2 col2\" >0</td>\n",
       "      <td id=\"T_2661a_row2_col3\" class=\"data row2 col3\" >7</td>\n",
       "      <td id=\"T_2661a_row2_col4\" class=\"data row2 col4\" >4</td>\n",
       "      <td id=\"T_2661a_row2_col5\" class=\"data row2 col5\" >2</td>\n",
       "      <td id=\"T_2661a_row2_col6\" class=\"data row2 col6\" >1</td>\n",
       "      <td id=\"T_2661a_row2_col7\" class=\"data row2 col7\" >1</td>\n",
       "      <td id=\"T_2661a_row2_col8\" class=\"data row2 col8\" >0</td>\n",
       "      <td id=\"T_2661a_row2_col9\" class=\"data row2 col9\" >17</td>\n",
       "    </tr>\n",
       "    <tr>\n",
       "      <td id=\"T_2661a_row3_col0\" class=\"data row3 col0\" >(2.75, 3.125]</td>\n",
       "      <td id=\"T_2661a_row3_col1\" class=\"data row3 col1\" >1</td>\n",
       "      <td id=\"T_2661a_row3_col2\" class=\"data row3 col2\" >1</td>\n",
       "      <td id=\"T_2661a_row3_col3\" class=\"data row3 col3\" >6</td>\n",
       "      <td id=\"T_2661a_row3_col4\" class=\"data row3 col4\" >7</td>\n",
       "      <td id=\"T_2661a_row3_col5\" class=\"data row3 col5\" >2</td>\n",
       "      <td id=\"T_2661a_row3_col6\" class=\"data row3 col6\" >0</td>\n",
       "      <td id=\"T_2661a_row3_col7\" class=\"data row3 col7\" >0</td>\n",
       "      <td id=\"T_2661a_row3_col8\" class=\"data row3 col8\" >0</td>\n",
       "      <td id=\"T_2661a_row3_col9\" class=\"data row3 col9\" >17</td>\n",
       "    </tr>\n",
       "    <tr>\n",
       "      <td id=\"T_2661a_row4_col0\" class=\"data row4 col0\" >(3.125, 3.5]</td>\n",
       "      <td id=\"T_2661a_row4_col1\" class=\"data row4 col1\" >2</td>\n",
       "      <td id=\"T_2661a_row4_col2\" class=\"data row4 col2\" >7</td>\n",
       "      <td id=\"T_2661a_row4_col3\" class=\"data row4 col3\" >30</td>\n",
       "      <td id=\"T_2661a_row4_col4\" class=\"data row4 col4\" >5</td>\n",
       "      <td id=\"T_2661a_row4_col5\" class=\"data row4 col5\" >1</td>\n",
       "      <td id=\"T_2661a_row4_col6\" class=\"data row4 col6\" >0</td>\n",
       "      <td id=\"T_2661a_row4_col7\" class=\"data row4 col7\" >0</td>\n",
       "      <td id=\"T_2661a_row4_col8\" class=\"data row4 col8\" >0</td>\n",
       "      <td id=\"T_2661a_row4_col9\" class=\"data row4 col9\" >45</td>\n",
       "    </tr>\n",
       "    <tr>\n",
       "      <td id=\"T_2661a_row5_col0\" class=\"data row5 col0\" >(3.5, 3.875]</td>\n",
       "      <td id=\"T_2661a_row5_col1\" class=\"data row5 col1\" >0</td>\n",
       "      <td id=\"T_2661a_row5_col2\" class=\"data row5 col2\" >1</td>\n",
       "      <td id=\"T_2661a_row5_col3\" class=\"data row5 col3\" >4</td>\n",
       "      <td id=\"T_2661a_row5_col4\" class=\"data row5 col4\" >1</td>\n",
       "      <td id=\"T_2661a_row5_col5\" class=\"data row5 col5\" >0</td>\n",
       "      <td id=\"T_2661a_row5_col6\" class=\"data row5 col6\" >0</td>\n",
       "      <td id=\"T_2661a_row5_col7\" class=\"data row5 col7\" >0</td>\n",
       "      <td id=\"T_2661a_row5_col8\" class=\"data row5 col8\" >0</td>\n",
       "      <td id=\"T_2661a_row5_col9\" class=\"data row5 col9\" >6</td>\n",
       "    </tr>\n",
       "    <tr>\n",
       "      <td id=\"T_2661a_row6_col0\" class=\"data row6 col0\" >(3.875, 4.25]</td>\n",
       "      <td id=\"T_2661a_row6_col1\" class=\"data row6 col1\" >0</td>\n",
       "      <td id=\"T_2661a_row6_col2\" class=\"data row6 col2\" >0</td>\n",
       "      <td id=\"T_2661a_row6_col3\" class=\"data row6 col3\" >3</td>\n",
       "      <td id=\"T_2661a_row6_col4\" class=\"data row6 col4\" >1</td>\n",
       "      <td id=\"T_2661a_row6_col5\" class=\"data row6 col5\" >0</td>\n",
       "      <td id=\"T_2661a_row6_col6\" class=\"data row6 col6\" >0</td>\n",
       "      <td id=\"T_2661a_row6_col7\" class=\"data row6 col7\" >0</td>\n",
       "      <td id=\"T_2661a_row6_col8\" class=\"data row6 col8\" >0</td>\n",
       "      <td id=\"T_2661a_row6_col9\" class=\"data row6 col9\" >4</td>\n",
       "    </tr>\n",
       "    <tr>\n",
       "      <td id=\"T_2661a_row7_col0\" class=\"data row7 col0\" >(4.25, 4.625]</td>\n",
       "      <td id=\"T_2661a_row7_col1\" class=\"data row7 col1\" >0</td>\n",
       "      <td id=\"T_2661a_row7_col2\" class=\"data row7 col2\" >0</td>\n",
       "      <td id=\"T_2661a_row7_col3\" class=\"data row7 col3\" >0</td>\n",
       "      <td id=\"T_2661a_row7_col4\" class=\"data row7 col4\" >0</td>\n",
       "      <td id=\"T_2661a_row7_col5\" class=\"data row7 col5\" >0</td>\n",
       "      <td id=\"T_2661a_row7_col6\" class=\"data row7 col6\" >0</td>\n",
       "      <td id=\"T_2661a_row7_col7\" class=\"data row7 col7\" >0</td>\n",
       "      <td id=\"T_2661a_row7_col8\" class=\"data row7 col8\" >0</td>\n",
       "      <td id=\"T_2661a_row7_col9\" class=\"data row7 col9\" >0</td>\n",
       "    </tr>\n",
       "    <tr>\n",
       "      <td id=\"T_2661a_row8_col0\" class=\"data row8 col0\" >(4.625, 5.0]</td>\n",
       "      <td id=\"T_2661a_row8_col1\" class=\"data row8 col1\" >0</td>\n",
       "      <td id=\"T_2661a_row8_col2\" class=\"data row8 col2\" >0</td>\n",
       "      <td id=\"T_2661a_row8_col3\" class=\"data row8 col3\" >1</td>\n",
       "      <td id=\"T_2661a_row8_col4\" class=\"data row8 col4\" >0</td>\n",
       "      <td id=\"T_2661a_row8_col5\" class=\"data row8 col5\" >0</td>\n",
       "      <td id=\"T_2661a_row8_col6\" class=\"data row8 col6\" >0</td>\n",
       "      <td id=\"T_2661a_row8_col7\" class=\"data row8 col7\" >0</td>\n",
       "      <td id=\"T_2661a_row8_col8\" class=\"data row8 col8\" >0</td>\n",
       "      <td id=\"T_2661a_row8_col9\" class=\"data row8 col9\" >1</td>\n",
       "    </tr>\n",
       "    <tr>\n",
       "      <td id=\"T_2661a_row9_col0\" class=\"data row9 col0\" >$n_{x}$</td>\n",
       "      <td id=\"T_2661a_row9_col1\" class=\"data row9 col1\" >5</td>\n",
       "      <td id=\"T_2661a_row9_col2\" class=\"data row9 col2\" >9</td>\n",
       "      <td id=\"T_2661a_row9_col3\" class=\"data row9 col3\" >51</td>\n",
       "      <td id=\"T_2661a_row9_col4\" class=\"data row9 col4\" >18</td>\n",
       "      <td id=\"T_2661a_row9_col5\" class=\"data row9 col5\" >5</td>\n",
       "      <td id=\"T_2661a_row9_col6\" class=\"data row9 col6\" >1</td>\n",
       "      <td id=\"T_2661a_row9_col7\" class=\"data row9 col7\" >2</td>\n",
       "      <td id=\"T_2661a_row9_col8\" class=\"data row9 col8\" >1</td>\n",
       "      <td id=\"T_2661a_row9_col9\" class=\"data row9 col9\" >92</td>\n",
       "    </tr>\n",
       "  </tbody>\n",
       "</table>\n"
      ],
      "text/plain": [
       "<pandas.io.formats.style.Styler at 0x1756af28>"
      ]
     },
     "execution_count": 87,
     "metadata": {},
     "output_type": "execute_result"
    }
   ],
   "source": [
    "inter_ser_2D, n_uv, n_x, n_y = create_2D_inter_ser(sample, sample2, interval_series, interval_series2)\n",
    "inter_ser_2D.style.hide_index()"
   ]
  },
  {
   "cell_type": "markdown",
   "id": "74020a36",
   "metadata": {},
   "source": [
    "<h3>Задание 3</h3>"
   ]
  },
  {
   "cell_type": "code",
   "execution_count": 96,
   "id": "967cc1ae",
   "metadata": {},
   "outputs": [],
   "source": [
    "def create_corr_tab(N_uv, N_x, N_y, step_x, step_y, inter_ser1, inter_ser2):\n",
    "    index_max_x = max(range(len(N_x)), key=N_x.__getitem__)\n",
    "    index_max_y = max(range(len(N_y)), key=N_y.__getitem__)\n",
    "    \n",
    "    centers_x = inter_ser1['$\\widetilde{x_{i}}$'].values\n",
    "    centers_y = inter_ser2['$\\widetilde{y_{i}}$'].values\n",
    "    \n",
    "    C_x = centers_x[index_max_x]\n",
    "    C_y = centers_y[index_max_y]\n",
    "    \n",
    "    u = []\n",
    "    v = []\n",
    "    \n",
    "    for i in range(len(centers_x)):\n",
    "        u_i = cond_variant(centers_x[i], C_x, step_x)\n",
    "        v_j = cond_variant(centers_y[i], C_y, step_y)\n",
    "        u.append(u_i)\n",
    "        v.append(v_j)\n",
    "    \n",
    "    U = []\n",
    "    V = []\n",
    "    \n",
    "    for i in range(len(N_uv)):\n",
    "        V_j = 0\n",
    "        for j in range(len(N_uv[i])):\n",
    "            V_j += N_uv[i][j] * v[j]\n",
    "        V.append(V_j)\n",
    "    \n",
    "    for i in range(len(N_y)):\n",
    "        U_i = 0\n",
    "        col = get_column(N_uv, i)\n",
    "        for j in range(len(col)):\n",
    "            U_i += col[j] * u[j]\n",
    "        U.append(U_i)\n",
    "    \n",
    "    vU = []\n",
    "    for i in range(len(v)): vU.append(v[i] * U[i])\n",
    "    \n",
    "    uV = []\n",
    "    for i in range(len(u)): uV.append(u[i] * V[i])\n",
    "        \n",
    "    res_u = copy.deepcopy(u)\n",
    "    res_v = copy.deepcopy(v)\n",
    "    res_vU = copy.deepcopy(vU)\n",
    "    res_uV = copy.deepcopy(uV)\n",
    "    \n",
    "    print(\"Проверка:\")\n",
    "    display(Latex(r'$\\Sigma_{u} uV = $' + str(sum(uV))))\n",
    "    display(Latex(r'$\\Sigma_{v} vU = $' + str(sum(vU))))\n",
    "    if sum(uV) == sum(vU): print(\"Проверка пройдена\")\n",
    "    else: print(\"Проверка не пройдена\")\n",
    "    \n",
    "    v_col = {'$v$': [' ']}\n",
    "    v_col_rest = []\n",
    "    for i in range(len(v)):\n",
    "        v_col_rest.append(str(v[i]))\n",
    "    v_col_rest.append('$V = \\Sigma n_{uv} v$')\n",
    "    v_col_rest.append('$uV$')\n",
    "    v_col['$v$'] += v_col_rest\n",
    "    \n",
    "    df = pd.DataFrame(v_col)\n",
    "    \n",
    "    for i in range(len(u)):\n",
    "        new_col = [str(u[i])]\n",
    "        new_col += N_uv[i]\n",
    "        new_col += [V[i]]\n",
    "        new_col += [uV[i]]\n",
    "        if i != len(u) // 2:\n",
    "            df.insert(i + 1, ' ', new_col, allow_duplicates=True)\n",
    "        else:\n",
    "            df.insert(i + 1, '$u$', new_col, allow_duplicates=True)\n",
    "        \n",
    "    U_col = [' '] + U + ['-', r'$\\Sigma_{u} uV =$']\n",
    "    df.insert(len(u) + 1, '$U = \\Sigma n_{uv} u$', U_col, allow_duplicates=True)\n",
    "    \n",
    "    vU_col = [' '] + vU + [r'$\\Sigma_{v} vU =$', sum(vU)]\n",
    "    df.insert(len(u) + 2, '$vU$', vU_col, allow_duplicates=True)\n",
    "    \n",
    "    return df, res_u, res_v, res_vU, res_uV"
   ]
  },
  {
   "cell_type": "code",
   "execution_count": 97,
   "id": "bcf1b8b2",
   "metadata": {},
   "outputs": [
    {
     "name": "stdout",
     "output_type": "stream",
     "text": [
      "Проверка:\n"
     ]
    },
    {
     "data": {
      "text/latex": [
       "$\\Sigma_{u} uV = $-55.0"
      ],
      "text/plain": [
       "<IPython.core.display.Latex object>"
      ]
     },
     "metadata": {},
     "output_type": "display_data"
    },
    {
     "data": {
      "text/latex": [
       "$\\Sigma_{v} vU = $-55.0"
      ],
      "text/plain": [
       "<IPython.core.display.Latex object>"
      ]
     },
     "metadata": {},
     "output_type": "display_data"
    },
    {
     "name": "stdout",
     "output_type": "stream",
     "text": [
      "Проверка пройдена\n"
     ]
    },
    {
     "name": "stderr",
     "output_type": "stream",
     "text": [
      "C:\\Users\\HP\\AppData\\Local\\Temp\\ipykernel_8036\\679150716.py:2: FutureWarning: this method is deprecated in favour of `Styler.hide(axis='index')`\n",
      "  corr_tab.style.hide_index()\n"
     ]
    },
    {
     "data": {
      "text/html": [
       "<style type=\"text/css\">\n",
       "</style>\n",
       "<table id=\"T_46e60\">\n",
       "  <thead>\n",
       "    <tr>\n",
       "      <th id=\"T_46e60_level0_col0\" class=\"col_heading level0 col0\" >$v$</th>\n",
       "      <th id=\"T_46e60_level0_col1\" class=\"col_heading level0 col1\" > </th>\n",
       "      <th id=\"T_46e60_level0_col2\" class=\"col_heading level0 col2\" > </th>\n",
       "      <th id=\"T_46e60_level0_col3\" class=\"col_heading level0 col3\" > </th>\n",
       "      <th id=\"T_46e60_level0_col4\" class=\"col_heading level0 col4\" > </th>\n",
       "      <th id=\"T_46e60_level0_col5\" class=\"col_heading level0 col5\" >$u$</th>\n",
       "      <th id=\"T_46e60_level0_col6\" class=\"col_heading level0 col6\" > </th>\n",
       "      <th id=\"T_46e60_level0_col7\" class=\"col_heading level0 col7\" > </th>\n",
       "      <th id=\"T_46e60_level0_col8\" class=\"col_heading level0 col8\" > </th>\n",
       "      <th id=\"T_46e60_level0_col9\" class=\"col_heading level0 col9\" >$U = \\Sigma n_{uv} u$</th>\n",
       "      <th id=\"T_46e60_level0_col10\" class=\"col_heading level0 col10\" >$vU$</th>\n",
       "    </tr>\n",
       "  </thead>\n",
       "  <tbody>\n",
       "    <tr>\n",
       "      <td id=\"T_46e60_row0_col0\" class=\"data row0 col0\" > </td>\n",
       "      <td id=\"T_46e60_row0_col1\" class=\"data row0 col1\" >-2.0</td>\n",
       "      <td id=\"T_46e60_row0_col2\" class=\"data row0 col2\" >-1.0</td>\n",
       "      <td id=\"T_46e60_row0_col3\" class=\"data row0 col3\" >0.0</td>\n",
       "      <td id=\"T_46e60_row0_col4\" class=\"data row0 col4\" >1.0</td>\n",
       "      <td id=\"T_46e60_row0_col5\" class=\"data row0 col5\" >2.0</td>\n",
       "      <td id=\"T_46e60_row0_col6\" class=\"data row0 col6\" >3.0</td>\n",
       "      <td id=\"T_46e60_row0_col7\" class=\"data row0 col7\" >4.0</td>\n",
       "      <td id=\"T_46e60_row0_col8\" class=\"data row0 col8\" >5.0</td>\n",
       "      <td id=\"T_46e60_row0_col9\" class=\"data row0 col9\" > </td>\n",
       "      <td id=\"T_46e60_row0_col10\" class=\"data row0 col10\" > </td>\n",
       "    </tr>\n",
       "    <tr>\n",
       "      <td id=\"T_46e60_row1_col0\" class=\"data row1 col0\" >-3.0</td>\n",
       "      <td id=\"T_46e60_row1_col1\" class=\"data row1 col1\" >0</td>\n",
       "      <td id=\"T_46e60_row1_col2\" class=\"data row1 col2\" >0</td>\n",
       "      <td id=\"T_46e60_row1_col3\" class=\"data row1 col3\" >0</td>\n",
       "      <td id=\"T_46e60_row1_col4\" class=\"data row1 col4\" >0</td>\n",
       "      <td id=\"T_46e60_row1_col5\" class=\"data row1 col5\" >0</td>\n",
       "      <td id=\"T_46e60_row1_col6\" class=\"data row1 col6\" >0</td>\n",
       "      <td id=\"T_46e60_row1_col7\" class=\"data row1 col7\" >1</td>\n",
       "      <td id=\"T_46e60_row1_col8\" class=\"data row1 col8\" >1</td>\n",
       "      <td id=\"T_46e60_row1_col9\" class=\"data row1 col9\" >9.000000</td>\n",
       "      <td id=\"T_46e60_row1_col10\" class=\"data row1 col10\" >-27.000000</td>\n",
       "    </tr>\n",
       "    <tr>\n",
       "      <td id=\"T_46e60_row2_col0\" class=\"data row2 col0\" >-2.0</td>\n",
       "      <td id=\"T_46e60_row2_col1\" class=\"data row2 col1\" >2</td>\n",
       "      <td id=\"T_46e60_row2_col2\" class=\"data row2 col2\" >0</td>\n",
       "      <td id=\"T_46e60_row2_col3\" class=\"data row2 col3\" >7</td>\n",
       "      <td id=\"T_46e60_row2_col4\" class=\"data row2 col4\" >4</td>\n",
       "      <td id=\"T_46e60_row2_col5\" class=\"data row2 col5\" >2</td>\n",
       "      <td id=\"T_46e60_row2_col6\" class=\"data row2 col6\" >1</td>\n",
       "      <td id=\"T_46e60_row2_col7\" class=\"data row2 col7\" >1</td>\n",
       "      <td id=\"T_46e60_row2_col8\" class=\"data row2 col8\" >0</td>\n",
       "      <td id=\"T_46e60_row2_col9\" class=\"data row2 col9\" >11.000000</td>\n",
       "      <td id=\"T_46e60_row2_col10\" class=\"data row2 col10\" >-22.000000</td>\n",
       "    </tr>\n",
       "    <tr>\n",
       "      <td id=\"T_46e60_row3_col0\" class=\"data row3 col0\" >-1.0</td>\n",
       "      <td id=\"T_46e60_row3_col1\" class=\"data row3 col1\" >1</td>\n",
       "      <td id=\"T_46e60_row3_col2\" class=\"data row3 col2\" >1</td>\n",
       "      <td id=\"T_46e60_row3_col3\" class=\"data row3 col3\" >6</td>\n",
       "      <td id=\"T_46e60_row3_col4\" class=\"data row3 col4\" >7</td>\n",
       "      <td id=\"T_46e60_row3_col5\" class=\"data row3 col5\" >2</td>\n",
       "      <td id=\"T_46e60_row3_col6\" class=\"data row3 col6\" >0</td>\n",
       "      <td id=\"T_46e60_row3_col7\" class=\"data row3 col7\" >0</td>\n",
       "      <td id=\"T_46e60_row3_col8\" class=\"data row3 col8\" >0</td>\n",
       "      <td id=\"T_46e60_row3_col9\" class=\"data row3 col9\" >8.000000</td>\n",
       "      <td id=\"T_46e60_row3_col10\" class=\"data row3 col10\" >-8.000000</td>\n",
       "    </tr>\n",
       "    <tr>\n",
       "      <td id=\"T_46e60_row4_col0\" class=\"data row4 col0\" >0.0</td>\n",
       "      <td id=\"T_46e60_row4_col1\" class=\"data row4 col1\" >2</td>\n",
       "      <td id=\"T_46e60_row4_col2\" class=\"data row4 col2\" >7</td>\n",
       "      <td id=\"T_46e60_row4_col3\" class=\"data row4 col3\" >30</td>\n",
       "      <td id=\"T_46e60_row4_col4\" class=\"data row4 col4\" >5</td>\n",
       "      <td id=\"T_46e60_row4_col5\" class=\"data row4 col5\" >1</td>\n",
       "      <td id=\"T_46e60_row4_col6\" class=\"data row4 col6\" >0</td>\n",
       "      <td id=\"T_46e60_row4_col7\" class=\"data row4 col7\" >0</td>\n",
       "      <td id=\"T_46e60_row4_col8\" class=\"data row4 col8\" >0</td>\n",
       "      <td id=\"T_46e60_row4_col9\" class=\"data row4 col9\" >-4.000000</td>\n",
       "      <td id=\"T_46e60_row4_col10\" class=\"data row4 col10\" >-0.000000</td>\n",
       "    </tr>\n",
       "    <tr>\n",
       "      <td id=\"T_46e60_row5_col0\" class=\"data row5 col0\" >1.0</td>\n",
       "      <td id=\"T_46e60_row5_col1\" class=\"data row5 col1\" >0</td>\n",
       "      <td id=\"T_46e60_row5_col2\" class=\"data row5 col2\" >1</td>\n",
       "      <td id=\"T_46e60_row5_col3\" class=\"data row5 col3\" >4</td>\n",
       "      <td id=\"T_46e60_row5_col4\" class=\"data row5 col4\" >1</td>\n",
       "      <td id=\"T_46e60_row5_col5\" class=\"data row5 col5\" >0</td>\n",
       "      <td id=\"T_46e60_row5_col6\" class=\"data row5 col6\" >0</td>\n",
       "      <td id=\"T_46e60_row5_col7\" class=\"data row5 col7\" >0</td>\n",
       "      <td id=\"T_46e60_row5_col8\" class=\"data row5 col8\" >0</td>\n",
       "      <td id=\"T_46e60_row5_col9\" class=\"data row5 col9\" >0.000000</td>\n",
       "      <td id=\"T_46e60_row5_col10\" class=\"data row5 col10\" >0.000000</td>\n",
       "    </tr>\n",
       "    <tr>\n",
       "      <td id=\"T_46e60_row6_col0\" class=\"data row6 col0\" >2.0</td>\n",
       "      <td id=\"T_46e60_row6_col1\" class=\"data row6 col1\" >0</td>\n",
       "      <td id=\"T_46e60_row6_col2\" class=\"data row6 col2\" >0</td>\n",
       "      <td id=\"T_46e60_row6_col3\" class=\"data row6 col3\" >3</td>\n",
       "      <td id=\"T_46e60_row6_col4\" class=\"data row6 col4\" >1</td>\n",
       "      <td id=\"T_46e60_row6_col5\" class=\"data row6 col5\" >0</td>\n",
       "      <td id=\"T_46e60_row6_col6\" class=\"data row6 col6\" >0</td>\n",
       "      <td id=\"T_46e60_row6_col7\" class=\"data row6 col7\" >0</td>\n",
       "      <td id=\"T_46e60_row6_col8\" class=\"data row6 col8\" >0</td>\n",
       "      <td id=\"T_46e60_row6_col9\" class=\"data row6 col9\" >1.000000</td>\n",
       "      <td id=\"T_46e60_row6_col10\" class=\"data row6 col10\" >2.000000</td>\n",
       "    </tr>\n",
       "    <tr>\n",
       "      <td id=\"T_46e60_row7_col0\" class=\"data row7 col0\" >3.0</td>\n",
       "      <td id=\"T_46e60_row7_col1\" class=\"data row7 col1\" >0</td>\n",
       "      <td id=\"T_46e60_row7_col2\" class=\"data row7 col2\" >0</td>\n",
       "      <td id=\"T_46e60_row7_col3\" class=\"data row7 col3\" >0</td>\n",
       "      <td id=\"T_46e60_row7_col4\" class=\"data row7 col4\" >0</td>\n",
       "      <td id=\"T_46e60_row7_col5\" class=\"data row7 col5\" >0</td>\n",
       "      <td id=\"T_46e60_row7_col6\" class=\"data row7 col6\" >0</td>\n",
       "      <td id=\"T_46e60_row7_col7\" class=\"data row7 col7\" >0</td>\n",
       "      <td id=\"T_46e60_row7_col8\" class=\"data row7 col8\" >0</td>\n",
       "      <td id=\"T_46e60_row7_col9\" class=\"data row7 col9\" >0.000000</td>\n",
       "      <td id=\"T_46e60_row7_col10\" class=\"data row7 col10\" >0.000000</td>\n",
       "    </tr>\n",
       "    <tr>\n",
       "      <td id=\"T_46e60_row8_col0\" class=\"data row8 col0\" >4.0</td>\n",
       "      <td id=\"T_46e60_row8_col1\" class=\"data row8 col1\" >0</td>\n",
       "      <td id=\"T_46e60_row8_col2\" class=\"data row8 col2\" >0</td>\n",
       "      <td id=\"T_46e60_row8_col3\" class=\"data row8 col3\" >1</td>\n",
       "      <td id=\"T_46e60_row8_col4\" class=\"data row8 col4\" >0</td>\n",
       "      <td id=\"T_46e60_row8_col5\" class=\"data row8 col5\" >0</td>\n",
       "      <td id=\"T_46e60_row8_col6\" class=\"data row8 col6\" >0</td>\n",
       "      <td id=\"T_46e60_row8_col7\" class=\"data row8 col7\" >0</td>\n",
       "      <td id=\"T_46e60_row8_col8\" class=\"data row8 col8\" >0</td>\n",
       "      <td id=\"T_46e60_row8_col9\" class=\"data row8 col9\" >0.000000</td>\n",
       "      <td id=\"T_46e60_row8_col10\" class=\"data row8 col10\" >0.000000</td>\n",
       "    </tr>\n",
       "    <tr>\n",
       "      <td id=\"T_46e60_row9_col0\" class=\"data row9 col0\" >$V = \\Sigma n_{uv} v$</td>\n",
       "      <td id=\"T_46e60_row9_col1\" class=\"data row9 col1\" >-5.000000</td>\n",
       "      <td id=\"T_46e60_row9_col2\" class=\"data row9 col2\" >0.000000</td>\n",
       "      <td id=\"T_46e60_row9_col3\" class=\"data row9 col3\" >-6.000000</td>\n",
       "      <td id=\"T_46e60_row9_col4\" class=\"data row9 col4\" >-12.000000</td>\n",
       "      <td id=\"T_46e60_row9_col5\" class=\"data row9 col5\" >-6.000000</td>\n",
       "      <td id=\"T_46e60_row9_col6\" class=\"data row9 col6\" >-2.000000</td>\n",
       "      <td id=\"T_46e60_row9_col7\" class=\"data row9 col7\" >-5.000000</td>\n",
       "      <td id=\"T_46e60_row9_col8\" class=\"data row9 col8\" >-3.000000</td>\n",
       "      <td id=\"T_46e60_row9_col9\" class=\"data row9 col9\" >-</td>\n",
       "      <td id=\"T_46e60_row9_col10\" class=\"data row9 col10\" >$\\Sigma_{v} vU =$</td>\n",
       "    </tr>\n",
       "    <tr>\n",
       "      <td id=\"T_46e60_row10_col0\" class=\"data row10 col0\" >$uV$</td>\n",
       "      <td id=\"T_46e60_row10_col1\" class=\"data row10 col1\" >10.000000</td>\n",
       "      <td id=\"T_46e60_row10_col2\" class=\"data row10 col2\" >-0.000000</td>\n",
       "      <td id=\"T_46e60_row10_col3\" class=\"data row10 col3\" >-0.000000</td>\n",
       "      <td id=\"T_46e60_row10_col4\" class=\"data row10 col4\" >-12.000000</td>\n",
       "      <td id=\"T_46e60_row10_col5\" class=\"data row10 col5\" >-12.000000</td>\n",
       "      <td id=\"T_46e60_row10_col6\" class=\"data row10 col6\" >-6.000000</td>\n",
       "      <td id=\"T_46e60_row10_col7\" class=\"data row10 col7\" >-20.000000</td>\n",
       "      <td id=\"T_46e60_row10_col8\" class=\"data row10 col8\" >-15.000000</td>\n",
       "      <td id=\"T_46e60_row10_col9\" class=\"data row10 col9\" >$\\Sigma_{u} uV =$</td>\n",
       "      <td id=\"T_46e60_row10_col10\" class=\"data row10 col10\" >-55.000000</td>\n",
       "    </tr>\n",
       "  </tbody>\n",
       "</table>\n"
      ],
      "text/plain": [
       "<pandas.io.formats.style.Styler at 0x16eafad8>"
      ]
     },
     "execution_count": 97,
     "metadata": {},
     "output_type": "execute_result"
    }
   ],
   "source": [
    "corr_tab, u, v, vU, uV = create_corr_tab(n_uv, n_x, n_y, step, step2, interval_series, interval_series2)\n",
    "corr_tab.style.hide_index()"
   ]
  },
  {
   "cell_type": "markdown",
   "id": "7d7b2e56",
   "metadata": {},
   "source": [
    "<p>Была сформирована корреляционная таблица. Все условные варианты - целые числа. Суммы $\\Sigma_{u} uV$ и $\\Sigma_{v} vU$ совпадают<p>"
   ]
  },
  {
   "cell_type": "markdown",
   "id": "a3469f7d",
   "metadata": {},
   "source": [
    "<h3>Задание 4</h3>"
   ]
  },
  {
   "cell_type": "code",
   "execution_count": 98,
   "id": "bd68404a",
   "metadata": {},
   "outputs": [],
   "source": [
    "def get_corr_coef(n, vU, u, v, n_u, n_v):\n",
    "    u_mean = 0\n",
    "    v_mean = 0\n",
    "    u_square_mean = 0\n",
    "    v_square_mean = 0\n",
    "    \n",
    "    for i in range(len(u)):\n",
    "        u_mean += n_u[i] * u[i]\n",
    "        u_square_mean += n_u[i] * u[i]**2\n",
    "    u_mean /= n\n",
    "    u_square_mean /= n\n",
    "    \n",
    "    for i in range(len(v)):\n",
    "        v_mean += n_v[i] * v[i]\n",
    "        v_square_mean += n_v[i] * v[i]**2\n",
    "    v_mean /= n\n",
    "    v_square_mean /= n\n",
    "    \n",
    "    sko_u = (u_square_mean - u_mean**2)**0.5\n",
    "    sko_v = (v_square_mean - v_mean**2)**0.5\n",
    "    \n",
    "    return (1/n * sum(vU) - u_mean * v_mean) / (sko_u * sko_v)"
   ]
  },
  {
   "cell_type": "code",
   "execution_count": 99,
   "id": "bed52724",
   "metadata": {},
   "outputs": [
    {
     "name": "stdout",
     "output_type": "stream",
     "text": [
      "Коэффициент корреляции:  -0.35427094925879776\n"
     ]
    }
   ],
   "source": [
    "Sko1 = float(param_tab1['$\\sigma_{x}$'])\n",
    "Sko2 = float(param_tab2['$\\sigma_{y}$'])\n",
    "corr_coef = get_corr_coef(sum(n_x), vU, u, v, n_x, n_y)\n",
    "print(\"Коэффициент корреляции: \", corr_coef)"
   ]
  },
  {
   "cell_type": "markdown",
   "id": "850318f9",
   "metadata": {},
   "source": [
    "<p>Вывод:</p>\n",
    "<p>Полученный коэффициент корреляции находится на промежутке [-1; 1]</p>\n",
    "<p>Т.к. коэффициент меньше нуля, то при увеличении одной величины другая уменьшается</p>"
   ]
  },
  {
   "cell_type": "markdown",
   "id": "b4d7f59f",
   "metadata": {},
   "source": [
    "<h3>Задание 5</h3>"
   ]
  },
  {
   "cell_type": "code",
   "execution_count": 100,
   "id": "1037c092",
   "metadata": {},
   "outputs": [],
   "source": [
    "import math"
   ]
  },
  {
   "cell_type": "markdown",
   "id": "52603486",
   "metadata": {},
   "source": [
    "<p>Для $\\gamma = 0.95:$</p>\n",
    "<p>$\\Phi(t) = 0.475 => t = 1.96$ (найдено по таблице, т.к. функция Лапласа табуирована)</p>\n",
    "<p>Для $\\gamma = 0.99:$</p>\n",
    "<p>$\\Phi(t) = 0.495 => t = 2.58$ (найдено по таблице, т.к. функция Лапласа табуирована)</p>"
   ]
  },
  {
   "cell_type": "code",
   "execution_count": 101,
   "id": "1df9f0cd",
   "metadata": {},
   "outputs": [],
   "source": [
    "def create_conf_interval(t, r_B, n):\n",
    "    z = math.atanh(r_B)\n",
    "    z_interval = (z - t / (n - 3)**0.5, z + t / (n - 3)**0.5)\n",
    "    conf_int = (math.tanh(z_interval[0]), math.tanh(z_interval[1]))\n",
    "    \n",
    "    return conf_int"
   ]
  },
  {
   "cell_type": "code",
   "execution_count": 102,
   "id": "ea8687bb",
   "metadata": {},
   "outputs": [
    {
     "name": "stdout",
     "output_type": "stream",
     "text": [
      "Доверительный интервал для надёжности 0.95:  (-0.5212677043983188, -0.16114275267792463)\n",
      "Доверительный интервал для надёжности 0.99:  (-0.5674805135228287, -0.09653823548976632)\n"
     ]
    }
   ],
   "source": [
    "conf_int_95 = create_conf_interval(1.96, corr_coef, sum(n_x))\n",
    "conf_int_99 = create_conf_interval(2.58, corr_coef, sum(n_x))\n",
    "\n",
    "print(\"Доверительный интервал для надёжности 0.95: \", conf_int_95)\n",
    "print(\"Доверительный интервал для надёжности 0.99: \", conf_int_99)"
   ]
  },
  {
   "cell_type": "markdown",
   "id": "af473c96",
   "metadata": {},
   "source": [
    "<p>Вывод: Были построены доверительные интервалы, покрывающие коэффициент корреляции с надёжностями 0.95 и 0.99 соответственно</p>"
   ]
  },
  {
   "cell_type": "markdown",
   "id": "1051548b",
   "metadata": {},
   "source": [
    "<h3>Задание 6</h3>"
   ]
  },
  {
   "cell_type": "markdown",
   "id": "eb1364e4",
   "metadata": {},
   "source": [
    "<p>$H_{0}: r_{г} = 0$</p>\n",
    "<p>$H_{1}: r_{г} \\neq 0$</p>"
   ]
  },
  {
   "cell_type": "markdown",
   "id": "9059ad73",
   "metadata": {},
   "source": [
    "<p>В данном случае $n = 92 => df = 92 - 2 = 90$</p>\n",
    "<p>$\\alpha = 0.05$ (по условию)</p>\n",
    "<p>$T_{крит} = t(\\alpha, df) = t(0.05, 90) = 1.987$ (находится по таблице Стьюдента)</p>"
   ]
  },
  {
   "cell_type": "code",
   "execution_count": 103,
   "id": "5fbb97d3",
   "metadata": {},
   "outputs": [],
   "source": [
    "def hypo_check(n, r_B, crit_val):\n",
    "    T = (n - 2)**0.5 / (1 - r_B**2)**0.5 * r_B\n",
    "    print(\"Наблюдаемое значение: \", T)\n",
    "    \n",
    "    if abs(T) < crit_val: print(\"Модуль наблюдаемого значения меньше критического, значит гипотезу принимаем\")\n",
    "    else: print(\"Модуль наблюдаемого значения больше либо равен критическому, значит гипотезу отвергаем\")"
   ]
  },
  {
   "cell_type": "code",
   "execution_count": 104,
   "id": "ab98f109",
   "metadata": {},
   "outputs": [
    {
     "name": "stdout",
     "output_type": "stream",
     "text": [
      "Наблюдаемое значение:  -3.594006447156082\n",
      "Модуль наблюдаемого значения больше либо равен критическому, значит гипотезу отвергаем\n"
     ]
    }
   ],
   "source": [
    "hypo_check(sum(n_x), corr_coef, 1.987)"
   ]
  },
  {
   "cell_type": "markdown",
   "id": "c76ec3c3",
   "metadata": {},
   "source": [
    "<p>Вывод: так как нулевая гипотеза была отвергнута, то X и Y связаны линейной зависимостью</p>"
   ]
  },
  {
   "cell_type": "markdown",
   "id": "41c7899e",
   "metadata": {},
   "source": [
    "<h3>Задание 7</h3>"
   ]
  },
  {
   "cell_type": "code",
   "execution_count": 105,
   "id": "79d7df8d",
   "metadata": {},
   "outputs": [],
   "source": [
    "def square_regr_eq(mean1, mean2, sko1, sko2, cor_coef):\n",
    "    coef1 = cor_coef * sko1 / sko2\n",
    "    coef2 = -mean2 * coef1 + mean1\n",
    "    return [coef1, coef2]"
   ]
  },
  {
   "cell_type": "code",
   "execution_count": 106,
   "id": "9f3f7b42",
   "metadata": {},
   "outputs": [],
   "source": [
    "def poly_eval(coeffs, arg):\n",
    "    res = 0\n",
    "    for i in range(len(coeffs)):\n",
    "        res += coeffs[i] * arg**(len(coeffs) - i - 1)\n",
    "    \n",
    "    return res"
   ]
  },
  {
   "cell_type": "code",
   "execution_count": 108,
   "id": "3a41356e",
   "metadata": {},
   "outputs": [
    {
     "name": "stdout",
     "output_type": "stream",
     "text": [
      "[-0.023454769902104333, 4.809229035684552]\n",
      "[-5.351061042703694, 87.4657780979827]\n"
     ]
    },
    {
     "data": {
      "image/png": "[encoded data removed]",
      "text/plain": [
       "<Figure size 983.52x552.96 with 1 Axes>"
      ]
     },
     "metadata": {
      "needs_background": "light"
     },
     "output_type": "display_data"
    }
   ],
   "source": [
    "Mean_x = float(param_tab1['$\\widetilde{x_{в}}$'])\n",
    "Mean_y = float(param_tab2['$\\widetilde{y_{в}}$'])\n",
    "SKO_x = float(param_tab1['$\\sigma_{x}$'])\n",
    "SKO_y = float(param_tab2['$\\sigma_{y}$'])\n",
    "\n",
    "f_x_coefs = square_regr_eq(Mean_y, Mean_x, SKO_y, SKO_x, corr_coef)\n",
    "g_y_coefs = square_regr_eq(Mean_x, Mean_y, SKO_x, SKO_y, corr_coef)\n",
    "\n",
    "print(f_x_coefs)\n",
    "print(g_y_coefs)\n",
    "\n",
    "plt.scatter(sample, sample2)\n",
    "plt.plot([55, 100], [poly_eval(f_x_coefs, 55), poly_eval(f_x_coefs, 100)], color='r', label=\"$f(x)$\")\n",
    "plt.plot([poly_eval(g_y_coefs, 2), poly_eval(g_y_coefs, 5)], [2, 5], color='c', label=\"$g(y)$\")\n",
    "plt.legend()\n",
    "plt.xlabel(\"X (Cocoa Percent)\")\n",
    "plt.ylabel(\"Y (Rating)\")\n",
    "plt.rcParams[\"figure.figsize\"] = (13.66, 7.68)\n",
    "plt.grid(True)"
   ]
  },
  {
   "cell_type": "markdown",
   "id": "0eeb2cd7",
   "metadata": {},
   "source": [
    "<p>Пояснение: так как коэффициент корреляции отрицателен, то угловые коэффициенты обоих уравнений тоже отрицательные, т.е. при увеличении значения аргумента значение функции убывает</p>"
   ]
  },
  {
   "cell_type": "markdown",
   "id": "a4701589",
   "metadata": {},
   "source": [
    "<h3>Задание 8</h3>"
   ]
  },
  {
   "cell_type": "code",
   "execution_count": 109,
   "id": "702c4495",
   "metadata": {},
   "outputs": [],
   "source": [
    "def cond_mean(vals, n_vals):\n",
    "    if sum(n_vals) == 0: return 0\n",
    "    res = 0\n",
    "    for i in range(len(vals)): res += vals[i] * n_vals[i]\n",
    "    \n",
    "    return res / sum(n_vals)"
   ]
  },
  {
   "cell_type": "code",
   "execution_count": 110,
   "id": "28e1cc1a",
   "metadata": {},
   "outputs": [],
   "source": [
    "def Sigma_cond_mean(n_xy, mean1, vals1, n_vals2):\n",
    "    res = 0\n",
    "    for i in range(len(n_vals2)):\n",
    "        con_mean = cond_mean(vals1, n_xy[i])\n",
    "        res += n_vals2[i] * (con_mean - mean1)**2\n",
    "    res /= sum(n_vals2)\n",
    "    res = res**0.5\n",
    "    \n",
    "    return res"
   ]
  },
  {
   "cell_type": "code",
   "execution_count": 111,
   "id": "515a17b7",
   "metadata": {},
   "outputs": [],
   "source": [
    "def sigma_val(n_val, vals, mean):\n",
    "    res = 0\n",
    "    \n",
    "    for i in range(len(n_val)):\n",
    "        res += n_val[i] * (vals[i] - mean)**2\n",
    "    \n",
    "    res /= sum(n_val)\n",
    "    res = res**0.5\n",
    "    \n",
    "    return res"
   ]
  },
  {
   "cell_type": "code",
   "execution_count": 113,
   "id": "04c24f64",
   "metadata": {},
   "outputs": [
    {
     "data": {
      "text/latex": [
       "$\\eta_{yx} = $0.4899069662714637"
      ],
      "text/plain": [
       "<IPython.core.display.Latex object>"
      ]
     },
     "metadata": {},
     "output_type": "display_data"
    },
    {
     "data": {
      "text/latex": [
       "$\\eta_{xy} = $0.5984137431441161"
      ],
      "text/plain": [
       "<IPython.core.display.Latex object>"
      ]
     },
     "metadata": {},
     "output_type": "display_data"
    },
    {
     "name": "stdout",
     "output_type": "stream",
     "text": [
      "Проверка:\n"
     ]
    },
    {
     "data": {
      "text/latex": [
       "$r_{в} = $-0.35427094925879776"
      ],
      "text/plain": [
       "<IPython.core.display.Latex object>"
      ]
     },
     "metadata": {},
     "output_type": "display_data"
    },
    {
     "data": {
      "text/latex": [
       "$\\eta_{yx} \\geq |r_{в}| => $проверка пройдена"
      ],
      "text/plain": [
       "<IPython.core.display.Latex object>"
      ]
     },
     "metadata": {},
     "output_type": "display_data"
    },
    {
     "data": {
      "text/latex": [
       "$\\eta_{xy} \\geq |r_{в}| => $проверка пройдена"
      ],
      "text/plain": [
       "<IPython.core.display.Latex object>"
      ]
     },
     "metadata": {},
     "output_type": "display_data"
    }
   ],
   "source": [
    "Centers_x = interval_series['$\\widetilde{x_{i}}$'].values.tolist()\n",
    "Centers_y = interval_series2['$\\widetilde{y_{i}}$'].values.tolist()\n",
    "\n",
    "sigma1_yx = Sigma_cond_mean(n_uv, Mean_y, Centers_y, n_x)\n",
    "sigma2_yx = sigma_val(n_y, Centers_y, Mean_y)\n",
    "\n",
    "N_xy_T = []\n",
    "for i in range(len(n_y)):\n",
    "    N_xy_T.append(get_column(n_uv, i))\n",
    "\n",
    "sigma1_xy = Sigma_cond_mean(N_xy_T, Mean_x, Centers_x, n_y)\n",
    "sigma2_xy = sigma_val(n_x, Centers_x, Mean_x)\n",
    "\n",
    "eta_yx = sigma1_yx / sigma2_yx\n",
    "eta_xy = sigma1_xy / sigma2_xy\n",
    "display(Latex(r'$\\eta_{yx} = $' + str(eta_yx)))\n",
    "display(Latex(r'$\\eta_{xy} = $' + str(eta_xy)))\n",
    "\n",
    "print(\"Проверка:\")\n",
    "display(Latex(r'$r_{в} = $' + str(corr_coef)))\n",
    "if eta_yx >= abs(corr_coef): display(Latex(r'$\\eta_{yx} \\geq |r_{в}| => $' + 'проверка пройдена'))\n",
    "else: display(Latex(r'$\\eta_{yx} < |r_{в}| => $' + 'проверка не пройдена'))\n",
    "if eta_xy >= abs(corr_coef): display(Latex(r'$\\eta_{xy} \\geq |r_{в}| => $' + 'проверка пройдена'))\n",
    "else: display(Latex(r'$\\eta_{xy} < |r_{в}| => $' + 'проверка не пройдена'))"
   ]
  },
  {
   "cell_type": "markdown",
   "id": "bbd787bb",
   "metadata": {},
   "source": [
    "<p>Вывод: были получены выборочные корреляционные отношения, значения которых лежат на промежутке [0; 1].</p>\n",
    "<p>Так как ни одно из отношений не равно выборочному коэффициенту корреляции, то между $X$ и $Y$ нет точной линейной корреляционной зависимости</p>"
   ]
  },
  {
   "cell_type": "markdown",
   "id": "562c1dac",
   "metadata": {},
   "source": [
    "<h3>Задание 9</h3>"
   ]
  },
  {
   "cell_type": "code",
   "execution_count": 119,
   "id": "e5e8c8a6",
   "metadata": {},
   "outputs": [],
   "source": [
    "def parabolic_curve(Samp1, Samp2):\n",
    "    T = 0\n",
    "    U = 0\n",
    "    W = 0\n",
    "    V = 0\n",
    "    K = 0\n",
    "    B = 0\n",
    "    G = 0\n",
    "    \n",
    "    for i in range(len(Samp1)):\n",
    "        T += Samp1[i]**4\n",
    "        U += Samp1[i]**3\n",
    "        W += Samp1[i]**2\n",
    "        V += Samp1[i]\n",
    "        K += Samp2[i] * Samp1[i]**2\n",
    "        B += Samp2[i] * Samp1[i]\n",
    "        G += Samp2[i]\n",
    "    \n",
    "    c = ( G - K * W / T - ( B - K * U / T ) * ( ( V - U * W / T ) / ( W - U**2 / T ) ) ) / ( len(Samp1) - W**2 / T - ( V - U * W / T )**2 / ( W - U**2 / T ) )\n",
    "    b = ( B - K * U / T - c * ( V - W * U / T ) ) / ( W - U**2 / T )\n",
    "    a = ( K - U * b - W * c ) / T\n",
    "    \n",
    "    return [a, b, c]"
   ]
  },
  {
   "cell_type": "code",
   "execution_count": 120,
   "id": "4f44c769",
   "metadata": {},
   "outputs": [
    {
     "data": {
      "image/png": "[encoded data removed]",
      "text/plain": [
       "<Figure size 983.52x552.96 with 1 Axes>"
      ]
     },
     "metadata": {
      "needs_background": "light"
     },
     "output_type": "display_data"
    }
   ],
   "source": [
    "curve_coefs = parabolic_curve(sample.values.tolist(), sample2.values.tolist())\n",
    "\n",
    "args = np.linspace(55, 100)\n",
    "vals = poly_eval(curve_coefs, args)\n",
    "plt.scatter(sample, sample2)\n",
    "plt.plot(args, vals, color='r')\n",
    "plt.xlabel(\"X (Cocoa Percent)\")\n",
    "plt.ylabel(\"Y (Rating)\")\n",
    "plt.rcParams[\"figure.figsize\"] = (13.66, 7.68)\n",
    "plt.grid(True)"
   ]
  },
  {
   "cell_type": "markdown",
   "id": "d666a91b",
   "metadata": {},
   "source": [
    "<p>Была получена кривая параболического вида, которая минимизирует сумму квадратов отклонений от точек выборки</p>"
   ]
  },
  {
   "cell_type": "markdown",
   "id": "c0a41d43",
   "metadata": {},
   "source": [
    "<h3>Задание 10</h3>"
   ]
  },
  {
   "cell_type": "code",
   "execution_count": 121,
   "id": "6f67d437",
   "metadata": {},
   "outputs": [],
   "source": [
    "def rational_func(Samp1, Samp2):\n",
    "    T = 0\n",
    "    D = 0\n",
    "    K = 0\n",
    "    M = 0\n",
    "    \n",
    "    for i in range(len(Samp1)):\n",
    "        T += 1 / Samp1[i]\n",
    "        D += 1 / Samp1[i]**2\n",
    "        K += Samp2[i]\n",
    "        M += Samp2[i] / Samp1[i]\n",
    "    \n",
    "    b = ( M - K * T / len(Samp1) ) / ( D - T**2 / len(Samp1) )\n",
    "    a = (K - T * b) / len(Samp1)\n",
    "    \n",
    "    return [a, b]"
   ]
  },
  {
   "cell_type": "code",
   "execution_count": 122,
   "id": "2e1ef14d",
   "metadata": {},
   "outputs": [],
   "source": [
    "def eval_rational_func(coefs, arg):\n",
    "    return coefs[0] + coefs[1] / arg"
   ]
  },
  {
   "cell_type": "code",
   "execution_count": 124,
   "id": "a8bb20d7",
   "metadata": {},
   "outputs": [
    {
     "data": {
      "image/png": "[encoded data removed]",
      "text/plain": [
       "<Figure size 983.52x552.96 with 1 Axes>"
      ]
     },
     "metadata": {
      "needs_background": "light"
     },
     "output_type": "display_data"
    }
   ],
   "source": [
    "func_coefs = rational_func(sample.values.tolist(), sample2.values.tolist())\n",
    "\n",
    "values = eval_rational_func(func_coefs, args)\n",
    "plt.scatter(sample, sample2)\n",
    "plt.plot(args, values, color='r')\n",
    "plt.xlabel(\"X (Cocoa Percent)\")\n",
    "plt.ylabel(\"Y (Rating)\")\n",
    "plt.rcParams[\"figure.figsize\"] = (13.66, 7.68)\n",
    "plt.grid(True)"
   ]
  },
  {
   "cell_type": "markdown",
   "id": "50b3fb87",
   "metadata": {},
   "source": [
    "<p>Вывод: была получена кривая обратно пропорциональной функции, которая минимизирует сумму квадратов отклонений среди всех функций данного вида</p>"
   ]
  },
  {
   "cell_type": "markdown",
   "id": "9e027c73",
   "metadata": {},
   "source": [
    "<h3>Задание 11</h3>"
   ]
  },
  {
   "cell_type": "code",
   "execution_count": 125,
   "id": "012d3d79",
   "metadata": {},
   "outputs": [],
   "source": [
    "def calculate_func(coefs, arg, Type):\n",
    "    if Type == \"pol\":\n",
    "        return poly_eval(coefs, arg)\n",
    "    elif Type == \"rat\":\n",
    "        return eval_rational_func(coefs, arg)"
   ]
  },
  {
   "cell_type": "code",
   "execution_count": 126,
   "id": "8973df90",
   "metadata": {},
   "outputs": [],
   "source": [
    "def delta_star_square(model_coefs, Mean, Samp, Type):\n",
    "    res = 0\n",
    "    \n",
    "    for i in range(len(Samp)):\n",
    "        res += (calculate_func(model_coefs, Samp[i], Type) - Mean)**2\n",
    "    \n",
    "    return res / len(Samp)"
   ]
  },
  {
   "cell_type": "code",
   "execution_count": 127,
   "id": "a600f3f3",
   "metadata": {},
   "outputs": [],
   "source": [
    "def R_square(Samp, varience, model, Mean, Type):\n",
    "    return delta_star_square(model, Mean, Samp, Type) / varience"
   ]
  },
  {
   "cell_type": "code",
   "execution_count": 128,
   "id": "a3316d5b",
   "metadata": {},
   "outputs": [],
   "source": [
    "def S(Samp, varience, model, Mean, l, Type):\n",
    "    delta_square = delta_star_square(model, Mean, Samp, Type)\n",
    "    eps_star_square = varience - delta_square\n",
    "    eps_star_square *= len(Samp)\n",
    "    \n",
    "    res = eps_star_square / (len(Samp) - l)\n",
    "    \n",
    "    return res**0.5"
   ]
  },
  {
   "cell_type": "code",
   "execution_count": 129,
   "id": "037be142",
   "metadata": {},
   "outputs": [],
   "source": [
    "def A(model, Samp1, Samp2, Type):\n",
    "    res = 0\n",
    "    \n",
    "    for i in range(len(Samp1)):\n",
    "        res += abs( (calculate_func(model, Samp2[i], Type) - Samp1[i]) / Samp1[i] )\n",
    "    \n",
    "    return res / len(Samp1)"
   ]
  },
  {
   "cell_type": "markdown",
   "id": "91db169e",
   "metadata": {},
   "source": [
    "<p>Для $f(x)$ из задания 7:</p>"
   ]
  },
  {
   "cell_type": "code",
   "execution_count": 137,
   "id": "e505ab4a",
   "metadata": {},
   "outputs": [
    {
     "name": "stdout",
     "output_type": "stream",
     "text": [
      "Теоретический коэффициент детерминации:  0.12297500494202214\n",
      "Средняя квадратическая ошибка:  0.4129940474063591\n",
      "Средняя ошибка аппроксимации:  0.09979394819080203\n"
     ]
    }
   ],
   "source": [
    "var_y = float(param_tab2['$\\sigma_{y}^2$'])\n",
    "r = R_square(sample.values.tolist(), var_y, f_x_coefs, Mean_y, \"pol\")\n",
    "s = S(sample.values.tolist(), var_y, f_x_coefs, Mean_y, 2, \"pol\")\n",
    "a = A(f_x_coefs, sample2.values.tolist(), sample.values.tolist(), \"pol\")\n",
    "\n",
    "print(\"Теоретический коэффициент детерминации: \", r)\n",
    "print(\"Средняя квадратическая ошибка: \", s)\n",
    "print(\"Средняя ошибка аппроксимации: \", a)"
   ]
  },
  {
   "cell_type": "markdown",
   "id": "c22c8a6c",
   "metadata": {},
   "source": [
    "<p>Вывод:</p>\n",
    "<p>Полученная модель объясняет $12.3\\%$ дисперсии</p>\n",
    "<p>Так как средняя квадратическая ошибка меньше $\\sigma_y = 0.436179$, то использование модели целесообразно</p>\n",
    "<p>Так как средняя ошибка аппроксимации больше $7\\%$, то данная модель не является моделью хорошего качества</p>"
   ]
  },
  {
   "cell_type": "markdown",
   "id": "4336380e",
   "metadata": {},
   "source": [
    "<p>Для $g(y)$ из задания 7:</p>"
   ]
  },
  {
   "cell_type": "code",
   "execution_count": 138,
   "id": "21b0c97b",
   "metadata": {},
   "outputs": [
    {
     "name": "stdout",
     "output_type": "stream",
     "text": [
      "Теоретический коэффициент детерминации:  0.13443943964736063\n",
      "Средняя квадратическая ошибка:  6.197134194939025\n",
      "Средняя ошибка аппроксимации:  0.05751822390880437\n"
     ]
    }
   ],
   "source": [
    "var_x = float(param_tab1['$\\sigma_{x}^2$'])\n",
    "r = R_square(sample2.values.tolist(), var_x, g_y_coefs, Mean_x, \"pol\")\n",
    "s = S(sample2.values.tolist(), var_x, g_y_coefs, Mean_x, 2, \"pol\")\n",
    "a = A(g_y_coefs, sample.values.tolist(), sample2.values.tolist(), \"pol\")\n",
    "\n",
    "print(\"Теоретический коэффициент детерминации: \", r)\n",
    "print(\"Средняя квадратическая ошибка: \", s)\n",
    "print(\"Средняя ошибка аппроксимации: \", a)"
   ]
  },
  {
   "cell_type": "markdown",
   "id": "1dd1b72f",
   "metadata": {},
   "source": [
    "<p>Вывод:</p>\n",
    "<p>Полученная модель объясняет $13.4\\%$ дисперсии</p>\n",
    "<p>Так как средняя квадратическая ошибка меньше $\\sigma_x = 6.588242$, то использование модели целесообразно</p>\n",
    "<p>Так как средняя ошибка аппроксимации меньше $7\\%$, то данная модель является моделью хорошего качества</p>"
   ]
  },
  {
   "cell_type": "markdown",
   "id": "2fbd28ab",
   "metadata": {},
   "source": [
    "<p>Для модели из задания 9:</p>"
   ]
  },
  {
   "cell_type": "code",
   "execution_count": 139,
   "id": "3ba1e324",
   "metadata": {},
   "outputs": [
    {
     "name": "stdout",
     "output_type": "stream",
     "text": [
      "Теоретический коэффициент детерминации:  0.274011920446608\n",
      "Средняя квадратическая ошибка:  0.37785815786945776\n",
      "Средняя ошибка аппроксимации:  0.09490989130768637\n"
     ]
    }
   ],
   "source": [
    "r = R_square(sample.values.tolist(), var_y, curve_coefs, Mean_y, \"pol\")\n",
    "s = S(sample.values.tolist(), var_y, curve_coefs, Mean_y, 3, \"pol\")\n",
    "a = A(curve_coefs, sample2.values.tolist(), sample.values.tolist(), \"pol\")\n",
    "\n",
    "print(\"Теоретический коэффициент детерминации: \", r)\n",
    "print(\"Средняя квадратическая ошибка: \", s)\n",
    "print(\"Средняя ошибка аппроксимации: \", a)"
   ]
  },
  {
   "cell_type": "markdown",
   "id": "80a7bfea",
   "metadata": {},
   "source": [
    "<p>Вывод:</p>\n",
    "<p>Полученная модель объясняет $27.4\\%$ дисперсии</p>\n",
    "<p>Так как средняя квадратическая ошибка меньше $\\sigma_y = 0.436179$, то использование модели целесообразно</p>\n",
    "<p>Так как средняя ошибка аппроксимации больше $7\\%$, то данная модель не является моделью хорошего качества</p>"
   ]
  },
  {
   "cell_type": "markdown",
   "id": "2c77deaf",
   "metadata": {},
   "source": [
    "<p>Для модели из задания 10:</p>"
   ]
  },
  {
   "cell_type": "code",
   "execution_count": 140,
   "id": "b7bd2d5d",
   "metadata": {},
   "outputs": [
    {
     "name": "stdout",
     "output_type": "stream",
     "text": [
      "Теоретический коэффициент детерминации:  0.11018984272368025\n",
      "Средняя квадратическая ошибка:  0.4159934438942048\n",
      "Средняя ошибка аппроксимации:  0.1031669145725355\n"
     ]
    }
   ],
   "source": [
    "r = R_square(sample.values.tolist(), var_y, func_coefs, Mean_y, \"rat\")\n",
    "s = S(sample.values.tolist(), var_y, func_coefs, Mean_y, 2, \"rat\")\n",
    "a = A(func_coefs, sample2.values.tolist(), sample.values.tolist(), \"rat\")\n",
    "\n",
    "print(\"Теоретический коэффициент детерминации: \", r)\n",
    "print(\"Средняя квадратическая ошибка: \", s)\n",
    "print(\"Средняя ошибка аппроксимации: \", a)"
   ]
  },
  {
   "cell_type": "markdown",
   "id": "6bcccf50",
   "metadata": {},
   "source": [
    "<p>Вывод:</p>\n",
    "<p>Полученная модель объясняет $11\\%$ дисперсии</p>\n",
    "<p>Так как средняя квадратическая ошибка меньше $\\sigma_y = 0.436179$, то использование модели целесообразно</p>\n",
    "<p>Так как средняя ошибка аппроксимации больше $7\\%$, то данная модель не является моделью хорошего качества</p>"
   ]
  },
  {
   "cell_type": "markdown",
   "id": "3242ef32",
   "metadata": {},
   "source": [
    "## Выводы\n",
    "<p>Были освоены основные понятия, связанные с корреляционной зависимостью между случайными величинами, статистическими гипотезами и проверкой их «справедливости».</p>\n",
    "<p>Были вычислены коэффициент корреляции, доверительные интервалы, поурывающие коэффициент корреляции с заданными надёжностями. Была осуществлена проверка значимости коэффициента корреляции.</p>\n",
    "<p>Были получены 4 разных регрессионных моделей, были вычислены и проанализированы показатели их качества.</p>"
   ]
  },
  {
   "cell_type": "code",
   "execution_count": null,
   "id": "193513ae",
   "metadata": {},
   "outputs": [],
   "source": []
  }
 ],
 "metadata": {
  "kernelspec": {
   "display_name": "Python 3 (ipykernel)",
   "language": "python",
   "name": "python3"
  },
  "language_info": {
   "codemirror_mode": {
    "name": "ipython",
    "version": 3
   },
   "file_extension": ".py",
   "mimetype": "text/x-python",
   "name": "python",
   "nbconvert_exporter": "python",
   "pygments_lexer": "ipython3",
   "version": "3.9.6"
  }
 },
 "nbformat": 4,
 "nbformat_minor": 5
}
